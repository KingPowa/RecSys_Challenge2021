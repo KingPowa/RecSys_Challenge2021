{
 "cells": [
  {
   "cell_type": "code",
   "execution_count": 17,
   "id": "7e809989",
   "metadata": {},
   "outputs": [],
   "source": [
    "import sys\n",
    "sys.path.append('../RecSysRep/')"
   ]
  },
  {
   "cell_type": "code",
   "execution_count": 18,
   "id": "bc728eee",
   "metadata": {},
   "outputs": [],
   "source": [
    "import Basics.Load as ld\n",
    "\n",
    "URM_all, _, _, _, _ = ld.getCOOs()\n",
    "ICM_weighted = ld.getICMselected('7')\n",
    "# URM_train, URM_val = ld.getSplit(URM_train_val, 5678, 0.8)"
   ]
  },
  {
   "cell_type": "code",
   "execution_count": 19,
   "id": "09a0a841",
   "metadata": {},
   "outputs": [
    {
     "name": "stdout",
     "output_type": "stream",
     "text": [
      "Warning: 3 (0.02 %) of 13650 users have no sampled items\n",
      "EvaluatorHoldout: Ignoring 13647 ( 0.0%) Users that have less than 1 test interactions\n"
     ]
    }
   ],
   "source": [
    "from Evaluation.Evaluator import EvaluatorHoldout\n",
    "from Data_manager.split_functions.split_train_validation_random_holdout import split_train_in_two_percentage_global_sample\n",
    "\n",
    "URM_train, URM_validation = split_train_in_two_percentage_global_sample(URM_all, train_percentage = 0.8, seed=2222)\n",
    "# URM_train, URM_validation = split_train_in_two_percentage_global_sample(URM_train_validation, train_percentage = 0.8)\n",
    "\n",
    "evaluator_validation = EvaluatorHoldout(URM_validation, cutoff_list=[10])\n",
    "# evaluator_test = EvaluatorHoldout(URM_test, cutoff_list=[10])"
   ]
  },
  {
   "cell_type": "code",
   "execution_count": 20,
   "id": "2d0f462a",
   "metadata": {},
   "outputs": [],
   "source": [
    "import os\n",
    "\n",
    "ofp = \"../models_temp/Similarity_Hybrid/\"\n",
    "\n",
    "models_to_combine_best = {\n",
    "                            'RP3ICMnew': {'alpha': 1.029719677583138, 'beta': 1.0630164752134375, 'topK': 6964, 'normalize_similarity': True},\n",
    "                            'RP3ICM' : {\"topK\": 2550, \"alpha\": 1.3058102610510849, \"beta\": 0.5150718337969987, \"normalize_similarity\": True, \"implicit\": True},\n",
    "                            'IALS' : {\"num_factors\": 29, \"epochs\": 50, \"confidence_scaling\": \"log\", \"alpha\": 0.001, \"epsilon\": 0.001, \"reg\": 0.01},\n",
    "                            'SLIMgensub': {\"l1_ratio\" : 0.025887359156206147, \"topK\": 2140, \"alpha\": 0.009567288586539689, \"workers\": 8, \"mw\": 1},\n",
    "                            'SLIMBPR' : {\"epochs\": 440, \"lambda_i\": 0.007773815998802306, \"lambda_j\": 0.003342522366982381, \"learning_rate\": 0.010055161410725193, \"topK\": 4289, \"random_seed\": 1234, \"sgd_mode\": \"sgd\"},\n",
    "                            'SLIMweig': {'l1_ratio': 0.0005247075138160404, 'topK': 4983, 'alpha': 0.06067400905430761, 'workers': 8, 'mw': 2.308619939318322},\n",
    "                            'SLIMER': {'topK': 6000, 'l1_ratio': 0.0005495104968035837, 'alpha': 0.08007142704041009, 'workers': 8},\n",
    "                            'P3alpha': {'topK': 4834, 'alpha': 1.764994849187595, 'normalize_similarity': True, 'implicit': True},\n",
    "                            'RP3beta': {\"topK\": 1049, \"alpha\": 1.1626473723475605, \"beta\": 0.6765017195261293, \"normalize_similarity\": True, \"implicit\": True},\n",
    "                            'icm_weighted': {\"shrink\": 4000, \"topK\": 985, \"feature_weighting\": \"TF-IDF\", \"normalize\": True}\n",
    "                         }\n"
   ]
  },
  {
   "cell_type": "code",
   "execution_count": 21,
   "id": "8e74cf30",
   "metadata": {},
   "outputs": [],
   "source": [
    "def model_init(recommender, name, args):\n",
    "    path_name = ofp + name + \".zip\"\n",
    "    print(path_name)\n",
    "    if os.path.exists(path_name):\n",
    "        print(\"Model found!\")\n",
    "        recommender.load_model(ofp, name)\n",
    "    else:\n",
    "        print(\"Model does not exists, creating...\")\n",
    "        if not os.path.exists(ofp):\n",
    "            print(\"Main folder does not exist, creating...\")\n",
    "            os.makedirs(ofp)\n",
    "        recommender.fit(**args)\n",
    "        recommender.save_model(ofp, name)"
   ]
  },
  {
   "cell_type": "code",
   "execution_count": 22,
   "id": "4d9bade9",
   "metadata": {},
   "outputs": [],
   "source": [
    "from Recommenders.NonPersonalizedRecommender import TopPop\n",
    "from Recommenders.KNN.ItemKNNCBFRecommender import ItemKNNCBFRecommender\n",
    "from Recommenders.SLIM.Cython.SLIM_BPR_Cython import SLIM_BPR_Cython\n",
    "from Recommenders.SLIM.SLIMElasticNetRecommender import MultiThreadSLIM_SLIMElasticNetRecommender\n",
    "from Recommenders.GraphBased.P3alphaRecommender import P3alphaRecommender\n",
    "from Recommenders.GraphBased.RP3betaRecommender import RP3betaRecommender\n",
    "from Recommenders.GraphBased.RP3betaRecommender import RP3betaRecommenderICM\n",
    "from Recommenders.MatrixFactorization.IALSRecommender import IALSRecommender"
   ]
  },
  {
   "cell_type": "code",
   "execution_count": 23,
   "id": "72a52763",
   "metadata": {},
   "outputs": [],
   "source": [
    "from Recommenders.KNN.ItemKNNSimilarityHybridRecommender import ItemKNNSimilarityHybridRecommender\n",
    "from Recommenders.KNN.ItemKNNSimilarityHybridRecommenderNormal import ItemKNNSimilarityHybridRecommenderNormal"
   ]
  },
  {
   "cell_type": "code",
   "execution_count": 24,
   "id": "925f75e3",
   "metadata": {},
   "outputs": [
    {
     "name": "stdout",
     "output_type": "stream",
     "text": [
      "ItemKNNCBFRecommender: ICM Detected 22 ( 0.1%) items with no features.\n",
      "../models_temp/Similarity_Hybrid/RP3beta222.zip\n",
      "Model found!\n",
      "RP3betaRecommender: Loading model from file '../models_temp/Similarity_Hybrid/RP3beta222'\n",
      "RP3betaRecommender: Loading complete\n",
      "../models_temp/Similarity_Hybrid/KNNweigh222.zip\n",
      "Model found!\n",
      "ItemKNNCBFRecommender: Loading model from file '../models_temp/Similarity_Hybrid/KNNweigh222'\n",
      "ItemKNNCBFRecommender: Loading complete\n"
     ]
    }
   ],
   "source": [
    "recommender1 = RP3betaRecommender(URM_train)\n",
    "recommender2 = ItemKNNCBFRecommender(URM_train, ICM_weighted)\n",
    "\n",
    "model_init(recommender1, 'RP3beta222', models_to_combine_best['RP3beta'])\n",
    "model_init(recommender2, 'KNNweigh222', models_to_combine_best['icm_weighted'])"
   ]
  },
  {
   "cell_type": "code",
   "execution_count": 25,
   "id": "e0f95c19",
   "metadata": {},
   "outputs": [],
   "source": [
    "def rank_models(evaluator, recommenders):\n",
    "    for r in recommenders:\n",
    "        r_d, _ = evaluator.evaluateRecommender(r)\n",
    "        print(r.RECOMMENDER_NAME, r_d.loc[10]['MAP'])"
   ]
  },
  {
   "cell_type": "code",
   "execution_count": 26,
   "id": "81bf5855",
   "metadata": {},
   "outputs": [
    {
     "name": "stdout",
     "output_type": "stream",
     "text": [
      "EvaluatorHoldout: Processed 13647 (100.0%) in 23.44 sec. Users per second: 582\n",
      "RP3betaRecommender 0.22008493639511403\n",
      "EvaluatorHoldout: Processed 13647 (100.0%) in 26.82 sec. Users per second: 509\n",
      "ItemKNNCBFRecommender 0.07718625001599173\n"
     ]
    }
   ],
   "source": [
    "rank_models(evaluator_validation, [recommender1, recommender2])"
   ]
  },
  {
   "cell_type": "code",
   "execution_count": 27,
   "id": "b3007185",
   "metadata": {},
   "outputs": [],
   "source": [
    "import matplotlib.pyplot as plt"
   ]
  },
  {
   "cell_type": "code",
   "execution_count": 30,
   "id": "ed47bc68",
   "metadata": {},
   "outputs": [],
   "source": [
    "import numpy as np\n",
    "\n",
    "def test_percentage(recommender_1, recommender_2, evaluator, high, low, step):\n",
    "    recommender = ItemKNNSimilarityHybridRecommenderNormal(URM_train, recommender_1.W_sparse, recommender_2.W_sparse)\n",
    "    results = []\n",
    "    alp_space = np.linspace(high, low, step, True) # Explore 0.954-0.9564 and 0.962 and 0.966 \n",
    "    for alp in alp_space:\n",
    "        recommender.fit(alp)\n",
    "        r_d, _ = evaluator.evaluateRecommender(recommender)\n",
    "        print(alp, \":\", r_d.loc[10]['MAP'])\n",
    "        results.append(r_d.loc[10]['MAP'])\n",
    "    \n",
    "    return alp_space, results"
   ]
  },
  {
   "cell_type": "code",
   "execution_count": 31,
   "id": "00790288",
   "metadata": {},
   "outputs": [
    {
     "name": "stdout",
     "output_type": "stream",
     "text": [
      "EvaluatorHoldout: Processed 13647 (100.0%) in 27.89 sec. Users per second: 489\n",
      "0.0 : 0.07718625001599173\n",
      "EvaluatorHoldout: Processed 13647 (100.0%) in 35.32 sec. Users per second: 386\n",
      "0.05263157894736842 : 0.08735123772769314\n",
      "EvaluatorHoldout: Processed 13647 (100.0%) in 36.31 sec. Users per second: 376\n",
      "0.10526315789473684 : 0.09246326595414237\n",
      "EvaluatorHoldout: Processed 13647 (100.0%) in 34.43 sec. Users per second: 396\n",
      "0.15789473684210525 : 0.09814023025003374\n",
      "EvaluatorHoldout: Processed 13647 (100.0%) in 37.98 sec. Users per second: 359\n",
      "0.21052631578947367 : 0.10428007899869772\n",
      "EvaluatorHoldout: Processed 13647 (100.0%) in 34.44 sec. Users per second: 396\n",
      "0.2631578947368421 : 0.11083176312952055\n",
      "EvaluatorHoldout: Processed 13647 (100.0%) in 37.71 sec. Users per second: 362\n",
      "0.3157894736842105 : 0.11775087495245724\n",
      "EvaluatorHoldout: Processed 13647 (100.0%) in 34.87 sec. Users per second: 391\n",
      "0.3684210526315789 : 0.12508177272521084\n",
      "EvaluatorHoldout: Processed 13647 (100.0%) in 36.82 sec. Users per second: 371\n",
      "0.42105263157894735 : 0.13294777269496963\n",
      "EvaluatorHoldout: Processed 13647 (100.0%) in 39.01 sec. Users per second: 350\n",
      "0.47368421052631576 : 0.14110528391029661\n",
      "EvaluatorHoldout: Processed 13647 (100.0%) in 34.41 sec. Users per second: 397\n",
      "0.5263157894736842 : 0.15010028949905888\n",
      "EvaluatorHoldout: Processed 13647 (100.0%) in 36.31 sec. Users per second: 376\n",
      "0.5789473684210527 : 0.1597296748747615\n",
      "EvaluatorHoldout: Processed 13647 (100.0%) in 35.89 sec. Users per second: 380\n",
      "0.631578947368421 : 0.16993337101822517\n",
      "EvaluatorHoldout: Processed 13647 (100.0%) in 39.35 sec. Users per second: 347\n",
      "0.6842105263157894 : 0.1799636294272479\n",
      "EvaluatorHoldout: Processed 13647 (100.0%) in 34.17 sec. Users per second: 399\n",
      "0.7368421052631579 : 0.19011694529060935\n",
      "EvaluatorHoldout: Processed 13647 (100.0%) in 36.50 sec. Users per second: 374\n",
      "0.7894736842105263 : 0.19998036663677504\n",
      "EvaluatorHoldout: Processed 13647 (100.0%) in 35.95 sec. Users per second: 380\n",
      "0.8421052631578947 : 0.2093112969767196\n",
      "EvaluatorHoldout: Processed 13647 (100.0%) in 37.20 sec. Users per second: 367\n",
      "0.894736842105263 : 0.21728270123906462\n",
      "EvaluatorHoldout: Processed 13647 (100.0%) in 33.89 sec. Users per second: 403\n",
      "0.9473684210526315 : 0.22201619403532027\n",
      "EvaluatorHoldout: Processed 13647 (100.0%) in 23.63 sec. Users per second: 578\n",
      "1.0 : 0.22008493639511403\n"
     ]
    }
   ],
   "source": [
    "alp_space, results = test_percentage(recommender1, recommender2, evaluator_validation, 0, 1, 20)"
   ]
  },
  {
   "cell_type": "code",
   "execution_count": 32,
   "id": "42c87287",
   "metadata": {},
   "outputs": [
    {
     "data": {
      "image/png": "[encoded data removed]",
      "text/plain": [
       "<Figure size 1152x648 with 1 Axes>"
      ]
     },
     "metadata": {
      "needs_background": "light"
     },
     "output_type": "display_data"
    }
   ],
   "source": [
    "import matplotlib.pyplot as plt\n",
    "\n",
    "_ = plt.figure(figsize=(16, 9))\n",
    "plt.plot(alp_space, results, label='MAP variability')\n",
    "plt.ylabel('MAP')\n",
    "plt.xlabel('alpha')\n",
    "plt.legend()\n",
    "plt.show()"
   ]
  },
  {
   "cell_type": "code",
   "execution_count": 33,
   "id": "24d6ed7e",
   "metadata": {},
   "outputs": [
    {
     "name": "stdout",
     "output_type": "stream",
     "text": [
      "EvaluatorHoldout: Processed 13647 (100.0%) in 32.46 sec. Users per second: 420\n",
      "0.95 : 0.22211857132389207\n",
      "EvaluatorHoldout: Processed 13647 (100.0%) in 33.87 sec. Users per second: 403\n",
      "0.9526315789473684 : 0.22227394008334941\n",
      "EvaluatorHoldout: Processed 13647 (100.0%) in 32.43 sec. Users per second: 421\n",
      "0.9552631578947368 : 0.2222515704945912\n",
      "EvaluatorHoldout: Processed 13647 (100.0%) in 32.22 sec. Users per second: 424\n",
      "0.9578947368421052 : 0.22235318594353584\n",
      "EvaluatorHoldout: Processed 13647 (100.0%) in 31.73 sec. Users per second: 430\n",
      "0.9605263157894737 : 0.2224879763096953\n",
      "EvaluatorHoldout: Processed 13647 (100.0%) in 30.93 sec. Users per second: 441\n",
      "0.9631578947368421 : 0.22247982869657984\n",
      "EvaluatorHoldout: Processed 13647 (100.0%) in 30.96 sec. Users per second: 441\n",
      "0.9657894736842105 : 0.22260887909547059\n",
      "EvaluatorHoldout: Processed 13647 (100.0%) in 30.84 sec. Users per second: 443\n",
      "0.968421052631579 : 0.22269115486745777\n",
      "EvaluatorHoldout: Processed 13647 (100.0%) in 31.42 sec. Users per second: 434\n",
      "0.9710526315789474 : 0.22276152035274924\n",
      "EvaluatorHoldout: Processed 13647 (100.0%) in 31.35 sec. Users per second: 435\n",
      "0.9736842105263158 : 0.2226854061768332\n",
      "EvaluatorHoldout: Processed 13647 (100.0%) in 31.15 sec. Users per second: 438\n",
      "0.9763157894736842 : 0.22240595642277303\n",
      "EvaluatorHoldout: Processed 13647 (100.0%) in 31.66 sec. Users per second: 431\n",
      "0.9789473684210526 : 0.22196462156343427\n",
      "EvaluatorHoldout: Processed 13647 (100.0%) in 36.55 sec. Users per second: 373\n",
      "0.981578947368421 : 0.22167215947222577\n",
      "EvaluatorHoldout: Processed 13647 (100.0%) in 35.26 sec. Users per second: 387\n",
      "0.9842105263157894 : 0.22158760981249512\n",
      "EvaluatorHoldout: Processed 13647 (100.0%) in 35.77 sec. Users per second: 381\n",
      "0.9868421052631579 : 0.22142398294409843\n",
      "EvaluatorHoldout: Processed 13647 (100.0%) in 35.82 sec. Users per second: 381\n",
      "0.9894736842105263 : 0.22111624625913662\n",
      "EvaluatorHoldout: Processed 13647 (100.0%) in 35.83 sec. Users per second: 381\n",
      "0.9921052631578947 : 0.2208858595586457\n",
      "EvaluatorHoldout: Processed 13647 (100.0%) in 35.69 sec. Users per second: 382\n",
      "0.9947368421052631 : 0.22060845397732629\n",
      "EvaluatorHoldout: Processed 13647 (100.0%) in 36.71 sec. Users per second: 372\n",
      "0.9973684210526316 : 0.22044339647878874\n",
      "EvaluatorHoldout: Processed 13647 (100.0%) in 28.20 sec. Users per second: 484\n",
      "1.0 : 0.22008493639511403\n"
     ]
    },
    {
     "data": {
      "image/png": "[encoded data removed]",
      "text/plain": [
       "<Figure size 1152x648 with 1 Axes>"
      ]
     },
     "metadata": {
      "needs_background": "light"
     },
     "output_type": "display_data"
    }
   ],
   "source": [
    "alp_space, results = test_percentage(recommender1, recommender2, evaluator_validation, 0.95, 1, 20)\n",
    "\n",
    "import matplotlib.pyplot as plt\n",
    "\n",
    "_ = plt.figure(figsize=(16, 9))\n",
    "plt.plot(alp_space, results, label='MAP variability')\n",
    "plt.ylabel('MAP')\n",
    "plt.xlabel('alpha')\n",
    "plt.legend()\n",
    "plt.show()"
   ]
  },
  {
   "cell_type": "code",
   "execution_count": null,
   "id": "e14e1444",
   "metadata": {},
   "outputs": [],
   "source": []
  }
 ],
 "metadata": {
  "kernelspec": {
   "display_name": "Python 3 (ipykernel)",
   "language": "python",
   "name": "python3"
  },
  "language_info": {
   "codemirror_mode": {
    "name": "ipython",
    "version": 3
   },
   "file_extension": ".py",
   "mimetype": "text/x-python",
   "name": "python",
   "nbconvert_exporter": "python",
   "pygments_lexer": "ipython3",
   "version": "3.8.12"
  }
 },
 "nbformat": 4,
 "nbformat_minor": 5
}
