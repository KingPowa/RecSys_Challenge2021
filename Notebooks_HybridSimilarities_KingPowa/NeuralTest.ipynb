{
 "cells": [
  {
   "cell_type": "code",
   "execution_count": null,
   "id": "7e809989",
   "metadata": {},
   "outputs": [],
   "source": [
    "import sys\n",
    "sys.path.append('../RecSysRep/')"
   ]
  },
  {
   "cell_type": "code",
   "execution_count": null,
   "id": "bc728eee",
   "metadata": {},
   "outputs": [],
   "source": [
    "import Basics.Load as ld\n",
    "import scipy.sparse as sps\n",
    "\n",
    "URM_all, ICM1, ICM2, ICM3, ICM4 = ld.getCOOs()\n",
    "ICML = ld.getICMlength('5km')\n",
    "ICM_weighted = ld.getICMselected('7')\n",
    "ICM_gen = sps.hstack([ICM1, ICM2])\n",
    "ICM_all = ld.getICMall()\n",
    "# URM_train, URM_val = ld.getSplit(URM_train_val, 5678, 0.8)"
   ]
  },
  {
   "cell_type": "code",
   "execution_count": null,
   "id": "09a0a841",
   "metadata": {},
   "outputs": [],
   "source": [
    "from Evaluation.Evaluator import EvaluatorHoldout\n",
    "from Data_manager.split_functions.split_train_validation_random_holdout import split_train_in_two_percentage_global_sample\n",
    "\n",
    "URM_train, URM_validation = split_train_in_two_percentage_global_sample(URM_all, train_percentage = 0.8, seed=7777)\n",
    "# URM_train, URM_validation = split_train_in_two_percentage_global_sample(URM_train_validation, train_percentage = 0.8)\n",
    "\n",
    "evaluator_validation = EvaluatorHoldout(URM_validation, cutoff_list=[10])\n",
    "# evaluator_test = EvaluatorHoldout(URM_test, cutoff_list=[10])"
   ]
  },
  {
   "cell_type": "code",
   "execution_count": null,
   "id": "2d0f462a",
   "metadata": {},
   "outputs": [],
   "source": [
    "import os\n",
    "\n",
    "ofp = \"../models_temp/Similarity_Hybrid/seed7777/\"\n",
    "\n",
    "models_to_combine_best = {\n",
    "                            'EASE': {\"topK\": None, \"normalize_matrix\": False, \"l2_norm\": 3749.2876352484},\n",
    "                            'IALS_Hyb' : {\"num_factors\": 28, \"epochs\": 10, \"confidence_scaling\": \"linear\", \"alpha\": 0.43657990940994623, \"epsilon\": 0.35472063248578317, \"reg\": 0.0001698292271931609, \"mw\": 0.06122362507952762},\n",
    "                            'RP3ICMnew': {'alpha': 1.029719677583138, 'beta': 1.0630164752134375, 'topK': 6964, 'normalize_similarity': True},\n",
    "                            'RP3ICM' : {\"topK\": 2550, \"alpha\": 1.3058102610510849, \"beta\": 0.5150718337969987, \"normalize_similarity\": True, \"implicit\": True},\n",
    "                            'IALS' :  {'num_factors': 34, 'epochs': 599, 'confidence_scaling': 'linear', 'alpha': 0.003519435539271083, 'epsilon': 0.09222402080721787, 'reg': 2.4127708108457617e-05},\n",
    "                            'SLIMgensub': {\"l1_ratio\" : 0.025887359156206147, \"topK\": 2140, \"alpha\": 0.009567288586539689, \"workers\": 8, \"mw\": 1},\n",
    "                            'SLIMBPR' : {\"epochs\": 440, \"lambda_i\": 0.007773815998802306, \"lambda_j\": 0.003342522366982381, \"learning_rate\": 0.010055161410725193, \"topK\": 4289, \"random_seed\": 1234, \"sgd_mode\": \"sgd\"},\n",
    "                            'SLIMweig': {'l1_ratio': 0.0005247075138160404, 'topK': 4983, 'alpha': 0.06067400905430761, 'workers': 8, 'mw': 2.308619939318322},\n",
    "                            'SLIMER': {'topK': 6000, 'l1_ratio': 0.0005495104968035837, 'alpha': 0.08007142704041009, 'workers': 8},\n",
    "                            'P3alpha': {'topK': 4834, 'alpha': 1.764994849187595, 'normalize_similarity': True, 'implicit': True},\n",
    "                            'RP3beta': {\"topK\": 1049, \"alpha\": 1.1626473723475605, \"beta\": 0.6765017195261293, \"normalize_similarity\": True, \"implicit\": True},\n",
    "                            'icm_weighted': {\"shrink\": 4000, \"topK\": 985, \"feature_weighting\": \"TF-IDF\", \"normalize\": True},\n",
    "                            'SLIM_all' : {'l1_ratio': 0.0001043005302985496, 'topK': 1135, 'alpha': 0.06322495726710943, 'workers': 8, 'mw': 1.2937257828415842},\n",
    "                            'SLIM_all2' : {'topK': 4997, 'l1_ratio': 0.00036065147205858187, 'alpha': 0.03203200564199538, 'mw': 1.0785132020354402, 'workers': 8},\n",
    "                            'UserKNN' : {\"topK\": 469, \"similarity\": \"cosine\", \"shrink\": 588, \"normalize\": True, \"feature_weighting\": \"TF-IDF\", \"URM_bias\": False},\n",
    "                            'SLIM_BPR_Hyb' : {\"epochs\": 1443, \"lambda_i\": 8.900837513818856e-05, \"lambda_j\": 1.2615223007492727e-05, \"learning_rate\": 0.0037706733838839264, \"topK\": 6181, \"random_seed\": 1234, \"sgd_mode\": \"sgd\"},\n",
    "                            'Neural': {\"epochs\": 270, \"learning_rate\": 0.00024353880350908526, \"l2_reg\": 0.003835663279264412, \"dropout\": 0.2398024286261501, \"total_anneal_steps\": 188362, \"anneal_cap\": 0.17528653915231018, \"batch_size\": 128, \"encoding_size\": 202, \"next_layer_size_multiplier\": 10, \"max_n_hidden_layers\": 1, \"max_layer_size\": 5000.0}\n",
    "                         }\n"
   ]
  },
  {
   "cell_type": "code",
   "execution_count": null,
   "id": "8e74cf30",
   "metadata": {},
   "outputs": [],
   "source": [
    "def model_init(recommender, name, args):\n",
    "    path_name = ofp + name + \".zip\"\n",
    "    print(path_name)\n",
    "    if os.path.exists(path_name):\n",
    "        print(\"Model found!\")\n",
    "        recommender.load_model(ofp, name)\n",
    "    else:\n",
    "        print(\"Model does not exists, creating...\")\n",
    "        if not os.path.exists(ofp):\n",
    "            print(\"Main folder does not exist, creating...\")\n",
    "            os.makedirs(ofp)\n",
    "        recommender.fit(**args)\n",
    "        recommender.save_model(ofp, name)"
   ]
  },
  {
   "cell_type": "code",
   "execution_count": null,
   "id": "4d9bade9",
   "metadata": {},
   "outputs": [],
   "source": [
    "from Recommenders.NonPersonalizedRecommender import TopPop\n",
    "from Recommenders.KNN.ItemKNNCBFRecommender import ItemKNNCBFRecommender\n",
    "from Recommenders.EASE_R.EASE_R_Recommender import EASE_R_Recommender\n",
    "from Recommenders.SLIM.Cython.SLIM_BPR_Cython import SLIM_BPR_Cython\n",
    "from Recommenders.SLIM.Cython.SLIM_BPR_Cython import SLIM_BPR_Cython_Hybrid\n",
    "from Recommenders.SLIM.SLIMElasticNetRecommender import MultiThreadSLIM_SLIMElasticNetRecommender\n",
    "from Recommenders.SLIM.SLIMElasticNetRecommender import SLIMElasticNetRecommender\n",
    "from Recommenders.SLIM.SLIMElasticNetRecommender import MultiThreadSLIM_SLIM_S_ElasticNetRecommender\n",
    "from Recommenders.GraphBased.P3alphaRecommender import P3alphaRecommender\n",
    "from Recommenders.GraphBased.RP3betaRecommender import RP3betaRecommender\n",
    "from Recommenders.GraphBased.RP3betaRecommender import RP3betaRecommenderICM\n",
    "from Recommenders.MatrixFactorization.IALSRecommender import IALSRecommender\n",
    "from Recommenders.MatrixFactorization.IALSRecommender import IALSRecommender_Hybrid\n",
    "from Recommenders.KNN.UserKNNCFRecommender import UserKNNCFRecommender\n",
    "from Recommenders.Neural.MultVAERecommender import MultVAERecommender_OptimizerMask\n",
    "from Recommenders.Neural.MultVAERecommender import MultVAERecommender"
   ]
  },
  {
   "cell_type": "code",
   "execution_count": null,
   "id": "72a52763",
   "metadata": {},
   "outputs": [],
   "source": [
    "from Recommenders.KNN.ItemKNNSimilarityHybridRecommender import ItemKNNSimilarityHybridRecommender\n",
    "from Recommenders.KNN.ItemKNNSimilarityHybridRecommenderNormal import ItemKNNSimilarityHybridRecommenderNormal\n",
    "from Recommenders.KNN.ItemKNNScoresHybridMultipleRecommender import ItemKNNScoresHybridMultipleRecommender\n",
    "from Recommenders.KNN.ItemKNNScoresHybridMultipleRecommender import ItemKNNScoresHybridTwoRecommender\n",
    "from Recommenders.HybridScores.DifferentStructure import TwoDifferentModelRecommender"
   ]
  },
  {
   "cell_type": "code",
   "execution_count": null,
   "id": "925f75e3",
   "metadata": {},
   "outputs": [],
   "source": [
    "recommender1 = MultiThreadSLIM_SLIM_S_ElasticNetRecommender(URM_train, ICM_all)\n",
    "recommender3 = EASE_R_Recommender(URM_train)\n",
    "\n",
    "model_init(recommender1, 'SLIMall2', models_to_combine_best['SLIM_all2'])\n",
    "model_init(recommender3, 'EASE', models_to_combine_best['EASE'])"
   ]
  },
  {
   "cell_type": "code",
   "execution_count": null,
   "id": "7683d67e",
   "metadata": {},
   "outputs": [],
   "source": [
    "recommender2 = MultVAERecommender_OptimizerMask(URM_train)\n",
    "model_init(recommender2, 'Neural', models_to_combine_best['Neural'])"
   ]
  },
  {
   "cell_type": "code",
   "execution_count": null,
   "id": "2b395041",
   "metadata": {},
   "outputs": [],
   "source": [
    "def test_EASE(evaluator):\n",
    "    recommender = EASE_R_Recommender(URM_train)\n",
    "    for l2 in range(4000, 6000, 200):\n",
    "        recommender.fit(topK = None, normalize_matrix = False, l2_norm = l2)\n",
    "        r_d, _ = evaluator.evaluateRecommender(recommender)\n",
    "        print(l2, \":\", r_d.loc[10]['MAP'])\n",
    "        \n",
    "test_EASE(evaluator_validation)"
   ]
  },
  {
   "cell_type": "code",
   "execution_count": null,
   "id": "dc9c822a",
   "metadata": {},
   "outputs": [],
   "source": [
    "ofp = \"../models_temp/Similarity_Hybrid/New/\"\n",
    "\n",
    "URM_train_temp, URM_validation_temp = split_train_in_two_percentage_global_sample(URM_all, train_percentage = 0.8, seed=1234)\n",
    "recommender_temp = EASE_R_Recommender(URM_train_temp)\n",
    "\n",
    "#model_init(recommender1, 'SLIMall', models_to_combine_best['SLIM_all'])\n",
    "model_init(recommender_temp, 'EASE', models_to_combine_best['EASE'])"
   ]
  },
  {
   "cell_type": "code",
   "execution_count": null,
   "id": "f7e7a3ce",
   "metadata": {},
   "outputs": [],
   "source": [
    "evaluator_validation_temp = EvaluatorHoldout(URM_validation_temp, cutoff_list=[10])\n",
    "evaluator_validation_temp.evaluateRecommender(recommender_temp)"
   ]
  },
  {
   "cell_type": "code",
   "execution_count": null,
   "id": "22288ff2",
   "metadata": {},
   "outputs": [],
   "source": [
    "recommender_temp.fit(topK = None, normalize_matrix = False, l2_norm = 3750)\n",
    "evaluator_validation_temp.evaluateRecommender(recommender_temp)"
   ]
  },
  {
   "cell_type": "code",
   "execution_count": null,
   "id": "18f80ea5",
   "metadata": {},
   "outputs": [],
   "source": [
    "import numpy as np\n",
    "\n",
    "def test_percentage_sim(recommender_a, recommender_b, evaluator, high1, low1, step):\n",
    "    recommender = ItemKNNSimilarityHybridRecommenderNormal(URM_train, recommender_a.W_sparse, recommender_b.W_sparse)\n",
    "    results = []\n",
    "    alp_space = np.linspace(high1, low1, step, True)\n",
    "    for alp in alp_space:\n",
    "        recommender.fit(alp)\n",
    "        r_d, _ = evaluator.evaluateRecommender(recommender)\n",
    "        print(alp, \":\", r_d.loc[10]['MAP'])\n",
    "        results.append(r_d.loc[10]['MAP'])\n",
    "    \n",
    "    return alp_space, results\n",
    "\n",
    "def test_percentage_sco(recommender_a, recommender_b, evaluator, high1, low1, step):\n",
    "    recommender = ItemKNNScoresHybridTwoRecommender(URM_train, recommender_a, recommender_b)\n",
    "    results = []\n",
    "    alp_space = np.linspace(high1, low1, step, True)\n",
    "    for alp in alp_space:\n",
    "        recommender.fit(alp)\n",
    "        r_d, _ = evaluator.evaluateRecommender(recommender)\n",
    "        print(alp, \":\", r_d.loc[10]['MAP'])\n",
    "        results.append(r_d.loc[10]['MAP'])\n",
    "    \n",
    "    return alp_space, results"
   ]
  },
  {
   "cell_type": "code",
   "execution_count": null,
   "id": "e0f95c19",
   "metadata": {},
   "outputs": [],
   "source": [
    "def rank_models(evaluator, recommenders):\n",
    "    for r in recommenders:\n",
    "        r_d, _ = evaluator.evaluateRecommender(r)\n",
    "        print(r.RECOMMENDER_NAME, r_d.loc[10]['MAP'])"
   ]
  },
  {
   "cell_type": "code",
   "execution_count": null,
   "id": "1955dd82",
   "metadata": {},
   "outputs": [],
   "source": [
    "rank_models(evaluator_validation, [recommender1, recommender2, recommender3])"
   ]
  },
  {
   "cell_type": "code",
   "execution_count": null,
   "id": "86aebfcb",
   "metadata": {},
   "outputs": [],
   "source": [
    "from Recommenders.HybridScores.DifferentStructure import ThreeDifferentModelRecommender\n",
    "import optuna\n",
    "\n",
    "class Objective(object):\n",
    "    def __init__(self, URM_train, recommender1, recommender2, recommender3, evaluator):\n",
    "        # Hold this implementation specific arguments as the fields of the class.\n",
    "        self.URM_train = URM_train\n",
    "        self.evaluator = evaluator\n",
    "        self.recommender_1 = recommender1\n",
    "        self.recommender_2 = recommender2\n",
    "        self.recommender_3 = recommender3\n",
    "\n",
    "    def __call__(self, trial):\n",
    "        # Calculate an objective value by using the extra arguments.\n",
    "        w_1 = trial.suggest_uniform('w_1', 0, 1)\n",
    "        w_2 = trial.suggest_uniform('w_2', 0, 1)\n",
    "        w_3 = trial.suggest_uniform('w_3', 0, 1)\n",
    "\n",
    "        recommender_final = ThreeDifferentModelRecommender(self.URM_train.tocsr(), self.recommender_1, self.recommender_2, self.recommender_3)\n",
    "        recommender_final.fit(2, w_1, w_2, w_3)\n",
    "        result_dict, _ = self.evaluator.evaluateRecommender(recommender_final)\n",
    "\n",
    "        map_v = -result_dict.loc[10]['MAP']\n",
    "        if map_v >= -0.245: # minimum acceptable map\n",
    "            # Calculate the penalty.\n",
    "            trial.report(map_v, 0)\n",
    "\n",
    "            if trial.should_prune():\n",
    "                raise optuna.exceptions.TrialPruned()\n",
    "\n",
    "        return map_v"
   ]
  },
  {
   "cell_type": "code",
   "execution_count": null,
   "id": "759e42ef",
   "metadata": {},
   "outputs": [
    {
     "name": "stderr",
     "output_type": "stream",
     "text": [
      "\u001b[32m[I 2022-01-06 19:38:05,501]\u001b[0m A new study created in memory with name: no-name-61afefb2-8fce-4d02-9ce1-08ab6a7c667d\u001b[0m\n"
     ]
    },
    {
     "name": "stdout",
     "output_type": "stream",
     "text": [
      "CURRENT CONFIGURATION:\n",
      "SLIMElasticNetRecommender with weight alpha: 0.2205785261720338\n",
      "MultVAERecommender with weight beta: 0.5141681241029099\n",
      "EASE_R_Recommender with weight gamma: 0.2652533497250564\n",
      "Norm type: 2\n",
      "EvaluatorHoldout: Processed 6000 (44.0%) in 5.15 min. Users per second: 19\n",
      "EvaluatorHoldout: Processed 12000 (88.0%) in 10.22 min. Users per second: 20\n",
      "EvaluatorHoldout: Processed 13643 (100.0%) in 11.49 min. Users per second: 20\n"
     ]
    },
    {
     "name": "stderr",
     "output_type": "stream",
     "text": [
      "\u001b[32m[I 2022-01-06 19:49:35,483]\u001b[0m Trial 0 finished with value: -0.24887657080961229 and parameters: {'w_1': 0.27380470307889015, 'w_2': 0.6382382410281798, 'w_3': 0.32925967873004225}. Best is trial 0 with value: -0.24887657080961229.\u001b[0m\n"
     ]
    },
    {
     "name": "stdout",
     "output_type": "stream",
     "text": [
      "             MAP\n",
      "cutoff          \n",
      "10      0.248877\n",
      "CURRENT CONFIGURATION:\n",
      "SLIMElasticNetRecommender with weight alpha: 0.4668734071539088\n",
      "MultVAERecommender with weight beta: 0.13207323984744798\n",
      "EASE_R_Recommender with weight gamma: 0.4010533529986432\n",
      "Norm type: 2\n",
      "EvaluatorHoldout: Processed 5000 (36.6%) in 5.31 min. Users per second: 16\n",
      "EvaluatorHoldout: Processed 10000 (73.3%) in 10.74 min. Users per second: 16\n",
      "EvaluatorHoldout: Processed 13643 (100.0%) in 14.57 min. Users per second: 16\n"
     ]
    },
    {
     "name": "stderr",
     "output_type": "stream",
     "text": [
      "\u001b[32m[I 2022-01-06 20:04:10,238]\u001b[0m Trial 1 finished with value: -0.24972005528737962 and parameters: {'w_1': 0.6731883129935288, 'w_2': 0.19043740800422848, 'w_3': 0.5782818768183816}. Best is trial 1 with value: -0.24972005528737962.\u001b[0m\n"
     ]
    },
    {
     "name": "stdout",
     "output_type": "stream",
     "text": [
      "            MAP\n",
      "cutoff         \n",
      "10      0.24972\n",
      "CURRENT CONFIGURATION:\n",
      "SLIMElasticNetRecommender with weight alpha: 0.25369719133782737\n",
      "MultVAERecommender with weight beta: 0.4959753336968723\n",
      "EASE_R_Recommender with weight gamma: 0.25032747496530044\n",
      "Norm type: 2\n",
      "EvaluatorHoldout: Processed 5000 (36.6%) in 6.18 min. Users per second: 13\n",
      "EvaluatorHoldout: Processed 10000 (73.3%) in 11.97 min. Users per second: 14\n",
      "EvaluatorHoldout: Processed 13643 (100.0%) in 15.38 min. Users per second: 15\n"
     ]
    },
    {
     "name": "stderr",
     "output_type": "stream",
     "text": [
      "\u001b[32m[I 2022-01-06 20:19:33,433]\u001b[0m Trial 2 finished with value: -0.2491421526708842 and parameters: {'w_1': 0.2569627863695396, 'w_2': 0.5023595375464749, 'w_3': 0.25354969494431157}. Best is trial 1 with value: -0.24972005528737962.\u001b[0m\n"
     ]
    },
    {
     "name": "stdout",
     "output_type": "stream",
     "text": [
      "             MAP\n",
      "cutoff          \n",
      "10      0.249142\n",
      "CURRENT CONFIGURATION:\n",
      "SLIMElasticNetRecommender with weight alpha: 0.2619396745702098\n",
      "MultVAERecommender with weight beta: 0.23292372446002782\n",
      "EASE_R_Recommender with weight gamma: 0.5051366009697624\n",
      "Norm type: 2\n",
      "EvaluatorHoldout: Processed 5000 (36.6%) in 6.10 min. Users per second: 14\n",
      "EvaluatorHoldout: Processed 9000 (66.0%) in 11.35 min. Users per second: 13\n",
      "EvaluatorHoldout: Processed 13000 (95.3%) in 16.70 min. Users per second: 13\n",
      "EvaluatorHoldout: Processed 13643 (100.0%) in 16.80 min. Users per second: 14\n"
     ]
    },
    {
     "name": "stderr",
     "output_type": "stream",
     "text": [
      "\u001b[32m[I 2022-01-06 20:36:21,922]\u001b[0m Trial 3 finished with value: -0.24837097982685433 and parameters: {'w_1': 0.1623854070548586, 'w_2': 0.14439742231197294, 'w_3': 0.3131515403360412}. Best is trial 1 with value: -0.24972005528737962.\u001b[0m\n"
     ]
    },
    {
     "name": "stdout",
     "output_type": "stream",
     "text": [
      "             MAP\n",
      "cutoff          \n",
      "10      0.248371\n",
      "CURRENT CONFIGURATION:\n",
      "SLIMElasticNetRecommender with weight alpha: 0.4750485132776256\n",
      "MultVAERecommender with weight beta: 0.007901528897030014\n",
      "EASE_R_Recommender with weight gamma: 0.5170499578253445\n",
      "Norm type: 2\n",
      "EvaluatorHoldout: Processed 4000 (29.3%) in 5.42 min. Users per second: 12\n",
      "EvaluatorHoldout: Processed 8000 (58.6%) in 10.50 min. Users per second: 13\n",
      "EvaluatorHoldout: Processed 12000 (88.0%) in 15.98 min. Users per second: 13\n",
      "EvaluatorHoldout: Processed 13643 (100.0%) in 17.59 min. Users per second: 13\n"
     ]
    },
    {
     "name": "stderr",
     "output_type": "stream",
     "text": [
      "\u001b[32m[I 2022-01-06 20:53:57,726]\u001b[0m Trial 4 finished with value: -0.24965999483426077 and parameters: {'w_1': 0.7612913058839893, 'w_2': 0.012662633571878135, 'w_3': 0.8286009251650415}. Best is trial 1 with value: -0.24972005528737962.\u001b[0m\n"
     ]
    },
    {
     "name": "stdout",
     "output_type": "stream",
     "text": [
      "            MAP\n",
      "cutoff         \n",
      "10      0.24966\n",
      "CURRENT CONFIGURATION:\n",
      "SLIMElasticNetRecommender with weight alpha: 0.11411407369376103\n",
      "MultVAERecommender with weight beta: 0.40324190842713575\n",
      "EASE_R_Recommender with weight gamma: 0.48264401787910316\n",
      "Norm type: 2\n",
      "EvaluatorHoldout: Processed 4000 (29.3%) in 5.35 min. Users per second: 12\n",
      "EvaluatorHoldout: Processed 9000 (66.0%) in 11.44 min. Users per second: 13\n",
      "EvaluatorHoldout: Processed 13643 (100.0%) in 15.68 min. Users per second: 15\n"
     ]
    },
    {
     "name": "stderr",
     "output_type": "stream",
     "text": [
      "\u001b[32m[I 2022-01-06 21:09:38,815]\u001b[0m Trial 5 finished with value: -0.24717519246453656 and parameters: {'w_1': 0.15345365690876922, 'w_2': 0.5422551615594294, 'w_3': 0.6490302828680723}. Best is trial 1 with value: -0.24972005528737962.\u001b[0m\n"
     ]
    },
    {
     "name": "stdout",
     "output_type": "stream",
     "text": [
      "             MAP\n",
      "cutoff          \n",
      "10      0.247175\n",
      "CURRENT CONFIGURATION:\n",
      "SLIMElasticNetRecommender with weight alpha: 0.20700477414923013\n",
      "MultVAERecommender with weight beta: 0.369838276013515\n",
      "EASE_R_Recommender with weight gamma: 0.4231569498372549\n",
      "Norm type: 2\n",
      "EvaluatorHoldout: Processed 6000 (44.0%) in 5.29 min. Users per second: 19\n",
      "EvaluatorHoldout: Processed 13000 (95.3%) in 10.69 min. Users per second: 20\n",
      "EvaluatorHoldout: Processed 13643 (100.0%) in 10.82 min. Users per second: 21\n"
     ]
    },
    {
     "name": "stderr",
     "output_type": "stream",
     "text": [
      "\u001b[32m[I 2022-01-06 21:20:28,011]\u001b[0m Trial 6 finished with value: -0.2482496663792927 and parameters: {'w_1': 0.29480569382445554, 'w_2': 0.5267049033584343, 'w_3': 0.6026386526886592}. Best is trial 1 with value: -0.24972005528737962.\u001b[0m\n"
     ]
    },
    {
     "name": "stdout",
     "output_type": "stream",
     "text": [
      "            MAP\n",
      "cutoff         \n",
      "10      0.24825\n",
      "CURRENT CONFIGURATION:\n",
      "SLIMElasticNetRecommender with weight alpha: 0.20117841287954624\n",
      "MultVAERecommender with weight beta: 0.4154556857947071\n",
      "EASE_R_Recommender with weight gamma: 0.38336590132574677\n",
      "Norm type: 2\n",
      "EvaluatorHoldout: Processed 6000 (44.0%) in 5.04 min. Users per second: 20\n",
      "EvaluatorHoldout: Processed 13000 (95.3%) in 10.45 min. Users per second: 21\n",
      "EvaluatorHoldout: Processed 13643 (100.0%) in 10.59 min. Users per second: 21\n"
     ]
    },
    {
     "name": "stderr",
     "output_type": "stream",
     "text": [
      "\u001b[32m[I 2022-01-06 21:31:03,960]\u001b[0m Trial 7 finished with value: -0.24837287916705847 and parameters: {'w_1': 0.4747510613353563, 'w_2': 0.9804134794866882, 'w_3': 0.9046863723055446}. Best is trial 1 with value: -0.24972005528737962.\u001b[0m\n"
     ]
    },
    {
     "name": "stdout",
     "output_type": "stream",
     "text": [
      "             MAP\n",
      "cutoff          \n",
      "10      0.248373\n",
      "CURRENT CONFIGURATION:\n",
      "SLIMElasticNetRecommender with weight alpha: 0.45168087901121473\n",
      "MultVAERecommender with weight beta: 0.37677969263510847\n",
      "EASE_R_Recommender with weight gamma: 0.17153942835367678\n",
      "Norm type: 2\n",
      "EvaluatorHoldout: Processed 7000 (51.3%) in 5.08 min. Users per second: 23\n",
      "EvaluatorHoldout: Processed 13643 (100.0%) in 9.50 min. Users per second: 24\n"
     ]
    },
    {
     "name": "stderr",
     "output_type": "stream",
     "text": [
      "\u001b[32m[I 2022-01-06 21:40:34,414]\u001b[0m Trial 8 finished with value: -0.24997220506126158 and parameters: {'w_1': 0.2816373555492224, 'w_2': 0.23493408995018816, 'w_3': 0.10696027487308202}. Best is trial 8 with value: -0.24997220506126158.\u001b[0m\n"
     ]
    },
    {
     "name": "stdout",
     "output_type": "stream",
     "text": [
      "             MAP\n",
      "cutoff          \n",
      "10      0.249972\n",
      "CURRENT CONFIGURATION:\n",
      "SLIMElasticNetRecommender with weight alpha: 0.1899278590070823\n",
      "MultVAERecommender with weight beta: 0.21561940825615816\n",
      "EASE_R_Recommender with weight gamma: 0.5944527327367595\n",
      "Norm type: 2\n",
      "EvaluatorHoldout: Processed 7000 (51.3%) in 5.14 min. Users per second: 23\n",
      "EvaluatorHoldout: Processed 13643 (100.0%) in 9.47 min. Users per second: 24\n"
     ]
    },
    {
     "name": "stderr",
     "output_type": "stream",
     "text": [
      "\u001b[32m[I 2022-01-06 21:50:02,913]\u001b[0m Trial 9 finished with value: -0.2475224924928082 and parameters: {'w_1': 0.24098902336057593, 'w_2': 0.2735876183983058, 'w_3': 0.7542684061473844}. Best is trial 8 with value: -0.24997220506126158.\u001b[0m\n"
     ]
    },
    {
     "name": "stdout",
     "output_type": "stream",
     "text": [
      "             MAP\n",
      "cutoff          \n",
      "10      0.247522\n",
      "CURRENT CONFIGURATION:\n",
      "SLIMElasticNetRecommender with weight alpha: 0.533307145913404\n",
      "MultVAERecommender with weight beta: 0.46053390338699207\n",
      "EASE_R_Recommender with weight gamma: 0.006158950699603908\n",
      "Norm type: 2\n",
      "EvaluatorHoldout: Processed 7000 (51.3%) in 5.14 min. Users per second: 23\n",
      "EvaluatorHoldout: Processed 13643 (100.0%) in 9.71 min. Users per second: 23\n"
     ]
    },
    {
     "name": "stderr",
     "output_type": "stream",
     "text": [
      "\u001b[32m[I 2022-01-06 21:59:45,983]\u001b[0m Trial 10 finished with value: -0.24949104663243704 and parameters: {'w_1': 0.9529691351930722, 'w_2': 0.8229302738595858, 'w_3': 0.011005458987139338}. Best is trial 8 with value: -0.24997220506126158.\u001b[0m\n"
     ]
    },
    {
     "name": "stdout",
     "output_type": "stream",
     "text": [
      "             MAP\n",
      "cutoff          \n",
      "10      0.249491\n",
      "CURRENT CONFIGURATION:\n",
      "SLIMElasticNetRecommender with weight alpha: 0.6548229181151279\n",
      "MultVAERecommender with weight beta: 0.3214602252583499\n",
      "EASE_R_Recommender with weight gamma: 0.023716856626522162\n",
      "Norm type: 2\n",
      "EvaluatorHoldout: Processed 7000 (51.3%) in 5.07 min. Users per second: 23\n",
      "EvaluatorHoldout: Processed 13643 (100.0%) in 9.43 min. Users per second: 24\n"
     ]
    },
    {
     "name": "stderr",
     "output_type": "stream",
     "text": [
      "\u001b[32m[I 2022-01-06 22:09:12,007]\u001b[0m Trial 11 finished with value: -0.24952905379699242 and parameters: {'w_1': 0.5927211913422861, 'w_2': 0.29097376162816213, 'w_3': 0.02146761074739123}. Best is trial 8 with value: -0.24997220506126158.\u001b[0m\n"
     ]
    },
    {
     "name": "stdout",
     "output_type": "stream",
     "text": [
      "             MAP\n",
      "cutoff          \n",
      "10      0.249529\n",
      "CURRENT CONFIGURATION:\n",
      "SLIMElasticNetRecommender with weight alpha: 0.39914668969245487\n",
      "MultVAERecommender with weight beta: 0.21138214929908689\n",
      "EASE_R_Recommender with weight gamma: 0.3894711610084583\n",
      "Norm type: 2\n",
      "EvaluatorHoldout: Processed 7000 (51.3%) in 5.19 min. Users per second: 22\n",
      "EvaluatorHoldout: Processed 13643 (100.0%) in 9.55 min. Users per second: 24\n"
     ]
    },
    {
     "name": "stderr",
     "output_type": "stream",
     "text": [
      "\u001b[32m[I 2022-01-06 22:18:45,167]\u001b[0m Trial 12 finished with value: -0.24960020488441761 and parameters: {'w_1': 0.5088772753594345, 'w_2': 0.269493835155747, 'w_3': 0.4965418187428008}. Best is trial 8 with value: -0.24997220506126158.\u001b[0m\n"
     ]
    },
    {
     "name": "stdout",
     "output_type": "stream",
     "text": [
      "           MAP\n",
      "cutoff        \n",
      "10      0.2496\n",
      "CURRENT CONFIGURATION:\n",
      "SLIMElasticNetRecommender with weight alpha: 0.0021363403474005914\n",
      "MultVAERecommender with weight beta: 0.08231769068890644\n",
      "EASE_R_Recommender with weight gamma: 0.9155459689636929\n",
      "Norm type: 2\n",
      "EvaluatorHoldout: Processed 8000 (58.6%) in 5.68 min. Users per second: 23\n",
      "EvaluatorHoldout: Processed 13643 (100.0%) in 9.41 min. Users per second: 24\n"
     ]
    },
    {
     "name": "stderr",
     "output_type": "stream",
     "text": [
      "\u001b[32m[I 2022-01-06 22:28:09,823]\u001b[0m Trial 13 finished with value: -0.24495340362928256 and parameters: {'w_1': 0.0011145651710831594, 'w_2': 0.04294654225741101, 'w_3': 0.4776559365993056}. Best is trial 8 with value: -0.24997220506126158.\u001b[0m\n"
     ]
    },
    {
     "name": "stdout",
     "output_type": "stream",
     "text": [
      "             MAP\n",
      "cutoff          \n",
      "10      0.244953\n",
      "CURRENT CONFIGURATION:\n",
      "SLIMElasticNetRecommender with weight alpha: 0.5726420437263294\n",
      "MultVAERecommender with weight beta: 0.277931659251667\n",
      "EASE_R_Recommender with weight gamma: 0.14942629702200344\n",
      "Norm type: 2\n",
      "EvaluatorHoldout: Processed 8000 (58.6%) in 5.35 min. Users per second: 25\n",
      "EvaluatorHoldout: Processed 13643 (100.0%) in 8.81 min. Users per second: 26\n"
     ]
    },
    {
     "name": "stderr",
     "output_type": "stream",
     "text": [
      "\u001b[32m[I 2022-01-06 22:36:58,447]\u001b[0m Trial 14 finished with value: -0.25019897988269973 and parameters: {'w_1': 0.7227513144496889, 'w_2': 0.3507871527283901, 'w_3': 0.18859609378876802}. Best is trial 14 with value: -0.25019897988269973.\u001b[0m\n"
     ]
    },
    {
     "name": "stdout",
     "output_type": "stream",
     "text": [
      "             MAP\n",
      "cutoff          \n",
      "10      0.250199\n",
      "CURRENT CONFIGURATION:\n",
      "SLIMElasticNetRecommender with weight alpha: 0.6262134669915785\n",
      "MultVAERecommender with weight beta: 0.2912286159706885\n",
      "EASE_R_Recommender with weight gamma: 0.08255791703773295\n",
      "Norm type: 2\n",
      "EvaluatorHoldout: Processed 8000 (58.6%) in 5.44 min. Users per second: 25\n",
      "EvaluatorHoldout: Processed 13643 (100.0%) in 8.92 min. Users per second: 25\n"
     ]
    },
    {
     "name": "stderr",
     "output_type": "stream",
     "text": [
      "\u001b[32m[I 2022-01-06 22:45:54,035]\u001b[0m Trial 15 finished with value: -0.24982114497928382 and parameters: {'w_1': 0.8222453606160864, 'w_2': 0.38239576595334196, 'w_3': 0.10840211500484478}. Best is trial 14 with value: -0.25019897988269973.\u001b[0m\n"
     ]
    },
    {
     "name": "stdout",
     "output_type": "stream",
     "text": [
      "             MAP\n",
      "cutoff          \n",
      "10      0.249821\n",
      "CURRENT CONFIGURATION:\n",
      "SLIMElasticNetRecommender with weight alpha: 0.3326689689936172\n",
      "MultVAERecommender with weight beta: 0.5174689587833541\n",
      "EASE_R_Recommender with weight gamma: 0.14986207222302875\n",
      "Norm type: 2\n",
      "EvaluatorHoldout: Processed 8000 (58.6%) in 5.37 min. Users per second: 25\n",
      "EvaluatorHoldout: Processed 13643 (100.0%) in 9.05 min. Users per second: 25\n"
     ]
    },
    {
     "name": "stderr",
     "output_type": "stream",
     "text": [
      "\u001b[32m[I 2022-01-06 22:54:57,063]\u001b[0m Trial 16 finished with value: -0.24978875730213432 and parameters: {'w_1': 0.4331929122083257, 'w_2': 0.6738346708768985, 'w_3': 0.19514650762967267}. Best is trial 14 with value: -0.25019897988269973.\u001b[0m\n"
     ]
    },
    {
     "name": "stdout",
     "output_type": "stream",
     "text": [
      "             MAP\n",
      "cutoff          \n",
      "10      0.249789\n",
      "CURRENT CONFIGURATION:\n",
      "SLIMElasticNetRecommender with weight alpha: 0.6212068064506115\n",
      "MultVAERecommender with weight beta: 0.27207024365140753\n",
      "EASE_R_Recommender with weight gamma: 0.10672294989798096\n",
      "Norm type: 2\n",
      "EvaluatorHoldout: Processed 8000 (58.6%) in 5.34 min. Users per second: 25\n",
      "EvaluatorHoldout: Processed 13643 (100.0%) in 8.83 min. Users per second: 26\n"
     ]
    },
    {
     "name": "stderr",
     "output_type": "stream",
     "text": [
      "\u001b[32m[I 2022-01-06 23:03:46,853]\u001b[0m Trial 17 finished with value: -0.24996725746908877 and parameters: {'w_1': 0.9388043336213943, 'w_2': 0.41116858530376865, 'w_3': 0.16128601106860074}. Best is trial 14 with value: -0.25019897988269973.\u001b[0m\n"
     ]
    },
    {
     "name": "stdout",
     "output_type": "stream",
     "text": [
      "             MAP\n",
      "cutoff          \n",
      "10      0.249967\n",
      "CURRENT CONFIGURATION:\n",
      "SLIMElasticNetRecommender with weight alpha: 0.3340880743312753\n",
      "MultVAERecommender with weight beta: 0.33784042689679533\n",
      "EASE_R_Recommender with weight gamma: 0.32807149877192954\n",
      "Norm type: 2\n",
      "EvaluatorHoldout: Processed 8000 (58.6%) in 5.35 min. Users per second: 25\n",
      "EvaluatorHoldout: Processed 13643 (100.0%) in 8.79 min. Users per second: 26\n"
     ]
    },
    {
     "name": "stderr",
     "output_type": "stream",
     "text": [
      "\u001b[32m[I 2022-01-06 23:12:34,485]\u001b[0m Trial 18 finished with value: -0.24943825486411503 and parameters: {'w_1': 0.385143343773946, 'w_2': 0.3894691300714542, 'w_3': 0.3782073163996277}. Best is trial 14 with value: -0.25019897988269973.\u001b[0m\n"
     ]
    },
    {
     "name": "stdout",
     "output_type": "stream",
     "text": [
      "             MAP\n",
      "cutoff          \n",
      "10      0.249438\n",
      "CURRENT CONFIGURATION:\n",
      "SLIMElasticNetRecommender with weight alpha: 0.7067953614276096\n",
      "MultVAERecommender with weight beta: 0.16085991629395674\n",
      "EASE_R_Recommender with weight gamma: 0.1323447222784337\n",
      "Norm type: 2\n",
      "EvaluatorHoldout: Processed 8000 (58.6%) in 5.41 min. Users per second: 25\n",
      "EvaluatorHoldout: Processed 13643 (100.0%) in 8.88 min. Users per second: 26\n"
     ]
    },
    {
     "name": "stderr",
     "output_type": "stream",
     "text": [
      "\u001b[32m[I 2022-01-06 23:21:27,378]\u001b[0m Trial 19 finished with value: -0.24999610824319388 and parameters: {'w_1': 0.591121825909608, 'w_2': 0.1345337174303023, 'w_3': 0.11068529612972038}. Best is trial 14 with value: -0.25019897988269973.\u001b[0m\n"
     ]
    },
    {
     "name": "stdout",
     "output_type": "stream",
     "text": [
      "             MAP\n",
      "cutoff          \n",
      "10      0.249996\n",
      "CURRENT CONFIGURATION:\n",
      "SLIMElasticNetRecommender with weight alpha: 0.5453437596781331\n",
      "MultVAERecommender with weight beta: 0.11230216370488239\n",
      "EASE_R_Recommender with weight gamma: 0.3423540766169846\n",
      "Norm type: 2\n",
      "EvaluatorHoldout: Processed 8000 (58.6%) in 5.36 min. Users per second: 25\n",
      "EvaluatorHoldout: Processed 13643 (100.0%) in 8.93 min. Users per second: 25\n"
     ]
    },
    {
     "name": "stderr",
     "output_type": "stream",
     "text": [
      "\u001b[32m[I 2022-01-06 23:30:23,550]\u001b[0m Trial 20 finished with value: -0.24986905605409568 and parameters: {'w_1': 0.6055775658401976, 'w_2': 0.12470605875297597, 'w_3': 0.38016745345274583}. Best is trial 14 with value: -0.25019897988269973.\u001b[0m\n"
     ]
    },
    {
     "name": "stdout",
     "output_type": "stream",
     "text": [
      "             MAP\n",
      "cutoff          \n",
      "10      0.249869\n",
      "CURRENT CONFIGURATION:\n",
      "SLIMElasticNetRecommender with weight alpha: 0.6832624431472516\n",
      "MultVAERecommender with weight beta: 0.20127970070748588\n",
      "EASE_R_Recommender with weight gamma: 0.1154578561452626\n",
      "Norm type: 2\n",
      "EvaluatorHoldout: Processed 8000 (58.6%) in 5.38 min. Users per second: 25\n",
      "EvaluatorHoldout: Processed 13643 (100.0%) in 8.83 min. Users per second: 26\n"
     ]
    },
    {
     "name": "stderr",
     "output_type": "stream",
     "text": [
      "\u001b[32m[I 2022-01-06 23:39:13,218]\u001b[0m Trial 21 finished with value: -0.2500504503152369 and parameters: {'w_1': 0.7568222207744132, 'w_2': 0.22294939757638493, 'w_3': 0.12788800550958815}. Best is trial 14 with value: -0.25019897988269973.\u001b[0m\n"
     ]
    },
    {
     "name": "stdout",
     "output_type": "stream",
     "text": [
      "            MAP\n",
      "cutoff         \n",
      "10      0.25005\n",
      "CURRENT CONFIGURATION:\n",
      "SLIMElasticNetRecommender with weight alpha: 0.715063171104176\n",
      "MultVAERecommender with weight beta: 0.08853951755740688\n",
      "EASE_R_Recommender with weight gamma: 0.19639731133841695\n",
      "Norm type: 2\n",
      "EvaluatorHoldout: Processed 8000 (58.6%) in 5.49 min. Users per second: 24\n",
      "EvaluatorHoldout: Processed 13643 (100.0%) in 8.98 min. Users per second: 25\n"
     ]
    },
    {
     "name": "stderr",
     "output_type": "stream",
     "text": [
      "\u001b[32m[I 2022-01-06 23:48:12,459]\u001b[0m Trial 22 finished with value: -0.249998996520105 and parameters: {'w_1': 0.8229282133972275, 'w_2': 0.1018954267859423, 'w_3': 0.22602323132678342}. Best is trial 14 with value: -0.25019897988269973.\u001b[0m\n"
     ]
    },
    {
     "name": "stdout",
     "output_type": "stream",
     "text": [
      "             MAP\n",
      "cutoff          \n",
      "10      0.249999\n",
      "CURRENT CONFIGURATION:\n",
      "SLIMElasticNetRecommender with weight alpha: 0.5862335231696085\n",
      "MultVAERecommender with weight beta: 0.24858814467180215\n",
      "EASE_R_Recommender with weight gamma: 0.16517833215858937\n",
      "Norm type: 2\n",
      "EvaluatorHoldout: Processed 8000 (58.6%) in 5.34 min. Users per second: 25\n",
      "EvaluatorHoldout: Processed 13643 (100.0%) in 8.81 min. Users per second: 26\n"
     ]
    },
    {
     "name": "stderr",
     "output_type": "stream",
     "text": [
      "\u001b[32m[I 2022-01-06 23:57:01,566]\u001b[0m Trial 23 finished with value: -0.2502994500348442 and parameters: {'w_1': 0.8455608111137924, 'w_2': 0.35855403168601807, 'w_3': 0.23824690843896273}. Best is trial 23 with value: -0.2502994500348442.\u001b[0m\n"
     ]
    },
    {
     "name": "stdout",
     "output_type": "stream",
     "text": [
      "             MAP\n",
      "cutoff          \n",
      "10      0.250299\n",
      "CURRENT CONFIGURATION:\n",
      "SLIMElasticNetRecommender with weight alpha: 0.536154247318918\n",
      "MultVAERecommender with weight beta: 0.2595496799912633\n",
      "EASE_R_Recommender with weight gamma: 0.20429607268981856\n",
      "Norm type: 2\n",
      "EvaluatorHoldout: Processed 8000 (58.6%) in 5.33 min. Users per second: 25\n",
      "EvaluatorHoldout: Processed 13643 (100.0%) in 8.91 min. Users per second: 26\n"
     ]
    },
    {
     "name": "stderr",
     "output_type": "stream",
     "text": [
      "\u001b[32m[I 2022-01-07 00:05:56,246]\u001b[0m Trial 24 finished with value: -0.250075432601636 and parameters: {'w_1': 0.7255854296001971, 'w_2': 0.35125239984722856, 'w_3': 0.2764768803185506}. Best is trial 23 with value: -0.2502994500348442.\u001b[0m\n"
     ]
    },
    {
     "name": "stdout",
     "output_type": "stream",
     "text": [
      "             MAP\n",
      "cutoff          \n",
      "10      0.250075\n",
      "CURRENT CONFIGURATION:\n",
      "SLIMElasticNetRecommender with weight alpha: 0.538218788850633\n",
      "MultVAERecommender with weight beta: 0.21144714109744436\n",
      "EASE_R_Recommender with weight gamma: 0.25033407005192254\n",
      "Norm type: 2\n",
      "EvaluatorHoldout: Processed 8000 (58.6%) in 5.56 min. Users per second: 24\n",
      "EvaluatorHoldout: Processed 13643 (100.0%) in 8.94 min. Users per second: 25\n"
     ]
    },
    {
     "name": "stderr",
     "output_type": "stream",
     "text": [
      "\u001b[32m[I 2022-01-07 00:14:52,922]\u001b[0m Trial 25 finished with value: -0.24991475656450335 and parameters: {'w_1': 0.895157948233172, 'w_2': 0.3516759223303278, 'w_3': 0.4163521176937719}. Best is trial 23 with value: -0.2502994500348442.\u001b[0m\n"
     ]
    },
    {
     "name": "stdout",
     "output_type": "stream",
     "text": [
      "             MAP\n",
      "cutoff          \n",
      "10      0.249915\n",
      "CURRENT CONFIGURATION:\n",
      "SLIMElasticNetRecommender with weight alpha: 0.4855200513757203\n",
      "MultVAERecommender with weight beta: 0.315716467483657\n",
      "EASE_R_Recommender with weight gamma: 0.1987634811406228\n",
      "Norm type: 2\n",
      "EvaluatorHoldout: Processed 9000 (66.0%) in 5.18 min. Users per second: 29\n",
      "EvaluatorHoldout: Processed 13643 (100.0%) in 6.85 min. Users per second: 33\n"
     ]
    },
    {
     "name": "stderr",
     "output_type": "stream",
     "text": [
      "\u001b[32m[I 2022-01-07 00:21:44,316]\u001b[0m Trial 26 finished with value: -0.249984528957812 and parameters: {'w_1': 0.6791041557700218, 'w_2': 0.4415973439318685, 'w_3': 0.2780134531528503}. Best is trial 23 with value: -0.2502994500348442.\u001b[0m\n"
     ]
    },
    {
     "name": "stdout",
     "output_type": "stream",
     "text": [
      "             MAP\n",
      "cutoff          \n",
      "10      0.249985\n",
      "CURRENT CONFIGURATION:\n",
      "SLIMElasticNetRecommender with weight alpha: 0.4446180173290193\n",
      "MultVAERecommender with weight beta: 0.32808762780821027\n",
      "EASE_R_Recommender with weight gamma: 0.22729435486277044\n",
      "Norm type: 2\n",
      "EvaluatorHoldout: Processed 12000 (88.0%) in 5.20 min. Users per second: 38\n",
      "EvaluatorHoldout: Processed 13643 (100.0%) in 5.70 min. Users per second: 40\n"
     ]
    },
    {
     "name": "stderr",
     "output_type": "stream",
     "text": [
      "\u001b[32m[I 2022-01-07 00:27:26,607]\u001b[0m Trial 27 finished with value: -0.2499797471579693 and parameters: {'w_1': 0.8637593300382627, 'w_2': 0.6373757664880091, 'w_3': 0.44156469604438553}. Best is trial 23 with value: -0.2502994500348442.\u001b[0m\n"
     ]
    },
    {
     "name": "stdout",
     "output_type": "stream",
     "text": [
      "            MAP\n",
      "cutoff         \n",
      "10      0.24998\n",
      "CURRENT CONFIGURATION:\n",
      "SLIMElasticNetRecommender with weight alpha: 0.5661494450772648\n",
      "MultVAERecommender with weight beta: 0.26115883333744666\n",
      "EASE_R_Recommender with weight gamma: 0.1726917215852886\n",
      "Norm type: 2\n",
      "EvaluatorHoldout: Processed 11000 (80.6%) in 5.14 min. Users per second: 36\n",
      "EvaluatorHoldout: Processed 13643 (100.0%) in 6.07 min. Users per second: 37\n"
     ]
    },
    {
     "name": "stderr",
     "output_type": "stream",
     "text": [
      "\u001b[32m[I 2022-01-07 00:33:31,108]\u001b[0m Trial 28 finished with value: -0.250265227007511 and parameters: {'w_1': 0.709571853051202, 'w_2': 0.32731809405315565, 'w_3': 0.21643964496892212}. Best is trial 23 with value: -0.2502994500348442.\u001b[0m\n"
     ]
    },
    {
     "name": "stdout",
     "output_type": "stream",
     "text": [
      "             MAP\n",
      "cutoff          \n",
      "10      0.250265\n",
      "CURRENT CONFIGURATION:\n",
      "SLIMElasticNetRecommender with weight alpha: 0.5154515842500431\n",
      "MultVAERecommender with weight beta: 0.31003389756726313\n",
      "EASE_R_Recommender with weight gamma: 0.17451451818269362\n",
      "Norm type: 2\n",
      "EvaluatorHoldout: Processed 6000 (44.0%) in 5.65 min. Users per second: 18\n",
      "EvaluatorHoldout: Processed 13643 (100.0%) in 10.47 min. Users per second: 22\n"
     ]
    },
    {
     "name": "stderr",
     "output_type": "stream",
     "text": [
      "\u001b[32m[I 2022-01-07 00:43:59,326]\u001b[0m Trial 29 finished with value: -0.25019532081688445 and parameters: {'w_1': 0.9886250576272101, 'w_2': 0.5946383505538686, 'w_3': 0.33471509423367507}. Best is trial 23 with value: -0.2502994500348442.\u001b[0m\n"
     ]
    },
    {
     "name": "stdout",
     "output_type": "stream",
     "text": [
      "             MAP\n",
      "cutoff          \n",
      "10      0.250195\n",
      "CURRENT CONFIGURATION:\n",
      "SLIMElasticNetRecommender with weight alpha: 0.44978136825683707\n",
      "MultVAERecommender with weight beta: 0.5171101343027247\n",
      "EASE_R_Recommender with weight gamma: 0.03310849744043826\n",
      "Norm type: 2\n",
      "EvaluatorHoldout: Processed 4000 (29.3%) in 6.12 min. Users per second: 11\n",
      "EvaluatorHoldout: Processed 6000 (44.0%) in 11.97 min. Users per second: 8\n"
     ]
    }
   ],
   "source": [
    "study = optuna.create_study(direction='minimize')\n",
    "study.optimize(Objective(URM_train, recommender1, recommender2, recommender3, evaluator_validation), n_trials=500)\n",
    "\n",
    "print(study.best_params)"
   ]
  },
  {
   "cell_type": "code",
   "execution_count": null,
   "id": "16121e70",
   "metadata": {},
   "outputs": [],
   "source": [
    "ofp = \"../all_models/URM_all/\"\n",
    "\n",
    "recommender1a = MultiThreadSLIM_SLIM_S_ElasticNetRecommender(URM_all, ICM_all)\n",
    "recommender2a = MultVAERecommender_OptimizerMask(URM_all)\n",
    "\n",
    "model_init(recommender1a, 'SLIMall', models_to_combine_best['SLIM_all'])\n",
    "model_init(recommender2a, 'Neural', models_to_combine_best['Neural'])"
   ]
  },
  {
   "cell_type": "code",
   "execution_count": null,
   "id": "1b1b6923",
   "metadata": {},
   "outputs": [],
   "source": [
    "recommender_final = ItemKNNScoresHybridTwoRecommender(URM_all, recommender1a, recommender2a)\n",
    "recommender_final.fit(0.517796)"
   ]
  },
  {
   "cell_type": "code",
   "execution_count": null,
   "id": "97eacc36",
   "metadata": {},
   "outputs": [],
   "source": [
    "import pandas as pd\n",
    "K=10\n",
    "\n",
    "user_test_path = '../data/data_target_users_test.csv'\n",
    "user_test_dataframe = pd.read_csv(filepath_or_buffer=user_test_path,\n",
    "                                sep=\",\",\n",
    "                                dtype={0:int})\n",
    "\n",
    "subm_set = user_test_dataframe.to_numpy().T[0]\n",
    "\n",
    "\n",
    "subm_res = {\"user_id\":[], \"item_list\":[]}\n",
    "\n",
    "for user_id in subm_set:\n",
    "    subm_res[\"user_id\"].append(user_id)\n",
    "    res = recommender_final.recommend(user_id, K)\n",
    "    print(\"USER\", user_id, \"RECOMMENDED!\")\n",
    "    res = ' '.join(map(str, res))\n",
    "    print(res)\n",
    "    subm_res[\"item_list\"].append(res)\n",
    "\n",
    "\n",
    "# print(subm_res)\n",
    "\n",
    "submission = pd.DataFrame.from_dict(subm_res)\n",
    "# submission\n",
    "\n",
    "from datetime import datetime\n",
    "now = datetime.now() # current date and time\n",
    "\n",
    "\n",
    "submission.to_csv('../subs/submission {:%Y_%m_%d %H_%M_%S}.csv'.format(now), index=False)"
   ]
  },
  {
   "cell_type": "code",
   "execution_count": null,
   "id": "ba324850",
   "metadata": {},
   "outputs": [],
   "source": []
  }
 ],
 "metadata": {
  "kernelspec": {
   "display_name": "Python 3 (ipykernel)",
   "language": "python",
   "name": "python3"
  },
  "language_info": {
   "codemirror_mode": {
    "name": "ipython",
    "version": 3
   },
   "file_extension": ".py",
   "mimetype": "text/x-python",
   "name": "python",
   "nbconvert_exporter": "python",
   "pygments_lexer": "ipython3",
   "version": "3.8.12"
  }
 },
 "nbformat": 4,
 "nbformat_minor": 5
}
