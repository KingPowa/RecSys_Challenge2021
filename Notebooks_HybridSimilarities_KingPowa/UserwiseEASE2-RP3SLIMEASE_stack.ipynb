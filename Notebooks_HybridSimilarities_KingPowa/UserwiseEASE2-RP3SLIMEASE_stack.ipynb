{
 "cells": [
  {
   "cell_type": "code",
   "execution_count": 1,
   "id": "7e809989",
   "metadata": {},
   "outputs": [],
   "source": [
    "import sys\n",
    "sys.path.append('../RecSysRep/')"
   ]
  },
  {
   "cell_type": "code",
   "execution_count": 2,
   "id": "bc728eee",
   "metadata": {},
   "outputs": [],
   "source": [
    "import Basics.Load as ld\n",
    "import scipy.sparse as sps\n",
    "\n",
    "URM_all, ICM1, ICM2, ICM3, ICM4 = ld.getCOOs()\n",
    "ICML = ld.getICMlength('5km')\n",
    "ICM_weighted = ld.getICMselected('7')\n",
    "ICM_gen = sps.hstack([ICM1, ICM2])\n",
    "ICM_all = sps.hstack([ICM1, ICM2, ICM3, ICML])\n",
    "# URM_train, URM_val = ld.getSplit(URM_train_val, 5678, 0.8)"
   ]
  },
  {
   "cell_type": "code",
   "execution_count": 3,
   "id": "09a0a841",
   "metadata": {},
   "outputs": [
    {
     "name": "stdout",
     "output_type": "stream",
     "text": [
      "Warning: 1 (0.01 %) of 13650 users have no sampled items\n",
      "EvaluatorHoldout: Ignoring 13649 ( 0.0%) Users that have less than 1 test interactions\n"
     ]
    }
   ],
   "source": [
    "from Evaluation.Evaluator import EvaluatorHoldout\n",
    "from Data_manager.split_functions.split_train_validation_random_holdout import split_train_in_two_percentage_global_sample\n",
    "\n",
    "seed = 6180\n",
    "URM_train, URM_validation = split_train_in_two_percentage_global_sample(URM_all, train_percentage = 0.7, seed=seed)\n",
    "# URM_train, URM_validation = split_train_in_two_percentage_global_sample(URM_train_validation, train_percentage = 0.8)\n",
    "\n",
    "evaluator_validation = EvaluatorHoldout(URM_validation, cutoff_list=[10])\n",
    "# evaluator_test = EvaluatorHoldout(URM_test, cutoff_list=[10])"
   ]
  },
  {
   "cell_type": "code",
   "execution_count": 10,
   "id": "2d0f462a",
   "metadata": {},
   "outputs": [],
   "source": [
    "import os\n",
    "\n",
    "ofp = \"../models_temp/Similarity_Hybrid/seed6180/\"\n",
    "\n",
    "models_to_combine_best = {\n",
    "                            'EASE': {\"topK\": None, \"normalize_matrix\": False, \"l2_norm\": 3749.2876352484},\n",
    "                            'IALS_Hyb' : {\"num_factors\": 28, \"epochs\": 10, \"confidence_scaling\": \"linear\", \"alpha\": 0.43657990940994623, \"epsilon\": 0.35472063248578317, \"reg\": 0.0001698292271931609, \"mw\": 0.06122362507952762},\n",
    "                            'RP3ICMnew': {'alpha': 1.029719677583138, 'beta': 1.0630164752134375, 'topK': 6964, 'normalize_similarity': True},\n",
    "                            'RP3ICM' : {\"topK\": 2550, \"alpha\": 1.3058102610510849, \"beta\": 0.5150718337969987, \"normalize_similarity\": True, \"implicit\": True},\n",
    "                            'IALS' :  {'num_factors': 34, 'epochs': 599, 'confidence_scaling': 'linear', 'alpha': 0.003519435539271083, 'epsilon': 0.09222402080721787, 'reg': 2.4127708108457617e-05},\n",
    "                            'SLIMgensub': {\"l1_ratio\" : 0.025887359156206147, \"topK\": 2140, \"alpha\": 0.009567288586539689, \"workers\": 8, \"mw\": 1},\n",
    "                            'SLIMBPR' : {\"epochs\": 440, \"lambda_i\": 0.007773815998802306, \"lambda_j\": 0.003342522366982381, \"learning_rate\": 0.010055161410725193, \"topK\": 4289, \"random_seed\": 1234, \"sgd_mode\": \"sgd\"},\n",
    "                            'SLIMweig': {'l1_ratio': 0.0005247075138160404, 'topK': 4983, 'alpha': 0.06067400905430761, 'workers': 8, 'mw': 2.308619939318322},\n",
    "                            'SLIMER': {'topK': 6000, 'l1_ratio': 0.0005495104968035837, 'alpha': 0.08007142704041009, 'workers': 8},\n",
    "                            'P3alpha': {'topK': 4834, 'alpha': 1.764994849187595, 'normalize_similarity': True, 'implicit': True},\n",
    "                            'RP3beta': {\"topK\": 1049, \"alpha\": 1.1626473723475605, \"beta\": 0.6765017195261293, \"normalize_similarity\": True, \"implicit\": True},\n",
    "                            'icm_all' : {\"shrink\": 5675, \"topK\": 2310, \"feature_weighting\": \"BM25\", \"normalize\": False},\n",
    "                            'icm_weighted': {\"shrink\": 4000, \"topK\": 985, \"feature_weighting\": \"TF-IDF\", \"normalize\": True},\n",
    "                            'SLIM_all' : {'l1_ratio': 0.0001043005302985496, 'topK': 1135, 'alpha': 0.06322495726710943, 'workers': 8, 'mw': 1.2937257828415842},\n",
    "                            'SLIM_all2' : {'topK': 4997, 'l1_ratio': 0.00036065147205858187, 'alpha': 0.03203200564199538, 'mw': 1.0785132020354402, 'workers': 8},\n",
    "                            'UserKNN' : {\"topK\": 469, \"similarity\": \"cosine\", \"shrink\": 588, \"normalize\": True, \"feature_weighting\": \"TF-IDF\", \"URM_bias\": False},\n",
    "                            'SLIM_BPR_Hyb' : {\"epochs\": 1443, \"lambda_i\": 8.900837513818856e-05, \"lambda_j\": 1.2615223007492727e-05, \"learning_rate\": 0.0037706733838839264, \"topK\": 6181, \"random_seed\": 1234, \"sgd_mode\": \"sgd\"},\n",
    "                            'Neural': {\"epochs\": 295, \"learning_rate\": 9.598708662230564e-05, \"l2_reg\": 1.4122381520119457e-05, \"dropout\": 0.5759445339123964, \"total_anneal_steps\": 147387, \"anneal_cap\": 0.4376000433422989, \"batch_size\": 256, \"encoding_size\": 185, \"next_layer_size_multiplier\": 6, \"max_n_hidden_layers\": 1, \"max_layer_size\": 5000.0},\n",
    "                            'EASE_stk': {\"topK\": None, \"normalize_matrix\": False, 'mw': 4.0, \"l2_norm\": 3749.2876352484},\n",
    "                         }\n"
   ]
  },
  {
   "cell_type": "code",
   "execution_count": 5,
   "id": "8e74cf30",
   "metadata": {},
   "outputs": [],
   "source": [
    "def model_init(recommender, name, args, seed):\n",
    "    path_name = ofp + name + str(seed) + \".zip\"\n",
    "    print(path_name)\n",
    "    if os.path.exists(path_name):\n",
    "        print(\"Model found!\")\n",
    "        recommender.load_model(ofp, name + str(seed))\n",
    "    else:\n",
    "        print(\"Model does not exists, creating...\")\n",
    "        if not os.path.exists(ofp):\n",
    "            print(\"Main folder does not exist, creating...\")\n",
    "            os.makedirs(ofp)\n",
    "        recommender.fit(**args)\n",
    "        recommender.save_model(ofp, name + str(seed))"
   ]
  },
  {
   "cell_type": "code",
   "execution_count": 6,
   "id": "4d9bade9",
   "metadata": {},
   "outputs": [],
   "source": [
    "from Recommenders.NonPersonalizedRecommender import TopPop\n",
    "from Recommenders.KNN.ItemKNNCBFRecommender import ItemKNNCBFRecommender\n",
    "from Recommenders.EASE_R.EASE_R_Recommender import EASE_R_Recommender\n",
    "from Recommenders.SLIM.Cython.SLIM_BPR_Cython import SLIM_BPR_Cython\n",
    "from Recommenders.SLIM.Cython.SLIM_BPR_Cython import SLIM_BPR_Cython_Hybrid\n",
    "from Recommenders.SLIM.SLIMElasticNetRecommender import MultiThreadSLIM_SLIMElasticNetRecommender\n",
    "from Recommenders.SLIM.SLIMElasticNetRecommender import SLIMElasticNetRecommender\n",
    "from Recommenders.SLIM.SLIMElasticNetRecommender import MultiThreadSLIM_SLIM_S_ElasticNetRecommender\n",
    "from Recommenders.GraphBased.P3alphaRecommender import P3alphaRecommender\n",
    "from Recommenders.GraphBased.RP3betaRecommender import RP3betaRecommender\n",
    "from Recommenders.GraphBased.RP3betaRecommender import RP3betaRecommenderICM\n",
    "from Recommenders.MatrixFactorization.IALSRecommender import IALSRecommender\n",
    "from Recommenders.MatrixFactorization.IALSRecommender import IALSRecommender_Hybrid\n",
    "from Recommenders.KNN.UserKNNCFRecommender import UserKNNCFRecommender\n",
    "from Recommenders.Neural.MultVAERecommender import MultVAERecommender\n",
    "from Recommenders.MatrixFactorization.PureSVDRecommender import PureSVDRecommender\n",
    "from Recommenders.EASE_R.EASE_R_Recommender import EASE_R_Recommender_Hybrid"
   ]
  },
  {
   "cell_type": "code",
   "execution_count": 7,
   "id": "72a52763",
   "metadata": {},
   "outputs": [],
   "source": [
    "from Recommenders.KNN.ItemKNNSimilarityHybridRecommender import ItemKNNSimilarityHybridRecommender\n",
    "from Recommenders.KNN.ItemKNNSimilarityHybridRecommenderNormal import ItemKNNSimilarityHybridRecommenderNormal\n",
    "from Recommenders.KNN.ItemKNNScoresHybridMultipleRecommender import ItemKNNScoresHybridMultipleRecommender\n",
    "from Recommenders.KNN.ItemKNNScoresHybridMultipleRecommender import ItemKNNScoresHybridTwoRecommender\n",
    "from Recommenders.HybridScores.DifferentStructure import TwoDifferentModelRecommender"
   ]
  },
  {
   "cell_type": "code",
   "execution_count": 8,
   "id": "66f47bbc",
   "metadata": {},
   "outputs": [],
   "source": [
    "groups = ld.load_groups(5)"
   ]
  },
  {
   "cell_type": "code",
   "execution_count": 11,
   "id": "925f75e3",
   "metadata": {},
   "outputs": [
    {
     "name": "stdout",
     "output_type": "stream",
     "text": [
      "../models_temp/Similarity_Hybrid/seed6180/SLIMall6180.zip\n",
      "Model found!\n",
      "SLIMElasticNetRecommender: Loading model from file '../models_temp/Similarity_Hybrid/seed6180/SLIMall6180'\n",
      "SLIMElasticNetRecommender: Loading complete\n",
      "../models_temp/Similarity_Hybrid/seed6180/SLIMall26180.zip\n",
      "Model found!\n",
      "SLIMElasticNetRecommender: Loading model from file '../models_temp/Similarity_Hybrid/seed6180/SLIMall26180'\n",
      "SLIMElasticNetRecommender: Loading complete\n",
      "../models_temp/Similarity_Hybrid/seed6180/SLIMweig6180.zip\n",
      "Model found!\n",
      "SLIMElasticNetRecommender: Loading model from file '../models_temp/Similarity_Hybrid/seed6180/SLIMweig6180'\n",
      "SLIMElasticNetRecommender: Loading complete\n",
      "../models_temp/Similarity_Hybrid/seed6180/EASE6180.zip\n",
      "Model found!\n",
      "EASE_R_Recommender: Loading model from file '../models_temp/Similarity_Hybrid/seed6180/EASE6180'\n",
      "EASE_R_Recommender: Loading complete\n",
      "../models_temp/Similarity_Hybrid/seed6180/RP3beta6180.zip\n",
      "Model found!\n",
      "RP3betaRecommender: Loading model from file '../models_temp/Similarity_Hybrid/seed6180/RP3beta6180'\n",
      "RP3betaRecommender: Loading complete\n",
      "../models_temp/Similarity_Hybrid/seed6180/ICM_all6180.zip\n",
      "Model found!\n",
      "ItemKNNCBFRecommender: Loading model from file '../models_temp/Similarity_Hybrid/seed6180/ICM_all6180'\n",
      "ItemKNNCBFRecommender: Loading complete\n",
      "../models_temp/Similarity_Hybrid/seed6180/EASE_stacked6180.zip\n",
      "Model found!\n",
      "EASE_R_Recommender_Hybrid: Loading model from file '../models_temp/Similarity_Hybrid/seed6180/EASE_stacked6180'\n",
      "EASE_R_Recommender_Hybrid: Loading complete\n"
     ]
    }
   ],
   "source": [
    "recommender_slim_all = MultiThreadSLIM_SLIM_S_ElasticNetRecommender(URM_train, ICM_all)\n",
    "recommender_slim_all2 = MultiThreadSLIM_SLIM_S_ElasticNetRecommender(URM_train, ICM_all)\n",
    "recommender_slim_wei = MultiThreadSLIM_SLIM_S_ElasticNetRecommender(URM_train, ICM_weighted)\n",
    "recommender_ease = EASE_R_Recommender(URM_train)\n",
    "recommender_itemknn = ItemKNNCBFRecommender(URM_train, ICM_all)\n",
    "recommender_rp3 = RP3betaRecommender(URM_train)\n",
    "#recommender_svd = PureSVDRecommender(URM_train)\n",
    "recommender_ease_hyb = EASE_R_Recommender_Hybrid(URM_train, ICM_all)\n",
    "\n",
    "model_init(recommender_slim_all, 'SLIMall', models_to_combine_best['SLIM_all'], seed)\n",
    "model_init(recommender_slim_all2, 'SLIMall2', models_to_combine_best['SLIM_all2'], seed)\n",
    "model_init(recommender_slim_wei, 'SLIMweig', models_to_combine_best['SLIMweig'], seed)\n",
    "model_init(recommender_ease, 'EASE', models_to_combine_best['EASE'], seed)\n",
    "model_init(recommender_rp3, 'RP3beta', models_to_combine_best['RP3beta'], seed)\n",
    "model_init(recommender_itemknn, 'ICM_all', models_to_combine_best['icm_all'], seed)\n",
    "#model_init(recommender_svd, 'PureSVD6180', {'num_factors': 30})\n",
    "model_init(recommender_ease_hyb, 'EASE_stacked', models_to_combine_best['EASE_stk'], seed)\n",
    "\n",
    "recommender_slim_all.RECOMMENDER_NAME = 'SLIMall'\n",
    "recommender_slim_all2.RECOMMENDER_NAME = 'SLIMall2'\n",
    "recommender_slim_wei.RECOMMENDER_NAME = 'SLIMweig'\n",
    "recommender_ease.RECOMMENDER_NAME = 'EASE'\n",
    "recommender_itemknn.RECOMMENDER_NAME = 'KNN'\n",
    "recommender_rp3.RECOMMENDER_NAME = 'RP3'\n",
    "#recommender_svd.RECOMMENDER_NAME = 'SVD'\n",
    "recommender_ease_hyb.RECOMMENDER_NAME = 'EASE_Hybrid'"
   ]
  },
  {
   "cell_type": "code",
   "execution_count": 12,
   "id": "8d3dab4e",
   "metadata": {},
   "outputs": [
    {
     "name": "stdout",
     "output_type": "stream",
     "text": [
      "../models_temp/Similarity_Hybrid/seed6180/SLIMBPR6180.zip\n",
      "Model found!\n",
      "SLIM_BPR_Recommender: Loading model from file '../models_temp/Similarity_Hybrid/seed6180/SLIMBPR6180'\n",
      "SLIM_BPR_Recommender: Loading complete\n",
      "../models_temp/Similarity_Hybrid/seed6180/SLIMBPR_Hyb6180.zip\n",
      "Model found!\n",
      "SLIM_BPR_Recommender_Hybrid: Loading model from file '../models_temp/Similarity_Hybrid/seed6180/SLIMBPR_Hyb6180'\n",
      "SLIM_BPR_Recommender_Hybrid: Loading complete\n",
      "../models_temp/Similarity_Hybrid/seed6180/IALS_Hyb6180.zip\n",
      "Model found!\n",
      "IALSRecommender_Hybrid: Loading model from file '../models_temp/Similarity_Hybrid/seed6180/IALS_Hyb6180'\n",
      "IALSRecommender_Hybrid: Loading complete\n",
      "../models_temp/Similarity_Hybrid/seed6180/SLIMER6180.zip\n",
      "Model found!\n",
      "SLIMElasticNetRecommender: Loading model from file '../models_temp/Similarity_Hybrid/seed6180/SLIMER6180'\n",
      "SLIMElasticNetRecommender: Loading complete\n"
     ]
    }
   ],
   "source": [
    "recommender_slim_bpr = SLIM_BPR_Cython(URM_train)\n",
    "recommender_slim_bpr_hyb = SLIM_BPR_Cython_Hybrid(URM_train, ICM_weighted)\n",
    "recommender_ials_hyb = IALSRecommender_Hybrid(URM_train, ICM_weighted)\n",
    "#recommender_p3alpha = P3alphaRecommender(URM_train)\n",
    "recommender_slimer = MultiThreadSLIM_SLIMElasticNetRecommender(URM_train)\n",
    "\n",
    "model_init(recommender_slim_bpr, 'SLIMBPR', models_to_combine_best['SLIMBPR'], seed)\n",
    "model_init(recommender_slim_bpr_hyb, 'SLIMBPR_Hyb', models_to_combine_best['SLIM_BPR_Hyb'], seed)\n",
    "model_init(recommender_ials_hyb, 'IALS_Hyb', models_to_combine_best['IALS_Hyb'], seed)\n",
    "#model_init(recommender_p3alpha, 'P3alpha6180', models_to_combine_best['P3alpha'])\n",
    "model_init(recommender_slimer, 'SLIMER', models_to_combine_best['SLIMER'], seed)\n",
    "\n",
    "recommender_slim_bpr.RECOMMENDER_NAME = 'SLIMall'\n",
    "recommender_slim_bpr_hyb.RECOMMENDER_NAME = 'SLIMall2'\n",
    "recommender_ials_hyb.RECOMMENDER_NAME = 'IALS_Hyb'\n",
    "#recommender_p3alpha.RECOMMENDER_NAME = 'P3alpha'\n",
    "recommender_slimer.RECOMMENDER_NAME = 'SLIMER'"
   ]
  },
  {
   "cell_type": "code",
   "execution_count": null,
   "id": "8d9c6035",
   "metadata": {
    "scrolled": true
   },
   "outputs": [],
   "source": [
    "all_rec = [recommender_slim_all, recommender_slim_all2, recommender_slim_wei, recommender_ease, recommender_itemknn, recommender_rp3, recommender_svd, recommender_slim_bpr, recommender_slim_bpr_hyb, recommender_ials_hyb, recommender_slimer, recommender_slim_all2_ease]\n",
    "dict_res = rank_models(evaluator_validation, all_rec)\n",
    "dict_res2 = rank_models_group_wise(evaluators, all_rec)"
   ]
  },
  {
   "cell_type": "code",
   "execution_count": null,
   "id": "15c1c1fb",
   "metadata": {},
   "outputs": [],
   "source": [
    "for i in dict_res.keys():\n",
    "    dict_res[i] = {k: v for k, v in sorted(dict_res[i].items(), key=lambda item: item[1])}\n",
    "    print(i, dict_res[i])\n",
    "    \n",
    "dict_res2 = {k: v for k, v in sorted(dict_res2.items(), key=lambda item: item[1])}\n",
    "print(dict_res2)"
   ]
  },
  {
   "cell_type": "code",
   "execution_count": 13,
   "id": "67fae402",
   "metadata": {},
   "outputs": [],
   "source": [
    "from Recommenders.HybridScores.DifferentStructure import ThreeDifferentModelRecommender\n",
    "import optuna\n",
    "\n",
    "class Objective(object):\n",
    "    def __init__(self, URM_train, recommender1, recommender2, recommender3, evaluator):\n",
    "        # Hold this implementation specific arguments as the fields of the class.\n",
    "        self.URM_train = URM_train\n",
    "        self.evaluator = evaluator\n",
    "        self.recommender_1 = recommender1\n",
    "        self.recommender_2 = recommender2\n",
    "        self.recommender_3 = recommender3\n",
    "\n",
    "    def __call__(self, trial):\n",
    "        # Calculate an objective value by using the extra arguments.\n",
    "        w_1 = trial.suggest_uniform('w_1', 0, 1)\n",
    "        w_2 = trial.suggest_uniform('w_2', 0, 1)\n",
    "        w_3 = trial.suggest_uniform('w_3', 0, 1)\n",
    "\n",
    "        recommender_final = ThreeDifferentModelRecommender(self.URM_train.tocsr(), self.recommender_1, self.recommender_2, self.recommender_3)\n",
    "        recommender_final.fit(None, w_1, w_2, w_3)\n",
    "        result_dict, _ = self.evaluator.evaluateRecommender(recommender_final)\n",
    "\n",
    "        map_v = -result_dict.loc[10]['MAP']\n",
    "        if map_v >= -0.245: # minimum acceptable map\n",
    "            # Calculate the penalty.\n",
    "            trial.report(map_v, 0)\n",
    "\n",
    "            if trial.should_prune():\n",
    "                raise optuna.exceptions.TrialPruned()\n",
    "\n",
    "        return map_v"
   ]
  },
  {
   "cell_type": "code",
   "execution_count": null,
   "id": "5d040355",
   "metadata": {
    "scrolled": true
   },
   "outputs": [
    {
     "name": "stderr",
     "output_type": "stream",
     "text": [
      "\u001b[32m[I 2022-01-07 15:57:23,906]\u001b[0m A new study created in memory with name: no-name-c69ca0d1-a13a-4e39-a9f2-2617cf5d70e4\u001b[0m\n"
     ]
    },
    {
     "name": "stdout",
     "output_type": "stream",
     "text": [
      "CURRENT CONFIGURATION:\n",
      "SLIMER with weight alpha: 0.49210548975496793\n",
      "EASE_Hybrid with weight beta: 0.27718074879531224\n",
      "RP3 with weight gamma: 0.23071376144971983\n",
      "Norm type: None\n",
      "EvaluatorHoldout: Processed 13649 (100.0%) in 51.22 sec. Users per second: 267\n"
     ]
    },
    {
     "name": "stderr",
     "output_type": "stream",
     "text": [
      "\u001b[32m[I 2022-01-07 15:58:15,212]\u001b[0m Trial 0 finished with value: -0.3446512157992881 and parameters: {'w_1': 0.7928983691721041, 'w_2': 0.4466037633417541, 'w_3': 0.37173445329807553}. Best is trial 0 with value: -0.3446512157992881.\u001b[0m\n"
     ]
    },
    {
     "name": "stdout",
     "output_type": "stream",
     "text": [
      "             MAP\n",
      "cutoff          \n",
      "10      0.344651\n",
      "CURRENT CONFIGURATION:\n",
      "SLIMER with weight alpha: 0.33378432462105445\n",
      "EASE_Hybrid with weight beta: 0.5429413568928073\n",
      "RP3 with weight gamma: 0.1232743184861382\n",
      "Norm type: None\n",
      "EvaluatorHoldout: Processed 13649 (100.0%) in 51.53 sec. Users per second: 265\n"
     ]
    },
    {
     "name": "stderr",
     "output_type": "stream",
     "text": [
      "\u001b[32m[I 2022-01-07 15:59:06,827]\u001b[0m Trial 1 finished with value: -0.34403365791086643 and parameters: {'w_1': 0.47392389353026243, 'w_2': 0.7708956437944487, 'w_3': 0.17503112243382757}. Best is trial 0 with value: -0.3446512157992881.\u001b[0m\n"
     ]
    },
    {
     "name": "stdout",
     "output_type": "stream",
     "text": [
      "             MAP\n",
      "cutoff          \n",
      "10      0.344034\n",
      "CURRENT CONFIGURATION:\n",
      "SLIMER with weight alpha: 0.12905015732201966\n",
      "EASE_Hybrid with weight beta: 0.08155147670122755\n",
      "RP3 with weight gamma: 0.7893983659767528\n",
      "Norm type: None\n",
      "EvaluatorHoldout: Processed 13649 (100.0%) in 52.31 sec. Users per second: 261\n"
     ]
    },
    {
     "name": "stderr",
     "output_type": "stream",
     "text": [
      "\u001b[32m[I 2022-01-07 15:59:59,226]\u001b[0m Trial 2 finished with value: -0.3400276896848075 and parameters: {'w_1': 0.08620828671002789, 'w_2': 0.05447814424233943, 'w_3': 0.5273351236042212}. Best is trial 0 with value: -0.3446512157992881.\u001b[0m\n"
     ]
    },
    {
     "name": "stdout",
     "output_type": "stream",
     "text": [
      "             MAP\n",
      "cutoff          \n",
      "10      0.340028\n",
      "CURRENT CONFIGURATION:\n",
      "SLIMER with weight alpha: 0.21832885956443454\n",
      "EASE_Hybrid with weight beta: 0.17285955107776946\n",
      "RP3 with weight gamma: 0.6088115893577959\n",
      "Norm type: None\n",
      "EvaluatorHoldout: Processed 13649 (100.0%) in 53.53 sec. Users per second: 255\n"
     ]
    },
    {
     "name": "stderr",
     "output_type": "stream",
     "text": [
      "\u001b[32m[I 2022-01-07 16:00:52,867]\u001b[0m Trial 3 finished with value: -0.3432721508756392 and parameters: {'w_1': 0.23024736142259705, 'w_2': 0.18229589808581814, 'w_3': 0.6420464171927771}. Best is trial 0 with value: -0.3446512157992881.\u001b[0m\n"
     ]
    },
    {
     "name": "stdout",
     "output_type": "stream",
     "text": [
      "             MAP\n",
      "cutoff          \n",
      "10      0.343272\n",
      "CURRENT CONFIGURATION:\n",
      "SLIMER with weight alpha: 0.36220961133629\n",
      "EASE_Hybrid with weight beta: 0.3169798980571448\n",
      "RP3 with weight gamma: 0.32081049060656525\n",
      "Norm type: None\n",
      "EvaluatorHoldout: Processed 13649 (100.0%) in 1.02 min. Users per second: 222\n"
     ]
    },
    {
     "name": "stderr",
     "output_type": "stream",
     "text": [
      "\u001b[32m[I 2022-01-07 16:01:54,588]\u001b[0m Trial 4 finished with value: -0.3446063378095041 and parameters: {'w_1': 0.8509558540196597, 'w_2': 0.7446955890075724, 'w_3': 0.7536949779035975}. Best is trial 0 with value: -0.3446512157992881.\u001b[0m\n"
     ]
    },
    {
     "name": "stdout",
     "output_type": "stream",
     "text": [
      "             MAP\n",
      "cutoff          \n",
      "10      0.344606\n",
      "CURRENT CONFIGURATION:\n",
      "SLIMER with weight alpha: 0.19341558651736993\n",
      "EASE_Hybrid with weight beta: 0.157913476622509\n",
      "RP3 with weight gamma: 0.648670936860121\n",
      "Norm type: None\n",
      "EvaluatorHoldout: Processed 13649 (100.0%) in 1.78 min. Users per second: 128\n"
     ]
    },
    {
     "name": "stderr",
     "output_type": "stream",
     "text": [
      "\u001b[32m[I 2022-01-07 16:03:42,031]\u001b[0m Trial 5 finished with value: -0.3429802171680711 and parameters: {'w_1': 0.12860317994663917, 'w_2': 0.10499761480319025, 'w_3': 0.4313051844541258}. Best is trial 0 with value: -0.3446512157992881.\u001b[0m\n"
     ]
    },
    {
     "name": "stdout",
     "output_type": "stream",
     "text": [
      "            MAP\n",
      "cutoff         \n",
      "10      0.34298\n",
      "CURRENT CONFIGURATION:\n",
      "SLIMER with weight alpha: 0.45175428138678614\n",
      "EASE_Hybrid with weight beta: 0.10404111470316474\n",
      "RP3 with weight gamma: 0.4442046039100491\n",
      "Norm type: None\n",
      "EvaluatorHoldout: Processed 13649 (100.0%) in 59.01 sec. Users per second: 231\n",
      "             MAP\n",
      "cutoff          \n",
      "10      0.344484\n"
     ]
    },
    {
     "name": "stderr",
     "output_type": "stream",
     "text": [
      "\u001b[32m[I 2022-01-07 16:04:41,559]\u001b[0m Trial 6 finished with value: -0.3444835774933239 and parameters: {'w_1': 0.7002300292750934, 'w_2': 0.16126623652745165, 'w_3': 0.6885278471412027}. Best is trial 0 with value: -0.3446512157992881.\u001b[0m\n"
     ]
    },
    {
     "name": "stdout",
     "output_type": "stream",
     "text": [
      "CURRENT CONFIGURATION:\n",
      "SLIMER with weight alpha: 0.18803738344656812\n",
      "EASE_Hybrid with weight beta: 0.43131474869074315\n",
      "RP3 with weight gamma: 0.38064786786268867\n",
      "Norm type: None\n",
      "EvaluatorHoldout: Processed 13649 (100.0%) in 1.19 min. Users per second: 191\n"
     ]
    },
    {
     "name": "stderr",
     "output_type": "stream",
     "text": [
      "\u001b[32m[I 2022-01-07 16:05:53,466]\u001b[0m Trial 7 finished with value: -0.3432426557210432 and parameters: {'w_1': 0.23239923621079628, 'w_2': 0.5330706922470192, 'w_3': 0.4704504611536142}. Best is trial 0 with value: -0.3446512157992881.\u001b[0m\n"
     ]
    },
    {
     "name": "stdout",
     "output_type": "stream",
     "text": [
      "             MAP\n",
      "cutoff          \n",
      "10      0.343243\n",
      "CURRENT CONFIGURATION:\n",
      "SLIMER with weight alpha: 0.6358826327413232\n",
      "EASE_Hybrid with weight beta: 0.2048606224959128\n",
      "RP3 with weight gamma: 0.159256744762764\n",
      "Norm type: None\n",
      "EvaluatorHoldout: Processed 13649 (100.0%) in 1.64 min. Users per second: 139\n"
     ]
    },
    {
     "name": "stderr",
     "output_type": "stream",
     "text": [
      "\u001b[32m[I 2022-01-07 16:07:32,250]\u001b[0m Trial 8 finished with value: -0.3443743567468783 and parameters: {'w_1': 0.8939179658891818, 'w_2': 0.28799118189918327, 'w_3': 0.22388166935575926}. Best is trial 0 with value: -0.3446512157992881.\u001b[0m\n"
     ]
    },
    {
     "name": "stdout",
     "output_type": "stream",
     "text": [
      "             MAP\n",
      "cutoff          \n",
      "10      0.344374\n",
      "CURRENT CONFIGURATION:\n",
      "SLIMER with weight alpha: 0.6255638424295156\n",
      "EASE_Hybrid with weight beta: 0.20697077599823016\n",
      "RP3 with weight gamma: 0.16746538157225424\n",
      "Norm type: None\n",
      "EvaluatorHoldout: Processed 13649 (100.0%) in 1.14 min. Users per second: 200\n"
     ]
    },
    {
     "name": "stderr",
     "output_type": "stream",
     "text": [
      "\u001b[32m[I 2022-01-07 16:08:40,772]\u001b[0m Trial 9 finished with value: -0.34445266936237295 and parameters: {'w_1': 0.8481805854210672, 'w_2': 0.2806245854451076, 'w_3': 0.2270605743900891}. Best is trial 0 with value: -0.3446512157992881.\u001b[0m\n"
     ]
    },
    {
     "name": "stdout",
     "output_type": "stream",
     "text": [
      "             MAP\n",
      "cutoff          \n",
      "10      0.344453\n",
      "CURRENT CONFIGURATION:\n",
      "SLIMER with weight alpha: 0.2752938493845199\n",
      "EASE_Hybrid with weight beta: 0.2497165207988092\n",
      "RP3 with weight gamma: 0.4749896298166709\n",
      "Norm type: None\n",
      "EvaluatorHoldout: Processed 13649 (100.0%) in 1.81 min. Users per second: 126\n"
     ]
    },
    {
     "name": "stderr",
     "output_type": "stream",
     "text": [
      "\u001b[32m[I 2022-01-07 16:10:29,905]\u001b[0m Trial 10 finished with value: -0.3440857694092374 and parameters: {'w_1': 0.568107701596799, 'w_2': 0.5153252751521082, 'w_3': 0.9802081211794667}. Best is trial 0 with value: -0.3446512157992881.\u001b[0m\n"
     ]
    },
    {
     "name": "stdout",
     "output_type": "stream",
     "text": [
      "             MAP\n",
      "cutoff          \n",
      "10      0.344086\n",
      "CURRENT CONFIGURATION:\n",
      "SLIMER with weight alpha: 0.3405623148342256\n",
      "EASE_Hybrid with weight beta: 0.3458875429979515\n",
      "RP3 with weight gamma: 0.31355014216782295\n",
      "Norm type: None\n",
      "EvaluatorHoldout: Processed 13649 (100.0%) in 57.62 sec. Users per second: 237\n"
     ]
    },
    {
     "name": "stderr",
     "output_type": "stream",
     "text": [
      "\u001b[32m[I 2022-01-07 16:11:27,879]\u001b[0m Trial 11 finished with value: -0.34423684158499956 and parameters: {'w_1': 0.950503257381753, 'w_2': 0.9653658728134878, 'w_3': 0.8751127723221483}. Best is trial 0 with value: -0.3446512157992881.\u001b[0m\n"
     ]
    },
    {
     "name": "stdout",
     "output_type": "stream",
     "text": [
      "             MAP\n",
      "cutoff          \n",
      "10      0.344237\n",
      "CURRENT CONFIGURATION:\n",
      "SLIMER with weight alpha: 0.503112403157209\n",
      "EASE_Hybrid with weight beta: 0.4695036017737502\n",
      "RP3 with weight gamma: 0.02738399506904074\n",
      "Norm type: None\n",
      "EvaluatorHoldout: Processed 13649 (100.0%) in 1.40 min. Users per second: 162\n",
      "             MAP\n",
      "cutoff          \n",
      "10      0.344365\n"
     ]
    },
    {
     "name": "stderr",
     "output_type": "stream",
     "text": [
      "\u001b[32m[I 2022-01-07 16:12:52,667]\u001b[0m Trial 12 finished with value: -0.3443649398118609 and parameters: {'w_1': 0.7599895916387309, 'w_2': 0.7092209381954948, 'w_3': 0.04136560955237323}. Best is trial 0 with value: -0.3446512157992881.\u001b[0m\n"
     ]
    },
    {
     "name": "stdout",
     "output_type": "stream",
     "text": [
      "CURRENT CONFIGURATION:\n",
      "SLIMER with weight alpha: 0.28088030113219686\n",
      "EASE_Hybrid with weight beta: 0.3471501834153837\n",
      "RP3 with weight gamma: 0.3719695154524194\n",
      "Norm type: None\n",
      "EvaluatorHoldout: Processed 13649 (100.0%) in 1.26 min. Users per second: 180\n"
     ]
    },
    {
     "name": "stderr",
     "output_type": "stream",
     "text": [
      "\u001b[32m[I 2022-01-07 16:14:08,722]\u001b[0m Trial 13 finished with value: -0.3439821162548109 and parameters: {'w_1': 0.5732942989808992, 'w_2': 0.7085552822322851, 'w_3': 0.7592130944889366}. Best is trial 0 with value: -0.3446512157992881.\u001b[0m\n"
     ]
    },
    {
     "name": "stdout",
     "output_type": "stream",
     "text": [
      "             MAP\n",
      "cutoff          \n",
      "10      0.343982\n",
      "CURRENT CONFIGURATION:\n",
      "SLIMER with weight alpha: 0.5566983326893522\n",
      "EASE_Hybrid with weight beta: 0.22493358794318835\n",
      "RP3 with weight gamma: 0.21836807936745944\n",
      "Norm type: None\n",
      "EvaluatorHoldout: Processed 13649 (100.0%) in 1.59 min. Users per second: 143\n",
      "             MAP\n",
      "cutoff          \n",
      "10      0.344851\n"
     ]
    },
    {
     "name": "stderr",
     "output_type": "stream",
     "text": [
      "\u001b[32m[I 2022-01-07 16:15:44,525]\u001b[0m Trial 14 finished with value: -0.3448507710896915 and parameters: {'w_1': 0.9911151162031596, 'w_2': 0.400459397956754, 'w_3': 0.38877052731916667}. Best is trial 14 with value: -0.3448507710896915.\u001b[0m\n"
     ]
    },
    {
     "name": "stdout",
     "output_type": "stream",
     "text": [
      "CURRENT CONFIGURATION:\n",
      "SLIMER with weight alpha: 0.5753168085813812\n",
      "EASE_Hybrid with weight beta: 0.2239713856573532\n",
      "RP3 with weight gamma: 0.20071180576126554\n",
      "Norm type: None\n",
      "EvaluatorHoldout: Processed 13649 (100.0%) in 1.38 min. Users per second: 165\n"
     ]
    },
    {
     "name": "stderr",
     "output_type": "stream",
     "text": [
      "\u001b[32m[I 2022-01-07 16:17:07,859]\u001b[0m Trial 15 finished with value: -0.34471928288252 and parameters: {'w_1': 0.9995954258631051, 'w_2': 0.3891434585048157, 'w_3': 0.3487306471201509}. Best is trial 14 with value: -0.3448507710896915.\u001b[0m\n"
     ]
    },
    {
     "name": "stdout",
     "output_type": "stream",
     "text": [
      "             MAP\n",
      "cutoff          \n",
      "10      0.344719\n",
      "CURRENT CONFIGURATION:\n",
      "SLIMER with weight alpha: 0.5722663446936458\n",
      "EASE_Hybrid with weight beta: 0.2222934158337292\n",
      "RP3 with weight gamma: 0.20544023947262505\n",
      "Norm type: None\n",
      "EvaluatorHoldout: Processed 13649 (100.0%) in 58.31 sec. Users per second: 234\n"
     ]
    },
    {
     "name": "stderr",
     "output_type": "stream",
     "text": [
      "\u001b[32m[I 2022-01-07 16:18:06,643]\u001b[0m Trial 16 finished with value: -0.3447032982240708 and parameters: {'w_1': 0.9858349598247447, 'w_2': 0.38294165417864207, 'w_3': 0.3539089308760639}. Best is trial 14 with value: -0.3448507710896915.\u001b[0m\n"
     ]
    },
    {
     "name": "stdout",
     "output_type": "stream",
     "text": [
      "             MAP\n",
      "cutoff          \n",
      "10      0.344703\n",
      "CURRENT CONFIGURATION:\n",
      "SLIMER with weight alpha: 0.3631615992790372\n",
      "EASE_Hybrid with weight beta: 0.3270222965133779\n",
      "RP3 with weight gamma: 0.30981610420758493\n",
      "Norm type: None\n",
      "EvaluatorHoldout: Processed 13649 (100.0%) in 1.71 min. Users per second: 133\n"
     ]
    },
    {
     "name": "stderr",
     "output_type": "stream",
     "text": [
      "\u001b[32m[I 2022-01-07 16:19:49,590]\u001b[0m Trial 17 finished with value: -0.34460196804929144 and parameters: {'w_1': 0.6719195300294787, 'w_2': 0.605054797144444, 'w_3': 0.5732199977860951}. Best is trial 14 with value: -0.3448507710896915.\u001b[0m\n"
     ]
    },
    {
     "name": "stdout",
     "output_type": "stream",
     "text": [
      "             MAP\n",
      "cutoff          \n",
      "10      0.344602\n",
      "CURRENT CONFIGURATION:\n",
      "SLIMER with weight alpha: 0.3780320435906255\n",
      "EASE_Hybrid with weight beta: 0.346071560745842\n",
      "RP3 with weight gamma: 0.2758963956635327\n",
      "Norm type: None\n",
      "EvaluatorHoldout: Processed 13649 (100.0%) in 1.06 min. Users per second: 215\n"
     ]
    },
    {
     "name": "stderr",
     "output_type": "stream",
     "text": [
      "\u001b[32m[I 2022-01-07 16:20:53,483]\u001b[0m Trial 18 finished with value: -0.34466391804969854 and parameters: {'w_1': 0.4079058940887457, 'w_2': 0.3734197452255896, 'w_3': 0.29769901217915284}. Best is trial 14 with value: -0.3448507710896915.\u001b[0m\n"
     ]
    },
    {
     "name": "stdout",
     "output_type": "stream",
     "text": [
      "             MAP\n",
      "cutoff          \n",
      "10      0.344664\n",
      "CURRENT CONFIGURATION:\n",
      "SLIMER with weight alpha: 0.6939123066434595\n",
      "EASE_Hybrid with weight beta: 0.19874049661924184\n",
      "RP3 with weight gamma: 0.10734719673729878\n",
      "Norm type: None\n",
      "EvaluatorHoldout: Processed 13649 (100.0%) in 1.63 min. Users per second: 139\n"
     ]
    },
    {
     "name": "stderr",
     "output_type": "stream",
     "text": [
      "\u001b[32m[I 2022-01-07 16:22:31,979]\u001b[0m Trial 19 finished with value: -0.3441500540187282 and parameters: {'w_1': 0.9954342444585798, 'w_2': 0.28509812292051906, 'w_3': 0.15399218987168647}. Best is trial 14 with value: -0.3448507710896915.\u001b[0m\n"
     ]
    },
    {
     "name": "stdout",
     "output_type": "stream",
     "text": [
      "            MAP\n",
      "cutoff         \n",
      "10      0.34415\n",
      "CURRENT CONFIGURATION:\n",
      "SLIMER with weight alpha: 0.3585411334989219\n",
      "EASE_Hybrid with weight beta: 0.5765812234288097\n",
      "RP3 with weight gamma: 0.06487764307226859\n",
      "Norm type: None\n",
      "EvaluatorHoldout: Processed 13649 (100.0%) in 1.18 min. Users per second: 192\n"
     ]
    },
    {
     "name": "stderr",
     "output_type": "stream",
     "text": [
      "\u001b[32m[I 2022-01-07 16:23:43,382]\u001b[0m Trial 20 finished with value: -0.3439564035739609 and parameters: {'w_1': 0.37863535097783, 'w_2': 0.6088953637472962, 'w_3': 0.06851367070650671}. Best is trial 14 with value: -0.3448507710896915.\u001b[0m\n"
     ]
    },
    {
     "name": "stdout",
     "output_type": "stream",
     "text": [
      "             MAP\n",
      "cutoff          \n",
      "10      0.343956\n",
      "CURRENT CONFIGURATION:\n",
      "SLIMER with weight alpha: 0.570376907377221\n",
      "EASE_Hybrid with weight beta: 0.2233390670127676\n",
      "RP3 with weight gamma: 0.2062840256100115\n",
      "Norm type: None\n",
      "EvaluatorHoldout: Processed 13649 (100.0%) in 4.99 min. Users per second: 46\n"
     ]
    },
    {
     "name": "stderr",
     "output_type": "stream",
     "text": [
      "\u001b[32m[I 2022-01-07 16:28:43,408]\u001b[0m Trial 21 finished with value: -0.3447320636316185 and parameters: {'w_1': 0.9971872079077154, 'w_2': 0.39046261826284834, 'w_3': 0.3606453712859872}. Best is trial 14 with value: -0.3448507710896915.\u001b[0m\n"
     ]
    },
    {
     "name": "stdout",
     "output_type": "stream",
     "text": [
      "             MAP\n",
      "cutoff          \n",
      "10      0.344732\n",
      "CURRENT CONFIGURATION:\n",
      "SLIMER with weight alpha: 0.5578421564026973\n",
      "EASE_Hybrid with weight beta: 0.23877864483625222\n",
      "RP3 with weight gamma: 0.20337919876105054\n",
      "Norm type: None\n",
      "EvaluatorHoldout: Processed 13649 (100.0%) in 3.23 min. Users per second: 71\n"
     ]
    },
    {
     "name": "stderr",
     "output_type": "stream",
     "text": [
      "\u001b[32m[I 2022-01-07 16:31:58,956]\u001b[0m Trial 22 finished with value: -0.34465752186043225 and parameters: {'w_1': 0.89765322202023, 'w_2': 0.3842313052657803, 'w_3': 0.32726819040897254}. Best is trial 14 with value: -0.3448507710896915.\u001b[0m\n"
     ]
    },
    {
     "name": "stdout",
     "output_type": "stream",
     "text": [
      "             MAP\n",
      "cutoff          \n",
      "10      0.344658\n",
      "CURRENT CONFIGURATION:\n",
      "SLIMER with weight alpha: 0.5287705839070389\n",
      "EASE_Hybrid with weight beta: 0.2456152926816925\n",
      "RP3 with weight gamma: 0.22561412341126866\n",
      "Norm type: None\n",
      "EvaluatorHoldout: Processed 13649 (100.0%) in 58.28 sec. Users per second: 234\n"
     ]
    },
    {
     "name": "stderr",
     "output_type": "stream",
     "text": [
      "\u001b[32m[I 2022-01-07 16:32:59,660]\u001b[0m Trial 23 finished with value: -0.34478996077391794 and parameters: {'w_1': 0.9973122193117027, 'w_2': 0.4632540842785172, 'w_3': 0.4255299537746496}. Best is trial 14 with value: -0.3448507710896915.\u001b[0m\n"
     ]
    },
    {
     "name": "stdout",
     "output_type": "stream",
     "text": [
      "            MAP\n",
      "cutoff         \n",
      "10      0.34479\n",
      "CURRENT CONFIGURATION:\n",
      "SLIMER with weight alpha: 0.45915836174921876\n",
      "EASE_Hybrid with weight beta: 0.28134266510099126\n",
      "RP3 with weight gamma: 0.25949897314979\n",
      "Norm type: None\n",
      "EvaluatorHoldout: Processed 13649 (100.0%) in 2.33 min. Users per second: 98\n"
     ]
    },
    {
     "name": "stderr",
     "output_type": "stream",
     "text": [
      "\u001b[32m[I 2022-01-07 16:35:21,556]\u001b[0m Trial 24 finished with value: -0.3446292914068962 and parameters: {'w_1': 0.7692411099225372, 'w_2': 0.47134139765280975, 'w_3': 0.4347460370078794}. Best is trial 14 with value: -0.3448507710896915.\u001b[0m\n"
     ]
    },
    {
     "name": "stdout",
     "output_type": "stream",
     "text": [
      "             MAP\n",
      "cutoff          \n",
      "10      0.344629\n",
      "CURRENT CONFIGURATION:\n",
      "SLIMER with weight alpha: 0.439574629074984\n",
      "EASE_Hybrid with weight beta: 0.2873344517520567\n",
      "RP3 with weight gamma: 0.2730909191729593\n",
      "Norm type: None\n",
      "EvaluatorHoldout: Processed 8000 (58.6%) in 8.31 min. Users per second: 16\n",
      "EvaluatorHoldout: Processed 9000 (65.9%) in 13.71 min. Users per second: 11\n",
      "EvaluatorHoldout: Processed 10000 (73.3%) in 18.97 min. Users per second: 9\n",
      "EvaluatorHoldout: Processed 12000 (87.9%) in 25.87 min. Users per second: 8\n",
      "EvaluatorHoldout: Processed 13000 (95.2%) in 31.38 min. Users per second: 7\n",
      "EvaluatorHoldout: Processed 13649 (100.0%) in 51.00 min. Users per second: 4\n"
     ]
    },
    {
     "name": "stderr",
     "output_type": "stream",
     "text": [
      "\u001b[32m[I 2022-01-07 17:26:24,232]\u001b[0m Trial 25 finished with value: -0.3447113079974481 and parameters: {'w_1': 0.8991844461811691, 'w_2': 0.5877652002144327, 'w_3': 0.5586289350465574}. Best is trial 14 with value: -0.3448507710896915.\u001b[0m\n"
     ]
    },
    {
     "name": "stdout",
     "output_type": "stream",
     "text": [
      "             MAP\n",
      "cutoff          \n",
      "10      0.344711\n",
      "CURRENT CONFIGURATION:\n",
      "SLIMER with weight alpha: 0.5788886797197754\n",
      "EASE_Hybrid with weight beta: 0.18834509302979663\n",
      "RP3 with weight gamma: 0.23276622725042798\n",
      "Norm type: None\n",
      "EvaluatorHoldout: Processed 1000 ( 7.3%) in 16.35 min. Users per second: 1\n",
      "EvaluatorHoldout: Processed 6000 (44.0%) in 21.37 min. Users per second: 5\n",
      "EvaluatorHoldout: Processed 13649 (100.0%) in 21.93 min. Users per second: 10\n"
     ]
    },
    {
     "name": "stderr",
     "output_type": "stream",
     "text": [
      "\u001b[32m[I 2022-01-07 17:48:20,243]\u001b[0m Trial 26 finished with value: -0.344672369741608 and parameters: {'w_1': 0.6573936187084525, 'w_2': 0.21388717142089317, 'w_3': 0.264332397239734}. Best is trial 14 with value: -0.3448507710896915.\u001b[0m\n"
     ]
    },
    {
     "name": "stdout",
     "output_type": "stream",
     "text": [
      "             MAP\n",
      "cutoff          \n",
      "10      0.344672\n",
      "CURRENT CONFIGURATION:\n",
      "SLIMER with weight alpha: 0.531243136248471\n",
      "EASE_Hybrid with weight beta: 0.19789437908108248\n",
      "RP3 with weight gamma: 0.27086248467044666\n",
      "Norm type: None\n",
      "EvaluatorHoldout: Processed 13649 (100.0%) in 51.04 sec. Users per second: 267\n"
     ]
    },
    {
     "name": "stderr",
     "output_type": "stream",
     "text": [
      "\u001b[32m[I 2022-01-07 17:49:11,388]\u001b[0m Trial 27 finished with value: -0.34480201759068735 and parameters: {'w_1': 0.824532679220167, 'w_2': 0.3071482179301398, 'w_3': 0.4204006695741993}. Best is trial 14 with value: -0.3448507710896915.\u001b[0m\n"
     ]
    },
    {
     "name": "stdout",
     "output_type": "stream",
     "text": [
      "             MAP\n",
      "cutoff          \n",
      "10      0.344802\n",
      "CURRENT CONFIGURATION:\n",
      "SLIMER with weight alpha: 0.4732151061002791\n",
      "EASE_Hybrid with weight beta: 0.17355346987989978\n",
      "RP3 with weight gamma: 0.353231424019821\n",
      "Norm type: None\n",
      "EvaluatorHoldout: Processed 13649 (100.0%) in 51.30 sec. Users per second: 266\n"
     ]
    },
    {
     "name": "stderr",
     "output_type": "stream",
     "text": [
      "\u001b[32m[I 2022-01-07 17:50:02,789]\u001b[0m Trial 28 finished with value: -0.3443545082086394 and parameters: {'w_1': 0.8199418044417338, 'w_2': 0.30071682713842507, 'w_3': 0.6120455739106516}. Best is trial 14 with value: -0.3448507710896915.\u001b[0m\n"
     ]
    },
    {
     "name": "stdout",
     "output_type": "stream",
     "text": [
      "             MAP\n",
      "cutoff          \n",
      "10      0.344355\n",
      "CURRENT CONFIGURATION:\n",
      "SLIMER with weight alpha: 0.4448905722813807\n",
      "EASE_Hybrid with weight beta: 0.27735248689368136\n",
      "RP3 with weight gamma: 0.277756940824938\n",
      "Norm type: None\n",
      "EvaluatorHoldout: Processed 13649 (100.0%) in 51.19 sec. Users per second: 267\n"
     ]
    },
    {
     "name": "stderr",
     "output_type": "stream",
     "text": [
      "\u001b[32m[I 2022-01-07 17:50:54,064]\u001b[0m Trial 29 finished with value: -0.34469373882847576 and parameters: {'w_1': 0.7317971523146091, 'w_2': 0.45621501722405766, 'w_3': 0.4568803004500391}. Best is trial 14 with value: -0.3448507710896915.\u001b[0m\n"
     ]
    },
    {
     "name": "stdout",
     "output_type": "stream",
     "text": [
      "             MAP\n",
      "cutoff          \n",
      "10      0.344694\n",
      "CURRENT CONFIGURATION:\n",
      "SLIMER with weight alpha: 0.6797950736306532\n",
      "EASE_Hybrid with weight beta: 0.007611545278326716\n",
      "RP3 with weight gamma: 0.3125933810910201\n",
      "Norm type: None\n",
      "EvaluatorHoldout: Processed 13649 (100.0%) in 51.14 sec. Users per second: 267\n"
     ]
    },
    {
     "name": "stderr",
     "output_type": "stream",
     "text": [
      "\u001b[32m[I 2022-01-07 17:51:45,307]\u001b[0m Trial 30 finished with value: -0.34379484746251643 and parameters: {'w_1': 0.9179788782884848, 'w_2': 0.01027844723752247, 'w_3': 0.4221185655285399}. Best is trial 14 with value: -0.3448507710896915.\u001b[0m\n"
     ]
    },
    {
     "name": "stdout",
     "output_type": "stream",
     "text": [
      "             MAP\n",
      "cutoff          \n",
      "10      0.343795\n",
      "CURRENT CONFIGURATION:\n",
      "SLIMER with weight alpha: 0.5718108552999959\n",
      "EASE_Hybrid with weight beta: 0.20279843488780466\n",
      "RP3 with weight gamma: 0.22539070981219947\n",
      "Norm type: None\n",
      "EvaluatorHoldout: Processed 13649 (100.0%) in 51.28 sec. Users per second: 266\n"
     ]
    },
    {
     "name": "stderr",
     "output_type": "stream",
     "text": [
      "\u001b[32m[I 2022-01-07 17:52:36,675]\u001b[0m Trial 31 finished with value: -0.34475410431836045 and parameters: {'w_1': 0.9389447967229779, 'w_2': 0.3330061565927554, 'w_3': 0.370103911540528}. Best is trial 14 with value: -0.3448507710896915.\u001b[0m\n"
     ]
    },
    {
     "name": "stdout",
     "output_type": "stream",
     "text": [
      "             MAP\n",
      "cutoff          \n",
      "10      0.344754\n",
      "CURRENT CONFIGURATION:\n",
      "SLIMER with weight alpha: 0.5237483150589508\n",
      "EASE_Hybrid with weight beta: 0.15168898425470412\n",
      "RP3 with weight gamma: 0.32456270068634513\n",
      "Norm type: None\n",
      "EvaluatorHoldout: Processed 13649 (100.0%) in 51.52 sec. Users per second: 265\n"
     ]
    },
    {
     "name": "stderr",
     "output_type": "stream",
     "text": [
      "\u001b[32m[I 2022-01-07 17:53:28,280]\u001b[0m Trial 32 finished with value: -0.3447230333753182 and parameters: {'w_1': 0.8206152026718896, 'w_2': 0.2376681374970273, 'w_3': 0.5085287699178236}. Best is trial 14 with value: -0.3448507710896915.\u001b[0m\n"
     ]
    },
    {
     "name": "stdout",
     "output_type": "stream",
     "text": [
      "             MAP\n",
      "cutoff          \n",
      "10      0.344723\n",
      "CURRENT CONFIGURATION:\n",
      "SLIMER with weight alpha: 0.6581715430710315\n",
      "EASE_Hybrid with weight beta: 0.2274155950823736\n",
      "RP3 with weight gamma: 0.11441286184659487\n",
      "Norm type: None\n",
      "EvaluatorHoldout: Processed 13649 (100.0%) in 51.09 sec. Users per second: 267\n"
     ]
    },
    {
     "name": "stderr",
     "output_type": "stream",
     "text": [
      "\u001b[32m[I 2022-01-07 17:54:19,462]\u001b[0m Trial 33 finished with value: -0.34423002964343274 and parameters: {'w_1': 0.9331877407137926, 'w_2': 0.3224409314139846, 'w_3': 0.1622201402950969}. Best is trial 14 with value: -0.3448507710896915.\u001b[0m\n"
     ]
    },
    {
     "name": "stdout",
     "output_type": "stream",
     "text": [
      "            MAP\n",
      "cutoff         \n",
      "10      0.34423\n",
      "CURRENT CONFIGURATION:\n",
      "SLIMER with weight alpha: 0.6198024861194891\n",
      "EASE_Hybrid with weight beta: 0.08683869300017291\n",
      "RP3 with weight gamma: 0.293358820880338\n",
      "Norm type: None\n",
      "EvaluatorHoldout: Processed 13649 (100.0%) in 51.39 sec. Users per second: 266\n"
     ]
    },
    {
     "name": "stderr",
     "output_type": "stream",
     "text": [
      "\u001b[32m[I 2022-01-07 17:55:10,990]\u001b[0m Trial 34 finished with value: -0.34406170520080187 and parameters: {'w_1': 0.8592225556624171, 'w_2': 0.1203831307569298, 'w_3': 0.40667877500950134}. Best is trial 14 with value: -0.3448507710896915.\u001b[0m\n"
     ]
    },
    {
     "name": "stdout",
     "output_type": "stream",
     "text": [
      "             MAP\n",
      "cutoff          \n",
      "10      0.344062\n",
      "CURRENT CONFIGURATION:\n",
      "SLIMER with weight alpha: 0.47413021277078055\n",
      "EASE_Hybrid with weight beta: 0.26831132649782297\n",
      "RP3 with weight gamma: 0.25755846073139654\n",
      "Norm type: None\n",
      "EvaluatorHoldout: Processed 13649 (100.0%) in 52.93 sec. Users per second: 258\n"
     ]
    },
    {
     "name": "stderr",
     "output_type": "stream",
     "text": [
      "\u001b[32m[I 2022-01-07 17:56:04,008]\u001b[0m Trial 35 finished with value: -0.34464827645958385 and parameters: {'w_1': 0.9387789017984804, 'w_2': 0.5312570379299878, 'w_3': 0.5099663392073723}. Best is trial 14 with value: -0.3448507710896915.\u001b[0m\n"
     ]
    },
    {
     "name": "stdout",
     "output_type": "stream",
     "text": [
      "             MAP\n",
      "cutoff          \n",
      "10      0.344648\n",
      "CURRENT CONFIGURATION:\n",
      "SLIMER with weight alpha: 0.5603776371689915\n",
      "EASE_Hybrid with weight beta: 0.2365360484038514\n",
      "RP3 with weight gamma: 0.20308631442715697\n",
      "Norm type: None\n",
      "EvaluatorHoldout: Processed 13649 (100.0%) in 51.23 sec. Users per second: 266\n"
     ]
    },
    {
     "name": "stderr",
     "output_type": "stream",
     "text": [
      "\u001b[32m[I 2022-01-07 17:56:55,314]\u001b[0m Trial 36 finished with value: -0.3446675667849394 and parameters: {'w_1': 0.7901230393393363, 'w_2': 0.33351184822853086, 'w_3': 0.28634828615585695}. Best is trial 14 with value: -0.3448507710896915.\u001b[0m\n"
     ]
    },
    {
     "name": "stdout",
     "output_type": "stream",
     "text": [
      "             MAP\n",
      "cutoff          \n",
      "10      0.344668\n",
      "CURRENT CONFIGURATION:\n",
      "SLIMER with weight alpha: 0.5132223578119697\n",
      "EASE_Hybrid with weight beta: 0.26031114585804127\n",
      "RP3 with weight gamma: 0.22646649632998905\n",
      "Norm type: None\n",
      "EvaluatorHoldout: Processed 13649 (100.0%) in 51.14 sec. Users per second: 267\n"
     ]
    },
    {
     "name": "stderr",
     "output_type": "stream",
     "text": [
      "\u001b[32m[I 2022-01-07 17:57:46,558]\u001b[0m Trial 37 finished with value: -0.3446961664730379 and parameters: {'w_1': 0.8691336105746545, 'w_2': 0.4408326383850074, 'w_3': 0.38351728180475725}. Best is trial 14 with value: -0.3448507710896915.\u001b[0m\n"
     ]
    },
    {
     "name": "stdout",
     "output_type": "stream",
     "text": [
      "             MAP\n",
      "cutoff          \n",
      "10      0.344696\n",
      "CURRENT CONFIGURATION:\n",
      "SLIMER with weight alpha: 0.5277082867709426\n",
      "EASE_Hybrid with weight beta: 0.09171312723795558\n",
      "RP3 with weight gamma: 0.38057858599110184\n",
      "Norm type: None\n",
      "EvaluatorHoldout: Processed 13649 (100.0%) in 50.95 sec. Users per second: 268\n"
     ]
    },
    {
     "name": "stderr",
     "output_type": "stream",
     "text": [
      "\u001b[32m[I 2022-01-07 17:58:37,602]\u001b[0m Trial 38 finished with value: -0.3442376469233771 and parameters: {'w_1': 0.945770978656293, 'w_2': 0.16437038469536225, 'w_3': 0.6820817310467373}. Best is trial 14 with value: -0.3448507710896915.\u001b[0m\n"
     ]
    },
    {
     "name": "stdout",
     "output_type": "stream",
     "text": [
      "             MAP\n",
      "cutoff          \n",
      "10      0.344238\n",
      "CURRENT CONFIGURATION:\n",
      "SLIMER with weight alpha: 0.38313158860341134\n",
      "EASE_Hybrid with weight beta: 0.2976409103225243\n",
      "RP3 with weight gamma: 0.3192275010740643\n",
      "Norm type: None\n",
      "EvaluatorHoldout: Processed 13649 (100.0%) in 51.14 sec. Users per second: 267\n"
     ]
    },
    {
     "name": "stderr",
     "output_type": "stream",
     "text": [
      "\u001b[32m[I 2022-01-07 17:59:28,848]\u001b[0m Trial 39 finished with value: -0.34458964957023613 and parameters: {'w_1': 0.5654609107488519, 'w_2': 0.43928588827821174, 'w_3': 0.47114536849184574}. Best is trial 14 with value: -0.3448507710896915.\u001b[0m\n"
     ]
    },
    {
     "name": "stdout",
     "output_type": "stream",
     "text": [
      "            MAP\n",
      "cutoff         \n",
      "10      0.34459\n",
      "CURRENT CONFIGURATION:\n",
      "SLIMER with weight alpha: 0.6710787880348206\n",
      "EASE_Hybrid with weight beta: 0.2272905575554373\n",
      "RP3 with weight gamma: 0.10163065440974217\n",
      "Norm type: None\n",
      "EvaluatorHoldout: Processed 13649 (100.0%) in 51.13 sec. Users per second: 267\n"
     ]
    },
    {
     "name": "stderr",
     "output_type": "stream",
     "text": [
      "\u001b[32m[I 2022-01-07 18:00:20,079]\u001b[0m Trial 40 finished with value: -0.3441438846034444 and parameters: {'w_1': 0.7140807548251916, 'w_2': 0.2418550784165209, 'w_3': 0.10814303135226094}. Best is trial 14 with value: -0.3448507710896915.\u001b[0m\n"
     ]
    },
    {
     "name": "stdout",
     "output_type": "stream",
     "text": [
      "             MAP\n",
      "cutoff          \n",
      "10      0.344144\n",
      "CURRENT CONFIGURATION:\n",
      "SLIMER with weight alpha: 0.581571162680664\n",
      "EASE_Hybrid with weight beta: 0.2016344766304118\n",
      "RP3 with weight gamma: 0.21679436068892424\n",
      "Norm type: None\n",
      "EvaluatorHoldout: Processed 13649 (100.0%) in 50.76 sec. Users per second: 269\n"
     ]
    },
    {
     "name": "stderr",
     "output_type": "stream",
     "text": [
      "\u001b[32m[I 2022-01-07 18:01:10,926]\u001b[0m Trial 41 finished with value: -0.34469225316815094 and parameters: {'w_1': 0.9934496436544392, 'w_2': 0.3444354050046367, 'w_3': 0.37033177398268635}. Best is trial 14 with value: -0.3448507710896915.\u001b[0m\n"
     ]
    },
    {
     "name": "stdout",
     "output_type": "stream",
     "text": [
      "             MAP\n",
      "cutoff          \n",
      "10      0.344692\n",
      "CURRENT CONFIGURATION:\n",
      "SLIMER with weight alpha: 0.029658575998397142\n",
      "EASE_Hybrid with weight beta: 0.6327312523116094\n",
      "RP3 with weight gamma: 0.33761017168999335\n",
      "Norm type: None\n",
      "EvaluatorHoldout: Processed 13649 (100.0%) in 51.41 sec. Users per second: 266\n"
     ]
    },
    {
     "name": "stderr",
     "output_type": "stream",
     "text": [
      "\u001b[32m[I 2022-01-07 18:02:02,442]\u001b[0m Trial 42 finished with value: -0.3409719125885168 and parameters: {'w_1': 0.020106734164981876, 'w_2': 0.4289538071144467, 'w_3': 0.22887943014969592}. Best is trial 14 with value: -0.3448507710896915.\u001b[0m\n"
     ]
    },
    {
     "name": "stdout",
     "output_type": "stream",
     "text": [
      "             MAP\n",
      "cutoff          \n",
      "10      0.340972\n",
      "CURRENT CONFIGURATION:\n",
      "SLIMER with weight alpha: 0.4865800041498774\n",
      "EASE_Hybrid with weight beta: 0.32768996255060223\n",
      "RP3 with weight gamma: 0.1857300332995204\n",
      "Norm type: None\n",
      "EvaluatorHoldout: Processed 13649 (100.0%) in 51.26 sec. Users per second: 266\n"
     ]
    },
    {
     "name": "stderr",
     "output_type": "stream",
     "text": [
      "\u001b[32m[I 2022-01-07 18:02:53,810]\u001b[0m Trial 43 finished with value: -0.3445838203159261 and parameters: {'w_1': 0.8310089939641541, 'w_2': 0.5596475477595844, 'w_3': 0.31720030992811227}. Best is trial 14 with value: -0.3448507710896915.\u001b[0m\n"
     ]
    },
    {
     "name": "stdout",
     "output_type": "stream",
     "text": [
      "             MAP\n",
      "cutoff          \n",
      "10      0.344584\n",
      "CURRENT CONFIGURATION:\n",
      "SLIMER with weight alpha: 0.480670883058209\n",
      "EASE_Hybrid with weight beta: 0.2451271782993878\n",
      "RP3 with weight gamma: 0.2742019386424033\n",
      "Norm type: None\n",
      "EvaluatorHoldout: Processed 13649 (100.0%) in 51.69 sec. Users per second: 264\n"
     ]
    },
    {
     "name": "stderr",
     "output_type": "stream",
     "text": [
      "\u001b[32m[I 2022-01-07 18:03:45,592]\u001b[0m Trial 44 finished with value: -0.3446926078659203 and parameters: {'w_1': 0.9594584082086401, 'w_2': 0.48929390272912543, 'w_3': 0.5473295030972449}. Best is trial 14 with value: -0.3448507710896915.\u001b[0m\n"
     ]
    },
    {
     "name": "stdout",
     "output_type": "stream",
     "text": [
      "             MAP\n",
      "cutoff          \n",
      "10      0.344693\n",
      "CURRENT CONFIGURATION:\n",
      "SLIMER with weight alpha: 0.49314236849193227\n",
      "EASE_Hybrid with weight beta: 0.360457875417637\n",
      "RP3 with weight gamma: 0.1463997560904307\n",
      "Norm type: None\n",
      "EvaluatorHoldout: Processed 13649 (100.0%) in 50.94 sec. Users per second: 268\n"
     ]
    },
    {
     "name": "stderr",
     "output_type": "stream",
     "text": [
      "\u001b[32m[I 2022-01-07 18:04:36,630]\u001b[0m Trial 45 finished with value: -0.3445731066989037 and parameters: {'w_1': 0.8908391583289079, 'w_2': 0.6511506835887038, 'w_3': 0.26446447076528234}. Best is trial 14 with value: -0.3448507710896915.\u001b[0m\n"
     ]
    },
    {
     "name": "stdout",
     "output_type": "stream",
     "text": [
      "             MAP\n",
      "cutoff          \n",
      "10      0.344573\n",
      "CURRENT CONFIGURATION:\n",
      "SLIMER with weight alpha: 0.4346742354773113\n",
      "EASE_Hybrid with weight beta: 0.38861985134049193\n",
      "RP3 with weight gamma: 0.17670591318219667\n",
      "Norm type: None\n",
      "EvaluatorHoldout: Processed 13649 (100.0%) in 51.29 sec. Users per second: 266\n"
     ]
    },
    {
     "name": "stderr",
     "output_type": "stream",
     "text": [
      "\u001b[32m[I 2022-01-07 18:05:28,005]\u001b[0m Trial 46 finished with value: -0.34459785413664856 and parameters: {'w_1': 0.9529970156134334, 'w_2': 0.8520255591614339, 'w_3': 0.3874170451325723}. Best is trial 14 with value: -0.3448507710896915.\u001b[0m\n"
     ]
    },
    {
     "name": "stdout",
     "output_type": "stream",
     "text": [
      "             MAP\n",
      "cutoff          \n",
      "10      0.344598\n",
      "CURRENT CONFIGURATION:\n",
      "SLIMER with weight alpha: 0.2158183859213677\n",
      "EASE_Hybrid with weight beta: 0.35439756129004035\n",
      "RP3 with weight gamma: 0.429784052788592\n",
      "Norm type: None\n",
      "EvaluatorHoldout: Processed 13649 (100.0%) in 51.10 sec. Users per second: 267\n"
     ]
    },
    {
     "name": "stderr",
     "output_type": "stream",
     "text": [
      "\u001b[32m[I 2022-01-07 18:06:19,201]\u001b[0m Trial 47 finished with value: -0.34367386644989417 and parameters: {'w_1': 0.24876063180330654, 'w_2': 0.4084923574962801, 'w_3': 0.4953857478557416}. Best is trial 14 with value: -0.3448507710896915.\u001b[0m\n"
     ]
    },
    {
     "name": "stdout",
     "output_type": "stream",
     "text": [
      "             MAP\n",
      "cutoff          \n",
      "10      0.343674\n",
      "CURRENT CONFIGURATION:\n",
      "SLIMER with weight alpha: 0.49803488899549125\n",
      "EASE_Hybrid with weight beta: 0.152114943251147\n",
      "RP3 with weight gamma: 0.3498501677533618\n",
      "Norm type: None\n",
      "EvaluatorHoldout: Processed 13649 (100.0%) in 51.05 sec. Users per second: 267\n"
     ]
    },
    {
     "name": "stderr",
     "output_type": "stream",
     "text": [
      "\u001b[32m[I 2022-01-07 18:07:10,342]\u001b[0m Trial 48 finished with value: -0.3444033082253851 and parameters: {'w_1': 0.8619271409444819, 'w_2': 0.26325866124728503, 'w_3': 0.6054703425673706}. Best is trial 14 with value: -0.3448507710896915.\u001b[0m\n"
     ]
    },
    {
     "name": "stdout",
     "output_type": "stream",
     "text": [
      "             MAP\n",
      "cutoff          \n",
      "10      0.344403\n",
      "CURRENT CONFIGURATION:\n",
      "SLIMER with weight alpha: 0.5808241672146136\n",
      "EASE_Hybrid with weight beta: 0.2872000961967164\n",
      "RP3 with weight gamma: 0.13197573658866993\n",
      "Norm type: None\n",
      "EvaluatorHoldout: Processed 13649 (100.0%) in 51.08 sec. Users per second: 267\n"
     ]
    },
    {
     "name": "stderr",
     "output_type": "stream",
     "text": [
      "\u001b[32m[I 2022-01-07 18:08:01,510]\u001b[0m Trial 49 finished with value: -0.34435177819876384 and parameters: {'w_1': 0.9995709642613847, 'w_2': 0.4942578034726296, 'w_3': 0.2271240105481}. Best is trial 14 with value: -0.3448507710896915.\u001b[0m\n"
     ]
    },
    {
     "name": "stdout",
     "output_type": "stream",
     "text": [
      "             MAP\n",
      "cutoff          \n",
      "10      0.344352\n",
      "CURRENT CONFIGURATION:\n",
      "SLIMER with weight alpha: 0.5917989945820866\n",
      "EASE_Hybrid with weight beta: 0.12693207060303477\n",
      "RP3 with weight gamma: 0.2812689348148786\n",
      "Norm type: None\n",
      "EvaluatorHoldout: Processed 13649 (100.0%) in 51.26 sec. Users per second: 266\n"
     ]
    },
    {
     "name": "stderr",
     "output_type": "stream",
     "text": [
      "\u001b[32m[I 2022-01-07 18:08:52,889]\u001b[0m Trial 50 finished with value: -0.3442280817130643 and parameters: {'w_1': 0.921637961363944, 'w_2': 0.19767761664566075, 'w_3': 0.43803407922457366}. Best is trial 14 with value: -0.3448507710896915.\u001b[0m\n"
     ]
    },
    {
     "name": "stdout",
     "output_type": "stream",
     "text": [
      "             MAP\n",
      "cutoff          \n",
      "10      0.344228\n",
      "CURRENT CONFIGURATION:\n",
      "SLIMER with weight alpha: 0.5644645797291953\n",
      "EASE_Hybrid with weight beta: 0.08684931479876869\n",
      "RP3 with weight gamma: 0.3486861054720359\n",
      "Norm type: None\n",
      "EvaluatorHoldout: Processed 13649 (100.0%) in 50.90 sec. Users per second: 268\n"
     ]
    },
    {
     "name": "stderr",
     "output_type": "stream",
     "text": [
      "\u001b[32m[I 2022-01-07 18:09:43,904]\u001b[0m Trial 51 finished with value: -0.34422204312892624 and parameters: {'w_1': 0.8187169893324693, 'w_2': 0.12596894843561088, 'w_3': 0.5057451764840359}. Best is trial 14 with value: -0.3448507710896915.\u001b[0m\n"
     ]
    },
    {
     "name": "stdout",
     "output_type": "stream",
     "text": [
      "             MAP\n",
      "cutoff          \n",
      "10      0.344222\n",
      "CURRENT CONFIGURATION:\n",
      "SLIMER with weight alpha: 0.5742116186320898\n",
      "EASE_Hybrid with weight beta: 0.17422042785538816\n",
      "RP3 with weight gamma: 0.251567953512522\n",
      "Norm type: None\n",
      "EvaluatorHoldout: Processed 13649 (100.0%) in 51.49 sec. Users per second: 265\n"
     ]
    },
    {
     "name": "stderr",
     "output_type": "stream",
     "text": [
      "\u001b[32m[I 2022-01-07 18:10:35,492]\u001b[0m Trial 52 finished with value: -0.3445708912915327 and parameters: {'w_1': 0.8113395912954899, 'w_2': 0.2461669637898486, 'w_3': 0.3554561314383092}. Best is trial 14 with value: -0.3448507710896915.\u001b[0m\n"
     ]
    },
    {
     "name": "stdout",
     "output_type": "stream",
     "text": [
      "             MAP\n",
      "cutoff          \n",
      "10      0.344571\n",
      "CURRENT CONFIGURATION:\n",
      "SLIMER with weight alpha: 0.5378207708729743\n",
      "EASE_Hybrid with weight beta: 0.19594763225838116\n",
      "RP3 with weight gamma: 0.2662315968686446\n",
      "Norm type: None\n",
      "EvaluatorHoldout: Processed 13649 (100.0%) in 50.95 sec. Users per second: 268\n"
     ]
    },
    {
     "name": "stderr",
     "output_type": "stream",
     "text": [
      "\u001b[32m[I 2022-01-07 18:11:26,587]\u001b[0m Trial 53 finished with value: -0.3448064018876939 and parameters: {'w_1': 0.9658415441879958, 'w_2': 0.3518911391488739, 'w_3': 0.47811008900580376}. Best is trial 14 with value: -0.3448507710896915.\u001b[0m\n"
     ]
    },
    {
     "name": "stdout",
     "output_type": "stream",
     "text": [
      "             MAP\n",
      "cutoff          \n",
      "10      0.344806\n",
      "CURRENT CONFIGURATION:\n",
      "SLIMER with weight alpha: 0.5376682236168402\n",
      "EASE_Hybrid with weight beta: 0.20327177400903237\n",
      "RP3 with weight gamma: 0.2590600023741274\n",
      "Norm type: None\n",
      "EvaluatorHoldout: Processed 13649 (100.0%) in 51.11 sec. Users per second: 267\n"
     ]
    },
    {
     "name": "stderr",
     "output_type": "stream",
     "text": [
      "\u001b[32m[I 2022-01-07 18:12:17,804]\u001b[0m Trial 54 finished with value: -0.3448494017237179 and parameters: {'w_1': 0.9683175844502591, 'w_2': 0.3660838125624731, 'w_3': 0.4665560371768575}. Best is trial 14 with value: -0.3448507710896915.\u001b[0m\n"
     ]
    },
    {
     "name": "stdout",
     "output_type": "stream",
     "text": [
      "             MAP\n",
      "cutoff          \n",
      "10      0.344849\n",
      "CURRENT CONFIGURATION:\n",
      "SLIMER with weight alpha: 0.5404695737887086\n",
      "EASE_Hybrid with weight beta: 0.1965149487839949\n",
      "RP3 with weight gamma: 0.2630154774272964\n",
      "Norm type: None\n",
      "EvaluatorHoldout: Processed 13649 (100.0%) in 51.23 sec. Users per second: 266\n"
     ]
    },
    {
     "name": "stderr",
     "output_type": "stream",
     "text": [
      "\u001b[32m[I 2022-01-07 18:13:09,126]\u001b[0m Trial 55 finished with value: -0.34484661647402887 and parameters: {'w_1': 0.9562968668833288, 'w_2': 0.34770991547313307, 'w_3': 0.4653747208050533}. Best is trial 14 with value: -0.3448507710896915.\u001b[0m\n"
     ]
    },
    {
     "name": "stdout",
     "output_type": "stream",
     "text": [
      "             MAP\n",
      "cutoff          \n",
      "10      0.344847\n",
      "CURRENT CONFIGURATION:\n",
      "SLIMER with weight alpha: 0.4852660029179352\n",
      "EASE_Hybrid with weight beta: 0.1935703495073878\n",
      "RP3 with weight gamma: 0.321163647574677\n",
      "Norm type: None\n",
      "EvaluatorHoldout: Processed 13649 (100.0%) in 51.09 sec. Users per second: 267\n"
     ]
    },
    {
     "name": "stderr",
     "output_type": "stream",
     "text": [
      "\u001b[32m[I 2022-01-07 18:14:00,313]\u001b[0m Trial 56 finished with value: -0.3446588505233853 and parameters: {'w_1': 0.886990745577006, 'w_2': 0.35381647920675663, 'w_3': 0.5870371744601046}. Best is trial 14 with value: -0.3448507710896915.\u001b[0m\n"
     ]
    },
    {
     "name": "stdout",
     "output_type": "stream",
     "text": [
      "             MAP\n",
      "cutoff          \n",
      "10      0.344659\n",
      "CURRENT CONFIGURATION:\n",
      "SLIMER with weight alpha: 0.52460629517982\n",
      "EASE_Hybrid with weight beta: 0.2222562764821534\n",
      "RP3 with weight gamma: 0.25313742833802655\n",
      "Norm type: None\n",
      "EvaluatorHoldout: Processed 13649 (100.0%) in 51.11 sec. Users per second: 267\n"
     ]
    },
    {
     "name": "stderr",
     "output_type": "stream",
     "text": [
      "\u001b[32m[I 2022-01-07 18:14:51,517]\u001b[0m Trial 57 finished with value: -0.3448409209582213 and parameters: {'w_1': 0.9676577133321957, 'w_2': 0.40996076915304586, 'w_3': 0.4669223135807117}. Best is trial 14 with value: -0.3448507710896915.\u001b[0m\n"
     ]
    },
    {
     "name": "stdout",
     "output_type": "stream",
     "text": [
      "             MAP\n",
      "cutoff          \n",
      "10      0.344841\n",
      "CURRENT CONFIGURATION:\n",
      "SLIMER with weight alpha: 0.44266677792363673\n",
      "EASE_Hybrid with weight beta: 0.16989393966655292\n",
      "RP3 with weight gamma: 0.38743928240981035\n",
      "Norm type: None\n",
      "EvaluatorHoldout: Processed 13649 (100.0%) in 51.43 sec. Users per second: 265\n"
     ]
    },
    {
     "name": "stderr",
     "output_type": "stream",
     "text": [
      "\u001b[32m[I 2022-01-07 18:15:43,058]\u001b[0m Trial 58 finished with value: -0.34453151402451926 and parameters: {'w_1': 0.7519936164132207, 'w_2': 0.28861248340299, 'w_3': 0.6581742331929792}. Best is trial 14 with value: -0.3448507710896915.\u001b[0m\n"
     ]
    },
    {
     "name": "stdout",
     "output_type": "stream",
     "text": [
      "             MAP\n",
      "cutoff          \n",
      "10      0.344532\n",
      "CURRENT CONFIGURATION:\n",
      "SLIMER with weight alpha: 0.3434239562177686\n",
      "EASE_Hybrid with weight beta: 0.23159615591938326\n",
      "RP3 with weight gamma: 0.4249798878628481\n",
      "Norm type: None\n",
      "EvaluatorHoldout: Processed 13649 (100.0%) in 51.41 sec. Users per second: 265\n"
     ]
    },
    {
     "name": "stderr",
     "output_type": "stream",
     "text": [
      "\u001b[32m[I 2022-01-07 18:16:34,567]\u001b[0m Trial 59 finished with value: -0.34457110352872217 and parameters: {'w_1': 0.6093449387580907, 'w_2': 0.41092632849357474, 'w_3': 0.7540514837555441}. Best is trial 14 with value: -0.3448507710896915.\u001b[0m\n"
     ]
    },
    {
     "name": "stdout",
     "output_type": "stream",
     "text": [
      "             MAP\n",
      "cutoff          \n",
      "10      0.344571\n",
      "CURRENT CONFIGURATION:\n",
      "SLIMER with weight alpha: 0.3746426143543796\n",
      "EASE_Hybrid with weight beta: 0.2489724258495262\n",
      "RP3 with weight gamma: 0.3763849597960942\n",
      "Norm type: None\n",
      "EvaluatorHoldout: Processed 13649 (100.0%) in 51.31 sec. Users per second: 266\n"
     ]
    },
    {
     "name": "stderr",
     "output_type": "stream",
     "text": [
      "\u001b[32m[I 2022-01-07 18:17:25,983]\u001b[0m Trial 60 finished with value: -0.3445318977958752 and parameters: {'w_1': 0.46534015049668753, 'w_2': 0.30924636353501767, 'w_3': 0.4675043017677914}. Best is trial 14 with value: -0.3448507710896915.\u001b[0m\n"
     ]
    },
    {
     "name": "stdout",
     "output_type": "stream",
     "text": [
      "             MAP\n",
      "cutoff          \n",
      "10      0.344532\n",
      "CURRENT CONFIGURATION:\n",
      "SLIMER with weight alpha: 0.5123450461631978\n",
      "EASE_Hybrid with weight beta: 0.19753835496724456\n",
      "RP3 with weight gamma: 0.29011659886955765\n",
      "Norm type: None\n",
      "EvaluatorHoldout: Processed 13649 (100.0%) in 50.93 sec. Users per second: 268\n"
     ]
    },
    {
     "name": "stderr",
     "output_type": "stream",
     "text": [
      "\u001b[32m[I 2022-01-07 18:18:17,000]\u001b[0m Trial 61 finished with value: -0.34478973981465355 and parameters: {'w_1': 0.9680212896272633, 'w_2': 0.3732276413292972, 'w_3': 0.5481443536599135}. Best is trial 14 with value: -0.3448507710896915.\u001b[0m\n"
     ]
    },
    {
     "name": "stdout",
     "output_type": "stream",
     "text": [
      "            MAP\n",
      "cutoff         \n",
      "10      0.34479\n",
      "CURRENT CONFIGURATION:\n",
      "SLIMER with weight alpha: 0.5402778256190706\n",
      "EASE_Hybrid with weight beta: 0.2279906024776458\n",
      "RP3 with weight gamma: 0.23173157190328353\n",
      "Norm type: None\n",
      "EvaluatorHoldout: Processed 13649 (100.0%) in 50.85 sec. Users per second: 268\n"
     ]
    },
    {
     "name": "stderr",
     "output_type": "stream",
     "text": [
      "\u001b[32m[I 2022-01-07 18:19:07,953]\u001b[0m Trial 62 finished with value: -0.34480515463078504 and parameters: {'w_1': 0.973000531001659, 'w_2': 0.41059426605182375, 'w_3': 0.4173314761778097}. Best is trial 14 with value: -0.3448507710896915.\u001b[0m\n"
     ]
    },
    {
     "name": "stdout",
     "output_type": "stream",
     "text": [
      "             MAP\n",
      "cutoff          \n",
      "10      0.344805\n",
      "CURRENT CONFIGURATION:\n",
      "SLIMER with weight alpha: 0.5208134871885652\n",
      "EASE_Hybrid with weight beta: 0.2035573262213723\n",
      "RP3 with weight gamma: 0.2756291865900625\n",
      "Norm type: None\n",
      "EvaluatorHoldout: Processed 13649 (100.0%) in 50.95 sec. Users per second: 268\n"
     ]
    },
    {
     "name": "stderr",
     "output_type": "stream",
     "text": [
      "\u001b[32m[I 2022-01-07 18:19:58,996]\u001b[0m Trial 63 finished with value: -0.3448701253769428 and parameters: {'w_1': 0.9122359171123183, 'w_2': 0.35654280992775694, 'w_3': 0.4827809762938652}. Best is trial 63 with value: -0.3448701253769428.\u001b[0m\n"
     ]
    },
    {
     "name": "stdout",
     "output_type": "stream",
     "text": [
      "            MAP\n",
      "cutoff         \n",
      "10      0.34487\n",
      "CURRENT CONFIGURATION:\n",
      "SLIMER with weight alpha: 0.504911726012265\n",
      "EASE_Hybrid with weight beta: 0.22677487853466555\n",
      "RP3 with weight gamma: 0.26831339545306954\n",
      "Norm type: None\n",
      "EvaluatorHoldout: Processed 13649 (100.0%) in 50.71 sec. Users per second: 269\n"
     ]
    },
    {
     "name": "stderr",
     "output_type": "stream",
     "text": [
      "\u001b[32m[I 2022-01-07 18:20:49,790]\u001b[0m Trial 64 finished with value: -0.34484485752197946 and parameters: {'w_1': 0.909251373857035, 'w_2': 0.4083790477444727, 'w_3': 0.4831821304027769}. Best is trial 63 with value: -0.3448701253769428.\u001b[0m\n"
     ]
    },
    {
     "name": "stdout",
     "output_type": "stream",
     "text": [
      "             MAP\n",
      "cutoff          \n",
      "10      0.344845\n",
      "CURRENT CONFIGURATION:\n",
      "SLIMER with weight alpha: 0.5179490513061805\n",
      "EASE_Hybrid with weight beta: 0.20909472110918315\n",
      "RP3 with weight gamma: 0.2729562275846364\n",
      "Norm type: None\n",
      "EvaluatorHoldout: Processed 13649 (100.0%) in 51.17 sec. Users per second: 267\n"
     ]
    },
    {
     "name": "stderr",
     "output_type": "stream",
     "text": [
      "\u001b[32m[I 2022-01-07 18:21:41,064]\u001b[0m Trial 65 finished with value: -0.34488806378047715 and parameters: {'w_1': 0.9035326881633176, 'w_2': 0.36475385941552557, 'w_3': 0.4761566286076174}. Best is trial 65 with value: -0.34488806378047715.\u001b[0m\n"
     ]
    },
    {
     "name": "stdout",
     "output_type": "stream",
     "text": [
      "             MAP\n",
      "cutoff          \n",
      "10      0.344888\n",
      "CURRENT CONFIGURATION:\n",
      "SLIMER with weight alpha: 0.46321649557607697\n",
      "EASE_Hybrid with weight beta: 0.263816814067103\n",
      "RP3 with weight gamma: 0.2729666903568199\n",
      "Norm type: None\n",
      "EvaluatorHoldout: Processed 13649 (100.0%) in 51.65 sec. Users per second: 264\n"
     ]
    },
    {
     "name": "stderr",
     "output_type": "stream",
     "text": [
      "\u001b[32m[I 2022-01-07 18:22:32,818]\u001b[0m Trial 66 finished with value: -0.3446752683782888 and parameters: {'w_1': 0.910719087898675, 'w_2': 0.5186840507066235, 'w_3': 0.5366734078831062}. Best is trial 65 with value: -0.34488806378047715.\u001b[0m\n"
     ]
    },
    {
     "name": "stdout",
     "output_type": "stream",
     "text": [
      "             MAP\n",
      "cutoff          \n",
      "10      0.344675\n",
      "CURRENT CONFIGURATION:\n",
      "SLIMER with weight alpha: 0.4400078939357513\n",
      "EASE_Hybrid with weight beta: 0.24168125915153835\n",
      "RP3 with weight gamma: 0.31831084691271033\n",
      "Norm type: None\n",
      "EvaluatorHoldout: Processed 13649 (100.0%) in 50.93 sec. Users per second: 268\n"
     ]
    },
    {
     "name": "stderr",
     "output_type": "stream",
     "text": [
      "\u001b[32m[I 2022-01-07 18:23:23,828]\u001b[0m Trial 67 finished with value: -0.3447402420318042 and parameters: {'w_1': 0.8693612219716548, 'w_2': 0.47751033033582113, 'w_3': 0.6289139596192633}. Best is trial 65 with value: -0.34488806378047715.\u001b[0m\n"
     ]
    },
    {
     "name": "stdout",
     "output_type": "stream",
     "text": [
      "            MAP\n",
      "cutoff         \n",
      "10      0.34474\n",
      "CURRENT CONFIGURATION:\n",
      "SLIMER with weight alpha: 0.5255359226104704\n",
      "EASE_Hybrid with weight beta: 0.21075533188144321\n",
      "RP3 with weight gamma: 0.2637087455080864\n",
      "Norm type: None\n",
      "EvaluatorHoldout: Processed 13649 (100.0%) in 51.00 sec. Users per second: 268\n"
     ]
    },
    {
     "name": "stderr",
     "output_type": "stream",
     "text": [
      "\u001b[32m[I 2022-01-07 18:24:14,929]\u001b[0m Trial 68 finished with value: -0.3449070401110876 and parameters: {'w_1': 0.9036094764861208, 'w_2': 0.36237392519636547, 'w_3': 0.4534223279918297}. Best is trial 68 with value: -0.3449070401110876.\u001b[0m\n"
     ]
    },
    {
     "name": "stdout",
     "output_type": "stream",
     "text": [
      "             MAP\n",
      "cutoff          \n",
      "10      0.344907\n",
      "CURRENT CONFIGURATION:\n",
      "SLIMER with weight alpha: 0.3993236110914679\n",
      "EASE_Hybrid with weight beta: 0.18954913619336694\n",
      "RP3 with weight gamma: 0.41112725271516515\n",
      "Norm type: None\n",
      "EvaluatorHoldout: Processed 13649 (100.0%) in 51.15 sec. Users per second: 267\n"
     ]
    },
    {
     "name": "stderr",
     "output_type": "stream",
     "text": [
      "\u001b[32m[I 2022-01-07 18:25:06,190]\u001b[0m Trial 69 finished with value: -0.34463304480705215 and parameters: {'w_1': 0.7804324898986542, 'w_2': 0.37045218516679196, 'w_3': 0.8035013622778118}. Best is trial 68 with value: -0.3449070401110876.\u001b[0m\n"
     ]
    },
    {
     "name": "stdout",
     "output_type": "stream",
     "text": [
      "             MAP\n",
      "cutoff          \n",
      "10      0.344633\n",
      "CURRENT CONFIGURATION:\n",
      "SLIMER with weight alpha: 0.5139273014065215\n",
      "EASE_Hybrid with weight beta: 0.15473144635264863\n",
      "RP3 with weight gamma: 0.3313412522408299\n",
      "Norm type: None\n",
      "EvaluatorHoldout: Processed 13649 (100.0%) in 51.38 sec. Users per second: 266\n"
     ]
    },
    {
     "name": "stderr",
     "output_type": "stream",
     "text": [
      "\u001b[32m[I 2022-01-07 18:25:57,660]\u001b[0m Trial 70 finished with value: -0.34457333638024806 and parameters: {'w_1': 0.8987947521293228, 'w_2': 0.27060600125840223, 'w_3': 0.5794745246321275}. Best is trial 68 with value: -0.3449070401110876.\u001b[0m\n"
     ]
    },
    {
     "name": "stdout",
     "output_type": "stream",
     "text": [
      "             MAP\n",
      "cutoff          \n",
      "10      0.344573\n",
      "CURRENT CONFIGURATION:\n",
      "SLIMER with weight alpha: 0.49484669710652696\n",
      "EASE_Hybrid with weight beta: 0.2235790363137897\n",
      "RP3 with weight gamma: 0.28157426657968343\n",
      "Norm type: None\n",
      "EvaluatorHoldout: Processed 13649 (100.0%) in 50.78 sec. Users per second: 269\n"
     ]
    },
    {
     "name": "stderr",
     "output_type": "stream",
     "text": [
      "\u001b[32m[I 2022-01-07 18:26:48,557]\u001b[0m Trial 71 finished with value: -0.34489551534097246 and parameters: {'w_1': 0.9160610410884619, 'w_2': 0.41388988947232436, 'w_3': 0.5212507576486413}. Best is trial 68 with value: -0.3449070401110876.\u001b[0m\n"
     ]
    },
    {
     "name": "stdout",
     "output_type": "stream",
     "text": [
      "             MAP\n",
      "cutoff          \n",
      "10      0.344896\n",
      "CURRENT CONFIGURATION:\n",
      "SLIMER with weight alpha: 0.48766749085946415\n",
      "EASE_Hybrid with weight beta: 0.23525198625800095\n",
      "RP3 with weight gamma: 0.27708052288253493\n",
      "Norm type: None\n",
      "EvaluatorHoldout: Processed 13649 (100.0%) in 44.81 sec. Users per second: 305\n"
     ]
    },
    {
     "name": "stderr",
     "output_type": "stream",
     "text": [
      "\u001b[32m[I 2022-01-07 18:27:33,469]\u001b[0m Trial 72 finished with value: -0.3448332687899722 and parameters: {'w_1': 0.9228512869200217, 'w_2': 0.44518571021838316, 'w_3': 0.5243411174937405}. Best is trial 68 with value: -0.3449070401110876.\u001b[0m\n"
     ]
    },
    {
     "name": "stdout",
     "output_type": "stream",
     "text": [
      "             MAP\n",
      "cutoff          \n",
      "10      0.344833\n",
      "CURRENT CONFIGURATION:\n",
      "SLIMER with weight alpha: 0.5103284899434408\n",
      "EASE_Hybrid with weight beta: 0.2273315498822584\n",
      "RP3 with weight gamma: 0.2623399601743009\n",
      "Norm type: None\n",
      "EvaluatorHoldout: Processed 13649 (100.0%) in 45.27 sec. Users per second: 302\n"
     ]
    },
    {
     "name": "stderr",
     "output_type": "stream",
     "text": [
      "\u001b[32m[I 2022-01-07 18:28:18,851]\u001b[0m Trial 73 finished with value: -0.3448762976995844 and parameters: {'w_1': 0.8559620377031056, 'w_2': 0.3812978904881227, 'w_3': 0.44001667809420786}. Best is trial 68 with value: -0.3449070401110876.\u001b[0m\n"
     ]
    },
    {
     "name": "stdout",
     "output_type": "stream",
     "text": [
      "             MAP\n",
      "cutoff          \n",
      "10      0.344876\n",
      "CURRENT CONFIGURATION:\n",
      "SLIMER with weight alpha: 0.5222142657979543\n",
      "EASE_Hybrid with weight beta: 0.20023549181308364\n",
      "RP3 with weight gamma: 0.27755024238896203\n",
      "Norm type: None\n",
      "EvaluatorHoldout: Processed 13649 (100.0%) in 45.14 sec. Users per second: 302\n"
     ]
    },
    {
     "name": "stderr",
     "output_type": "stream",
     "text": [
      "\u001b[32m[I 2022-01-07 18:29:04,064]\u001b[0m Trial 74 finished with value: -0.34485523388538614 and parameters: {'w_1': 0.8462972815044121, 'w_2': 0.32450042727801615, 'w_3': 0.44979624456592043}. Best is trial 68 with value: -0.3449070401110876.\u001b[0m\n"
     ]
    },
    {
     "name": "stdout",
     "output_type": "stream",
     "text": [
      "             MAP\n",
      "cutoff          \n",
      "10      0.344855\n",
      "CURRENT CONFIGURATION:\n",
      "SLIMER with weight alpha: 0.5407159447715983\n",
      "EASE_Hybrid with weight beta: 0.20366220091456524\n",
      "RP3 with weight gamma: 0.25562185431383644\n",
      "Norm type: None\n",
      "EvaluatorHoldout: Processed 13649 (100.0%) in 45.44 sec. Users per second: 300\n"
     ]
    },
    {
     "name": "stderr",
     "output_type": "stream",
     "text": [
      "\u001b[32m[I 2022-01-07 18:29:49,584]\u001b[0m Trial 75 finished with value: -0.344817327741904 and parameters: {'w_1': 0.8406722234278656, 'w_2': 0.31664158774415596, 'w_3': 0.3974252927080584}. Best is trial 68 with value: -0.3449070401110876.\u001b[0m\n"
     ]
    },
    {
     "name": "stdout",
     "output_type": "stream",
     "text": [
      "             MAP\n",
      "cutoff          \n",
      "10      0.344817\n",
      "CURRENT CONFIGURATION:\n",
      "SLIMER with weight alpha: 0.5502325409341837\n",
      "EASE_Hybrid with weight beta: 0.24123266116426956\n",
      "RP3 with weight gamma: 0.20853479790154675\n",
      "Norm type: None\n",
      "EvaluatorHoldout: Processed 13649 (100.0%) in 45.17 sec. Users per second: 302\n"
     ]
    },
    {
     "name": "stderr",
     "output_type": "stream",
     "text": [
      "\u001b[32m[I 2022-01-07 18:30:34,838]\u001b[0m Trial 76 finished with value: -0.3446453981744131 and parameters: {'w_1': 0.8763024505472249, 'w_2': 0.3841880594182517, 'w_3': 0.3321133172444524}. Best is trial 68 with value: -0.3449070401110876.\u001b[0m\n"
     ]
    },
    {
     "name": "stdout",
     "output_type": "stream",
     "text": [
      "             MAP\n",
      "cutoff          \n",
      "10      0.344645\n",
      "CURRENT CONFIGURATION:\n",
      "SLIMER with weight alpha: 0.5355363464386552\n",
      "EASE_Hybrid with weight beta: 0.18358451235048565\n",
      "RP3 with weight gamma: 0.2808791412108592\n",
      "Norm type: None\n",
      "EvaluatorHoldout: Processed 13649 (100.0%) in 44.96 sec. Users per second: 304\n"
     ]
    },
    {
     "name": "stderr",
     "output_type": "stream",
     "text": [
      "\u001b[32m[I 2022-01-07 18:31:19,877]\u001b[0m Trial 77 finished with value: -0.34467932995847494 and parameters: {'w_1': 0.8481617560809094, 'w_2': 0.29075405137283533, 'w_3': 0.4448455221389703}. Best is trial 68 with value: -0.3449070401110876.\u001b[0m\n"
     ]
    },
    {
     "name": "stdout",
     "output_type": "stream",
     "text": [
      "             MAP\n",
      "cutoff          \n",
      "10      0.344679\n",
      "CURRENT CONFIGURATION:\n",
      "SLIMER with weight alpha: 0.5240742961983844\n",
      "EASE_Hybrid with weight beta: 0.1426525850195591\n",
      "RP3 with weight gamma: 0.33327311878205645\n",
      "Norm type: None\n",
      "EvaluatorHoldout: Processed 13649 (100.0%) in 45.01 sec. Users per second: 303\n"
     ]
    },
    {
     "name": "stderr",
     "output_type": "stream",
     "text": [
      "\u001b[32m[I 2022-01-07 18:32:04,974]\u001b[0m Trial 78 finished with value: -0.34457421730995164 and parameters: {'w_1': 0.7968745654343503, 'w_2': 0.21690859009905836, 'w_3': 0.5067542400512421}. Best is trial 68 with value: -0.3449070401110876.\u001b[0m\n"
     ]
    },
    {
     "name": "stdout",
     "output_type": "stream",
     "text": [
      "             MAP\n",
      "cutoff          \n",
      "10      0.344574\n",
      "CURRENT CONFIGURATION:\n",
      "SLIMER with weight alpha: 0.15207807800921\n",
      "EASE_Hybrid with weight beta: 0.30575713971757595\n",
      "RP3 with weight gamma: 0.5421647822732141\n",
      "Norm type: None\n",
      "EvaluatorHoldout: Processed 13649 (100.0%) in 45.29 sec. Users per second: 301\n"
     ]
    },
    {
     "name": "stderr",
     "output_type": "stream",
     "text": [
      "\u001b[32m[I 2022-01-07 18:32:50,356]\u001b[0m Trial 79 finished with value: -0.3431158977865688 and parameters: {'w_1': 0.2799079114799158, 'w_2': 0.5627625198763786, 'w_3': 0.99788354686379}. Best is trial 68 with value: -0.3449070401110876.\u001b[0m\n"
     ]
    },
    {
     "name": "stdout",
     "output_type": "stream",
     "text": [
      "             MAP\n",
      "cutoff          \n",
      "10      0.343116\n",
      "CURRENT CONFIGURATION:\n",
      "SLIMER with weight alpha: 0.46166500137884564\n",
      "EASE_Hybrid with weight beta: 0.2876717260356919\n",
      "RP3 with weight gamma: 0.25066327258546245\n",
      "Norm type: None\n",
      "EvaluatorHoldout: Processed 13649 (100.0%) in 44.56 sec. Users per second: 306\n"
     ]
    },
    {
     "name": "stderr",
     "output_type": "stream",
     "text": [
      "\u001b[32m[I 2022-01-07 18:33:35,008]\u001b[0m Trial 80 finished with value: -0.34463848447528744 and parameters: {'w_1': 0.7488756727664324, 'w_2': 0.4666378363693112, 'w_3': 0.40660571265880524}. Best is trial 68 with value: -0.3449070401110876.\u001b[0m\n"
     ]
    },
    {
     "name": "stdout",
     "output_type": "stream",
     "text": [
      "             MAP\n",
      "cutoff          \n",
      "10      0.344638\n",
      "CURRENT CONFIGURATION:\n",
      "SLIMER with weight alpha: 0.5392420240315904\n",
      "EASE_Hybrid with weight beta: 0.1973074216264769\n",
      "RP3 with weight gamma: 0.26345055434193276\n",
      "Norm type: None\n",
      "EvaluatorHoldout: Processed 13649 (100.0%) in 45.26 sec. Users per second: 302\n"
     ]
    },
    {
     "name": "stderr",
     "output_type": "stream",
     "text": [
      "\u001b[32m[I 2022-01-07 18:34:20,351]\u001b[0m Trial 81 finished with value: -0.3448318732577692 and parameters: {'w_1': 0.9409274201409271, 'w_2': 0.34428318812701264, 'w_3': 0.45969683256201477}. Best is trial 68 with value: -0.3449070401110876.\u001b[0m\n"
     ]
    },
    {
     "name": "stdout",
     "output_type": "stream",
     "text": [
      "             MAP\n",
      "cutoff          \n",
      "10      0.344832\n",
      "CURRENT CONFIGURATION:\n",
      "SLIMER with weight alpha: 0.5336895310485795\n",
      "EASE_Hybrid with weight beta: 0.2073506162696546\n",
      "RP3 with weight gamma: 0.25895985268176586\n",
      "Norm type: None\n",
      "EvaluatorHoldout: Processed 13649 (100.0%) in 45.20 sec. Users per second: 302\n"
     ]
    },
    {
     "name": "stderr",
     "output_type": "stream",
     "text": [
      "\u001b[32m[I 2022-01-07 18:35:05,645]\u001b[0m Trial 82 finished with value: -0.3449377330974912 and parameters: {'w_1': 0.9255522260472839, 'w_2': 0.3595982557191774, 'w_3': 0.44910168583514515}. Best is trial 82 with value: -0.3449377330974912.\u001b[0m\n"
     ]
    },
    {
     "name": "stdout",
     "output_type": "stream",
     "text": [
      "             MAP\n",
      "cutoff          \n",
      "10      0.344938\n",
      "CURRENT CONFIGURATION:\n",
      "SLIMER with weight alpha: 0.49483513886588165\n",
      "EASE_Hybrid with weight beta: 0.20914295766208038\n",
      "RP3 with weight gamma: 0.29602190347203783\n",
      "Norm type: None\n",
      "EvaluatorHoldout: Processed 13649 (100.0%) in 45.53 sec. Users per second: 300\n"
     ]
    },
    {
     "name": "stderr",
     "output_type": "stream",
     "text": [
      "\u001b[32m[I 2022-01-07 18:35:51,256]\u001b[0m Trial 83 finished with value: -0.3449048624993785 and parameters: {'w_1': 0.8819040247768352, 'w_2': 0.3727383155097863, 'w_3': 0.5275755248352473}. Best is trial 82 with value: -0.3449377330974912.\u001b[0m\n"
     ]
    },
    {
     "name": "stdout",
     "output_type": "stream",
     "text": [
      "             MAP\n",
      "cutoff          \n",
      "10      0.344905\n",
      "CURRENT CONFIGURATION:\n",
      "SLIMER with weight alpha: 0.5003945731218878\n",
      "EASE_Hybrid with weight beta: 0.18253593181732994\n",
      "RP3 with weight gamma: 0.31706949506078214\n",
      "Norm type: None\n",
      "EvaluatorHoldout: Processed 13649 (100.0%) in 45.45 sec. Users per second: 300\n"
     ]
    },
    {
     "name": "stderr",
     "output_type": "stream",
     "text": [
      "\u001b[32m[I 2022-01-07 18:36:36,789]\u001b[0m Trial 84 finished with value: -0.34461599896265727 and parameters: {'w_1': 0.8855670295402656, 'w_2': 0.32304067950885346, 'w_3': 0.5611297683486544}. Best is trial 82 with value: -0.3449377330974912.\u001b[0m\n"
     ]
    },
    {
     "name": "stdout",
     "output_type": "stream",
     "text": [
      "             MAP\n",
      "cutoff          \n",
      "10      0.344616\n",
      "CURRENT CONFIGURATION:\n",
      "SLIMER with weight alpha: 0.49461824819194006\n",
      "EASE_Hybrid with weight beta: 0.24833979580204088\n",
      "RP3 with weight gamma: 0.25704195600601903\n",
      "Norm type: None\n",
      "EvaluatorHoldout: Processed 13649 (100.0%) in 45.35 sec. Users per second: 301\n"
     ]
    },
    {
     "name": "stderr",
     "output_type": "stream",
     "text": [
      "\u001b[32m[I 2022-01-07 18:37:22,231]\u001b[0m Trial 85 finished with value: -0.34471085444948285 and parameters: {'w_1': 0.8493232325651758, 'w_2': 0.4264314123390687, 'w_3': 0.44137414213474474}. Best is trial 82 with value: -0.3449377330974912.\u001b[0m\n"
     ]
    },
    {
     "name": "stdout",
     "output_type": "stream",
     "text": [
      "             MAP\n",
      "cutoff          \n",
      "10      0.344711\n",
      "CURRENT CONFIGURATION:\n",
      "SLIMER with weight alpha: 0.4315664858677718\n",
      "EASE_Hybrid with weight beta: 0.24518612424692302\n",
      "RP3 with weight gamma: 0.3232473898853052\n",
      "Norm type: None\n",
      "EvaluatorHoldout: Processed 13649 (100.0%) in 46.47 sec. Users per second: 294\n"
     ]
    },
    {
     "name": "stderr",
     "output_type": "stream",
     "text": [
      "\u001b[32m[I 2022-01-07 18:38:08,794]\u001b[0m Trial 86 finished with value: -0.34470947926878925 and parameters: {'w_1': 0.6858548819902437, 'w_2': 0.38965514194849227, 'w_3': 0.5137118096593059}. Best is trial 82 with value: -0.3449377330974912.\u001b[0m\n"
     ]
    },
    {
     "name": "stdout",
     "output_type": "stream",
     "text": [
      "             MAP\n",
      "cutoff          \n",
      "10      0.344709\n",
      "CURRENT CONFIGURATION:\n",
      "SLIMER with weight alpha: 0.4850396127814227\n",
      "EASE_Hybrid with weight beta: 0.23631142573183384\n",
      "RP3 with weight gamma: 0.2786489614867435\n",
      "Norm type: None\n",
      "EvaluatorHoldout: Processed 13649 (100.0%) in 51.30 sec. Users per second: 266\n"
     ]
    },
    {
     "name": "stderr",
     "output_type": "stream",
     "text": [
      "\u001b[32m[I 2022-01-07 18:39:00,189]\u001b[0m Trial 87 finished with value: -0.3448167084744888 and parameters: {'w_1': 0.9211922634053689, 'w_2': 0.4488051107622757, 'w_3': 0.5292129977911776}. Best is trial 82 with value: -0.3449377330974912.\u001b[0m\n"
     ]
    },
    {
     "name": "stdout",
     "output_type": "stream",
     "text": [
      "             MAP\n",
      "cutoff          \n",
      "10      0.344817\n",
      "CURRENT CONFIGURATION:\n",
      "SLIMER with weight alpha: 0.4636391389801953\n",
      "EASE_Hybrid with weight beta: 0.19053154957590085\n",
      "RP3 with weight gamma: 0.3458293114439039\n",
      "Norm type: None\n",
      "EvaluatorHoldout: Processed 13649 (100.0%) in 47.04 sec. Users per second: 290\n"
     ]
    },
    {
     "name": "stderr",
     "output_type": "stream",
     "text": [
      "\u001b[32m[I 2022-01-07 18:39:47,326]\u001b[0m Trial 88 finished with value: -0.34461886271103276 and parameters: {'w_1': 0.7984331975361195, 'w_2': 0.3281144786309691, 'w_3': 0.595552833492915}. Best is trial 82 with value: -0.3449377330974912.\u001b[0m\n"
     ]
    },
    {
     "name": "stdout",
     "output_type": "stream",
     "text": [
      "             MAP\n",
      "cutoff          \n",
      "10      0.344619\n",
      "CURRENT CONFIGURATION:\n",
      "SLIMER with weight alpha: 0.5928422467759003\n",
      "EASE_Hybrid with weight beta: 0.179133577292585\n",
      "RP3 with weight gamma: 0.22802417593151483\n",
      "Norm type: None\n",
      "EvaluatorHoldout: Processed 13649 (100.0%) in 46.77 sec. Users per second: 292\n"
     ]
    },
    {
     "name": "stderr",
     "output_type": "stream",
     "text": [
      "\u001b[32m[I 2022-01-07 18:40:34,182]\u001b[0m Trial 89 finished with value: -0.3443920945426577 and parameters: {'w_1': 0.8749414022505396, 'w_2': 0.26437283132046363, 'w_3': 0.33652762319409923}. Best is trial 82 with value: -0.3449377330974912.\u001b[0m\n"
     ]
    },
    {
     "name": "stdout",
     "output_type": "stream",
     "text": [
      "             MAP\n",
      "cutoff          \n",
      "10      0.344392\n",
      "CURRENT CONFIGURATION:\n",
      "SLIMER with weight alpha: 0.48932223326619234\n",
      "EASE_Hybrid with weight beta: 0.2888678364364205\n",
      "RP3 with weight gamma: 0.22180993029738713\n",
      "Norm type: None\n",
      "EvaluatorHoldout: Processed 13649 (100.0%) in 47.78 sec. Users per second: 286\n"
     ]
    },
    {
     "name": "stderr",
     "output_type": "stream",
     "text": [
      "\u001b[32m[I 2022-01-07 18:41:22,040]\u001b[0m Trial 90 finished with value: -0.34472053304678646 and parameters: {'w_1': 0.8400529625391799, 'w_2': 0.49591918225528175, 'w_3': 0.38079628596308646}. Best is trial 82 with value: -0.3449377330974912.\u001b[0m\n"
     ]
    },
    {
     "name": "stdout",
     "output_type": "stream",
     "text": [
      "             MAP\n",
      "cutoff          \n",
      "10      0.344721\n",
      "CURRENT CONFIGURATION:\n",
      "SLIMER with weight alpha: 0.5229321489129048\n",
      "EASE_Hybrid with weight beta: 0.20051833721884496\n",
      "RP3 with weight gamma: 0.27654951386825016\n",
      "Norm type: None\n",
      "EvaluatorHoldout: Processed 13649 (100.0%) in 48.80 sec. Users per second: 280\n"
     ]
    },
    {
     "name": "stderr",
     "output_type": "stream",
     "text": [
      "\u001b[32m[I 2022-01-07 18:42:10,924]\u001b[0m Trial 91 finished with value: -0.3448548065036488 and parameters: {'w_1': 0.9370627125031565, 'w_2': 0.3593167055640487, 'w_3': 0.49555996537128694}. Best is trial 82 with value: -0.3449377330974912.\u001b[0m\n"
     ]
    },
    {
     "name": "stdout",
     "output_type": "stream",
     "text": [
      "             MAP\n",
      "cutoff          \n",
      "10      0.344855\n",
      "CURRENT CONFIGURATION:\n",
      "SLIMER with weight alpha: 0.5139597459693453\n",
      "EASE_Hybrid with weight beta: 0.21668804891401536\n",
      "RP3 with weight gamma: 0.2693522051166393\n",
      "Norm type: None\n",
      "EvaluatorHoldout: Processed 13649 (100.0%) in 48.24 sec. Users per second: 283\n"
     ]
    },
    {
     "name": "stderr",
     "output_type": "stream",
     "text": [
      "\u001b[32m[I 2022-01-07 18:42:59,249]\u001b[0m Trial 92 finished with value: -0.3449229927885897 and parameters: {'w_1': 0.9331933008793101, 'w_2': 0.39343905279155483, 'w_3': 0.48906101180715744}. Best is trial 82 with value: -0.3449377330974912.\u001b[0m\n"
     ]
    },
    {
     "name": "stdout",
     "output_type": "stream",
     "text": [
      "             MAP\n",
      "cutoff          \n",
      "10      0.344923\n",
      "CURRENT CONFIGURATION:\n",
      "SLIMER with weight alpha: 0.5192007424285625\n",
      "EASE_Hybrid with weight beta: 0.20435043511125303\n",
      "RP3 with weight gamma: 0.27644882246018454\n",
      "Norm type: None\n",
      "EvaluatorHoldout: Processed 13649 (100.0%) in 48.65 sec. Users per second: 281\n"
     ]
    },
    {
     "name": "stderr",
     "output_type": "stream",
     "text": [
      "\u001b[32m[I 2022-01-07 18:43:47,982]\u001b[0m Trial 93 finished with value: -0.3448488464181958 and parameters: {'w_1': 0.9327448808489076, 'w_2': 0.3671158507164384, 'w_3': 0.4966407073308921}. Best is trial 82 with value: -0.3449377330974912.\u001b[0m\n"
     ]
    },
    {
     "name": "stdout",
     "output_type": "stream",
     "text": [
      "             MAP\n",
      "cutoff          \n",
      "10      0.344849\n",
      "CURRENT CONFIGURATION:\n",
      "SLIMER with weight alpha: 0.47825920733266875\n",
      "EASE_Hybrid with weight beta: 0.22809201487314695\n",
      "RP3 with weight gamma: 0.29364877779418436\n",
      "Norm type: None\n",
      "EvaluatorHoldout: Processed 13649 (100.0%) in 48.03 sec. Users per second: 284\n"
     ]
    },
    {
     "name": "stderr",
     "output_type": "stream",
     "text": [
      "\u001b[32m[I 2022-01-07 18:44:36,105]\u001b[0m Trial 94 finished with value: -0.3449302292045382 and parameters: {'w_1': 0.9013762049469902, 'w_2': 0.4298855340218472, 'w_3': 0.5534405127120355}. Best is trial 82 with value: -0.3449377330974912.\u001b[0m\n"
     ]
    },
    {
     "name": "stdout",
     "output_type": "stream",
     "text": [
      "            MAP\n",
      "cutoff         \n",
      "10      0.34493\n",
      "CURRENT CONFIGURATION:\n",
      "SLIMER with weight alpha: 0.4626100851736412\n",
      "EASE_Hybrid with weight beta: 0.21668665869848297\n",
      "RP3 with weight gamma: 0.3207032561278757\n",
      "Norm type: None\n",
      "EvaluatorHoldout: Processed 13649 (100.0%) in 46.37 sec. Users per second: 294\n"
     ]
    },
    {
     "name": "stderr",
     "output_type": "stream",
     "text": [
      "\u001b[32m[I 2022-01-07 18:45:22,567]\u001b[0m Trial 95 finished with value: -0.34472082669002124 and parameters: {'w_1': 0.9010651981140834, 'w_2': 0.42205912345283275, 'w_3': 0.6246611396511795}. Best is trial 82 with value: -0.3449377330974912.\u001b[0m\n"
     ]
    },
    {
     "name": "stdout",
     "output_type": "stream",
     "text": [
      "             MAP\n",
      "cutoff          \n",
      "10      0.344721\n",
      "CURRENT CONFIGURATION:\n",
      "SLIMER with weight alpha: 0.15561888005473198\n",
      "EASE_Hybrid with weight beta: 0.34147308770671037\n",
      "RP3 with weight gamma: 0.5029080322385576\n",
      "Norm type: None\n",
      "EvaluatorHoldout: Processed 13649 (100.0%) in 43.19 sec. Users per second: 316\n"
     ]
    },
    {
     "name": "stderr",
     "output_type": "stream",
     "text": [
      "\u001b[32m[I 2022-01-07 18:46:05,852]\u001b[0m Trial 96 finished with value: -0.34345027602464057 and parameters: {'w_1': 0.17580076419802187, 'w_2': 0.3857580118221165, 'w_3': 0.5681291136253327}. Best is trial 82 with value: -0.3449377330974912.\u001b[0m\n"
     ]
    },
    {
     "name": "stdout",
     "output_type": "stream",
     "text": [
      "            MAP\n",
      "cutoff         \n",
      "10      0.34345\n",
      "CURRENT CONFIGURATION:\n",
      "SLIMER with weight alpha: 0.4684878373114258\n",
      "EASE_Hybrid with weight beta: 0.2388930966489955\n",
      "RP3 with weight gamma: 0.29261906603957877\n",
      "Norm type: None\n",
      "EvaluatorHoldout: Processed 13649 (100.0%) in 43.55 sec. Users per second: 313\n"
     ]
    },
    {
     "name": "stderr",
     "output_type": "stream",
     "text": [
      "\u001b[32m[I 2022-01-07 18:46:49,479]\u001b[0m Trial 97 finished with value: -0.3447453502611413 and parameters: {'w_1': 0.8508229939619533, 'w_2': 0.4338548912906505, 'w_3': 0.5314268803367992}. Best is trial 82 with value: -0.3449377330974912.\u001b[0m\n"
     ]
    },
    {
     "name": "stdout",
     "output_type": "stream",
     "text": [
      "             MAP\n",
      "cutoff          \n",
      "10      0.344745\n",
      "CURRENT CONFIGURATION:\n",
      "SLIMER with weight alpha: 0.548379055979517\n",
      "EASE_Hybrid with weight beta: 0.18820913087078836\n",
      "RP3 with weight gamma: 0.26341181314969475\n",
      "Norm type: None\n",
      "EvaluatorHoldout: Processed 13649 (100.0%) in 43.97 sec. Users per second: 310\n"
     ]
    },
    {
     "name": "stderr",
     "output_type": "stream",
     "text": [
      "\u001b[32m[I 2022-01-07 18:47:33,545]\u001b[0m Trial 98 finished with value: -0.34475846826385664 and parameters: {'w_1': 0.8840005259944879, 'w_2': 0.3033977480951731, 'w_3': 0.42462632158984126}. Best is trial 82 with value: -0.3449377330974912.\u001b[0m\n"
     ]
    },
    {
     "name": "stdout",
     "output_type": "stream",
     "text": [
      "             MAP\n",
      "cutoff          \n",
      "10      0.344758\n",
      "CURRENT CONFIGURATION:\n",
      "SLIMER with weight alpha: 0.4479671641962552\n",
      "EASE_Hybrid with weight beta: 0.27140991009735055\n",
      "RP3 with weight gamma: 0.2806229257063943\n",
      "Norm type: None\n",
      "EvaluatorHoldout: Processed 13649 (100.0%) in 45.00 sec. Users per second: 303\n"
     ]
    },
    {
     "name": "stderr",
     "output_type": "stream",
     "text": [
      "\u001b[32m[I 2022-01-07 18:48:18,629]\u001b[0m Trial 99 finished with value: -0.34468283914049386 and parameters: {'w_1': 0.7735297768995071, 'w_2': 0.4686585624698648, 'w_3': 0.4845671880974189}. Best is trial 82 with value: -0.3449377330974912.\u001b[0m\n"
     ]
    },
    {
     "name": "stdout",
     "output_type": "stream",
     "text": [
      "             MAP\n",
      "cutoff          \n",
      "10      0.344683\n",
      "CURRENT CONFIGURATION:\n",
      "SLIMER with weight alpha: 0.379631794024743\n",
      "EASE_Hybrid with weight beta: 0.18372187270594523\n",
      "RP3 with weight gamma: 0.43664633326931196\n",
      "Norm type: None\n",
      "EvaluatorHoldout: Processed 13649 (100.0%) in 43.69 sec. Users per second: 312\n"
     ]
    },
    {
     "name": "stderr",
     "output_type": "stream",
     "text": [
      "\u001b[32m[I 2022-01-07 18:49:02,398]\u001b[0m Trial 100 finished with value: -0.3447018300078985 and parameters: {'w_1': 0.8159462553265535, 'w_2': 0.39487518278363, 'w_3': 0.9384881512583332}. Best is trial 82 with value: -0.3449377330974912.\u001b[0m\n"
     ]
    },
    {
     "name": "stdout",
     "output_type": "stream",
     "text": [
      "             MAP\n",
      "cutoff          \n",
      "10      0.344702\n",
      "CURRENT CONFIGURATION:\n",
      "SLIMER with weight alpha: 0.5431998130144239\n",
      "EASE_Hybrid with weight beta: 0.2024828614314396\n",
      "RP3 with weight gamma: 0.2543173255541364\n",
      "Norm type: None\n",
      "EvaluatorHoldout: Processed 13649 (100.0%) in 43.61 sec. Users per second: 313\n"
     ]
    },
    {
     "name": "stderr",
     "output_type": "stream",
     "text": [
      "\u001b[32m[I 2022-01-07 18:49:46,091]\u001b[0m Trial 101 finished with value: -0.3447917604289896 and parameters: {'w_1': 0.9441005868532344, 'w_2': 0.3519224118364491, 'w_3': 0.44201255330003153}. Best is trial 82 with value: -0.3449377330974912.\u001b[0m\n"
     ]
    },
    {
     "name": "stdout",
     "output_type": "stream",
     "text": [
      "             MAP\n",
      "cutoff          \n",
      "10      0.344792\n",
      "CURRENT CONFIGURATION:\n",
      "SLIMER with weight alpha: 0.5170573293448796\n",
      "EASE_Hybrid with weight beta: 0.2036651805538381\n",
      "RP3 with weight gamma: 0.2792774901012824\n",
      "Norm type: None\n",
      "EvaluatorHoldout: Processed 13649 (100.0%) in 44.14 sec. Users per second: 309\n"
     ]
    },
    {
     "name": "stderr",
     "output_type": "stream",
     "text": [
      "\u001b[32m[I 2022-01-07 18:50:30,319]\u001b[0m Trial 102 finished with value: -0.3448181418023569 and parameters: {'w_1': 0.9104132034514715, 'w_2': 0.3586052434349431, 'w_3': 0.4917402771122967}. Best is trial 82 with value: -0.3449377330974912.\u001b[0m\n"
     ]
    },
    {
     "name": "stdout",
     "output_type": "stream",
     "text": [
      "             MAP\n",
      "cutoff          \n",
      "10      0.344818\n",
      "CURRENT CONFIGURATION:\n",
      "SLIMER with weight alpha: 0.4959501428922783\n",
      "EASE_Hybrid with weight beta: 0.1902645409070673\n",
      "RP3 with weight gamma: 0.3137853162006543\n",
      "Norm type: None\n",
      "EvaluatorHoldout: Processed 13649 (100.0%) in 43.10 sec. Users per second: 317\n"
     ]
    },
    {
     "name": "stderr",
     "output_type": "stream",
     "text": [
      "\u001b[32m[I 2022-01-07 18:51:13,516]\u001b[0m Trial 103 finished with value: -0.3446612054839797 and parameters: {'w_1': 0.864489342491121, 'w_2': 0.33164960273809513, 'w_3': 0.5469583295282797}. Best is trial 82 with value: -0.3449377330974912.\u001b[0m\n"
     ]
    },
    {
     "name": "stdout",
     "output_type": "stream",
     "text": [
      "             MAP\n",
      "cutoff          \n",
      "10      0.344661\n",
      "CURRENT CONFIGURATION:\n",
      "SLIMER with weight alpha: 0.5480910076766152\n",
      "EASE_Hybrid with weight beta: 0.16215611434349397\n",
      "RP3 with weight gamma: 0.28975287797989074\n",
      "Norm type: None\n",
      "EvaluatorHoldout: Processed 13649 (100.0%) in 43.45 sec. Users per second: 314\n"
     ]
    },
    {
     "name": "stderr",
     "output_type": "stream",
     "text": [
      "\u001b[32m[I 2022-01-07 18:51:57,079]\u001b[0m Trial 104 finished with value: -0.34458238989541967 and parameters: {'w_1': 0.9846483267944162, 'w_2': 0.29131429713587265, 'w_3': 0.5205425421887264}. Best is trial 82 with value: -0.3449377330974912.\u001b[0m\n"
     ]
    },
    {
     "name": "stdout",
     "output_type": "stream",
     "text": [
      "             MAP\n",
      "cutoff          \n",
      "10      0.344582\n",
      "CURRENT CONFIGURATION:\n",
      "SLIMER with weight alpha: 0.5239859678471651\n",
      "EASE_Hybrid with weight beta: 0.22378535437045952\n",
      "RP3 with weight gamma: 0.25222867778237523\n",
      "Norm type: None\n",
      "EvaluatorHoldout: Processed 13649 (100.0%) in 43.59 sec. Users per second: 313\n"
     ]
    },
    {
     "name": "stderr",
     "output_type": "stream",
     "text": [
      "\u001b[32m[I 2022-01-07 18:52:40,752]\u001b[0m Trial 105 finished with value: -0.34482771864210293 and parameters: {'w_1': 0.9285067557200914, 'w_2': 0.39654919428070046, 'w_3': 0.44695095990736766}. Best is trial 82 with value: -0.3449377330974912.\u001b[0m\n"
     ]
    },
    {
     "name": "stdout",
     "output_type": "stream",
     "text": [
      "             MAP\n",
      "cutoff          \n",
      "10      0.344828\n",
      "CURRENT CONFIGURATION:\n",
      "SLIMER with weight alpha: 0.45466677916551124\n",
      "EASE_Hybrid with weight beta: 0.258116002581324\n",
      "RP3 with weight gamma: 0.28721721825316476\n",
      "Norm type: None\n",
      "EvaluatorHoldout: Processed 13649 (100.0%) in 43.22 sec. Users per second: 316\n"
     ]
    },
    {
     "name": "stderr",
     "output_type": "stream",
     "text": [
      "\u001b[32m[I 2022-01-07 18:53:24,058]\u001b[0m Trial 106 finished with value: -0.34480996630952854 and parameters: {'w_1': 0.9027692787989281, 'w_2': 0.512505439531967, 'w_3': 0.5702877202881252}. Best is trial 82 with value: -0.3449377330974912.\u001b[0m\n"
     ]
    },
    {
     "name": "stdout",
     "output_type": "stream",
     "text": [
      "            MAP\n",
      "cutoff         \n",
      "10      0.34481\n",
      "CURRENT CONFIGURATION:\n",
      "SLIMER with weight alpha: 0.4599952395745638\n",
      "EASE_Hybrid with weight beta: 0.2177724151234568\n",
      "RP3 with weight gamma: 0.32223234530197936\n",
      "Norm type: None\n",
      "EvaluatorHoldout: Processed 13649 (100.0%) in 43.21 sec. Users per second: 316\n"
     ]
    },
    {
     "name": "stderr",
     "output_type": "stream",
     "text": [
      "\u001b[32m[I 2022-01-07 18:54:07,342]\u001b[0m Trial 107 finished with value: -0.34470801105261745 and parameters: {'w_1': 0.954663577434403, 'w_2': 0.4519598791512914, 'w_3': 0.6687536240931047}. Best is trial 82 with value: -0.3449377330974912.\u001b[0m\n"
     ]
    },
    {
     "name": "stdout",
     "output_type": "stream",
     "text": [
      "             MAP\n",
      "cutoff          \n",
      "10      0.344708\n",
      "CURRENT CONFIGURATION:\n",
      "SLIMER with weight alpha: 0.5148798311423899\n",
      "EASE_Hybrid with weight beta: 0.23341069998669234\n",
      "RP3 with weight gamma: 0.2517094688709177\n",
      "Norm type: None\n",
      "EvaluatorHoldout: Processed 13649 (100.0%) in 42.79 sec. Users per second: 319\n"
     ]
    },
    {
     "name": "stderr",
     "output_type": "stream",
     "text": [
      "\u001b[32m[I 2022-01-07 18:54:50,219]\u001b[0m Trial 108 finished with value: -0.34484110702918247 and parameters: {'w_1': 0.827845109184255, 'w_2': 0.37528738693557334, 'w_3': 0.40470890513971075}. Best is trial 82 with value: -0.3449377330974912.\u001b[0m\n"
     ]
    },
    {
     "name": "stdout",
     "output_type": "stream",
     "text": [
      "             MAP\n",
      "cutoff          \n",
      "10      0.344841\n",
      "CURRENT CONFIGURATION:\n",
      "SLIMER with weight alpha: 0.5447123082121565\n",
      "EASE_Hybrid with weight beta: 0.15554590746563476\n",
      "RP3 with weight gamma: 0.2997417843222087\n",
      "Norm type: None\n",
      "EvaluatorHoldout: Processed 13649 (100.0%) in 43.61 sec. Users per second: 313\n"
     ]
    },
    {
     "name": "stderr",
     "output_type": "stream",
     "text": [
      "\u001b[32m[I 2022-01-07 18:55:33,908]\u001b[0m Trial 109 finished with value: -0.34451840474388185 and parameters: {'w_1': 0.8857434047611428, 'w_2': 0.2529294080529797, 'w_3': 0.4874028080366555}. Best is trial 82 with value: -0.3449377330974912.\u001b[0m\n"
     ]
    },
    {
     "name": "stdout",
     "output_type": "stream",
     "text": [
      "             MAP\n",
      "cutoff          \n",
      "10      0.344518\n",
      "CURRENT CONFIGURATION:\n",
      "SLIMER with weight alpha: 0.39009114064592615\n",
      "EASE_Hybrid with weight beta: 0.37291268399081845\n",
      "RP3 with weight gamma: 0.2369961753632554\n",
      "Norm type: None\n",
      "EvaluatorHoldout: Processed 13649 (100.0%) in 43.10 sec. Users per second: 317\n"
     ]
    },
    {
     "name": "stderr",
     "output_type": "stream",
     "text": [
      "\u001b[32m[I 2022-01-07 18:56:17,087]\u001b[0m Trial 110 finished with value: -0.3446607432139344 and parameters: {'w_1': 0.9771615004373967, 'w_2': 0.9341302066415191, 'w_3': 0.5936652084239061}. Best is trial 82 with value: -0.3449377330974912.\u001b[0m\n"
     ]
    },
    {
     "name": "stdout",
     "output_type": "stream",
     "text": [
      "             MAP\n",
      "cutoff          \n",
      "10      0.344661\n",
      "CURRENT CONFIGURATION:\n",
      "SLIMER with weight alpha: 0.4551206970723044\n",
      "EASE_Hybrid with weight beta: 0.1978673056677522\n",
      "RP3 with weight gamma: 0.3470119972599434\n",
      "Norm type: None\n",
      "EvaluatorHoldout: Processed 13649 (100.0%) in 43.45 sec. Users per second: 314\n"
     ]
    },
    {
     "name": "stderr",
     "output_type": "stream",
     "text": [
      "\u001b[32m[I 2022-01-07 18:57:00,614]\u001b[0m Trial 111 finished with value: -0.34467785592758365 and parameters: {'w_1': 0.9352236400724225, 'w_2': 0.40659583940767086, 'w_3': 0.713071994558594}. Best is trial 82 with value: -0.3449377330974912.\u001b[0m\n"
     ]
    },
    {
     "name": "stdout",
     "output_type": "stream",
     "text": [
      "             MAP\n",
      "cutoff          \n",
      "10      0.344678\n",
      "CURRENT CONFIGURATION:\n",
      "SLIMER with weight alpha: 0.5688307031091359\n",
      "EASE_Hybrid with weight beta: 0.19185693532681478\n",
      "RP3 with weight gamma: 0.23931236156404925\n",
      "Norm type: None\n",
      "EvaluatorHoldout: Processed 13649 (100.0%) in 42.58 sec. Users per second: 321\n"
     ]
    },
    {
     "name": "stderr",
     "output_type": "stream",
     "text": [
      "\u001b[32m[I 2022-01-07 18:57:43,271]\u001b[0m Trial 112 finished with value: -0.3447618059117092 and parameters: {'w_1': 0.9994431046155166, 'w_2': 0.33709518497678725, 'w_3': 0.4204749995159025}. Best is trial 82 with value: -0.3449377330974912.\u001b[0m\n"
     ]
    },
    {
     "name": "stdout",
     "output_type": "stream",
     "text": [
      "             MAP\n",
      "cutoff          \n",
      "10      0.344762\n",
      "CURRENT CONFIGURATION:\n",
      "SLIMER with weight alpha: 0.5372678191470112\n",
      "EASE_Hybrid with weight beta: 0.24972765122470936\n",
      "RP3 with weight gamma: 0.2130045296282794\n",
      "Norm type: None\n",
      "EvaluatorHoldout: Processed 13649 (100.0%) in 43.39 sec. Users per second: 315\n"
     ]
    },
    {
     "name": "stderr",
     "output_type": "stream",
     "text": [
      "\u001b[32m[I 2022-01-07 18:58:26,739]\u001b[0m Trial 113 finished with value: -0.34478045080342135 and parameters: {'w_1': 0.9192030951653458, 'w_2': 0.4272551263512649, 'w_3': 0.3644261129010191}. Best is trial 82 with value: -0.3449377330974912.\u001b[0m\n"
     ]
    },
    {
     "name": "stdout",
     "output_type": "stream",
     "text": [
      "            MAP\n",
      "cutoff         \n",
      "10      0.34478\n",
      "CURRENT CONFIGURATION:\n",
      "SLIMER with weight alpha: 0.32839056154897645\n",
      "EASE_Hybrid with weight beta: 0.29686602889233965\n",
      "RP3 with weight gamma: 0.3747434095586838\n",
      "Norm type: None\n",
      "EvaluatorHoldout: Processed 13649 (100.0%) in 44.95 sec. Users per second: 304\n"
     ]
    },
    {
     "name": "stderr",
     "output_type": "stream",
     "text": [
      "\u001b[32m[I 2022-01-07 18:59:11,762]\u001b[0m Trial 114 finished with value: -0.34453409866645335 and parameters: {'w_1': 0.34597856146654693, 'w_2': 0.3127656323007319, 'w_3': 0.3948139835281041}. Best is trial 82 with value: -0.3449377330974912.\u001b[0m\n"
     ]
    },
    {
     "name": "stdout",
     "output_type": "stream",
     "text": [
      "             MAP\n",
      "cutoff          \n",
      "10      0.344534\n",
      "CURRENT CONFIGURATION:\n",
      "SLIMER with weight alpha: 0.5378163445112573\n",
      "EASE_Hybrid with weight beta: 0.2048895732678942\n",
      "RP3 with weight gamma: 0.25729408222084854\n",
      "Norm type: None\n",
      "EvaluatorHoldout: Processed 13649 (100.0%) in 44.41 sec. Users per second: 307\n"
     ]
    },
    {
     "name": "stderr",
     "output_type": "stream",
     "text": [
      "\u001b[32m[I 2022-01-07 18:59:56,254]\u001b[0m Trial 115 finished with value: -0.34487475970680137 and parameters: {'w_1': 0.9591136447627681, 'w_2': 0.36538938876883637, 'w_3': 0.4588448593896611}. Best is trial 82 with value: -0.3449377330974912.\u001b[0m\n"
     ]
    },
    {
     "name": "stdout",
     "output_type": "stream",
     "text": [
      "             MAP\n",
      "cutoff          \n",
      "10      0.344875\n",
      "CURRENT CONFIGURATION:\n",
      "SLIMER with weight alpha: 0.5152660952653338\n",
      "EASE_Hybrid with weight beta: 0.2132977839337053\n",
      "RP3 with weight gamma: 0.27143612080096086\n",
      "Norm type: None\n",
      "EvaluatorHoldout: Processed 13649 (100.0%) in 45.89 sec. Users per second: 297\n"
     ]
    },
    {
     "name": "stderr",
     "output_type": "stream",
     "text": [
      "\u001b[32m[I 2022-01-07 19:00:42,222]\u001b[0m Trial 116 finished with value: -0.34497515371206017 and parameters: {'w_1': 0.862073716293543, 'w_2': 0.356861076175057, 'w_3': 0.4541302980059095}. Best is trial 116 with value: -0.34497515371206017.\u001b[0m\n"
     ]
    },
    {
     "name": "stdout",
     "output_type": "stream",
     "text": [
      "             MAP\n",
      "cutoff          \n",
      "10      0.344975\n",
      "CURRENT CONFIGURATION:\n",
      "SLIMER with weight alpha: 0.5105212088410988\n",
      "EASE_Hybrid with weight beta: 0.21948877154310642\n",
      "RP3 with weight gamma: 0.26999001961579483\n",
      "Norm type: None\n",
      "EvaluatorHoldout: Processed 13649 (100.0%) in 43.85 sec. Users per second: 311\n"
     ]
    },
    {
     "name": "stderr",
     "output_type": "stream",
     "text": [
      "\u001b[32m[I 2022-01-07 19:01:26,162]\u001b[0m Trial 117 finished with value: -0.34494678952002067 and parameters: {'w_1': 0.8769500466449642, 'w_2': 0.37702780043107526, 'w_3': 0.46377654090653214}. Best is trial 116 with value: -0.34497515371206017.\u001b[0m\n"
     ]
    },
    {
     "name": "stdout",
     "output_type": "stream",
     "text": [
      "             MAP\n",
      "cutoff          \n",
      "10      0.344947\n",
      "CURRENT CONFIGURATION:\n",
      "SLIMER with weight alpha: 0.5056375702278509\n",
      "EASE_Hybrid with weight beta: 0.22443275820538494\n",
      "RP3 with weight gamma: 0.26992967156676406\n",
      "Norm type: None\n",
      "EvaluatorHoldout: Processed 13649 (100.0%) in 1.56 min. Users per second: 146\n"
     ]
    },
    {
     "name": "stderr",
     "output_type": "stream",
     "text": [
      "\u001b[32m[I 2022-01-07 19:02:59,577]\u001b[0m Trial 118 finished with value: -0.34486511018308486 and parameters: {'w_1': 0.8735572695581346, 'w_2': 0.3877379352348178, 'w_3': 0.46634000468029}. Best is trial 116 with value: -0.34497515371206017.\u001b[0m\n"
     ]
    },
    {
     "name": "stdout",
     "output_type": "stream",
     "text": [
      "             MAP\n",
      "cutoff          \n",
      "10      0.344865\n",
      "CURRENT CONFIGURATION:\n",
      "SLIMER with weight alpha: 0.4796314146905105\n",
      "EASE_Hybrid with weight beta: 0.22570765824798117\n",
      "RP3 with weight gamma: 0.2946609270615082\n",
      "Norm type: None\n",
      "EvaluatorHoldout: Processed 13649 (100.0%) in 43.88 sec. Users per second: 311\n"
     ]
    },
    {
     "name": "stderr",
     "output_type": "stream",
     "text": [
      "\u001b[32m[I 2022-01-07 19:03:43,539]\u001b[0m Trial 119 finished with value: -0.3449188468950021 and parameters: {'w_1': 0.8951374857421256, 'w_2': 0.42123885035180564, 'w_3': 0.5499265338290629}. Best is trial 116 with value: -0.34497515371206017.\u001b[0m\n"
     ]
    },
    {
     "name": "stdout",
     "output_type": "stream",
     "text": [
      "             MAP\n",
      "cutoff          \n",
      "10      0.344919\n",
      "CURRENT CONFIGURATION:\n",
      "SLIMER with weight alpha: 0.4683840873196888\n",
      "EASE_Hybrid with weight beta: 0.2521500856503922\n",
      "RP3 with weight gamma: 0.27946582702991907\n",
      "Norm type: None\n",
      "EvaluatorHoldout: Processed 13649 (100.0%) in 44.31 sec. Users per second: 308\n"
     ]
    },
    {
     "name": "stderr",
     "output_type": "stream",
     "text": [
      "\u001b[32m[I 2022-01-07 19:04:27,923]\u001b[0m Trial 120 finished with value: -0.3448417495554673 and parameters: {'w_1': 0.8959036035847844, 'w_2': 0.48230112101185063, 'w_3': 0.5345494185075017}. Best is trial 116 with value: -0.34497515371206017.\u001b[0m\n"
     ]
    },
    {
     "name": "stdout",
     "output_type": "stream",
     "text": [
      "             MAP\n",
      "cutoff          \n",
      "10      0.344842\n",
      "CURRENT CONFIGURATION:\n",
      "SLIMER with weight alpha: 0.49630271722360025\n",
      "EASE_Hybrid with weight beta: 0.21400028750398814\n",
      "RP3 with weight gamma: 0.2896969952724116\n",
      "Norm type: None\n",
      "EvaluatorHoldout: Processed 13649 (100.0%) in 54.28 sec. Users per second: 251\n"
     ]
    },
    {
     "name": "stderr",
     "output_type": "stream",
     "text": [
      "\u001b[32m[I 2022-01-07 19:05:22,307]\u001b[0m Trial 121 finished with value: -0.3449817010839833 and parameters: {'w_1': 0.9578998678021584, 'w_2': 0.4130359153712616, 'w_3': 0.5591359947140943}. Best is trial 121 with value: -0.3449817010839833.\u001b[0m\n"
     ]
    },
    {
     "name": "stdout",
     "output_type": "stream",
     "text": [
      "             MAP\n",
      "cutoff          \n",
      "10      0.344982\n",
      "CURRENT CONFIGURATION:\n",
      "SLIMER with weight alpha: 0.5046089801488706\n",
      "EASE_Hybrid with weight beta: 0.2250539213833009\n",
      "RP3 with weight gamma: 0.2703370984678286\n",
      "Norm type: None\n",
      "EvaluatorHoldout: Processed 13649 (100.0%) in 46.49 sec. Users per second: 294\n"
     ]
    },
    {
     "name": "stderr",
     "output_type": "stream",
     "text": [
      "\u001b[32m[I 2022-01-07 19:06:08,887]\u001b[0m Trial 122 finished with value: -0.34484818935511563 and parameters: {'w_1': 0.9579700547146514, 'w_2': 0.427251447878915, 'w_3': 0.5132188589553494}. Best is trial 121 with value: -0.3449817010839833.\u001b[0m\n"
     ]
    },
    {
     "name": "stdout",
     "output_type": "stream",
     "text": [
      "             MAP\n",
      "cutoff          \n",
      "10      0.344848\n",
      "CURRENT CONFIGURATION:\n",
      "SLIMER with weight alpha: 0.4476891433088082\n",
      "EASE_Hybrid with weight beta: 0.23311327977962312\n",
      "RP3 with weight gamma: 0.3191975769115686\n",
      "Norm type: None\n",
      "EvaluatorHoldout: Processed 13649 (100.0%) in 46.86 sec. Users per second: 291\n"
     ]
    },
    {
     "name": "stderr",
     "output_type": "stream",
     "text": [
      "\u001b[32m[I 2022-01-07 19:06:55,830]\u001b[0m Trial 123 finished with value: -0.34475557253453326 and parameters: {'w_1': 0.8632459725587776, 'w_2': 0.4494951528921026, 'w_3': 0.6154851571403092}. Best is trial 121 with value: -0.3449817010839833.\u001b[0m\n"
     ]
    },
    {
     "name": "stdout",
     "output_type": "stream",
     "text": [
      "             MAP\n",
      "cutoff          \n",
      "10      0.344756\n",
      "CURRENT CONFIGURATION:\n",
      "SLIMER with weight alpha: 0.5015374127253015\n",
      "EASE_Hybrid with weight beta: 0.21116686076306468\n",
      "RP3 with weight gamma: 0.28729572651163376\n",
      "Norm type: None\n",
      "EvaluatorHoldout: Processed 13649 (100.0%) in 43.21 sec. Users per second: 316\n"
     ]
    },
    {
     "name": "stderr",
     "output_type": "stream",
     "text": [
      "\u001b[32m[I 2022-01-07 19:07:39,123]\u001b[0m Trial 124 finished with value: -0.3449397188235231 and parameters: {'w_1': 0.9741593728573883, 'w_2': 0.41015918539636564, 'w_3': 0.5580278114096949}. Best is trial 121 with value: -0.3449817010839833.\u001b[0m\n"
     ]
    },
    {
     "name": "stdout",
     "output_type": "stream",
     "text": [
      "            MAP\n",
      "cutoff         \n",
      "10      0.34494\n",
      "CURRENT CONFIGURATION:\n",
      "SLIMER with weight alpha: 0.5055876595422406\n",
      "EASE_Hybrid with weight beta: 0.20867584000291078\n",
      "RP3 with weight gamma: 0.28573650045484866\n",
      "Norm type: None\n",
      "EvaluatorHoldout: Processed 13649 (100.0%) in 47.57 sec. Users per second: 287\n"
     ]
    },
    {
     "name": "stderr",
     "output_type": "stream",
     "text": [
      "\u001b[32m[I 2022-01-07 19:08:26,778]\u001b[0m Trial 125 finished with value: -0.3449499236527626 and parameters: {'w_1': 0.9773660885178952, 'w_2': 0.4033972856388345, 'w_3': 0.552365471200776}. Best is trial 121 with value: -0.3449817010839833.\u001b[0m\n"
     ]
    },
    {
     "name": "stdout",
     "output_type": "stream",
     "text": [
      "            MAP\n",
      "cutoff         \n",
      "10      0.34495\n",
      "CURRENT CONFIGURATION:\n",
      "SLIMER with weight alpha: 0.48425079601777293\n",
      "EASE_Hybrid with weight beta: 0.2011868646790055\n",
      "RP3 with weight gamma: 0.3145623393032215\n",
      "Norm type: None\n",
      "EvaluatorHoldout: Processed 13649 (100.0%) in 45.06 sec. Users per second: 303\n"
     ]
    },
    {
     "name": "stderr",
     "output_type": "stream",
     "text": [
      "\u001b[32m[I 2022-01-07 19:09:11,928]\u001b[0m Trial 126 finished with value: -0.3447658907507643 and parameters: {'w_1': 0.9859650178011017, 'w_2': 0.40962908527114367, 'w_3': 0.6404686683453051}. Best is trial 121 with value: -0.3449817010839833.\u001b[0m\n"
     ]
    },
    {
     "name": "stdout",
     "output_type": "stream",
     "text": [
      "             MAP\n",
      "cutoff          \n",
      "10      0.344766\n",
      "CURRENT CONFIGURATION:\n",
      "SLIMER with weight alpha: 0.3294772714766702\n",
      "EASE_Hybrid with weight beta: 0.30765113056498944\n",
      "RP3 with weight gamma: 0.3628715979583404\n",
      "Norm type: None\n",
      "EvaluatorHoldout: Processed 13649 (100.0%) in 44.86 sec. Users per second: 304\n"
     ]
    },
    {
     "name": "stderr",
     "output_type": "stream",
     "text": [
      "\u001b[32m[I 2022-01-07 19:09:56,877]\u001b[0m Trial 127 finished with value: -0.34441001840939606 and parameters: {'w_1': 0.49871703371676235, 'w_2': 0.46567964632985037, 'w_3': 0.5492647372693181}. Best is trial 121 with value: -0.3449817010839833.\u001b[0m\n"
     ]
    },
    {
     "name": "stdout",
     "output_type": "stream",
     "text": [
      "            MAP\n",
      "cutoff         \n",
      "10      0.34441\n",
      "CURRENT CONFIGURATION:\n",
      "SLIMER with weight alpha: 0.49337365371684283\n",
      "EASE_Hybrid with weight beta: 0.21857955884550398\n",
      "RP3 with weight gamma: 0.28804678743765316\n",
      "Norm type: None\n",
      "EvaluatorHoldout: Processed 13649 (100.0%) in 43.24 sec. Users per second: 316\n"
     ]
    },
    {
     "name": "stderr",
     "output_type": "stream",
     "text": [
      "\u001b[32m[I 2022-01-07 19:10:40,201]\u001b[0m Trial 128 finished with value: -0.3449438618097531 and parameters: {'w_1': 0.9766603803817129, 'w_2': 0.43269030171650846, 'w_3': 0.5702045151118795}. Best is trial 121 with value: -0.3449817010839833.\u001b[0m\n"
     ]
    },
    {
     "name": "stdout",
     "output_type": "stream",
     "text": [
      "             MAP\n",
      "cutoff          \n",
      "10      0.344944\n",
      "CURRENT CONFIGURATION:\n",
      "SLIMER with weight alpha: 0.46627242147398124\n",
      "EASE_Hybrid with weight beta: 0.2569071632771901\n",
      "RP3 with weight gamma: 0.2768204152488285\n",
      "Norm type: None\n",
      "EvaluatorHoldout: Processed 13649 (100.0%) in 44.14 sec. Users per second: 309\n"
     ]
    },
    {
     "name": "stderr",
     "output_type": "stream",
     "text": [
      "\u001b[32m[I 2022-01-07 19:11:24,423]\u001b[0m Trial 129 finished with value: -0.344767722386781 and parameters: {'w_1': 0.9786374513571089, 'w_2': 0.5392104699441322, 'w_3': 0.5810054663030229}. Best is trial 121 with value: -0.3449817010839833.\u001b[0m\n"
     ]
    },
    {
     "name": "stdout",
     "output_type": "stream",
     "text": [
      "             MAP\n",
      "cutoff          \n",
      "10      0.344768\n",
      "CURRENT CONFIGURATION:\n",
      "SLIMER with weight alpha: 0.48322390271915955\n",
      "EASE_Hybrid with weight beta: 0.2275439372973391\n",
      "RP3 with weight gamma: 0.2892321599835013\n",
      "Norm type: None\n",
      "EvaluatorHoldout: Processed 13649 (100.0%) in 44.62 sec. Users per second: 306\n"
     ]
    },
    {
     "name": "stderr",
     "output_type": "stream",
     "text": [
      "\u001b[32m[I 2022-01-07 19:12:09,134]\u001b[0m Trial 130 finished with value: -0.34492059712497414 and parameters: {'w_1': 0.9366548642496438, 'w_2': 0.44105876075409245, 'w_3': 0.5606318479312183}. Best is trial 121 with value: -0.3449817010839833.\u001b[0m\n"
     ]
    },
    {
     "name": "stdout",
     "output_type": "stream",
     "text": [
      "             MAP\n",
      "cutoff          \n",
      "10      0.344921\n",
      "CURRENT CONFIGURATION:\n",
      "SLIMER with weight alpha: 0.48565278026700764\n",
      "EASE_Hybrid with weight beta: 0.22623676415067628\n",
      "RP3 with weight gamma: 0.28811045558231607\n",
      "Norm type: None\n",
      "EvaluatorHoldout: Processed 13649 (100.0%) in 52.54 sec. Users per second: 260\n"
     ]
    },
    {
     "name": "stderr",
     "output_type": "stream",
     "text": [
      "\u001b[32m[I 2022-01-07 19:13:01,775]\u001b[0m Trial 131 finished with value: -0.34493841051208207 and parameters: {'w_1': 0.9458681161113238, 'w_2': 0.4406237348928017, 'w_3': 0.5611303073438485}. Best is trial 121 with value: -0.3449817010839833.\u001b[0m\n"
     ]
    },
    {
     "name": "stdout",
     "output_type": "stream",
     "text": [
      "             MAP\n",
      "cutoff          \n",
      "10      0.344938\n",
      "CURRENT CONFIGURATION:\n",
      "SLIMER with weight alpha: 0.4859937712424428\n",
      "EASE_Hybrid with weight beta: 0.22608836828861592\n",
      "RP3 with weight gamma: 0.28791786046894124\n",
      "Norm type: None\n",
      "EvaluatorHoldout: Processed 13649 (100.0%) in 49.22 sec. Users per second: 277\n"
     ]
    },
    {
     "name": "stderr",
     "output_type": "stream",
     "text": [
      "\u001b[32m[I 2022-01-07 19:13:51,084]\u001b[0m Trial 132 finished with value: -0.3449295663267415 and parameters: {'w_1': 0.945819148435015, 'w_2': 0.4400029807359922, 'w_3': 0.5603327485284103}. Best is trial 121 with value: -0.3449817010839833.\u001b[0m\n"
     ]
    },
    {
     "name": "stdout",
     "output_type": "stream",
     "text": [
      "            MAP\n",
      "cutoff         \n",
      "10      0.34493\n",
      "CURRENT CONFIGURATION:\n",
      "SLIMER with weight alpha: 0.4617263719896087\n",
      "EASE_Hybrid with weight beta: 0.2457210417554432\n",
      "RP3 with weight gamma: 0.2925525862549482\n",
      "Norm type: None\n",
      "EvaluatorHoldout: Processed 13649 (100.0%) in 53.45 sec. Users per second: 255\n"
     ]
    },
    {
     "name": "stderr",
     "output_type": "stream",
     "text": [
      "\u001b[32m[I 2022-01-07 19:14:44,634]\u001b[0m Trial 133 finished with value: -0.34479122256761874 and parameters: {'w_1': 0.9526316889251695, 'w_2': 0.5069705029047118, 'w_3': 0.6035931262547631}. Best is trial 121 with value: -0.3449817010839833.\u001b[0m\n"
     ]
    },
    {
     "name": "stdout",
     "output_type": "stream",
     "text": [
      "             MAP\n",
      "cutoff          \n",
      "10      0.344791\n",
      "CURRENT CONFIGURATION:\n",
      "SLIMER with weight alpha: 0.49308196713087543\n",
      "EASE_Hybrid with weight beta: 0.22211889474583904\n",
      "RP3 with weight gamma: 0.28479913812328544\n",
      "Norm type: None\n",
      "EvaluatorHoldout: Processed 13649 (100.0%) in 52.06 sec. Users per second: 262\n"
     ]
    },
    {
     "name": "stderr",
     "output_type": "stream",
     "text": [
      "\u001b[32m[I 2022-01-07 19:15:36,786]\u001b[0m Trial 134 finished with value: -0.3449138084422752 and parameters: {'w_1': 0.9728362809159785, 'w_2': 0.43823407443402945, 'w_3': 0.5619003589851302}. Best is trial 121 with value: -0.3449817010839833.\u001b[0m\n"
     ]
    },
    {
     "name": "stdout",
     "output_type": "stream",
     "text": [
      "             MAP\n",
      "cutoff          \n",
      "10      0.344914\n",
      "CURRENT CONFIGURATION:\n",
      "SLIMER with weight alpha: 0.4828605454789972\n",
      "EASE_Hybrid with weight beta: 0.23955054274148846\n",
      "RP3 with weight gamma: 0.2775889117795143\n",
      "Norm type: None\n",
      "EvaluatorHoldout: Processed 13649 (100.0%) in 1.54 min. Users per second: 148\n"
     ]
    },
    {
     "name": "stderr",
     "output_type": "stream",
     "text": [
      "\u001b[32m[I 2022-01-07 19:17:09,164]\u001b[0m Trial 135 finished with value: -0.3447865329979436 and parameters: {'w_1': 0.9762239049341435, 'w_2': 0.4843116060190948, 'w_3': 0.5612157256604929}. Best is trial 121 with value: -0.3449817010839833.\u001b[0m\n"
     ]
    },
    {
     "name": "stdout",
     "output_type": "stream",
     "text": [
      "             MAP\n",
      "cutoff          \n",
      "10      0.344787\n",
      "CURRENT CONFIGURATION:\n",
      "SLIMER with weight alpha: 0.46443641959824306\n",
      "EASE_Hybrid with weight beta: 0.21784465057084243\n",
      "RP3 with weight gamma: 0.31771892983091443\n",
      "Norm type: None\n",
      "EvaluatorHoldout: Processed 13649 (100.0%) in 1.67 min. Users per second: 136\n"
     ]
    },
    {
     "name": "stderr",
     "output_type": "stream",
     "text": [
      "\u001b[32m[I 2022-01-07 19:18:49,485]\u001b[0m Trial 136 finished with value: -0.3447738569137599 and parameters: {'w_1': 0.9461448973434362, 'w_2': 0.44379078783154535, 'w_3': 0.6472535993386901}. Best is trial 121 with value: -0.3449817010839833.\u001b[0m\n"
     ]
    },
    {
     "name": "stdout",
     "output_type": "stream",
     "text": [
      "             MAP\n",
      "cutoff          \n",
      "10      0.344774\n",
      "CURRENT CONFIGURATION:\n",
      "SLIMER with weight alpha: 0.486506787497041\n",
      "EASE_Hybrid with weight beta: 0.22898477136034534\n",
      "RP3 with weight gamma: 0.2845084411426136\n",
      "Norm type: None\n"
     ]
    }
   ],
   "source": [
    "study = optuna.create_study(direction='minimize')\n",
    "study.optimize(Objective(URM_train, recommender_slimer, recommender_ease_hyb, recommender_rp3, evaluator_validation), n_trials=500)\n",
    "\n",
    "print(study.best_params)"
   ]
  }
 ],
 "metadata": {
  "kernelspec": {
   "display_name": "Python 3 (ipykernel)",
   "language": "python",
   "name": "python3"
  },
  "language_info": {
   "codemirror_mode": {
    "name": "ipython",
    "version": 3
   },
   "file_extension": ".py",
   "mimetype": "text/x-python",
   "name": "python",
   "nbconvert_exporter": "python",
   "pygments_lexer": "ipython3",
   "version": "3.8.12"
  }
 },
 "nbformat": 4,
 "nbformat_minor": 5
}
