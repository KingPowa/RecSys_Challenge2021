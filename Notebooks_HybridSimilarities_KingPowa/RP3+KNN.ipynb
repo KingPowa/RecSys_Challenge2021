{
 "cells": [
  {
   "cell_type": "code",
   "execution_count": 1,
   "id": "7e809989",
   "metadata": {},
   "outputs": [],
   "source": [
    "import sys\n",
    "sys.path.append('../RecSysRep/')"
   ]
  },
  {
   "cell_type": "code",
   "execution_count": 2,
   "id": "bc728eee",
   "metadata": {},
   "outputs": [],
   "source": [
    "import Basics.Load as ld\n",
    "\n",
    "URM_all, _, _, _, _ = ld.getCOOs()\n",
    "ICM_weighted = ld.getICMselected('7')\n",
    "# URM_train, URM_val = ld.getSplit(URM_train_val, 5678, 0.8)"
   ]
  },
  {
   "cell_type": "code",
   "execution_count": 3,
   "id": "09a0a841",
   "metadata": {},
   "outputs": [
    {
     "name": "stdout",
     "output_type": "stream",
     "text": [
      "Warning: 7 (0.05 %) of 13650 users have no sampled items\n",
      "EvaluatorHoldout: Ignoring 13643 ( 0.1%) Users that have less than 1 test interactions\n"
     ]
    }
   ],
   "source": [
    "from Evaluation.Evaluator import EvaluatorHoldout\n",
    "from Data_manager.split_functions.split_train_validation_random_holdout import split_train_in_two_percentage_global_sample\n",
    "\n",
    "URM_train, URM_validation = split_train_in_two_percentage_global_sample(URM_all, train_percentage = 0.8, seed=1234)\n",
    "# URM_train, URM_validation = split_train_in_two_percentage_global_sample(URM_train_validation, train_percentage = 0.8)\n",
    "\n",
    "evaluator_validation = EvaluatorHoldout(URM_validation, cutoff_list=[10])\n",
    "# evaluator_test = EvaluatorHoldout(URM_test, cutoff_list=[10])"
   ]
  },
  {
   "cell_type": "code",
   "execution_count": 4,
   "id": "2d0f462a",
   "metadata": {},
   "outputs": [],
   "source": [
    "import os\n",
    "\n",
    "ofp = \"../models_temp/Similarity_Hybrid/\"\n",
    "\n",
    "models_to_combine_best = {\n",
    "                            'RP3ICMnew': {'alpha': 1.029719677583138, 'beta': 1.0630164752134375, 'topK': 6964, 'normalize_similarity': True},\n",
    "                            'RP3ICM' : {\"topK\": 2550, \"alpha\": 1.3058102610510849, \"beta\": 0.5150718337969987, \"normalize_similarity\": True, \"implicit\": True},\n",
    "                            'IALS' : {\"num_factors\": 29, \"epochs\": 50, \"confidence_scaling\": \"log\", \"alpha\": 0.001, \"epsilon\": 0.001, \"reg\": 0.01},\n",
    "                            'SLIMgensub': {\"l1_ratio\" : 0.025887359156206147, \"topK\": 2140, \"alpha\": 0.009567288586539689, \"workers\": 8, \"mw\": 1},\n",
    "                            'SLIMBPR' : {\"epochs\": 440, \"lambda_i\": 0.007773815998802306, \"lambda_j\": 0.003342522366982381, \"learning_rate\": 0.010055161410725193, \"topK\": 4289, \"random_seed\": 1234, \"sgd_mode\": \"sgd\"},\n",
    "                            'SLIMweig': {'l1_ratio': 0.0005247075138160404, 'topK': 4983, 'alpha': 0.06067400905430761, 'workers': 8, 'mw': 2.308619939318322},\n",
    "                            'SLIMER': {'topK': 6000, 'l1_ratio': 0.0005495104968035837, 'alpha': 0.08007142704041009, 'workers': 8},\n",
    "                            'P3alpha': {'topK': 4834, 'alpha': 1.764994849187595, 'normalize_similarity': True, 'implicit': True},\n",
    "                            'RP3beta': {\"topK\": 1049, \"alpha\": 1.1626473723475605, \"beta\": 0.6765017195261293, \"normalize_similarity\": True, \"implicit\": True},\n",
    "                            'icm_weighted': {\"shrink\": 4000, \"topK\": 985, \"feature_weighting\": \"TF-IDF\", \"normalize\": True}\n",
    "                         }\n"
   ]
  },
  {
   "cell_type": "code",
   "execution_count": 5,
   "id": "57c364ea",
   "metadata": {},
   "outputs": [],
   "source": [
    "def model_init(recommender, name, args):\n",
    "    path_name = ofp + name + \".zip\"\n",
    "    print(path_name)\n",
    "    if os.path.exists(path_name):\n",
    "        print(\"Model found!\")\n",
    "        recommender.load_model(ofp, name)\n",
    "    else:\n",
    "        print(\"Model does not exists, creating...\")\n",
    "        if not os.path.exists(ofp):\n",
    "            print(\"Main folder does not exist, creating...\")\n",
    "            os.makedirs(ofp)\n",
    "        recommender.fit(**args)\n",
    "        recommender.save_model(ofp, name)"
   ]
  },
  {
   "cell_type": "code",
   "execution_count": 6,
   "id": "c79d8fa9",
   "metadata": {},
   "outputs": [],
   "source": [
    "from Recommenders.NonPersonalizedRecommender import TopPop\n",
    "from Recommenders.KNN.ItemKNNCBFRecommender import ItemKNNCBFRecommender\n",
    "from Recommenders.SLIM.Cython.SLIM_BPR_Cython import SLIM_BPR_Cython\n",
    "from Recommenders.SLIM.SLIMElasticNetRecommender import MultiThreadSLIM_SLIMElasticNetRecommender\n",
    "from Recommenders.GraphBased.P3alphaRecommender import P3alphaRecommender\n",
    "from Recommenders.GraphBased.RP3betaRecommender import RP3betaRecommender\n",
    "from Recommenders.GraphBased.RP3betaRecommender import RP3betaRecommenderICM\n",
    "from Recommenders.MatrixFactorization.IALSRecommender import IALSRecommender"
   ]
  },
  {
   "cell_type": "code",
   "execution_count": 7,
   "id": "f224220e",
   "metadata": {},
   "outputs": [],
   "source": [
    "from Recommenders.KNN.ItemKNNSimilarityHybridRecommender import ItemKNNSimilarityHybridRecommender\n",
    "from Recommenders.KNN.ItemKNNSimilarityHybridRecommenderNormal import ItemKNNSimilarityHybridRecommenderNormal"
   ]
  },
  {
   "cell_type": "code",
   "execution_count": 8,
   "id": "edf8b689",
   "metadata": {},
   "outputs": [
    {
     "name": "stdout",
     "output_type": "stream",
     "text": [
      "ItemKNNCBFRecommender: ICM Detected 22 ( 0.1%) items with no features.\n",
      "../models_temp/Similarity_Hybrid/P3alpha.zip\n",
      "Model found!\n",
      "P3alphaRecommender: Loading model from file '../models_temp/Similarity_Hybrid/P3alpha'\n",
      "P3alphaRecommender: Loading complete\n",
      "../models_temp/Similarity_Hybrid/KNNweigh.zip\n",
      "Model found!\n",
      "ItemKNNCBFRecommender: Loading model from file '../models_temp/Similarity_Hybrid/KNNweigh'\n",
      "ItemKNNCBFRecommender: Loading complete\n"
     ]
    }
   ],
   "source": [
    "recommender1 = P3alphaRecommender(URM_train)\n",
    "recommender2 = ItemKNNCBFRecommender(URM_train, ICM_weighted)\n",
    "\n",
    "model_init(recommender1, 'P3alpha', models_to_combine_best['P3alpha'])\n",
    "model_init(recommender2, 'KNNweigh', models_to_combine_best['icm_weighted'])"
   ]
  },
  {
   "cell_type": "code",
   "execution_count": 9,
   "id": "aba498cc",
   "metadata": {},
   "outputs": [],
   "source": [
    "def rank_models(evaluator, recommenders):\n",
    "    for r in recommenders:\n",
    "        r_d, _ = evaluator.evaluateRecommender(r)\n",
    "        print(r.RECOMMENDER_NAME, r_d.loc[10]['MAP'])"
   ]
  },
  {
   "cell_type": "code",
   "execution_count": 10,
   "id": "a0159f45",
   "metadata": {},
   "outputs": [
    {
     "name": "stdout",
     "output_type": "stream",
     "text": [
      "EvaluatorHoldout: Processed 13643 (100.0%) in 26.06 sec. Users per second: 523\n",
      "P3alphaRecommender 0.20400471373772652\n",
      "EvaluatorHoldout: Processed 13643 (100.0%) in 17.97 sec. Users per second: 759\n",
      "ItemKNNCBFRecommender 0.07652628710112308\n"
     ]
    }
   ],
   "source": [
    "rank_models(evaluator_validation, [recommender1, recommender2])"
   ]
  },
  {
   "cell_type": "code",
   "execution_count": 11,
   "id": "f3845a46",
   "metadata": {},
   "outputs": [],
   "source": [
    "import matplotlib.pyplot as plt"
   ]
  },
  {
   "cell_type": "code",
   "execution_count": 17,
   "id": "2a61f008",
   "metadata": {},
   "outputs": [],
   "source": [
    "import numpy as np\n",
    "\n",
    "def test_percentage(recommender_1, recommender_2, evaluator, step):\n",
    "    recommender = ItemKNNSimilarityHybridRecommenderNormal(URM_train, recommender_1.W_sparse, recommender_2.W_sparse)\n",
    "    results = []\n",
    "    alp_space = np.linspace(0.773, 0.7737, step, True)\n",
    "    for alp in alp_space:\n",
    "        recommender.fit(alp)\n",
    "        r_d, _ = evaluator.evaluateRecommender(recommender)\n",
    "        print(alp, \":\", r_d.loc[10]['MAP'])\n",
    "        results.append(r_d.loc[10]['MAP'])\n",
    "    \n",
    "    return alp_space, results"
   ]
  },
  {
   "cell_type": "code",
   "execution_count": null,
   "id": "062f5fa1",
   "metadata": {},
   "outputs": [
    {
     "name": "stdout",
     "output_type": "stream",
     "text": [
      "EvaluatorHoldout: Processed 13643 (100.0%) in 26.75 sec. Users per second: 510\n",
      "0.769 : 0.2120240713011738\n",
      "EvaluatorHoldout: Processed 13643 (100.0%) in 26.23 sec. Users per second: 520\n",
      "0.7692413793103449 : 0.212042218289745\n",
      "EvaluatorHoldout: Processed 13643 (100.0%) in 26.13 sec. Users per second: 522\n",
      "0.7694827586206897 : 0.21202129064384467\n",
      "EvaluatorHoldout: Processed 13643 (100.0%) in 28.31 sec. Users per second: 482\n",
      "0.7697241379310344 : 0.21203191298753146\n",
      "EvaluatorHoldout: Processed 13643 (100.0%) in 27.74 sec. Users per second: 492\n",
      "0.7699655172413793 : 0.21204869000790003\n",
      "EvaluatorHoldout: Processed 13643 (100.0%) in 27.34 sec. Users per second: 499\n",
      "0.7702068965517241 : 0.2120510081918865\n",
      "EvaluatorHoldout: Processed 13643 (100.0%) in 26.34 sec. Users per second: 518\n",
      "0.770448275862069 : 0.21206536231732315\n"
     ]
    }
   ],
   "source": [
    "alp_space, results = test_percentage(recommender1, recommender2, evaluator_validation, 30)"
   ]
  },
  {
   "cell_type": "code",
   "execution_count": null,
   "id": "6a069a56",
   "metadata": {},
   "outputs": [],
   "source": [
    "import matplotlib.pyplot as plt\n",
    "\n",
    "_ = plt.figure(figsize=(16, 9))\n",
    "plt.plot(alp_space, results, label='MAP variability')\n",
    "plt.ylabel('MAP')\n",
    "plt.xlabel('User Group')\n",
    "plt.legend()\n",
    "plt.show()"
   ]
  },
  {
   "cell_type": "code",
   "execution_count": null,
   "id": "ed47bc68",
   "metadata": {},
   "outputs": [],
   "source": []
  }
 ],
 "metadata": {
  "kernelspec": {
   "display_name": "Python 3 (ipykernel)",
   "language": "python",
   "name": "python3"
  },
  "language_info": {
   "codemirror_mode": {
    "name": "ipython",
    "version": 3
   },
   "file_extension": ".py",
   "mimetype": "text/x-python",
   "name": "python",
   "nbconvert_exporter": "python",
   "pygments_lexer": "ipython3",
   "version": "3.8.12"
  }
 },
 "nbformat": 4,
 "nbformat_minor": 5
}
