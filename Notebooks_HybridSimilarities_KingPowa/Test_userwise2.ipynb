{
 "cells": [
  {
   "cell_type": "code",
   "execution_count": 1,
   "id": "ad01da2b",
   "metadata": {},
   "outputs": [],
   "source": [
    "import sys\n",
    "sys.path.append('../RecSysRep/')"
   ]
  },
  {
   "cell_type": "code",
   "execution_count": 2,
   "id": "b7bfa780",
   "metadata": {},
   "outputs": [],
   "source": [
    "import Basics.Load as ld\n",
    "import scipy.sparse as sps\n",
    "\n",
    "URM_all, ICM1, ICM2, ICM3, ICM4 = ld.getCOOs()\n",
    "ICML = ld.getICMlength('5km')\n",
    "ICM_weighted = ld.getICMselected('7')\n",
    "ICM_gen = sps.hstack([ICM1, ICM2])\n",
    "ICM_all = sps.hstack([ICM1, ICM2, ICM3, ICML])\n",
    "# URM_train, URM_val = ld.getSplit(URM_train_val, 5678, 0.8)"
   ]
  },
  {
   "cell_type": "code",
   "execution_count": 3,
   "id": "259a3bd9",
   "metadata": {},
   "outputs": [
    {
     "name": "stdout",
     "output_type": "stream",
     "text": [
      "Warning: 5 (0.04 %) of 13650 users have no sampled items\n",
      "EvaluatorHoldout: Ignoring 13645 ( 0.0%) Users that have less than 1 test interactions\n"
     ]
    }
   ],
   "source": [
    "from Evaluation.Evaluator import EvaluatorHoldout\n",
    "from Data_manager.split_functions.split_train_validation_random_holdout import split_train_in_two_percentage_global_sample\n",
    "\n",
    "URM_train, URM_validation = split_train_in_two_percentage_global_sample(URM_all, train_percentage = 0.8, seed=9123)\n",
    "# URM_train, URM_validation = split_train_in_two_percentage_global_sample(URM_train_validation, train_percentage = 0.8)\n",
    "\n",
    "evaluator_validation = EvaluatorHoldout(URM_validation, cutoff_list=[10])\n",
    "# evaluator_test = EvaluatorHoldout(URM_test, cutoff_list=[10])"
   ]
  },
  {
   "cell_type": "code",
   "execution_count": 4,
   "id": "28371191",
   "metadata": {},
   "outputs": [],
   "source": [
    "import os\n",
    "\n",
    "ofp = \"../models_temp/Similarity_Hybrid/\"\n",
    "\n",
    "models_to_combine_best = {\n",
    "                            'IALS_Hyb' : {\"num_factors\": 28, \"epochs\": 10, \"confidence_scaling\": \"linear\", \"alpha\": 0.43657990940994623, \"epsilon\": 0.35472063248578317, \"reg\": 0.0001698292271931609, \"mw\": 0.06122362507952762},\n",
    "                            'RP3ICMnew': {'alpha': 1.029719677583138, 'beta': 1.0630164752134375, 'topK': 6964, 'normalize_similarity': True},\n",
    "                            'RP3ICM' : {\"topK\": 2550, \"alpha\": 1.3058102610510849, \"beta\": 0.5150718337969987, \"normalize_similarity\": True, \"implicit\": True},\n",
    "                            'IALS' :  {'num_factors': 34, 'epochs': 599, 'confidence_scaling': 'linear', 'alpha': 0.003519435539271083, 'epsilon': 0.09222402080721787, 'reg': 2.4127708108457617e-05},\n",
    "                            'SLIMgensub': {\"l1_ratio\" : 0.025887359156206147, \"topK\": 2140, \"alpha\": 0.009567288586539689, \"workers\": 8, \"mw\": 1},\n",
    "                            'SLIMBPR' : {\"epochs\": 440, \"lambda_i\": 0.007773815998802306, \"lambda_j\": 0.003342522366982381, \"learning_rate\": 0.010055161410725193, \"topK\": 4289, \"random_seed\": 1234, \"sgd_mode\": \"sgd\"},\n",
    "                            'SLIMweig': {'l1_ratio': 0.0005247075138160404, 'topK': 4983, 'alpha': 0.06067400905430761, 'workers': 8, 'mw': 2.308619939318322},\n",
    "                            'SLIMER': {'topK': 6000, 'l1_ratio': 0.0005495104968035837, 'alpha': 0.08007142704041009, 'workers': 8},\n",
    "                            'P3alpha': {'topK': 4834, 'alpha': 1.764994849187595, 'normalize_similarity': True, 'implicit': True},\n",
    "                            'RP3beta': {\"topK\": 1049, \"alpha\": 1.1626473723475605, \"beta\": 0.6765017195261293, \"normalize_similarity\": True, \"implicit\": True},\n",
    "                            'icm_all' : {\"shrink\": 5675, \"topK\": 2310, \"feature_weighting\": \"BM25\", \"normalize\": False},\n",
    "                            'icm_weighted': {\"shrink\": 4000, \"topK\": 985, \"feature_weighting\": \"TF-IDF\", \"normalize\": True},\n",
    "                            'UserKNN' : {\"topK\": 469, \"similarity\": \"cosine\", \"shrink\": 588, \"normalize\": True, \"feature_weighting\": \"TF-IDF\", \"URM_bias\": False},\n",
    "                            'SLIM_BPR_Hyb' : {\"epochs\": 1443, \"lambda_i\": 8.900837513818856e-05, \"lambda_j\": 1.2615223007492727e-05, \"learning_rate\": 0.0037706733838839264, \"topK\": 6181, \"random_seed\": 1234, \"sgd_mode\": \"sgd\"}\n",
    "                         }\n"
   ]
  },
  {
   "cell_type": "code",
   "execution_count": 5,
   "id": "9ec73bc0",
   "metadata": {},
   "outputs": [],
   "source": [
    "def model_init(recommender, name, args):\n",
    "    path_name = ofp + name + \".zip\"\n",
    "    print(path_name)\n",
    "    if os.path.exists(path_name):\n",
    "        print(\"Model found!\")\n",
    "        recommender.load_model(ofp, name)\n",
    "    else:\n",
    "        print(\"Model does not exists, creating...\")\n",
    "        if not os.path.exists(ofp):\n",
    "            print(\"Main folder does not exist, creating...\")\n",
    "            os.makedirs(ofp)\n",
    "        recommender.fit(**args)\n",
    "        recommender.save_model(ofp, name)"
   ]
  },
  {
   "cell_type": "code",
   "execution_count": 6,
   "id": "b210d2bb",
   "metadata": {},
   "outputs": [],
   "source": [
    "from Recommenders.NonPersonalizedRecommender import TopPop\n",
    "from Recommenders.KNN.ItemKNNCBFRecommender import ItemKNNCBFRecommender\n",
    "from Recommenders.SLIM.Cython.SLIM_BPR_Cython import SLIM_BPR_Cython\n",
    "from Recommenders.SLIM.Cython.SLIM_BPR_Cython import SLIM_BPR_Cython_Hybrid\n",
    "from Recommenders.SLIM.SLIMElasticNetRecommender import MultiThreadSLIM_SLIMElasticNetRecommender\n",
    "from Recommenders.SLIM.SLIMElasticNetRecommender import MultiThreadSLIM_SLIM_S_ElasticNetRecommender\n",
    "from Recommenders.GraphBased.P3alphaRecommender import P3alphaRecommender\n",
    "from Recommenders.GraphBased.RP3betaRecommender import RP3betaRecommender\n",
    "from Recommenders.GraphBased.RP3betaRecommender import RP3betaRecommenderICM\n",
    "from Recommenders.MatrixFactorization.IALSRecommender import IALSRecommender\n",
    "from Recommenders.MatrixFactorization.IALSRecommender import IALSRecommender_Hybrid\n",
    "from Recommenders.KNN.UserKNNCFRecommender import UserKNNCFRecommender"
   ]
  },
  {
   "cell_type": "code",
   "execution_count": 10,
   "id": "f31072fa",
   "metadata": {},
   "outputs": [],
   "source": [
    "import numpy.ma as ma\n",
    "import numpy as np"
   ]
  },
  {
   "cell_type": "code",
   "execution_count": 33,
   "id": "e061405c",
   "metadata": {},
   "outputs": [
    {
     "name": "stdout",
     "output_type": "stream",
     "text": [
      "[5.5 2.  6.3 1.5] [5.5 2.  6.8 1.5]\n"
     ]
    }
   ],
   "source": [
    "a = np.array([[1,2,5,6], [4,5,7,8]])\n",
    "mana = a.mean()*1.4\n",
    "maska = a<mana\n",
    "\n",
    "b = np.array([[6,2,7,1], [4,5,7,8]])\n",
    "manb = b.mean()*1.4\n",
    "maskb = b<manb\n",
    "\n",
    "mask_tot = maska + maskb\n",
    "\n",
    "mask_bma = b*(np.logical_not(mask_tot)) > a*(np.logical_not(mask_tot)) \n",
    "mask_amb = b*(np.logical_not(mask_tot)) < a*(np.logical_not(mask_tot)) \n",
    "\n",
    "c = a*mask_tot*0.1 + b*mask_tot*0.9 + mask_bma*b*0.9 + mask_amb*a*0.1\n",
    "cm = a*0.1 + b*0.9\n",
    "\n",
    "print(c, cm)"
   ]
  },
  {
   "cell_type": "code",
   "execution_count": 36,
   "id": "b2cff020",
   "metadata": {},
   "outputs": [],
   "source": [
    "from Recommenders.BaseSimilarityMatrixRecommender import BaseItemSimilarityMatrixRecommender"
   ]
  },
  {
   "cell_type": "code",
   "execution_count": 44,
   "id": "c4989f68",
   "metadata": {},
   "outputs": [],
   "source": [
    "from Recommenders.Recommender_utils import check_matrix, similarityMatrixTopK\n",
    "from Recommenders.BaseSimilarityMatrixRecommender import BaseItemSimilarityMatrixRecommender\n",
    "from numpy import linalg as LA\n",
    "import numpy as np\n",
    "import numpy.ma as ma\n",
    "import scipy.sparse as sps"
   ]
  },
  {
   "cell_type": "code",
   "execution_count": 66,
   "id": "e065fc6b",
   "metadata": {},
   "outputs": [],
   "source": [
    "class ItemKNNScoresHybridTwoRecommender2(BaseItemSimilarityMatrixRecommender):\n",
    "    \"\"\" ItemKNNScoresHybridRecommender\n",
    "\n",
    "    \"\"\"\n",
    "\n",
    "    RECOMMENDER_NAME = \"ItemKNNScoresHybridTwoRecommender\"\n",
    "\n",
    "\n",
    "    def __init__(self, URM_train, Recommender_1, Recommender_2, verbose = True):\n",
    "        super(ItemKNNScoresHybridTwoRecommender2, self).__init__(URM_train, verbose = verbose)\n",
    "\n",
    "        self.URM_train = check_matrix(URM_train.copy(), 'csr')\n",
    "        self.Recommender_1 = Recommender_1\n",
    "        self.Recommender_2 = Recommender_2\n",
    "        \n",
    "        \n",
    "        \n",
    "    def fit(self, alpha = 0.5):\n",
    "\n",
    "        self.alpha = alpha\n",
    "\n",
    "        \n",
    "\n",
    "        '''\n",
    "        print(f\"CURRENT CONFIGURATION:\\n{self.Recommender_1.RECOMMENDER_NAME} with weight alpha: {self.alpha}\")\n",
    "        print(f\"{self.Recommender_2.RECOMMENDER_NAME} with weight beta: {1 - self.alpha}\")\n",
    "        '''\n",
    "\n",
    "    def _compute_item_score(self, user_id_array = None, items_to_compute = None):\n",
    "        \n",
    "        \n",
    "        item_weights_1 = self.Recommender_1._compute_item_score(user_id_array)\n",
    "        item_weights_2 = self.Recommender_2._compute_item_score(user_id_array)\n",
    "\n",
    "        l2_1 = LA.norm(item_weights_1, 2)\n",
    "        l2_1_scores = item_weights_1 / l2_1\n",
    "\n",
    "        l2_2 = LA.norm(item_weights_2, 2)\n",
    "        l2_2_scores = item_weights_2 / l2_2 \n",
    "        \n",
    "        item_weights = np.zeros_like(item_weights_1)\n",
    "        \n",
    "        print(\"AT USER:\", user_id_array[0]\n",
    "            \n",
    "        for user in user_id_array:\n",
    "            usr = user % len(user_id_array)\n",
    "            mean_score_1 = l2_1_scores[usr, :].mean()\n",
    "            mean_score_2 = l2_2_scores[usr, :].mean()\n",
    "            mask1 = l2_1_scores[usr, :] < mean_score_1*1.4\n",
    "            mask2 = l2_2_scores[usr, :] < mean_score_2*1.4\n",
    "            \n",
    "            mask_tot = mask1+mask2\n",
    "            \n",
    "            mask_neg = np.logical_not(mask_tot)\n",
    "            mask_1m2 = l2_2_scores[usr, :]*mask_neg < l2_1_scores[usr, :]*mask_neg\n",
    "            mask_2m1 = l2_2_scores[usr, :]*mask_neg > l2_1_scores[usr, :]*mask_neg\n",
    "            \n",
    "            item_weights[usr, :] = l2_1_scores[usr, :]*mask_tot*self.alpha + l2_2_scores[usr, :]*mask_tot*(1-self.alpha) + l2_1_scores[usr, :]*mask_1m2*self.alpha + l2_2_scores[usr, :]*mask_2m1*(1-self.alpha)\n",
    "\n",
    "        #item_weights = l2_1_scores*self.alpha + l2_2_scores*(1 - self.alpha)\n",
    "\n",
    "        return item_weights"
   ]
  },
  {
   "cell_type": "code",
   "execution_count": 54,
   "id": "1d9e797c",
   "metadata": {},
   "outputs": [
    {
     "name": "stdout",
     "output_type": "stream",
     "text": [
      "../models_temp/Similarity_Hybrid/SLIMBPR.zip\n",
      "Model found!\n",
      "SLIM_BPR_Recommender: Loading model from file '../models_temp/Similarity_Hybrid/SLIMBPR'\n",
      "SLIM_BPR_Recommender: Loading complete\n",
      "../models_temp/Similarity_Hybrid/SLIMER.zip\n",
      "Model found!\n",
      "SLIMElasticNetRecommender: Loading model from file '../models_temp/Similarity_Hybrid/SLIMER'\n",
      "SLIMElasticNetRecommender: Loading complete\n"
     ]
    }
   ],
   "source": [
    "recommender1 = SLIM_BPR_Cython(URM_train)\n",
    "recommender2 = MultiThreadSLIM_SLIMElasticNetRecommender(URM_train)\n",
    "\n",
    "model_init(recommender1, 'SLIMBPR', models_to_combine_best['SLIMBPR'])\n",
    "model_init(recommender2, 'SLIMER', models_to_combine_best['SLIMER'])"
   ]
  },
  {
   "cell_type": "code",
   "execution_count": 40,
   "id": "797d3ff0",
   "metadata": {},
   "outputs": [],
   "source": [
    "def test_percentage_sco(recommender_a, recommender_b, evaluator, high1, low1, step):\n",
    "    recommender = ItemKNNScoresHybridTwoRecommender2(URM_train, recommender_a, recommender_b)\n",
    "    results = []\n",
    "    alp_space = np.linspace(high1, low1, step, True)\n",
    "    for alp in alp_space:\n",
    "        recommender.fit(alp)\n",
    "        r_d, _ = evaluator.evaluateRecommender(recommender)\n",
    "        print(alp, \":\", r_d.loc[10]['MAP'])\n",
    "        results.append(r_d.loc[10]['MAP'])\n",
    "    \n",
    "    return alp_space, results"
   ]
  },
  {
   "cell_type": "code",
   "execution_count": null,
   "id": "b836e49c",
   "metadata": {},
   "outputs": [
    {
     "name": "stdout",
     "output_type": "stream",
     "text": [
      "AT USER: 0\n",
      "AT USER: 1000\n",
      "AT USER: 2001\n",
      "AT USER: 3001\n",
      "AT USER: 4002\n",
      "AT USER: 5002\n",
      "AT USER: 6003\n",
      "AT USER: 7003\n",
      "AT USER: 8003\n",
      "AT USER: 9003\n",
      "EvaluatorHoldout: Processed 10000 (73.3%) in 5.20 min. Users per second: 32\n",
      "AT USER: 10003\n",
      "AT USER: 11003\n",
      "AT USER: 12004\n",
      "AT USER: 13004\n",
      "EvaluatorHoldout: Processed 13645 (100.0%) in 6.86 min. Users per second: 33\n",
      "             MAP\n",
      "cutoff          \n",
      "10      0.247786\n",
      "0.4 : 0.24778560086548354\n",
      "AT USER: 0\n",
      "AT USER: 1000\n",
      "AT USER: 2001\n",
      "AT USER: 3001\n",
      "AT USER: 4002\n",
      "AT USER: 5002\n"
     ]
    }
   ],
   "source": [
    "alp_space, results = test_percentage_sco(recommender1, recommender2, evaluator_validation, 0.4, 0.6, 3)"
   ]
  },
  {
   "cell_type": "code",
   "execution_count": null,
   "id": "0be30081",
   "metadata": {},
   "outputs": [],
   "source": []
  }
 ],
 "metadata": {
  "kernelspec": {
   "display_name": "Python 3 (ipykernel)",
   "language": "python",
   "name": "python3"
  },
  "language_info": {
   "codemirror_mode": {
    "name": "ipython",
    "version": 3
   },
   "file_extension": ".py",
   "mimetype": "text/x-python",
   "name": "python",
   "nbconvert_exporter": "python",
   "pygments_lexer": "ipython3",
   "version": "3.8.12"
  }
 },
 "nbformat": 4,
 "nbformat_minor": 5
}
