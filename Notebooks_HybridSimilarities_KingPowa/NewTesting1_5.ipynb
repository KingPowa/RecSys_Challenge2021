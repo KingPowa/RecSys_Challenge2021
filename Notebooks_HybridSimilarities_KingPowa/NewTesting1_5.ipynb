{
 "cells": [
  {
   "cell_type": "code",
   "execution_count": 1,
   "id": "7e809989",
   "metadata": {},
   "outputs": [],
   "source": [
    "import sys\n",
    "sys.path.append('../RecSysRep/')"
   ]
  },
  {
   "cell_type": "code",
   "execution_count": 14,
   "id": "bc728eee",
   "metadata": {},
   "outputs": [],
   "source": [
    "import Basics.Load as ld\n",
    "import scipy.sparse as sps\n",
    "\n",
    "URM_all, ICM1, ICM2, ICM3, ICM4 = ld.getCOOs()\n",
    "ICML = ld.getICMlength('5km')\n",
    "ICM_weighted = ld.getICMselected('7')\n",
    "ICM_gen = sps.hstack([ICM1, ICM2])\n",
    "ICM_all = sps.hstack([ICM1, ICM2, ICM3, ICML])\n",
    "ICM_chall = sps.hstack([ICM1, ICM3, ICML])"
   ]
  },
  {
   "cell_type": "code",
   "execution_count": 15,
   "id": "09a0a841",
   "metadata": {},
   "outputs": [
    {
     "name": "stdout",
     "output_type": "stream",
     "text": [
      "Warning: 7 (0.05 %) of 13650 users have no sampled items\n",
      "EvaluatorHoldout: Ignoring 13643 ( 0.1%) Users that have less than 1 test interactions\n"
     ]
    }
   ],
   "source": [
    "from Evaluation.Evaluator import EvaluatorHoldout\n",
    "from Data_manager.split_functions.split_train_validation_random_holdout import split_train_in_two_percentage_global_sample\n",
    "\n",
    "URM_train, URM_validation = split_train_in_two_percentage_global_sample(URM_all, train_percentage = 0.8, seed=1234)\n",
    "# URM_train, URM_validation = split_train_in_two_percentage_global_sample(URM_train_validation, train_percentage = 0.8)\n",
    "\n",
    "evaluator_validation = EvaluatorHoldout(URM_validation, cutoff_list=[10])\n",
    "# evaluator_test = EvaluatorHoldout(URM_test, cutoff_list=[10])"
   ]
  },
  {
   "cell_type": "code",
   "execution_count": 16,
   "id": "2d0f462a",
   "metadata": {},
   "outputs": [],
   "source": [
    "import os\n",
    "\n",
    "ofp = \"../models_temp/Similarity_Hybrid/New/\"\n",
    "\n",
    "models_to_combine_best = {\n",
    "                            'IALS_Hyb' : {\"num_factors\": 28, \"epochs\": 10, \"confidence_scaling\": \"linear\", \"alpha\": 0.43657990940994623, \"epsilon\": 0.35472063248578317, \"reg\": 0.0001698292271931609, \"mw\": 0.06122362507952762},\n",
    "                            'RP3ICMnew': {'alpha': 1.029719677583138, 'beta': 1.0630164752134375, 'topK': 6964, 'normalize_similarity': True},\n",
    "                            'RP3ICM' : {\"topK\": 2550, \"alpha\": 1.3058102610510849, \"beta\": 0.5150718337969987, \"normalize_similarity\": True, \"implicit\": True},\n",
    "                            'IALS' :  {'num_factors': 34, 'epochs': 599, 'confidence_scaling': 'linear', 'alpha': 0.003519435539271083, 'epsilon': 0.09222402080721787, 'reg': 2.4127708108457617e-05},\n",
    "                            'SLIMgensub': {\"l1_ratio\" : 0.025887359156206147, \"topK\": 2140, \"alpha\": 0.009567288586539689, \"workers\": 8, \"mw\": 1},\n",
    "                            'SLIMBPR' : {\"epochs\": 440, \"lambda_i\": 0.007773815998802306, \"lambda_j\": 0.003342522366982381, \"learning_rate\": 0.010055161410725193, \"topK\": 4289, \"random_seed\": 1234, \"sgd_mode\": \"sgd\"},\n",
    "                            'SLIMweig': {'l1_ratio': 0.0005247075138160404, 'topK': 4983, 'alpha': 0.06067400905430761, 'workers': 8, 'mw': 2.308619939318322},\n",
    "                            'SLIMER': {'topK': 6000, 'l1_ratio': 0.0005495104968035837, 'alpha': 0.08007142704041009, 'workers': 8},\n",
    "                            'P3alpha': {'topK': 4834, 'alpha': 1.764994849187595, 'normalize_similarity': True, 'implicit': True},\n",
    "                            'RP3beta': {\"topK\": 1049, \"alpha\": 1.1626473723475605, \"beta\": 0.6765017195261293, \"normalize_similarity\": True, \"implicit\": True},\n",
    "                            'icm_all' : {\"shrink\": 5675, \"topK\": 2310, \"feature_weighting\": \"BM25\", \"normalize\": False},\n",
    "                            'icm_weighted': {\"shrink\": 4000, \"topK\": 985, \"feature_weighting\": \"TF-IDF\", \"normalize\": True},\n",
    "                            'UserKNN' : {\"topK\": 469, \"similarity\": \"cosine\", \"shrink\": 588, \"normalize\": True, \"feature_weighting\": \"TF-IDF\", \"URM_bias\": False},\n",
    "                            'SLIM_BPR_Hyb' : {\"epochs\": 1443, \"lambda_i\": 8.900837513818856e-05, \"lambda_j\": 1.2615223007492727e-05, \"learning_rate\": 0.0037706733838839264, \"topK\": 6181, \"random_seed\": 1234, \"sgd_mode\": \"sgd\"}\n",
    "                         }\n"
   ]
  },
  {
   "cell_type": "code",
   "execution_count": 17,
   "id": "8e74cf30",
   "metadata": {},
   "outputs": [],
   "source": [
    "def model_init(recommender, name, args):\n",
    "    path_name = ofp + name + \".zip\"\n",
    "    print(path_name)\n",
    "    if os.path.exists(path_name):\n",
    "        print(\"Model found!\")\n",
    "        recommender.load_model(ofp, name)\n",
    "    else:\n",
    "        print(\"Model does not exists, creating...\")\n",
    "        if not os.path.exists(ofp):\n",
    "            print(\"Main folder does not exist, creating...\")\n",
    "            os.makedirs(ofp)\n",
    "        recommender.fit(**args)\n",
    "        recommender.save_model(ofp, name)"
   ]
  },
  {
   "cell_type": "code",
   "execution_count": 18,
   "id": "4d9bade9",
   "metadata": {},
   "outputs": [],
   "source": [
    "from Recommenders.NonPersonalizedRecommender import TopPop\n",
    "from Recommenders.KNN.ItemKNNCBFRecommender import ItemKNNCBFRecommender\n",
    "from Recommenders.EASE_R.EASE_R_Recommender import EASE_R_Recommender\n",
    "from Recommenders.SLIM.Cython.SLIM_BPR_Cython import SLIM_BPR_Cython\n",
    "from Recommenders.SLIM.Cython.SLIM_BPR_Cython import SLIM_BPR_Cython_Hybrid\n",
    "from Recommenders.SLIM.SLIMElasticNetRecommender import MultiThreadSLIM_SLIMElasticNetRecommender\n",
    "from Recommenders.SLIM.SLIMElasticNetRecommender import MultiThreadSLIM_SLIM_S_ElasticNetRecommender\n",
    "from Recommenders.GraphBased.P3alphaRecommender import P3alphaRecommender\n",
    "from Recommenders.GraphBased.RP3betaRecommender import RP3betaRecommender\n",
    "from Recommenders.GraphBased.RP3betaRecommender import RP3betaRecommenderICM\n",
    "from Recommenders.MatrixFactorization.IALSRecommender import IALSRecommender\n",
    "from Recommenders.MatrixFactorization.IALSRecommender import IALSRecommender_Hybrid\n",
    "from Recommenders.KNN.UserKNNCFRecommender import UserKNNCFRecommender"
   ]
  },
  {
   "cell_type": "code",
   "execution_count": 19,
   "id": "72a52763",
   "metadata": {},
   "outputs": [],
   "source": [
    "from Recommenders.KNN.ItemKNNSimilarityHybridRecommender import ItemKNNSimilarityHybridRecommender\n",
    "from Recommenders.KNN.ItemKNNSimilarityHybridRecommenderNormal import ItemKNNSimilarityHybridRecommenderNormal\n",
    "from Recommenders.KNN.ItemKNNScoresHybridMultipleRecommender import ItemKNNScoresHybridMultipleRecommender\n",
    "from Recommenders.KNN.ItemKNNScoresHybridMultipleRecommender import ItemKNNScoresHybridTwoRecommender\n",
    "from Recommenders.KNN.ItemKNNScoresHybridMultipleRecommender import ItemKNNScoresHybridTwoRecommender_PRELOAD"
   ]
  },
  {
   "cell_type": "code",
   "execution_count": 20,
   "id": "925f75e3",
   "metadata": {},
   "outputs": [
    {
     "name": "stdout",
     "output_type": "stream",
     "text": [
      "../models_temp/Similarity_Hybrid/New/SLIMgen.zip\n",
      "Model does not exists, creating...\n",
      "Main folder does not exist, creating...\n"
     ]
    },
    {
     "name": "stderr",
     "output_type": "stream",
     "text": [
      "100%|███████████████████████████████████████████████████████████████████████████▉| 18056/18059 [20:43<00:00, 14.52it/s]\n"
     ]
    },
    {
     "name": "stdout",
     "output_type": "stream",
     "text": [
      "SLIMElasticNetRecommender: Saving model in file '../models_temp/Similarity_Hybrid/New/SLIMgen'\n",
      "SLIMElasticNetRecommender: Saving complete\n",
      "../models_temp/Similarity_Hybrid/New/IALSHyb.zip\n",
      "Model does not exists, creating...\n",
      "10\n",
      "IALSRecommender_Hybrid: Epoch 1 of 10. Elapsed time 23.93 sec\n",
      "IALSRecommender_Hybrid: Epoch 2 of 10. Elapsed time 1.12 min\n",
      "IALSRecommender_Hybrid: Epoch 3 of 10. Elapsed time 1.54 min\n",
      "IALSRecommender_Hybrid: Epoch 4 of 10. Elapsed time 1.90 min\n",
      "IALSRecommender_Hybrid: Epoch 5 of 10. Elapsed time 2.07 min\n",
      "IALSRecommender_Hybrid: Epoch 6 of 10. Elapsed time 2.29 min\n",
      "IALSRecommender_Hybrid: Epoch 7 of 10. Elapsed time 2.51 min\n",
      "IALSRecommender_Hybrid: Epoch 8 of 10. Elapsed time 2.70 min\n",
      "IALSRecommender_Hybrid: Epoch 9 of 10. Elapsed time 2.79 min\n",
      "IALSRecommender_Hybrid: Epoch 10 of 10. Elapsed time 2.85 min\n",
      "IALSRecommender_Hybrid: Terminating at epoch 10. Elapsed time 2.85 min\n",
      "IALSRecommender_Hybrid: Saving model in file '../models_temp/Similarity_Hybrid/New/IALSHyb'\n",
      "IALSRecommender_Hybrid: Saving complete\n",
      "../models_temp/Similarity_Hybrid/New/RP3beta.zip\n",
      "Model does not exists, creating...\n",
      "RP3betaRecommender: Saving model in file '../models_temp/Similarity_Hybrid/New/RP3beta'\n",
      "RP3betaRecommender: Saving complete\n"
     ]
    }
   ],
   "source": [
    "recommender1a = MultiThreadSLIM_SLIM_S_ElasticNetRecommender(URM_train, ICM_gen)\n",
    "recommender2a = IALSRecommender_Hybrid(URM_train, ICM_chall)\n",
    "recommender3a = RP3betaRecommender(URM_train)\n",
    "\n",
    "model_init(recommender1a, 'SLIMgen', models_to_combine_best['SLIMgensub'])\n",
    "model_init(recommender2a, 'IALSHyb', models_to_combine_best['IALS_Hyb'])\n",
    "model_init(recommender3a, 'RP3beta', models_to_combine_best['RP3beta'])"
   ]
  },
  {
   "cell_type": "code",
   "execution_count": 17,
   "id": "e0f95c19",
   "metadata": {},
   "outputs": [],
   "source": [
    "def rank_models(evaluator, recommenders):\n",
    "    for r in recommenders:\n",
    "        r_d, _ = evaluator.evaluateRecommender(r)\n",
    "        print(r.RECOMMENDER_NAME, r_d.loc[10]['MAP'])"
   ]
  },
  {
   "cell_type": "code",
   "execution_count": 18,
   "id": "566d405b",
   "metadata": {},
   "outputs": [
    {
     "name": "stdout",
     "output_type": "stream",
     "text": [
      "Deallocating Cython objects\n",
      "EvaluatorHoldout: Processed 13645 (100.0%) in 1.30 min. Users per second: 175\n",
      "             MAP\n",
      "cutoff          \n",
      "10      0.225332\n",
      "SLIM_BPR_Recommender 0.22533241143043353\n",
      "EvaluatorHoldout: Processed 13645 (100.0%) in 36.20 sec. Users per second: 377\n",
      "            MAP\n",
      "cutoff         \n",
      "10      0.24782\n",
      "SLIMElasticNetRecommender 0.2478195949443658\n"
     ]
    }
   ],
   "source": [
    "rank_models(evaluator_validation, [recommender1, recommender2])"
   ]
  },
  {
   "cell_type": "code",
   "execution_count": 19,
   "id": "ddf81aad",
   "metadata": {},
   "outputs": [],
   "source": [
    "import numpy as np\n",
    "\n",
    "def test_percentage_sim(recommender_a, recommender_b, evaluator, high1, low1, step):\n",
    "    recommender = ItemKNNSimilarityHybridRecommenderNormal(URM_train, recommender_a.W_sparse, recommender_b.W_sparse)\n",
    "    results = []\n",
    "    alp_space = np.linspace(high1, low1, step, True)\n",
    "    for alp in alp_space:\n",
    "        recommender.fit(alp)\n",
    "        r_d, _ = evaluator.evaluateRecommender(recommender)\n",
    "        print(alp, \":\", r_d.loc[10]['MAP'])\n",
    "        results.append(r_d.loc[10]['MAP'])\n",
    "    \n",
    "    return alp_space, results\n",
    "\n",
    "def test_percentage_sco(recommender_a, recommender_b, evaluator, high1, low1, step):\n",
    "    recommender = ItemKNNScoresHybridTwoRecommender(URM_train, recommender_a, recommender_b)\n",
    "    results = []\n",
    "    alp_space = np.linspace(high1, low1, step, True)\n",
    "    for alp in alp_space:\n",
    "        recommender.fit(alp)\n",
    "        r_d, _ = evaluator.evaluateRecommender(recommender)\n",
    "        print(alp, \":\", r_d.loc[10]['MAP'])\n",
    "        results.append(r_d.loc[10]['MAP'])\n",
    "    \n",
    "    return alp_space, results"
   ]
  },
  {
   "cell_type": "code",
   "execution_count": 20,
   "id": "2ba019d5",
   "metadata": {},
   "outputs": [
    {
     "name": "stdout",
     "output_type": "stream",
     "text": [
      "EvaluatorHoldout: Processed 7000 (51.3%) in 5.54 min. Users per second: 21\n",
      "EvaluatorHoldout: Processed 13645 (100.0%) in 10.27 min. Users per second: 22\n",
      "             MAP\n",
      "cutoff          \n",
      "10      0.248856\n",
      "0.4 : 0.2488556858434095\n",
      "EvaluatorHoldout: Processed 6000 (44.0%) in 5.39 min. Users per second: 19\n",
      "EvaluatorHoldout: Processed 13645 (100.0%) in 9.39 min. Users per second: 24\n",
      "             MAP\n",
      "cutoff          \n",
      "10      0.248982\n",
      "0.5 : 0.24898248966131045\n",
      "EvaluatorHoldout: Processed 8000 (58.6%) in 5.17 min. Users per second: 26\n",
      "EvaluatorHoldout: Processed 13645 (100.0%) in 9.00 min. Users per second: 25\n",
      "             MAP\n",
      "cutoff          \n",
      "10      0.248201\n",
      "0.6 : 0.24820068691944897\n"
     ]
    },
    {
     "data": {
      "image/png": "[encoded data removed]",
      "text/plain": [
       "<Figure size 1152x648 with 1 Axes>"
      ]
     },
     "metadata": {
      "needs_background": "light"
     },
     "output_type": "display_data"
    }
   ],
   "source": [
    "import matplotlib.pyplot as plt\n",
    "import numpy as np\n",
    "\n",
    "alp_space, results = test_percentage_sco(recommender1, recommender2, evaluator_validation, 0.4, 0.6, 3)\n",
    "\n",
    "_ = plt.figure(figsize=(16, 9))\n",
    "\n",
    "plt.plot(alp_space, results, label='alpha')\n",
    "plt.ylabel('MAP')\n",
    "plt.xlabel('hyper')\n",
    "plt.legend()\n",
    "plt.show()"
   ]
  },
  {
   "cell_type": "code",
   "execution_count": null,
   "id": "4d679c13",
   "metadata": {},
   "outputs": [],
   "source": [
    "def test_percentage_scores_until(recommender_1, recommender_2, evaluator, step, min_a, max_a):\n",
    "    recommender = ItemKNNScoresHybridTwoRecommender(URM_train, recommender_1, recommender_2)\n",
    "    results = []\n",
    "    alp_space = np.linspace(min_a, max_a, step, True)\n",
    "    for alp in alp_space:\n",
    "        recommender.fit(alpha = alp)\n",
    "        r_d, _ = evaluator.evaluateRecommender(recommender)\n",
    "        print(alp, \":\", r_d.loc[10]['MAP'])\n",
    "        results.append(r_d.loc[10]['MAP'])\n",
    "    maximum = alp_space[np.argmax(results)]\n",
    "    print(\"MAX FOUND AT FIRST STEP \", maximum)\n",
    "    \n",
    "    supa = (max_a-min_a)/step\n",
    "    \n",
    "    alp_scape = np.linspace(maximum - supa, maximum + supa, step+5, True)\n",
    "    results = []\n",
    "    \n",
    "    for alp in alp_scape:\n",
    "        recommender.fit(alpha = alp)\n",
    "        r_d, _ = evaluator.evaluateRecommender(recommender)\n",
    "        print(alp, \":\", r_d.loc[10]['MAP'])\n",
    "        results.append(r_d.loc[10]['MAP'])\n",
    "    maximum = alp_scape[np.argmax(results)] \n",
    "    \n",
    "    print(\"MAX FOUND FOR \", r.RECOMMENDER_NAME, \" \", np.max(results))\n",
    "    return maximum, np.max(results)"
   ]
  },
  {
   "cell_type": "code",
   "execution_count": null,
   "id": "4e2546ae",
   "metadata": {},
   "outputs": [],
   "source": [
    "recommenders = [ recommender_puresvd, recommender_itemknn_icm, recommender_rp3, recommender_ials]\n",
    "results = {}\n",
    "for r in recommenders:\n",
    "    print(\"NOW TESTING RECOMMENDER \", r.RECOMMENDER_NAME )\n",
    "    results[r.RECOMMENDER_NAME] = test_percentage_scores_until(recommender_hybrid_2, r, evaluator_validation, 10, 0.1, 0.99)"
   ]
  },
  {
   "cell_type": "code",
   "execution_count": null,
   "id": "744e4d2d",
   "metadata": {},
   "outputs": [],
   "source": [
    "class Objective(object):\n",
    "    def __init__(self, URM_train, recommender1, recommender2, recommender3, evaluator):\n",
    "        # Hold this implementation specific arguments as the fields of the class.\n",
    "        self.URM_train = URM_train\n",
    "        self.evaluator = evaluator\n",
    "        self.recommender_1 = recommender1\n",
    "        self.recommender_2 = recommender2\n",
    "        self.recommender_3 = recommender3\n",
    "\n",
    "    def __call__(self, trial):\n",
    "        # Calculate an objective value by using the extra arguments.\n",
    "        alpha = trial.suggest_uniform('alpha', 0, 1)\n",
    "        beta = trial.suggest_uniform('beta', 0, 1)\n",
    "        gamma = trial.suggest_uniform('gamma', 0, 1)\n",
    "\n",
    "        recommender_final = ThreeDifferentModelRecommender(self.URM_train.tocsr(), self.recommender_1, self.recommender_2, self.recommender_3)\n",
    "        recommender_final.fit(2, alpha, beta, gamma)\n",
    "        result_dict, _ = self.evaluator.evaluateRecommender(recommender_final)\n",
    "\n",
    "        map_v = -result_dict.loc[10]['MAP']\n",
    "        if map_v >= -0.245: # minimum acceptable map\n",
    "            # Calculate the penalty.\n",
    "            penalty = 0.245 + map_v\n",
    "            trial.report(penalty, 0)\n",
    "\n",
    "            if trial.should_prune():\n",
    "                raise optuna.exceptions.TrialPruned()\n",
    "\n",
    "        return map_v\n",
    "\n",
    "study = optuna.create_study(direction='minimize')\n",
    "study.optimize(Objective(URM_train, recommender1, recommender2, recommender3, evaluator_validation), n_trials=500)\n",
    "\n",
    "print(study.best_params)"
   ]
  }
 ],
 "metadata": {
  "kernelspec": {
   "display_name": "Python 3 (ipykernel)",
   "language": "python",
   "name": "python3"
  },
  "language_info": {
   "codemirror_mode": {
    "name": "ipython",
    "version": 3
   },
   "file_extension": ".py",
   "mimetype": "text/x-python",
   "name": "python",
   "nbconvert_exporter": "python",
   "pygments_lexer": "ipython3",
   "version": "3.8.12"
  }
 },
 "nbformat": 4,
 "nbformat_minor": 5
}
