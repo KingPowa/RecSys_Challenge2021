{
 "cells": [
  {
   "cell_type": "code",
   "execution_count": 25,
   "id": "7e809989",
   "metadata": {},
   "outputs": [],
   "source": [
    "import sys\n",
    "sys.path.append('../RecSysRep/')"
   ]
  },
  {
   "cell_type": "code",
   "execution_count": 26,
   "id": "bc728eee",
   "metadata": {},
   "outputs": [],
   "source": [
    "import Basics.Load as ld\n",
    "import scipy.sparse as sps\n",
    "\n",
    "URM_all, ICM1, ICM2, ICM3, ICM4 = ld.getCOOs()\n",
    "ICML = ld.getICMlength('5km')\n",
    "ICM_weighted = ld.getICMselected('7')\n",
    "ICM_gen = sps.hstack([ICM1, ICM2])\n",
    "ICM_all = sps.hstack([ICM1, ICM2, ICM3, ICML])\n",
    "# URM_train, URM_val = ld.getSplit(URM_train_val, 5678, 0.8)"
   ]
  },
  {
   "cell_type": "code",
   "execution_count": 3,
   "id": "09a0a841",
   "metadata": {},
   "outputs": [
    {
     "name": "stdout",
     "output_type": "stream",
     "text": [
      "Warning: 5 (0.04 %) of 13650 users have no sampled items\n",
      "EvaluatorHoldout: Ignoring 13645 ( 0.0%) Users that have less than 1 test interactions\n"
     ]
    }
   ],
   "source": [
    "from Evaluation.Evaluator import EvaluatorHoldout\n",
    "from Data_manager.split_functions.split_train_validation_random_holdout import split_train_in_two_percentage_global_sample\n",
    "\n",
    "URM_train, URM_validation = split_train_in_two_percentage_global_sample(URM_all, train_percentage = 0.8, seed=9123)\n",
    "# URM_train, URM_validation = split_train_in_two_percentage_global_sample(URM_train_validation, train_percentage = 0.8)\n",
    "\n",
    "evaluator_validation = EvaluatorHoldout(URM_validation, cutoff_list=[10])\n",
    "# evaluator_test = EvaluatorHoldout(URM_test, cutoff_list=[10])"
   ]
  },
  {
   "cell_type": "code",
   "execution_count": 14,
   "id": "2d0f462a",
   "metadata": {},
   "outputs": [],
   "source": [
    "import os\n",
    "\n",
    "ofp = \"../models_temp/Similarity_Hybrid/\"\n",
    "\n",
    "models_to_combine_best = {\n",
    "                            'IALS_Hyb' : {\"num_factors\": 28, \"epochs\": 10, \"confidence_scaling\": \"linear\", \"alpha\": 0.43657990940994623, \"epsilon\": 0.35472063248578317, \"reg\": 0.0001698292271931609, \"mw\": 0.06122362507952762},\n",
    "                            'RP3ICMnew': {'alpha': 1.029719677583138, 'beta': 1.0630164752134375, 'topK': 6964, 'normalize_similarity': True},\n",
    "                            'RP3ICM' : {\"topK\": 2550, \"alpha\": 1.3058102610510849, \"beta\": 0.5150718337969987, \"normalize_similarity\": True, \"implicit\": True},\n",
    "                            'IALS' :  {'num_factors': 34, 'epochs': 599, 'confidence_scaling': 'linear', 'alpha': 0.003519435539271083, 'epsilon': 0.09222402080721787, 'reg': 2.4127708108457617e-05},\n",
    "                            'SLIMgensub': {\"l1_ratio\" : 0.025887359156206147, \"topK\": 2140, \"alpha\": 0.009567288586539689, \"workers\": 8, \"mw\": 1},\n",
    "                            'SLIMBPR' : {\"epochs\": 440, \"lambda_i\": 0.007773815998802306, \"lambda_j\": 0.003342522366982381, \"learning_rate\": 0.010055161410725193, \"topK\": 4289, \"random_seed\": 1234, \"sgd_mode\": \"sgd\"},\n",
    "                            'SLIMweig': {'l1_ratio': 0.0005247075138160404, 'topK': 4983, 'alpha': 0.06067400905430761, 'workers': 8, 'mw': 2.308619939318322},\n",
    "                            'SLIMER': {'topK': 6000, 'l1_ratio': 0.0005495104968035837, 'alpha': 0.08007142704041009, 'workers': 8},\n",
    "                            'P3alpha': {'topK': 4834, 'alpha': 1.764994849187595, 'normalize_similarity': True, 'implicit': True},\n",
    "                            'RP3beta': {\"topK\": 1049, \"alpha\": 1.1626473723475605, \"beta\": 0.6765017195261293, \"normalize_similarity\": True, \"implicit\": True},\n",
    "                            'icm_weighted': {\"shrink\": 4000, \"topK\": 985, \"feature_weighting\": \"TF-IDF\", \"normalize\": True},\n",
    "                            'SLIM_all' : {'l1_ratio': 0.0001043005302985496, 'topK': 1135, 'alpha': 0.06322495726710943, 'workers': 8, 'mw': 1.2937257828415842},\n",
    "                            'UserKNN' : {\"topK\": 469, \"similarity\": \"cosine\", \"shrink\": 588, \"normalize\": True, \"feature_weighting\": \"TF-IDF\", \"URM_bias\": False},\n",
    "                            'SLIM_BPR_Hyb' : {\"epochs\": 1443, \"lambda_i\": 8.900837513818856e-05, \"lambda_j\": 1.2615223007492727e-05, \"learning_rate\": 0.0037706733838839264, \"topK\": 6181, \"random_seed\": 1234, \"sgd_mode\": \"sgd\"}\n",
    "                         }\n"
   ]
  },
  {
   "cell_type": "code",
   "execution_count": 5,
   "id": "8e74cf30",
   "metadata": {},
   "outputs": [],
   "source": [
    "def model_init(recommender, name, args):\n",
    "    path_name = ofp + name + \".zip\"\n",
    "    print(path_name)\n",
    "    if os.path.exists(path_name):\n",
    "        print(\"Model found!\")\n",
    "        recommender.load_model(ofp, name)\n",
    "    else:\n",
    "        print(\"Model does not exists, creating...\")\n",
    "        if not os.path.exists(ofp):\n",
    "            print(\"Main folder does not exist, creating...\")\n",
    "            os.makedirs(ofp)\n",
    "        recommender.fit(**args)\n",
    "        recommender.save_model(ofp, name)"
   ]
  },
  {
   "cell_type": "code",
   "execution_count": 27,
   "id": "4d9bade9",
   "metadata": {},
   "outputs": [],
   "source": [
    "from Recommenders.NonPersonalizedRecommender import TopPop\n",
    "from Recommenders.KNN.ItemKNNCBFRecommender import ItemKNNCBFRecommender\n",
    "from Recommenders.SLIM.Cython.SLIM_BPR_Cython import SLIM_BPR_Cython\n",
    "from Recommenders.SLIM.Cython.SLIM_BPR_Cython import SLIM_BPR_Cython_Hybrid\n",
    "from Recommenders.SLIM.SLIMElasticNetRecommender import MultiThreadSLIM_SLIMElasticNetRecommender\n",
    "from Recommenders.SLIM.SLIMElasticNetRecommender import SLIMElasticNetRecommender\n",
    "from Recommenders.SLIM.SLIMElasticNetRecommender import MultiThreadSLIM_SLIM_S_ElasticNetRecommender\n",
    "from Recommenders.GraphBased.P3alphaRecommender import P3alphaRecommender\n",
    "from Recommenders.GraphBased.RP3betaRecommender import RP3betaRecommender\n",
    "from Recommenders.GraphBased.RP3betaRecommender import RP3betaRecommenderICM\n",
    "from Recommenders.MatrixFactorization.IALSRecommender import IALSRecommender\n",
    "from Recommenders.MatrixFactorization.IALSRecommender import IALSRecommender_Hybrid\n",
    "from Recommenders.KNN.UserKNNCFRecommender import UserKNNCFRecommender"
   ]
  },
  {
   "cell_type": "code",
   "execution_count": 7,
   "id": "72a52763",
   "metadata": {},
   "outputs": [],
   "source": [
    "from Recommenders.KNN.ItemKNNSimilarityHybridRecommender import ItemKNNSimilarityHybridRecommender\n",
    "from Recommenders.KNN.ItemKNNSimilarityHybridRecommenderNormal import ItemKNNSimilarityHybridRecommenderNormal\n",
    "from Recommenders.KNN.ItemKNNScoresHybridMultipleRecommender import ItemKNNScoresHybridMultipleRecommender\n",
    "from Recommenders.KNN.ItemKNNScoresHybridMultipleRecommender import ItemKNNScoresHybridTwoRecommender"
   ]
  },
  {
   "cell_type": "code",
   "execution_count": 29,
   "id": "925f75e3",
   "metadata": {},
   "outputs": [
    {
     "name": "stdout",
     "output_type": "stream",
     "text": [
      "../models_temp/Similarity_Hybrid/SLIMER.zip\n",
      "Model found!\n",
      "SLIMElasticNetRecommender: Loading model from file '../models_temp/Similarity_Hybrid/SLIMER'\n",
      "SLIMElasticNetRecommender: Loading complete\n",
      "../models_temp/Similarity_Hybrid/test.zip\n",
      "Model does not exists, creating...\n",
      "SLIMElasticNetRecommender: Processed 1235 ( 6.8%) in 5.00 min. Items per second: 4.11\n",
      "SLIMElasticNetRecommender: Processed 2972 (16.5%) in 10.00 min. Items per second: 4.95\n",
      "SLIMElasticNetRecommender: Processed 4690 (26.0%) in 15.00 min. Items per second: 5.21\n",
      "SLIMElasticNetRecommender: Processed 6426 (35.6%) in 20.01 min. Items per second: 5.35\n",
      "SLIMElasticNetRecommender: Processed 8178 (45.3%) in 25.01 min. Items per second: 5.45\n",
      "SLIMElasticNetRecommender: Processed 9913 (54.9%) in 30.01 min. Items per second: 5.50\n",
      "SLIMElasticNetRecommender: Processed 11523 (63.8%) in 35.01 min. Items per second: 5.48\n",
      "SLIMElasticNetRecommender: Processed 13199 (73.1%) in 40.01 min. Items per second: 5.50\n",
      "SLIMElasticNetRecommender: Processed 14254 (78.9%) in 45.02 min. Items per second: 5.28\n",
      "SLIMElasticNetRecommender: Processed 15201 (84.2%) in 50.02 min. Items per second: 5.06\n",
      "SLIMElasticNetRecommender: Processed 16157 (89.5%) in 55.03 min. Items per second: 4.89\n",
      "SLIMElasticNetRecommender: Processed 17114 (94.8%) in 1.00 hour. Items per second: 4.75\n",
      "SLIMElasticNetRecommender: Processed 17975 (99.5%) in 1.08 hour. Items per second: 4.61\n",
      "SLIMElasticNetRecommender: Processed 18059 (100.0%) in 1.09 hour. Items per second: 4.60\n",
      "SLIMElasticNetRecommender: Saving model in file '../models_temp/Similarity_Hybrid/test'\n",
      "SLIMElasticNetRecommender: Saving complete\n"
     ]
    }
   ],
   "source": [
    "recommender1 = MultiThreadSLIM_SLIMElasticNetRecommender(URM_train)\n",
    "recommender2 = SLIMElasticNetRecommender(URM_train)\n",
    "\n",
    "model_init(recommender1, 'SLIMER', models_to_combine_best['SLIMER'])\n",
    "model_init(recommender2, 'test', {'topK': 6000, 'l1_ratio': 0.0005495104968035837, 'alpha': 0.08007142704041009})"
   ]
  },
  {
   "cell_type": "code",
   "execution_count": 18,
   "id": "4f81b35c",
   "metadata": {},
   "outputs": [
    {
     "name": "stdout",
     "output_type": "stream",
     "text": [
      "../models_temp/Similarity_Hybrid/SLIM_all.zip\n",
      "Model does not exists, creating...\n",
      "(13989, 18059)\n"
     ]
    },
    {
     "name": "stderr",
     "output_type": "stream",
     "text": [
      "100%|███████████████████████████████████████████████████████████████████████████▉| 18056/18059 [17:46<00:00, 16.93it/s]\n"
     ]
    },
    {
     "name": "stdout",
     "output_type": "stream",
     "text": [
      "SLIMElasticNetRecommender: Saving model in file '../models_temp/Similarity_Hybrid/SLIM_all'\n",
      "SLIMElasticNetRecommender: Saving complete\n"
     ]
    }
   ],
   "source": [
    "recommender1_1 = MultiThreadSLIM_SLIM_S_ElasticNetRecommender(URM_train, ICM_all)\n",
    "\n",
    "model_init(recommender1_1, 'SLIM_all', models_to_combine_best['SLIM_all'])"
   ]
  },
  {
   "cell_type": "code",
   "execution_count": 19,
   "id": "e0f95c19",
   "metadata": {},
   "outputs": [],
   "source": [
    "def rank_models(evaluator, recommenders):\n",
    "    for r in recommenders:\n",
    "        r_d, _ = evaluator.evaluateRecommender(r)\n",
    "        print(r.RECOMMENDER_NAME, r_d.loc[10]['MAP'])"
   ]
  },
  {
   "cell_type": "code",
   "execution_count": 30,
   "id": "8d9c6035",
   "metadata": {},
   "outputs": [
    {
     "name": "stdout",
     "output_type": "stream",
     "text": [
      "EvaluatorHoldout: Processed 13645 (100.0%) in 26.47 sec. Users per second: 515\n",
      "            MAP\n",
      "cutoff         \n",
      "10      0.24782\n",
      "SLIMElasticNetRecommender 0.2478195949443658\n",
      "EvaluatorHoldout: Processed 13645 (100.0%) in 25.21 sec. Users per second: 541\n",
      "             MAP\n",
      "cutoff          \n",
      "10      0.247839\n",
      "SLIMElasticNetRecommender 0.24783942894367944\n"
     ]
    }
   ],
   "source": [
    "rank_models(evaluator_validation, [recommender1, recommender2])"
   ]
  },
  {
   "cell_type": "code",
   "execution_count": null,
   "id": "744e4d2d",
   "metadata": {},
   "outputs": [],
   "source": [
    "class Objective(object):\n",
    "    def __init__(self, URM_train, recommender1, recommender2, recommender3, evaluator):\n",
    "        # Hold this implementation specific arguments as the fields of the class.\n",
    "        self.URM_train = URM_train\n",
    "        self.evaluator = evaluator\n",
    "        self.recommender_1 = recommender1\n",
    "        self.recommender_2 = recommender2\n",
    "        self.recommender_3 = recommender3\n",
    "\n",
    "    def __call__(self, trial):\n",
    "        # Calculate an objective value by using the extra arguments.\n",
    "        alpha = trial.suggest_uniform('alpha', 0, 1)\n",
    "        beta = trial.suggest_uniform('beta', 0, 1)\n",
    "        gamma = trial.suggest_uniform('gamma', 0, 1)\n",
    "\n",
    "        recommender_final = ThreeDifferentModelRecommender(self.URM_train.tocsr(), self.recommender_1, self.recommender_2, self.recommender_3)\n",
    "        recommender_final.fit(2, alpha, beta, gamma)\n",
    "        result_dict, _ = self.evaluator.evaluateRecommender(recommender_final)\n",
    "\n",
    "        map_v = -result_dict.loc[10]['MAP']\n",
    "        if map_v >= -0.245: # minimum acceptable map\n",
    "            # Calculate the penalty.\n",
    "            penalty = 0.245 + map_v\n",
    "            trial.report(penalty, 0)\n",
    "\n",
    "            if trial.should_prune():\n",
    "                raise optuna.exceptions.TrialPruned()\n",
    "\n",
    "        return map_v\n",
    "\n",
    "study = optuna.create_study(direction='minimize')\n",
    "study.optimize(Objective(URM_train, recommender1, recommender2, recommender3, evaluator_validation), n_trials=500)\n",
    "\n",
    "print(study.best_params)"
   ]
  },
  {
   "cell_type": "code",
   "execution_count": 24,
   "id": "45d47992",
   "metadata": {},
   "outputs": [],
   "source": [
    "import numpy as np\n",
    "\n",
    "def prepare_submission(users_to_recommend: np.array, use_to_recommend: np.array, urm_train: sps.csr_matrix, recommender: object):\n",
    "\n",
    "    recommendation_length = 10\n",
    "    submission = []\n",
    "    for idx in use_to_recommend:\n",
    "        user_id = idx\n",
    "        mapped_user_id = idx\n",
    "        \n",
    "        recommendations = recommender.recommend(user_id_array = mapped_user_id,\n",
    "                                                cutoff=recommendation_length,\n",
    "                                                remove_seen_flag=True)\n",
    "        \n",
    "        submission.append((user_id, [item_id for item_id in recommendations]))\n",
    "        \n",
    "    return submission \n",
    "\n",
    "URM_all_dataframe, _, _, _, _ = ld.getDataframes()\n",
    "users_to_recommend = URM_all_dataframe[\"UserID\"].unique()\n",
    "submission = prepare_submission(URM_all_dataframe, users_to_recommend, URM_all, recommender1)\n",
    "\n",
    "def write_submission(submissions):\n",
    "    with open(\"./submission.csv\", \"w\") as f:\n",
    "        for user_id, items in submissions:\n",
    "            f.write(f\"{user_id},{' '.join([str(item) for item in items])}\\n\")\n",
    "\n",
    "write_submission(submission)"
   ]
  },
  {
   "cell_type": "code",
   "execution_count": null,
   "id": "c0f93117",
   "metadata": {},
   "outputs": [],
   "source": []
  }
 ],
 "metadata": {
  "kernelspec": {
   "display_name": "Python 3 (ipykernel)",
   "language": "python",
   "name": "python3"
  },
  "language_info": {
   "codemirror_mode": {
    "name": "ipython",
    "version": 3
   },
   "file_extension": ".py",
   "mimetype": "text/x-python",
   "name": "python",
   "nbconvert_exporter": "python",
   "pygments_lexer": "ipython3",
   "version": "3.8.12"
  }
 },
 "nbformat": 4,
 "nbformat_minor": 5
}
