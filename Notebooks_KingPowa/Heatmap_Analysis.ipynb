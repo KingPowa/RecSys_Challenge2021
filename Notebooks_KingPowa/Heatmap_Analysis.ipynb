{
 "cells": [
  {
   "cell_type": "code",
   "execution_count": 1,
   "id": "f5993499",
   "metadata": {},
   "outputs": [],
   "source": [
    "import sys\n",
    "import cython\n",
    "import numpy as np\n",
    "import scipy.sparse as sps\n",
    "\n",
    "sys.path.append('../RecSysRep/')"
   ]
  },
  {
   "cell_type": "code",
   "execution_count": 2,
   "id": "9be953d6",
   "metadata": {},
   "outputs": [],
   "source": [
    "import Basics.Load as ld\n",
    "URM_all, ICM_genre_all, ICM_subgenre_all, ICM_channel_all, ICM_event_all = ld.getCOOs()"
   ]
  },
  {
   "cell_type": "code",
   "execution_count": 3,
   "id": "eebe2556",
   "metadata": {},
   "outputs": [],
   "source": [
    "import os\n",
    "output_folder_path = \"../result_experiments/SLIM+KNN_sim/\""
   ]
  },
  {
   "cell_type": "code",
   "execution_count": 4,
   "id": "df3ad09d",
   "metadata": {},
   "outputs": [],
   "source": [
    "if not os.path.exists(output_folder_path):\n",
    "    os.makedirs(output_folder_path)\n",
    "        \n",
    "n_cases = 50  # using 10 as an example\n",
    "n_random_starts = int(n_cases*0.3)\n",
    "metric_to_optimize = \"MAP\"   \n",
    "cutoff_to_optimize = 10"
   ]
  },
  {
   "cell_type": "code",
   "execution_count": 5,
   "id": "89f21031",
   "metadata": {},
   "outputs": [
    {
     "name": "stdout",
     "output_type": "stream",
     "text": [
      "Warning: 6 (0.04 %) of 13650 users have no sampled items\n"
     ]
    }
   ],
   "source": [
    "from Evaluation.Evaluator import EvaluatorHoldout\n",
    "from Data_manager.split_functions.split_train_validation_random_holdout import split_train_in_two_percentage_global_sample\n",
    "\n",
    "URM_train, URM_validation = split_train_in_two_percentage_global_sample(URM_all, train_percentage = 0.8)"
   ]
  },
  {
   "cell_type": "code",
   "execution_count": 6,
   "id": "a39bb5bd",
   "metadata": {},
   "outputs": [
    {
     "name": "stdout",
     "output_type": "stream",
     "text": [
      "EvaluatorHoldout: Ignoring 13644 ( 0.0%) Users that have less than 1 test interactions\n"
     ]
    }
   ],
   "source": [
    "evaluator_validation = EvaluatorHoldout(URM_validation, cutoff_list=[10])\n",
    "#evaluator_test = EvaluatorHoldout(URM_test, cutoff_list=[10])"
   ]
  },
  {
   "cell_type": "code",
   "execution_count": 7,
   "id": "782cf2f1",
   "metadata": {},
   "outputs": [
    {
     "name": "stdout",
     "output_type": "stream",
     "text": [
      "ItemKNNCBFRecommender: ICM Detected 559 ( 3.1%) items with no features.\n"
     ]
    }
   ],
   "source": [
    "# We obtain the Similarity Matrix of the best models\n",
    "from Recommenders.SLIM.SLIMElasticNetRecommender import MultiThreadSLIM_SLIMElasticNetRecommender\n",
    "from Recommenders.KNN.ItemKNNCBFRecommender import ItemKNNCBFRecommender\n",
    "\n",
    "recommender1 = MultiThreadSLIM_SLIMElasticNetRecommender(URM_train)\n",
    "recommender2 = ItemKNNCBFRecommender(URM_train, ICM_genre_all)"
   ]
  },
  {
   "cell_type": "code",
   "execution_count": 8,
   "id": "167e7e2e",
   "metadata": {},
   "outputs": [
    {
     "name": "stderr",
     "output_type": "stream",
     "text": [
      "100%|███████████████████████████████████████████████████████████████████████████▉| 18056/18059 [42:57<00:00,  7.00it/s]\n"
     ]
    },
    {
     "name": "stdout",
     "output_type": "stream",
     "text": [
      "Similarity column 18059 (100.0%), 5182.94 column/sec. Elapsed time 3.48 sec\n"
     ]
    }
   ],
   "source": [
    "# We fit the models with best hyperparameters found\n",
    "hyp_best_1 = {'topK': 1203, 'l1_ratio': 0.0007860291403064104, 'alpha': 0.07969416051151235, 'workers': 2}\n",
    "hyp_best_2 = {\"shrink\": 1642, \"topK\": 734, \"feature_weighting\": \"TF-IDF\", \"normalize\": True}\n",
    "\n",
    "recommender1.fit(**hyp_best_1)\n",
    "recommender2.fit(**hyp_best_2)"
   ]
  },
  {
   "cell_type": "code",
   "execution_count": null,
   "id": "eabbe9b0",
   "metadata": {},
   "outputs": [],
   "source": [
    "import matplotlib.pyplot as plt\n",
    "import seaborn as sns\n",
    "\n",
    "# We then draw the heatmaps\n",
    "slim_sim = recommender1.W_sparse\n",
    "knn_sim = recommender2.W_sparse\n",
    "\n",
    "slim_sim_max = slim_sim.max()\n",
    "knn_sim_max = knn_sim.max()\n",
    "vmax = np.max([slim_sim_max, knn_sim_max])\n",
    "\n",
    "f, [ax1, ax2] = plt.subplots(1, 2, figsize=(16, 9), sharey=True)\n",
    "sns.heatmap(slim_sim.todense(), cbar=False, vmin=0, vmax=vmax, ax=ax1, cmap=\"Reds\")\n",
    "sns.heatmap(knn_sim.todense(), cbar=False, vmin=0, vmax=vmax, ax=ax2, cmap=\"Reds\")\n",
    "ax1.xaxis.set_ticks_position(\"top\")\n",
    "ax2.xaxis.set_ticks_position(\"top\")"
   ]
  },
  {
   "cell_type": "code",
   "execution_count": null,
   "id": "d58ee6be",
   "metadata": {},
   "outputs": [],
   "source": []
  }
 ],
 "metadata": {
  "kernelspec": {
   "display_name": "Python 3 (ipykernel)",
   "language": "python",
   "name": "python3"
  },
  "language_info": {
   "codemirror_mode": {
    "name": "ipython",
    "version": 3
   },
   "file_extension": ".py",
   "mimetype": "text/x-python",
   "name": "python",
   "nbconvert_exporter": "python",
   "pygments_lexer": "ipython3",
   "version": "3.8.12"
  }
 },
 "nbformat": 4,
 "nbformat_minor": 5
}
