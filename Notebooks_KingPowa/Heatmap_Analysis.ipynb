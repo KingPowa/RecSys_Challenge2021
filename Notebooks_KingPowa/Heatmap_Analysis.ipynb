{
 "cells": [
  {
   "cell_type": "code",
   "execution_count": 1,
   "id": "f5993499",
   "metadata": {},
   "outputs": [],
   "source": [
    "import sys\n",
    "import cython\n",
    "import numpy as np\n",
    "import scipy.sparse as sps\n",
    "\n",
    "sys.path.append('../RecSysRep/')"
   ]
  },
  {
   "cell_type": "code",
   "execution_count": 2,
   "id": "9be953d6",
   "metadata": {},
   "outputs": [],
   "source": [
    "import Basics.Load as ld\n",
    "URM_all, ICM_genre_all, ICM_subgenre_all, ICM_channel_all, ICM_event_all = ld.getCOOs()"
   ]
  },
  {
   "cell_type": "code",
   "execution_count": 3,
   "id": "eebe2556",
   "metadata": {},
   "outputs": [],
   "source": [
    "import os\n",
    "output_folder_path = \"../result_experiments/SLIM_KNN_sim/\""
   ]
  },
  {
   "cell_type": "code",
   "execution_count": 4,
   "id": "df3ad09d",
   "metadata": {},
   "outputs": [],
   "source": [
    "if not os.path.exists(output_folder_path):\n",
    "    os.makedirs(output_folder_path)\n",
    "        \n",
    "n_cases = 50  # using 10 as an example\n",
    "n_random_starts = int(n_cases*0.3)\n",
    "metric_to_optimize = \"MAP\"   \n",
    "cutoff_to_optimize = 10"
   ]
  },
  {
   "cell_type": "code",
   "execution_count": 5,
   "id": "89f21031",
   "metadata": {},
   "outputs": [
    {
     "name": "stdout",
     "output_type": "stream",
     "text": [
      "Warning: 5 (0.04 %) of 13650 users have no sampled items\n"
     ]
    }
   ],
   "source": [
    "from Evaluation.Evaluator import EvaluatorHoldout\n",
    "from Data_manager.split_functions.split_train_validation_random_holdout import split_train_in_two_percentage_global_sample\n",
    "\n",
    "URM_train, URM_validation = split_train_in_two_percentage_global_sample(URM_all, train_percentage = 0.8)"
   ]
  },
  {
   "cell_type": "code",
   "execution_count": 6,
   "id": "a39bb5bd",
   "metadata": {},
   "outputs": [
    {
     "name": "stdout",
     "output_type": "stream",
     "text": [
      "EvaluatorHoldout: Ignoring 13645 ( 0.0%) Users that have less than 1 test interactions\n"
     ]
    }
   ],
   "source": [
    "evaluator_validation = EvaluatorHoldout(URM_validation, cutoff_list=[10])\n",
    "#evaluator_test = EvaluatorHoldout(URM_test, cutoff_list=[10])"
   ]
  },
  {
   "cell_type": "code",
   "execution_count": 7,
   "id": "782cf2f1",
   "metadata": {},
   "outputs": [
    {
     "name": "stdout",
     "output_type": "stream",
     "text": [
      "ItemKNNCBFRecommender: ICM Detected 559 ( 3.1%) items with no features.\n"
     ]
    }
   ],
   "source": [
    "# We obtain the Similarity Matrix of the best models\n",
    "from Recommenders.SLIM.SLIMElasticNetRecommender import MultiThreadSLIM_SLIMElasticNetRecommender\n",
    "from Recommenders.KNN.ItemKNNCBFRecommender import ItemKNNCBFRecommender\n",
    "\n",
    "recommender1 = MultiThreadSLIM_SLIMElasticNetRecommender(URM_train)\n",
    "recommender2 = ItemKNNCBFRecommender(URM_train, ICM_genre_all)"
   ]
  },
  {
   "cell_type": "code",
   "execution_count": 8,
   "id": "167e7e2e",
   "metadata": {},
   "outputs": [
    {
     "name": "stderr",
     "output_type": "stream",
     "text": [
      "100%|███████████████████████████████████████████████████████████████████████████▉| 18032/18059 [14:45<00:00, 32.21it/s]"
     ]
    },
    {
     "name": "stdout",
     "output_type": "stream",
     "text": [
      "Similarity column 18059 (100.0%), 7829.71 column/sec. Elapsed time 2.31 sec\n"
     ]
    }
   ],
   "source": [
    "# We fit the models with best hyperparameters found\n",
    "hyp_best_1 = {'topK': 1203, 'l1_ratio': 0.0007860291403064104, 'alpha': 0.07969416051151235, 'workers': 8}\n",
    "hyp_best_2 = {\"shrink\": 1642, \"topK\": 734, \"feature_weighting\": \"TF-IDF\", \"normalize\": True}\n",
    "\n",
    "recommender1.fit(**hyp_best_1)\n",
    "recommender2.fit(**hyp_best_2)"
   ]
  },
  {
   "cell_type": "code",
   "execution_count": 9,
   "id": "1cb5926b",
   "metadata": {},
   "outputs": [
    {
     "data": {
      "text/plain": [
       "'\\nrecommender1.save_model(output_folder_path, \\n                              file_name = recommender_object.RECOMMENDER_NAME + \"_heatmap.zip\" )\\nrecommender2.save_model(output_folder_path, \\n                              file_name = recommender_object.RECOMMENDER_NAME + \"_heatmap.zip\" )\\n'"
      ]
     },
     "execution_count": 9,
     "metadata": {},
     "output_type": "execute_result"
    }
   ],
   "source": [
    "'''\n",
    "recommender1.save_model(output_folder_path, \n",
    "                              file_name = recommender_object.RECOMMENDER_NAME + \"_heatmap.zip\" )\n",
    "recommender2.save_model(output_folder_path, \n",
    "                              file_name = recommender_object.RECOMMENDER_NAME + \"_heatmap.zip\" )\n",
    "'''"
   ]
  },
  {
   "cell_type": "code",
   "execution_count": 10,
   "id": "06a0bd4b",
   "metadata": {},
   "outputs": [
    {
     "data": {
      "text/plain": [
       "'\\nrecommender1.load_model(output_folder_path, file_name = recommender1.RECOMMENDER_NAME + \"_heatmap.zip\")\\n\\nrecommender2.load_model(output_folder_path, file_name = recommender2.RECOMMENDER_NAME + \"_heatmap.zip\")\\n'"
      ]
     },
     "execution_count": 10,
     "metadata": {},
     "output_type": "execute_result"
    }
   ],
   "source": [
    "'''\n",
    "recommender1.load_model(output_folder_path, file_name = recommender1.RECOMMENDER_NAME + \"_heatmap.zip\")\n",
    "\n",
    "recommender2.load_model(output_folder_path, file_name = recommender2.RECOMMENDER_NAME + \"_heatmap.zip\")\n",
    "'''"
   ]
  },
  {
   "cell_type": "code",
   "execution_count": 11,
   "id": "eabbe9b0",
   "metadata": {},
   "outputs": [
    {
     "name": "stderr",
     "output_type": "stream",
     "text": [
      "100%|███████████████████████████████████████████████████████████████████████████▉| 18056/18059 [14:51<00:00, 20.24it/s]\n"
     ]
    },
    {
     "name": "stdout",
     "output_type": "stream",
     "text": [
      "0.031272236\n",
      "0.006843301\n",
      "0.031272236\n",
      "0.0\n"
     ]
    },
    {
     "data": {
      "image/png": "[encoded data removed]",
      "text/plain": [
       "<Figure size 1152x648 with 2 Axes>"
      ]
     },
     "metadata": {
      "needs_background": "light"
     },
     "output_type": "display_data"
    }
   ],
   "source": [
    "import matplotlib.pyplot as plt\n",
    "import seaborn as sns\n",
    "\n",
    "size = 100\n",
    "\n",
    "# We then draw the heatmaps\n",
    "slim_sim = recommender1.W_sparse\n",
    "knn_sim = recommender2.W_sparse\n",
    "\n",
    "slim_sim_max = slim_sim[:size,:size].max()\n",
    "knn_sim_max = knn_sim[:size,:size].max()\n",
    "vmax = np.max([slim_sim_max, knn_sim_max])\n",
    "print(slim_sim_max)\n",
    "print(knn_sim_max)\n",
    "print(vmax)\n",
    "print(slim_sim.min())\n",
    "\n",
    "f, [ax1, ax2] = plt.subplots(1, 2, figsize=(16, 9), sharey=True)\n",
    "sns.heatmap(slim_sim[:size,:size].todense(), cbar=False, vmin=0, vmax=vmax, ax=ax1, cmap=\"Reds\")\n",
    "sns.heatmap(knn_sim[:size,:size].todense(), cbar=False, vmin=0, vmax=vmax, ax=ax2, cmap=\"Reds\")\n",
    "ax1.xaxis.set_ticks_position(\"top\")\n",
    "ax2.xaxis.set_ticks_position(\"top\")"
   ]
  },
  {
   "cell_type": "code",
   "execution_count": 12,
   "id": "d58ee6be",
   "metadata": {},
   "outputs": [
    {
     "name": "stdout",
     "output_type": "stream",
     "text": [
      "(7088, 14673)\n"
     ]
    }
   ],
   "source": [
    "print(np.unravel_index(np.argmax(slim_sim), slim_sim.shape))"
   ]
  },
  {
   "cell_type": "code",
   "execution_count": 18,
   "id": "a9cdb781",
   "metadata": {},
   "outputs": [
    {
     "name": "stdout",
     "output_type": "stream",
     "text": [
      "EvaluatorHoldout: Processed 13645 (100.0%) in 24.21 sec. Users per second: 564\n"
     ]
    },
    {
     "data": {
      "text/html": [
       "<div>\n",
       "<style scoped>\n",
       "    .dataframe tbody tr th:only-of-type {\n",
       "        vertical-align: middle;\n",
       "    }\n",
       "\n",
       "    .dataframe tbody tr th {\n",
       "        vertical-align: top;\n",
       "    }\n",
       "\n",
       "    .dataframe thead th {\n",
       "        text-align: right;\n",
       "    }\n",
       "</style>\n",
       "<table border=\"1\" class=\"dataframe\">\n",
       "  <thead>\n",
       "    <tr style=\"text-align: right;\">\n",
       "      <th></th>\n",
       "      <th>PRECISION</th>\n",
       "      <th>PRECISION_RECALL_MIN_DEN</th>\n",
       "      <th>RECALL</th>\n",
       "      <th>MAP</th>\n",
       "      <th>MAP_MIN_DEN</th>\n",
       "      <th>MRR</th>\n",
       "      <th>NDCG</th>\n",
       "      <th>F1</th>\n",
       "      <th>HIT_RATE</th>\n",
       "      <th>ARHR_ALL_HITS</th>\n",
       "      <th>...</th>\n",
       "      <th>COVERAGE_ITEM_CORRECT</th>\n",
       "      <th>COVERAGE_USER</th>\n",
       "      <th>COVERAGE_USER_CORRECT</th>\n",
       "      <th>DIVERSITY_GINI</th>\n",
       "      <th>SHANNON_ENTROPY</th>\n",
       "      <th>RATIO_DIVERSITY_HERFINDAHL</th>\n",
       "      <th>RATIO_DIVERSITY_GINI</th>\n",
       "      <th>RATIO_SHANNON_ENTROPY</th>\n",
       "      <th>RATIO_AVERAGE_POPULARITY</th>\n",
       "      <th>RATIO_NOVELTY</th>\n",
       "    </tr>\n",
       "    <tr>\n",
       "      <th>cutoff</th>\n",
       "      <th></th>\n",
       "      <th></th>\n",
       "      <th></th>\n",
       "      <th></th>\n",
       "      <th></th>\n",
       "      <th></th>\n",
       "      <th></th>\n",
       "      <th></th>\n",
       "      <th></th>\n",
       "      <th></th>\n",
       "      <th></th>\n",
       "      <th></th>\n",
       "      <th></th>\n",
       "      <th></th>\n",
       "      <th></th>\n",
       "      <th></th>\n",
       "      <th></th>\n",
       "      <th></th>\n",
       "      <th></th>\n",
       "      <th></th>\n",
       "      <th></th>\n",
       "    </tr>\n",
       "  </thead>\n",
       "  <tbody>\n",
       "    <tr>\n",
       "      <th>10</th>\n",
       "      <td>0.393082</td>\n",
       "      <td>0.395155</td>\n",
       "      <td>0.070812</td>\n",
       "      <td>0.241259</td>\n",
       "      <td>0.242244</td>\n",
       "      <td>0.643044</td>\n",
       "      <td>0.407418</td>\n",
       "      <td>0.120005</td>\n",
       "      <td>0.975595</td>\n",
       "      <td>1.224459</td>\n",
       "      <td>...</td>\n",
       "      <td>0.047843</td>\n",
       "      <td>0.999634</td>\n",
       "      <td>0.975238</td>\n",
       "      <td>0.009846</td>\n",
       "      <td>7.734333</td>\n",
       "      <td>0.991227</td>\n",
       "      <td>0.03971</td>\n",
       "      <td>0.624242</td>\n",
       "      <td>2.649586</td>\n",
       "      <td>0.026021</td>\n",
       "    </tr>\n",
       "  </tbody>\n",
       "</table>\n",
       "<p>1 rows × 25 columns</p>\n",
       "</div>"
      ],
      "text/plain": [
       "       PRECISION PRECISION_RECALL_MIN_DEN    RECALL       MAP MAP_MIN_DEN  \\\n",
       "cutoff                                                                      \n",
       "10      0.393082                 0.395155  0.070812  0.241259    0.242244   \n",
       "\n",
       "             MRR      NDCG        F1  HIT_RATE ARHR_ALL_HITS  ...  \\\n",
       "cutoff                                                        ...   \n",
       "10      0.643044  0.407418  0.120005  0.975595      1.224459  ...   \n",
       "\n",
       "       COVERAGE_ITEM_CORRECT COVERAGE_USER COVERAGE_USER_CORRECT  \\\n",
       "cutoff                                                             \n",
       "10                  0.047843      0.999634              0.975238   \n",
       "\n",
       "       DIVERSITY_GINI SHANNON_ENTROPY RATIO_DIVERSITY_HERFINDAHL  \\\n",
       "cutoff                                                             \n",
       "10           0.009846        7.734333                   0.991227   \n",
       "\n",
       "       RATIO_DIVERSITY_GINI RATIO_SHANNON_ENTROPY RATIO_AVERAGE_POPULARITY  \\\n",
       "cutoff                                                                       \n",
       "10                  0.03971              0.624242                 2.649586   \n",
       "\n",
       "       RATIO_NOVELTY  \n",
       "cutoff                \n",
       "10          0.026021  \n",
       "\n",
       "[1 rows x 25 columns]"
      ]
     },
     "execution_count": 18,
     "metadata": {},
     "output_type": "execute_result"
    }
   ],
   "source": [
    "from Recommenders.KNN.ItemKNNCustomSimilarityRecommender import ItemKNNCustomSimilarityRecommender\n",
    "\n",
    "alpha = 0.6\n",
    "\n",
    "new_similarity = slim_sim * alpha + knn_sim * (1-alpha)\n",
    "\n",
    "recommender_object = ItemKNNCustomSimilarityRecommender(URM_train)\n",
    "recommender_object.fit(new_similarity)\n",
    "\n",
    "result_df, _ = evaluator_validation.evaluateRecommender(recommender_object)\n",
    "result_df"
   ]
  },
  {
   "cell_type": "code",
   "execution_count": null,
   "id": "9dfa7b17",
   "metadata": {},
   "outputs": [],
   "source": []
  }
 ],
 "metadata": {
  "kernelspec": {
   "display_name": "Python 3",
   "language": "python",
   "name": "python3"
  },
  "language_info": {
   "codemirror_mode": {
    "name": "ipython",
    "version": 3
   },
   "file_extension": ".py",
   "mimetype": "text/x-python",
   "name": "python",
   "nbconvert_exporter": "python",
   "pygments_lexer": "ipython3",
   "version": "3.8.8"
  }
 },
 "nbformat": 4,
 "nbformat_minor": 5
}
