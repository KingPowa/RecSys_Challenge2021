{
 "cells": [
  {
   "cell_type": "code",
   "execution_count": 1,
   "id": "7e809989",
   "metadata": {},
   "outputs": [],
   "source": [
    "import sys\n",
    "sys.path.append('../RecSysRep/')"
   ]
  },
  {
   "cell_type": "code",
   "execution_count": 2,
   "id": "bc728eee",
   "metadata": {},
   "outputs": [],
   "source": [
    "import Basics.Load as ld\n",
    "\n",
    "URM_all, _, _, _, _ = ld.getCOOs()\n",
    "ICM_weighted = ld.getICMselected('7')\n",
    "# URM_train, URM_val = ld.getSplit(URM_train_val, 5678, 0.8)"
   ]
  },
  {
   "cell_type": "code",
   "execution_count": 3,
   "id": "09a0a841",
   "metadata": {},
   "outputs": [
    {
     "name": "stdout",
     "output_type": "stream",
     "text": [
      "Warning: 7 (0.05 %) of 13650 users have no sampled items\n",
      "EvaluatorHoldout: Ignoring 13643 ( 0.1%) Users that have less than 1 test interactions\n"
     ]
    }
   ],
   "source": [
    "from Evaluation.Evaluator import EvaluatorHoldout\n",
    "from Data_manager.split_functions.split_train_validation_random_holdout import split_train_in_two_percentage_global_sample\n",
    "\n",
    "URM_train, URM_validation = split_train_in_two_percentage_global_sample(URM_all, train_percentage = 0.8, seed=1234)\n",
    "# URM_train, URM_validation = split_train_in_two_percentage_global_sample(URM_train_validation, train_percentage = 0.8)\n",
    "\n",
    "evaluator_validation = EvaluatorHoldout(URM_validation, cutoff_list=[10])\n",
    "# evaluator_test = EvaluatorHoldout(URM_test, cutoff_list=[10])"
   ]
  },
  {
   "cell_type": "code",
   "execution_count": 4,
   "id": "2d0f462a",
   "metadata": {},
   "outputs": [],
   "source": [
    "import os\n",
    "\n",
    "ofp = \"../models_temp/Similarity_Hybrid/\"\n",
    "\n",
    "models_to_combine_best = {\n",
    "                            'RP3ICMnew': {'alpha': 1.029719677583138, 'beta': 1.0630164752134375, 'topK': 6964, 'normalize_similarity': True},\n",
    "                            'RP3ICM' : {\"topK\": 2550, \"alpha\": 1.3058102610510849, \"beta\": 0.5150718337969987, \"normalize_similarity\": True, \"implicit\": True},\n",
    "                            'IALS' : {\"num_factors\": 29, \"epochs\": 50, \"confidence_scaling\": \"log\", \"alpha\": 0.001, \"epsilon\": 0.001, \"reg\": 0.01},\n",
    "                            'SLIMgensub': {\"l1_ratio\" : 0.025887359156206147, \"topK\": 2140, \"alpha\": 0.009567288586539689, \"workers\": 8, \"mw\": 1},\n",
    "                            'SLIMBPR' : {\"epochs\": 440, \"lambda_i\": 0.007773815998802306, \"lambda_j\": 0.003342522366982381, \"learning_rate\": 0.010055161410725193, \"topK\": 4289, \"random_seed\": 1234, \"sgd_mode\": \"sgd\"},\n",
    "                            'SLIMweig': {'l1_ratio': 0.0005247075138160404, 'topK': 4983, 'alpha': 0.06067400905430761, 'workers': 8, 'mw': 2.308619939318322},\n",
    "                            'SLIMER': {'topK': 6000, 'l1_ratio': 0.0005495104968035837, 'alpha': 0.08007142704041009, 'workers': 8},\n",
    "                            'P3alpha': {'topK': 4834, 'alpha': 1.764994849187595, 'normalize_similarity': True, 'implicit': True},\n",
    "                            'RP3beta': {\"topK\": 1049, \"alpha\": 1.1626473723475605, \"beta\": 0.6765017195261293, \"normalize_similarity\": True, \"implicit\": True},\n",
    "                            'icm_weighted': {\"shrink\": 4000, \"topK\": 985, \"feature_weighting\": \"TF-IDF\", \"normalize\": True}\n",
    "                         }\n"
   ]
  },
  {
   "cell_type": "code",
   "execution_count": 5,
   "id": "886935b8",
   "metadata": {},
   "outputs": [],
   "source": [
    "def model_init(recommender, name, args):\n",
    "    path_name = ofp + name + \".zip\"\n",
    "    print(path_name)\n",
    "    if os.path.exists(path_name):\n",
    "        print(\"Model found!\")\n",
    "        recommender.load_model(ofp, name)\n",
    "    else:\n",
    "        print(\"Model does not exists, creating...\")\n",
    "        if not os.path.exists(ofp):\n",
    "            print(\"Main folder does not exist, creating...\")\n",
    "            os.makedirs(ofp)\n",
    "        recommender.fit(**args)\n",
    "        recommender.save_model(ofp, name)"
   ]
  },
  {
   "cell_type": "code",
   "execution_count": 6,
   "id": "7086f521",
   "metadata": {},
   "outputs": [],
   "source": [
    "from Recommenders.NonPersonalizedRecommender import TopPop\n",
    "from Recommenders.KNN.ItemKNNCBFRecommender import ItemKNNCBFRecommender\n",
    "from Recommenders.SLIM.Cython.SLIM_BPR_Cython import SLIM_BPR_Cython\n",
    "from Recommenders.SLIM.SLIMElasticNetRecommender import MultiThreadSLIM_SLIMElasticNetRecommender\n",
    "from Recommenders.GraphBased.P3alphaRecommender import P3alphaRecommender\n",
    "from Recommenders.GraphBased.RP3betaRecommender import RP3betaRecommender\n",
    "from Recommenders.GraphBased.RP3betaRecommender import RP3betaRecommenderICM\n",
    "from Recommenders.MatrixFactorization.IALSRecommender import IALSRecommender"
   ]
  },
  {
   "cell_type": "code",
   "execution_count": 7,
   "id": "9503ce9a",
   "metadata": {},
   "outputs": [],
   "source": [
    "from Recommenders.KNN.ItemKNNSimilarityHybridRecommender import ItemKNNSimilarityHybridRecommender\n",
    "from Recommenders.KNN.ItemKNNSimilarityHybridRecommenderNormal import ItemKNNSimilarityHybridRecommenderNormal"
   ]
  },
  {
   "cell_type": "code",
   "execution_count": 8,
   "id": "af609b00",
   "metadata": {},
   "outputs": [
    {
     "name": "stdout",
     "output_type": "stream",
     "text": [
      "ItemKNNCBFRecommender: ICM Detected 22 ( 0.1%) items with no features.\n",
      "../models_temp/Similarity_Hybrid/P3alpha.zip\n",
      "Model found!\n",
      "P3alphaRecommender: Loading model from file '../models_temp/Similarity_Hybrid/P3alpha'\n",
      "P3alphaRecommender: Loading complete\n",
      "../models_temp/Similarity_Hybrid/KNNweigh.zip\n",
      "Model found!\n",
      "ItemKNNCBFRecommender: Loading model from file '../models_temp/Similarity_Hybrid/KNNweigh'\n",
      "ItemKNNCBFRecommender: Loading complete\n"
     ]
    }
   ],
   "source": [
    "recommender1 = P3alphaRecommender(URM_train)\n",
    "recommender2 = ItemKNNCBFRecommender(URM_train, ICM_weighted)\n",
    "\n",
    "model_init(recommender1, 'P3alpha', models_to_combine_best['P3alpha'])\n",
    "model_init(recommender2, 'KNNweigh', models_to_combine_best['icm_weighted'])"
   ]
  },
  {
   "cell_type": "code",
   "execution_count": 9,
   "id": "dfe8c977",
   "metadata": {},
   "outputs": [],
   "source": [
    "def rank_models(evaluator, recommenders):\n",
    "    for r in recommenders:\n",
    "        r_d, _ = evaluator.evaluateRecommender(r)\n",
    "        print(r.RECOMMENDER_NAME, r_d.loc[10]['MAP'])"
   ]
  },
  {
   "cell_type": "code",
   "execution_count": 10,
   "id": "7d99a6d2",
   "metadata": {},
   "outputs": [
    {
     "name": "stdout",
     "output_type": "stream",
     "text": [
      "EvaluatorHoldout: Processed 13643 (100.0%) in 26.06 sec. Users per second: 523\n",
      "P3alphaRecommender 0.20400471373772652\n",
      "EvaluatorHoldout: Processed 13643 (100.0%) in 17.97 sec. Users per second: 759\n",
      "ItemKNNCBFRecommender 0.07652628710112308\n"
     ]
    }
   ],
   "source": [
    "rank_models(evaluator_validation, [recommender1, recommender2])"
   ]
  },
  {
   "cell_type": "code",
   "execution_count": 11,
   "id": "4d8541db",
   "metadata": {},
   "outputs": [],
   "source": [
    "import matplotlib.pyplot as plt"
   ]
  },
  {
   "cell_type": "code",
   "execution_count": 17,
   "id": "3720ca54",
   "metadata": {},
   "outputs": [],
   "source": [
    "import numpy as np\n",
    "\n",
    "def test_percentage(recommender_1, recommender_2, evaluator, step):\n",
    "    recommender = ItemKNNSimilarityHybridRecommenderNormal(URM_train, recommender_1.W_sparse, recommender_2.W_sparse)\n",
    "    results = []\n",
    "    alp_space = np.linspace(0.773, 0.7737, step, True)\n",
    "    for alp in alp_space:\n",
    "        recommender.fit(alp)\n",
    "        r_d, _ = evaluator.evaluateRecommender(recommender)\n",
    "        print(alp, \":\", r_d.loc[10]['MAP'])\n",
    "        results.append(r_d.loc[10]['MAP'])\n",
    "    \n",
    "    return alp_space, results"
   ]
  },
  {
   "cell_type": "code",
   "execution_count": 20,
   "id": "eba6359b",
   "metadata": {},
   "outputs": [
    {
     "name": "stdout",
     "output_type": "stream",
     "text": [
      "EvaluatorHoldout: Processed 13643 (100.0%) in 26.75 sec. Users per second: 510\n",
      "0.769 : 0.2120240713011738\n",
      "EvaluatorHoldout: Processed 13643 (100.0%) in 26.23 sec. Users per second: 520\n",
      "0.7692413793103449 : 0.212042218289745\n",
      "EvaluatorHoldout: Processed 13643 (100.0%) in 26.13 sec. Users per second: 522\n",
      "0.7694827586206897 : 0.21202129064384467\n",
      "EvaluatorHoldout: Processed 13643 (100.0%) in 28.31 sec. Users per second: 482\n",
      "0.7697241379310344 : 0.21203191298753146\n",
      "EvaluatorHoldout: Processed 13643 (100.0%) in 27.74 sec. Users per second: 492\n",
      "0.7699655172413793 : 0.21204869000790003\n",
      "EvaluatorHoldout: Processed 13643 (100.0%) in 27.34 sec. Users per second: 499\n",
      "0.7702068965517241 : 0.2120510081918865\n",
      "EvaluatorHoldout: Processed 13643 (100.0%) in 26.34 sec. Users per second: 518\n",
      "0.770448275862069 : 0.21206536231732315\n",
      "EvaluatorHoldout: Processed 13643 (100.0%) in 38.20 sec. Users per second: 357\n",
      "0.7706896551724138 : 0.21206714240339575\n",
      "EvaluatorHoldout: Processed 13643 (100.0%) in 43.03 sec. Users per second: 317\n",
      "0.7709310344827587 : 0.2120821189772302\n",
      "EvaluatorHoldout: Processed 13643 (100.0%) in 44.19 sec. Users per second: 309\n",
      "0.7711724137931034 : 0.212069835801603\n",
      "EvaluatorHoldout: Processed 13643 (100.0%) in 48.57 sec. Users per second: 281\n",
      "0.7714137931034483 : 0.21203885590494115\n",
      "EvaluatorHoldout: Processed 13643 (100.0%) in 47.22 sec. Users per second: 289\n",
      "0.7716551724137931 : 0.21202292529804792\n",
      "EvaluatorHoldout: Processed 13643 (100.0%) in 45.24 sec. Users per second: 302\n",
      "0.771896551724138 : 0.2120069103406712\n",
      "EvaluatorHoldout: Processed 13643 (100.0%) in 43.68 sec. Users per second: 312\n",
      "0.7721379310344828 : 0.21202938829029125\n",
      "EvaluatorHoldout: Processed 13643 (100.0%) in 46.21 sec. Users per second: 295\n",
      "0.7723793103448277 : 0.21202852151635398\n",
      "EvaluatorHoldout: Processed 13643 (100.0%) in 49.17 sec. Users per second: 277\n",
      "0.7726206896551724 : 0.21206357932261305\n",
      "EvaluatorHoldout: Processed 13643 (100.0%) in 51.57 sec. Users per second: 265\n",
      "0.7728620689655172 : 0.21207927142124147\n",
      "EvaluatorHoldout: Processed 13643 (100.0%) in 47.96 sec. Users per second: 284\n",
      "0.7731034482758621 : 0.21206978926340478\n",
      "EvaluatorHoldout: Processed 13643 (100.0%) in 47.43 sec. Users per second: 288\n",
      "0.7733448275862069 : 0.21208195318489964\n",
      "EvaluatorHoldout: Processed 13643 (100.0%) in 45.59 sec. Users per second: 299\n",
      "0.7735862068965518 : 0.21210016998076808\n",
      "EvaluatorHoldout: Processed 13643 (100.0%) in 45.83 sec. Users per second: 298\n",
      "0.7738275862068966 : 0.21207528658804048\n",
      "EvaluatorHoldout: Processed 13643 (100.0%) in 42.89 sec. Users per second: 318\n",
      "0.7740689655172414 : 0.2120750538970506\n",
      "EvaluatorHoldout: Processed 13643 (100.0%) in 50.61 sec. Users per second: 270\n",
      "0.7743103448275862 : 0.2120529075320913\n",
      "EvaluatorHoldout: Processed 13643 (100.0%) in 48.44 sec. Users per second: 282\n",
      "0.774551724137931 : 0.21206059506066866\n",
      "EvaluatorHoldout: Processed 13643 (100.0%) in 46.11 sec. Users per second: 296\n",
      "0.7747931034482759 : 0.21204784068578705\n",
      "EvaluatorHoldout: Processed 13643 (100.0%) in 44.11 sec. Users per second: 309\n",
      "0.7750344827586207 : 0.2120345482129915\n",
      "EvaluatorHoldout: Processed 13643 (100.0%) in 42.58 sec. Users per second: 320\n",
      "0.7752758620689656 : 0.21203422535424302\n",
      "EvaluatorHoldout: Processed 13643 (100.0%) in 44.09 sec. Users per second: 309\n",
      "0.7755172413793103 : 0.21205038283485106\n",
      "EvaluatorHoldout: Processed 13643 (100.0%) in 28.25 sec. Users per second: 483\n",
      "0.7757586206896552 : 0.21205092965867725\n",
      "EvaluatorHoldout: Processed 13643 (100.0%) in 30.42 sec. Users per second: 448\n",
      "0.776 : 0.21205864918226583\n"
     ]
    }
   ],
   "source": [
    "alp_space, results = test_percentage(recommender1, recommender2, evaluator_validation, 30)"
   ]
  },
  {
   "cell_type": "code",
   "execution_count": 21,
   "id": "bcb20c78",
   "metadata": {},
   "outputs": [
    {
     "data": {
      "image/png": "[encoded data removed]",
      "text/plain": [
       "<Figure size 1152x648 with 1 Axes>"
      ]
     },
     "metadata": {
      "needs_background": "light"
     },
     "output_type": "display_data"
    }
   ],
   "source": [
    "import matplotlib.pyplot as plt\n",
    "\n",
    "_ = plt.figure(figsize=(16, 9))\n",
    "plt.plot(alp_space, results, label='MAP variability')\n",
    "plt.ylabel('MAP')\n",
    "plt.xlabel('User Group')\n",
    "plt.legend()\n",
    "plt.show()"
   ]
  },
  {
   "cell_type": "code",
   "execution_count": null,
   "id": "ed47bc68",
   "metadata": {},
   "outputs": [],
   "source": []
  }
 ],
 "metadata": {
  "kernelspec": {
   "display_name": "Python 3",
   "language": "python",
   "name": "python3"
  },
  "language_info": {
   "codemirror_mode": {
    "name": "ipython",
    "version": 3
   },
   "file_extension": ".py",
   "mimetype": "text/x-python",
   "name": "python",
   "nbconvert_exporter": "python",
   "pygments_lexer": "ipython3",
   "version": "3.8.8"
  }
 },
 "nbformat": 4,
 "nbformat_minor": 5
}
