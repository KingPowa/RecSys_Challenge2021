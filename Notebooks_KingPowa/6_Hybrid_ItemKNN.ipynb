{
 "cells": [
  {
   "cell_type": "code",
   "execution_count": 3,
   "id": "7e809989",
   "metadata": {},
   "outputs": [],
   "source": [
    "import sys\n",
    "sys.path.append('../RecSysRep/')"
   ]
  },
  {
   "cell_type": "code",
   "execution_count": 10,
   "id": "bc728eee",
   "metadata": {},
   "outputs": [],
   "source": [
    "import Basics.Load as ld\n",
    "\n",
    "URM_all, _, _, _, _ = ld.getCOOs()\n",
    "ICM_weighted = ld.getICMselected('7')\n",
    "# URM_train, URM_val = ld.getSplit(URM_train_val, 5678, 0.8)"
   ]
  },
  {
   "cell_type": "code",
   "execution_count": 5,
   "id": "09a0a841",
   "metadata": {},
   "outputs": [
    {
     "name": "stdout",
     "output_type": "stream",
     "text": [
      "Warning: 7 (0.05 %) of 13650 users have no sampled items\n",
      "EvaluatorHoldout: Ignoring 13643 ( 0.1%) Users that have less than 1 test interactions\n"
     ]
    }
   ],
   "source": [
    "from Evaluation.Evaluator import EvaluatorHoldout\n",
    "from Data_manager.split_functions.split_train_validation_random_holdout import split_train_in_two_percentage_global_sample\n",
    "\n",
    "URM_train, URM_validation = split_train_in_two_percentage_global_sample(URM_all, train_percentage = 0.8, seed=1234)\n",
    "# URM_train, URM_validation = split_train_in_two_percentage_global_sample(URM_train_validation, train_percentage = 0.8)\n",
    "\n",
    "evaluator_validation = EvaluatorHoldout(URM_validation, cutoff_list=[10])\n",
    "# evaluator_test = EvaluatorHoldout(URM_test, cutoff_list=[10])"
   ]
  },
  {
   "cell_type": "code",
   "execution_count": 22,
   "id": "2d0f462a",
   "metadata": {},
   "outputs": [],
   "source": [
    "import os\n",
    "\n",
    "ofp = \"../models_temp/Similarity_Hybrid/\"\n",
    "\n",
    "models_to_combine_best = {\n",
    "                            'RP3ICMnew': {'alpha': 1.029719677583138, 'beta': 1.0630164752134375, 'topK': 6964, 'normalize_similarity': True},\n",
    "                            'RP3ICM' : {\"topK\": 2550, \"alpha\": 1.3058102610510849, \"beta\": 0.5150718337969987, \"normalize_similarity\": True, \"implicit\": True},\n",
    "                            'IALS' : {\"num_factors\": 29, \"epochs\": 50, \"confidence_scaling\": \"log\", \"alpha\": 0.001, \"epsilon\": 0.001, \"reg\": 0.01},\n",
    "                            'SLIMgensub': {\"l1_ratio\" : 0.025887359156206147, \"topK\": 2140, \"alpha\": 0.009567288586539689, \"workers\": 8, \"mw\": 1},\n",
    "                            'SLIMBPR' : {\"epochs\": 440, \"lambda_i\": 0.007773815998802306, \"lambda_j\": 0.003342522366982381, \"learning_rate\": 0.010055161410725193, \"topK\": 4289, \"random_seed\": 1234, \"sgd_mode\": \"sgd\"},\n",
    "                            'SLIMweig': {'l1_ratio': 0.0005247075138160404, 'topK': 4983, 'alpha': 0.06067400905430761, 'workers': 8, 'mw': 2.308619939318322},\n",
    "                            'SLIMER': {'topK': 6000, 'l1_ratio': 0.0005495104968035837, 'alpha': 0.08007142704041009, 'workers': 8},\n",
    "                            'P3alpha': {'topK': 4834, 'alpha': 1.764994849187595, 'normalize_similarity': True, 'implicit': True},\n",
    "                            'RP3beta': {\"topK\": 1049, \"alpha\": 1.1626473723475605, \"beta\": 0.6765017195261293, \"normalize_similarity\": True, \"implicit\": True},\n",
    "                            'icm_weighted': {\"shrink\": 4000, \"topK\": 985, \"feature_weighting\": \"TF-IDF\", \"normalize\": True}\n",
    "                         }\n"
   ]
  },
  {
   "cell_type": "code",
   "execution_count": 30,
   "id": "1348b9f2",
   "metadata": {},
   "outputs": [],
   "source": [
    "def model_init(recommender, name, args):\n",
    "    path_name = ofp + name + \".zip\"\n",
    "    print(path_name)\n",
    "    if os.path.exists(path_name):\n",
    "        print(\"Model found!\")\n",
    "        recommender.load_model(ofp, name)\n",
    "    else:\n",
    "        print(\"Model does not exists, creating...\")\n",
    "        if not os.path.exists(ofp):\n",
    "            print(\"Main folder does not exist, creating...\")\n",
    "            os.makedirs(ofp)\n",
    "        recommender.fit(**args)\n",
    "        recommender.save_model(ofp, name)"
   ]
  },
  {
   "cell_type": "code",
   "execution_count": 24,
   "id": "1fe35dd8",
   "metadata": {},
   "outputs": [],
   "source": [
    "from Recommenders.NonPersonalizedRecommender import TopPop\n",
    "from Recommenders.KNN.ItemKNNCBFRecommender import ItemKNNCBFRecommender\n",
    "from Recommenders.SLIM.Cython.SLIM_BPR_Cython import SLIM_BPR_Cython\n",
    "from Recommenders.SLIM.SLIMElasticNetRecommender import MultiThreadSLIM_SLIMElasticNetRecommender\n",
    "from Recommenders.GraphBased.P3alphaRecommender import P3alphaRecommender\n",
    "from Recommenders.GraphBased.RP3betaRecommender import RP3betaRecommender\n",
    "from Recommenders.GraphBased.RP3betaRecommender import RP3betaRecommenderICM\n",
    "from Recommenders.MatrixFactorization.IALSRecommender import IALSRecommender"
   ]
  },
  {
   "cell_type": "code",
   "execution_count": 25,
   "id": "2329e3a7",
   "metadata": {},
   "outputs": [],
   "source": [
    "from Recommenders.KNN.ItemKNNSimilarityHybridRecommender import ItemKNNSimilarityHybridRecommender"
   ]
  },
  {
   "cell_type": "code",
   "execution_count": 31,
   "id": "399ca661",
   "metadata": {},
   "outputs": [
    {
     "name": "stdout",
     "output_type": "stream",
     "text": [
      "ItemKNNCBFRecommender: ICM Detected 22 ( 0.1%) items with no features.\n",
      "../models_temp/Similarity_Hybrid/P3alpha.zip\n",
      "Model found!\n",
      "P3alphaRecommender: Loading model from file '../models_temp/Similarity_Hybrid/P3alpha'\n",
      "P3alphaRecommender: Loading complete\n",
      "../models_temp/Similarity_Hybrid/KNNweigh.zip\n",
      "Model does not exists, creating...\n",
      "Similarity column 18059 (100.0%), 5355.43 column/sec. Elapsed time 3.37 sec\n",
      "ItemKNNCBFRecommender: Saving model in file '../models_temp/Similarity_Hybrid/KNNweigh'\n",
      "ItemKNNCBFRecommender: Saving complete\n"
     ]
    }
   ],
   "source": [
    "recommender1 = P3alphaRecommender(URM_train)\n",
    "recommender2 = ItemKNNCBFRecommender(URM_train, ICM_weighted)\n",
    "\n",
    "model_init(recommender1, 'P3alpha', models_to_combine_best['P3alpha'])\n",
    "model_init(recommender2, 'KNNweigh', models_to_combine_best['icm_weighted'])"
   ]
  },
  {
   "cell_type": "code",
   "execution_count": 34,
   "id": "4b3c2ca0",
   "metadata": {},
   "outputs": [],
   "source": [
    "def rank_models(evaluator, recommenders):\n",
    "    for r in recommenders:\n",
    "        r_d, _ = evaluator.evaluateRecommender(r)\n",
    "        print(r.RECOMMENDER_NAME, r_d.loc[10]['MAP'])"
   ]
  },
  {
   "cell_type": "code",
   "execution_count": 35,
   "id": "b03d5ba5",
   "metadata": {},
   "outputs": [
    {
     "name": "stdout",
     "output_type": "stream",
     "text": [
      "EvaluatorHoldout: Processed 13643 (100.0%) in 23.50 sec. Users per second: 581\n",
      "P3alphaRecommender 0.20400471373772652\n",
      "EvaluatorHoldout: Processed 13643 (100.0%) in 15.49 sec. Users per second: 881\n",
      "ItemKNNCBFRecommender 0.07652628710112308\n"
     ]
    }
   ],
   "source": [
    "rank_models(evaluator_validation, [recommender1, recommender2])"
   ]
  },
  {
   "cell_type": "code",
   "execution_count": 36,
   "id": "177e802e",
   "metadata": {},
   "outputs": [],
   "source": [
    "import matplotlib.pyplot as plt"
   ]
  },
  {
   "cell_type": "code",
   "execution_count": 42,
   "id": "b055f71c",
   "metadata": {},
   "outputs": [],
   "source": [
    "import numpy as np\n",
    "\n",
    "def test_percentage(recommender_1, recommender_2, evaluator, step):\n",
    "    recommender = ItemKNNSimilarityHybridRecommender(URM_train, recommender_1.W_sparse, recommender_2.W_sparse)\n",
    "    results = []\n",
    "    alp_space = np.linspace(0, 1, step, True)\n",
    "    for alp in alp_space:\n",
    "        recommender.fit(1000, alp)\n",
    "        r_d, _ = evaluator.evaluateRecommender(recommender)\n",
    "        print(alp, \":\", r_d.loc[10]['MAP'])\n",
    "        results.append(r_d.loc[10]['MAP'])\n",
    "    \n",
    "    return alp_space, results"
   ]
  },
  {
   "cell_type": "code",
   "execution_count": null,
   "id": "301a9343",
   "metadata": {},
   "outputs": [
    {
     "name": "stdout",
     "output_type": "stream",
     "text": [
      "EvaluatorHoldout: Processed 13643 (100.0%) in 15.70 sec. Users per second: 869\n",
      "0.0 : 0.07652628710112308\n",
      "EvaluatorHoldout: Processed 13643 (100.0%) in 17.45 sec. Users per second: 782\n",
      "0.02040816326530612 : 0.08309300135309698\n",
      "EvaluatorHoldout: Processed 13643 (100.0%) in 16.85 sec. Users per second: 809\n",
      "0.04081632653061224 : 0.0845624478626742\n",
      "EvaluatorHoldout: Processed 13643 (100.0%) in 16.50 sec. Users per second: 827\n",
      "0.061224489795918366 : 0.0862119652033886\n",
      "EvaluatorHoldout: Processed 13643 (100.0%) in 16.22 sec. Users per second: 841\n",
      "0.08163265306122448 : 0.08785041808753509\n",
      "EvaluatorHoldout: Processed 13643 (100.0%) in 15.54 sec. Users per second: 878\n",
      "0.1020408163265306 : 0.08964232777085425\n",
      "EvaluatorHoldout: Processed 13643 (100.0%) in 15.53 sec. Users per second: 879\n",
      "0.12244897959183673 : 0.09150099068188852\n",
      "EvaluatorHoldout: Processed 13643 (100.0%) in 15.55 sec. Users per second: 878\n",
      "0.14285714285714285 : 0.0932996687643754\n",
      "EvaluatorHoldout: Processed 13643 (100.0%) in 16.20 sec. Users per second: 842\n",
      "0.16326530612244897 : 0.09516185985254322\n"
     ]
    }
   ],
   "source": [
    "alp_space, results = test_percentage(recommender1, recommender2, evaluator_validation, 50)"
   ]
  },
  {
   "cell_type": "code",
   "execution_count": null,
   "id": "2221ec4b",
   "metadata": {},
   "outputs": [],
   "source": [
    "import matplotlib.pyplot as plt\n",
    "\n",
    "_ = plt.figure(figsize=(16, 9))\n",
    "plt.plot(x=alp_space, y=results, label='MAP variability')\n",
    "plt.ylabel('MAP')\n",
    "plt.xlabel('User Group')\n",
    "plt.legend()\n",
    "plt.show()\n",
    "\n",
    "plt.savefig('userwise.png')"
   ]
  },
  {
   "cell_type": "code",
   "execution_count": 5,
   "id": "62d2b355",
   "metadata": {},
   "outputs": [],
   "source": [
    "from skopt.space import Real, Integer, Categorical\n",
    "\n",
    "hyperparameters_range_dictionary = {\n",
    "    \"shrink\": Integer(10, 500),\n",
    "    \"topK\": Integer(200, 1000),\n",
    "    \"feature_weighting\": Categorical([\"none\", \"TF-IDF\"]),\n",
    "    \"normalize\": Categorical([True, False]),\n",
    "    \"ICM_weight\": Integer(5, 500),\n",
    "}"
   ]
  },
  {
   "cell_type": "code",
   "execution_count": 6,
   "id": "7a396c9f",
   "metadata": {},
   "outputs": [],
   "source": [
    "from Recommenders.KNN.ItemKNN_CFCBF_Hybrid_Recommender import ItemKNN_CFCBF_Hybrid_Recommender\n",
    "from HyperparameterTuning.SearchBayesianSkopt import SearchBayesianSkopt\n",
    "\n",
    "recommender_class = ItemKNN_CFCBF_Hybrid_Recommender\n",
    "\n",
    "hyperparameterSearch = SearchBayesianSkopt(recommender_class,\n",
    "                                         evaluator_validation=evaluator_validation)"
   ]
  },
  {
   "cell_type": "code",
   "execution_count": 7,
   "id": "a841f179",
   "metadata": {},
   "outputs": [],
   "source": [
    "from HyperparameterTuning.SearchAbstractClass import SearchInputRecommenderArgs\n",
    "  \n",
    "recommender_input_args = SearchInputRecommenderArgs(\n",
    "    CONSTRUCTOR_POSITIONAL_ARGS = [URM_train, ICM_genre_all],     # For a CBF model simply put [URM_train, ICM_train]\n",
    "    CONSTRUCTOR_KEYWORD_ARGS = {},\n",
    "    FIT_POSITIONAL_ARGS = [],\n",
    "    FIT_KEYWORD_ARGS = {}, # Additiona hyperparameters for the fit function\n",
    ")"
   ]
  },
  {
   "cell_type": "code",
   "execution_count": 8,
   "id": "754c8ac6",
   "metadata": {},
   "outputs": [
    {
     "name": "stdout",
     "output_type": "stream",
     "text": [
      "Iteration No: 1 started. Evaluating function at random point.\n",
      "SearchBayesianSkopt: Testing config: {'shrink': 469, 'topK': 541, 'feature_weighting': 'none', 'normalize': True, 'ICM_weight': 415}\n",
      "ItemKNN_CFCBF_HybridRecommender: URM Detected 1 ( 0.0%) items with no interactions.\n",
      "ItemKNN_CFCBF_HybridRecommender: ICM Detected 559 ( 3.1%) items with no features.\n",
      "Similarity column 18059 (100.0%), 1563.06 column/sec. Elapsed time 11.55 sec\n",
      "EvaluatorHoldout: Processed 13644 (100.0%) in 9.54 sec. Users per second: 1431\n",
      "SearchBayesianSkopt: New best config found. Config 0: {'shrink': 469, 'topK': 541, 'feature_weighting': 'none', 'normalize': True, 'ICM_weight': 415} - results: PRECISION: 0.2631926, PRECISION_RECALL_MIN_DEN: 0.2637123, RECALL: 0.0418849, MAP: 0.1467810, MAP_MIN_DEN: 0.1470038, MRR: 0.5196125, NDCG: 0.2792240, F1: 0.0722688, HIT_RATE: 0.8929933, ARHR_ALL_HITS: 0.8595495, NOVELTY: 0.0056179, AVERAGE_POPULARITY: 0.6085622, DIVERSITY_MEAN_INTER_LIST: 0.7524489, DIVERSITY_HERFINDAHL: 0.9752394, COVERAGE_ITEM: 0.0775790, COVERAGE_ITEM_CORRECT: 0.0165568, COVERAGE_USER: 0.9995604, COVERAGE_USER_CORRECT: 0.8926007, DIVERSITY_GINI: 0.0034023, SHANNON_ENTROPY: 6.0247795, RATIO_DIVERSITY_HERFINDAHL: 0.9756160, RATIO_DIVERSITY_GINI: 0.0137242, RATIO_SHANNON_ENTROPY: 0.4862760, RATIO_AVERAGE_POPULARITY: 3.0036264, RATIO_NOVELTY: 0.0264333, \n",
      "\n",
      "SearchBayesianSkopt: Saving model in ../result_experiments/6_Hybrid_ItemKNNItemKNN_CFCBF_HybridRecommender\n",
      "\n",
      "ItemKNN_CFCBF_HybridRecommender: Saving model in file '../result_experiments/6_Hybrid_ItemKNNItemKNN_CFCBF_HybridRecommender_best_model'\n",
      "ItemKNN_CFCBF_HybridRecommender: Saving complete\n",
      "Iteration No: 1 ended. Evaluation done at random point.\n",
      "Time taken: 29.2550\n",
      "Function value obtained: -0.1468\n",
      "Current minimum: -0.1468\n",
      "Iteration No: 2 started. Evaluating function at random point.\n",
      "SearchBayesianSkopt: Testing config: {'shrink': 350, 'topK': 317, 'feature_weighting': 'TF-IDF', 'normalize': False, 'ICM_weight': 231}\n",
      "ItemKNN_CFCBF_HybridRecommender: URM Detected 1 ( 0.0%) items with no interactions.\n",
      "ItemKNN_CFCBF_HybridRecommender: ICM Detected 559 ( 3.1%) items with no features.\n",
      "Similarity column 18059 (100.0%), 1641.66 column/sec. Elapsed time 11.00 sec\n",
      "EvaluatorHoldout: Processed 13644 (100.0%) in 24.00 sec. Users per second: 569\n",
      "SearchBayesianSkopt: New best config found. Config 1: {'shrink': 350, 'topK': 317, 'feature_weighting': 'TF-IDF', 'normalize': False, 'ICM_weight': 231} - results: PRECISION: 0.3006157, PRECISION_RECALL_MIN_DEN: 0.3017968, RECALL: 0.0491966, MAP: 0.1812102, MAP_MIN_DEN: 0.1818231, MRR: 0.5979258, NDCG: 0.3264222, F1: 0.0845554, HIT_RATE: 0.9221636, ARHR_ALL_HITS: 1.0223356, NOVELTY: 0.0051593, AVERAGE_POPULARITY: 0.7426788, DIVERSITY_MEAN_INTER_LIST: 0.6263653, DIVERSITY_HERFINDAHL: 0.9626319, COVERAGE_ITEM: 0.0124038, COVERAGE_ITEM_CORRECT: 0.0045407, COVERAGE_USER: 0.9995604, COVERAGE_USER_CORRECT: 0.9217582, DIVERSITY_GINI: 0.0014121, SHANNON_ENTROPY: 4.9369641, RATIO_DIVERSITY_HERFINDAHL: 0.9630037, RATIO_DIVERSITY_GINI: 0.0056962, RATIO_SHANNON_ENTROPY: 0.3984756, RATIO_AVERAGE_POPULARITY: 3.6655739, RATIO_NOVELTY: 0.0242757, \n",
      "\n",
      "SearchBayesianSkopt: Saving model in ../result_experiments/6_Hybrid_ItemKNNItemKNN_CFCBF_HybridRecommender\n",
      "\n",
      "ItemKNN_CFCBF_HybridRecommender: Saving model in file '../result_experiments/6_Hybrid_ItemKNNItemKNN_CFCBF_HybridRecommender_best_model'\n",
      "ItemKNN_CFCBF_HybridRecommender: Saving complete\n",
      "Iteration No: 2 ended. Evaluation done at random point.\n",
      "Time taken: 39.2298\n",
      "Function value obtained: -0.1812\n",
      "Current minimum: -0.1812\n",
      "Iteration No: 3 started. Evaluating function at random point.\n",
      "SearchBayesianSkopt: Testing config: {'shrink': 407, 'topK': 826, 'feature_weighting': 'TF-IDF', 'normalize': False, 'ICM_weight': 334}\n",
      "ItemKNN_CFCBF_HybridRecommender: URM Detected 1 ( 0.0%) items with no interactions.\n",
      "ItemKNN_CFCBF_HybridRecommender: ICM Detected 559 ( 3.1%) items with no features.\n",
      "Similarity column 18059 (100.0%), 1574.79 column/sec. Elapsed time 11.47 sec\n",
      "EvaluatorHoldout: Processed 13644 (100.0%) in 29.97 sec. Users per second: 455\n",
      "SearchBayesianSkopt: Config 2 is suboptimal. Config: {'shrink': 407, 'topK': 826, 'feature_weighting': 'TF-IDF', 'normalize': False, 'ICM_weight': 334} - results: PRECISION: 0.2984462, PRECISION_RECALL_MIN_DEN: 0.2996055, RECALL: 0.0486271, MAP: 0.1796578, MAP_MIN_DEN: 0.1802864, MRR: 0.5970597, NDCG: 0.3243764, F1: 0.0836283, HIT_RATE: 0.9186456, ARHR_ALL_HITS: 1.0168517, NOVELTY: 0.0051562, AVERAGE_POPULARITY: 0.7445213, DIVERSITY_MEAN_INTER_LIST: 0.6199163, DIVERSITY_HERFINDAHL: 0.9619871, COVERAGE_ITEM: 0.0088045, COVERAGE_ITEM_CORRECT: 0.0035993, COVERAGE_USER: 0.9995604, COVERAGE_USER_CORRECT: 0.9182418, DIVERSITY_GINI: 0.0013758, SHANNON_ENTROPY: 4.8937413, RATIO_DIVERSITY_HERFINDAHL: 0.9623586, RATIO_DIVERSITY_GINI: 0.0055499, RATIO_SHANNON_ENTROPY: 0.3949869, RATIO_AVERAGE_POPULARITY: 3.6746676, RATIO_NOVELTY: 0.0242612, \n",
      "\n",
      "Iteration No: 3 ended. Evaluation done at random point.\n",
      "Time taken: 42.3255\n",
      "Function value obtained: -0.1797\n",
      "Current minimum: -0.1812\n",
      "Iteration No: 4 started. Evaluating function at random point.\n",
      "SearchBayesianSkopt: Testing config: {'shrink': 232, 'topK': 344, 'feature_weighting': 'none', 'normalize': False, 'ICM_weight': 351}\n",
      "ItemKNN_CFCBF_HybridRecommender: URM Detected 1 ( 0.0%) items with no interactions.\n",
      "ItemKNN_CFCBF_HybridRecommender: ICM Detected 559 ( 3.1%) items with no features.\n",
      "Similarity column 18059 (100.0%), 1607.17 column/sec. Elapsed time 11.24 sec\n",
      "EvaluatorHoldout: Processed 13644 (100.0%) in 19.14 sec. Users per second: 713\n",
      "SearchBayesianSkopt: Config 3 is suboptimal. Config: {'shrink': 232, 'topK': 344, 'feature_weighting': 'none', 'normalize': False, 'ICM_weight': 351} - results: PRECISION: 0.0670624, PRECISION_RECALL_MIN_DEN: 0.0671425, RECALL: 0.0099420, MAP: 0.0277661, MAP_MIN_DEN: 0.0277819, MRR: 0.1707177, NDCG: 0.0704006, F1: 0.0173168, HIT_RATE: 0.4228232, ARHR_ALL_HITS: 0.2150238, NOVELTY: 0.0075573, AVERAGE_POPULARITY: 0.0948495, DIVERSITY_MEAN_INTER_LIST: 0.8258758, DIVERSITY_HERFINDAHL: 0.9825815, COVERAGE_ITEM: 0.4133673, COVERAGE_ITEM_CORRECT: 0.1473504, COVERAGE_USER: 0.9995604, COVERAGE_USER_CORRECT: 0.4226374, DIVERSITY_GINI: 0.0475084, SHANNON_ENTROPY: 8.0860173, RATIO_DIVERSITY_HERFINDAHL: 0.9829610, RATIO_DIVERSITY_GINI: 0.1916419, RATIO_SHANNON_ENTROPY: 0.6526440, RATIO_AVERAGE_POPULARITY: 0.4681403, RATIO_NOVELTY: 0.0355587, \n",
      "\n",
      "Iteration No: 4 ended. Evaluation done at random point.\n",
      "Time taken: 30.9389\n",
      "Function value obtained: -0.0278\n",
      "Current minimum: -0.1812\n",
      "Iteration No: 5 started. Evaluating function at random point.\n",
      "SearchBayesianSkopt: Testing config: {'shrink': 158, 'topK': 563, 'feature_weighting': 'none', 'normalize': True, 'ICM_weight': 103}\n",
      "ItemKNN_CFCBF_HybridRecommender: URM Detected 1 ( 0.0%) items with no interactions.\n",
      "ItemKNN_CFCBF_HybridRecommender: ICM Detected 559 ( 3.1%) items with no features.\n",
      "Similarity column 18059 (100.0%), 1563.85 column/sec. Elapsed time 11.55 sec\n",
      "EvaluatorHoldout: Processed 13644 (100.0%) in 9.83 sec. Users per second: 1388\n",
      "SearchBayesianSkopt: Config 4 is suboptimal. Config: {'shrink': 158, 'topK': 563, 'feature_weighting': 'none', 'normalize': True, 'ICM_weight': 103} - results: PRECISION: 0.2401788, PRECISION_RECALL_MIN_DEN: 0.2407042, RECALL: 0.0374571, MAP: 0.1342571, MAP_MIN_DEN: 0.1344449, MRR: 0.5014670, NDCG: 0.2590994, F1: 0.0648073, HIT_RATE: 0.8597186, ARHR_ALL_HITS: 0.8089000, NOVELTY: 0.0057441, AVERAGE_POPULARITY: 0.5682155, DIVERSITY_MEAN_INTER_LIST: 0.7281065, DIVERSITY_HERFINDAHL: 0.9728053, COVERAGE_ITEM: 0.0693283, COVERAGE_ITEM_CORRECT: 0.0199347, COVERAGE_USER: 0.9995604, COVERAGE_USER_CORRECT: 0.8593407, DIVERSITY_GINI: 0.0034248, SHANNON_ENTROPY: 5.9931333, RATIO_DIVERSITY_HERFINDAHL: 0.9731810, RATIO_DIVERSITY_GINI: 0.0138153, RATIO_SHANNON_ENTROPY: 0.4837218, RATIO_AVERAGE_POPULARITY: 2.8044908, RATIO_NOVELTY: 0.0270274, \n",
      "\n",
      "Iteration No: 5 ended. Evaluation done at random point.\n",
      "Time taken: 22.0183\n",
      "Function value obtained: -0.1343\n",
      "Current minimum: -0.1812\n",
      "Iteration No: 6 started. Evaluating function at random point.\n",
      "SearchBayesianSkopt: Testing config: {'shrink': 44, 'topK': 822, 'feature_weighting': 'TF-IDF', 'normalize': False, 'ICM_weight': 235}\n"
     ]
    },
    {
     "name": "stdout",
     "output_type": "stream",
     "text": [
      "ItemKNN_CFCBF_HybridRecommender: URM Detected 1 ( 0.0%) items with no interactions.\n",
      "ItemKNN_CFCBF_HybridRecommender: ICM Detected 559 ( 3.1%) items with no features.\n",
      "Similarity column 18059 (100.0%), 1580.31 column/sec. Elapsed time 11.43 sec\n",
      "EvaluatorHoldout: Processed 13644 (100.0%) in 31.01 sec. Users per second: 440\n",
      "SearchBayesianSkopt: Config 5 is suboptimal. Config: {'shrink': 44, 'topK': 822, 'feature_weighting': 'TF-IDF', 'normalize': False, 'ICM_weight': 235} - results: PRECISION: 0.2981604, PRECISION_RECALL_MIN_DEN: 0.2993209, RECALL: 0.0485494, MAP: 0.1796700, MAP_MIN_DEN: 0.1803032, MRR: 0.5968414, NDCG: 0.3242255, F1: 0.0835022, HIT_RATE: 0.9177661, ARHR_ALL_HITS: 1.0166709, NOVELTY: 0.0051557, AVERAGE_POPULARITY: 0.7448008, DIVERSITY_MEAN_INTER_LIST: 0.6188191, DIVERSITY_HERFINDAHL: 0.9618774, COVERAGE_ITEM: 0.0083615, COVERAGE_ITEM_CORRECT: 0.0033778, COVERAGE_USER: 0.9995604, COVERAGE_USER_CORRECT: 0.9173626, DIVERSITY_GINI: 0.0013715, SHANNON_ENTROPY: 4.8876151, RATIO_DIVERSITY_HERFINDAHL: 0.9622488, RATIO_DIVERSITY_GINI: 0.0055326, RATIO_SHANNON_ENTROPY: 0.3944925, RATIO_AVERAGE_POPULARITY: 3.6760473, RATIO_NOVELTY: 0.0242588, \n",
      "\n",
      "Iteration No: 6 ended. Evaluation done at random point.\n",
      "Time taken: 43.3239\n",
      "Function value obtained: -0.1797\n",
      "Current minimum: -0.1812\n",
      "Iteration No: 7 started. Evaluating function at random point.\n",
      "SearchBayesianSkopt: Testing config: {'shrink': 452, 'topK': 631, 'feature_weighting': 'none', 'normalize': False, 'ICM_weight': 61}\n",
      "ItemKNN_CFCBF_HybridRecommender: URM Detected 1 ( 0.0%) items with no interactions.\n",
      "ItemKNN_CFCBF_HybridRecommender: ICM Detected 559 ( 3.1%) items with no features.\n",
      "Similarity column 18059 (100.0%), 1575.20 column/sec. Elapsed time 11.46 sec\n",
      "EvaluatorHoldout: Processed 13644 (100.0%) in 21.99 sec. Users per second: 620\n",
      "SearchBayesianSkopt: Config 6 is suboptimal. Config: {'shrink': 452, 'topK': 631, 'feature_weighting': 'none', 'normalize': False, 'ICM_weight': 61} - results: PRECISION: 0.1214966, PRECISION_RECALL_MIN_DEN: 0.1221148, RECALL: 0.0198193, MAP: 0.0518647, MAP_MIN_DEN: 0.0520735, MRR: 0.2832333, NDCG: 0.1258130, F1: 0.0340794, HIT_RATE: 0.6597039, ARHR_ALL_HITS: 0.3797274, NOVELTY: 0.0065381, AVERAGE_POPULARITY: 0.3025907, DIVERSITY_MEAN_INTER_LIST: 0.7837983, DIVERSITY_HERFINDAHL: 0.9783741, COVERAGE_ITEM: 0.2461377, COVERAGE_ITEM_CORRECT: 0.0805139, COVERAGE_USER: 0.9995604, COVERAGE_USER_CORRECT: 0.6594139, DIVERSITY_GINI: 0.0141847, SHANNON_ENTROPY: 6.8767712, RATIO_DIVERSITY_HERFINDAHL: 0.9787519, RATIO_DIVERSITY_GINI: 0.0572190, RATIO_SHANNON_ENTROPY: 0.5550426, RATIO_AVERAGE_POPULARITY: 1.4934702, RATIO_NOVELTY: 0.0307631, \n",
      "\n",
      "Iteration No: 7 ended. Evaluation done at random point.\n",
      "Time taken: 34.1576\n",
      "Function value obtained: -0.0519\n",
      "Current minimum: -0.1812\n",
      "Iteration No: 8 started. Evaluating function at random point.\n",
      "SearchBayesianSkopt: Testing config: {'shrink': 62, 'topK': 501, 'feature_weighting': 'TF-IDF', 'normalize': False, 'ICM_weight': 226}\n",
      "ItemKNN_CFCBF_HybridRecommender: URM Detected 1 ( 0.0%) items with no interactions.\n",
      "ItemKNN_CFCBF_HybridRecommender: ICM Detected 559 ( 3.1%) items with no features.\n",
      "Similarity column 18059 (100.0%), 1612.63 column/sec. Elapsed time 11.20 sec\n",
      "EvaluatorHoldout: Processed 13644 (100.0%) in 28.04 sec. Users per second: 487\n",
      "SearchBayesianSkopt: Config 7 is suboptimal. Config: {'shrink': 62, 'topK': 501, 'feature_weighting': 'TF-IDF', 'normalize': False, 'ICM_weight': 226} - results: PRECISION: 0.2988860, PRECISION_RECALL_MIN_DEN: 0.3000330, RECALL: 0.0486974, MAP: 0.1802045, MAP_MIN_DEN: 0.1808213, MRR: 0.5974662, NDCG: 0.3249109, F1: 0.0837495, HIT_RATE: 0.9190120, ARHR_ALL_HITS: 1.0186611, NOVELTY: 0.0051570, AVERAGE_POPULARITY: 0.7440662, DIVERSITY_MEAN_INTER_LIST: 0.6205464, DIVERSITY_HERFINDAHL: 0.9620501, COVERAGE_ITEM: 0.0110748, COVERAGE_ITEM_CORRECT: 0.0038762, COVERAGE_USER: 0.9995604, COVERAGE_USER_CORRECT: 0.9186081, DIVERSITY_GINI: 0.0013849, SHANNON_ENTROPY: 4.9019253, RATIO_DIVERSITY_HERFINDAHL: 0.9624216, RATIO_DIVERSITY_GINI: 0.0055863, RATIO_SHANNON_ENTROPY: 0.3956475, RATIO_AVERAGE_POPULARITY: 3.6724212, RATIO_NOVELTY: 0.0242649, \n",
      "\n",
      "Iteration No: 8 ended. Evaluation done at random point.\n",
      "Time taken: 40.0089\n",
      "Function value obtained: -0.1802\n",
      "Current minimum: -0.1812\n",
      "Iteration No: 9 started. Evaluating function at random point.\n",
      "SearchBayesianSkopt: Testing config: {'shrink': 24, 'topK': 480, 'feature_weighting': 'none', 'normalize': True, 'ICM_weight': 431}\n",
      "ItemKNN_CFCBF_HybridRecommender: URM Detected 1 ( 0.0%) items with no interactions.\n",
      "ItemKNN_CFCBF_HybridRecommender: ICM Detected 559 ( 3.1%) items with no features.\n",
      "Similarity column 18059 (100.0%), 1553.12 column/sec. Elapsed time 11.63 sec\n",
      "EvaluatorHoldout: Processed 13644 (100.0%) in 8.90 sec. Users per second: 1532\n",
      "SearchBayesianSkopt: Config 8 is suboptimal. Config: {'shrink': 24, 'topK': 480, 'feature_weighting': 'none', 'normalize': True, 'ICM_weight': 431} - results: PRECISION: 0.2828716, PRECISION_RECALL_MIN_DEN: 0.2834267, RECALL: 0.0446064, MAP: 0.1568294, MAP_MIN_DEN: 0.1570761, MRR: 0.5260534, NDCG: 0.2943350, F1: 0.0770609, HIT_RATE: 0.9064790, ARHR_ALL_HITS: 0.8920182, NOVELTY: 0.0053884, AVERAGE_POPULARITY: 0.6452725, DIVERSITY_MEAN_INTER_LIST: 0.7252179, DIVERSITY_HERFINDAHL: 0.9725165, COVERAGE_ITEM: 0.0786865, COVERAGE_ITEM_CORRECT: 0.0182734, COVERAGE_USER: 0.9995604, COVERAGE_USER_CORRECT: 0.9060806, DIVERSITY_GINI: 0.0032158, SHANNON_ENTROPY: 5.8318715, RATIO_DIVERSITY_HERFINDAHL: 0.9728921, RATIO_DIVERSITY_GINI: 0.0129719, RATIO_SHANNON_ENTROPY: 0.4707059, RATIO_AVERAGE_POPULARITY: 3.1848142, RATIO_NOVELTY: 0.0253534, \n",
      "\n",
      "Iteration No: 9 ended. Evaluation done at random point.\n",
      "Time taken: 21.1679\n",
      "Function value obtained: -0.1568\n",
      "Current minimum: -0.1812\n",
      "Iteration No: 10 started. Evaluating function at random point.\n",
      "SearchBayesianSkopt: Testing config: {'shrink': 412, 'topK': 886, 'feature_weighting': 'none', 'normalize': False, 'ICM_weight': 92}\n",
      "ItemKNN_CFCBF_HybridRecommender: URM Detected 1 ( 0.0%) items with no interactions.\n",
      "ItemKNN_CFCBF_HybridRecommender: ICM Detected 559 ( 3.1%) items with no features.\n",
      "Similarity column 18059 (100.0%), 1556.73 column/sec. Elapsed time 11.60 sec\n",
      "EvaluatorHoldout: Processed 13644 (100.0%) in 24.33 sec. Users per second: 561\n",
      "SearchBayesianSkopt: Config 9 is suboptimal. Config: {'shrink': 412, 'topK': 886, 'feature_weighting': 'none', 'normalize': False, 'ICM_weight': 92} - results: PRECISION: 0.0508209, PRECISION_RECALL_MIN_DEN: 0.0508788, RECALL: 0.0070598, MAP: 0.0254644, MAP_MIN_DEN: 0.0254857, MRR: 0.1875476, NDCG: 0.0625905, F1: 0.0123975, HIT_RATE: 0.3660950, ARHR_ALL_HITS: 0.2167046, NOVELTY: 0.0072938, AVERAGE_POPULARITY: 0.1313040, DIVERSITY_MEAN_INTER_LIST: 0.7859281, DIVERSITY_HERFINDAHL: 0.9785871, COVERAGE_ITEM: 0.2203887, COVERAGE_ITEM_CORRECT: 0.0682208, COVERAGE_USER: 0.9995604, COVERAGE_USER_CORRECT: 0.3659341, DIVERSITY_GINI: 0.0112086, SHANNON_ENTROPY: 6.7221855, RATIO_DIVERSITY_HERFINDAHL: 0.9789650, RATIO_DIVERSITY_GINI: 0.0452138, RATIO_SHANNON_ENTROPY: 0.5425655, RATIO_AVERAGE_POPULARITY: 0.6480657, RATIO_NOVELTY: 0.0343186, \n",
      "\n",
      "Iteration No: 10 ended. Evaluation done at random point.\n",
      "Time taken: 36.7479\n",
      "Function value obtained: -0.0255\n",
      "Current minimum: -0.1812\n",
      "Iteration No: 11 started. Evaluating function at random point.\n",
      "SearchBayesianSkopt: Testing config: {'shrink': 59, 'topK': 891, 'feature_weighting': 'none', 'normalize': True, 'ICM_weight': 148}\n",
      "ItemKNN_CFCBF_HybridRecommender: URM Detected 1 ( 0.0%) items with no interactions.\n",
      "ItemKNN_CFCBF_HybridRecommender: ICM Detected 559 ( 3.1%) items with no features.\n",
      "Similarity column 18059 (100.0%), 1520.86 column/sec. Elapsed time 11.87 sec\n",
      "EvaluatorHoldout: Processed 13644 (100.0%) in 11.52 sec. Users per second: 1184\n",
      "SearchBayesianSkopt: Config 10 is suboptimal. Config: {'shrink': 59, 'topK': 891, 'feature_weighting': 'none', 'normalize': True, 'ICM_weight': 148} - results: PRECISION: 0.2781882, PRECISION_RECALL_MIN_DEN: 0.2787546, RECALL: 0.0440938, MAP: 0.1521616, MAP_MIN_DEN: 0.1523572, MRR: 0.5158176, NDCG: 0.2884286, F1: 0.0761220, HIT_RATE: 0.9072120, ARHR_ALL_HITS: 0.8715510, NOVELTY: 0.0053779, AVERAGE_POPULARITY: 0.6350572, DIVERSITY_MEAN_INTER_LIST: 0.7511129, DIVERSITY_HERFINDAHL: 0.9751058, COVERAGE_ITEM: 0.0792403, COVERAGE_ITEM_CORRECT: 0.0250291, COVERAGE_USER: 0.9995604, COVERAGE_USER_CORRECT: 0.9068132, DIVERSITY_GINI: 0.0037467, SHANNON_ENTROPY: 6.0736128, RATIO_DIVERSITY_HERFINDAHL: 0.9754824, RATIO_DIVERSITY_GINI: 0.0151137, RATIO_SHANNON_ENTROPY: 0.4902175, RATIO_AVERAGE_POPULARITY: 3.1343955, RATIO_NOVELTY: 0.0253042, \n",
      "\n",
      "Iteration No: 11 ended. Evaluation done at random point.\n",
      "Time taken: 24.1997\n",
      "Function value obtained: -0.1522\n",
      "Current minimum: -0.1812\n",
      "Iteration No: 12 started. Evaluating function at random point.\n",
      "SearchBayesianSkopt: Testing config: {'shrink': 483, 'topK': 305, 'feature_weighting': 'none', 'normalize': True, 'ICM_weight': 248}\n"
     ]
    },
    {
     "name": "stdout",
     "output_type": "stream",
     "text": [
      "ItemKNN_CFCBF_HybridRecommender: URM Detected 1 ( 0.0%) items with no interactions.\n",
      "ItemKNN_CFCBF_HybridRecommender: ICM Detected 559 ( 3.1%) items with no features.\n",
      "Similarity column 18059 (100.0%), 1592.01 column/sec. Elapsed time 11.34 sec\n",
      "EvaluatorHoldout: Processed 13644 (100.0%) in 8.27 sec. Users per second: 1649\n",
      "SearchBayesianSkopt: Config 11 is suboptimal. Config: {'shrink': 483, 'topK': 305, 'feature_weighting': 'none', 'normalize': True, 'ICM_weight': 248} - results: PRECISION: 0.2866168, PRECISION_RECALL_MIN_DEN: 0.2872384, RECALL: 0.0452101, MAP: 0.1599713, MAP_MIN_DEN: 0.1602300, MRR: 0.5355925, NDCG: 0.2991086, F1: 0.0781008, HIT_RATE: 0.9126356, ARHR_ALL_HITS: 0.9089863, NOVELTY: 0.0053091, AVERAGE_POPULARITY: 0.6581790, DIVERSITY_MEAN_INTER_LIST: 0.7204676, DIVERSITY_HERFINDAHL: 0.9720415, COVERAGE_ITEM: 0.0650091, COVERAGE_ITEM_CORRECT: 0.0150617, COVERAGE_USER: 0.9995604, COVERAGE_USER_CORRECT: 0.9122344, DIVERSITY_GINI: 0.0026255, SHANNON_ENTROPY: 5.6822243, RATIO_DIVERSITY_HERFINDAHL: 0.9724169, RATIO_DIVERSITY_GINI: 0.0105907, RATIO_SHANNON_ENTROPY: 0.4586275, RATIO_AVERAGE_POPULARITY: 3.2485154, RATIO_NOVELTY: 0.0249804, \n",
      "\n",
      "Iteration No: 12 ended. Evaluation done at random point.\n",
      "Time taken: 20.1700\n",
      "Function value obtained: -0.1600\n",
      "Current minimum: -0.1812\n",
      "Iteration No: 13 started. Evaluating function at random point.\n",
      "SearchBayesianSkopt: Testing config: {'shrink': 29, 'topK': 630, 'feature_weighting': 'TF-IDF', 'normalize': True, 'ICM_weight': 243}\n",
      "ItemKNN_CFCBF_HybridRecommender: URM Detected 1 ( 0.0%) items with no interactions.\n",
      "ItemKNN_CFCBF_HybridRecommender: ICM Detected 559 ( 3.1%) items with no features.\n",
      "Similarity column 18059 (100.0%), 1549.12 column/sec. Elapsed time 11.66 sec\n",
      "EvaluatorHoldout: Processed 13644 (100.0%) in 12.69 sec. Users per second: 1075\n",
      "SearchBayesianSkopt: New best config found. Config 12: {'shrink': 29, 'topK': 630, 'feature_weighting': 'TF-IDF', 'normalize': True, 'ICM_weight': 243} - results: PRECISION: 0.3357300, PRECISION_RECALL_MIN_DEN: 0.3369490, RECALL: 0.0563294, MAP: 0.2021132, MAP_MIN_DEN: 0.2026485, MRR: 0.6060979, NDCG: 0.3551064, F1: 0.0964725, HIT_RATE: 0.9442246, ARHR_ALL_HITS: 1.0881234, NOVELTY: 0.0053017, AVERAGE_POPULARITY: 0.6797072, DIVERSITY_MEAN_INTER_LIST: 0.7721688, DIVERSITY_HERFINDAHL: 0.9772112, COVERAGE_ITEM: 0.0480647, COVERAGE_ITEM_CORRECT: 0.0215959, COVERAGE_USER: 0.9995604, COVERAGE_USER_CORRECT: 0.9438095, DIVERSITY_GINI: 0.0029867, SHANNON_ENTROPY: 6.0016819, RATIO_DIVERSITY_HERFINDAHL: 0.9775886, RATIO_DIVERSITY_GINI: 0.0120479, RATIO_SHANNON_ENTROPY: 0.4844118, RATIO_AVERAGE_POPULARITY: 3.3547703, RATIO_NOVELTY: 0.0249457, \n",
      "\n",
      "SearchBayesianSkopt: Saving model in ../result_experiments/6_Hybrid_ItemKNNItemKNN_CFCBF_HybridRecommender\n",
      "\n",
      "ItemKNN_CFCBF_HybridRecommender: Saving model in file '../result_experiments/6_Hybrid_ItemKNNItemKNN_CFCBF_HybridRecommender_best_model'\n",
      "ItemKNN_CFCBF_HybridRecommender: Saving complete\n",
      "Iteration No: 13 ended. Evaluation done at random point.\n",
      "Time taken: 31.9191\n",
      "Function value obtained: -0.2021\n",
      "Current minimum: -0.2021\n",
      "Iteration No: 14 started. Evaluating function at random point.\n",
      "SearchBayesianSkopt: Testing config: {'shrink': 15, 'topK': 692, 'feature_weighting': 'none', 'normalize': True, 'ICM_weight': 389}\n",
      "ItemKNN_CFCBF_HybridRecommender: URM Detected 1 ( 0.0%) items with no interactions.\n",
      "ItemKNN_CFCBF_HybridRecommender: ICM Detected 559 ( 3.1%) items with no features.\n",
      "Similarity column 18059 (100.0%), 1555.52 column/sec. Elapsed time 11.61 sec\n",
      "EvaluatorHoldout: Processed 13644 (100.0%) in 10.11 sec. Users per second: 1349\n",
      "SearchBayesianSkopt: Config 13 is suboptimal. Config: {'shrink': 15, 'topK': 692, 'feature_weighting': 'none', 'normalize': True, 'ICM_weight': 389} - results: PRECISION: 0.2797713, PRECISION_RECALL_MIN_DEN: 0.2803297, RECALL: 0.0440945, MAP: 0.1542807, MAP_MIN_DEN: 0.1544955, MRR: 0.5201652, NDCG: 0.2910533, F1: 0.0761820, HIT_RATE: 0.9031076, ARHR_ALL_HITS: 0.8815841, NOVELTY: 0.0054257, AVERAGE_POPULARITY: 0.6173329, DIVERSITY_MEAN_INTER_LIST: 0.7714680, DIVERSITY_HERFINDAHL: 0.9771411, COVERAGE_ITEM: 0.0856637, COVERAGE_ITEM_CORRECT: 0.0225926, COVERAGE_USER: 0.9995604, COVERAGE_USER_CORRECT: 0.9027106, DIVERSITY_GINI: 0.0042864, SHANNON_ENTROPY: 6.2528880, RATIO_DIVERSITY_HERFINDAHL: 0.9775185, RATIO_DIVERSITY_GINI: 0.0172908, RATIO_SHANNON_ENTROPY: 0.5046873, RATIO_AVERAGE_POPULARITY: 3.0469149, RATIO_NOVELTY: 0.0255290, \n",
      "\n",
      "Iteration No: 14 ended. Evaluation done at random point.\n",
      "Time taken: 22.4224\n",
      "Function value obtained: -0.1543\n",
      "Current minimum: -0.2021\n",
      "Iteration No: 15 started. Evaluating function at random point.\n",
      "SearchBayesianSkopt: Testing config: {'shrink': 307, 'topK': 614, 'feature_weighting': 'none', 'normalize': True, 'ICM_weight': 171}\n",
      "ItemKNN_CFCBF_HybridRecommender: URM Detected 1 ( 0.0%) items with no interactions.\n",
      "ItemKNN_CFCBF_HybridRecommender: ICM Detected 559 ( 3.1%) items with no features.\n",
      "Similarity column 18059 (100.0%), 1562.12 column/sec. Elapsed time 11.56 sec\n",
      "EvaluatorHoldout: Processed 13644 (100.0%) in 9.93 sec. Users per second: 1374\n",
      "SearchBayesianSkopt: Config 14 is suboptimal. Config: {'shrink': 307, 'topK': 614, 'feature_weighting': 'none', 'normalize': True, 'ICM_weight': 171} - results: PRECISION: 0.2218264, PRECISION_RECALL_MIN_DEN: 0.2223013, RECALL: 0.0345347, MAP: 0.1265122, MAP_MIN_DEN: 0.1266886, MRR: 0.5048350, NDCG: 0.2469297, F1: 0.0597649, HIT_RATE: 0.8459396, ARHR_ALL_HITS: 0.7896238, NOVELTY: 0.0059642, AVERAGE_POPULARITY: 0.5111991, DIVERSITY_MEAN_INTER_LIST: 0.7613559, DIVERSITY_HERFINDAHL: 0.9761300, COVERAGE_ITEM: 0.0718755, COVERAGE_ITEM_CORRECT: 0.0198793, COVERAGE_USER: 0.9995604, COVERAGE_USER_CORRECT: 0.8455678, DIVERSITY_GINI: 0.0041103, SHANNON_ENTROPY: 6.2966737, RATIO_DIVERSITY_HERFINDAHL: 0.9765070, RATIO_DIVERSITY_GINI: 0.0165803, RATIO_SHANNON_ENTROPY: 0.5082213, RATIO_AVERAGE_POPULARITY: 2.5230801, RATIO_NOVELTY: 0.0280628, \n",
      "\n",
      "Iteration No: 15 ended. Evaluation done at random point.\n",
      "Time taken: 22.1430\n",
      "Function value obtained: -0.1265\n",
      "Current minimum: -0.2021\n",
      "Iteration No: 16 started. Evaluating function at random point.\n",
      "SearchBayesianSkopt: Testing config: {'shrink': 421, 'topK': 813, 'feature_weighting': 'none', 'normalize': False, 'ICM_weight': 405}\n",
      "ItemKNN_CFCBF_HybridRecommender: URM Detected 1 ( 0.0%) items with no interactions.\n",
      "ItemKNN_CFCBF_HybridRecommender: ICM Detected 559 ( 3.1%) items with no features.\n",
      "Similarity column 18059 (100.0%), 1574.98 column/sec. Elapsed time 11.47 sec\n",
      "EvaluatorHoldout: Processed 13644 (100.0%) in 23.35 sec. Users per second: 584\n",
      "SearchBayesianSkopt: Config 15 is suboptimal. Config: {'shrink': 421, 'topK': 813, 'feature_weighting': 'none', 'normalize': False, 'ICM_weight': 405} - results: PRECISION: 0.0442172, PRECISION_RECALL_MIN_DEN: 0.0442482, RECALL: 0.0058777, MAP: 0.0193956, MAP_MIN_DEN: 0.0194061, MRR: 0.1403989, NDCG: 0.0501551, F1: 0.0103761, HIT_RATE: 0.3204339, ARHR_ALL_HITS: 0.1632172, NOVELTY: 0.0074862, AVERAGE_POPULARITY: 0.1029577, DIVERSITY_MEAN_INTER_LIST: 0.8075951, DIVERSITY_HERFINDAHL: 0.9807536, COVERAGE_ITEM: 0.2448087, COVERAGE_ITEM_CORRECT: 0.0721524, COVERAGE_USER: 0.9995604, COVERAGE_USER_CORRECT: 0.3202930, DIVERSITY_GINI: 0.0134780, SHANNON_ENTROPY: 6.8822746, RATIO_DIVERSITY_HERFINDAHL: 0.9811324, RATIO_DIVERSITY_GINI: 0.0543681, RATIO_SHANNON_ENTROPY: 0.5554868, RATIO_AVERAGE_POPULARITY: 0.5081590, RATIO_NOVELTY: 0.0352239, \n",
      "\n",
      "Iteration No: 16 ended. Evaluation done at random point.\n",
      "Time taken: 35.5935\n",
      "Function value obtained: -0.0194\n",
      "Current minimum: -0.2021\n",
      "Iteration No: 17 started. Evaluating function at random point.\n",
      "SearchBayesianSkopt: Testing config: {'shrink': 464, 'topK': 275, 'feature_weighting': 'TF-IDF', 'normalize': False, 'ICM_weight': 47}\n",
      "ItemKNN_CFCBF_HybridRecommender: URM Detected 1 ( 0.0%) items with no interactions.\n",
      "ItemKNN_CFCBF_HybridRecommender: ICM Detected 559 ( 3.1%) items with no features.\n",
      "Similarity column 18059 (100.0%), 1647.80 column/sec. Elapsed time 10.96 sec\n",
      "EvaluatorHoldout: Processed 13644 (100.0%) in 27.18 sec. Users per second: 502\n",
      "SearchBayesianSkopt: Config 16 is suboptimal. Config: {'shrink': 464, 'topK': 275, 'feature_weighting': 'TF-IDF', 'normalize': False, 'ICM_weight': 47} - results: PRECISION: 0.3003371, PRECISION_RECALL_MIN_DEN: 0.3016052, RECALL: 0.0492461, MAP: 0.1810493, MAP_MIN_DEN: 0.1816814, MRR: 0.5982380, NDCG: 0.3262389, F1: 0.0846175, HIT_RATE: 0.9201847, ARHR_ALL_HITS: 1.0220229, NOVELTY: 0.0051585, AVERAGE_POPULARITY: 0.7431953, DIVERSITY_MEAN_INTER_LIST: 0.6238832, DIVERSITY_HERFINDAHL: 0.9623838, COVERAGE_ITEM: 0.0115732, COVERAGE_ITEM_CORRECT: 0.0043192, COVERAGE_USER: 0.9995604, COVERAGE_USER_CORRECT: 0.9197802, DIVERSITY_GINI: 0.0014019, SHANNON_ENTROPY: 4.9234978, RATIO_DIVERSITY_HERFINDAHL: 0.9627554, RATIO_DIVERSITY_GINI: 0.0056549, RATIO_SHANNON_ENTROPY: 0.3973886, RATIO_AVERAGE_POPULARITY: 3.6681229, RATIO_NOVELTY: 0.0242720, \n",
      "\n",
      "Iteration No: 17 ended. Evaluation done at random point.\n",
      "Time taken: 38.8127\n",
      "Function value obtained: -0.1810\n",
      "Current minimum: -0.2021\n",
      "Iteration No: 18 started. Evaluating function at random point.\n",
      "SearchBayesianSkopt: Testing config: {'shrink': 316, 'topK': 771, 'feature_weighting': 'none', 'normalize': False, 'ICM_weight': 29}\n"
     ]
    },
    {
     "name": "stdout",
     "output_type": "stream",
     "text": [
      "ItemKNN_CFCBF_HybridRecommender: URM Detected 1 ( 0.0%) items with no interactions.\n",
      "ItemKNN_CFCBF_HybridRecommender: ICM Detected 559 ( 3.1%) items with no features.\n",
      "Similarity column 18059 (100.0%), 1572.87 column/sec. Elapsed time 11.48 sec\n",
      "EvaluatorHoldout: Processed 13644 (100.0%) in 23.55 sec. Users per second: 579\n",
      "SearchBayesianSkopt: Config 17 is suboptimal. Config: {'shrink': 316, 'topK': 771, 'feature_weighting': 'none', 'normalize': False, 'ICM_weight': 29} - results: PRECISION: 0.2844767, PRECISION_RECALL_MIN_DEN: 0.2855631, RECALL: 0.0465106, MAP: 0.1638352, MAP_MIN_DEN: 0.1642627, MRR: 0.5549815, NDCG: 0.3038386, F1: 0.0799497, HIT_RATE: 0.9108766, ARHR_ALL_HITS: 0.9393014, NOVELTY: 0.0052176, AVERAGE_POPULARITY: 0.7061255, DIVERSITY_MEAN_INTER_LIST: 0.6846518, DIVERSITY_HERFINDAHL: 0.9684602, COVERAGE_ITEM: 0.0363254, COVERAGE_ITEM_CORRECT: 0.0122930, COVERAGE_USER: 0.9995604, COVERAGE_USER_CORRECT: 0.9104762, DIVERSITY_GINI: 0.0018681, SHANNON_ENTROPY: 5.3453463, RATIO_DIVERSITY_HERFINDAHL: 0.9688342, RATIO_DIVERSITY_GINI: 0.0075355, RATIO_SHANNON_ENTROPY: 0.4314372, RATIO_AVERAGE_POPULARITY: 3.4851607, RATIO_NOVELTY: 0.0245501, \n",
      "\n",
      "Iteration No: 18 ended. Evaluation done at random point.\n",
      "Time taken: 35.7690\n",
      "Function value obtained: -0.1638\n",
      "Current minimum: -0.2021\n",
      "Iteration No: 19 started. Evaluating function at random point.\n",
      "SearchBayesianSkopt: Testing config: {'shrink': 81, 'topK': 247, 'feature_weighting': 'TF-IDF', 'normalize': False, 'ICM_weight': 118}\n",
      "ItemKNN_CFCBF_HybridRecommender: URM Detected 1 ( 0.0%) items with no interactions.\n",
      "ItemKNN_CFCBF_HybridRecommender: ICM Detected 559 ( 3.1%) items with no features.\n",
      "Similarity column 18059 (100.0%), 1651.41 column/sec. Elapsed time 10.94 sec\n",
      "EvaluatorHoldout: Processed 13644 (100.0%) in 23.74 sec. Users per second: 575\n",
      "SearchBayesianSkopt: Config 18 is suboptimal. Config: {'shrink': 81, 'topK': 247, 'feature_weighting': 'TF-IDF', 'normalize': False, 'ICM_weight': 118} - results: PRECISION: 0.3005350, PRECISION_RECALL_MIN_DEN: 0.3017633, RECALL: 0.0492925, MAP: 0.1811467, MAP_MIN_DEN: 0.1817860, MRR: 0.5996757, NDCG: 0.3266020, F1: 0.0846939, HIT_RATE: 0.9217238, ARHR_ALL_HITS: 1.0236419, NOVELTY: 0.0051592, AVERAGE_POPULARITY: 0.7428143, DIVERSITY_MEAN_INTER_LIST: 0.6251514, DIVERSITY_HERFINDAHL: 0.9625106, COVERAGE_ITEM: 0.0120715, COVERAGE_ITEM_CORRECT: 0.0045960, COVERAGE_USER: 0.9995604, COVERAGE_USER_CORRECT: 0.9213187, DIVERSITY_GINI: 0.0014084, SHANNON_ENTROPY: 4.9300288, RATIO_DIVERSITY_HERFINDAHL: 0.9628823, RATIO_DIVERSITY_GINI: 0.0056812, RATIO_SHANNON_ENTROPY: 0.3979158, RATIO_AVERAGE_POPULARITY: 3.6662424, RATIO_NOVELTY: 0.0242751, \n",
      "\n",
      "Iteration No: 19 ended. Evaluation done at random point.\n",
      "Time taken: 35.3400\n",
      "Function value obtained: -0.1811\n",
      "Current minimum: -0.2021\n",
      "Iteration No: 20 started. Evaluating function at random point.\n",
      "SearchBayesianSkopt: Testing config: {'shrink': 289, 'topK': 370, 'feature_weighting': 'none', 'normalize': False, 'ICM_weight': 253}\n",
      "ItemKNN_CFCBF_HybridRecommender: URM Detected 1 ( 0.0%) items with no interactions.\n",
      "ItemKNN_CFCBF_HybridRecommender: ICM Detected 559 ( 3.1%) items with no features.\n",
      "Similarity column 18059 (100.0%), 1601.33 column/sec. Elapsed time 11.28 sec\n",
      "EvaluatorHoldout: Processed 13644 (100.0%) in 19.65 sec. Users per second: 694\n",
      "SearchBayesianSkopt: Config 19 is suboptimal. Config: {'shrink': 289, 'topK': 370, 'feature_weighting': 'none', 'normalize': False, 'ICM_weight': 253} - results: PRECISION: 0.0662489, PRECISION_RECALL_MIN_DEN: 0.0663043, RECALL: 0.0096804, MAP: 0.0279311, MAP_MIN_DEN: 0.0279479, MRR: 0.1728126, NDCG: 0.0702915, F1: 0.0168924, HIT_RATE: 0.4172530, ARHR_ALL_HITS: 0.2168157, NOVELTY: 0.0075483, AVERAGE_POPULARITY: 0.0982092, DIVERSITY_MEAN_INTER_LIST: 0.8206081, DIVERSITY_HERFINDAHL: 0.9820548, COVERAGE_ITEM: 0.4058918, COVERAGE_ITEM_CORRECT: 0.1444155, COVERAGE_USER: 0.9995604, COVERAGE_USER_CORRECT: 0.4170696, DIVERSITY_GINI: 0.0436840, SHANNON_ENTROPY: 7.9265757, RATIO_DIVERSITY_HERFINDAHL: 0.9824341, RATIO_DIVERSITY_GINI: 0.1762146, RATIO_SHANNON_ENTROPY: 0.6397751, RATIO_AVERAGE_POPULARITY: 0.4847224, RATIO_NOVELTY: 0.0355164, \n",
      "\n",
      "Iteration No: 20 ended. Evaluation done at random point.\n",
      "Time taken: 31.4944\n",
      "Function value obtained: -0.0279\n",
      "Current minimum: -0.2021\n",
      "Iteration No: 21 started. Evaluating function at random point.\n",
      "SearchBayesianSkopt: Testing config: {'shrink': 340, 'topK': 415, 'feature_weighting': 'none', 'normalize': False, 'ICM_weight': 363}\n",
      "ItemKNN_CFCBF_HybridRecommender: URM Detected 1 ( 0.0%) items with no interactions.\n",
      "ItemKNN_CFCBF_HybridRecommender: ICM Detected 559 ( 3.1%) items with no features.\n",
      "Similarity column 18059 (100.0%), 1604.89 column/sec. Elapsed time 11.25 sec\n",
      "EvaluatorHoldout: Processed 13644 (100.0%) in 20.16 sec. Users per second: 677\n",
      "SearchBayesianSkopt: Config 20 is suboptimal. Config: {'shrink': 340, 'topK': 415, 'feature_weighting': 'none', 'normalize': False, 'ICM_weight': 363} - results: PRECISION: 0.0622618, PRECISION_RECALL_MIN_DEN: 0.0623527, RECALL: 0.0091452, MAP: 0.0258948, MAP_MIN_DEN: 0.0259128, MRR: 0.1636686, NDCG: 0.0659994, F1: 0.0159480, HIT_RATE: 0.4001759, ARHR_ALL_HITS: 0.2032651, NOVELTY: 0.0075294, AVERAGE_POPULARITY: 0.0988839, DIVERSITY_MEAN_INTER_LIST: 0.8118168, DIVERSITY_HERFINDAHL: 0.9811757, COVERAGE_ITEM: 0.3911623, COVERAGE_ITEM_CORRECT: 0.1338391, COVERAGE_USER: 0.9995604, COVERAGE_USER_CORRECT: 0.4000000, DIVERSITY_GINI: 0.0384045, SHANNON_ENTROPY: 7.7117189, RATIO_DIVERSITY_HERFINDAHL: 0.9815547, RATIO_DIVERSITY_GINI: 0.1549180, RATIO_SHANNON_ENTROPY: 0.6224334, RATIO_AVERAGE_POPULARITY: 0.4880526, RATIO_NOVELTY: 0.0354274, \n",
      "\n",
      "Iteration No: 21 ended. Evaluation done at random point.\n",
      "Time taken: 32.0172\n",
      "Function value obtained: -0.0259\n",
      "Current minimum: -0.2021\n",
      "Iteration No: 22 started. Evaluating function at random point.\n",
      "SearchBayesianSkopt: Testing config: {'shrink': 289, 'topK': 353, 'feature_weighting': 'none', 'normalize': False, 'ICM_weight': 273}\n",
      "ItemKNN_CFCBF_HybridRecommender: URM Detected 1 ( 0.0%) items with no interactions.\n",
      "ItemKNN_CFCBF_HybridRecommender: ICM Detected 559 ( 3.1%) items with no features.\n",
      "Similarity column 18059 (100.0%), 1596.65 column/sec. Elapsed time 11.31 sec\n",
      "EvaluatorHoldout: Processed 13644 (100.0%) in 19.51 sec. Users per second: 699\n",
      "SearchBayesianSkopt: Config 21 is suboptimal. Config: {'shrink': 289, 'topK': 353, 'feature_weighting': 'none', 'normalize': False, 'ICM_weight': 273} - results: PRECISION: 0.0679126, PRECISION_RECALL_MIN_DEN: 0.0679874, RECALL: 0.0100576, MAP: 0.0283488, MAP_MIN_DEN: 0.0283653, MRR: 0.1742898, NDCG: 0.0715656, F1: 0.0175205, HIT_RATE: 0.4262680, ARHR_ALL_HITS: 0.2194620, NOVELTY: 0.0075474, AVERAGE_POPULARITY: 0.0967260, DIVERSITY_MEAN_INTER_LIST: 0.8240628, DIVERSITY_HERFINDAHL: 0.9824002, COVERAGE_ITEM: 0.4102663, COVERAGE_ITEM_CORRECT: 0.1505620, COVERAGE_USER: 0.9995604, COVERAGE_USER_CORRECT: 0.4260806, DIVERSITY_GINI: 0.0459916, SHANNON_ENTROPY: 8.0279343, RATIO_DIVERSITY_HERFINDAHL: 0.9827796, RATIO_DIVERSITY_GINI: 0.1855233, RATIO_SHANNON_ENTROPY: 0.6479560, RATIO_AVERAGE_POPULARITY: 0.4774018, RATIO_NOVELTY: 0.0355120, \n",
      "\n",
      "Iteration No: 22 ended. Evaluation done at random point.\n",
      "Time taken: 31.4060\n",
      "Function value obtained: -0.0283\n",
      "Current minimum: -0.2021\n",
      "Iteration No: 23 started. Evaluating function at random point.\n",
      "SearchBayesianSkopt: Testing config: {'shrink': 358, 'topK': 705, 'feature_weighting': 'none', 'normalize': False, 'ICM_weight': 130}\n",
      "ItemKNN_CFCBF_HybridRecommender: URM Detected 1 ( 0.0%) items with no interactions.\n",
      "ItemKNN_CFCBF_HybridRecommender: ICM Detected 559 ( 3.1%) items with no features.\n",
      "Similarity column 18059 (100.0%), 1568.63 column/sec. Elapsed time 11.51 sec\n",
      "EvaluatorHoldout: Processed 13644 (100.0%) in 22.48 sec. Users per second: 607\n",
      "SearchBayesianSkopt: Config 22 is suboptimal. Config: {'shrink': 358, 'topK': 705, 'feature_weighting': 'none', 'normalize': False, 'ICM_weight': 130} - results: PRECISION: 0.0511947, PRECISION_RECALL_MIN_DEN: 0.0512667, RECALL: 0.0069804, MAP: 0.0250279, MAP_MIN_DEN: 0.0250470, MRR: 0.1808356, NDCG: 0.0617575, F1: 0.0122856, HIT_RATE: 0.3621372, ARHR_ALL_HITS: 0.2108425, NOVELTY: 0.0073830, AVERAGE_POPULARITY: 0.1183849, DIVERSITY_MEAN_INTER_LIST: 0.7942802, DIVERSITY_HERFINDAHL: 0.9794222, COVERAGE_ITEM: 0.2685642, COVERAGE_ITEM_CORRECT: 0.0832826, COVERAGE_USER: 0.9995604, COVERAGE_USER_CORRECT: 0.3619780, DIVERSITY_GINI: 0.0160442, SHANNON_ENTROPY: 6.9190909, RATIO_DIVERSITY_HERFINDAHL: 0.9798004, RATIO_DIVERSITY_GINI: 0.0647200, RATIO_SHANNON_ENTROPY: 0.5584583, RATIO_AVERAGE_POPULARITY: 0.5843021, RATIO_NOVELTY: 0.0347386, \n",
      "\n",
      "Iteration No: 23 ended. Evaluation done at random point.\n",
      "Time taken: 34.7118\n",
      "Function value obtained: -0.0250\n",
      "Current minimum: -0.2021\n",
      "Iteration No: 24 started. Evaluating function at random point.\n",
      "SearchBayesianSkopt: Testing config: {'shrink': 365, 'topK': 451, 'feature_weighting': 'none', 'normalize': False, 'ICM_weight': 38}\n"
     ]
    },
    {
     "name": "stdout",
     "output_type": "stream",
     "text": [
      "ItemKNN_CFCBF_HybridRecommender: URM Detected 1 ( 0.0%) items with no interactions.\n",
      "ItemKNN_CFCBF_HybridRecommender: ICM Detected 559 ( 3.1%) items with no features.\n",
      "Similarity column 18059 (100.0%), 1598.21 column/sec. Elapsed time 11.30 sec\n",
      "EvaluatorHoldout: Processed 13644 (100.0%) in 20.60 sec. Users per second: 662\n",
      "SearchBayesianSkopt: Config 23 is suboptimal. Config: {'shrink': 365, 'topK': 451, 'feature_weighting': 'none', 'normalize': False, 'ICM_weight': 38} - results: PRECISION: 0.2689680, PRECISION_RECALL_MIN_DEN: 0.2698823, RECALL: 0.0436694, MAP: 0.1504033, MAP_MIN_DEN: 0.1507204, MRR: 0.5263737, NDCG: 0.2852494, F1: 0.0751392, HIT_RATE: 0.8984902, ARHR_ALL_HITS: 0.8771089, NOVELTY: 0.0052935, AVERAGE_POPULARITY: 0.6686253, DIVERSITY_MEAN_INTER_LIST: 0.7177375, DIVERSITY_HERFINDAHL: 0.9717685, COVERAGE_ITEM: 0.0814552, COVERAGE_ITEM_CORRECT: 0.0260812, COVERAGE_USER: 0.9995604, COVERAGE_USER_CORRECT: 0.8980952, DIVERSITY_GINI: 0.0029476, SHANNON_ENTROPY: 5.6867053, RATIO_DIVERSITY_HERFINDAHL: 0.9721438, RATIO_DIVERSITY_GINI: 0.0118901, RATIO_SHANNON_ENTROPY: 0.4589892, RATIO_AVERAGE_POPULARITY: 3.3000745, RATIO_NOVELTY: 0.0249071, \n",
      "\n",
      "Iteration No: 24 ended. Evaluation done at random point.\n",
      "Time taken: 32.5147\n",
      "Function value obtained: -0.1504\n",
      "Current minimum: -0.2021\n",
      "Iteration No: 25 started. Evaluating function at random point.\n",
      "SearchBayesianSkopt: Testing config: {'shrink': 94, 'topK': 839, 'feature_weighting': 'none', 'normalize': True, 'ICM_weight': 368}\n",
      "ItemKNN_CFCBF_HybridRecommender: URM Detected 1 ( 0.0%) items with no interactions.\n",
      "ItemKNN_CFCBF_HybridRecommender: ICM Detected 559 ( 3.1%) items with no features.\n",
      "Similarity column 18059 (100.0%), 1542.10 column/sec. Elapsed time 11.71 sec\n",
      "EvaluatorHoldout: Processed 13644 (100.0%) in 10.94 sec. Users per second: 1247\n",
      "SearchBayesianSkopt: Config 24 is suboptimal. Config: {'shrink': 94, 'topK': 839, 'feature_weighting': 'none', 'normalize': True, 'ICM_weight': 368} - results: PRECISION: 0.2796247, PRECISION_RECALL_MIN_DEN: 0.2801922, RECALL: 0.0443816, MAP: 0.1542926, MAP_MIN_DEN: 0.1545223, MRR: 0.5209927, NDCG: 0.2911949, F1: 0.0766047, HIT_RATE: 0.9077250, ARHR_ALL_HITS: 0.8825035, NOVELTY: 0.0053765, AVERAGE_POPULARITY: 0.6339882, DIVERSITY_MEAN_INTER_LIST: 0.7600373, DIVERSITY_HERFINDAHL: 0.9759982, COVERAGE_ITEM: 0.0806246, COVERAGE_ITEM_CORRECT: 0.0238108, COVERAGE_USER: 0.9995604, COVERAGE_USER_CORRECT: 0.9073260, DIVERSITY_GINI: 0.0037616, SHANNON_ENTROPY: 6.0944415, RATIO_DIVERSITY_HERFINDAHL: 0.9763751, RATIO_DIVERSITY_GINI: 0.0151735, RATIO_SHANNON_ENTROPY: 0.4918986, RATIO_AVERAGE_POPULARITY: 3.1291190, RATIO_NOVELTY: 0.0252974, \n",
      "\n",
      "Iteration No: 25 ended. Evaluation done at random point.\n",
      "Time taken: 23.4162\n",
      "Function value obtained: -0.1543\n",
      "Current minimum: -0.2021\n",
      "Iteration No: 26 started. Evaluating function at random point.\n",
      "SearchBayesianSkopt: Testing config: {'shrink': 174, 'topK': 321, 'feature_weighting': 'TF-IDF', 'normalize': True, 'ICM_weight': 67}\n",
      "ItemKNN_CFCBF_HybridRecommender: URM Detected 1 ( 0.0%) items with no interactions.\n",
      "ItemKNN_CFCBF_HybridRecommender: ICM Detected 559 ( 3.1%) items with no features.\n",
      "Similarity column 18059 (100.0%), 1594.54 column/sec. Elapsed time 11.33 sec\n",
      "EvaluatorHoldout: Processed 13644 (100.0%) in 13.81 sec. Users per second: 988\n",
      "SearchBayesianSkopt: New best config found. Config 25: {'shrink': 174, 'topK': 321, 'feature_weighting': 'TF-IDF', 'normalize': True, 'ICM_weight': 67} - results: PRECISION: 0.3454339, PRECISION_RECALL_MIN_DEN: 0.3468732, RECALL: 0.0589243, MAP: 0.2102913, MAP_MIN_DEN: 0.2110319, MRR: 0.6178908, NDCG: 0.3657595, F1: 0.1006753, HIT_RATE: 0.9513339, ARHR_ALL_HITS: 1.1207833, NOVELTY: 0.0053013, AVERAGE_POPULARITY: 0.6669704, DIVERSITY_MEAN_INTER_LIST: 0.7922309, DIVERSITY_HERFINDAHL: 0.9792173, COVERAGE_ITEM: 0.0489507, COVERAGE_ITEM_CORRECT: 0.0241985, COVERAGE_USER: 0.9995604, COVERAGE_USER_CORRECT: 0.9509158, DIVERSITY_GINI: 0.0034566, SHANNON_ENTROPY: 6.2111195, RATIO_DIVERSITY_HERFINDAHL: 0.9795955, RATIO_DIVERSITY_GINI: 0.0139434, RATIO_SHANNON_ENTROPY: 0.5013160, RATIO_AVERAGE_POPULARITY: 3.2919066, RATIO_NOVELTY: 0.0249437, \n",
      "\n",
      "SearchBayesianSkopt: Saving model in ../result_experiments/6_Hybrid_ItemKNNItemKNN_CFCBF_HybridRecommender\n",
      "\n",
      "ItemKNN_CFCBF_HybridRecommender: Saving model in file '../result_experiments/6_Hybrid_ItemKNNItemKNN_CFCBF_HybridRecommender_best_model'\n",
      "ItemKNN_CFCBF_HybridRecommender: Saving complete\n",
      "Iteration No: 26 ended. Evaluation done at random point.\n",
      "Time taken: 29.4766\n",
      "Function value obtained: -0.2103\n",
      "Current minimum: -0.2103\n",
      "Iteration No: 27 started. Evaluating function at random point.\n",
      "SearchBayesianSkopt: Testing config: {'shrink': 132, 'topK': 961, 'feature_weighting': 'none', 'normalize': False, 'ICM_weight': 123}\n",
      "ItemKNN_CFCBF_HybridRecommender: URM Detected 1 ( 0.0%) items with no interactions.\n",
      "ItemKNN_CFCBF_HybridRecommender: ICM Detected 559 ( 3.1%) items with no features.\n",
      "Similarity column 18059 (100.0%), 1542.50 column/sec. Elapsed time 11.71 sec\n",
      "EvaluatorHoldout: Processed 13644 (100.0%) in 24.33 sec. Users per second: 561\n",
      "SearchBayesianSkopt: Config 26 is suboptimal. Config: {'shrink': 132, 'topK': 961, 'feature_weighting': 'none', 'normalize': False, 'ICM_weight': 123} - results: PRECISION: 0.0456245, PRECISION_RECALL_MIN_DEN: 0.0456456, RECALL: 0.0060426, MAP: 0.0226669, MAP_MIN_DEN: 0.0226744, MRR: 0.1704689, NDCG: 0.0562383, F1: 0.0106718, HIT_RATE: 0.3358253, ARHR_ALL_HITS: 0.1950121, NOVELTY: 0.0073998, AVERAGE_POPULARITY: 0.1154372, DIVERSITY_MEAN_INTER_LIST: 0.8004999, DIVERSITY_HERFINDAHL: 0.9800441, COVERAGE_ITEM: 0.2081511, COVERAGE_ITEM_CORRECT: 0.0611883, COVERAGE_USER: 0.9995604, COVERAGE_USER_CORRECT: 0.3356777, DIVERSITY_GINI: 0.0102658, SHANNON_ENTROPY: 6.7306454, RATIO_DIVERSITY_HERFINDAHL: 0.9804226, RATIO_DIVERSITY_GINI: 0.0414107, RATIO_SHANNON_ENTROPY: 0.5432484, RATIO_AVERAGE_POPULARITY: 0.5697529, RATIO_NOVELTY: 0.0348176, \n",
      "\n",
      "Iteration No: 27 ended. Evaluation done at random point.\n",
      "Time taken: 36.8853\n",
      "Function value obtained: -0.0227\n",
      "Current minimum: -0.2103\n",
      "Iteration No: 28 started. Evaluating function at random point.\n",
      "SearchBayesianSkopt: Testing config: {'shrink': 388, 'topK': 901, 'feature_weighting': 'TF-IDF', 'normalize': False, 'ICM_weight': 386}\n",
      "ItemKNN_CFCBF_HybridRecommender: URM Detected 1 ( 0.0%) items with no interactions.\n",
      "ItemKNN_CFCBF_HybridRecommender: ICM Detected 559 ( 3.1%) items with no features.\n",
      "Similarity column 18059 (100.0%), 1564.36 column/sec. Elapsed time 11.54 sec\n",
      "EvaluatorHoldout: Processed 13644 (100.0%) in 30.69 sec. Users per second: 445\n",
      "SearchBayesianSkopt: Config 27 is suboptimal. Config: {'shrink': 388, 'topK': 901, 'feature_weighting': 'TF-IDF', 'normalize': False, 'ICM_weight': 386} - results: PRECISION: 0.2979698, PRECISION_RECALL_MIN_DEN: 0.2991289, RECALL: 0.0485452, MAP: 0.1793431, MAP_MIN_DEN: 0.1799606, MRR: 0.5958226, NDCG: 0.3238429, F1: 0.0834885, HIT_RATE: 0.9183524, ARHR_ALL_HITS: 1.0151107, NOVELTY: 0.0051562, AVERAGE_POPULARITY: 0.7444462, DIVERSITY_MEAN_INTER_LIST: 0.6201306, DIVERSITY_HERFINDAHL: 0.9620085, COVERAGE_ITEM: 0.0086937, COVERAGE_ITEM_CORRECT: 0.0037101, COVERAGE_USER: 0.9995604, COVERAGE_USER_CORRECT: 0.9179487, DIVERSITY_GINI: 0.0013761, SHANNON_ENTROPY: 4.8939342, RATIO_DIVERSITY_HERFINDAHL: 0.9623800, RATIO_DIVERSITY_GINI: 0.0055508, RATIO_SHANNON_ENTROPY: 0.3950025, RATIO_AVERAGE_POPULARITY: 3.6742972, RATIO_NOVELTY: 0.0242612, \n",
      "\n",
      "Iteration No: 28 ended. Evaluation done at random point.\n",
      "Time taken: 43.1651\n",
      "Function value obtained: -0.1793\n",
      "Current minimum: -0.2103\n",
      "Iteration No: 29 started. Evaluating function at random point.\n",
      "SearchBayesianSkopt: Testing config: {'shrink': 45, 'topK': 205, 'feature_weighting': 'TF-IDF', 'normalize': False, 'ICM_weight': 332}\n",
      "ItemKNN_CFCBF_HybridRecommender: URM Detected 1 ( 0.0%) items with no interactions.\n",
      "ItemKNN_CFCBF_HybridRecommender: ICM Detected 559 ( 3.1%) items with no features.\n",
      "Similarity column 18059 (100.0%), 1631.28 column/sec. Elapsed time 11.07 sec\n",
      "EvaluatorHoldout: Processed 13644 (100.0%) in 20.93 sec. Users per second: 652\n",
      "SearchBayesianSkopt: Config 28 is suboptimal. Config: {'shrink': 45, 'topK': 205, 'feature_weighting': 'TF-IDF', 'normalize': False, 'ICM_weight': 332} - results: PRECISION: 0.3029244, PRECISION_RECALL_MIN_DEN: 0.3041509, RECALL: 0.0498262, MAP: 0.1825115, MAP_MIN_DEN: 0.1831477, MRR: 0.5991878, NDCG: 0.3284246, F1: 0.0855764, HIT_RATE: 0.9228965, ARHR_ALL_HITS: 1.0272183, NOVELTY: 0.0051622, AVERAGE_POPULARITY: 0.7408873, DIVERSITY_MEAN_INTER_LIST: 0.6348846, DIVERSITY_HERFINDAHL: 0.9634838, COVERAGE_ITEM: 0.0136774, COVERAGE_ITEM_CORRECT: 0.0053159, COVERAGE_USER: 0.9995604, COVERAGE_USER_CORRECT: 0.9224908, DIVERSITY_GINI: 0.0014486, SHANNON_ENTROPY: 4.9776615, RATIO_DIVERSITY_HERFINDAHL: 0.9638559, RATIO_DIVERSITY_GINI: 0.0058435, RATIO_SHANNON_ENTROPY: 0.4017603, RATIO_AVERAGE_POPULARITY: 3.6567314, RATIO_NOVELTY: 0.0242891, \n",
      "\n",
      "Iteration No: 29 ended. Evaluation done at random point.\n",
      "Time taken: 32.6499\n",
      "Function value obtained: -0.1825\n",
      "Current minimum: -0.2103\n",
      "Iteration No: 30 started. Evaluating function at random point.\n",
      "SearchBayesianSkopt: Testing config: {'shrink': 33, 'topK': 337, 'feature_weighting': 'TF-IDF', 'normalize': True, 'ICM_weight': 232}\n"
     ]
    },
    {
     "name": "stdout",
     "output_type": "stream",
     "text": [
      "ItemKNN_CFCBF_HybridRecommender: URM Detected 1 ( 0.0%) items with no interactions.\n",
      "ItemKNN_CFCBF_HybridRecommender: ICM Detected 559 ( 3.1%) items with no features.\n",
      "Similarity column 18059 (100.0%), 1598.49 column/sec. Elapsed time 11.30 sec\n",
      "EvaluatorHoldout: Processed 13644 (100.0%) in 10.61 sec. Users per second: 1286\n",
      "SearchBayesianSkopt: Config 29 is suboptimal. Config: {'shrink': 33, 'topK': 337, 'feature_weighting': 'TF-IDF', 'normalize': True, 'ICM_weight': 232} - results: PRECISION: 0.3408678, PRECISION_RECALL_MIN_DEN: 0.3421951, RECALL: 0.0576758, MAP: 0.2062198, MAP_MIN_DEN: 0.2067665, MRR: 0.6087684, NDCG: 0.3602017, F1: 0.0986584, HIT_RATE: 0.9478159, ARHR_ALL_HITS: 1.1023239, NOVELTY: 0.0053034, AVERAGE_POPULARITY: 0.6674602, DIVERSITY_MEAN_INTER_LIST: 0.7944209, DIVERSITY_HERFINDAHL: 0.9794363, COVERAGE_ITEM: 0.0529376, COVERAGE_ITEM_CORRECT: 0.0229249, COVERAGE_USER: 0.9995604, COVERAGE_USER_CORRECT: 0.9473993, DIVERSITY_GINI: 0.0034244, SHANNON_ENTROPY: 6.1979108, RATIO_DIVERSITY_HERFINDAHL: 0.9798145, RATIO_DIVERSITY_GINI: 0.0138134, RATIO_SHANNON_ENTROPY: 0.5002499, RATIO_AVERAGE_POPULARITY: 3.2943238, RATIO_NOVELTY: 0.0249536, \n",
      "\n",
      "Iteration No: 30 ended. Evaluation done at random point.\n",
      "Time taken: 22.6091\n",
      "Function value obtained: -0.2062\n",
      "Current minimum: -0.2103\n",
      "Iteration No: 31 started. Evaluating function at random point.\n",
      "SearchBayesianSkopt: Testing config: {'shrink': 398, 'topK': 573, 'feature_weighting': 'TF-IDF', 'normalize': False, 'ICM_weight': 274}\n",
      "ItemKNN_CFCBF_HybridRecommender: URM Detected 1 ( 0.0%) items with no interactions.\n",
      "ItemKNN_CFCBF_HybridRecommender: ICM Detected 559 ( 3.1%) items with no features.\n",
      "Similarity column 18059 (100.0%), 1602.04 column/sec. Elapsed time 11.27 sec\n",
      "EvaluatorHoldout: Processed 13644 (100.0%) in 27.66 sec. Users per second: 493\n",
      "SearchBayesianSkopt: Config 30 is suboptimal. Config: {'shrink': 398, 'topK': 573, 'feature_weighting': 'TF-IDF', 'normalize': False, 'ICM_weight': 274} - results: PRECISION: 0.2989959, PRECISION_RECALL_MIN_DEN: 0.3001418, RECALL: 0.0486845, MAP: 0.1801502, MAP_MIN_DEN: 0.1807549, MRR: 0.5973461, NDCG: 0.3248777, F1: 0.0837347, HIT_RATE: 0.9190120, ARHR_ALL_HITS: 1.0183099, NOVELTY: 0.0051571, AVERAGE_POPULARITY: 0.7440808, DIVERSITY_MEAN_INTER_LIST: 0.6210822, DIVERSITY_HERFINDAHL: 0.9621037, COVERAGE_ITEM: 0.0106318, COVERAGE_ITEM_CORRECT: 0.0037654, COVERAGE_USER: 0.9995604, COVERAGE_USER_CORRECT: 0.9186081, DIVERSITY_GINI: 0.0013848, SHANNON_ENTROPY: 4.9023514, RATIO_DIVERSITY_HERFINDAHL: 0.9624752, RATIO_DIVERSITY_GINI: 0.0055862, RATIO_SHANNON_ENTROPY: 0.3956819, RATIO_AVERAGE_POPULARITY: 3.6724936, RATIO_NOVELTY: 0.0242654, \n",
      "\n",
      "Iteration No: 31 ended. Evaluation done at random point.\n",
      "Time taken: 39.7341\n",
      "Function value obtained: -0.1802\n",
      "Current minimum: -0.2103\n",
      "Iteration No: 32 started. Evaluating function at random point.\n",
      "SearchBayesianSkopt: Testing config: {'shrink': 325, 'topK': 433, 'feature_weighting': 'none', 'normalize': False, 'ICM_weight': 387}\n",
      "ItemKNN_CFCBF_HybridRecommender: URM Detected 1 ( 0.0%) items with no interactions.\n",
      "ItemKNN_CFCBF_HybridRecommender: ICM Detected 559 ( 3.1%) items with no features.\n",
      "Similarity column 18059 (100.0%), 1576.03 column/sec. Elapsed time 11.46 sec\n",
      "EvaluatorHoldout: Processed 13644 (100.0%) in 20.15 sec. Users per second: 677\n",
      "SearchBayesianSkopt: Config 31 is suboptimal. Config: {'shrink': 325, 'topK': 433, 'feature_weighting': 'none', 'normalize': False, 'ICM_weight': 387} - results: PRECISION: 0.0605541, PRECISION_RECALL_MIN_DEN: 0.0606238, RECALL: 0.0087875, MAP: 0.0251669, MAP_MIN_DEN: 0.0251819, MRR: 0.1609591, NDCG: 0.0643440, F1: 0.0153478, HIT_RATE: 0.3928467, ARHR_ALL_HITS: 0.1985540, NOVELTY: 0.0075206, AVERAGE_POPULARITY: 0.0998381, DIVERSITY_MEAN_INTER_LIST: 0.8098237, DIVERSITY_HERFINDAHL: 0.9809764, COVERAGE_ITEM: 0.3863448, COVERAGE_ITEM_CORRECT: 0.1314580, COVERAGE_USER: 0.9995604, COVERAGE_USER_CORRECT: 0.3926740, DIVERSITY_GINI: 0.0368264, SHANNON_ENTROPY: 7.6426882, RATIO_DIVERSITY_HERFINDAHL: 0.9813553, RATIO_DIVERSITY_GINI: 0.1485522, RATIO_SHANNON_ENTROPY: 0.6168618, RATIO_AVERAGE_POPULARITY: 0.4927619, RATIO_NOVELTY: 0.0353861, \n",
      "\n",
      "Iteration No: 32 ended. Evaluation done at random point.\n",
      "Time taken: 32.2111\n",
      "Function value obtained: -0.0252\n",
      "Current minimum: -0.2103\n",
      "Iteration No: 33 started. Evaluating function at random point.\n",
      "SearchBayesianSkopt: Testing config: {'shrink': 465, 'topK': 277, 'feature_weighting': 'none', 'normalize': True, 'ICM_weight': 347}\n",
      "ItemKNN_CFCBF_HybridRecommender: URM Detected 1 ( 0.0%) items with no interactions.\n",
      "ItemKNN_CFCBF_HybridRecommender: ICM Detected 559 ( 3.1%) items with no features.\n",
      "Similarity column 18059 (100.0%), 1596.60 column/sec. Elapsed time 11.31 sec\n",
      "EvaluatorHoldout: Processed 13644 (100.0%) in 8.07 sec. Users per second: 1691\n",
      "SearchBayesianSkopt: Config 32 is suboptimal. Config: {'shrink': 465, 'topK': 277, 'feature_weighting': 'none', 'normalize': True, 'ICM_weight': 347} - results: PRECISION: 0.2904280, PRECISION_RECALL_MIN_DEN: 0.2910161, RECALL: 0.0458368, MAP: 0.1623849, MAP_MIN_DEN: 0.1626247, MRR: 0.5374973, NDCG: 0.3025030, F1: 0.0791774, HIT_RATE: 0.9149077, ARHR_ALL_HITS: 0.9178207, NOVELTY: 0.0053112, AVERAGE_POPULARITY: 0.6595338, DIVERSITY_MEAN_INTER_LIST: 0.7208636, DIVERSITY_HERFINDAHL: 0.9720811, COVERAGE_ITEM: 0.0676117, COVERAGE_ITEM_CORRECT: 0.0147295, COVERAGE_USER: 0.9995604, COVERAGE_USER_CORRECT: 0.9145055, DIVERSITY_GINI: 0.0026733, SHANNON_ENTROPY: 5.6835226, RATIO_DIVERSITY_HERFINDAHL: 0.9724565, RATIO_DIVERSITY_GINI: 0.0107835, RATIO_SHANNON_ENTROPY: 0.4587323, RATIO_AVERAGE_POPULARITY: 3.2552021, RATIO_NOVELTY: 0.0249904, \n",
      "\n",
      "Iteration No: 33 ended. Evaluation done at random point.\n",
      "Time taken: 19.9148\n",
      "Function value obtained: -0.1624\n",
      "Current minimum: -0.2103\n",
      "Iteration No: 34 started. Evaluating function at random point.\n",
      "SearchBayesianSkopt: Testing config: {'shrink': 231, 'topK': 625, 'feature_weighting': 'none', 'normalize': False, 'ICM_weight': 166}\n",
      "ItemKNN_CFCBF_HybridRecommender: URM Detected 1 ( 0.0%) items with no interactions.\n",
      "ItemKNN_CFCBF_HybridRecommender: ICM Detected 559 ( 3.1%) items with no features.\n",
      "Similarity column 18059 (100.0%), 1566.73 column/sec. Elapsed time 11.53 sec\n",
      "EvaluatorHoldout: Processed 13644 (100.0%) in 21.77 sec. Users per second: 627\n",
      "SearchBayesianSkopt: Config 33 is suboptimal. Config: {'shrink': 231, 'topK': 625, 'feature_weighting': 'none', 'normalize': False, 'ICM_weight': 166} - results: PRECISION: 0.0525579, PRECISION_RECALL_MIN_DEN: 0.0526234, RECALL: 0.0072551, MAP: 0.0243897, MAP_MIN_DEN: 0.0244078, MRR: 0.1730461, NDCG: 0.0611950, F1: 0.0127502, HIT_RATE: 0.3669012, ARHR_ALL_HITS: 0.2035616, NOVELTY: 0.0074260, AVERAGE_POPULARITY: 0.1122188, DIVERSITY_MEAN_INTER_LIST: 0.7972295, DIVERSITY_HERFINDAHL: 0.9797171, COVERAGE_ITEM: 0.3058863, COVERAGE_ITEM_CORRECT: 0.0963508, COVERAGE_USER: 0.9995604, COVERAGE_USER_CORRECT: 0.3667399, DIVERSITY_GINI: 0.0205981, SHANNON_ENTROPY: 7.0623032, RATIO_DIVERSITY_HERFINDAHL: 0.9800955, RATIO_DIVERSITY_GINI: 0.0830898, RATIO_SHANNON_ENTROPY: 0.5700173, RATIO_AVERAGE_POPULARITY: 0.5538685, RATIO_NOVELTY: 0.0349407, \n",
      "\n",
      "Iteration No: 34 ended. Evaluation done at random point.\n",
      "Time taken: 33.9659\n",
      "Function value obtained: -0.0244\n",
      "Current minimum: -0.2103\n",
      "Iteration No: 35 started. Evaluating function at random point.\n",
      "SearchBayesianSkopt: Testing config: {'shrink': 459, 'topK': 836, 'feature_weighting': 'none', 'normalize': False, 'ICM_weight': 81}\n",
      "ItemKNN_CFCBF_HybridRecommender: URM Detected 1 ( 0.0%) items with no interactions.\n",
      "ItemKNN_CFCBF_HybridRecommender: ICM Detected 559 ( 3.1%) items with no features.\n",
      "Similarity column 18059 (100.0%), 1567.00 column/sec. Elapsed time 11.52 sec\n",
      "EvaluatorHoldout: Processed 13644 (100.0%) in 23.54 sec. Users per second: 580\n",
      "SearchBayesianSkopt: Config 34 is suboptimal. Config: {'shrink': 459, 'topK': 836, 'feature_weighting': 'none', 'normalize': False, 'ICM_weight': 81} - results: PRECISION: 0.0558341, PRECISION_RECALL_MIN_DEN: 0.0560413, RECALL: 0.0082453, MAP: 0.0275823, MAP_MIN_DEN: 0.0276333, MRR: 0.1987563, NDCG: 0.0677954, F1: 0.0143687, HIT_RATE: 0.3924069, ARHR_ALL_HITS: 0.2322385, NOVELTY: 0.0071916, AVERAGE_POPULARITY: 0.1472373, DIVERSITY_MEAN_INTER_LIST: 0.7783649, DIVERSITY_HERFINDAHL: 0.9778308, COVERAGE_ITEM: 0.2242649, COVERAGE_ITEM_CORRECT: 0.0703250, COVERAGE_USER: 0.9995604, COVERAGE_USER_CORRECT: 0.3922344, DIVERSITY_GINI: 0.0117325, SHANNON_ENTROPY: 6.7398756, RATIO_DIVERSITY_HERFINDAHL: 0.9782084, RATIO_DIVERSITY_GINI: 0.0473270, RATIO_SHANNON_ENTROPY: 0.5439933, RATIO_AVERAGE_POPULARITY: 0.7267061, RATIO_NOVELTY: 0.0338377, \n",
      "\n",
      "Iteration No: 35 ended. Evaluation done at random point.\n",
      "Time taken: 35.8277\n",
      "Function value obtained: -0.0276\n",
      "Current minimum: -0.2103\n",
      "Iteration No: 36 started. Evaluating function at random point.\n",
      "SearchBayesianSkopt: Testing config: {'shrink': 263, 'topK': 368, 'feature_weighting': 'none', 'normalize': False, 'ICM_weight': 443}\n"
     ]
    },
    {
     "name": "stdout",
     "output_type": "stream",
     "text": [
      "ItemKNN_CFCBF_HybridRecommender: URM Detected 1 ( 0.0%) items with no interactions.\n",
      "ItemKNN_CFCBF_HybridRecommender: ICM Detected 559 ( 3.1%) items with no features.\n",
      "Similarity column 18059 (100.0%), 1594.78 column/sec. Elapsed time 11.32 sec\n",
      "EvaluatorHoldout: Processed 13644 (100.0%) in 19.39 sec. Users per second: 704\n",
      "SearchBayesianSkopt: Config 35 is suboptimal. Config: {'shrink': 263, 'topK': 368, 'feature_weighting': 'none', 'normalize': False, 'ICM_weight': 443} - results: PRECISION: 0.0653987, PRECISION_RECALL_MIN_DEN: 0.0654598, RECALL: 0.0096011, MAP: 0.0270700, MAP_MIN_DEN: 0.0270874, MRR: 0.1661915, NDCG: 0.0685743, F1: 0.0167441, HIT_RATE: 0.4128555, ARHR_ALL_HITS: 0.2092078, NOVELTY: 0.0075602, AVERAGE_POPULARITY: 0.0959082, DIVERSITY_MEAN_INTER_LIST: 0.8223623, DIVERSITY_HERFINDAHL: 0.9822302, COVERAGE_ITEM: 0.4073315, COVERAGE_ITEM_CORRECT: 0.1445263, COVERAGE_USER: 0.9995604, COVERAGE_USER_CORRECT: 0.4126740, DIVERSITY_GINI: 0.0441308, SHANNON_ENTROPY: 7.9517374, RATIO_DIVERSITY_HERFINDAHL: 0.9826095, RATIO_DIVERSITY_GINI: 0.1780169, RATIO_SHANNON_ENTROPY: 0.6418059, RATIO_AVERAGE_POPULARITY: 0.4733656, RATIO_NOVELTY: 0.0355722, \n",
      "\n",
      "Iteration No: 36 ended. Evaluation done at random point.\n",
      "Time taken: 31.2833\n",
      "Function value obtained: -0.0271\n",
      "Current minimum: -0.2103\n",
      "Iteration No: 37 started. Evaluating function at random point.\n",
      "SearchBayesianSkopt: Testing config: {'shrink': 352, 'topK': 944, 'feature_weighting': 'none', 'normalize': True, 'ICM_weight': 149}\n",
      "ItemKNN_CFCBF_HybridRecommender: URM Detected 1 ( 0.0%) items with no interactions.\n",
      "ItemKNN_CFCBF_HybridRecommender: ICM Detected 559 ( 3.1%) items with no features.\n",
      "Similarity column 18059 (100.0%), 1520.29 column/sec. Elapsed time 11.88 sec\n",
      "EvaluatorHoldout: Processed 13644 (100.0%) in 11.94 sec. Users per second: 1143\n",
      "SearchBayesianSkopt: Config 36 is suboptimal. Config: {'shrink': 352, 'topK': 944, 'feature_weighting': 'none', 'normalize': True, 'ICM_weight': 149} - results: PRECISION: 0.2743770, PRECISION_RECALL_MIN_DEN: 0.2749287, RECALL: 0.0433381, MAP: 0.1500205, MAP_MIN_DEN: 0.1502144, MRR: 0.5134654, NDCG: 0.2851120, F1: 0.0748531, HIT_RATE: 0.9031076, ARHR_ALL_HITS: 0.8633157, NOVELTY: 0.0053792, AVERAGE_POPULARITY: 0.6326719, DIVERSITY_MEAN_INTER_LIST: 0.7483600, DIVERSITY_HERFINDAHL: 0.9748305, COVERAGE_ITEM: 0.0786865, COVERAGE_ITEM_CORRECT: 0.0246968, COVERAGE_USER: 0.9995604, COVERAGE_USER_CORRECT: 0.9027106, DIVERSITY_GINI: 0.0037387, SHANNON_ENTROPY: 6.0729276, RATIO_DIVERSITY_HERFINDAHL: 0.9752070, RATIO_DIVERSITY_GINI: 0.0150815, RATIO_SHANNON_ENTROPY: 0.4901622, RATIO_AVERAGE_POPULARITY: 3.1226223, RATIO_NOVELTY: 0.0253101, \n",
      "\n",
      "Iteration No: 37 ended. Evaluation done at random point.\n",
      "Time taken: 24.6488\n",
      "Function value obtained: -0.1500\n",
      "Current minimum: -0.2103\n",
      "Iteration No: 38 started. Evaluating function at random point.\n",
      "SearchBayesianSkopt: Testing config: {'shrink': 432, 'topK': 316, 'feature_weighting': 'TF-IDF', 'normalize': False, 'ICM_weight': 312}\n",
      "ItemKNN_CFCBF_HybridRecommender: URM Detected 1 ( 0.0%) items with no interactions.\n",
      "ItemKNN_CFCBF_HybridRecommender: ICM Detected 559 ( 3.1%) items with no features.\n",
      "Similarity column 18059 (100.0%), 1633.74 column/sec. Elapsed time 11.05 sec\n",
      "EvaluatorHoldout: Processed 13644 (100.0%) in 23.32 sec. Users per second: 585\n",
      "SearchBayesianSkopt: Config 37 is suboptimal. Config: {'shrink': 432, 'topK': 316, 'feature_weighting': 'TF-IDF', 'normalize': False, 'ICM_weight': 312} - results: PRECISION: 0.3007109, PRECISION_RECALL_MIN_DEN: 0.3019071, RECALL: 0.0492388, MAP: 0.1810957, MAP_MIN_DEN: 0.1817093, MRR: 0.5979730, NDCG: 0.3264202, F1: 0.0846215, HIT_RATE: 0.9223102, ARHR_ALL_HITS: 1.0220863, NOVELTY: 0.0051599, AVERAGE_POPULARITY: 0.7423712, DIVERSITY_MEAN_INTER_LIST: 0.6272229, DIVERSITY_HERFINDAHL: 0.9627177, COVERAGE_ITEM: 0.0130129, COVERAGE_ITEM_CORRECT: 0.0048175, COVERAGE_USER: 0.9995604, COVERAGE_USER_CORRECT: 0.9219048, DIVERSITY_GINI: 0.0014171, SHANNON_ENTROPY: 4.9417912, RATIO_DIVERSITY_HERFINDAHL: 0.9630895, RATIO_DIVERSITY_GINI: 0.0057165, RATIO_SHANNON_ENTROPY: 0.3988652, RATIO_AVERAGE_POPULARITY: 3.6640555, RATIO_NOVELTY: 0.0242785, \n",
      "\n",
      "Iteration No: 38 ended. Evaluation done at random point.\n",
      "Time taken: 35.0592\n",
      "Function value obtained: -0.1811\n",
      "Current minimum: -0.2103\n",
      "Iteration No: 39 started. Evaluating function at random point.\n",
      "SearchBayesianSkopt: Testing config: {'shrink': 445, 'topK': 351, 'feature_weighting': 'none', 'normalize': True, 'ICM_weight': 63}\n",
      "ItemKNN_CFCBF_HybridRecommender: URM Detected 1 ( 0.0%) items with no interactions.\n",
      "ItemKNN_CFCBF_HybridRecommender: ICM Detected 559 ( 3.1%) items with no features.\n",
      "Similarity column 18059 (100.0%), 1586.83 column/sec. Elapsed time 11.38 sec\n",
      "EvaluatorHoldout: Processed 13644 (100.0%) in 8.72 sec. Users per second: 1565\n",
      "SearchBayesianSkopt: Config 38 is suboptimal. Config: {'shrink': 445, 'topK': 351, 'feature_weighting': 'none', 'normalize': True, 'ICM_weight': 63} - results: PRECISION: 0.2557461, PRECISION_RECALL_MIN_DEN: 0.2564087, RECALL: 0.0402066, MAP: 0.1422001, MAP_MIN_DEN: 0.1424933, MRR: 0.5093700, NDCG: 0.2724478, F1: 0.0694886, HIT_RATE: 0.8854442, ARHR_ALL_HITS: 0.8401632, NOVELTY: 0.0053702, AVERAGE_POPULARITY: 0.6050743, DIVERSITY_MEAN_INTER_LIST: 0.7416791, DIVERSITY_HERFINDAHL: 0.9741625, COVERAGE_ITEM: 0.0536575, COVERAGE_ITEM_CORRECT: 0.0163907, COVERAGE_USER: 0.9995604, COVERAGE_USER_CORRECT: 0.8850549, DIVERSITY_GINI: 0.0027247, SHANNON_ENTROPY: 5.8166789, RATIO_DIVERSITY_HERFINDAHL: 0.9745387, RATIO_DIVERSITY_GINI: 0.0109911, RATIO_SHANNON_ENTROPY: 0.4694797, RATIO_AVERAGE_POPULARITY: 2.9864115, RATIO_NOVELTY: 0.0252677, \n",
      "\n",
      "Iteration No: 39 ended. Evaluation done at random point.\n",
      "Time taken: 20.6608\n",
      "Function value obtained: -0.1422\n",
      "Current minimum: -0.2103\n",
      "Iteration No: 40 started. Evaluating function at random point.\n",
      "SearchBayesianSkopt: Testing config: {'shrink': 321, 'topK': 482, 'feature_weighting': 'none', 'normalize': False, 'ICM_weight': 262}\n",
      "ItemKNN_CFCBF_HybridRecommender: URM Detected 1 ( 0.0%) items with no interactions.\n",
      "ItemKNN_CFCBF_HybridRecommender: ICM Detected 559 ( 3.1%) items with no features.\n",
      "Similarity column 18059 (100.0%), 1598.35 column/sec. Elapsed time 11.30 sec\n",
      "EvaluatorHoldout: Processed 13644 (100.0%) in 20.51 sec. Users per second: 665\n",
      "SearchBayesianSkopt: Config 39 is suboptimal. Config: {'shrink': 321, 'topK': 482, 'feature_weighting': 'none', 'normalize': False, 'ICM_weight': 262} - results: PRECISION: 0.0578569, PRECISION_RECALL_MIN_DEN: 0.0579333, RECALL: 0.0083066, MAP: 0.0247116, MAP_MIN_DEN: 0.0247282, MRR: 0.1627774, NDCG: 0.0629679, F1: 0.0145274, HIT_RATE: 0.3830988, ARHR_ALL_HITS: 0.1983689, NOVELTY: 0.0074949, AVERAGE_POPULARITY: 0.1036336, DIVERSITY_MEAN_INTER_LIST: 0.8035564, DIVERSITY_HERFINDAHL: 0.9803497, COVERAGE_ITEM: 0.3669638, COVERAGE_ITEM_CORRECT: 0.1221552, COVERAGE_USER: 0.9995604, COVERAGE_USER_CORRECT: 0.3829304, DIVERSITY_GINI: 0.0317444, SHANNON_ENTROPY: 7.4380040, RATIO_DIVERSITY_HERFINDAHL: 0.9807284, RATIO_DIVERSITY_GINI: 0.1280522, RATIO_SHANNON_ENTROPY: 0.6003412, RATIO_AVERAGE_POPULARITY: 0.5114951, RATIO_NOVELTY: 0.0352648, \n",
      "\n",
      "Iteration No: 40 ended. Evaluation done at random point.\n",
      "Time taken: 32.4468\n",
      "Function value obtained: -0.0247\n",
      "Current minimum: -0.2103\n",
      "Iteration No: 41 started. Evaluating function at random point.\n",
      "SearchBayesianSkopt: Testing config: {'shrink': 229, 'topK': 329, 'feature_weighting': 'none', 'normalize': False, 'ICM_weight': 228}\n",
      "ItemKNN_CFCBF_HybridRecommender: URM Detected 1 ( 0.0%) items with no interactions.\n",
      "ItemKNN_CFCBF_HybridRecommender: ICM Detected 559 ( 3.1%) items with no features.\n",
      "Similarity column 18059 (100.0%), 1612.77 column/sec. Elapsed time 11.20 sec\n",
      "EvaluatorHoldout: Processed 13644 (100.0%) in 19.03 sec. Users per second: 717\n",
      "SearchBayesianSkopt: Config 40 is suboptimal. Config: {'shrink': 229, 'topK': 329, 'feature_weighting': 'none', 'normalize': False, 'ICM_weight': 228} - results: PRECISION: 0.0696203, PRECISION_RECALL_MIN_DEN: 0.0696914, RECALL: 0.0103062, MAP: 0.0293856, MAP_MIN_DEN: 0.0294017, MRR: 0.1800960, NDCG: 0.0737356, F1: 0.0179546, HIT_RATE: 0.4330841, ARHR_ALL_HITS: 0.2271398, NOVELTY: 0.0075348, AVERAGE_POPULARITY: 0.0975768, DIVERSITY_MEAN_INTER_LIST: 0.8266797, DIVERSITY_HERFINDAHL: 0.9826619, COVERAGE_ITEM: 0.4202337, COVERAGE_ITEM_CORRECT: 0.1514480, COVERAGE_USER: 0.9995604, COVERAGE_USER_CORRECT: 0.4328938, DIVERSITY_GINI: 0.0499537, SHANNON_ENTROPY: 8.1624188, RATIO_DIVERSITY_HERFINDAHL: 0.9830414, RATIO_DIVERSITY_GINI: 0.2015058, RATIO_SHANNON_ENTROPY: 0.6588106, RATIO_AVERAGE_POPULARITY: 0.4816011, RATIO_NOVELTY: 0.0354526, \n",
      "\n",
      "Iteration No: 41 ended. Evaluation done at random point.\n",
      "Time taken: 30.7842\n",
      "Function value obtained: -0.0294\n",
      "Current minimum: -0.2103\n",
      "Iteration No: 42 started. Evaluating function at random point.\n",
      "SearchBayesianSkopt: Testing config: {'shrink': 253, 'topK': 254, 'feature_weighting': 'TF-IDF', 'normalize': True, 'ICM_weight': 248}\n"
     ]
    },
    {
     "name": "stdout",
     "output_type": "stream",
     "text": [
      "ItemKNN_CFCBF_HybridRecommender: URM Detected 1 ( 0.0%) items with no interactions.\n",
      "ItemKNN_CFCBF_HybridRecommender: ICM Detected 559 ( 3.1%) items with no features.\n",
      "Similarity column 18059 (100.0%), 1608.17 column/sec. Elapsed time 11.23 sec\n",
      "EvaluatorHoldout: Processed 13644 (100.0%) in 10.08 sec. Users per second: 1354\n",
      "SearchBayesianSkopt: Config 41 is suboptimal. Config: {'shrink': 253, 'topK': 254, 'feature_weighting': 'TF-IDF', 'normalize': True, 'ICM_weight': 248} - results: PRECISION: 0.3438874, PRECISION_RECALL_MIN_DEN: 0.3452795, RECALL: 0.0585054, MAP: 0.2072484, MAP_MIN_DEN: 0.2078504, MRR: 0.6107035, NDCG: 0.3624237, F1: 0.0999982, HIT_RATE: 0.9526532, ARHR_ALL_HITS: 1.1066888, NOVELTY: 0.0053086, AVERAGE_POPULARITY: 0.6616194, DIVERSITY_MEAN_INTER_LIST: 0.8058412, DIVERSITY_HERFINDAHL: 0.9805782, COVERAGE_ITEM: 0.0543773, COVERAGE_ITEM_CORRECT: 0.0258597, COVERAGE_USER: 0.9995604, COVERAGE_USER_CORRECT: 0.9522344, DIVERSITY_GINI: 0.0036952, SHANNON_ENTROPY: 6.3108527, RATIO_DIVERSITY_HERFINDAHL: 0.9809569, RATIO_DIVERSITY_GINI: 0.0149060, RATIO_SHANNON_ENTROPY: 0.5093658, RATIO_AVERAGE_POPULARITY: 3.2654959, RATIO_NOVELTY: 0.0249778, \n",
      "\n",
      "Iteration No: 42 ended. Evaluation done at random point.\n",
      "Time taken: 21.9739\n",
      "Function value obtained: -0.2072\n",
      "Current minimum: -0.2103\n",
      "Iteration No: 43 started. Evaluating function at random point.\n",
      "SearchBayesianSkopt: Testing config: {'shrink': 136, 'topK': 487, 'feature_weighting': 'none', 'normalize': True, 'ICM_weight': 493}\n",
      "ItemKNN_CFCBF_HybridRecommender: URM Detected 1 ( 0.0%) items with no interactions.\n",
      "ItemKNN_CFCBF_HybridRecommender: ICM Detected 559 ( 3.1%) items with no features.\n",
      "Similarity column 18059 (100.0%), 1579.06 column/sec. Elapsed time 11.44 sec\n",
      "EvaluatorHoldout: Processed 13644 (100.0%) in 8.98 sec. Users per second: 1519\n",
      "SearchBayesianSkopt: Config 42 is suboptimal. Config: {'shrink': 136, 'topK': 487, 'feature_weighting': 'none', 'normalize': True, 'ICM_weight': 493} - results: PRECISION: 0.2828130, PRECISION_RECALL_MIN_DEN: 0.2833779, RECALL: 0.0446402, MAP: 0.1567162, MAP_MIN_DEN: 0.1569631, MRR: 0.5263093, NDCG: 0.2942469, F1: 0.0771092, HIT_RATE: 0.9072120, ARHR_ALL_HITS: 0.8917060, NOVELTY: 0.0053775, AVERAGE_POPULARITY: 0.6453545, DIVERSITY_MEAN_INTER_LIST: 0.7260472, DIVERSITY_HERFINDAHL: 0.9725994, COVERAGE_ITEM: 0.0779667, COVERAGE_ITEM_CORRECT: 0.0183842, COVERAGE_USER: 0.9995604, COVERAGE_USER_CORRECT: 0.9068132, DIVERSITY_GINI: 0.0032362, SHANNON_ENTROPY: 5.8464978, RATIO_DIVERSITY_HERFINDAHL: 0.9729750, RATIO_DIVERSITY_GINI: 0.0130545, RATIO_SHANNON_ENTROPY: 0.4718864, RATIO_AVERAGE_POPULARITY: 3.1852187, RATIO_NOVELTY: 0.0253022, \n",
      "\n",
      "Iteration No: 43 ended. Evaluation done at random point.\n",
      "Time taken: 21.0367\n",
      "Function value obtained: -0.1567\n",
      "Current minimum: -0.2103\n",
      "Iteration No: 44 started. Evaluating function at random point.\n",
      "SearchBayesianSkopt: Testing config: {'shrink': 371, 'topK': 333, 'feature_weighting': 'none', 'normalize': False, 'ICM_weight': 185}\n",
      "ItemKNN_CFCBF_HybridRecommender: URM Detected 1 ( 0.0%) items with no interactions.\n",
      "ItemKNN_CFCBF_HybridRecommender: ICM Detected 559 ( 3.1%) items with no features.\n",
      "Similarity column 18059 (100.0%), 1605.46 column/sec. Elapsed time 11.25 sec\n",
      "EvaluatorHoldout: Processed 13644 (100.0%) in 19.04 sec. Users per second: 716\n",
      "SearchBayesianSkopt: Config 43 is suboptimal. Config: {'shrink': 371, 'topK': 333, 'feature_weighting': 'none', 'normalize': False, 'ICM_weight': 185} - results: PRECISION: 0.0710276, PRECISION_RECALL_MIN_DEN: 0.0711053, RECALL: 0.0105203, MAP: 0.0305437, MAP_MIN_DEN: 0.0305601, MRR: 0.1878011, NDCG: 0.0760152, F1: 0.0183263, HIT_RATE: 0.4403401, ARHR_ALL_HITS: 0.2363893, NOVELTY: 0.0075096, AVERAGE_POPULARITY: 0.1023442, DIVERSITY_MEAN_INTER_LIST: 0.8242870, DIVERSITY_HERFINDAHL: 0.9824227, COVERAGE_ITEM: 0.4170220, COVERAGE_ITEM_CORRECT: 0.1511158, COVERAGE_USER: 0.9995604, COVERAGE_USER_CORRECT: 0.4401465, DIVERSITY_GINI: 0.0488684, SHANNON_ENTROPY: 8.1177228, RATIO_DIVERSITY_HERFINDAHL: 0.9828021, RATIO_DIVERSITY_GINI: 0.1971278, RATIO_SHANNON_ENTROPY: 0.6552031, RATIO_AVERAGE_POPULARITY: 0.5051312, RATIO_NOVELTY: 0.0353344, \n",
      "\n",
      "Iteration No: 44 ended. Evaluation done at random point.\n",
      "Time taken: 30.8559\n",
      "Function value obtained: -0.0305\n",
      "Current minimum: -0.2103\n",
      "Iteration No: 45 started. Evaluating function at random point.\n",
      "SearchBayesianSkopt: Testing config: {'shrink': 129, 'topK': 339, 'feature_weighting': 'TF-IDF', 'normalize': True, 'ICM_weight': 376}\n",
      "ItemKNN_CFCBF_HybridRecommender: URM Detected 1 ( 0.0%) items with no interactions.\n",
      "ItemKNN_CFCBF_HybridRecommender: ICM Detected 559 ( 3.1%) items with no features.\n",
      "Similarity column 18059 (100.0%), 1589.48 column/sec. Elapsed time 11.36 sec\n",
      "EvaluatorHoldout: Processed 13644 (100.0%) in 9.86 sec. Users per second: 1384\n",
      "SearchBayesianSkopt: Config 44 is suboptimal. Config: {'shrink': 129, 'topK': 339, 'feature_weighting': 'TF-IDF', 'normalize': True, 'ICM_weight': 376} - results: PRECISION: 0.3373058, PRECISION_RECALL_MIN_DEN: 0.3386358, RECALL: 0.0568617, MAP: 0.2026097, MAP_MIN_DEN: 0.2031102, MRR: 0.6032681, NDCG: 0.3556747, F1: 0.0973179, HIT_RATE: 0.9464233, ARHR_ALL_HITS: 1.0870428, NOVELTY: 0.0053029, AVERAGE_POPULARITY: 0.6663598, DIVERSITY_MEAN_INTER_LIST: 0.7976544, DIVERSITY_HERFINDAHL: 0.9797596, COVERAGE_ITEM: 0.0531591, COVERAGE_ITEM_CORRECT: 0.0223711, COVERAGE_USER: 0.9995604, COVERAGE_USER_CORRECT: 0.9460073, DIVERSITY_GINI: 0.0034232, SHANNON_ENTROPY: 6.2032160, RATIO_DIVERSITY_HERFINDAHL: 0.9801380, RATIO_DIVERSITY_GINI: 0.0138085, RATIO_SHANNON_ENTROPY: 0.5006781, RATIO_AVERAGE_POPULARITY: 3.2888926, RATIO_NOVELTY: 0.0249514, \n",
      "\n",
      "Iteration No: 45 ended. Evaluation done at random point.\n",
      "Time taken: 21.9297\n",
      "Function value obtained: -0.2026\n",
      "Current minimum: -0.2103\n",
      "Iteration No: 46 started. Evaluating function at random point.\n",
      "SearchBayesianSkopt: Testing config: {'shrink': 40, 'topK': 223, 'feature_weighting': 'none', 'normalize': False, 'ICM_weight': 174}\n",
      "ItemKNN_CFCBF_HybridRecommender: URM Detected 1 ( 0.0%) items with no interactions.\n",
      "ItemKNN_CFCBF_HybridRecommender: ICM Detected 559 ( 3.1%) items with no features.\n",
      "Similarity column 18059 (100.0%), 1613.63 column/sec. Elapsed time 11.19 sec\n",
      "EvaluatorHoldout: Processed 13644 (100.0%) in 17.52 sec. Users per second: 779\n",
      "SearchBayesianSkopt: Config 45 is suboptimal. Config: {'shrink': 40, 'topK': 223, 'feature_weighting': 'none', 'normalize': False, 'ICM_weight': 174} - results: PRECISION: 0.0881926, PRECISION_RECALL_MIN_DEN: 0.0882914, RECALL: 0.0126902, MAP: 0.0371794, MAP_MIN_DEN: 0.0372070, MRR: 0.2132981, NDCG: 0.0916120, F1: 0.0221877, HIT_RATE: 0.5082820, ARHR_ALL_HITS: 0.2781975, NOVELTY: 0.0074944, AVERAGE_POPULARITY: 0.1062523, DIVERSITY_MEAN_INTER_LIST: 0.8787878, DIVERSITY_HERFINDAHL: 0.9878723, COVERAGE_ITEM: 0.4381749, COVERAGE_ITEM_CORRECT: 0.1660668, COVERAGE_USER: 0.9995604, COVERAGE_USER_CORRECT: 0.5080586, DIVERSITY_GINI: 0.0681305, SHANNON_ENTROPY: 9.0835285, RATIO_DIVERSITY_HERFINDAHL: 0.9882539, RATIO_DIVERSITY_GINI: 0.2748282, RATIO_SHANNON_ENTROPY: 0.7331558, RATIO_AVERAGE_POPULARITY: 0.5244200, RATIO_NOVELTY: 0.0352629, \n",
      "\n",
      "Iteration No: 46 ended. Evaluation done at random point.\n",
      "Time taken: 29.2575\n",
      "Function value obtained: -0.0372\n",
      "Current minimum: -0.2103\n",
      "Iteration No: 47 started. Evaluating function at random point.\n",
      "SearchBayesianSkopt: Testing config: {'shrink': 122, 'topK': 859, 'feature_weighting': 'TF-IDF', 'normalize': True, 'ICM_weight': 399}\n",
      "ItemKNN_CFCBF_HybridRecommender: URM Detected 1 ( 0.0%) items with no interactions.\n",
      "ItemKNN_CFCBF_HybridRecommender: ICM Detected 559 ( 3.1%) items with no features.\n",
      "Similarity column 18059 (100.0%), 1534.63 column/sec. Elapsed time 11.77 sec\n",
      "EvaluatorHoldout: Processed 13644 (100.0%) in 13.05 sec. Users per second: 1045\n",
      "SearchBayesianSkopt: Config 46 is suboptimal. Config: {'shrink': 122, 'topK': 859, 'feature_weighting': 'TF-IDF', 'normalize': True, 'ICM_weight': 399} - results: PRECISION: 0.3229112, PRECISION_RECALL_MIN_DEN: 0.3241472, RECALL: 0.0540024, MAP: 0.1912134, MAP_MIN_DEN: 0.1916946, MRR: 0.5853099, NDCG: 0.3404783, F1: 0.0925304, HIT_RATE: 0.9344767, ARHR_ALL_HITS: 1.0407795, NOVELTY: 0.0053258, AVERAGE_POPULARITY: 0.6718824, DIVERSITY_MEAN_INTER_LIST: 0.7777258, DIVERSITY_HERFINDAHL: 0.9777669, COVERAGE_ITEM: 0.0570353, COVERAGE_ITEM_CORRECT: 0.0201562, COVERAGE_USER: 0.9995604, COVERAGE_USER_CORRECT: 0.9340659, DIVERSITY_GINI: 0.0031892, SHANNON_ENTROPY: 6.0432107, RATIO_DIVERSITY_HERFINDAHL: 0.9781445, RATIO_DIVERSITY_GINI: 0.0128646, RATIO_SHANNON_ENTROPY: 0.4877637, RATIO_AVERAGE_POPULARITY: 3.3161504, RATIO_NOVELTY: 0.0250590, \n",
      "\n",
      "Iteration No: 47 ended. Evaluation done at random point.\n",
      "Time taken: 25.7280\n",
      "Function value obtained: -0.1912\n",
      "Current minimum: -0.2103\n",
      "Iteration No: 48 started. Evaluating function at random point.\n",
      "SearchBayesianSkopt: Testing config: {'shrink': 407, 'topK': 728, 'feature_weighting': 'TF-IDF', 'normalize': True, 'ICM_weight': 161}\n"
     ]
    },
    {
     "name": "stdout",
     "output_type": "stream",
     "text": [
      "ItemKNN_CFCBF_HybridRecommender: URM Detected 1 ( 0.0%) items with no interactions.\n",
      "ItemKNN_CFCBF_HybridRecommender: ICM Detected 559 ( 3.1%) items with no features.\n",
      "Similarity column 18059 (100.0%), 1550.58 column/sec. Elapsed time 11.65 sec\n",
      "EvaluatorHoldout: Processed 13644 (100.0%) in 15.57 sec. Users per second: 876\n",
      "SearchBayesianSkopt: Config 47 is suboptimal. Config: {'shrink': 407, 'topK': 728, 'feature_weighting': 'TF-IDF', 'normalize': True, 'ICM_weight': 161} - results: PRECISION: 0.3375476, PRECISION_RECALL_MIN_DEN: 0.3388625, RECALL: 0.0569367, MAP: 0.2042134, MAP_MIN_DEN: 0.2047610, MRR: 0.6122882, NDCG: 0.3580251, F1: 0.0974378, HIT_RATE: 0.9479625, ARHR_ALL_HITS: 1.0995185, NOVELTY: 0.0052790, AVERAGE_POPULARITY: 0.6854187, DIVERSITY_MEAN_INTER_LIST: 0.7646427, DIVERSITY_HERFINDAHL: 0.9764587, COVERAGE_ITEM: 0.0458497, COVERAGE_ITEM_CORRECT: 0.0212636, COVERAGE_USER: 0.9995604, COVERAGE_USER_CORRECT: 0.9475458, DIVERSITY_GINI: 0.0028740, SHANNON_ENTROPY: 5.9478982, RATIO_DIVERSITY_HERFINDAHL: 0.9768358, RATIO_DIVERSITY_GINI: 0.0115931, RATIO_SHANNON_ENTROPY: 0.4800707, RATIO_AVERAGE_POPULARITY: 3.3829602, RATIO_NOVELTY: 0.0248389, \n",
      "\n",
      "Iteration No: 48 ended. Evaluation done at random point.\n",
      "Time taken: 28.0856\n",
      "Function value obtained: -0.2042\n",
      "Current minimum: -0.2103\n",
      "Iteration No: 49 started. Evaluating function at random point.\n",
      "SearchBayesianSkopt: Testing config: {'shrink': 194, 'topK': 418, 'feature_weighting': 'TF-IDF', 'normalize': True, 'ICM_weight': 29}\n",
      "ItemKNN_CFCBF_HybridRecommender: URM Detected 1 ( 0.0%) items with no interactions.\n",
      "ItemKNN_CFCBF_HybridRecommender: ICM Detected 559 ( 3.1%) items with no features.\n",
      "Similarity column 18059 (100.0%), 1589.77 column/sec. Elapsed time 11.36 sec\n",
      "EvaluatorHoldout: Processed 13644 (100.0%) in 16.85 sec. Users per second: 810\n",
      "SearchBayesianSkopt: New best config found. Config 48: {'shrink': 194, 'topK': 418, 'feature_weighting': 'TF-IDF', 'normalize': True, 'ICM_weight': 29} - results: PRECISION: 0.3448182, PRECISION_RECALL_MIN_DEN: 0.3463887, RECALL: 0.0587924, MAP: 0.2106469, MAP_MIN_DEN: 0.2113923, MRR: 0.6218763, NDCG: 0.3662292, F1: 0.1004567, HIT_RATE: 0.9519203, ARHR_ALL_HITS: 1.1251949, NOVELTY: 0.0052855, AVERAGE_POPULARITY: 0.6743562, DIVERSITY_MEAN_INTER_LIST: 0.7820413, DIVERSITY_HERFINDAHL: 0.9781984, COVERAGE_ITEM: 0.0439116, COVERAGE_ITEM_CORRECT: 0.0243646, COVERAGE_USER: 0.9995604, COVERAGE_USER_CORRECT: 0.9515018, DIVERSITY_GINI: 0.0032017, SHANNON_ENTROPY: 6.1155289, RATIO_DIVERSITY_HERFINDAHL: 0.9785762, RATIO_DIVERSITY_GINI: 0.0129152, RATIO_SHANNON_ENTROPY: 0.4936007, RATIO_AVERAGE_POPULARITY: 3.3283601, RATIO_NOVELTY: 0.0248692, \n",
      "\n",
      "SearchBayesianSkopt: Saving model in ../result_experiments/6_Hybrid_ItemKNNItemKNN_CFCBF_HybridRecommender\n",
      "\n",
      "ItemKNN_CFCBF_HybridRecommender: Saving model in file '../result_experiments/6_Hybrid_ItemKNNItemKNN_CFCBF_HybridRecommender_best_model'\n",
      "ItemKNN_CFCBF_HybridRecommender: Saving complete\n",
      "Iteration No: 49 ended. Evaluation done at random point.\n",
      "Time taken: 33.7047\n",
      "Function value obtained: -0.2106\n",
      "Current minimum: -0.2106\n",
      "Iteration No: 50 started. Evaluating function at random point.\n",
      "SearchBayesianSkopt: Testing config: {'shrink': 23, 'topK': 708, 'feature_weighting': 'TF-IDF', 'normalize': False, 'ICM_weight': 308}\n",
      "ItemKNN_CFCBF_HybridRecommender: URM Detected 1 ( 0.0%) items with no interactions.\n",
      "ItemKNN_CFCBF_HybridRecommender: ICM Detected 559 ( 3.1%) items with no features.\n",
      "Similarity column 18059 (100.0%), 1591.46 column/sec. Elapsed time 11.35 sec\n",
      "EvaluatorHoldout: Processed 13644 (100.0%) in 28.92 sec. Users per second: 472\n",
      "SearchBayesianSkopt: Config 49 is suboptimal. Config: {'shrink': 23, 'topK': 708, 'feature_weighting': 'TF-IDF', 'normalize': False, 'ICM_weight': 308} - results: PRECISION: 0.2982043, PRECISION_RECALL_MIN_DEN: 0.2993506, RECALL: 0.0485837, MAP: 0.1795473, MAP_MIN_DEN: 0.1801595, MRR: 0.5962800, NDCG: 0.3241121, F1: 0.0835546, HIT_RATE: 0.9187921, ARHR_ALL_HITS: 1.0160007, NOVELTY: 0.0051564, AVERAGE_POPULARITY: 0.7444360, DIVERSITY_MEAN_INTER_LIST: 0.6200578, DIVERSITY_HERFINDAHL: 0.9620012, COVERAGE_ITEM: 0.0092475, COVERAGE_ITEM_CORRECT: 0.0034886, COVERAGE_USER: 0.9995604, COVERAGE_USER_CORRECT: 0.9183883, DIVERSITY_GINI: 0.0013772, SHANNON_ENTROPY: 4.8951744, RATIO_DIVERSITY_HERFINDAHL: 0.9623728, RATIO_DIVERSITY_GINI: 0.0055556, RATIO_SHANNON_ENTROPY: 0.3951026, RATIO_AVERAGE_POPULARITY: 3.6742467, RATIO_NOVELTY: 0.0242618, \n",
      "\n",
      "Iteration No: 50 ended. Evaluation done at random point.\n",
      "Time taken: 41.1294\n",
      "Function value obtained: -0.1795\n",
      "Current minimum: -0.2106\n",
      "Iteration No: 51 started. Evaluating function at random point.\n",
      "SearchBayesianSkopt: Testing config: {'shrink': 283, 'topK': 702, 'feature_weighting': 'none', 'normalize': True, 'ICM_weight': 21}\n",
      "ItemKNN_CFCBF_HybridRecommender: URM Detected 1 ( 0.0%) items with no interactions.\n",
      "ItemKNN_CFCBF_HybridRecommender: ICM Detected 559 ( 3.1%) items with no features.\n",
      "Similarity column 18059 (100.0%), 1541.18 column/sec. Elapsed time 11.72 sec\n",
      "EvaluatorHoldout: Processed 13644 (100.0%) in 11.37 sec. Users per second: 1200\n",
      "SearchBayesianSkopt: Config 50 is suboptimal. Config: {'shrink': 283, 'topK': 702, 'feature_weighting': 'none', 'normalize': True, 'ICM_weight': 21} - results: PRECISION: 0.2980724, PRECISION_RECALL_MIN_DEN: 0.2990244, RECALL: 0.0490618, MAP: 0.1725703, MAP_MIN_DEN: 0.1729314, MRR: 0.5590905, NDCG: 0.3154165, F1: 0.0842554, HIT_RATE: 0.9187921, ARHR_ALL_HITS: 0.9677685, NOVELTY: 0.0053531, AVERAGE_POPULARITY: 0.6489198, DIVERSITY_MEAN_INTER_LIST: 0.7858462, DIVERSITY_HERFINDAHL: 0.9785789, COVERAGE_ITEM: 0.0521624, COVERAGE_ITEM_CORRECT: 0.0201008, COVERAGE_USER: 0.9995604, COVERAGE_USER_CORRECT: 0.9183883, DIVERSITY_GINI: 0.0032782, SHANNON_ENTROPY: 6.1533589, RATIO_DIVERSITY_HERFINDAHL: 0.9789568, RATIO_DIVERSITY_GINI: 0.0132237, RATIO_SHANNON_ENTROPY: 0.4966540, RATIO_AVERAGE_POPULARITY: 3.2028156, RATIO_NOVELTY: 0.0251876, \n",
      "\n",
      "Iteration No: 51 ended. Evaluation done at random point.\n",
      "Time taken: 23.8163\n",
      "Function value obtained: -0.1726\n",
      "Current minimum: -0.2106\n",
      "Iteration No: 52 started. Evaluating function at random point.\n",
      "SearchBayesianSkopt: Testing config: {'shrink': 272, 'topK': 858, 'feature_weighting': 'none', 'normalize': True, 'ICM_weight': 72}\n",
      "ItemKNN_CFCBF_HybridRecommender: URM Detected 1 ( 0.0%) items with no interactions.\n",
      "ItemKNN_CFCBF_HybridRecommender: ICM Detected 559 ( 3.1%) items with no features.\n",
      "Similarity column 18059 (100.0%), 1533.20 column/sec. Elapsed time 11.78 sec\n",
      "EvaluatorHoldout: Processed 13644 (100.0%) in 11.67 sec. Users per second: 1169\n",
      "SearchBayesianSkopt: Config 51 is suboptimal. Config: {'shrink': 272, 'topK': 858, 'feature_weighting': 'none', 'normalize': True, 'ICM_weight': 72} - results: PRECISION: 0.2587877, PRECISION_RECALL_MIN_DEN: 0.2595256, RECALL: 0.0409663, MAP: 0.1425231, MAP_MIN_DEN: 0.1427830, MRR: 0.5073705, NDCG: 0.2735201, F1: 0.0707352, HIT_RATE: 0.8899883, ARHR_ALL_HITS: 0.8386696, NOVELTY: 0.0053965, AVERAGE_POPULARITY: 0.6168952, DIVERSITY_MEAN_INTER_LIST: 0.7631517, DIVERSITY_HERFINDAHL: 0.9763096, COVERAGE_ITEM: 0.0725400, COVERAGE_ITEM_CORRECT: 0.0227034, COVERAGE_USER: 0.9995604, COVERAGE_USER_CORRECT: 0.8895971, DIVERSITY_GINI: 0.0036483, SHANNON_ENTROPY: 6.1161019, RATIO_DIVERSITY_HERFINDAHL: 0.9766866, RATIO_DIVERSITY_GINI: 0.0147165, RATIO_SHANNON_ENTROPY: 0.4936469, RATIO_AVERAGE_POPULARITY: 3.0447548, RATIO_NOVELTY: 0.0253916, \n",
      "\n",
      "Iteration No: 52 ended. Evaluation done at random point.\n",
      "Time taken: 24.2284\n",
      "Function value obtained: -0.1425\n",
      "Current minimum: -0.2106\n",
      "Iteration No: 53 started. Evaluating function at random point.\n",
      "SearchBayesianSkopt: Testing config: {'shrink': 412, 'topK': 938, 'feature_weighting': 'none', 'normalize': True, 'ICM_weight': 448}\n",
      "ItemKNN_CFCBF_HybridRecommender: URM Detected 1 ( 0.0%) items with no interactions.\n",
      "ItemKNN_CFCBF_HybridRecommender: ICM Detected 559 ( 3.1%) items with no features.\n",
      "Similarity column 18059 (100.0%), 1534.11 column/sec. Elapsed time 11.77 sec\n",
      "EvaluatorHoldout: Processed 13644 (100.0%) in 11.54 sec. Users per second: 1183\n",
      "SearchBayesianSkopt: Config 52 is suboptimal. Config: {'shrink': 412, 'topK': 938, 'feature_weighting': 'none', 'normalize': True, 'ICM_weight': 448} - results: PRECISION: 0.2788259, PRECISION_RECALL_MIN_DEN: 0.2794138, RECALL: 0.0443268, MAP: 0.1537692, MAP_MIN_DEN: 0.1539991, MRR: 0.5191100, NDCG: 0.2902856, F1: 0.0764930, HIT_RATE: 0.9065523, ARHR_ALL_HITS: 0.8795426, NOVELTY: 0.0053818, AVERAGE_POPULARITY: 0.6319867, DIVERSITY_MEAN_INTER_LIST: 0.7626756, DIVERSITY_HERFINDAHL: 0.9762620, COVERAGE_ITEM: 0.0847223, COVERAGE_ITEM_CORRECT: 0.0241985, COVERAGE_USER: 0.9995604, COVERAGE_USER_CORRECT: 0.9061538, DIVERSITY_GINI: 0.0039328, SHANNON_ENTROPY: 6.1384033, RATIO_DIVERSITY_HERFINDAHL: 0.9766390, RATIO_DIVERSITY_GINI: 0.0158642, RATIO_SHANNON_ENTROPY: 0.4954469, RATIO_AVERAGE_POPULARITY: 3.1192408, RATIO_NOVELTY: 0.0253225, \n",
      "\n",
      "Iteration No: 53 ended. Evaluation done at random point.\n",
      "Time taken: 24.1294\n",
      "Function value obtained: -0.1538\n",
      "Current minimum: -0.2106\n",
      "Iteration No: 54 started. Evaluating function at random point.\n",
      "SearchBayesianSkopt: Testing config: {'shrink': 166, 'topK': 889, 'feature_weighting': 'TF-IDF', 'normalize': True, 'ICM_weight': 202}\n"
     ]
    },
    {
     "name": "stdout",
     "output_type": "stream",
     "text": [
      "ItemKNN_CFCBF_HybridRecommender: URM Detected 1 ( 0.0%) items with no interactions.\n",
      "ItemKNN_CFCBF_HybridRecommender: ICM Detected 559 ( 3.1%) items with no features.\n",
      "Similarity column 18059 (100.0%), 1534.76 column/sec. Elapsed time 11.77 sec\n",
      "EvaluatorHoldout: Processed 13644 (100.0%) in 15.11 sec. Users per second: 903\n",
      "SearchBayesianSkopt: Config 53 is suboptimal. Config: {'shrink': 166, 'topK': 889, 'feature_weighting': 'TF-IDF', 'normalize': True, 'ICM_weight': 202} - results: PRECISION: 0.3344254, PRECISION_RECALL_MIN_DEN: 0.3357027, RECALL: 0.0561955, MAP: 0.2016541, MAP_MIN_DEN: 0.2022340, MRR: 0.6041460, NDCG: 0.3540816, F1: 0.0962223, HIT_RATE: 0.9433451, ARHR_ALL_HITS: 1.0856064, NOVELTY: 0.0052924, AVERAGE_POPULARITY: 0.6855319, DIVERSITY_MEAN_INTER_LIST: 0.7625011, DIVERSITY_HERFINDAHL: 0.9762445, COVERAGE_ITEM: 0.0500028, COVERAGE_ITEM_CORRECT: 0.0208206, COVERAGE_USER: 0.9995604, COVERAGE_USER_CORRECT: 0.9429304, DIVERSITY_GINI: 0.0028974, SHANNON_ENTROPY: 5.9302898, RATIO_DIVERSITY_HERFINDAHL: 0.9766215, RATIO_DIVERSITY_GINI: 0.0116875, RATIO_SHANNON_ENTROPY: 0.4786495, RATIO_AVERAGE_POPULARITY: 3.3835190, RATIO_NOVELTY: 0.0249017, \n",
      "\n",
      "Iteration No: 54 ended. Evaluation done at random point.\n",
      "Time taken: 27.8116\n",
      "Function value obtained: -0.2017\n",
      "Current minimum: -0.2106\n",
      "Iteration No: 55 started. Evaluating function at random point.\n",
      "SearchBayesianSkopt: Testing config: {'shrink': 185, 'topK': 416, 'feature_weighting': 'none', 'normalize': True, 'ICM_weight': 24}\n",
      "ItemKNN_CFCBF_HybridRecommender: URM Detected 1 ( 0.0%) items with no interactions.\n",
      "ItemKNN_CFCBF_HybridRecommender: ICM Detected 559 ( 3.1%) items with no features.\n",
      "Similarity column 18059 (100.0%), 1567.95 column/sec. Elapsed time 11.52 sec\n",
      "EvaluatorHoldout: Processed 13644 (100.0%) in 9.37 sec. Users per second: 1457\n",
      "SearchBayesianSkopt: Config 54 is suboptimal. Config: {'shrink': 185, 'topK': 416, 'feature_weighting': 'none', 'normalize': True, 'ICM_weight': 24} - results: PRECISION: 0.2991498, PRECISION_RECALL_MIN_DEN: 0.3000853, RECALL: 0.0490856, MAP: 0.1726794, MAP_MIN_DEN: 0.1730584, MRR: 0.5583679, NDCG: 0.3161062, F1: 0.0843335, HIT_RATE: 0.9215040, ARHR_ALL_HITS: 0.9683041, NOVELTY: 0.0053212, AVERAGE_POPULARITY: 0.6550368, DIVERSITY_MEAN_INTER_LIST: 0.7948007, DIVERSITY_HERFINDAHL: 0.9794742, COVERAGE_ITEM: 0.0512764, COVERAGE_ITEM_CORRECT: 0.0184396, COVERAGE_USER: 0.9995604, COVERAGE_USER_CORRECT: 0.9210989, DIVERSITY_GINI: 0.0032260, SHANNON_ENTROPY: 6.1550502, RATIO_DIVERSITY_HERFINDAHL: 0.9798525, RATIO_DIVERSITY_GINI: 0.0130134, RATIO_SHANNON_ENTROPY: 0.4967905, RATIO_AVERAGE_POPULARITY: 3.2330071, RATIO_NOVELTY: 0.0250372, \n",
      "\n",
      "Iteration No: 55 ended. Evaluation done at random point.\n",
      "Time taken: 21.4869\n",
      "Function value obtained: -0.1727\n",
      "Current minimum: -0.2106\n",
      "Iteration No: 56 started. Evaluating function at random point.\n",
      "SearchBayesianSkopt: Testing config: {'shrink': 223, 'topK': 393, 'feature_weighting': 'TF-IDF', 'normalize': False, 'ICM_weight': 183}\n",
      "ItemKNN_CFCBF_HybridRecommender: URM Detected 1 ( 0.0%) items with no interactions.\n",
      "ItemKNN_CFCBF_HybridRecommender: ICM Detected 559 ( 3.1%) items with no features.\n",
      "Similarity column 18059 (100.0%), 1628.92 column/sec. Elapsed time 11.09 sec\n",
      "EvaluatorHoldout: Processed 13644 (100.0%) in 26.05 sec. Users per second: 524\n",
      "SearchBayesianSkopt: Config 55 is suboptimal. Config: {'shrink': 223, 'topK': 393, 'feature_weighting': 'TF-IDF', 'normalize': False, 'ICM_weight': 183} - results: PRECISION: 0.3003078, PRECISION_RECALL_MIN_DEN: 0.3014585, RECALL: 0.0490794, MAP: 0.1808626, MAP_MIN_DEN: 0.1814807, MRR: 0.5976825, NDCG: 0.3260022, F1: 0.0843701, HIT_RATE: 0.9205512, ARHR_ALL_HITS: 1.0209374, NOVELTY: 0.0051581, AVERAGE_POPULARITY: 0.7434024, DIVERSITY_MEAN_INTER_LIST: 0.6234042, DIVERSITY_HERFINDAHL: 0.9623359, COVERAGE_ITEM: 0.0120162, COVERAGE_ITEM_CORRECT: 0.0043192, COVERAGE_USER: 0.9995604, COVERAGE_USER_CORRECT: 0.9201465, DIVERSITY_GINI: 0.0013997, SHANNON_ENTROPY: 4.9192262, RATIO_DIVERSITY_HERFINDAHL: 0.9627075, RATIO_DIVERSITY_GINI: 0.0056463, RATIO_SHANNON_ENTROPY: 0.3970439, RATIO_AVERAGE_POPULARITY: 3.6691449, RATIO_NOVELTY: 0.0242699, \n",
      "\n",
      "Iteration No: 56 ended. Evaluation done at random point.\n",
      "Time taken: 37.8585\n",
      "Function value obtained: -0.1809\n",
      "Current minimum: -0.2106\n",
      "Iteration No: 57 started. Evaluating function at random point.\n",
      "SearchBayesianSkopt: Testing config: {'shrink': 325, 'topK': 217, 'feature_weighting': 'none', 'normalize': True, 'ICM_weight': 298}\n",
      "ItemKNN_CFCBF_HybridRecommender: URM Detected 1 ( 0.0%) items with no interactions.\n",
      "ItemKNN_CFCBF_HybridRecommender: ICM Detected 559 ( 3.1%) items with no features.\n",
      "Similarity column 18059 (100.0%), 1604.46 column/sec. Elapsed time 11.26 sec\n",
      "EvaluatorHoldout: Processed 13644 (100.0%) in 7.74 sec. Users per second: 1762\n",
      "SearchBayesianSkopt: Config 56 is suboptimal. Config: {'shrink': 325, 'topK': 217, 'feature_weighting': 'none', 'normalize': True, 'ICM_weight': 298} - results: PRECISION: 0.2934697, PRECISION_RECALL_MIN_DEN: 0.2940800, RECALL: 0.0463361, MAP: 0.1650818, MAP_MIN_DEN: 0.1653214, MRR: 0.5428911, NDCG: 0.3061289, F1: 0.0800353, HIT_RATE: 0.9174729, ARHR_ALL_HITS: 0.9299170, NOVELTY: 0.0053086, AVERAGE_POPULARITY: 0.6611696, DIVERSITY_MEAN_INTER_LIST: 0.7246158, DIVERSITY_HERFINDAHL: 0.9724563, COVERAGE_ITEM: 0.0656183, COVERAGE_ITEM_CORRECT: 0.0140096, COVERAGE_USER: 0.9995604, COVERAGE_USER_CORRECT: 0.9170696, DIVERSITY_GINI: 0.0026520, SHANNON_ENTROPY: 5.6943863, RATIO_DIVERSITY_HERFINDAHL: 0.9728318, RATIO_DIVERSITY_GINI: 0.0106979, RATIO_SHANNON_ENTROPY: 0.4596091, RATIO_AVERAGE_POPULARITY: 3.2632762, RATIO_NOVELTY: 0.0249781, \n",
      "\n",
      "Iteration No: 57 ended. Evaluation done at random point.\n",
      "Time taken: 19.5154\n",
      "Function value obtained: -0.1651\n",
      "Current minimum: -0.2106\n",
      "Iteration No: 58 started. Evaluating function at random point.\n",
      "SearchBayesianSkopt: Testing config: {'shrink': 337, 'topK': 832, 'feature_weighting': 'TF-IDF', 'normalize': True, 'ICM_weight': 101}\n",
      "ItemKNN_CFCBF_HybridRecommender: URM Detected 1 ( 0.0%) items with no interactions.\n",
      "ItemKNN_CFCBF_HybridRecommender: ICM Detected 559 ( 3.1%) items with no features.\n",
      "Similarity column 18059 (100.0%), 1537.90 column/sec. Elapsed time 11.74 sec\n",
      "EvaluatorHoldout: Processed 13644 (100.0%) in 17.80 sec. Users per second: 767\n",
      "SearchBayesianSkopt: Config 57 is suboptimal. Config: {'shrink': 337, 'topK': 832, 'feature_weighting': 'TF-IDF', 'normalize': True, 'ICM_weight': 101} - results: PRECISION: 0.3385737, PRECISION_RECALL_MIN_DEN: 0.3399163, RECALL: 0.0570795, MAP: 0.2056307, MAP_MIN_DEN: 0.2062305, MRR: 0.6140904, NDCG: 0.3595272, F1: 0.0976897, HIT_RATE: 0.9475960, ARHR_ALL_HITS: 1.1049892, NOVELTY: 0.0052709, AVERAGE_POPULARITY: 0.6878534, DIVERSITY_MEAN_INTER_LIST: 0.7605283, DIVERSITY_HERFINDAHL: 0.9760473, COVERAGE_ITEM: 0.0426934, COVERAGE_ITEM_CORRECT: 0.0208760, COVERAGE_USER: 0.9995604, COVERAGE_USER_CORRECT: 0.9471795, DIVERSITY_GINI: 0.0027851, SHANNON_ENTROPY: 5.9142958, RATIO_DIVERSITY_HERFINDAHL: 0.9764242, RATIO_DIVERSITY_GINI: 0.0112349, RATIO_SHANNON_ENTROPY: 0.4773586, RATIO_AVERAGE_POPULARITY: 3.3949768, RATIO_NOVELTY: 0.0248006, \n",
      "\n",
      "Iteration No: 58 ended. Evaluation done at random point.\n",
      "Time taken: 30.4788\n",
      "Function value obtained: -0.2056\n",
      "Current minimum: -0.2106\n",
      "Iteration No: 59 started. Evaluating function at random point.\n",
      "SearchBayesianSkopt: Testing config: {'shrink': 107, 'topK': 290, 'feature_weighting': 'none', 'normalize': False, 'ICM_weight': 495}\n",
      "ItemKNN_CFCBF_HybridRecommender: URM Detected 1 ( 0.0%) items with no interactions.\n",
      "ItemKNN_CFCBF_HybridRecommender: ICM Detected 559 ( 3.1%) items with no features.\n",
      "Similarity column 18059 (100.0%), 1612.63 column/sec. Elapsed time 11.20 sec\n",
      "EvaluatorHoldout: Processed 13644 (100.0%) in 18.54 sec. Users per second: 736\n",
      "SearchBayesianSkopt: Config 58 is suboptimal. Config: {'shrink': 107, 'topK': 290, 'feature_weighting': 'none', 'normalize': False, 'ICM_weight': 495} - results: PRECISION: 0.0710129, PRECISION_RECALL_MIN_DEN: 0.0710963, RECALL: 0.0106156, MAP: 0.0290268, MAP_MIN_DEN: 0.0290461, MRR: 0.1759485, NDCG: 0.0738080, F1: 0.0184701, HIT_RATE: 0.4393873, ARHR_ALL_HITS: 0.2235356, NOVELTY: 0.0075689, AVERAGE_POPULARITY: 0.0909989, DIVERSITY_MEAN_INTER_LIST: 0.8436234, DIVERSITY_HERFINDAHL: 0.9843562, COVERAGE_ITEM: 0.4266571, COVERAGE_ITEM_CORRECT: 0.1547705, COVERAGE_USER: 0.9995604, COVERAGE_USER_CORRECT: 0.4391941, DIVERSITY_GINI: 0.0560484, SHANNON_ENTROPY: 8.4720864, RATIO_DIVERSITY_HERFINDAHL: 0.9847363, RATIO_DIVERSITY_GINI: 0.2260907, RATIO_SHANNON_ENTROPY: 0.6838047, RATIO_AVERAGE_POPULARITY: 0.4491351, RATIO_NOVELTY: 0.0356132, \n",
      "\n",
      "Iteration No: 59 ended. Evaluation done at random point.\n",
      "Time taken: 30.2863\n",
      "Function value obtained: -0.0290\n",
      "Current minimum: -0.2106\n",
      "Iteration No: 60 started. Evaluating function at random point.\n",
      "SearchBayesianSkopt: Testing config: {'shrink': 422, 'topK': 802, 'feature_weighting': 'TF-IDF', 'normalize': False, 'ICM_weight': 434}\n"
     ]
    },
    {
     "name": "stdout",
     "output_type": "stream",
     "text": [
      "ItemKNN_CFCBF_HybridRecommender: URM Detected 1 ( 0.0%) items with no interactions.\n",
      "ItemKNN_CFCBF_HybridRecommender: ICM Detected 559 ( 3.1%) items with no features.\n",
      "Similarity column 18059 (100.0%), 1578.37 column/sec. Elapsed time 11.44 sec\n",
      "EvaluatorHoldout: Processed 13644 (100.0%) in 28.86 sec. Users per second: 473\n",
      "SearchBayesianSkopt: Config 59 is suboptimal. Config: {'shrink': 422, 'topK': 802, 'feature_weighting': 'TF-IDF', 'normalize': False, 'ICM_weight': 434} - results: PRECISION: 0.2987540, PRECISION_RECALL_MIN_DEN: 0.2999122, RECALL: 0.0487110, MAP: 0.1795752, MAP_MIN_DEN: 0.1801840, MRR: 0.5959330, NDCG: 0.3243210, F1: 0.0837644, HIT_RATE: 0.9196717, ARHR_ALL_HITS: 1.0158005, NOVELTY: 0.0051569, AVERAGE_POPULARITY: 0.7440398, DIVERSITY_MEAN_INTER_LIST: 0.6217033, DIVERSITY_HERFINDAHL: 0.9621658, COVERAGE_ITEM: 0.0089706, COVERAGE_ITEM_CORRECT: 0.0038762, COVERAGE_USER: 0.9995604, COVERAGE_USER_CORRECT: 0.9192674, DIVERSITY_GINI: 0.0013825, SHANNON_ENTROPY: 4.9026320, RATIO_DIVERSITY_HERFINDAHL: 0.9625374, RATIO_DIVERSITY_GINI: 0.0055766, RATIO_SHANNON_ENTROPY: 0.3957045, RATIO_AVERAGE_POPULARITY: 3.6722909, RATIO_NOVELTY: 0.0242644, \n",
      "\n",
      "Iteration No: 60 ended. Evaluation done at random point.\n",
      "Time taken: 41.1927\n",
      "Function value obtained: -0.1796\n",
      "Current minimum: -0.2106\n",
      "Iteration No: 61 started. Evaluating function at random point.\n",
      "SearchBayesianSkopt: Testing config: {'shrink': 363, 'topK': 524, 'feature_weighting': 'none', 'normalize': True, 'ICM_weight': 138}\n",
      "ItemKNN_CFCBF_HybridRecommender: URM Detected 1 ( 0.0%) items with no interactions.\n",
      "ItemKNN_CFCBF_HybridRecommender: ICM Detected 559 ( 3.1%) items with no features.\n",
      "Similarity column 18059 (100.0%), 1561.58 column/sec. Elapsed time 11.56 sec\n",
      "EvaluatorHoldout: Processed 13644 (100.0%) in 9.52 sec. Users per second: 1433\n",
      "SearchBayesianSkopt: Config 60 is suboptimal. Config: {'shrink': 363, 'topK': 524, 'feature_weighting': 'none', 'normalize': True, 'ICM_weight': 138} - results: PRECISION: 0.2628701, PRECISION_RECALL_MIN_DEN: 0.2634896, RECALL: 0.0413297, MAP: 0.1446049, MAP_MIN_DEN: 0.1448098, MRR: 0.5121473, NDCG: 0.2765419, F1: 0.0714290, HIT_RATE: 0.8892554, ARHR_ALL_HITS: 0.8465640, NOVELTY: 0.0054255, AVERAGE_POPULARITY: 0.6276069, DIVERSITY_MEAN_INTER_LIST: 0.7174443, DIVERSITY_HERFINDAHL: 0.9717392, COVERAGE_ITEM: 0.0651753, COVERAGE_ITEM_CORRECT: 0.0166122, COVERAGE_USER: 0.9995604, COVERAGE_USER_CORRECT: 0.8888645, DIVERSITY_GINI: 0.0029767, SHANNON_ENTROPY: 5.8582160, RATIO_DIVERSITY_HERFINDAHL: 0.9721145, RATIO_DIVERSITY_GINI: 0.0120076, RATIO_SHANNON_ENTROPY: 0.4728322, RATIO_AVERAGE_POPULARITY: 3.0976236, RATIO_NOVELTY: 0.0255280, \n",
      "\n",
      "Iteration No: 61 ended. Evaluation done at random point.\n",
      "Time taken: 21.7158\n",
      "Function value obtained: -0.1446\n",
      "Current minimum: -0.2106\n",
      "Iteration No: 62 started. Evaluating function at random point.\n",
      "SearchBayesianSkopt: Testing config: {'shrink': 398, 'topK': 782, 'feature_weighting': 'none', 'normalize': False, 'ICM_weight': 81}\n",
      "ItemKNN_CFCBF_HybridRecommender: URM Detected 1 ( 0.0%) items with no interactions.\n",
      "ItemKNN_CFCBF_HybridRecommender: ICM Detected 559 ( 3.1%) items with no features.\n",
      "Similarity column 18059 (100.0%), 1559.15 column/sec. Elapsed time 11.58 sec\n",
      "EvaluatorHoldout: Processed 13644 (100.0%) in 23.17 sec. Users per second: 589\n",
      "SearchBayesianSkopt: Config 61 is suboptimal. Config: {'shrink': 398, 'topK': 782, 'feature_weighting': 'none', 'normalize': False, 'ICM_weight': 81} - results: PRECISION: 0.0579449, PRECISION_RECALL_MIN_DEN: 0.0581812, RECALL: 0.0086374, MAP: 0.0284011, MAP_MIN_DEN: 0.0284569, MRR: 0.2027778, NDCG: 0.0698662, F1: 0.0150337, HIT_RATE: 0.4029610, ARHR_ALL_HITS: 0.2381392, NOVELTY: 0.0071749, AVERAGE_POPULARITY: 0.1509770, DIVERSITY_MEAN_INTER_LIST: 0.7780206, DIVERSITY_HERFINDAHL: 0.9777964, COVERAGE_ITEM: 0.2377762, COVERAGE_ITEM_CORRECT: 0.0737029, COVERAGE_USER: 0.9995604, COVERAGE_USER_CORRECT: 0.4027839, DIVERSITY_GINI: 0.0129341, SHANNON_ENTROPY: 6.7862494, RATIO_DIVERSITY_HERFINDAHL: 0.9781740, RATIO_DIVERSITY_GINI: 0.0521742, RATIO_SHANNON_ENTROPY: 0.5477363, RATIO_AVERAGE_POPULARITY: 0.7451638, RATIO_NOVELTY: 0.0337596, \n",
      "\n",
      "Iteration No: 62 ended. Evaluation done at random point.\n",
      "Time taken: 35.5070\n",
      "Function value obtained: -0.0284\n",
      "Current minimum: -0.2106\n",
      "Iteration No: 63 started. Evaluating function at random point.\n",
      "SearchBayesianSkopt: Testing config: {'shrink': 119, 'topK': 411, 'feature_weighting': 'none', 'normalize': True, 'ICM_weight': 176}\n",
      "ItemKNN_CFCBF_HybridRecommender: URM Detected 1 ( 0.0%) items with no interactions.\n",
      "ItemKNN_CFCBF_HybridRecommender: ICM Detected 559 ( 3.1%) items with no features.\n",
      "Similarity column 18059 (100.0%), 1583.91 column/sec. Elapsed time 11.40 sec\n",
      "EvaluatorHoldout: Processed 13644 (100.0%) in 8.75 sec. Users per second: 1559\n",
      "SearchBayesianSkopt: Config 62 is suboptimal. Config: {'shrink': 119, 'topK': 411, 'feature_weighting': 'none', 'normalize': True, 'ICM_weight': 176} - results: PRECISION: 0.2812152, PRECISION_RECALL_MIN_DEN: 0.2818131, RECALL: 0.0441412, MAP: 0.1552793, MAP_MIN_DEN: 0.1555138, MRR: 0.5264198, NDCG: 0.2927736, F1: 0.0763051, HIT_RATE: 0.9072120, ARHR_ALL_HITS: 0.8882515, NOVELTY: 0.0053195, AVERAGE_POPULARITY: 0.6515834, DIVERSITY_MEAN_INTER_LIST: 0.7179454, DIVERSITY_HERFINDAHL: 0.9717893, COVERAGE_ITEM: 0.0612991, COVERAGE_ITEM_CORRECT: 0.0162246, COVERAGE_USER: 0.9995604, COVERAGE_USER_CORRECT: 0.9068132, DIVERSITY_GINI: 0.0026561, SHANNON_ENTROPY: 5.7308568, RATIO_DIVERSITY_HERFINDAHL: 0.9721646, RATIO_DIVERSITY_GINI: 0.0107143, RATIO_SHANNON_ENTROPY: 0.4625527, RATIO_AVERAGE_POPULARITY: 3.2159621, RATIO_NOVELTY: 0.0250295, \n",
      "\n",
      "Iteration No: 63 ended. Evaluation done at random point.\n",
      "Time taken: 20.7556\n",
      "Function value obtained: -0.1553\n",
      "Current minimum: -0.2106\n",
      "Iteration No: 64 started. Evaluating function at random point.\n",
      "SearchBayesianSkopt: Testing config: {'shrink': 48, 'topK': 740, 'feature_weighting': 'TF-IDF', 'normalize': False, 'ICM_weight': 91}\n",
      "ItemKNN_CFCBF_HybridRecommender: URM Detected 1 ( 0.0%) items with no interactions.\n",
      "ItemKNN_CFCBF_HybridRecommender: ICM Detected 559 ( 3.1%) items with no features.\n",
      "Similarity column 18059 (100.0%), 1589.91 column/sec. Elapsed time 11.36 sec\n",
      "EvaluatorHoldout: Processed 13644 (100.0%) in 33.94 sec. Users per second: 402\n",
      "SearchBayesianSkopt: Config 63 is suboptimal. Config: {'shrink': 48, 'topK': 740, 'feature_weighting': 'TF-IDF', 'normalize': False, 'ICM_weight': 91} - results: PRECISION: 0.2983509, PRECISION_RECALL_MIN_DEN: 0.2995407, RECALL: 0.0486136, MAP: 0.1799342, MAP_MIN_DEN: 0.1805641, MRR: 0.5971707, NDCG: 0.3244923, F1: 0.0836046, HIT_RATE: 0.9183524, ARHR_ALL_HITS: 1.0176296, NOVELTY: 0.0051554, AVERAGE_POPULARITY: 0.7449359, DIVERSITY_MEAN_INTER_LIST: 0.6182736, DIVERSITY_HERFINDAHL: 0.9618228, COVERAGE_ITEM: 0.0078631, COVERAGE_ITEM_CORRECT: 0.0033224, COVERAGE_USER: 0.9995604, COVERAGE_USER_CORRECT: 0.9179487, DIVERSITY_GINI: 0.0013697, SHANNON_ENTROPY: 4.8858264, RATIO_DIVERSITY_HERFINDAHL: 0.9621943, RATIO_DIVERSITY_GINI: 0.0055251, RATIO_SHANNON_ENTROPY: 0.3943481, RATIO_AVERAGE_POPULARITY: 3.6767139, RATIO_NOVELTY: 0.0242570, \n",
      "\n",
      "Iteration No: 64 ended. Evaluation done at random point.\n",
      "Time taken: 46.1583\n",
      "Function value obtained: -0.1799\n",
      "Current minimum: -0.2106\n",
      "Iteration No: 65 started. Evaluating function at random point.\n",
      "SearchBayesianSkopt: Testing config: {'shrink': 154, 'topK': 482, 'feature_weighting': 'none', 'normalize': False, 'ICM_weight': 446}\n",
      "ItemKNN_CFCBF_HybridRecommender: URM Detected 1 ( 0.0%) items with no interactions.\n",
      "ItemKNN_CFCBF_HybridRecommender: ICM Detected 559 ( 3.1%) items with no features.\n",
      "Similarity column 18059 (100.0%), 1587.53 column/sec. Elapsed time 11.38 sec\n",
      "EvaluatorHoldout: Processed 13644 (100.0%) in 20.49 sec. Users per second: 666\n",
      "SearchBayesianSkopt: Config 64 is suboptimal. Config: {'shrink': 154, 'topK': 482, 'feature_weighting': 'none', 'normalize': False, 'ICM_weight': 446} - results: PRECISION: 0.0571753, PRECISION_RECALL_MIN_DEN: 0.0572516, RECALL: 0.0082269, MAP: 0.0237784, MAP_MIN_DEN: 0.0237950, MRR: 0.1554271, NDCG: 0.0612074, F1: 0.0143842, HIT_RATE: 0.3795075, ARHR_ALL_HITS: 0.1900663, NOVELTY: 0.0075055, AVERAGE_POPULARITY: 0.1017218, DIVERSITY_MEAN_INTER_LIST: 0.8045490, DIVERSITY_HERFINDAHL: 0.9804490, COVERAGE_ITEM: 0.3672961, COVERAGE_ITEM_CORRECT: 0.1218783, COVERAGE_USER: 0.9995604, COVERAGE_USER_CORRECT: 0.3793407, DIVERSITY_GINI: 0.0318539, SHANNON_ENTROPY: 7.4475807, RATIO_DIVERSITY_HERFINDAHL: 0.9808277, RATIO_DIVERSITY_GINI: 0.1284938, RATIO_SHANNON_ENTROPY: 0.6011141, RATIO_AVERAGE_POPULARITY: 0.5020594, RATIO_NOVELTY: 0.0353149, \n",
      "\n",
      "Iteration No: 65 ended. Evaluation done at random point.\n",
      "Time taken: 32.5053\n",
      "Function value obtained: -0.0238\n",
      "Current minimum: -0.2106\n",
      "Iteration No: 66 started. Evaluating function at random point.\n",
      "SearchBayesianSkopt: Testing config: {'shrink': 64, 'topK': 326, 'feature_weighting': 'none', 'normalize': False, 'ICM_weight': 130}\n"
     ]
    },
    {
     "name": "stdout",
     "output_type": "stream",
     "text": [
      "ItemKNN_CFCBF_HybridRecommender: URM Detected 1 ( 0.0%) items with no interactions.\n",
      "ItemKNN_CFCBF_HybridRecommender: ICM Detected 559 ( 3.1%) items with no features.\n",
      "Similarity column 18059 (100.0%), 1604.46 column/sec. Elapsed time 11.26 sec\n",
      "EvaluatorHoldout: Processed 13644 (100.0%) in 18.97 sec. Users per second: 719\n",
      "SearchBayesianSkopt: Config 65 is suboptimal. Config: {'shrink': 64, 'topK': 326, 'feature_weighting': 'none', 'normalize': False, 'ICM_weight': 130} - results: PRECISION: 0.0824465, PRECISION_RECALL_MIN_DEN: 0.0825283, RECALL: 0.0118626, MAP: 0.0363344, MAP_MIN_DEN: 0.0363533, MRR: 0.2155881, NDCG: 0.0883482, F1: 0.0207409, HIT_RATE: 0.4808707, ARHR_ALL_HITS: 0.2759859, NOVELTY: 0.0073762, AVERAGE_POPULARITY: 0.1284657, DIVERSITY_MEAN_INTER_LIST: 0.8242385, DIVERSITY_HERFINDAHL: 0.9824178, COVERAGE_ITEM: 0.4132012, COVERAGE_ITEM_CORRECT: 0.1480148, COVERAGE_USER: 0.9995604, COVERAGE_USER_CORRECT: 0.4806593, DIVERSITY_GINI: 0.0473208, SHANNON_ENTROPY: 8.1104213, RATIO_DIVERSITY_HERFINDAHL: 0.9827972, RATIO_DIVERSITY_GINI: 0.1908850, RATIO_SHANNON_ENTROPY: 0.6546137, RATIO_AVERAGE_POPULARITY: 0.6340569, RATIO_NOVELTY: 0.0347065, \n",
      "\n",
      "Iteration No: 66 ended. Evaluation done at random point.\n",
      "Time taken: 30.7881\n",
      "Function value obtained: -0.0363\n",
      "Current minimum: -0.2106\n",
      "Iteration No: 67 started. Evaluating function at random point.\n",
      "SearchBayesianSkopt: Testing config: {'shrink': 273, 'topK': 857, 'feature_weighting': 'none', 'normalize': True, 'ICM_weight': 67}\n",
      "ItemKNN_CFCBF_HybridRecommender: URM Detected 1 ( 0.0%) items with no interactions.\n",
      "ItemKNN_CFCBF_HybridRecommender: ICM Detected 559 ( 3.1%) items with no features.\n",
      "Similarity column 18059 (100.0%), 1520.42 column/sec. Elapsed time 11.88 sec\n",
      "EvaluatorHoldout: Processed 13644 (100.0%) in 11.57 sec. Users per second: 1179\n",
      "SearchBayesianSkopt: Config 66 is suboptimal. Config: {'shrink': 273, 'topK': 857, 'feature_weighting': 'none', 'normalize': True, 'ICM_weight': 67} - results: PRECISION: 0.2589123, PRECISION_RECALL_MIN_DEN: 0.2596132, RECALL: 0.0411292, MAP: 0.1427199, MAP_MIN_DEN: 0.1429858, MRR: 0.5077129, NDCG: 0.2739036, F1: 0.0709826, HIT_RATE: 0.8902814, ARHR_ALL_HITS: 0.8401949, NOVELTY: 0.0054012, AVERAGE_POPULARITY: 0.6147754, DIVERSITY_MEAN_INTER_LIST: 0.7749388, DIVERSITY_HERFINDAHL: 0.9774882, COVERAGE_ITEM: 0.0729830, COVERAGE_ITEM_CORRECT: 0.0234786, COVERAGE_USER: 0.9995604, COVERAGE_USER_CORRECT: 0.8898901, DIVERSITY_GINI: 0.0037581, SHANNON_ENTROPY: 6.1742416, RATIO_DIVERSITY_HERFINDAHL: 0.9778657, RATIO_DIVERSITY_GINI: 0.0151595, RATIO_SHANNON_ENTROPY: 0.4983395, RATIO_AVERAGE_POPULARITY: 3.0342923, RATIO_NOVELTY: 0.0254138, \n",
      "\n",
      "Iteration No: 67 ended. Evaluation done at random point.\n",
      "Time taken: 24.2244\n",
      "Function value obtained: -0.1427\n",
      "Current minimum: -0.2106\n",
      "Iteration No: 68 started. Evaluating function at random point.\n",
      "SearchBayesianSkopt: Testing config: {'shrink': 207, 'topK': 547, 'feature_weighting': 'none', 'normalize': True, 'ICM_weight': 265}\n",
      "ItemKNN_CFCBF_HybridRecommender: URM Detected 1 ( 0.0%) items with no interactions.\n",
      "ItemKNN_CFCBF_HybridRecommender: ICM Detected 559 ( 3.1%) items with no features.\n",
      "Similarity column 18059 (100.0%), 1569.34 column/sec. Elapsed time 11.51 sec\n",
      "EvaluatorHoldout: Processed 13644 (100.0%) in 9.60 sec. Users per second: 1421\n",
      "SearchBayesianSkopt: Config 67 is suboptimal. Config: {'shrink': 207, 'topK': 547, 'feature_weighting': 'none', 'normalize': True, 'ICM_weight': 265} - results: PRECISION: 0.2170991, PRECISION_RECALL_MIN_DEN: 0.2175839, RECALL: 0.0345344, MAP: 0.1257079, MAP_MIN_DEN: 0.1258986, MRR: 0.5018391, NDCG: 0.2438929, F1: 0.0595897, HIT_RATE: 0.8329669, ARHR_ALL_HITS: 0.7844968, NOVELTY: 0.0063223, AVERAGE_POPULARITY: 0.5068456, DIVERSITY_MEAN_INTER_LIST: 0.7726942, DIVERSITY_HERFINDAHL: 0.9772638, COVERAGE_ITEM: 0.0790188, COVERAGE_ITEM_CORRECT: 0.0172213, COVERAGE_USER: 0.9995604, COVERAGE_USER_CORRECT: 0.8326007, DIVERSITY_GINI: 0.0038890, SHANNON_ENTROPY: 6.2273897, RATIO_DIVERSITY_HERFINDAHL: 0.9776412, RATIO_DIVERSITY_GINI: 0.0156877, RATIO_SHANNON_ENTROPY: 0.5026292, RATIO_AVERAGE_POPULARITY: 2.5015927, RATIO_NOVELTY: 0.0297478, \n",
      "\n",
      "Iteration No: 68 ended. Evaluation done at random point.\n",
      "Time taken: 21.7415\n",
      "Function value obtained: -0.1257\n",
      "Current minimum: -0.2106\n",
      "Iteration No: 69 started. Evaluating function at random point.\n",
      "SearchBayesianSkopt: Testing config: {'shrink': 211, 'topK': 300, 'feature_weighting': 'TF-IDF', 'normalize': True, 'ICM_weight': 50}\n",
      "ItemKNN_CFCBF_HybridRecommender: URM Detected 1 ( 0.0%) items with no interactions.\n",
      "ItemKNN_CFCBF_HybridRecommender: ICM Detected 559 ( 3.1%) items with no features.\n",
      "Similarity column 18059 (100.0%), 1609.60 column/sec. Elapsed time 11.22 sec\n",
      "EvaluatorHoldout: Processed 13644 (100.0%) in 14.08 sec. Users per second: 969\n",
      "SearchBayesianSkopt: Config 68 is suboptimal. Config: {'shrink': 211, 'topK': 300, 'feature_weighting': 'TF-IDF', 'normalize': True, 'ICM_weight': 50} - results: PRECISION: 0.3461961, PRECISION_RECALL_MIN_DEN: 0.3476580, RECALL: 0.0590683, MAP: 0.2105450, MAP_MIN_DEN: 0.2113139, MRR: 0.6181159, NDCG: 0.3663044, F1: 0.1009179, HIT_RATE: 0.9506010, ARHR_ALL_HITS: 1.1216747, NOVELTY: 0.0052993, AVERAGE_POPULARITY: 0.6663394, DIVERSITY_MEAN_INTER_LIST: 0.7942445, DIVERSITY_HERFINDAHL: 0.9794186, COVERAGE_ITEM: 0.0478432, COVERAGE_ITEM_CORRECT: 0.0252506, COVERAGE_USER: 0.9995604, COVERAGE_USER_CORRECT: 0.9501832, DIVERSITY_GINI: 0.0034811, SHANNON_ENTROPY: 6.2268847, RATIO_DIVERSITY_HERFINDAHL: 0.9797969, RATIO_DIVERSITY_GINI: 0.0140424, RATIO_SHANNON_ENTROPY: 0.5025885, RATIO_AVERAGE_POPULARITY: 3.2887923, RATIO_NOVELTY: 0.0249343, \n",
      "\n",
      "Iteration No: 69 ended. Evaluation done at random point.\n",
      "Time taken: 26.0069\n",
      "Function value obtained: -0.2105\n",
      "Current minimum: -0.2106\n",
      "Iteration No: 70 started. Evaluating function at random point.\n",
      "SearchBayesianSkopt: Testing config: {'shrink': 297, 'topK': 720, 'feature_weighting': 'none', 'normalize': False, 'ICM_weight': 445}\n",
      "ItemKNN_CFCBF_HybridRecommender: URM Detected 1 ( 0.0%) items with no interactions.\n",
      "ItemKNN_CFCBF_HybridRecommender: ICM Detected 559 ( 3.1%) items with no features.\n",
      "Similarity column 18059 (100.0%), 1575.07 column/sec. Elapsed time 11.47 sec\n",
      "EvaluatorHoldout: Processed 13644 (100.0%) in 22.71 sec. Users per second: 601\n",
      "SearchBayesianSkopt: Config 69 is suboptimal. Config: {'shrink': 297, 'topK': 720, 'feature_weighting': 'none', 'normalize': False, 'ICM_weight': 445} - results: PRECISION: 0.0464966, PRECISION_RECALL_MIN_DEN: 0.0465516, RECALL: 0.0062881, MAP: 0.0201774, MAP_MIN_DEN: 0.0201938, MRR: 0.1441049, NDCG: 0.0522566, F1: 0.0110780, HIT_RATE: 0.3343594, ARHR_ALL_HITS: 0.1687789, NOVELTY: 0.0074807, AVERAGE_POPULARITY: 0.1034300, DIVERSITY_MEAN_INTER_LIST: 0.8045941, DIVERSITY_HERFINDAHL: 0.9804535, COVERAGE_ITEM: 0.2727726, COVERAGE_ITEM_CORRECT: 0.0819536, COVERAGE_USER: 0.9995604, COVERAGE_USER_CORRECT: 0.3342125, DIVERSITY_GINI: 0.0163281, SHANNON_ENTROPY: 6.9611740, RATIO_DIVERSITY_HERFINDAHL: 0.9808322, RATIO_DIVERSITY_GINI: 0.0658651, RATIO_SHANNON_ENTROPY: 0.5618549, RATIO_AVERAGE_POPULARITY: 0.5104902, RATIO_NOVELTY: 0.0351980, \n",
      "\n",
      "Iteration No: 70 ended. Evaluation done at random point.\n",
      "Time taken: 34.9092\n",
      "Function value obtained: -0.0202\n",
      "Current minimum: -0.2106\n",
      "Iteration No: 71 started. Evaluating function at random point.\n",
      "SearchBayesianSkopt: Testing config: {'shrink': 265, 'topK': 904, 'feature_weighting': 'none', 'normalize': True, 'ICM_weight': 200}\n",
      "ItemKNN_CFCBF_HybridRecommender: URM Detected 1 ( 0.0%) items with no interactions.\n",
      "ItemKNN_CFCBF_HybridRecommender: ICM Detected 559 ( 3.1%) items with no features.\n",
      "Similarity column 18059 (100.0%), 1528.81 column/sec. Elapsed time 11.81 sec\n",
      "EvaluatorHoldout: Processed 13644 (100.0%) in 11.76 sec. Users per second: 1160\n",
      "SearchBayesianSkopt: Config 70 is suboptimal. Config: {'shrink': 265, 'topK': 904, 'feature_weighting': 'none', 'normalize': True, 'ICM_weight': 200} - results: PRECISION: 0.2785180, PRECISION_RECALL_MIN_DEN: 0.2790965, RECALL: 0.0441705, MAP: 0.1525054, MAP_MIN_DEN: 0.1527164, MRR: 0.5158955, NDCG: 0.2888555, F1: 0.0762486, HIT_RATE: 0.9080182, ARHR_ALL_HITS: 0.8727660, NOVELTY: 0.0053765, AVERAGE_POPULARITY: 0.6341097, DIVERSITY_MEAN_INTER_LIST: 0.7526391, DIVERSITY_HERFINDAHL: 0.9752584, COVERAGE_ITEM: 0.0817321, COVERAGE_ITEM_CORRECT: 0.0248629, COVERAGE_USER: 0.9995604, COVERAGE_USER_CORRECT: 0.9076190, DIVERSITY_GINI: 0.0037875, SHANNON_ENTROPY: 6.0800000, RATIO_DIVERSITY_HERFINDAHL: 0.9756350, RATIO_DIVERSITY_GINI: 0.0152781, RATIO_SHANNON_ENTROPY: 0.4907330, RATIO_AVERAGE_POPULARITY: 3.1297191, RATIO_NOVELTY: 0.0252977, \n",
      "\n",
      "Iteration No: 71 ended. Evaluation done at random point.\n",
      "Time taken: 24.3840\n",
      "Function value obtained: -0.1525\n",
      "Current minimum: -0.2106\n",
      "Iteration No: 72 started. Evaluating function at random point.\n",
      "SearchBayesianSkopt: Testing config: {'shrink': 237, 'topK': 906, 'feature_weighting': 'TF-IDF', 'normalize': False, 'ICM_weight': 54}\n"
     ]
    },
    {
     "name": "stdout",
     "output_type": "stream",
     "text": [
      "ItemKNN_CFCBF_HybridRecommender: URM Detected 1 ( 0.0%) items with no interactions.\n",
      "ItemKNN_CFCBF_HybridRecommender: ICM Detected 559 ( 3.1%) items with no features.\n",
      "Similarity column 18059 (100.0%), 1546.44 column/sec. Elapsed time 11.68 sec\n",
      "EvaluatorHoldout: Processed 13644 (100.0%) in 38.46 sec. Users per second: 355\n",
      "SearchBayesianSkopt: Config 71 is suboptimal. Config: {'shrink': 237, 'topK': 906, 'feature_weighting': 'TF-IDF', 'normalize': False, 'ICM_weight': 54} - results: PRECISION: 0.2976840, PRECISION_RECALL_MIN_DEN: 0.2988732, RECALL: 0.0484472, MAP: 0.1795916, MAP_MIN_DEN: 0.1802342, MRR: 0.5965144, NDCG: 0.3239164, F1: 0.0833322, HIT_RATE: 0.9167400, ARHR_ALL_HITS: 1.0161279, NOVELTY: 0.0051549, AVERAGE_POPULARITY: 0.7452317, DIVERSITY_MEAN_INTER_LIST: 0.6169713, DIVERSITY_HERFINDAHL: 0.9616926, COVERAGE_ITEM: 0.0076970, COVERAGE_ITEM_CORRECT: 0.0032117, COVERAGE_USER: 0.9995604, COVERAGE_USER_CORRECT: 0.9163370, DIVERSITY_GINI: 0.0013651, SHANNON_ENTROPY: 4.8787796, RATIO_DIVERSITY_HERFINDAHL: 0.9620640, RATIO_DIVERSITY_GINI: 0.0055065, RATIO_SHANNON_ENTROPY: 0.3937793, RATIO_AVERAGE_POPULARITY: 3.6781739, RATIO_NOVELTY: 0.0242547, \n",
      "\n",
      "Iteration No: 72 ended. Evaluation done at random point.\n",
      "Time taken: 51.0696\n",
      "Function value obtained: -0.1796\n",
      "Current minimum: -0.2106\n",
      "Iteration No: 73 started. Evaluating function at random point.\n",
      "SearchBayesianSkopt: Testing config: {'shrink': 206, 'topK': 729, 'feature_weighting': 'TF-IDF', 'normalize': False, 'ICM_weight': 432}\n",
      "ItemKNN_CFCBF_HybridRecommender: URM Detected 1 ( 0.0%) items with no interactions.\n",
      "ItemKNN_CFCBF_HybridRecommender: ICM Detected 559 ( 3.1%) items with no features.\n",
      "Similarity column 18059 (100.0%), 1585.30 column/sec. Elapsed time 11.39 sec\n",
      "EvaluatorHoldout: Processed 13644 (100.0%) in 28.21 sec. Users per second: 484\n",
      "SearchBayesianSkopt: Config 72 is suboptimal. Config: {'shrink': 206, 'topK': 729, 'feature_weighting': 'TF-IDF', 'normalize': False, 'ICM_weight': 432} - results: PRECISION: 0.2982556, PRECISION_RECALL_MIN_DEN: 0.2994023, RECALL: 0.0486340, MAP: 0.1793268, MAP_MIN_DEN: 0.1799319, MRR: 0.5959087, NDCG: 0.3239678, F1: 0.0836310, HIT_RATE: 0.9195251, ARHR_ALL_HITS: 1.0151655, NOVELTY: 0.0051571, AVERAGE_POPULARITY: 0.7439879, DIVERSITY_MEAN_INTER_LIST: 0.6214705, DIVERSITY_HERFINDAHL: 0.9621425, COVERAGE_ITEM: 0.0096351, COVERAGE_ITEM_CORRECT: 0.0038208, COVERAGE_USER: 0.9995604, COVERAGE_USER_CORRECT: 0.9191209, DIVERSITY_GINI: 0.0013834, SHANNON_ENTROPY: 4.9030410, RATIO_DIVERSITY_HERFINDAHL: 0.9625141, RATIO_DIVERSITY_GINI: 0.0055803, RATIO_SHANNON_ENTROPY: 0.3957375, RATIO_AVERAGE_POPULARITY: 3.6720352, RATIO_NOVELTY: 0.0242651, \n",
      "\n",
      "Iteration No: 73 ended. Evaluation done at random point.\n",
      "Time taken: 40.4598\n",
      "Function value obtained: -0.1793\n",
      "Current minimum: -0.2106\n",
      "Iteration No: 74 started. Evaluating function at random point.\n",
      "SearchBayesianSkopt: Testing config: {'shrink': 363, 'topK': 383, 'feature_weighting': 'none', 'normalize': True, 'ICM_weight': 16}\n",
      "ItemKNN_CFCBF_HybridRecommender: URM Detected 1 ( 0.0%) items with no interactions.\n",
      "ItemKNN_CFCBF_HybridRecommender: ICM Detected 559 ( 3.1%) items with no features.\n",
      "Similarity column 18059 (100.0%), 1584.88 column/sec. Elapsed time 11.39 sec\n",
      "EvaluatorHoldout: Processed 13644 (100.0%) in 10.48 sec. Users per second: 1302\n",
      "SearchBayesianSkopt: Config 73 is suboptimal. Config: {'shrink': 363, 'topK': 383, 'feature_weighting': 'none', 'normalize': True, 'ICM_weight': 16} - results: PRECISION: 0.3277485, PRECISION_RECALL_MIN_DEN: 0.3288834, RECALL: 0.0544175, MAP: 0.1944979, MAP_MIN_DEN: 0.1949484, MRR: 0.5879015, NDCG: 0.3448356, F1: 0.0933377, HIT_RATE: 0.9399003, ARHR_ALL_HITS: 1.0520959, NOVELTY: 0.0053068, AVERAGE_POPULARITY: 0.6684150, DIVERSITY_MEAN_INTER_LIST: 0.7874656, DIVERSITY_HERFINDAHL: 0.9787408, COVERAGE_ITEM: 0.0589734, COVERAGE_ITEM_CORRECT: 0.0273548, COVERAGE_USER: 0.9995604, COVERAGE_USER_CORRECT: 0.9394872, DIVERSITY_GINI: 0.0035123, SHANNON_ENTROPY: 6.1666188, RATIO_DIVERSITY_HERFINDAHL: 0.9791188, RATIO_DIVERSITY_GINI: 0.0141680, RATIO_SHANNON_ENTROPY: 0.4977243, RATIO_AVERAGE_POPULARITY: 3.2990364, RATIO_NOVELTY: 0.0249694, \n",
      "\n",
      "Iteration No: 74 ended. Evaluation done at random point.\n",
      "Time taken: 22.4720\n",
      "Function value obtained: -0.1945\n",
      "Current minimum: -0.2106\n",
      "Iteration No: 75 started. Evaluating function at random point.\n",
      "SearchBayesianSkopt: Testing config: {'shrink': 248, 'topK': 211, 'feature_weighting': 'TF-IDF', 'normalize': False, 'ICM_weight': 455}\n",
      "ItemKNN_CFCBF_HybridRecommender: URM Detected 1 ( 0.0%) items with no interactions.\n",
      "ItemKNN_CFCBF_HybridRecommender: ICM Detected 559 ( 3.1%) items with no features.\n",
      "Similarity column 18059 (100.0%), 1627.15 column/sec. Elapsed time 11.10 sec\n",
      "EvaluatorHoldout: Processed 13644 (100.0%) in 20.49 sec. Users per second: 666\n",
      "SearchBayesianSkopt: Config 74 is suboptimal. Config: {'shrink': 248, 'topK': 211, 'feature_weighting': 'TF-IDF', 'normalize': False, 'ICM_weight': 455} - results: PRECISION: 0.3024919, PRECISION_RECALL_MIN_DEN: 0.3037284, RECALL: 0.0498051, MAP: 0.1822336, MAP_MIN_DEN: 0.1828693, MRR: 0.6002796, NDCG: 0.3282212, F1: 0.0855280, HIT_RATE: 0.9239959, ARHR_ALL_HITS: 1.0273796, NOVELTY: 0.0051633, AVERAGE_POPULARITY: 0.7403725, DIVERSITY_MEAN_INTER_LIST: 0.6359994, DIVERSITY_HERFINDAHL: 0.9635953, COVERAGE_ITEM: 0.0146187, COVERAGE_ITEM_CORRECT: 0.0059250, COVERAGE_USER: 0.9995604, COVERAGE_USER_CORRECT: 0.9235897, DIVERSITY_GINI: 0.0014566, SHANNON_ENTROPY: 4.9860796, RATIO_DIVERSITY_HERFINDAHL: 0.9639674, RATIO_DIVERSITY_GINI: 0.0058755, RATIO_SHANNON_ENTROPY: 0.4024398, RATIO_AVERAGE_POPULARITY: 3.6541909, RATIO_NOVELTY: 0.0242946, \n",
      "\n",
      "Iteration No: 75 ended. Evaluation done at random point.\n",
      "Time taken: 32.2483\n",
      "Function value obtained: -0.1822\n",
      "Current minimum: -0.2106\n",
      "Iteration No: 76 started. Evaluating function at random point.\n",
      "SearchBayesianSkopt: Testing config: {'shrink': 368, 'topK': 783, 'feature_weighting': 'TF-IDF', 'normalize': False, 'ICM_weight': 309}\n",
      "ItemKNN_CFCBF_HybridRecommender: URM Detected 1 ( 0.0%) items with no interactions.\n",
      "ItemKNN_CFCBF_HybridRecommender: ICM Detected 559 ( 3.1%) items with no features.\n",
      "Similarity column 18059 (100.0%), 1576.71 column/sec. Elapsed time 11.45 sec\n",
      "EvaluatorHoldout: Processed 13644 (100.0%) in 29.70 sec. Users per second: 459\n",
      "SearchBayesianSkopt: Config 75 is suboptimal. Config: {'shrink': 368, 'topK': 783, 'feature_weighting': 'TF-IDF', 'normalize': False, 'ICM_weight': 309} - results: PRECISION: 0.2982996, PRECISION_RECALL_MIN_DEN: 0.2994527, RECALL: 0.0485705, MAP: 0.1796290, MAP_MIN_DEN: 0.1802524, MRR: 0.5967966, NDCG: 0.3242550, F1: 0.0835388, HIT_RATE: 0.9184990, ARHR_ALL_HITS: 1.0165390, NOVELTY: 0.0051562, AVERAGE_POPULARITY: 0.7445287, DIVERSITY_MEAN_INTER_LIST: 0.6198725, DIVERSITY_HERFINDAHL: 0.9619827, COVERAGE_ITEM: 0.0088598, COVERAGE_ITEM_CORRECT: 0.0035439, COVERAGE_USER: 0.9995604, COVERAGE_USER_CORRECT: 0.9180952, DIVERSITY_GINI: 0.0013757, SHANNON_ENTROPY: 4.8931587, RATIO_DIVERSITY_HERFINDAHL: 0.9623542, RATIO_DIVERSITY_GINI: 0.0055492, RATIO_SHANNON_ENTROPY: 0.3949399, RATIO_AVERAGE_POPULARITY: 3.6747042, RATIO_NOVELTY: 0.0242609, \n",
      "\n",
      "Iteration No: 76 ended. Evaluation done at random point.\n",
      "Time taken: 42.0365\n",
      "Function value obtained: -0.1796\n",
      "Current minimum: -0.2106\n",
      "Iteration No: 77 started. Evaluating function at random point.\n",
      "SearchBayesianSkopt: Testing config: {'shrink': 213, 'topK': 946, 'feature_weighting': 'none', 'normalize': True, 'ICM_weight': 10}\n",
      "ItemKNN_CFCBF_HybridRecommender: URM Detected 1 ( 0.0%) items with no interactions.\n",
      "ItemKNN_CFCBF_HybridRecommender: ICM Detected 559 ( 3.1%) items with no features.\n",
      "Similarity column 18059 (100.0%), 1518.34 column/sec. Elapsed time 11.89 sec\n",
      "EvaluatorHoldout: Processed 13644 (100.0%) in 15.07 sec. Users per second: 906\n",
      "SearchBayesianSkopt: Config 76 is suboptimal. Config: {'shrink': 213, 'topK': 946, 'feature_weighting': 'none', 'normalize': True, 'ICM_weight': 10} - results: PRECISION: 0.3296614, PRECISION_RECALL_MIN_DEN: 0.3308858, RECALL: 0.0550427, MAP: 0.1988097, MAP_MIN_DEN: 0.1993769, MRR: 0.6051716, NDCG: 0.3504595, F1: 0.0943346, HIT_RATE: 0.9424656, ARHR_ALL_HITS: 1.0782804, NOVELTY: 0.0052517, AVERAGE_POPULARITY: 0.6962370, DIVERSITY_MEAN_INTER_LIST: 0.7453049, DIVERSITY_HERFINDAHL: 0.9745250, COVERAGE_ITEM: 0.0482308, COVERAGE_ITEM_CORRECT: 0.0216513, COVERAGE_USER: 0.9995604, COVERAGE_USER_CORRECT: 0.9420513, DIVERSITY_GINI: 0.0026272, SHANNON_ENTROPY: 5.7896011, RATIO_DIVERSITY_HERFINDAHL: 0.9749014, RATIO_DIVERSITY_GINI: 0.0105976, RATIO_SHANNON_ENTROPY: 0.4672942, RATIO_AVERAGE_POPULARITY: 3.4363549, RATIO_NOVELTY: 0.0247103, \n",
      "\n",
      "Iteration No: 77 ended. Evaluation done at random point.\n",
      "Time taken: 27.7774\n",
      "Function value obtained: -0.1988\n",
      "Current minimum: -0.2106\n",
      "Iteration No: 78 started. Evaluating function at random point.\n",
      "SearchBayesianSkopt: Testing config: {'shrink': 81, 'topK': 516, 'feature_weighting': 'none', 'normalize': True, 'ICM_weight': 47}\n"
     ]
    },
    {
     "name": "stdout",
     "output_type": "stream",
     "text": [
      "ItemKNN_CFCBF_HybridRecommender: URM Detected 1 ( 0.0%) items with no interactions.\n",
      "ItemKNN_CFCBF_HybridRecommender: ICM Detected 559 ( 3.1%) items with no features.\n",
      "Similarity column 18059 (100.0%), 1563.74 column/sec. Elapsed time 11.55 sec\n",
      "EvaluatorHoldout: Processed 13644 (100.0%) in 9.50 sec. Users per second: 1436\n",
      "SearchBayesianSkopt: Config 77 is suboptimal. Config: {'shrink': 81, 'topK': 516, 'feature_weighting': 'none', 'normalize': True, 'ICM_weight': 47} - results: PRECISION: 0.2501759, PRECISION_RECALL_MIN_DEN: 0.2508814, RECALL: 0.0393144, MAP: 0.1396574, MAP_MIN_DEN: 0.1399950, MRR: 0.5128734, NDCG: 0.2688443, F1: 0.0679506, HIT_RATE: 0.8781149, ARHR_ALL_HITS: 0.8354179, NOVELTY: 0.0054533, AVERAGE_POPULARITY: 0.5920833, DIVERSITY_MEAN_INTER_LIST: 0.7667935, DIVERSITY_HERFINDAHL: 0.9766737, COVERAGE_ITEM: 0.0723739, COVERAGE_ITEM_CORRECT: 0.0198239, COVERAGE_USER: 0.9995604, COVERAGE_USER_CORRECT: 0.8777289, DIVERSITY_GINI: 0.0033949, SHANNON_ENTROPY: 5.9854600, RATIO_DIVERSITY_HERFINDAHL: 0.9770509, RATIO_DIVERSITY_GINI: 0.0136947, RATIO_SHANNON_ENTROPY: 0.4831025, RATIO_AVERAGE_POPULARITY: 2.9222927, RATIO_NOVELTY: 0.0256588, \n",
      "\n",
      "Iteration No: 78 ended. Evaluation done at random point.\n",
      "Time taken: 21.6778\n",
      "Function value obtained: -0.1397\n",
      "Current minimum: -0.2106\n",
      "Iteration No: 79 started. Evaluating function at random point.\n",
      "SearchBayesianSkopt: Testing config: {'shrink': 90, 'topK': 338, 'feature_weighting': 'none', 'normalize': True, 'ICM_weight': 181}\n",
      "ItemKNN_CFCBF_HybridRecommender: URM Detected 1 ( 0.0%) items with no interactions.\n",
      "ItemKNN_CFCBF_HybridRecommender: ICM Detected 559 ( 3.1%) items with no features.\n",
      "Similarity column 18059 (100.0%), 1569.18 column/sec. Elapsed time 11.51 sec\n",
      "EvaluatorHoldout: Processed 13644 (100.0%) in 8.32 sec. Users per second: 1639\n",
      "SearchBayesianSkopt: Config 78 is suboptimal. Config: {'shrink': 90, 'topK': 338, 'feature_weighting': 'none', 'normalize': True, 'ICM_weight': 181} - results: PRECISION: 0.2837804, PRECISION_RECALL_MIN_DEN: 0.2843838, RECALL: 0.0446490, MAP: 0.1576502, MAP_MIN_DEN: 0.1578961, MRR: 0.5321232, NDCG: 0.2960361, F1: 0.0771583, HIT_RATE: 0.9099238, ARHR_ALL_HITS: 0.8996458, NOVELTY: 0.0053081, AVERAGE_POPULARITY: 0.6572704, DIVERSITY_MEAN_INTER_LIST: 0.7177309, DIVERSITY_HERFINDAHL: 0.9717678, COVERAGE_ITEM: 0.0615206, COVERAGE_ITEM_CORRECT: 0.0158370, COVERAGE_USER: 0.9995604, COVERAGE_USER_CORRECT: 0.9095238, DIVERSITY_GINI: 0.0025910, SHANNON_ENTROPY: 5.6903043, RATIO_DIVERSITY_HERFINDAHL: 0.9721431, RATIO_DIVERSITY_GINI: 0.0104518, RATIO_SHANNON_ENTROPY: 0.4592796, RATIO_AVERAGE_POPULARITY: 3.2440311, RATIO_NOVELTY: 0.0249757, \n",
      "\n",
      "Iteration No: 79 ended. Evaluation done at random point.\n",
      "Time taken: 20.3989\n",
      "Function value obtained: -0.1577\n",
      "Current minimum: -0.2106\n",
      "Iteration No: 80 started. Evaluating function at random point.\n",
      "SearchBayesianSkopt: Testing config: {'shrink': 362, 'topK': 350, 'feature_weighting': 'TF-IDF', 'normalize': False, 'ICM_weight': 401}\n",
      "ItemKNN_CFCBF_HybridRecommender: URM Detected 1 ( 0.0%) items with no interactions.\n",
      "ItemKNN_CFCBF_HybridRecommender: ICM Detected 559 ( 3.1%) items with no features.\n",
      "Similarity column 18059 (100.0%), 1606.60 column/sec. Elapsed time 11.24 sec\n",
      "EvaluatorHoldout: Processed 13644 (100.0%) in 23.58 sec. Users per second: 579\n",
      "SearchBayesianSkopt: Config 79 is suboptimal. Config: {'shrink': 362, 'topK': 350, 'feature_weighting': 'TF-IDF', 'normalize': False, 'ICM_weight': 401} - results: PRECISION: 0.3010041, PRECISION_RECALL_MIN_DEN: 0.3021608, RECALL: 0.0491773, MAP: 0.1814325, MAP_MIN_DEN: 0.1820384, MRR: 0.5987839, NDCG: 0.3268198, F1: 0.0845422, HIT_RATE: 0.9217238, ARHR_ALL_HITS: 1.0236720, NOVELTY: 0.0051603, AVERAGE_POPULARITY: 0.7421215, DIVERSITY_MEAN_INTER_LIST: 0.6280722, DIVERSITY_HERFINDAHL: 0.9628026, COVERAGE_ITEM: 0.0127360, COVERAGE_ITEM_CORRECT: 0.0047622, COVERAGE_USER: 0.9995604, COVERAGE_USER_CORRECT: 0.9213187, DIVERSITY_GINI: 0.0014194, SHANNON_ENTROPY: 4.9452876, RATIO_DIVERSITY_HERFINDAHL: 0.9631745, RATIO_DIVERSITY_GINI: 0.0057255, RATIO_SHANNON_ENTROPY: 0.3991474, RATIO_AVERAGE_POPULARITY: 3.6628231, RATIO_NOVELTY: 0.0242804, \n",
      "\n",
      "Iteration No: 80 ended. Evaluation done at random point.\n",
      "Time taken: 35.5251\n",
      "Function value obtained: -0.1814\n",
      "Current minimum: -0.2106\n",
      "Iteration No: 81 started. Evaluating function at random point.\n",
      "SearchBayesianSkopt: Testing config: {'shrink': 144, 'topK': 667, 'feature_weighting': 'none', 'normalize': True, 'ICM_weight': 137}\n",
      "ItemKNN_CFCBF_HybridRecommender: URM Detected 1 ( 0.0%) items with no interactions.\n",
      "ItemKNN_CFCBF_HybridRecommender: ICM Detected 559 ( 3.1%) items with no features.\n",
      "Similarity column 18059 (100.0%), 1556.97 column/sec. Elapsed time 11.60 sec\n",
      "EvaluatorHoldout: Processed 13644 (100.0%) in 10.28 sec. Users per second: 1327\n",
      "SearchBayesianSkopt: Config 80 is suboptimal. Config: {'shrink': 144, 'topK': 667, 'feature_weighting': 'none', 'normalize': True, 'ICM_weight': 137} - results: PRECISION: 0.2650542, PRECISION_RECALL_MIN_DEN: 0.2656286, RECALL: 0.0422750, MAP: 0.1452133, MAP_MIN_DEN: 0.1453993, MRR: 0.5080064, NDCG: 0.2772937, F1: 0.0729197, HIT_RATE: 0.8868367, ARHR_ALL_HITS: 0.8448422, NOVELTY: 0.0055276, AVERAGE_POPULARITY: 0.5999223, DIVERSITY_MEAN_INTER_LIST: 0.7596208, DIVERSITY_HERFINDAHL: 0.9759565, COVERAGE_ITEM: 0.0768038, COVERAGE_ITEM_CORRECT: 0.0218728, COVERAGE_USER: 0.9995604, COVERAGE_USER_CORRECT: 0.8864469, DIVERSITY_GINI: 0.0044148, SHANNON_ENTROPY: 6.3263036, RATIO_DIVERSITY_HERFINDAHL: 0.9763334, RATIO_DIVERSITY_GINI: 0.0178086, RATIO_SHANNON_ENTROPY: 0.5106128, RATIO_AVERAGE_POPULARITY: 2.9609834, RATIO_NOVELTY: 0.0260087, \n",
      "\n",
      "Iteration No: 81 ended. Evaluation done at random point.\n",
      "Time taken: 22.5883\n",
      "Function value obtained: -0.1452\n",
      "Current minimum: -0.2106\n",
      "Iteration No: 82 started. Evaluating function at random point.\n",
      "SearchBayesianSkopt: Testing config: {'shrink': 57, 'topK': 970, 'feature_weighting': 'none', 'normalize': True, 'ICM_weight': 498}\n",
      "ItemKNN_CFCBF_HybridRecommender: URM Detected 1 ( 0.0%) items with no interactions.\n",
      "ItemKNN_CFCBF_HybridRecommender: ICM Detected 559 ( 3.1%) items with no features.\n",
      "Similarity column 18059 (100.0%), 1532.16 column/sec. Elapsed time 11.79 sec\n",
      "EvaluatorHoldout: Processed 13644 (100.0%) in 11.63 sec. Users per second: 1173\n",
      "SearchBayesianSkopt: Config 81 is suboptimal. Config: {'shrink': 57, 'topK': 970, 'feature_weighting': 'none', 'normalize': True, 'ICM_weight': 498} - results: PRECISION: 0.2776239, PRECISION_RECALL_MIN_DEN: 0.2782193, RECALL: 0.0440993, MAP: 0.1534047, MAP_MIN_DEN: 0.1536393, MRR: 0.5194421, NDCG: 0.2895402, F1: 0.0761090, HIT_RATE: 0.9053797, ARHR_ALL_HITS: 0.8785597, NOVELTY: 0.0053922, AVERAGE_POPULARITY: 0.6299791, DIVERSITY_MEAN_INTER_LIST: 0.7652588, DIVERSITY_HERFINDAHL: 0.9765203, COVERAGE_ITEM: 0.0857744, COVERAGE_ITEM_CORRECT: 0.0256382, COVERAGE_USER: 0.9995604, COVERAGE_USER_CORRECT: 0.9049817, DIVERSITY_GINI: 0.0040975, SHANNON_ENTROPY: 6.1772421, RATIO_DIVERSITY_HERFINDAHL: 0.9768974, RATIO_DIVERSITY_GINI: 0.0165285, RATIO_SHANNON_ENTROPY: 0.4985817, RATIO_AVERAGE_POPULARITY: 3.1093321, RATIO_NOVELTY: 0.0253714, \n",
      "\n",
      "Iteration No: 82 ended. Evaluation done at random point.\n",
      "Time taken: 24.2324\n",
      "Function value obtained: -0.1534\n",
      "Current minimum: -0.2106\n",
      "Iteration No: 83 started. Evaluating function at random point.\n",
      "SearchBayesianSkopt: Testing config: {'shrink': 202, 'topK': 618, 'feature_weighting': 'none', 'normalize': False, 'ICM_weight': 157}\n",
      "ItemKNN_CFCBF_HybridRecommender: URM Detected 1 ( 0.0%) items with no interactions.\n",
      "ItemKNN_CFCBF_HybridRecommender: ICM Detected 559 ( 3.1%) items with no features.\n",
      "Similarity column 18059 (100.0%), 1585.73 column/sec. Elapsed time 11.39 sec\n",
      "EvaluatorHoldout: Processed 13644 (100.0%) in 21.68 sec. Users per second: 629\n",
      "SearchBayesianSkopt: Config 82 is suboptimal. Config: {'shrink': 202, 'topK': 618, 'feature_weighting': 'none', 'normalize': False, 'ICM_weight': 157} - results: PRECISION: 0.0533201, PRECISION_RECALL_MIN_DEN: 0.0533796, RECALL: 0.0073568, MAP: 0.0249293, MAP_MIN_DEN: 0.0249432, MRR: 0.1770210, NDCG: 0.0623170, F1: 0.0129297, HIT_RATE: 0.3719584, ARHR_ALL_HITS: 0.2080016, NOVELTY: 0.0074158, AVERAGE_POPULARITY: 0.1137188, DIVERSITY_MEAN_INTER_LIST: 0.7957973, DIVERSITY_HERFINDAHL: 0.9795739, COVERAGE_ITEM: 0.3053879, COVERAGE_ITEM_CORRECT: 0.0970153, COVERAGE_USER: 0.9995604, COVERAGE_USER_CORRECT: 0.3717949, DIVERSITY_GINI: 0.0206947, SHANNON_ENTROPY: 7.0653049, RATIO_DIVERSITY_HERFINDAHL: 0.9799522, RATIO_DIVERSITY_GINI: 0.0834794, RATIO_SHANNON_ENTROPY: 0.5702596, RATIO_AVERAGE_POPULARITY: 0.5612718, RATIO_NOVELTY: 0.0348927, \n",
      "\n",
      "Iteration No: 83 ended. Evaluation done at random point.\n",
      "Time taken: 33.7605\n",
      "Function value obtained: -0.0249\n",
      "Current minimum: -0.2106\n",
      "Iteration No: 84 started. Evaluating function at random point.\n",
      "SearchBayesianSkopt: Testing config: {'shrink': 362, 'topK': 232, 'feature_weighting': 'TF-IDF', 'normalize': False, 'ICM_weight': 116}\n"
     ]
    },
    {
     "name": "stdout",
     "output_type": "stream",
     "text": [
      "ItemKNN_CFCBF_HybridRecommender: URM Detected 1 ( 0.0%) items with no interactions.\n",
      "ItemKNN_CFCBF_HybridRecommender: ICM Detected 559 ( 3.1%) items with no features.\n",
      "Similarity column 18059 (100.0%), 1646.47 column/sec. Elapsed time 10.97 sec\n",
      "EvaluatorHoldout: Processed 13644 (100.0%) in 23.51 sec. Users per second: 580\n",
      "SearchBayesianSkopt: Config 83 is suboptimal. Config: {'shrink': 362, 'topK': 232, 'feature_weighting': 'TF-IDF', 'normalize': False, 'ICM_weight': 116} - results: PRECISION: 0.3004984, PRECISION_RECALL_MIN_DEN: 0.3017133, RECALL: 0.0492515, MAP: 0.1811914, MAP_MIN_DEN: 0.1818384, MRR: 0.5992149, NDCG: 0.3265484, F1: 0.0846319, HIT_RATE: 0.9201847, ARHR_ALL_HITS: 1.0233762, NOVELTY: 0.0051595, AVERAGE_POPULARITY: 0.7426844, DIVERSITY_MEAN_INTER_LIST: 0.6259906, DIVERSITY_HERFINDAHL: 0.9625945, COVERAGE_ITEM: 0.0122930, COVERAGE_ITEM_CORRECT: 0.0045960, COVERAGE_USER: 0.9995604, COVERAGE_USER_CORRECT: 0.9197802, DIVERSITY_GINI: 0.0014123, SHANNON_ENTROPY: 4.9351360, RATIO_DIVERSITY_HERFINDAHL: 0.9629662, RATIO_DIVERSITY_GINI: 0.0056968, RATIO_SHANNON_ENTROPY: 0.3983280, RATIO_AVERAGE_POPULARITY: 3.6656016, RATIO_NOVELTY: 0.0242763, \n",
      "\n",
      "Iteration No: 84 ended. Evaluation done at random point.\n",
      "Time taken: 35.1353\n",
      "Function value obtained: -0.1812\n",
      "Current minimum: -0.2106\n",
      "Iteration No: 85 started. Evaluating function at random point.\n",
      "SearchBayesianSkopt: Testing config: {'shrink': 84, 'topK': 778, 'feature_weighting': 'TF-IDF', 'normalize': False, 'ICM_weight': 467}\n",
      "ItemKNN_CFCBF_HybridRecommender: URM Detected 1 ( 0.0%) items with no interactions.\n",
      "ItemKNN_CFCBF_HybridRecommender: ICM Detected 559 ( 3.1%) items with no features.\n",
      "Similarity column 18059 (100.0%), 1584.33 column/sec. Elapsed time 11.40 sec\n",
      "EvaluatorHoldout: Processed 13644 (100.0%) in 28.50 sec. Users per second: 479\n",
      "SearchBayesianSkopt: Config 84 is suboptimal. Config: {'shrink': 84, 'topK': 778, 'feature_weighting': 'TF-IDF', 'normalize': False, 'ICM_weight': 467} - results: PRECISION: 0.2983949, PRECISION_RECALL_MIN_DEN: 0.2995538, RECALL: 0.0486778, MAP: 0.1792931, MAP_MIN_DEN: 0.1798956, MRR: 0.5955391, NDCG: 0.3239853, F1: 0.0837012, HIT_RATE: 0.9195984, ARHR_ALL_HITS: 1.0148910, NOVELTY: 0.0051573, AVERAGE_POPULARITY: 0.7438230, DIVERSITY_MEAN_INTER_LIST: 0.6224320, DIVERSITY_HERFINDAHL: 0.9622386, COVERAGE_ITEM: 0.0094690, COVERAGE_ITEM_CORRECT: 0.0037654, COVERAGE_USER: 0.9995604, COVERAGE_USER_CORRECT: 0.9191941, DIVERSITY_GINI: 0.0013858, SHANNON_ENTROPY: 4.9058600, RATIO_DIVERSITY_HERFINDAHL: 0.9626103, RATIO_DIVERSITY_GINI: 0.0055900, RATIO_SHANNON_ENTROPY: 0.3959651, RATIO_AVERAGE_POPULARITY: 3.6712210, RATIO_NOVELTY: 0.0242662, \n",
      "\n",
      "Iteration No: 85 ended. Evaluation done at random point.\n",
      "Time taken: 40.7951\n",
      "Function value obtained: -0.1793\n",
      "Current minimum: -0.2106\n",
      "Iteration No: 86 started. Evaluating function at random point.\n",
      "SearchBayesianSkopt: Testing config: {'shrink': 331, 'topK': 764, 'feature_weighting': 'none', 'normalize': True, 'ICM_weight': 405}\n",
      "ItemKNN_CFCBF_HybridRecommender: URM Detected 1 ( 0.0%) items with no interactions.\n",
      "ItemKNN_CFCBF_HybridRecommender: ICM Detected 559 ( 3.1%) items with no features.\n",
      "Similarity column 18059 (100.0%), 1546.07 column/sec. Elapsed time 11.68 sec\n",
      "EvaluatorHoldout: Processed 13644 (100.0%) in 10.66 sec. Users per second: 1280\n",
      "SearchBayesianSkopt: Config 85 is suboptimal. Config: {'shrink': 331, 'topK': 764, 'feature_weighting': 'none', 'normalize': True, 'ICM_weight': 405} - results: PRECISION: 0.2799326, PRECISION_RECALL_MIN_DEN: 0.2804542, RECALL: 0.0441389, MAP: 0.1543718, MAP_MIN_DEN: 0.1545744, MRR: 0.5199747, NDCG: 0.2910955, F1: 0.0762542, HIT_RATE: 0.9061859, ARHR_ALL_HITS: 0.8814233, NOVELTY: 0.0053878, AVERAGE_POPULARITY: 0.6300139, DIVERSITY_MEAN_INTER_LIST: 0.7619944, DIVERSITY_HERFINDAHL: 0.9761939, COVERAGE_ITEM: 0.0800709, COVERAGE_ITEM_CORRECT: 0.0223157, COVERAGE_USER: 0.9995604, COVERAGE_USER_CORRECT: 0.9057875, DIVERSITY_GINI: 0.0038048, SHANNON_ENTROPY: 6.1206500, RATIO_DIVERSITY_HERFINDAHL: 0.9765709, RATIO_DIVERSITY_GINI: 0.0153480, RATIO_SHANNON_ENTROPY: 0.4940140, RATIO_AVERAGE_POPULARITY: 3.1095036, RATIO_NOVELTY: 0.0253507, \n",
      "\n",
      "Iteration No: 86 ended. Evaluation done at random point.\n",
      "Time taken: 23.0670\n",
      "Function value obtained: -0.1544\n",
      "Current minimum: -0.2106\n",
      "Iteration No: 87 started. Evaluating function at random point.\n",
      "SearchBayesianSkopt: Testing config: {'shrink': 234, 'topK': 665, 'feature_weighting': 'TF-IDF', 'normalize': False, 'ICM_weight': 274}\n",
      "ItemKNN_CFCBF_HybridRecommender: URM Detected 1 ( 0.0%) items with no interactions.\n",
      "ItemKNN_CFCBF_HybridRecommender: ICM Detected 559 ( 3.1%) items with no features.\n",
      "Similarity column 18059 (100.0%), 1595.81 column/sec. Elapsed time 11.32 sec\n",
      "EvaluatorHoldout: Processed 13644 (100.0%) in 28.75 sec. Users per second: 475\n",
      "SearchBayesianSkopt: Config 86 is suboptimal. Config: {'shrink': 234, 'topK': 665, 'feature_weighting': 'TF-IDF', 'normalize': False, 'ICM_weight': 274} - results: PRECISION: 0.2982996, PRECISION_RECALL_MIN_DEN: 0.2994508, RECALL: 0.0485887, MAP: 0.1798149, MAP_MIN_DEN: 0.1804360, MRR: 0.5971842, NDCG: 0.3244305, F1: 0.0835657, HIT_RATE: 0.9184990, ARHR_ALL_HITS: 1.0175114, NOVELTY: 0.0051564, AVERAGE_POPULARITY: 0.7444152, DIVERSITY_MEAN_INTER_LIST: 0.6199847, DIVERSITY_HERFINDAHL: 0.9619939, COVERAGE_ITEM: 0.0093582, COVERAGE_ITEM_CORRECT: 0.0035439, COVERAGE_USER: 0.9995604, COVERAGE_USER_CORRECT: 0.9180952, DIVERSITY_GINI: 0.0013779, SHANNON_ENTROPY: 4.8948768, RATIO_DIVERSITY_HERFINDAHL: 0.9623654, RATIO_DIVERSITY_GINI: 0.0055583, RATIO_SHANNON_ENTROPY: 0.3950786, RATIO_AVERAGE_POPULARITY: 3.6741442, RATIO_NOVELTY: 0.0242620, \n",
      "\n",
      "Iteration No: 87 ended. Evaluation done at random point.\n",
      "Time taken: 40.8871\n",
      "Function value obtained: -0.1798\n",
      "Current minimum: -0.2106\n",
      "Iteration No: 88 started. Evaluating function at random point.\n",
      "SearchBayesianSkopt: Testing config: {'shrink': 167, 'topK': 477, 'feature_weighting': 'TF-IDF', 'normalize': True, 'ICM_weight': 66}\n",
      "ItemKNN_CFCBF_HybridRecommender: URM Detected 1 ( 0.0%) items with no interactions.\n",
      "ItemKNN_CFCBF_HybridRecommender: ICM Detected 559 ( 3.1%) items with no features.\n",
      "Similarity column 18059 (100.0%), 1581.14 column/sec. Elapsed time 11.42 sec\n",
      "EvaluatorHoldout: Processed 13644 (100.0%) in 15.41 sec. Users per second: 885\n",
      "SearchBayesianSkopt: Config 87 is suboptimal. Config: {'shrink': 167, 'topK': 477, 'feature_weighting': 'TF-IDF', 'normalize': True, 'ICM_weight': 66} - results: PRECISION: 0.3426634, PRECISION_RECALL_MIN_DEN: 0.3439533, RECALL: 0.0580122, MAP: 0.2087874, MAP_MIN_DEN: 0.2093644, MRR: 0.6184849, NDCG: 0.3636607, F1: 0.0992257, HIT_RATE: 0.9495016, ARHR_ALL_HITS: 1.1173870, NOVELTY: 0.0052882, AVERAGE_POPULARITY: 0.6768200, DIVERSITY_MEAN_INTER_LIST: 0.7764913, DIVERSITY_HERFINDAHL: 0.9776434, COVERAGE_ITEM: 0.0464588, COVERAGE_ITEM_CORRECT: 0.0232017, COVERAGE_USER: 0.9995604, COVERAGE_USER_CORRECT: 0.9490842, DIVERSITY_GINI: 0.0031357, SHANNON_ENTROPY: 6.0720123, RATIO_DIVERSITY_HERFINDAHL: 0.9780210, RATIO_DIVERSITY_GINI: 0.0126488, RATIO_SHANNON_ENTROPY: 0.4900883, RATIO_AVERAGE_POPULARITY: 3.3405205, RATIO_NOVELTY: 0.0248822, \n",
      "\n",
      "Iteration No: 88 ended. Evaluation done at random point.\n",
      "Time taken: 27.5842\n",
      "Function value obtained: -0.2088\n",
      "Current minimum: -0.2106\n",
      "Iteration No: 89 started. Evaluating function at random point.\n",
      "SearchBayesianSkopt: Testing config: {'shrink': 85, 'topK': 745, 'feature_weighting': 'TF-IDF', 'normalize': True, 'ICM_weight': 421}\n",
      "ItemKNN_CFCBF_HybridRecommender: URM Detected 1 ( 0.0%) items with no interactions.\n",
      "ItemKNN_CFCBF_HybridRecommender: ICM Detected 559 ( 3.1%) items with no features.\n",
      "Similarity column 18059 (100.0%), 1541.19 column/sec. Elapsed time 11.72 sec\n",
      "EvaluatorHoldout: Processed 13644 (100.0%) in 12.22 sec. Users per second: 1116\n",
      "SearchBayesianSkopt: Config 88 is suboptimal. Config: {'shrink': 85, 'topK': 745, 'feature_weighting': 'TF-IDF', 'normalize': True, 'ICM_weight': 421} - results: PRECISION: 0.3245676, PRECISION_RECALL_MIN_DEN: 0.3258384, RECALL: 0.0543123, MAP: 0.1925027, MAP_MIN_DEN: 0.1930099, MRR: 0.5876703, NDCG: 0.3422960, F1: 0.0930534, HIT_RATE: 0.9389475, ARHR_ALL_HITS: 1.0463279, NOVELTY: 0.0053172, AVERAGE_POPULARITY: 0.6715231, DIVERSITY_MEAN_INTER_LIST: 0.7792368, DIVERSITY_HERFINDAHL: 0.9779180, COVERAGE_ITEM: 0.0556509, COVERAGE_ITEM_CORRECT: 0.0205438, COVERAGE_USER: 0.9995604, COVERAGE_USER_CORRECT: 0.9385348, DIVERSITY_GINI: 0.0031291, SHANNON_ENTROPY: 6.0419015, RATIO_DIVERSITY_HERFINDAHL: 0.9782956, RATIO_DIVERSITY_GINI: 0.0126222, RATIO_SHANNON_ENTROPY: 0.4876580, RATIO_AVERAGE_POPULARITY: 3.3143769, RATIO_NOVELTY: 0.0250187, \n",
      "\n",
      "Iteration No: 89 ended. Evaluation done at random point.\n",
      "Time taken: 24.8086\n",
      "Function value obtained: -0.1925\n",
      "Current minimum: -0.2106\n",
      "Iteration No: 90 started. Evaluating function at random point.\n",
      "SearchBayesianSkopt: Testing config: {'shrink': 184, 'topK': 823, 'feature_weighting': 'TF-IDF', 'normalize': False, 'ICM_weight': 28}\n"
     ]
    },
    {
     "name": "stdout",
     "output_type": "stream",
     "text": [
      "ItemKNN_CFCBF_HybridRecommender: URM Detected 1 ( 0.0%) items with no interactions.\n",
      "ItemKNN_CFCBF_HybridRecommender: ICM Detected 559 ( 3.1%) items with no features.\n",
      "Similarity column 18059 (100.0%), 1569.45 column/sec. Elapsed time 11.51 sec\n",
      "EvaluatorHoldout: Processed 13644 (100.0%) in 40.05 sec. Users per second: 341\n",
      "SearchBayesianSkopt: Config 89 is suboptimal. Config: {'shrink': 184, 'topK': 823, 'feature_weighting': 'TF-IDF', 'normalize': False, 'ICM_weight': 28} - results: PRECISION: 0.2980797, PRECISION_RECALL_MIN_DEN: 0.2992730, RECALL: 0.0485391, MAP: 0.1798529, MAP_MIN_DEN: 0.1804961, MRR: 0.5967564, NDCG: 0.3243089, F1: 0.0834838, HIT_RATE: 0.9177661, ARHR_ALL_HITS: 1.0172194, NOVELTY: 0.0051551, AVERAGE_POPULARITY: 0.7451076, DIVERSITY_MEAN_INTER_LIST: 0.6175750, DIVERSITY_HERFINDAHL: 0.9617530, COVERAGE_ITEM: 0.0078631, COVERAGE_ITEM_CORRECT: 0.0032117, COVERAGE_USER: 0.9995604, COVERAGE_USER_CORRECT: 0.9173626, DIVERSITY_GINI: 0.0013675, SHANNON_ENTROPY: 4.8818675, RATIO_DIVERSITY_HERFINDAHL: 0.9621244, RATIO_DIVERSITY_GINI: 0.0055165, RATIO_SHANNON_ENTROPY: 0.3940286, RATIO_AVERAGE_POPULARITY: 3.6775612, RATIO_NOVELTY: 0.0242556, \n",
      "\n",
      "Iteration No: 90 ended. Evaluation done at random point.\n",
      "Time taken: 53.5122\n",
      "Function value obtained: -0.1799\n",
      "Current minimum: -0.2106\n",
      "Iteration No: 91 started. Searching for the next optimal point.\n",
      "SearchBayesianSkopt: Testing config: {'shrink': 10, 'topK': 200, 'feature_weighting': 'none', 'normalize': False, 'ICM_weight': 5}\n",
      "ItemKNN_CFCBF_HybridRecommender: URM Detected 1 ( 0.0%) items with no interactions.\n",
      "ItemKNN_CFCBF_HybridRecommender: ICM Detected 559 ( 3.1%) items with no features.\n",
      "Similarity column 18059 (100.0%), 1638.08 column/sec. Elapsed time 11.02 sec\n",
      "EvaluatorHoldout: Processed 13644 (100.0%) in 21.58 sec. Users per second: 632\n",
      "SearchBayesianSkopt: Config 90 is suboptimal. Config: {'shrink': 10, 'topK': 200, 'feature_weighting': 'none', 'normalize': False, 'ICM_weight': 5} - results: PRECISION: 0.3030343, PRECISION_RECALL_MIN_DEN: 0.3042387, RECALL: 0.0497019, MAP: 0.1831109, MAP_MIN_DEN: 0.1837399, MRR: 0.6005172, NDCG: 0.3290177, F1: 0.0853974, HIT_RATE: 0.9215773, ARHR_ALL_HITS: 1.0303614, NOVELTY: 0.0051612, AVERAGE_POPULARITY: 0.7414190, DIVERSITY_MEAN_INTER_LIST: 0.6335446, DIVERSITY_HERFINDAHL: 0.9633498, COVERAGE_ITEM: 0.0138989, COVERAGE_ITEM_CORRECT: 0.0048729, COVERAGE_USER: 0.9995604, COVERAGE_USER_CORRECT: 0.9211722, DIVERSITY_GINI: 0.0014427, SHANNON_ENTROPY: 4.9703105, RATIO_DIVERSITY_HERFINDAHL: 0.9637219, RATIO_DIVERSITY_GINI: 0.0058197, RATIO_SHANNON_ENTROPY: 0.4011670, RATIO_AVERAGE_POPULARITY: 3.6593558, RATIO_NOVELTY: 0.0242847, \n",
      "\n",
      "Iteration No: 91 ended. Search finished for the next optimal point.\n",
      "Time taken: 34.3247\n",
      "Function value obtained: -0.1831\n",
      "Current minimum: -0.2106\n",
      "Iteration No: 92 started. Searching for the next optimal point.\n",
      "SearchBayesianSkopt: Testing config: {'shrink': 319, 'topK': 200, 'feature_weighting': 'none', 'normalize': True, 'ICM_weight': 5}\n",
      "ItemKNN_CFCBF_HybridRecommender: URM Detected 1 ( 0.0%) items with no interactions.\n",
      "ItemKNN_CFCBF_HybridRecommender: ICM Detected 559 ( 3.1%) items with no features.\n",
      "Similarity column 18059 (100.0%), 1596.51 column/sec. Elapsed time 11.31 sec\n",
      "EvaluatorHoldout: Processed 13644 (100.0%) in 14.68 sec. Users per second: 929\n",
      "SearchBayesianSkopt: Config 91 is suboptimal. Config: {'shrink': 319, 'topK': 200, 'feature_weighting': 'none', 'normalize': True, 'ICM_weight': 5} - results: PRECISION: 0.3427221, PRECISION_RECALL_MIN_DEN: 0.3441561, RECALL: 0.0583455, MAP: 0.2078613, MAP_MIN_DEN: 0.2085380, MRR: 0.6151898, NDCG: 0.3627392, F1: 0.0997153, HIT_RATE: 0.9501612, ARHR_ALL_HITS: 1.1116151, NOVELTY: 0.0052626, AVERAGE_POPULARITY: 0.6794150, DIVERSITY_MEAN_INTER_LIST: 0.7869074, DIVERSITY_HERFINDAHL: 0.9786850, COVERAGE_ITEM: 0.0402569, COVERAGE_ITEM_CORRECT: 0.0211529, COVERAGE_USER: 0.9995604, COVERAGE_USER_CORRECT: 0.9497436, DIVERSITY_GINI: 0.0030814, SHANNON_ENTROPY: 6.1018594, RATIO_DIVERSITY_HERFINDAHL: 0.9790629, RATIO_DIVERSITY_GINI: 0.0124298, RATIO_SHANNON_ENTROPY: 0.4924974, RATIO_AVERAGE_POPULARITY: 3.3533285, RATIO_NOVELTY: 0.0247618, \n",
      "\n",
      "Iteration No: 92 ended. Search finished for the next optimal point.\n",
      "Time taken: 27.6872\n",
      "Function value obtained: -0.2079\n",
      "Current minimum: -0.2106\n",
      "Iteration No: 93 started. Searching for the next optimal point.\n",
      "SearchBayesianSkopt: Testing config: {'shrink': 10, 'topK': 761, 'feature_weighting': 'none', 'normalize': False, 'ICM_weight': 5}\n",
      "ItemKNN_CFCBF_HybridRecommender: URM Detected 1 ( 0.0%) items with no interactions.\n",
      "ItemKNN_CFCBF_HybridRecommender: ICM Detected 559 ( 3.1%) items with no features.\n",
      "Similarity column 18059 (100.0%), 1559.42 column/sec. Elapsed time 11.58 sec\n",
      "EvaluatorHoldout: Processed 13644 (100.0%) in 31.83 sec. Users per second: 429\n",
      "SearchBayesianSkopt: Config 92 is suboptimal. Config: {'shrink': 10, 'topK': 761, 'feature_weighting': 'none', 'normalize': False, 'ICM_weight': 5} - results: PRECISION: 0.2982117, PRECISION_RECALL_MIN_DEN: 0.2993773, RECALL: 0.0485033, MAP: 0.1797971, MAP_MIN_DEN: 0.1804200, MRR: 0.5961676, NDCG: 0.3242231, F1: 0.0834359, HIT_RATE: 0.9175462, ARHR_ALL_HITS: 1.0164365, NOVELTY: 0.0051556, AVERAGE_POPULARITY: 0.7448062, DIVERSITY_MEAN_INTER_LIST: 0.6185562, DIVERSITY_HERFINDAHL: 0.9618511, COVERAGE_ITEM: 0.0084169, COVERAGE_ITEM_CORRECT: 0.0034332, COVERAGE_USER: 0.9995604, COVERAGE_USER_CORRECT: 0.9171429, DIVERSITY_GINI: 0.0013706, SHANNON_ENTROPY: 4.8862863, RATIO_DIVERSITY_HERFINDAHL: 0.9622226, RATIO_DIVERSITY_GINI: 0.0055288, RATIO_SHANNON_ENTROPY: 0.3943852, RATIO_AVERAGE_POPULARITY: 3.6760736, RATIO_NOVELTY: 0.0242583, \n",
      "\n",
      "Iteration No: 93 ended. Search finished for the next optimal point.\n",
      "Time taken: 45.2455\n",
      "Function value obtained: -0.1798\n",
      "Current minimum: -0.2106\n",
      "Iteration No: 94 started. Searching for the next optimal point.\n",
      "SearchBayesianSkopt: Testing config: {'shrink': 299, 'topK': 318, 'feature_weighting': 'none', 'normalize': False, 'ICM_weight': 5}\n",
      "ItemKNN_CFCBF_HybridRecommender: URM Detected 1 ( 0.0%) items with no interactions.\n",
      "ItemKNN_CFCBF_HybridRecommender: ICM Detected 559 ( 3.1%) items with no features.\n",
      "Similarity column 18059 (100.0%), 1615.08 column/sec. Elapsed time 11.18 sec\n",
      "EvaluatorHoldout: Processed 13644 (100.0%) in 24.86 sec. Users per second: 549\n",
      "SearchBayesianSkopt: Config 93 is suboptimal. Config: {'shrink': 299, 'topK': 318, 'feature_weighting': 'none', 'normalize': False, 'ICM_weight': 5} - results: PRECISION: 0.3006889, PRECISION_RECALL_MIN_DEN: 0.3019175, RECALL: 0.0491315, MAP: 0.1813959, MAP_MIN_DEN: 0.1820212, MRR: 0.5973607, NDCG: 0.3264647, F1: 0.0844621, HIT_RATE: 0.9198182, ARHR_ALL_HITS: 1.0222122, NOVELTY: 0.0051589, AVERAGE_POPULARITY: 0.7428744, DIVERSITY_MEAN_INTER_LIST: 0.6256958, DIVERSITY_HERFINDAHL: 0.9625650, COVERAGE_ITEM: 0.0127360, COVERAGE_ITEM_CORRECT: 0.0043746, COVERAGE_USER: 0.9995604, COVERAGE_USER_CORRECT: 0.9194139, DIVERSITY_GINI: 0.0014097, SHANNON_ENTROPY: 4.9328679, RATIO_DIVERSITY_HERFINDAHL: 0.9629367, RATIO_DIVERSITY_GINI: 0.0056866, RATIO_SHANNON_ENTROPY: 0.3981449, RATIO_AVERAGE_POPULARITY: 3.6665394, RATIO_NOVELTY: 0.0242735, \n",
      "\n",
      "Iteration No: 94 ended. Search finished for the next optimal point.\n",
      "Time taken: 37.9015\n",
      "Function value obtained: -0.1814\n",
      "Current minimum: -0.2106\n",
      "Iteration No: 95 started. Searching for the next optimal point.\n",
      "SearchBayesianSkopt: Testing config: {'shrink': 220, 'topK': 200, 'feature_weighting': 'TF-IDF', 'normalize': True, 'ICM_weight': 323}\n",
      "ItemKNN_CFCBF_HybridRecommender: URM Detected 1 ( 0.0%) items with no interactions.\n",
      "ItemKNN_CFCBF_HybridRecommender: ICM Detected 559 ( 3.1%) items with no features.\n",
      "Similarity column 18059 (100.0%), 1601.04 column/sec. Elapsed time 11.28 sec\n",
      "EvaluatorHoldout: Processed 13644 (100.0%) in 9.13 sec. Users per second: 1494\n",
      "SearchBayesianSkopt: Config 94 is suboptimal. Config: {'shrink': 220, 'topK': 200, 'feature_weighting': 'TF-IDF', 'normalize': True, 'ICM_weight': 323} - results: PRECISION: 0.3443931, PRECISION_RECALL_MIN_DEN: 0.3457952, RECALL: 0.0585183, MAP: 0.2074388, MAP_MIN_DEN: 0.2079727, MRR: 0.6091736, NDCG: 0.3623511, F1: 0.1000384, HIT_RATE: 0.9519936, ARHR_ALL_HITS: 1.1054433, NOVELTY: 0.0053156, AVERAGE_POPULARITY: 0.6553920, DIVERSITY_MEAN_INTER_LIST: 0.8181640, DIVERSITY_HERFINDAHL: 0.9818104, COVERAGE_ITEM: 0.0555402, COVERAGE_ITEM_CORRECT: 0.0256936, COVERAGE_USER: 0.9995604, COVERAGE_USER_CORRECT: 0.9515751, DIVERSITY_GINI: 0.0039554, SHANNON_ENTROPY: 6.4165766, RATIO_DIVERSITY_HERFINDAHL: 0.9821896, RATIO_DIVERSITY_GINI: 0.0159555, RATIO_SHANNON_ENTROPY: 0.5178990, RATIO_AVERAGE_POPULARITY: 3.2347600, RATIO_NOVELTY: 0.0250110, \n",
      "\n"
     ]
    },
    {
     "name": "stdout",
     "output_type": "stream",
     "text": [
      "Iteration No: 95 ended. Search finished for the next optimal point.\n",
      "Time taken: 22.3650\n",
      "Function value obtained: -0.2074\n",
      "Current minimum: -0.2106\n",
      "Iteration No: 96 started. Searching for the next optimal point.\n",
      "SearchBayesianSkopt: Testing config: {'shrink': 10, 'topK': 200, 'feature_weighting': 'TF-IDF', 'normalize': True, 'ICM_weight': 125}\n",
      "ItemKNN_CFCBF_HybridRecommender: URM Detected 1 ( 0.0%) items with no interactions.\n",
      "ItemKNN_CFCBF_HybridRecommender: ICM Detected 559 ( 3.1%) items with no features.\n",
      "Similarity column 18059 (100.0%), 1623.96 column/sec. Elapsed time 11.12 sec\n",
      "EvaluatorHoldout: Processed 13644 (100.0%) in 10.33 sec. Users per second: 1321\n",
      "SearchBayesianSkopt: New best config found. Config 95: {'shrink': 10, 'topK': 200, 'feature_weighting': 'TF-IDF', 'normalize': True, 'ICM_weight': 125} - results: PRECISION: 0.3492891, PRECISION_RECALL_MIN_DEN: 0.3507272, RECALL: 0.0597495, MAP: 0.2116945, MAP_MIN_DEN: 0.2122831, MRR: 0.6143607, NDCG: 0.3676197, F1: 0.1020435, HIT_RATE: 0.9543389, ARHR_ALL_HITS: 1.1215046, NOVELTY: 0.0053230, AVERAGE_POPULARITY: 0.6537980, DIVERSITY_MEAN_INTER_LIST: 0.8170853, DIVERSITY_HERFINDAHL: 0.9817025, COVERAGE_ITEM: 0.0574783, COVERAGE_ITEM_CORRECT: 0.0272994, COVERAGE_USER: 0.9995604, COVERAGE_USER_CORRECT: 0.9539194, DIVERSITY_GINI: 0.0040737, SHANNON_ENTROPY: 6.4369008, RATIO_DIVERSITY_HERFINDAHL: 0.9820817, RATIO_DIVERSITY_GINI: 0.0164328, RATIO_SHANNON_ENTROPY: 0.5195394, RATIO_AVERAGE_POPULARITY: 3.2268928, RATIO_NOVELTY: 0.0250456, \n",
      "\n",
      "SearchBayesianSkopt: Saving model in ../result_experiments/6_Hybrid_ItemKNNItemKNN_CFCBF_HybridRecommender\n",
      "\n",
      "ItemKNN_CFCBF_HybridRecommender: Saving model in file '../result_experiments/6_Hybrid_ItemKNNItemKNN_CFCBF_HybridRecommender_best_model'\n",
      "ItemKNN_CFCBF_HybridRecommender: Saving complete\n",
      "Iteration No: 96 ended. Search finished for the next optimal point.\n",
      "Time taken: 25.6136\n",
      "Function value obtained: -0.2117\n",
      "Current minimum: -0.2117\n",
      "Iteration No: 97 started. Searching for the next optimal point.\n",
      "SearchBayesianSkopt: Testing config: {'shrink': 156, 'topK': 200, 'feature_weighting': 'TF-IDF', 'normalize': True, 'ICM_weight': 106}\n",
      "ItemKNN_CFCBF_HybridRecommender: URM Detected 1 ( 0.0%) items with no interactions.\n",
      "ItemKNN_CFCBF_HybridRecommender: ICM Detected 559 ( 3.1%) items with no features.\n",
      "Similarity column 18059 (100.0%), 1613.64 column/sec. Elapsed time 11.19 sec\n",
      "EvaluatorHoldout: Processed 13644 (100.0%) in 11.01 sec. Users per second: 1239\n",
      "SearchBayesianSkopt: Config 96 is suboptimal. Config: {'shrink': 156, 'topK': 200, 'feature_weighting': 'TF-IDF', 'normalize': True, 'ICM_weight': 106} - results: PRECISION: 0.3490545, PRECISION_RECALL_MIN_DEN: 0.3505341, RECALL: 0.0598377, MAP: 0.2115616, MAP_MIN_DEN: 0.2121777, MRR: 0.6154959, NDCG: 0.3677263, F1: 0.1021620, HIT_RATE: 0.9541923, ARHR_ALL_HITS: 1.1225600, NOVELTY: 0.0053200, AVERAGE_POPULARITY: 0.6549375, DIVERSITY_MEAN_INTER_LIST: 0.8157654, DIVERSITY_HERFINDAHL: 0.9815706, COVERAGE_ITEM: 0.0561493, COVERAGE_ITEM_CORRECT: 0.0276317, COVERAGE_USER: 0.9995604, COVERAGE_USER_CORRECT: 0.9537729, DIVERSITY_GINI: 0.0040345, SHANNON_ENTROPY: 6.4243287, RATIO_DIVERSITY_HERFINDAHL: 0.9819496, RATIO_DIVERSITY_GINI: 0.0162746, RATIO_SHANNON_ENTROPY: 0.5185247, RATIO_AVERAGE_POPULARITY: 3.2325168, RATIO_NOVELTY: 0.0250319, \n",
      "\n",
      "Iteration No: 97 ended. Search finished for the next optimal point.\n",
      "Time taken: 24.2174\n",
      "Function value obtained: -0.2116\n",
      "Current minimum: -0.2117\n",
      "Iteration No: 98 started. Searching for the next optimal point.\n",
      "SearchBayesianSkopt: Testing config: {'shrink': 172, 'topK': 200, 'feature_weighting': 'TF-IDF', 'normalize': True, 'ICM_weight': 117}\n",
      "ItemKNN_CFCBF_HybridRecommender: URM Detected 1 ( 0.0%) items with no interactions.\n",
      "ItemKNN_CFCBF_HybridRecommender: ICM Detected 559 ( 3.1%) items with no features.\n",
      "Similarity column 18059 (100.0%), 1628.14 column/sec. Elapsed time 11.09 sec\n",
      "EvaluatorHoldout: Processed 13644 (100.0%) in 10.82 sec. Users per second: 1261\n",
      "SearchBayesianSkopt: Config 97 is suboptimal. Config: {'shrink': 172, 'topK': 200, 'feature_weighting': 'TF-IDF', 'normalize': True, 'ICM_weight': 117} - results: PRECISION: 0.3489079, PRECISION_RECALL_MIN_DEN: 0.3503684, RECALL: 0.0597683, MAP: 0.2115830, MAP_MIN_DEN: 0.2121799, MRR: 0.6149375, NDCG: 0.3675832, F1: 0.1020546, HIT_RATE: 0.9543389, ARHR_ALL_HITS: 1.1221885, NOVELTY: 0.0053204, AVERAGE_POPULARITY: 0.6547544, DIVERSITY_MEAN_INTER_LIST: 0.8160553, DIVERSITY_HERFINDAHL: 0.9815996, COVERAGE_ITEM: 0.0563154, COVERAGE_ITEM_CORRECT: 0.0272440, COVERAGE_USER: 0.9995604, COVERAGE_USER_CORRECT: 0.9539194, DIVERSITY_GINI: 0.0040380, SHANNON_ENTROPY: 6.4261026, RATIO_DIVERSITY_HERFINDAHL: 0.9819786, RATIO_DIVERSITY_GINI: 0.0162887, RATIO_SHANNON_ENTROPY: 0.5186679, RATIO_AVERAGE_POPULARITY: 3.2316131, RATIO_NOVELTY: 0.0250336, \n",
      "\n",
      "Iteration No: 98 ended. Search finished for the next optimal point.\n",
      "Time taken: 23.9149\n",
      "Function value obtained: -0.2116\n",
      "Current minimum: -0.2117\n",
      "Iteration No: 99 started. Searching for the next optimal point.\n",
      "SearchBayesianSkopt: Testing config: {'shrink': 124, 'topK': 200, 'feature_weighting': 'TF-IDF', 'normalize': True, 'ICM_weight': 87}\n",
      "ItemKNN_CFCBF_HybridRecommender: URM Detected 1 ( 0.0%) items with no interactions.\n",
      "ItemKNN_CFCBF_HybridRecommender: ICM Detected 559 ( 3.1%) items with no features.\n",
      "Similarity column 18059 (100.0%), 1598.07 column/sec. Elapsed time 11.30 sec\n",
      "EvaluatorHoldout: Processed 13644 (100.0%) in 11.30 sec. Users per second: 1207\n",
      "SearchBayesianSkopt: Config 98 is suboptimal. Config: {'shrink': 124, 'topK': 200, 'feature_weighting': 'TF-IDF', 'normalize': True, 'ICM_weight': 87} - results: PRECISION: 0.3489959, PRECISION_RECALL_MIN_DEN: 0.3505309, RECALL: 0.0598817, MAP: 0.2115505, MAP_MIN_DEN: 0.2121630, MRR: 0.6154994, NDCG: 0.3677136, F1: 0.1022236, HIT_RATE: 0.9542656, ARHR_ALL_HITS: 1.1225799, NOVELTY: 0.0053200, AVERAGE_POPULARITY: 0.6549481, DIVERSITY_MEAN_INTER_LIST: 0.8156899, DIVERSITY_HERFINDAHL: 0.9815630, COVERAGE_ITEM: 0.0547096, COVERAGE_ITEM_CORRECT: 0.0275763, COVERAGE_USER: 0.9995604, COVERAGE_USER_CORRECT: 0.9538462, DIVERSITY_GINI: 0.0040275, SHANNON_ENTROPY: 6.4250017, RATIO_DIVERSITY_HERFINDAHL: 0.9819421, RATIO_DIVERSITY_GINI: 0.0162464, RATIO_SHANNON_ENTROPY: 0.5185790, RATIO_AVERAGE_POPULARITY: 3.2325689, RATIO_NOVELTY: 0.0250317, \n",
      "\n",
      "Iteration No: 99 ended. Search finished for the next optimal point.\n",
      "Time taken: 24.6259\n",
      "Function value obtained: -0.2116\n",
      "Current minimum: -0.2117\n",
      "Iteration No: 100 started. Searching for the next optimal point.\n",
      "SearchBayesianSkopt: Testing config: {'shrink': 132, 'topK': 200, 'feature_weighting': 'TF-IDF', 'normalize': True, 'ICM_weight': 104}\n",
      "ItemKNN_CFCBF_HybridRecommender: URM Detected 1 ( 0.0%) items with no interactions.\n",
      "ItemKNN_CFCBF_HybridRecommender: ICM Detected 559 ( 3.1%) items with no features.\n",
      "Similarity column 18059 (100.0%), 1610.59 column/sec. Elapsed time 11.21 sec\n",
      "EvaluatorHoldout: Processed 13644 (100.0%) in 10.97 sec. Users per second: 1244\n",
      "SearchBayesianSkopt: Config 99 is suboptimal. Config: {'shrink': 132, 'topK': 200, 'feature_weighting': 'TF-IDF', 'normalize': True, 'ICM_weight': 104} - results: PRECISION: 0.3490032, PRECISION_RECALL_MIN_DEN: 0.3504891, RECALL: 0.0598549, MAP: 0.2114739, MAP_MIN_DEN: 0.2120905, MRR: 0.6155810, NDCG: 0.3676855, F1: 0.1021849, HIT_RATE: 0.9546321, ARHR_ALL_HITS: 1.1224718, NOVELTY: 0.0053206, AVERAGE_POPULARITY: 0.6547999, DIVERSITY_MEAN_INTER_LIST: 0.8158524, DIVERSITY_HERFINDAHL: 0.9815793, COVERAGE_ITEM: 0.0564815, COVERAGE_ITEM_CORRECT: 0.0276870, COVERAGE_USER: 0.9995604, COVERAGE_USER_CORRECT: 0.9542125, DIVERSITY_GINI: 0.0040441, SHANNON_ENTROPY: 6.4260500, RATIO_DIVERSITY_HERFINDAHL: 0.9819583, RATIO_DIVERSITY_GINI: 0.0163132, RATIO_SHANNON_ENTROPY: 0.5186636, RATIO_AVERAGE_POPULARITY: 3.2318378, RATIO_NOVELTY: 0.0250345, \n",
      "\n",
      "Iteration No: 100 ended. Search finished for the next optimal point.\n",
      "Time taken: 24.1474\n",
      "Function value obtained: -0.2115\n",
      "Current minimum: -0.2117\n",
      "Iteration No: 101 started. Searching for the next optimal point.\n",
      "SearchBayesianSkopt: Testing config: {'shrink': 187, 'topK': 200, 'feature_weighting': 'TF-IDF', 'normalize': True, 'ICM_weight': 90}\n",
      "ItemKNN_CFCBF_HybridRecommender: URM Detected 1 ( 0.0%) items with no interactions.\n",
      "ItemKNN_CFCBF_HybridRecommender: ICM Detected 559 ( 3.1%) items with no features.\n"
     ]
    },
    {
     "name": "stdout",
     "output_type": "stream",
     "text": [
      "Similarity column 18059 (100.0%), 1614.21 column/sec. Elapsed time 11.19 sec\n",
      "EvaluatorHoldout: Processed 13644 (100.0%) in 11.40 sec. Users per second: 1196\n",
      "SearchBayesianSkopt: Config 100 is suboptimal. Config: {'shrink': 187, 'topK': 200, 'feature_weighting': 'TF-IDF', 'normalize': True, 'ICM_weight': 90} - results: PRECISION: 0.3490032, PRECISION_RECALL_MIN_DEN: 0.3505404, RECALL: 0.0598888, MAP: 0.2116188, MAP_MIN_DEN: 0.2122387, MRR: 0.6159609, NDCG: 0.3678058, F1: 0.1022342, HIT_RATE: 0.9541923, ARHR_ALL_HITS: 1.1230760, NOVELTY: 0.0053183, AVERAGE_POPULARITY: 0.6554344, DIVERSITY_MEAN_INTER_LIST: 0.8151881, DIVERSITY_HERFINDAHL: 0.9815128, COVERAGE_ITEM: 0.0542666, COVERAGE_ITEM_CORRECT: 0.0271887, COVERAGE_USER: 0.9995604, COVERAGE_USER_CORRECT: 0.9537729, DIVERSITY_GINI: 0.0040055, SHANNON_ENTROPY: 6.4188211, RATIO_DIVERSITY_HERFINDAHL: 0.9818919, RATIO_DIVERSITY_GINI: 0.0161576, RATIO_SHANNON_ENTROPY: 0.5180802, RATIO_AVERAGE_POPULARITY: 3.2349695, RATIO_NOVELTY: 0.0250237, \n",
      "\n",
      "Iteration No: 101 ended. Search finished for the next optimal point.\n",
      "Time taken: 24.7415\n",
      "Function value obtained: -0.2116\n",
      "Current minimum: -0.2117\n",
      "Iteration No: 102 started. Searching for the next optimal point.\n",
      "SearchBayesianSkopt: Testing config: {'shrink': 500, 'topK': 280, 'feature_weighting': 'TF-IDF', 'normalize': True, 'ICM_weight': 288}\n",
      "ItemKNN_CFCBF_HybridRecommender: URM Detected 1 ( 0.0%) items with no interactions.\n",
      "ItemKNN_CFCBF_HybridRecommender: ICM Detected 559 ( 3.1%) items with no features.\n",
      "Similarity column 18059 (100.0%), 1595.81 column/sec. Elapsed time 11.32 sec\n",
      "EvaluatorHoldout: Processed 13644 (100.0%) in 10.42 sec. Users per second: 1310\n",
      "SearchBayesianSkopt: Config 101 is suboptimal. Config: {'shrink': 500, 'topK': 280, 'feature_weighting': 'TF-IDF', 'normalize': True, 'ICM_weight': 288} - results: PRECISION: 0.3432864, PRECISION_RECALL_MIN_DEN: 0.3446104, RECALL: 0.0582269, MAP: 0.2071628, MAP_MIN_DEN: 0.2077164, MRR: 0.6122361, NDCG: 0.3620570, F1: 0.0995658, HIT_RATE: 0.9506743, ARHR_ALL_HITS: 1.1067710, NOVELTY: 0.0053032, AVERAGE_POPULARITY: 0.6642360, DIVERSITY_MEAN_INTER_LIST: 0.8019496, DIVERSITY_HERFINDAHL: 0.9801891, COVERAGE_ITEM: 0.0532145, COVERAGE_ITEM_CORRECT: 0.0254167, COVERAGE_USER: 0.9995604, COVERAGE_USER_CORRECT: 0.9502564, DIVERSITY_GINI: 0.0035848, SHANNON_ENTROPY: 6.2677903, RATIO_DIVERSITY_HERFINDAHL: 0.9805676, RATIO_DIVERSITY_GINI: 0.0144607, RATIO_SHANNON_ENTROPY: 0.5058901, RATIO_AVERAGE_POPULARITY: 3.2784106, RATIO_NOVELTY: 0.0249526, \n",
      "\n",
      "Iteration No: 102 ended. Search finished for the next optimal point.\n",
      "Time taken: 23.9693\n",
      "Function value obtained: -0.2072\n",
      "Current minimum: -0.2117\n",
      "Iteration No: 103 started. Searching for the next optimal point.\n",
      "SearchBayesianSkopt: Testing config: {'shrink': 109, 'topK': 388, 'feature_weighting': 'TF-IDF', 'normalize': True, 'ICM_weight': 115}\n",
      "ItemKNN_CFCBF_HybridRecommender: URM Detected 1 ( 0.0%) items with no interactions.\n",
      "ItemKNN_CFCBF_HybridRecommender: ICM Detected 559 ( 3.1%) items with no features.\n",
      "Similarity column 18059 (100.0%), 1588.79 column/sec. Elapsed time 11.37 sec\n",
      "EvaluatorHoldout: Processed 13644 (100.0%) in 12.84 sec. Users per second: 1062\n",
      "SearchBayesianSkopt: Config 102 is suboptimal. Config: {'shrink': 109, 'topK': 388, 'feature_weighting': 'TF-IDF', 'normalize': True, 'ICM_weight': 115} - results: PRECISION: 0.3438288, PRECISION_RECALL_MIN_DEN: 0.3452594, RECALL: 0.0583725, MAP: 0.2095813, MAP_MIN_DEN: 0.2101508, MRR: 0.6174260, NDCG: 0.3644565, F1: 0.0998015, HIT_RATE: 0.9498681, ARHR_ALL_HITS: 1.1186552, NOVELTY: 0.0053019, AVERAGE_POPULARITY: 0.6694814, DIVERSITY_MEAN_INTER_LIST: 0.7895237, DIVERSITY_HERFINDAHL: 0.9789466, COVERAGE_ITEM: 0.0493383, COVERAGE_ITEM_CORRECT: 0.0231464, COVERAGE_USER: 0.9995604, COVERAGE_USER_CORRECT: 0.9494505, DIVERSITY_GINI: 0.0033279, SHANNON_ENTROPY: 6.1657737, RATIO_DIVERSITY_HERFINDAHL: 0.9793247, RATIO_DIVERSITY_GINI: 0.0134244, RATIO_SHANNON_ENTROPY: 0.4976561, RATIO_AVERAGE_POPULARITY: 3.3042997, RATIO_NOVELTY: 0.0249467, \n",
      "\n",
      "Iteration No: 103 ended. Search finished for the next optimal point.\n",
      "Time taken: 26.4369\n",
      "Function value obtained: -0.2096\n",
      "Current minimum: -0.2117\n",
      "Iteration No: 104 started. Searching for the next optimal point.\n",
      "SearchBayesianSkopt: Testing config: {'shrink': 328, 'topK': 263, 'feature_weighting': 'TF-IDF', 'normalize': True, 'ICM_weight': 104}\n",
      "ItemKNN_CFCBF_HybridRecommender: URM Detected 1 ( 0.0%) items with no interactions.\n",
      "ItemKNN_CFCBF_HybridRecommender: ICM Detected 559 ( 3.1%) items with no features.\n",
      "Similarity column 18059 (100.0%), 1600.21 column/sec. Elapsed time 11.29 sec\n",
      "EvaluatorHoldout: Processed 13644 (100.0%) in 12.31 sec. Users per second: 1108\n",
      "SearchBayesianSkopt: Config 103 is suboptimal. Config: {'shrink': 328, 'topK': 263, 'feature_weighting': 'TF-IDF', 'normalize': True, 'ICM_weight': 104} - results: PRECISION: 0.3456758, PRECISION_RECALL_MIN_DEN: 0.3471604, RECALL: 0.0591686, MAP: 0.2099979, MAP_MIN_DEN: 0.2106572, MRR: 0.6178100, NDCG: 0.3657339, F1: 0.1010420, HIT_RATE: 0.9531662, ARHR_ALL_HITS: 1.1202621, NOVELTY: 0.0053066, AVERAGE_POPULARITY: 0.6626792, DIVERSITY_MEAN_INTER_LIST: 0.8014357, DIVERSITY_HERFINDAHL: 0.9801377, COVERAGE_ITEM: 0.0512764, COVERAGE_ITEM_CORRECT: 0.0260258, COVERAGE_USER: 0.9995604, COVERAGE_USER_CORRECT: 0.9527473, DIVERSITY_GINI: 0.0036447, SHANNON_ENTROPY: 6.2912073, RATIO_DIVERSITY_HERFINDAHL: 0.9805162, RATIO_DIVERSITY_GINI: 0.0147021, RATIO_SHANNON_ENTROPY: 0.5077801, RATIO_AVERAGE_POPULARITY: 3.2707266, RATIO_NOVELTY: 0.0249688, \n",
      "\n",
      "Iteration No: 104 ended. Search finished for the next optimal point.\n",
      "Time taken: 25.7562\n",
      "Function value obtained: -0.2100\n",
      "Current minimum: -0.2117\n",
      "Iteration No: 105 started. Searching for the next optimal point.\n",
      "SearchBayesianSkopt: Testing config: {'shrink': 467, 'topK': 207, 'feature_weighting': 'TF-IDF', 'normalize': True, 'ICM_weight': 96}\n",
      "ItemKNN_CFCBF_HybridRecommender: URM Detected 1 ( 0.0%) items with no interactions.\n",
      "ItemKNN_CFCBF_HybridRecommender: ICM Detected 559 ( 3.1%) items with no features.\n",
      "Similarity column 18059 (100.0%), 1612.77 column/sec. Elapsed time 11.20 sec\n",
      "EvaluatorHoldout: Processed 13644 (100.0%) in 12.03 sec. Users per second: 1134\n",
      "SearchBayesianSkopt: Config 104 is suboptimal. Config: {'shrink': 467, 'topK': 207, 'feature_weighting': 'TF-IDF', 'normalize': True, 'ICM_weight': 96} - results: PRECISION: 0.3485708, PRECISION_RECALL_MIN_DEN: 0.3501777, RECALL: 0.0597796, MAP: 0.2115714, MAP_MIN_DEN: 0.2122964, MRR: 0.6171967, NDCG: 0.3677258, F1: 0.1020566, HIT_RATE: 0.9533861, ARHR_ALL_HITS: 1.1234472, NOVELTY: 0.0053117, AVERAGE_POPULARITY: 0.6579465, DIVERSITY_MEAN_INTER_LIST: 0.8117251, DIVERSITY_HERFINDAHL: 0.9811666, COVERAGE_ITEM: 0.0529930, COVERAGE_ITEM_CORRECT: 0.0272440, COVERAGE_USER: 0.9995604, COVERAGE_USER_CORRECT: 0.9529670, DIVERSITY_GINI: 0.0038963, SHANNON_ENTROPY: 6.3837241, RATIO_DIVERSITY_HERFINDAHL: 0.9815455, RATIO_DIVERSITY_GINI: 0.0157171, RATIO_SHANNON_ENTROPY: 0.5152474, RATIO_AVERAGE_POPULARITY: 3.2473682, RATIO_NOVELTY: 0.0249928, \n",
      "\n",
      "Iteration No: 105 ended. Search finished for the next optimal point.\n",
      "Time taken: 25.3057\n",
      "Function value obtained: -0.2116\n",
      "Current minimum: -0.2117\n",
      "Iteration No: 106 started. Searching for the next optimal point.\n",
      "SearchBayesianSkopt: Testing config: {'shrink': 292, 'topK': 200, 'feature_weighting': 'TF-IDF', 'normalize': True, 'ICM_weight': 98}\n",
      "ItemKNN_CFCBF_HybridRecommender: URM Detected 1 ( 0.0%) items with no interactions.\n",
      "ItemKNN_CFCBF_HybridRecommender: ICM Detected 559 ( 3.1%) items with no features.\n",
      "Similarity column 18059 (100.0%), 1611.57 column/sec. Elapsed time 11.21 sec\n",
      "EvaluatorHoldout: Processed 13644 (100.0%) in 11.52 sec. Users per second: 1184\n",
      "SearchBayesianSkopt: Config 105 is suboptimal. Config: {'shrink': 292, 'topK': 200, 'feature_weighting': 'TF-IDF', 'normalize': True, 'ICM_weight': 98} - results: PRECISION: 0.3489812, PRECISION_RECALL_MIN_DEN: 0.3505278, RECALL: 0.0598839, MAP: 0.2115586, MAP_MIN_DEN: 0.2121841, MRR: 0.6160984, NDCG: 0.3678321, F1: 0.1022262, HIT_RATE: 0.9541190, ARHR_ALL_HITS: 1.1232714, NOVELTY: 0.0053165, AVERAGE_POPULARITY: 0.6560113, DIVERSITY_MEAN_INTER_LIST: 0.8145428, DIVERSITY_HERFINDAHL: 0.9814483, COVERAGE_ITEM: 0.0548203, COVERAGE_ITEM_CORRECT: 0.0275209, COVERAGE_USER: 0.9995604, COVERAGE_USER_CORRECT: 0.9536996, DIVERSITY_GINI: 0.0039898, SHANNON_ENTROPY: 6.4122981, RATIO_DIVERSITY_HERFINDAHL: 0.9818273, RATIO_DIVERSITY_GINI: 0.0160944, RATIO_SHANNON_ENTROPY: 0.5175537, RATIO_AVERAGE_POPULARITY: 3.2378166, RATIO_NOVELTY: 0.0250153, \n",
      "\n"
     ]
    },
    {
     "name": "stdout",
     "output_type": "stream",
     "text": [
      "Iteration No: 106 ended. Search finished for the next optimal point.\n",
      "Time taken: 24.7454\n",
      "Function value obtained: -0.2116\n",
      "Current minimum: -0.2117\n",
      "Iteration No: 107 started. Searching for the next optimal point.\n",
      "SearchBayesianSkopt: Testing config: {'shrink': 500, 'topK': 200, 'feature_weighting': 'TF-IDF', 'normalize': True, 'ICM_weight': 89}\n",
      "ItemKNN_CFCBF_HybridRecommender: URM Detected 1 ( 0.0%) items with no interactions.\n",
      "ItemKNN_CFCBF_HybridRecommender: ICM Detected 559 ( 3.1%) items with no features.\n",
      "Similarity column 18059 (100.0%), 1620.59 column/sec. Elapsed time 11.14 sec\n",
      "EvaluatorHoldout: Processed 13644 (100.0%) in 12.13 sec. Users per second: 1124\n",
      "SearchBayesianSkopt: Config 106 is suboptimal. Config: {'shrink': 500, 'topK': 200, 'feature_weighting': 'TF-IDF', 'normalize': True, 'ICM_weight': 89} - results: PRECISION: 0.3492304, PRECISION_RECALL_MIN_DEN: 0.3508339, RECALL: 0.0600899, MAP: 0.2116049, MAP_MIN_DEN: 0.2122620, MRR: 0.6161214, NDCG: 0.3679980, F1: 0.1025369, HIT_RATE: 0.9546321, ARHR_ALL_HITS: 1.1233726, NOVELTY: 0.0053114, AVERAGE_POPULARITY: 0.6575494, DIVERSITY_MEAN_INTER_LIST: 0.8130840, DIVERSITY_HERFINDAHL: 0.9813024, COVERAGE_ITEM: 0.0517747, COVERAGE_ITEM_CORRECT: 0.0276870, COVERAGE_USER: 0.9995604, COVERAGE_USER_CORRECT: 0.9542125, DIVERSITY_GINI: 0.0039058, SHANNON_ENTROPY: 6.3925441, RATIO_DIVERSITY_HERFINDAHL: 0.9816814, RATIO_DIVERSITY_GINI: 0.0157552, RATIO_SHANNON_ENTROPY: 0.5159593, RATIO_AVERAGE_POPULARITY: 3.2454084, RATIO_NOVELTY: 0.0249911, \n",
      "\n",
      "Iteration No: 107 ended. Search finished for the next optimal point.\n",
      "Time taken: 25.3748\n",
      "Function value obtained: -0.2116\n",
      "Current minimum: -0.2117\n",
      "Iteration No: 108 started. Searching for the next optimal point.\n",
      "SearchBayesianSkopt: Testing config: {'shrink': 10, 'topK': 200, 'feature_weighting': 'TF-IDF', 'normalize': True, 'ICM_weight': 108}\n",
      "ItemKNN_CFCBF_HybridRecommender: URM Detected 1 ( 0.0%) items with no interactions.\n",
      "ItemKNN_CFCBF_HybridRecommender: ICM Detected 559 ( 3.1%) items with no features.\n",
      "Similarity column 18059 (100.0%), 1624.67 column/sec. Elapsed time 11.12 sec\n",
      "EvaluatorHoldout: Processed 13644 (100.0%) in 10.60 sec. Users per second: 1288\n",
      "SearchBayesianSkopt: Config 107 is suboptimal. Config: {'shrink': 10, 'topK': 200, 'feature_weighting': 'TF-IDF', 'normalize': True, 'ICM_weight': 108} - results: PRECISION: 0.3489226, PRECISION_RECALL_MIN_DEN: 0.3503999, RECALL: 0.0598052, MAP: 0.2114158, MAP_MIN_DEN: 0.2120192, MRR: 0.6149234, NDCG: 0.3675205, F1: 0.1021090, HIT_RATE: 0.9544855, ARHR_ALL_HITS: 1.1217472, NOVELTY: 0.0053230, AVERAGE_POPULARITY: 0.6540428, DIVERSITY_MEAN_INTER_LIST: 0.8167071, DIVERSITY_HERFINDAHL: 0.9816647, COVERAGE_ITEM: 0.0572568, COVERAGE_ITEM_CORRECT: 0.0273548, COVERAGE_USER: 0.9995604, COVERAGE_USER_CORRECT: 0.9540659, DIVERSITY_GINI: 0.0040693, SHANNON_ENTROPY: 6.4350472, RATIO_DIVERSITY_HERFINDAHL: 0.9820438, RATIO_DIVERSITY_GINI: 0.0164150, RATIO_SHANNON_ENTROPY: 0.5193898, RATIO_AVERAGE_POPULARITY: 3.2281010, RATIO_NOVELTY: 0.0250456, \n",
      "\n",
      "Iteration No: 108 ended. Search finished for the next optimal point.\n",
      "Time taken: 23.7943\n",
      "Function value obtained: -0.2114\n",
      "Current minimum: -0.2117\n",
      "Iteration No: 109 started. Searching for the next optimal point.\n",
      "SearchBayesianSkopt: Testing config: {'shrink': 291, 'topK': 200, 'feature_weighting': 'TF-IDF', 'normalize': True, 'ICM_weight': 109}\n",
      "ItemKNN_CFCBF_HybridRecommender: URM Detected 1 ( 0.0%) items with no interactions.\n",
      "ItemKNN_CFCBF_HybridRecommender: ICM Detected 559 ( 3.1%) items with no features.\n",
      "Similarity column 18059 (100.0%), 1607.46 column/sec. Elapsed time 11.23 sec\n",
      "EvaluatorHoldout: Processed 13644 (100.0%) in 11.18 sec. Users per second: 1220\n",
      "SearchBayesianSkopt: Config 108 is suboptimal. Config: {'shrink': 291, 'topK': 200, 'feature_weighting': 'TF-IDF', 'normalize': True, 'ICM_weight': 109} - results: PRECISION: 0.3490912, PRECISION_RECALL_MIN_DEN: 0.3506348, RECALL: 0.0598894, MAP: 0.2116234, MAP_MIN_DEN: 0.2122386, MRR: 0.6150606, NDCG: 0.3677463, F1: 0.1022389, HIT_RATE: 0.9545588, ARHR_ALL_HITS: 1.1224496, NOVELTY: 0.0053168, AVERAGE_POPULARITY: 0.6558944, DIVERSITY_MEAN_INTER_LIST: 0.8148533, DIVERSITY_HERFINDAHL: 0.9814794, COVERAGE_ITEM: 0.0549311, COVERAGE_ITEM_CORRECT: 0.0272440, COVERAGE_USER: 0.9995604, COVERAGE_USER_CORRECT: 0.9541392, DIVERSITY_GINI: 0.0039910, SHANNON_ENTROPY: 6.4133126, RATIO_DIVERSITY_HERFINDAHL: 0.9818584, RATIO_DIVERSITY_GINI: 0.0160989, RATIO_SHANNON_ENTROPY: 0.5176356, RATIO_AVERAGE_POPULARITY: 3.2372395, RATIO_NOVELTY: 0.0250166, \n",
      "\n",
      "Iteration No: 109 ended. Search finished for the next optimal point.\n",
      "Time taken: 24.5358\n",
      "Function value obtained: -0.2116\n",
      "Current minimum: -0.2117\n",
      "Iteration No: 110 started. Searching for the next optimal point.\n",
      "SearchBayesianSkopt: Testing config: {'shrink': 320, 'topK': 200, 'feature_weighting': 'TF-IDF', 'normalize': True, 'ICM_weight': 106}\n",
      "ItemKNN_CFCBF_HybridRecommender: URM Detected 1 ( 0.0%) items with no interactions.\n",
      "ItemKNN_CFCBF_HybridRecommender: ICM Detected 559 ( 3.1%) items with no features.\n",
      "Similarity column 18059 (100.0%), 1603.46 column/sec. Elapsed time 11.26 sec\n",
      "EvaluatorHoldout: Processed 13644 (100.0%) in 11.32 sec. Users per second: 1205\n",
      "SearchBayesianSkopt: Config 109 is suboptimal. Config: {'shrink': 320, 'topK': 200, 'feature_weighting': 'TF-IDF', 'normalize': True, 'ICM_weight': 106} - results: PRECISION: 0.3490032, PRECISION_RECALL_MIN_DEN: 0.3505630, RECALL: 0.0599342, MAP: 0.2115274, MAP_MIN_DEN: 0.2121543, MRR: 0.6153108, NDCG: 0.3677143, F1: 0.1023004, HIT_RATE: 0.9547787, ARHR_ALL_HITS: 1.1224753, NOVELTY: 0.0053165, AVERAGE_POPULARITY: 0.6560346, DIVERSITY_MEAN_INTER_LIST: 0.8145850, DIVERSITY_HERFINDAHL: 0.9814525, COVERAGE_ITEM: 0.0551526, COVERAGE_ITEM_CORRECT: 0.0275209, COVERAGE_USER: 0.9995604, COVERAGE_USER_CORRECT: 0.9543590, DIVERSITY_GINI: 0.0039868, SHANNON_ENTROPY: 6.4110932, RATIO_DIVERSITY_HERFINDAHL: 0.9818316, RATIO_DIVERSITY_GINI: 0.0160820, RATIO_SHANNON_ENTROPY: 0.5174564, RATIO_AVERAGE_POPULARITY: 3.2379317, RATIO_NOVELTY: 0.0250150, \n",
      "\n",
      "Iteration No: 110 ended. Search finished for the next optimal point.\n",
      "Time taken: 24.8035\n",
      "Function value obtained: -0.2115\n",
      "Current minimum: -0.2117\n",
      "Iteration No: 111 started. Searching for the next optimal point.\n",
      "SearchBayesianSkopt: Testing config: {'shrink': 312, 'topK': 200, 'feature_weighting': 'TF-IDF', 'normalize': True, 'ICM_weight': 110}\n",
      "ItemKNN_CFCBF_HybridRecommender: URM Detected 1 ( 0.0%) items with no interactions.\n",
      "ItemKNN_CFCBF_HybridRecommender: ICM Detected 559 ( 3.1%) items with no features.\n",
      "Similarity column 18059 (100.0%), 1622.48 column/sec. Elapsed time 11.13 sec\n",
      "EvaluatorHoldout: Processed 13644 (100.0%) in 11.27 sec. Users per second: 1210\n",
      "SearchBayesianSkopt: Config 110 is suboptimal. Config: {'shrink': 312, 'topK': 200, 'feature_weighting': 'TF-IDF', 'normalize': True, 'ICM_weight': 110} - results: PRECISION: 0.3490106, PRECISION_RECALL_MIN_DEN: 0.3505542, RECALL: 0.0598911, MAP: 0.2115287, MAP_MIN_DEN: 0.2121441, MRR: 0.6150892, NDCG: 0.3676748, F1: 0.1022379, HIT_RATE: 0.9549252, ARHR_ALL_HITS: 1.1222617, NOVELTY: 0.0053166, AVERAGE_POPULARITY: 0.6560059, DIVERSITY_MEAN_INTER_LIST: 0.8146908, DIVERSITY_HERFINDAHL: 0.9814631, COVERAGE_ITEM: 0.0550418, COVERAGE_ITEM_CORRECT: 0.0275209, COVERAGE_USER: 0.9995604, COVERAGE_USER_CORRECT: 0.9545055, DIVERSITY_GINI: 0.0039869, SHANNON_ENTROPY: 6.4117190, RATIO_DIVERSITY_HERFINDAHL: 0.9818422, RATIO_DIVERSITY_GINI: 0.0160824, RATIO_SHANNON_ENTROPY: 0.5175069, RATIO_AVERAGE_POPULARITY: 3.2377900, RATIO_NOVELTY: 0.0250155, \n",
      "\n",
      "Iteration No: 111 ended. Search finished for the next optimal point.\n",
      "Time taken: 24.6246\n",
      "Function value obtained: -0.2115\n",
      "Current minimum: -0.2117\n",
      "Iteration No: 112 started. Searching for the next optimal point.\n",
      "SearchBayesianSkopt: Testing config: {'shrink': 189, 'topK': 200, 'feature_weighting': 'TF-IDF', 'normalize': True, 'ICM_weight': 104}\n",
      "ItemKNN_CFCBF_HybridRecommender: URM Detected 1 ( 0.0%) items with no interactions.\n",
      "ItemKNN_CFCBF_HybridRecommender: ICM Detected 559 ( 3.1%) items with no features.\n",
      "Similarity column 18059 (100.0%), 1602.47 column/sec. Elapsed time 11.27 sec\n",
      "EvaluatorHoldout: Processed 13644 (100.0%) in 11.07 sec. Users per second: 1232\n"
     ]
    },
    {
     "name": "stdout",
     "output_type": "stream",
     "text": [
      "SearchBayesianSkopt: Config 111 is suboptimal. Config: {'shrink': 189, 'topK': 200, 'feature_weighting': 'TF-IDF', 'normalize': True, 'ICM_weight': 104} - results: PRECISION: 0.3486954, PRECISION_RECALL_MIN_DEN: 0.3502404, RECALL: 0.0598219, MAP: 0.2115230, MAP_MIN_DEN: 0.2121451, MRR: 0.6163902, NDCG: 0.3677113, F1: 0.1021235, HIT_RATE: 0.9541923, ARHR_ALL_HITS: 1.1233696, NOVELTY: 0.0053193, AVERAGE_POPULARITY: 0.6551433, DIVERSITY_MEAN_INTER_LIST: 0.8154891, DIVERSITY_HERFINDAHL: 0.9815429, COVERAGE_ITEM: 0.0555402, COVERAGE_ITEM_CORRECT: 0.0276870, COVERAGE_USER: 0.9995604, COVERAGE_USER_CORRECT: 0.9537729, DIVERSITY_GINI: 0.0040230, SHANNON_ENTROPY: 6.4216592, RATIO_DIVERSITY_HERFINDAHL: 0.9819220, RATIO_DIVERSITY_GINI: 0.0162283, RATIO_SHANNON_ENTROPY: 0.5183092, RATIO_AVERAGE_POPULARITY: 3.2335324, RATIO_NOVELTY: 0.0250283, \n",
      "\n",
      "Iteration No: 112 ended. Search finished for the next optimal point.\n",
      "Time taken: 24.5395\n",
      "Function value obtained: -0.2115\n",
      "Current minimum: -0.2117\n",
      "Iteration No: 113 started. Searching for the next optimal point.\n",
      "SearchBayesianSkopt: Testing config: {'shrink': 295, 'topK': 200, 'feature_weighting': 'TF-IDF', 'normalize': True, 'ICM_weight': 104}\n",
      "ItemKNN_CFCBF_HybridRecommender: URM Detected 1 ( 0.0%) items with no interactions.\n",
      "ItemKNN_CFCBF_HybridRecommender: ICM Detected 559 ( 3.1%) items with no features.\n",
      "Similarity column 18059 (100.0%), 1603.89 column/sec. Elapsed time 11.26 sec\n",
      "EvaluatorHoldout: Processed 13644 (100.0%) in 11.29 sec. Users per second: 1208\n",
      "SearchBayesianSkopt: Config 112 is suboptimal. Config: {'shrink': 295, 'topK': 200, 'feature_weighting': 'TF-IDF', 'normalize': True, 'ICM_weight': 104} - results: PRECISION: 0.3488053, PRECISION_RECALL_MIN_DEN: 0.3503633, RECALL: 0.0598991, MAP: 0.2115168, MAP_MIN_DEN: 0.2121457, MRR: 0.6162104, NDCG: 0.3677476, F1: 0.1022408, HIT_RATE: 0.9544122, ARHR_ALL_HITS: 1.1232287, NOVELTY: 0.0053170, AVERAGE_POPULARITY: 0.6558309, DIVERSITY_MEAN_INTER_LIST: 0.8147648, DIVERSITY_HERFINDAHL: 0.9814705, COVERAGE_ITEM: 0.0548203, COVERAGE_ITEM_CORRECT: 0.0277424, COVERAGE_USER: 0.9995604, COVERAGE_USER_CORRECT: 0.9539927, DIVERSITY_GINI: 0.0039914, SHANNON_ENTROPY: 6.4132451, RATIO_DIVERSITY_HERFINDAHL: 0.9818496, RATIO_DIVERSITY_GINI: 0.0161006, RATIO_SHANNON_ENTROPY: 0.5176301, RATIO_AVERAGE_POPULARITY: 3.2369263, RATIO_NOVELTY: 0.0250174, \n",
      "\n",
      "Iteration No: 113 ended. Search finished for the next optimal point.\n",
      "Time taken: 24.6575\n",
      "Function value obtained: -0.2115\n",
      "Current minimum: -0.2117\n",
      "Iteration No: 114 started. Searching for the next optimal point.\n",
      "SearchBayesianSkopt: Testing config: {'shrink': 269, 'topK': 200, 'feature_weighting': 'TF-IDF', 'normalize': True, 'ICM_weight': 109}\n",
      "ItemKNN_CFCBF_HybridRecommender: URM Detected 1 ( 0.0%) items with no interactions.\n",
      "ItemKNN_CFCBF_HybridRecommender: ICM Detected 559 ( 3.1%) items with no features.\n",
      "Similarity column 18059 (100.0%), 1622.77 column/sec. Elapsed time 11.13 sec\n",
      "EvaluatorHoldout: Processed 13644 (100.0%) in 11.12 sec. Users per second: 1227\n",
      "SearchBayesianSkopt: Config 113 is suboptimal. Config: {'shrink': 269, 'topK': 200, 'feature_weighting': 'TF-IDF', 'normalize': True, 'ICM_weight': 109} - results: PRECISION: 0.3489519, PRECISION_RECALL_MIN_DEN: 0.3504857, RECALL: 0.0598266, MAP: 0.2115280, MAP_MIN_DEN: 0.2121422, MRR: 0.6148464, NDCG: 0.3676115, F1: 0.1021414, HIT_RATE: 0.9544122, ARHR_ALL_HITS: 1.1220643, NOVELTY: 0.0053173, AVERAGE_POPULARITY: 0.6557312, DIVERSITY_MEAN_INTER_LIST: 0.8149749, DIVERSITY_HERFINDAHL: 0.9814915, COVERAGE_ITEM: 0.0547649, COVERAGE_ITEM_CORRECT: 0.0274655, COVERAGE_USER: 0.9995604, COVERAGE_USER_CORRECT: 0.9539927, DIVERSITY_GINI: 0.0039946, SHANNON_ENTROPY: 6.4146773, RATIO_DIVERSITY_HERFINDAHL: 0.9818706, RATIO_DIVERSITY_GINI: 0.0161137, RATIO_SHANNON_ENTROPY: 0.5177457, RATIO_AVERAGE_POPULARITY: 3.2364343, RATIO_NOVELTY: 0.0250190, \n",
      "\n",
      "Iteration No: 114 ended. Search finished for the next optimal point.\n",
      "Time taken: 24.3740\n",
      "Function value obtained: -0.2115\n",
      "Current minimum: -0.2117\n",
      "Iteration No: 115 started. Searching for the next optimal point.\n",
      "SearchBayesianSkopt: Testing config: {'shrink': 491, 'topK': 200, 'feature_weighting': 'TF-IDF', 'normalize': True, 'ICM_weight': 104}\n",
      "ItemKNN_CFCBF_HybridRecommender: URM Detected 1 ( 0.0%) items with no interactions.\n",
      "ItemKNN_CFCBF_HybridRecommender: ICM Detected 559 ( 3.1%) items with no features.\n",
      "Similarity column 18059 (100.0%), 1612.19 column/sec. Elapsed time 11.20 sec\n",
      "EvaluatorHoldout: Processed 13644 (100.0%) in 11.76 sec. Users per second: 1160\n",
      "SearchBayesianSkopt: Config 114 is suboptimal. Config: {'shrink': 491, 'topK': 200, 'feature_weighting': 'TF-IDF', 'normalize': True, 'ICM_weight': 104} - results: PRECISION: 0.3489079, PRECISION_RECALL_MIN_DEN: 0.3505154, RECALL: 0.0599572, MAP: 0.2115339, MAP_MIN_DEN: 0.2122204, MRR: 0.6159057, NDCG: 0.3678352, F1: 0.1023298, HIT_RATE: 0.9539724, ARHR_ALL_HITS: 1.1231383, NOVELTY: 0.0053126, AVERAGE_POPULARITY: 0.6572107, DIVERSITY_MEAN_INTER_LIST: 0.8133690, DIVERSITY_HERFINDAHL: 0.9813309, COVERAGE_ITEM: 0.0532145, COVERAGE_ITEM_CORRECT: 0.0276317, COVERAGE_USER: 0.9995604, COVERAGE_USER_CORRECT: 0.9535531, DIVERSITY_GINI: 0.0039276, SHANNON_ENTROPY: 6.3963264, RATIO_DIVERSITY_HERFINDAHL: 0.9817099, RATIO_DIVERSITY_GINI: 0.0158434, RATIO_SHANNON_ENTROPY: 0.5162646, RATIO_AVERAGE_POPULARITY: 3.2437365, RATIO_NOVELTY: 0.0249969, \n",
      "\n",
      "Iteration No: 115 ended. Search finished for the next optimal point.\n",
      "Time taken: 25.1926\n",
      "Function value obtained: -0.2115\n",
      "Current minimum: -0.2117\n",
      "Iteration No: 116 started. Searching for the next optimal point.\n",
      "SearchBayesianSkopt: Testing config: {'shrink': 284, 'topK': 200, 'feature_weighting': 'TF-IDF', 'normalize': True, 'ICM_weight': 109}\n",
      "ItemKNN_CFCBF_HybridRecommender: URM Detected 1 ( 0.0%) items with no interactions.\n",
      "ItemKNN_CFCBF_HybridRecommender: ICM Detected 559 ( 3.1%) items with no features.\n",
      "Similarity column 18059 (100.0%), 1593.41 column/sec. Elapsed time 11.33 sec\n",
      "EvaluatorHoldout: Processed 13644 (100.0%) in 11.25 sec. Users per second: 1213\n",
      "SearchBayesianSkopt: Config 115 is suboptimal. Config: {'shrink': 284, 'topK': 200, 'feature_weighting': 'TF-IDF', 'normalize': True, 'ICM_weight': 109} - results: PRECISION: 0.3490399, PRECISION_RECALL_MIN_DEN: 0.3505786, RECALL: 0.0598716, MAP: 0.2115831, MAP_MIN_DEN: 0.2121978, MRR: 0.6149307, NDCG: 0.3676897, F1: 0.1022108, HIT_RATE: 0.9544855, ARHR_ALL_HITS: 1.1222628, NOVELTY: 0.0053171, AVERAGE_POPULARITY: 0.6558309, DIVERSITY_MEAN_INTER_LIST: 0.8148953, DIVERSITY_HERFINDAHL: 0.9814836, COVERAGE_ITEM: 0.0548757, COVERAGE_ITEM_CORRECT: 0.0271887, COVERAGE_USER: 0.9995604, COVERAGE_USER_CORRECT: 0.9540659, DIVERSITY_GINI: 0.0039932, SHANNON_ENTROPY: 6.4139754, RATIO_DIVERSITY_HERFINDAHL: 0.9818626, RATIO_DIVERSITY_GINI: 0.0161080, RATIO_SHANNON_ENTROPY: 0.5176891, RATIO_AVERAGE_POPULARITY: 3.2369265, RATIO_NOVELTY: 0.0250178, \n",
      "\n",
      "Iteration No: 116 ended. Search finished for the next optimal point.\n",
      "Time taken: 24.8718\n",
      "Function value obtained: -0.2116\n",
      "Current minimum: -0.2117\n",
      "Iteration No: 117 started. Searching for the next optimal point.\n",
      "SearchBayesianSkopt: Testing config: {'shrink': 288, 'topK': 200, 'feature_weighting': 'TF-IDF', 'normalize': True, 'ICM_weight': 110}\n",
      "ItemKNN_CFCBF_HybridRecommender: URM Detected 1 ( 0.0%) items with no interactions.\n",
      "ItemKNN_CFCBF_HybridRecommender: ICM Detected 559 ( 3.1%) items with no features.\n",
      "Similarity column 18059 (100.0%), 1587.80 column/sec. Elapsed time 11.37 sec\n",
      "EvaluatorHoldout: Processed 13644 (100.0%) in 11.30 sec. Users per second: 1207\n",
      "SearchBayesianSkopt: Config 116 is suboptimal. Config: {'shrink': 288, 'topK': 200, 'feature_weighting': 'TF-IDF', 'normalize': True, 'ICM_weight': 110} - results: PRECISION: 0.3489446, PRECISION_RECALL_MIN_DEN: 0.3504815, RECALL: 0.0598400, MAP: 0.2115178, MAP_MIN_DEN: 0.2121327, MRR: 0.6150618, NDCG: 0.3676298, F1: 0.1021606, HIT_RATE: 0.9547787, ARHR_ALL_HITS: 1.1221994, NOVELTY: 0.0053171, AVERAGE_POPULARITY: 0.6557918, DIVERSITY_MEAN_INTER_LIST: 0.8148876, DIVERSITY_HERFINDAHL: 0.9814828, COVERAGE_ITEM: 0.0547649, COVERAGE_ITEM_CORRECT: 0.0274655, COVERAGE_USER: 0.9995604, COVERAGE_USER_CORRECT: 0.9543590, DIVERSITY_GINI: 0.0039917, SHANNON_ENTROPY: 6.4139371, RATIO_DIVERSITY_HERFINDAHL: 0.9818618, RATIO_DIVERSITY_GINI: 0.0161018, RATIO_SHANNON_ENTROPY: 0.5176860, RATIO_AVERAGE_POPULARITY: 3.2367333, RATIO_NOVELTY: 0.0250183, \n",
      "\n"
     ]
    },
    {
     "name": "stdout",
     "output_type": "stream",
     "text": [
      "Iteration No: 117 ended. Search finished for the next optimal point.\n",
      "Time taken: 25.0566\n",
      "Function value obtained: -0.2115\n",
      "Current minimum: -0.2117\n",
      "Iteration No: 118 started. Searching for the next optimal point.\n",
      "SearchBayesianSkopt: Testing config: {'shrink': 278, 'topK': 200, 'feature_weighting': 'TF-IDF', 'normalize': True, 'ICM_weight': 109}\n",
      "ItemKNN_CFCBF_HybridRecommender: URM Detected 1 ( 0.0%) items with no interactions.\n",
      "ItemKNN_CFCBF_HybridRecommender: ICM Detected 559 ( 3.1%) items with no features.\n",
      "Similarity column 18059 (100.0%), 1609.32 column/sec. Elapsed time 11.22 sec\n",
      "EvaluatorHoldout: Processed 13644 (100.0%) in 11.20 sec. Users per second: 1218\n",
      "SearchBayesianSkopt: Config 117 is suboptimal. Config: {'shrink': 278, 'topK': 200, 'feature_weighting': 'TF-IDF', 'normalize': True, 'ICM_weight': 109} - results: PRECISION: 0.3490399, PRECISION_RECALL_MIN_DEN: 0.3505755, RECALL: 0.0598567, MAP: 0.2115780, MAP_MIN_DEN: 0.2121923, MRR: 0.6149451, NDCG: 0.3676877, F1: 0.1021891, HIT_RATE: 0.9544122, ARHR_ALL_HITS: 1.1222674, NOVELTY: 0.0053171, AVERAGE_POPULARITY: 0.6557817, DIVERSITY_MEAN_INTER_LIST: 0.8149365, DIVERSITY_HERFINDAHL: 0.9814877, COVERAGE_ITEM: 0.0549311, COVERAGE_ITEM_CORRECT: 0.0273548, COVERAGE_USER: 0.9995604, COVERAGE_USER_CORRECT: 0.9539927, DIVERSITY_GINI: 0.0039952, SHANNON_ENTROPY: 6.4145196, RATIO_DIVERSITY_HERFINDAHL: 0.9818667, RATIO_DIVERSITY_GINI: 0.0161160, RATIO_SHANNON_ENTROPY: 0.5177330, RATIO_AVERAGE_POPULARITY: 3.2366832, RATIO_NOVELTY: 0.0250183, \n",
      "\n",
      "Iteration No: 118 ended. Search finished for the next optimal point.\n",
      "Time taken: 24.6755\n",
      "Function value obtained: -0.2116\n",
      "Current minimum: -0.2117\n",
      "Iteration No: 119 started. Searching for the next optimal point.\n",
      "SearchBayesianSkopt: Testing config: {'shrink': 273, 'topK': 200, 'feature_weighting': 'TF-IDF', 'normalize': True, 'ICM_weight': 104}\n",
      "ItemKNN_CFCBF_HybridRecommender: URM Detected 1 ( 0.0%) items with no interactions.\n",
      "ItemKNN_CFCBF_HybridRecommender: ICM Detected 559 ( 3.1%) items with no features.\n",
      "Similarity column 18059 (100.0%), 1612.48 column/sec. Elapsed time 11.20 sec\n",
      "EvaluatorHoldout: Processed 13644 (100.0%) in 11.36 sec. Users per second: 1201\n",
      "SearchBayesianSkopt: Config 118 is suboptimal. Config: {'shrink': 273, 'topK': 200, 'feature_weighting': 'TF-IDF', 'normalize': True, 'ICM_weight': 104} - results: PRECISION: 0.3487687, PRECISION_RECALL_MIN_DEN: 0.3503218, RECALL: 0.0598826, MAP: 0.2115448, MAP_MIN_DEN: 0.2121733, MRR: 0.6164505, NDCG: 0.3677716, F1: 0.1022151, HIT_RATE: 0.9544122, ARHR_ALL_HITS: 1.1234730, NOVELTY: 0.0053173, AVERAGE_POPULARITY: 0.6556969, DIVERSITY_MEAN_INTER_LIST: 0.8149504, DIVERSITY_HERFINDAHL: 0.9814891, COVERAGE_ITEM: 0.0546542, COVERAGE_ITEM_CORRECT: 0.0275763, COVERAGE_USER: 0.9995604, COVERAGE_USER_CORRECT: 0.9539927, DIVERSITY_GINI: 0.0039952, SHANNON_ENTROPY: 6.4148585, RATIO_DIVERSITY_HERFINDAHL: 0.9818681, RATIO_DIVERSITY_GINI: 0.0161158, RATIO_SHANNON_ENTROPY: 0.5177604, RATIO_AVERAGE_POPULARITY: 3.2362649, RATIO_NOVELTY: 0.0250189, \n",
      "\n",
      "Iteration No: 119 ended. Search finished for the next optimal point.\n",
      "Time taken: 24.9338\n",
      "Function value obtained: -0.2115\n",
      "Current minimum: -0.2117\n",
      "Iteration No: 120 started. Searching for the next optimal point.\n",
      "SearchBayesianSkopt: Testing config: {'shrink': 278, 'topK': 200, 'feature_weighting': 'TF-IDF', 'normalize': True, 'ICM_weight': 109}\n",
      "SearchBayesianSkopt: Config 119 was already explored at index 117. Config: {'shrink': 278, 'topK': 200, 'feature_weighting': 'TF-IDF', 'normalize': True, 'ICM_weight': 109} - results: PRECISION: 0.3490399, PRECISION_RECALL_MIN_DEN: 0.3505755, RECALL: 0.0598567, MAP: 0.2115780, MAP_MIN_DEN: 0.2121923, MRR: 0.6149451, NDCG: 0.3676877, F1: 0.1021891, HIT_RATE: 0.9544122, ARHR_ALL_HITS: 1.1222674, NOVELTY: 0.0053171, AVERAGE_POPULARITY: 0.6557817, DIVERSITY_MEAN_INTER_LIST: 0.8149365, DIVERSITY_HERFINDAHL: 0.9814877, COVERAGE_ITEM: 0.0549311, COVERAGE_ITEM_CORRECT: 0.0273548, COVERAGE_USER: 0.9995604, COVERAGE_USER_CORRECT: 0.9539927, DIVERSITY_GINI: 0.0039952, SHANNON_ENTROPY: 6.4145196, RATIO_DIVERSITY_HERFINDAHL: 0.9818667, RATIO_DIVERSITY_GINI: 0.0161160, RATIO_SHANNON_ENTROPY: 0.5177330, RATIO_AVERAGE_POPULARITY: 3.2366832, RATIO_NOVELTY: 0.0250183, \n",
      "\n"
     ]
    },
    {
     "name": "stderr",
     "output_type": "stream",
     "text": [
      "C:\\Users\\marti\\miniconda3\\envs\\RecSys\\lib\\site-packages\\skopt\\optimizer\\optimizer.py:449: UserWarning: The objective has been evaluated at this point before.\n",
      "  warnings.warn(\"The objective has been evaluated \"\n"
     ]
    },
    {
     "name": "stdout",
     "output_type": "stream",
     "text": [
      "Iteration No: 120 ended. Search finished for the next optimal point.\n",
      "Time taken: 1.8984\n",
      "Function value obtained: -0.2116\n",
      "Current minimum: -0.2117\n",
      "Iteration No: 121 started. Searching for the next optimal point.\n",
      "SearchBayesianSkopt: Testing config: {'shrink': 278, 'topK': 200, 'feature_weighting': 'TF-IDF', 'normalize': True, 'ICM_weight': 109}\n",
      "SearchBayesianSkopt: Config 120 was already explored at index 117. Config: {'shrink': 278, 'topK': 200, 'feature_weighting': 'TF-IDF', 'normalize': True, 'ICM_weight': 109} - results: PRECISION: 0.3490399, PRECISION_RECALL_MIN_DEN: 0.3505755, RECALL: 0.0598567, MAP: 0.2115780, MAP_MIN_DEN: 0.2121923, MRR: 0.6149451, NDCG: 0.3676877, F1: 0.1021891, HIT_RATE: 0.9544122, ARHR_ALL_HITS: 1.1222674, NOVELTY: 0.0053171, AVERAGE_POPULARITY: 0.6557817, DIVERSITY_MEAN_INTER_LIST: 0.8149365, DIVERSITY_HERFINDAHL: 0.9814877, COVERAGE_ITEM: 0.0549311, COVERAGE_ITEM_CORRECT: 0.0273548, COVERAGE_USER: 0.9995604, COVERAGE_USER_CORRECT: 0.9539927, DIVERSITY_GINI: 0.0039952, SHANNON_ENTROPY: 6.4145196, RATIO_DIVERSITY_HERFINDAHL: 0.9818667, RATIO_DIVERSITY_GINI: 0.0161160, RATIO_SHANNON_ENTROPY: 0.5177330, RATIO_AVERAGE_POPULARITY: 3.2366832, RATIO_NOVELTY: 0.0250183, \n",
      "\n"
     ]
    },
    {
     "name": "stderr",
     "output_type": "stream",
     "text": [
      "C:\\Users\\marti\\miniconda3\\envs\\RecSys\\lib\\site-packages\\skopt\\optimizer\\optimizer.py:449: UserWarning: The objective has been evaluated at this point before.\n",
      "  warnings.warn(\"The objective has been evaluated \"\n"
     ]
    },
    {
     "name": "stdout",
     "output_type": "stream",
     "text": [
      "Iteration No: 121 ended. Search finished for the next optimal point.\n",
      "Time taken: 1.7484\n",
      "Function value obtained: -0.2116\n",
      "Current minimum: -0.2117\n",
      "Iteration No: 122 started. Searching for the next optimal point.\n",
      "SearchBayesianSkopt: Testing config: {'shrink': 203, 'topK': 200, 'feature_weighting': 'TF-IDF', 'normalize': True, 'ICM_weight': 103}\n",
      "ItemKNN_CFCBF_HybridRecommender: URM Detected 1 ( 0.0%) items with no interactions.\n",
      "ItemKNN_CFCBF_HybridRecommender: ICM Detected 559 ( 3.1%) items with no features.\n",
      "Similarity column 18059 (100.0%), 1616.81 column/sec. Elapsed time 11.17 sec\n",
      "EvaluatorHoldout: Processed 13644 (100.0%) in 11.15 sec. Users per second: 1224\n",
      "SearchBayesianSkopt: Config 121 is suboptimal. Config: {'shrink': 203, 'topK': 200, 'feature_weighting': 'TF-IDF', 'normalize': True, 'ICM_weight': 103} - results: PRECISION: 0.3487174, PRECISION_RECALL_MIN_DEN: 0.3502624, RECALL: 0.0598449, MAP: 0.2115439, MAP_MIN_DEN: 0.2121697, MRR: 0.6163905, NDCG: 0.3677463, F1: 0.1021581, HIT_RATE: 0.9538991, ARHR_ALL_HITS: 1.1234867, NOVELTY: 0.0053188, AVERAGE_POPULARITY: 0.6552840, DIVERSITY_MEAN_INTER_LIST: 0.8153128, DIVERSITY_HERFINDAHL: 0.9815253, COVERAGE_ITEM: 0.0554848, COVERAGE_ITEM_CORRECT: 0.0275209, COVERAGE_USER: 0.9995604, COVERAGE_USER_CORRECT: 0.9534799, DIVERSITY_GINI: 0.0040178, SHANNON_ENTROPY: 6.4199083, RATIO_DIVERSITY_HERFINDAHL: 0.9819044, RATIO_DIVERSITY_GINI: 0.0162073, RATIO_SHANNON_ENTROPY: 0.5181679, RATIO_AVERAGE_POPULARITY: 3.2342272, RATIO_NOVELTY: 0.0250262, \n",
      "\n",
      "Iteration No: 122 ended. Search finished for the next optimal point.\n",
      "Time taken: 24.6145\n",
      "Function value obtained: -0.2115\n",
      "Current minimum: -0.2117\n",
      "Iteration No: 123 started. Searching for the next optimal point.\n",
      "SearchBayesianSkopt: Testing config: {'shrink': 283, 'topK': 200, 'feature_weighting': 'TF-IDF', 'normalize': True, 'ICM_weight': 110}\n",
      "ItemKNN_CFCBF_HybridRecommender: URM Detected 1 ( 0.0%) items with no interactions.\n",
      "ItemKNN_CFCBF_HybridRecommender: ICM Detected 559 ( 3.1%) items with no features.\n",
      "Similarity column 18059 (100.0%), 1623.50 column/sec. Elapsed time 11.12 sec\n",
      "EvaluatorHoldout: Processed 13644 (100.0%) in 11.24 sec. Users per second: 1214\n",
      "SearchBayesianSkopt: Config 122 is suboptimal. Config: {'shrink': 283, 'topK': 200, 'feature_weighting': 'TF-IDF', 'normalize': True, 'ICM_weight': 110} - results: PRECISION: 0.3489592, PRECISION_RECALL_MIN_DEN: 0.3504930, RECALL: 0.0598348, MAP: 0.2115133, MAP_MIN_DEN: 0.2121279, MRR: 0.6148586, NDCG: 0.3676104, F1: 0.1021537, HIT_RATE: 0.9547054, ARHR_ALL_HITS: 1.1220505, NOVELTY: 0.0053172, AVERAGE_POPULARITY: 0.6557754, DIVERSITY_MEAN_INTER_LIST: 0.8149027, DIVERSITY_HERFINDAHL: 0.9814843, COVERAGE_ITEM: 0.0546542, COVERAGE_ITEM_CORRECT: 0.0274655, COVERAGE_USER: 0.9995604, COVERAGE_USER_CORRECT: 0.9542857, DIVERSITY_GINI: 0.0039916, SHANNON_ENTROPY: 6.4140984, RATIO_DIVERSITY_HERFINDAHL: 0.9818633, RATIO_DIVERSITY_GINI: 0.0161015, RATIO_SHANNON_ENTROPY: 0.5176990, RATIO_AVERAGE_POPULARITY: 3.2366522, RATIO_NOVELTY: 0.0250184, \n",
      "\n",
      "Iteration No: 123 ended. Search finished for the next optimal point.\n",
      "Time taken: 24.9036\n",
      "Function value obtained: -0.2115\n",
      "Current minimum: -0.2117\n",
      "Iteration No: 124 started. Searching for the next optimal point.\n",
      "SearchBayesianSkopt: Testing config: {'shrink': 197, 'topK': 200, 'feature_weighting': 'TF-IDF', 'normalize': True, 'ICM_weight': 103}\n",
      "ItemKNN_CFCBF_HybridRecommender: URM Detected 1 ( 0.0%) items with no interactions.\n",
      "ItemKNN_CFCBF_HybridRecommender: ICM Detected 559 ( 3.1%) items with no features.\n",
      "Similarity column 18059 (100.0%), 1625.55 column/sec. Elapsed time 11.11 sec\n",
      "EvaluatorHoldout: Processed 13644 (100.0%) in 11.12 sec. Users per second: 1227\n",
      "SearchBayesianSkopt: Config 123 is suboptimal. Config: {'shrink': 197, 'topK': 200, 'feature_weighting': 'TF-IDF', 'normalize': True, 'ICM_weight': 103} - results: PRECISION: 0.3487540, PRECISION_RECALL_MIN_DEN: 0.3502991, RECALL: 0.0598503, MAP: 0.2115705, MAP_MIN_DEN: 0.2121961, MRR: 0.6164099, NDCG: 0.3677756, F1: 0.1021675, HIT_RATE: 0.9540457, ARHR_ALL_HITS: 1.1235574, NOVELTY: 0.0053189, AVERAGE_POPULARITY: 0.6552533, DIVERSITY_MEAN_INTER_LIST: 0.8153643, DIVERSITY_HERFINDAHL: 0.9815305, COVERAGE_ITEM: 0.0554848, COVERAGE_ITEM_CORRECT: 0.0276317, COVERAGE_USER: 0.9995604, COVERAGE_USER_CORRECT: 0.9536264, DIVERSITY_GINI: 0.0040185, SHANNON_ENTROPY: 6.4202896, RATIO_DIVERSITY_HERFINDAHL: 0.9819095, RATIO_DIVERSITY_GINI: 0.0162102, RATIO_SHANNON_ENTROPY: 0.5181987, RATIO_AVERAGE_POPULARITY: 3.2340757, RATIO_NOVELTY: 0.0250265, \n",
      "\n",
      "Iteration No: 124 ended. Search finished for the next optimal point.\n",
      "Time taken: 24.6915\n",
      "Function value obtained: -0.2116\n",
      "Current minimum: -0.2117\n",
      "Iteration No: 125 started. Searching for the next optimal point.\n",
      "SearchBayesianSkopt: Testing config: {'shrink': 271, 'topK': 200, 'feature_weighting': 'TF-IDF', 'normalize': True, 'ICM_weight': 110}\n",
      "ItemKNN_CFCBF_HybridRecommender: URM Detected 1 ( 0.0%) items with no interactions.\n",
      "ItemKNN_CFCBF_HybridRecommender: ICM Detected 559 ( 3.1%) items with no features.\n",
      "Similarity column 18059 (100.0%), 1623.79 column/sec. Elapsed time 11.12 sec\n",
      "EvaluatorHoldout: Processed 13644 (100.0%) in 11.17 sec. Users per second: 1221\n",
      "SearchBayesianSkopt: Config 124 is suboptimal. Config: {'shrink': 271, 'topK': 200, 'feature_weighting': 'TF-IDF', 'normalize': True, 'ICM_weight': 110} - results: PRECISION: 0.3489812, PRECISION_RECALL_MIN_DEN: 0.3505150, RECALL: 0.0598387, MAP: 0.2115269, MAP_MIN_DEN: 0.2121414, MRR: 0.6148371, NDCG: 0.3676263, F1: 0.1021603, HIT_RATE: 0.9547054, ARHR_ALL_HITS: 1.1220730, NOVELTY: 0.0053173, AVERAGE_POPULARITY: 0.6556993, DIVERSITY_MEAN_INTER_LIST: 0.8150016, DIVERSITY_HERFINDAHL: 0.9814942, COVERAGE_ITEM: 0.0547096, COVERAGE_ITEM_CORRECT: 0.0275209, COVERAGE_USER: 0.9995604, COVERAGE_USER_CORRECT: 0.9542857, DIVERSITY_GINI: 0.0039941, SHANNON_ENTROPY: 6.4150238, RATIO_DIVERSITY_HERFINDAHL: 0.9818732, RATIO_DIVERSITY_GINI: 0.0161116, RATIO_SHANNON_ENTROPY: 0.5177737, RATIO_AVERAGE_POPULARITY: 3.2362766, RATIO_NOVELTY: 0.0250192, \n",
      "\n",
      "Iteration No: 125 ended. Search finished for the next optimal point.\n",
      "Time taken: 24.7298\n",
      "Function value obtained: -0.2115\n",
      "Current minimum: -0.2117\n",
      "Iteration No: 126 started. Searching for the next optimal point.\n",
      "SearchBayesianSkopt: Testing config: {'shrink': 256, 'topK': 200, 'feature_weighting': 'TF-IDF', 'normalize': True, 'ICM_weight': 105}\n",
      "ItemKNN_CFCBF_HybridRecommender: URM Detected 1 ( 0.0%) items with no interactions.\n",
      "ItemKNN_CFCBF_HybridRecommender: ICM Detected 559 ( 3.1%) items with no features.\n",
      "Similarity column 18059 (100.0%), 1609.18 column/sec. Elapsed time 11.22 sec\n",
      "EvaluatorHoldout: Processed 13644 (100.0%) in 11.25 sec. Users per second: 1213\n",
      "SearchBayesianSkopt: Config 125 is suboptimal. Config: {'shrink': 256, 'topK': 200, 'feature_weighting': 'TF-IDF', 'normalize': True, 'ICM_weight': 105} - results: PRECISION: 0.3489079, PRECISION_RECALL_MIN_DEN: 0.3504580, RECALL: 0.0598960, MAP: 0.2115108, MAP_MIN_DEN: 0.2121362, MRR: 0.6162200, NDCG: 0.3677576, F1: 0.1022407, HIT_RATE: 0.9544855, ARHR_ALL_HITS: 1.1230541, NOVELTY: 0.0053175, AVERAGE_POPULARITY: 0.6555792, DIVERSITY_MEAN_INTER_LIST: 0.8151512, DIVERSITY_HERFINDAHL: 0.9815091, COVERAGE_ITEM: 0.0547649, COVERAGE_ITEM_CORRECT: 0.0275763, COVERAGE_USER: 0.9995604, COVERAGE_USER_CORRECT: 0.9540659, DIVERSITY_GINI: 0.0039988, SHANNON_ENTROPY: 6.4161685, RATIO_DIVERSITY_HERFINDAHL: 0.9818882, RATIO_DIVERSITY_GINI: 0.0161305, RATIO_SHANNON_ENTROPY: 0.5178661, RATIO_AVERAGE_POPULARITY: 3.2356838, RATIO_NOVELTY: 0.0250201, \n",
      "\n",
      "Iteration No: 126 ended. Search finished for the next optimal point.\n",
      "Time taken: 25.0239\n",
      "Function value obtained: -0.2115\n",
      "Current minimum: -0.2117\n",
      "Iteration No: 127 started. Searching for the next optimal point.\n",
      "SearchBayesianSkopt: Testing config: {'shrink': 208, 'topK': 200, 'feature_weighting': 'TF-IDF', 'normalize': True, 'ICM_weight': 103}\n",
      "ItemKNN_CFCBF_HybridRecommender: URM Detected 1 ( 0.0%) items with no interactions.\n",
      "ItemKNN_CFCBF_HybridRecommender: ICM Detected 559 ( 3.1%) items with no features.\n",
      "Similarity column 18059 (100.0%), 1619.86 column/sec. Elapsed time 11.15 sec\n",
      "EvaluatorHoldout: Processed 13644 (100.0%) in 11.17 sec. Users per second: 1221\n"
     ]
    },
    {
     "name": "stdout",
     "output_type": "stream",
     "text": [
      "SearchBayesianSkopt: Config 126 is suboptimal. Config: {'shrink': 208, 'topK': 200, 'feature_weighting': 'TF-IDF', 'normalize': True, 'ICM_weight': 103} - results: PRECISION: 0.3487687, PRECISION_RECALL_MIN_DEN: 0.3503137, RECALL: 0.0598534, MAP: 0.2115651, MAP_MIN_DEN: 0.2121901, MRR: 0.6164052, NDCG: 0.3677825, F1: 0.1021727, HIT_RATE: 0.9539724, ARHR_ALL_HITS: 1.1235619, NOVELTY: 0.0053186, AVERAGE_POPULARITY: 0.6553430, DIVERSITY_MEAN_INTER_LIST: 0.8152729, DIVERSITY_HERFINDAHL: 0.9815213, COVERAGE_ITEM: 0.0554294, COVERAGE_ITEM_CORRECT: 0.0275209, COVERAGE_USER: 0.9995604, COVERAGE_USER_CORRECT: 0.9535531, DIVERSITY_GINI: 0.0040151, SHANNON_ENTROPY: 6.4192119, RATIO_DIVERSITY_HERFINDAHL: 0.9819004, RATIO_DIVERSITY_GINI: 0.0161962, RATIO_SHANNON_ENTROPY: 0.5181117, RATIO_AVERAGE_POPULARITY: 3.2345183, RATIO_NOVELTY: 0.0250253, \n",
      "\n",
      "Iteration No: 127 ended. Search finished for the next optimal point.\n",
      "Time taken: 24.9568\n",
      "Function value obtained: -0.2116\n",
      "Current minimum: -0.2117\n",
      "Iteration No: 128 started. Searching for the next optimal point.\n",
      "SearchBayesianSkopt: Testing config: {'shrink': 292, 'topK': 200, 'feature_weighting': 'TF-IDF', 'normalize': True, 'ICM_weight': 109}\n",
      "ItemKNN_CFCBF_HybridRecommender: URM Detected 1 ( 0.0%) items with no interactions.\n",
      "ItemKNN_CFCBF_HybridRecommender: ICM Detected 559 ( 3.1%) items with no features.\n",
      "Similarity column 18059 (100.0%), 1616.09 column/sec. Elapsed time 11.17 sec\n",
      "EvaluatorHoldout: Processed 13644 (100.0%) in 11.28 sec. Users per second: 1210\n",
      "SearchBayesianSkopt: Config 127 is suboptimal. Config: {'shrink': 292, 'topK': 200, 'feature_weighting': 'TF-IDF', 'normalize': True, 'ICM_weight': 109} - results: PRECISION: 0.3490985, PRECISION_RECALL_MIN_DEN: 0.3506421, RECALL: 0.0598907, MAP: 0.2116259, MAP_MIN_DEN: 0.2122410, MRR: 0.6150606, NDCG: 0.3677518, F1: 0.1022412, HIT_RATE: 0.9545588, ARHR_ALL_HITS: 1.1224609, NOVELTY: 0.0053168, AVERAGE_POPULARITY: 0.6558988, DIVERSITY_MEAN_INTER_LIST: 0.8148515, DIVERSITY_HERFINDAHL: 0.9814792, COVERAGE_ITEM: 0.0548757, COVERAGE_ITEM_CORRECT: 0.0272994, COVERAGE_USER: 0.9995604, COVERAGE_USER_CORRECT: 0.9541392, DIVERSITY_GINI: 0.0039904, SHANNON_ENTROPY: 6.4132528, RATIO_DIVERSITY_HERFINDAHL: 0.9818582, RATIO_DIVERSITY_GINI: 0.0160968, RATIO_SHANNON_ENTROPY: 0.5176308, RATIO_AVERAGE_POPULARITY: 3.2372616, RATIO_NOVELTY: 0.0250165, \n",
      "\n",
      "Iteration No: 128 ended. Search finished for the next optimal point.\n",
      "Time taken: 24.9366\n",
      "Function value obtained: -0.2116\n",
      "Current minimum: -0.2117\n",
      "Iteration No: 129 started. Searching for the next optimal point.\n",
      "SearchBayesianSkopt: Testing config: {'shrink': 289, 'topK': 200, 'feature_weighting': 'TF-IDF', 'normalize': True, 'ICM_weight': 110}\n",
      "ItemKNN_CFCBF_HybridRecommender: URM Detected 1 ( 0.0%) items with no interactions.\n",
      "ItemKNN_CFCBF_HybridRecommender: ICM Detected 559 ( 3.1%) items with no features.\n",
      "Similarity column 18059 (100.0%), 1613.63 column/sec. Elapsed time 11.19 sec\n",
      "EvaluatorHoldout: Processed 13644 (100.0%) in 11.17 sec. Users per second: 1221\n",
      "SearchBayesianSkopt: Config 128 is suboptimal. Config: {'shrink': 289, 'topK': 200, 'feature_weighting': 'TF-IDF', 'normalize': True, 'ICM_weight': 110} - results: PRECISION: 0.3489446, PRECISION_RECALL_MIN_DEN: 0.3504864, RECALL: 0.0598519, MAP: 0.2115174, MAP_MIN_DEN: 0.2121328, MRR: 0.6150692, NDCG: 0.3676338, F1: 0.1021780, HIT_RATE: 0.9548519, ARHR_ALL_HITS: 1.1222095, NOVELTY: 0.0053171, AVERAGE_POPULARITY: 0.6557961, DIVERSITY_MEAN_INTER_LIST: 0.8148833, DIVERSITY_HERFINDAHL: 0.9814824, COVERAGE_ITEM: 0.0548203, COVERAGE_ITEM_CORRECT: 0.0274655, COVERAGE_USER: 0.9995604, COVERAGE_USER_CORRECT: 0.9544322, DIVERSITY_GINI: 0.0039925, SHANNON_ENTROPY: 6.4139968, RATIO_DIVERSITY_HERFINDAHL: 0.9818614, RATIO_DIVERSITY_GINI: 0.0161052, RATIO_SHANNON_ENTROPY: 0.5176908, RATIO_AVERAGE_POPULARITY: 3.2367543, RATIO_NOVELTY: 0.0250182, \n",
      "\n",
      "Iteration No: 129 ended. Search finished for the next optimal point.\n",
      "Time taken: 24.8356\n",
      "Function value obtained: -0.2115\n",
      "Current minimum: -0.2117\n",
      "Iteration No: 130 started. Searching for the next optimal point.\n",
      "SearchBayesianSkopt: Testing config: {'shrink': 292, 'topK': 200, 'feature_weighting': 'TF-IDF', 'normalize': True, 'ICM_weight': 109}\n",
      "SearchBayesianSkopt: Config 129 was already explored at index 127. Config: {'shrink': 292, 'topK': 200, 'feature_weighting': 'TF-IDF', 'normalize': True, 'ICM_weight': 109} - results: PRECISION: 0.3490985, PRECISION_RECALL_MIN_DEN: 0.3506421, RECALL: 0.0598907, MAP: 0.2116259, MAP_MIN_DEN: 0.2122410, MRR: 0.6150606, NDCG: 0.3677518, F1: 0.1022412, HIT_RATE: 0.9545588, ARHR_ALL_HITS: 1.1224609, NOVELTY: 0.0053168, AVERAGE_POPULARITY: 0.6558988, DIVERSITY_MEAN_INTER_LIST: 0.8148515, DIVERSITY_HERFINDAHL: 0.9814792, COVERAGE_ITEM: 0.0548757, COVERAGE_ITEM_CORRECT: 0.0272994, COVERAGE_USER: 0.9995604, COVERAGE_USER_CORRECT: 0.9541392, DIVERSITY_GINI: 0.0039904, SHANNON_ENTROPY: 6.4132528, RATIO_DIVERSITY_HERFINDAHL: 0.9818582, RATIO_DIVERSITY_GINI: 0.0160968, RATIO_SHANNON_ENTROPY: 0.5176308, RATIO_AVERAGE_POPULARITY: 3.2372616, RATIO_NOVELTY: 0.0250165, \n",
      "\n"
     ]
    },
    {
     "name": "stderr",
     "output_type": "stream",
     "text": [
      "C:\\Users\\marti\\miniconda3\\envs\\RecSys\\lib\\site-packages\\skopt\\optimizer\\optimizer.py:449: UserWarning: The objective has been evaluated at this point before.\n",
      "  warnings.warn(\"The objective has been evaluated \"\n"
     ]
    },
    {
     "name": "stdout",
     "output_type": "stream",
     "text": [
      "Iteration No: 130 ended. Search finished for the next optimal point.\n",
      "Time taken: 1.8614\n",
      "Function value obtained: -0.2116\n",
      "Current minimum: -0.2117\n",
      "Iteration No: 131 started. Searching for the next optimal point.\n",
      "SearchBayesianSkopt: Testing config: {'shrink': 302, 'topK': 200, 'feature_weighting': 'TF-IDF', 'normalize': True, 'ICM_weight': 110}\n",
      "ItemKNN_CFCBF_HybridRecommender: URM Detected 1 ( 0.0%) items with no interactions.\n",
      "ItemKNN_CFCBF_HybridRecommender: ICM Detected 559 ( 3.1%) items with no features.\n",
      "Similarity column 18059 (100.0%), 1611.61 column/sec. Elapsed time 11.21 sec\n",
      "EvaluatorHoldout: Processed 13644 (100.0%) in 11.23 sec. Users per second: 1215\n",
      "SearchBayesianSkopt: Config 130 is suboptimal. Config: {'shrink': 302, 'topK': 200, 'feature_weighting': 'TF-IDF', 'normalize': True, 'ICM_weight': 110} - results: PRECISION: 0.3489959, PRECISION_RECALL_MIN_DEN: 0.3505395, RECALL: 0.0598782, MAP: 0.2115329, MAP_MIN_DEN: 0.2121484, MRR: 0.6150847, NDCG: 0.3676606, F1: 0.1022185, HIT_RATE: 0.9548519, ARHR_ALL_HITS: 1.1222257, NOVELTY: 0.0053167, AVERAGE_POPULARITY: 0.6559613, DIVERSITY_MEAN_INTER_LIST: 0.8147400, DIVERSITY_HERFINDAHL: 0.9814680, COVERAGE_ITEM: 0.0548757, COVERAGE_ITEM_CORRECT: 0.0272994, COVERAGE_USER: 0.9995604, COVERAGE_USER_CORRECT: 0.9544322, DIVERSITY_GINI: 0.0039873, SHANNON_ENTROPY: 6.4122458, RATIO_DIVERSITY_HERFINDAHL: 0.9818471, RATIO_DIVERSITY_GINI: 0.0160840, RATIO_SHANNON_ENTROPY: 0.5175495, RATIO_AVERAGE_POPULARITY: 3.2375697, RATIO_NOVELTY: 0.0250159, \n",
      "\n",
      "Iteration No: 131 ended. Search finished for the next optimal point.\n",
      "Time taken: 24.8516\n",
      "Function value obtained: -0.2115\n",
      "Current minimum: -0.2117\n",
      "Iteration No: 132 started. Searching for the next optimal point.\n",
      "SearchBayesianSkopt: Testing config: {'shrink': 261, 'topK': 200, 'feature_weighting': 'TF-IDF', 'normalize': True, 'ICM_weight': 105}\n",
      "ItemKNN_CFCBF_HybridRecommender: URM Detected 1 ( 0.0%) items with no interactions.\n",
      "ItemKNN_CFCBF_HybridRecommender: ICM Detected 559 ( 3.1%) items with no features.\n",
      "Similarity column 18059 (100.0%), 1618.55 column/sec. Elapsed time 11.16 sec\n",
      "EvaluatorHoldout: Processed 13644 (100.0%) in 11.20 sec. Users per second: 1219\n",
      "SearchBayesianSkopt: Config 131 is suboptimal. Config: {'shrink': 261, 'topK': 200, 'feature_weighting': 'TF-IDF', 'normalize': True, 'ICM_weight': 105} - results: PRECISION: 0.3488200, PRECISION_RECALL_MIN_DEN: 0.3503731, RECALL: 0.0598816, MAP: 0.2115292, MAP_MIN_DEN: 0.2121553, MRR: 0.6164814, NDCG: 0.3677820, F1: 0.1022160, HIT_RATE: 0.9544122, ARHR_ALL_HITS: 1.1234134, NOVELTY: 0.0053175, AVERAGE_POPULARITY: 0.6556117, DIVERSITY_MEAN_INTER_LIST: 0.8150632, DIVERSITY_HERFINDAHL: 0.9815004, COVERAGE_ITEM: 0.0547649, COVERAGE_ITEM_CORRECT: 0.0276317, COVERAGE_USER: 0.9995604, COVERAGE_USER_CORRECT: 0.9539927, DIVERSITY_GINI: 0.0039970, SHANNON_ENTROPY: 6.4154910, RATIO_DIVERSITY_HERFINDAHL: 0.9818794, RATIO_DIVERSITY_GINI: 0.0161233, RATIO_SHANNON_ENTROPY: 0.5178114, RATIO_AVERAGE_POPULARITY: 3.2358442, RATIO_NOVELTY: 0.0250198, \n",
      "\n",
      "Iteration No: 132 ended. Search finished for the next optimal point.\n",
      "Time taken: 24.8999\n",
      "Function value obtained: -0.2115\n",
      "Current minimum: -0.2117\n",
      "Iteration No: 133 started. Searching for the next optimal point.\n",
      "SearchBayesianSkopt: Testing config: {'shrink': 261, 'topK': 200, 'feature_weighting': 'TF-IDF', 'normalize': True, 'ICM_weight': 105}\n",
      "SearchBayesianSkopt: Config 132 was already explored at index 131. Config: {'shrink': 261, 'topK': 200, 'feature_weighting': 'TF-IDF', 'normalize': True, 'ICM_weight': 105} - results: PRECISION: 0.3488200, PRECISION_RECALL_MIN_DEN: 0.3503731, RECALL: 0.0598816, MAP: 0.2115292, MAP_MIN_DEN: 0.2121553, MRR: 0.6164814, NDCG: 0.3677820, F1: 0.1022160, HIT_RATE: 0.9544122, ARHR_ALL_HITS: 1.1234134, NOVELTY: 0.0053175, AVERAGE_POPULARITY: 0.6556117, DIVERSITY_MEAN_INTER_LIST: 0.8150632, DIVERSITY_HERFINDAHL: 0.9815004, COVERAGE_ITEM: 0.0547649, COVERAGE_ITEM_CORRECT: 0.0276317, COVERAGE_USER: 0.9995604, COVERAGE_USER_CORRECT: 0.9539927, DIVERSITY_GINI: 0.0039970, SHANNON_ENTROPY: 6.4154910, RATIO_DIVERSITY_HERFINDAHL: 0.9818794, RATIO_DIVERSITY_GINI: 0.0161233, RATIO_SHANNON_ENTROPY: 0.5178114, RATIO_AVERAGE_POPULARITY: 3.2358442, RATIO_NOVELTY: 0.0250198, \n",
      "\n"
     ]
    },
    {
     "name": "stderr",
     "output_type": "stream",
     "text": [
      "C:\\Users\\marti\\miniconda3\\envs\\RecSys\\lib\\site-packages\\skopt\\optimizer\\optimizer.py:449: UserWarning: The objective has been evaluated at this point before.\n",
      "  warnings.warn(\"The objective has been evaluated \"\n"
     ]
    },
    {
     "name": "stdout",
     "output_type": "stream",
     "text": [
      "Iteration No: 133 ended. Search finished for the next optimal point.\n",
      "Time taken: 2.1005\n",
      "Function value obtained: -0.2115\n",
      "Current minimum: -0.2117\n",
      "Iteration No: 134 started. Searching for the next optimal point.\n",
      "SearchBayesianSkopt: Testing config: {'shrink': 297, 'topK': 200, 'feature_weighting': 'TF-IDF', 'normalize': True, 'ICM_weight': 109}\n",
      "ItemKNN_CFCBF_HybridRecommender: URM Detected 1 ( 0.0%) items with no interactions.\n",
      "ItemKNN_CFCBF_HybridRecommender: ICM Detected 559 ( 3.1%) items with no features.\n",
      "Similarity column 18059 (100.0%), 1607.17 column/sec. Elapsed time 11.24 sec\n",
      "EvaluatorHoldout: Processed 13644 (100.0%) in 11.27 sec. Users per second: 1210\n",
      "SearchBayesianSkopt: Config 133 is suboptimal. Config: {'shrink': 297, 'topK': 200, 'feature_weighting': 'TF-IDF', 'normalize': True, 'ICM_weight': 109} - results: PRECISION: 0.3491425, PRECISION_RECALL_MIN_DEN: 0.3506861, RECALL: 0.0599013, MAP: 0.2116366, MAP_MIN_DEN: 0.2122517, MRR: 0.6150370, NDCG: 0.3677796, F1: 0.1022584, HIT_RATE: 0.9546321, ARHR_ALL_HITS: 1.1224992, NOVELTY: 0.0053166, AVERAGE_POPULARITY: 0.6559533, DIVERSITY_MEAN_INTER_LIST: 0.8148092, DIVERSITY_HERFINDAHL: 0.9814750, COVERAGE_ITEM: 0.0550972, COVERAGE_ITEM_CORRECT: 0.0273548, COVERAGE_USER: 0.9995604, COVERAGE_USER_CORRECT: 0.9542125, DIVERSITY_GINI: 0.0039897, SHANNON_ENTROPY: 6.4126484, RATIO_DIVERSITY_HERFINDAHL: 0.9818540, RATIO_DIVERSITY_GINI: 0.0160940, RATIO_SHANNON_ENTROPY: 0.5175820, RATIO_AVERAGE_POPULARITY: 3.2375304, RATIO_NOVELTY: 0.0250157, \n",
      "\n",
      "Iteration No: 134 ended. Search finished for the next optimal point.\n",
      "Time taken: 24.9066\n",
      "Function value obtained: -0.2116\n",
      "Current minimum: -0.2117\n",
      "Iteration No: 135 started. Searching for the next optimal point.\n",
      "SearchBayesianSkopt: Testing config: {'shrink': 198, 'topK': 200, 'feature_weighting': 'TF-IDF', 'normalize': True, 'ICM_weight': 103}\n",
      "ItemKNN_CFCBF_HybridRecommender: URM Detected 1 ( 0.0%) items with no interactions.\n",
      "ItemKNN_CFCBF_HybridRecommender: ICM Detected 559 ( 3.1%) items with no features.\n",
      "Similarity column 18059 (100.0%), 1622.63 column/sec. Elapsed time 11.13 sec\n",
      "EvaluatorHoldout: Processed 13644 (100.0%) in 11.13 sec. Users per second: 1226\n",
      "SearchBayesianSkopt: Config 134 is suboptimal. Config: {'shrink': 198, 'topK': 200, 'feature_weighting': 'TF-IDF', 'normalize': True, 'ICM_weight': 103} - results: PRECISION: 0.3487467, PRECISION_RECALL_MIN_DEN: 0.3502917, RECALL: 0.0598494, MAP: 0.2115680, MAP_MIN_DEN: 0.2121936, MRR: 0.6164112, NDCG: 0.3677710, F1: 0.1021659, HIT_RATE: 0.9540457, ARHR_ALL_HITS: 1.1235506, NOVELTY: 0.0053189, AVERAGE_POPULARITY: 0.6552579, DIVERSITY_MEAN_INTER_LIST: 0.8153624, DIVERSITY_HERFINDAHL: 0.9815303, COVERAGE_ITEM: 0.0555402, COVERAGE_ITEM_CORRECT: 0.0276317, COVERAGE_USER: 0.9995604, COVERAGE_USER_CORRECT: 0.9536264, DIVERSITY_GINI: 0.0040188, SHANNON_ENTROPY: 6.4202606, RATIO_DIVERSITY_HERFINDAHL: 0.9819093, RATIO_DIVERSITY_GINI: 0.0162112, RATIO_SHANNON_ENTROPY: 0.5181964, RATIO_AVERAGE_POPULARITY: 3.2340980, RATIO_NOVELTY: 0.0250264, \n",
      "\n",
      "Iteration No: 135 ended. Search finished for the next optimal point.\n",
      "Time taken: 24.6985\n",
      "Function value obtained: -0.2116\n",
      "Current minimum: -0.2117\n",
      "Iteration No: 136 started. Searching for the next optimal point.\n",
      "SearchBayesianSkopt: Testing config: {'shrink': 315, 'topK': 200, 'feature_weighting': 'TF-IDF', 'normalize': True, 'ICM_weight': 110}\n",
      "ItemKNN_CFCBF_HybridRecommender: URM Detected 1 ( 0.0%) items with no interactions.\n",
      "ItemKNN_CFCBF_HybridRecommender: ICM Detected 559 ( 3.1%) items with no features.\n",
      "Similarity column 18059 (100.0%), 1611.19 column/sec. Elapsed time 11.21 sec\n",
      "EvaluatorHoldout: Processed 13644 (100.0%) in 11.29 sec. Users per second: 1209\n",
      "SearchBayesianSkopt: Config 135 is suboptimal. Config: {'shrink': 315, 'topK': 200, 'feature_weighting': 'TF-IDF', 'normalize': True, 'ICM_weight': 110} - results: PRECISION: 0.3490179, PRECISION_RECALL_MIN_DEN: 0.3505615, RECALL: 0.0598899, MAP: 0.2115376, MAP_MIN_DEN: 0.2121529, MRR: 0.6150995, NDCG: 0.3676858, F1: 0.1022365, HIT_RATE: 0.9549252, ARHR_ALL_HITS: 1.1223042, NOVELTY: 0.0053165, AVERAGE_POPULARITY: 0.6560140, DIVERSITY_MEAN_INTER_LIST: 0.8146771, DIVERSITY_HERFINDAHL: 0.9814617, COVERAGE_ITEM: 0.0550418, COVERAGE_ITEM_CORRECT: 0.0275763, COVERAGE_USER: 0.9995604, COVERAGE_USER_CORRECT: 0.9545055, DIVERSITY_GINI: 0.0039861, SHANNON_ENTROPY: 6.4115153, RATIO_DIVERSITY_HERFINDAHL: 0.9818408, RATIO_DIVERSITY_GINI: 0.0160794, RATIO_SHANNON_ENTROPY: 0.5174905, RATIO_AVERAGE_POPULARITY: 3.2378300, RATIO_NOVELTY: 0.0250153, \n",
      "\n",
      "Iteration No: 136 ended. Search finished for the next optimal point.\n",
      "Time taken: 24.9876\n",
      "Function value obtained: -0.2115\n",
      "Current minimum: -0.2117\n",
      "Iteration No: 137 started. Searching for the next optimal point.\n",
      "SearchBayesianSkopt: Testing config: {'shrink': 500, 'topK': 200, 'feature_weighting': 'TF-IDF', 'normalize': True, 'ICM_weight': 493}\n",
      "ItemKNN_CFCBF_HybridRecommender: URM Detected 1 ( 0.0%) items with no interactions.\n",
      "ItemKNN_CFCBF_HybridRecommender: ICM Detected 559 ( 3.1%) items with no features.\n",
      "Similarity column 18059 (100.0%), 1605.19 column/sec. Elapsed time 11.25 sec\n",
      "EvaluatorHoldout: Processed 13644 (100.0%) in 8.82 sec. Users per second: 1547\n",
      "SearchBayesianSkopt: Config 136 is suboptimal. Config: {'shrink': 500, 'topK': 200, 'feature_weighting': 'TF-IDF', 'normalize': True, 'ICM_weight': 493} - results: PRECISION: 0.3396585, PRECISION_RECALL_MIN_DEN: 0.3409410, RECALL: 0.0573694, MAP: 0.2032166, MAP_MIN_DEN: 0.2037237, MRR: 0.6038054, NDCG: 0.3571807, F1: 0.0981594, HIT_RATE: 0.9493550, ARHR_ALL_HITS: 1.0894309, NOVELTY: 0.0053148, AVERAGE_POPULARITY: 0.6540905, DIVERSITY_MEAN_INTER_LIST: 0.8207842, DIVERSITY_HERFINDAHL: 0.9820724, COVERAGE_ITEM: 0.0533252, COVERAGE_ITEM_CORRECT: 0.0243646, COVERAGE_USER: 0.9995604, COVERAGE_USER_CORRECT: 0.9489377, DIVERSITY_GINI: 0.0039242, SHANNON_ENTROPY: 6.4173435, RATIO_DIVERSITY_HERFINDAHL: 0.9824517, RATIO_DIVERSITY_GINI: 0.0158295, RATIO_SHANNON_ENTROPY: 0.5179609, RATIO_AVERAGE_POPULARITY: 3.2283365, RATIO_NOVELTY: 0.0250071, \n",
      "\n",
      "Iteration No: 137 ended. Search finished for the next optimal point.\n",
      "Time taken: 22.5615\n",
      "Function value obtained: -0.2032\n",
      "Current minimum: -0.2117\n",
      "Iteration No: 138 started. Searching for the next optimal point.\n",
      "SearchBayesianSkopt: Testing config: {'shrink': 248, 'topK': 200, 'feature_weighting': 'TF-IDF', 'normalize': True, 'ICM_weight': 107}\n",
      "ItemKNN_CFCBF_HybridRecommender: URM Detected 1 ( 0.0%) items with no interactions.\n",
      "ItemKNN_CFCBF_HybridRecommender: ICM Detected 559 ( 3.1%) items with no features.\n",
      "Similarity column 18059 (100.0%), 1621.17 column/sec. Elapsed time 11.14 sec\n",
      "EvaluatorHoldout: Processed 13644 (100.0%) in 11.25 sec. Users per second: 1212\n",
      "SearchBayesianSkopt: Config 137 is suboptimal. Config: {'shrink': 248, 'topK': 200, 'feature_weighting': 'TF-IDF', 'normalize': True, 'ICM_weight': 107} - results: PRECISION: 0.3488713, PRECISION_RECALL_MIN_DEN: 0.3504150, RECALL: 0.0598832, MAP: 0.2115362, MAP_MIN_DEN: 0.2121630, MRR: 0.6158047, NDCG: 0.3676988, F1: 0.1022204, HIT_RATE: 0.9546321, ARHR_ALL_HITS: 1.1227691, NOVELTY: 0.0053179, AVERAGE_POPULARITY: 0.6555281, DIVERSITY_MEAN_INTER_LIST: 0.8151726, DIVERSITY_HERFINDAHL: 0.9815113, COVERAGE_ITEM: 0.0552633, COVERAGE_ITEM_CORRECT: 0.0275209, COVERAGE_USER: 0.9995604, COVERAGE_USER_CORRECT: 0.9542125, DIVERSITY_GINI: 0.0040072, SHANNON_ENTROPY: 6.4172875, RATIO_DIVERSITY_HERFINDAHL: 0.9818903, RATIO_DIVERSITY_GINI: 0.0161644, RATIO_SHANNON_ENTROPY: 0.5179564, RATIO_AVERAGE_POPULARITY: 3.2354318, RATIO_NOVELTY: 0.0250219, \n",
      "\n",
      "Iteration No: 138 ended. Search finished for the next optimal point.\n",
      "Time taken: 24.9442\n",
      "Function value obtained: -0.2115\n",
      "Current minimum: -0.2117\n",
      "Iteration No: 139 started. Searching for the next optimal point.\n",
      "SearchBayesianSkopt: Testing config: {'shrink': 500, 'topK': 1000, 'feature_weighting': 'TF-IDF', 'normalize': True, 'ICM_weight': 500}\n",
      "ItemKNN_CFCBF_HybridRecommender: URM Detected 1 ( 0.0%) items with no interactions.\n",
      "ItemKNN_CFCBF_HybridRecommender: ICM Detected 559 ( 3.1%) items with no features.\n",
      "Similarity column 18059 (100.0%), 1504.38 column/sec. Elapsed time 12.00 sec\n",
      "EvaluatorHoldout: Processed 13644 (100.0%) in 13.80 sec. Users per second: 989\n"
     ]
    },
    {
     "name": "stdout",
     "output_type": "stream",
     "text": [
      "SearchBayesianSkopt: Config 138 is suboptimal. Config: {'shrink': 500, 'topK': 1000, 'feature_weighting': 'TF-IDF', 'normalize': True, 'ICM_weight': 500} - results: PRECISION: 0.3077983, PRECISION_RECALL_MIN_DEN: 0.3089317, RECALL: 0.0512862, MAP: 0.1809166, MAP_MIN_DEN: 0.1813911, MRR: 0.5733872, NDCG: 0.3264430, F1: 0.0879225, HIT_RATE: 0.9238493, ARHR_ALL_HITS: 1.0027030, NOVELTY: 0.0053633, AVERAGE_POPULARITY: 0.6545859, DIVERSITY_MEAN_INTER_LIST: 0.7749750, DIVERSITY_HERFINDAHL: 0.9774918, COVERAGE_ITEM: 0.0528822, COVERAGE_ITEM_CORRECT: 0.0214298, COVERAGE_USER: 0.9995604, COVERAGE_USER_CORRECT: 0.9234432, DIVERSITY_GINI: 0.0032309, SHANNON_ENTROPY: 6.0797644, RATIO_DIVERSITY_HERFINDAHL: 0.9778693, RATIO_DIVERSITY_GINI: 0.0130330, RATIO_SHANNON_ENTROPY: 0.4907140, RATIO_AVERAGE_POPULARITY: 3.2307814, RATIO_NOVELTY: 0.0252352, \n",
      "\n",
      "Iteration No: 139 ended. Search finished for the next optimal point.\n",
      "Time taken: 28.6980\n",
      "Function value obtained: -0.1809\n",
      "Current minimum: -0.2117\n",
      "Iteration No: 140 started. Searching for the next optimal point.\n",
      "SearchBayesianSkopt: Testing config: {'shrink': 302, 'topK': 200, 'feature_weighting': 'TF-IDF', 'normalize': True, 'ICM_weight': 109}\n",
      "ItemKNN_CFCBF_HybridRecommender: URM Detected 1 ( 0.0%) items with no interactions.\n",
      "ItemKNN_CFCBF_HybridRecommender: ICM Detected 559 ( 3.1%) items with no features.\n",
      "Similarity column 18059 (100.0%), 1581.97 column/sec. Elapsed time 11.42 sec\n",
      "EvaluatorHoldout: Processed 13644 (100.0%) in 11.33 sec. Users per second: 1204\n",
      "SearchBayesianSkopt: Config 139 is suboptimal. Config: {'shrink': 302, 'topK': 200, 'feature_weighting': 'TF-IDF', 'normalize': True, 'ICM_weight': 109} - results: PRECISION: 0.3489959, PRECISION_RECALL_MIN_DEN: 0.3505395, RECALL: 0.0598914, MAP: 0.2115577, MAP_MIN_DEN: 0.2121728, MRR: 0.6152239, NDCG: 0.3677001, F1: 0.1022378, HIT_RATE: 0.9546321, ARHR_ALL_HITS: 1.1224564, NOVELTY: 0.0053167, AVERAGE_POPULARITY: 0.6559536, DIVERSITY_MEAN_INTER_LIST: 0.8147201, DIVERSITY_HERFINDAHL: 0.9814660, COVERAGE_ITEM: 0.0551526, COVERAGE_ITEM_CORRECT: 0.0274102, COVERAGE_USER: 0.9995604, COVERAGE_USER_CORRECT: 0.9542125, DIVERSITY_GINI: 0.0039908, SHANNON_ENTROPY: 6.4123116, RATIO_DIVERSITY_HERFINDAHL: 0.9818451, RATIO_DIVERSITY_GINI: 0.0160984, RATIO_SHANNON_ENTROPY: 0.5175548, RATIO_AVERAGE_POPULARITY: 3.2375320, RATIO_NOVELTY: 0.0250161, \n",
      "\n",
      "Iteration No: 140 ended. Search finished for the next optimal point.\n",
      "Time taken: 25.4055\n",
      "Function value obtained: -0.2116\n",
      "Current minimum: -0.2117\n",
      "Iteration No: 141 started. Searching for the next optimal point.\n",
      "SearchBayesianSkopt: Testing config: {'shrink': 65, 'topK': 200, 'feature_weighting': 'TF-IDF', 'normalize': True, 'ICM_weight': 101}\n",
      "ItemKNN_CFCBF_HybridRecommender: URM Detected 1 ( 0.0%) items with no interactions.\n",
      "ItemKNN_CFCBF_HybridRecommender: ICM Detected 559 ( 3.1%) items with no features.\n",
      "Similarity column 18059 (100.0%), 1593.27 column/sec. Elapsed time 11.33 sec\n",
      "EvaluatorHoldout: Processed 13644 (100.0%) in 10.92 sec. Users per second: 1250\n",
      "SearchBayesianSkopt: Config 140 is suboptimal. Config: {'shrink': 65, 'topK': 200, 'feature_weighting': 'TF-IDF', 'normalize': True, 'ICM_weight': 101} - results: PRECISION: 0.3487540, PRECISION_RECALL_MIN_DEN: 0.3502380, RECALL: 0.0597942, MAP: 0.2113758, MAP_MIN_DEN: 0.2119877, MRR: 0.6155894, NDCG: 0.3675664, F1: 0.1020857, HIT_RATE: 0.9541190, ARHR_ALL_HITS: 1.1224554, NOVELTY: 0.0053222, AVERAGE_POPULARITY: 0.6543874, DIVERSITY_MEAN_INTER_LIST: 0.8161428, DIVERSITY_HERFINDAHL: 0.9816083, COVERAGE_ITEM: 0.0573675, COVERAGE_ITEM_CORRECT: 0.0277424, COVERAGE_USER: 0.9995604, COVERAGE_USER_CORRECT: 0.9536996, DIVERSITY_GINI: 0.0040666, SHANNON_ENTROPY: 6.4312956, RATIO_DIVERSITY_HERFINDAHL: 0.9819874, RATIO_DIVERSITY_GINI: 0.0164041, RATIO_SHANNON_ENTROPY: 0.5190870, RATIO_AVERAGE_POPULARITY: 3.2298020, RATIO_NOVELTY: 0.0250420, \n",
      "\n",
      "Iteration No: 141 ended. Search finished for the next optimal point.\n",
      "Time taken: 24.9686\n",
      "Function value obtained: -0.2114\n",
      "Current minimum: -0.2117\n",
      "Iteration No: 142 started. Searching for the next optimal point.\n",
      "SearchBayesianSkopt: Testing config: {'shrink': 212, 'topK': 200, 'feature_weighting': 'TF-IDF', 'normalize': True, 'ICM_weight': 105}\n",
      "ItemKNN_CFCBF_HybridRecommender: URM Detected 1 ( 0.0%) items with no interactions.\n",
      "ItemKNN_CFCBF_HybridRecommender: ICM Detected 559 ( 3.1%) items with no features.\n",
      "Similarity column 18059 (100.0%), 1606.99 column/sec. Elapsed time 11.24 sec\n",
      "EvaluatorHoldout: Processed 13644 (100.0%) in 11.16 sec. Users per second: 1223\n",
      "SearchBayesianSkopt: Config 141 is suboptimal. Config: {'shrink': 212, 'topK': 200, 'feature_weighting': 'TF-IDF', 'normalize': True, 'ICM_weight': 105} - results: PRECISION: 0.3488860, PRECISION_RECALL_MIN_DEN: 0.3504328, RECALL: 0.0598678, MAP: 0.2115342, MAP_MIN_DEN: 0.2121587, MRR: 0.6160610, NDCG: 0.3677426, F1: 0.1021987, HIT_RATE: 0.9544122, ARHR_ALL_HITS: 1.1230181, NOVELTY: 0.0053187, AVERAGE_POPULARITY: 0.6552797, DIVERSITY_MEAN_INTER_LIST: 0.8154299, DIVERSITY_HERFINDAHL: 0.9815370, COVERAGE_ITEM: 0.0557063, COVERAGE_ITEM_CORRECT: 0.0276317, COVERAGE_USER: 0.9995604, COVERAGE_USER_CORRECT: 0.9539927, DIVERSITY_GINI: 0.0040186, SHANNON_ENTROPY: 6.4202257, RATIO_DIVERSITY_HERFINDAHL: 0.9819161, RATIO_DIVERSITY_GINI: 0.0162106, RATIO_SHANNON_ENTROPY: 0.5181936, RATIO_AVERAGE_POPULARITY: 3.2342058, RATIO_NOVELTY: 0.0250256, \n",
      "\n",
      "Iteration No: 142 ended. Search finished for the next optimal point.\n",
      "Time taken: 25.0502\n",
      "Function value obtained: -0.2115\n",
      "Current minimum: -0.2117\n",
      "Iteration No: 143 started. Searching for the next optimal point.\n",
      "SearchBayesianSkopt: Testing config: {'shrink': 349, 'topK': 200, 'feature_weighting': 'TF-IDF', 'normalize': True, 'ICM_weight': 118}\n",
      "ItemKNN_CFCBF_HybridRecommender: URM Detected 1 ( 0.0%) items with no interactions.\n",
      "ItemKNN_CFCBF_HybridRecommender: ICM Detected 559 ( 3.1%) items with no features.\n",
      "Similarity column 18059 (100.0%), 1611.76 column/sec. Elapsed time 11.20 sec\n",
      "EvaluatorHoldout: Processed 13644 (100.0%) in 11.17 sec. Users per second: 1221\n",
      "SearchBayesianSkopt: Config 142 is suboptimal. Config: {'shrink': 349, 'topK': 200, 'feature_weighting': 'TF-IDF', 'normalize': True, 'ICM_weight': 118} - results: PRECISION: 0.3488640, PRECISION_RECALL_MIN_DEN: 0.3503939, RECALL: 0.0598343, MAP: 0.2115303, MAP_MIN_DEN: 0.2121458, MRR: 0.6147848, NDCG: 0.3675327, F1: 0.1021489, HIT_RATE: 0.9547054, ARHR_ALL_HITS: 1.1218365, NOVELTY: 0.0053167, AVERAGE_POPULARITY: 0.6558830, DIVERSITY_MEAN_INTER_LIST: 0.8148198, DIVERSITY_HERFINDAHL: 0.9814760, COVERAGE_ITEM: 0.0553741, COVERAGE_ITEM_CORRECT: 0.0276317, COVERAGE_USER: 0.9995604, COVERAGE_USER_CORRECT: 0.9542857, DIVERSITY_GINI: 0.0039897, SHANNON_ENTROPY: 6.4122296, RATIO_DIVERSITY_HERFINDAHL: 0.9818551, RATIO_DIVERSITY_GINI: 0.0160939, RATIO_SHANNON_ENTROPY: 0.5175482, RATIO_AVERAGE_POPULARITY: 3.2371833, RATIO_NOVELTY: 0.0250160, \n",
      "\n",
      "Iteration No: 143 ended. Search finished for the next optimal point.\n",
      "Time taken: 25.1586\n",
      "Function value obtained: -0.2115\n",
      "Current minimum: -0.2117\n",
      "Iteration No: 144 started. Searching for the next optimal point.\n",
      "SearchBayesianSkopt: Testing config: {'shrink': 180, 'topK': 200, 'feature_weighting': 'TF-IDF', 'normalize': True, 'ICM_weight': 110}\n",
      "ItemKNN_CFCBF_HybridRecommender: URM Detected 1 ( 0.0%) items with no interactions.\n",
      "ItemKNN_CFCBF_HybridRecommender: ICM Detected 559 ( 3.1%) items with no features.\n",
      "Similarity column 18059 (100.0%), 1609.46 column/sec. Elapsed time 11.22 sec\n",
      "EvaluatorHoldout: Processed 13644 (100.0%) in 11.02 sec. Users per second: 1238\n",
      "SearchBayesianSkopt: Config 143 is suboptimal. Config: {'shrink': 180, 'topK': 200, 'feature_weighting': 'TF-IDF', 'normalize': True, 'ICM_weight': 110} - results: PRECISION: 0.3489959, PRECISION_RECALL_MIN_DEN: 0.3505315, RECALL: 0.0598600, MAP: 0.2115163, MAP_MIN_DEN: 0.2121248, MRR: 0.6150072, NDCG: 0.3676350, F1: 0.1021920, HIT_RATE: 0.9545588, ARHR_ALL_HITS: 1.1221374, NOVELTY: 0.0053197, AVERAGE_POPULARITY: 0.6550317, DIVERSITY_MEAN_INTER_LIST: 0.8156693, DIVERSITY_HERFINDAHL: 0.9815609, COVERAGE_ITEM: 0.0557617, COVERAGE_ITEM_CORRECT: 0.0274102, COVERAGE_USER: 0.9995604, COVERAGE_USER_CORRECT: 0.9541392, DIVERSITY_GINI: 0.0040263, SHANNON_ENTROPY: 6.4230294, RATIO_DIVERSITY_HERFINDAHL: 0.9819400, RATIO_DIVERSITY_GINI: 0.0162414, RATIO_SHANNON_ENTROPY: 0.5184198, RATIO_AVERAGE_POPULARITY: 3.2329817, RATIO_NOVELTY: 0.0250301, \n",
      "\n"
     ]
    },
    {
     "name": "stdout",
     "output_type": "stream",
     "text": [
      "Iteration No: 144 ended. Search finished for the next optimal point.\n",
      "Time taken: 24.8576\n",
      "Function value obtained: -0.2115\n",
      "Current minimum: -0.2117\n",
      "Iteration No: 145 started. Searching for the next optimal point.\n",
      "SearchBayesianSkopt: Testing config: {'shrink': 121, 'topK': 200, 'feature_weighting': 'TF-IDF', 'normalize': True, 'ICM_weight': 104}\n",
      "ItemKNN_CFCBF_HybridRecommender: URM Detected 1 ( 0.0%) items with no interactions.\n",
      "ItemKNN_CFCBF_HybridRecommender: ICM Detected 559 ( 3.1%) items with no features.\n",
      "Similarity column 18059 (100.0%), 1609.32 column/sec. Elapsed time 11.22 sec\n",
      "EvaluatorHoldout: Processed 13644 (100.0%) in 10.94 sec. Users per second: 1247\n",
      "SearchBayesianSkopt: Config 144 is suboptimal. Config: {'shrink': 121, 'topK': 200, 'feature_weighting': 'TF-IDF', 'normalize': True, 'ICM_weight': 104} - results: PRECISION: 0.3489592, PRECISION_RECALL_MIN_DEN: 0.3504433, RECALL: 0.0598428, MAP: 0.2114339, MAP_MIN_DEN: 0.2120486, MRR: 0.6155058, NDCG: 0.3676346, F1: 0.1021654, HIT_RATE: 0.9547054, ARHR_ALL_HITS: 1.1222968, NOVELTY: 0.0053209, AVERAGE_POPULARITY: 0.6547126, DIVERSITY_MEAN_INTER_LIST: 0.8159425, DIVERSITY_HERFINDAHL: 0.9815883, COVERAGE_ITEM: 0.0565369, COVERAGE_ITEM_CORRECT: 0.0277424, COVERAGE_USER: 0.9995604, COVERAGE_USER_CORRECT: 0.9542857, DIVERSITY_GINI: 0.0040461, SHANNON_ENTROPY: 6.4269675, RATIO_DIVERSITY_HERFINDAHL: 0.9819674, RATIO_DIVERSITY_GINI: 0.0163214, RATIO_SHANNON_ENTROPY: 0.5187377, RATIO_AVERAGE_POPULARITY: 3.2314067, RATIO_NOVELTY: 0.0250360, \n",
      "\n",
      "Iteration No: 145 ended. Search finished for the next optimal point.\n",
      "Time taken: 24.9676\n",
      "Function value obtained: -0.2114\n",
      "Current minimum: -0.2117\n",
      "Iteration No: 146 started. Searching for the next optimal point.\n",
      "SearchBayesianSkopt: Testing config: {'shrink': 124, 'topK': 200, 'feature_weighting': 'TF-IDF', 'normalize': True, 'ICM_weight': 104}\n",
      "ItemKNN_CFCBF_HybridRecommender: URM Detected 1 ( 0.0%) items with no interactions.\n",
      "ItemKNN_CFCBF_HybridRecommender: ICM Detected 559 ( 3.1%) items with no features.\n",
      "Similarity column 18059 (100.0%), 1606.32 column/sec. Elapsed time 11.24 sec\n",
      "EvaluatorHoldout: Processed 13644 (100.0%) in 10.95 sec. Users per second: 1245\n",
      "SearchBayesianSkopt: Config 145 is suboptimal. Config: {'shrink': 124, 'topK': 200, 'feature_weighting': 'TF-IDF', 'normalize': True, 'ICM_weight': 104} - results: PRECISION: 0.3489739, PRECISION_RECALL_MIN_DEN: 0.3504580, RECALL: 0.0598455, MAP: 0.2114428, MAP_MIN_DEN: 0.2120575, MRR: 0.6155485, NDCG: 0.3676490, F1: 0.1021699, HIT_RATE: 0.9546321, ARHR_ALL_HITS: 1.1223489, NOVELTY: 0.0053209, AVERAGE_POPULARITY: 0.6547380, DIVERSITY_MEAN_INTER_LIST: 0.8159171, DIVERSITY_HERFINDAHL: 0.9815857, COVERAGE_ITEM: 0.0565923, COVERAGE_ITEM_CORRECT: 0.0276870, COVERAGE_USER: 0.9995604, COVERAGE_USER_CORRECT: 0.9542125, DIVERSITY_GINI: 0.0040466, SHANNON_ENTROPY: 6.4268014, RATIO_DIVERSITY_HERFINDAHL: 0.9819648, RATIO_DIVERSITY_GINI: 0.0163235, RATIO_SHANNON_ENTROPY: 0.5187243, RATIO_AVERAGE_POPULARITY: 3.2315324, RATIO_NOVELTY: 0.0250357, \n",
      "\n",
      "Iteration No: 146 ended. Search finished for the next optimal point.\n",
      "Time taken: 24.9908\n",
      "Function value obtained: -0.2114\n",
      "Current minimum: -0.2117\n",
      "Iteration No: 147 started. Searching for the next optimal point.\n",
      "SearchBayesianSkopt: Testing config: {'shrink': 201, 'topK': 200, 'feature_weighting': 'TF-IDF', 'normalize': True, 'ICM_weight': 105}\n",
      "ItemKNN_CFCBF_HybridRecommender: URM Detected 1 ( 0.0%) items with no interactions.\n",
      "ItemKNN_CFCBF_HybridRecommender: ICM Detected 559 ( 3.1%) items with no features.\n",
      "Similarity column 18059 (100.0%), 1625.99 column/sec. Elapsed time 11.11 sec\n",
      "EvaluatorHoldout: Processed 13644 (100.0%) in 11.12 sec. Users per second: 1227\n",
      "SearchBayesianSkopt: Config 146 is suboptimal. Config: {'shrink': 201, 'topK': 200, 'feature_weighting': 'TF-IDF', 'normalize': True, 'ICM_weight': 105} - results: PRECISION: 0.3488640, PRECISION_RECALL_MIN_DEN: 0.3504108, RECALL: 0.0598536, MAP: 0.2115168, MAP_MIN_DEN: 0.2121422, MRR: 0.6159937, NDCG: 0.3677171, F1: 0.1021769, HIT_RATE: 0.9544855, ARHR_ALL_HITS: 1.1229248, NOVELTY: 0.0053189, AVERAGE_POPULARITY: 0.6552033, DIVERSITY_MEAN_INTER_LIST: 0.8155128, DIVERSITY_HERFINDAHL: 0.9815453, COVERAGE_ITEM: 0.0555402, COVERAGE_ITEM_CORRECT: 0.0276317, COVERAGE_USER: 0.9995604, COVERAGE_USER_CORRECT: 0.9540659, DIVERSITY_GINI: 0.0040190, SHANNON_ENTROPY: 6.4209510, RATIO_DIVERSITY_HERFINDAHL: 0.9819244, RATIO_DIVERSITY_GINI: 0.0162122, RATIO_SHANNON_ENTROPY: 0.5182521, RATIO_AVERAGE_POPULARITY: 3.2338285, RATIO_NOVELTY: 0.0250266, \n",
      "\n",
      "Iteration No: 147 ended. Search finished for the next optimal point.\n",
      "Time taken: 24.9772\n",
      "Function value obtained: -0.2115\n",
      "Current minimum: -0.2117\n",
      "Iteration No: 148 started. Searching for the next optimal point.\n",
      "SearchBayesianSkopt: Testing config: {'shrink': 126, 'topK': 200, 'feature_weighting': 'TF-IDF', 'normalize': True, 'ICM_weight': 105}\n",
      "ItemKNN_CFCBF_HybridRecommender: URM Detected 1 ( 0.0%) items with no interactions.\n",
      "ItemKNN_CFCBF_HybridRecommender: ICM Detected 559 ( 3.1%) items with no features.\n",
      "Similarity column 18059 (100.0%), 1611.19 column/sec. Elapsed time 11.21 sec\n",
      "EvaluatorHoldout: Processed 13644 (100.0%) in 10.95 sec. Users per second: 1246\n",
      "SearchBayesianSkopt: Config 147 is suboptimal. Config: {'shrink': 126, 'topK': 200, 'feature_weighting': 'TF-IDF', 'normalize': True, 'ICM_weight': 105} - results: PRECISION: 0.3488640, PRECISION_RECALL_MIN_DEN: 0.3503449, RECALL: 0.0598107, MAP: 0.2113643, MAP_MIN_DEN: 0.2119790, MRR: 0.6153650, NDCG: 0.3675327, F1: 0.1021145, HIT_RATE: 0.9544122, ARHR_ALL_HITS: 1.1219890, NOVELTY: 0.0053209, AVERAGE_POPULARITY: 0.6546887, DIVERSITY_MEAN_INTER_LIST: 0.8159976, DIVERSITY_HERFINDAHL: 0.9815938, COVERAGE_ITEM: 0.0565923, COVERAGE_ITEM_CORRECT: 0.0276870, COVERAGE_USER: 0.9995604, COVERAGE_USER_CORRECT: 0.9539927, DIVERSITY_GINI: 0.0040461, SHANNON_ENTROPY: 6.4270921, RATIO_DIVERSITY_HERFINDAHL: 0.9819729, RATIO_DIVERSITY_GINI: 0.0163215, RATIO_SHANNON_ENTROPY: 0.5187478, RATIO_AVERAGE_POPULARITY: 3.2312889, RATIO_NOVELTY: 0.0250359, \n",
      "\n",
      "Iteration No: 148 ended. Search finished for the next optimal point.\n",
      "Time taken: 24.9646\n",
      "Function value obtained: -0.2114\n",
      "Current minimum: -0.2117\n",
      "Iteration No: 149 started. Searching for the next optimal point.\n",
      "SearchBayesianSkopt: Testing config: {'shrink': 124, 'topK': 200, 'feature_weighting': 'TF-IDF', 'normalize': True, 'ICM_weight': 105}\n",
      "ItemKNN_CFCBF_HybridRecommender: URM Detected 1 ( 0.0%) items with no interactions.\n",
      "ItemKNN_CFCBF_HybridRecommender: ICM Detected 559 ( 3.1%) items with no features.\n",
      "Similarity column 18059 (100.0%), 1614.94 column/sec. Elapsed time 11.18 sec\n",
      "EvaluatorHoldout: Processed 13644 (100.0%) in 10.95 sec. Users per second: 1246\n",
      "SearchBayesianSkopt: Config 148 is suboptimal. Config: {'shrink': 124, 'topK': 200, 'feature_weighting': 'TF-IDF', 'normalize': True, 'ICM_weight': 105} - results: PRECISION: 0.3488860, PRECISION_RECALL_MIN_DEN: 0.3503669, RECALL: 0.0598151, MAP: 0.2113680, MAP_MIN_DEN: 0.2119827, MRR: 0.6153484, NDCG: 0.3675440, F1: 0.1021218, HIT_RATE: 0.9544122, ARHR_ALL_HITS: 1.1219941, NOVELTY: 0.0053209, AVERAGE_POPULARITY: 0.6546780, DIVERSITY_MEAN_INTER_LIST: 0.8160042, DIVERSITY_HERFINDAHL: 0.9815944, COVERAGE_ITEM: 0.0567030, COVERAGE_ITEM_CORRECT: 0.0277978, COVERAGE_USER: 0.9995604, COVERAGE_USER_CORRECT: 0.9539927, DIVERSITY_GINI: 0.0040470, SHANNON_ENTROPY: 6.4272047, RATIO_DIVERSITY_HERFINDAHL: 0.9819735, RATIO_DIVERSITY_GINI: 0.0163249, RATIO_SHANNON_ENTROPY: 0.5187568, RATIO_AVERAGE_POPULARITY: 3.2312358, RATIO_NOVELTY: 0.0250361, \n",
      "\n",
      "Iteration No: 149 ended. Search finished for the next optimal point.\n",
      "Time taken: 25.0216\n",
      "Function value obtained: -0.2114\n",
      "Current minimum: -0.2117\n",
      "Iteration No: 150 started. Searching for the next optimal point.\n",
      "SearchBayesianSkopt: Testing config: {'shrink': 176, 'topK': 200, 'feature_weighting': 'TF-IDF', 'normalize': True, 'ICM_weight': 112}\n",
      "ItemKNN_CFCBF_HybridRecommender: URM Detected 1 ( 0.0%) items with no interactions.\n",
      "ItemKNN_CFCBF_HybridRecommender: ICM Detected 559 ( 3.1%) items with no features.\n",
      "Similarity column 18059 (100.0%), 1610.90 column/sec. Elapsed time 11.21 sec\n",
      "EvaluatorHoldout: Processed 13644 (100.0%) in 10.88 sec. Users per second: 1254\n"
     ]
    },
    {
     "name": "stdout",
     "output_type": "stream",
     "text": [
      "SearchBayesianSkopt: Config 149 is suboptimal. Config: {'shrink': 176, 'topK': 200, 'feature_weighting': 'TF-IDF', 'normalize': True, 'ICM_weight': 112} - results: PRECISION: 0.3489446, PRECISION_RECALL_MIN_DEN: 0.3504134, RECALL: 0.0597625, MAP: 0.2115535, MAP_MIN_DEN: 0.2121518, MRR: 0.6157797, NDCG: 0.3676856, F1: 0.1020476, HIT_RATE: 0.9544122, ARHR_ALL_HITS: 1.1227413, NOVELTY: 0.0053200, AVERAGE_POPULARITY: 0.6549013, DIVERSITY_MEAN_INTER_LIST: 0.8158295, DIVERSITY_HERFINDAHL: 0.9815770, COVERAGE_ITEM: 0.0560385, COVERAGE_ITEM_CORRECT: 0.0274655, COVERAGE_USER: 0.9995604, COVERAGE_USER_CORRECT: 0.9539927, DIVERSITY_GINI: 0.0040329, SHANNON_ENTROPY: 6.4244293, RATIO_DIVERSITY_HERFINDAHL: 0.9819561, RATIO_DIVERSITY_GINI: 0.0162680, RATIO_SHANNON_ENTROPY: 0.5185328, RATIO_AVERAGE_POPULARITY: 3.2323381, RATIO_NOVELTY: 0.0250317, \n",
      "\n",
      "Iteration No: 150 ended. Search finished for the next optimal point.\n",
      "Time taken: 24.9497\n",
      "Function value obtained: -0.2116\n",
      "Current minimum: -0.2117\n",
      "Iteration No: 151 started. Searching for the next optimal point.\n",
      "SearchBayesianSkopt: Testing config: {'shrink': 159, 'topK': 200, 'feature_weighting': 'TF-IDF', 'normalize': True, 'ICM_weight': 111}\n",
      "ItemKNN_CFCBF_HybridRecommender: URM Detected 1 ( 0.0%) items with no interactions.\n",
      "ItemKNN_CFCBF_HybridRecommender: ICM Detected 559 ( 3.1%) items with no features.\n",
      "Similarity column 18059 (100.0%), 1625.40 column/sec. Elapsed time 11.11 sec\n",
      "EvaluatorHoldout: Processed 13644 (100.0%) in 10.93 sec. Users per second: 1248\n",
      "SearchBayesianSkopt: Config 150 is suboptimal. Config: {'shrink': 159, 'topK': 200, 'feature_weighting': 'TF-IDF', 'normalize': True, 'ICM_weight': 111} - results: PRECISION: 0.3490325, PRECISION_RECALL_MIN_DEN: 0.3505014, RECALL: 0.0597878, MAP: 0.2115470, MAP_MIN_DEN: 0.2121459, MRR: 0.6155790, NDCG: 0.3676980, F1: 0.1020883, HIT_RATE: 0.9545588, ARHR_ALL_HITS: 1.1225736, NOVELTY: 0.0053203, AVERAGE_POPULARITY: 0.6548290, DIVERSITY_MEAN_INTER_LIST: 0.8158975, DIVERSITY_HERFINDAHL: 0.9815838, COVERAGE_ITEM: 0.0563154, COVERAGE_ITEM_CORRECT: 0.0275209, COVERAGE_USER: 0.9995604, COVERAGE_USER_CORRECT: 0.9541392, DIVERSITY_GINI: 0.0040376, SHANNON_ENTROPY: 6.4254918, RATIO_DIVERSITY_HERFINDAHL: 0.9819629, RATIO_DIVERSITY_GINI: 0.0162872, RATIO_SHANNON_ENTROPY: 0.5186186, RATIO_AVERAGE_POPULARITY: 3.2319814, RATIO_NOVELTY: 0.0250331, \n",
      "\n",
      "Iteration No: 151 ended. Search finished for the next optimal point.\n",
      "Time taken: 24.9381\n",
      "Function value obtained: -0.2115\n",
      "Current minimum: -0.2117\n",
      "Iteration No: 152 started. Searching for the next optimal point.\n",
      "SearchBayesianSkopt: Testing config: {'shrink': 101, 'topK': 200, 'feature_weighting': 'TF-IDF', 'normalize': True, 'ICM_weight': 105}\n",
      "ItemKNN_CFCBF_HybridRecommender: URM Detected 1 ( 0.0%) items with no interactions.\n",
      "ItemKNN_CFCBF_HybridRecommender: ICM Detected 559 ( 3.1%) items with no features.\n",
      "Similarity column 18059 (100.0%), 1605.17 column/sec. Elapsed time 11.25 sec\n",
      "EvaluatorHoldout: Processed 13644 (100.0%) in 10.92 sec. Users per second: 1250\n",
      "SearchBayesianSkopt: Config 151 is suboptimal. Config: {'shrink': 101, 'topK': 200, 'feature_weighting': 'TF-IDF', 'normalize': True, 'ICM_weight': 105} - results: PRECISION: 0.3489006, PRECISION_RECALL_MIN_DEN: 0.3503815, RECALL: 0.0598224, MAP: 0.2113546, MAP_MIN_DEN: 0.2119674, MRR: 0.6152976, NDCG: 0.3675333, F1: 0.1021331, HIT_RATE: 0.9545588, ARHR_ALL_HITS: 1.1219047, NOVELTY: 0.0053214, AVERAGE_POPULARITY: 0.6545876, DIVERSITY_MEAN_INTER_LIST: 0.8161103, DIVERSITY_HERFINDAHL: 0.9816051, COVERAGE_ITEM: 0.0570353, COVERAGE_ITEM_CORRECT: 0.0279085, COVERAGE_USER: 0.9995604, COVERAGE_USER_CORRECT: 0.9541392, DIVERSITY_GINI: 0.0040544, SHANNON_ENTROPY: 6.4286085, RATIO_DIVERSITY_HERFINDAHL: 0.9819841, RATIO_DIVERSITY_GINI: 0.0163547, RATIO_SHANNON_ENTROPY: 0.5188701, RATIO_AVERAGE_POPULARITY: 3.2307899, RATIO_NOVELTY: 0.0250381, \n",
      "\n",
      "Iteration No: 152 ended. Search finished for the next optimal point.\n",
      "Time taken: 25.1909\n",
      "Function value obtained: -0.2114\n",
      "Current minimum: -0.2117\n",
      "Iteration No: 153 started. Searching for the next optimal point.\n",
      "SearchBayesianSkopt: Testing config: {'shrink': 72, 'topK': 200, 'feature_weighting': 'TF-IDF', 'normalize': True, 'ICM_weight': 105}\n",
      "ItemKNN_CFCBF_HybridRecommender: URM Detected 1 ( 0.0%) items with no interactions.\n",
      "ItemKNN_CFCBF_HybridRecommender: ICM Detected 559 ( 3.1%) items with no features.\n",
      "Similarity column 18059 (100.0%), 1613.51 column/sec. Elapsed time 11.19 sec\n",
      "EvaluatorHoldout: Processed 13644 (100.0%) in 10.81 sec. Users per second: 1262\n",
      "SearchBayesianSkopt: Config 152 is suboptimal. Config: {'shrink': 72, 'topK': 200, 'feature_weighting': 'TF-IDF', 'normalize': True, 'ICM_weight': 105} - results: PRECISION: 0.3488640, PRECISION_RECALL_MIN_DEN: 0.3503426, RECALL: 0.0598073, MAP: 0.2113281, MAP_MIN_DEN: 0.2119393, MRR: 0.6151666, NDCG: 0.3674877, F1: 0.1021095, HIT_RATE: 0.9542656, ARHR_ALL_HITS: 1.1217405, NOVELTY: 0.0053222, AVERAGE_POPULARITY: 0.6543606, DIVERSITY_MEAN_INTER_LIST: 0.8163227, DIVERSITY_HERFINDAHL: 0.9816263, COVERAGE_ITEM: 0.0570353, COVERAGE_ITEM_CORRECT: 0.0275763, COVERAGE_USER: 0.9995604, COVERAGE_USER_CORRECT: 0.9538462, DIVERSITY_GINI: 0.0040614, SHANNON_ENTROPY: 6.4311453, RATIO_DIVERSITY_HERFINDAHL: 0.9820054, RATIO_DIVERSITY_GINI: 0.0163830, RATIO_SHANNON_ENTROPY: 0.5190749, RATIO_AVERAGE_POPULARITY: 3.2296695, RATIO_NOVELTY: 0.0250420, \n",
      "\n",
      "Iteration No: 153 ended. Search finished for the next optimal point.\n",
      "Time taken: 24.9398\n",
      "Function value obtained: -0.2113\n",
      "Current minimum: -0.2117\n",
      "Iteration No: 154 started. Searching for the next optimal point.\n",
      "SearchBayesianSkopt: Testing config: {'shrink': 109, 'topK': 200, 'feature_weighting': 'TF-IDF', 'normalize': True, 'ICM_weight': 104}\n",
      "ItemKNN_CFCBF_HybridRecommender: URM Detected 1 ( 0.0%) items with no interactions.\n",
      "ItemKNN_CFCBF_HybridRecommender: ICM Detected 559 ( 3.1%) items with no features.\n",
      "Similarity column 18059 (100.0%), 1602.58 column/sec. Elapsed time 11.27 sec\n",
      "EvaluatorHoldout: Processed 13644 (100.0%) in 10.91 sec. Users per second: 1251\n",
      "SearchBayesianSkopt: Config 153 is suboptimal. Config: {'shrink': 109, 'topK': 200, 'feature_weighting': 'TF-IDF', 'normalize': True, 'ICM_weight': 104} - results: PRECISION: 0.3488713, PRECISION_RECALL_MIN_DEN: 0.3503522, RECALL: 0.0598247, MAP: 0.2113904, MAP_MIN_DEN: 0.2120040, MRR: 0.6153257, NDCG: 0.3675506, F1: 0.1021352, HIT_RATE: 0.9544855, ARHR_ALL_HITS: 1.1220527, NOVELTY: 0.0053212, AVERAGE_POPULARITY: 0.6546246, DIVERSITY_MEAN_INTER_LIST: 0.8160567, DIVERSITY_HERFINDAHL: 0.9815997, COVERAGE_ITEM: 0.0565923, COVERAGE_ITEM_CORRECT: 0.0278531, COVERAGE_USER: 0.9995604, COVERAGE_USER_CORRECT: 0.9540659, DIVERSITY_GINI: 0.0040496, SHANNON_ENTROPY: 6.4280930, RATIO_DIVERSITY_HERFINDAHL: 0.9819788, RATIO_DIVERSITY_GINI: 0.0163353, RATIO_SHANNON_ENTROPY: 0.5188285, RATIO_AVERAGE_POPULARITY: 3.2309727, RATIO_NOVELTY: 0.0250372, \n",
      "\n",
      "Iteration No: 154 ended. Search finished for the next optimal point.\n",
      "Time taken: 25.0924\n",
      "Function value obtained: -0.2114\n",
      "Current minimum: -0.2117\n",
      "Iteration No: 155 started. Searching for the next optimal point.\n",
      "SearchBayesianSkopt: Testing config: {'shrink': 153, 'topK': 200, 'feature_weighting': 'TF-IDF', 'normalize': True, 'ICM_weight': 104}\n",
      "ItemKNN_CFCBF_HybridRecommender: URM Detected 1 ( 0.0%) items with no interactions.\n",
      "ItemKNN_CFCBF_HybridRecommender: ICM Detected 559 ( 3.1%) items with no features.\n",
      "Similarity column 18059 (100.0%), 1611.00 column/sec. Elapsed time 11.21 sec\n",
      "EvaluatorHoldout: Processed 13644 (100.0%) in 10.97 sec. Users per second: 1243\n",
      "SearchBayesianSkopt: Config 154 is suboptimal. Config: {'shrink': 153, 'topK': 200, 'feature_weighting': 'TF-IDF', 'normalize': True, 'ICM_weight': 104} - results: PRECISION: 0.3488860, PRECISION_RECALL_MIN_DEN: 0.3503700, RECALL: 0.0598216, MAP: 0.2114665, MAP_MIN_DEN: 0.2120827, MRR: 0.6157612, NDCG: 0.3676533, F1: 0.1021313, HIT_RATE: 0.9545588, ARHR_ALL_HITS: 1.1226031, NOVELTY: 0.0053202, AVERAGE_POPULARITY: 0.6548925, DIVERSITY_MEAN_INTER_LIST: 0.8157616, DIVERSITY_HERFINDAHL: 0.9815702, COVERAGE_ITEM: 0.0560939, COVERAGE_ITEM_CORRECT: 0.0276870, COVERAGE_USER: 0.9995604, COVERAGE_USER_CORRECT: 0.9541392, DIVERSITY_GINI: 0.0040364, SHANNON_ENTROPY: 6.4247914, RATIO_DIVERSITY_HERFINDAHL: 0.9819493, RATIO_DIVERSITY_GINI: 0.0162822, RATIO_SHANNON_ENTROPY: 0.5185621, RATIO_AVERAGE_POPULARITY: 3.2322947, RATIO_NOVELTY: 0.0250324, \n",
      "\n"
     ]
    },
    {
     "name": "stdout",
     "output_type": "stream",
     "text": [
      "Iteration No: 155 ended. Search finished for the next optimal point.\n",
      "Time taken: 25.0969\n",
      "Function value obtained: -0.2115\n",
      "Current minimum: -0.2117\n",
      "Iteration No: 156 started. Searching for the next optimal point.\n",
      "SearchBayesianSkopt: Testing config: {'shrink': 113, 'topK': 200, 'feature_weighting': 'TF-IDF', 'normalize': True, 'ICM_weight': 113}\n",
      "ItemKNN_CFCBF_HybridRecommender: URM Detected 1 ( 0.0%) items with no interactions.\n",
      "ItemKNN_CFCBF_HybridRecommender: ICM Detected 559 ( 3.1%) items with no features.\n",
      "Similarity column 18059 (100.0%), 1606.89 column/sec. Elapsed time 11.24 sec\n",
      "EvaluatorHoldout: Processed 13644 (100.0%) in 10.75 sec. Users per second: 1269\n",
      "SearchBayesianSkopt: Config 155 is suboptimal. Config: {'shrink': 113, 'topK': 200, 'feature_weighting': 'TF-IDF', 'normalize': True, 'ICM_weight': 113} - results: PRECISION: 0.3490838, PRECISION_RECALL_MIN_DEN: 0.3505527, RECALL: 0.0597844, MAP: 0.2116583, MAP_MIN_DEN: 0.2122516, MRR: 0.6148903, NDCG: 0.3676739, F1: 0.1020856, HIT_RATE: 0.9541190, ARHR_ALL_HITS: 1.1222678, NOVELTY: 0.0053214, AVERAGE_POPULARITY: 0.6545254, DIVERSITY_MEAN_INTER_LIST: 0.8161562, DIVERSITY_HERFINDAHL: 0.9816096, COVERAGE_ITEM: 0.0572014, COVERAGE_ITEM_CORRECT: 0.0275763, COVERAGE_USER: 0.9995604, COVERAGE_USER_CORRECT: 0.9536996, DIVERSITY_GINI: 0.0040517, SHANNON_ENTROPY: 6.4286552, RATIO_DIVERSITY_HERFINDAHL: 0.9819887, RATIO_DIVERSITY_GINI: 0.0163438, RATIO_SHANNON_ENTROPY: 0.5188739, RATIO_AVERAGE_POPULARITY: 3.2304830, RATIO_NOVELTY: 0.0250385, \n",
      "\n",
      "Iteration No: 156 ended. Search finished for the next optimal point.\n",
      "Time taken: 24.9395\n",
      "Function value obtained: -0.2117\n",
      "Current minimum: -0.2117\n",
      "Iteration No: 157 started. Searching for the next optimal point.\n",
      "SearchBayesianSkopt: Testing config: {'shrink': 44, 'topK': 200, 'feature_weighting': 'TF-IDF', 'normalize': True, 'ICM_weight': 104}\n",
      "ItemKNN_CFCBF_HybridRecommender: URM Detected 1 ( 0.0%) items with no interactions.\n",
      "ItemKNN_CFCBF_HybridRecommender: ICM Detected 559 ( 3.1%) items with no features.\n",
      "Similarity column 18059 (100.0%), 1607.31 column/sec. Elapsed time 11.24 sec\n",
      "EvaluatorHoldout: Processed 13644 (100.0%) in 10.74 sec. Users per second: 1270\n",
      "SearchBayesianSkopt: Config 156 is suboptimal. Config: {'shrink': 44, 'topK': 200, 'feature_weighting': 'TF-IDF', 'normalize': True, 'ICM_weight': 104} - results: PRECISION: 0.3487907, PRECISION_RECALL_MIN_DEN: 0.3502661, RECALL: 0.0598023, MAP: 0.2113450, MAP_MIN_DEN: 0.2119558, MRR: 0.6152912, NDCG: 0.3674879, F1: 0.1020991, HIT_RATE: 0.9543389, ARHR_ALL_HITS: 1.1219308, NOVELTY: 0.0053226, AVERAGE_POPULARITY: 0.6542352, DIVERSITY_MEAN_INTER_LIST: 0.8163951, DIVERSITY_HERFINDAHL: 0.9816335, COVERAGE_ITEM: 0.0569799, COVERAGE_ITEM_CORRECT: 0.0276870, COVERAGE_USER: 0.9995604, COVERAGE_USER_CORRECT: 0.9539194, DIVERSITY_GINI: 0.0040667, SHANNON_ENTROPY: 6.4328604, RATIO_DIVERSITY_HERFINDAHL: 0.9820126, RATIO_DIVERSITY_GINI: 0.0164046, RATIO_SHANNON_ENTROPY: 0.5192133, RATIO_AVERAGE_POPULARITY: 3.2290507, RATIO_NOVELTY: 0.0250438, \n",
      "\n",
      "Iteration No: 157 ended. Search finished for the next optimal point.\n",
      "Time taken: 24.8806\n",
      "Function value obtained: -0.2113\n",
      "Current minimum: -0.2117\n",
      "Iteration No: 158 started. Searching for the next optimal point.\n",
      "SearchBayesianSkopt: Testing config: {'shrink': 87, 'topK': 200, 'feature_weighting': 'TF-IDF', 'normalize': True, 'ICM_weight': 113}\n",
      "ItemKNN_CFCBF_HybridRecommender: URM Detected 1 ( 0.0%) items with no interactions.\n",
      "ItemKNN_CFCBF_HybridRecommender: ICM Detected 559 ( 3.1%) items with no features.\n",
      "Similarity column 18059 (100.0%), 1602.89 column/sec. Elapsed time 11.27 sec\n",
      "EvaluatorHoldout: Processed 13644 (100.0%) in 10.70 sec. Users per second: 1275\n",
      "SearchBayesianSkopt: Config 157 is suboptimal. Config: {'shrink': 87, 'topK': 200, 'feature_weighting': 'TF-IDF', 'normalize': True, 'ICM_weight': 113} - results: PRECISION: 0.3489446, PRECISION_RECALL_MIN_DEN: 0.3504152, RECALL: 0.0597525, MAP: 0.2115235, MAP_MIN_DEN: 0.2121166, MRR: 0.6146791, NDCG: 0.3675366, F1: 0.1020330, HIT_RATE: 0.9541923, ARHR_ALL_HITS: 1.1218547, NOVELTY: 0.0053219, AVERAGE_POPULARITY: 0.6543962, DIVERSITY_MEAN_INTER_LIST: 0.8162923, DIVERSITY_HERFINDAHL: 0.9816232, COVERAGE_ITEM: 0.0568138, COVERAGE_ITEM_CORRECT: 0.0273548, COVERAGE_USER: 0.9995604, COVERAGE_USER_CORRECT: 0.9537729, DIVERSITY_GINI: 0.0040525, SHANNON_ENTROPY: 6.4298978, RATIO_DIVERSITY_HERFINDAHL: 0.9820023, RATIO_DIVERSITY_GINI: 0.0163472, RATIO_SHANNON_ENTROPY: 0.5189742, RATIO_AVERAGE_POPULARITY: 3.2298451, RATIO_NOVELTY: 0.0250404, \n",
      "\n",
      "Iteration No: 158 ended. Search finished for the next optimal point.\n",
      "Time taken: 24.8853\n",
      "Function value obtained: -0.2115\n",
      "Current minimum: -0.2117\n",
      "Iteration No: 159 started. Searching for the next optimal point.\n",
      "SearchBayesianSkopt: Testing config: {'shrink': 99, 'topK': 200, 'feature_weighting': 'TF-IDF', 'normalize': True, 'ICM_weight': 113}\n",
      "ItemKNN_CFCBF_HybridRecommender: URM Detected 1 ( 0.0%) items with no interactions.\n",
      "ItemKNN_CFCBF_HybridRecommender: ICM Detected 559 ( 3.1%) items with no features.\n",
      "Similarity column 18059 (100.0%), 1606.74 column/sec. Elapsed time 11.24 sec\n",
      "EvaluatorHoldout: Processed 13644 (100.0%) in 10.72 sec. Users per second: 1273\n",
      "SearchBayesianSkopt: Config 158 is suboptimal. Config: {'shrink': 99, 'topK': 200, 'feature_weighting': 'TF-IDF', 'normalize': True, 'ICM_weight': 113} - results: PRECISION: 0.3489959, PRECISION_RECALL_MIN_DEN: 0.3504665, RECALL: 0.0597831, MAP: 0.2115705, MAP_MIN_DEN: 0.2121636, MRR: 0.6146683, NDCG: 0.3675856, F1: 0.1020799, HIT_RATE: 0.9542656, ARHR_ALL_HITS: 1.1219862, NOVELTY: 0.0053217, AVERAGE_POPULARITY: 0.6544260, DIVERSITY_MEAN_INTER_LIST: 0.8162589, DIVERSITY_HERFINDAHL: 0.9816199, COVERAGE_ITEM: 0.0569245, COVERAGE_ITEM_CORRECT: 0.0274102, COVERAGE_USER: 0.9995604, COVERAGE_USER_CORRECT: 0.9538462, DIVERSITY_GINI: 0.0040511, SHANNON_ENTROPY: 6.4295151, RATIO_DIVERSITY_HERFINDAHL: 0.9819990, RATIO_DIVERSITY_GINI: 0.0163416, RATIO_SHANNON_ENTROPY: 0.5189433, RATIO_AVERAGE_POPULARITY: 3.2299924, RATIO_NOVELTY: 0.0250398, \n",
      "\n",
      "Iteration No: 159 ended. Search finished for the next optimal point.\n",
      "Time taken: 24.9150\n",
      "Function value obtained: -0.2116\n",
      "Current minimum: -0.2117\n",
      "Iteration No: 160 started. Searching for the next optimal point.\n",
      "SearchBayesianSkopt: Testing config: {'shrink': 74, 'topK': 200, 'feature_weighting': 'TF-IDF', 'normalize': True, 'ICM_weight': 113}\n",
      "ItemKNN_CFCBF_HybridRecommender: URM Detected 1 ( 0.0%) items with no interactions.\n",
      "ItemKNN_CFCBF_HybridRecommender: ICM Detected 559 ( 3.1%) items with no features.\n",
      "Similarity column 18059 (100.0%), 1607.89 column/sec. Elapsed time 11.23 sec\n",
      "EvaluatorHoldout: Processed 13644 (100.0%) in 10.70 sec. Users per second: 1275\n",
      "SearchBayesianSkopt: Config 159 is suboptimal. Config: {'shrink': 74, 'topK': 200, 'feature_weighting': 'TF-IDF', 'normalize': True, 'ICM_weight': 113} - results: PRECISION: 0.3489153, PRECISION_RECALL_MIN_DEN: 0.3503859, RECALL: 0.0597438, MAP: 0.2115397, MAP_MIN_DEN: 0.2121324, MRR: 0.6147431, NDCG: 0.3675351, F1: 0.1020191, HIT_RATE: 0.9543389, ARHR_ALL_HITS: 1.1219189, NOVELTY: 0.0053219, AVERAGE_POPULARITY: 0.6543637, DIVERSITY_MEAN_INTER_LIST: 0.8163385, DIVERSITY_HERFINDAHL: 0.9816279, COVERAGE_ITEM: 0.0568692, COVERAGE_ITEM_CORRECT: 0.0272440, COVERAGE_USER: 0.9995604, COVERAGE_USER_CORRECT: 0.9539194, DIVERSITY_GINI: 0.0040538, SHANNON_ENTROPY: 6.4302497, RATIO_DIVERSITY_HERFINDAHL: 0.9820070, RATIO_DIVERSITY_GINI: 0.0163526, RATIO_SHANNON_ENTROPY: 0.5190026, RATIO_AVERAGE_POPULARITY: 3.2296849, RATIO_NOVELTY: 0.0250406, \n",
      "\n",
      "Iteration No: 160 ended. Search finished for the next optimal point.\n",
      "Time taken: 24.8018\n",
      "Function value obtained: -0.2115\n",
      "Current minimum: -0.2117\n",
      "Iteration No: 161 started. Searching for the next optimal point.\n",
      "SearchBayesianSkopt: Testing config: {'shrink': 10, 'topK': 200, 'feature_weighting': 'TF-IDF', 'normalize': True, 'ICM_weight': 5}\n",
      "ItemKNN_CFCBF_HybridRecommender: URM Detected 1 ( 0.0%) items with no interactions.\n",
      "ItemKNN_CFCBF_HybridRecommender: ICM Detected 559 ( 3.1%) items with no features.\n",
      "Similarity column 18059 (100.0%), 1595.38 column/sec. Elapsed time 11.32 sec\n",
      "EvaluatorHoldout: Processed 13644 (100.0%) in 14.44 sec. Users per second: 945\n"
     ]
    },
    {
     "name": "stdout",
     "output_type": "stream",
     "text": [
      "SearchBayesianSkopt: New best config found. Config 160: {'shrink': 10, 'topK': 200, 'feature_weighting': 'TF-IDF', 'normalize': True, 'ICM_weight': 5} - results: PRECISION: 0.3496335, PRECISION_RECALL_MIN_DEN: 0.3513392, RECALL: 0.0601305, MAP: 0.2125084, MAP_MIN_DEN: 0.2132577, MRR: 0.6172657, NDCG: 0.3689270, F1: 0.1026133, HIT_RATE: 0.9536793, ARHR_ALL_HITS: 1.1268567, NOVELTY: 0.0053134, AVERAGE_POPULARITY: 0.6560807, DIVERSITY_MEAN_INTER_LIST: 0.8145055, DIVERSITY_HERFINDAHL: 0.9814446, COVERAGE_ITEM: 0.0491168, COVERAGE_ITEM_CORRECT: 0.0275209, COVERAGE_USER: 0.9995604, COVERAGE_USER_CORRECT: 0.9532601, DIVERSITY_GINI: 0.0039384, SHANNON_ENTROPY: 6.4102591, RATIO_DIVERSITY_HERFINDAHL: 0.9818236, RATIO_DIVERSITY_GINI: 0.0158871, RATIO_SHANNON_ENTROPY: 0.5173891, RATIO_AVERAGE_POPULARITY: 3.2381591, RATIO_NOVELTY: 0.0250004, \n",
      "\n",
      "SearchBayesianSkopt: Saving model in ../result_experiments/6_Hybrid_ItemKNNItemKNN_CFCBF_HybridRecommender\n",
      "\n",
      "ItemKNN_CFCBF_HybridRecommender: Saving model in file '../result_experiments/6_Hybrid_ItemKNNItemKNN_CFCBF_HybridRecommender_best_model'\n",
      "ItemKNN_CFCBF_HybridRecommender: Saving complete\n",
      "Iteration No: 161 ended. Search finished for the next optimal point.\n",
      "Time taken: 31.1780\n",
      "Function value obtained: -0.2125\n",
      "Current minimum: -0.2125\n",
      "Iteration No: 162 started. Searching for the next optimal point.\n",
      "SearchBayesianSkopt: Testing config: {'shrink': 10, 'topK': 200, 'feature_weighting': 'TF-IDF', 'normalize': True, 'ICM_weight': 24}\n",
      "ItemKNN_CFCBF_HybridRecommender: URM Detected 1 ( 0.0%) items with no interactions.\n",
      "ItemKNN_CFCBF_HybridRecommender: ICM Detected 559 ( 3.1%) items with no features.\n",
      "Similarity column 18059 (100.0%), 1599.06 column/sec. Elapsed time 11.29 sec\n",
      "EvaluatorHoldout: Processed 13644 (100.0%) in 12.91 sec. Users per second: 1057\n",
      "SearchBayesianSkopt: New best config found. Config 161: {'shrink': 10, 'topK': 200, 'feature_weighting': 'TF-IDF', 'normalize': True, 'ICM_weight': 24} - results: PRECISION: 0.3497728, PRECISION_RECALL_MIN_DEN: 0.3513569, RECALL: 0.0600403, MAP: 0.2125296, MAP_MIN_DEN: 0.2132093, MRR: 0.6173733, NDCG: 0.3689125, F1: 0.1024880, HIT_RATE: 0.9535327, ARHR_ALL_HITS: 1.1268932, NOVELTY: 0.0053180, AVERAGE_POPULARITY: 0.6551288, DIVERSITY_MEAN_INTER_LIST: 0.8154491, DIVERSITY_HERFINDAHL: 0.9815389, COVERAGE_ITEM: 0.0531037, COVERAGE_ITEM_CORRECT: 0.0275763, COVERAGE_USER: 0.9995604, COVERAGE_USER_CORRECT: 0.9531136, DIVERSITY_GINI: 0.0040147, SHANNON_ENTROPY: 6.4241662, RATIO_DIVERSITY_HERFINDAHL: 0.9819180, RATIO_DIVERSITY_GINI: 0.0161948, RATIO_SHANNON_ENTROPY: 0.5185116, RATIO_AVERAGE_POPULARITY: 3.2334609, RATIO_NOVELTY: 0.0250224, \n",
      "\n",
      "SearchBayesianSkopt: Saving model in ../result_experiments/6_Hybrid_ItemKNNItemKNN_CFCBF_HybridRecommender\n",
      "\n",
      "ItemKNN_CFCBF_HybridRecommender: Saving model in file '../result_experiments/6_Hybrid_ItemKNNItemKNN_CFCBF_HybridRecommender_best_model'\n",
      "ItemKNN_CFCBF_HybridRecommender: Saving complete\n",
      "Iteration No: 162 ended. Search finished for the next optimal point.\n",
      "Time taken: 29.5735\n",
      "Function value obtained: -0.2125\n",
      "Current minimum: -0.2125\n",
      "Iteration No: 163 started. Searching for the next optimal point.\n",
      "SearchBayesianSkopt: Testing config: {'shrink': 10, 'topK': 200, 'feature_weighting': 'TF-IDF', 'normalize': True, 'ICM_weight': 23}\n",
      "ItemKNN_CFCBF_HybridRecommender: URM Detected 1 ( 0.0%) items with no interactions.\n",
      "ItemKNN_CFCBF_HybridRecommender: ICM Detected 559 ( 3.1%) items with no features.\n",
      "Similarity column 18059 (100.0%), 1604.89 column/sec. Elapsed time 11.25 sec\n",
      "EvaluatorHoldout: Processed 13644 (100.0%) in 13.00 sec. Users per second: 1049\n",
      "SearchBayesianSkopt: Config 162 is suboptimal. Config: {'shrink': 10, 'topK': 200, 'feature_weighting': 'TF-IDF', 'normalize': True, 'ICM_weight': 23} - results: PRECISION: 0.3497728, PRECISION_RECALL_MIN_DEN: 0.3513569, RECALL: 0.0600186, MAP: 0.2125203, MAP_MIN_DEN: 0.2132120, MRR: 0.6173133, NDCG: 0.3688968, F1: 0.1024563, HIT_RATE: 0.9536060, ARHR_ALL_HITS: 1.1267579, NOVELTY: 0.0053178, AVERAGE_POPULARITY: 0.6552066, DIVERSITY_MEAN_INTER_LIST: 0.8153842, DIVERSITY_HERFINDAHL: 0.9815324, COVERAGE_ITEM: 0.0528822, COVERAGE_ITEM_CORRECT: 0.0275763, COVERAGE_USER: 0.9995604, COVERAGE_USER_CORRECT: 0.9531868, DIVERSITY_GINI: 0.0040111, SHANNON_ENTROPY: 6.4234889, RATIO_DIVERSITY_HERFINDAHL: 0.9819115, RATIO_DIVERSITY_GINI: 0.0161802, RATIO_SHANNON_ENTROPY: 0.5184569, RATIO_AVERAGE_POPULARITY: 3.2338452, RATIO_NOVELTY: 0.0250211, \n",
      "\n",
      "Iteration No: 163 ended. Search finished for the next optimal point.\n",
      "Time taken: 27.1961\n",
      "Function value obtained: -0.2125\n",
      "Current minimum: -0.2125\n",
      "Iteration No: 164 started. Searching for the next optimal point.\n",
      "SearchBayesianSkopt: Testing config: {'shrink': 10, 'topK': 200, 'feature_weighting': 'TF-IDF', 'normalize': True, 'ICM_weight': 24}\n",
      "SearchBayesianSkopt: Config 163 was already explored at index 161. Config: {'shrink': 10, 'topK': 200, 'feature_weighting': 'TF-IDF', 'normalize': True, 'ICM_weight': 24} - results: PRECISION: 0.3497728, PRECISION_RECALL_MIN_DEN: 0.3513569, RECALL: 0.0600403, MAP: 0.2125296, MAP_MIN_DEN: 0.2132093, MRR: 0.6173733, NDCG: 0.3689125, F1: 0.1024880, HIT_RATE: 0.9535327, ARHR_ALL_HITS: 1.1268932, NOVELTY: 0.0053180, AVERAGE_POPULARITY: 0.6551288, DIVERSITY_MEAN_INTER_LIST: 0.8154491, DIVERSITY_HERFINDAHL: 0.9815389, COVERAGE_ITEM: 0.0531037, COVERAGE_ITEM_CORRECT: 0.0275763, COVERAGE_USER: 0.9995604, COVERAGE_USER_CORRECT: 0.9531136, DIVERSITY_GINI: 0.0040147, SHANNON_ENTROPY: 6.4241662, RATIO_DIVERSITY_HERFINDAHL: 0.9819180, RATIO_DIVERSITY_GINI: 0.0161948, RATIO_SHANNON_ENTROPY: 0.5185116, RATIO_AVERAGE_POPULARITY: 3.2334609, RATIO_NOVELTY: 0.0250224, \n",
      "\n"
     ]
    },
    {
     "name": "stderr",
     "output_type": "stream",
     "text": [
      "C:\\Users\\marti\\miniconda3\\envs\\RecSys\\lib\\site-packages\\skopt\\optimizer\\optimizer.py:449: UserWarning: The objective has been evaluated at this point before.\n",
      "  warnings.warn(\"The objective has been evaluated \"\n"
     ]
    },
    {
     "name": "stdout",
     "output_type": "stream",
     "text": [
      "Iteration No: 164 ended. Search finished for the next optimal point.\n",
      "Time taken: 2.5186\n",
      "Function value obtained: -0.2125\n",
      "Current minimum: -0.2125\n",
      "Iteration No: 165 started. Searching for the next optimal point.\n",
      "SearchBayesianSkopt: Testing config: {'shrink': 19, 'topK': 200, 'feature_weighting': 'TF-IDF', 'normalize': True, 'ICM_weight': 281}\n",
      "ItemKNN_CFCBF_HybridRecommender: URM Detected 1 ( 0.0%) items with no interactions.\n",
      "ItemKNN_CFCBF_HybridRecommender: ICM Detected 559 ( 3.1%) items with no features.\n",
      "Similarity column 18059 (100.0%), 1602.89 column/sec. Elapsed time 11.27 sec\n",
      "EvaluatorHoldout: Processed 13644 (100.0%) in 9.15 sec. Users per second: 1491\n",
      "SearchBayesianSkopt: Config 164 is suboptimal. Config: {'shrink': 19, 'topK': 200, 'feature_weighting': 'TF-IDF', 'normalize': True, 'ICM_weight': 281} - results: PRECISION: 0.3451920, PRECISION_RECALL_MIN_DEN: 0.3465703, RECALL: 0.0586618, MAP: 0.2080081, MAP_MIN_DEN: 0.2085434, MRR: 0.6072340, NDCG: 0.3628042, F1: 0.1002817, HIT_RATE: 0.9518470, ARHR_ALL_HITS: 1.1055940, NOVELTY: 0.0053177, AVERAGE_POPULARITY: 0.6550373, DIVERSITY_MEAN_INTER_LIST: 0.8185004, DIVERSITY_HERFINDAHL: 0.9818440, COVERAGE_ITEM: 0.0568138, COVERAGE_ITEM_CORRECT: 0.0250844, COVERAGE_USER: 0.9995604, COVERAGE_USER_CORRECT: 0.9514286, DIVERSITY_GINI: 0.0039718, SHANNON_ENTROPY: 6.4206053, RATIO_DIVERSITY_HERFINDAHL: 0.9822232, RATIO_DIVERSITY_GINI: 0.0160215, RATIO_SHANNON_ENTROPY: 0.5182242, RATIO_AVERAGE_POPULARITY: 3.2330096, RATIO_NOVELTY: 0.0250207, \n",
      "\n",
      "Iteration No: 165 ended. Search finished for the next optimal point.\n",
      "Time taken: 23.4992\n",
      "Function value obtained: -0.2080\n",
      "Current minimum: -0.2125\n",
      "Iteration No: 166 started. Searching for the next optimal point.\n",
      "SearchBayesianSkopt: Testing config: {'shrink': 10, 'topK': 200, 'feature_weighting': 'TF-IDF', 'normalize': True, 'ICM_weight': 25}\n",
      "ItemKNN_CFCBF_HybridRecommender: URM Detected 1 ( 0.0%) items with no interactions.\n",
      "ItemKNN_CFCBF_HybridRecommender: ICM Detected 559 ( 3.1%) items with no features.\n",
      "Similarity column 18059 (100.0%), 1619.86 column/sec. Elapsed time 11.15 sec\n",
      "EvaluatorHoldout: Processed 13644 (100.0%) in 12.94 sec. Users per second: 1054\n",
      "SearchBayesianSkopt: Config 165 is suboptimal. Config: {'shrink': 10, 'topK': 200, 'feature_weighting': 'TF-IDF', 'normalize': True, 'ICM_weight': 25} - results: PRECISION: 0.3496042, PRECISION_RECALL_MIN_DEN: 0.3511993, RECALL: 0.0600381, MAP: 0.2124239, MAP_MIN_DEN: 0.2131049, MRR: 0.6174763, NDCG: 0.3688153, F1: 0.1024776, HIT_RATE: 0.9539724, ARHR_ALL_HITS: 1.1267809, NOVELTY: 0.0053180, AVERAGE_POPULARITY: 0.6551562, DIVERSITY_MEAN_INTER_LIST: 0.8154226, DIVERSITY_HERFINDAHL: 0.9815363, COVERAGE_ITEM: 0.0533806, COVERAGE_ITEM_CORRECT: 0.0275763, COVERAGE_USER: 0.9995604, COVERAGE_USER_CORRECT: 0.9535531, DIVERSITY_GINI: 0.0040170, SHANNON_ENTROPY: 6.4241157, RATIO_DIVERSITY_HERFINDAHL: 0.9819154, RATIO_DIVERSITY_GINI: 0.0162040, RATIO_SHANNON_ENTROPY: 0.5185075, RATIO_AVERAGE_POPULARITY: 3.2335961, RATIO_NOVELTY: 0.0250225, \n",
      "\n",
      "Iteration No: 166 ended. Search finished for the next optimal point.\n",
      "Time taken: 27.1023\n",
      "Function value obtained: -0.2124\n",
      "Current minimum: -0.2125\n",
      "Iteration No: 167 started. Searching for the next optimal point.\n",
      "SearchBayesianSkopt: Testing config: {'shrink': 10, 'topK': 200, 'feature_weighting': 'TF-IDF', 'normalize': True, 'ICM_weight': 23}\n",
      "SearchBayesianSkopt: Config 166 was already explored at index 162. Config: {'shrink': 10, 'topK': 200, 'feature_weighting': 'TF-IDF', 'normalize': True, 'ICM_weight': 23} - results: PRECISION: 0.3497728, PRECISION_RECALL_MIN_DEN: 0.3513569, RECALL: 0.0600186, MAP: 0.2125203, MAP_MIN_DEN: 0.2132120, MRR: 0.6173133, NDCG: 0.3688968, F1: 0.1024563, HIT_RATE: 0.9536060, ARHR_ALL_HITS: 1.1267579, NOVELTY: 0.0053178, AVERAGE_POPULARITY: 0.6552066, DIVERSITY_MEAN_INTER_LIST: 0.8153842, DIVERSITY_HERFINDAHL: 0.9815324, COVERAGE_ITEM: 0.0528822, COVERAGE_ITEM_CORRECT: 0.0275763, COVERAGE_USER: 0.9995604, COVERAGE_USER_CORRECT: 0.9531868, DIVERSITY_GINI: 0.0040111, SHANNON_ENTROPY: 6.4234889, RATIO_DIVERSITY_HERFINDAHL: 0.9819115, RATIO_DIVERSITY_GINI: 0.0161802, RATIO_SHANNON_ENTROPY: 0.5184569, RATIO_AVERAGE_POPULARITY: 3.2338452, RATIO_NOVELTY: 0.0250211, \n",
      "\n"
     ]
    },
    {
     "name": "stderr",
     "output_type": "stream",
     "text": [
      "C:\\Users\\marti\\miniconda3\\envs\\RecSys\\lib\\site-packages\\skopt\\optimizer\\optimizer.py:449: UserWarning: The objective has been evaluated at this point before.\n",
      "  warnings.warn(\"The objective has been evaluated \"\n"
     ]
    },
    {
     "name": "stdout",
     "output_type": "stream",
     "text": [
      "Iteration No: 167 ended. Search finished for the next optimal point.\n",
      "Time taken: 2.5576\n",
      "Function value obtained: -0.2125\n",
      "Current minimum: -0.2125\n",
      "Iteration No: 168 started. Searching for the next optimal point.\n",
      "SearchBayesianSkopt: Testing config: {'shrink': 10, 'topK': 200, 'feature_weighting': 'TF-IDF', 'normalize': True, 'ICM_weight': 24}\n",
      "SearchBayesianSkopt: Config 167 was already explored at index 161. Config: {'shrink': 10, 'topK': 200, 'feature_weighting': 'TF-IDF', 'normalize': True, 'ICM_weight': 24} - results: PRECISION: 0.3497728, PRECISION_RECALL_MIN_DEN: 0.3513569, RECALL: 0.0600403, MAP: 0.2125296, MAP_MIN_DEN: 0.2132093, MRR: 0.6173733, NDCG: 0.3689125, F1: 0.1024880, HIT_RATE: 0.9535327, ARHR_ALL_HITS: 1.1268932, NOVELTY: 0.0053180, AVERAGE_POPULARITY: 0.6551288, DIVERSITY_MEAN_INTER_LIST: 0.8154491, DIVERSITY_HERFINDAHL: 0.9815389, COVERAGE_ITEM: 0.0531037, COVERAGE_ITEM_CORRECT: 0.0275763, COVERAGE_USER: 0.9995604, COVERAGE_USER_CORRECT: 0.9531136, DIVERSITY_GINI: 0.0040147, SHANNON_ENTROPY: 6.4241662, RATIO_DIVERSITY_HERFINDAHL: 0.9819180, RATIO_DIVERSITY_GINI: 0.0161948, RATIO_SHANNON_ENTROPY: 0.5185116, RATIO_AVERAGE_POPULARITY: 3.2334609, RATIO_NOVELTY: 0.0250224, \n",
      "\n"
     ]
    },
    {
     "name": "stderr",
     "output_type": "stream",
     "text": [
      "C:\\Users\\marti\\miniconda3\\envs\\RecSys\\lib\\site-packages\\skopt\\optimizer\\optimizer.py:449: UserWarning: The objective has been evaluated at this point before.\n",
      "  warnings.warn(\"The objective has been evaluated \"\n"
     ]
    },
    {
     "name": "stdout",
     "output_type": "stream",
     "text": [
      "Iteration No: 168 ended. Search finished for the next optimal point.\n",
      "Time taken: 2.6696\n",
      "Function value obtained: -0.2125\n",
      "Current minimum: -0.2125\n",
      "Iteration No: 169 started. Searching for the next optimal point.\n",
      "SearchBayesianSkopt: Testing config: {'shrink': 10, 'topK': 200, 'feature_weighting': 'TF-IDF', 'normalize': True, 'ICM_weight': 22}\n",
      "ItemKNN_CFCBF_HybridRecommender: URM Detected 1 ( 0.0%) items with no interactions.\n",
      "ItemKNN_CFCBF_HybridRecommender: ICM Detected 559 ( 3.1%) items with no features.\n",
      "Similarity column 18059 (100.0%), 1622.04 column/sec. Elapsed time 11.13 sec\n",
      "EvaluatorHoldout: Processed 13644 (100.0%) in 13.04 sec. Users per second: 1046\n",
      "SearchBayesianSkopt: New best config found. Config 168: {'shrink': 10, 'topK': 200, 'feature_weighting': 'TF-IDF', 'normalize': True, 'ICM_weight': 22} - results: PRECISION: 0.3499267, PRECISION_RECALL_MIN_DEN: 0.3515135, RECALL: 0.0600457, MAP: 0.2125633, MAP_MIN_DEN: 0.2132878, MRR: 0.6171785, NDCG: 0.3689930, F1: 0.1025025, HIT_RATE: 0.9536793, ARHR_ALL_HITS: 1.1267636, NOVELTY: 0.0053177, AVERAGE_POPULARITY: 0.6551934, DIVERSITY_MEAN_INTER_LIST: 0.8153904, DIVERSITY_HERFINDAHL: 0.9815331, COVERAGE_ITEM: 0.0526053, COVERAGE_ITEM_CORRECT: 0.0275763, COVERAGE_USER: 0.9995604, COVERAGE_USER_CORRECT: 0.9532601, DIVERSITY_GINI: 0.0040109, SHANNON_ENTROPY: 6.4237737, RATIO_DIVERSITY_HERFINDAHL: 0.9819121, RATIO_DIVERSITY_GINI: 0.0161793, RATIO_SHANNON_ENTROPY: 0.5184799, RATIO_AVERAGE_POPULARITY: 3.2337797, RATIO_NOVELTY: 0.0250206, \n",
      "\n",
      "SearchBayesianSkopt: Saving model in ../result_experiments/6_Hybrid_ItemKNNItemKNN_CFCBF_HybridRecommender\n",
      "\n",
      "ItemKNN_CFCBF_HybridRecommender: Saving model in file '../result_experiments/6_Hybrid_ItemKNNItemKNN_CFCBF_HybridRecommender_best_model'\n",
      "ItemKNN_CFCBF_HybridRecommender: Saving complete\n",
      "Iteration No: 169 ended. Search finished for the next optimal point.\n",
      "Time taken: 29.5789\n",
      "Function value obtained: -0.2126\n",
      "Current minimum: -0.2126\n",
      "Iteration No: 170 started. Searching for the next optimal point.\n",
      "SearchBayesianSkopt: Testing config: {'shrink': 10, 'topK': 200, 'feature_weighting': 'TF-IDF', 'normalize': True, 'ICM_weight': 22}\n",
      "SearchBayesianSkopt: Config 169 was already explored at index 168. Config: {'shrink': 10, 'topK': 200, 'feature_weighting': 'TF-IDF', 'normalize': True, 'ICM_weight': 22} - results: PRECISION: 0.3499267, PRECISION_RECALL_MIN_DEN: 0.3515135, RECALL: 0.0600457, MAP: 0.2125633, MAP_MIN_DEN: 0.2132878, MRR: 0.6171785, NDCG: 0.3689930, F1: 0.1025025, HIT_RATE: 0.9536793, ARHR_ALL_HITS: 1.1267636, NOVELTY: 0.0053177, AVERAGE_POPULARITY: 0.6551934, DIVERSITY_MEAN_INTER_LIST: 0.8153904, DIVERSITY_HERFINDAHL: 0.9815331, COVERAGE_ITEM: 0.0526053, COVERAGE_ITEM_CORRECT: 0.0275763, COVERAGE_USER: 0.9995604, COVERAGE_USER_CORRECT: 0.9532601, DIVERSITY_GINI: 0.0040109, SHANNON_ENTROPY: 6.4237737, RATIO_DIVERSITY_HERFINDAHL: 0.9819121, RATIO_DIVERSITY_GINI: 0.0161793, RATIO_SHANNON_ENTROPY: 0.5184799, RATIO_AVERAGE_POPULARITY: 3.2337797, RATIO_NOVELTY: 0.0250206, \n",
      "\n"
     ]
    },
    {
     "name": "stderr",
     "output_type": "stream",
     "text": [
      "C:\\Users\\marti\\miniconda3\\envs\\RecSys\\lib\\site-packages\\skopt\\optimizer\\optimizer.py:449: UserWarning: The objective has been evaluated at this point before.\n",
      "  warnings.warn(\"The objective has been evaluated \"\n"
     ]
    },
    {
     "name": "stdout",
     "output_type": "stream",
     "text": [
      "Iteration No: 170 ended. Search finished for the next optimal point.\n",
      "Time taken: 2.6006\n",
      "Function value obtained: -0.2126\n",
      "Current minimum: -0.2126\n",
      "Iteration No: 171 started. Searching for the next optimal point.\n",
      "SearchBayesianSkopt: Testing config: {'shrink': 10, 'topK': 200, 'feature_weighting': 'TF-IDF', 'normalize': True, 'ICM_weight': 283}\n",
      "ItemKNN_CFCBF_HybridRecommender: URM Detected 1 ( 0.0%) items with no interactions.\n",
      "ItemKNN_CFCBF_HybridRecommender: ICM Detected 559 ( 3.1%) items with no features.\n",
      "Similarity column 18059 (100.0%), 1606.42 column/sec. Elapsed time 11.24 sec\n",
      "EvaluatorHoldout: Processed 13644 (100.0%) in 8.99 sec. Users per second: 1518\n",
      "SearchBayesianSkopt: Config 170 is suboptimal. Config: {'shrink': 10, 'topK': 200, 'feature_weighting': 'TF-IDF', 'normalize': True, 'ICM_weight': 283} - results: PRECISION: 0.3452067, PRECISION_RECALL_MIN_DEN: 0.3466021, RECALL: 0.0587257, MAP: 0.2079487, MAP_MIN_DEN: 0.2084848, MRR: 0.6072666, NDCG: 0.3628020, F1: 0.1003758, HIT_RATE: 0.9519936, ARHR_ALL_HITS: 1.1055457, NOVELTY: 0.0053178, AVERAGE_POPULARITY: 0.6549609, DIVERSITY_MEAN_INTER_LIST: 0.8186859, DIVERSITY_HERFINDAHL: 0.9818626, COVERAGE_ITEM: 0.0567030, COVERAGE_ITEM_CORRECT: 0.0251952, COVERAGE_USER: 0.9995604, COVERAGE_USER_CORRECT: 0.9515751, DIVERSITY_GINI: 0.0039732, SHANNON_ENTROPY: 6.4219345, RATIO_DIVERSITY_HERFINDAHL: 0.9822418, RATIO_DIVERSITY_GINI: 0.0160272, RATIO_SHANNON_ENTROPY: 0.5183315, RATIO_AVERAGE_POPULARITY: 3.2326323, RATIO_NOVELTY: 0.0250212, \n",
      "\n",
      "Iteration No: 171 ended. Search finished for the next optimal point.\n",
      "Time taken: 23.3425\n",
      "Function value obtained: -0.2079\n",
      "Current minimum: -0.2126\n",
      "Iteration No: 172 started. Searching for the next optimal point.\n",
      "SearchBayesianSkopt: Testing config: {'shrink': 10, 'topK': 1000, 'feature_weighting': 'TF-IDF', 'normalize': True, 'ICM_weight': 314}\n",
      "ItemKNN_CFCBF_HybridRecommender: URM Detected 1 ( 0.0%) items with no interactions.\n",
      "ItemKNN_CFCBF_HybridRecommender: ICM Detected 559 ( 3.1%) items with no features.\n",
      "Similarity column 18059 (100.0%), 1506.40 column/sec. Elapsed time 11.99 sec\n",
      "EvaluatorHoldout: Processed 13644 (100.0%) in 14.08 sec. Users per second: 969\n",
      "SearchBayesianSkopt: Config 171 is suboptimal. Config: {'shrink': 10, 'topK': 1000, 'feature_weighting': 'TF-IDF', 'normalize': True, 'ICM_weight': 314} - results: PRECISION: 0.3253591, PRECISION_RECALL_MIN_DEN: 0.3265765, RECALL: 0.0545128, MAP: 0.1940553, MAP_MIN_DEN: 0.1945739, MRR: 0.5894188, NDCG: 0.3436390, F1: 0.0933801, HIT_RATE: 0.9342568, ARHR_ALL_HITS: 1.0517960, NOVELTY: 0.0053393, AVERAGE_POPULARITY: 0.6761051, DIVERSITY_MEAN_INTER_LIST: 0.7711321, DIVERSITY_HERFINDAHL: 0.9771076, COVERAGE_ITEM: 0.0509995, COVERAGE_ITEM_CORRECT: 0.0194363, COVERAGE_USER: 0.9995604, COVERAGE_USER_CORRECT: 0.9338462, DIVERSITY_GINI: 0.0030415, SHANNON_ENTROPY: 5.9936309, RATIO_DIVERSITY_HERFINDAHL: 0.9774849, RATIO_DIVERSITY_GINI: 0.0122688, RATIO_SHANNON_ENTROPY: 0.4837619, RATIO_AVERAGE_POPULARITY: 3.3369920, RATIO_NOVELTY: 0.0251225, \n",
      "\n",
      "Iteration No: 172 ended. Search finished for the next optimal point.\n",
      "Time taken: 29.5311\n",
      "Function value obtained: -0.1941\n",
      "Current minimum: -0.2126\n",
      "Iteration No: 173 started. Searching for the next optimal point.\n",
      "SearchBayesianSkopt: Testing config: {'shrink': 10, 'topK': 1000, 'feature_weighting': 'TF-IDF', 'normalize': True, 'ICM_weight': 5}\n",
      "ItemKNN_CFCBF_HybridRecommender: URM Detected 1 ( 0.0%) items with no interactions.\n",
      "ItemKNN_CFCBF_HybridRecommender: ICM Detected 559 ( 3.1%) items with no features.\n",
      "Similarity column 18059 (100.0%), 1492.39 column/sec. Elapsed time 12.10 sec\n",
      "EvaluatorHoldout: Processed 13644 (100.0%) in 26.96 sec. Users per second: 506\n",
      "SearchBayesianSkopt: Config 172 is suboptimal. Config: {'shrink': 10, 'topK': 1000, 'feature_weighting': 'TF-IDF', 'normalize': True, 'ICM_weight': 5} - results: PRECISION: 0.3388742, PRECISION_RECALL_MIN_DEN: 0.3403057, RECALL: 0.0571044, MAP: 0.2065477, MAP_MIN_DEN: 0.2072673, MRR: 0.6180904, NDCG: 0.3608104, F1: 0.0977386, HIT_RATE: 0.9468631, ARHR_ALL_HITS: 1.1109846, NOVELTY: 0.0052608, AVERAGE_POPULARITY: 0.6898067, DIVERSITY_MEAN_INTER_LIST: 0.7534469, DIVERSITY_HERFINDAHL: 0.9753392, COVERAGE_ITEM: 0.0331691, COVERAGE_ITEM_CORRECT: 0.0207653, COVERAGE_USER: 0.9995604, COVERAGE_USER_CORRECT: 0.9464469, DIVERSITY_GINI: 0.0026267, SHANNON_ENTROPY: 5.8617524, RATIO_DIVERSITY_HERFINDAHL: 0.9757158, RATIO_DIVERSITY_GINI: 0.0105959, RATIO_SHANNON_ENTROPY: 0.4731177, RATIO_AVERAGE_POPULARITY: 3.4046174, RATIO_NOVELTY: 0.0247533, \n",
      "\n",
      "Iteration No: 173 ended. Search finished for the next optimal point.\n",
      "Time taken: 42.6395\n",
      "Function value obtained: -0.2065\n",
      "Current minimum: -0.2126\n",
      "Iteration No: 174 started. Searching for the next optimal point.\n",
      "SearchBayesianSkopt: Testing config: {'shrink': 10, 'topK': 200, 'feature_weighting': 'TF-IDF', 'normalize': True, 'ICM_weight': 21}\n",
      "ItemKNN_CFCBF_HybridRecommender: URM Detected 1 ( 0.0%) items with no interactions.\n",
      "ItemKNN_CFCBF_HybridRecommender: ICM Detected 559 ( 3.1%) items with no features.\n",
      "Similarity column 18059 (100.0%), 1607.89 column/sec. Elapsed time 11.23 sec\n",
      "EvaluatorHoldout: Processed 13644 (100.0%) in 13.06 sec. Users per second: 1044\n",
      "SearchBayesianSkopt: Config 173 is suboptimal. Config: {'shrink': 10, 'topK': 200, 'feature_weighting': 'TF-IDF', 'normalize': True, 'ICM_weight': 21} - results: PRECISION: 0.3498681, PRECISION_RECALL_MIN_DEN: 0.3514447, RECALL: 0.0600282, MAP: 0.2124935, MAP_MIN_DEN: 0.2132164, MRR: 0.6171739, NDCG: 0.3689092, F1: 0.1024744, HIT_RATE: 0.9536793, ARHR_ALL_HITS: 1.1264683, NOVELTY: 0.0053176, AVERAGE_POPULARITY: 0.6551949, DIVERSITY_MEAN_INTER_LIST: 0.8154174, DIVERSITY_HERFINDAHL: 0.9815358, COVERAGE_ITEM: 0.0523285, COVERAGE_ITEM_CORRECT: 0.0275209, COVERAGE_USER: 0.9995604, COVERAGE_USER_CORRECT: 0.9532601, DIVERSITY_GINI: 0.0040083, SHANNON_ENTROPY: 6.4235829, RATIO_DIVERSITY_HERFINDAHL: 0.9819148, RATIO_DIVERSITY_GINI: 0.0161689, RATIO_SHANNON_ENTROPY: 0.5184645, RATIO_AVERAGE_POPULARITY: 3.2337873, RATIO_NOVELTY: 0.0250203, \n",
      "\n",
      "Iteration No: 174 ended. Search finished for the next optimal point.\n",
      "Time taken: 27.6552\n",
      "Function value obtained: -0.2125\n",
      "Current minimum: -0.2126\n",
      "Iteration No: 175 started. Searching for the next optimal point.\n",
      "SearchBayesianSkopt: Testing config: {'shrink': 10, 'topK': 200, 'feature_weighting': 'TF-IDF', 'normalize': True, 'ICM_weight': 19}\n",
      "ItemKNN_CFCBF_HybridRecommender: URM Detected 1 ( 0.0%) items with no interactions.\n",
      "ItemKNN_CFCBF_HybridRecommender: ICM Detected 559 ( 3.1%) items with no features.\n",
      "Similarity column 18059 (100.0%), 1612.19 column/sec. Elapsed time 11.20 sec\n",
      "EvaluatorHoldout: Processed 13644 (100.0%) in 13.21 sec. Users per second: 1032\n",
      "SearchBayesianSkopt: Config 174 is suboptimal. Config: {'shrink': 10, 'topK': 200, 'feature_weighting': 'TF-IDF', 'normalize': True, 'ICM_weight': 19} - results: PRECISION: 0.3497948, PRECISION_RECALL_MIN_DEN: 0.3513830, RECALL: 0.0600104, MAP: 0.2123979, MAP_MIN_DEN: 0.2131246, MRR: 0.6166752, NDCG: 0.3687744, F1: 0.1024454, HIT_RATE: 0.9541190, ARHR_ALL_HITS: 1.1258187, NOVELTY: 0.0053169, AVERAGE_POPULARITY: 0.6553160, DIVERSITY_MEAN_INTER_LIST: 0.8153027, DIVERSITY_HERFINDAHL: 0.9815243, COVERAGE_ITEM: 0.0519962, COVERAGE_ITEM_CORRECT: 0.0273548, COVERAGE_USER: 0.9995604, COVERAGE_USER_CORRECT: 0.9536996, DIVERSITY_GINI: 0.0039996, SHANNON_ENTROPY: 6.4220672, RATIO_DIVERSITY_HERFINDAHL: 0.9819034, RATIO_DIVERSITY_GINI: 0.0161340, RATIO_SHANNON_ENTROPY: 0.5183422, RATIO_AVERAGE_POPULARITY: 3.2343848, RATIO_NOVELTY: 0.0250172, \n",
      "\n",
      "Iteration No: 175 ended. Search finished for the next optimal point.\n",
      "Time taken: 27.7460\n",
      "Function value obtained: -0.2124\n",
      "Current minimum: -0.2126\n",
      "Iteration No: 176 started. Searching for the next optimal point.\n",
      "SearchBayesianSkopt: Testing config: {'shrink': 10, 'topK': 200, 'feature_weighting': 'TF-IDF', 'normalize': True, 'ICM_weight': 13}\n",
      "ItemKNN_CFCBF_HybridRecommender: URM Detected 1 ( 0.0%) items with no interactions.\n",
      "ItemKNN_CFCBF_HybridRecommender: ICM Detected 559 ( 3.1%) items with no features.\n",
      "Similarity column 18059 (100.0%), 1600.49 column/sec. Elapsed time 11.28 sec\n",
      "EvaluatorHoldout: Processed 13644 (100.0%) in 13.67 sec. Users per second: 998\n"
     ]
    },
    {
     "name": "stdout",
     "output_type": "stream",
     "text": [
      "SearchBayesianSkopt: New best config found. Config 175: {'shrink': 10, 'topK': 200, 'feature_weighting': 'TF-IDF', 'normalize': True, 'ICM_weight': 13} - results: PRECISION: 0.3499634, PRECISION_RECALL_MIN_DEN: 0.3515786, RECALL: 0.0600643, MAP: 0.2125751, MAP_MIN_DEN: 0.2133018, MRR: 0.6177340, NDCG: 0.3691086, F1: 0.1025312, HIT_RATE: 0.9539724, ARHR_ALL_HITS: 1.1272809, NOVELTY: 0.0053157, AVERAGE_POPULARITY: 0.6555323, DIVERSITY_MEAN_INTER_LIST: 0.8150753, DIVERSITY_HERFINDAHL: 0.9815016, COVERAGE_ITEM: 0.0508334, COVERAGE_ITEM_CORRECT: 0.0274102, COVERAGE_USER: 0.9995604, COVERAGE_USER_CORRECT: 0.9535531, DIVERSITY_GINI: 0.0039768, SHANNON_ENTROPY: 6.4183698, RATIO_DIVERSITY_HERFINDAHL: 0.9818806, RATIO_DIVERSITY_GINI: 0.0160420, RATIO_SHANNON_ENTROPY: 0.5180438, RATIO_AVERAGE_POPULARITY: 3.2354526, RATIO_NOVELTY: 0.0250113, \n",
      "\n",
      "SearchBayesianSkopt: Saving model in ../result_experiments/6_Hybrid_ItemKNNItemKNN_CFCBF_HybridRecommender\n",
      "\n",
      "ItemKNN_CFCBF_HybridRecommender: Saving model in file '../result_experiments/6_Hybrid_ItemKNNItemKNN_CFCBF_HybridRecommender_best_model'\n",
      "ItemKNN_CFCBF_HybridRecommender: Saving complete\n",
      "Iteration No: 176 ended. Search finished for the next optimal point.\n",
      "Time taken: 30.7778\n",
      "Function value obtained: -0.2126\n",
      "Current minimum: -0.2126\n",
      "Iteration No: 177 started. Searching for the next optimal point.\n",
      "SearchBayesianSkopt: Testing config: {'shrink': 10, 'topK': 200, 'feature_weighting': 'TF-IDF', 'normalize': True, 'ICM_weight': 15}\n",
      "ItemKNN_CFCBF_HybridRecommender: URM Detected 1 ( 0.0%) items with no interactions.\n",
      "ItemKNN_CFCBF_HybridRecommender: ICM Detected 559 ( 3.1%) items with no features.\n",
      "Similarity column 18059 (100.0%), 1605.74 column/sec. Elapsed time 11.25 sec\n",
      "EvaluatorHoldout: Processed 13644 (100.0%) in 13.49 sec. Users per second: 1011\n",
      "SearchBayesianSkopt: New best config found. Config 176: {'shrink': 10, 'topK': 200, 'feature_weighting': 'TF-IDF', 'normalize': True, 'ICM_weight': 15} - results: PRECISION: 0.3500806, PRECISION_RECALL_MIN_DEN: 0.3516806, RECALL: 0.0601038, MAP: 0.2126832, MAP_MIN_DEN: 0.2134136, MRR: 0.6179892, NDCG: 0.3692472, F1: 0.1025937, HIT_RATE: 0.9539724, ARHR_ALL_HITS: 1.1277757, NOVELTY: 0.0053162, AVERAGE_POPULARITY: 0.6555095, DIVERSITY_MEAN_INTER_LIST: 0.8150611, DIVERSITY_HERFINDAHL: 0.9815001, COVERAGE_ITEM: 0.0516086, COVERAGE_ITEM_CORRECT: 0.0275209, COVERAGE_USER: 0.9995604, COVERAGE_USER_CORRECT: 0.9535531, DIVERSITY_GINI: 0.0039879, SHANNON_ENTROPY: 6.4192653, RATIO_DIVERSITY_HERFINDAHL: 0.9818792, RATIO_DIVERSITY_GINI: 0.0160867, RATIO_SHANNON_ENTROPY: 0.5181160, RATIO_AVERAGE_POPULARITY: 3.2353400, RATIO_NOVELTY: 0.0250137, \n",
      "\n",
      "SearchBayesianSkopt: Saving model in ../result_experiments/6_Hybrid_ItemKNNItemKNN_CFCBF_HybridRecommender\n",
      "\n",
      "ItemKNN_CFCBF_HybridRecommender: Saving model in file '../result_experiments/6_Hybrid_ItemKNNItemKNN_CFCBF_HybridRecommender_best_model'\n",
      "ItemKNN_CFCBF_HybridRecommender: Saving complete\n",
      "Iteration No: 177 ended. Search finished for the next optimal point.\n",
      "Time taken: 30.6619\n",
      "Function value obtained: -0.2127\n",
      "Current minimum: -0.2127\n",
      "Iteration No: 178 started. Searching for the next optimal point.\n",
      "SearchBayesianSkopt: Testing config: {'shrink': 10, 'topK': 200, 'feature_weighting': 'TF-IDF', 'normalize': True, 'ICM_weight': 21}\n",
      "SearchBayesianSkopt: Config 177 was already explored at index 173. Config: {'shrink': 10, 'topK': 200, 'feature_weighting': 'TF-IDF', 'normalize': True, 'ICM_weight': 21} - results: PRECISION: 0.3498681, PRECISION_RECALL_MIN_DEN: 0.3514447, RECALL: 0.0600282, MAP: 0.2124935, MAP_MIN_DEN: 0.2132164, MRR: 0.6171739, NDCG: 0.3689092, F1: 0.1024744, HIT_RATE: 0.9536793, ARHR_ALL_HITS: 1.1264683, NOVELTY: 0.0053176, AVERAGE_POPULARITY: 0.6551949, DIVERSITY_MEAN_INTER_LIST: 0.8154174, DIVERSITY_HERFINDAHL: 0.9815358, COVERAGE_ITEM: 0.0523285, COVERAGE_ITEM_CORRECT: 0.0275209, COVERAGE_USER: 0.9995604, COVERAGE_USER_CORRECT: 0.9532601, DIVERSITY_GINI: 0.0040083, SHANNON_ENTROPY: 6.4235829, RATIO_DIVERSITY_HERFINDAHL: 0.9819148, RATIO_DIVERSITY_GINI: 0.0161689, RATIO_SHANNON_ENTROPY: 0.5184645, RATIO_AVERAGE_POPULARITY: 3.2337873, RATIO_NOVELTY: 0.0250203, \n",
      "\n"
     ]
    },
    {
     "name": "stderr",
     "output_type": "stream",
     "text": [
      "C:\\Users\\marti\\miniconda3\\envs\\RecSys\\lib\\site-packages\\skopt\\optimizer\\optimizer.py:449: UserWarning: The objective has been evaluated at this point before.\n",
      "  warnings.warn(\"The objective has been evaluated \"\n"
     ]
    },
    {
     "name": "stdout",
     "output_type": "stream",
     "text": [
      "Iteration No: 178 ended. Search finished for the next optimal point.\n",
      "Time taken: 2.9516\n",
      "Function value obtained: -0.2125\n",
      "Current minimum: -0.2127\n",
      "Iteration No: 179 started. Searching for the next optimal point.\n",
      "SearchBayesianSkopt: Testing config: {'shrink': 10, 'topK': 200, 'feature_weighting': 'TF-IDF', 'normalize': True, 'ICM_weight': 15}\n",
      "SearchBayesianSkopt: Config 178 was already explored at index 176. Config: {'shrink': 10, 'topK': 200, 'feature_weighting': 'TF-IDF', 'normalize': True, 'ICM_weight': 15} - results: PRECISION: 0.3500806, PRECISION_RECALL_MIN_DEN: 0.3516806, RECALL: 0.0601038, MAP: 0.2126832, MAP_MIN_DEN: 0.2134136, MRR: 0.6179892, NDCG: 0.3692472, F1: 0.1025937, HIT_RATE: 0.9539724, ARHR_ALL_HITS: 1.1277757, NOVELTY: 0.0053162, AVERAGE_POPULARITY: 0.6555095, DIVERSITY_MEAN_INTER_LIST: 0.8150611, DIVERSITY_HERFINDAHL: 0.9815001, COVERAGE_ITEM: 0.0516086, COVERAGE_ITEM_CORRECT: 0.0275209, COVERAGE_USER: 0.9995604, COVERAGE_USER_CORRECT: 0.9535531, DIVERSITY_GINI: 0.0039879, SHANNON_ENTROPY: 6.4192653, RATIO_DIVERSITY_HERFINDAHL: 0.9818792, RATIO_DIVERSITY_GINI: 0.0160867, RATIO_SHANNON_ENTROPY: 0.5181160, RATIO_AVERAGE_POPULARITY: 3.2353400, RATIO_NOVELTY: 0.0250137, \n",
      "\n"
     ]
    },
    {
     "name": "stderr",
     "output_type": "stream",
     "text": [
      "C:\\Users\\marti\\miniconda3\\envs\\RecSys\\lib\\site-packages\\skopt\\optimizer\\optimizer.py:449: UserWarning: The objective has been evaluated at this point before.\n",
      "  warnings.warn(\"The objective has been evaluated \"\n"
     ]
    },
    {
     "name": "stdout",
     "output_type": "stream",
     "text": [
      "Iteration No: 179 ended. Search finished for the next optimal point.\n",
      "Time taken: 2.9817\n",
      "Function value obtained: -0.2127\n",
      "Current minimum: -0.2127\n",
      "Iteration No: 180 started. Searching for the next optimal point.\n",
      "SearchBayesianSkopt: Testing config: {'shrink': 10, 'topK': 200, 'feature_weighting': 'TF-IDF', 'normalize': True, 'ICM_weight': 21}\n",
      "SearchBayesianSkopt: Config 179 was already explored at index 173. Config: {'shrink': 10, 'topK': 200, 'feature_weighting': 'TF-IDF', 'normalize': True, 'ICM_weight': 21} - results: PRECISION: 0.3498681, PRECISION_RECALL_MIN_DEN: 0.3514447, RECALL: 0.0600282, MAP: 0.2124935, MAP_MIN_DEN: 0.2132164, MRR: 0.6171739, NDCG: 0.3689092, F1: 0.1024744, HIT_RATE: 0.9536793, ARHR_ALL_HITS: 1.1264683, NOVELTY: 0.0053176, AVERAGE_POPULARITY: 0.6551949, DIVERSITY_MEAN_INTER_LIST: 0.8154174, DIVERSITY_HERFINDAHL: 0.9815358, COVERAGE_ITEM: 0.0523285, COVERAGE_ITEM_CORRECT: 0.0275209, COVERAGE_USER: 0.9995604, COVERAGE_USER_CORRECT: 0.9532601, DIVERSITY_GINI: 0.0040083, SHANNON_ENTROPY: 6.4235829, RATIO_DIVERSITY_HERFINDAHL: 0.9819148, RATIO_DIVERSITY_GINI: 0.0161689, RATIO_SHANNON_ENTROPY: 0.5184645, RATIO_AVERAGE_POPULARITY: 3.2337873, RATIO_NOVELTY: 0.0250203, \n",
      "\n"
     ]
    },
    {
     "name": "stderr",
     "output_type": "stream",
     "text": [
      "C:\\Users\\marti\\miniconda3\\envs\\RecSys\\lib\\site-packages\\skopt\\optimizer\\optimizer.py:449: UserWarning: The objective has been evaluated at this point before.\n",
      "  warnings.warn(\"The objective has been evaluated \"\n"
     ]
    },
    {
     "name": "stdout",
     "output_type": "stream",
     "text": [
      "Iteration No: 180 ended. Search finished for the next optimal point.\n",
      "Time taken: 3.0347\n",
      "Function value obtained: -0.2125\n",
      "Current minimum: -0.2127\n",
      "Iteration No: 181 started. Searching for the next optimal point.\n",
      "SearchBayesianSkopt: Testing config: {'shrink': 10, 'topK': 200, 'feature_weighting': 'TF-IDF', 'normalize': True, 'ICM_weight': 14}\n",
      "ItemKNN_CFCBF_HybridRecommender: URM Detected 1 ( 0.0%) items with no interactions.\n",
      "ItemKNN_CFCBF_HybridRecommender: ICM Detected 559 ( 3.1%) items with no features.\n",
      "Similarity column 18059 (100.0%), 1603.75 column/sec. Elapsed time 11.26 sec\n",
      "EvaluatorHoldout: Processed 13644 (100.0%) in 13.65 sec. Users per second: 1000\n",
      "SearchBayesianSkopt: Config 180 is suboptimal. Config: {'shrink': 10, 'topK': 200, 'feature_weighting': 'TF-IDF', 'normalize': True, 'ICM_weight': 14} - results: PRECISION: 0.3499560, PRECISION_RECALL_MIN_DEN: 0.3515560, RECALL: 0.0600498, MAP: 0.2126180, MAP_MIN_DEN: 0.2133467, MRR: 0.6180336, NDCG: 0.3691638, F1: 0.1025097, HIT_RATE: 0.9539724, ARHR_ALL_HITS: 1.1276390, NOVELTY: 0.0053158, AVERAGE_POPULARITY: 0.6555355, DIVERSITY_MEAN_INTER_LIST: 0.8150531, DIVERSITY_HERFINDAHL: 0.9814993, COVERAGE_ITEM: 0.0512764, COVERAGE_ITEM_CORRECT: 0.0275209, COVERAGE_USER: 0.9995604, COVERAGE_USER_CORRECT: 0.9535531, DIVERSITY_GINI: 0.0039807, SHANNON_ENTROPY: 6.4185355, RATIO_DIVERSITY_HERFINDAHL: 0.9818784, RATIO_DIVERSITY_GINI: 0.0160576, RATIO_SHANNON_ENTROPY: 0.5180571, RATIO_AVERAGE_POPULARITY: 3.2354685, RATIO_NOVELTY: 0.0250121, \n",
      "\n",
      "Iteration No: 181 ended. Search finished for the next optimal point.\n",
      "Time taken: 28.4926\n",
      "Function value obtained: -0.2126\n",
      "Current minimum: -0.2127\n",
      "Iteration No: 182 started. Searching for the next optimal point.\n",
      "SearchBayesianSkopt: Testing config: {'shrink': 10, 'topK': 200, 'feature_weighting': 'TF-IDF', 'normalize': True, 'ICM_weight': 13}\n",
      "SearchBayesianSkopt: Config 181 was already explored at index 175. Config: {'shrink': 10, 'topK': 200, 'feature_weighting': 'TF-IDF', 'normalize': True, 'ICM_weight': 13} - results: PRECISION: 0.3499634, PRECISION_RECALL_MIN_DEN: 0.3515786, RECALL: 0.0600643, MAP: 0.2125751, MAP_MIN_DEN: 0.2133018, MRR: 0.6177340, NDCG: 0.3691086, F1: 0.1025312, HIT_RATE: 0.9539724, ARHR_ALL_HITS: 1.1272809, NOVELTY: 0.0053157, AVERAGE_POPULARITY: 0.6555323, DIVERSITY_MEAN_INTER_LIST: 0.8150753, DIVERSITY_HERFINDAHL: 0.9815016, COVERAGE_ITEM: 0.0508334, COVERAGE_ITEM_CORRECT: 0.0274102, COVERAGE_USER: 0.9995604, COVERAGE_USER_CORRECT: 0.9535531, DIVERSITY_GINI: 0.0039768, SHANNON_ENTROPY: 6.4183698, RATIO_DIVERSITY_HERFINDAHL: 0.9818806, RATIO_DIVERSITY_GINI: 0.0160420, RATIO_SHANNON_ENTROPY: 0.5180438, RATIO_AVERAGE_POPULARITY: 3.2354526, RATIO_NOVELTY: 0.0250113, \n",
      "\n"
     ]
    },
    {
     "name": "stderr",
     "output_type": "stream",
     "text": [
      "C:\\Users\\marti\\miniconda3\\envs\\RecSys\\lib\\site-packages\\skopt\\optimizer\\optimizer.py:449: UserWarning: The objective has been evaluated at this point before.\n",
      "  warnings.warn(\"The objective has been evaluated \"\n"
     ]
    },
    {
     "name": "stdout",
     "output_type": "stream",
     "text": [
      "Iteration No: 182 ended. Search finished for the next optimal point.\n",
      "Time taken: 3.0517\n",
      "Function value obtained: -0.2126\n",
      "Current minimum: -0.2127\n",
      "Iteration No: 183 started. Searching for the next optimal point.\n",
      "SearchBayesianSkopt: Testing config: {'shrink': 500, 'topK': 200, 'feature_weighting': 'TF-IDF', 'normalize': True, 'ICM_weight': 276}\n",
      "ItemKNN_CFCBF_HybridRecommender: URM Detected 1 ( 0.0%) items with no interactions.\n",
      "ItemKNN_CFCBF_HybridRecommender: ICM Detected 559 ( 3.1%) items with no features.\n",
      "Similarity column 18059 (100.0%), 1597.50 column/sec. Elapsed time 11.30 sec\n",
      "EvaluatorHoldout: Processed 13644 (100.0%) in 9.73 sec. Users per second: 1402\n",
      "SearchBayesianSkopt: Config 182 is suboptimal. Config: {'shrink': 500, 'topK': 200, 'feature_weighting': 'TF-IDF', 'normalize': True, 'ICM_weight': 276} - results: PRECISION: 0.3458077, PRECISION_RECALL_MIN_DEN: 0.3471997, RECALL: 0.0588447, MAP: 0.2085096, MAP_MIN_DEN: 0.2090408, MRR: 0.6093558, NDCG: 0.3636227, F1: 0.1005749, HIT_RATE: 0.9525799, ARHR_ALL_HITS: 1.1086516, NOVELTY: 0.0053147, AVERAGE_POPULARITY: 0.6559604, DIVERSITY_MEAN_INTER_LIST: 0.8167157, DIVERSITY_HERFINDAHL: 0.9816656, COVERAGE_ITEM: 0.0550418, COVERAGE_ITEM_CORRECT: 0.0266903, COVERAGE_USER: 0.9995604, COVERAGE_USER_CORRECT: 0.9521612, DIVERSITY_GINI: 0.0039445, SHANNON_ENTROPY: 6.4074634, RATIO_DIVERSITY_HERFINDAHL: 0.9820447, RATIO_DIVERSITY_GINI: 0.0159114, RATIO_SHANNON_ENTROPY: 0.5171635, RATIO_AVERAGE_POPULARITY: 3.2375656, RATIO_NOVELTY: 0.0250066, \n",
      "\n",
      "Iteration No: 183 ended. Search finished for the next optimal point.\n",
      "Time taken: 24.5723\n",
      "Function value obtained: -0.2085\n",
      "Current minimum: -0.2127\n",
      "Iteration No: 184 started. Searching for the next optimal point.\n",
      "SearchBayesianSkopt: Testing config: {'shrink': 10, 'topK': 200, 'feature_weighting': 'TF-IDF', 'normalize': True, 'ICM_weight': 20}\n",
      "ItemKNN_CFCBF_HybridRecommender: URM Detected 1 ( 0.0%) items with no interactions.\n",
      "ItemKNN_CFCBF_HybridRecommender: ICM Detected 559 ( 3.1%) items with no features.\n",
      "Similarity column 18059 (100.0%), 1604.32 column/sec. Elapsed time 11.26 sec\n",
      "EvaluatorHoldout: Processed 13644 (100.0%) in 13.22 sec. Users per second: 1032\n",
      "SearchBayesianSkopt: Config 183 is suboptimal. Config: {'shrink': 10, 'topK': 200, 'feature_weighting': 'TF-IDF', 'normalize': True, 'ICM_weight': 20} - results: PRECISION: 0.3496409, PRECISION_RECALL_MIN_DEN: 0.3512198, RECALL: 0.0599759, MAP: 0.2123627, MAP_MIN_DEN: 0.2130882, MRR: 0.6168157, NDCG: 0.3687130, F1: 0.1023885, HIT_RATE: 0.9538991, ARHR_ALL_HITS: 1.1259139, NOVELTY: 0.0053172, AVERAGE_POPULARITY: 0.6552824, DIVERSITY_MEAN_INTER_LIST: 0.8153476, DIVERSITY_HERFINDAHL: 0.9815288, COVERAGE_ITEM: 0.0520516, COVERAGE_ITEM_CORRECT: 0.0274102, COVERAGE_USER: 0.9995604, COVERAGE_USER_CORRECT: 0.9534799, DIVERSITY_GINI: 0.0040008, SHANNON_ENTROPY: 6.4222277, RATIO_DIVERSITY_HERFINDAHL: 0.9819078, RATIO_DIVERSITY_GINI: 0.0161388, RATIO_SHANNON_ENTROPY: 0.5183551, RATIO_AVERAGE_POPULARITY: 3.2342191, RATIO_NOVELTY: 0.0250187, \n",
      "\n",
      "Iteration No: 184 ended. Search finished for the next optimal point.\n",
      "Time taken: 28.0063\n",
      "Function value obtained: -0.2124\n",
      "Current minimum: -0.2127\n",
      "Iteration No: 185 started. Searching for the next optimal point.\n",
      "SearchBayesianSkopt: Testing config: {'shrink': 10, 'topK': 200, 'feature_weighting': 'TF-IDF', 'normalize': True, 'ICM_weight': 20}\n",
      "SearchBayesianSkopt: Config 184 was already explored at index 183. Config: {'shrink': 10, 'topK': 200, 'feature_weighting': 'TF-IDF', 'normalize': True, 'ICM_weight': 20} - results: PRECISION: 0.3496409, PRECISION_RECALL_MIN_DEN: 0.3512198, RECALL: 0.0599759, MAP: 0.2123627, MAP_MIN_DEN: 0.2130882, MRR: 0.6168157, NDCG: 0.3687130, F1: 0.1023885, HIT_RATE: 0.9538991, ARHR_ALL_HITS: 1.1259139, NOVELTY: 0.0053172, AVERAGE_POPULARITY: 0.6552824, DIVERSITY_MEAN_INTER_LIST: 0.8153476, DIVERSITY_HERFINDAHL: 0.9815288, COVERAGE_ITEM: 0.0520516, COVERAGE_ITEM_CORRECT: 0.0274102, COVERAGE_USER: 0.9995604, COVERAGE_USER_CORRECT: 0.9534799, DIVERSITY_GINI: 0.0040008, SHANNON_ENTROPY: 6.4222277, RATIO_DIVERSITY_HERFINDAHL: 0.9819078, RATIO_DIVERSITY_GINI: 0.0161388, RATIO_SHANNON_ENTROPY: 0.5183551, RATIO_AVERAGE_POPULARITY: 3.2342191, RATIO_NOVELTY: 0.0250187, \n",
      "\n"
     ]
    },
    {
     "name": "stderr",
     "output_type": "stream",
     "text": [
      "C:\\Users\\marti\\miniconda3\\envs\\RecSys\\lib\\site-packages\\skopt\\optimizer\\optimizer.py:449: UserWarning: The objective has been evaluated at this point before.\n",
      "  warnings.warn(\"The objective has been evaluated \"\n"
     ]
    },
    {
     "name": "stdout",
     "output_type": "stream",
     "text": [
      "Iteration No: 185 ended. Search finished for the next optimal point.\n",
      "Time taken: 3.0817\n",
      "Function value obtained: -0.2124\n",
      "Current minimum: -0.2127\n",
      "Iteration No: 186 started. Searching for the next optimal point.\n",
      "SearchBayesianSkopt: Testing config: {'shrink': 10, 'topK': 200, 'feature_weighting': 'TF-IDF', 'normalize': True, 'ICM_weight': 21}\n",
      "SearchBayesianSkopt: Config 185 was already explored at index 173. Config: {'shrink': 10, 'topK': 200, 'feature_weighting': 'TF-IDF', 'normalize': True, 'ICM_weight': 21} - results: PRECISION: 0.3498681, PRECISION_RECALL_MIN_DEN: 0.3514447, RECALL: 0.0600282, MAP: 0.2124935, MAP_MIN_DEN: 0.2132164, MRR: 0.6171739, NDCG: 0.3689092, F1: 0.1024744, HIT_RATE: 0.9536793, ARHR_ALL_HITS: 1.1264683, NOVELTY: 0.0053176, AVERAGE_POPULARITY: 0.6551949, DIVERSITY_MEAN_INTER_LIST: 0.8154174, DIVERSITY_HERFINDAHL: 0.9815358, COVERAGE_ITEM: 0.0523285, COVERAGE_ITEM_CORRECT: 0.0275209, COVERAGE_USER: 0.9995604, COVERAGE_USER_CORRECT: 0.9532601, DIVERSITY_GINI: 0.0040083, SHANNON_ENTROPY: 6.4235829, RATIO_DIVERSITY_HERFINDAHL: 0.9819148, RATIO_DIVERSITY_GINI: 0.0161689, RATIO_SHANNON_ENTROPY: 0.5184645, RATIO_AVERAGE_POPULARITY: 3.2337873, RATIO_NOVELTY: 0.0250203, \n",
      "\n"
     ]
    },
    {
     "name": "stderr",
     "output_type": "stream",
     "text": [
      "C:\\Users\\marti\\miniconda3\\envs\\RecSys\\lib\\site-packages\\skopt\\optimizer\\optimizer.py:449: UserWarning: The objective has been evaluated at this point before.\n",
      "  warnings.warn(\"The objective has been evaluated \"\n"
     ]
    },
    {
     "name": "stdout",
     "output_type": "stream",
     "text": [
      "Iteration No: 186 ended. Search finished for the next optimal point.\n",
      "Time taken: 3.0637\n",
      "Function value obtained: -0.2125\n",
      "Current minimum: -0.2127\n",
      "Iteration No: 187 started. Searching for the next optimal point.\n",
      "SearchBayesianSkopt: Testing config: {'shrink': 500, 'topK': 200, 'feature_weighting': 'TF-IDF', 'normalize': True, 'ICM_weight': 276}\n",
      "SearchBayesianSkopt: Config 186 was already explored at index 182. Config: {'shrink': 500, 'topK': 200, 'feature_weighting': 'TF-IDF', 'normalize': True, 'ICM_weight': 276} - results: PRECISION: 0.3458077, PRECISION_RECALL_MIN_DEN: 0.3471997, RECALL: 0.0588447, MAP: 0.2085096, MAP_MIN_DEN: 0.2090408, MRR: 0.6093558, NDCG: 0.3636227, F1: 0.1005749, HIT_RATE: 0.9525799, ARHR_ALL_HITS: 1.1086516, NOVELTY: 0.0053147, AVERAGE_POPULARITY: 0.6559604, DIVERSITY_MEAN_INTER_LIST: 0.8167157, DIVERSITY_HERFINDAHL: 0.9816656, COVERAGE_ITEM: 0.0550418, COVERAGE_ITEM_CORRECT: 0.0266903, COVERAGE_USER: 0.9995604, COVERAGE_USER_CORRECT: 0.9521612, DIVERSITY_GINI: 0.0039445, SHANNON_ENTROPY: 6.4074634, RATIO_DIVERSITY_HERFINDAHL: 0.9820447, RATIO_DIVERSITY_GINI: 0.0159114, RATIO_SHANNON_ENTROPY: 0.5171635, RATIO_AVERAGE_POPULARITY: 3.2375656, RATIO_NOVELTY: 0.0250066, \n",
      "\n"
     ]
    },
    {
     "name": "stderr",
     "output_type": "stream",
     "text": [
      "C:\\Users\\marti\\miniconda3\\envs\\RecSys\\lib\\site-packages\\skopt\\optimizer\\optimizer.py:449: UserWarning: The objective has been evaluated at this point before.\n",
      "  warnings.warn(\"The objective has been evaluated \"\n"
     ]
    },
    {
     "name": "stdout",
     "output_type": "stream",
     "text": [
      "Iteration No: 187 ended. Search finished for the next optimal point.\n",
      "Time taken: 3.1197\n",
      "Function value obtained: -0.2085\n",
      "Current minimum: -0.2127\n",
      "Iteration No: 188 started. Searching for the next optimal point.\n",
      "SearchBayesianSkopt: Testing config: {'shrink': 500, 'topK': 200, 'feature_weighting': 'TF-IDF', 'normalize': True, 'ICM_weight': 276}\n",
      "SearchBayesianSkopt: Config 187 was already explored at index 182. Config: {'shrink': 500, 'topK': 200, 'feature_weighting': 'TF-IDF', 'normalize': True, 'ICM_weight': 276} - results: PRECISION: 0.3458077, PRECISION_RECALL_MIN_DEN: 0.3471997, RECALL: 0.0588447, MAP: 0.2085096, MAP_MIN_DEN: 0.2090408, MRR: 0.6093558, NDCG: 0.3636227, F1: 0.1005749, HIT_RATE: 0.9525799, ARHR_ALL_HITS: 1.1086516, NOVELTY: 0.0053147, AVERAGE_POPULARITY: 0.6559604, DIVERSITY_MEAN_INTER_LIST: 0.8167157, DIVERSITY_HERFINDAHL: 0.9816656, COVERAGE_ITEM: 0.0550418, COVERAGE_ITEM_CORRECT: 0.0266903, COVERAGE_USER: 0.9995604, COVERAGE_USER_CORRECT: 0.9521612, DIVERSITY_GINI: 0.0039445, SHANNON_ENTROPY: 6.4074634, RATIO_DIVERSITY_HERFINDAHL: 0.9820447, RATIO_DIVERSITY_GINI: 0.0159114, RATIO_SHANNON_ENTROPY: 0.5171635, RATIO_AVERAGE_POPULARITY: 3.2375656, RATIO_NOVELTY: 0.0250066, \n",
      "\n"
     ]
    },
    {
     "name": "stderr",
     "output_type": "stream",
     "text": [
      "C:\\Users\\marti\\miniconda3\\envs\\RecSys\\lib\\site-packages\\skopt\\optimizer\\optimizer.py:449: UserWarning: The objective has been evaluated at this point before.\n",
      "  warnings.warn(\"The objective has been evaluated \"\n"
     ]
    },
    {
     "name": "stdout",
     "output_type": "stream",
     "text": [
      "Iteration No: 188 ended. Search finished for the next optimal point.\n",
      "Time taken: 3.0807\n",
      "Function value obtained: -0.2085\n",
      "Current minimum: -0.2127\n",
      "Iteration No: 189 started. Searching for the next optimal point.\n",
      "SearchBayesianSkopt: Testing config: {'shrink': 231, 'topK': 200, 'feature_weighting': 'TF-IDF', 'normalize': True, 'ICM_weight': 5}\n",
      "ItemKNN_CFCBF_HybridRecommender: URM Detected 1 ( 0.0%) items with no interactions.\n",
      "ItemKNN_CFCBF_HybridRecommender: ICM Detected 559 ( 3.1%) items with no features.\n",
      "Similarity column 18059 (100.0%), 1568.77 column/sec. Elapsed time 11.51 sec\n",
      "EvaluatorHoldout: Processed 13644 (100.0%) in 15.75 sec. Users per second: 866\n",
      "SearchBayesianSkopt: Config 188 is suboptimal. Config: {'shrink': 231, 'topK': 200, 'feature_weighting': 'TF-IDF', 'normalize': True, 'ICM_weight': 5} - results: PRECISION: 0.3492084, PRECISION_RECALL_MIN_DEN: 0.3509091, RECALL: 0.0600853, MAP: 0.2121954, MAP_MIN_DEN: 0.2129392, MRR: 0.6176304, NDCG: 0.3685912, F1: 0.1025292, HIT_RATE: 0.9533128, ARHR_ALL_HITS: 1.1262046, NOVELTY: 0.0053084, AVERAGE_POPULARITY: 0.6576337, DIVERSITY_MEAN_INTER_LIST: 0.8130193, DIVERSITY_HERFINDAHL: 0.9812960, COVERAGE_ITEM: 0.0473448, COVERAGE_ITEM_CORRECT: 0.0265795, COVERAGE_USER: 0.9995604, COVERAGE_USER_CORRECT: 0.9528938, DIVERSITY_GINI: 0.0038592, SHANNON_ENTROPY: 6.3899522, RATIO_DIVERSITY_HERFINDAHL: 0.9816749, RATIO_DIVERSITY_GINI: 0.0155674, RATIO_SHANNON_ENTROPY: 0.5157501, RATIO_AVERAGE_POPULARITY: 3.2458243, RATIO_NOVELTY: 0.0249772, \n",
      "\n",
      "Iteration No: 189 ended. Search finished for the next optimal point.\n",
      "Time taken: 30.7379\n",
      "Function value obtained: -0.2122\n",
      "Current minimum: -0.2127\n",
      "Iteration No: 190 started. Searching for the next optimal point.\n",
      "SearchBayesianSkopt: Testing config: {'shrink': 237, 'topK': 414, 'feature_weighting': 'none', 'normalize': True, 'ICM_weight': 5}\n",
      "ItemKNN_CFCBF_HybridRecommender: URM Detected 1 ( 0.0%) items with no interactions.\n",
      "ItemKNN_CFCBF_HybridRecommender: ICM Detected 559 ( 3.1%) items with no features.\n",
      "Similarity column 18059 (100.0%), 1574.38 column/sec. Elapsed time 11.47 sec\n",
      "EvaluatorHoldout: Processed 13644 (100.0%) in 17.35 sec. Users per second: 786\n",
      "SearchBayesianSkopt: Config 189 is suboptimal. Config: {'shrink': 237, 'topK': 414, 'feature_weighting': 'none', 'normalize': True, 'ICM_weight': 5} - results: PRECISION: 0.3393580, PRECISION_RECALL_MIN_DEN: 0.3408312, RECALL: 0.0572856, MAP: 0.2065254, MAP_MIN_DEN: 0.2072640, MRR: 0.6152380, NDCG: 0.3607085, F1: 0.0980241, HIT_RATE: 0.9470830, ARHR_ALL_HITS: 1.1088427, NOVELTY: 0.0052479, AVERAGE_POPULARITY: 0.6909223, DIVERSITY_MEAN_INTER_LIST: 0.7600315, DIVERSITY_HERFINDAHL: 0.9759976, COVERAGE_ITEM: 0.0357716, COVERAGE_ITEM_CORRECT: 0.0189379, COVERAGE_USER: 0.9995604, COVERAGE_USER_CORRECT: 0.9466667, DIVERSITY_GINI: 0.0026499, SHANNON_ENTROPY: 5.8883047, RATIO_DIVERSITY_HERFINDAHL: 0.9763745, RATIO_DIVERSITY_GINI: 0.0106892, RATIO_SHANNON_ENTROPY: 0.4752608, RATIO_AVERAGE_POPULARITY: 3.4101240, RATIO_NOVELTY: 0.0246924, \n",
      "\n",
      "Iteration No: 190 ended. Search finished for the next optimal point.\n",
      "Time taken: 32.2151\n",
      "Function value obtained: -0.2065\n",
      "Current minimum: -0.2127\n",
      "Iteration No: 191 started. Searching for the next optimal point.\n",
      "SearchBayesianSkopt: Testing config: {'shrink': 500, 'topK': 200, 'feature_weighting': 'TF-IDF', 'normalize': True, 'ICM_weight': 276}\n",
      "SearchBayesianSkopt: Config 190 was already explored at index 182. Config: {'shrink': 500, 'topK': 200, 'feature_weighting': 'TF-IDF', 'normalize': True, 'ICM_weight': 276} - results: PRECISION: 0.3458077, PRECISION_RECALL_MIN_DEN: 0.3471997, RECALL: 0.0588447, MAP: 0.2085096, MAP_MIN_DEN: 0.2090408, MRR: 0.6093558, NDCG: 0.3636227, F1: 0.1005749, HIT_RATE: 0.9525799, ARHR_ALL_HITS: 1.1086516, NOVELTY: 0.0053147, AVERAGE_POPULARITY: 0.6559604, DIVERSITY_MEAN_INTER_LIST: 0.8167157, DIVERSITY_HERFINDAHL: 0.9816656, COVERAGE_ITEM: 0.0550418, COVERAGE_ITEM_CORRECT: 0.0266903, COVERAGE_USER: 0.9995604, COVERAGE_USER_CORRECT: 0.9521612, DIVERSITY_GINI: 0.0039445, SHANNON_ENTROPY: 6.4074634, RATIO_DIVERSITY_HERFINDAHL: 0.9820447, RATIO_DIVERSITY_GINI: 0.0159114, RATIO_SHANNON_ENTROPY: 0.5171635, RATIO_AVERAGE_POPULARITY: 3.2375656, RATIO_NOVELTY: 0.0250066, \n",
      "\n"
     ]
    },
    {
     "name": "stderr",
     "output_type": "stream",
     "text": [
      "C:\\Users\\marti\\miniconda3\\envs\\RecSys\\lib\\site-packages\\skopt\\optimizer\\optimizer.py:449: UserWarning: The objective has been evaluated at this point before.\n",
      "  warnings.warn(\"The objective has been evaluated \"\n"
     ]
    },
    {
     "name": "stdout",
     "output_type": "stream",
     "text": [
      "Iteration No: 191 ended. Search finished for the next optimal point.\n",
      "Time taken: 2.9847\n",
      "Function value obtained: -0.2085\n",
      "Current minimum: -0.2127\n",
      "Iteration No: 192 started. Searching for the next optimal point.\n",
      "SearchBayesianSkopt: Testing config: {'shrink': 500, 'topK': 200, 'feature_weighting': 'TF-IDF', 'normalize': True, 'ICM_weight': 439}\n",
      "ItemKNN_CFCBF_HybridRecommender: URM Detected 1 ( 0.0%) items with no interactions.\n",
      "ItemKNN_CFCBF_HybridRecommender: ICM Detected 559 ( 3.1%) items with no features.\n",
      "Similarity column 18059 (100.0%), 1602.47 column/sec. Elapsed time 11.27 sec\n",
      "EvaluatorHoldout: Processed 13644 (100.0%) in 8.96 sec. Users per second: 1522\n",
      "SearchBayesianSkopt: Config 191 is suboptimal. Config: {'shrink': 500, 'topK': 200, 'feature_weighting': 'TF-IDF', 'normalize': True, 'ICM_weight': 439} - results: PRECISION: 0.3421284, PRECISION_RECALL_MIN_DEN: 0.3434363, RECALL: 0.0580259, MAP: 0.2049089, MAP_MIN_DEN: 0.2054083, MRR: 0.6052330, NDCG: 0.3594394, F1: 0.0992232, HIT_RATE: 0.9501612, ARHR_ALL_HITS: 1.0954306, NOVELTY: 0.0053142, AVERAGE_POPULARITY: 0.6547329, DIVERSITY_MEAN_INTER_LIST: 0.8203340, DIVERSITY_HERFINDAHL: 0.9820274, COVERAGE_ITEM: 0.0537128, COVERAGE_ITEM_CORRECT: 0.0248629, COVERAGE_USER: 0.9995604, COVERAGE_USER_CORRECT: 0.9497436, DIVERSITY_GINI: 0.0039385, SHANNON_ENTROPY: 6.4194511, RATIO_DIVERSITY_HERFINDAHL: 0.9824066, RATIO_DIVERSITY_GINI: 0.0158874, RATIO_SHANNON_ENTROPY: 0.5181310, RATIO_AVERAGE_POPULARITY: 3.2315069, RATIO_NOVELTY: 0.0250042, \n",
      "\n",
      "Iteration No: 192 ended. Search finished for the next optimal point.\n",
      "Time taken: 23.5342\n",
      "Function value obtained: -0.2049\n",
      "Current minimum: -0.2127\n",
      "Iteration No: 193 started. Searching for the next optimal point.\n",
      "SearchBayesianSkopt: Testing config: {'shrink': 500, 'topK': 200, 'feature_weighting': 'TF-IDF', 'normalize': True, 'ICM_weight': 183}\n",
      "ItemKNN_CFCBF_HybridRecommender: URM Detected 1 ( 0.0%) items with no interactions.\n",
      "ItemKNN_CFCBF_HybridRecommender: ICM Detected 559 ( 3.1%) items with no features.\n",
      "Similarity column 18059 (100.0%), 1615.37 column/sec. Elapsed time 11.18 sec\n",
      "EvaluatorHoldout: Processed 13644 (100.0%) in 10.56 sec. Users per second: 1292\n",
      "SearchBayesianSkopt: Config 192 is suboptimal. Config: {'shrink': 500, 'topK': 200, 'feature_weighting': 'TF-IDF', 'normalize': True, 'ICM_weight': 183} - results: PRECISION: 0.3488493, PRECISION_RECALL_MIN_DEN: 0.3503562, RECALL: 0.0597478, MAP: 0.2111176, MAP_MIN_DEN: 0.2116925, MRR: 0.6138853, NDCG: 0.3670582, F1: 0.1020222, HIT_RATE: 0.9545588, ARHR_ALL_HITS: 1.1194707, NOVELTY: 0.0053166, AVERAGE_POPULARITY: 0.6557324, DIVERSITY_MEAN_INTER_LIST: 0.8154961, DIVERSITY_HERFINDAHL: 0.9815436, COVERAGE_ITEM: 0.0554294, COVERAGE_ITEM_CORRECT: 0.0272994, COVERAGE_USER: 0.9995604, COVERAGE_USER_CORRECT: 0.9541392, DIVERSITY_GINI: 0.0039843, SHANNON_ENTROPY: 6.4124871, RATIO_DIVERSITY_HERFINDAHL: 0.9819227, RATIO_DIVERSITY_GINI: 0.0160721, RATIO_SHANNON_ENTROPY: 0.5175689, RATIO_AVERAGE_POPULARITY: 3.2364401, RATIO_NOVELTY: 0.0250157, \n",
      "\n",
      "Iteration No: 193 ended. Search finished for the next optimal point.\n",
      "Time taken: 25.2646\n",
      "Function value obtained: -0.2111\n",
      "Current minimum: -0.2127\n",
      "Iteration No: 194 started. Searching for the next optimal point.\n",
      "SearchBayesianSkopt: Testing config: {'shrink': 10, 'topK': 1000, 'feature_weighting': 'TF-IDF', 'normalize': True, 'ICM_weight': 50}\n",
      "ItemKNN_CFCBF_HybridRecommender: URM Detected 1 ( 0.0%) items with no interactions.\n",
      "ItemKNN_CFCBF_HybridRecommender: ICM Detected 559 ( 3.1%) items with no features.\n",
      "Similarity column 18059 (100.0%), 1506.84 column/sec. Elapsed time 11.98 sec\n",
      "EvaluatorHoldout: Processed 13644 (100.0%) in 20.16 sec. Users per second: 677\n",
      "SearchBayesianSkopt: Config 193 is suboptimal. Config: {'shrink': 10, 'topK': 1000, 'feature_weighting': 'TF-IDF', 'normalize': True, 'ICM_weight': 50} - results: PRECISION: 0.3383758, PRECISION_RECALL_MIN_DEN: 0.3396624, RECALL: 0.0569464, MAP: 0.2057495, MAP_MIN_DEN: 0.2064093, MRR: 0.6156453, NDCG: 0.3598098, F1: 0.0974865, HIT_RATE: 0.9471563, ARHR_ALL_HITS: 1.1070531, NOVELTY: 0.0052740, AVERAGE_POPULARITY: 0.6887368, DIVERSITY_MEAN_INTER_LIST: 0.7549163, DIVERSITY_HERFINDAHL: 0.9754861, COVERAGE_ITEM: 0.0401462, COVERAGE_ITEM_CORRECT: 0.0217620, COVERAGE_USER: 0.9995604, COVERAGE_USER_CORRECT: 0.9467399, DIVERSITY_GINI: 0.0027400, SHANNON_ENTROPY: 5.8851494, RATIO_DIVERSITY_HERFINDAHL: 0.9758628, RATIO_DIVERSITY_GINI: 0.0110529, RATIO_SHANNON_ENTROPY: 0.4750061, RATIO_AVERAGE_POPULARITY: 3.3993372, RATIO_NOVELTY: 0.0248153, \n",
      "\n",
      "Iteration No: 194 ended. Search finished for the next optimal point.\n",
      "Time taken: 36.2487\n",
      "Function value obtained: -0.2057\n",
      "Current minimum: -0.2127\n",
      "Iteration No: 195 started. Searching for the next optimal point.\n",
      "SearchBayesianSkopt: Testing config: {'shrink': 10, 'topK': 200, 'feature_weighting': 'TF-IDF', 'normalize': True, 'ICM_weight': 10}\n",
      "ItemKNN_CFCBF_HybridRecommender: URM Detected 1 ( 0.0%) items with no interactions.\n",
      "ItemKNN_CFCBF_HybridRecommender: ICM Detected 559 ( 3.1%) items with no features.\n",
      "Similarity column 18059 (100.0%), 1595.80 column/sec. Elapsed time 11.32 sec\n",
      "EvaluatorHoldout: Processed 13644 (100.0%) in 13.94 sec. Users per second: 979\n",
      "SearchBayesianSkopt: Config 194 is suboptimal. Config: {'shrink': 10, 'topK': 200, 'feature_weighting': 'TF-IDF', 'normalize': True, 'ICM_weight': 10} - results: PRECISION: 0.3497948, PRECISION_RECALL_MIN_DEN: 0.3514760, RECALL: 0.0601006, MAP: 0.2124663, MAP_MIN_DEN: 0.2132012, MRR: 0.6172694, NDCG: 0.3689408, F1: 0.1025768, HIT_RATE: 0.9538991, ARHR_ALL_HITS: 1.1266442, NOVELTY: 0.0053149, AVERAGE_POPULARITY: 0.6556680, DIVERSITY_MEAN_INTER_LIST: 0.8149777, DIVERSITY_HERFINDAHL: 0.9814918, COVERAGE_ITEM: 0.0495044, COVERAGE_ITEM_CORRECT: 0.0274102, COVERAGE_USER: 0.9995604, COVERAGE_USER_CORRECT: 0.9534799, DIVERSITY_GINI: 0.0039581, SHANNON_ENTROPY: 6.4155124, RATIO_DIVERSITY_HERFINDAHL: 0.9818708, RATIO_DIVERSITY_GINI: 0.0159663, RATIO_SHANNON_ENTROPY: 0.5178131, RATIO_AVERAGE_POPULARITY: 3.2361221, RATIO_NOVELTY: 0.0250075, \n",
      "\n",
      "Iteration No: 195 ended. Search finished for the next optimal point.\n",
      "Time taken: 29.0325\n",
      "Function value obtained: -0.2125\n",
      "Current minimum: -0.2127\n",
      "Iteration No: 196 started. Searching for the next optimal point.\n",
      "SearchBayesianSkopt: Testing config: {'shrink': 10, 'topK': 200, 'feature_weighting': 'TF-IDF', 'normalize': True, 'ICM_weight': 5}\n",
      "SearchBayesianSkopt: Config 195 was already explored at index 160. Config: {'shrink': 10, 'topK': 200, 'feature_weighting': 'TF-IDF', 'normalize': True, 'ICM_weight': 5} - results: PRECISION: 0.3496335, PRECISION_RECALL_MIN_DEN: 0.3513392, RECALL: 0.0601305, MAP: 0.2125084, MAP_MIN_DEN: 0.2132577, MRR: 0.6172657, NDCG: 0.3689270, F1: 0.1026133, HIT_RATE: 0.9536793, ARHR_ALL_HITS: 1.1268567, NOVELTY: 0.0053134, AVERAGE_POPULARITY: 0.6560807, DIVERSITY_MEAN_INTER_LIST: 0.8145055, DIVERSITY_HERFINDAHL: 0.9814446, COVERAGE_ITEM: 0.0491168, COVERAGE_ITEM_CORRECT: 0.0275209, COVERAGE_USER: 0.9995604, COVERAGE_USER_CORRECT: 0.9532601, DIVERSITY_GINI: 0.0039384, SHANNON_ENTROPY: 6.4102591, RATIO_DIVERSITY_HERFINDAHL: 0.9818236, RATIO_DIVERSITY_GINI: 0.0158871, RATIO_SHANNON_ENTROPY: 0.5173891, RATIO_AVERAGE_POPULARITY: 3.2381591, RATIO_NOVELTY: 0.0250004, \n",
      "\n"
     ]
    },
    {
     "name": "stderr",
     "output_type": "stream",
     "text": [
      "C:\\Users\\marti\\miniconda3\\envs\\RecSys\\lib\\site-packages\\skopt\\optimizer\\optimizer.py:449: UserWarning: The objective has been evaluated at this point before.\n",
      "  warnings.warn(\"The objective has been evaluated \"\n"
     ]
    },
    {
     "name": "stdout",
     "output_type": "stream",
     "text": [
      "Iteration No: 196 ended. Search finished for the next optimal point.\n",
      "Time taken: 3.3028\n",
      "Function value obtained: -0.2125\n",
      "Current minimum: -0.2127\n",
      "Iteration No: 197 started. Searching for the next optimal point.\n",
      "SearchBayesianSkopt: Testing config: {'shrink': 10, 'topK': 200, 'feature_weighting': 'TF-IDF', 'normalize': True, 'ICM_weight': 5}\n",
      "SearchBayesianSkopt: Config 196 was already explored at index 160. Config: {'shrink': 10, 'topK': 200, 'feature_weighting': 'TF-IDF', 'normalize': True, 'ICM_weight': 5} - results: PRECISION: 0.3496335, PRECISION_RECALL_MIN_DEN: 0.3513392, RECALL: 0.0601305, MAP: 0.2125084, MAP_MIN_DEN: 0.2132577, MRR: 0.6172657, NDCG: 0.3689270, F1: 0.1026133, HIT_RATE: 0.9536793, ARHR_ALL_HITS: 1.1268567, NOVELTY: 0.0053134, AVERAGE_POPULARITY: 0.6560807, DIVERSITY_MEAN_INTER_LIST: 0.8145055, DIVERSITY_HERFINDAHL: 0.9814446, COVERAGE_ITEM: 0.0491168, COVERAGE_ITEM_CORRECT: 0.0275209, COVERAGE_USER: 0.9995604, COVERAGE_USER_CORRECT: 0.9532601, DIVERSITY_GINI: 0.0039384, SHANNON_ENTROPY: 6.4102591, RATIO_DIVERSITY_HERFINDAHL: 0.9818236, RATIO_DIVERSITY_GINI: 0.0158871, RATIO_SHANNON_ENTROPY: 0.5173891, RATIO_AVERAGE_POPULARITY: 3.2381591, RATIO_NOVELTY: 0.0250004, \n",
      "\n"
     ]
    },
    {
     "name": "stderr",
     "output_type": "stream",
     "text": [
      "C:\\Users\\marti\\miniconda3\\envs\\RecSys\\lib\\site-packages\\skopt\\optimizer\\optimizer.py:449: UserWarning: The objective has been evaluated at this point before.\n",
      "  warnings.warn(\"The objective has been evaluated \"\n"
     ]
    },
    {
     "name": "stdout",
     "output_type": "stream",
     "text": [
      "Iteration No: 197 ended. Search finished for the next optimal point.\n",
      "Time taken: 3.4698\n",
      "Function value obtained: -0.2125\n",
      "Current minimum: -0.2127\n",
      "Iteration No: 198 started. Searching for the next optimal point.\n",
      "SearchBayesianSkopt: Testing config: {'shrink': 10, 'topK': 200, 'feature_weighting': 'TF-IDF', 'normalize': True, 'ICM_weight': 15}\n",
      "SearchBayesianSkopt: Config 197 was already explored at index 176. Config: {'shrink': 10, 'topK': 200, 'feature_weighting': 'TF-IDF', 'normalize': True, 'ICM_weight': 15} - results: PRECISION: 0.3500806, PRECISION_RECALL_MIN_DEN: 0.3516806, RECALL: 0.0601038, MAP: 0.2126832, MAP_MIN_DEN: 0.2134136, MRR: 0.6179892, NDCG: 0.3692472, F1: 0.1025937, HIT_RATE: 0.9539724, ARHR_ALL_HITS: 1.1277757, NOVELTY: 0.0053162, AVERAGE_POPULARITY: 0.6555095, DIVERSITY_MEAN_INTER_LIST: 0.8150611, DIVERSITY_HERFINDAHL: 0.9815001, COVERAGE_ITEM: 0.0516086, COVERAGE_ITEM_CORRECT: 0.0275209, COVERAGE_USER: 0.9995604, COVERAGE_USER_CORRECT: 0.9535531, DIVERSITY_GINI: 0.0039879, SHANNON_ENTROPY: 6.4192653, RATIO_DIVERSITY_HERFINDAHL: 0.9818792, RATIO_DIVERSITY_GINI: 0.0160867, RATIO_SHANNON_ENTROPY: 0.5181160, RATIO_AVERAGE_POPULARITY: 3.2353400, RATIO_NOVELTY: 0.0250137, \n",
      "\n"
     ]
    },
    {
     "name": "stderr",
     "output_type": "stream",
     "text": [
      "C:\\Users\\marti\\miniconda3\\envs\\RecSys\\lib\\site-packages\\skopt\\optimizer\\optimizer.py:449: UserWarning: The objective has been evaluated at this point before.\n",
      "  warnings.warn(\"The objective has been evaluated \"\n"
     ]
    },
    {
     "name": "stdout",
     "output_type": "stream",
     "text": [
      "Iteration No: 198 ended. Search finished for the next optimal point.\n",
      "Time taken: 3.4838\n",
      "Function value obtained: -0.2127\n",
      "Current minimum: -0.2127\n",
      "Iteration No: 199 started. Searching for the next optimal point.\n",
      "SearchBayesianSkopt: Testing config: {'shrink': 10, 'topK': 200, 'feature_weighting': 'TF-IDF', 'normalize': True, 'ICM_weight': 14}\n",
      "SearchBayesianSkopt: Config 198 was already explored at index 180. Config: {'shrink': 10, 'topK': 200, 'feature_weighting': 'TF-IDF', 'normalize': True, 'ICM_weight': 14} - results: PRECISION: 0.3499560, PRECISION_RECALL_MIN_DEN: 0.3515560, RECALL: 0.0600498, MAP: 0.2126180, MAP_MIN_DEN: 0.2133467, MRR: 0.6180336, NDCG: 0.3691638, F1: 0.1025097, HIT_RATE: 0.9539724, ARHR_ALL_HITS: 1.1276390, NOVELTY: 0.0053158, AVERAGE_POPULARITY: 0.6555355, DIVERSITY_MEAN_INTER_LIST: 0.8150531, DIVERSITY_HERFINDAHL: 0.9814993, COVERAGE_ITEM: 0.0512764, COVERAGE_ITEM_CORRECT: 0.0275209, COVERAGE_USER: 0.9995604, COVERAGE_USER_CORRECT: 0.9535531, DIVERSITY_GINI: 0.0039807, SHANNON_ENTROPY: 6.4185355, RATIO_DIVERSITY_HERFINDAHL: 0.9818784, RATIO_DIVERSITY_GINI: 0.0160576, RATIO_SHANNON_ENTROPY: 0.5180571, RATIO_AVERAGE_POPULARITY: 3.2354685, RATIO_NOVELTY: 0.0250121, \n",
      "\n"
     ]
    },
    {
     "name": "stderr",
     "output_type": "stream",
     "text": [
      "C:\\Users\\marti\\miniconda3\\envs\\RecSys\\lib\\site-packages\\skopt\\optimizer\\optimizer.py:449: UserWarning: The objective has been evaluated at this point before.\n",
      "  warnings.warn(\"The objective has been evaluated \"\n"
     ]
    },
    {
     "name": "stdout",
     "output_type": "stream",
     "text": [
      "Iteration No: 199 ended. Search finished for the next optimal point.\n",
      "Time taken: 3.5688\n",
      "Function value obtained: -0.2126\n",
      "Current minimum: -0.2127\n",
      "Iteration No: 200 started. Searching for the next optimal point.\n",
      "SearchBayesianSkopt: Testing config: {'shrink': 10, 'topK': 200, 'feature_weighting': 'TF-IDF', 'normalize': True, 'ICM_weight': 13}\n",
      "SearchBayesianSkopt: Config 199 was already explored at index 175. Config: {'shrink': 10, 'topK': 200, 'feature_weighting': 'TF-IDF', 'normalize': True, 'ICM_weight': 13} - results: PRECISION: 0.3499634, PRECISION_RECALL_MIN_DEN: 0.3515786, RECALL: 0.0600643, MAP: 0.2125751, MAP_MIN_DEN: 0.2133018, MRR: 0.6177340, NDCG: 0.3691086, F1: 0.1025312, HIT_RATE: 0.9539724, ARHR_ALL_HITS: 1.1272809, NOVELTY: 0.0053157, AVERAGE_POPULARITY: 0.6555323, DIVERSITY_MEAN_INTER_LIST: 0.8150753, DIVERSITY_HERFINDAHL: 0.9815016, COVERAGE_ITEM: 0.0508334, COVERAGE_ITEM_CORRECT: 0.0274102, COVERAGE_USER: 0.9995604, COVERAGE_USER_CORRECT: 0.9535531, DIVERSITY_GINI: 0.0039768, SHANNON_ENTROPY: 6.4183698, RATIO_DIVERSITY_HERFINDAHL: 0.9818806, RATIO_DIVERSITY_GINI: 0.0160420, RATIO_SHANNON_ENTROPY: 0.5180438, RATIO_AVERAGE_POPULARITY: 3.2354526, RATIO_NOVELTY: 0.0250113, \n",
      "\n"
     ]
    },
    {
     "name": "stderr",
     "output_type": "stream",
     "text": [
      "C:\\Users\\marti\\miniconda3\\envs\\RecSys\\lib\\site-packages\\skopt\\optimizer\\optimizer.py:449: UserWarning: The objective has been evaluated at this point before.\n",
      "  warnings.warn(\"The objective has been evaluated \"\n"
     ]
    },
    {
     "name": "stdout",
     "output_type": "stream",
     "text": [
      "Iteration No: 200 ended. Search finished for the next optimal point.\n",
      "Time taken: 3.3197\n",
      "Function value obtained: -0.2126\n",
      "Current minimum: -0.2127\n",
      "Iteration No: 201 started. Searching for the next optimal point.\n",
      "SearchBayesianSkopt: Testing config: {'shrink': 10, 'topK': 200, 'feature_weighting': 'TF-IDF', 'normalize': True, 'ICM_weight': 5}\n",
      "SearchBayesianSkopt: Config 200 was already explored at index 160. Config: {'shrink': 10, 'topK': 200, 'feature_weighting': 'TF-IDF', 'normalize': True, 'ICM_weight': 5} - results: PRECISION: 0.3496335, PRECISION_RECALL_MIN_DEN: 0.3513392, RECALL: 0.0601305, MAP: 0.2125084, MAP_MIN_DEN: 0.2132577, MRR: 0.6172657, NDCG: 0.3689270, F1: 0.1026133, HIT_RATE: 0.9536793, ARHR_ALL_HITS: 1.1268567, NOVELTY: 0.0053134, AVERAGE_POPULARITY: 0.6560807, DIVERSITY_MEAN_INTER_LIST: 0.8145055, DIVERSITY_HERFINDAHL: 0.9814446, COVERAGE_ITEM: 0.0491168, COVERAGE_ITEM_CORRECT: 0.0275209, COVERAGE_USER: 0.9995604, COVERAGE_USER_CORRECT: 0.9532601, DIVERSITY_GINI: 0.0039384, SHANNON_ENTROPY: 6.4102591, RATIO_DIVERSITY_HERFINDAHL: 0.9818236, RATIO_DIVERSITY_GINI: 0.0158871, RATIO_SHANNON_ENTROPY: 0.5173891, RATIO_AVERAGE_POPULARITY: 3.2381591, RATIO_NOVELTY: 0.0250004, \n",
      "\n"
     ]
    },
    {
     "name": "stderr",
     "output_type": "stream",
     "text": [
      "C:\\Users\\marti\\miniconda3\\envs\\RecSys\\lib\\site-packages\\skopt\\optimizer\\optimizer.py:449: UserWarning: The objective has been evaluated at this point before.\n",
      "  warnings.warn(\"The objective has been evaluated \"\n"
     ]
    },
    {
     "name": "stdout",
     "output_type": "stream",
     "text": [
      "Iteration No: 201 ended. Search finished for the next optimal point.\n",
      "Time taken: 3.3227\n",
      "Function value obtained: -0.2125\n",
      "Current minimum: -0.2127\n",
      "Iteration No: 202 started. Searching for the next optimal point.\n",
      "SearchBayesianSkopt: Testing config: {'shrink': 10, 'topK': 200, 'feature_weighting': 'TF-IDF', 'normalize': True, 'ICM_weight': 12}\n",
      "ItemKNN_CFCBF_HybridRecommender: URM Detected 1 ( 0.0%) items with no interactions.\n",
      "ItemKNN_CFCBF_HybridRecommender: ICM Detected 559 ( 3.1%) items with no features.\n",
      "Similarity column 18059 (100.0%), 1588.79 column/sec. Elapsed time 11.37 sec\n",
      "EvaluatorHoldout: Processed 13644 (100.0%) in 13.81 sec. Users per second: 988\n",
      "SearchBayesianSkopt: Config 201 is suboptimal. Config: {'shrink': 10, 'topK': 200, 'feature_weighting': 'TF-IDF', 'normalize': True, 'ICM_weight': 12} - results: PRECISION: 0.3499047, PRECISION_RECALL_MIN_DEN: 0.3515200, RECALL: 0.0600480, MAP: 0.2124957, MAP_MIN_DEN: 0.2132204, MRR: 0.6174286, NDCG: 0.3689984, F1: 0.1025049, HIT_RATE: 0.9539724, ARHR_ALL_HITS: 1.1268094, NOVELTY: 0.0053152, AVERAGE_POPULARITY: 0.6556316, DIVERSITY_MEAN_INTER_LIST: 0.8149966, DIVERSITY_HERFINDAHL: 0.9814937, COVERAGE_ITEM: 0.0501689, COVERAGE_ITEM_CORRECT: 0.0273548, COVERAGE_USER: 0.9995604, COVERAGE_USER_CORRECT: 0.9535531, DIVERSITY_GINI: 0.0039669, SHANNON_ENTROPY: 6.4167287, RATIO_DIVERSITY_HERFINDAHL: 0.9818727, RATIO_DIVERSITY_GINI: 0.0160020, RATIO_SHANNON_ENTROPY: 0.5179113, RATIO_AVERAGE_POPULARITY: 3.2359427, RATIO_NOVELTY: 0.0250092, \n",
      "\n",
      "Iteration No: 202 ended. Search finished for the next optimal point.\n",
      "Time taken: 29.3776\n",
      "Function value obtained: -0.2125\n",
      "Current minimum: -0.2127\n",
      "Iteration No: 203 started. Searching for the next optimal point.\n",
      "SearchBayesianSkopt: Testing config: {'shrink': 10, 'topK': 200, 'feature_weighting': 'TF-IDF', 'normalize': True, 'ICM_weight': 135}\n",
      "ItemKNN_CFCBF_HybridRecommender: URM Detected 1 ( 0.0%) items with no interactions.\n",
      "ItemKNN_CFCBF_HybridRecommender: ICM Detected 559 ( 3.1%) items with no features.\n",
      "Similarity column 18059 (100.0%), 1604.17 column/sec. Elapsed time 11.26 sec\n",
      "EvaluatorHoldout: Processed 13644 (100.0%) in 10.28 sec. Users per second: 1328\n",
      "SearchBayesianSkopt: Config 202 is suboptimal. Config: {'shrink': 10, 'topK': 200, 'feature_weighting': 'TF-IDF', 'normalize': True, 'ICM_weight': 135} - results: PRECISION: 0.3493770, PRECISION_RECALL_MIN_DEN: 0.3508115, RECALL: 0.0597392, MAP: 0.2116542, MAP_MIN_DEN: 0.2122419, MRR: 0.6143240, NDCG: 0.3675909, F1: 0.1020321, HIT_RATE: 0.9540457, ARHR_ALL_HITS: 1.1211284, NOVELTY: 0.0053232, AVERAGE_POPULARITY: 0.6536641, DIVERSITY_MEAN_INTER_LIST: 0.8173717, DIVERSITY_HERFINDAHL: 0.9817312, COVERAGE_ITEM: 0.0580874, COVERAGE_ITEM_CORRECT: 0.0272440, COVERAGE_USER: 0.9995604, COVERAGE_USER_CORRECT: 0.9536264, DIVERSITY_GINI: 0.0040781, SHANNON_ENTROPY: 6.4383721, RATIO_DIVERSITY_HERFINDAHL: 0.9821103, RATIO_DIVERSITY_GINI: 0.0164503, RATIO_SHANNON_ENTROPY: 0.5196582, RATIO_AVERAGE_POPULARITY: 3.2262319, RATIO_NOVELTY: 0.0250468, \n",
      "\n",
      "Iteration No: 203 ended. Search finished for the next optimal point.\n",
      "Time taken: 25.6407\n",
      "Function value obtained: -0.2117\n",
      "Current minimum: -0.2127\n",
      "Iteration No: 204 started. Searching for the next optimal point.\n",
      "SearchBayesianSkopt: Testing config: {'shrink': 10, 'topK': 200, 'feature_weighting': 'TF-IDF', 'normalize': True, 'ICM_weight': 9}\n",
      "ItemKNN_CFCBF_HybridRecommender: URM Detected 1 ( 0.0%) items with no interactions.\n",
      "ItemKNN_CFCBF_HybridRecommender: ICM Detected 559 ( 3.1%) items with no features.\n",
      "Similarity column 18059 (100.0%), 1593.13 column/sec. Elapsed time 11.34 sec\n",
      "EvaluatorHoldout: Processed 13644 (100.0%) in 14.10 sec. Users per second: 968\n",
      "SearchBayesianSkopt: Config 203 is suboptimal. Config: {'shrink': 10, 'topK': 200, 'feature_weighting': 'TF-IDF', 'normalize': True, 'ICM_weight': 9} - results: PRECISION: 0.3497068, PRECISION_RECALL_MIN_DEN: 0.3513904, RECALL: 0.0600933, MAP: 0.2124705, MAP_MIN_DEN: 0.2132073, MRR: 0.6175081, NDCG: 0.3689375, F1: 0.1025623, HIT_RATE: 0.9538991, ARHR_ALL_HITS: 1.1268629, NOVELTY: 0.0053147, AVERAGE_POPULARITY: 0.6556777, DIVERSITY_MEAN_INTER_LIST: 0.8149513, DIVERSITY_HERFINDAHL: 0.9814892, COVERAGE_ITEM: 0.0494490, COVERAGE_ITEM_CORRECT: 0.0274102, COVERAGE_USER: 0.9995604, COVERAGE_USER_CORRECT: 0.9534799, DIVERSITY_GINI: 0.0039549, SHANNON_ENTROPY: 6.4150553, RATIO_DIVERSITY_HERFINDAHL: 0.9818682, RATIO_DIVERSITY_GINI: 0.0159534, RATIO_SHANNON_ENTROPY: 0.5177762, RATIO_AVERAGE_POPULARITY: 3.2361703, RATIO_NOVELTY: 0.0250069, \n",
      "\n",
      "Iteration No: 204 ended. Search finished for the next optimal point.\n",
      "Time taken: 29.4966\n",
      "Function value obtained: -0.2125\n",
      "Current minimum: -0.2127\n",
      "Iteration No: 205 started. Searching for the next optimal point.\n",
      "SearchBayesianSkopt: Testing config: {'shrink': 10, 'topK': 200, 'feature_weighting': 'TF-IDF', 'normalize': True, 'ICM_weight': 5}\n",
      "SearchBayesianSkopt: Config 204 was already explored at index 160. Config: {'shrink': 10, 'topK': 200, 'feature_weighting': 'TF-IDF', 'normalize': True, 'ICM_weight': 5} - results: PRECISION: 0.3496335, PRECISION_RECALL_MIN_DEN: 0.3513392, RECALL: 0.0601305, MAP: 0.2125084, MAP_MIN_DEN: 0.2132577, MRR: 0.6172657, NDCG: 0.3689270, F1: 0.1026133, HIT_RATE: 0.9536793, ARHR_ALL_HITS: 1.1268567, NOVELTY: 0.0053134, AVERAGE_POPULARITY: 0.6560807, DIVERSITY_MEAN_INTER_LIST: 0.8145055, DIVERSITY_HERFINDAHL: 0.9814446, COVERAGE_ITEM: 0.0491168, COVERAGE_ITEM_CORRECT: 0.0275209, COVERAGE_USER: 0.9995604, COVERAGE_USER_CORRECT: 0.9532601, DIVERSITY_GINI: 0.0039384, SHANNON_ENTROPY: 6.4102591, RATIO_DIVERSITY_HERFINDAHL: 0.9818236, RATIO_DIVERSITY_GINI: 0.0158871, RATIO_SHANNON_ENTROPY: 0.5173891, RATIO_AVERAGE_POPULARITY: 3.2381591, RATIO_NOVELTY: 0.0250004, \n",
      "\n"
     ]
    },
    {
     "name": "stderr",
     "output_type": "stream",
     "text": [
      "C:\\Users\\marti\\miniconda3\\envs\\RecSys\\lib\\site-packages\\skopt\\optimizer\\optimizer.py:449: UserWarning: The objective has been evaluated at this point before.\n",
      "  warnings.warn(\"The objective has been evaluated \"\n"
     ]
    },
    {
     "name": "stdout",
     "output_type": "stream",
     "text": [
      "Iteration No: 205 ended. Search finished for the next optimal point.\n",
      "Time taken: 3.5038\n",
      "Function value obtained: -0.2125\n",
      "Current minimum: -0.2127\n",
      "Iteration No: 206 started. Searching for the next optimal point.\n",
      "SearchBayesianSkopt: Testing config: {'shrink': 10, 'topK': 200, 'feature_weighting': 'TF-IDF', 'normalize': True, 'ICM_weight': 5}\n",
      "SearchBayesianSkopt: Config 205 was already explored at index 160. Config: {'shrink': 10, 'topK': 200, 'feature_weighting': 'TF-IDF', 'normalize': True, 'ICM_weight': 5} - results: PRECISION: 0.3496335, PRECISION_RECALL_MIN_DEN: 0.3513392, RECALL: 0.0601305, MAP: 0.2125084, MAP_MIN_DEN: 0.2132577, MRR: 0.6172657, NDCG: 0.3689270, F1: 0.1026133, HIT_RATE: 0.9536793, ARHR_ALL_HITS: 1.1268567, NOVELTY: 0.0053134, AVERAGE_POPULARITY: 0.6560807, DIVERSITY_MEAN_INTER_LIST: 0.8145055, DIVERSITY_HERFINDAHL: 0.9814446, COVERAGE_ITEM: 0.0491168, COVERAGE_ITEM_CORRECT: 0.0275209, COVERAGE_USER: 0.9995604, COVERAGE_USER_CORRECT: 0.9532601, DIVERSITY_GINI: 0.0039384, SHANNON_ENTROPY: 6.4102591, RATIO_DIVERSITY_HERFINDAHL: 0.9818236, RATIO_DIVERSITY_GINI: 0.0158871, RATIO_SHANNON_ENTROPY: 0.5173891, RATIO_AVERAGE_POPULARITY: 3.2381591, RATIO_NOVELTY: 0.0250004, \n",
      "\n"
     ]
    },
    {
     "name": "stderr",
     "output_type": "stream",
     "text": [
      "C:\\Users\\marti\\miniconda3\\envs\\RecSys\\lib\\site-packages\\skopt\\optimizer\\optimizer.py:449: UserWarning: The objective has been evaluated at this point before.\n",
      "  warnings.warn(\"The objective has been evaluated \"\n"
     ]
    },
    {
     "name": "stdout",
     "output_type": "stream",
     "text": [
      "Iteration No: 206 ended. Search finished for the next optimal point.\n",
      "Time taken: 3.5678\n",
      "Function value obtained: -0.2125\n",
      "Current minimum: -0.2127\n",
      "Iteration No: 207 started. Searching for the next optimal point.\n",
      "SearchBayesianSkopt: Testing config: {'shrink': 10, 'topK': 200, 'feature_weighting': 'TF-IDF', 'normalize': True, 'ICM_weight': 5}\n",
      "SearchBayesianSkopt: Config 206 was already explored at index 160. Config: {'shrink': 10, 'topK': 200, 'feature_weighting': 'TF-IDF', 'normalize': True, 'ICM_weight': 5} - results: PRECISION: 0.3496335, PRECISION_RECALL_MIN_DEN: 0.3513392, RECALL: 0.0601305, MAP: 0.2125084, MAP_MIN_DEN: 0.2132577, MRR: 0.6172657, NDCG: 0.3689270, F1: 0.1026133, HIT_RATE: 0.9536793, ARHR_ALL_HITS: 1.1268567, NOVELTY: 0.0053134, AVERAGE_POPULARITY: 0.6560807, DIVERSITY_MEAN_INTER_LIST: 0.8145055, DIVERSITY_HERFINDAHL: 0.9814446, COVERAGE_ITEM: 0.0491168, COVERAGE_ITEM_CORRECT: 0.0275209, COVERAGE_USER: 0.9995604, COVERAGE_USER_CORRECT: 0.9532601, DIVERSITY_GINI: 0.0039384, SHANNON_ENTROPY: 6.4102591, RATIO_DIVERSITY_HERFINDAHL: 0.9818236, RATIO_DIVERSITY_GINI: 0.0158871, RATIO_SHANNON_ENTROPY: 0.5173891, RATIO_AVERAGE_POPULARITY: 3.2381591, RATIO_NOVELTY: 0.0250004, \n",
      "\n"
     ]
    },
    {
     "name": "stderr",
     "output_type": "stream",
     "text": [
      "C:\\Users\\marti\\miniconda3\\envs\\RecSys\\lib\\site-packages\\skopt\\optimizer\\optimizer.py:449: UserWarning: The objective has been evaluated at this point before.\n",
      "  warnings.warn(\"The objective has been evaluated \"\n"
     ]
    },
    {
     "name": "stdout",
     "output_type": "stream",
     "text": [
      "Iteration No: 207 ended. Search finished for the next optimal point.\n",
      "Time taken: 3.7648\n",
      "Function value obtained: -0.2125\n",
      "Current minimum: -0.2127\n",
      "Iteration No: 208 started. Searching for the next optimal point.\n",
      "SearchBayesianSkopt: Testing config: {'shrink': 10, 'topK': 200, 'feature_weighting': 'TF-IDF', 'normalize': True, 'ICM_weight': 5}\n",
      "SearchBayesianSkopt: Config 207 was already explored at index 160. Config: {'shrink': 10, 'topK': 200, 'feature_weighting': 'TF-IDF', 'normalize': True, 'ICM_weight': 5} - results: PRECISION: 0.3496335, PRECISION_RECALL_MIN_DEN: 0.3513392, RECALL: 0.0601305, MAP: 0.2125084, MAP_MIN_DEN: 0.2132577, MRR: 0.6172657, NDCG: 0.3689270, F1: 0.1026133, HIT_RATE: 0.9536793, ARHR_ALL_HITS: 1.1268567, NOVELTY: 0.0053134, AVERAGE_POPULARITY: 0.6560807, DIVERSITY_MEAN_INTER_LIST: 0.8145055, DIVERSITY_HERFINDAHL: 0.9814446, COVERAGE_ITEM: 0.0491168, COVERAGE_ITEM_CORRECT: 0.0275209, COVERAGE_USER: 0.9995604, COVERAGE_USER_CORRECT: 0.9532601, DIVERSITY_GINI: 0.0039384, SHANNON_ENTROPY: 6.4102591, RATIO_DIVERSITY_HERFINDAHL: 0.9818236, RATIO_DIVERSITY_GINI: 0.0158871, RATIO_SHANNON_ENTROPY: 0.5173891, RATIO_AVERAGE_POPULARITY: 3.2381591, RATIO_NOVELTY: 0.0250004, \n",
      "\n"
     ]
    },
    {
     "name": "stderr",
     "output_type": "stream",
     "text": [
      "C:\\Users\\marti\\miniconda3\\envs\\RecSys\\lib\\site-packages\\skopt\\optimizer\\optimizer.py:449: UserWarning: The objective has been evaluated at this point before.\n",
      "  warnings.warn(\"The objective has been evaluated \"\n"
     ]
    },
    {
     "name": "stdout",
     "output_type": "stream",
     "text": [
      "Iteration No: 208 ended. Search finished for the next optimal point.\n",
      "Time taken: 3.7088\n",
      "Function value obtained: -0.2125\n",
      "Current minimum: -0.2127\n",
      "Iteration No: 209 started. Searching for the next optimal point.\n",
      "SearchBayesianSkopt: Testing config: {'shrink': 10, 'topK': 200, 'feature_weighting': 'TF-IDF', 'normalize': True, 'ICM_weight': 5}\n",
      "SearchBayesianSkopt: Config 208 was already explored at index 160. Config: {'shrink': 10, 'topK': 200, 'feature_weighting': 'TF-IDF', 'normalize': True, 'ICM_weight': 5} - results: PRECISION: 0.3496335, PRECISION_RECALL_MIN_DEN: 0.3513392, RECALL: 0.0601305, MAP: 0.2125084, MAP_MIN_DEN: 0.2132577, MRR: 0.6172657, NDCG: 0.3689270, F1: 0.1026133, HIT_RATE: 0.9536793, ARHR_ALL_HITS: 1.1268567, NOVELTY: 0.0053134, AVERAGE_POPULARITY: 0.6560807, DIVERSITY_MEAN_INTER_LIST: 0.8145055, DIVERSITY_HERFINDAHL: 0.9814446, COVERAGE_ITEM: 0.0491168, COVERAGE_ITEM_CORRECT: 0.0275209, COVERAGE_USER: 0.9995604, COVERAGE_USER_CORRECT: 0.9532601, DIVERSITY_GINI: 0.0039384, SHANNON_ENTROPY: 6.4102591, RATIO_DIVERSITY_HERFINDAHL: 0.9818236, RATIO_DIVERSITY_GINI: 0.0158871, RATIO_SHANNON_ENTROPY: 0.5173891, RATIO_AVERAGE_POPULARITY: 3.2381591, RATIO_NOVELTY: 0.0250004, \n",
      "\n"
     ]
    },
    {
     "name": "stderr",
     "output_type": "stream",
     "text": [
      "C:\\Users\\marti\\miniconda3\\envs\\RecSys\\lib\\site-packages\\skopt\\optimizer\\optimizer.py:449: UserWarning: The objective has been evaluated at this point before.\n",
      "  warnings.warn(\"The objective has been evaluated \"\n"
     ]
    },
    {
     "name": "stdout",
     "output_type": "stream",
     "text": [
      "Iteration No: 209 ended. Search finished for the next optimal point.\n",
      "Time taken: 3.9069\n",
      "Function value obtained: -0.2125\n",
      "Current minimum: -0.2127\n",
      "Iteration No: 210 started. Searching for the next optimal point.\n",
      "SearchBayesianSkopt: Testing config: {'shrink': 10, 'topK': 200, 'feature_weighting': 'TF-IDF', 'normalize': True, 'ICM_weight': 5}\n",
      "SearchBayesianSkopt: Config 209 was already explored at index 160. Config: {'shrink': 10, 'topK': 200, 'feature_weighting': 'TF-IDF', 'normalize': True, 'ICM_weight': 5} - results: PRECISION: 0.3496335, PRECISION_RECALL_MIN_DEN: 0.3513392, RECALL: 0.0601305, MAP: 0.2125084, MAP_MIN_DEN: 0.2132577, MRR: 0.6172657, NDCG: 0.3689270, F1: 0.1026133, HIT_RATE: 0.9536793, ARHR_ALL_HITS: 1.1268567, NOVELTY: 0.0053134, AVERAGE_POPULARITY: 0.6560807, DIVERSITY_MEAN_INTER_LIST: 0.8145055, DIVERSITY_HERFINDAHL: 0.9814446, COVERAGE_ITEM: 0.0491168, COVERAGE_ITEM_CORRECT: 0.0275209, COVERAGE_USER: 0.9995604, COVERAGE_USER_CORRECT: 0.9532601, DIVERSITY_GINI: 0.0039384, SHANNON_ENTROPY: 6.4102591, RATIO_DIVERSITY_HERFINDAHL: 0.9818236, RATIO_DIVERSITY_GINI: 0.0158871, RATIO_SHANNON_ENTROPY: 0.5173891, RATIO_AVERAGE_POPULARITY: 3.2381591, RATIO_NOVELTY: 0.0250004, \n",
      "\n"
     ]
    },
    {
     "name": "stderr",
     "output_type": "stream",
     "text": [
      "C:\\Users\\marti\\miniconda3\\envs\\RecSys\\lib\\site-packages\\skopt\\optimizer\\optimizer.py:449: UserWarning: The objective has been evaluated at this point before.\n",
      "  warnings.warn(\"The objective has been evaluated \"\n"
     ]
    },
    {
     "name": "stdout",
     "output_type": "stream",
     "text": [
      "Iteration No: 210 ended. Search finished for the next optimal point.\n",
      "Time taken: 3.9029\n",
      "Function value obtained: -0.2125\n",
      "Current minimum: -0.2127\n",
      "Iteration No: 211 started. Searching for the next optimal point.\n",
      "SearchBayesianSkopt: Testing config: {'shrink': 10, 'topK': 200, 'feature_weighting': 'TF-IDF', 'normalize': True, 'ICM_weight': 5}\n",
      "SearchBayesianSkopt: Config 210 was already explored at index 160. Config: {'shrink': 10, 'topK': 200, 'feature_weighting': 'TF-IDF', 'normalize': True, 'ICM_weight': 5} - results: PRECISION: 0.3496335, PRECISION_RECALL_MIN_DEN: 0.3513392, RECALL: 0.0601305, MAP: 0.2125084, MAP_MIN_DEN: 0.2132577, MRR: 0.6172657, NDCG: 0.3689270, F1: 0.1026133, HIT_RATE: 0.9536793, ARHR_ALL_HITS: 1.1268567, NOVELTY: 0.0053134, AVERAGE_POPULARITY: 0.6560807, DIVERSITY_MEAN_INTER_LIST: 0.8145055, DIVERSITY_HERFINDAHL: 0.9814446, COVERAGE_ITEM: 0.0491168, COVERAGE_ITEM_CORRECT: 0.0275209, COVERAGE_USER: 0.9995604, COVERAGE_USER_CORRECT: 0.9532601, DIVERSITY_GINI: 0.0039384, SHANNON_ENTROPY: 6.4102591, RATIO_DIVERSITY_HERFINDAHL: 0.9818236, RATIO_DIVERSITY_GINI: 0.0158871, RATIO_SHANNON_ENTROPY: 0.5173891, RATIO_AVERAGE_POPULARITY: 3.2381591, RATIO_NOVELTY: 0.0250004, \n",
      "\n"
     ]
    },
    {
     "name": "stderr",
     "output_type": "stream",
     "text": [
      "C:\\Users\\marti\\miniconda3\\envs\\RecSys\\lib\\site-packages\\skopt\\optimizer\\optimizer.py:449: UserWarning: The objective has been evaluated at this point before.\n",
      "  warnings.warn(\"The objective has been evaluated \"\n"
     ]
    },
    {
     "name": "stdout",
     "output_type": "stream",
     "text": [
      "Iteration No: 211 ended. Search finished for the next optimal point.\n",
      "Time taken: 3.7738\n",
      "Function value obtained: -0.2125\n",
      "Current minimum: -0.2127\n",
      "Iteration No: 212 started. Searching for the next optimal point.\n",
      "SearchBayesianSkopt: Testing config: {'shrink': 10, 'topK': 200, 'feature_weighting': 'TF-IDF', 'normalize': True, 'ICM_weight': 5}\n",
      "SearchBayesianSkopt: Config 211 was already explored at index 160. Config: {'shrink': 10, 'topK': 200, 'feature_weighting': 'TF-IDF', 'normalize': True, 'ICM_weight': 5} - results: PRECISION: 0.3496335, PRECISION_RECALL_MIN_DEN: 0.3513392, RECALL: 0.0601305, MAP: 0.2125084, MAP_MIN_DEN: 0.2132577, MRR: 0.6172657, NDCG: 0.3689270, F1: 0.1026133, HIT_RATE: 0.9536793, ARHR_ALL_HITS: 1.1268567, NOVELTY: 0.0053134, AVERAGE_POPULARITY: 0.6560807, DIVERSITY_MEAN_INTER_LIST: 0.8145055, DIVERSITY_HERFINDAHL: 0.9814446, COVERAGE_ITEM: 0.0491168, COVERAGE_ITEM_CORRECT: 0.0275209, COVERAGE_USER: 0.9995604, COVERAGE_USER_CORRECT: 0.9532601, DIVERSITY_GINI: 0.0039384, SHANNON_ENTROPY: 6.4102591, RATIO_DIVERSITY_HERFINDAHL: 0.9818236, RATIO_DIVERSITY_GINI: 0.0158871, RATIO_SHANNON_ENTROPY: 0.5173891, RATIO_AVERAGE_POPULARITY: 3.2381591, RATIO_NOVELTY: 0.0250004, \n",
      "\n"
     ]
    },
    {
     "name": "stderr",
     "output_type": "stream",
     "text": [
      "C:\\Users\\marti\\miniconda3\\envs\\RecSys\\lib\\site-packages\\skopt\\optimizer\\optimizer.py:449: UserWarning: The objective has been evaluated at this point before.\n",
      "  warnings.warn(\"The objective has been evaluated \"\n"
     ]
    },
    {
     "name": "stdout",
     "output_type": "stream",
     "text": [
      "Iteration No: 212 ended. Search finished for the next optimal point.\n",
      "Time taken: 3.7078\n",
      "Function value obtained: -0.2125\n",
      "Current minimum: -0.2127\n",
      "Iteration No: 213 started. Searching for the next optimal point.\n",
      "SearchBayesianSkopt: Testing config: {'shrink': 10, 'topK': 200, 'feature_weighting': 'TF-IDF', 'normalize': True, 'ICM_weight': 5}\n",
      "SearchBayesianSkopt: Config 212 was already explored at index 160. Config: {'shrink': 10, 'topK': 200, 'feature_weighting': 'TF-IDF', 'normalize': True, 'ICM_weight': 5} - results: PRECISION: 0.3496335, PRECISION_RECALL_MIN_DEN: 0.3513392, RECALL: 0.0601305, MAP: 0.2125084, MAP_MIN_DEN: 0.2132577, MRR: 0.6172657, NDCG: 0.3689270, F1: 0.1026133, HIT_RATE: 0.9536793, ARHR_ALL_HITS: 1.1268567, NOVELTY: 0.0053134, AVERAGE_POPULARITY: 0.6560807, DIVERSITY_MEAN_INTER_LIST: 0.8145055, DIVERSITY_HERFINDAHL: 0.9814446, COVERAGE_ITEM: 0.0491168, COVERAGE_ITEM_CORRECT: 0.0275209, COVERAGE_USER: 0.9995604, COVERAGE_USER_CORRECT: 0.9532601, DIVERSITY_GINI: 0.0039384, SHANNON_ENTROPY: 6.4102591, RATIO_DIVERSITY_HERFINDAHL: 0.9818236, RATIO_DIVERSITY_GINI: 0.0158871, RATIO_SHANNON_ENTROPY: 0.5173891, RATIO_AVERAGE_POPULARITY: 3.2381591, RATIO_NOVELTY: 0.0250004, \n",
      "\n"
     ]
    },
    {
     "name": "stderr",
     "output_type": "stream",
     "text": [
      "C:\\Users\\marti\\miniconda3\\envs\\RecSys\\lib\\site-packages\\skopt\\optimizer\\optimizer.py:449: UserWarning: The objective has been evaluated at this point before.\n",
      "  warnings.warn(\"The objective has been evaluated \"\n"
     ]
    },
    {
     "name": "stdout",
     "output_type": "stream",
     "text": [
      "Iteration No: 213 ended. Search finished for the next optimal point.\n",
      "Time taken: 3.7488\n",
      "Function value obtained: -0.2125\n",
      "Current minimum: -0.2127\n",
      "Iteration No: 214 started. Searching for the next optimal point.\n",
      "SearchBayesianSkopt: Testing config: {'shrink': 10, 'topK': 200, 'feature_weighting': 'TF-IDF', 'normalize': True, 'ICM_weight': 5}\n",
      "SearchBayesianSkopt: Config 213 was already explored at index 160. Config: {'shrink': 10, 'topK': 200, 'feature_weighting': 'TF-IDF', 'normalize': True, 'ICM_weight': 5} - results: PRECISION: 0.3496335, PRECISION_RECALL_MIN_DEN: 0.3513392, RECALL: 0.0601305, MAP: 0.2125084, MAP_MIN_DEN: 0.2132577, MRR: 0.6172657, NDCG: 0.3689270, F1: 0.1026133, HIT_RATE: 0.9536793, ARHR_ALL_HITS: 1.1268567, NOVELTY: 0.0053134, AVERAGE_POPULARITY: 0.6560807, DIVERSITY_MEAN_INTER_LIST: 0.8145055, DIVERSITY_HERFINDAHL: 0.9814446, COVERAGE_ITEM: 0.0491168, COVERAGE_ITEM_CORRECT: 0.0275209, COVERAGE_USER: 0.9995604, COVERAGE_USER_CORRECT: 0.9532601, DIVERSITY_GINI: 0.0039384, SHANNON_ENTROPY: 6.4102591, RATIO_DIVERSITY_HERFINDAHL: 0.9818236, RATIO_DIVERSITY_GINI: 0.0158871, RATIO_SHANNON_ENTROPY: 0.5173891, RATIO_AVERAGE_POPULARITY: 3.2381591, RATIO_NOVELTY: 0.0250004, \n",
      "\n"
     ]
    },
    {
     "name": "stderr",
     "output_type": "stream",
     "text": [
      "C:\\Users\\marti\\miniconda3\\envs\\RecSys\\lib\\site-packages\\skopt\\optimizer\\optimizer.py:449: UserWarning: The objective has been evaluated at this point before.\n",
      "  warnings.warn(\"The objective has been evaluated \"\n"
     ]
    },
    {
     "name": "stdout",
     "output_type": "stream",
     "text": [
      "Iteration No: 214 ended. Search finished for the next optimal point.\n",
      "Time taken: 3.8249\n",
      "Function value obtained: -0.2125\n",
      "Current minimum: -0.2127\n",
      "Iteration No: 215 started. Searching for the next optimal point.\n",
      "SearchBayesianSkopt: Testing config: {'shrink': 10, 'topK': 200, 'feature_weighting': 'TF-IDF', 'normalize': True, 'ICM_weight': 5}\n",
      "SearchBayesianSkopt: Config 214 was already explored at index 160. Config: {'shrink': 10, 'topK': 200, 'feature_weighting': 'TF-IDF', 'normalize': True, 'ICM_weight': 5} - results: PRECISION: 0.3496335, PRECISION_RECALL_MIN_DEN: 0.3513392, RECALL: 0.0601305, MAP: 0.2125084, MAP_MIN_DEN: 0.2132577, MRR: 0.6172657, NDCG: 0.3689270, F1: 0.1026133, HIT_RATE: 0.9536793, ARHR_ALL_HITS: 1.1268567, NOVELTY: 0.0053134, AVERAGE_POPULARITY: 0.6560807, DIVERSITY_MEAN_INTER_LIST: 0.8145055, DIVERSITY_HERFINDAHL: 0.9814446, COVERAGE_ITEM: 0.0491168, COVERAGE_ITEM_CORRECT: 0.0275209, COVERAGE_USER: 0.9995604, COVERAGE_USER_CORRECT: 0.9532601, DIVERSITY_GINI: 0.0039384, SHANNON_ENTROPY: 6.4102591, RATIO_DIVERSITY_HERFINDAHL: 0.9818236, RATIO_DIVERSITY_GINI: 0.0158871, RATIO_SHANNON_ENTROPY: 0.5173891, RATIO_AVERAGE_POPULARITY: 3.2381591, RATIO_NOVELTY: 0.0250004, \n",
      "\n"
     ]
    },
    {
     "name": "stderr",
     "output_type": "stream",
     "text": [
      "C:\\Users\\marti\\miniconda3\\envs\\RecSys\\lib\\site-packages\\skopt\\optimizer\\optimizer.py:449: UserWarning: The objective has been evaluated at this point before.\n",
      "  warnings.warn(\"The objective has been evaluated \"\n"
     ]
    },
    {
     "name": "stdout",
     "output_type": "stream",
     "text": [
      "Iteration No: 215 ended. Search finished for the next optimal point.\n",
      "Time taken: 3.7818\n",
      "Function value obtained: -0.2125\n",
      "Current minimum: -0.2127\n",
      "Iteration No: 216 started. Searching for the next optimal point.\n",
      "SearchBayesianSkopt: Testing config: {'shrink': 249, 'topK': 200, 'feature_weighting': 'TF-IDF', 'normalize': False, 'ICM_weight': 5}\n",
      "ItemKNN_CFCBF_HybridRecommender: URM Detected 1 ( 0.0%) items with no interactions.\n",
      "ItemKNN_CFCBF_HybridRecommender: ICM Detected 559 ( 3.1%) items with no features.\n",
      "Similarity column 18059 (100.0%), 1622.63 column/sec. Elapsed time 11.13 sec\n",
      "EvaluatorHoldout: Processed 13644 (100.0%) in 26.93 sec. Users per second: 507\n",
      "SearchBayesianSkopt: Config 215 is suboptimal. Config: {'shrink': 249, 'topK': 200, 'feature_weighting': 'TF-IDF', 'normalize': False, 'ICM_weight': 5} - results: PRECISION: 0.3026898, PRECISION_RECALL_MIN_DEN: 0.3039092, RECALL: 0.0496865, MAP: 0.1825956, MAP_MIN_DEN: 0.1832384, MRR: 0.5992350, NDCG: 0.3283790, F1: 0.0853610, HIT_RATE: 0.9212108, ARHR_ALL_HITS: 1.0276463, NOVELTY: 0.0051606, AVERAGE_POPULARITY: 0.7419636, DIVERSITY_MEAN_INTER_LIST: 0.6308838, DIVERSITY_HERFINDAHL: 0.9630838, COVERAGE_ITEM: 0.0127914, COVERAGE_ITEM_CORRECT: 0.0044299, COVERAGE_USER: 0.9995604, COVERAGE_USER_CORRECT: 0.9208059, DIVERSITY_GINI: 0.0014311, SHANNON_ENTROPY: 4.9561419, RATIO_DIVERSITY_HERFINDAHL: 0.9634557, RATIO_DIVERSITY_GINI: 0.0057730, RATIO_SHANNON_ENTROPY: 0.4000234, RATIO_AVERAGE_POPULARITY: 3.6620438, RATIO_NOVELTY: 0.0242818, \n",
      "\n",
      "Iteration No: 216 ended. Search finished for the next optimal point.\n",
      "Time taken: 42.1934\n",
      "Function value obtained: -0.1826\n",
      "Current minimum: -0.2127\n",
      "Iteration No: 217 started. Searching for the next optimal point.\n",
      "SearchBayesianSkopt: Testing config: {'shrink': 10, 'topK': 200, 'feature_weighting': 'TF-IDF', 'normalize': True, 'ICM_weight': 5}\n",
      "SearchBayesianSkopt: Config 216 was already explored at index 160. Config: {'shrink': 10, 'topK': 200, 'feature_weighting': 'TF-IDF', 'normalize': True, 'ICM_weight': 5} - results: PRECISION: 0.3496335, PRECISION_RECALL_MIN_DEN: 0.3513392, RECALL: 0.0601305, MAP: 0.2125084, MAP_MIN_DEN: 0.2132577, MRR: 0.6172657, NDCG: 0.3689270, F1: 0.1026133, HIT_RATE: 0.9536793, ARHR_ALL_HITS: 1.1268567, NOVELTY: 0.0053134, AVERAGE_POPULARITY: 0.6560807, DIVERSITY_MEAN_INTER_LIST: 0.8145055, DIVERSITY_HERFINDAHL: 0.9814446, COVERAGE_ITEM: 0.0491168, COVERAGE_ITEM_CORRECT: 0.0275209, COVERAGE_USER: 0.9995604, COVERAGE_USER_CORRECT: 0.9532601, DIVERSITY_GINI: 0.0039384, SHANNON_ENTROPY: 6.4102591, RATIO_DIVERSITY_HERFINDAHL: 0.9818236, RATIO_DIVERSITY_GINI: 0.0158871, RATIO_SHANNON_ENTROPY: 0.5173891, RATIO_AVERAGE_POPULARITY: 3.2381591, RATIO_NOVELTY: 0.0250004, \n",
      "\n"
     ]
    },
    {
     "name": "stderr",
     "output_type": "stream",
     "text": [
      "C:\\Users\\marti\\miniconda3\\envs\\RecSys\\lib\\site-packages\\skopt\\optimizer\\optimizer.py:449: UserWarning: The objective has been evaluated at this point before.\n",
      "  warnings.warn(\"The objective has been evaluated \"\n"
     ]
    },
    {
     "name": "stdout",
     "output_type": "stream",
     "text": [
      "Iteration No: 217 ended. Search finished for the next optimal point.\n",
      "Time taken: 3.9859\n",
      "Function value obtained: -0.2125\n",
      "Current minimum: -0.2127\n",
      "Iteration No: 218 started. Searching for the next optimal point.\n",
      "SearchBayesianSkopt: Testing config: {'shrink': 10, 'topK': 200, 'feature_weighting': 'TF-IDF', 'normalize': True, 'ICM_weight': 5}\n",
      "SearchBayesianSkopt: Config 217 was already explored at index 160. Config: {'shrink': 10, 'topK': 200, 'feature_weighting': 'TF-IDF', 'normalize': True, 'ICM_weight': 5} - results: PRECISION: 0.3496335, PRECISION_RECALL_MIN_DEN: 0.3513392, RECALL: 0.0601305, MAP: 0.2125084, MAP_MIN_DEN: 0.2132577, MRR: 0.6172657, NDCG: 0.3689270, F1: 0.1026133, HIT_RATE: 0.9536793, ARHR_ALL_HITS: 1.1268567, NOVELTY: 0.0053134, AVERAGE_POPULARITY: 0.6560807, DIVERSITY_MEAN_INTER_LIST: 0.8145055, DIVERSITY_HERFINDAHL: 0.9814446, COVERAGE_ITEM: 0.0491168, COVERAGE_ITEM_CORRECT: 0.0275209, COVERAGE_USER: 0.9995604, COVERAGE_USER_CORRECT: 0.9532601, DIVERSITY_GINI: 0.0039384, SHANNON_ENTROPY: 6.4102591, RATIO_DIVERSITY_HERFINDAHL: 0.9818236, RATIO_DIVERSITY_GINI: 0.0158871, RATIO_SHANNON_ENTROPY: 0.5173891, RATIO_AVERAGE_POPULARITY: 3.2381591, RATIO_NOVELTY: 0.0250004, \n",
      "\n"
     ]
    },
    {
     "name": "stderr",
     "output_type": "stream",
     "text": [
      "C:\\Users\\marti\\miniconda3\\envs\\RecSys\\lib\\site-packages\\skopt\\optimizer\\optimizer.py:449: UserWarning: The objective has been evaluated at this point before.\n",
      "  warnings.warn(\"The objective has been evaluated \"\n"
     ]
    },
    {
     "name": "stdout",
     "output_type": "stream",
     "text": [
      "Iteration No: 218 ended. Search finished for the next optimal point.\n",
      "Time taken: 4.0429\n",
      "Function value obtained: -0.2125\n",
      "Current minimum: -0.2127\n",
      "Iteration No: 219 started. Searching for the next optimal point.\n",
      "SearchBayesianSkopt: Testing config: {'shrink': 10, 'topK': 200, 'feature_weighting': 'TF-IDF', 'normalize': True, 'ICM_weight': 5}\n",
      "SearchBayesianSkopt: Config 218 was already explored at index 160. Config: {'shrink': 10, 'topK': 200, 'feature_weighting': 'TF-IDF', 'normalize': True, 'ICM_weight': 5} - results: PRECISION: 0.3496335, PRECISION_RECALL_MIN_DEN: 0.3513392, RECALL: 0.0601305, MAP: 0.2125084, MAP_MIN_DEN: 0.2132577, MRR: 0.6172657, NDCG: 0.3689270, F1: 0.1026133, HIT_RATE: 0.9536793, ARHR_ALL_HITS: 1.1268567, NOVELTY: 0.0053134, AVERAGE_POPULARITY: 0.6560807, DIVERSITY_MEAN_INTER_LIST: 0.8145055, DIVERSITY_HERFINDAHL: 0.9814446, COVERAGE_ITEM: 0.0491168, COVERAGE_ITEM_CORRECT: 0.0275209, COVERAGE_USER: 0.9995604, COVERAGE_USER_CORRECT: 0.9532601, DIVERSITY_GINI: 0.0039384, SHANNON_ENTROPY: 6.4102591, RATIO_DIVERSITY_HERFINDAHL: 0.9818236, RATIO_DIVERSITY_GINI: 0.0158871, RATIO_SHANNON_ENTROPY: 0.5173891, RATIO_AVERAGE_POPULARITY: 3.2381591, RATIO_NOVELTY: 0.0250004, \n",
      "\n"
     ]
    },
    {
     "name": "stderr",
     "output_type": "stream",
     "text": [
      "C:\\Users\\marti\\miniconda3\\envs\\RecSys\\lib\\site-packages\\skopt\\optimizer\\optimizer.py:449: UserWarning: The objective has been evaluated at this point before.\n",
      "  warnings.warn(\"The objective has been evaluated \"\n"
     ]
    },
    {
     "name": "stdout",
     "output_type": "stream",
     "text": [
      "Iteration No: 219 ended. Search finished for the next optimal point.\n",
      "Time taken: 3.8579\n",
      "Function value obtained: -0.2125\n",
      "Current minimum: -0.2127\n",
      "Iteration No: 220 started. Searching for the next optimal point.\n",
      "SearchBayesianSkopt: Testing config: {'shrink': 10, 'topK': 200, 'feature_weighting': 'TF-IDF', 'normalize': True, 'ICM_weight': 5}\n",
      "SearchBayesianSkopt: Config 219 was already explored at index 160. Config: {'shrink': 10, 'topK': 200, 'feature_weighting': 'TF-IDF', 'normalize': True, 'ICM_weight': 5} - results: PRECISION: 0.3496335, PRECISION_RECALL_MIN_DEN: 0.3513392, RECALL: 0.0601305, MAP: 0.2125084, MAP_MIN_DEN: 0.2132577, MRR: 0.6172657, NDCG: 0.3689270, F1: 0.1026133, HIT_RATE: 0.9536793, ARHR_ALL_HITS: 1.1268567, NOVELTY: 0.0053134, AVERAGE_POPULARITY: 0.6560807, DIVERSITY_MEAN_INTER_LIST: 0.8145055, DIVERSITY_HERFINDAHL: 0.9814446, COVERAGE_ITEM: 0.0491168, COVERAGE_ITEM_CORRECT: 0.0275209, COVERAGE_USER: 0.9995604, COVERAGE_USER_CORRECT: 0.9532601, DIVERSITY_GINI: 0.0039384, SHANNON_ENTROPY: 6.4102591, RATIO_DIVERSITY_HERFINDAHL: 0.9818236, RATIO_DIVERSITY_GINI: 0.0158871, RATIO_SHANNON_ENTROPY: 0.5173891, RATIO_AVERAGE_POPULARITY: 3.2381591, RATIO_NOVELTY: 0.0250004, \n",
      "\n"
     ]
    },
    {
     "name": "stderr",
     "output_type": "stream",
     "text": [
      "C:\\Users\\marti\\miniconda3\\envs\\RecSys\\lib\\site-packages\\skopt\\optimizer\\optimizer.py:449: UserWarning: The objective has been evaluated at this point before.\n",
      "  warnings.warn(\"The objective has been evaluated \"\n"
     ]
    },
    {
     "name": "stdout",
     "output_type": "stream",
     "text": [
      "Iteration No: 220 ended. Search finished for the next optimal point.\n",
      "Time taken: 3.8248\n",
      "Function value obtained: -0.2125\n",
      "Current minimum: -0.2127\n",
      "Iteration No: 221 started. Searching for the next optimal point.\n",
      "SearchBayesianSkopt: Testing config: {'shrink': 10, 'topK': 200, 'feature_weighting': 'TF-IDF', 'normalize': True, 'ICM_weight': 5}\n",
      "SearchBayesianSkopt: Config 220 was already explored at index 160. Config: {'shrink': 10, 'topK': 200, 'feature_weighting': 'TF-IDF', 'normalize': True, 'ICM_weight': 5} - results: PRECISION: 0.3496335, PRECISION_RECALL_MIN_DEN: 0.3513392, RECALL: 0.0601305, MAP: 0.2125084, MAP_MIN_DEN: 0.2132577, MRR: 0.6172657, NDCG: 0.3689270, F1: 0.1026133, HIT_RATE: 0.9536793, ARHR_ALL_HITS: 1.1268567, NOVELTY: 0.0053134, AVERAGE_POPULARITY: 0.6560807, DIVERSITY_MEAN_INTER_LIST: 0.8145055, DIVERSITY_HERFINDAHL: 0.9814446, COVERAGE_ITEM: 0.0491168, COVERAGE_ITEM_CORRECT: 0.0275209, COVERAGE_USER: 0.9995604, COVERAGE_USER_CORRECT: 0.9532601, DIVERSITY_GINI: 0.0039384, SHANNON_ENTROPY: 6.4102591, RATIO_DIVERSITY_HERFINDAHL: 0.9818236, RATIO_DIVERSITY_GINI: 0.0158871, RATIO_SHANNON_ENTROPY: 0.5173891, RATIO_AVERAGE_POPULARITY: 3.2381591, RATIO_NOVELTY: 0.0250004, \n",
      "\n"
     ]
    },
    {
     "name": "stderr",
     "output_type": "stream",
     "text": [
      "C:\\Users\\marti\\miniconda3\\envs\\RecSys\\lib\\site-packages\\skopt\\optimizer\\optimizer.py:449: UserWarning: The objective has been evaluated at this point before.\n",
      "  warnings.warn(\"The objective has been evaluated \"\n"
     ]
    },
    {
     "name": "stdout",
     "output_type": "stream",
     "text": [
      "Iteration No: 221 ended. Search finished for the next optimal point.\n",
      "Time taken: 3.9579\n",
      "Function value obtained: -0.2125\n",
      "Current minimum: -0.2127\n",
      "Iteration No: 222 started. Searching for the next optimal point.\n",
      "SearchBayesianSkopt: Testing config: {'shrink': 10, 'topK': 200, 'feature_weighting': 'TF-IDF', 'normalize': True, 'ICM_weight': 5}\n",
      "SearchBayesianSkopt: Config 221 was already explored at index 160. Config: {'shrink': 10, 'topK': 200, 'feature_weighting': 'TF-IDF', 'normalize': True, 'ICM_weight': 5} - results: PRECISION: 0.3496335, PRECISION_RECALL_MIN_DEN: 0.3513392, RECALL: 0.0601305, MAP: 0.2125084, MAP_MIN_DEN: 0.2132577, MRR: 0.6172657, NDCG: 0.3689270, F1: 0.1026133, HIT_RATE: 0.9536793, ARHR_ALL_HITS: 1.1268567, NOVELTY: 0.0053134, AVERAGE_POPULARITY: 0.6560807, DIVERSITY_MEAN_INTER_LIST: 0.8145055, DIVERSITY_HERFINDAHL: 0.9814446, COVERAGE_ITEM: 0.0491168, COVERAGE_ITEM_CORRECT: 0.0275209, COVERAGE_USER: 0.9995604, COVERAGE_USER_CORRECT: 0.9532601, DIVERSITY_GINI: 0.0039384, SHANNON_ENTROPY: 6.4102591, RATIO_DIVERSITY_HERFINDAHL: 0.9818236, RATIO_DIVERSITY_GINI: 0.0158871, RATIO_SHANNON_ENTROPY: 0.5173891, RATIO_AVERAGE_POPULARITY: 3.2381591, RATIO_NOVELTY: 0.0250004, \n",
      "\n"
     ]
    },
    {
     "name": "stderr",
     "output_type": "stream",
     "text": [
      "C:\\Users\\marti\\miniconda3\\envs\\RecSys\\lib\\site-packages\\skopt\\optimizer\\optimizer.py:449: UserWarning: The objective has been evaluated at this point before.\n",
      "  warnings.warn(\"The objective has been evaluated \"\n"
     ]
    },
    {
     "name": "stdout",
     "output_type": "stream",
     "text": [
      "Iteration No: 222 ended. Search finished for the next optimal point.\n",
      "Time taken: 3.9099\n",
      "Function value obtained: -0.2125\n",
      "Current minimum: -0.2127\n",
      "Iteration No: 223 started. Searching for the next optimal point.\n",
      "SearchBayesianSkopt: Testing config: {'shrink': 10, 'topK': 200, 'feature_weighting': 'TF-IDF', 'normalize': True, 'ICM_weight': 5}\n",
      "SearchBayesianSkopt: Config 222 was already explored at index 160. Config: {'shrink': 10, 'topK': 200, 'feature_weighting': 'TF-IDF', 'normalize': True, 'ICM_weight': 5} - results: PRECISION: 0.3496335, PRECISION_RECALL_MIN_DEN: 0.3513392, RECALL: 0.0601305, MAP: 0.2125084, MAP_MIN_DEN: 0.2132577, MRR: 0.6172657, NDCG: 0.3689270, F1: 0.1026133, HIT_RATE: 0.9536793, ARHR_ALL_HITS: 1.1268567, NOVELTY: 0.0053134, AVERAGE_POPULARITY: 0.6560807, DIVERSITY_MEAN_INTER_LIST: 0.8145055, DIVERSITY_HERFINDAHL: 0.9814446, COVERAGE_ITEM: 0.0491168, COVERAGE_ITEM_CORRECT: 0.0275209, COVERAGE_USER: 0.9995604, COVERAGE_USER_CORRECT: 0.9532601, DIVERSITY_GINI: 0.0039384, SHANNON_ENTROPY: 6.4102591, RATIO_DIVERSITY_HERFINDAHL: 0.9818236, RATIO_DIVERSITY_GINI: 0.0158871, RATIO_SHANNON_ENTROPY: 0.5173891, RATIO_AVERAGE_POPULARITY: 3.2381591, RATIO_NOVELTY: 0.0250004, \n",
      "\n"
     ]
    },
    {
     "name": "stderr",
     "output_type": "stream",
     "text": [
      "C:\\Users\\marti\\miniconda3\\envs\\RecSys\\lib\\site-packages\\skopt\\optimizer\\optimizer.py:449: UserWarning: The objective has been evaluated at this point before.\n",
      "  warnings.warn(\"The objective has been evaluated \"\n"
     ]
    },
    {
     "name": "stdout",
     "output_type": "stream",
     "text": [
      "Iteration No: 223 ended. Search finished for the next optimal point.\n",
      "Time taken: 4.3129\n",
      "Function value obtained: -0.2125\n",
      "Current minimum: -0.2127\n",
      "Iteration No: 224 started. Searching for the next optimal point.\n",
      "SearchBayesianSkopt: Testing config: {'shrink': 10, 'topK': 200, 'feature_weighting': 'TF-IDF', 'normalize': True, 'ICM_weight': 5}\n",
      "SearchBayesianSkopt: Config 223 was already explored at index 160. Config: {'shrink': 10, 'topK': 200, 'feature_weighting': 'TF-IDF', 'normalize': True, 'ICM_weight': 5} - results: PRECISION: 0.3496335, PRECISION_RECALL_MIN_DEN: 0.3513392, RECALL: 0.0601305, MAP: 0.2125084, MAP_MIN_DEN: 0.2132577, MRR: 0.6172657, NDCG: 0.3689270, F1: 0.1026133, HIT_RATE: 0.9536793, ARHR_ALL_HITS: 1.1268567, NOVELTY: 0.0053134, AVERAGE_POPULARITY: 0.6560807, DIVERSITY_MEAN_INTER_LIST: 0.8145055, DIVERSITY_HERFINDAHL: 0.9814446, COVERAGE_ITEM: 0.0491168, COVERAGE_ITEM_CORRECT: 0.0275209, COVERAGE_USER: 0.9995604, COVERAGE_USER_CORRECT: 0.9532601, DIVERSITY_GINI: 0.0039384, SHANNON_ENTROPY: 6.4102591, RATIO_DIVERSITY_HERFINDAHL: 0.9818236, RATIO_DIVERSITY_GINI: 0.0158871, RATIO_SHANNON_ENTROPY: 0.5173891, RATIO_AVERAGE_POPULARITY: 3.2381591, RATIO_NOVELTY: 0.0250004, \n",
      "\n"
     ]
    },
    {
     "name": "stderr",
     "output_type": "stream",
     "text": [
      "C:\\Users\\marti\\miniconda3\\envs\\RecSys\\lib\\site-packages\\skopt\\optimizer\\optimizer.py:449: UserWarning: The objective has been evaluated at this point before.\n",
      "  warnings.warn(\"The objective has been evaluated \"\n"
     ]
    },
    {
     "name": "stdout",
     "output_type": "stream",
     "text": [
      "Iteration No: 224 ended. Search finished for the next optimal point.\n",
      "Time taken: 4.0929\n",
      "Function value obtained: -0.2125\n",
      "Current minimum: -0.2127\n",
      "Iteration No: 225 started. Searching for the next optimal point.\n",
      "SearchBayesianSkopt: Testing config: {'shrink': 499, 'topK': 200, 'feature_weighting': 'TF-IDF', 'normalize': True, 'ICM_weight': 5}\n",
      "ItemKNN_CFCBF_HybridRecommender: URM Detected 1 ( 0.0%) items with no interactions.\n",
      "ItemKNN_CFCBF_HybridRecommender: ICM Detected 559 ( 3.1%) items with no features.\n",
      "Similarity column 18059 (100.0%), 1582.10 column/sec. Elapsed time 11.41 sec\n",
      "EvaluatorHoldout: Processed 13644 (100.0%) in 16.97 sec. Users per second: 804\n",
      "SearchBayesianSkopt: Config 224 is suboptimal. Config: {'shrink': 499, 'topK': 200, 'feature_weighting': 'TF-IDF', 'normalize': True, 'ICM_weight': 5} - results: PRECISION: 0.3491352, PRECISION_RECALL_MIN_DEN: 0.3508388, RECALL: 0.0601033, MAP: 0.2121561, MAP_MIN_DEN: 0.2129045, MRR: 0.6176464, NDCG: 0.3685617, F1: 0.1025523, HIT_RATE: 0.9534594, ARHR_ALL_HITS: 1.1262120, NOVELTY: 0.0053034, AVERAGE_POPULARITY: 0.6595185, DIVERSITY_MEAN_INTER_LIST: 0.8111633, DIVERSITY_HERFINDAHL: 0.9811104, COVERAGE_ITEM: 0.0459051, COVERAGE_ITEM_CORRECT: 0.0256382, COVERAGE_USER: 0.9995604, COVERAGE_USER_CORRECT: 0.9530403, DIVERSITY_GINI: 0.0037703, SHANNON_ENTROPY: 6.3653319, RATIO_DIVERSITY_HERFINDAHL: 0.9814893, RATIO_DIVERSITY_GINI: 0.0152087, RATIO_SHANNON_ENTROPY: 0.5137629, RATIO_AVERAGE_POPULARITY: 3.2551268, RATIO_NOVELTY: 0.0249537, \n",
      "\n",
      "Iteration No: 225 ended. Search finished for the next optimal point.\n",
      "Time taken: 32.8093\n",
      "Function value obtained: -0.2122\n",
      "Current minimum: -0.2127\n",
      "Iteration No: 226 started. Searching for the next optimal point.\n",
      "SearchBayesianSkopt: Testing config: {'shrink': 10, 'topK': 200, 'feature_weighting': 'TF-IDF', 'normalize': True, 'ICM_weight': 5}\n",
      "SearchBayesianSkopt: Config 225 was already explored at index 160. Config: {'shrink': 10, 'topK': 200, 'feature_weighting': 'TF-IDF', 'normalize': True, 'ICM_weight': 5} - results: PRECISION: 0.3496335, PRECISION_RECALL_MIN_DEN: 0.3513392, RECALL: 0.0601305, MAP: 0.2125084, MAP_MIN_DEN: 0.2132577, MRR: 0.6172657, NDCG: 0.3689270, F1: 0.1026133, HIT_RATE: 0.9536793, ARHR_ALL_HITS: 1.1268567, NOVELTY: 0.0053134, AVERAGE_POPULARITY: 0.6560807, DIVERSITY_MEAN_INTER_LIST: 0.8145055, DIVERSITY_HERFINDAHL: 0.9814446, COVERAGE_ITEM: 0.0491168, COVERAGE_ITEM_CORRECT: 0.0275209, COVERAGE_USER: 0.9995604, COVERAGE_USER_CORRECT: 0.9532601, DIVERSITY_GINI: 0.0039384, SHANNON_ENTROPY: 6.4102591, RATIO_DIVERSITY_HERFINDAHL: 0.9818236, RATIO_DIVERSITY_GINI: 0.0158871, RATIO_SHANNON_ENTROPY: 0.5173891, RATIO_AVERAGE_POPULARITY: 3.2381591, RATIO_NOVELTY: 0.0250004, \n",
      "\n"
     ]
    },
    {
     "name": "stderr",
     "output_type": "stream",
     "text": [
      "C:\\Users\\marti\\miniconda3\\envs\\RecSys\\lib\\site-packages\\skopt\\optimizer\\optimizer.py:449: UserWarning: The objective has been evaluated at this point before.\n",
      "  warnings.warn(\"The objective has been evaluated \"\n"
     ]
    },
    {
     "name": "stdout",
     "output_type": "stream",
     "text": [
      "Iteration No: 226 ended. Search finished for the next optimal point.\n",
      "Time taken: 4.0639\n",
      "Function value obtained: -0.2125\n",
      "Current minimum: -0.2127\n",
      "Iteration No: 227 started. Searching for the next optimal point.\n",
      "SearchBayesianSkopt: Testing config: {'shrink': 338, 'topK': 200, 'feature_weighting': 'TF-IDF', 'normalize': True, 'ICM_weight': 5}\n",
      "ItemKNN_CFCBF_HybridRecommender: URM Detected 1 ( 0.0%) items with no interactions.\n",
      "ItemKNN_CFCBF_HybridRecommender: ICM Detected 559 ( 3.1%) items with no features.\n",
      "Similarity column 18059 (100.0%), 1592.15 column/sec. Elapsed time 11.34 sec\n",
      "EvaluatorHoldout: Processed 13644 (100.0%) in 16.18 sec. Users per second: 843\n",
      "SearchBayesianSkopt: Config 226 is suboptimal. Config: {'shrink': 338, 'topK': 200, 'feature_weighting': 'TF-IDF', 'normalize': True, 'ICM_weight': 5} - results: PRECISION: 0.3492451, PRECISION_RECALL_MIN_DEN: 0.3509602, RECALL: 0.0601282, MAP: 0.2121852, MAP_MIN_DEN: 0.2129321, MRR: 0.6176331, NDCG: 0.3686080, F1: 0.1025934, HIT_RATE: 0.9534594, ARHR_ALL_HITS: 1.1261659, NOVELTY: 0.0053062, AVERAGE_POPULARITY: 0.6584710, DIVERSITY_MEAN_INTER_LIST: 0.8121978, DIVERSITY_HERFINDAHL: 0.9812138, COVERAGE_ITEM: 0.0468464, COVERAGE_ITEM_CORRECT: 0.0263027, COVERAGE_USER: 0.9995604, COVERAGE_USER_CORRECT: 0.9530403, DIVERSITY_GINI: 0.0038188, SHANNON_ENTROPY: 6.3789117, RATIO_DIVERSITY_HERFINDAHL: 0.9815928, RATIO_DIVERSITY_GINI: 0.0154046, RATIO_SHANNON_ENTROPY: 0.5148590, RATIO_AVERAGE_POPULARITY: 3.2499568, RATIO_NOVELTY: 0.0249667, \n",
      "\n",
      "Iteration No: 227 ended. Search finished for the next optimal point.\n",
      "Time taken: 32.1371\n",
      "Function value obtained: -0.2122\n",
      "Current minimum: -0.2127\n",
      "Iteration No: 228 started. Searching for the next optimal point.\n",
      "SearchBayesianSkopt: Testing config: {'shrink': 10, 'topK': 200, 'feature_weighting': 'TF-IDF', 'normalize': True, 'ICM_weight': 5}\n",
      "SearchBayesianSkopt: Config 227 was already explored at index 160. Config: {'shrink': 10, 'topK': 200, 'feature_weighting': 'TF-IDF', 'normalize': True, 'ICM_weight': 5} - results: PRECISION: 0.3496335, PRECISION_RECALL_MIN_DEN: 0.3513392, RECALL: 0.0601305, MAP: 0.2125084, MAP_MIN_DEN: 0.2132577, MRR: 0.6172657, NDCG: 0.3689270, F1: 0.1026133, HIT_RATE: 0.9536793, ARHR_ALL_HITS: 1.1268567, NOVELTY: 0.0053134, AVERAGE_POPULARITY: 0.6560807, DIVERSITY_MEAN_INTER_LIST: 0.8145055, DIVERSITY_HERFINDAHL: 0.9814446, COVERAGE_ITEM: 0.0491168, COVERAGE_ITEM_CORRECT: 0.0275209, COVERAGE_USER: 0.9995604, COVERAGE_USER_CORRECT: 0.9532601, DIVERSITY_GINI: 0.0039384, SHANNON_ENTROPY: 6.4102591, RATIO_DIVERSITY_HERFINDAHL: 0.9818236, RATIO_DIVERSITY_GINI: 0.0158871, RATIO_SHANNON_ENTROPY: 0.5173891, RATIO_AVERAGE_POPULARITY: 3.2381591, RATIO_NOVELTY: 0.0250004, \n",
      "\n"
     ]
    },
    {
     "name": "stderr",
     "output_type": "stream",
     "text": [
      "C:\\Users\\marti\\miniconda3\\envs\\RecSys\\lib\\site-packages\\skopt\\optimizer\\optimizer.py:449: UserWarning: The objective has been evaluated at this point before.\n",
      "  warnings.warn(\"The objective has been evaluated \"\n"
     ]
    },
    {
     "name": "stdout",
     "output_type": "stream",
     "text": [
      "Iteration No: 228 ended. Search finished for the next optimal point.\n",
      "Time taken: 3.9299\n",
      "Function value obtained: -0.2125\n",
      "Current minimum: -0.2127\n",
      "Iteration No: 229 started. Searching for the next optimal point.\n",
      "SearchBayesianSkopt: Testing config: {'shrink': 10, 'topK': 200, 'feature_weighting': 'TF-IDF', 'normalize': True, 'ICM_weight': 5}\n",
      "SearchBayesianSkopt: Config 228 was already explored at index 160. Config: {'shrink': 10, 'topK': 200, 'feature_weighting': 'TF-IDF', 'normalize': True, 'ICM_weight': 5} - results: PRECISION: 0.3496335, PRECISION_RECALL_MIN_DEN: 0.3513392, RECALL: 0.0601305, MAP: 0.2125084, MAP_MIN_DEN: 0.2132577, MRR: 0.6172657, NDCG: 0.3689270, F1: 0.1026133, HIT_RATE: 0.9536793, ARHR_ALL_HITS: 1.1268567, NOVELTY: 0.0053134, AVERAGE_POPULARITY: 0.6560807, DIVERSITY_MEAN_INTER_LIST: 0.8145055, DIVERSITY_HERFINDAHL: 0.9814446, COVERAGE_ITEM: 0.0491168, COVERAGE_ITEM_CORRECT: 0.0275209, COVERAGE_USER: 0.9995604, COVERAGE_USER_CORRECT: 0.9532601, DIVERSITY_GINI: 0.0039384, SHANNON_ENTROPY: 6.4102591, RATIO_DIVERSITY_HERFINDAHL: 0.9818236, RATIO_DIVERSITY_GINI: 0.0158871, RATIO_SHANNON_ENTROPY: 0.5173891, RATIO_AVERAGE_POPULARITY: 3.2381591, RATIO_NOVELTY: 0.0250004, \n",
      "\n"
     ]
    },
    {
     "name": "stderr",
     "output_type": "stream",
     "text": [
      "C:\\Users\\marti\\miniconda3\\envs\\RecSys\\lib\\site-packages\\skopt\\optimizer\\optimizer.py:449: UserWarning: The objective has been evaluated at this point before.\n",
      "  warnings.warn(\"The objective has been evaluated \"\n"
     ]
    },
    {
     "name": "stdout",
     "output_type": "stream",
     "text": [
      "Iteration No: 229 ended. Search finished for the next optimal point.\n",
      "Time taken: 4.0729\n",
      "Function value obtained: -0.2125\n",
      "Current minimum: -0.2127\n",
      "Iteration No: 230 started. Searching for the next optimal point.\n",
      "SearchBayesianSkopt: Testing config: {'shrink': 10, 'topK': 200, 'feature_weighting': 'TF-IDF', 'normalize': True, 'ICM_weight': 5}\n",
      "SearchBayesianSkopt: Config 229 was already explored at index 160. Config: {'shrink': 10, 'topK': 200, 'feature_weighting': 'TF-IDF', 'normalize': True, 'ICM_weight': 5} - results: PRECISION: 0.3496335, PRECISION_RECALL_MIN_DEN: 0.3513392, RECALL: 0.0601305, MAP: 0.2125084, MAP_MIN_DEN: 0.2132577, MRR: 0.6172657, NDCG: 0.3689270, F1: 0.1026133, HIT_RATE: 0.9536793, ARHR_ALL_HITS: 1.1268567, NOVELTY: 0.0053134, AVERAGE_POPULARITY: 0.6560807, DIVERSITY_MEAN_INTER_LIST: 0.8145055, DIVERSITY_HERFINDAHL: 0.9814446, COVERAGE_ITEM: 0.0491168, COVERAGE_ITEM_CORRECT: 0.0275209, COVERAGE_USER: 0.9995604, COVERAGE_USER_CORRECT: 0.9532601, DIVERSITY_GINI: 0.0039384, SHANNON_ENTROPY: 6.4102591, RATIO_DIVERSITY_HERFINDAHL: 0.9818236, RATIO_DIVERSITY_GINI: 0.0158871, RATIO_SHANNON_ENTROPY: 0.5173891, RATIO_AVERAGE_POPULARITY: 3.2381591, RATIO_NOVELTY: 0.0250004, \n",
      "\n"
     ]
    },
    {
     "name": "stderr",
     "output_type": "stream",
     "text": [
      "C:\\Users\\marti\\miniconda3\\envs\\RecSys\\lib\\site-packages\\skopt\\optimizer\\optimizer.py:449: UserWarning: The objective has been evaluated at this point before.\n",
      "  warnings.warn(\"The objective has been evaluated \"\n"
     ]
    },
    {
     "name": "stdout",
     "output_type": "stream",
     "text": [
      "Iteration No: 230 ended. Search finished for the next optimal point.\n",
      "Time taken: 4.3330\n",
      "Function value obtained: -0.2125\n",
      "Current minimum: -0.2127\n",
      "Iteration No: 231 started. Searching for the next optimal point.\n",
      "SearchBayesianSkopt: Testing config: {'shrink': 10, 'topK': 200, 'feature_weighting': 'TF-IDF', 'normalize': True, 'ICM_weight': 5}\n",
      "SearchBayesianSkopt: Config 230 was already explored at index 160. Config: {'shrink': 10, 'topK': 200, 'feature_weighting': 'TF-IDF', 'normalize': True, 'ICM_weight': 5} - results: PRECISION: 0.3496335, PRECISION_RECALL_MIN_DEN: 0.3513392, RECALL: 0.0601305, MAP: 0.2125084, MAP_MIN_DEN: 0.2132577, MRR: 0.6172657, NDCG: 0.3689270, F1: 0.1026133, HIT_RATE: 0.9536793, ARHR_ALL_HITS: 1.1268567, NOVELTY: 0.0053134, AVERAGE_POPULARITY: 0.6560807, DIVERSITY_MEAN_INTER_LIST: 0.8145055, DIVERSITY_HERFINDAHL: 0.9814446, COVERAGE_ITEM: 0.0491168, COVERAGE_ITEM_CORRECT: 0.0275209, COVERAGE_USER: 0.9995604, COVERAGE_USER_CORRECT: 0.9532601, DIVERSITY_GINI: 0.0039384, SHANNON_ENTROPY: 6.4102591, RATIO_DIVERSITY_HERFINDAHL: 0.9818236, RATIO_DIVERSITY_GINI: 0.0158871, RATIO_SHANNON_ENTROPY: 0.5173891, RATIO_AVERAGE_POPULARITY: 3.2381591, RATIO_NOVELTY: 0.0250004, \n",
      "\n"
     ]
    },
    {
     "name": "stderr",
     "output_type": "stream",
     "text": [
      "C:\\Users\\marti\\miniconda3\\envs\\RecSys\\lib\\site-packages\\skopt\\optimizer\\optimizer.py:449: UserWarning: The objective has been evaluated at this point before.\n",
      "  warnings.warn(\"The objective has been evaluated \"\n"
     ]
    },
    {
     "name": "stdout",
     "output_type": "stream",
     "text": [
      "Iteration No: 231 ended. Search finished for the next optimal point.\n",
      "Time taken: 4.4840\n",
      "Function value obtained: -0.2125\n",
      "Current minimum: -0.2127\n",
      "Iteration No: 232 started. Searching for the next optimal point.\n",
      "SearchBayesianSkopt: Testing config: {'shrink': 10, 'topK': 200, 'feature_weighting': 'TF-IDF', 'normalize': True, 'ICM_weight': 5}\n",
      "SearchBayesianSkopt: Config 231 was already explored at index 160. Config: {'shrink': 10, 'topK': 200, 'feature_weighting': 'TF-IDF', 'normalize': True, 'ICM_weight': 5} - results: PRECISION: 0.3496335, PRECISION_RECALL_MIN_DEN: 0.3513392, RECALL: 0.0601305, MAP: 0.2125084, MAP_MIN_DEN: 0.2132577, MRR: 0.6172657, NDCG: 0.3689270, F1: 0.1026133, HIT_RATE: 0.9536793, ARHR_ALL_HITS: 1.1268567, NOVELTY: 0.0053134, AVERAGE_POPULARITY: 0.6560807, DIVERSITY_MEAN_INTER_LIST: 0.8145055, DIVERSITY_HERFINDAHL: 0.9814446, COVERAGE_ITEM: 0.0491168, COVERAGE_ITEM_CORRECT: 0.0275209, COVERAGE_USER: 0.9995604, COVERAGE_USER_CORRECT: 0.9532601, DIVERSITY_GINI: 0.0039384, SHANNON_ENTROPY: 6.4102591, RATIO_DIVERSITY_HERFINDAHL: 0.9818236, RATIO_DIVERSITY_GINI: 0.0158871, RATIO_SHANNON_ENTROPY: 0.5173891, RATIO_AVERAGE_POPULARITY: 3.2381591, RATIO_NOVELTY: 0.0250004, \n",
      "\n"
     ]
    },
    {
     "name": "stderr",
     "output_type": "stream",
     "text": [
      "C:\\Users\\marti\\miniconda3\\envs\\RecSys\\lib\\site-packages\\skopt\\optimizer\\optimizer.py:449: UserWarning: The objective has been evaluated at this point before.\n",
      "  warnings.warn(\"The objective has been evaluated \"\n"
     ]
    },
    {
     "name": "stdout",
     "output_type": "stream",
     "text": [
      "Iteration No: 232 ended. Search finished for the next optimal point.\n",
      "Time taken: 3.9139\n",
      "Function value obtained: -0.2125\n",
      "Current minimum: -0.2127\n",
      "Iteration No: 233 started. Searching for the next optimal point.\n",
      "SearchBayesianSkopt: Testing config: {'shrink': 469, 'topK': 1000, 'feature_weighting': 'TF-IDF', 'normalize': True, 'ICM_weight': 147}\n",
      "ItemKNN_CFCBF_HybridRecommender: URM Detected 1 ( 0.0%) items with no interactions.\n",
      "ItemKNN_CFCBF_HybridRecommender: ICM Detected 559 ( 3.1%) items with no features.\n",
      "Similarity column 18059 (100.0%), 1501.83 column/sec. Elapsed time 12.02 sec\n",
      "EvaluatorHoldout: Processed 13644 (100.0%) in 17.80 sec. Users per second: 766\n",
      "SearchBayesianSkopt: Config 232 is suboptimal. Config: {'shrink': 469, 'topK': 1000, 'feature_weighting': 'TF-IDF', 'normalize': True, 'ICM_weight': 147} - results: PRECISION: 0.3361991, PRECISION_RECALL_MIN_DEN: 0.3374800, RECALL: 0.0564326, MAP: 0.2036883, MAP_MIN_DEN: 0.2042627, MRR: 0.6102786, NDCG: 0.3568234, F1: 0.0966431, HIT_RATE: 0.9461302, ARHR_ALL_HITS: 1.0963668, NOVELTY: 0.0052687, AVERAGE_POPULARITY: 0.6912211, DIVERSITY_MEAN_INTER_LIST: 0.7528969, DIVERSITY_HERFINDAHL: 0.9752842, COVERAGE_ITEM: 0.0450745, COVERAGE_ITEM_CORRECT: 0.0214298, COVERAGE_USER: 0.9995604, COVERAGE_USER_CORRECT: 0.9457143, DIVERSITY_GINI: 0.0027211, SHANNON_ENTROPY: 5.8547564, RATIO_DIVERSITY_HERFINDAHL: 0.9756608, RATIO_DIVERSITY_GINI: 0.0109765, RATIO_SHANNON_ENTROPY: 0.4725530, RATIO_AVERAGE_POPULARITY: 3.4115983, RATIO_NOVELTY: 0.0247903, \n",
      "\n",
      "Iteration No: 233 ended. Search finished for the next optimal point.\n",
      "Time taken: 34.8368\n",
      "Function value obtained: -0.2037\n",
      "Current minimum: -0.2127\n",
      "Iteration No: 234 started. Searching for the next optimal point.\n",
      "SearchBayesianSkopt: Testing config: {'shrink': 10, 'topK': 200, 'feature_weighting': 'TF-IDF', 'normalize': True, 'ICM_weight': 5}\n",
      "SearchBayesianSkopt: Config 233 was already explored at index 160. Config: {'shrink': 10, 'topK': 200, 'feature_weighting': 'TF-IDF', 'normalize': True, 'ICM_weight': 5} - results: PRECISION: 0.3496335, PRECISION_RECALL_MIN_DEN: 0.3513392, RECALL: 0.0601305, MAP: 0.2125084, MAP_MIN_DEN: 0.2132577, MRR: 0.6172657, NDCG: 0.3689270, F1: 0.1026133, HIT_RATE: 0.9536793, ARHR_ALL_HITS: 1.1268567, NOVELTY: 0.0053134, AVERAGE_POPULARITY: 0.6560807, DIVERSITY_MEAN_INTER_LIST: 0.8145055, DIVERSITY_HERFINDAHL: 0.9814446, COVERAGE_ITEM: 0.0491168, COVERAGE_ITEM_CORRECT: 0.0275209, COVERAGE_USER: 0.9995604, COVERAGE_USER_CORRECT: 0.9532601, DIVERSITY_GINI: 0.0039384, SHANNON_ENTROPY: 6.4102591, RATIO_DIVERSITY_HERFINDAHL: 0.9818236, RATIO_DIVERSITY_GINI: 0.0158871, RATIO_SHANNON_ENTROPY: 0.5173891, RATIO_AVERAGE_POPULARITY: 3.2381591, RATIO_NOVELTY: 0.0250004, \n",
      "\n"
     ]
    },
    {
     "name": "stderr",
     "output_type": "stream",
     "text": [
      "C:\\Users\\marti\\miniconda3\\envs\\RecSys\\lib\\site-packages\\skopt\\optimizer\\optimizer.py:449: UserWarning: The objective has been evaluated at this point before.\n",
      "  warnings.warn(\"The objective has been evaluated \"\n"
     ]
    },
    {
     "name": "stdout",
     "output_type": "stream",
     "text": [
      "Iteration No: 234 ended. Search finished for the next optimal point.\n",
      "Time taken: 4.3970\n",
      "Function value obtained: -0.2125\n",
      "Current minimum: -0.2127\n",
      "Iteration No: 235 started. Searching for the next optimal point.\n",
      "SearchBayesianSkopt: Testing config: {'shrink': 10, 'topK': 200, 'feature_weighting': 'TF-IDF', 'normalize': True, 'ICM_weight': 5}\n",
      "SearchBayesianSkopt: Config 234 was already explored at index 160. Config: {'shrink': 10, 'topK': 200, 'feature_weighting': 'TF-IDF', 'normalize': True, 'ICM_weight': 5} - results: PRECISION: 0.3496335, PRECISION_RECALL_MIN_DEN: 0.3513392, RECALL: 0.0601305, MAP: 0.2125084, MAP_MIN_DEN: 0.2132577, MRR: 0.6172657, NDCG: 0.3689270, F1: 0.1026133, HIT_RATE: 0.9536793, ARHR_ALL_HITS: 1.1268567, NOVELTY: 0.0053134, AVERAGE_POPULARITY: 0.6560807, DIVERSITY_MEAN_INTER_LIST: 0.8145055, DIVERSITY_HERFINDAHL: 0.9814446, COVERAGE_ITEM: 0.0491168, COVERAGE_ITEM_CORRECT: 0.0275209, COVERAGE_USER: 0.9995604, COVERAGE_USER_CORRECT: 0.9532601, DIVERSITY_GINI: 0.0039384, SHANNON_ENTROPY: 6.4102591, RATIO_DIVERSITY_HERFINDAHL: 0.9818236, RATIO_DIVERSITY_GINI: 0.0158871, RATIO_SHANNON_ENTROPY: 0.5173891, RATIO_AVERAGE_POPULARITY: 3.2381591, RATIO_NOVELTY: 0.0250004, \n",
      "\n"
     ]
    },
    {
     "name": "stderr",
     "output_type": "stream",
     "text": [
      "C:\\Users\\marti\\miniconda3\\envs\\RecSys\\lib\\site-packages\\skopt\\optimizer\\optimizer.py:449: UserWarning: The objective has been evaluated at this point before.\n",
      "  warnings.warn(\"The objective has been evaluated \"\n"
     ]
    },
    {
     "name": "stdout",
     "output_type": "stream",
     "text": [
      "Iteration No: 235 ended. Search finished for the next optimal point.\n",
      "Time taken: 4.0279\n",
      "Function value obtained: -0.2125\n",
      "Current minimum: -0.2127\n",
      "Iteration No: 236 started. Searching for the next optimal point.\n",
      "SearchBayesianSkopt: Testing config: {'shrink': 10, 'topK': 200, 'feature_weighting': 'TF-IDF', 'normalize': True, 'ICM_weight': 5}\n",
      "SearchBayesianSkopt: Config 235 was already explored at index 160. Config: {'shrink': 10, 'topK': 200, 'feature_weighting': 'TF-IDF', 'normalize': True, 'ICM_weight': 5} - results: PRECISION: 0.3496335, PRECISION_RECALL_MIN_DEN: 0.3513392, RECALL: 0.0601305, MAP: 0.2125084, MAP_MIN_DEN: 0.2132577, MRR: 0.6172657, NDCG: 0.3689270, F1: 0.1026133, HIT_RATE: 0.9536793, ARHR_ALL_HITS: 1.1268567, NOVELTY: 0.0053134, AVERAGE_POPULARITY: 0.6560807, DIVERSITY_MEAN_INTER_LIST: 0.8145055, DIVERSITY_HERFINDAHL: 0.9814446, COVERAGE_ITEM: 0.0491168, COVERAGE_ITEM_CORRECT: 0.0275209, COVERAGE_USER: 0.9995604, COVERAGE_USER_CORRECT: 0.9532601, DIVERSITY_GINI: 0.0039384, SHANNON_ENTROPY: 6.4102591, RATIO_DIVERSITY_HERFINDAHL: 0.9818236, RATIO_DIVERSITY_GINI: 0.0158871, RATIO_SHANNON_ENTROPY: 0.5173891, RATIO_AVERAGE_POPULARITY: 3.2381591, RATIO_NOVELTY: 0.0250004, \n",
      "\n"
     ]
    },
    {
     "name": "stderr",
     "output_type": "stream",
     "text": [
      "C:\\Users\\marti\\miniconda3\\envs\\RecSys\\lib\\site-packages\\skopt\\optimizer\\optimizer.py:449: UserWarning: The objective has been evaluated at this point before.\n",
      "  warnings.warn(\"The objective has been evaluated \"\n"
     ]
    },
    {
     "name": "stdout",
     "output_type": "stream",
     "text": [
      "Iteration No: 236 ended. Search finished for the next optimal point.\n",
      "Time taken: 4.2079\n",
      "Function value obtained: -0.2125\n",
      "Current minimum: -0.2127\n",
      "Iteration No: 237 started. Searching for the next optimal point.\n",
      "SearchBayesianSkopt: Testing config: {'shrink': 10, 'topK': 200, 'feature_weighting': 'TF-IDF', 'normalize': True, 'ICM_weight': 5}\n",
      "SearchBayesianSkopt: Config 236 was already explored at index 160. Config: {'shrink': 10, 'topK': 200, 'feature_weighting': 'TF-IDF', 'normalize': True, 'ICM_weight': 5} - results: PRECISION: 0.3496335, PRECISION_RECALL_MIN_DEN: 0.3513392, RECALL: 0.0601305, MAP: 0.2125084, MAP_MIN_DEN: 0.2132577, MRR: 0.6172657, NDCG: 0.3689270, F1: 0.1026133, HIT_RATE: 0.9536793, ARHR_ALL_HITS: 1.1268567, NOVELTY: 0.0053134, AVERAGE_POPULARITY: 0.6560807, DIVERSITY_MEAN_INTER_LIST: 0.8145055, DIVERSITY_HERFINDAHL: 0.9814446, COVERAGE_ITEM: 0.0491168, COVERAGE_ITEM_CORRECT: 0.0275209, COVERAGE_USER: 0.9995604, COVERAGE_USER_CORRECT: 0.9532601, DIVERSITY_GINI: 0.0039384, SHANNON_ENTROPY: 6.4102591, RATIO_DIVERSITY_HERFINDAHL: 0.9818236, RATIO_DIVERSITY_GINI: 0.0158871, RATIO_SHANNON_ENTROPY: 0.5173891, RATIO_AVERAGE_POPULARITY: 3.2381591, RATIO_NOVELTY: 0.0250004, \n",
      "\n"
     ]
    },
    {
     "name": "stderr",
     "output_type": "stream",
     "text": [
      "C:\\Users\\marti\\miniconda3\\envs\\RecSys\\lib\\site-packages\\skopt\\optimizer\\optimizer.py:449: UserWarning: The objective has been evaluated at this point before.\n",
      "  warnings.warn(\"The objective has been evaluated \"\n"
     ]
    },
    {
     "name": "stdout",
     "output_type": "stream",
     "text": [
      "Iteration No: 237 ended. Search finished for the next optimal point.\n",
      "Time taken: 4.3350\n",
      "Function value obtained: -0.2125\n",
      "Current minimum: -0.2127\n",
      "Iteration No: 238 started. Searching for the next optimal point.\n",
      "SearchBayesianSkopt: Testing config: {'shrink': 10, 'topK': 200, 'feature_weighting': 'TF-IDF', 'normalize': True, 'ICM_weight': 5}\n",
      "SearchBayesianSkopt: Config 237 was already explored at index 160. Config: {'shrink': 10, 'topK': 200, 'feature_weighting': 'TF-IDF', 'normalize': True, 'ICM_weight': 5} - results: PRECISION: 0.3496335, PRECISION_RECALL_MIN_DEN: 0.3513392, RECALL: 0.0601305, MAP: 0.2125084, MAP_MIN_DEN: 0.2132577, MRR: 0.6172657, NDCG: 0.3689270, F1: 0.1026133, HIT_RATE: 0.9536793, ARHR_ALL_HITS: 1.1268567, NOVELTY: 0.0053134, AVERAGE_POPULARITY: 0.6560807, DIVERSITY_MEAN_INTER_LIST: 0.8145055, DIVERSITY_HERFINDAHL: 0.9814446, COVERAGE_ITEM: 0.0491168, COVERAGE_ITEM_CORRECT: 0.0275209, COVERAGE_USER: 0.9995604, COVERAGE_USER_CORRECT: 0.9532601, DIVERSITY_GINI: 0.0039384, SHANNON_ENTROPY: 6.4102591, RATIO_DIVERSITY_HERFINDAHL: 0.9818236, RATIO_DIVERSITY_GINI: 0.0158871, RATIO_SHANNON_ENTROPY: 0.5173891, RATIO_AVERAGE_POPULARITY: 3.2381591, RATIO_NOVELTY: 0.0250004, \n",
      "\n"
     ]
    },
    {
     "name": "stderr",
     "output_type": "stream",
     "text": [
      "C:\\Users\\marti\\miniconda3\\envs\\RecSys\\lib\\site-packages\\skopt\\optimizer\\optimizer.py:449: UserWarning: The objective has been evaluated at this point before.\n",
      "  warnings.warn(\"The objective has been evaluated \"\n"
     ]
    },
    {
     "name": "stdout",
     "output_type": "stream",
     "text": [
      "Iteration No: 238 ended. Search finished for the next optimal point.\n",
      "Time taken: 4.4090\n",
      "Function value obtained: -0.2125\n",
      "Current minimum: -0.2127\n",
      "Iteration No: 239 started. Searching for the next optimal point.\n",
      "SearchBayesianSkopt: Testing config: {'shrink': 10, 'topK': 200, 'feature_weighting': 'TF-IDF', 'normalize': True, 'ICM_weight': 5}\n",
      "SearchBayesianSkopt: Config 238 was already explored at index 160. Config: {'shrink': 10, 'topK': 200, 'feature_weighting': 'TF-IDF', 'normalize': True, 'ICM_weight': 5} - results: PRECISION: 0.3496335, PRECISION_RECALL_MIN_DEN: 0.3513392, RECALL: 0.0601305, MAP: 0.2125084, MAP_MIN_DEN: 0.2132577, MRR: 0.6172657, NDCG: 0.3689270, F1: 0.1026133, HIT_RATE: 0.9536793, ARHR_ALL_HITS: 1.1268567, NOVELTY: 0.0053134, AVERAGE_POPULARITY: 0.6560807, DIVERSITY_MEAN_INTER_LIST: 0.8145055, DIVERSITY_HERFINDAHL: 0.9814446, COVERAGE_ITEM: 0.0491168, COVERAGE_ITEM_CORRECT: 0.0275209, COVERAGE_USER: 0.9995604, COVERAGE_USER_CORRECT: 0.9532601, DIVERSITY_GINI: 0.0039384, SHANNON_ENTROPY: 6.4102591, RATIO_DIVERSITY_HERFINDAHL: 0.9818236, RATIO_DIVERSITY_GINI: 0.0158871, RATIO_SHANNON_ENTROPY: 0.5173891, RATIO_AVERAGE_POPULARITY: 3.2381591, RATIO_NOVELTY: 0.0250004, \n",
      "\n"
     ]
    },
    {
     "name": "stderr",
     "output_type": "stream",
     "text": [
      "C:\\Users\\marti\\miniconda3\\envs\\RecSys\\lib\\site-packages\\skopt\\optimizer\\optimizer.py:449: UserWarning: The objective has been evaluated at this point before.\n",
      "  warnings.warn(\"The objective has been evaluated \"\n"
     ]
    },
    {
     "name": "stdout",
     "output_type": "stream",
     "text": [
      "Iteration No: 239 ended. Search finished for the next optimal point.\n",
      "Time taken: 4.5020\n",
      "Function value obtained: -0.2125\n",
      "Current minimum: -0.2127\n",
      "Iteration No: 240 started. Searching for the next optimal point.\n",
      "SearchBayesianSkopt: Testing config: {'shrink': 10, 'topK': 200, 'feature_weighting': 'TF-IDF', 'normalize': True, 'ICM_weight': 5}\n",
      "SearchBayesianSkopt: Config 239 was already explored at index 160. Config: {'shrink': 10, 'topK': 200, 'feature_weighting': 'TF-IDF', 'normalize': True, 'ICM_weight': 5} - results: PRECISION: 0.3496335, PRECISION_RECALL_MIN_DEN: 0.3513392, RECALL: 0.0601305, MAP: 0.2125084, MAP_MIN_DEN: 0.2132577, MRR: 0.6172657, NDCG: 0.3689270, F1: 0.1026133, HIT_RATE: 0.9536793, ARHR_ALL_HITS: 1.1268567, NOVELTY: 0.0053134, AVERAGE_POPULARITY: 0.6560807, DIVERSITY_MEAN_INTER_LIST: 0.8145055, DIVERSITY_HERFINDAHL: 0.9814446, COVERAGE_ITEM: 0.0491168, COVERAGE_ITEM_CORRECT: 0.0275209, COVERAGE_USER: 0.9995604, COVERAGE_USER_CORRECT: 0.9532601, DIVERSITY_GINI: 0.0039384, SHANNON_ENTROPY: 6.4102591, RATIO_DIVERSITY_HERFINDAHL: 0.9818236, RATIO_DIVERSITY_GINI: 0.0158871, RATIO_SHANNON_ENTROPY: 0.5173891, RATIO_AVERAGE_POPULARITY: 3.2381591, RATIO_NOVELTY: 0.0250004, \n",
      "\n"
     ]
    },
    {
     "name": "stderr",
     "output_type": "stream",
     "text": [
      "C:\\Users\\marti\\miniconda3\\envs\\RecSys\\lib\\site-packages\\skopt\\optimizer\\optimizer.py:449: UserWarning: The objective has been evaluated at this point before.\n",
      "  warnings.warn(\"The objective has been evaluated \"\n"
     ]
    },
    {
     "name": "stdout",
     "output_type": "stream",
     "text": [
      "Iteration No: 240 ended. Search finished for the next optimal point.\n",
      "Time taken: 4.3330\n",
      "Function value obtained: -0.2125\n",
      "Current minimum: -0.2127\n",
      "Iteration No: 241 started. Searching for the next optimal point.\n",
      "SearchBayesianSkopt: Testing config: {'shrink': 10, 'topK': 200, 'feature_weighting': 'TF-IDF', 'normalize': True, 'ICM_weight': 5}\n",
      "SearchBayesianSkopt: Config 240 was already explored at index 160. Config: {'shrink': 10, 'topK': 200, 'feature_weighting': 'TF-IDF', 'normalize': True, 'ICM_weight': 5} - results: PRECISION: 0.3496335, PRECISION_RECALL_MIN_DEN: 0.3513392, RECALL: 0.0601305, MAP: 0.2125084, MAP_MIN_DEN: 0.2132577, MRR: 0.6172657, NDCG: 0.3689270, F1: 0.1026133, HIT_RATE: 0.9536793, ARHR_ALL_HITS: 1.1268567, NOVELTY: 0.0053134, AVERAGE_POPULARITY: 0.6560807, DIVERSITY_MEAN_INTER_LIST: 0.8145055, DIVERSITY_HERFINDAHL: 0.9814446, COVERAGE_ITEM: 0.0491168, COVERAGE_ITEM_CORRECT: 0.0275209, COVERAGE_USER: 0.9995604, COVERAGE_USER_CORRECT: 0.9532601, DIVERSITY_GINI: 0.0039384, SHANNON_ENTROPY: 6.4102591, RATIO_DIVERSITY_HERFINDAHL: 0.9818236, RATIO_DIVERSITY_GINI: 0.0158871, RATIO_SHANNON_ENTROPY: 0.5173891, RATIO_AVERAGE_POPULARITY: 3.2381591, RATIO_NOVELTY: 0.0250004, \n",
      "\n"
     ]
    },
    {
     "name": "stderr",
     "output_type": "stream",
     "text": [
      "C:\\Users\\marti\\miniconda3\\envs\\RecSys\\lib\\site-packages\\skopt\\optimizer\\optimizer.py:449: UserWarning: The objective has been evaluated at this point before.\n",
      "  warnings.warn(\"The objective has been evaluated \"\n"
     ]
    },
    {
     "name": "stdout",
     "output_type": "stream",
     "text": [
      "Iteration No: 241 ended. Search finished for the next optimal point.\n",
      "Time taken: 4.2400\n",
      "Function value obtained: -0.2125\n",
      "Current minimum: -0.2127\n",
      "Iteration No: 242 started. Searching for the next optimal point.\n",
      "SearchBayesianSkopt: Testing config: {'shrink': 10, 'topK': 200, 'feature_weighting': 'TF-IDF', 'normalize': True, 'ICM_weight': 5}\n",
      "SearchBayesianSkopt: Config 241 was already explored at index 160. Config: {'shrink': 10, 'topK': 200, 'feature_weighting': 'TF-IDF', 'normalize': True, 'ICM_weight': 5} - results: PRECISION: 0.3496335, PRECISION_RECALL_MIN_DEN: 0.3513392, RECALL: 0.0601305, MAP: 0.2125084, MAP_MIN_DEN: 0.2132577, MRR: 0.6172657, NDCG: 0.3689270, F1: 0.1026133, HIT_RATE: 0.9536793, ARHR_ALL_HITS: 1.1268567, NOVELTY: 0.0053134, AVERAGE_POPULARITY: 0.6560807, DIVERSITY_MEAN_INTER_LIST: 0.8145055, DIVERSITY_HERFINDAHL: 0.9814446, COVERAGE_ITEM: 0.0491168, COVERAGE_ITEM_CORRECT: 0.0275209, COVERAGE_USER: 0.9995604, COVERAGE_USER_CORRECT: 0.9532601, DIVERSITY_GINI: 0.0039384, SHANNON_ENTROPY: 6.4102591, RATIO_DIVERSITY_HERFINDAHL: 0.9818236, RATIO_DIVERSITY_GINI: 0.0158871, RATIO_SHANNON_ENTROPY: 0.5173891, RATIO_AVERAGE_POPULARITY: 3.2381591, RATIO_NOVELTY: 0.0250004, \n",
      "\n"
     ]
    },
    {
     "name": "stderr",
     "output_type": "stream",
     "text": [
      "C:\\Users\\marti\\miniconda3\\envs\\RecSys\\lib\\site-packages\\skopt\\optimizer\\optimizer.py:449: UserWarning: The objective has been evaluated at this point before.\n",
      "  warnings.warn(\"The objective has been evaluated \"\n"
     ]
    },
    {
     "name": "stdout",
     "output_type": "stream",
     "text": [
      "Iteration No: 242 ended. Search finished for the next optimal point.\n",
      "Time taken: 4.3160\n",
      "Function value obtained: -0.2125\n",
      "Current minimum: -0.2127\n",
      "Iteration No: 243 started. Searching for the next optimal point.\n",
      "SearchBayesianSkopt: Testing config: {'shrink': 10, 'topK': 200, 'feature_weighting': 'TF-IDF', 'normalize': True, 'ICM_weight': 5}\n",
      "SearchBayesianSkopt: Config 242 was already explored at index 160. Config: {'shrink': 10, 'topK': 200, 'feature_weighting': 'TF-IDF', 'normalize': True, 'ICM_weight': 5} - results: PRECISION: 0.3496335, PRECISION_RECALL_MIN_DEN: 0.3513392, RECALL: 0.0601305, MAP: 0.2125084, MAP_MIN_DEN: 0.2132577, MRR: 0.6172657, NDCG: 0.3689270, F1: 0.1026133, HIT_RATE: 0.9536793, ARHR_ALL_HITS: 1.1268567, NOVELTY: 0.0053134, AVERAGE_POPULARITY: 0.6560807, DIVERSITY_MEAN_INTER_LIST: 0.8145055, DIVERSITY_HERFINDAHL: 0.9814446, COVERAGE_ITEM: 0.0491168, COVERAGE_ITEM_CORRECT: 0.0275209, COVERAGE_USER: 0.9995604, COVERAGE_USER_CORRECT: 0.9532601, DIVERSITY_GINI: 0.0039384, SHANNON_ENTROPY: 6.4102591, RATIO_DIVERSITY_HERFINDAHL: 0.9818236, RATIO_DIVERSITY_GINI: 0.0158871, RATIO_SHANNON_ENTROPY: 0.5173891, RATIO_AVERAGE_POPULARITY: 3.2381591, RATIO_NOVELTY: 0.0250004, \n",
      "\n"
     ]
    },
    {
     "name": "stderr",
     "output_type": "stream",
     "text": [
      "C:\\Users\\marti\\miniconda3\\envs\\RecSys\\lib\\site-packages\\skopt\\optimizer\\optimizer.py:449: UserWarning: The objective has been evaluated at this point before.\n",
      "  warnings.warn(\"The objective has been evaluated \"\n"
     ]
    },
    {
     "name": "stdout",
     "output_type": "stream",
     "text": [
      "Iteration No: 243 ended. Search finished for the next optimal point.\n",
      "Time taken: 4.4370\n",
      "Function value obtained: -0.2125\n",
      "Current minimum: -0.2127\n",
      "Iteration No: 244 started. Searching for the next optimal point.\n",
      "SearchBayesianSkopt: Testing config: {'shrink': 10, 'topK': 200, 'feature_weighting': 'TF-IDF', 'normalize': True, 'ICM_weight': 5}\n",
      "SearchBayesianSkopt: Config 243 was already explored at index 160. Config: {'shrink': 10, 'topK': 200, 'feature_weighting': 'TF-IDF', 'normalize': True, 'ICM_weight': 5} - results: PRECISION: 0.3496335, PRECISION_RECALL_MIN_DEN: 0.3513392, RECALL: 0.0601305, MAP: 0.2125084, MAP_MIN_DEN: 0.2132577, MRR: 0.6172657, NDCG: 0.3689270, F1: 0.1026133, HIT_RATE: 0.9536793, ARHR_ALL_HITS: 1.1268567, NOVELTY: 0.0053134, AVERAGE_POPULARITY: 0.6560807, DIVERSITY_MEAN_INTER_LIST: 0.8145055, DIVERSITY_HERFINDAHL: 0.9814446, COVERAGE_ITEM: 0.0491168, COVERAGE_ITEM_CORRECT: 0.0275209, COVERAGE_USER: 0.9995604, COVERAGE_USER_CORRECT: 0.9532601, DIVERSITY_GINI: 0.0039384, SHANNON_ENTROPY: 6.4102591, RATIO_DIVERSITY_HERFINDAHL: 0.9818236, RATIO_DIVERSITY_GINI: 0.0158871, RATIO_SHANNON_ENTROPY: 0.5173891, RATIO_AVERAGE_POPULARITY: 3.2381591, RATIO_NOVELTY: 0.0250004, \n",
      "\n"
     ]
    },
    {
     "name": "stderr",
     "output_type": "stream",
     "text": [
      "C:\\Users\\marti\\miniconda3\\envs\\RecSys\\lib\\site-packages\\skopt\\optimizer\\optimizer.py:449: UserWarning: The objective has been evaluated at this point before.\n",
      "  warnings.warn(\"The objective has been evaluated \"\n"
     ]
    },
    {
     "name": "stdout",
     "output_type": "stream",
     "text": [
      "Iteration No: 244 ended. Search finished for the next optimal point.\n",
      "Time taken: 4.2630\n",
      "Function value obtained: -0.2125\n",
      "Current minimum: -0.2127\n",
      "Iteration No: 245 started. Searching for the next optimal point.\n",
      "SearchBayesianSkopt: Testing config: {'shrink': 10, 'topK': 200, 'feature_weighting': 'TF-IDF', 'normalize': True, 'ICM_weight': 5}\n",
      "SearchBayesianSkopt: Config 244 was already explored at index 160. Config: {'shrink': 10, 'topK': 200, 'feature_weighting': 'TF-IDF', 'normalize': True, 'ICM_weight': 5} - results: PRECISION: 0.3496335, PRECISION_RECALL_MIN_DEN: 0.3513392, RECALL: 0.0601305, MAP: 0.2125084, MAP_MIN_DEN: 0.2132577, MRR: 0.6172657, NDCG: 0.3689270, F1: 0.1026133, HIT_RATE: 0.9536793, ARHR_ALL_HITS: 1.1268567, NOVELTY: 0.0053134, AVERAGE_POPULARITY: 0.6560807, DIVERSITY_MEAN_INTER_LIST: 0.8145055, DIVERSITY_HERFINDAHL: 0.9814446, COVERAGE_ITEM: 0.0491168, COVERAGE_ITEM_CORRECT: 0.0275209, COVERAGE_USER: 0.9995604, COVERAGE_USER_CORRECT: 0.9532601, DIVERSITY_GINI: 0.0039384, SHANNON_ENTROPY: 6.4102591, RATIO_DIVERSITY_HERFINDAHL: 0.9818236, RATIO_DIVERSITY_GINI: 0.0158871, RATIO_SHANNON_ENTROPY: 0.5173891, RATIO_AVERAGE_POPULARITY: 3.2381591, RATIO_NOVELTY: 0.0250004, \n",
      "\n"
     ]
    },
    {
     "name": "stderr",
     "output_type": "stream",
     "text": [
      "C:\\Users\\marti\\miniconda3\\envs\\RecSys\\lib\\site-packages\\skopt\\optimizer\\optimizer.py:449: UserWarning: The objective has been evaluated at this point before.\n",
      "  warnings.warn(\"The objective has been evaluated \"\n"
     ]
    },
    {
     "name": "stdout",
     "output_type": "stream",
     "text": [
      "Iteration No: 245 ended. Search finished for the next optimal point.\n",
      "Time taken: 4.3280\n",
      "Function value obtained: -0.2125\n",
      "Current minimum: -0.2127\n",
      "Iteration No: 246 started. Searching for the next optimal point.\n",
      "SearchBayesianSkopt: Testing config: {'shrink': 10, 'topK': 200, 'feature_weighting': 'TF-IDF', 'normalize': True, 'ICM_weight': 5}\n",
      "SearchBayesianSkopt: Config 245 was already explored at index 160. Config: {'shrink': 10, 'topK': 200, 'feature_weighting': 'TF-IDF', 'normalize': True, 'ICM_weight': 5} - results: PRECISION: 0.3496335, PRECISION_RECALL_MIN_DEN: 0.3513392, RECALL: 0.0601305, MAP: 0.2125084, MAP_MIN_DEN: 0.2132577, MRR: 0.6172657, NDCG: 0.3689270, F1: 0.1026133, HIT_RATE: 0.9536793, ARHR_ALL_HITS: 1.1268567, NOVELTY: 0.0053134, AVERAGE_POPULARITY: 0.6560807, DIVERSITY_MEAN_INTER_LIST: 0.8145055, DIVERSITY_HERFINDAHL: 0.9814446, COVERAGE_ITEM: 0.0491168, COVERAGE_ITEM_CORRECT: 0.0275209, COVERAGE_USER: 0.9995604, COVERAGE_USER_CORRECT: 0.9532601, DIVERSITY_GINI: 0.0039384, SHANNON_ENTROPY: 6.4102591, RATIO_DIVERSITY_HERFINDAHL: 0.9818236, RATIO_DIVERSITY_GINI: 0.0158871, RATIO_SHANNON_ENTROPY: 0.5173891, RATIO_AVERAGE_POPULARITY: 3.2381591, RATIO_NOVELTY: 0.0250004, \n",
      "\n"
     ]
    },
    {
     "name": "stderr",
     "output_type": "stream",
     "text": [
      "C:\\Users\\marti\\miniconda3\\envs\\RecSys\\lib\\site-packages\\skopt\\optimizer\\optimizer.py:449: UserWarning: The objective has been evaluated at this point before.\n",
      "  warnings.warn(\"The objective has been evaluated \"\n"
     ]
    },
    {
     "name": "stdout",
     "output_type": "stream",
     "text": [
      "Iteration No: 246 ended. Search finished for the next optimal point.\n",
      "Time taken: 4.3600\n",
      "Function value obtained: -0.2125\n",
      "Current minimum: -0.2127\n",
      "Iteration No: 247 started. Searching for the next optimal point.\n",
      "SearchBayesianSkopt: Testing config: {'shrink': 10, 'topK': 200, 'feature_weighting': 'TF-IDF', 'normalize': True, 'ICM_weight': 5}\n",
      "SearchBayesianSkopt: Config 246 was already explored at index 160. Config: {'shrink': 10, 'topK': 200, 'feature_weighting': 'TF-IDF', 'normalize': True, 'ICM_weight': 5} - results: PRECISION: 0.3496335, PRECISION_RECALL_MIN_DEN: 0.3513392, RECALL: 0.0601305, MAP: 0.2125084, MAP_MIN_DEN: 0.2132577, MRR: 0.6172657, NDCG: 0.3689270, F1: 0.1026133, HIT_RATE: 0.9536793, ARHR_ALL_HITS: 1.1268567, NOVELTY: 0.0053134, AVERAGE_POPULARITY: 0.6560807, DIVERSITY_MEAN_INTER_LIST: 0.8145055, DIVERSITY_HERFINDAHL: 0.9814446, COVERAGE_ITEM: 0.0491168, COVERAGE_ITEM_CORRECT: 0.0275209, COVERAGE_USER: 0.9995604, COVERAGE_USER_CORRECT: 0.9532601, DIVERSITY_GINI: 0.0039384, SHANNON_ENTROPY: 6.4102591, RATIO_DIVERSITY_HERFINDAHL: 0.9818236, RATIO_DIVERSITY_GINI: 0.0158871, RATIO_SHANNON_ENTROPY: 0.5173891, RATIO_AVERAGE_POPULARITY: 3.2381591, RATIO_NOVELTY: 0.0250004, \n",
      "\n"
     ]
    },
    {
     "name": "stderr",
     "output_type": "stream",
     "text": [
      "C:\\Users\\marti\\miniconda3\\envs\\RecSys\\lib\\site-packages\\skopt\\optimizer\\optimizer.py:449: UserWarning: The objective has been evaluated at this point before.\n",
      "  warnings.warn(\"The objective has been evaluated \"\n"
     ]
    },
    {
     "name": "stdout",
     "output_type": "stream",
     "text": [
      "Iteration No: 247 ended. Search finished for the next optimal point.\n",
      "Time taken: 4.2820\n",
      "Function value obtained: -0.2125\n",
      "Current minimum: -0.2127\n",
      "Iteration No: 248 started. Searching for the next optimal point.\n",
      "SearchBayesianSkopt: Testing config: {'shrink': 10, 'topK': 200, 'feature_weighting': 'TF-IDF', 'normalize': True, 'ICM_weight': 5}\n",
      "SearchBayesianSkopt: Config 247 was already explored at index 160. Config: {'shrink': 10, 'topK': 200, 'feature_weighting': 'TF-IDF', 'normalize': True, 'ICM_weight': 5} - results: PRECISION: 0.3496335, PRECISION_RECALL_MIN_DEN: 0.3513392, RECALL: 0.0601305, MAP: 0.2125084, MAP_MIN_DEN: 0.2132577, MRR: 0.6172657, NDCG: 0.3689270, F1: 0.1026133, HIT_RATE: 0.9536793, ARHR_ALL_HITS: 1.1268567, NOVELTY: 0.0053134, AVERAGE_POPULARITY: 0.6560807, DIVERSITY_MEAN_INTER_LIST: 0.8145055, DIVERSITY_HERFINDAHL: 0.9814446, COVERAGE_ITEM: 0.0491168, COVERAGE_ITEM_CORRECT: 0.0275209, COVERAGE_USER: 0.9995604, COVERAGE_USER_CORRECT: 0.9532601, DIVERSITY_GINI: 0.0039384, SHANNON_ENTROPY: 6.4102591, RATIO_DIVERSITY_HERFINDAHL: 0.9818236, RATIO_DIVERSITY_GINI: 0.0158871, RATIO_SHANNON_ENTROPY: 0.5173891, RATIO_AVERAGE_POPULARITY: 3.2381591, RATIO_NOVELTY: 0.0250004, \n",
      "\n"
     ]
    },
    {
     "name": "stderr",
     "output_type": "stream",
     "text": [
      "C:\\Users\\marti\\miniconda3\\envs\\RecSys\\lib\\site-packages\\skopt\\optimizer\\optimizer.py:449: UserWarning: The objective has been evaluated at this point before.\n",
      "  warnings.warn(\"The objective has been evaluated \"\n"
     ]
    },
    {
     "name": "stdout",
     "output_type": "stream",
     "text": [
      "Iteration No: 248 ended. Search finished for the next optimal point.\n",
      "Time taken: 4.4630\n",
      "Function value obtained: -0.2125\n",
      "Current minimum: -0.2127\n",
      "Iteration No: 249 started. Searching for the next optimal point.\n",
      "SearchBayesianSkopt: Testing config: {'shrink': 10, 'topK': 200, 'feature_weighting': 'TF-IDF', 'normalize': True, 'ICM_weight': 5}\n",
      "SearchBayesianSkopt: Config 248 was already explored at index 160. Config: {'shrink': 10, 'topK': 200, 'feature_weighting': 'TF-IDF', 'normalize': True, 'ICM_weight': 5} - results: PRECISION: 0.3496335, PRECISION_RECALL_MIN_DEN: 0.3513392, RECALL: 0.0601305, MAP: 0.2125084, MAP_MIN_DEN: 0.2132577, MRR: 0.6172657, NDCG: 0.3689270, F1: 0.1026133, HIT_RATE: 0.9536793, ARHR_ALL_HITS: 1.1268567, NOVELTY: 0.0053134, AVERAGE_POPULARITY: 0.6560807, DIVERSITY_MEAN_INTER_LIST: 0.8145055, DIVERSITY_HERFINDAHL: 0.9814446, COVERAGE_ITEM: 0.0491168, COVERAGE_ITEM_CORRECT: 0.0275209, COVERAGE_USER: 0.9995604, COVERAGE_USER_CORRECT: 0.9532601, DIVERSITY_GINI: 0.0039384, SHANNON_ENTROPY: 6.4102591, RATIO_DIVERSITY_HERFINDAHL: 0.9818236, RATIO_DIVERSITY_GINI: 0.0158871, RATIO_SHANNON_ENTROPY: 0.5173891, RATIO_AVERAGE_POPULARITY: 3.2381591, RATIO_NOVELTY: 0.0250004, \n",
      "\n"
     ]
    },
    {
     "name": "stderr",
     "output_type": "stream",
     "text": [
      "C:\\Users\\marti\\miniconda3\\envs\\RecSys\\lib\\site-packages\\skopt\\optimizer\\optimizer.py:449: UserWarning: The objective has been evaluated at this point before.\n",
      "  warnings.warn(\"The objective has been evaluated \"\n"
     ]
    },
    {
     "name": "stdout",
     "output_type": "stream",
     "text": [
      "Iteration No: 249 ended. Search finished for the next optimal point.\n",
      "Time taken: 4.5590\n",
      "Function value obtained: -0.2125\n",
      "Current minimum: -0.2127\n",
      "Iteration No: 250 started. Searching for the next optimal point.\n",
      "SearchBayesianSkopt: Testing config: {'shrink': 10, 'topK': 200, 'feature_weighting': 'TF-IDF', 'normalize': True, 'ICM_weight': 5}\n",
      "SearchBayesianSkopt: Config 249 was already explored at index 160. Config: {'shrink': 10, 'topK': 200, 'feature_weighting': 'TF-IDF', 'normalize': True, 'ICM_weight': 5} - results: PRECISION: 0.3496335, PRECISION_RECALL_MIN_DEN: 0.3513392, RECALL: 0.0601305, MAP: 0.2125084, MAP_MIN_DEN: 0.2132577, MRR: 0.6172657, NDCG: 0.3689270, F1: 0.1026133, HIT_RATE: 0.9536793, ARHR_ALL_HITS: 1.1268567, NOVELTY: 0.0053134, AVERAGE_POPULARITY: 0.6560807, DIVERSITY_MEAN_INTER_LIST: 0.8145055, DIVERSITY_HERFINDAHL: 0.9814446, COVERAGE_ITEM: 0.0491168, COVERAGE_ITEM_CORRECT: 0.0275209, COVERAGE_USER: 0.9995604, COVERAGE_USER_CORRECT: 0.9532601, DIVERSITY_GINI: 0.0039384, SHANNON_ENTROPY: 6.4102591, RATIO_DIVERSITY_HERFINDAHL: 0.9818236, RATIO_DIVERSITY_GINI: 0.0158871, RATIO_SHANNON_ENTROPY: 0.5173891, RATIO_AVERAGE_POPULARITY: 3.2381591, RATIO_NOVELTY: 0.0250004, \n",
      "\n"
     ]
    },
    {
     "name": "stderr",
     "output_type": "stream",
     "text": [
      "C:\\Users\\marti\\miniconda3\\envs\\RecSys\\lib\\site-packages\\skopt\\optimizer\\optimizer.py:449: UserWarning: The objective has been evaluated at this point before.\n",
      "  warnings.warn(\"The objective has been evaluated \"\n"
     ]
    },
    {
     "name": "stdout",
     "output_type": "stream",
     "text": [
      "Iteration No: 250 ended. Search finished for the next optimal point.\n",
      "Time taken: 4.6190\n",
      "Function value obtained: -0.2125\n",
      "Current minimum: -0.2127\n",
      "Iteration No: 251 started. Searching for the next optimal point.\n",
      "SearchBayesianSkopt: Testing config: {'shrink': 10, 'topK': 200, 'feature_weighting': 'TF-IDF', 'normalize': True, 'ICM_weight': 5}\n",
      "SearchBayesianSkopt: Config 250 was already explored at index 160. Config: {'shrink': 10, 'topK': 200, 'feature_weighting': 'TF-IDF', 'normalize': True, 'ICM_weight': 5} - results: PRECISION: 0.3496335, PRECISION_RECALL_MIN_DEN: 0.3513392, RECALL: 0.0601305, MAP: 0.2125084, MAP_MIN_DEN: 0.2132577, MRR: 0.6172657, NDCG: 0.3689270, F1: 0.1026133, HIT_RATE: 0.9536793, ARHR_ALL_HITS: 1.1268567, NOVELTY: 0.0053134, AVERAGE_POPULARITY: 0.6560807, DIVERSITY_MEAN_INTER_LIST: 0.8145055, DIVERSITY_HERFINDAHL: 0.9814446, COVERAGE_ITEM: 0.0491168, COVERAGE_ITEM_CORRECT: 0.0275209, COVERAGE_USER: 0.9995604, COVERAGE_USER_CORRECT: 0.9532601, DIVERSITY_GINI: 0.0039384, SHANNON_ENTROPY: 6.4102591, RATIO_DIVERSITY_HERFINDAHL: 0.9818236, RATIO_DIVERSITY_GINI: 0.0158871, RATIO_SHANNON_ENTROPY: 0.5173891, RATIO_AVERAGE_POPULARITY: 3.2381591, RATIO_NOVELTY: 0.0250004, \n",
      "\n"
     ]
    },
    {
     "name": "stderr",
     "output_type": "stream",
     "text": [
      "C:\\Users\\marti\\miniconda3\\envs\\RecSys\\lib\\site-packages\\skopt\\optimizer\\optimizer.py:449: UserWarning: The objective has been evaluated at this point before.\n",
      "  warnings.warn(\"The objective has been evaluated \"\n"
     ]
    },
    {
     "name": "stdout",
     "output_type": "stream",
     "text": [
      "Iteration No: 251 ended. Search finished for the next optimal point.\n",
      "Time taken: 4.7010\n",
      "Function value obtained: -0.2125\n",
      "Current minimum: -0.2127\n",
      "Iteration No: 252 started. Searching for the next optimal point.\n",
      "SearchBayesianSkopt: Testing config: {'shrink': 10, 'topK': 200, 'feature_weighting': 'TF-IDF', 'normalize': True, 'ICM_weight': 5}\n",
      "SearchBayesianSkopt: Config 251 was already explored at index 160. Config: {'shrink': 10, 'topK': 200, 'feature_weighting': 'TF-IDF', 'normalize': True, 'ICM_weight': 5} - results: PRECISION: 0.3496335, PRECISION_RECALL_MIN_DEN: 0.3513392, RECALL: 0.0601305, MAP: 0.2125084, MAP_MIN_DEN: 0.2132577, MRR: 0.6172657, NDCG: 0.3689270, F1: 0.1026133, HIT_RATE: 0.9536793, ARHR_ALL_HITS: 1.1268567, NOVELTY: 0.0053134, AVERAGE_POPULARITY: 0.6560807, DIVERSITY_MEAN_INTER_LIST: 0.8145055, DIVERSITY_HERFINDAHL: 0.9814446, COVERAGE_ITEM: 0.0491168, COVERAGE_ITEM_CORRECT: 0.0275209, COVERAGE_USER: 0.9995604, COVERAGE_USER_CORRECT: 0.9532601, DIVERSITY_GINI: 0.0039384, SHANNON_ENTROPY: 6.4102591, RATIO_DIVERSITY_HERFINDAHL: 0.9818236, RATIO_DIVERSITY_GINI: 0.0158871, RATIO_SHANNON_ENTROPY: 0.5173891, RATIO_AVERAGE_POPULARITY: 3.2381591, RATIO_NOVELTY: 0.0250004, \n",
      "\n"
     ]
    },
    {
     "name": "stderr",
     "output_type": "stream",
     "text": [
      "C:\\Users\\marti\\miniconda3\\envs\\RecSys\\lib\\site-packages\\skopt\\optimizer\\optimizer.py:449: UserWarning: The objective has been evaluated at this point before.\n",
      "  warnings.warn(\"The objective has been evaluated \"\n"
     ]
    },
    {
     "name": "stdout",
     "output_type": "stream",
     "text": [
      "Iteration No: 252 ended. Search finished for the next optimal point.\n",
      "Time taken: 4.9651\n",
      "Function value obtained: -0.2125\n",
      "Current minimum: -0.2127\n",
      "Iteration No: 253 started. Searching for the next optimal point.\n",
      "SearchBayesianSkopt: Testing config: {'shrink': 10, 'topK': 200, 'feature_weighting': 'TF-IDF', 'normalize': True, 'ICM_weight': 5}\n",
      "SearchBayesianSkopt: Config 252 was already explored at index 160. Config: {'shrink': 10, 'topK': 200, 'feature_weighting': 'TF-IDF', 'normalize': True, 'ICM_weight': 5} - results: PRECISION: 0.3496335, PRECISION_RECALL_MIN_DEN: 0.3513392, RECALL: 0.0601305, MAP: 0.2125084, MAP_MIN_DEN: 0.2132577, MRR: 0.6172657, NDCG: 0.3689270, F1: 0.1026133, HIT_RATE: 0.9536793, ARHR_ALL_HITS: 1.1268567, NOVELTY: 0.0053134, AVERAGE_POPULARITY: 0.6560807, DIVERSITY_MEAN_INTER_LIST: 0.8145055, DIVERSITY_HERFINDAHL: 0.9814446, COVERAGE_ITEM: 0.0491168, COVERAGE_ITEM_CORRECT: 0.0275209, COVERAGE_USER: 0.9995604, COVERAGE_USER_CORRECT: 0.9532601, DIVERSITY_GINI: 0.0039384, SHANNON_ENTROPY: 6.4102591, RATIO_DIVERSITY_HERFINDAHL: 0.9818236, RATIO_DIVERSITY_GINI: 0.0158871, RATIO_SHANNON_ENTROPY: 0.5173891, RATIO_AVERAGE_POPULARITY: 3.2381591, RATIO_NOVELTY: 0.0250004, \n",
      "\n"
     ]
    },
    {
     "name": "stderr",
     "output_type": "stream",
     "text": [
      "C:\\Users\\marti\\miniconda3\\envs\\RecSys\\lib\\site-packages\\skopt\\optimizer\\optimizer.py:449: UserWarning: The objective has been evaluated at this point before.\n",
      "  warnings.warn(\"The objective has been evaluated \"\n"
     ]
    },
    {
     "name": "stdout",
     "output_type": "stream",
     "text": [
      "Iteration No: 253 ended. Search finished for the next optimal point.\n",
      "Time taken: 4.8581\n",
      "Function value obtained: -0.2125\n",
      "Current minimum: -0.2127\n",
      "Iteration No: 254 started. Searching for the next optimal point.\n",
      "SearchBayesianSkopt: Testing config: {'shrink': 10, 'topK': 200, 'feature_weighting': 'TF-IDF', 'normalize': True, 'ICM_weight': 5}\n",
      "SearchBayesianSkopt: Config 253 was already explored at index 160. Config: {'shrink': 10, 'topK': 200, 'feature_weighting': 'TF-IDF', 'normalize': True, 'ICM_weight': 5} - results: PRECISION: 0.3496335, PRECISION_RECALL_MIN_DEN: 0.3513392, RECALL: 0.0601305, MAP: 0.2125084, MAP_MIN_DEN: 0.2132577, MRR: 0.6172657, NDCG: 0.3689270, F1: 0.1026133, HIT_RATE: 0.9536793, ARHR_ALL_HITS: 1.1268567, NOVELTY: 0.0053134, AVERAGE_POPULARITY: 0.6560807, DIVERSITY_MEAN_INTER_LIST: 0.8145055, DIVERSITY_HERFINDAHL: 0.9814446, COVERAGE_ITEM: 0.0491168, COVERAGE_ITEM_CORRECT: 0.0275209, COVERAGE_USER: 0.9995604, COVERAGE_USER_CORRECT: 0.9532601, DIVERSITY_GINI: 0.0039384, SHANNON_ENTROPY: 6.4102591, RATIO_DIVERSITY_HERFINDAHL: 0.9818236, RATIO_DIVERSITY_GINI: 0.0158871, RATIO_SHANNON_ENTROPY: 0.5173891, RATIO_AVERAGE_POPULARITY: 3.2381591, RATIO_NOVELTY: 0.0250004, \n",
      "\n"
     ]
    },
    {
     "name": "stderr",
     "output_type": "stream",
     "text": [
      "C:\\Users\\marti\\miniconda3\\envs\\RecSys\\lib\\site-packages\\skopt\\optimizer\\optimizer.py:449: UserWarning: The objective has been evaluated at this point before.\n",
      "  warnings.warn(\"The objective has been evaluated \"\n"
     ]
    },
    {
     "name": "stdout",
     "output_type": "stream",
     "text": [
      "Iteration No: 254 ended. Search finished for the next optimal point.\n",
      "Time taken: 4.9721\n",
      "Function value obtained: -0.2125\n",
      "Current minimum: -0.2127\n",
      "Iteration No: 255 started. Searching for the next optimal point.\n",
      "SearchBayesianSkopt: Testing config: {'shrink': 10, 'topK': 1000, 'feature_weighting': 'TF-IDF', 'normalize': True, 'ICM_weight': 145}\n",
      "ItemKNN_CFCBF_HybridRecommender: URM Detected 1 ( 0.0%) items with no interactions.\n",
      "ItemKNN_CFCBF_HybridRecommender: ICM Detected 559 ( 3.1%) items with no features.\n",
      "Similarity column 18059 (100.0%), 1502.32 column/sec. Elapsed time 12.02 sec\n",
      "EvaluatorHoldout: Processed 13644 (100.0%) in 16.48 sec. Users per second: 828\n",
      "SearchBayesianSkopt: Config 254 is suboptimal. Config: {'shrink': 10, 'topK': 1000, 'feature_weighting': 'TF-IDF', 'normalize': True, 'ICM_weight': 145} - results: PRECISION: 0.3355028, PRECISION_RECALL_MIN_DEN: 0.3367762, RECALL: 0.0563154, MAP: 0.2030631, MAP_MIN_DEN: 0.2036340, MRR: 0.6072552, NDCG: 0.3557661, F1: 0.0964426, HIT_RATE: 0.9440780, ARHR_ALL_HITS: 1.0921848, NOVELTY: 0.0052955, AVERAGE_POPULARITY: 0.6870225, DIVERSITY_MEAN_INTER_LIST: 0.7573098, DIVERSITY_HERFINDAHL: 0.9757254, COVERAGE_ITEM: 0.0466250, COVERAGE_ITEM_CORRECT: 0.0213190, COVERAGE_USER: 0.9995604, COVERAGE_USER_CORRECT: 0.9436630, DIVERSITY_GINI: 0.0028403, SHANNON_ENTROPY: 5.9036926, RATIO_DIVERSITY_HERFINDAHL: 0.9761023, RATIO_DIVERSITY_GINI: 0.0114573, RATIO_SHANNON_ENTROPY: 0.4765028, RATIO_AVERAGE_POPULARITY: 3.3908758, RATIO_NOVELTY: 0.0249164, \n",
      "\n",
      "Iteration No: 255 ended. Search finished for the next optimal point.\n",
      "Time taken: 34.5858\n",
      "Function value obtained: -0.2031\n",
      "Current minimum: -0.2127\n",
      "Iteration No: 256 started. Searching for the next optimal point.\n",
      "SearchBayesianSkopt: Testing config: {'shrink': 10, 'topK': 200, 'feature_weighting': 'TF-IDF', 'normalize': True, 'ICM_weight': 5}\n",
      "SearchBayesianSkopt: Config 255 was already explored at index 160. Config: {'shrink': 10, 'topK': 200, 'feature_weighting': 'TF-IDF', 'normalize': True, 'ICM_weight': 5} - results: PRECISION: 0.3496335, PRECISION_RECALL_MIN_DEN: 0.3513392, RECALL: 0.0601305, MAP: 0.2125084, MAP_MIN_DEN: 0.2132577, MRR: 0.6172657, NDCG: 0.3689270, F1: 0.1026133, HIT_RATE: 0.9536793, ARHR_ALL_HITS: 1.1268567, NOVELTY: 0.0053134, AVERAGE_POPULARITY: 0.6560807, DIVERSITY_MEAN_INTER_LIST: 0.8145055, DIVERSITY_HERFINDAHL: 0.9814446, COVERAGE_ITEM: 0.0491168, COVERAGE_ITEM_CORRECT: 0.0275209, COVERAGE_USER: 0.9995604, COVERAGE_USER_CORRECT: 0.9532601, DIVERSITY_GINI: 0.0039384, SHANNON_ENTROPY: 6.4102591, RATIO_DIVERSITY_HERFINDAHL: 0.9818236, RATIO_DIVERSITY_GINI: 0.0158871, RATIO_SHANNON_ENTROPY: 0.5173891, RATIO_AVERAGE_POPULARITY: 3.2381591, RATIO_NOVELTY: 0.0250004, \n",
      "\n"
     ]
    },
    {
     "name": "stderr",
     "output_type": "stream",
     "text": [
      "C:\\Users\\marti\\miniconda3\\envs\\RecSys\\lib\\site-packages\\skopt\\optimizer\\optimizer.py:449: UserWarning: The objective has been evaluated at this point before.\n",
      "  warnings.warn(\"The objective has been evaluated \"\n"
     ]
    },
    {
     "name": "stdout",
     "output_type": "stream",
     "text": [
      "Iteration No: 256 ended. Search finished for the next optimal point.\n",
      "Time taken: 5.2132\n",
      "Function value obtained: -0.2125\n",
      "Current minimum: -0.2127\n",
      "Iteration No: 257 started. Searching for the next optimal point.\n",
      "SearchBayesianSkopt: Testing config: {'shrink': 10, 'topK': 200, 'feature_weighting': 'TF-IDF', 'normalize': True, 'ICM_weight': 5}\n",
      "SearchBayesianSkopt: Config 256 was already explored at index 160. Config: {'shrink': 10, 'topK': 200, 'feature_weighting': 'TF-IDF', 'normalize': True, 'ICM_weight': 5} - results: PRECISION: 0.3496335, PRECISION_RECALL_MIN_DEN: 0.3513392, RECALL: 0.0601305, MAP: 0.2125084, MAP_MIN_DEN: 0.2132577, MRR: 0.6172657, NDCG: 0.3689270, F1: 0.1026133, HIT_RATE: 0.9536793, ARHR_ALL_HITS: 1.1268567, NOVELTY: 0.0053134, AVERAGE_POPULARITY: 0.6560807, DIVERSITY_MEAN_INTER_LIST: 0.8145055, DIVERSITY_HERFINDAHL: 0.9814446, COVERAGE_ITEM: 0.0491168, COVERAGE_ITEM_CORRECT: 0.0275209, COVERAGE_USER: 0.9995604, COVERAGE_USER_CORRECT: 0.9532601, DIVERSITY_GINI: 0.0039384, SHANNON_ENTROPY: 6.4102591, RATIO_DIVERSITY_HERFINDAHL: 0.9818236, RATIO_DIVERSITY_GINI: 0.0158871, RATIO_SHANNON_ENTROPY: 0.5173891, RATIO_AVERAGE_POPULARITY: 3.2381591, RATIO_NOVELTY: 0.0250004, \n",
      "\n"
     ]
    },
    {
     "name": "stderr",
     "output_type": "stream",
     "text": [
      "C:\\Users\\marti\\miniconda3\\envs\\RecSys\\lib\\site-packages\\skopt\\optimizer\\optimizer.py:449: UserWarning: The objective has been evaluated at this point before.\n",
      "  warnings.warn(\"The objective has been evaluated \"\n"
     ]
    },
    {
     "name": "stdout",
     "output_type": "stream",
     "text": [
      "Iteration No: 257 ended. Search finished for the next optimal point.\n",
      "Time taken: 5.1452\n",
      "Function value obtained: -0.2125\n",
      "Current minimum: -0.2127\n",
      "Iteration No: 258 started. Searching for the next optimal point.\n",
      "SearchBayesianSkopt: Testing config: {'shrink': 10, 'topK': 200, 'feature_weighting': 'TF-IDF', 'normalize': True, 'ICM_weight': 5}\n",
      "SearchBayesianSkopt: Config 257 was already explored at index 160. Config: {'shrink': 10, 'topK': 200, 'feature_weighting': 'TF-IDF', 'normalize': True, 'ICM_weight': 5} - results: PRECISION: 0.3496335, PRECISION_RECALL_MIN_DEN: 0.3513392, RECALL: 0.0601305, MAP: 0.2125084, MAP_MIN_DEN: 0.2132577, MRR: 0.6172657, NDCG: 0.3689270, F1: 0.1026133, HIT_RATE: 0.9536793, ARHR_ALL_HITS: 1.1268567, NOVELTY: 0.0053134, AVERAGE_POPULARITY: 0.6560807, DIVERSITY_MEAN_INTER_LIST: 0.8145055, DIVERSITY_HERFINDAHL: 0.9814446, COVERAGE_ITEM: 0.0491168, COVERAGE_ITEM_CORRECT: 0.0275209, COVERAGE_USER: 0.9995604, COVERAGE_USER_CORRECT: 0.9532601, DIVERSITY_GINI: 0.0039384, SHANNON_ENTROPY: 6.4102591, RATIO_DIVERSITY_HERFINDAHL: 0.9818236, RATIO_DIVERSITY_GINI: 0.0158871, RATIO_SHANNON_ENTROPY: 0.5173891, RATIO_AVERAGE_POPULARITY: 3.2381591, RATIO_NOVELTY: 0.0250004, \n",
      "\n"
     ]
    },
    {
     "name": "stderr",
     "output_type": "stream",
     "text": [
      "C:\\Users\\marti\\miniconda3\\envs\\RecSys\\lib\\site-packages\\skopt\\optimizer\\optimizer.py:449: UserWarning: The objective has been evaluated at this point before.\n",
      "  warnings.warn(\"The objective has been evaluated \"\n"
     ]
    },
    {
     "name": "stdout",
     "output_type": "stream",
     "text": [
      "Iteration No: 258 ended. Search finished for the next optimal point.\n",
      "Time taken: 5.0581\n",
      "Function value obtained: -0.2125\n",
      "Current minimum: -0.2127\n",
      "Iteration No: 259 started. Searching for the next optimal point.\n",
      "SearchBayesianSkopt: Testing config: {'shrink': 10, 'topK': 200, 'feature_weighting': 'TF-IDF', 'normalize': True, 'ICM_weight': 5}\n",
      "SearchBayesianSkopt: Config 258 was already explored at index 160. Config: {'shrink': 10, 'topK': 200, 'feature_weighting': 'TF-IDF', 'normalize': True, 'ICM_weight': 5} - results: PRECISION: 0.3496335, PRECISION_RECALL_MIN_DEN: 0.3513392, RECALL: 0.0601305, MAP: 0.2125084, MAP_MIN_DEN: 0.2132577, MRR: 0.6172657, NDCG: 0.3689270, F1: 0.1026133, HIT_RATE: 0.9536793, ARHR_ALL_HITS: 1.1268567, NOVELTY: 0.0053134, AVERAGE_POPULARITY: 0.6560807, DIVERSITY_MEAN_INTER_LIST: 0.8145055, DIVERSITY_HERFINDAHL: 0.9814446, COVERAGE_ITEM: 0.0491168, COVERAGE_ITEM_CORRECT: 0.0275209, COVERAGE_USER: 0.9995604, COVERAGE_USER_CORRECT: 0.9532601, DIVERSITY_GINI: 0.0039384, SHANNON_ENTROPY: 6.4102591, RATIO_DIVERSITY_HERFINDAHL: 0.9818236, RATIO_DIVERSITY_GINI: 0.0158871, RATIO_SHANNON_ENTROPY: 0.5173891, RATIO_AVERAGE_POPULARITY: 3.2381591, RATIO_NOVELTY: 0.0250004, \n",
      "\n"
     ]
    },
    {
     "name": "stderr",
     "output_type": "stream",
     "text": [
      "C:\\Users\\marti\\miniconda3\\envs\\RecSys\\lib\\site-packages\\skopt\\optimizer\\optimizer.py:449: UserWarning: The objective has been evaluated at this point before.\n",
      "  warnings.warn(\"The objective has been evaluated \"\n"
     ]
    },
    {
     "name": "stdout",
     "output_type": "stream",
     "text": [
      "Iteration No: 259 ended. Search finished for the next optimal point.\n",
      "Time taken: 5.1932\n",
      "Function value obtained: -0.2125\n",
      "Current minimum: -0.2127\n",
      "Iteration No: 260 started. Searching for the next optimal point.\n",
      "SearchBayesianSkopt: Testing config: {'shrink': 10, 'topK': 200, 'feature_weighting': 'TF-IDF', 'normalize': True, 'ICM_weight': 5}\n",
      "SearchBayesianSkopt: Config 259 was already explored at index 160. Config: {'shrink': 10, 'topK': 200, 'feature_weighting': 'TF-IDF', 'normalize': True, 'ICM_weight': 5} - results: PRECISION: 0.3496335, PRECISION_RECALL_MIN_DEN: 0.3513392, RECALL: 0.0601305, MAP: 0.2125084, MAP_MIN_DEN: 0.2132577, MRR: 0.6172657, NDCG: 0.3689270, F1: 0.1026133, HIT_RATE: 0.9536793, ARHR_ALL_HITS: 1.1268567, NOVELTY: 0.0053134, AVERAGE_POPULARITY: 0.6560807, DIVERSITY_MEAN_INTER_LIST: 0.8145055, DIVERSITY_HERFINDAHL: 0.9814446, COVERAGE_ITEM: 0.0491168, COVERAGE_ITEM_CORRECT: 0.0275209, COVERAGE_USER: 0.9995604, COVERAGE_USER_CORRECT: 0.9532601, DIVERSITY_GINI: 0.0039384, SHANNON_ENTROPY: 6.4102591, RATIO_DIVERSITY_HERFINDAHL: 0.9818236, RATIO_DIVERSITY_GINI: 0.0158871, RATIO_SHANNON_ENTROPY: 0.5173891, RATIO_AVERAGE_POPULARITY: 3.2381591, RATIO_NOVELTY: 0.0250004, \n",
      "\n"
     ]
    },
    {
     "name": "stderr",
     "output_type": "stream",
     "text": [
      "C:\\Users\\marti\\miniconda3\\envs\\RecSys\\lib\\site-packages\\skopt\\optimizer\\optimizer.py:449: UserWarning: The objective has been evaluated at this point before.\n",
      "  warnings.warn(\"The objective has been evaluated \"\n"
     ]
    },
    {
     "name": "stdout",
     "output_type": "stream",
     "text": [
      "Iteration No: 260 ended. Search finished for the next optimal point.\n",
      "Time taken: 5.2012\n",
      "Function value obtained: -0.2125\n",
      "Current minimum: -0.2127\n",
      "Iteration No: 261 started. Searching for the next optimal point.\n",
      "SearchBayesianSkopt: Testing config: {'shrink': 10, 'topK': 200, 'feature_weighting': 'TF-IDF', 'normalize': True, 'ICM_weight': 5}\n",
      "SearchBayesianSkopt: Config 260 was already explored at index 160. Config: {'shrink': 10, 'topK': 200, 'feature_weighting': 'TF-IDF', 'normalize': True, 'ICM_weight': 5} - results: PRECISION: 0.3496335, PRECISION_RECALL_MIN_DEN: 0.3513392, RECALL: 0.0601305, MAP: 0.2125084, MAP_MIN_DEN: 0.2132577, MRR: 0.6172657, NDCG: 0.3689270, F1: 0.1026133, HIT_RATE: 0.9536793, ARHR_ALL_HITS: 1.1268567, NOVELTY: 0.0053134, AVERAGE_POPULARITY: 0.6560807, DIVERSITY_MEAN_INTER_LIST: 0.8145055, DIVERSITY_HERFINDAHL: 0.9814446, COVERAGE_ITEM: 0.0491168, COVERAGE_ITEM_CORRECT: 0.0275209, COVERAGE_USER: 0.9995604, COVERAGE_USER_CORRECT: 0.9532601, DIVERSITY_GINI: 0.0039384, SHANNON_ENTROPY: 6.4102591, RATIO_DIVERSITY_HERFINDAHL: 0.9818236, RATIO_DIVERSITY_GINI: 0.0158871, RATIO_SHANNON_ENTROPY: 0.5173891, RATIO_AVERAGE_POPULARITY: 3.2381591, RATIO_NOVELTY: 0.0250004, \n",
      "\n"
     ]
    },
    {
     "name": "stderr",
     "output_type": "stream",
     "text": [
      "C:\\Users\\marti\\miniconda3\\envs\\RecSys\\lib\\site-packages\\skopt\\optimizer\\optimizer.py:449: UserWarning: The objective has been evaluated at this point before.\n",
      "  warnings.warn(\"The objective has been evaluated \"\n"
     ]
    },
    {
     "name": "stdout",
     "output_type": "stream",
     "text": [
      "Iteration No: 261 ended. Search finished for the next optimal point.\n",
      "Time taken: 5.2612\n",
      "Function value obtained: -0.2125\n",
      "Current minimum: -0.2127\n",
      "Iteration No: 262 started. Searching for the next optimal point.\n",
      "SearchBayesianSkopt: Testing config: {'shrink': 10, 'topK': 200, 'feature_weighting': 'TF-IDF', 'normalize': True, 'ICM_weight': 5}\n",
      "SearchBayesianSkopt: Config 261 was already explored at index 160. Config: {'shrink': 10, 'topK': 200, 'feature_weighting': 'TF-IDF', 'normalize': True, 'ICM_weight': 5} - results: PRECISION: 0.3496335, PRECISION_RECALL_MIN_DEN: 0.3513392, RECALL: 0.0601305, MAP: 0.2125084, MAP_MIN_DEN: 0.2132577, MRR: 0.6172657, NDCG: 0.3689270, F1: 0.1026133, HIT_RATE: 0.9536793, ARHR_ALL_HITS: 1.1268567, NOVELTY: 0.0053134, AVERAGE_POPULARITY: 0.6560807, DIVERSITY_MEAN_INTER_LIST: 0.8145055, DIVERSITY_HERFINDAHL: 0.9814446, COVERAGE_ITEM: 0.0491168, COVERAGE_ITEM_CORRECT: 0.0275209, COVERAGE_USER: 0.9995604, COVERAGE_USER_CORRECT: 0.9532601, DIVERSITY_GINI: 0.0039384, SHANNON_ENTROPY: 6.4102591, RATIO_DIVERSITY_HERFINDAHL: 0.9818236, RATIO_DIVERSITY_GINI: 0.0158871, RATIO_SHANNON_ENTROPY: 0.5173891, RATIO_AVERAGE_POPULARITY: 3.2381591, RATIO_NOVELTY: 0.0250004, \n",
      "\n"
     ]
    },
    {
     "name": "stderr",
     "output_type": "stream",
     "text": [
      "C:\\Users\\marti\\miniconda3\\envs\\RecSys\\lib\\site-packages\\skopt\\optimizer\\optimizer.py:449: UserWarning: The objective has been evaluated at this point before.\n",
      "  warnings.warn(\"The objective has been evaluated \"\n"
     ]
    },
    {
     "name": "stdout",
     "output_type": "stream",
     "text": [
      "Iteration No: 262 ended. Search finished for the next optimal point.\n",
      "Time taken: 5.3822\n",
      "Function value obtained: -0.2125\n",
      "Current minimum: -0.2127\n",
      "Iteration No: 263 started. Searching for the next optimal point.\n",
      "SearchBayesianSkopt: Testing config: {'shrink': 10, 'topK': 200, 'feature_weighting': 'TF-IDF', 'normalize': True, 'ICM_weight': 5}\n",
      "SearchBayesianSkopt: Config 262 was already explored at index 160. Config: {'shrink': 10, 'topK': 200, 'feature_weighting': 'TF-IDF', 'normalize': True, 'ICM_weight': 5} - results: PRECISION: 0.3496335, PRECISION_RECALL_MIN_DEN: 0.3513392, RECALL: 0.0601305, MAP: 0.2125084, MAP_MIN_DEN: 0.2132577, MRR: 0.6172657, NDCG: 0.3689270, F1: 0.1026133, HIT_RATE: 0.9536793, ARHR_ALL_HITS: 1.1268567, NOVELTY: 0.0053134, AVERAGE_POPULARITY: 0.6560807, DIVERSITY_MEAN_INTER_LIST: 0.8145055, DIVERSITY_HERFINDAHL: 0.9814446, COVERAGE_ITEM: 0.0491168, COVERAGE_ITEM_CORRECT: 0.0275209, COVERAGE_USER: 0.9995604, COVERAGE_USER_CORRECT: 0.9532601, DIVERSITY_GINI: 0.0039384, SHANNON_ENTROPY: 6.4102591, RATIO_DIVERSITY_HERFINDAHL: 0.9818236, RATIO_DIVERSITY_GINI: 0.0158871, RATIO_SHANNON_ENTROPY: 0.5173891, RATIO_AVERAGE_POPULARITY: 3.2381591, RATIO_NOVELTY: 0.0250004, \n",
      "\n"
     ]
    },
    {
     "name": "stderr",
     "output_type": "stream",
     "text": [
      "C:\\Users\\marti\\miniconda3\\envs\\RecSys\\lib\\site-packages\\skopt\\optimizer\\optimizer.py:449: UserWarning: The objective has been evaluated at this point before.\n",
      "  warnings.warn(\"The objective has been evaluated \"\n"
     ]
    },
    {
     "name": "stdout",
     "output_type": "stream",
     "text": [
      "Iteration No: 263 ended. Search finished for the next optimal point.\n",
      "Time taken: 5.3602\n",
      "Function value obtained: -0.2125\n",
      "Current minimum: -0.2127\n",
      "Iteration No: 264 started. Searching for the next optimal point.\n",
      "SearchBayesianSkopt: Testing config: {'shrink': 10, 'topK': 200, 'feature_weighting': 'TF-IDF', 'normalize': True, 'ICM_weight': 5}\n",
      "SearchBayesianSkopt: Config 263 was already explored at index 160. Config: {'shrink': 10, 'topK': 200, 'feature_weighting': 'TF-IDF', 'normalize': True, 'ICM_weight': 5} - results: PRECISION: 0.3496335, PRECISION_RECALL_MIN_DEN: 0.3513392, RECALL: 0.0601305, MAP: 0.2125084, MAP_MIN_DEN: 0.2132577, MRR: 0.6172657, NDCG: 0.3689270, F1: 0.1026133, HIT_RATE: 0.9536793, ARHR_ALL_HITS: 1.1268567, NOVELTY: 0.0053134, AVERAGE_POPULARITY: 0.6560807, DIVERSITY_MEAN_INTER_LIST: 0.8145055, DIVERSITY_HERFINDAHL: 0.9814446, COVERAGE_ITEM: 0.0491168, COVERAGE_ITEM_CORRECT: 0.0275209, COVERAGE_USER: 0.9995604, COVERAGE_USER_CORRECT: 0.9532601, DIVERSITY_GINI: 0.0039384, SHANNON_ENTROPY: 6.4102591, RATIO_DIVERSITY_HERFINDAHL: 0.9818236, RATIO_DIVERSITY_GINI: 0.0158871, RATIO_SHANNON_ENTROPY: 0.5173891, RATIO_AVERAGE_POPULARITY: 3.2381591, RATIO_NOVELTY: 0.0250004, \n",
      "\n"
     ]
    },
    {
     "name": "stderr",
     "output_type": "stream",
     "text": [
      "C:\\Users\\marti\\miniconda3\\envs\\RecSys\\lib\\site-packages\\skopt\\optimizer\\optimizer.py:449: UserWarning: The objective has been evaluated at this point before.\n",
      "  warnings.warn(\"The objective has been evaluated \"\n"
     ]
    },
    {
     "name": "stdout",
     "output_type": "stream",
     "text": [
      "Iteration No: 264 ended. Search finished for the next optimal point.\n",
      "Time taken: 5.0701\n",
      "Function value obtained: -0.2125\n",
      "Current minimum: -0.2127\n",
      "Iteration No: 265 started. Searching for the next optimal point.\n",
      "SearchBayesianSkopt: Testing config: {'shrink': 95, 'topK': 200, 'feature_weighting': 'TF-IDF', 'normalize': True, 'ICM_weight': 5}\n",
      "ItemKNN_CFCBF_HybridRecommender: URM Detected 1 ( 0.0%) items with no interactions.\n",
      "ItemKNN_CFCBF_HybridRecommender: ICM Detected 559 ( 3.1%) items with no features.\n",
      "Similarity column 18059 (100.0%), 1580.87 column/sec. Elapsed time 11.42 sec\n",
      "EvaluatorHoldout: Processed 13644 (100.0%) in 15.17 sec. Users per second: 899\n",
      "SearchBayesianSkopt: Config 264 is suboptimal. Config: {'shrink': 95, 'topK': 200, 'feature_weighting': 'TF-IDF', 'normalize': True, 'ICM_weight': 5} - results: PRECISION: 0.3493843, PRECISION_RECALL_MIN_DEN: 0.3510918, RECALL: 0.0601042, MAP: 0.2123667, MAP_MIN_DEN: 0.2131165, MRR: 0.6178127, NDCG: 0.3687723, F1: 0.1025644, HIT_RATE: 0.9536793, ARHR_ALL_HITS: 1.1266992, NOVELTY: 0.0053110, AVERAGE_POPULARITY: 0.6567251, DIVERSITY_MEAN_INTER_LIST: 0.8139413, DIVERSITY_HERFINDAHL: 0.9813882, COVERAGE_ITEM: 0.0478432, COVERAGE_ITEM_CORRECT: 0.0269118, COVERAGE_USER: 0.9995604, COVERAGE_USER_CORRECT: 0.9532601, DIVERSITY_GINI: 0.0039007, SHANNON_ENTROPY: 6.4016477, RATIO_DIVERSITY_HERFINDAHL: 0.9817672, RATIO_DIVERSITY_GINI: 0.0157347, RATIO_SHANNON_ENTROPY: 0.5166941, RATIO_AVERAGE_POPULARITY: 3.2413396, RATIO_NOVELTY: 0.0249896, \n",
      "\n",
      "Iteration No: 265 ended. Search finished for the next optimal point.\n",
      "Time taken: 32.7092\n",
      "Function value obtained: -0.2124\n",
      "Current minimum: -0.2127\n",
      "Iteration No: 266 started. Searching for the next optimal point.\n",
      "SearchBayesianSkopt: Testing config: {'shrink': 10, 'topK': 200, 'feature_weighting': 'TF-IDF', 'normalize': True, 'ICM_weight': 5}\n",
      "SearchBayesianSkopt: Config 265 was already explored at index 160. Config: {'shrink': 10, 'topK': 200, 'feature_weighting': 'TF-IDF', 'normalize': True, 'ICM_weight': 5} - results: PRECISION: 0.3496335, PRECISION_RECALL_MIN_DEN: 0.3513392, RECALL: 0.0601305, MAP: 0.2125084, MAP_MIN_DEN: 0.2132577, MRR: 0.6172657, NDCG: 0.3689270, F1: 0.1026133, HIT_RATE: 0.9536793, ARHR_ALL_HITS: 1.1268567, NOVELTY: 0.0053134, AVERAGE_POPULARITY: 0.6560807, DIVERSITY_MEAN_INTER_LIST: 0.8145055, DIVERSITY_HERFINDAHL: 0.9814446, COVERAGE_ITEM: 0.0491168, COVERAGE_ITEM_CORRECT: 0.0275209, COVERAGE_USER: 0.9995604, COVERAGE_USER_CORRECT: 0.9532601, DIVERSITY_GINI: 0.0039384, SHANNON_ENTROPY: 6.4102591, RATIO_DIVERSITY_HERFINDAHL: 0.9818236, RATIO_DIVERSITY_GINI: 0.0158871, RATIO_SHANNON_ENTROPY: 0.5173891, RATIO_AVERAGE_POPULARITY: 3.2381591, RATIO_NOVELTY: 0.0250004, \n",
      "\n"
     ]
    },
    {
     "name": "stderr",
     "output_type": "stream",
     "text": [
      "C:\\Users\\marti\\miniconda3\\envs\\RecSys\\lib\\site-packages\\skopt\\optimizer\\optimizer.py:449: UserWarning: The objective has been evaluated at this point before.\n",
      "  warnings.warn(\"The objective has been evaluated \"\n"
     ]
    },
    {
     "name": "stdout",
     "output_type": "stream",
     "text": [
      "Iteration No: 266 ended. Search finished for the next optimal point.\n",
      "Time taken: 5.5282\n",
      "Function value obtained: -0.2125\n",
      "Current minimum: -0.2127\n",
      "Iteration No: 267 started. Searching for the next optimal point.\n",
      "SearchBayesianSkopt: Testing config: {'shrink': 10, 'topK': 200, 'feature_weighting': 'TF-IDF', 'normalize': True, 'ICM_weight': 5}\n",
      "SearchBayesianSkopt: Config 266 was already explored at index 160. Config: {'shrink': 10, 'topK': 200, 'feature_weighting': 'TF-IDF', 'normalize': True, 'ICM_weight': 5} - results: PRECISION: 0.3496335, PRECISION_RECALL_MIN_DEN: 0.3513392, RECALL: 0.0601305, MAP: 0.2125084, MAP_MIN_DEN: 0.2132577, MRR: 0.6172657, NDCG: 0.3689270, F1: 0.1026133, HIT_RATE: 0.9536793, ARHR_ALL_HITS: 1.1268567, NOVELTY: 0.0053134, AVERAGE_POPULARITY: 0.6560807, DIVERSITY_MEAN_INTER_LIST: 0.8145055, DIVERSITY_HERFINDAHL: 0.9814446, COVERAGE_ITEM: 0.0491168, COVERAGE_ITEM_CORRECT: 0.0275209, COVERAGE_USER: 0.9995604, COVERAGE_USER_CORRECT: 0.9532601, DIVERSITY_GINI: 0.0039384, SHANNON_ENTROPY: 6.4102591, RATIO_DIVERSITY_HERFINDAHL: 0.9818236, RATIO_DIVERSITY_GINI: 0.0158871, RATIO_SHANNON_ENTROPY: 0.5173891, RATIO_AVERAGE_POPULARITY: 3.2381591, RATIO_NOVELTY: 0.0250004, \n",
      "\n"
     ]
    },
    {
     "name": "stderr",
     "output_type": "stream",
     "text": [
      "C:\\Users\\marti\\miniconda3\\envs\\RecSys\\lib\\site-packages\\skopt\\optimizer\\optimizer.py:449: UserWarning: The objective has been evaluated at this point before.\n",
      "  warnings.warn(\"The objective has been evaluated \"\n"
     ]
    },
    {
     "name": "stdout",
     "output_type": "stream",
     "text": [
      "Iteration No: 267 ended. Search finished for the next optimal point.\n",
      "Time taken: 5.7113\n",
      "Function value obtained: -0.2125\n",
      "Current minimum: -0.2127\n",
      "Iteration No: 268 started. Searching for the next optimal point.\n",
      "SearchBayesianSkopt: Testing config: {'shrink': 10, 'topK': 200, 'feature_weighting': 'TF-IDF', 'normalize': True, 'ICM_weight': 5}\n",
      "SearchBayesianSkopt: Config 267 was already explored at index 160. Config: {'shrink': 10, 'topK': 200, 'feature_weighting': 'TF-IDF', 'normalize': True, 'ICM_weight': 5} - results: PRECISION: 0.3496335, PRECISION_RECALL_MIN_DEN: 0.3513392, RECALL: 0.0601305, MAP: 0.2125084, MAP_MIN_DEN: 0.2132577, MRR: 0.6172657, NDCG: 0.3689270, F1: 0.1026133, HIT_RATE: 0.9536793, ARHR_ALL_HITS: 1.1268567, NOVELTY: 0.0053134, AVERAGE_POPULARITY: 0.6560807, DIVERSITY_MEAN_INTER_LIST: 0.8145055, DIVERSITY_HERFINDAHL: 0.9814446, COVERAGE_ITEM: 0.0491168, COVERAGE_ITEM_CORRECT: 0.0275209, COVERAGE_USER: 0.9995604, COVERAGE_USER_CORRECT: 0.9532601, DIVERSITY_GINI: 0.0039384, SHANNON_ENTROPY: 6.4102591, RATIO_DIVERSITY_HERFINDAHL: 0.9818236, RATIO_DIVERSITY_GINI: 0.0158871, RATIO_SHANNON_ENTROPY: 0.5173891, RATIO_AVERAGE_POPULARITY: 3.2381591, RATIO_NOVELTY: 0.0250004, \n",
      "\n"
     ]
    },
    {
     "name": "stderr",
     "output_type": "stream",
     "text": [
      "C:\\Users\\marti\\miniconda3\\envs\\RecSys\\lib\\site-packages\\skopt\\optimizer\\optimizer.py:449: UserWarning: The objective has been evaluated at this point before.\n",
      "  warnings.warn(\"The objective has been evaluated \"\n"
     ]
    },
    {
     "name": "stdout",
     "output_type": "stream",
     "text": [
      "Iteration No: 268 ended. Search finished for the next optimal point.\n",
      "Time taken: 5.6183\n",
      "Function value obtained: -0.2125\n",
      "Current minimum: -0.2127\n",
      "Iteration No: 269 started. Searching for the next optimal point.\n",
      "SearchBayesianSkopt: Testing config: {'shrink': 10, 'topK': 200, 'feature_weighting': 'TF-IDF', 'normalize': True, 'ICM_weight': 5}\n",
      "SearchBayesianSkopt: Config 268 was already explored at index 160. Config: {'shrink': 10, 'topK': 200, 'feature_weighting': 'TF-IDF', 'normalize': True, 'ICM_weight': 5} - results: PRECISION: 0.3496335, PRECISION_RECALL_MIN_DEN: 0.3513392, RECALL: 0.0601305, MAP: 0.2125084, MAP_MIN_DEN: 0.2132577, MRR: 0.6172657, NDCG: 0.3689270, F1: 0.1026133, HIT_RATE: 0.9536793, ARHR_ALL_HITS: 1.1268567, NOVELTY: 0.0053134, AVERAGE_POPULARITY: 0.6560807, DIVERSITY_MEAN_INTER_LIST: 0.8145055, DIVERSITY_HERFINDAHL: 0.9814446, COVERAGE_ITEM: 0.0491168, COVERAGE_ITEM_CORRECT: 0.0275209, COVERAGE_USER: 0.9995604, COVERAGE_USER_CORRECT: 0.9532601, DIVERSITY_GINI: 0.0039384, SHANNON_ENTROPY: 6.4102591, RATIO_DIVERSITY_HERFINDAHL: 0.9818236, RATIO_DIVERSITY_GINI: 0.0158871, RATIO_SHANNON_ENTROPY: 0.5173891, RATIO_AVERAGE_POPULARITY: 3.2381591, RATIO_NOVELTY: 0.0250004, \n",
      "\n"
     ]
    },
    {
     "name": "stderr",
     "output_type": "stream",
     "text": [
      "C:\\Users\\marti\\miniconda3\\envs\\RecSys\\lib\\site-packages\\skopt\\optimizer\\optimizer.py:449: UserWarning: The objective has been evaluated at this point before.\n",
      "  warnings.warn(\"The objective has been evaluated \"\n"
     ]
    },
    {
     "name": "stdout",
     "output_type": "stream",
     "text": [
      "Iteration No: 269 ended. Search finished for the next optimal point.\n",
      "Time taken: 6.1424\n",
      "Function value obtained: -0.2125\n",
      "Current minimum: -0.2127\n",
      "Iteration No: 270 started. Searching for the next optimal point.\n",
      "SearchBayesianSkopt: Testing config: {'shrink': 10, 'topK': 200, 'feature_weighting': 'TF-IDF', 'normalize': True, 'ICM_weight': 5}\n",
      "SearchBayesianSkopt: Config 269 was already explored at index 160. Config: {'shrink': 10, 'topK': 200, 'feature_weighting': 'TF-IDF', 'normalize': True, 'ICM_weight': 5} - results: PRECISION: 0.3496335, PRECISION_RECALL_MIN_DEN: 0.3513392, RECALL: 0.0601305, MAP: 0.2125084, MAP_MIN_DEN: 0.2132577, MRR: 0.6172657, NDCG: 0.3689270, F1: 0.1026133, HIT_RATE: 0.9536793, ARHR_ALL_HITS: 1.1268567, NOVELTY: 0.0053134, AVERAGE_POPULARITY: 0.6560807, DIVERSITY_MEAN_INTER_LIST: 0.8145055, DIVERSITY_HERFINDAHL: 0.9814446, COVERAGE_ITEM: 0.0491168, COVERAGE_ITEM_CORRECT: 0.0275209, COVERAGE_USER: 0.9995604, COVERAGE_USER_CORRECT: 0.9532601, DIVERSITY_GINI: 0.0039384, SHANNON_ENTROPY: 6.4102591, RATIO_DIVERSITY_HERFINDAHL: 0.9818236, RATIO_DIVERSITY_GINI: 0.0158871, RATIO_SHANNON_ENTROPY: 0.5173891, RATIO_AVERAGE_POPULARITY: 3.2381591, RATIO_NOVELTY: 0.0250004, \n",
      "\n"
     ]
    },
    {
     "name": "stderr",
     "output_type": "stream",
     "text": [
      "C:\\Users\\marti\\miniconda3\\envs\\RecSys\\lib\\site-packages\\skopt\\optimizer\\optimizer.py:449: UserWarning: The objective has been evaluated at this point before.\n",
      "  warnings.warn(\"The objective has been evaluated \"\n"
     ]
    },
    {
     "name": "stdout",
     "output_type": "stream",
     "text": [
      "Iteration No: 270 ended. Search finished for the next optimal point.\n",
      "Time taken: 6.1794\n",
      "Function value obtained: -0.2125\n",
      "Current minimum: -0.2127\n",
      "Iteration No: 271 started. Searching for the next optimal point.\n",
      "SearchBayesianSkopt: Testing config: {'shrink': 42, 'topK': 200, 'feature_weighting': 'TF-IDF', 'normalize': True, 'ICM_weight': 5}\n",
      "ItemKNN_CFCBF_HybridRecommender: URM Detected 1 ( 0.0%) items with no interactions.\n",
      "ItemKNN_CFCBF_HybridRecommender: ICM Detected 559 ( 3.1%) items with no features.\n",
      "Similarity column 18059 (100.0%), 1594.68 column/sec. Elapsed time 11.32 sec\n",
      "EvaluatorHoldout: Processed 13644 (100.0%) in 14.81 sec. Users per second: 921\n",
      "SearchBayesianSkopt: Config 270 is suboptimal. Config: {'shrink': 42, 'topK': 200, 'feature_weighting': 'TF-IDF', 'normalize': True, 'ICM_weight': 5} - results: PRECISION: 0.3495016, PRECISION_RECALL_MIN_DEN: 0.3512072, RECALL: 0.0600953, MAP: 0.2123796, MAP_MIN_DEN: 0.2131260, MRR: 0.6172607, NDCG: 0.3687721, F1: 0.1025564, HIT_RATE: 0.9537526, ARHR_ALL_HITS: 1.1263681, NOVELTY: 0.0053124, AVERAGE_POPULARITY: 0.6563369, DIVERSITY_MEAN_INTER_LIST: 0.8142716, DIVERSITY_HERFINDAHL: 0.9814212, COVERAGE_ITEM: 0.0485630, COVERAGE_ITEM_CORRECT: 0.0272440, COVERAGE_USER: 0.9995604, COVERAGE_USER_CORRECT: 0.9533333, DIVERSITY_GINI: 0.0039230, SHANNON_ENTROPY: 6.4068000, RATIO_DIVERSITY_HERFINDAHL: 0.9818002, RATIO_DIVERSITY_GINI: 0.0158248, RATIO_SHANNON_ENTROPY: 0.5171099, RATIO_AVERAGE_POPULARITY: 3.2394238, RATIO_NOVELTY: 0.0249960, \n",
      "\n",
      "Iteration No: 271 ended. Search finished for the next optimal point.\n",
      "Time taken: 32.4965\n",
      "Function value obtained: -0.2124\n",
      "Current minimum: -0.2127\n",
      "Iteration No: 272 started. Searching for the next optimal point.\n",
      "SearchBayesianSkopt: Testing config: {'shrink': 10, 'topK': 200, 'feature_weighting': 'TF-IDF', 'normalize': True, 'ICM_weight': 5}\n",
      "SearchBayesianSkopt: Config 271 was already explored at index 160. Config: {'shrink': 10, 'topK': 200, 'feature_weighting': 'TF-IDF', 'normalize': True, 'ICM_weight': 5} - results: PRECISION: 0.3496335, PRECISION_RECALL_MIN_DEN: 0.3513392, RECALL: 0.0601305, MAP: 0.2125084, MAP_MIN_DEN: 0.2132577, MRR: 0.6172657, NDCG: 0.3689270, F1: 0.1026133, HIT_RATE: 0.9536793, ARHR_ALL_HITS: 1.1268567, NOVELTY: 0.0053134, AVERAGE_POPULARITY: 0.6560807, DIVERSITY_MEAN_INTER_LIST: 0.8145055, DIVERSITY_HERFINDAHL: 0.9814446, COVERAGE_ITEM: 0.0491168, COVERAGE_ITEM_CORRECT: 0.0275209, COVERAGE_USER: 0.9995604, COVERAGE_USER_CORRECT: 0.9532601, DIVERSITY_GINI: 0.0039384, SHANNON_ENTROPY: 6.4102591, RATIO_DIVERSITY_HERFINDAHL: 0.9818236, RATIO_DIVERSITY_GINI: 0.0158871, RATIO_SHANNON_ENTROPY: 0.5173891, RATIO_AVERAGE_POPULARITY: 3.2381591, RATIO_NOVELTY: 0.0250004, \n",
      "\n"
     ]
    },
    {
     "name": "stderr",
     "output_type": "stream",
     "text": [
      "C:\\Users\\marti\\miniconda3\\envs\\RecSys\\lib\\site-packages\\skopt\\optimizer\\optimizer.py:449: UserWarning: The objective has been evaluated at this point before.\n",
      "  warnings.warn(\"The objective has been evaluated \"\n"
     ]
    },
    {
     "name": "stdout",
     "output_type": "stream",
     "text": [
      "Iteration No: 272 ended. Search finished for the next optimal point.\n",
      "Time taken: 5.6553\n",
      "Function value obtained: -0.2125\n",
      "Current minimum: -0.2127\n",
      "Iteration No: 273 started. Searching for the next optimal point.\n",
      "SearchBayesianSkopt: Testing config: {'shrink': 10, 'topK': 200, 'feature_weighting': 'TF-IDF', 'normalize': True, 'ICM_weight': 5}\n",
      "SearchBayesianSkopt: Config 272 was already explored at index 160. Config: {'shrink': 10, 'topK': 200, 'feature_weighting': 'TF-IDF', 'normalize': True, 'ICM_weight': 5} - results: PRECISION: 0.3496335, PRECISION_RECALL_MIN_DEN: 0.3513392, RECALL: 0.0601305, MAP: 0.2125084, MAP_MIN_DEN: 0.2132577, MRR: 0.6172657, NDCG: 0.3689270, F1: 0.1026133, HIT_RATE: 0.9536793, ARHR_ALL_HITS: 1.1268567, NOVELTY: 0.0053134, AVERAGE_POPULARITY: 0.6560807, DIVERSITY_MEAN_INTER_LIST: 0.8145055, DIVERSITY_HERFINDAHL: 0.9814446, COVERAGE_ITEM: 0.0491168, COVERAGE_ITEM_CORRECT: 0.0275209, COVERAGE_USER: 0.9995604, COVERAGE_USER_CORRECT: 0.9532601, DIVERSITY_GINI: 0.0039384, SHANNON_ENTROPY: 6.4102591, RATIO_DIVERSITY_HERFINDAHL: 0.9818236, RATIO_DIVERSITY_GINI: 0.0158871, RATIO_SHANNON_ENTROPY: 0.5173891, RATIO_AVERAGE_POPULARITY: 3.2381591, RATIO_NOVELTY: 0.0250004, \n",
      "\n"
     ]
    },
    {
     "name": "stderr",
     "output_type": "stream",
     "text": [
      "C:\\Users\\marti\\miniconda3\\envs\\RecSys\\lib\\site-packages\\skopt\\optimizer\\optimizer.py:449: UserWarning: The objective has been evaluated at this point before.\n",
      "  warnings.warn(\"The objective has been evaluated \"\n"
     ]
    },
    {
     "name": "stdout",
     "output_type": "stream",
     "text": [
      "Iteration No: 273 ended. Search finished for the next optimal point.\n",
      "Time taken: 5.4332\n",
      "Function value obtained: -0.2125\n",
      "Current minimum: -0.2127\n",
      "Iteration No: 274 started. Searching for the next optimal point.\n",
      "SearchBayesianSkopt: Testing config: {'shrink': 10, 'topK': 200, 'feature_weighting': 'TF-IDF', 'normalize': True, 'ICM_weight': 5}\n",
      "SearchBayesianSkopt: Config 273 was already explored at index 160. Config: {'shrink': 10, 'topK': 200, 'feature_weighting': 'TF-IDF', 'normalize': True, 'ICM_weight': 5} - results: PRECISION: 0.3496335, PRECISION_RECALL_MIN_DEN: 0.3513392, RECALL: 0.0601305, MAP: 0.2125084, MAP_MIN_DEN: 0.2132577, MRR: 0.6172657, NDCG: 0.3689270, F1: 0.1026133, HIT_RATE: 0.9536793, ARHR_ALL_HITS: 1.1268567, NOVELTY: 0.0053134, AVERAGE_POPULARITY: 0.6560807, DIVERSITY_MEAN_INTER_LIST: 0.8145055, DIVERSITY_HERFINDAHL: 0.9814446, COVERAGE_ITEM: 0.0491168, COVERAGE_ITEM_CORRECT: 0.0275209, COVERAGE_USER: 0.9995604, COVERAGE_USER_CORRECT: 0.9532601, DIVERSITY_GINI: 0.0039384, SHANNON_ENTROPY: 6.4102591, RATIO_DIVERSITY_HERFINDAHL: 0.9818236, RATIO_DIVERSITY_GINI: 0.0158871, RATIO_SHANNON_ENTROPY: 0.5173891, RATIO_AVERAGE_POPULARITY: 3.2381591, RATIO_NOVELTY: 0.0250004, \n",
      "\n"
     ]
    },
    {
     "name": "stderr",
     "output_type": "stream",
     "text": [
      "C:\\Users\\marti\\miniconda3\\envs\\RecSys\\lib\\site-packages\\skopt\\optimizer\\optimizer.py:449: UserWarning: The objective has been evaluated at this point before.\n",
      "  warnings.warn(\"The objective has been evaluated \"\n"
     ]
    },
    {
     "name": "stdout",
     "output_type": "stream",
     "text": [
      "Iteration No: 274 ended. Search finished for the next optimal point.\n",
      "Time taken: 5.7873\n",
      "Function value obtained: -0.2125\n",
      "Current minimum: -0.2127\n",
      "Iteration No: 275 started. Searching for the next optimal point.\n",
      "SearchBayesianSkopt: Testing config: {'shrink': 10, 'topK': 200, 'feature_weighting': 'TF-IDF', 'normalize': True, 'ICM_weight': 5}\n",
      "SearchBayesianSkopt: Config 274 was already explored at index 160. Config: {'shrink': 10, 'topK': 200, 'feature_weighting': 'TF-IDF', 'normalize': True, 'ICM_weight': 5} - results: PRECISION: 0.3496335, PRECISION_RECALL_MIN_DEN: 0.3513392, RECALL: 0.0601305, MAP: 0.2125084, MAP_MIN_DEN: 0.2132577, MRR: 0.6172657, NDCG: 0.3689270, F1: 0.1026133, HIT_RATE: 0.9536793, ARHR_ALL_HITS: 1.1268567, NOVELTY: 0.0053134, AVERAGE_POPULARITY: 0.6560807, DIVERSITY_MEAN_INTER_LIST: 0.8145055, DIVERSITY_HERFINDAHL: 0.9814446, COVERAGE_ITEM: 0.0491168, COVERAGE_ITEM_CORRECT: 0.0275209, COVERAGE_USER: 0.9995604, COVERAGE_USER_CORRECT: 0.9532601, DIVERSITY_GINI: 0.0039384, SHANNON_ENTROPY: 6.4102591, RATIO_DIVERSITY_HERFINDAHL: 0.9818236, RATIO_DIVERSITY_GINI: 0.0158871, RATIO_SHANNON_ENTROPY: 0.5173891, RATIO_AVERAGE_POPULARITY: 3.2381591, RATIO_NOVELTY: 0.0250004, \n",
      "\n"
     ]
    },
    {
     "name": "stderr",
     "output_type": "stream",
     "text": [
      "C:\\Users\\marti\\miniconda3\\envs\\RecSys\\lib\\site-packages\\skopt\\optimizer\\optimizer.py:449: UserWarning: The objective has been evaluated at this point before.\n",
      "  warnings.warn(\"The objective has been evaluated \"\n"
     ]
    },
    {
     "name": "stdout",
     "output_type": "stream",
     "text": [
      "Iteration No: 275 ended. Search finished for the next optimal point.\n",
      "Time taken: 6.0674\n",
      "Function value obtained: -0.2125\n",
      "Current minimum: -0.2127\n",
      "Iteration No: 276 started. Searching for the next optimal point.\n",
      "SearchBayesianSkopt: Testing config: {'shrink': 10, 'topK': 200, 'feature_weighting': 'TF-IDF', 'normalize': True, 'ICM_weight': 5}\n",
      "SearchBayesianSkopt: Config 275 was already explored at index 160. Config: {'shrink': 10, 'topK': 200, 'feature_weighting': 'TF-IDF', 'normalize': True, 'ICM_weight': 5} - results: PRECISION: 0.3496335, PRECISION_RECALL_MIN_DEN: 0.3513392, RECALL: 0.0601305, MAP: 0.2125084, MAP_MIN_DEN: 0.2132577, MRR: 0.6172657, NDCG: 0.3689270, F1: 0.1026133, HIT_RATE: 0.9536793, ARHR_ALL_HITS: 1.1268567, NOVELTY: 0.0053134, AVERAGE_POPULARITY: 0.6560807, DIVERSITY_MEAN_INTER_LIST: 0.8145055, DIVERSITY_HERFINDAHL: 0.9814446, COVERAGE_ITEM: 0.0491168, COVERAGE_ITEM_CORRECT: 0.0275209, COVERAGE_USER: 0.9995604, COVERAGE_USER_CORRECT: 0.9532601, DIVERSITY_GINI: 0.0039384, SHANNON_ENTROPY: 6.4102591, RATIO_DIVERSITY_HERFINDAHL: 0.9818236, RATIO_DIVERSITY_GINI: 0.0158871, RATIO_SHANNON_ENTROPY: 0.5173891, RATIO_AVERAGE_POPULARITY: 3.2381591, RATIO_NOVELTY: 0.0250004, \n",
      "\n"
     ]
    },
    {
     "name": "stderr",
     "output_type": "stream",
     "text": [
      "C:\\Users\\marti\\miniconda3\\envs\\RecSys\\lib\\site-packages\\skopt\\optimizer\\optimizer.py:449: UserWarning: The objective has been evaluated at this point before.\n",
      "  warnings.warn(\"The objective has been evaluated \"\n"
     ]
    },
    {
     "name": "stdout",
     "output_type": "stream",
     "text": [
      "Iteration No: 276 ended. Search finished for the next optimal point.\n",
      "Time taken: 5.8423\n",
      "Function value obtained: -0.2125\n",
      "Current minimum: -0.2127\n",
      "Iteration No: 277 started. Searching for the next optimal point.\n",
      "SearchBayesianSkopt: Testing config: {'shrink': 10, 'topK': 200, 'feature_weighting': 'TF-IDF', 'normalize': True, 'ICM_weight': 5}\n",
      "SearchBayesianSkopt: Config 276 was already explored at index 160. Config: {'shrink': 10, 'topK': 200, 'feature_weighting': 'TF-IDF', 'normalize': True, 'ICM_weight': 5} - results: PRECISION: 0.3496335, PRECISION_RECALL_MIN_DEN: 0.3513392, RECALL: 0.0601305, MAP: 0.2125084, MAP_MIN_DEN: 0.2132577, MRR: 0.6172657, NDCG: 0.3689270, F1: 0.1026133, HIT_RATE: 0.9536793, ARHR_ALL_HITS: 1.1268567, NOVELTY: 0.0053134, AVERAGE_POPULARITY: 0.6560807, DIVERSITY_MEAN_INTER_LIST: 0.8145055, DIVERSITY_HERFINDAHL: 0.9814446, COVERAGE_ITEM: 0.0491168, COVERAGE_ITEM_CORRECT: 0.0275209, COVERAGE_USER: 0.9995604, COVERAGE_USER_CORRECT: 0.9532601, DIVERSITY_GINI: 0.0039384, SHANNON_ENTROPY: 6.4102591, RATIO_DIVERSITY_HERFINDAHL: 0.9818236, RATIO_DIVERSITY_GINI: 0.0158871, RATIO_SHANNON_ENTROPY: 0.5173891, RATIO_AVERAGE_POPULARITY: 3.2381591, RATIO_NOVELTY: 0.0250004, \n",
      "\n"
     ]
    },
    {
     "name": "stderr",
     "output_type": "stream",
     "text": [
      "C:\\Users\\marti\\miniconda3\\envs\\RecSys\\lib\\site-packages\\skopt\\optimizer\\optimizer.py:449: UserWarning: The objective has been evaluated at this point before.\n",
      "  warnings.warn(\"The objective has been evaluated \"\n"
     ]
    },
    {
     "name": "stdout",
     "output_type": "stream",
     "text": [
      "Iteration No: 277 ended. Search finished for the next optimal point.\n",
      "Time taken: 5.8846\n",
      "Function value obtained: -0.2125\n",
      "Current minimum: -0.2127\n",
      "Iteration No: 278 started. Searching for the next optimal point.\n",
      "SearchBayesianSkopt: Testing config: {'shrink': 10, 'topK': 200, 'feature_weighting': 'TF-IDF', 'normalize': True, 'ICM_weight': 5}\n",
      "SearchBayesianSkopt: Config 277 was already explored at index 160. Config: {'shrink': 10, 'topK': 200, 'feature_weighting': 'TF-IDF', 'normalize': True, 'ICM_weight': 5} - results: PRECISION: 0.3496335, PRECISION_RECALL_MIN_DEN: 0.3513392, RECALL: 0.0601305, MAP: 0.2125084, MAP_MIN_DEN: 0.2132577, MRR: 0.6172657, NDCG: 0.3689270, F1: 0.1026133, HIT_RATE: 0.9536793, ARHR_ALL_HITS: 1.1268567, NOVELTY: 0.0053134, AVERAGE_POPULARITY: 0.6560807, DIVERSITY_MEAN_INTER_LIST: 0.8145055, DIVERSITY_HERFINDAHL: 0.9814446, COVERAGE_ITEM: 0.0491168, COVERAGE_ITEM_CORRECT: 0.0275209, COVERAGE_USER: 0.9995604, COVERAGE_USER_CORRECT: 0.9532601, DIVERSITY_GINI: 0.0039384, SHANNON_ENTROPY: 6.4102591, RATIO_DIVERSITY_HERFINDAHL: 0.9818236, RATIO_DIVERSITY_GINI: 0.0158871, RATIO_SHANNON_ENTROPY: 0.5173891, RATIO_AVERAGE_POPULARITY: 3.2381591, RATIO_NOVELTY: 0.0250004, \n",
      "\n"
     ]
    },
    {
     "name": "stderr",
     "output_type": "stream",
     "text": [
      "C:\\Users\\marti\\miniconda3\\envs\\RecSys\\lib\\site-packages\\skopt\\optimizer\\optimizer.py:449: UserWarning: The objective has been evaluated at this point before.\n",
      "  warnings.warn(\"The objective has been evaluated \"\n"
     ]
    },
    {
     "name": "stdout",
     "output_type": "stream",
     "text": [
      "Iteration No: 278 ended. Search finished for the next optimal point.\n",
      "Time taken: 5.9477\n",
      "Function value obtained: -0.2125\n",
      "Current minimum: -0.2127\n",
      "Iteration No: 279 started. Searching for the next optimal point.\n",
      "SearchBayesianSkopt: Testing config: {'shrink': 320, 'topK': 200, 'feature_weighting': 'TF-IDF', 'normalize': True, 'ICM_weight': 5}\n",
      "ItemKNN_CFCBF_HybridRecommender: URM Detected 1 ( 0.0%) items with no interactions.\n",
      "ItemKNN_CFCBF_HybridRecommender: ICM Detected 559 ( 3.1%) items with no features.\n",
      "Similarity column 18059 (100.0%), 1582.38 column/sec. Elapsed time 11.41 sec\n",
      "EvaluatorHoldout: Processed 13644 (100.0%) in 16.09 sec. Users per second: 848\n",
      "SearchBayesianSkopt: Config 278 is suboptimal. Config: {'shrink': 320, 'topK': 200, 'feature_weighting': 'TF-IDF', 'normalize': True, 'ICM_weight': 5} - results: PRECISION: 0.3492451, PRECISION_RECALL_MIN_DEN: 0.3509602, RECALL: 0.0601224, MAP: 0.2122019, MAP_MIN_DEN: 0.2129486, MRR: 0.6177739, NDCG: 0.3686323, F1: 0.1025848, HIT_RATE: 0.9535327, ARHR_ALL_HITS: 1.1263157, NOVELTY: 0.0053064, AVERAGE_POPULARITY: 0.6583490, DIVERSITY_MEAN_INTER_LIST: 0.8123263, DIVERSITY_HERFINDAHL: 0.9812267, COVERAGE_ITEM: 0.0467911, COVERAGE_ITEM_CORRECT: 0.0261366, COVERAGE_USER: 0.9995604, COVERAGE_USER_CORRECT: 0.9531136, DIVERSITY_GINI: 0.0038225, SHANNON_ENTROPY: 6.3803051, RATIO_DIVERSITY_HERFINDAHL: 0.9816056, RATIO_DIVERSITY_GINI: 0.0154196, RATIO_SHANNON_ENTROPY: 0.5149714, RATIO_AVERAGE_POPULARITY: 3.2493546, RATIO_NOVELTY: 0.0249679, \n",
      "\n",
      "Iteration No: 279 ended. Search finished for the next optimal point.\n",
      "Time taken: 33.9416\n",
      "Function value obtained: -0.2122\n",
      "Current minimum: -0.2127\n",
      "Iteration No: 280 started. Searching for the next optimal point.\n",
      "SearchBayesianSkopt: Testing config: {'shrink': 498, 'topK': 200, 'feature_weighting': 'TF-IDF', 'normalize': True, 'ICM_weight': 5}\n",
      "ItemKNN_CFCBF_HybridRecommender: URM Detected 1 ( 0.0%) items with no interactions.\n",
      "ItemKNN_CFCBF_HybridRecommender: ICM Detected 559 ( 3.1%) items with no features.\n",
      "Similarity column 18059 (100.0%), 1586.15 column/sec. Elapsed time 11.39 sec\n",
      "EvaluatorHoldout: Processed 13644 (100.0%) in 16.98 sec. Users per second: 804\n",
      "SearchBayesianSkopt: Config 279 is suboptimal. Config: {'shrink': 498, 'topK': 200, 'feature_weighting': 'TF-IDF', 'normalize': True, 'ICM_weight': 5} - results: PRECISION: 0.3491425, PRECISION_RECALL_MIN_DEN: 0.3508462, RECALL: 0.0601037, MAP: 0.2121592, MAP_MIN_DEN: 0.2129078, MRR: 0.6176477, NDCG: 0.3685669, F1: 0.1025533, HIT_RATE: 0.9534594, ARHR_ALL_HITS: 1.1262213, NOVELTY: 0.0053034, AVERAGE_POPULARITY: 0.6595069, DIVERSITY_MEAN_INTER_LIST: 0.8111711, DIVERSITY_HERFINDAHL: 0.9811112, COVERAGE_ITEM: 0.0459051, COVERAGE_ITEM_CORRECT: 0.0256382, COVERAGE_USER: 0.9995604, COVERAGE_USER_CORRECT: 0.9530403, DIVERSITY_GINI: 0.0037705, SHANNON_ENTROPY: 6.3654461, RATIO_DIVERSITY_HERFINDAHL: 0.9814901, RATIO_DIVERSITY_GINI: 0.0152098, RATIO_SHANNON_ENTROPY: 0.5137721, RATIO_AVERAGE_POPULARITY: 3.2550695, RATIO_NOVELTY: 0.0249538, \n",
      "\n",
      "Iteration No: 280 ended. Search finished for the next optimal point.\n",
      "Time taken: 34.7107\n",
      "Function value obtained: -0.2122\n",
      "Current minimum: -0.2127\n",
      "Iteration No: 281 started. Searching for the next optimal point.\n",
      "SearchBayesianSkopt: Testing config: {'shrink': 10, 'topK': 200, 'feature_weighting': 'TF-IDF', 'normalize': True, 'ICM_weight': 5}\n",
      "SearchBayesianSkopt: Config 280 was already explored at index 160. Config: {'shrink': 10, 'topK': 200, 'feature_weighting': 'TF-IDF', 'normalize': True, 'ICM_weight': 5} - results: PRECISION: 0.3496335, PRECISION_RECALL_MIN_DEN: 0.3513392, RECALL: 0.0601305, MAP: 0.2125084, MAP_MIN_DEN: 0.2132577, MRR: 0.6172657, NDCG: 0.3689270, F1: 0.1026133, HIT_RATE: 0.9536793, ARHR_ALL_HITS: 1.1268567, NOVELTY: 0.0053134, AVERAGE_POPULARITY: 0.6560807, DIVERSITY_MEAN_INTER_LIST: 0.8145055, DIVERSITY_HERFINDAHL: 0.9814446, COVERAGE_ITEM: 0.0491168, COVERAGE_ITEM_CORRECT: 0.0275209, COVERAGE_USER: 0.9995604, COVERAGE_USER_CORRECT: 0.9532601, DIVERSITY_GINI: 0.0039384, SHANNON_ENTROPY: 6.4102591, RATIO_DIVERSITY_HERFINDAHL: 0.9818236, RATIO_DIVERSITY_GINI: 0.0158871, RATIO_SHANNON_ENTROPY: 0.5173891, RATIO_AVERAGE_POPULARITY: 3.2381591, RATIO_NOVELTY: 0.0250004, \n",
      "\n"
     ]
    },
    {
     "name": "stderr",
     "output_type": "stream",
     "text": [
      "C:\\Users\\marti\\miniconda3\\envs\\RecSys\\lib\\site-packages\\skopt\\optimizer\\optimizer.py:449: UserWarning: The objective has been evaluated at this point before.\n",
      "  warnings.warn(\"The objective has been evaluated \"\n"
     ]
    },
    {
     "name": "stdout",
     "output_type": "stream",
     "text": [
      "Iteration No: 281 ended. Search finished for the next optimal point.\n",
      "Time taken: 6.0754\n",
      "Function value obtained: -0.2125\n",
      "Current minimum: -0.2127\n",
      "Iteration No: 282 started. Searching for the next optimal point.\n",
      "SearchBayesianSkopt: Testing config: {'shrink': 10, 'topK': 200, 'feature_weighting': 'TF-IDF', 'normalize': True, 'ICM_weight': 5}\n",
      "SearchBayesianSkopt: Config 281 was already explored at index 160. Config: {'shrink': 10, 'topK': 200, 'feature_weighting': 'TF-IDF', 'normalize': True, 'ICM_weight': 5} - results: PRECISION: 0.3496335, PRECISION_RECALL_MIN_DEN: 0.3513392, RECALL: 0.0601305, MAP: 0.2125084, MAP_MIN_DEN: 0.2132577, MRR: 0.6172657, NDCG: 0.3689270, F1: 0.1026133, HIT_RATE: 0.9536793, ARHR_ALL_HITS: 1.1268567, NOVELTY: 0.0053134, AVERAGE_POPULARITY: 0.6560807, DIVERSITY_MEAN_INTER_LIST: 0.8145055, DIVERSITY_HERFINDAHL: 0.9814446, COVERAGE_ITEM: 0.0491168, COVERAGE_ITEM_CORRECT: 0.0275209, COVERAGE_USER: 0.9995604, COVERAGE_USER_CORRECT: 0.9532601, DIVERSITY_GINI: 0.0039384, SHANNON_ENTROPY: 6.4102591, RATIO_DIVERSITY_HERFINDAHL: 0.9818236, RATIO_DIVERSITY_GINI: 0.0158871, RATIO_SHANNON_ENTROPY: 0.5173891, RATIO_AVERAGE_POPULARITY: 3.2381591, RATIO_NOVELTY: 0.0250004, \n",
      "\n"
     ]
    },
    {
     "name": "stderr",
     "output_type": "stream",
     "text": [
      "C:\\Users\\marti\\miniconda3\\envs\\RecSys\\lib\\site-packages\\skopt\\optimizer\\optimizer.py:449: UserWarning: The objective has been evaluated at this point before.\n",
      "  warnings.warn(\"The objective has been evaluated \"\n"
     ]
    },
    {
     "name": "stdout",
     "output_type": "stream",
     "text": [
      "Iteration No: 282 ended. Search finished for the next optimal point.\n",
      "Time taken: 6.1564\n",
      "Function value obtained: -0.2125\n",
      "Current minimum: -0.2127\n",
      "Iteration No: 283 started. Searching for the next optimal point.\n",
      "SearchBayesianSkopt: Testing config: {'shrink': 10, 'topK': 200, 'feature_weighting': 'TF-IDF', 'normalize': True, 'ICM_weight': 5}\n",
      "SearchBayesianSkopt: Config 282 was already explored at index 160. Config: {'shrink': 10, 'topK': 200, 'feature_weighting': 'TF-IDF', 'normalize': True, 'ICM_weight': 5} - results: PRECISION: 0.3496335, PRECISION_RECALL_MIN_DEN: 0.3513392, RECALL: 0.0601305, MAP: 0.2125084, MAP_MIN_DEN: 0.2132577, MRR: 0.6172657, NDCG: 0.3689270, F1: 0.1026133, HIT_RATE: 0.9536793, ARHR_ALL_HITS: 1.1268567, NOVELTY: 0.0053134, AVERAGE_POPULARITY: 0.6560807, DIVERSITY_MEAN_INTER_LIST: 0.8145055, DIVERSITY_HERFINDAHL: 0.9814446, COVERAGE_ITEM: 0.0491168, COVERAGE_ITEM_CORRECT: 0.0275209, COVERAGE_USER: 0.9995604, COVERAGE_USER_CORRECT: 0.9532601, DIVERSITY_GINI: 0.0039384, SHANNON_ENTROPY: 6.4102591, RATIO_DIVERSITY_HERFINDAHL: 0.9818236, RATIO_DIVERSITY_GINI: 0.0158871, RATIO_SHANNON_ENTROPY: 0.5173891, RATIO_AVERAGE_POPULARITY: 3.2381591, RATIO_NOVELTY: 0.0250004, \n",
      "\n"
     ]
    },
    {
     "name": "stderr",
     "output_type": "stream",
     "text": [
      "C:\\Users\\marti\\miniconda3\\envs\\RecSys\\lib\\site-packages\\skopt\\optimizer\\optimizer.py:449: UserWarning: The objective has been evaluated at this point before.\n",
      "  warnings.warn(\"The objective has been evaluated \"\n"
     ]
    },
    {
     "name": "stdout",
     "output_type": "stream",
     "text": [
      "Iteration No: 283 ended. Search finished for the next optimal point.\n",
      "Time taken: 5.8453\n",
      "Function value obtained: -0.2125\n",
      "Current minimum: -0.2127\n",
      "Iteration No: 284 started. Searching for the next optimal point.\n",
      "SearchBayesianSkopt: Testing config: {'shrink': 10, 'topK': 200, 'feature_weighting': 'TF-IDF', 'normalize': True, 'ICM_weight': 5}\n",
      "SearchBayesianSkopt: Config 283 was already explored at index 160. Config: {'shrink': 10, 'topK': 200, 'feature_weighting': 'TF-IDF', 'normalize': True, 'ICM_weight': 5} - results: PRECISION: 0.3496335, PRECISION_RECALL_MIN_DEN: 0.3513392, RECALL: 0.0601305, MAP: 0.2125084, MAP_MIN_DEN: 0.2132577, MRR: 0.6172657, NDCG: 0.3689270, F1: 0.1026133, HIT_RATE: 0.9536793, ARHR_ALL_HITS: 1.1268567, NOVELTY: 0.0053134, AVERAGE_POPULARITY: 0.6560807, DIVERSITY_MEAN_INTER_LIST: 0.8145055, DIVERSITY_HERFINDAHL: 0.9814446, COVERAGE_ITEM: 0.0491168, COVERAGE_ITEM_CORRECT: 0.0275209, COVERAGE_USER: 0.9995604, COVERAGE_USER_CORRECT: 0.9532601, DIVERSITY_GINI: 0.0039384, SHANNON_ENTROPY: 6.4102591, RATIO_DIVERSITY_HERFINDAHL: 0.9818236, RATIO_DIVERSITY_GINI: 0.0158871, RATIO_SHANNON_ENTROPY: 0.5173891, RATIO_AVERAGE_POPULARITY: 3.2381591, RATIO_NOVELTY: 0.0250004, \n",
      "\n"
     ]
    },
    {
     "name": "stderr",
     "output_type": "stream",
     "text": [
      "C:\\Users\\marti\\miniconda3\\envs\\RecSys\\lib\\site-packages\\skopt\\optimizer\\optimizer.py:449: UserWarning: The objective has been evaluated at this point before.\n",
      "  warnings.warn(\"The objective has been evaluated \"\n"
     ]
    },
    {
     "name": "stdout",
     "output_type": "stream",
     "text": [
      "Iteration No: 284 ended. Search finished for the next optimal point.\n",
      "Time taken: 5.8103\n",
      "Function value obtained: -0.2125\n",
      "Current minimum: -0.2127\n",
      "Iteration No: 285 started. Searching for the next optimal point.\n",
      "SearchBayesianSkopt: Testing config: {'shrink': 500, 'topK': 1000, 'feature_weighting': 'TF-IDF', 'normalize': True, 'ICM_weight': 143}\n",
      "ItemKNN_CFCBF_HybridRecommender: URM Detected 1 ( 0.0%) items with no interactions.\n",
      "ItemKNN_CFCBF_HybridRecommender: ICM Detected 559 ( 3.1%) items with no features.\n",
      "Similarity column 18059 (100.0%), 1489.68 column/sec. Elapsed time 12.12 sec\n",
      "EvaluatorHoldout: Processed 13644 (100.0%) in 18.06 sec. Users per second: 756\n",
      "SearchBayesianSkopt: Config 284 is suboptimal. Config: {'shrink': 500, 'topK': 1000, 'feature_weighting': 'TF-IDF', 'normalize': True, 'ICM_weight': 143} - results: PRECISION: 0.3362504, PRECISION_RECALL_MIN_DEN: 0.3375295, RECALL: 0.0564090, MAP: 0.2037083, MAP_MIN_DEN: 0.2042841, MRR: 0.6099015, NDCG: 0.3568538, F1: 0.0966106, HIT_RATE: 0.9461302, ARHR_ALL_HITS: 1.0963400, NOVELTY: 0.0052672, AVERAGE_POPULARITY: 0.6915303, DIVERSITY_MEAN_INTER_LIST: 0.7523912, DIVERSITY_HERFINDAHL: 0.9752336, COVERAGE_ITEM: 0.0450745, COVERAGE_ITEM_CORRECT: 0.0215405, COVERAGE_USER: 0.9995604, COVERAGE_USER_CORRECT: 0.9457143, DIVERSITY_GINI: 0.0027110, SHANNON_ENTROPY: 5.8504590, RATIO_DIVERSITY_HERFINDAHL: 0.9756102, RATIO_DIVERSITY_GINI: 0.0109357, RATIO_SHANNON_ENTROPY: 0.4722062, RATIO_AVERAGE_POPULARITY: 3.4131246, RATIO_NOVELTY: 0.0247835, \n",
      "\n",
      "Iteration No: 285 ended. Search finished for the next optimal point.\n",
      "Time taken: 37.2023\n",
      "Function value obtained: -0.2037\n",
      "Current minimum: -0.2127\n",
      "Iteration No: 286 started. Searching for the next optimal point.\n",
      "SearchBayesianSkopt: Testing config: {'shrink': 10, 'topK': 200, 'feature_weighting': 'TF-IDF', 'normalize': True, 'ICM_weight': 5}\n",
      "SearchBayesianSkopt: Config 285 was already explored at index 160. Config: {'shrink': 10, 'topK': 200, 'feature_weighting': 'TF-IDF', 'normalize': True, 'ICM_weight': 5} - results: PRECISION: 0.3496335, PRECISION_RECALL_MIN_DEN: 0.3513392, RECALL: 0.0601305, MAP: 0.2125084, MAP_MIN_DEN: 0.2132577, MRR: 0.6172657, NDCG: 0.3689270, F1: 0.1026133, HIT_RATE: 0.9536793, ARHR_ALL_HITS: 1.1268567, NOVELTY: 0.0053134, AVERAGE_POPULARITY: 0.6560807, DIVERSITY_MEAN_INTER_LIST: 0.8145055, DIVERSITY_HERFINDAHL: 0.9814446, COVERAGE_ITEM: 0.0491168, COVERAGE_ITEM_CORRECT: 0.0275209, COVERAGE_USER: 0.9995604, COVERAGE_USER_CORRECT: 0.9532601, DIVERSITY_GINI: 0.0039384, SHANNON_ENTROPY: 6.4102591, RATIO_DIVERSITY_HERFINDAHL: 0.9818236, RATIO_DIVERSITY_GINI: 0.0158871, RATIO_SHANNON_ENTROPY: 0.5173891, RATIO_AVERAGE_POPULARITY: 3.2381591, RATIO_NOVELTY: 0.0250004, \n",
      "\n"
     ]
    },
    {
     "name": "stderr",
     "output_type": "stream",
     "text": [
      "C:\\Users\\marti\\miniconda3\\envs\\RecSys\\lib\\site-packages\\skopt\\optimizer\\optimizer.py:449: UserWarning: The objective has been evaluated at this point before.\n",
      "  warnings.warn(\"The objective has been evaluated \"\n"
     ]
    },
    {
     "name": "stdout",
     "output_type": "stream",
     "text": [
      "Iteration No: 286 ended. Search finished for the next optimal point.\n",
      "Time taken: 6.7275\n",
      "Function value obtained: -0.2125\n",
      "Current minimum: -0.2127\n",
      "Iteration No: 287 started. Searching for the next optimal point.\n",
      "SearchBayesianSkopt: Testing config: {'shrink': 10, 'topK': 200, 'feature_weighting': 'TF-IDF', 'normalize': True, 'ICM_weight': 5}\n",
      "SearchBayesianSkopt: Config 286 was already explored at index 160. Config: {'shrink': 10, 'topK': 200, 'feature_weighting': 'TF-IDF', 'normalize': True, 'ICM_weight': 5} - results: PRECISION: 0.3496335, PRECISION_RECALL_MIN_DEN: 0.3513392, RECALL: 0.0601305, MAP: 0.2125084, MAP_MIN_DEN: 0.2132577, MRR: 0.6172657, NDCG: 0.3689270, F1: 0.1026133, HIT_RATE: 0.9536793, ARHR_ALL_HITS: 1.1268567, NOVELTY: 0.0053134, AVERAGE_POPULARITY: 0.6560807, DIVERSITY_MEAN_INTER_LIST: 0.8145055, DIVERSITY_HERFINDAHL: 0.9814446, COVERAGE_ITEM: 0.0491168, COVERAGE_ITEM_CORRECT: 0.0275209, COVERAGE_USER: 0.9995604, COVERAGE_USER_CORRECT: 0.9532601, DIVERSITY_GINI: 0.0039384, SHANNON_ENTROPY: 6.4102591, RATIO_DIVERSITY_HERFINDAHL: 0.9818236, RATIO_DIVERSITY_GINI: 0.0158871, RATIO_SHANNON_ENTROPY: 0.5173891, RATIO_AVERAGE_POPULARITY: 3.2381591, RATIO_NOVELTY: 0.0250004, \n",
      "\n"
     ]
    },
    {
     "name": "stderr",
     "output_type": "stream",
     "text": [
      "C:\\Users\\marti\\miniconda3\\envs\\RecSys\\lib\\site-packages\\skopt\\optimizer\\optimizer.py:449: UserWarning: The objective has been evaluated at this point before.\n",
      "  warnings.warn(\"The objective has been evaluated \"\n"
     ]
    },
    {
     "name": "stdout",
     "output_type": "stream",
     "text": [
      "Iteration No: 287 ended. Search finished for the next optimal point.\n",
      "Time taken: 6.2844\n",
      "Function value obtained: -0.2125\n",
      "Current minimum: -0.2127\n",
      "Iteration No: 288 started. Searching for the next optimal point.\n",
      "SearchBayesianSkopt: Testing config: {'shrink': 10, 'topK': 200, 'feature_weighting': 'TF-IDF', 'normalize': True, 'ICM_weight': 5}\n",
      "SearchBayesianSkopt: Config 287 was already explored at index 160. Config: {'shrink': 10, 'topK': 200, 'feature_weighting': 'TF-IDF', 'normalize': True, 'ICM_weight': 5} - results: PRECISION: 0.3496335, PRECISION_RECALL_MIN_DEN: 0.3513392, RECALL: 0.0601305, MAP: 0.2125084, MAP_MIN_DEN: 0.2132577, MRR: 0.6172657, NDCG: 0.3689270, F1: 0.1026133, HIT_RATE: 0.9536793, ARHR_ALL_HITS: 1.1268567, NOVELTY: 0.0053134, AVERAGE_POPULARITY: 0.6560807, DIVERSITY_MEAN_INTER_LIST: 0.8145055, DIVERSITY_HERFINDAHL: 0.9814446, COVERAGE_ITEM: 0.0491168, COVERAGE_ITEM_CORRECT: 0.0275209, COVERAGE_USER: 0.9995604, COVERAGE_USER_CORRECT: 0.9532601, DIVERSITY_GINI: 0.0039384, SHANNON_ENTROPY: 6.4102591, RATIO_DIVERSITY_HERFINDAHL: 0.9818236, RATIO_DIVERSITY_GINI: 0.0158871, RATIO_SHANNON_ENTROPY: 0.5173891, RATIO_AVERAGE_POPULARITY: 3.2381591, RATIO_NOVELTY: 0.0250004, \n",
      "\n"
     ]
    },
    {
     "name": "stderr",
     "output_type": "stream",
     "text": [
      "C:\\Users\\marti\\miniconda3\\envs\\RecSys\\lib\\site-packages\\skopt\\optimizer\\optimizer.py:449: UserWarning: The objective has been evaluated at this point before.\n",
      "  warnings.warn(\"The objective has been evaluated \"\n"
     ]
    },
    {
     "name": "stdout",
     "output_type": "stream",
     "text": [
      "Iteration No: 288 ended. Search finished for the next optimal point.\n",
      "Time taken: 6.1404\n",
      "Function value obtained: -0.2125\n",
      "Current minimum: -0.2127\n",
      "Iteration No: 289 started. Searching for the next optimal point.\n",
      "SearchBayesianSkopt: Testing config: {'shrink': 10, 'topK': 200, 'feature_weighting': 'TF-IDF', 'normalize': True, 'ICM_weight': 5}\n",
      "SearchBayesianSkopt: Config 288 was already explored at index 160. Config: {'shrink': 10, 'topK': 200, 'feature_weighting': 'TF-IDF', 'normalize': True, 'ICM_weight': 5} - results: PRECISION: 0.3496335, PRECISION_RECALL_MIN_DEN: 0.3513392, RECALL: 0.0601305, MAP: 0.2125084, MAP_MIN_DEN: 0.2132577, MRR: 0.6172657, NDCG: 0.3689270, F1: 0.1026133, HIT_RATE: 0.9536793, ARHR_ALL_HITS: 1.1268567, NOVELTY: 0.0053134, AVERAGE_POPULARITY: 0.6560807, DIVERSITY_MEAN_INTER_LIST: 0.8145055, DIVERSITY_HERFINDAHL: 0.9814446, COVERAGE_ITEM: 0.0491168, COVERAGE_ITEM_CORRECT: 0.0275209, COVERAGE_USER: 0.9995604, COVERAGE_USER_CORRECT: 0.9532601, DIVERSITY_GINI: 0.0039384, SHANNON_ENTROPY: 6.4102591, RATIO_DIVERSITY_HERFINDAHL: 0.9818236, RATIO_DIVERSITY_GINI: 0.0158871, RATIO_SHANNON_ENTROPY: 0.5173891, RATIO_AVERAGE_POPULARITY: 3.2381591, RATIO_NOVELTY: 0.0250004, \n",
      "\n"
     ]
    },
    {
     "name": "stderr",
     "output_type": "stream",
     "text": [
      "C:\\Users\\marti\\miniconda3\\envs\\RecSys\\lib\\site-packages\\skopt\\optimizer\\optimizer.py:449: UserWarning: The objective has been evaluated at this point before.\n",
      "  warnings.warn(\"The objective has been evaluated \"\n"
     ]
    },
    {
     "name": "stdout",
     "output_type": "stream",
     "text": [
      "Iteration No: 289 ended. Search finished for the next optimal point.\n",
      "Time taken: 6.7885\n",
      "Function value obtained: -0.2125\n",
      "Current minimum: -0.2127\n",
      "Iteration No: 290 started. Searching for the next optimal point.\n",
      "SearchBayesianSkopt: Testing config: {'shrink': 196, 'topK': 200, 'feature_weighting': 'TF-IDF', 'normalize': True, 'ICM_weight': 5}\n",
      "ItemKNN_CFCBF_HybridRecommender: URM Detected 1 ( 0.0%) items with no interactions.\n",
      "ItemKNN_CFCBF_HybridRecommender: ICM Detected 559 ( 3.1%) items with no features.\n",
      "Similarity column 18059 (100.0%), 1583.35 column/sec. Elapsed time 11.41 sec\n",
      "EvaluatorHoldout: Processed 13644 (100.0%) in 15.49 sec. Users per second: 881\n",
      "SearchBayesianSkopt: Config 289 is suboptimal. Config: {'shrink': 196, 'topK': 200, 'feature_weighting': 'TF-IDF', 'normalize': True, 'ICM_weight': 5} - results: PRECISION: 0.3492304, PRECISION_RECALL_MIN_DEN: 0.3509384, RECALL: 0.0600989, MAP: 0.2122432, MAP_MIN_DEN: 0.2129893, MRR: 0.6180181, NDCG: 0.3686677, F1: 0.1025500, HIT_RATE: 0.9533861, ARHR_ALL_HITS: 1.1265798, NOVELTY: 0.0053090, AVERAGE_POPULARITY: 0.6574287, DIVERSITY_MEAN_INTER_LIST: 0.8132633, DIVERSITY_HERFINDAHL: 0.9813204, COVERAGE_ITEM: 0.0474556, COVERAGE_ITEM_CORRECT: 0.0265242, COVERAGE_USER: 0.9995604, COVERAGE_USER_CORRECT: 0.9529670, DIVERSITY_GINI: 0.0038680, SHANNON_ENTROPY: 6.3927328, RATIO_DIVERSITY_HERFINDAHL: 0.9816994, RATIO_DIVERSITY_GINI: 0.0156028, RATIO_SHANNON_ENTROPY: 0.5159745, RATIO_AVERAGE_POPULARITY: 3.2448126, RATIO_NOVELTY: 0.0249799, \n",
      "\n",
      "Iteration No: 290 ended. Search finished for the next optimal point.\n",
      "Time taken: 33.4965\n",
      "Function value obtained: -0.2122\n",
      "Current minimum: -0.2127\n",
      "Iteration No: 291 started. Searching for the next optimal point.\n",
      "SearchBayesianSkopt: Testing config: {'shrink': 10, 'topK': 200, 'feature_weighting': 'TF-IDF', 'normalize': True, 'ICM_weight': 5}\n",
      "SearchBayesianSkopt: Config 290 was already explored at index 160. Config: {'shrink': 10, 'topK': 200, 'feature_weighting': 'TF-IDF', 'normalize': True, 'ICM_weight': 5} - results: PRECISION: 0.3496335, PRECISION_RECALL_MIN_DEN: 0.3513392, RECALL: 0.0601305, MAP: 0.2125084, MAP_MIN_DEN: 0.2132577, MRR: 0.6172657, NDCG: 0.3689270, F1: 0.1026133, HIT_RATE: 0.9536793, ARHR_ALL_HITS: 1.1268567, NOVELTY: 0.0053134, AVERAGE_POPULARITY: 0.6560807, DIVERSITY_MEAN_INTER_LIST: 0.8145055, DIVERSITY_HERFINDAHL: 0.9814446, COVERAGE_ITEM: 0.0491168, COVERAGE_ITEM_CORRECT: 0.0275209, COVERAGE_USER: 0.9995604, COVERAGE_USER_CORRECT: 0.9532601, DIVERSITY_GINI: 0.0039384, SHANNON_ENTROPY: 6.4102591, RATIO_DIVERSITY_HERFINDAHL: 0.9818236, RATIO_DIVERSITY_GINI: 0.0158871, RATIO_SHANNON_ENTROPY: 0.5173891, RATIO_AVERAGE_POPULARITY: 3.2381591, RATIO_NOVELTY: 0.0250004, \n",
      "\n"
     ]
    },
    {
     "name": "stderr",
     "output_type": "stream",
     "text": [
      "C:\\Users\\marti\\miniconda3\\envs\\RecSys\\lib\\site-packages\\skopt\\optimizer\\optimizer.py:449: UserWarning: The objective has been evaluated at this point before.\n",
      "  warnings.warn(\"The objective has been evaluated \"\n"
     ]
    },
    {
     "name": "stdout",
     "output_type": "stream",
     "text": [
      "Iteration No: 291 ended. Search finished for the next optimal point.\n",
      "Time taken: 6.2074\n",
      "Function value obtained: -0.2125\n",
      "Current minimum: -0.2127\n",
      "Iteration No: 292 started. Searching for the next optimal point.\n",
      "SearchBayesianSkopt: Testing config: {'shrink': 10, 'topK': 200, 'feature_weighting': 'TF-IDF', 'normalize': True, 'ICM_weight': 5}\n",
      "SearchBayesianSkopt: Config 291 was already explored at index 160. Config: {'shrink': 10, 'topK': 200, 'feature_weighting': 'TF-IDF', 'normalize': True, 'ICM_weight': 5} - results: PRECISION: 0.3496335, PRECISION_RECALL_MIN_DEN: 0.3513392, RECALL: 0.0601305, MAP: 0.2125084, MAP_MIN_DEN: 0.2132577, MRR: 0.6172657, NDCG: 0.3689270, F1: 0.1026133, HIT_RATE: 0.9536793, ARHR_ALL_HITS: 1.1268567, NOVELTY: 0.0053134, AVERAGE_POPULARITY: 0.6560807, DIVERSITY_MEAN_INTER_LIST: 0.8145055, DIVERSITY_HERFINDAHL: 0.9814446, COVERAGE_ITEM: 0.0491168, COVERAGE_ITEM_CORRECT: 0.0275209, COVERAGE_USER: 0.9995604, COVERAGE_USER_CORRECT: 0.9532601, DIVERSITY_GINI: 0.0039384, SHANNON_ENTROPY: 6.4102591, RATIO_DIVERSITY_HERFINDAHL: 0.9818236, RATIO_DIVERSITY_GINI: 0.0158871, RATIO_SHANNON_ENTROPY: 0.5173891, RATIO_AVERAGE_POPULARITY: 3.2381591, RATIO_NOVELTY: 0.0250004, \n",
      "\n"
     ]
    },
    {
     "name": "stderr",
     "output_type": "stream",
     "text": [
      "C:\\Users\\marti\\miniconda3\\envs\\RecSys\\lib\\site-packages\\skopt\\optimizer\\optimizer.py:449: UserWarning: The objective has been evaluated at this point before.\n",
      "  warnings.warn(\"The objective has been evaluated \"\n"
     ]
    },
    {
     "name": "stdout",
     "output_type": "stream",
     "text": [
      "Iteration No: 292 ended. Search finished for the next optimal point.\n",
      "Time taken: 6.3474\n",
      "Function value obtained: -0.2125\n",
      "Current minimum: -0.2127\n",
      "Iteration No: 293 started. Searching for the next optimal point.\n",
      "SearchBayesianSkopt: Testing config: {'shrink': 10, 'topK': 200, 'feature_weighting': 'TF-IDF', 'normalize': True, 'ICM_weight': 5}\n",
      "SearchBayesianSkopt: Config 292 was already explored at index 160. Config: {'shrink': 10, 'topK': 200, 'feature_weighting': 'TF-IDF', 'normalize': True, 'ICM_weight': 5} - results: PRECISION: 0.3496335, PRECISION_RECALL_MIN_DEN: 0.3513392, RECALL: 0.0601305, MAP: 0.2125084, MAP_MIN_DEN: 0.2132577, MRR: 0.6172657, NDCG: 0.3689270, F1: 0.1026133, HIT_RATE: 0.9536793, ARHR_ALL_HITS: 1.1268567, NOVELTY: 0.0053134, AVERAGE_POPULARITY: 0.6560807, DIVERSITY_MEAN_INTER_LIST: 0.8145055, DIVERSITY_HERFINDAHL: 0.9814446, COVERAGE_ITEM: 0.0491168, COVERAGE_ITEM_CORRECT: 0.0275209, COVERAGE_USER: 0.9995604, COVERAGE_USER_CORRECT: 0.9532601, DIVERSITY_GINI: 0.0039384, SHANNON_ENTROPY: 6.4102591, RATIO_DIVERSITY_HERFINDAHL: 0.9818236, RATIO_DIVERSITY_GINI: 0.0158871, RATIO_SHANNON_ENTROPY: 0.5173891, RATIO_AVERAGE_POPULARITY: 3.2381591, RATIO_NOVELTY: 0.0250004, \n",
      "\n"
     ]
    },
    {
     "name": "stderr",
     "output_type": "stream",
     "text": [
      "C:\\Users\\marti\\miniconda3\\envs\\RecSys\\lib\\site-packages\\skopt\\optimizer\\optimizer.py:449: UserWarning: The objective has been evaluated at this point before.\n",
      "  warnings.warn(\"The objective has been evaluated \"\n"
     ]
    },
    {
     "name": "stdout",
     "output_type": "stream",
     "text": [
      "Iteration No: 293 ended. Search finished for the next optimal point.\n",
      "Time taken: 6.2654\n",
      "Function value obtained: -0.2125\n",
      "Current minimum: -0.2127\n",
      "Iteration No: 294 started. Searching for the next optimal point.\n",
      "SearchBayesianSkopt: Testing config: {'shrink': 10, 'topK': 200, 'feature_weighting': 'TF-IDF', 'normalize': True, 'ICM_weight': 5}\n",
      "SearchBayesianSkopt: Config 293 was already explored at index 160. Config: {'shrink': 10, 'topK': 200, 'feature_weighting': 'TF-IDF', 'normalize': True, 'ICM_weight': 5} - results: PRECISION: 0.3496335, PRECISION_RECALL_MIN_DEN: 0.3513392, RECALL: 0.0601305, MAP: 0.2125084, MAP_MIN_DEN: 0.2132577, MRR: 0.6172657, NDCG: 0.3689270, F1: 0.1026133, HIT_RATE: 0.9536793, ARHR_ALL_HITS: 1.1268567, NOVELTY: 0.0053134, AVERAGE_POPULARITY: 0.6560807, DIVERSITY_MEAN_INTER_LIST: 0.8145055, DIVERSITY_HERFINDAHL: 0.9814446, COVERAGE_ITEM: 0.0491168, COVERAGE_ITEM_CORRECT: 0.0275209, COVERAGE_USER: 0.9995604, COVERAGE_USER_CORRECT: 0.9532601, DIVERSITY_GINI: 0.0039384, SHANNON_ENTROPY: 6.4102591, RATIO_DIVERSITY_HERFINDAHL: 0.9818236, RATIO_DIVERSITY_GINI: 0.0158871, RATIO_SHANNON_ENTROPY: 0.5173891, RATIO_AVERAGE_POPULARITY: 3.2381591, RATIO_NOVELTY: 0.0250004, \n",
      "\n"
     ]
    },
    {
     "name": "stderr",
     "output_type": "stream",
     "text": [
      "C:\\Users\\marti\\miniconda3\\envs\\RecSys\\lib\\site-packages\\skopt\\optimizer\\optimizer.py:449: UserWarning: The objective has been evaluated at this point before.\n",
      "  warnings.warn(\"The objective has been evaluated \"\n"
     ]
    },
    {
     "name": "stdout",
     "output_type": "stream",
     "text": [
      "Iteration No: 294 ended. Search finished for the next optimal point.\n",
      "Time taken: 6.5785\n",
      "Function value obtained: -0.2125\n",
      "Current minimum: -0.2127\n",
      "Iteration No: 295 started. Searching for the next optimal point.\n",
      "SearchBayesianSkopt: Testing config: {'shrink': 10, 'topK': 200, 'feature_weighting': 'TF-IDF', 'normalize': True, 'ICM_weight': 5}\n",
      "SearchBayesianSkopt: Config 294 was already explored at index 160. Config: {'shrink': 10, 'topK': 200, 'feature_weighting': 'TF-IDF', 'normalize': True, 'ICM_weight': 5} - results: PRECISION: 0.3496335, PRECISION_RECALL_MIN_DEN: 0.3513392, RECALL: 0.0601305, MAP: 0.2125084, MAP_MIN_DEN: 0.2132577, MRR: 0.6172657, NDCG: 0.3689270, F1: 0.1026133, HIT_RATE: 0.9536793, ARHR_ALL_HITS: 1.1268567, NOVELTY: 0.0053134, AVERAGE_POPULARITY: 0.6560807, DIVERSITY_MEAN_INTER_LIST: 0.8145055, DIVERSITY_HERFINDAHL: 0.9814446, COVERAGE_ITEM: 0.0491168, COVERAGE_ITEM_CORRECT: 0.0275209, COVERAGE_USER: 0.9995604, COVERAGE_USER_CORRECT: 0.9532601, DIVERSITY_GINI: 0.0039384, SHANNON_ENTROPY: 6.4102591, RATIO_DIVERSITY_HERFINDAHL: 0.9818236, RATIO_DIVERSITY_GINI: 0.0158871, RATIO_SHANNON_ENTROPY: 0.5173891, RATIO_AVERAGE_POPULARITY: 3.2381591, RATIO_NOVELTY: 0.0250004, \n",
      "\n"
     ]
    },
    {
     "name": "stderr",
     "output_type": "stream",
     "text": [
      "C:\\Users\\marti\\miniconda3\\envs\\RecSys\\lib\\site-packages\\skopt\\optimizer\\optimizer.py:449: UserWarning: The objective has been evaluated at this point before.\n",
      "  warnings.warn(\"The objective has been evaluated \"\n"
     ]
    },
    {
     "name": "stdout",
     "output_type": "stream",
     "text": [
      "Iteration No: 295 ended. Search finished for the next optimal point.\n",
      "Time taken: 6.3284\n",
      "Function value obtained: -0.2125\n",
      "Current minimum: -0.2127\n",
      "Iteration No: 296 started. Searching for the next optimal point.\n",
      "SearchBayesianSkopt: Testing config: {'shrink': 137, 'topK': 200, 'feature_weighting': 'TF-IDF', 'normalize': True, 'ICM_weight': 5}\n",
      "ItemKNN_CFCBF_HybridRecommender: URM Detected 1 ( 0.0%) items with no interactions.\n",
      "ItemKNN_CFCBF_HybridRecommender: ICM Detected 559 ( 3.1%) items with no features.\n",
      "Similarity column 18059 (100.0%), 1581.00 column/sec. Elapsed time 11.42 sec\n",
      "EvaluatorHoldout: Processed 13644 (100.0%) in 15.18 sec. Users per second: 899\n",
      "SearchBayesianSkopt: Config 295 is suboptimal. Config: {'shrink': 137, 'topK': 200, 'feature_weighting': 'TF-IDF', 'normalize': True, 'ICM_weight': 5} - results: PRECISION: 0.3492817, PRECISION_RECALL_MIN_DEN: 0.3509860, RECALL: 0.0600940, MAP: 0.2123111, MAP_MIN_DEN: 0.2130585, MRR: 0.6179968, NDCG: 0.3687300, F1: 0.1025451, HIT_RATE: 0.9534594, ARHR_ALL_HITS: 1.1267699, NOVELTY: 0.0053101, AVERAGE_POPULARITY: 0.6570339, DIVERSITY_MEAN_INTER_LIST: 0.8136754, DIVERSITY_HERFINDAHL: 0.9813616, COVERAGE_ITEM: 0.0476217, COVERAGE_ITEM_CORRECT: 0.0268010, COVERAGE_USER: 0.9995604, COVERAGE_USER_CORRECT: 0.9530403, DIVERSITY_GINI: 0.0038866, SHANNON_ENTROPY: 6.3979383, RATIO_DIVERSITY_HERFINDAHL: 0.9817406, RATIO_DIVERSITY_GINI: 0.0156780, RATIO_SHANNON_ENTROPY: 0.5163947, RATIO_AVERAGE_POPULARITY: 3.2428638, RATIO_NOVELTY: 0.0249852, \n",
      "\n",
      "Iteration No: 296 ended. Search finished for the next optimal point.\n",
      "Time taken: 33.2996\n",
      "Function value obtained: -0.2123\n",
      "Current minimum: -0.2127\n",
      "Iteration No: 297 started. Searching for the next optimal point.\n",
      "SearchBayesianSkopt: Testing config: {'shrink': 500, 'topK': 1000, 'feature_weighting': 'TF-IDF', 'normalize': True, 'ICM_weight': 5}\n",
      "ItemKNN_CFCBF_HybridRecommender: URM Detected 1 ( 0.0%) items with no interactions.\n",
      "ItemKNN_CFCBF_HybridRecommender: ICM Detected 559 ( 3.1%) items with no features.\n",
      "Similarity column 18059 (100.0%), 1482.47 column/sec. Elapsed time 12.18 sec\n",
      "EvaluatorHoldout: Processed 13644 (100.0%) in 33.57 sec. Users per second: 406\n",
      "SearchBayesianSkopt: Config 296 is suboptimal. Config: {'shrink': 500, 'topK': 1000, 'feature_weighting': 'TF-IDF', 'normalize': True, 'ICM_weight': 5} - results: PRECISION: 0.3378408, PRECISION_RECALL_MIN_DEN: 0.3392573, RECALL: 0.0568833, MAP: 0.2059900, MAP_MIN_DEN: 0.2067024, MRR: 0.6182399, NDCG: 0.3600757, F1: 0.0973718, HIT_RATE: 0.9464966, ARHR_ALL_HITS: 1.1097251, NOVELTY: 0.0052500, AVERAGE_POPULARITY: 0.6935320, DIVERSITY_MEAN_INTER_LIST: 0.7486889, DIVERSITY_HERFINDAHL: 0.9748634, COVERAGE_ITEM: 0.0296805, COVERAGE_ITEM_CORRECT: 0.0192148, COVERAGE_USER: 0.9995604, COVERAGE_USER_CORRECT: 0.9460806, DIVERSITY_GINI: 0.0025074, SHANNON_ENTROPY: 5.8124772, RATIO_DIVERSITY_HERFINDAHL: 0.9752399, RATIO_DIVERSITY_GINI: 0.0101143, RATIO_SHANNON_ENTROPY: 0.4691405, RATIO_AVERAGE_POPULARITY: 3.4230043, RATIO_NOVELTY: 0.0247023, \n",
      "\n",
      "Iteration No: 297 ended. Search finished for the next optimal point.\n",
      "Time taken: 53.0730\n",
      "Function value obtained: -0.2060\n",
      "Current minimum: -0.2127\n",
      "Iteration No: 298 started. Searching for the next optimal point.\n",
      "SearchBayesianSkopt: Testing config: {'shrink': 500, 'topK': 200, 'feature_weighting': 'TF-IDF', 'normalize': True, 'ICM_weight': 5}\n",
      "ItemKNN_CFCBF_HybridRecommender: URM Detected 1 ( 0.0%) items with no interactions.\n",
      "ItemKNN_CFCBF_HybridRecommender: ICM Detected 559 ( 3.1%) items with no features.\n",
      "Similarity column 18059 (100.0%), 1586.13 column/sec. Elapsed time 11.39 sec\n",
      "EvaluatorHoldout: Processed 13644 (100.0%) in 16.97 sec. Users per second: 804\n",
      "SearchBayesianSkopt: Config 297 is suboptimal. Config: {'shrink': 500, 'topK': 200, 'feature_weighting': 'TF-IDF', 'normalize': True, 'ICM_weight': 5} - results: PRECISION: 0.3491571, PRECISION_RECALL_MIN_DEN: 0.3508608, RECALL: 0.0601087, MAP: 0.2121623, MAP_MIN_DEN: 0.2129108, MRR: 0.6176940, NDCG: 0.3685789, F1: 0.1025611, HIT_RATE: 0.9535327, ARHR_ALL_HITS: 1.1262563, NOVELTY: 0.0053034, AVERAGE_POPULARITY: 0.6595240, DIVERSITY_MEAN_INTER_LIST: 0.8111552, DIVERSITY_HERFINDAHL: 0.9811096, COVERAGE_ITEM: 0.0459605, COVERAGE_ITEM_CORRECT: 0.0256382, COVERAGE_USER: 0.9995604, COVERAGE_USER_CORRECT: 0.9531136, DIVERSITY_GINI: 0.0037707, SHANNON_ENTROPY: 6.3653182, RATIO_DIVERSITY_HERFINDAHL: 0.9814885, RATIO_DIVERSITY_GINI: 0.0152105, RATIO_SHANNON_ENTROPY: 0.5137618, RATIO_AVERAGE_POPULARITY: 3.2551542, RATIO_NOVELTY: 0.0249536, \n",
      "\n",
      "Iteration No: 298 ended. Search finished for the next optimal point.\n",
      "Time taken: 35.5039\n",
      "Function value obtained: -0.2122\n",
      "Current minimum: -0.2127\n",
      "Iteration No: 299 started. Searching for the next optimal point.\n",
      "SearchBayesianSkopt: Testing config: {'shrink': 10, 'topK': 200, 'feature_weighting': 'TF-IDF', 'normalize': True, 'ICM_weight': 5}\n",
      "SearchBayesianSkopt: Config 298 was already explored at index 160. Config: {'shrink': 10, 'topK': 200, 'feature_weighting': 'TF-IDF', 'normalize': True, 'ICM_weight': 5} - results: PRECISION: 0.3496335, PRECISION_RECALL_MIN_DEN: 0.3513392, RECALL: 0.0601305, MAP: 0.2125084, MAP_MIN_DEN: 0.2132577, MRR: 0.6172657, NDCG: 0.3689270, F1: 0.1026133, HIT_RATE: 0.9536793, ARHR_ALL_HITS: 1.1268567, NOVELTY: 0.0053134, AVERAGE_POPULARITY: 0.6560807, DIVERSITY_MEAN_INTER_LIST: 0.8145055, DIVERSITY_HERFINDAHL: 0.9814446, COVERAGE_ITEM: 0.0491168, COVERAGE_ITEM_CORRECT: 0.0275209, COVERAGE_USER: 0.9995604, COVERAGE_USER_CORRECT: 0.9532601, DIVERSITY_GINI: 0.0039384, SHANNON_ENTROPY: 6.4102591, RATIO_DIVERSITY_HERFINDAHL: 0.9818236, RATIO_DIVERSITY_GINI: 0.0158871, RATIO_SHANNON_ENTROPY: 0.5173891, RATIO_AVERAGE_POPULARITY: 3.2381591, RATIO_NOVELTY: 0.0250004, \n",
      "\n"
     ]
    },
    {
     "name": "stderr",
     "output_type": "stream",
     "text": [
      "C:\\Users\\marti\\miniconda3\\envs\\RecSys\\lib\\site-packages\\skopt\\optimizer\\optimizer.py:449: UserWarning: The objective has been evaluated at this point before.\n",
      "  warnings.warn(\"The objective has been evaluated \"\n"
     ]
    },
    {
     "name": "stdout",
     "output_type": "stream",
     "text": [
      "Iteration No: 299 ended. Search finished for the next optimal point.\n",
      "Time taken: 7.3347\n",
      "Function value obtained: -0.2125\n",
      "Current minimum: -0.2127\n",
      "Iteration No: 300 started. Searching for the next optimal point.\n",
      "SearchBayesianSkopt: Testing config: {'shrink': 10, 'topK': 200, 'feature_weighting': 'TF-IDF', 'normalize': True, 'ICM_weight': 5}\n",
      "SearchBayesianSkopt: Config 299 was already explored at index 160. Config: {'shrink': 10, 'topK': 200, 'feature_weighting': 'TF-IDF', 'normalize': True, 'ICM_weight': 5} - results: PRECISION: 0.3496335, PRECISION_RECALL_MIN_DEN: 0.3513392, RECALL: 0.0601305, MAP: 0.2125084, MAP_MIN_DEN: 0.2132577, MRR: 0.6172657, NDCG: 0.3689270, F1: 0.1026133, HIT_RATE: 0.9536793, ARHR_ALL_HITS: 1.1268567, NOVELTY: 0.0053134, AVERAGE_POPULARITY: 0.6560807, DIVERSITY_MEAN_INTER_LIST: 0.8145055, DIVERSITY_HERFINDAHL: 0.9814446, COVERAGE_ITEM: 0.0491168, COVERAGE_ITEM_CORRECT: 0.0275209, COVERAGE_USER: 0.9995604, COVERAGE_USER_CORRECT: 0.9532601, DIVERSITY_GINI: 0.0039384, SHANNON_ENTROPY: 6.4102591, RATIO_DIVERSITY_HERFINDAHL: 0.9818236, RATIO_DIVERSITY_GINI: 0.0158871, RATIO_SHANNON_ENTROPY: 0.5173891, RATIO_AVERAGE_POPULARITY: 3.2381591, RATIO_NOVELTY: 0.0250004, \n",
      "\n"
     ]
    },
    {
     "name": "stderr",
     "output_type": "stream",
     "text": [
      "C:\\Users\\marti\\miniconda3\\envs\\RecSys\\lib\\site-packages\\skopt\\optimizer\\optimizer.py:449: UserWarning: The objective has been evaluated at this point before.\n",
      "  warnings.warn(\"The objective has been evaluated \"\n"
     ]
    },
    {
     "name": "stdout",
     "output_type": "stream",
     "text": [
      "Iteration No: 300 ended. Search finished for the next optimal point.\n",
      "Time taken: 6.4864\n",
      "Function value obtained: -0.2125\n",
      "Current minimum: -0.2127\n",
      "SearchBayesianSkopt: Search complete. Best config is 176: {'shrink': 10, 'topK': 200, 'feature_weighting': 'TF-IDF', 'normalize': True, 'ICM_weight': 15}\n",
      "\n"
     ]
    }
   ],
   "source": [
    "if __name__ == '__main__':\n",
    "    hyperparameterSearch.search(recommender_input_args,\n",
    "                           hyperparameter_search_space = hyperparameters_range_dictionary,\n",
    "                           n_cases = n_cases,\n",
    "                           n_random_starts = n_random_starts,\n",
    "                           output_folder_path = output_folder_path,\n",
    "                           output_file_name_root = recommender_class.RECOMMENDER_NAME,\n",
    "                           metric_to_optimize = metric_to_optimize,\n",
    "                           cutoff_to_optimize = cutoff_to_optimize,\n",
    "                          )"
   ]
  },
  {
   "cell_type": "code",
   "execution_count": 9,
   "id": "3d773c81",
   "metadata": {},
   "outputs": [
    {
     "data": {
      "text/plain": [
       "'\\nrecommender = MultiThreadSLIM_SLIMElasticNetRecommender(R_F)\\nrecommender.load_model(output_folder_path, file_name = MultiThreadSLIM_SLIMElasticNetRecommender.RECOMMENDER_NAME + \"_best_model.zip\" )\\n\\nimport pandas as pd\\nat = 10\\n\\nuser_test_path = \\'../data/data_target_users_test.csv\\'\\nuser_test_dataframe = pd.read_csv(filepath_or_buffer=user_test_path,\\nsep=\",\",\\ndtype={0:int})\\n\\nsubm_set = user_test_dataframe.to_numpy().T[0]\\n\\n\\nsubm_res = {\"user_id\":[], \"item_list\":[]}\\n\\nfor user_id in subm_set:\\n\\tsubm_res[\"user_id\"].append(user_id)\\n\\tres = recommender.recommend(user_id, cutoff=at)\\n\\tres = \\' \\'.join(map(str, res))\\n\\tif user_id < 3:\\n\\t\\tprint(user_id)\\n\\t\\tprint(res)\\n\\tsubm_res[\"item_list\"].append(res)\\n\\n\\n\\t# print(subm_res)\\n\\nsubmission = pd.DataFrame.from_dict(subm_res)\\n\\t# submission\\n\\nfrom datetime import datetime\\n\\nnow = datetime.now() # current date and time\\n\\n\\nsubmission.to_csv(\\'../subs/submission {:%Y_%m_%d %H_%M_%S}.csv\\'.format(now), index=False)\\n\\n'"
      ]
     },
     "execution_count": 9,
     "metadata": {},
     "output_type": "execute_result"
    }
   ],
   "source": [
    "'''\n",
    "recommender = MultiThreadSLIM_SLIMElasticNetRecommender(R_F)\n",
    "recommender.load_model(output_folder_path, file_name = MultiThreadSLIM_SLIMElasticNetRecommender.RECOMMENDER_NAME + \"_best_model.zip\" )\n",
    "\n",
    "import pandas as pd\n",
    "at = 10\n",
    "\n",
    "user_test_path = '../data/data_target_users_test.csv'\n",
    "user_test_dataframe = pd.read_csv(filepath_or_buffer=user_test_path,\n",
    "sep=\",\",\n",
    "dtype={0:int})\n",
    "\n",
    "subm_set = user_test_dataframe.to_numpy().T[0]\n",
    "\n",
    "\n",
    "subm_res = {\"user_id\":[], \"item_list\":[]}\n",
    "\n",
    "for user_id in subm_set:\n",
    "\tsubm_res[\"user_id\"].append(user_id)\n",
    "\tres = recommender.recommend(user_id, cutoff=at)\n",
    "\tres = ' '.join(map(str, res))\n",
    "\tif user_id < 3:\n",
    "\t\tprint(user_id)\n",
    "\t\tprint(res)\n",
    "\tsubm_res[\"item_list\"].append(res)\n",
    "\n",
    "\n",
    "\t# print(subm_res)\n",
    "\n",
    "submission = pd.DataFrame.from_dict(subm_res)\n",
    "\t# submission\n",
    "\n",
    "from datetime import datetime\n",
    "\n",
    "now = datetime.now() # current date and time\n",
    "\n",
    "\n",
    "submission.to_csv('../subs/submission {:%Y_%m_%d %H_%M_%S}.csv'.format(now), index=False)\n",
    "\n",
    "'''"
   ]
  },
  {
   "cell_type": "code",
   "execution_count": null,
   "id": "ed47bc68",
   "metadata": {},
   "outputs": [],
   "source": []
  }
 ],
 "metadata": {
  "kernelspec": {
   "display_name": "Python 3 (ipykernel)",
   "language": "python",
   "name": "python3"
  },
  "language_info": {
   "codemirror_mode": {
    "name": "ipython",
    "version": 3
   },
   "file_extension": ".py",
   "mimetype": "text/x-python",
   "name": "python",
   "nbconvert_exporter": "python",
   "pygments_lexer": "ipython3",
   "version": "3.8.12"
  }
 },
 "nbformat": 4,
 "nbformat_minor": 5
}
