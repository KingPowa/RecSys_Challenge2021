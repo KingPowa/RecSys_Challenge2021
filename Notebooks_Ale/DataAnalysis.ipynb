{
 "cells": [
  {
   "cell_type": "code",
   "execution_count": 3,
   "metadata": {},
   "outputs": [],
   "source": [
    "import sys\n",
    "sys.path.append('../RecSysRep/')"
   ]
  },
  {
   "cell_type": "code",
   "execution_count": 4,
   "metadata": {},
   "outputs": [],
   "source": [
    "import Basics.Load as ld\n",
    "\n",
    "URM_all, ICM_genre_all, ICM_subgenre_all, ICM_channel_all, ICM_event_all = ld.getCOOs()\n",
    "URM_all_dataframe, ICM_genre_all_dataframe, ICM_subgenre_all_dataframe, ICM_channel_all_dataframe, ICM_event_all_dataframe = ld.getDataframes()\n",
    "# URM_train, URM_val = ld.getSplit(URM_train_val, 5678, 0.8)"
   ]
  },
  {
   "cell_type": "code",
   "execution_count": 5,
   "metadata": {},
   "outputs": [],
   "source": [
    "# ICM_genre_all -> toarray -> DATAFRAME\n",
    "URM_all_CSR = URM_all.tocsr()\n",
    "ICM_genre_all_CSR = ICM_genre_all.tocsr()\n",
    "ICM_subgenre_all_CSR = ICM_subgenre_all.tocsr()\n",
    "ICM_channel_all_CSR = ICM_channel_all.tocsr()"
   ]
  },
  {
   "cell_type": "markdown",
   "metadata": {},
   "source": [
    "### Create array of indices of all TV shows watched by one user"
   ]
  },
  {
   "cell_type": "code",
   "execution_count": 6,
   "metadata": {},
   "outputs": [
    {
     "name": "stdout",
     "output_type": "stream",
     "text": [
      "[   53   209   223   249   435   460   652   960   973  1103  1215  1267\n",
      "  1418  1455  1461  1496  1782  1964  2083  2307  2489  2678  2844  2886\n",
      "  2974  3065  3136  3140  3473  3492  3544  3619  3830  3942  4081  4292\n",
      "  4365  4438  4522  4571  4582  4607  5051  5134  5273  5299  5300  5403\n",
      "  5414  5665  5793  5925  5951  6006  6112  6170  6177  6214  6233  6300\n",
      "  6488  6641  6933  6975  7015  7089  7099  7407  7645  7884  7899  7919\n",
      "  7971  7975  8011  8111  8194  8213  8371  8567  8709  8747  8911  8942\n",
      "  9308  9426  9482  9508  9610  9618  9734  9908  9959  9969  9992 10197\n",
      " 10382 10418 10624 10865 10866 10954 11074 11282 11340 11394 11430 11507\n",
      " 11564 11576 11607 11870 12186 12281 12296 12310 12311 12371 12390 12707\n",
      " 12788 13237 13281 13848 13865 14044 14181 14227 14358 14400 14468 14477\n",
      " 14485 14520 14952 15064 15082 15119 15290 15503 15507 15514 15551 15624\n",
      " 15712 15740 15844 16028 16136 16364 16520 16549 16731 16751 16846 16897\n",
      " 16932 17000 17001 17294 17297 17330 17428 17565 17625 17788 17827 17858]\n"
     ]
    }
   ],
   "source": [
    "user_id = 0\n",
    "start = URM_all_CSR.indptr[user_id]\n",
    "end = URM_all_CSR.indptr[user_id+1]\n",
    "watched_movies = URM_all_CSR.indices[start:end]\n",
    "\n",
    "print(watched_movies)"
   ]
  },
  {
   "cell_type": "markdown",
   "metadata": {},
   "source": [
    "### Get GenreID for each TV show"
   ]
  },
  {
   "cell_type": "code",
   "execution_count": 7,
   "metadata": {},
   "outputs": [
    {
     "name": "stdout",
     "output_type": "stream",
     "text": [
      "       ItemID  GenreID  Match\n",
      "50         53        4    1.0\n",
      "206       209        6    1.0\n",
      "219       223        7    1.0\n",
      "247       249        7    1.0\n",
      "434       435        3    1.0\n",
      "...       ...      ...    ...\n",
      "17494   17565        7    1.0\n",
      "17555   17625        7    1.0\n",
      "17719   17788        6    1.0\n",
      "17758   17827        3    1.0\n",
      "17789   17858        6    1.0\n",
      "\n",
      "[162 rows x 3 columns]\n"
     ]
    }
   ],
   "source": [
    "user_genres = ICM_genre_all_dataframe.loc[ICM_genre_all_dataframe['ItemID'].isin(watched_movies)]\n",
    "print(user_genres)"
   ]
  },
  {
   "cell_type": "code",
   "execution_count": 8,
   "metadata": {},
   "outputs": [
    {
     "name": "stdout",
     "output_type": "stream",
     "text": [
      "Most watched genre by user 0:\n",
      "7\n"
     ]
    }
   ],
   "source": [
    "mode = user_genres['GenreID'].mode()[0]\n",
    "print(\"Most watched genre by user \" + str(user_id) + \":\\n\" + str(mode))"
   ]
  },
  {
   "cell_type": "code",
   "execution_count": 9,
   "metadata": {},
   "outputs": [
    {
     "name": "stdout",
     "output_type": "stream",
     "text": [
      "Percentage of watched TV shows that are not the user's favourite genre: 61.72839506172839\n"
     ]
    }
   ],
   "source": [
    "variance = len(user_genres.loc[user_genres['GenreID'] != mode])\n",
    "perc_nonfav = variance/len(user_genres) * 100\n",
    "\n",
    "print(\"Percentage of watched TV shows that are not the user's favourite genre: \" + str(perc_nonfav))"
   ]
  },
  {
   "cell_type": "markdown",
   "metadata": {},
   "source": [
    "# Interesting part"
   ]
  },
  {
   "cell_type": "code",
   "execution_count": 10,
   "metadata": {},
   "outputs": [],
   "source": [
    "feature_CSR = ICM_genre_all_CSR"
   ]
  },
  {
   "cell_type": "markdown",
   "metadata": {},
   "source": [
    "### Get matrix with number of TV shows watched per genre per user"
   ]
  },
  {
   "cell_type": "code",
   "execution_count": 11,
   "metadata": {},
   "outputs": [
    {
     "data": {
      "text/html": [
       "<div>\n",
       "<style scoped>\n",
       "    .dataframe tbody tr th:only-of-type {\n",
       "        vertical-align: middle;\n",
       "    }\n",
       "\n",
       "    .dataframe tbody tr th {\n",
       "        vertical-align: top;\n",
       "    }\n",
       "\n",
       "    .dataframe thead th {\n",
       "        text-align: right;\n",
       "    }\n",
       "</style>\n",
       "<table border=\"1\" class=\"dataframe\">\n",
       "  <thead>\n",
       "    <tr style=\"text-align: right;\">\n",
       "      <th></th>\n",
       "      <th>0</th>\n",
       "      <th>1</th>\n",
       "      <th>2</th>\n",
       "      <th>3</th>\n",
       "      <th>4</th>\n",
       "      <th>5</th>\n",
       "      <th>6</th>\n",
       "      <th>7</th>\n",
       "    </tr>\n",
       "  </thead>\n",
       "  <tbody>\n",
       "    <tr>\n",
       "      <th>0</th>\n",
       "      <td>7.0</td>\n",
       "      <td>1.0</td>\n",
       "      <td>2.0</td>\n",
       "      <td>20.0</td>\n",
       "      <td>7.0</td>\n",
       "      <td>16.0</td>\n",
       "      <td>47.0</td>\n",
       "      <td>62.0</td>\n",
       "    </tr>\n",
       "    <tr>\n",
       "      <th>1</th>\n",
       "      <td>20.0</td>\n",
       "      <td>4.0</td>\n",
       "      <td>7.0</td>\n",
       "      <td>222.0</td>\n",
       "      <td>92.0</td>\n",
       "      <td>42.0</td>\n",
       "      <td>82.0</td>\n",
       "      <td>138.0</td>\n",
       "    </tr>\n",
       "    <tr>\n",
       "      <th>2</th>\n",
       "      <td>10.0</td>\n",
       "      <td>0.0</td>\n",
       "      <td>0.0</td>\n",
       "      <td>53.0</td>\n",
       "      <td>6.0</td>\n",
       "      <td>18.0</td>\n",
       "      <td>20.0</td>\n",
       "      <td>31.0</td>\n",
       "    </tr>\n",
       "    <tr>\n",
       "      <th>3</th>\n",
       "      <td>5.0</td>\n",
       "      <td>1.0</td>\n",
       "      <td>1.0</td>\n",
       "      <td>8.0</td>\n",
       "      <td>3.0</td>\n",
       "      <td>0.0</td>\n",
       "      <td>26.0</td>\n",
       "      <td>7.0</td>\n",
       "    </tr>\n",
       "    <tr>\n",
       "      <th>4</th>\n",
       "      <td>30.0</td>\n",
       "      <td>8.0</td>\n",
       "      <td>5.0</td>\n",
       "      <td>232.0</td>\n",
       "      <td>19.0</td>\n",
       "      <td>38.0</td>\n",
       "      <td>127.0</td>\n",
       "      <td>146.0</td>\n",
       "    </tr>\n",
       "    <tr>\n",
       "      <th>...</th>\n",
       "      <td>...</td>\n",
       "      <td>...</td>\n",
       "      <td>...</td>\n",
       "      <td>...</td>\n",
       "      <td>...</td>\n",
       "      <td>...</td>\n",
       "      <td>...</td>\n",
       "      <td>...</td>\n",
       "    </tr>\n",
       "    <tr>\n",
       "      <th>13645</th>\n",
       "      <td>197.0</td>\n",
       "      <td>5.0</td>\n",
       "      <td>3.0</td>\n",
       "      <td>216.0</td>\n",
       "      <td>7.0</td>\n",
       "      <td>83.0</td>\n",
       "      <td>25.0</td>\n",
       "      <td>78.0</td>\n",
       "    </tr>\n",
       "    <tr>\n",
       "      <th>13646</th>\n",
       "      <td>19.0</td>\n",
       "      <td>2.0</td>\n",
       "      <td>1.0</td>\n",
       "      <td>29.0</td>\n",
       "      <td>83.0</td>\n",
       "      <td>25.0</td>\n",
       "      <td>18.0</td>\n",
       "      <td>41.0</td>\n",
       "    </tr>\n",
       "    <tr>\n",
       "      <th>13647</th>\n",
       "      <td>9.0</td>\n",
       "      <td>6.0</td>\n",
       "      <td>3.0</td>\n",
       "      <td>54.0</td>\n",
       "      <td>44.0</td>\n",
       "      <td>30.0</td>\n",
       "      <td>31.0</td>\n",
       "      <td>76.0</td>\n",
       "    </tr>\n",
       "    <tr>\n",
       "      <th>13648</th>\n",
       "      <td>4.0</td>\n",
       "      <td>0.0</td>\n",
       "      <td>0.0</td>\n",
       "      <td>41.0</td>\n",
       "      <td>39.0</td>\n",
       "      <td>12.0</td>\n",
       "      <td>30.0</td>\n",
       "      <td>53.0</td>\n",
       "    </tr>\n",
       "    <tr>\n",
       "      <th>13649</th>\n",
       "      <td>13.0</td>\n",
       "      <td>6.0</td>\n",
       "      <td>3.0</td>\n",
       "      <td>76.0</td>\n",
       "      <td>14.0</td>\n",
       "      <td>46.0</td>\n",
       "      <td>89.0</td>\n",
       "      <td>82.0</td>\n",
       "    </tr>\n",
       "  </tbody>\n",
       "</table>\n",
       "<p>13650 rows × 8 columns</p>\n",
       "</div>"
      ],
      "text/plain": [
       "           0    1    2      3     4     5      6      7\n",
       "0        7.0  1.0  2.0   20.0   7.0  16.0   47.0   62.0\n",
       "1       20.0  4.0  7.0  222.0  92.0  42.0   82.0  138.0\n",
       "2       10.0  0.0  0.0   53.0   6.0  18.0   20.0   31.0\n",
       "3        5.0  1.0  1.0    8.0   3.0   0.0   26.0    7.0\n",
       "4       30.0  8.0  5.0  232.0  19.0  38.0  127.0  146.0\n",
       "...      ...  ...  ...    ...   ...   ...    ...    ...\n",
       "13645  197.0  5.0  3.0  216.0   7.0  83.0   25.0   78.0\n",
       "13646   19.0  2.0  1.0   29.0  83.0  25.0   18.0   41.0\n",
       "13647    9.0  6.0  3.0   54.0  44.0  30.0   31.0   76.0\n",
       "13648    4.0  0.0  0.0   41.0  39.0  12.0   30.0   53.0\n",
       "13649   13.0  6.0  3.0   76.0  14.0  46.0   89.0   82.0\n",
       "\n",
       "[13650 rows x 8 columns]"
      ]
     },
     "execution_count": 11,
     "metadata": {},
     "output_type": "execute_result"
    }
   ],
   "source": [
    "import pandas as pd\n",
    "matrix_usergenres = URM_all_CSR * feature_CSR\n",
    "df_usergenres = pd.DataFrame(matrix_usergenres.toarray())\n",
    "df_usergenres"
   ]
  },
  {
   "cell_type": "markdown",
   "metadata": {},
   "source": [
    "### Get matrix with percentage of watched TV shows that are the user's favourite genre"
   ]
  },
  {
   "cell_type": "code",
   "execution_count": 164,
   "metadata": {},
   "outputs": [
    {
     "name": "stdout",
     "output_type": "stream",
     "text": [
      "0        38.271605\n",
      "1        36.573311\n",
      "2        38.405797\n",
      "3        50.980392\n",
      "4        38.347107\n",
      "           ...    \n",
      "13645    35.179153\n",
      "13646    38.073394\n",
      "13647    30.039526\n",
      "13648    29.608939\n",
      "13649    27.051672\n",
      "Length: 13650, dtype: float64\n"
     ]
    }
   ],
   "source": [
    "df_nonfav = (df_usergenres.max(axis=1)/df_usergenres.sum(axis=1)) * 100\n",
    "print(df_nonfav)"
   ]
  },
  {
   "cell_type": "code",
   "execution_count": 165,
   "metadata": {},
   "outputs": [
    {
     "data": {
      "text/plain": [
       "count    13650.000000\n",
       "mean        35.056996\n",
       "std          7.708112\n",
       "min         17.647059\n",
       "25%         29.520540\n",
       "50%         33.468565\n",
       "75%         39.187810\n",
       "max         90.534351\n",
       "dtype: float64"
      ]
     },
     "execution_count": 165,
     "metadata": {},
     "output_type": "execute_result"
    }
   ],
   "source": [
    "df_nonfav.describe()"
   ]
  },
  {
   "cell_type": "code",
   "execution_count": null,
   "metadata": {},
   "outputs": [],
   "source": []
  },
  {
   "cell_type": "markdown",
   "metadata": {},
   "source": [
    "### Get entropy"
   ]
  },
  {
   "cell_type": "code",
   "execution_count": 166,
   "metadata": {},
   "outputs": [
    {
     "data": {
      "text/plain": [
       "0        2.265977\n",
       "1        2.370114\n",
       "2        2.272393\n",
       "3        2.099338\n",
       "4        2.260168\n",
       "           ...   \n",
       "13645    2.180496\n",
       "13646    2.430868\n",
       "13647    2.546621\n",
       "13648    2.301713\n",
       "13649    2.440183\n",
       "Length: 13650, dtype: float64"
      ]
     },
     "execution_count": 166,
     "metadata": {},
     "output_type": "execute_result"
    }
   ],
   "source": [
    "import numpy as np\n",
    "# print(df_usergenres.idxmax(axis=1))\n",
    "total_views_per_user = df_usergenres.sum(axis=1)\n",
    "# print(total_views_per_user)\n",
    "df_prob = df_usergenres.div(total_views_per_user, axis=0)\n",
    "df_ent = df_prob.mul(-np.log2(df_prob))\n",
    "df_ent = df_ent.fillna(0)\n",
    "df_entropy = df_ent.sum(axis=1)\n",
    "\n",
    "df_entropy"
   ]
  },
  {
   "cell_type": "code",
   "execution_count": 167,
   "metadata": {},
   "outputs": [
    {
     "data": {
      "text/plain": [
       "count    13650.000000\n",
       "mean         2.345460\n",
       "std          0.166769\n",
       "min          0.676733\n",
       "25%          2.250559\n",
       "50%          2.367012\n",
       "75%          2.461359\n",
       "max          2.895424\n",
       "dtype: float64"
      ]
     },
     "execution_count": 167,
     "metadata": {},
     "output_type": "execute_result"
    }
   ],
   "source": [
    "df_entropy.describe()"
   ]
  },
  {
   "cell_type": "markdown",
   "metadata": {},
   "source": [
    "### Usage"
   ]
  },
  {
   "cell_type": "code",
   "execution_count": 16,
   "metadata": {},
   "outputs": [
    {
     "name": "stdout",
     "output_type": "stream",
     "text": [
      "count    13650.000000\n",
      "mean         5.661848\n",
      "std          0.547700\n",
      "min          1.736641\n",
      "25%          5.372767\n",
      "50%          5.709816\n",
      "75%          6.026688\n",
      "max          6.971522\n",
      "dtype: float64\n"
     ]
    }
   ],
   "source": [
    "from Basics.Entropy import getMeanEntropy\n",
    "\n",
    "print(getMeanEntropy(ICM_channel_all_CSR, URM_all_CSR).describe())"
   ]
  },
  {
   "cell_type": "code",
   "execution_count": null,
   "metadata": {},
   "outputs": [],
   "source": []
  }
 ],
 "metadata": {
  "kernelspec": {
   "display_name": "Python 3",
   "language": "python",
   "name": "python3"
  },
  "language_info": {
   "codemirror_mode": {
    "name": "ipython",
    "version": 3
   },
   "file_extension": ".py",
   "mimetype": "text/x-python",
   "name": "python",
   "nbconvert_exporter": "python",
   "pygments_lexer": "ipython3",
   "version": "3.8.8"
  }
 },
 "nbformat": 4,
 "nbformat_minor": 4
}
