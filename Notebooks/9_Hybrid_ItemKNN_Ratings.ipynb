{
 "cells": [
  {
   "cell_type": "code",
   "execution_count": 1,
   "id": "7e809989",
   "metadata": {},
   "outputs": [],
   "source": [
    "import sys\n",
    "sys.path.append('../RecSysRep/')"
   ]
  },
  {
   "cell_type": "code",
   "execution_count": 2,
   "id": "bc728eee",
   "metadata": {},
   "outputs": [],
   "source": [
    "import Basics.Load as ld\n",
    "\n",
    "URM_all, _, _, _, _ = ld.getCOOs()\n",
    "ICM_sel_7 = ld.getICMselected('7')\n",
    "ICM_sel_9 = ld.getICMselected('9')\n",
    "# URM_train, URM_val = ld.getSplit(URM_train_val, 5678, 0.8)"
   ]
  },
  {
   "cell_type": "code",
   "execution_count": 3,
   "id": "09a0a841",
   "metadata": {},
   "outputs": [
    {
     "name": "stdout",
     "output_type": "stream",
     "text": [
      "Warning: 2 (0.01 %) of 13650 users have no sampled items\n",
      "EvaluatorHoldout: Ignoring 13648 ( 0.0%) Users that have less than 1 test interactions\n"
     ]
    }
   ],
   "source": [
    "from Evaluation.Evaluator import EvaluatorHoldout\n",
    "from Data_manager.split_functions.split_train_validation_random_holdout import split_train_in_two_percentage_global_sample\n",
    "\n",
    "URM_train, URM_validation = split_train_in_two_percentage_global_sample(URM_all, train_percentage = 0.8, seed=3456)\n",
    "# URM_train, URM_validation = split_train_in_two_percentage_global_sample(URM_train_validation, train_percentage = 0.8)\n",
    "\n",
    "evaluator_validation = EvaluatorHoldout(URM_validation, cutoff_list=[10])\n",
    "# evaluator_test = EvaluatorHoldout(URM_test, cutoff_list=[10])"
   ]
  },
  {
   "cell_type": "code",
   "execution_count": 4,
   "id": "2d0f462a",
   "metadata": {},
   "outputs": [],
   "source": [
    "import os\n",
    "\n",
    "ofp = \"../models_temp/Similarity_Hybrid/\"\n",
    "\n",
    "models_to_combine_best = {\n",
    "                            'RP3ICMnew': {'alpha': 1.029719677583138, 'beta': 1.0630164752134375, 'topK': 6964, 'normalize_similarity': True},\n",
    "                            'RP3ICM' : {\"topK\": 2550, \"alpha\": 1.3058102610510849, \"beta\": 0.5150718337969987, \"normalize_similarity\": True, \"implicit\": True},\n",
    "                            'IALS' : {\"num_factors\": 29, \"epochs\": 50, \"confidence_scaling\": \"log\", \"alpha\": 0.001, \"epsilon\": 0.001, \"reg\": 0.01},\n",
    "                            'SLIMgensub': {\"l1_ratio\" : 0.025887359156206147, \"topK\": 2140, \"alpha\": 0.009567288586539689, \"workers\": 8, \"mw\": 1},\n",
    "                            'SLIMBPR' : {\"epochs\": 440, \"lambda_i\": 0.007773815998802306, \"lambda_j\": 0.003342522366982381, \"learning_rate\": 0.010055161410725193, \"topK\": 4289, \"random_seed\": 1234, \"sgd_mode\": \"sgd\"},\n",
    "                            'SLIMweig': {'l1_ratio': 0.0005247075138160404, 'topK': 4983, 'alpha': 0.06067400905430761, 'workers': 8, 'mw': 2.308619939318322},\n",
    "                            'SLIMER': {'topK': 6000, 'l1_ratio': 0.0005495104968035837, 'alpha': 0.08007142704041009, 'workers': 8},\n",
    "                            'P3alpha': {'topK': 4834, 'alpha': 1.764994849187595, 'normalize_similarity': True, 'implicit': True},\n",
    "                            'RP3beta': {\"topK\": 1049, \"alpha\": 1.1626473723475605, \"beta\": 0.6765017195261293, \"normalize_similarity\": True, \"implicit\": True},\n",
    "                            'sel7': {\"shrink\": 4000, \"topK\": 985, \"feature_weighting\": \"TF-IDF\", \"normalize\": True},\n",
    "                            'sel9': {\"shrink\": 5212, \"topK\": 923, \"feature_weighting\": \"TF-IDF\", \"normalize\": True},\n",
    "                            'sel3': {'shrink': 2211, 'topK': 188, 'feature_weighting': 'TF-IDF', 'normalize': True},\n",
    "                            'ER_BPR': {'alpha': 0.58},\n",
    "                         }\n"
   ]
  },
  {
   "cell_type": "code",
   "execution_count": 5,
   "id": "1348b9f2",
   "metadata": {},
   "outputs": [],
   "source": [
    "def model_init(recommender, name, args):\n",
    "    path_name = ofp + name + \".zip\"\n",
    "    print(path_name)\n",
    "    if os.path.exists(path_name):\n",
    "        print(\"Model found!\")\n",
    "        recommender.load_model(ofp, name)\n",
    "    else:\n",
    "        print(\"Model does not exists, creating...\")\n",
    "        if not os.path.exists(ofp):\n",
    "            print(\"Main folder does not exist, creating...\")\n",
    "            os.makedirs(ofp)\n",
    "        recommender.fit(**args)\n",
    "        recommender.save_model(ofp, name)"
   ]
  },
  {
   "cell_type": "code",
   "execution_count": 6,
   "id": "1fe35dd8",
   "metadata": {},
   "outputs": [],
   "source": [
    "from Recommenders.NonPersonalizedRecommender import TopPop\n",
    "from Recommenders.KNN.ItemKNNCBFRecommender import ItemKNNCBFRecommender\n",
    "from Recommenders.SLIM.Cython.SLIM_BPR_Cython import SLIM_BPR_Cython\n",
    "from Recommenders.SLIM.SLIMElasticNetRecommender import MultiThreadSLIM_SLIMElasticNetRecommender\n",
    "from Recommenders.GraphBased.P3alphaRecommender import P3alphaRecommender\n",
    "from Recommenders.GraphBased.RP3betaRecommender import RP3betaRecommender\n",
    "from Recommenders.GraphBased.RP3betaRecommender import RP3betaRecommenderICM\n",
    "from Recommenders.MatrixFactorization.IALSRecommender import IALSRecommender"
   ]
  },
  {
   "cell_type": "code",
   "execution_count": 7,
   "id": "2329e3a7",
   "metadata": {},
   "outputs": [],
   "source": [
    "from Recommenders.KNN.ItemKNNScoresHybridMultipleRecommender import ItemKNNScoresHybridTwoRecommender\n",
    "from Recommenders.KNN.ItemKNNScoresHybridMultipleRecommender import ItemKNNScoresHybridMultipleRecommender\n",
    "from Recommenders.KNN.ItemKNNScoresHybridMultipleRecommender import ItemKNNScoresHybridOfHybridRecommender"
   ]
  },
  {
   "cell_type": "code",
   "execution_count": null,
   "id": "035dfa3b",
   "metadata": {},
   "outputs": [
    {
     "name": "stderr",
     "output_type": "stream",
     "text": [
      "\r",
      "  0%|                                                                                        | 0/18059 [00:00<?, ?it/s]"
     ]
    },
    {
     "name": "stdout",
     "output_type": "stream",
     "text": [
      "ItemKNNCBFRecommender: ICM Detected 1 ( 0.0%) items with no features.\n",
      "../models_temp/Similarity_Hybrid/SLIMER.zip\n",
      "Model does not exists, creating...\n"
     ]
    },
    {
     "name": "stderr",
     "output_type": "stream",
     "text": [
      "  6%|████▊                                                                        | 1128/18059 [01:07<18:39, 15.12it/s]"
     ]
    }
   ],
   "source": [
    "recommender1 = MultiThreadSLIM_SLIMElasticNetRecommender(URM_train)\n",
    "recommender2 = SLIM_BPR_Cython(URM_train)\n",
    "recommender3 = ItemKNNCBFRecommender(URM_train, ICM_sel_9)\n",
    "recommenderHybrid = ItemKNNScoresHybridTwoRecommender(URM_train, recommender1, recommender2)\n",
    "\n",
    "model_init(recommender1, 'SLIMER', models_to_combine_best['SLIMER'])\n",
    "# model_init(recommender2, 'KNNweigh', models_to_combine_best['icm_weighted'])\n",
    "model_init(recommender2, 'SLIMBPR', models_to_combine_best['SLIMBPR'])\n",
    "model_init(recommender3, 'KNN_3', models_to_combine_best['sel3'])"
   ]
  },
  {
   "cell_type": "code",
   "execution_count": 12,
   "id": "399ca661",
   "metadata": {},
   "outputs": [],
   "source": [
    "\n",
    "recommenderHybrid.fit(alpha = 0.58)\n"
   ]
  },
  {
   "cell_type": "code",
   "execution_count": null,
   "id": "4b3c2ca0",
   "metadata": {},
   "outputs": [],
   "source": [
    "def rank_models(evaluator, recommenders):\n",
    "    for r in recommenders:\n",
    "        r_d, _ = evaluator.evaluateRecommender(r)\n",
    "        print(r.RECOMMENDER_NAME, r_d.loc[10]['MAP'])"
   ]
  },
  {
   "cell_type": "code",
   "execution_count": null,
   "id": "b03d5ba5",
   "metadata": {},
   "outputs": [],
   "source": [
    "rank_models(evaluator_validation, [recommender1, recommender2])"
   ]
  },
  {
   "cell_type": "code",
   "execution_count": 17,
   "id": "b055f71c",
   "metadata": {},
   "outputs": [],
   "source": [
    "import numpy as np\n",
    "\n",
    "# TWO RECOMMENDERS\n",
    "\n",
    "def test_percentage(recommender_1, recommender_2, evaluator, step):\n",
    "    recommender = ItemKNNScoresHybridOfHybridRecommender(URM_train, recommender_1, recommender_2)\n",
    "    results = []\n",
    "    alp_space = np.linspace(0.95, 1, step, True)\n",
    "    for alp in alp_space:\n",
    "        recommender.fit(alpha = alp)\n",
    "        r_d, _ = evaluator.evaluateRecommender(recommender)\n",
    "        print(alp, \":\", r_d.loc[10]['MAP'])\n",
    "        results.append(r_d.loc[10]['MAP'])\n",
    "    \n",
    "    return alp_space, results"
   ]
  },
  {
   "cell_type": "code",
   "execution_count": 18,
   "id": "301a9343",
   "metadata": {},
   "outputs": [
    {
     "name": "stdout",
     "output_type": "stream",
     "text": [
      "EvaluatorHoldout: Processed 11000 (80.6%) in 5.46 min. Users per second: 34\n",
      "EvaluatorHoldout: Processed 13643 (100.0%) in 6.52 min. Users per second: 35\n",
      "0.95 : 0.2506654380582387\n",
      "EvaluatorHoldout: Processed 11000 (80.6%) in 5.47 min. Users per second: 34\n",
      "EvaluatorHoldout: Processed 13643 (100.0%) in 6.54 min. Users per second: 35\n",
      "0.9555555555555555 : 0.250719841211668\n",
      "EvaluatorHoldout: Processed 11000 (80.6%) in 5.47 min. Users per second: 34\n",
      "EvaluatorHoldout: Processed 13643 (100.0%) in 6.54 min. Users per second: 35\n",
      "0.961111111111111 : 0.2509117531055512\n",
      "EvaluatorHoldout: Processed 11000 (80.6%) in 5.47 min. Users per second: 34\n",
      "EvaluatorHoldout: Processed 13643 (100.0%) in 6.53 min. Users per second: 35\n",
      "0.9666666666666667 : 0.2508491708638303\n",
      "EvaluatorHoldout: Processed 11000 (80.6%) in 5.47 min. Users per second: 34\n",
      "EvaluatorHoldout: Processed 13643 (100.0%) in 6.53 min. Users per second: 35\n",
      "0.9722222222222222 : 0.25078163521266256\n",
      "EvaluatorHoldout: Processed 11000 (80.6%) in 5.47 min. Users per second: 33\n",
      "EvaluatorHoldout: Processed 13643 (100.0%) in 6.53 min. Users per second: 35\n",
      "0.9777777777777777 : 0.25072873000748214\n",
      "EvaluatorHoldout: Processed 11000 (80.6%) in 5.48 min. Users per second: 33\n",
      "EvaluatorHoldout: Processed 13643 (100.0%) in 6.54 min. Users per second: 35\n",
      "0.9833333333333333 : 0.2506797020159195\n"
     ]
    },
    {
     "ename": "KeyboardInterrupt",
     "evalue": "",
     "output_type": "error",
     "traceback": [
      "\u001b[1;31m---------------------------------------------------------------------------\u001b[0m",
      "\u001b[1;31mKeyboardInterrupt\u001b[0m                         Traceback (most recent call last)",
      "\u001b[1;32m<ipython-input-18-7e902a43f152>\u001b[0m in \u001b[0;36m<module>\u001b[1;34m\u001b[0m\n\u001b[1;32m----> 1\u001b[1;33m \u001b[0malp_space\u001b[0m\u001b[1;33m,\u001b[0m \u001b[0mresults\u001b[0m \u001b[1;33m=\u001b[0m \u001b[0mtest_percentage\u001b[0m\u001b[1;33m(\u001b[0m\u001b[0mrecommenderHybrid\u001b[0m\u001b[1;33m,\u001b[0m \u001b[0mrecommender3\u001b[0m\u001b[1;33m,\u001b[0m \u001b[0mevaluator_validation\u001b[0m\u001b[1;33m,\u001b[0m \u001b[1;36m10\u001b[0m\u001b[1;33m)\u001b[0m\u001b[1;33m\u001b[0m\u001b[1;33m\u001b[0m\u001b[0m\n\u001b[0m",
      "\u001b[1;32m<ipython-input-17-e7abfec3c62d>\u001b[0m in \u001b[0;36mtest_percentage\u001b[1;34m(recommender_1, recommender_2, evaluator, step)\u001b[0m\n\u001b[0;32m      9\u001b[0m     \u001b[1;32mfor\u001b[0m \u001b[0malp\u001b[0m \u001b[1;32min\u001b[0m \u001b[0malp_space\u001b[0m\u001b[1;33m:\u001b[0m\u001b[1;33m\u001b[0m\u001b[1;33m\u001b[0m\u001b[0m\n\u001b[0;32m     10\u001b[0m         \u001b[0mrecommender\u001b[0m\u001b[1;33m.\u001b[0m\u001b[0mfit\u001b[0m\u001b[1;33m(\u001b[0m\u001b[0malpha\u001b[0m \u001b[1;33m=\u001b[0m \u001b[0malp\u001b[0m\u001b[1;33m)\u001b[0m\u001b[1;33m\u001b[0m\u001b[1;33m\u001b[0m\u001b[0m\n\u001b[1;32m---> 11\u001b[1;33m         \u001b[0mr_d\u001b[0m\u001b[1;33m,\u001b[0m \u001b[0m_\u001b[0m \u001b[1;33m=\u001b[0m \u001b[0mevaluator\u001b[0m\u001b[1;33m.\u001b[0m\u001b[0mevaluateRecommender\u001b[0m\u001b[1;33m(\u001b[0m\u001b[0mrecommender\u001b[0m\u001b[1;33m)\u001b[0m\u001b[1;33m\u001b[0m\u001b[1;33m\u001b[0m\u001b[0m\n\u001b[0m\u001b[0;32m     12\u001b[0m         \u001b[0mprint\u001b[0m\u001b[1;33m(\u001b[0m\u001b[0malp\u001b[0m\u001b[1;33m,\u001b[0m \u001b[1;34m\":\"\u001b[0m\u001b[1;33m,\u001b[0m \u001b[0mr_d\u001b[0m\u001b[1;33m.\u001b[0m\u001b[0mloc\u001b[0m\u001b[1;33m[\u001b[0m\u001b[1;36m10\u001b[0m\u001b[1;33m]\u001b[0m\u001b[1;33m[\u001b[0m\u001b[1;34m'MAP'\u001b[0m\u001b[1;33m]\u001b[0m\u001b[1;33m)\u001b[0m\u001b[1;33m\u001b[0m\u001b[1;33m\u001b[0m\u001b[0m\n\u001b[0;32m     13\u001b[0m         \u001b[0mresults\u001b[0m\u001b[1;33m.\u001b[0m\u001b[0mappend\u001b[0m\u001b[1;33m(\u001b[0m\u001b[0mr_d\u001b[0m\u001b[1;33m.\u001b[0m\u001b[0mloc\u001b[0m\u001b[1;33m[\u001b[0m\u001b[1;36m10\u001b[0m\u001b[1;33m]\u001b[0m\u001b[1;33m[\u001b[0m\u001b[1;34m'MAP'\u001b[0m\u001b[1;33m]\u001b[0m\u001b[1;33m)\u001b[0m\u001b[1;33m\u001b[0m\u001b[1;33m\u001b[0m\u001b[0m\n",
      "\u001b[1;32m~\\Lab_Recommender\\Challenge\\RecSysRep\\Evaluation\\Evaluator.py\u001b[0m in \u001b[0;36mevaluateRecommender\u001b[1;34m(self, recommender_object)\u001b[0m\n\u001b[0;32m    269\u001b[0m         \u001b[0mself\u001b[0m\u001b[1;33m.\u001b[0m\u001b[0m_n_users_evaluated\u001b[0m \u001b[1;33m=\u001b[0m \u001b[1;36m0\u001b[0m\u001b[1;33m\u001b[0m\u001b[1;33m\u001b[0m\u001b[0m\n\u001b[0;32m    270\u001b[0m \u001b[1;33m\u001b[0m\u001b[0m\n\u001b[1;32m--> 271\u001b[1;33m         \u001b[0mresults_dict\u001b[0m \u001b[1;33m=\u001b[0m \u001b[0mself\u001b[0m\u001b[1;33m.\u001b[0m\u001b[0m_run_evaluation_on_selected_users\u001b[0m\u001b[1;33m(\u001b[0m\u001b[0mrecommender_object\u001b[0m\u001b[1;33m,\u001b[0m \u001b[0mself\u001b[0m\u001b[1;33m.\u001b[0m\u001b[0musers_to_evaluate\u001b[0m\u001b[1;33m)\u001b[0m\u001b[1;33m\u001b[0m\u001b[1;33m\u001b[0m\u001b[0m\n\u001b[0m\u001b[0;32m    272\u001b[0m \u001b[1;33m\u001b[0m\u001b[0m\n\u001b[0;32m    273\u001b[0m \u001b[1;33m\u001b[0m\u001b[0m\n",
      "\u001b[1;32m~\\Lab_Recommender\\Challenge\\RecSysRep\\Evaluation\\Evaluator.py\u001b[0m in \u001b[0;36m_run_evaluation_on_selected_users\u001b[1;34m(self, recommender_object, users_to_evaluate, block_size)\u001b[0m\n\u001b[0;32m    479\u001b[0m \u001b[1;33m\u001b[0m\u001b[0m\n\u001b[0;32m    480\u001b[0m             \u001b[1;31m# Compute predictions for a batch of users using vectorization, much more efficient than computing it one at a time\u001b[0m\u001b[1;33m\u001b[0m\u001b[1;33m\u001b[0m\u001b[1;33m\u001b[0m\u001b[0m\n\u001b[1;32m--> 481\u001b[1;33m             recommended_items_batch_list, scores_batch = recommender_object.recommend(test_user_batch_array,\n\u001b[0m\u001b[0;32m    482\u001b[0m                                                                       \u001b[0mremove_seen_flag\u001b[0m\u001b[1;33m=\u001b[0m\u001b[0mself\u001b[0m\u001b[1;33m.\u001b[0m\u001b[0mexclude_seen\u001b[0m\u001b[1;33m,\u001b[0m\u001b[1;33m\u001b[0m\u001b[1;33m\u001b[0m\u001b[0m\n\u001b[0;32m    483\u001b[0m                                                                       \u001b[0mcutoff\u001b[0m \u001b[1;33m=\u001b[0m \u001b[0mself\u001b[0m\u001b[1;33m.\u001b[0m\u001b[0mmax_cutoff\u001b[0m\u001b[1;33m,\u001b[0m\u001b[1;33m\u001b[0m\u001b[1;33m\u001b[0m\u001b[0m\n",
      "\u001b[1;32m~\\Lab_Recommender\\Challenge\\RecSysRep\\Recommenders\\BaseRecommender.py\u001b[0m in \u001b[0;36mrecommend\u001b[1;34m(self, user_id_array, cutoff, remove_seen_flag, items_to_compute, remove_top_pop_flag, remove_custom_items_flag, return_scores)\u001b[0m\n\u001b[0;32m    145\u001b[0m         \u001b[1;31m# Compute the scores using the model-specific function\u001b[0m\u001b[1;33m\u001b[0m\u001b[1;33m\u001b[0m\u001b[1;33m\u001b[0m\u001b[0m\n\u001b[0;32m    146\u001b[0m         \u001b[1;31m# Vectorize over all users in user_id_array\u001b[0m\u001b[1;33m\u001b[0m\u001b[1;33m\u001b[0m\u001b[1;33m\u001b[0m\u001b[0m\n\u001b[1;32m--> 147\u001b[1;33m         \u001b[0mscores_batch\u001b[0m \u001b[1;33m=\u001b[0m \u001b[0mself\u001b[0m\u001b[1;33m.\u001b[0m\u001b[0m_compute_item_score\u001b[0m\u001b[1;33m(\u001b[0m\u001b[0muser_id_array\u001b[0m\u001b[1;33m,\u001b[0m \u001b[0mitems_to_compute\u001b[0m\u001b[1;33m=\u001b[0m\u001b[0mitems_to_compute\u001b[0m\u001b[1;33m)\u001b[0m\u001b[1;33m\u001b[0m\u001b[1;33m\u001b[0m\u001b[0m\n\u001b[0m\u001b[0;32m    148\u001b[0m \u001b[1;33m\u001b[0m\u001b[0m\n\u001b[0;32m    149\u001b[0m \u001b[1;33m\u001b[0m\u001b[0m\n",
      "\u001b[1;32m~\\Lab_Recommender\\Challenge\\RecSysRep\\Recommenders\\KNN\\ItemKNNScoresHybridMultipleRecommender.py\u001b[0m in \u001b[0;36m_compute_item_score\u001b[1;34m(self, user_id_array, items_to_compute)\u001b[0m\n\u001b[0;32m    130\u001b[0m     \u001b[1;32mdef\u001b[0m \u001b[0m_compute_item_score\u001b[0m\u001b[1;33m(\u001b[0m\u001b[0mself\u001b[0m\u001b[1;33m,\u001b[0m \u001b[0muser_id_array\u001b[0m\u001b[1;33m,\u001b[0m \u001b[0mitems_to_compute\u001b[0m\u001b[1;33m)\u001b[0m\u001b[1;33m:\u001b[0m\u001b[1;33m\u001b[0m\u001b[1;33m\u001b[0m\u001b[0m\n\u001b[0;32m    131\u001b[0m \u001b[1;33m\u001b[0m\u001b[0m\n\u001b[1;32m--> 132\u001b[1;33m         \u001b[0mitem_weights_1\u001b[0m \u001b[1;33m=\u001b[0m \u001b[0mself\u001b[0m\u001b[1;33m.\u001b[0m\u001b[0mRecommender_1\u001b[0m\u001b[1;33m.\u001b[0m\u001b[0m_compute_item_score\u001b[0m\u001b[1;33m(\u001b[0m\u001b[0muser_id_array\u001b[0m\u001b[1;33m,\u001b[0m \u001b[0mitems_to_compute\u001b[0m\u001b[1;33m)\u001b[0m\u001b[1;33m\u001b[0m\u001b[1;33m\u001b[0m\u001b[0m\n\u001b[0m\u001b[0;32m    133\u001b[0m         \u001b[0mitem_weights_2\u001b[0m \u001b[1;33m=\u001b[0m \u001b[0mself\u001b[0m\u001b[1;33m.\u001b[0m\u001b[0mRecommender_2\u001b[0m\u001b[1;33m.\u001b[0m\u001b[0m_compute_item_score\u001b[0m\u001b[1;33m(\u001b[0m\u001b[0muser_id_array\u001b[0m\u001b[1;33m)\u001b[0m\u001b[1;33m\u001b[0m\u001b[1;33m\u001b[0m\u001b[0m\n\u001b[0;32m    134\u001b[0m \u001b[1;33m\u001b[0m\u001b[0m\n",
      "\u001b[1;32m~\\Lab_Recommender\\Challenge\\RecSysRep\\Recommenders\\KNN\\ItemKNNScoresHybridMultipleRecommender.py\u001b[0m in \u001b[0;36m_compute_item_score\u001b[1;34m(self, user_id_array, items_to_compute)\u001b[0m\n\u001b[0;32m     93\u001b[0m         \u001b[0mitem_weights_2\u001b[0m \u001b[1;33m=\u001b[0m \u001b[0mself\u001b[0m\u001b[1;33m.\u001b[0m\u001b[0mRecommender_2\u001b[0m\u001b[1;33m.\u001b[0m\u001b[0m_compute_item_score\u001b[0m\u001b[1;33m(\u001b[0m\u001b[0muser_id_array\u001b[0m\u001b[1;33m)\u001b[0m\u001b[1;33m\u001b[0m\u001b[1;33m\u001b[0m\u001b[0m\n\u001b[0;32m     94\u001b[0m \u001b[1;33m\u001b[0m\u001b[0m\n\u001b[1;32m---> 95\u001b[1;33m         \u001b[0ml2_1\u001b[0m \u001b[1;33m=\u001b[0m \u001b[0mLA\u001b[0m\u001b[1;33m.\u001b[0m\u001b[0mnorm\u001b[0m\u001b[1;33m(\u001b[0m\u001b[0mitem_weights_1\u001b[0m\u001b[1;33m,\u001b[0m \u001b[1;36m2\u001b[0m\u001b[1;33m)\u001b[0m\u001b[1;33m\u001b[0m\u001b[1;33m\u001b[0m\u001b[0m\n\u001b[0m\u001b[0;32m     96\u001b[0m         \u001b[0ml2_1_scores\u001b[0m \u001b[1;33m=\u001b[0m \u001b[0mitem_weights_1\u001b[0m \u001b[1;33m/\u001b[0m \u001b[0ml2_1\u001b[0m\u001b[1;33m\u001b[0m\u001b[1;33m\u001b[0m\u001b[0m\n\u001b[0;32m     97\u001b[0m \u001b[1;33m\u001b[0m\u001b[0m\n",
      "\u001b[1;32m<__array_function__ internals>\u001b[0m in \u001b[0;36mnorm\u001b[1;34m(*args, **kwargs)\u001b[0m\n",
      "\u001b[1;32m~\\miniconda3\\envs\\RecSys\\lib\\site-packages\\numpy\\linalg\\linalg.py\u001b[0m in \u001b[0;36mnorm\u001b[1;34m(x, ord, axis, keepdims)\u001b[0m\n\u001b[0;32m   2576\u001b[0m             \u001b[1;32mraise\u001b[0m \u001b[0mValueError\u001b[0m\u001b[1;33m(\u001b[0m\u001b[1;34m'Duplicate axes given.'\u001b[0m\u001b[1;33m)\u001b[0m\u001b[1;33m\u001b[0m\u001b[1;33m\u001b[0m\u001b[0m\n\u001b[0;32m   2577\u001b[0m         \u001b[1;32mif\u001b[0m \u001b[0mord\u001b[0m \u001b[1;33m==\u001b[0m \u001b[1;36m2\u001b[0m\u001b[1;33m:\u001b[0m\u001b[1;33m\u001b[0m\u001b[1;33m\u001b[0m\u001b[0m\n\u001b[1;32m-> 2578\u001b[1;33m             \u001b[0mret\u001b[0m \u001b[1;33m=\u001b[0m  \u001b[0m_multi_svd_norm\u001b[0m\u001b[1;33m(\u001b[0m\u001b[0mx\u001b[0m\u001b[1;33m,\u001b[0m \u001b[0mrow_axis\u001b[0m\u001b[1;33m,\u001b[0m \u001b[0mcol_axis\u001b[0m\u001b[1;33m,\u001b[0m \u001b[0mamax\u001b[0m\u001b[1;33m)\u001b[0m\u001b[1;33m\u001b[0m\u001b[1;33m\u001b[0m\u001b[0m\n\u001b[0m\u001b[0;32m   2579\u001b[0m         \u001b[1;32melif\u001b[0m \u001b[0mord\u001b[0m \u001b[1;33m==\u001b[0m \u001b[1;33m-\u001b[0m\u001b[1;36m2\u001b[0m\u001b[1;33m:\u001b[0m\u001b[1;33m\u001b[0m\u001b[1;33m\u001b[0m\u001b[0m\n\u001b[0;32m   2580\u001b[0m             \u001b[0mret\u001b[0m \u001b[1;33m=\u001b[0m \u001b[0m_multi_svd_norm\u001b[0m\u001b[1;33m(\u001b[0m\u001b[0mx\u001b[0m\u001b[1;33m,\u001b[0m \u001b[0mrow_axis\u001b[0m\u001b[1;33m,\u001b[0m \u001b[0mcol_axis\u001b[0m\u001b[1;33m,\u001b[0m \u001b[0mamin\u001b[0m\u001b[1;33m)\u001b[0m\u001b[1;33m\u001b[0m\u001b[1;33m\u001b[0m\u001b[0m\n",
      "\u001b[1;32m~\\miniconda3\\envs\\RecSys\\lib\\site-packages\\numpy\\linalg\\linalg.py\u001b[0m in \u001b[0;36m_multi_svd_norm\u001b[1;34m(x, row_axis, col_axis, op)\u001b[0m\n\u001b[0;32m   2352\u001b[0m     \"\"\"\n\u001b[0;32m   2353\u001b[0m     \u001b[0my\u001b[0m \u001b[1;33m=\u001b[0m \u001b[0mmoveaxis\u001b[0m\u001b[1;33m(\u001b[0m\u001b[0mx\u001b[0m\u001b[1;33m,\u001b[0m \u001b[1;33m(\u001b[0m\u001b[0mrow_axis\u001b[0m\u001b[1;33m,\u001b[0m \u001b[0mcol_axis\u001b[0m\u001b[1;33m)\u001b[0m\u001b[1;33m,\u001b[0m \u001b[1;33m(\u001b[0m\u001b[1;33m-\u001b[0m\u001b[1;36m2\u001b[0m\u001b[1;33m,\u001b[0m \u001b[1;33m-\u001b[0m\u001b[1;36m1\u001b[0m\u001b[1;33m)\u001b[0m\u001b[1;33m)\u001b[0m\u001b[1;33m\u001b[0m\u001b[1;33m\u001b[0m\u001b[0m\n\u001b[1;32m-> 2354\u001b[1;33m     \u001b[0mresult\u001b[0m \u001b[1;33m=\u001b[0m \u001b[0mop\u001b[0m\u001b[1;33m(\u001b[0m\u001b[0msvd\u001b[0m\u001b[1;33m(\u001b[0m\u001b[0my\u001b[0m\u001b[1;33m,\u001b[0m \u001b[0mcompute_uv\u001b[0m\u001b[1;33m=\u001b[0m\u001b[1;32mFalse\u001b[0m\u001b[1;33m)\u001b[0m\u001b[1;33m,\u001b[0m \u001b[0maxis\u001b[0m\u001b[1;33m=\u001b[0m\u001b[1;33m-\u001b[0m\u001b[1;36m1\u001b[0m\u001b[1;33m)\u001b[0m\u001b[1;33m\u001b[0m\u001b[1;33m\u001b[0m\u001b[0m\n\u001b[0m\u001b[0;32m   2355\u001b[0m     \u001b[1;32mreturn\u001b[0m \u001b[0mresult\u001b[0m\u001b[1;33m\u001b[0m\u001b[1;33m\u001b[0m\u001b[0m\n\u001b[0;32m   2356\u001b[0m \u001b[1;33m\u001b[0m\u001b[0m\n",
      "\u001b[1;32m<__array_function__ internals>\u001b[0m in \u001b[0;36msvd\u001b[1;34m(*args, **kwargs)\u001b[0m\n",
      "\u001b[1;32m~\\miniconda3\\envs\\RecSys\\lib\\site-packages\\numpy\\linalg\\linalg.py\u001b[0m in \u001b[0;36msvd\u001b[1;34m(a, full_matrices, compute_uv, hermitian)\u001b[0m\n\u001b[0;32m   1670\u001b[0m \u001b[1;33m\u001b[0m\u001b[0m\n\u001b[0;32m   1671\u001b[0m         \u001b[0msignature\u001b[0m \u001b[1;33m=\u001b[0m \u001b[1;34m'D->d'\u001b[0m \u001b[1;32mif\u001b[0m \u001b[0misComplexType\u001b[0m\u001b[1;33m(\u001b[0m\u001b[0mt\u001b[0m\u001b[1;33m)\u001b[0m \u001b[1;32melse\u001b[0m \u001b[1;34m'd->d'\u001b[0m\u001b[1;33m\u001b[0m\u001b[1;33m\u001b[0m\u001b[0m\n\u001b[1;32m-> 1672\u001b[1;33m         \u001b[0ms\u001b[0m \u001b[1;33m=\u001b[0m \u001b[0mgufunc\u001b[0m\u001b[1;33m(\u001b[0m\u001b[0ma\u001b[0m\u001b[1;33m,\u001b[0m \u001b[0msignature\u001b[0m\u001b[1;33m=\u001b[0m\u001b[0msignature\u001b[0m\u001b[1;33m,\u001b[0m \u001b[0mextobj\u001b[0m\u001b[1;33m=\u001b[0m\u001b[0mextobj\u001b[0m\u001b[1;33m)\u001b[0m\u001b[1;33m\u001b[0m\u001b[1;33m\u001b[0m\u001b[0m\n\u001b[0m\u001b[0;32m   1673\u001b[0m         \u001b[0ms\u001b[0m \u001b[1;33m=\u001b[0m \u001b[0ms\u001b[0m\u001b[1;33m.\u001b[0m\u001b[0mastype\u001b[0m\u001b[1;33m(\u001b[0m\u001b[0m_realType\u001b[0m\u001b[1;33m(\u001b[0m\u001b[0mresult_t\u001b[0m\u001b[1;33m)\u001b[0m\u001b[1;33m,\u001b[0m \u001b[0mcopy\u001b[0m\u001b[1;33m=\u001b[0m\u001b[1;32mFalse\u001b[0m\u001b[1;33m)\u001b[0m\u001b[1;33m\u001b[0m\u001b[1;33m\u001b[0m\u001b[0m\n\u001b[0;32m   1674\u001b[0m         \u001b[1;32mreturn\u001b[0m \u001b[0ms\u001b[0m\u001b[1;33m\u001b[0m\u001b[1;33m\u001b[0m\u001b[0m\n",
      "\u001b[1;31mKeyboardInterrupt\u001b[0m: "
     ]
    }
   ],
   "source": [
    "alp_space, results = test_percentage(recommenderHybrid, recommender3, evaluator_validation, 10)"
   ]
  },
  {
   "cell_type": "code",
   "execution_count": null,
   "id": "b992fd86",
   "metadata": {},
   "outputs": [],
   "source": [
    "import numpy as np\n",
    "\n",
    "# THREE RECOMMENDERS\n",
    "\n",
    "def test_percentage(recommender_1, recommender_2, recommender_3, evaluator, step):\n",
    "    recommender = ItemKNNScoresHybridMultipleRecommender(URM_train, recommender_1, recommender_2, recommender_3)\n",
    "    results = []\n",
    "    alp_space = np.linspace(12, 18, step, True)\n",
    "    for alp in alp_space:\n",
    "        recommender.fit(alpha = alp, beta = 5, gamma = 1)\n",
    "        r_d, _ = evaluator.evaluateRecommender(recommender)\n",
    "        print(alp, \":\", r_d.loc[10]['MAP'])\n",
    "        results.append(r_d.loc[10]['MAP'])\n",
    "    \n",
    "    return alp_space, results"
   ]
  },
  {
   "cell_type": "code",
   "execution_count": null,
   "id": "904ab70a",
   "metadata": {},
   "outputs": [],
   "source": [
    "alp_space, results = test_percentage(recommender1, recommender2, recommender3, evaluator_validation, 5)"
   ]
  },
  {
   "cell_type": "code",
   "execution_count": null,
   "id": "2221ec4b",
   "metadata": {},
   "outputs": [],
   "source": [
    "import matplotlib.pyplot as plt\n",
    "\n",
    "_ = plt.figure(figsize=(16, 9))\n",
    "plt.plot(alp_space,results, label='MAP variability')\n",
    "plt.ylabel('MAP')\n",
    "plt.xlabel('User Group')\n",
    "plt.legend()\n",
    "plt.show()\n",
    "\n",
    "plt.savefig('userwise.png')"
   ]
  },
  {
   "cell_type": "markdown",
   "id": "71659e94",
   "metadata": {},
   "source": [
    "* # SLIMER + KNNweight: 0.2499 with alpha = 0.95\n",
    "* # SLIMER + SLIMBPR: 0.2507 with alpha = 0.58\n",
    "* # (SLIMER + SLIMBPR) + KNN_selected_3: 0.2509 with alpha 0.96"
   ]
  },
  {
   "cell_type": "code",
   "execution_count": null,
   "id": "62d2b355",
   "metadata": {},
   "outputs": [],
   "source": [
    "from skopt.space import Real, Integer, Categorical\n",
    "\n",
    "hyperparameters_range_dictionary = {\n",
    "    \"shrink\": Integer(10, 500),\n",
    "    \"topK\": Integer(200, 1000),\n",
    "    \"feature_weighting\": Categorical([\"none\", \"TF-IDF\"]),\n",
    "    \"normalize\": Categorical([True, False]),\n",
    "    \"ICM_weight\": Integer(5, 500),\n",
    "}"
   ]
  },
  {
   "cell_type": "code",
   "execution_count": null,
   "id": "7a396c9f",
   "metadata": {},
   "outputs": [],
   "source": [
    "from Recommenders.KNN.ItemKNN_CFCBF_Hybrid_Recommender import ItemKNN_CFCBF_Hybrid_Recommender\n",
    "from HyperparameterTuning.SearchBayesianSkopt import SearchBayesianSkopt\n",
    "\n",
    "recommender_class = ItemKNN_CFCBF_Hybrid_Recommender\n",
    "\n",
    "hyperparameterSearch = SearchBayesianSkopt(recommender_class,\n",
    "                                         evaluator_validation=evaluator_validation)"
   ]
  },
  {
   "cell_type": "code",
   "execution_count": null,
   "id": "a841f179",
   "metadata": {},
   "outputs": [],
   "source": [
    "from HyperparameterTuning.SearchAbstractClass import SearchInputRecommenderArgs\n",
    "  \n",
    "recommender_input_args = SearchInputRecommenderArgs(\n",
    "    CONSTRUCTOR_POSITIONAL_ARGS = [URM_train, ICM_genre_all],     # For a CBF model simply put [URM_train, ICM_train]\n",
    "    CONSTRUCTOR_KEYWORD_ARGS = {},\n",
    "    FIT_POSITIONAL_ARGS = [],\n",
    "    FIT_KEYWORD_ARGS = {}, # Additiona hyperparameters for the fit function\n",
    ")"
   ]
  },
  {
   "cell_type": "code",
   "execution_count": null,
   "id": "754c8ac6",
   "metadata": {},
   "outputs": [],
   "source": [
    "if __name__ == '__main__':\n",
    "    hyperparameterSearch.search(recommender_input_args,\n",
    "                           hyperparameter_search_space = hyperparameters_range_dictionary,\n",
    "                           n_cases = n_cases,\n",
    "                           n_random_starts = n_random_starts,\n",
    "                           output_folder_path = output_folder_path,\n",
    "                           output_file_name_root = recommender_class.RECOMMENDER_NAME,\n",
    "                           metric_to_optimize = metric_to_optimize,\n",
    "                           cutoff_to_optimize = cutoff_to_optimize,\n",
    "                          )"
   ]
  },
  {
   "cell_type": "code",
   "execution_count": null,
   "id": "3d773c81",
   "metadata": {},
   "outputs": [],
   "source": [
    "\n",
    "recommender1 = MultiThreadSLIM_SLIMElasticNetRecommender(URM_all)\n",
    "# recommender1.fit(**models_to_combine_best['SLIMER'])\n",
    "# recommender1.save_model(ofp + 'SLIMER_ALL/', 'SLIMER_ALL')\n",
    "recommender1.load_model(ofp + 'SLIMER_ALL/', 'SLIMER_ALL')\n",
    "\n",
    "recommender2 = SLIM_BPR_Cython(URM_all)\n",
    "# recommender2.fit(**models_to_combine_best['SLIMBPR'])\n",
    "# recommender2.save_model(ofp + 'SLIMBPR_ALL/', 'SLIMBPR_ALL')\n",
    "recommender2.load_model(ofp + 'SLIMBPR_ALL/', 'SLIMBPR_ALL')\n",
    "\n",
    "recommenderHybrid = ItemKNNScoresHybridTwoRecommender(URM_all, recommender1, recommender2)\n",
    "recommenderHybrid.fit(alpha = 0.58)\n",
    "\n",
    "recommender = recommenderHybrid\n",
    "\n",
    "import pandas as pd\n",
    "at = 10\n",
    "\n",
    "user_test_path = '../data/data_target_users_test.csv'\n",
    "user_test_dataframe = pd.read_csv(filepath_or_buffer=user_test_path,\n",
    "sep=\",\",\n",
    "dtype={0:int})\n",
    "\n",
    "subm_set = user_test_dataframe.to_numpy().T[0]\n",
    "\n",
    "\n",
    "subm_res = {\"user_id\":[], \"item_list\":[]}\n",
    "\n",
    "for user_id in subm_set:\n",
    "\tsubm_res[\"user_id\"].append(user_id)\n",
    "\tres = recommender.recommend(user_id, cutoff=at)\n",
    "\tres = ' '.join(map(str, res))\n",
    "\tif user_id < 3:\n",
    "\t\tprint(user_id)\n",
    "\t\tprint(res)\n",
    "\tsubm_res[\"item_list\"].append(res)\n",
    "\n",
    "\n",
    "\t# print(subm_res)\n",
    "\n",
    "submission = pd.DataFrame.from_dict(subm_res)\n",
    "\t# submission\n",
    "\n",
    "from datetime import datetime\n",
    "\n",
    "now = datetime.now() # current date and time\n",
    "\n",
    "\n",
    "submission.to_csv('../subs/submission {:%Y_%m_%d %H_%M_%S}.csv'.format(now), index=False)\n",
    "\n"
   ]
  },
  {
   "cell_type": "code",
   "execution_count": null,
   "id": "ed47bc68",
   "metadata": {},
   "outputs": [],
   "source": [
    "from Recommenders.SLIM.SLIMElasticNetRecommender import MultiThreadSLIM_SLIMElasticNetRecommender\n",
    "CFrecommender = MultiThreadSLIM_SLIMElasticNetRecommender(URM_train)\n",
    "CFrecommender.load_model('../result_experiments/BEST_SLIM_PURECF/', file_name = CFrecommender.RECOMMENDER_NAME + \"_my_own_save.zip\")\n",
    "\n",
    "from Recommenders.FeatureWeighting.CFW_D_Similarity_Linalg import CFW_D_Similarity_Linalg\n",
    "FW_recommender = CFW_D_Similarity_Linalg(URM_train, ICM_stacked, CFrecommender.W_sparse)\n",
    "FW_recommender.load_model('../result_experiments/BEST_FW/', file_name = FW_recommender.RECOMMENDER_NAME + \"_my_own_save.zip\")"
   ]
  },
  {
   "cell_type": "code",
   "execution_count": null,
   "id": "08996bc8",
   "metadata": {},
   "outputs": [],
   "source": [
    "import scipy.sparse as sps\n",
    "ICM_length_all_5km = ld.getICMlength('5km')\n",
    "URM_all, ICM_genre_all, ICM_subgenre_all, ICM_channel_all, _ = ld.getCOOs()\n",
    "ICM_stacked = sps.hstack((ICM_genre_all, ICM_subgenre_all, ICM_channel_all, ICM_length_all_5km))"
   ]
  },
  {
   "cell_type": "code",
   "execution_count": null,
   "id": "98701678",
   "metadata": {},
   "outputs": [],
   "source": [
    "import pandas as pd\n",
    "argsort_features = np.argsort(-FW_recommender.D_best)\n",
    "\n",
    "selection_quota = 0.1\n",
    "        \n",
    "n_to_select = int(selection_quota*len(argsort_features))\n",
    "selected_features = argsort_features[:n_to_select]\n",
    "        \n",
    "ICM_selected = ICM_stacked.todense()[:,selected_features]\n",
    "pd.DataFrame(ICM_selected).to_csv('ICM_selected_1.csv', index=False, header=True)\n"
   ]
  },
  {
   "cell_type": "code",
   "execution_count": null,
   "id": "7b73d27a",
   "metadata": {},
   "outputs": [],
   "source": []
  }
 ],
 "metadata": {
  "kernelspec": {
   "display_name": "Python 3",
   "language": "python",
   "name": "python3"
  },
  "language_info": {
   "codemirror_mode": {
    "name": "ipython",
    "version": 3
   },
   "file_extension": ".py",
   "mimetype": "text/x-python",
   "name": "python",
   "nbconvert_exporter": "python",
   "pygments_lexer": "ipython3",
   "version": "3.8.8"
  }
 },
 "nbformat": 4,
 "nbformat_minor": 5
}
