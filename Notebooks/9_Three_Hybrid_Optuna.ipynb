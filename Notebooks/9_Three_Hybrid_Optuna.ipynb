{
 "cells": [
  {
   "cell_type": "code",
   "execution_count": 1,
   "id": "7e809989",
   "metadata": {},
   "outputs": [],
   "source": [
    "import sys\n",
    "sys.path.append('../RecSysRep/')"
   ]
  },
  {
   "cell_type": "code",
   "execution_count": 2,
   "id": "bc728eee",
   "metadata": {},
   "outputs": [],
   "source": [
    "import Basics.Load as ld\n",
    "\n",
    "URM_all, _, _, _, _ = ld.getCOOs()\n",
    "ICM_all = ld.getICMall()\n",
    "\n",
    "SEED = 6180"
   ]
  },
  {
   "cell_type": "code",
   "execution_count": 3,
   "id": "09a0a841",
   "metadata": {},
   "outputs": [
    {
     "name": "stdout",
     "output_type": "stream",
     "text": [
      "Warning: 1 (0.01 %) of 13650 users have no sampled items\n",
      "EvaluatorHoldout: Ignoring 13649 ( 0.0%) Users that have less than 1 test interactions\n"
     ]
    }
   ],
   "source": [
    "from Evaluation.Evaluator import EvaluatorHoldout\n",
    "from Data_manager.split_functions.split_train_validation_random_holdout import split_train_in_two_percentage_global_sample\n",
    "\n",
    "URM_train, URM_validation = split_train_in_two_percentage_global_sample(URM_all, train_percentage = 0.7, seed=SEED)\n",
    "\n",
    "evaluator_validation = EvaluatorHoldout(URM_validation, cutoff_list=[10])"
   ]
  },
  {
   "cell_type": "code",
   "execution_count": 4,
   "id": "2d0f462a",
   "metadata": {},
   "outputs": [],
   "source": [
    "import os\n",
    "\n",
    "ofp = \"../models_temp/Similarity_Hybrid/Split07/\"\n",
    "\n",
    "\n",
    "models_to_combine_best = {\n",
    "                            'IALS' : {\"num_factors\": 29, \"epochs\": 50, \"confidence_scaling\": \"log\", \"alpha\": 0.001, \"epsilon\": 0.001, \"reg\": 0.01},\n",
    "                            'SLIMBPR' : {\"epochs\": 440, \"lambda_i\": 0.007773815998802306, \"lambda_j\": 0.003342522366982381, \"learning_rate\": 0.010055161410725193, \"topK\": 4289, \"random_seed\": 1234, \"sgd_mode\": \"sgd\"},\n",
    "                            'SLIMER': {'topK': 6000, 'l1_ratio': 0.0005495104968035837, 'alpha': 0.08007142704041009, 'workers': 8},\n",
    "                            'P3alpha': {'topK': 4834, 'alpha': 1.764994849187595, 'normalize_similarity': True, 'implicit': True},\n",
    "                            'RP3beta': {\"topK\": 1049, \"alpha\": 1.1626473723475605, \"beta\": 0.6765017195261293, \"normalize_similarity\": True, \"implicit\": True},\n",
    "                            'ICM_all': {\"shrink\": 5675, \"topK\": 2310, \"feature_weighting\": \"BM25\", \"normalize\": False},\n",
    "                            'TopPop': {},\n",
    "                            'PureSVD': {'num_factors': 30},\n",
    "                            'UserKNN': {\"topK\": 469, \"similarity\": \"cosine\", \"shrink\": 588, \"normalize\": True, \"feature_weighting\": \"TF-IDF\", \"URM_bias\": False},\n",
    "                            'EASE_R': {'l2_norm': 3750},\n",
    "}"
   ]
  },
  {
   "cell_type": "code",
   "execution_count": 6,
   "id": "1348b9f2",
   "metadata": {},
   "outputs": [],
   "source": [
    "def model_init(recommender, name, args):\n",
    "    path_name = ofp + name + str(SEED) + \".zip\"\n",
    "    print(path_name)\n",
    "    if os.path.exists(path_name):\n",
    "        print(\"Model found!\")\n",
    "        recommender.load_model(ofp, name + str(SEED))\n",
    "    else:\n",
    "        print(\"Model does not exists, creating...\")\n",
    "        if not os.path.exists(ofp):\n",
    "            print(\"Main folder does not exist, creating...\")\n",
    "            os.makedirs(ofp)\n",
    "        recommender.fit(**args)\n",
    "        recommender.save_model(ofp, name + str(SEED))"
   ]
  },
  {
   "cell_type": "code",
   "execution_count": 7,
   "id": "1fe35dd8",
   "metadata": {},
   "outputs": [],
   "source": [
    "from Recommenders.NonPersonalizedRecommender import TopPop\n",
    "from Recommenders.KNN.ItemKNNCBFRecommender import ItemKNNCBFRecommender\n",
    "from Recommenders.SLIM.Cython.SLIM_BPR_Cython import SLIM_BPR_Cython\n",
    "from Recommenders.SLIM.SLIMElasticNetRecommender import MultiThreadSLIM_SLIMElasticNetRecommender\n",
    "# from Recommenders.SLIM.SLIMElasticNetRecommender import MultiThreadSLIM_SLIM_S_ElasticNetRecommender\n",
    "from Recommenders.GraphBased.P3alphaRecommender import P3alphaRecommender\n",
    "from Recommenders.GraphBased.RP3betaRecommender import RP3betaRecommender\n",
    "from Recommenders.MatrixFactorization.IALSRecommender import IALSRecommender\n",
    "from Recommenders.KNN.UserKNNCFRecommender import UserKNNCFRecommender\n",
    "from Recommenders.MatrixFactorization.PureSVDRecommender import PureSVDRecommender\n",
    "from Recommenders.EASE_R.EASE_R_Recommender import EASE_R_Recommender"
   ]
  },
  {
   "cell_type": "code",
   "execution_count": 8,
   "id": "2329e3a7",
   "metadata": {},
   "outputs": [],
   "source": [
    "from Recommenders.KNN.ItemKNNScoresHybridMultipleRecommender import ItemKNNScoresHybridTwoRecommender\n",
    "from Recommenders.KNN.ItemKNNScoresHybridMultipleRecommender import ItemKNNScoresHybridTwoRecommender_FAST\n",
    "from Recommenders.KNN.ItemKNNScoresHybridMultipleRecommender import ItemKNNScoresHybridMultipleRecommender\n",
    "from Recommenders.KNN.ItemKNNSimilarityHybridRecommender import ItemKNNSimilarityHybridRecommender"
   ]
  },
  {
   "cell_type": "code",
   "execution_count": 9,
   "id": "035dfa3b",
   "metadata": {},
   "outputs": [
    {
     "name": "stdout",
     "output_type": "stream",
     "text": [
      "../models_temp/Similarity_Hybrid/Split07/SLIMER6180.zip\n",
      "Model found!\n",
      "SLIMElasticNetRecommender: Loading model from file '../models_temp/Similarity_Hybrid/Split07/SLIMER6180'\n",
      "SLIMElasticNetRecommender: Loading complete\n",
      "../models_temp/Similarity_Hybrid/Split07/SLIMBPR6180.zip\n",
      "Model found!\n",
      "SLIM_BPR_Recommender: Loading model from file '../models_temp/Similarity_Hybrid/Split07/SLIMBPR6180'\n",
      "SLIM_BPR_Recommender: Loading complete\n",
      "../models_temp/Similarity_Hybrid/Split07/RP3beta6180.zip\n",
      "Model found!\n",
      "RP3betaRecommender: Loading model from file '../models_temp/Similarity_Hybrid/Split07/RP3beta6180'\n",
      "RP3betaRecommender: Loading complete\n",
      "../models_temp/Similarity_Hybrid/Split07/ICM_all6180.zip\n",
      "Model found!\n",
      "ItemKNNCBFRecommender: Loading model from file '../models_temp/Similarity_Hybrid/Split07/ICM_all6180'\n",
      "ItemKNNCBFRecommender: Loading complete\n",
      "../models_temp/Similarity_Hybrid/Split07/IALS6180.zip\n",
      "Model found!\n",
      "IALSRecommender: Loading model from file '../models_temp/Similarity_Hybrid/Split07/IALS6180'\n",
      "IALSRecommender: Loading complete\n",
      "../models_temp/Similarity_Hybrid/Split07/P3alpha6180.zip\n",
      "Model found!\n",
      "P3alphaRecommender: Loading model from file '../models_temp/Similarity_Hybrid/Split07/P3alpha6180'\n",
      "P3alphaRecommender: Loading complete\n",
      "../models_temp/Similarity_Hybrid/Split07/UserKNN6180.zip\n",
      "Model found!\n",
      "UserKNNCFRecommender: Loading model from file '../models_temp/Similarity_Hybrid/Split07/UserKNN6180'\n",
      "UserKNNCFRecommender: Loading complete\n",
      "../models_temp/Similarity_Hybrid/Split07/PureSVD6180.zip\n",
      "Model found!\n",
      "PureSVDRecommender: Loading model from file '../models_temp/Similarity_Hybrid/Split07/PureSVD6180'\n",
      "PureSVDRecommender: Loading complete\n",
      "../models_temp/Similarity_Hybrid/Split07/TopPop6180.zip\n",
      "Model found!\n",
      "TopPopRecommender: Loading model from file '../models_temp/Similarity_Hybrid/Split07/TopPop6180'\n",
      "TopPopRecommender: Loading complete\n",
      "../models_temp/Similarity_Hybrid/Split07/EASE_R6180.zip\n",
      "Model found!\n",
      "EASE_R_Recommender: Loading model from file '../models_temp/Similarity_Hybrid/Split07/EASE_R6180'\n",
      "EASE_R_Recommender: Loading complete\n"
     ]
    }
   ],
   "source": [
    "recommender1 = MultiThreadSLIM_SLIMElasticNetRecommender(URM_train)\n",
    "recommender2 = SLIM_BPR_Cython(URM_train)\n",
    "recommender3 = RP3betaRecommender(URM_train)\n",
    "recommender4 = ItemKNNCBFRecommender(URM_train, ICM_all)\n",
    "recommender5 = IALSRecommender(URM_train)\n",
    "recommender6 = P3alphaRecommender(URM_train)\n",
    "recommender7 = UserKNNCFRecommender(URM_train)\n",
    "recommender8 = PureSVDRecommender(URM_train)\n",
    "recommender9 = TopPop(URM_train)\n",
    "recommender10 = EASE_R_Recommender(URM_train)\n",
    "\n",
    "model_init(recommender1, 'SLIMER', models_to_combine_best['SLIMER'])\n",
    "model_init(recommender2, 'SLIMBPR', models_to_combine_best['SLIMBPR'])\n",
    "model_init(recommender3, 'RP3beta', models_to_combine_best['RP3beta'])\n",
    "model_init(recommender4, 'ICM_all', models_to_combine_best['ICM_all'])\n",
    "model_init(recommender5, 'IALS', models_to_combine_best['IALS'])\n",
    "model_init(recommender6, 'P3alpha', models_to_combine_best['P3alpha'])\n",
    "model_init(recommender7, 'UserKNN', models_to_combine_best['UserKNN'])\n",
    "model_init(recommender8, 'PureSVD', models_to_combine_best['PureSVD'])\n",
    "model_init(recommender9, 'TopPop', models_to_combine_best['TopPop'])\n",
    "model_init(recommender10, 'EASE_R', models_to_combine_best['EASE_R'])"
   ]
  },
  {
   "cell_type": "code",
   "execution_count": null,
   "id": "4b3c2ca0",
   "metadata": {},
   "outputs": [],
   "source": [
    "def rank_models(evaluator, recommenders):\n",
    "    for r in recommenders:\n",
    "        r_d, _ = evaluator.evaluateRecommender(r)\n",
    "        print(r.RECOMMENDER_NAME, r_d.loc[10]['MAP'])"
   ]
  },
  {
   "cell_type": "code",
   "execution_count": null,
   "id": "b03d5ba5",
   "metadata": {},
   "outputs": [],
   "source": [
    "rank_models(evaluator_validation, [recommender1, recommender2])"
   ]
  },
  {
   "cell_type": "code",
   "execution_count": 10,
   "id": "7d6d6011",
   "metadata": {},
   "outputs": [],
   "source": [
    "from Recommenders.HybridScores.DifferentStructure import ThreeDifferentModelRecommender\n",
    "import optuna\n",
    "\n",
    "class Objective(object):\n",
    "    def __init__(self, URM_train, recommender1, recommender2, recommender3, evaluator):\n",
    "        # Hold this implementation specific arguments as the fields of the class.\n",
    "        self.URM_train = URM_train\n",
    "        self.evaluator = evaluator\n",
    "        self.recommender_1 = recommender1\n",
    "        self.recommender_2 = recommender2\n",
    "        self.recommender_3 = recommender3\n",
    "\n",
    "    def __call__(self, trial):\n",
    "        # Calculate an objective value by using the extra arguments.\n",
    "        w_1 = trial.suggest_uniform('w_1', 0, 1)\n",
    "        w_2 = trial.suggest_uniform('w_2', 0, 1)\n",
    "        w_3 = trial.suggest_uniform('w_3', 0, 1)\n",
    "\n",
    "        recommender_final = ThreeDifferentModelRecommender(self.URM_train.tocsr(), self.recommender_1, self.recommender_2, self.recommender_3)\n",
    "        recommender_final.fit(2, w_1, w_2, w_3)\n",
    "        result_dict, _ = self.evaluator.evaluateRecommender(recommender_final)\n",
    "\n",
    "        map_v = -result_dict.loc[10]['MAP']\n",
    "        if map_v >= -0.245: # minimum acceptable map\n",
    "            # Calculate the penalty.\n",
    "            trial.report(map_v, 0)\n",
    "\n",
    "            if trial.should_prune():\n",
    "                raise optuna.exceptions.TrialPruned()\n",
    "\n",
    "        return map_v"
   ]
  },
  {
   "cell_type": "code",
   "execution_count": null,
   "id": "a614cabd",
   "metadata": {},
   "outputs": [
    {
     "name": "stderr",
     "output_type": "stream",
     "text": [
      "\u001b[32m[I 2022-01-07 01:31:11,923]\u001b[0m A new study created in memory with name: no-name-1923cb75-d084-4905-9bbf-c86b10c1c6fa\u001b[0m\n"
     ]
    },
    {
     "name": "stdout",
     "output_type": "stream",
     "text": [
      "CURRENT CONFIGURATION:\n",
      "SLIMElasticNetRecommender with weight alpha: 0.3394612264839287\n",
      "UserKNNCFRecommender with weight beta: 0.34502850487873876\n",
      "EASE_R_Recommender with weight gamma: 0.3155102686373325\n",
      "Norm type: 2\n",
      "EvaluatorHoldout: Processed 13000 (95.2%) in 5.11 min. Users per second: 42\n",
      "EvaluatorHoldout: Processed 13649 (100.0%) in 5.16 min. Users per second: 44\n"
     ]
    },
    {
     "name": "stderr",
     "output_type": "stream",
     "text": [
      "\u001b[32m[I 2022-01-07 01:36:21,715]\u001b[0m Trial 0 finished with value: -0.3445475771816546 and parameters: {'w_1': 0.7822926119035999, 'w_2': 0.7951224740995896, 'w_3': 0.7270973321201698}. Best is trial 0 with value: -0.3445475771816546.\u001b[0m\n"
     ]
    },
    {
     "name": "stdout",
     "output_type": "stream",
     "text": [
      "CURRENT CONFIGURATION:\n",
      "SLIMElasticNetRecommender with weight alpha: 0.49066379831851786\n",
      "UserKNNCFRecommender with weight beta: 0.11580907623780365\n",
      "EASE_R_Recommender with weight gamma: 0.39352712544367857\n",
      "Norm type: 2\n",
      "EvaluatorHoldout: Processed 13649 (100.0%) in 4.93 min. Users per second: 46\n"
     ]
    },
    {
     "name": "stderr",
     "output_type": "stream",
     "text": [
      "\u001b[32m[I 2022-01-07 01:41:17,436]\u001b[0m Trial 1 finished with value: -0.34431523269918207 and parameters: {'w_1': 0.9471330353915388, 'w_2': 0.2235473704783031, 'w_3': 0.759629184194312}. Best is trial 0 with value: -0.3445475771816546.\u001b[0m\n"
     ]
    },
    {
     "name": "stdout",
     "output_type": "stream",
     "text": [
      "CURRENT CONFIGURATION:\n",
      "SLIMElasticNetRecommender with weight alpha: 0.4425396897464246\n",
      "UserKNNCFRecommender with weight beta: 0.17488826248865272\n",
      "EASE_R_Recommender with weight gamma: 0.3825720477649227\n",
      "Norm type: 2\n",
      "EvaluatorHoldout: Processed 13649 (100.0%) in 4.92 min. Users per second: 46\n"
     ]
    },
    {
     "name": "stderr",
     "output_type": "stream",
     "text": [
      "\u001b[32m[I 2022-01-07 01:46:12,843]\u001b[0m Trial 2 finished with value: -0.3442626065983112 and parameters: {'w_1': 0.9794559692918126, 'w_2': 0.38707342329393457, 'w_3': 0.84673190800639}. Best is trial 0 with value: -0.3445475771816546.\u001b[0m\n"
     ]
    },
    {
     "name": "stdout",
     "output_type": "stream",
     "text": [
      "CURRENT CONFIGURATION:\n",
      "SLIMElasticNetRecommender with weight alpha: 0.19155754306039632\n",
      "UserKNNCFRecommender with weight beta: 0.3184652485243587\n",
      "EASE_R_Recommender with weight gamma: 0.4899772084152449\n",
      "Norm type: 2\n",
      "EvaluatorHoldout: Processed 13649 (100.0%) in 4.92 min. Users per second: 46\n"
     ]
    },
    {
     "name": "stderr",
     "output_type": "stream",
     "text": [
      "\u001b[32m[I 2022-01-07 01:51:07,831]\u001b[0m Trial 3 finished with value: -0.3429441717341929 and parameters: {'w_1': 0.3069298688823794, 'w_2': 0.5102722420195023, 'w_3': 0.7850833641504226}. Best is trial 0 with value: -0.3445475771816546.\u001b[0m\n"
     ]
    },
    {
     "name": "stdout",
     "output_type": "stream",
     "text": [
      "CURRENT CONFIGURATION:\n",
      "SLIMElasticNetRecommender with weight alpha: 0.18569460709834368\n",
      "UserKNNCFRecommender with weight beta: 0.44781845033756734\n",
      "EASE_R_Recommender with weight gamma: 0.366486942564089\n",
      "Norm type: 2\n",
      "EvaluatorHoldout: Processed 13649 (100.0%) in 4.92 min. Users per second: 46\n"
     ]
    },
    {
     "name": "stderr",
     "output_type": "stream",
     "text": [
      "\u001b[32m[I 2022-01-07 01:56:03,045]\u001b[0m Trial 4 finished with value: -0.3436496016337028 and parameters: {'w_1': 0.1779809637955001, 'w_2': 0.4292163388152507, 'w_3': 0.35126329340021234}. Best is trial 0 with value: -0.3445475771816546.\u001b[0m\n"
     ]
    },
    {
     "name": "stdout",
     "output_type": "stream",
     "text": [
      "CURRENT CONFIGURATION:\n",
      "SLIMElasticNetRecommender with weight alpha: 0.17947086224762754\n",
      "UserKNNCFRecommender with weight beta: 0.41861057109363864\n",
      "EASE_R_Recommender with weight gamma: 0.4019185666587338\n",
      "Norm type: 2\n",
      "EvaluatorHoldout: Processed 13649 (100.0%) in 4.92 min. Users per second: 46\n"
     ]
    },
    {
     "name": "stderr",
     "output_type": "stream",
     "text": [
      "\u001b[32m[I 2022-01-07 02:00:58,211]\u001b[0m Trial 5 finished with value: -0.34336273545244866 and parameters: {'w_1': 0.23468278769726836, 'w_2': 0.5473907828461404, 'w_3': 0.5255636957971372}. Best is trial 0 with value: -0.3445475771816546.\u001b[0m\n"
     ]
    },
    {
     "name": "stdout",
     "output_type": "stream",
     "text": [
      "CURRENT CONFIGURATION:\n",
      "SLIMElasticNetRecommender with weight alpha: 0.6453443690237475\n",
      "UserKNNCFRecommender with weight beta: 0.19820605470063538\n",
      "EASE_R_Recommender with weight gamma: 0.15644957627561704\n",
      "Norm type: 2\n",
      "EvaluatorHoldout: Processed 13649 (100.0%) in 4.92 min. Users per second: 46\n"
     ]
    },
    {
     "name": "stderr",
     "output_type": "stream",
     "text": [
      "\u001b[32m[I 2022-01-07 02:05:53,385]\u001b[0m Trial 6 finished with value: -0.3447137414567284 and parameters: {'w_1': 0.981059679423702, 'w_2': 0.3013150463815182, 'w_3': 0.237836383974527}. Best is trial 6 with value: -0.3447137414567284.\u001b[0m\n"
     ]
    },
    {
     "name": "stdout",
     "output_type": "stream",
     "text": [
      "CURRENT CONFIGURATION:\n",
      "SLIMElasticNetRecommender with weight alpha: 0.6269067361113463\n",
      "UserKNNCFRecommender with weight beta: 0.29432045853668\n",
      "EASE_R_Recommender with weight gamma: 0.0787728053519738\n",
      "Norm type: 2\n",
      "EvaluatorHoldout: Processed 13649 (100.0%) in 4.92 min. Users per second: 46\n"
     ]
    },
    {
     "name": "stderr",
     "output_type": "stream",
     "text": [
      "\u001b[32m[I 2022-01-07 02:10:48,731]\u001b[0m Trial 7 finished with value: -0.34485224221322247 and parameters: {'w_1': 0.47673900077895615, 'w_2': 0.22381964210807193, 'w_3': 0.059903756569916866}. Best is trial 7 with value: -0.34485224221322247.\u001b[0m\n"
     ]
    },
    {
     "name": "stdout",
     "output_type": "stream",
     "text": [
      "CURRENT CONFIGURATION:\n",
      "SLIMElasticNetRecommender with weight alpha: 0.3442870774079911\n",
      "UserKNNCFRecommender with weight beta: 0.3466143860080138\n",
      "EASE_R_Recommender with weight gamma: 0.3090985365839952\n",
      "Norm type: 2\n",
      "EvaluatorHoldout: Processed 13649 (100.0%) in 4.92 min. Users per second: 46\n"
     ]
    },
    {
     "name": "stderr",
     "output_type": "stream",
     "text": [
      "\u001b[32m[I 2022-01-07 02:15:43,860]\u001b[0m Trial 8 finished with value: -0.344609977822669 and parameters: {'w_1': 0.6142212454134617, 'w_2': 0.6183732525045481, 'w_3': 0.5514435497418219}. Best is trial 7 with value: -0.34485224221322247.\u001b[0m\n"
     ]
    },
    {
     "name": "stdout",
     "output_type": "stream",
     "text": [
      "CURRENT CONFIGURATION:\n",
      "SLIMElasticNetRecommender with weight alpha: 0.3949828304802073\n",
      "UserKNNCFRecommender with weight beta: 0.29066947007848726\n",
      "EASE_R_Recommender with weight gamma: 0.3143476994413054\n",
      "Norm type: 2\n",
      "EvaluatorHoldout: Processed 13649 (100.0%) in 4.94 min. Users per second: 46\n"
     ]
    },
    {
     "name": "stderr",
     "output_type": "stream",
     "text": [
      "\u001b[32m[I 2022-01-07 02:20:40,381]\u001b[0m Trial 9 finished with value: -0.34476790845774113 and parameters: {'w_1': 0.5159851178498427, 'w_2': 0.3797155450819404, 'w_3': 0.4106475578820804}. Best is trial 7 with value: -0.34485224221322247.\u001b[0m\n"
     ]
    },
    {
     "name": "stdout",
     "output_type": "stream",
     "text": [
      "CURRENT CONFIGURATION:\n",
      "SLIMElasticNetRecommender with weight alpha: 0.3153026133636654\n",
      "UserKNNCFRecommender with weight beta: 0.4539766198675669\n",
      "EASE_R_Recommender with weight gamma: 0.2307207667687677\n",
      "Norm type: 2\n",
      "EvaluatorHoldout: Processed 13649 (100.0%) in 4.94 min. Users per second: 46\n"
     ]
    },
    {
     "name": "stderr",
     "output_type": "stream",
     "text": [
      "\u001b[32m[I 2022-01-07 02:25:37,057]\u001b[0m Trial 10 finished with value: -0.3445691614130707 and parameters: {'w_1': 0.05921079447860733, 'w_2': 0.08525243749270162, 'w_3': 0.04332713819702985}. Best is trial 7 with value: -0.34485224221322247.\u001b[0m\n"
     ]
    },
    {
     "name": "stdout",
     "output_type": "stream",
     "text": [
      "CURRENT CONFIGURATION:\n",
      "SLIMElasticNetRecommender with weight alpha: 0.8941907307794972\n",
      "UserKNNCFRecommender with weight beta: 0.07770249668793616\n",
      "EASE_R_Recommender with weight gamma: 0.028106772532566597\n",
      "Norm type: 2\n",
      "EvaluatorHoldout: Processed 13649 (100.0%) in 4.94 min. Users per second: 46\n"
     ]
    },
    {
     "name": "stderr",
     "output_type": "stream",
     "text": [
      "\u001b[32m[I 2022-01-07 02:30:33,428]\u001b[0m Trial 11 finished with value: -0.34375443808314493 and parameters: {'w_1': 0.5038644391949705, 'w_2': 0.043784310852323705, 'w_3': 0.01583778794861445}. Best is trial 7 with value: -0.34485224221322247.\u001b[0m\n"
     ]
    },
    {
     "name": "stdout",
     "output_type": "stream",
     "text": [
      "CURRENT CONFIGURATION:\n",
      "SLIMElasticNetRecommender with weight alpha: 0.48084897103309504\n",
      "UserKNNCFRecommender with weight beta: 0.203832466375331\n",
      "EASE_R_Recommender with weight gamma: 0.315318562591574\n",
      "Norm type: 2\n",
      "EvaluatorHoldout: Processed 13649 (100.0%) in 4.93 min. Users per second: 46\n"
     ]
    },
    {
     "name": "stderr",
     "output_type": "stream",
     "text": [
      "\u001b[32m[I 2022-01-07 02:35:29,359]\u001b[0m Trial 12 finished with value: -0.3448985855118189 and parameters: {'w_1': 0.4370154706426427, 'w_2': 0.1852513919992043, 'w_3': 0.2865745760820898}. Best is trial 12 with value: -0.3448985855118189.\u001b[0m\n"
     ]
    },
    {
     "name": "stdout",
     "output_type": "stream",
     "text": [
      "CURRENT CONFIGURATION:\n",
      "SLIMElasticNetRecommender with weight alpha: 0.49044539006392346\n",
      "UserKNNCFRecommender with weight beta: 0.22720739310708649\n",
      "EASE_R_Recommender with weight gamma: 0.28234721682899017\n",
      "Norm type: 2\n",
      "EvaluatorHoldout: Processed 13649 (100.0%) in 4.92 min. Users per second: 46\n"
     ]
    },
    {
     "name": "stderr",
     "output_type": "stream",
     "text": [
      "\u001b[32m[I 2022-01-07 02:40:24,507]\u001b[0m Trial 13 finished with value: -0.34515973319750276 and parameters: {'w_1': 0.3806041411630041, 'w_2': 0.17632151605734664, 'w_3': 0.21911210126158168}. Best is trial 13 with value: -0.34515973319750276.\u001b[0m\n"
     ]
    },
    {
     "name": "stdout",
     "output_type": "stream",
     "text": [
      "CURRENT CONFIGURATION:\n",
      "SLIMElasticNetRecommender with weight alpha: 0.512461990060777\n",
      "UserKNNCFRecommender with weight beta: 0.18775758922439298\n",
      "EASE_R_Recommender with weight gamma: 0.2997804207148301\n",
      "Norm type: 2\n",
      "EvaluatorHoldout: Processed 13649 (100.0%) in 4.91 min. Users per second: 46\n"
     ]
    },
    {
     "name": "stderr",
     "output_type": "stream",
     "text": [
      "\u001b[32m[I 2022-01-07 02:45:19,454]\u001b[0m Trial 14 finished with value: -0.3449575293032689 and parameters: {'w_1': 0.3791693217061279, 'w_2': 0.13892136223205093, 'w_3': 0.2218067700391575}. Best is trial 13 with value: -0.34515973319750276.\u001b[0m\n"
     ]
    },
    {
     "name": "stdout",
     "output_type": "stream",
     "text": [
      "CURRENT CONFIGURATION:\n",
      "SLIMElasticNetRecommender with weight alpha: 0.2306988759357358\n",
      "UserKNNCFRecommender with weight beta: 0.6450053861725761\n",
      "EASE_R_Recommender with weight gamma: 0.12429573789168818\n",
      "Norm type: 2\n",
      "EvaluatorHoldout: Processed 13649 (100.0%) in 4.92 min. Users per second: 46\n"
     ]
    },
    {
     "name": "stderr",
     "output_type": "stream",
     "text": [
      "\u001b[32m[I 2022-01-07 02:50:14,622]\u001b[0m Trial 15 finished with value: -0.34439343192768773 and parameters: {'w_1': 0.3484476056568564, 'w_2': 0.9742162008202302, 'w_3': 0.18773629514248552}. Best is trial 13 with value: -0.34515973319750276.\u001b[0m\n"
     ]
    },
    {
     "name": "stdout",
     "output_type": "stream",
     "text": [
      "CURRENT CONFIGURATION:\n",
      "SLIMElasticNetRecommender with weight alpha: 0.78642488117777\n",
      "UserKNNCFRecommender with weight beta: 0.02715317286708869\n",
      "EASE_R_Recommender with weight gamma: 0.18642194595514128\n",
      "Norm type: 2\n",
      "EvaluatorHoldout: Processed 13649 (100.0%) in 4.91 min. Users per second: 46\n"
     ]
    },
    {
     "name": "stderr",
     "output_type": "stream",
     "text": [
      "\u001b[32m[I 2022-01-07 02:55:09,041]\u001b[0m Trial 16 finished with value: -0.3440377049542585 and parameters: {'w_1': 0.6544978252556355, 'w_2': 0.022598080268880272, 'w_3': 0.15514864944867227}. Best is trial 13 with value: -0.34515973319750276.\u001b[0m\n"
     ]
    },
    {
     "name": "stdout",
     "output_type": "stream",
     "text": [
      "CURRENT CONFIGURATION:\n",
      "SLIMElasticNetRecommender with weight alpha: 0.13905901151582842\n",
      "UserKNNCFRecommender with weight beta: 0.23030793574560166\n",
      "EASE_R_Recommender with weight gamma: 0.63063305273857\n",
      "Norm type: 2\n",
      "EvaluatorHoldout: Processed 13649 (100.0%) in 4.91 min. Users per second: 46\n"
     ]
    },
    {
     "name": "stderr",
     "output_type": "stream",
     "text": [
      "\u001b[32m[I 2022-01-07 03:00:03,898]\u001b[0m Trial 17 finished with value: -0.3419632201673008 and parameters: {'w_1': 0.09234838899882952, 'w_2': 0.15294633988773434, 'w_3': 0.4188002333325366}. Best is trial 13 with value: -0.34515973319750276.\u001b[0m\n"
     ]
    },
    {
     "name": "stdout",
     "output_type": "stream",
     "text": [
      "CURRENT CONFIGURATION:\n",
      "SLIMElasticNetRecommender with weight alpha: 0.22664852270920882\n",
      "UserKNNCFRecommender with weight beta: 0.3920258104161492\n",
      "EASE_R_Recommender with weight gamma: 0.3813256668746419\n",
      "Norm type: 2\n",
      "EvaluatorHoldout: Processed 13649 (100.0%) in 4.91 min. Users per second: 46\n"
     ]
    },
    {
     "name": "stderr",
     "output_type": "stream",
     "text": [
      "\u001b[32m[I 2022-01-07 03:04:58,724]\u001b[0m Trial 18 finished with value: -0.34382940142134855 and parameters: {'w_1': 0.3826384240386512, 'w_2': 0.6618359408967622, 'w_3': 0.6437714681494031}. Best is trial 13 with value: -0.34515973319750276.\u001b[0m\n"
     ]
    },
    {
     "name": "stdout",
     "output_type": "stream",
     "text": [
      "CURRENT CONFIGURATION:\n",
      "SLIMElasticNetRecommender with weight alpha: 0.3327214073491651\n",
      "UserKNNCFRecommender with weight beta: 0.4606448230390995\n",
      "EASE_R_Recommender with weight gamma: 0.2066337696117354\n",
      "Norm type: 2\n",
      "EvaluatorHoldout: Processed 13649 (100.0%) in 4.91 min. Users per second: 46\n"
     ]
    },
    {
     "name": "stderr",
     "output_type": "stream",
     "text": [
      "\u001b[32m[I 2022-01-07 03:09:53,397]\u001b[0m Trial 19 finished with value: -0.34486223771263014 and parameters: {'w_1': 0.22011168797218017, 'w_2': 0.3047393624672249, 'w_3': 0.13669847150400916}. Best is trial 13 with value: -0.34515973319750276.\u001b[0m\n"
     ]
    },
    {
     "name": "stdout",
     "output_type": "stream",
     "text": [
      "CURRENT CONFIGURATION:\n",
      "SLIMElasticNetRecommender with weight alpha: 0.37252461601480524\n",
      "UserKNNCFRecommender with weight beta: 0.07578293938179351\n",
      "EASE_R_Recommender with weight gamma: 0.5516924446034012\n",
      "Norm type: 2\n",
      "EvaluatorHoldout: Processed 13649 (100.0%) in 4.91 min. Users per second: 46\n"
     ]
    },
    {
     "name": "stderr",
     "output_type": "stream",
     "text": [
      "\u001b[32m[I 2022-01-07 03:14:48,341]\u001b[0m Trial 20 finished with value: -0.34345939059434555 and parameters: {'w_1': 0.6475118841918073, 'w_2': 0.1317237888696956, 'w_3': 0.9589364002869954}. Best is trial 13 with value: -0.34515973319750276.\u001b[0m\n"
     ]
    },
    {
     "name": "stdout",
     "output_type": "stream",
     "text": [
      "CURRENT CONFIGURATION:\n",
      "SLIMElasticNetRecommender with weight alpha: 0.4724587478263738\n",
      "UserKNNCFRecommender with weight beta: 0.21949802618911232\n",
      "EASE_R_Recommender with weight gamma: 0.30804322598451384\n",
      "Norm type: 2\n",
      "EvaluatorHoldout: Processed 13649 (100.0%) in 4.92 min. Users per second: 46\n"
     ]
    },
    {
     "name": "stderr",
     "output_type": "stream",
     "text": [
      "\u001b[32m[I 2022-01-07 03:19:43,533]\u001b[0m Trial 21 finished with value: -0.3451119652931158 and parameters: {'w_1': 0.4383214096274223, 'w_2': 0.20363827464785456, 'w_3': 0.285785672634705}. Best is trial 13 with value: -0.34515973319750276.\u001b[0m\n"
     ]
    },
    {
     "name": "stdout",
     "output_type": "stream",
     "text": [
      "CURRENT CONFIGURATION:\n",
      "SLIMElasticNetRecommender with weight alpha: 0.3509494809922153\n",
      "UserKNNCFRecommender with weight beta: 0.31003265127352686\n",
      "EASE_R_Recommender with weight gamma: 0.3390178677342578\n",
      "Norm type: 2\n",
      "EvaluatorHoldout: Processed 13649 (100.0%) in 4.91 min. Users per second: 46\n"
     ]
    },
    {
     "name": "stderr",
     "output_type": "stream",
     "text": [
      "\u001b[32m[I 2022-01-07 03:24:38,378]\u001b[0m Trial 22 finished with value: -0.3445464607558917 and parameters: {'w_1': 0.3272919711766245, 'w_2': 0.28913334556741643, 'w_3': 0.31616466814864064}. Best is trial 13 with value: -0.34515973319750276.\u001b[0m\n"
     ]
    },
    {
     "name": "stdout",
     "output_type": "stream",
     "text": [
      "CURRENT CONFIGURATION:\n",
      "SLIMElasticNetRecommender with weight alpha: 0.5661978458083625\n",
      "UserKNNCFRecommender with weight beta: 0.006681255206592982\n",
      "EASE_R_Recommender with weight gamma: 0.42712089898504446\n",
      "Norm type: 2\n",
      "EvaluatorHoldout: Processed 13649 (100.0%) in 4.91 min. Users per second: 46\n"
     ]
    },
    {
     "name": "stderr",
     "output_type": "stream",
     "text": [
      "\u001b[32m[I 2022-01-07 03:29:33,018]\u001b[0m Trial 23 finished with value: -0.3438655631495781 and parameters: {'w_1': 0.5446477967997049, 'w_2': 0.006426960037144103, 'w_3': 0.41086425588070985}. Best is trial 13 with value: -0.34515973319750276.\u001b[0m\n"
     ]
    },
    {
     "name": "stdout",
     "output_type": "stream",
     "text": [
      "CURRENT CONFIGURATION:\n",
      "SLIMElasticNetRecommender with weight alpha: 0.5365444841336983\n",
      "UserKNNCFRecommender with weight beta: 0.15065511518538882\n",
      "EASE_R_Recommender with weight gamma: 0.31280040068091286\n",
      "Norm type: 2\n",
      "EvaluatorHoldout: Processed 13649 (100.0%) in 4.91 min. Users per second: 46\n"
     ]
    },
    {
     "name": "stderr",
     "output_type": "stream",
     "text": [
      "\u001b[32m[I 2022-01-07 03:34:27,680]\u001b[0m Trial 24 finished with value: -0.34464449107847894 and parameters: {'w_1': 0.4108512153332866, 'w_2': 0.11536198581937072, 'w_3': 0.23952240415627557}. Best is trial 13 with value: -0.34515973319750276.\u001b[0m\n"
     ]
    },
    {
     "name": "stdout",
     "output_type": "stream",
     "text": [
      "CURRENT CONFIGURATION:\n",
      "SLIMElasticNetRecommender with weight alpha: 0.4181283120219458\n",
      "UserKNNCFRecommender with weight beta: 0.4171497437359399\n",
      "EASE_R_Recommender with weight gamma: 0.1647219442421142\n",
      "Norm type: 2\n",
      "EvaluatorHoldout: Processed 13649 (100.0%) in 4.91 min. Users per second: 46\n"
     ]
    },
    {
     "name": "stderr",
     "output_type": "stream",
     "text": [
      "\u001b[32m[I 2022-01-07 03:39:22,564]\u001b[0m Trial 25 finished with value: -0.34477285387498435 and parameters: {'w_1': 0.2632578394265018, 'w_2': 0.26264172287735105, 'w_3': 0.10371061203106399}. Best is trial 13 with value: -0.34515973319750276.\u001b[0m\n"
     ]
    },
    {
     "name": "stdout",
     "output_type": "stream",
     "text": [
      "CURRENT CONFIGURATION:\n",
      "SLIMElasticNetRecommender with weight alpha: 0.17273222381211636\n",
      "UserKNNCFRecommender with weight beta: 0.5442139509716134\n",
      "EASE_R_Recommender with weight gamma: 0.28305382521627026\n",
      "Norm type: 2\n",
      "EvaluatorHoldout: Processed 13649 (100.0%) in 4.91 min. Users per second: 46\n"
     ]
    },
    {
     "name": "stderr",
     "output_type": "stream",
     "text": [
      "\u001b[32m[I 2022-01-07 03:44:17,176]\u001b[0m Trial 26 finished with value: -0.3438469531461711 and parameters: {'w_1': 0.12986719026919702, 'w_2': 0.40916243164249944, 'w_3': 0.21281150768816134}. Best is trial 13 with value: -0.34515973319750276.\u001b[0m\n"
     ]
    },
    {
     "name": "stdout",
     "output_type": "stream",
     "text": [
      "CURRENT CONFIGURATION:\n",
      "SLIMElasticNetRecommender with weight alpha: 0.5943502616417192\n",
      "UserKNNCFRecommender with weight beta: 0.1412943321001329\n",
      "EASE_R_Recommender with weight gamma: 0.2643554062581479\n",
      "Norm type: 2\n",
      "EvaluatorHoldout: Processed 13649 (100.0%) in 4.91 min. Users per second: 46\n"
     ]
    },
    {
     "name": "stderr",
     "output_type": "stream",
     "text": [
      "\u001b[32m[I 2022-01-07 03:49:12,043]\u001b[0m Trial 27 finished with value: -0.34472990637141887 and parameters: {'w_1': 0.7330370468314, 'w_2': 0.17426421189855895, 'w_3': 0.3260405838505407}. Best is trial 13 with value: -0.34515973319750276.\u001b[0m\n"
     ]
    },
    {
     "name": "stdout",
     "output_type": "stream",
     "text": [
      "CURRENT CONFIGURATION:\n",
      "SLIMElasticNetRecommender with weight alpha: 0.5042266348096517\n",
      "UserKNNCFRecommender with weight beta: 0.06851572960141115\n",
      "EASE_R_Recommender with weight gamma: 0.4272576355889372\n",
      "Norm type: 2\n",
      "EvaluatorHoldout: Processed 13649 (100.0%) in 4.91 min. Users per second: 46\n"
     ]
    },
    {
     "name": "stderr",
     "output_type": "stream",
     "text": [
      "\u001b[32m[I 2022-01-07 03:54:06,530]\u001b[0m Trial 28 finished with value: -0.3441627126587582 and parameters: {'w_1': 0.5546188840176957, 'w_2': 0.0753631697848292, 'w_3': 0.46995762754149484}. Best is trial 13 with value: -0.34515973319750276.\u001b[0m\n"
     ]
    },
    {
     "name": "stdout",
     "output_type": "stream",
     "text": [
      "CURRENT CONFIGURATION:\n",
      "SLIMElasticNetRecommender with weight alpha: 0.46429120103620947\n",
      "UserKNNCFRecommender with weight beta: 0.47438200255708723\n",
      "EASE_R_Recommender with weight gamma: 0.061326796406703396\n",
      "Norm type: 2\n",
      "EvaluatorHoldout: Processed 13649 (100.0%) in 4.91 min. Users per second: 46\n"
     ]
    },
    {
     "name": "stderr",
     "output_type": "stream",
     "text": [
      "\u001b[32m[I 2022-01-07 03:59:01,101]\u001b[0m Trial 29 finished with value: -0.34494626328808303 and parameters: {'w_1': 0.8122729746715702, 'w_2': 0.8299267345315262, 'w_3': 0.1072906383605271}. Best is trial 13 with value: -0.34515973319750276.\u001b[0m\n"
     ]
    },
    {
     "name": "stdout",
     "output_type": "stream",
     "text": [
      "CURRENT CONFIGURATION:\n",
      "SLIMElasticNetRecommender with weight alpha: 0.3106991074616703\n",
      "UserKNNCFRecommender with weight beta: 0.2536930037537476\n",
      "EASE_R_Recommender with weight gamma: 0.4356078887845821\n",
      "Norm type: 2\n",
      "EvaluatorHoldout: Processed 13649 (100.0%) in 4.90 min. Users per second: 46\n"
     ]
    },
    {
     "name": "stderr",
     "output_type": "stream",
     "text": [
      "\u001b[32m[I 2022-01-07 04:03:55,398]\u001b[0m Trial 30 finished with value: -0.34381323941401604 and parameters: {'w_1': 0.4327379930549997, 'w_2': 0.35334057504505284, 'w_3': 0.6067094466141026}. Best is trial 13 with value: -0.34515973319750276.\u001b[0m\n"
     ]
    },
    {
     "name": "stdout",
     "output_type": "stream",
     "text": [
      "CURRENT CONFIGURATION:\n",
      "SLIMElasticNetRecommender with weight alpha: 0.49344588463714206\n",
      "UserKNNCFRecommender with weight beta: 0.4432504508277276\n",
      "EASE_R_Recommender with weight gamma: 0.06330366453513035\n",
      "Norm type: 2\n",
      "EvaluatorHoldout: Processed 13649 (100.0%) in 4.91 min. Users per second: 46\n"
     ]
    },
    {
     "name": "stderr",
     "output_type": "stream",
     "text": [
      "\u001b[32m[I 2022-01-07 04:08:50,200]\u001b[0m Trial 31 finished with value: -0.3449046822431333 and parameters: {'w_1': 0.8569606085523125, 'w_2': 0.7697868964126423, 'w_3': 0.10993859422600888}. Best is trial 13 with value: -0.34515973319750276.\u001b[0m\n"
     ]
    },
    {
     "name": "stdout",
     "output_type": "stream",
     "text": [
      "CURRENT CONFIGURATION:\n",
      "SLIMElasticNetRecommender with weight alpha: 0.40511704952829336\n",
      "UserKNNCFRecommender with weight beta: 0.4600661563378672\n",
      "EASE_R_Recommender with weight gamma: 0.13481679413383948\n",
      "Norm type: 2\n",
      "EvaluatorHoldout: Processed 13649 (100.0%) in 4.92 min. Users per second: 46\n"
     ]
    },
    {
     "name": "stderr",
     "output_type": "stream",
     "text": [
      "\u001b[32m[I 2022-01-07 04:13:45,485]\u001b[0m Trial 32 finished with value: -0.344599645069642 and parameters: {'w_1': 0.8120195798350087, 'w_2': 0.9221599717927728, 'w_3': 0.27022776912186597}. Best is trial 13 with value: -0.34515973319750276.\u001b[0m\n"
     ]
    },
    {
     "name": "stdout",
     "output_type": "stream",
     "text": [
      "CURRENT CONFIGURATION:\n",
      "SLIMElasticNetRecommender with weight alpha: 0.4583250707853386\n",
      "UserKNNCFRecommender with weight beta: 0.4531601926620782\n",
      "EASE_R_Recommender with weight gamma: 0.08851473655258327\n",
      "Norm type: 2\n",
      "EvaluatorHoldout: Processed 13649 (100.0%) in 4.91 min. Users per second: 46\n"
     ]
    },
    {
     "name": "stderr",
     "output_type": "stream",
     "text": [
      "\u001b[32m[I 2022-01-07 04:18:40,181]\u001b[0m Trial 33 finished with value: -0.3449048973876799 and parameters: {'w_1': 0.8731114214573062, 'w_2': 0.8632723042732374, 'w_3': 0.16862099059717678}. Best is trial 13 with value: -0.34515973319750276.\u001b[0m\n"
     ]
    },
    {
     "name": "stdout",
     "output_type": "stream",
     "text": [
      "CURRENT CONFIGURATION:\n",
      "SLIMElasticNetRecommender with weight alpha: 0.4965351383830414\n",
      "UserKNNCFRecommender with weight beta: 0.49932993795773156\n",
      "EASE_R_Recommender with weight gamma: 0.00413492365922685\n",
      "Norm type: 2\n",
      "EvaluatorHoldout: Processed 13649 (100.0%) in 4.91 min. Users per second: 46\n"
     ]
    },
    {
     "name": "stderr",
     "output_type": "stream",
     "text": [
      "\u001b[32m[I 2022-01-07 04:23:34,880]\u001b[0m Trial 34 finished with value: -0.34471158419652964 and parameters: {'w_1': 0.7017184707317181, 'w_2': 0.7056681659938494, 'w_3': 0.005843599138207867}. Best is trial 13 with value: -0.34515973319750276.\u001b[0m\n"
     ]
    },
    {
     "name": "stdout",
     "output_type": "stream",
     "text": [
      "CURRENT CONFIGURATION:\n",
      "SLIMElasticNetRecommender with weight alpha: 0.2774190847309594\n",
      "UserKNNCFRecommender with weight beta: 0.4070193976074124\n",
      "EASE_R_Recommender with weight gamma: 0.3155615176616281\n",
      "Norm type: 2\n",
      "EvaluatorHoldout: Processed 13649 (100.0%) in 4.92 min. Users per second: 46\n"
     ]
    },
    {
     "name": "stderr",
     "output_type": "stream",
     "text": [
      "\u001b[32m[I 2022-01-07 04:28:29,879]\u001b[0m Trial 35 finished with value: -0.34409771865373107 and parameters: {'w_1': 0.31237723755418345, 'w_2': 0.4583087539881222, 'w_3': 0.3553260773718657}. Best is trial 13 with value: -0.34515973319750276.\u001b[0m\n"
     ]
    },
    {
     "name": "stdout",
     "output_type": "stream",
     "text": [
      "CURRENT CONFIGURATION:\n",
      "SLIMElasticNetRecommender with weight alpha: 0.4087933036058051\n",
      "UserKNNCFRecommender with weight beta: 0.5178008974528407\n",
      "EASE_R_Recommender with weight gamma: 0.0734057989413541\n",
      "Norm type: 2\n",
      "EvaluatorHoldout: Processed 13649 (100.0%) in 4.94 min. Users per second: 46\n"
     ]
    },
    {
     "name": "stderr",
     "output_type": "stream",
     "text": [
      "\u001b[32m[I 2022-01-07 04:33:26,219]\u001b[0m Trial 36 finished with value: -0.34484583148716086 and parameters: {'w_1': 0.45604967893727016, 'w_2': 0.577658515816855, 'w_3': 0.08189148585373979}. Best is trial 13 with value: -0.34515973319750276.\u001b[0m\n"
     ]
    },
    {
     "name": "stdout",
     "output_type": "stream",
     "text": [
      "CURRENT CONFIGURATION:\n",
      "SLIMElasticNetRecommender with weight alpha: 0.5770257911129252\n",
      "UserKNNCFRecommender with weight beta: 0.22040103318314958\n",
      "EASE_R_Recommender with weight gamma: 0.20257317570392505\n",
      "Norm type: 2\n",
      "EvaluatorHoldout: Processed 13649 (100.0%) in 5.05 min. Users per second: 45\n"
     ]
    },
    {
     "name": "stderr",
     "output_type": "stream",
     "text": [
      "\u001b[32m[I 2022-01-07 04:38:29,295]\u001b[0m Trial 37 finished with value: -0.3451074530723232 and parameters: {'w_1': 0.5879339218961623, 'w_2': 0.22456750777016138, 'w_3': 0.2064026313847399}. Best is trial 13 with value: -0.34515973319750276.\u001b[0m\n"
     ]
    },
    {
     "name": "stdout",
     "output_type": "stream",
     "text": [
      "CURRENT CONFIGURATION:\n",
      "SLIMElasticNetRecommender with weight alpha: 0.5715004998460111\n",
      "UserKNNCFRecommender with weight beta: 0.2129056045996219\n",
      "EASE_R_Recommender with weight gamma: 0.21559389555436703\n",
      "Norm type: 2\n",
      "EvaluatorHoldout: Processed 13649 (100.0%) in 4.91 min. Users per second: 46\n"
     ]
    },
    {
     "name": "stderr",
     "output_type": "stream",
     "text": [
      "\u001b[32m[I 2022-01-07 04:43:23,834]\u001b[0m Trial 38 finished with value: -0.3451530055693374 and parameters: {'w_1': 0.6015812812186744, 'w_2': 0.22411183617195046, 'w_3': 0.22694162462756842}. Best is trial 13 with value: -0.34515973319750276.\u001b[0m\n"
     ]
    },
    {
     "name": "stdout",
     "output_type": "stream",
     "text": [
      "CURRENT CONFIGURATION:\n",
      "SLIMElasticNetRecommender with weight alpha: 0.4573449928227461\n",
      "UserKNNCFRecommender with weight beta: 0.1839354225149077\n",
      "EASE_R_Recommender with weight gamma: 0.35871958466234627\n",
      "Norm type: 2\n",
      "EvaluatorHoldout: Processed 13649 (100.0%) in 4.91 min. Users per second: 46\n"
     ]
    },
    {
     "name": "stderr",
     "output_type": "stream",
     "text": [
      "\u001b[32m[I 2022-01-07 04:48:18,388]\u001b[0m Trial 39 finished with value: -0.3444248052360385 and parameters: {'w_1': 0.5950644082008488, 'w_2': 0.23932354144834303, 'w_3': 0.4667401211493855}. Best is trial 13 with value: -0.34515973319750276.\u001b[0m\n"
     ]
    },
    {
     "name": "stdout",
     "output_type": "stream",
     "text": [
      "CURRENT CONFIGURATION:\n",
      "SLIMElasticNetRecommender with weight alpha: 0.5418666368528067\n",
      "UserKNNCFRecommender with weight beta: 0.26065470013532344\n",
      "EASE_R_Recommender with weight gamma: 0.19747866301186986\n",
      "Norm type: 2\n",
      "EvaluatorHoldout: Processed 13649 (100.0%) in 4.91 min. Users per second: 46\n"
     ]
    },
    {
     "name": "stderr",
     "output_type": "stream",
     "text": [
      "\u001b[32m[I 2022-01-07 04:53:13,125]\u001b[0m Trial 40 finished with value: -0.34519905813205753 and parameters: {'w_1': 0.6994177170172191, 'w_2': 0.33644166829923816, 'w_3': 0.2548968071656603}. Best is trial 40 with value: -0.34519905813205753.\u001b[0m\n"
     ]
    },
    {
     "name": "stdout",
     "output_type": "stream",
     "text": [
      "CURRENT CONFIGURATION:\n",
      "SLIMElasticNetRecommender with weight alpha: 0.5039997768011488\n",
      "UserKNNCFRecommender with weight beta: 0.23986882531689974\n",
      "EASE_R_Recommender with weight gamma: 0.2561313978819516\n",
      "Norm type: 2\n",
      "EvaluatorHoldout: Processed 13649 (100.0%) in 4.93 min. Users per second: 46\n"
     ]
    },
    {
     "name": "stderr",
     "output_type": "stream",
     "text": [
      "\u001b[32m[I 2022-01-07 04:58:08,916]\u001b[0m Trial 41 finished with value: -0.34528600560306194 and parameters: {'w_1': 0.723391558174963, 'w_2': 0.34428404791149625, 'w_3': 0.3676257402083319}. Best is trial 41 with value: -0.34528600560306194.\u001b[0m\n"
     ]
    },
    {
     "name": "stdout",
     "output_type": "stream",
     "text": [
      "CURRENT CONFIGURATION:\n",
      "SLIMElasticNetRecommender with weight alpha: 0.506193728353974\n",
      "UserKNNCFRecommender with weight beta: 0.23908316591426296\n",
      "EASE_R_Recommender with weight gamma: 0.25472310573176304\n",
      "Norm type: 2\n",
      "EvaluatorHoldout: Processed 13649 (100.0%) in 4.93 min. Users per second: 46\n"
     ]
    },
    {
     "name": "stderr",
     "output_type": "stream",
     "text": [
      "\u001b[32m[I 2022-01-07 05:03:04,638]\u001b[0m Trial 42 finished with value: -0.3452967192200838 and parameters: {'w_1': 0.7239498620942117, 'w_2': 0.34193277256814, 'w_3': 0.3643007547058469}. Best is trial 42 with value: -0.3452967192200838.\u001b[0m\n"
     ]
    },
    {
     "name": "stdout",
     "output_type": "stream",
     "text": [
      "CURRENT CONFIGURATION:\n",
      "SLIMElasticNetRecommender with weight alpha: 0.5035760093759585\n",
      "UserKNNCFRecommender with weight beta: 0.24464078439202006\n",
      "EASE_R_Recommender with weight gamma: 0.25178320623202144\n",
      "Norm type: 2\n",
      "EvaluatorHoldout: Processed 13649 (100.0%) in 4.92 min. Users per second: 46\n"
     ]
    },
    {
     "name": "stderr",
     "output_type": "stream",
     "text": [
      "\u001b[32m[I 2022-01-07 05:08:00,156]\u001b[0m Trial 43 finished with value: -0.3452773387666053 and parameters: {'w_1': 0.7323118446540626, 'w_2': 0.35576226976687675, 'w_3': 0.36614894430173117}. Best is trial 42 with value: -0.3452967192200838.\u001b[0m\n"
     ]
    },
    {
     "name": "stdout",
     "output_type": "stream",
     "text": [
      "CURRENT CONFIGURATION:\n",
      "SLIMElasticNetRecommender with weight alpha: 0.4634780311831934\n",
      "UserKNNCFRecommender with weight beta: 0.3036185531029438\n",
      "EASE_R_Recommender with weight gamma: 0.2329034157138628\n",
      "Norm type: 2\n",
      "EvaluatorHoldout: Processed 13649 (100.0%) in 4.92 min. Users per second: 46\n"
     ]
    },
    {
     "name": "stderr",
     "output_type": "stream",
     "text": [
      "\u001b[32m[I 2022-01-07 05:12:55,473]\u001b[0m Trial 44 finished with value: -0.34520350348359763 and parameters: {'w_1': 0.7380535365820143, 'w_2': 0.4834894683518876, 'w_3': 0.3708809869818934}. Best is trial 42 with value: -0.3452967192200838.\u001b[0m\n"
     ]
    },
    {
     "name": "stdout",
     "output_type": "stream",
     "text": [
      "CURRENT CONFIGURATION:\n",
      "SLIMElasticNetRecommender with weight alpha: 0.4717642024406126\n",
      "UserKNNCFRecommender with weight beta: 0.2932542258371324\n",
      "EASE_R_Recommender with weight gamma: 0.23498157172225498\n",
      "Norm type: 2\n",
      "EvaluatorHoldout: Processed 13649 (100.0%) in 4.91 min. Users per second: 46\n"
     ]
    },
    {
     "name": "stderr",
     "output_type": "stream",
     "text": [
      "\u001b[32m[I 2022-01-07 05:17:49,964]\u001b[0m Trial 45 finished with value: -0.34523549315200763 and parameters: {'w_1': 0.742365449342959, 'w_2': 0.4614631716629866, 'w_3': 0.3697656566065247}. Best is trial 42 with value: -0.3452967192200838.\u001b[0m\n"
     ]
    },
    {
     "name": "stdout",
     "output_type": "stream",
     "text": [
      "CURRENT CONFIGURATION:\n",
      "SLIMElasticNetRecommender with weight alpha: 0.5205506961967109\n",
      "UserKNNCFRecommender with weight beta: 0.27083301010427174\n",
      "EASE_R_Recommender with weight gamma: 0.2086162936990173\n",
      "Norm type: 2\n",
      "EvaluatorHoldout: Processed 13649 (100.0%) in 4.91 min. Users per second: 46\n"
     ]
    },
    {
     "name": "stderr",
     "output_type": "stream",
     "text": [
      "\u001b[32m[I 2022-01-07 05:22:44,530]\u001b[0m Trial 46 finished with value: -0.3450886744421066 and parameters: {'w_1': 0.9304884104201749, 'w_2': 0.4841161080034443, 'w_3': 0.37290324444863066}. Best is trial 42 with value: -0.3452967192200838.\u001b[0m\n"
     ]
    },
    {
     "name": "stdout",
     "output_type": "stream",
     "text": [
      "CURRENT CONFIGURATION:\n",
      "SLIMElasticNetRecommender with weight alpha: 0.4156597593327749\n",
      "UserKNNCFRecommender with weight beta: 0.297094929125284\n",
      "EASE_R_Recommender with weight gamma: 0.28724531154194105\n",
      "Norm type: 2\n",
      "EvaluatorHoldout: Processed 13649 (100.0%) in 4.91 min. Users per second: 46\n"
     ]
    },
    {
     "name": "stderr",
     "output_type": "stream",
     "text": [
      "\u001b[32m[I 2022-01-07 05:27:39,108]\u001b[0m Trial 47 finished with value: -0.3449862888961015 and parameters: {'w_1': 0.7478238564728463, 'w_2': 0.5345109086182314, 'w_3': 0.5167902155740406}. Best is trial 42 with value: -0.3452967192200838.\u001b[0m\n"
     ]
    },
    {
     "name": "stdout",
     "output_type": "stream",
     "text": [
      "CURRENT CONFIGURATION:\n",
      "SLIMElasticNetRecommender with weight alpha: 0.45801283416265726\n",
      "UserKNNCFRecommender with weight beta: 0.27816179714961564\n",
      "EASE_R_Recommender with weight gamma: 0.2638253686877271\n",
      "Norm type: 2\n",
      "EvaluatorHoldout: Processed 13649 (100.0%) in 4.91 min. Users per second: 46\n"
     ]
    },
    {
     "name": "stderr",
     "output_type": "stream",
     "text": [
      "\u001b[32m[I 2022-01-07 05:32:33,500]\u001b[0m Trial 48 finished with value: -0.34524044729133135 and parameters: {'w_1': 0.7820019745142919, 'w_2': 0.4749279024093741, 'w_3': 0.4504501705021974}. Best is trial 42 with value: -0.3452967192200838.\u001b[0m\n"
     ]
    },
    {
     "name": "stdout",
     "output_type": "stream",
     "text": [
      "CURRENT CONFIGURATION:\n",
      "SLIMElasticNetRecommender with weight alpha: 0.4642729780665109\n",
      "UserKNNCFRecommender with weight beta: 0.23052545664010857\n",
      "EASE_R_Recommender with weight gamma: 0.30520156529338044\n",
      "Norm type: 2\n",
      "EvaluatorHoldout: Processed 13649 (100.0%) in 4.91 min. Users per second: 46\n"
     ]
    },
    {
     "name": "stderr",
     "output_type": "stream",
     "text": [
      "\u001b[32m[I 2022-01-07 05:37:27,958]\u001b[0m Trial 49 finished with value: -0.3449992004763432 and parameters: {'w_1': 0.8836493896187223, 'w_2': 0.4387584216077873, 'w_3': 0.5808892389243011}. Best is trial 42 with value: -0.3452967192200838.\u001b[0m\n"
     ]
    },
    {
     "name": "stdout",
     "output_type": "stream",
     "text": [
      "CURRENT CONFIGURATION:\n",
      "SLIMElasticNetRecommender with weight alpha: 0.48275713112636126\n",
      "UserKNNCFRecommender with weight beta: 0.23121512081630508\n",
      "EASE_R_Recommender with weight gamma: 0.28602774805733366\n",
      "Norm type: 2\n",
      "EvaluatorHoldout: Processed 13649 (100.0%) in 4.91 min. Users per second: 46\n"
     ]
    },
    {
     "name": "stderr",
     "output_type": "stream",
     "text": [
      "\u001b[32m[I 2022-01-07 05:42:22,517]\u001b[0m Trial 50 finished with value: -0.3451736420017989 and parameters: {'w_1': 0.7730310954850382, 'w_2': 0.3702409899576391, 'w_3': 0.4580115531468022}. Best is trial 42 with value: -0.3452967192200838.\u001b[0m\n"
     ]
    },
    {
     "name": "stdout",
     "output_type": "stream",
     "text": [
      "CURRENT CONFIGURATION:\n",
      "SLIMElasticNetRecommender with weight alpha: 0.4421227543143325\n",
      "UserKNNCFRecommender with weight beta: 0.30809572606465085\n",
      "EASE_R_Recommender with weight gamma: 0.2497815196210166\n",
      "Norm type: 2\n",
      "EvaluatorHoldout: Processed 13649 (100.0%) in 4.91 min. Users per second: 46\n"
     ]
    },
    {
     "name": "stderr",
     "output_type": "stream",
     "text": [
      "\u001b[32m[I 2022-01-07 05:47:17,133]\u001b[0m Trial 51 finished with value: -0.34518123311551524 and parameters: {'w_1': 0.6837679188956733, 'w_2': 0.47648751704397063, 'w_3': 0.38630128891406085}. Best is trial 42 with value: -0.3452967192200838.\u001b[0m\n"
     ]
    },
    {
     "name": "stdout",
     "output_type": "stream",
     "text": [
      "CURRENT CONFIGURATION:\n",
      "SLIMElasticNetRecommender with weight alpha: 0.48997082959528226\n",
      "UserKNNCFRecommender with weight beta: 0.24656705320001782\n",
      "EASE_R_Recommender with weight gamma: 0.2634621172046999\n",
      "Norm type: 2\n",
      "EvaluatorHoldout: Processed 13649 (100.0%) in 4.93 min. Users per second: 46\n"
     ]
    },
    {
     "name": "stderr",
     "output_type": "stream",
     "text": [
      "\u001b[32m[I 2022-01-07 05:52:12,768]\u001b[0m Trial 52 finished with value: -0.3453485632414492 and parameters: {'w_1': 0.8092522806578849, 'w_2': 0.4072384274427624, 'w_3': 0.43514288267113455}. Best is trial 52 with value: -0.3453485632414492.\u001b[0m\n"
     ]
    },
    {
     "name": "stdout",
     "output_type": "stream",
     "text": [
      "CURRENT CONFIGURATION:\n",
      "SLIMElasticNetRecommender with weight alpha: 0.4876957781754307\n",
      "UserKNNCFRecommender with weight beta: 0.24750069549959217\n",
      "EASE_R_Recommender with weight gamma: 0.26480352632497706\n",
      "Norm type: 2\n",
      "EvaluatorHoldout: Processed 13649 (100.0%) in 4.91 min. Users per second: 46\n"
     ]
    },
    {
     "name": "stderr",
     "output_type": "stream",
     "text": [
      "\u001b[32m[I 2022-01-07 05:57:07,267]\u001b[0m Trial 53 finished with value: -0.34530168789620086 and parameters: {'w_1': 0.8108961077736054, 'w_2': 0.41152160759465517, 'w_3': 0.44029117829354836}. Best is trial 52 with value: -0.3453485632414492.\u001b[0m\n"
     ]
    },
    {
     "name": "stdout",
     "output_type": "stream",
     "text": [
      "CURRENT CONFIGURATION:\n",
      "SLIMElasticNetRecommender with weight alpha: 0.5304705123287998\n",
      "UserKNNCFRecommender with weight beta: 0.22457221843383515\n",
      "EASE_R_Recommender with weight gamma: 0.24495726923736505\n",
      "Norm type: 2\n",
      "EvaluatorHoldout: Processed 13649 (100.0%) in 4.91 min. Users per second: 46\n"
     ]
    },
    {
     "name": "stderr",
     "output_type": "stream",
     "text": [
      "\u001b[32m[I 2022-01-07 06:02:01,863]\u001b[0m Trial 54 finished with value: -0.34511234906447 and parameters: {'w_1': 0.9297076330968328, 'w_2': 0.3935873923374921, 'w_3': 0.4293144250238282}. Best is trial 52 with value: -0.3453485632414492.\u001b[0m\n"
     ]
    },
    {
     "name": "stdout",
     "output_type": "stream",
     "text": [
      "CURRENT CONFIGURATION:\n",
      "SLIMElasticNetRecommender with weight alpha: 0.4542756892211961\n",
      "UserKNNCFRecommender with weight beta: 0.17528183192446364\n",
      "EASE_R_Recommender with weight gamma: 0.37044247885434023\n",
      "Norm type: 2\n",
      "EvaluatorHoldout: Processed 13649 (100.0%) in 4.90 min. Users per second: 46\n"
     ]
    },
    {
     "name": "stderr",
     "output_type": "stream",
     "text": [
      "\u001b[32m[I 2022-01-07 06:06:56,052]\u001b[0m Trial 55 finished with value: -0.3442504654681391 and parameters: {'w_1': 0.8195237617251465, 'w_2': 0.31621244470968457, 'w_3': 0.6682867275903785}. Best is trial 52 with value: -0.3453485632414492.\u001b[0m\n"
     ]
    },
    {
     "name": "stdout",
     "output_type": "stream",
     "text": [
      "CURRENT CONFIGURATION:\n",
      "SLIMElasticNetRecommender with weight alpha: 0.4832824340385843\n",
      "UserKNNCFRecommender with weight beta: 0.27679044961874266\n",
      "EASE_R_Recommender with weight gamma: 0.23992711634267308\n",
      "Norm type: 2\n",
      "EvaluatorHoldout: Processed 13649 (100.0%) in 4.91 min. Users per second: 46\n"
     ]
    },
    {
     "name": "stderr",
     "output_type": "stream",
     "text": [
      "\u001b[32m[I 2022-01-07 06:11:50,439]\u001b[0m Trial 56 finished with value: -0.3453251153930689 and parameters: {'w_1': 0.9874699994300402, 'w_2': 0.5655538994935597, 'w_3': 0.490232652278099}. Best is trial 52 with value: -0.3453485632414492.\u001b[0m\n"
     ]
    },
    {
     "name": "stdout",
     "output_type": "stream",
     "text": [
      "CURRENT CONFIGURATION:\n",
      "SLIMElasticNetRecommender with weight alpha: 0.48505476434540595\n",
      "UserKNNCFRecommender with weight beta: 0.24964176926506199\n",
      "EASE_R_Recommender with weight gamma: 0.26530346638953206\n",
      "Norm type: 2\n",
      "EvaluatorHoldout: Processed 13649 (100.0%) in 4.91 min. Users per second: 46\n"
     ]
    },
    {
     "name": "stderr",
     "output_type": "stream",
     "text": [
      "\u001b[32m[I 2022-01-07 06:16:45,204]\u001b[0m Trial 57 finished with value: -0.34530749970635727 and parameters: {'w_1': 0.9985167339836181, 'w_2': 0.5139037948608546, 'w_3': 0.5461444155307102}. Best is trial 52 with value: -0.3453485632414492.\u001b[0m\n"
     ]
    },
    {
     "name": "stdout",
     "output_type": "stream",
     "text": [
      "CURRENT CONFIGURATION:\n",
      "SLIMElasticNetRecommender with weight alpha: 0.465839052533145\n",
      "UserKNNCFRecommender with weight beta: 0.27662536215442823\n",
      "EASE_R_Recommender with weight gamma: 0.2575355853124269\n",
      "Norm type: 2\n",
      "EvaluatorHoldout: Processed 13649 (100.0%) in 4.92 min. Users per second: 46\n"
     ]
    },
    {
     "name": "stderr",
     "output_type": "stream",
     "text": [
      "\u001b[32m[I 2022-01-07 06:21:40,475]\u001b[0m Trial 58 finished with value: -0.34524363666388813 and parameters: {'w_1': 0.9860733154428182, 'w_2': 0.5855517834151083, 'w_3': 0.5451431499197091}. Best is trial 52 with value: -0.3453485632414492.\u001b[0m\n"
     ]
    },
    {
     "name": "stdout",
     "output_type": "stream",
     "text": [
      "CURRENT CONFIGURATION:\n",
      "SLIMElasticNetRecommender with weight alpha: 0.4881679331576588\n",
      "UserKNNCFRecommender with weight beta: 0.2630170186329329\n",
      "EASE_R_Recommender with weight gamma: 0.24881504820940833\n",
      "Norm type: 2\n",
      "EvaluatorHoldout: Processed 13649 (100.0%) in 4.91 min. Users per second: 46\n"
     ]
    },
    {
     "name": "stderr",
     "output_type": "stream",
     "text": [
      "\u001b[32m[I 2022-01-07 06:26:35,088]\u001b[0m Trial 59 finished with value: -0.3453408703701771 and parameters: {'w_1': 0.9628337065480523, 'w_2': 0.5187592910855494, 'w_3': 0.4907481602955395}. Best is trial 52 with value: -0.3453485632414492.\u001b[0m\n"
     ]
    },
    {
     "name": "stdout",
     "output_type": "stream",
     "text": [
      "CURRENT CONFIGURATION:\n",
      "SLIMElasticNetRecommender with weight alpha: 0.4269098830576018\n",
      "UserKNNCFRecommender with weight beta: 0.23442907484554532\n",
      "EASE_R_Recommender with weight gamma: 0.33866104209685294\n",
      "Norm type: 2\n",
      "EvaluatorHoldout: Processed 13649 (100.0%) in 4.91 min. Users per second: 46\n"
     ]
    },
    {
     "name": "stderr",
     "output_type": "stream",
     "text": [
      "\u001b[32m[I 2022-01-07 06:31:29,597]\u001b[0m Trial 60 finished with value: -0.34465861502732503 and parameters: {'w_1': 0.9527044373830547, 'w_2': 0.5231587009823813, 'w_3': 0.7557657725410583}. Best is trial 52 with value: -0.3453485632414492.\u001b[0m\n"
     ]
    },
    {
     "name": "stdout",
     "output_type": "stream",
     "text": [
      "CURRENT CONFIGURATION:\n",
      "SLIMElasticNetRecommender with weight alpha: 0.4463466560633761\n",
      "UserKNNCFRecommender with weight beta: 0.30212538872616385\n",
      "EASE_R_Recommender with weight gamma: 0.25152795521045995\n",
      "Norm type: 2\n",
      "EvaluatorHoldout: Processed 13649 (100.0%) in 4.90 min. Users per second: 46\n"
     ]
    },
    {
     "name": "stderr",
     "output_type": "stream",
     "text": [
      "\u001b[32m[I 2022-01-07 06:36:23,763]\u001b[0m Trial 61 finished with value: -0.34513844842403807 and parameters: {'w_1': 0.9058442567333057, 'w_2': 0.6131524555480343, 'w_3': 0.5104668099113437}. Best is trial 52 with value: -0.3453485632414492.\u001b[0m\n"
     ]
    },
    {
     "name": "stdout",
     "output_type": "stream",
     "text": [
      "CURRENT CONFIGURATION:\n",
      "SLIMElasticNetRecommender with weight alpha: 0.4459124441961195\n",
      "UserKNNCFRecommender with weight beta: 0.29594170521108554\n",
      "EASE_R_Recommender with weight gamma: 0.25814585059279493\n",
      "Norm type: 2\n",
      "EvaluatorHoldout: Processed 13649 (100.0%) in 4.91 min. Users per second: 46\n"
     ]
    },
    {
     "name": "stderr",
     "output_type": "stream",
     "text": [
      "\u001b[32m[I 2022-01-07 06:41:18,589]\u001b[0m Trial 62 finished with value: -0.34517924738948363 and parameters: {'w_1': 0.9972473170542618, 'w_2': 0.6618498213438885, 'w_3': 0.5773224323812118}. Best is trial 52 with value: -0.3453485632414492.\u001b[0m\n"
     ]
    },
    {
     "name": "stdout",
     "output_type": "stream",
     "text": [
      "CURRENT CONFIGURATION:\n",
      "SLIMElasticNetRecommender with weight alpha: 0.43596261414828164\n",
      "UserKNNCFRecommender with weight beta: 0.25542306738849463\n",
      "EASE_R_Recommender with weight gamma: 0.30861431846322374\n",
      "Norm type: 2\n",
      "EvaluatorHoldout: Processed 13649 (100.0%) in 4.91 min. Users per second: 46\n"
     ]
    },
    {
     "name": "stderr",
     "output_type": "stream",
     "text": [
      "\u001b[32m[I 2022-01-07 06:46:13,049]\u001b[0m Trial 63 finished with value: -0.34501203646525824 and parameters: {'w_1': 0.9547390216067891, 'w_2': 0.5593653252371606, 'w_3': 0.6758518343116638}. Best is trial 52 with value: -0.3453485632414492.\u001b[0m\n"
     ]
    },
    {
     "name": "stdout",
     "output_type": "stream",
     "text": [
      "CURRENT CONFIGURATION:\n",
      "SLIMElasticNetRecommender with weight alpha: 0.4758073958933668\n",
      "UserKNNCFRecommender with weight beta: 0.23739426459325869\n",
      "EASE_R_Recommender with weight gamma: 0.2867983395133745\n",
      "Norm type: 2\n",
      "EvaluatorHoldout: Processed 13649 (100.0%) in 4.91 min. Users per second: 46\n"
     ]
    },
    {
     "name": "stderr",
     "output_type": "stream",
     "text": [
      "\u001b[32m[I 2022-01-07 06:51:07,900]\u001b[0m Trial 64 finished with value: -0.34519157749797513 and parameters: {'w_1': 0.8348032673015511, 'w_2': 0.4165078336981438, 'w_3': 0.5031871991667844}. Best is trial 52 with value: -0.3453485632414492.\u001b[0m\n"
     ]
    },
    {
     "name": "stdout",
     "output_type": "stream",
     "text": [
      "CURRENT CONFIGURATION:\n",
      "SLIMElasticNetRecommender with weight alpha: 0.47707894643588933\n",
      "UserKNNCFRecommender with weight beta: 0.2687696198030412\n",
      "EASE_R_Recommender with weight gamma: 0.25415143376106947\n",
      "Norm type: 2\n",
      "EvaluatorHoldout: Processed 13649 (100.0%) in 4.91 min. Users per second: 46\n"
     ]
    },
    {
     "name": "stderr",
     "output_type": "stream",
     "text": [
      "\u001b[32m[I 2022-01-07 06:56:02,657]\u001b[0m Trial 65 finished with value: -0.34529961494940703 and parameters: {'w_1': 0.9080808077662229, 'w_2': 0.5115810187749797, 'w_3': 0.48375649562584416}. Best is trial 52 with value: -0.3453485632414492.\u001b[0m\n"
     ]
    },
    {
     "name": "stdout",
     "output_type": "stream",
     "text": [
      "CURRENT CONFIGURATION:\n",
      "SLIMElasticNetRecommender with weight alpha: 0.4449131763668605\n",
      "UserKNNCFRecommender with weight beta: 0.3183514125851194\n",
      "EASE_R_Recommender with weight gamma: 0.23673541104802\n",
      "Norm type: 2\n",
      "EvaluatorHoldout: Processed 13649 (100.0%) in 4.91 min. Users per second: 46\n"
     ]
    },
    {
     "name": "stderr",
     "output_type": "stream",
     "text": [
      "\u001b[32m[I 2022-01-07 07:00:57,264]\u001b[0m Trial 66 finished with value: -0.3452142723404355 and parameters: {'w_1': 0.9058650122321028, 'w_2': 0.6481790640826854, 'w_3': 0.48200488863013125}. Best is trial 52 with value: -0.3453485632414492.\u001b[0m\n"
     ]
    },
    {
     "name": "stdout",
     "output_type": "stream",
     "text": [
      "CURRENT CONFIGURATION:\n",
      "SLIMElasticNetRecommender with weight alpha: 0.47319252537678874\n",
      "UserKNNCFRecommender with weight beta: 0.28737529760075525\n",
      "EASE_R_Recommender with weight gamma: 0.239432177022456\n",
      "Norm type: 2\n",
      "EvaluatorHoldout: Processed 13649 (100.0%) in 4.91 min. Users per second: 46\n"
     ]
    },
    {
     "name": "stderr",
     "output_type": "stream",
     "text": [
      "\u001b[32m[I 2022-01-07 07:05:51,899]\u001b[0m Trial 67 finished with value: -0.3452555393906413 and parameters: {'w_1': 0.8479628713179066, 'w_2': 0.5149776664484219, 'w_3': 0.42906340532786913}. Best is trial 52 with value: -0.3453485632414492.\u001b[0m\n"
     ]
    },
    {
     "name": "stdout",
     "output_type": "stream",
     "text": [
      "CURRENT CONFIGURATION:\n",
      "SLIMElasticNetRecommender with weight alpha: 0.4835350552269409\n",
      "UserKNNCFRecommender with weight beta: 0.2270477645751109\n",
      "EASE_R_Recommender with weight gamma: 0.28941718019794815\n",
      "Norm type: 2\n",
      "EvaluatorHoldout: Processed 13649 (100.0%) in 4.91 min. Users per second: 46\n"
     ]
    },
    {
     "name": "stderr",
     "output_type": "stream",
     "text": [
      "\u001b[32m[I 2022-01-07 07:10:46,384]\u001b[0m Trial 68 finished with value: -0.3451454522512851 and parameters: {'w_1': 0.906491020532601, 'w_2': 0.42565013145270425, 'w_3': 0.5425750877858757}. Best is trial 52 with value: -0.3453485632414492.\u001b[0m\n"
     ]
    },
    {
     "name": "stdout",
     "output_type": "stream",
     "text": [
      "CURRENT CONFIGURATION:\n",
      "SLIMElasticNetRecommender with weight alpha: 0.5122822845741234\n",
      "UserKNNCFRecommender with weight beta: 0.31974947534564735\n",
      "EASE_R_Recommender with weight gamma: 0.16796824008022937\n",
      "Norm type: 2\n",
      "EvaluatorHoldout: Processed 13649 (100.0%) in 4.90 min. Users per second: 46\n"
     ]
    },
    {
     "name": "stderr",
     "output_type": "stream",
     "text": [
      "\u001b[32m[I 2022-01-07 07:15:40,752]\u001b[0m Trial 69 finished with value: -0.3448395922952669 and parameters: {'w_1': 0.9660192720056531, 'w_2': 0.6029569335085968, 'w_3': 0.3167405196087667}. Best is trial 52 with value: -0.3453485632414492.\u001b[0m\n"
     ]
    },
    {
     "name": "stdout",
     "output_type": "stream",
     "text": [
      "CURRENT CONFIGURATION:\n",
      "SLIMElasticNetRecommender with weight alpha: 0.4310594098202915\n",
      "UserKNNCFRecommender with weight beta: 0.2715653099201023\n",
      "EASE_R_Recommender with weight gamma: 0.2973752802596062\n",
      "Norm type: 2\n",
      "EvaluatorHoldout: Processed 13649 (100.0%) in 4.92 min. Users per second: 46\n"
     ]
    },
    {
     "name": "stderr",
     "output_type": "stream",
     "text": [
      "\u001b[32m[I 2022-01-07 07:20:35,932]\u001b[0m Trial 70 finished with value: -0.3451789508388912 and parameters: {'w_1': 0.8783906070142729, 'w_2': 0.5533817659245281, 'w_3': 0.6059759907507274}. Best is trial 52 with value: -0.3453485632414492.\u001b[0m\n"
     ]
    },
    {
     "name": "stdout",
     "output_type": "stream",
     "text": [
      "CURRENT CONFIGURATION:\n",
      "SLIMElasticNetRecommender with weight alpha: 0.5587925215338809\n",
      "UserKNNCFRecommender with weight beta: 0.21357547074406186\n",
      "EASE_R_Recommender with weight gamma: 0.22763200772205716\n",
      "Norm type: 2\n",
      "EvaluatorHoldout: Processed 13649 (100.0%) in 4.91 min. Users per second: 46\n"
     ]
    },
    {
     "name": "stderr",
     "output_type": "stream",
     "text": [
      "\u001b[32m[I 2022-01-07 07:25:30,767]\u001b[0m Trial 71 finished with value: -0.3450616854307599 and parameters: {'w_1': 0.9996727277423099, 'w_2': 0.38208380604574516, 'w_3': 0.4072307722664647}. Best is trial 52 with value: -0.3453485632414492.\u001b[0m\n"
     ]
    },
    {
     "name": "stdout",
     "output_type": "stream",
     "text": [
      "CURRENT CONFIGURATION:\n",
      "SLIMElasticNetRecommender with weight alpha: 0.4835914344652383\n",
      "UserKNNCFRecommender with weight beta: 0.26113268310402543\n",
      "EASE_R_Recommender with weight gamma: 0.25527588243073623\n",
      "Norm type: 2\n",
      "EvaluatorHoldout: Processed 13649 (100.0%) in 4.91 min. Users per second: 46\n"
     ]
    },
    {
     "name": "stderr",
     "output_type": "stream",
     "text": [
      "\u001b[32m[I 2022-01-07 07:30:25,693]\u001b[0m Trial 72 finished with value: -0.3453478771047829 and parameters: {'w_1': 0.9389173058380172, 'w_2': 0.5070023532517893, 'w_3': 0.4956310775899781}. Best is trial 52 with value: -0.3453485632414492.\u001b[0m\n"
     ]
    },
    {
     "name": "stdout",
     "output_type": "stream",
     "text": [
      "CURRENT CONFIGURATION:\n",
      "SLIMElasticNetRecommender with weight alpha: 0.4846837367111379\n",
      "UserKNNCFRecommender with weight beta: 0.2602886208918203\n",
      "EASE_R_Recommender with weight gamma: 0.25502764239704173\n",
      "Norm type: 2\n",
      "EvaluatorHoldout: Processed 13649 (100.0%) in 4.90 min. Users per second: 46\n"
     ]
    },
    {
     "name": "stderr",
     "output_type": "stream",
     "text": [
      "\u001b[32m[I 2022-01-07 07:35:20,059]\u001b[0m Trial 73 finished with value: -0.34536115210487034 and parameters: {'w_1': 0.9306884917978222, 'w_2': 0.4998055549660793, 'w_3': 0.4897034372967085}. Best is trial 73 with value: -0.34536115210487034.\u001b[0m\n"
     ]
    },
    {
     "name": "stdout",
     "output_type": "stream",
     "text": [
      "CURRENT CONFIGURATION:\n",
      "SLIMElasticNetRecommender with weight alpha: 0.48435949076246565\n",
      "UserKNNCFRecommender with weight beta: 0.26162122011553385\n",
      "EASE_R_Recommender with weight gamma: 0.25401928912200045\n",
      "Norm type: 2\n",
      "EvaluatorHoldout: Processed 13649 (100.0%) in 4.90 min. Users per second: 46\n"
     ]
    },
    {
     "name": "stderr",
     "output_type": "stream",
     "text": [
      "\u001b[32m[I 2022-01-07 07:40:14,404]\u001b[0m Trial 74 finished with value: -0.3453601897691213 and parameters: {'w_1': 0.9364977798674472, 'w_2': 0.5058385279469299, 'w_3': 0.4911403716520202}. Best is trial 73 with value: -0.34536115210487034.\u001b[0m\n"
     ]
    },
    {
     "name": "stdout",
     "output_type": "stream",
     "text": [
      "CURRENT CONFIGURATION:\n",
      "SLIMElasticNetRecommender with weight alpha: 0.4852883122970265\n",
      "UserKNNCFRecommender with weight beta: 0.22650961088562369\n",
      "EASE_R_Recommender with weight gamma: 0.2882020768173498\n",
      "Norm type: 2\n",
      "EvaluatorHoldout: Processed 13649 (100.0%) in 4.91 min. Users per second: 46\n"
     ]
    },
    {
     "name": "stderr",
     "output_type": "stream",
     "text": [
      "\u001b[32m[I 2022-01-07 07:45:08,980]\u001b[0m Trial 75 finished with value: -0.34513215399232794 and parameters: {'w_1': 0.9427855043962856, 'w_2': 0.4400476424800095, 'w_3': 0.5598996173515861}. Best is trial 73 with value: -0.34536115210487034.\u001b[0m\n"
     ]
    },
    {
     "name": "stdout",
     "output_type": "stream",
     "text": [
      "CURRENT CONFIGURATION:\n",
      "SLIMElasticNetRecommender with weight alpha: 0.4550687666020199\n",
      "UserKNNCFRecommender with weight beta: 0.2560665835996979\n",
      "EASE_R_Recommender with weight gamma: 0.28886464979828225\n",
      "Norm type: 2\n",
      "EvaluatorHoldout: Processed 13649 (100.0%) in 4.91 min. Users per second: 46\n"
     ]
    },
    {
     "name": "stderr",
     "output_type": "stream",
     "text": [
      "\u001b[32m[I 2022-01-07 07:50:03,477]\u001b[0m Trial 76 finished with value: -0.3450791179538727 and parameters: {'w_1': 0.9784920514799851, 'w_2': 0.5505961628016229, 'w_3': 0.621118794620246}. Best is trial 73 with value: -0.34536115210487034.\u001b[0m\n"
     ]
    },
    {
     "name": "stdout",
     "output_type": "stream",
     "text": [
      "CURRENT CONFIGURATION:\n",
      "SLIMElasticNetRecommender with weight alpha: 0.4332534722281486\n",
      "UserKNNCFRecommender with weight beta: 0.3256896385186494\n",
      "EASE_R_Recommender with weight gamma: 0.24105688925320198\n",
      "Norm type: 2\n",
      "EvaluatorHoldout: Processed 13649 (100.0%) in 4.91 min. Users per second: 46\n"
     ]
    },
    {
     "name": "stderr",
     "output_type": "stream",
     "text": [
      "\u001b[32m[I 2022-01-07 07:54:58,019]\u001b[0m Trial 77 finished with value: -0.34515255202137085 and parameters: {'w_1': 0.935590773888395, 'w_2': 0.7033116650675918, 'w_3': 0.520551169290501}. Best is trial 73 with value: -0.34536115210487034.\u001b[0m\n"
     ]
    },
    {
     "name": "stdout",
     "output_type": "stream",
     "text": [
      "CURRENT CONFIGURATION:\n",
      "SLIMElasticNetRecommender with weight alpha: 0.4559207634609729\n",
      "UserKNNCFRecommender with weight beta: 0.30706636194931547\n",
      "EASE_R_Recommender with weight gamma: 0.23701287458971168\n",
      "Norm type: 2\n",
      "EvaluatorHoldout: Processed 13649 (100.0%) in 4.91 min. Users per second: 46\n"
     ]
    },
    {
     "name": "stderr",
     "output_type": "stream",
     "text": [
      "\u001b[32m[I 2022-01-07 07:59:52,430]\u001b[0m Trial 78 finished with value: -0.34510210353220844 and parameters: {'w_1': 0.8657270160515285, 'w_2': 0.5830742237799731, 'w_3': 0.4500528713075611}. Best is trial 73 with value: -0.34536115210487034.\u001b[0m\n"
     ]
    },
    {
     "name": "stdout",
     "output_type": "stream",
     "text": [
      "CURRENT CONFIGURATION:\n",
      "SLIMElasticNetRecommender with weight alpha: 0.463685456486421\n",
      "UserKNNCFRecommender with weight beta: 0.3049957954864436\n",
      "EASE_R_Recommender with weight gamma: 0.23131874802713537\n",
      "Norm type: 2\n",
      "EvaluatorHoldout: Processed 13649 (100.0%) in 4.91 min. Users per second: 46\n"
     ]
    },
    {
     "name": "stderr",
     "output_type": "stream",
     "text": [
      "\u001b[32m[I 2022-01-07 08:04:47,317]\u001b[0m Trial 79 finished with value: -0.34519935177529204 and parameters: {'w_1': 0.9664335975011248, 'w_2': 0.6356856350169202, 'w_3': 0.48212469616645703}. Best is trial 73 with value: -0.34536115210487034.\u001b[0m\n"
     ]
    },
    {
     "name": "stdout",
     "output_type": "stream",
     "text": [
      "CURRENT CONFIGURATION:\n",
      "SLIMElasticNetRecommender with weight alpha: 0.42902377232404615\n",
      "UserKNNCFRecommender with weight beta: 0.26381606165151583\n",
      "EASE_R_Recommender with weight gamma: 0.3071601660244382\n",
      "Norm type: 2\n",
      "EvaluatorHoldout: Processed 13649 (100.0%) in 4.94 min. Users per second: 46\n"
     ]
    },
    {
     "name": "stderr",
     "output_type": "stream",
     "text": [
      "\u001b[32m[I 2022-01-07 08:09:43,882]\u001b[0m Trial 80 finished with value: -0.34510414449805826 and parameters: {'w_1': 0.8019763493450698, 'w_2': 0.49315272409211, 'w_3': 0.5741760818476159}. Best is trial 73 with value: -0.34536115210487034.\u001b[0m\n"
     ]
    },
    {
     "name": "stdout",
     "output_type": "stream",
     "text": [
      "CURRENT CONFIGURATION:\n",
      "SLIMElasticNetRecommender with weight alpha: 0.4780715959626251\n",
      "UserKNNCFRecommender with weight beta: 0.2650983049440224\n",
      "EASE_R_Recommender with weight gamma: 0.25683009909335236\n",
      "Norm type: 2\n",
      "EvaluatorHoldout: Processed 13649 (100.0%) in 4.91 min. Users per second: 46\n"
     ]
    },
    {
     "name": "stderr",
     "output_type": "stream",
     "text": [
      "\u001b[32m[I 2022-01-07 08:14:38,395]\u001b[0m Trial 81 finished with value: -0.345277530652284 and parameters: {'w_1': 0.9012619201622203, 'w_2': 0.49976407166486025, 'w_3': 0.4841768266910886}. Best is trial 73 with value: -0.34536115210487034.\u001b[0m\n"
     ]
    },
    {
     "name": "stdout",
     "output_type": "stream",
     "text": [
      "CURRENT CONFIGURATION:\n",
      "SLIMElasticNetRecommender with weight alpha: 0.0062701364851754865\n",
      "UserKNNCFRecommender with weight beta: 0.49484054348988343\n",
      "EASE_R_Recommender with weight gamma: 0.4988893200249409\n",
      "Norm type: 2\n",
      "EvaluatorHoldout: Processed 13649 (100.0%) in 4.91 min. Users per second: 46\n"
     ]
    },
    {
     "name": "stderr",
     "output_type": "stream",
     "text": [
      "\u001b[32m[I 2022-01-07 08:19:33,119]\u001b[0m Trial 82 finished with value: -0.34016295745836556 and parameters: {'w_1': 0.006685035130072181, 'w_2': 0.5275844353364658, 'w_3': 0.531901121812855}. Best is trial 73 with value: -0.34536115210487034.\u001b[0m\n"
     ]
    },
    {
     "name": "stdout",
     "output_type": "stream",
     "text": [
      "CURRENT CONFIGURATION:\n",
      "SLIMElasticNetRecommender with weight alpha: 0.5252704984402595\n",
      "UserKNNCFRecommender with weight beta: 0.2269143553381572\n",
      "EASE_R_Recommender with weight gamma: 0.24781514622158313\n",
      "Norm type: 2\n",
      "EvaluatorHoldout: Processed 13649 (100.0%) in 4.91 min. Users per second: 46\n"
     ]
    },
    {
     "name": "stderr",
     "output_type": "stream",
     "text": [
      "\u001b[32m[I 2022-01-07 08:24:27,571]\u001b[0m Trial 83 finished with value: -0.3450845896030525 and parameters: {'w_1': 0.9228504483060505, 'w_2': 0.3986670014263391, 'w_3': 0.435387708745702}. Best is trial 73 with value: -0.34536115210487034.\u001b[0m\n"
     ]
    },
    {
     "name": "stdout",
     "output_type": "stream",
     "text": [
      "CURRENT CONFIGURATION:\n",
      "SLIMElasticNetRecommender with weight alpha: 0.5098777644266679\n",
      "UserKNNCFRecommender with weight beta: 0.2569954772027222\n",
      "EASE_R_Recommender with weight gamma: 0.23312675837060998\n",
      "Norm type: 2\n",
      "EvaluatorHoldout: Processed 13649 (100.0%) in 4.94 min. Users per second: 46\n"
     ]
    },
    {
     "name": "stderr",
     "output_type": "stream",
     "text": [
      "\u001b[32m[I 2022-01-07 08:29:24,222]\u001b[0m Trial 84 finished with value: -0.3453093865821912 and parameters: {'w_1': 0.8853073704663428, 'w_2': 0.4462245777670259, 'w_3': 0.4047810119166525}. Best is trial 73 with value: -0.34536115210487034.\u001b[0m\n"
     ]
    },
    {
     "name": "stdout",
     "output_type": "stream",
     "text": [
      "CURRENT CONFIGURATION:\n",
      "SLIMElasticNetRecommender with weight alpha: 0.49277851930224786\n",
      "UserKNNCFRecommender with weight beta: 0.26872349909683324\n",
      "EASE_R_Recommender with weight gamma: 0.238497981600919\n",
      "Norm type: 2\n",
      "EvaluatorHoldout: Processed 13649 (100.0%) in 4.91 min. Users per second: 46\n"
     ]
    },
    {
     "name": "stderr",
     "output_type": "stream",
     "text": [
      "\u001b[32m[I 2022-01-07 08:34:18,664]\u001b[0m Trial 85 finished with value: -0.345299146864646 and parameters: {'w_1': 0.832947477682049, 'w_2': 0.4542254826438831, 'w_3': 0.4031350483540426}. Best is trial 73 with value: -0.34536115210487034.\u001b[0m\n"
     ]
    },
    {
     "name": "stdout",
     "output_type": "stream",
     "text": [
      "CURRENT CONFIGURATION:\n",
      "SLIMElasticNetRecommender with weight alpha: 0.5281659951147567\n",
      "UserKNNCFRecommender with weight beta: 0.2664693439413078\n",
      "EASE_R_Recommender with weight gamma: 0.20536466094393538\n",
      "Norm type: 2\n",
      "EvaluatorHoldout: Processed 13649 (100.0%) in 4.91 min. Users per second: 46\n"
     ]
    },
    {
     "name": "stderr",
     "output_type": "stream",
     "text": [
      "\u001b[32m[I 2022-01-07 08:39:13,271]\u001b[0m Trial 86 finished with value: -0.34514463819083285 and parameters: {'w_1': 0.878124369322005, 'w_2': 0.4430297042149953, 'w_3': 0.3414375689469338}. Best is trial 73 with value: -0.34536115210487034.\u001b[0m\n"
     ]
    },
    {
     "name": "stdout",
     "output_type": "stream",
     "text": [
      "CURRENT CONFIGURATION:\n",
      "SLIMElasticNetRecommender with weight alpha: 0.39894920626886066\n",
      "UserKNNCFRecommender with weight beta: 0.2341907883728872\n",
      "EASE_R_Recommender with weight gamma: 0.3668600053582522\n",
      "Norm type: 2\n",
      "EvaluatorHoldout: Processed 13649 (100.0%) in 4.91 min. Users per second: 46\n"
     ]
    },
    {
     "name": "stderr",
     "output_type": "stream",
     "text": [
      "\u001b[32m[I 2022-01-07 08:44:07,741]\u001b[0m Trial 87 finished with value: -0.34467961487963156 and parameters: {'w_1': 0.9673218677987795, 'w_2': 0.5678363743314758, 'w_3': 0.8895160086235612}. Best is trial 73 with value: -0.34536115210487034.\u001b[0m\n"
     ]
    },
    {
     "name": "stdout",
     "output_type": "stream",
     "text": [
      "CURRENT CONFIGURATION:\n",
      "SLIMElasticNetRecommender with weight alpha: 0.5237935043709386\n",
      "UserKNNCFRecommender with weight beta: 0.1738098072156396\n",
      "EASE_R_Recommender with weight gamma: 0.3023966884134219\n",
      "Norm type: 2\n",
      "EvaluatorHoldout: Processed 13649 (100.0%) in 4.91 min. Users per second: 46\n"
     ]
    },
    {
     "name": "stderr",
     "output_type": "stream",
     "text": [
      "\u001b[32m[I 2022-01-07 08:49:02,557]\u001b[0m Trial 88 finished with value: -0.34476047143403643 and parameters: {'w_1': 0.8531129421747384, 'w_2': 0.283087504474951, 'w_3': 0.4925195261176386}. Best is trial 73 with value: -0.34536115210487034.\u001b[0m\n"
     ]
    },
    {
     "name": "stdout",
     "output_type": "stream",
     "text": [
      "CURRENT CONFIGURATION:\n",
      "SLIMElasticNetRecommender with weight alpha: 0.5135970808365471\n",
      "UserKNNCFRecommender with weight beta: 0.27070296276453093\n",
      "EASE_R_Recommender with weight gamma: 0.215699956398922\n",
      "Norm type: 2\n",
      "EvaluatorHoldout: Processed 13649 (100.0%) in 4.91 min. Users per second: 46\n"
     ]
    },
    {
     "name": "stderr",
     "output_type": "stream",
     "text": [
      "\u001b[32m[I 2022-01-07 08:53:57,282]\u001b[0m Trial 89 finished with value: -0.34515763989919623 and parameters: {'w_1': 0.9442616411369008, 'w_2': 0.4976944640423432, 'w_3': 0.39657000092495576}. Best is trial 73 with value: -0.34536115210487034.\u001b[0m\n"
     ]
    },
    {
     "name": "stdout",
     "output_type": "stream",
     "text": [
      "CURRENT CONFIGURATION:\n",
      "SLIMElasticNetRecommender with weight alpha: 0.5082676778106624\n",
      "UserKNNCFRecommender with weight beta: 0.23368677398934196\n",
      "EASE_R_Recommender with weight gamma: 0.25804554819999564\n",
      "Norm type: 2\n",
      "EvaluatorHoldout: Processed 13649 (100.0%) in 4.91 min. Users per second: 46\n"
     ]
    },
    {
     "name": "stderr",
     "output_type": "stream",
     "text": [
      "\u001b[32m[I 2022-01-07 08:58:52,206]\u001b[0m Trial 90 finished with value: -0.3452027969954194 and parameters: {'w_1': 0.8884579878330061, 'w_2': 0.4084872795690527, 'w_3': 0.4510667086102552}. Best is trial 73 with value: -0.34536115210487034.\u001b[0m\n"
     ]
    },
    {
     "name": "stdout",
     "output_type": "stream",
     "text": [
      "CURRENT CONFIGURATION:\n",
      "SLIMElasticNetRecommender with weight alpha: 0.46880379019897267\n",
      "UserKNNCFRecommender with weight beta: 0.26211563207964783\n",
      "EASE_R_Recommender with weight gamma: 0.26908057772137955\n",
      "Norm type: 2\n",
      "EvaluatorHoldout: Processed 13649 (100.0%) in 4.91 min. Users per second: 46\n"
     ]
    },
    {
     "name": "stderr",
     "output_type": "stream",
     "text": [
      "\u001b[32m[I 2022-01-07 09:03:46,902]\u001b[0m Trial 91 finished with value: -0.3451836636674369 and parameters: {'w_1': 0.9227962442051476, 'w_2': 0.5159500112571559, 'w_3': 0.52965985280207}. Best is trial 73 with value: -0.34536115210487034.\u001b[0m\n"
     ]
    },
    {
     "name": "stdout",
     "output_type": "stream",
     "text": [
      "CURRENT CONFIGURATION:\n",
      "SLIMElasticNetRecommender with weight alpha: 0.48449461304487346\n",
      "UserKNNCFRecommender with weight beta: 0.2662746142323613\n",
      "EASE_R_Recommender with weight gamma: 0.24923077272276517\n",
      "Norm type: 2\n",
      "EvaluatorHoldout: Processed 13649 (100.0%) in 4.91 min. Users per second: 46\n"
     ]
    },
    {
     "name": "stderr",
     "output_type": "stream",
     "text": [
      "\u001b[32m[I 2022-01-07 09:08:41,637]\u001b[0m Trial 92 finished with value: -0.3453569480641064 and parameters: {'w_1': 0.9772586068452955, 'w_2': 0.537094018254615, 'w_3': 0.5027154300092649}. Best is trial 73 with value: -0.34536115210487034.\u001b[0m\n"
     ]
    },
    {
     "name": "stdout",
     "output_type": "stream",
     "text": [
      "CURRENT CONFIGURATION:\n",
      "SLIMElasticNetRecommender with weight alpha: 0.46738389609933584\n",
      "UserKNNCFRecommender with weight beta: 0.25206378949092545\n",
      "EASE_R_Recommender with weight gamma: 0.28055231440973877\n",
      "Norm type: 2\n",
      "EvaluatorHoldout: Processed 13649 (100.0%) in 4.91 min. Users per second: 46\n"
     ]
    },
    {
     "name": "stderr",
     "output_type": "stream",
     "text": [
      "\u001b[32m[I 2022-01-07 09:13:36,119]\u001b[0m Trial 93 finished with value: -0.3451707201062481 and parameters: {'w_1': 0.9995867970544623, 'w_2': 0.539084975099557, 'w_3': 0.6000129480444154}. Best is trial 73 with value: -0.34536115210487034.\u001b[0m\n"
     ]
    },
    {
     "name": "stdout",
     "output_type": "stream",
     "text": [
      "CURRENT CONFIGURATION:\n",
      "SLIMElasticNetRecommender with weight alpha: 0.48882098289737136\n",
      "UserKNNCFRecommender with weight beta: 0.23277709342818384\n",
      "EASE_R_Recommender with weight gamma: 0.2784019236744448\n",
      "Norm type: 2\n",
      "EvaluatorHoldout: Processed 13649 (100.0%) in 4.92 min. Users per second: 46\n"
     ]
    },
    {
     "name": "stderr",
     "output_type": "stream",
     "text": [
      "\u001b[32m[I 2022-01-07 09:18:31,213]\u001b[0m Trial 94 finished with value: -0.3452433633721648 and parameters: {'w_1': 0.9794094861068401, 'w_2': 0.4663958819865288, 'w_3': 0.5578105166045849}. Best is trial 73 with value: -0.34536115210487034.\u001b[0m\n"
     ]
    },
    {
     "name": "stdout",
     "output_type": "stream",
     "text": [
      "CURRENT CONFIGURATION:\n",
      "SLIMElasticNetRecommender with weight alpha: 0.46172974224748703\n",
      "UserKNNCFRecommender with weight beta: 0.29201857265796577\n",
      "EASE_R_Recommender with weight gamma: 0.2462516850945472\n",
      "Norm type: 2\n",
      "EvaluatorHoldout: Processed 13649 (100.0%) in 4.91 min. Users per second: 46\n"
     ]
    },
    {
     "name": "stderr",
     "output_type": "stream",
     "text": [
      "\u001b[32m[I 2022-01-07 09:23:25,913]\u001b[0m Trial 95 finished with value: -0.34532964505801395 and parameters: {'w_1': 0.9540849376457176, 'w_2': 0.603406053787264, 'w_3': 0.5088366681231755}. Best is trial 73 with value: -0.34536115210487034.\u001b[0m\n"
     ]
    },
    {
     "name": "stdout",
     "output_type": "stream",
     "text": [
      "CURRENT CONFIGURATION:\n",
      "SLIMElasticNetRecommender with weight alpha: 0.44757822627822674\n",
      "UserKNNCFRecommender with weight beta: 0.319854700829894\n",
      "EASE_R_Recommender with weight gamma: 0.23256707289187936\n",
      "Norm type: 2\n",
      "EvaluatorHoldout: Processed 13649 (100.0%) in 4.91 min. Users per second: 46\n"
     ]
    },
    {
     "name": "stderr",
     "output_type": "stream",
     "text": [
      "\u001b[32m[I 2022-01-07 09:28:20,748]\u001b[0m Trial 96 finished with value: -0.34514392588793635 and parameters: {'w_1': 0.9597210596837654, 'w_2': 0.6858494770352791, 'w_3': 0.49868269843984575}. Best is trial 73 with value: -0.34536115210487034.\u001b[0m\n"
     ]
    },
    {
     "name": "stdout",
     "output_type": "stream",
     "text": [
      "CURRENT CONFIGURATION:\n",
      "SLIMElasticNetRecommender with weight alpha: 0.4655059014666238\n",
      "UserKNNCFRecommender with weight beta: 0.299280871471017\n",
      "EASE_R_Recommender with weight gamma: 0.2352132270623592\n",
      "Norm type: 2\n",
      "EvaluatorHoldout: Processed 13649 (100.0%) in 4.91 min. Users per second: 46\n"
     ]
    },
    {
     "name": "stderr",
     "output_type": "stream",
     "text": [
      "\u001b[32m[I 2022-01-07 09:33:15,335]\u001b[0m Trial 97 finished with value: -0.3452475906717978 and parameters: {'w_1': 0.9244143240132294, 'w_2': 0.5943201227295429, 'w_3': 0.4670928458882509}. Best is trial 73 with value: -0.34536115210487034.\u001b[0m\n"
     ]
    },
    {
     "name": "stdout",
     "output_type": "stream",
     "text": [
      "CURRENT CONFIGURATION:\n",
      "SLIMElasticNetRecommender with weight alpha: 0.42761487213807403\n",
      "UserKNNCFRecommender with weight beta: 0.28567889400844254\n",
      "EASE_R_Recommender with weight gamma: 0.2867062338534834\n",
      "Norm type: 2\n",
      "EvaluatorHoldout: Processed 13649 (100.0%) in 4.93 min. Users per second: 46\n"
     ]
    },
    {
     "name": "stderr",
     "output_type": "stream",
     "text": [
      "\u001b[32m[I 2022-01-07 09:38:11,218]\u001b[0m Trial 98 finished with value: -0.34502514574589666 and parameters: {'w_1': 0.947780085014416, 'w_2': 0.6331883760177526, 'w_3': 0.63546540684412}. Best is trial 73 with value: -0.34536115210487034.\u001b[0m\n"
     ]
    },
    {
     "name": "stdout",
     "output_type": "stream",
     "text": [
      "CURRENT CONFIGURATION:\n",
      "SLIMElasticNetRecommender with weight alpha: 0.4981447074861052\n",
      "UserKNNCFRecommender with weight beta: 0.28835570221352774\n",
      "EASE_R_Recommender with weight gamma: 0.21349959030036708\n",
      "Norm type: 2\n",
      "EvaluatorHoldout: Processed 13649 (100.0%) in 4.91 min. Users per second: 46\n"
     ]
    },
    {
     "name": "stderr",
     "output_type": "stream",
     "text": [
      "\u001b[32m[I 2022-01-07 09:43:06,155]\u001b[0m Trial 99 finished with value: -0.34507312588747147 and parameters: {'w_1': 0.9772401387413131, 'w_2': 0.5656845535107019, 'w_3': 0.41883486085649896}. Best is trial 73 with value: -0.34536115210487034.\u001b[0m\n"
     ]
    },
    {
     "name": "stdout",
     "output_type": "stream",
     "text": [
      "CURRENT CONFIGURATION:\n",
      "SLIMElasticNetRecommender with weight alpha: 0.4586376978845255\n",
      "UserKNNCFRecommender with weight beta: 0.27646431860035764\n",
      "EASE_R_Recommender with weight gamma: 0.26489798351511695\n",
      "Norm type: 2\n",
      "EvaluatorHoldout: Processed 13649 (100.0%) in 4.91 min. Users per second: 46\n"
     ]
    },
    {
     "name": "stderr",
     "output_type": "stream",
     "text": [
      "\u001b[32m[I 2022-01-07 09:48:00,793]\u001b[0m Trial 100 finished with value: -0.3451955693015493 and parameters: {'w_1': 0.8892963964202613, 'w_2': 0.5360630480313955, 'w_3': 0.5136359772551865}. Best is trial 73 with value: -0.34536115210487034.\u001b[0m\n"
     ]
    },
    {
     "name": "stdout",
     "output_type": "stream",
     "text": [
      "CURRENT CONFIGURATION:\n",
      "SLIMElasticNetRecommender with weight alpha: 0.493702375986118\n",
      "UserKNNCFRecommender with weight beta: 0.25011438754374216\n",
      "EASE_R_Recommender with weight gamma: 0.25618323647013985\n",
      "Norm type: 2\n",
      "EvaluatorHoldout: Processed 13649 (100.0%) in 4.91 min. Users per second: 46\n"
     ]
    },
    {
     "name": "stderr",
     "output_type": "stream",
     "text": [
      "\u001b[32m[I 2022-01-07 09:52:55,325]\u001b[0m Trial 101 finished with value: -0.3453712871574991 and parameters: {'w_1': 0.8433175246925861, 'w_2': 0.4272327954105728, 'w_3': 0.4375992973827789}. Best is trial 101 with value: -0.3453712871574991.\u001b[0m\n"
     ]
    },
    {
     "name": "stdout",
     "output_type": "stream",
     "text": [
      "CURRENT CONFIGURATION:\n",
      "SLIMElasticNetRecommender with weight alpha: 0.4773391052393999\n",
      "UserKNNCFRecommender with weight beta: 0.2644423874677183\n",
      "EASE_R_Recommender with weight gamma: 0.25821850729288176\n",
      "Norm type: 2\n",
      "EvaluatorHoldout: Processed 13649 (100.0%) in 4.92 min. Users per second: 46\n"
     ]
    },
    {
     "name": "stderr",
     "output_type": "stream",
     "text": [
      "\u001b[32m[I 2022-01-07 09:57:50,342]\u001b[0m Trial 102 finished with value: -0.3452442326724335 and parameters: {'w_1': 0.8627336386221112, 'w_2': 0.47794815183122713, 'w_3': 0.4666992289362723}. Best is trial 101 with value: -0.3453712871574991.\u001b[0m\n"
     ]
    },
    {
     "name": "stdout",
     "output_type": "stream",
     "text": [
      "CURRENT CONFIGURATION:\n",
      "SLIMElasticNetRecommender with weight alpha: 0.4466422732099029\n",
      "UserKNNCFRecommender with weight beta: 0.2940321652478269\n",
      "EASE_R_Recommender with weight gamma: 0.25932556154227016\n",
      "Norm type: 2\n",
      "EvaluatorHoldout: Processed 13649 (100.0%) in 4.91 min. Users per second: 46\n"
     ]
    },
    {
     "name": "stderr",
     "output_type": "stream",
     "text": [
      "\u001b[32m[I 2022-01-07 10:02:45,051]\u001b[0m Trial 103 finished with value: -0.34519311258339874 and parameters: {'w_1': 0.9216272090173308, 'w_2': 0.6067227848164842, 'w_3': 0.5351071939371354}. Best is trial 101 with value: -0.3453712871574991.\u001b[0m\n"
     ]
    },
    {
     "name": "stdout",
     "output_type": "stream",
     "text": [
      "CURRENT CONFIGURATION:\n",
      "SLIMElasticNetRecommender with weight alpha: 0.4824673230295258\n",
      "UserKNNCFRecommender with weight beta: 0.2294839501789725\n",
      "EASE_R_Recommender with weight gamma: 0.28804872679150173\n",
      "Norm type: 2\n"
     ]
    }
   ],
   "source": [
    "study = optuna.create_study(direction='minimize')\n",
    "study.optimize(Objective(URM_train, recommender1, recommender7, recommender10, evaluator_validation), n_trials=500)\n",
    "\n",
    "print(study.best_params)"
   ]
  },
  {
   "cell_type": "code",
   "execution_count": null,
   "id": "b055f71c",
   "metadata": {},
   "outputs": [],
   "source": [
    "import numpy as np\n",
    "\n",
    "# TWO RECOMMENDERS\n",
    "\n",
    "def test_percentage(recommender_1, recommender_2, evaluator, step):\n",
    "    recommender = ItemKNNScoresHybridTwoRecommender_PRUNE(URM_train, recommender_1, recommender_2)\n",
    "    results = []\n",
    "    alp_space = np.linspace(0.5, 0.55, step, True)\n",
    "    for alp in alp_space:\n",
    "        recommender.fit(alpha = alp)\n",
    "        r_d, _ = evaluator.evaluateRecommender(recommender)\n",
    "        print(alp, \":\", r_d.loc[10]['MAP'])\n",
    "        results.append(r_d.loc[10]['MAP'])\n",
    "    \n",
    "    return alp_space, results"
   ]
  },
  {
   "cell_type": "code",
   "execution_count": null,
   "id": "301a9343",
   "metadata": {},
   "outputs": [],
   "source": [
    "alp_space, results = test_percentage(recommender1, recommender2, evaluator_validation, 2)"
   ]
  },
  {
   "cell_type": "code",
   "execution_count": null,
   "id": "2221ec4b",
   "metadata": {},
   "outputs": [],
   "source": [
    "import matplotlib.pyplot as plt\n",
    "\n",
    "_ = plt.figure(figsize=(16, 9))\n",
    "plt.plot(alp_space,results, label='MAP variability')\n",
    "plt.ylabel('MAP')\n",
    "plt.xlabel('User Group')\n",
    "plt.legend()\n",
    "plt.show()\n",
    "\n",
    "plt.savefig('userwise.png')"
   ]
  },
  {
   "cell_type": "code",
   "execution_count": null,
   "id": "3d773c81",
   "metadata": {},
   "outputs": [],
   "source": [
    "\n",
    "recommender1 = MultiThreadSLIM_SLIMElasticNetRecommender(URM_all)\n",
    "# recommender1.fit(**models_to_combine_best['SLIMER'])\n",
    "# recommender1.save_model(ofp + 'SLIMER_ALL/', 'SLIMER_ALL')\n",
    "recommender1.load_model(ofp + 'SLIMER_ALL/', 'SLIMER_ALL')\n",
    "\n",
    "recommender2 = SLIM_BPR_Cython(URM_all)\n",
    "# recommender2.fit(**models_to_combine_best['SLIMBPR'])\n",
    "# recommender2.save_model(ofp + 'SLIMBPR_ALL/', 'SLIMBPR_ALL')\n",
    "recommender2.load_model(ofp + 'SLIMBPR_ALL/', 'SLIMBPR_ALL')\n",
    "\n",
    "recommenderHybrid = ItemKNNScoresHybridTwoRecommender(URM_all, recommender1, recommender2)\n",
    "recommenderHybrid.fit(alpha = 0.58)\n",
    "\n",
    "recommender = recommenderHybrid\n",
    "\n",
    "import pandas as pd\n",
    "at = 10\n",
    "\n",
    "user_test_path = '../data/data_target_users_test.csv'\n",
    "user_test_dataframe = pd.read_csv(filepath_or_buffer=user_test_path,\n",
    "sep=\",\",\n",
    "dtype={0:int})\n",
    "\n",
    "subm_set = user_test_dataframe.to_numpy().T[0]\n",
    "\n",
    "\n",
    "subm_res = {\"user_id\":[], \"item_list\":[]}\n",
    "\n",
    "for user_id in subm_set:\n",
    "\tsubm_res[\"user_id\"].append(user_id)\n",
    "\tres = recommender.recommend(user_id, cutoff=at)\n",
    "\tres = ' '.join(map(str, res))\n",
    "\tif user_id < 3:\n",
    "\t\tprint(user_id)\n",
    "\t\tprint(res)\n",
    "\tsubm_res[\"item_list\"].append(res)\n",
    "\n",
    "\n",
    "\t# print(subm_res)\n",
    "\n",
    "submission = pd.DataFrame.from_dict(subm_res)\n",
    "\t# submission\n",
    "\n",
    "from datetime import datetime\n",
    "\n",
    "now = datetime.now() # current date and time\n",
    "\n",
    "\n",
    "submission.to_csv('../subs/submission {:%Y_%m_%d %H_%M_%S}.csv'.format(now), index=False)\n",
    "\n"
   ]
  },
  {
   "cell_type": "code",
   "execution_count": null,
   "id": "ed47bc68",
   "metadata": {},
   "outputs": [],
   "source": [
    "from Recommenders.SLIM.SLIMElasticNetRecommender import MultiThreadSLIM_SLIMElasticNetRecommender\n",
    "CFrecommender = MultiThreadSLIM_SLIMElasticNetRecommender(URM_train)\n",
    "CFrecommender.load_model('../result_experiments/BEST_SLIM_PURECF/', file_name = CFrecommender.RECOMMENDER_NAME + \"_my_own_save.zip\")\n",
    "\n",
    "from Recommenders.FeatureWeighting.CFW_D_Similarity_Linalg import CFW_D_Similarity_Linalg\n",
    "FW_recommender = CFW_D_Similarity_Linalg(URM_train, ICM_stacked, CFrecommender.W_sparse)\n",
    "FW_recommender.load_model('../result_experiments/BEST_FW/', file_name = FW_recommender.RECOMMENDER_NAME + \"_my_own_save.zip\")"
   ]
  },
  {
   "cell_type": "code",
   "execution_count": null,
   "id": "08996bc8",
   "metadata": {},
   "outputs": [],
   "source": [
    "import scipy.sparse as sps\n",
    "ICM_length_all_5km = ld.getICMlength('5km')\n",
    "ICM_stacked = sps.hstack((ICM_genre_all, ICM_subgenre_all, ICM_channel_all, ICM_length_all_5km))"
   ]
  },
  {
   "cell_type": "code",
   "execution_count": null,
   "id": "98701678",
   "metadata": {},
   "outputs": [],
   "source": [
    "import pandas as pd\n",
    "argsort_features = np.argsort(-FW_recommender.D_best)\n",
    "\n",
    "selection_quota = 0.1\n",
    "        \n",
    "n_to_select = int(selection_quota*len(argsort_features))\n",
    "selected_features = argsort_features[:n_to_select]\n",
    "        \n",
    "ICM_selected = ICM_stacked.todense()[:,selected_features]\n",
    "pd.DataFrame(ICM_selected).to_csv('ICM_selected_1.csv', index=False, header=True)\n"
   ]
  },
  {
   "cell_type": "code",
   "execution_count": null,
   "id": "7b73d27a",
   "metadata": {},
   "outputs": [],
   "source": [
    "import scipy.sparse as sps\n",
    "import pandas as pd\n",
    "URM_all, ICM_genre_all, ICM_subgenre_all, ICM_channel_all, _ = ld.getCOOs()\n",
    "ICM_length_all_5km = ld.getICMlength('5km')\n",
    "pd.DataFrame(sps.hstack([ICM_genre_all, ICM_subgenre_all, ICM_channel_all, ICM_length_all_5km]).todense()).to_csv('ICM_ALL.csv', index=False, header=True)"
   ]
  },
  {
   "cell_type": "code",
   "execution_count": null,
   "id": "0b8046ee",
   "metadata": {},
   "outputs": [],
   "source": [
    "recommender1 = recommender1 = MultiThreadSLIM_SLIMElasticNetRecommender(URM_train)\n",
    "model_init(recommender1, 'SLIMER', models_to_combine_best['SLIMER'])\n",
    "rank_models(evaluator_validation, [recommender1])\n",
    "recommender1.fit(**models_to_combine_best['SLIMER'])\n",
    "rank_models(evaluator_validation, [recommender1])\n",
    "\n",
    "# recommender1.save_model(ofp + 'SLIMER_ALL/', 'SLIMER_ALL')\n",
    "# recommender1.load_model(ofp + 'SLIMER_ALL/', 'SLIMER_ALL')"
   ]
  },
  {
   "cell_type": "code",
   "execution_count": null,
   "id": "4d02cad9",
   "metadata": {},
   "outputs": [],
   "source": []
  }
 ],
 "metadata": {
  "kernelspec": {
   "display_name": "Python 3",
   "language": "python",
   "name": "python3"
  },
  "language_info": {
   "codemirror_mode": {
    "name": "ipython",
    "version": 3
   },
   "file_extension": ".py",
   "mimetype": "text/x-python",
   "name": "python",
   "nbconvert_exporter": "python",
   "pygments_lexer": "ipython3",
   "version": "3.8.8"
  }
 },
 "nbformat": 4,
 "nbformat_minor": 5
}
