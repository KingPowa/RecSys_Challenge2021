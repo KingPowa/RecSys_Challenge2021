{
 "cells": [
  {
   "cell_type": "code",
   "execution_count": 1,
   "id": "7e809989",
   "metadata": {},
   "outputs": [],
   "source": [
    "import sys\n",
    "sys.path.append('../RecSysRep/')"
   ]
  },
  {
   "cell_type": "code",
   "execution_count": 2,
   "id": "bc728eee",
   "metadata": {},
   "outputs": [],
   "source": [
    "import Basics.Load as ld\n",
    "\n",
    "URM_all, _, _, _, _ = ld.getCOOs()\n",
    "ICM_all = ld.getICMall()"
   ]
  },
  {
   "cell_type": "code",
   "execution_count": 3,
   "id": "09a0a841",
   "metadata": {},
   "outputs": [
    {
     "name": "stdout",
     "output_type": "stream",
     "text": [
      "Warning: 2 (0.01 %) of 13650 users have no sampled items\n",
      "EvaluatorHoldout: Ignoring 13648 ( 0.0%) Users that have less than 1 test interactions\n"
     ]
    }
   ],
   "source": [
    "from Evaluation.Evaluator import EvaluatorHoldout\n",
    "from Data_manager.split_functions.split_train_validation_random_holdout import split_train_in_two_percentage_global_sample\n",
    "\n",
    "URM_train, URM_validation = split_train_in_two_percentage_global_sample(URM_all, train_percentage = 0.8, seed=3456)\n",
    "# URM_train, URM_validation = split_train_in_two_percentage_global_sample(URM_train_validation, train_percentage = 0.8)\n",
    "\n",
    "evaluator_validation = EvaluatorHoldout(URM_validation, cutoff_list=[10])\n",
    "# evaluator_test = EvaluatorHoldout(URM_test, cutoff_list=[10])"
   ]
  },
  {
   "cell_type": "code",
   "execution_count": 4,
   "id": "2d0f462a",
   "metadata": {},
   "outputs": [],
   "source": [
    "import os\n",
    "\n",
    "ofp = \"../models_temp/Similarity_Hybrid/\"\n",
    "\n",
    "models_to_combine_best = {\n",
    "                            'RP3ICMnew': {'alpha': 1.029719677583138, 'beta': 1.0630164752134375, 'topK': 6964, 'normalize_similarity': True},\n",
    "                            'RP3ICM' : {\"topK\": 2550, \"alpha\": 1.3058102610510849, \"beta\": 0.5150718337969987, \"normalize_similarity\": True, \"implicit\": True},\n",
    "                            'IALS' : {\"num_factors\": 29, \"epochs\": 50, \"confidence_scaling\": \"log\", \"alpha\": 0.001, \"epsilon\": 0.001, \"reg\": 0.01},\n",
    "                            'SLIMgensub': {\"l1_ratio\" : 0.025887359156206147, \"topK\": 2140, \"alpha\": 0.009567288586539689, \"workers\": 8, \"mw\": 1},\n",
    "                            'SLIMBPR' : {\"epochs\": 440, \"lambda_i\": 0.007773815998802306, \"lambda_j\": 0.003342522366982381, \"learning_rate\": 0.010055161410725193, \"topK\": 4289, \"random_seed\": 1234, \"sgd_mode\": \"sgd\"},\n",
    "                            'SLIMweig': {'l1_ratio': 0.0005247075138160404, 'topK': 4983, 'alpha': 0.06067400905430761, 'workers': 8, 'mw': 2.308619939318322},\n",
    "                            'SLIMER': {'topK': 6000, 'l1_ratio': 0.0005495104968035837, 'alpha': 0.08007142704041009, 'workers': 8},\n",
    "                            'P3alpha': {'topK': 4834, 'alpha': 1.764994849187595, 'normalize_similarity': True, 'implicit': True},\n",
    "                            'RP3beta': {\"topK\": 1049, \"alpha\": 1.1626473723475605, \"beta\": 0.6765017195261293, \"normalize_similarity\": True, \"implicit\": True},\n",
    "                            'sel7': {\"shrink\": 4000, \"topK\": 985, \"feature_weighting\": \"TF-IDF\", \"normalize\": True},\n",
    "                            'sel9': {\"shrink\": 5212, \"topK\": 923, \"feature_weighting\": \"TF-IDF\", \"normalize\": True},\n",
    "                            'sel3': {'shrink': 2211, 'topK': 188, 'feature_weighting': 'TF-IDF', 'normalize': True},\n",
    "                            'ICM_all': {\"shrink\": 5675, \"topK\": 2310, \"feature_weighting\": \"BM25\", \"normalize\": False},\n",
    "                            'ER_BPR': {'alpha': 0.58},\n",
    "                            'TopPop': {},\n",
    "                         }\n"
   ]
  },
  {
   "cell_type": "code",
   "execution_count": 5,
   "id": "1348b9f2",
   "metadata": {},
   "outputs": [],
   "source": [
    "def model_init(recommender, name, args):\n",
    "    path_name = ofp + name + \".zip\"\n",
    "    print(path_name)\n",
    "    if os.path.exists(path_name):\n",
    "        print(\"Model found!\")\n",
    "        recommender.load_model(ofp, name)\n",
    "    else:\n",
    "        print(\"Model does not exists, creating...\")\n",
    "        if not os.path.exists(ofp):\n",
    "            print(\"Main folder does not exist, creating...\")\n",
    "            os.makedirs(ofp)\n",
    "        recommender.fit(**args)\n",
    "        recommender.save_model(ofp, name)"
   ]
  },
  {
   "cell_type": "code",
   "execution_count": 6,
   "id": "1fe35dd8",
   "metadata": {},
   "outputs": [],
   "source": [
    "from Recommenders.NonPersonalizedRecommender import TopPop\n",
    "from Recommenders.KNN.ItemKNNCBFRecommender import ItemKNNCBFRecommender\n",
    "from Recommenders.SLIM.Cython.SLIM_BPR_Cython import SLIM_BPR_Cython\n",
    "from Recommenders.SLIM.SLIMElasticNetRecommender import MultiThreadSLIM_SLIMElasticNetRecommender\n",
    "from Recommenders.GraphBased.P3alphaRecommender import P3alphaRecommender\n",
    "from Recommenders.GraphBased.RP3betaRecommender import RP3betaRecommender\n",
    "from Recommenders.GraphBased.RP3betaRecommender import RP3betaRecommenderICM\n",
    "from Recommenders.MatrixFactorization.IALSRecommender import IALSRecommender"
   ]
  },
  {
   "cell_type": "code",
   "execution_count": 7,
   "id": "2329e3a7",
   "metadata": {},
   "outputs": [],
   "source": [
    "from Recommenders.KNN.ItemKNNScoresHybridMultipleRecommender import ItemKNNScoresHybridTwoRecommender\n",
    "from Recommenders.KNN.ItemKNNScoresHybridMultipleRecommender import ItemKNNScoresHybridMultipleRecommender\n",
    "from Recommenders.KNN.ItemKNNScoresHybridMultipleRecommender import ItemKNNScoresHybridTwoRecommender_PRUNE"
   ]
  },
  {
   "cell_type": "code",
   "execution_count": 8,
   "id": "035dfa3b",
   "metadata": {},
   "outputs": [
    {
     "name": "stdout",
     "output_type": "stream",
     "text": [
      "../models_temp/Similarity_Hybrid/SLIMER.zip\n",
      "Model found!\n",
      "SLIMElasticNetRecommender: Loading model from file '../models_temp/Similarity_Hybrid/SLIMER'\n",
      "SLIMElasticNetRecommender: Loading complete\n",
      "../models_temp/Similarity_Hybrid/SLIMBPR.zip\n",
      "Model found!\n",
      "SLIM_BPR_Recommender: Loading model from file '../models_temp/Similarity_Hybrid/SLIMBPR'\n",
      "SLIM_BPR_Recommender: Loading complete\n",
      "../models_temp/Similarity_Hybrid/ICM_all.zip\n",
      "Model found!\n",
      "ItemKNNCBFRecommender: Loading model from file '../models_temp/Similarity_Hybrid/ICM_all'\n",
      "ItemKNNCBFRecommender: Loading complete\n"
     ]
    }
   ],
   "source": [
    "recommender1 = MultiThreadSLIM_SLIMElasticNetRecommender(URM_train)\n",
    "recommender2 = SLIM_BPR_Cython(URM_train)\n",
    "recommender3 = ItemKNNCBFRecommender(URM_train, ICM_all)\n",
    "# recommender3 = ItemKNNCBFRecommender(URM_train, ICM_sel_9)\n",
    "\n",
    "model_init(recommender1, 'SLIMER', models_to_combine_best['SLIMER'])\n",
    "# model_init(recommender2, 'KNNweigh', models_to_combine_best['icm_weighted'])\n",
    "model_init(recommender2, 'SLIMBPR', models_to_combine_best['SLIMBPR'])\n",
    "model_init(recommender3, 'ICM_all', models_to_combine_best['ICM_all'])\n",
    "# model_init(recommender3, 'TopPop', models_to_combine_best['TopPop'])\n"
   ]
  },
  {
   "cell_type": "code",
   "execution_count": null,
   "id": "399ca661",
   "metadata": {},
   "outputs": [],
   "source": [
    "recommenderHybrid = ItemKNNScoresHybridTwoRecommender(URM_train, recommender1, recommender2)\n",
    "recommenderHybrid.fit(alpha = 0.58)\n"
   ]
  },
  {
   "cell_type": "code",
   "execution_count": null,
   "id": "4b3c2ca0",
   "metadata": {},
   "outputs": [],
   "source": [
    "def rank_models(evaluator, recommenders):\n",
    "    for r in recommenders:\n",
    "        r_d, _ = evaluator.evaluateRecommender(r)\n",
    "        print(r.RECOMMENDER_NAME, r_d.loc[10]['MAP'])"
   ]
  },
  {
   "cell_type": "code",
   "execution_count": null,
   "id": "b03d5ba5",
   "metadata": {},
   "outputs": [],
   "source": [
    "rank_models(evaluator_validation, [recommender1, recommender2])"
   ]
  },
  {
   "cell_type": "code",
   "execution_count": 10,
   "id": "6af12e9f",
   "metadata": {},
   "outputs": [
    {
     "name": "stdout",
     "output_type": "stream",
     "text": [
      "Collecting optuna\n",
      "  Downloading optuna-2.10.0-py3-none-any.whl (308 kB)\n",
      "Collecting colorlog\n",
      "  Downloading colorlog-6.6.0-py2.py3-none-any.whl (11 kB)\n",
      "Collecting alembic\n",
      "  Downloading alembic-1.7.5-py3-none-any.whl (209 kB)\n",
      "Requirement already satisfied: sqlalchemy>=1.1.0 in c:\\users\\marti\\miniconda3\\envs\\recsys\\lib\\site-packages (from optuna) (1.4.7)\n",
      "Collecting cmaes>=0.8.2\n",
      "  Downloading cmaes-0.8.2-py3-none-any.whl (15 kB)\n",
      "Collecting cliff\n",
      "  Downloading cliff-3.10.0-py3-none-any.whl (80 kB)\n",
      "Requirement already satisfied: scipy!=1.4.0 in c:\\users\\marti\\miniconda3\\envs\\recsys\\lib\\site-packages (from optuna) (1.6.2)\n",
      "Requirement already satisfied: tqdm in c:\\users\\marti\\miniconda3\\envs\\recsys\\lib\\site-packages (from optuna) (4.59.0)\n",
      "Requirement already satisfied: PyYAML in c:\\users\\marti\\miniconda3\\envs\\recsys\\lib\\site-packages (from optuna) (5.4.1)\n",
      "Requirement already satisfied: packaging>=20.0 in c:\\users\\marti\\miniconda3\\envs\\recsys\\lib\\site-packages (from optuna) (20.9)\n",
      "Requirement already satisfied: numpy in c:\\users\\marti\\miniconda3\\envs\\recsys\\lib\\site-packages (from optuna) (1.20.1)\n",
      "Requirement already satisfied: pyparsing>=2.0.2 in c:\\users\\marti\\miniconda3\\envs\\recsys\\lib\\site-packages (from packaging>=20.0->optuna) (2.4.7)\n",
      "Requirement already satisfied: greenlet!=0.4.17 in c:\\users\\marti\\miniconda3\\envs\\recsys\\lib\\site-packages (from sqlalchemy>=1.1.0->optuna) (1.0.0)\n",
      "Collecting importlib-resources\n",
      "  Downloading importlib_resources-5.4.0-py3-none-any.whl (28 kB)\n",
      "Collecting Mako\n",
      "  Downloading Mako-1.1.6-py2.py3-none-any.whl (75 kB)\n",
      "Requirement already satisfied: importlib-metadata in c:\\users\\marti\\miniconda3\\envs\\recsys\\lib\\site-packages (from alembic->optuna) (3.10.0)\n",
      "Collecting PrettyTable>=0.7.2\n",
      "  Downloading prettytable-2.5.0-py3-none-any.whl (24 kB)\n",
      "Collecting autopage>=0.4.0\n",
      "  Downloading autopage-0.4.0-py3-none-any.whl (20 kB)\n",
      "Collecting pbr!=2.1.0,>=2.0.0\n",
      "  Downloading pbr-5.8.0-py2.py3-none-any.whl (112 kB)\n",
      "Collecting stevedore>=2.0.1\n",
      "  Downloading stevedore-3.5.0-py3-none-any.whl (49 kB)\n",
      "Collecting cmd2>=1.0.0\n",
      "  Downloading cmd2-2.3.3-py3-none-any.whl (149 kB)\n",
      "Requirement already satisfied: colorama in c:\\users\\marti\\miniconda3\\envs\\recsys\\lib\\site-packages (from colorlog->optuna) (0.4.4)\n",
      "Collecting pyperclip>=1.6\n",
      "  Downloading pyperclip-1.8.2.tar.gz (20 kB)\n",
      "  Preparing metadata (setup.py): started\n",
      "  Preparing metadata (setup.py): finished with status 'done'\n",
      "Collecting pyreadline3\n",
      "  Downloading pyreadline3-3.3-py3-none-any.whl (95 kB)\n",
      "Requirement already satisfied: attrs>=16.3.0 in c:\\users\\marti\\miniconda3\\envs\\recsys\\lib\\site-packages (from cmd2>=1.0.0->cliff->optuna) (20.3.0)\n",
      "Requirement already satisfied: wcwidth>=0.1.7 in c:\\users\\marti\\miniconda3\\envs\\recsys\\lib\\site-packages (from cmd2>=1.0.0->cliff->optuna) (0.2.5)\n",
      "Requirement already satisfied: zipp>=0.5 in c:\\users\\marti\\miniconda3\\envs\\recsys\\lib\\site-packages (from importlib-metadata->alembic->optuna) (3.4.1)\n",
      "Requirement already satisfied: MarkupSafe>=0.9.2 in c:\\users\\marti\\miniconda3\\envs\\recsys\\lib\\site-packages (from Mako->alembic->optuna) (1.1.1)\n",
      "Building wheels for collected packages: pyperclip\n",
      "  Building wheel for pyperclip (setup.py): started\n",
      "  Building wheel for pyperclip (setup.py): finished with status 'done'\n",
      "  Created wheel for pyperclip: filename=pyperclip-1.8.2-py3-none-any.whl size=11107 sha256=cc13b592eff23cf8dc9949aeb36ddf7847165204cbd47247464367d77ae1abb9\n",
      "  Stored in directory: c:\\users\\marti\\appdata\\local\\pip\\cache\\wheels\\7f\\1a\\65\\84ff8c386bec21fca6d220ea1f5498a0367883a78dd5ba6122\n",
      "Successfully built pyperclip\n",
      "Installing collected packages: pyreadline3, pyperclip, pbr, stevedore, PrettyTable, Mako, importlib-resources, cmd2, autopage, colorlog, cmaes, cliff, alembic, optuna\n",
      "Successfully installed Mako-1.1.6 PrettyTable-2.5.0 alembic-1.7.5 autopage-0.4.0 cliff-3.10.0 cmaes-0.8.2 cmd2-2.3.3 colorlog-6.6.0 importlib-resources-5.4.0 optuna-2.10.0 pbr-5.8.0 pyperclip-1.8.2 pyreadline3-3.3 stevedore-3.5.0\n"
     ]
    }
   ],
   "source": [
    "# !pip install optuna\n",
    "import optuna\n",
    "\n",
    "class Objective(object):\n",
    "    def __init__(self, URM_train, recommender1, recommender2, recommender3, evaluator):\n",
    "        # Hold this implementation specific arguments as the fields of the class.\n",
    "        self.URM_train = URM_train\n",
    "        self.evaluator = evaluator\n",
    "        self.recommender_1 = recommender1\n",
    "        self.recommender_2 = recommender2\n",
    "        self.recommender_3 = recommender3\n",
    "\n",
    "    def __call__(self, trial):\n",
    "        # Calculate an objective value by using the extra arguments.\n",
    "        alpha = trial.suggest_uniform('alpha', 0, 1)\n",
    "        beta = trial.suggest_uniform('beta', 0, 1)\n",
    "        gamma = trial.suggest_uniform('gamma', 0, 1)\n",
    "\n",
    "        recommender_final = ItemKNNScoresHybridMultipleRecommender(self.URM_train.tocsr(), self.recommender_1, self.recommender_2, self.recommender_3)\n",
    "        recommender_final.fit(alpha, beta, gamma)\n",
    "        result_dict, _ = self.evaluator.evaluateRecommender(recommender_final)\n",
    "\n",
    "        map_v = -result_dict.loc[10]['MAP']\n",
    "        print(map_v)\n",
    "        if map_v < -0.245: # minimum acceptable map\n",
    "            return map_v\n",
    "        else:\n",
    "            # Calculate the penalty.\n",
    "            penalty = 0.245 + map_v\n",
    "            trial.report(penalty, 0)\n",
    "\n",
    "            if trial.should_prune():\n",
    "                raise optuna.exceptions.TrialPruned()\n",
    "            return map_v"
   ]
  },
  {
   "cell_type": "code",
   "execution_count": null,
   "id": "ca7935e9",
   "metadata": {},
   "outputs": [
    {
     "name": "stderr",
     "output_type": "stream",
     "text": [
      "\u001b[32m[I 2022-01-04 12:32:54,804]\u001b[0m A new study created in memory with name: no-name-ff469394-f991-4208-aeb9-ef6cf9ea8427\u001b[0m\n"
     ]
    },
    {
     "name": "stdout",
     "output_type": "stream",
     "text": [
      "CURRENT CONFIGURATION:\n",
      "SLIMElasticNetRecommender with weight alpha: 0.21636331504183143\n",
      "SLIM_BPR_Recommender with weight beta: 0.11738684844124975\n",
      "ItemKNNCBFRecommender with weight gamma: 0.6662498365169188\n",
      "EvaluatorHoldout: Processed 13000 (95.3%) in 5.33 min. Users per second: 41\n",
      "EvaluatorHoldout: Processed 13648 (100.0%) in 5.39 min. Users per second: 42\n"
     ]
    },
    {
     "name": "stderr",
     "output_type": "stream",
     "text": [
      "\u001b[32m[I 2022-01-04 12:38:18,361]\u001b[0m Trial 0 finished with value: -0.23731665724613354 and parameters: {'alpha': 0.26625811465907157, 'beta': 0.1444570256547164, 'gamma': 0.8198914188785295}. Best is trial 0 with value: -0.23731665724613354.\u001b[0m\n"
     ]
    },
    {
     "name": "stdout",
     "output_type": "stream",
     "text": [
      "-0.23731665724613354\n",
      "CURRENT CONFIGURATION:\n",
      "SLIMElasticNetRecommender with weight alpha: 0.31732462959473934\n",
      "SLIM_BPR_Recommender with weight beta: 0.4431772259889885\n",
      "ItemKNNCBFRecommender with weight gamma: 0.2394981444162723\n",
      "EvaluatorHoldout: Processed 13000 (95.3%) in 5.29 min. Users per second: 41\n",
      "EvaluatorHoldout: Processed 13648 (100.0%) in 5.35 min. Users per second: 43\n"
     ]
    },
    {
     "name": "stderr",
     "output_type": "stream",
     "text": [
      "\u001b[32m[I 2022-01-04 12:43:39,549]\u001b[0m Trial 1 finished with value: -0.23197387779359552 and parameters: {'alpha': 0.64537820739239, 'beta': 0.9013385567681355, 'gamma': 0.4870938739125845}. Best is trial 0 with value: -0.23731665724613354.\u001b[0m\n"
     ]
    },
    {
     "name": "stdout",
     "output_type": "stream",
     "text": [
      "-0.23197387779359552\n",
      "CURRENT CONFIGURATION:\n",
      "SLIMElasticNetRecommender with weight alpha: 0.4972818882215657\n",
      "SLIM_BPR_Recommender with weight beta: 0.026476482473873495\n",
      "ItemKNNCBFRecommender with weight gamma: 0.47624162930456077\n",
      "EvaluatorHoldout: Processed 13000 (95.3%) in 5.28 min. Users per second: 41\n",
      "EvaluatorHoldout: Processed 13648 (100.0%) in 5.35 min. Users per second: 43\n"
     ]
    },
    {
     "name": "stderr",
     "output_type": "stream",
     "text": [
      "\u001b[32m[I 2022-01-04 12:49:00,438]\u001b[0m Trial 2 finished with value: -0.24754960608217655 and parameters: {'alpha': 0.9293241169344301, 'beta': 0.04947944873391297, 'gamma': 0.8900039234963667}. Best is trial 2 with value: -0.24754960608217655.\u001b[0m\n"
     ]
    },
    {
     "name": "stdout",
     "output_type": "stream",
     "text": [
      "-0.24754960608217655\n",
      "CURRENT CONFIGURATION:\n",
      "SLIMElasticNetRecommender with weight alpha: 0.3243606341815057\n",
      "SLIM_BPR_Recommender with weight beta: 0.34826803116816285\n",
      "ItemKNNCBFRecommender with weight gamma: 0.32737133465033147\n",
      "EvaluatorHoldout: Processed 12000 (87.9%) in 5.06 min. Users per second: 40\n",
      "EvaluatorHoldout: Processed 13648 (100.0%) in 5.54 min. Users per second: 41\n"
     ]
    },
    {
     "name": "stderr",
     "output_type": "stream",
     "text": [
      "\u001b[32m[I 2022-01-04 12:54:33,173]\u001b[0m Trial 3 finished with value: -0.23277508536630728 and parameters: {'alpha': 0.8645697604572581, 'beta': 0.9282939313575543, 'gamma': 0.8725946571581465}. Best is trial 2 with value: -0.24754960608217655.\u001b[0m\n"
     ]
    },
    {
     "name": "stdout",
     "output_type": "stream",
     "text": [
      "-0.23277508536630728\n",
      "CURRENT CONFIGURATION:\n",
      "SLIMElasticNetRecommender with weight alpha: 0.38649074482087087\n",
      "SLIM_BPR_Recommender with weight beta: 0.3448349575536486\n",
      "ItemKNNCBFRecommender with weight gamma: 0.2686742976254805\n",
      "EvaluatorHoldout: Processed 13000 (95.3%) in 5.41 min. Users per second: 40\n",
      "EvaluatorHoldout: Processed 13648 (100.0%) in 5.47 min. Users per second: 42\n"
     ]
    },
    {
     "name": "stderr",
     "output_type": "stream",
     "text": [
      "\u001b[32m[I 2022-01-04 13:00:01,575]\u001b[0m Trial 4 finished with value: -0.23316018743370667 and parameters: {'alpha': 0.8005427418367929, 'beta': 0.7142606287483465, 'gamma': 0.5565081745537361}. Best is trial 2 with value: -0.24754960608217655.\u001b[0m\n"
     ]
    },
    {
     "name": "stdout",
     "output_type": "stream",
     "text": [
      "-0.23316018743370667\n",
      "CURRENT CONFIGURATION:\n",
      "SLIMElasticNetRecommender with weight alpha: 0.23773951283151065\n",
      "SLIM_BPR_Recommender with weight beta: 0.2958183626520729\n",
      "ItemKNNCBFRecommender with weight gamma: 0.4664421245164164\n",
      "EvaluatorHoldout: Processed 13000 (95.3%) in 5.38 min. Users per second: 40\n",
      "EvaluatorHoldout: Processed 13648 (100.0%) in 5.45 min. Users per second: 42\n"
     ]
    },
    {
     "name": "stderr",
     "output_type": "stream",
     "text": [
      "\u001b[32m[I 2022-01-04 13:05:28,694]\u001b[0m Trial 5 pruned. \u001b[0m\n"
     ]
    },
    {
     "name": "stdout",
     "output_type": "stream",
     "text": [
      "-0.2329046031513418\n",
      "CURRENT CONFIGURATION:\n",
      "SLIMElasticNetRecommender with weight alpha: 0.21535604354450025\n",
      "SLIM_BPR_Recommender with weight beta: 0.3121830114003148\n",
      "ItemKNNCBFRecommender with weight gamma: 0.47246094505518493\n",
      "EvaluatorHoldout: Processed 12000 (87.9%) in 5.14 min. Users per second: 39\n",
      "EvaluatorHoldout: Processed 13648 (100.0%) in 5.61 min. Users per second: 41\n"
     ]
    },
    {
     "name": "stderr",
     "output_type": "stream",
     "text": [
      "\u001b[32m[I 2022-01-04 13:11:05,605]\u001b[0m Trial 6 pruned. \u001b[0m\n"
     ]
    },
    {
     "name": "stdout",
     "output_type": "stream",
     "text": [
      "-0.232519928496994\n",
      "CURRENT CONFIGURATION:\n",
      "SLIMElasticNetRecommender with weight alpha: 0.369780752868027\n",
      "SLIM_BPR_Recommender with weight beta: 0.3214548146888849\n",
      "ItemKNNCBFRecommender with weight gamma: 0.30876443244308815\n",
      "EvaluatorHoldout: Processed 10000 (73.3%) in 5.40 min. Users per second: 31\n",
      "EvaluatorHoldout: Processed 13648 (100.0%) in 7.62 min. Users per second: 30\n"
     ]
    },
    {
     "name": "stderr",
     "output_type": "stream",
     "text": [
      "\u001b[32m[I 2022-01-04 13:18:42,731]\u001b[0m Trial 7 finished with value: -0.23343050147471978 and parameters: {'alpha': 0.48808433461458467, 'beta': 0.4242975279788963, 'gamma': 0.4075471245941775}. Best is trial 2 with value: -0.24754960608217655.\u001b[0m\n"
     ]
    },
    {
     "name": "stdout",
     "output_type": "stream",
     "text": [
      "-0.23343050147471978\n",
      "CURRENT CONFIGURATION:\n",
      "SLIMElasticNetRecommender with weight alpha: 0.48957929090564883\n",
      "SLIM_BPR_Recommender with weight beta: 0.4883698464711402\n",
      "ItemKNNCBFRecommender with weight gamma: 0.022050862623210973\n",
      "EvaluatorHoldout: Processed 8000 (58.6%) in 5.56 min. Users per second: 24\n",
      "EvaluatorHoldout: Processed 13648 (100.0%) in 9.18 min. Users per second: 25\n"
     ]
    },
    {
     "name": "stderr",
     "output_type": "stream",
     "text": [
      "\u001b[32m[I 2022-01-04 13:27:53,871]\u001b[0m Trial 8 pruned. \u001b[0m\n"
     ]
    },
    {
     "name": "stdout",
     "output_type": "stream",
     "text": [
      "-0.2321800304480906\n",
      "CURRENT CONFIGURATION:\n",
      "SLIMElasticNetRecommender with weight alpha: 0.4831683829686391\n",
      "SLIM_BPR_Recommender with weight beta: 0.04641037893858446\n",
      "ItemKNNCBFRecommender with weight gamma: 0.4704212380927764\n",
      "EvaluatorHoldout: Processed 8000 (58.6%) in 5.48 min. Users per second: 24\n",
      "EvaluatorHoldout: Processed 13648 (100.0%) in 9.05 min. Users per second: 25\n"
     ]
    },
    {
     "name": "stderr",
     "output_type": "stream",
     "text": [
      "\u001b[32m[I 2022-01-04 13:36:56,874]\u001b[0m Trial 9 finished with value: -0.24552946009881121 and parameters: {'alpha': 0.3547179311230404, 'beta': 0.03407216651591116, 'gamma': 0.3453596183329728}. Best is trial 2 with value: -0.24754960608217655.\u001b[0m\n"
     ]
    },
    {
     "name": "stdout",
     "output_type": "stream",
     "text": [
      "-0.24552946009881121\n",
      "CURRENT CONFIGURATION:\n",
      "SLIMElasticNetRecommender with weight alpha: 0.0071449111813636605\n",
      "SLIM_BPR_Recommender with weight beta: 0.24940695952681705\n",
      "ItemKNNCBFRecommender with weight gamma: 0.7434481292918192\n",
      "EvaluatorHoldout: Processed 8000 (58.6%) in 5.51 min. Users per second: 24\n",
      "EvaluatorHoldout: Processed 13648 (100.0%) in 9.10 min. Users per second: 25\n"
     ]
    },
    {
     "name": "stderr",
     "output_type": "stream",
     "text": [
      "\u001b[32m[I 2022-01-04 13:46:03,048]\u001b[0m Trial 10 pruned. \u001b[0m\n"
     ]
    },
    {
     "name": "stdout",
     "output_type": "stream",
     "text": [
      "-0.23131912751912004\n",
      "CURRENT CONFIGURATION:\n",
      "SLIMElasticNetRecommender with weight alpha: 0.6760314850546144\n",
      "SLIM_BPR_Recommender with weight beta: 0.03901178416638479\n",
      "ItemKNNCBFRecommender with weight gamma: 0.2849567307790009\n",
      "EvaluatorHoldout: Processed 8000 (58.6%) in 5.49 min. Users per second: 24\n",
      "EvaluatorHoldout: Processed 13648 (100.0%) in 9.17 min. Users per second: 25\n"
     ]
    },
    {
     "name": "stderr",
     "output_type": "stream",
     "text": [
      "\u001b[32m[I 2022-01-04 13:55:13,416]\u001b[0m Trial 11 finished with value: -0.24842113327843895 and parameters: {'alpha': 0.6606327527964959, 'beta': 0.038123168720846576, 'gamma': 0.27846594965501215}. Best is trial 11 with value: -0.24842113327843895.\u001b[0m\n"
     ]
    },
    {
     "name": "stdout",
     "output_type": "stream",
     "text": [
      "-0.24842113327843895\n",
      "CURRENT CONFIGURATION:\n",
      "SLIMElasticNetRecommender with weight alpha: 0.7747726663372353\n",
      "SLIM_BPR_Recommender with weight beta: 0.013659406542189782\n",
      "ItemKNNCBFRecommender with weight gamma: 0.21156792712057496\n",
      "EvaluatorHoldout: Processed 8000 (58.6%) in 5.56 min. Users per second: 24\n",
      "EvaluatorHoldout: Processed 13648 (100.0%) in 9.10 min. Users per second: 25\n"
     ]
    },
    {
     "name": "stderr",
     "output_type": "stream",
     "text": [
      "\u001b[32m[I 2022-01-04 14:04:19,740]\u001b[0m Trial 12 finished with value: -0.25014232854630636 and parameters: {'alpha': 0.6548621342740977, 'beta': 0.011545358412583015, 'gamma': 0.17882384126058049}. Best is trial 12 with value: -0.25014232854630636.\u001b[0m\n"
     ]
    },
    {
     "name": "stdout",
     "output_type": "stream",
     "text": [
      "-0.25014232854630636\n",
      "CURRENT CONFIGURATION:\n",
      "SLIMElasticNetRecommender with weight alpha: 0.6192132004944053\n",
      "SLIM_BPR_Recommender with weight beta: 0.2401718675979692\n",
      "ItemKNNCBFRecommender with weight gamma: 0.14061493190762542\n",
      "EvaluatorHoldout: Processed 8000 (58.6%) in 5.59 min. Users per second: 24\n",
      "EvaluatorHoldout: Processed 13648 (100.0%) in 9.10 min. Users per second: 25\n"
     ]
    },
    {
     "name": "stderr",
     "output_type": "stream",
     "text": [
      "\u001b[32m[I 2022-01-04 14:13:25,977]\u001b[0m Trial 13 finished with value: -0.23647225187945312 and parameters: {'alpha': 0.6552117926101018, 'beta': 0.2541345045256399, 'gamma': 0.14878972465280169}. Best is trial 12 with value: -0.25014232854630636.\u001b[0m\n"
     ]
    },
    {
     "name": "stdout",
     "output_type": "stream",
     "text": [
      "-0.23647225187945312\n",
      "CURRENT CONFIGURATION:\n",
      "SLIMElasticNetRecommender with weight alpha: 0.6255958823477572\n",
      "SLIM_BPR_Recommender with weight beta: 0.17957834946438228\n",
      "ItemKNNCBFRecommender with weight gamma: 0.19482576818786057\n",
      "EvaluatorHoldout: Processed 8000 (58.6%) in 5.58 min. Users per second: 24\n",
      "EvaluatorHoldout: Processed 13648 (100.0%) in 9.11 min. Users per second: 25\n"
     ]
    },
    {
     "name": "stderr",
     "output_type": "stream",
     "text": [
      "\u001b[32m[I 2022-01-04 14:22:32,538]\u001b[0m Trial 14 finished with value: -0.23840918315841297 and parameters: {'alpha': 0.6499819455296725, 'beta': 0.18657840988630842, 'gamma': 0.20242018117322824}. Best is trial 12 with value: -0.25014232854630636.\u001b[0m\n"
     ]
    },
    {
     "name": "stdout",
     "output_type": "stream",
     "text": [
      "-0.23840918315841297\n",
      "CURRENT CONFIGURATION:\n",
      "SLIMElasticNetRecommender with weight alpha: 0.724162344698661\n",
      "SLIM_BPR_Recommender with weight beta: 0.0034934558066375856\n",
      "ItemKNNCBFRecommender with weight gamma: 0.27234419949470123\n",
      "EvaluatorHoldout: Processed 8000 (58.6%) in 5.56 min. Users per second: 24\n",
      "EvaluatorHoldout: Processed 13648 (100.0%) in 9.07 min. Users per second: 25\n"
     ]
    },
    {
     "name": "stderr",
     "output_type": "stream",
     "text": [
      "\u001b[32m[I 2022-01-04 14:31:36,864]\u001b[0m Trial 15 finished with value: -0.24867712752842472 and parameters: {'alpha': 0.7624779673192512, 'beta': 0.0036782954842440405, 'gamma': 0.28675400365966086}. Best is trial 12 with value: -0.25014232854630636.\u001b[0m\n"
     ]
    },
    {
     "name": "stdout",
     "output_type": "stream",
     "text": [
      "-0.24867712752842472\n",
      "CURRENT CONFIGURATION:\n",
      "SLIMElasticNetRecommender with weight alpha: 0.685054023125936\n",
      "SLIM_BPR_Recommender with weight beta: 0.30597166983164853\n",
      "ItemKNNCBFRecommender with weight gamma: 0.008974307042415577\n",
      "EvaluatorHoldout: Processed 8000 (58.6%) in 5.59 min. Users per second: 24\n",
      "EvaluatorHoldout: Processed 13648 (100.0%) in 9.12 min. Users per second: 25\n"
     ]
    },
    {
     "name": "stderr",
     "output_type": "stream",
     "text": [
      "\u001b[32m[I 2022-01-04 14:40:44,068]\u001b[0m Trial 16 finished with value: -0.23522294969668006 and parameters: {'alpha': 0.7477761702376859, 'beta': 0.333985810964107, 'gamma': 0.009795976264898087}. Best is trial 12 with value: -0.25014232854630636.\u001b[0m\n"
     ]
    },
    {
     "name": "stdout",
     "output_type": "stream",
     "text": [
      "-0.23522294969668006\n",
      "CURRENT CONFIGURATION:\n",
      "SLIMElasticNetRecommender with weight alpha: 0.4302214689095092\n",
      "SLIM_BPR_Recommender with weight beta: 0.42599767376356534\n",
      "ItemKNNCBFRecommender with weight gamma: 0.1437808573269255\n",
      "EvaluatorHoldout: Processed 8000 (58.6%) in 5.47 min. Users per second: 24\n",
      "EvaluatorHoldout: Processed 13648 (100.0%) in 9.16 min. Users per second: 25\n"
     ]
    },
    {
     "name": "stderr",
     "output_type": "stream",
     "text": [
      "\u001b[32m[I 2022-01-04 14:49:54,161]\u001b[0m Trial 17 pruned. \u001b[0m\n"
     ]
    },
    {
     "name": "stdout",
     "output_type": "stream",
     "text": [
      "-0.23256873208935713\n",
      "CURRENT CONFIGURATION:\n",
      "SLIMElasticNetRecommender with weight alpha: 0.6657667026093383\n",
      "SLIM_BPR_Recommender with weight beta: 0.10114980870992782\n",
      "ItemKNNCBFRecommender with weight gamma: 0.23308348868073384\n",
      "EvaluatorHoldout: Processed 8000 (58.6%) in 5.50 min. Users per second: 24\n",
      "EvaluatorHoldout: Processed 13648 (100.0%) in 9.06 min. Users per second: 25\n"
     ]
    },
    {
     "name": "stderr",
     "output_type": "stream",
     "text": [
      "\u001b[32m[I 2022-01-04 14:58:57,916]\u001b[0m Trial 18 finished with value: -0.242941724120285 and parameters: {'alpha': 0.9751479688236607, 'beta': 0.14815404573975224, 'gamma': 0.34139720364886006}. Best is trial 12 with value: -0.25014232854630636.\u001b[0m\n"
     ]
    },
    {
     "name": "stdout",
     "output_type": "stream",
     "text": [
      "-0.242941724120285\n",
      "CURRENT CONFIGURATION:\n",
      "SLIMElasticNetRecommender with weight alpha: 0.19603082947475084\n",
      "SLIM_BPR_Recommender with weight beta: 0.6687752858552739\n",
      "ItemKNNCBFRecommender with weight gamma: 0.13519388466997526\n",
      "EvaluatorHoldout: Processed 8000 (58.6%) in 5.44 min. Users per second: 25\n",
      "EvaluatorHoldout: Processed 13648 (100.0%) in 9.02 min. Users per second: 25\n"
     ]
    },
    {
     "name": "stderr",
     "output_type": "stream",
     "text": [
      "\u001b[32m[I 2022-01-04 15:07:59,507]\u001b[0m Trial 19 pruned. \u001b[0m\n"
     ]
    },
    {
     "name": "stdout",
     "output_type": "stream",
     "text": [
      "-0.2303217257252637\n",
      "CURRENT CONFIGURATION:\n",
      "SLIMElasticNetRecommender with weight alpha: 0.7539603080977924\n",
      "SLIM_BPR_Recommender with weight beta: 0.016275042436668812\n",
      "ItemKNNCBFRecommender with weight gamma: 0.22976464946553893\n",
      "EvaluatorHoldout: Processed 8000 (58.6%) in 5.49 min. Users per second: 24\n",
      "EvaluatorHoldout: Processed 13648 (100.0%) in 9.08 min. Users per second: 25\n"
     ]
    },
    {
     "name": "stderr",
     "output_type": "stream",
     "text": [
      "\u001b[32m[I 2022-01-04 15:17:04,693]\u001b[0m Trial 20 finished with value: -0.25006107645285525 and parameters: {'alpha': 0.7665980603294297, 'beta': 0.01654784188203076, 'gamma': 0.23361592476524323}. Best is trial 12 with value: -0.25014232854630636.\u001b[0m\n"
     ]
    },
    {
     "name": "stdout",
     "output_type": "stream",
     "text": [
      "-0.25006107645285525\n",
      "CURRENT CONFIGURATION:\n",
      "SLIMElasticNetRecommender with weight alpha: 0.7337804933442574\n",
      "SLIM_BPR_Recommender with weight beta: 0.008088688253042537\n",
      "ItemKNNCBFRecommender with weight gamma: 0.25813081840269997\n",
      "EvaluatorHoldout: Processed 8000 (58.6%) in 5.47 min. Users per second: 24\n",
      "EvaluatorHoldout: Processed 13648 (100.0%) in 9.09 min. Users per second: 25\n"
     ]
    },
    {
     "name": "stderr",
     "output_type": "stream",
     "text": [
      "\u001b[32m[I 2022-01-04 15:26:10,208]\u001b[0m Trial 21 finished with value: -0.24928527814994794 and parameters: {'alpha': 0.7724269172056345, 'beta': 0.008514699679545485, 'gamma': 0.27172593725658134}. Best is trial 12 with value: -0.25014232854630636.\u001b[0m\n"
     ]
    },
    {
     "name": "stdout",
     "output_type": "stream",
     "text": [
      "-0.24928527814994794\n",
      "CURRENT CONFIGURATION:\n",
      "SLIMElasticNetRecommender with weight alpha: 0.6054045880841139\n",
      "SLIM_BPR_Recommender with weight beta: 0.13409672011871684\n",
      "ItemKNNCBFRecommender with weight gamma: 0.2604986917971693\n",
      "EvaluatorHoldout: Processed 8000 (58.6%) in 5.54 min. Users per second: 24\n",
      "EvaluatorHoldout: Processed 13648 (100.0%) in 9.13 min. Users per second: 25\n"
     ]
    },
    {
     "name": "stderr",
     "output_type": "stream",
     "text": [
      "\u001b[32m[I 2022-01-04 15:35:18,224]\u001b[0m Trial 22 finished with value: -0.24009273409441906 and parameters: {'alpha': 0.5363752727568222, 'beta': 0.11880677194253224, 'gamma': 0.23079616444216453}. Best is trial 12 with value: -0.25014232854630636.\u001b[0m\n"
     ]
    },
    {
     "name": "stdout",
     "output_type": "stream",
     "text": [
      "-0.24009273409441906\n",
      "CURRENT CONFIGURATION:\n",
      "SLIMElasticNetRecommender with weight alpha: 0.5425032896942267\n",
      "SLIM_BPR_Recommender with weight beta: 0.17440915747704114\n",
      "ItemKNNCBFRecommender with weight gamma: 0.28308755282873216\n",
      "EvaluatorHoldout: Processed 8000 (58.6%) in 5.53 min. Users per second: 24\n",
      "EvaluatorHoldout: Processed 13648 (100.0%) in 9.19 min. Users per second: 25\n"
     ]
    },
    {
     "name": "stderr",
     "output_type": "stream",
     "text": [
      "\u001b[32m[I 2022-01-04 15:44:29,744]\u001b[0m Trial 23 finished with value: -0.23819645066897258 and parameters: {'alpha': 0.8051717720743525, 'beta': 0.2588543388758707, 'gamma': 0.42015248735500493}. Best is trial 12 with value: -0.25014232854630636.\u001b[0m\n"
     ]
    },
    {
     "name": "stdout",
     "output_type": "stream",
     "text": [
      "-0.23819645066897258\n",
      "CURRENT CONFIGURATION:\n",
      "SLIMElasticNetRecommender with weight alpha: 0.7808907684792781\n",
      "SLIM_BPR_Recommender with weight beta: 0.11080082791861579\n",
      "ItemKNNCBFRecommender with weight gamma: 0.10830840360210606\n",
      "EvaluatorHoldout: Processed 8000 (58.6%) in 5.53 min. Users per second: 24\n",
      "EvaluatorHoldout: Processed 13648 (100.0%) in 9.10 min. Users per second: 25\n"
     ]
    },
    {
     "name": "stderr",
     "output_type": "stream",
     "text": [
      "\u001b[32m[I 2022-01-04 15:53:36,159]\u001b[0m Trial 24 finished with value: -0.2426390575280522 and parameters: {'alpha': 0.7171483514846668, 'beta': 0.10175639704348757, 'gamma': 0.09946742390929861}. Best is trial 12 with value: -0.25014232854630636.\u001b[0m\n"
     ]
    },
    {
     "name": "stdout",
     "output_type": "stream",
     "text": [
      "-0.2426390575280522\n",
      "CURRENT CONFIGURATION:\n",
      "SLIMElasticNetRecommender with weight alpha: 0.5260286090652673\n",
      "SLIM_BPR_Recommender with weight beta: 0.1226834533678542\n",
      "ItemKNNCBFRecommender with weight gamma: 0.35128793756687854\n",
      "EvaluatorHoldout: Processed 8000 (58.6%) in 5.54 min. Users per second: 24\n",
      "EvaluatorHoldout: Processed 13648 (100.0%) in 9.08 min. Users per second: 25\n"
     ]
    },
    {
     "name": "stderr",
     "output_type": "stream",
     "text": [
      "\u001b[32m[I 2022-01-04 16:02:41,185]\u001b[0m Trial 25 finished with value: -0.24035950380543072 and parameters: {'alpha': 0.9962445910298128, 'beta': 0.23234996104825578, 'gamma': 0.6653035627033714}. Best is trial 12 with value: -0.25014232854630636.\u001b[0m\n"
     ]
    },
    {
     "name": "stdout",
     "output_type": "stream",
     "text": [
      "-0.24035950380543072\n",
      "CURRENT CONFIGURATION:\n",
      "SLIMElasticNetRecommender with weight alpha: 0.6455162362165091\n",
      "SLIM_BPR_Recommender with weight beta: 0.0017556140106534603\n",
      "ItemKNNCBFRecommender with weight gamma: 0.35272814977283734\n",
      "EvaluatorHoldout: Processed 8000 (58.6%) in 5.59 min. Users per second: 24\n",
      "EvaluatorHoldout: Processed 13648 (100.0%) in 9.17 min. Users per second: 25\n"
     ]
    },
    {
     "name": "stderr",
     "output_type": "stream",
     "text": [
      "\u001b[32m[I 2022-01-04 16:11:51,600]\u001b[0m Trial 26 finished with value: -0.24684663663726591 and parameters: {'alpha': 0.8171676404887693, 'beta': 0.0022224552663513975, 'gamma': 0.44652328433015953}. Best is trial 12 with value: -0.25014232854630636.\u001b[0m\n"
     ]
    },
    {
     "name": "stdout",
     "output_type": "stream",
     "text": [
      "-0.24684663663726591\n",
      "CURRENT CONFIGURATION:\n",
      "SLIMElasticNetRecommender with weight alpha: 0.5690416139471745\n",
      "SLIM_BPR_Recommender with weight beta: 0.10296170837974342\n",
      "ItemKNNCBFRecommender with weight gamma: 0.32799667767308205\n",
      "EvaluatorHoldout: Processed 8000 (58.6%) in 5.61 min. Users per second: 24\n",
      "EvaluatorHoldout: Processed 13648 (100.0%) in 9.18 min. Users per second: 25\n"
     ]
    },
    {
     "name": "stderr",
     "output_type": "stream",
     "text": [
      "\u001b[32m[I 2022-01-04 16:21:02,431]\u001b[0m Trial 27 finished with value: -0.24208239418764824 and parameters: {'alpha': 0.5942095165933722, 'beta': 0.1075155585539209, 'gamma': 0.3425035050291544}. Best is trial 12 with value: -0.25014232854630636.\u001b[0m\n"
     ]
    },
    {
     "name": "stdout",
     "output_type": "stream",
     "text": [
      "-0.24208239418764824\n",
      "CURRENT CONFIGURATION:\n",
      "SLIMElasticNetRecommender with weight alpha: 0.6827100454443628\n",
      "SLIM_BPR_Recommender with weight beta: 0.24771534112305335\n",
      "ItemKNNCBFRecommender with weight gamma: 0.06957461343258385\n",
      "EvaluatorHoldout: Processed 8000 (58.6%) in 5.54 min. Users per second: 24\n",
      "EvaluatorHoldout: Processed 13648 (100.0%) in 9.11 min. Users per second: 25\n"
     ]
    },
    {
     "name": "stderr",
     "output_type": "stream",
     "text": [
      "\u001b[32m[I 2022-01-04 16:30:09,161]\u001b[0m Trial 28 pruned. \u001b[0m\n"
     ]
    },
    {
     "name": "stdout",
     "output_type": "stream",
     "text": [
      "-0.23644242600811274\n",
      "CURRENT CONFIGURATION:\n",
      "SLIMElasticNetRecommender with weight alpha: 0.48528915528081035\n",
      "SLIM_BPR_Recommender with weight beta: 0.1965884589462192\n",
      "ItemKNNCBFRecommender with weight gamma: 0.31812238577297053\n",
      "EvaluatorHoldout: Processed 8000 (58.6%) in 5.52 min. Users per second: 24\n",
      "EvaluatorHoldout: Processed 13648 (100.0%) in 9.12 min. Users per second: 25\n"
     ]
    },
    {
     "name": "stderr",
     "output_type": "stream",
     "text": [
      "\u001b[32m[I 2022-01-04 16:39:16,850]\u001b[0m Trial 29 pruned. \u001b[0m\n"
     ]
    },
    {
     "name": "stdout",
     "output_type": "stream",
     "text": [
      "-0.23691403705874528\n",
      "CURRENT CONFIGURATION:\n",
      "SLIMElasticNetRecommender with weight alpha: 0.7509826296815317\n",
      "SLIM_BPR_Recommender with weight beta: 0.08720775918350862\n",
      "ItemKNNCBFRecommender with weight gamma: 0.16180961113495965\n",
      "EvaluatorHoldout: Processed 8000 (58.6%) in 5.51 min. Users per second: 24\n",
      "EvaluatorHoldout: Processed 13648 (100.0%) in 9.08 min. Users per second: 25\n"
     ]
    },
    {
     "name": "stderr",
     "output_type": "stream",
     "text": [
      "\u001b[32m[I 2022-01-04 16:48:21,867]\u001b[0m Trial 30 finished with value: -0.2445961353718898 and parameters: {'alpha': 0.6973014785193512, 'beta': 0.08097404255915713, 'gamma': 0.15024326345723382}. Best is trial 12 with value: -0.25014232854630636.\u001b[0m\n"
     ]
    },
    {
     "name": "stdout",
     "output_type": "stream",
     "text": [
      "-0.2445961353718898\n",
      "CURRENT CONFIGURATION:\n",
      "SLIMElasticNetRecommender with weight alpha: 0.7274119778287004\n",
      "SLIM_BPR_Recommender with weight beta: 0.020429830531146578\n",
      "ItemKNNCBFRecommender with weight gamma: 0.25215819164015313\n",
      "EvaluatorHoldout: Processed 8000 (58.6%) in 5.46 min. Users per second: 24\n",
      "EvaluatorHoldout: Processed 13648 (100.0%) in 9.06 min. Users per second: 25\n"
     ]
    },
    {
     "name": "stderr",
     "output_type": "stream",
     "text": [
      "\u001b[32m[I 2022-01-04 16:57:25,966]\u001b[0m Trial 31 finished with value: -0.24980180246189862 and parameters: {'alpha': 0.7613616232803935, 'beta': 0.021383328032302567, 'gamma': 0.26392687495146816}. Best is trial 12 with value: -0.25014232854630636.\u001b[0m\n"
     ]
    },
    {
     "name": "stdout",
     "output_type": "stream",
     "text": [
      "-0.24980180246189862\n",
      "CURRENT CONFIGURATION:\n",
      "SLIMElasticNetRecommender with weight alpha: 0.6012993914359717\n",
      "SLIM_BPR_Recommender with weight beta: 0.16093631271959863\n",
      "ItemKNNCBFRecommender with weight gamma: 0.2377642958444296\n",
      "EvaluatorHoldout: Processed 8000 (58.6%) in 5.44 min. Users per second: 24\n",
      "EvaluatorHoldout: Processed 13648 (100.0%) in 9.00 min. Users per second: 25\n"
     ]
    },
    {
     "name": "stderr",
     "output_type": "stream",
     "text": [
      "\u001b[32m[I 2022-01-04 17:06:26,353]\u001b[0m Trial 32 finished with value: -0.23903715469677467 and parameters: {'alpha': 0.6081524689514182, 'beta': 0.1627705221697091, 'gamma': 0.24047412255144854}. Best is trial 12 with value: -0.25014232854630636.\u001b[0m\n"
     ]
    },
    {
     "name": "stdout",
     "output_type": "stream",
     "text": [
      "-0.23903715469677467\n",
      "CURRENT CONFIGURATION:\n",
      "SLIMElasticNetRecommender with weight alpha: 0.6166058023109732\n",
      "SLIM_BPR_Recommender with weight beta: 0.0661209458013637\n",
      "ItemKNNCBFRecommender with weight gamma: 0.31727325188766314\n",
      "EvaluatorHoldout: Processed 8000 (58.6%) in 5.49 min. Users per second: 24\n",
      "EvaluatorHoldout: Processed 13648 (100.0%) in 9.04 min. Users per second: 25\n"
     ]
    },
    {
     "name": "stderr",
     "output_type": "stream",
     "text": [
      "\u001b[32m[I 2022-01-04 17:15:28,935]\u001b[0m Trial 33 finished with value: -0.24557773160553864 and parameters: {'alpha': 0.7215310118225735, 'beta': 0.07737246835485134, 'gamma': 0.37126230340481164}. Best is trial 12 with value: -0.25014232854630636.\u001b[0m\n"
     ]
    },
    {
     "name": "stdout",
     "output_type": "stream",
     "text": [
      "-0.24557773160553864\n",
      "CURRENT CONFIGURATION:\n",
      "SLIMElasticNetRecommender with weight alpha: 0.638525469971543\n",
      "SLIM_BPR_Recommender with weight beta: 0.005632486896091208\n",
      "ItemKNNCBFRecommender with weight gamma: 0.3558420431323657\n",
      "EvaluatorHoldout: Processed 8000 (58.6%) in 5.48 min. Users per second: 24\n",
      "EvaluatorHoldout: Processed 13648 (100.0%) in 9.08 min. Users per second: 25\n"
     ]
    },
    {
     "name": "stderr",
     "output_type": "stream",
     "text": [
      "\u001b[32m[I 2022-01-04 17:24:33,979]\u001b[0m Trial 34 finished with value: -0.2478939498083333 and parameters: {'alpha': 0.9169432371970765, 'beta': 0.008088433446832055, 'gamma': 0.5110006887824767}. Best is trial 12 with value: -0.25014232854630636.\u001b[0m\n"
     ]
    },
    {
     "name": "stdout",
     "output_type": "stream",
     "text": [
      "-0.2478939498083333\n",
      "CURRENT CONFIGURATION:\n",
      "SLIMElasticNetRecommender with weight alpha: 0.623455234474815\n",
      "SLIM_BPR_Recommender with weight beta: 0.15288551704835762\n",
      "ItemKNNCBFRecommender with weight gamma: 0.22365924847682742\n",
      "EvaluatorHoldout: Processed 8000 (58.6%) in 5.50 min. Users per second: 24\n",
      "EvaluatorHoldout: Processed 13648 (100.0%) in 9.05 min. Users per second: 25\n"
     ]
    },
    {
     "name": "stderr",
     "output_type": "stream",
     "text": [
      "\u001b[32m[I 2022-01-04 17:33:37,268]\u001b[0m Trial 35 finished with value: -0.23938769155082848 and parameters: {'alpha': 0.7967256395239714, 'beta': 0.19537539282497798, 'gamma': 0.28581852862019635}. Best is trial 12 with value: -0.25014232854630636.\u001b[0m\n"
     ]
    },
    {
     "name": "stdout",
     "output_type": "stream",
     "text": [
      "-0.23938769155082848\n",
      "CURRENT CONFIGURATION:\n",
      "SLIMElasticNetRecommender with weight alpha: 0.39123596788796\n",
      "SLIM_BPR_Recommender with weight beta: 0.499455768814884\n",
      "ItemKNNCBFRecommender with weight gamma: 0.10930826329715607\n",
      "EvaluatorHoldout: Processed 8000 (58.6%) in 5.58 min. Users per second: 24\n",
      "EvaluatorHoldout: Processed 13648 (100.0%) in 9.10 min. Users per second: 25\n"
     ]
    },
    {
     "name": "stderr",
     "output_type": "stream",
     "text": [
      "\u001b[32m[I 2022-01-04 17:42:43,378]\u001b[0m Trial 36 pruned. \u001b[0m\n"
     ]
    },
    {
     "name": "stdout",
     "output_type": "stream",
     "text": [
      "-0.23177620071084243\n",
      "CURRENT CONFIGURATION:\n",
      "SLIMElasticNetRecommender with weight alpha: 0.5990779959950739\n",
      "SLIM_BPR_Recommender with weight beta: 0.04716761758458691\n",
      "ItemKNNCBFRecommender with weight gamma: 0.3537543864203392\n",
      "EvaluatorHoldout: Processed 8000 (58.6%) in 5.56 min. Users per second: 24\n",
      "EvaluatorHoldout: Processed 13648 (100.0%) in 9.09 min. Users per second: 25\n"
     ]
    },
    {
     "name": "stderr",
     "output_type": "stream",
     "text": [
      "\u001b[32m[I 2022-01-04 17:51:49,070]\u001b[0m Trial 37 finished with value: -0.2472705751409587 and parameters: {'alpha': 0.8330196492141569, 'beta': 0.06558670576661135, 'gamma': 0.4918964756740346}. Best is trial 12 with value: -0.25014232854630636.\u001b[0m\n"
     ]
    },
    {
     "name": "stdout",
     "output_type": "stream",
     "text": [
      "-0.2472705751409587\n",
      "CURRENT CONFIGURATION:\n",
      "SLIMElasticNetRecommender with weight alpha: 0.810955518436917\n",
      "SLIM_BPR_Recommender with weight beta: 0.14253792810202498\n",
      "ItemKNNCBFRecommender with weight gamma: 0.046506553461057885\n",
      "EvaluatorHoldout: Processed 8000 (58.6%) in 5.53 min. Users per second: 24\n",
      "EvaluatorHoldout: Processed 13648 (100.0%) in 9.06 min. Users per second: 25\n"
     ]
    },
    {
     "name": "stderr",
     "output_type": "stream",
     "text": [
      "\u001b[32m[I 2022-01-04 18:00:53,138]\u001b[0m Trial 38 finished with value: -0.2408631097759539 and parameters: {'alpha': 0.7624163530681645, 'beta': 0.13400642186503803, 'gamma': 0.04372293680409495}. Best is trial 12 with value: -0.25014232854630636.\u001b[0m\n"
     ]
    },
    {
     "name": "stdout",
     "output_type": "stream",
     "text": [
      "-0.2408631097759539\n",
      "CURRENT CONFIGURATION:\n",
      "SLIMElasticNetRecommender with weight alpha: 0.5169247375590792\n",
      "SLIM_BPR_Recommender with weight beta: 0.3115112157689177\n",
      "ItemKNNCBFRecommender with weight gamma: 0.17156404667200315\n",
      "EvaluatorHoldout: Processed 8000 (58.6%) in 5.56 min. Users per second: 24\n",
      "EvaluatorHoldout: Processed 13648 (100.0%) in 9.03 min. Users per second: 25\n"
     ]
    },
    {
     "name": "stderr",
     "output_type": "stream",
     "text": [
      "\u001b[32m[I 2022-01-04 18:09:55,215]\u001b[0m Trial 39 pruned. \u001b[0m\n"
     ]
    },
    {
     "name": "stdout",
     "output_type": "stream",
     "text": [
      "-0.23438989258266812\n",
      "CURRENT CONFIGURATION:\n",
      "SLIMElasticNetRecommender with weight alpha: 0.44726557720579174\n",
      "SLIM_BPR_Recommender with weight beta: 0.4006736138775844\n",
      "ItemKNNCBFRecommender with weight gamma: 0.15206080891662388\n",
      "EvaluatorHoldout: Processed 8000 (58.6%) in 5.48 min. Users per second: 24\n",
      "EvaluatorHoldout: Processed 13648 (100.0%) in 9.06 min. Users per second: 25\n"
     ]
    },
    {
     "name": "stderr",
     "output_type": "stream",
     "text": [
      "\u001b[32m[I 2022-01-04 18:18:58,973]\u001b[0m Trial 40 pruned. \u001b[0m\n"
     ]
    },
    {
     "name": "stdout",
     "output_type": "stream",
     "text": [
      "-0.23290799047246807\n",
      "CURRENT CONFIGURATION:\n",
      "SLIMElasticNetRecommender with weight alpha: 0.7492460409182327\n",
      "SLIM_BPR_Recommender with weight beta: 0.00029890607688633686\n",
      "ItemKNNCBFRecommender with weight gamma: 0.2504550530048809\n",
      "EvaluatorHoldout: Processed 8000 (58.6%) in 5.49 min. Users per second: 24\n",
      "EvaluatorHoldout: Processed 13648 (100.0%) in 9.09 min. Users per second: 25\n"
     ]
    },
    {
     "name": "stderr",
     "output_type": "stream",
     "text": [
      "\u001b[32m[I 2022-01-04 18:28:04,500]\u001b[0m Trial 41 finished with value: -0.24809413321795992 and parameters: {'alpha': 0.8546626921686942, 'beta': 0.000340961257618629, 'gamma': 0.2856933212567551}. Best is trial 12 with value: -0.25014232854630636.\u001b[0m\n"
     ]
    },
    {
     "name": "stdout",
     "output_type": "stream",
     "text": [
      "-0.24809413321795992\n",
      "CURRENT CONFIGURATION:\n",
      "SLIMElasticNetRecommender with weight alpha: 0.6262575453722234\n",
      "SLIM_BPR_Recommender with weight beta: 0.05537142589299682\n",
      "ItemKNNCBFRecommender with weight gamma: 0.31837102873477974\n",
      "EvaluatorHoldout: Processed 8000 (58.6%) in 5.48 min. Users per second: 24\n",
      "EvaluatorHoldout: Processed 13648 (100.0%) in 9.07 min. Users per second: 25\n"
     ]
    },
    {
     "name": "stderr",
     "output_type": "stream",
     "text": [
      "\u001b[32m[I 2022-01-04 18:37:08,615]\u001b[0m Trial 42 finished with value: -0.24652124155641192 and parameters: {'alpha': 0.7692562260966416, 'beta': 0.06801485176632861, 'gamma': 0.39106737774705397}. Best is trial 12 with value: -0.25014232854630636.\u001b[0m\n"
     ]
    },
    {
     "name": "stdout",
     "output_type": "stream",
     "text": [
      "-0.24652124155641192\n",
      "CURRENT CONFIGURATION:\n",
      "SLIMElasticNetRecommender with weight alpha: 0.7557091707614774\n",
      "SLIM_BPR_Recommender with weight beta: 0.03651395296498433\n",
      "ItemKNNCBFRecommender with weight gamma: 0.20777687627353827\n",
      "EvaluatorHoldout: Processed 8000 (58.6%) in 5.46 min. Users per second: 24\n",
      "EvaluatorHoldout: Processed 13648 (100.0%) in 9.00 min. Users per second: 25\n"
     ]
    },
    {
     "name": "stderr",
     "output_type": "stream",
     "text": [
      "\u001b[32m[I 2022-01-04 18:46:08,715]\u001b[0m Trial 43 finished with value: -0.2490993592874825 and parameters: {'alpha': 0.7447773016801866, 'beta': 0.03598575274074806, 'gamma': 0.20477123640912703}. Best is trial 12 with value: -0.25014232854630636.\u001b[0m\n"
     ]
    },
    {
     "name": "stdout",
     "output_type": "stream",
     "text": [
      "-0.2490993592874825\n",
      "CURRENT CONFIGURATION:\n",
      "SLIMElasticNetRecommender with weight alpha: 0.7945155687924652\n",
      "SLIM_BPR_Recommender with weight beta: 0.06029108569260443\n",
      "ItemKNNCBFRecommender with weight gamma: 0.14519334551493035\n",
      "EvaluatorHoldout: Processed 8000 (58.6%) in 5.49 min. Users per second: 24\n",
      "EvaluatorHoldout: Processed 13648 (100.0%) in 9.11 min. Users per second: 25\n"
     ]
    },
    {
     "name": "stderr",
     "output_type": "stream",
     "text": [
      "\u001b[32m[I 2022-01-04 18:55:15,296]\u001b[0m Trial 44 finished with value: -0.24702971189452805 and parameters: {'alpha': 0.6950652959023125, 'beta': 0.052744392889484175, 'gamma': 0.12701935572736736}. Best is trial 12 with value: -0.25014232854630636.\u001b[0m\n"
     ]
    },
    {
     "name": "stdout",
     "output_type": "stream",
     "text": [
      "-0.24702971189452805\n",
      "CURRENT CONFIGURATION:\n",
      "SLIMElasticNetRecommender with weight alpha: 0.6371097757217868\n",
      "SLIM_BPR_Recommender with weight beta: 0.2810098946591268\n",
      "ItemKNNCBFRecommender with weight gamma: 0.08188032961908634\n",
      "EvaluatorHoldout: Processed 8000 (58.6%) in 5.43 min. Users per second: 25\n",
      "EvaluatorHoldout: Processed 13648 (100.0%) in 9.04 min. Users per second: 25\n"
     ]
    },
    {
     "name": "stderr",
     "output_type": "stream",
     "text": [
      "\u001b[32m[I 2022-01-04 19:04:18,171]\u001b[0m Trial 45 pruned. \u001b[0m\n"
     ]
    },
    {
     "name": "stdout",
     "output_type": "stream",
     "text": [
      "-0.23562881182660514\n",
      "CURRENT CONFIGURATION:\n",
      "SLIMElasticNetRecommender with weight alpha: 0.6637451592604473\n",
      "SLIM_BPR_Recommender with weight beta: 0.13053285319136387\n",
      "ItemKNNCBFRecommender with weight gamma: 0.20572198754818868\n",
      "EvaluatorHoldout: Processed 8000 (58.6%) in 5.50 min. Users per second: 24\n",
      "EvaluatorHoldout: Processed 13648 (100.0%) in 9.08 min. Users per second: 25\n"
     ]
    },
    {
     "name": "stderr",
     "output_type": "stream",
     "text": [
      "\u001b[32m[I 2022-01-04 19:13:23,359]\u001b[0m Trial 46 finished with value: -0.24072107489439687 and parameters: {'alpha': 0.61914182749995, 'beta': 0.1217611129002168, 'gamma': 0.19189757627675336}. Best is trial 12 with value: -0.25014232854630636.\u001b[0m\n"
     ]
    },
    {
     "name": "stdout",
     "output_type": "stream",
     "text": [
      "-0.24072107489439687\n",
      "CURRENT CONFIGURATION:\n",
      "SLIMElasticNetRecommender with weight alpha: 0.5889958354753985\n",
      "SLIM_BPR_Recommender with weight beta: 0.027135033493374813\n",
      "ItemKNNCBFRecommender with weight gamma: 0.38386913103122666\n",
      "EvaluatorHoldout: Processed 8000 (58.6%) in 5.51 min. Users per second: 24\n",
      "EvaluatorHoldout: Processed 13648 (100.0%) in 9.04 min. Users per second: 25\n"
     ]
    },
    {
     "name": "stderr",
     "output_type": "stream",
     "text": [
      "\u001b[32m[I 2022-01-04 19:22:25,737]\u001b[0m Trial 47 finished with value: -0.24836348776028577 and parameters: {'alpha': 0.8899142935438689, 'beta': 0.04099834448244497, 'gamma': 0.5799881866384122}. Best is trial 12 with value: -0.25014232854630636.\u001b[0m\n"
     ]
    },
    {
     "name": "stdout",
     "output_type": "stream",
     "text": [
      "-0.24836348776028577\n",
      "CURRENT CONFIGURATION:\n",
      "SLIMElasticNetRecommender with weight alpha: 0.4308390833612124\n",
      "SLIM_BPR_Recommender with weight beta: 0.41868698327597825\n",
      "ItemKNNCBFRecommender with weight gamma: 0.15047393336280943\n",
      "EvaluatorHoldout: Processed 8000 (58.6%) in 5.56 min. Users per second: 24\n",
      "EvaluatorHoldout: Processed 13648 (100.0%) in 9.10 min. Users per second: 25\n"
     ]
    },
    {
     "name": "stderr",
     "output_type": "stream",
     "text": [
      "\u001b[32m[I 2022-01-04 19:31:31,853]\u001b[0m Trial 48 pruned. \u001b[0m\n"
     ]
    },
    {
     "name": "stdout",
     "output_type": "stream",
     "text": [
      "-0.2326638329472074\n",
      "CURRENT CONFIGURATION:\n",
      "SLIMElasticNetRecommender with weight alpha: 0.8148721949713912\n",
      "SLIM_BPR_Recommender with weight beta: 0.038149119000693885\n",
      "ItemKNNCBFRecommender with weight gamma: 0.1469786860279149\n",
      "EvaluatorHoldout: Processed 8000 (58.6%) in 5.56 min. Users per second: 24\n",
      "EvaluatorHoldout: Processed 13648 (100.0%) in 9.09 min. Users per second: 25\n"
     ]
    },
    {
     "name": "stderr",
     "output_type": "stream",
     "text": [
      "\u001b[32m[I 2022-01-04 19:40:37,263]\u001b[0m Trial 49 finished with value: -0.24880291199129148 and parameters: {'alpha': 0.7391001307798533, 'beta': 0.03460176824850301, 'gamma': 0.1333116613076935}. Best is trial 12 with value: -0.25014232854630636.\u001b[0m\n"
     ]
    },
    {
     "name": "stdout",
     "output_type": "stream",
     "text": [
      "-0.24880291199129148\n",
      "CURRENT CONFIGURATION:\n",
      "SLIMElasticNetRecommender with weight alpha: 0.7317353255930275\n",
      "SLIM_BPR_Recommender with weight beta: 0.2650014467856071\n",
      "ItemKNNCBFRecommender with weight gamma: 0.0032632276213653095\n",
      "EvaluatorHoldout: Processed 8000 (58.6%) in 5.55 min. Users per second: 24\n",
      "EvaluatorHoldout: Processed 13648 (100.0%) in 9.08 min. Users per second: 25\n"
     ]
    },
    {
     "name": "stderr",
     "output_type": "stream",
     "text": [
      "\u001b[32m[I 2022-01-04 19:49:42,289]\u001b[0m Trial 50 pruned. \u001b[0m\n"
     ]
    },
    {
     "name": "stdout",
     "output_type": "stream",
     "text": [
      "-0.23624739772325423\n",
      "CURRENT CONFIGURATION:\n",
      "SLIMElasticNetRecommender with weight alpha: 0.8230897712773247\n",
      "SLIM_BPR_Recommender with weight beta: 0.041204707398342734\n",
      "ItemKNNCBFRecommender with weight gamma: 0.13570552132433242\n",
      "EvaluatorHoldout: Processed 8000 (58.6%) in 5.52 min. Users per second: 24\n",
      "EvaluatorHoldout: Processed 13648 (100.0%) in 9.01 min. Users per second: 25\n"
     ]
    },
    {
     "name": "stderr",
     "output_type": "stream",
     "text": [
      "\u001b[32m[I 2022-01-04 19:58:43,277]\u001b[0m Trial 51 finished with value: -0.24841115739965378 and parameters: {'alpha': 0.8313645756719049, 'beta': 0.04161895248527665, 'gamma': 0.13706981557680592}. Best is trial 12 with value: -0.25014232854630636.\u001b[0m\n"
     ]
    },
    {
     "name": "stdout",
     "output_type": "stream",
     "text": [
      "-0.24841115739965378\n",
      "CURRENT CONFIGURATION:\n",
      "SLIMElasticNetRecommender with weight alpha: 0.725959050082978\n",
      "SLIM_BPR_Recommender with weight beta: 0.08962746458388059\n",
      "ItemKNNCBFRecommender with weight gamma: 0.18441348533314134\n",
      "EvaluatorHoldout: Processed 8000 (58.6%) in 5.49 min. Users per second: 24\n",
      "EvaluatorHoldout: Processed 13648 (100.0%) in 9.07 min. Users per second: 25\n"
     ]
    },
    {
     "name": "stderr",
     "output_type": "stream",
     "text": [
      "\u001b[32m[I 2022-01-04 20:07:47,427]\u001b[0m Trial 52 finished with value: -0.24424324919983562 and parameters: {'alpha': 0.7330676945350073, 'beta': 0.09050510331404152, 'gamma': 0.18621927575512587}. Best is trial 12 with value: -0.25014232854630636.\u001b[0m\n"
     ]
    },
    {
     "name": "stdout",
     "output_type": "stream",
     "text": [
      "-0.24424324919983562\n",
      "CURRENT CONFIGURATION:\n",
      "SLIMElasticNetRecommender with weight alpha: 0.7022214222447007\n",
      "SLIM_BPR_Recommender with weight beta: 0.03155069029568316\n",
      "ItemKNNCBFRecommender with weight gamma: 0.2662278874596161\n",
      "EvaluatorHoldout: Processed 8000 (58.6%) in 5.50 min. Users per second: 24\n",
      "EvaluatorHoldout: Processed 13648 (100.0%) in 9.12 min. Users per second: 25\n"
     ]
    },
    {
     "name": "stderr",
     "output_type": "stream",
     "text": [
      "\u001b[32m[I 2022-01-04 20:16:54,927]\u001b[0m Trial 53 finished with value: -0.24897638063138458 and parameters: {'alpha': 0.6761727064233711, 'beta': 0.030380325878642284, 'gamma': 0.25635223518745875}. Best is trial 12 with value: -0.25014232854630636.\u001b[0m\n"
     ]
    },
    {
     "name": "stdout",
     "output_type": "stream",
     "text": [
      "-0.24897638063138458\n",
      "CURRENT CONFIGURATION:\n",
      "SLIMElasticNetRecommender with weight alpha: 0.5580849435926482\n",
      "SLIM_BPR_Recommender with weight beta: 0.13056064089910713\n",
      "ItemKNNCBFRecommender with weight gamma: 0.3113544155082447\n",
      "EvaluatorHoldout: Processed 8000 (58.6%) in 5.47 min. Users per second: 24\n",
      "EvaluatorHoldout: Processed 13648 (100.0%) in 9.13 min. Users per second: 25\n"
     ]
    },
    {
     "name": "stderr",
     "output_type": "stream",
     "text": [
      "\u001b[32m[I 2022-01-04 20:26:03,030]\u001b[0m Trial 54 finished with value: -0.23992979086417635 and parameters: {'alpha': 0.5645466126687033, 'beta': 0.13207230980459098, 'gamma': 0.314959367086819}. Best is trial 12 with value: -0.25014232854630636.\u001b[0m\n"
     ]
    },
    {
     "name": "stdout",
     "output_type": "stream",
     "text": [
      "-0.23992979086417635\n",
      "CURRENT CONFIGURATION:\n",
      "SLIMElasticNetRecommender with weight alpha: 0.7087108663498038\n",
      "SLIM_BPR_Recommender with weight beta: 0.025335972783858223\n",
      "ItemKNNCBFRecommender with weight gamma: 0.2659531608663379\n",
      "EvaluatorHoldout: Processed 7000 (51.3%) in 5.02 min. Users per second: 23\n",
      "EvaluatorHoldout: Processed 13648 (100.0%) in 9.45 min. Users per second: 24\n"
     ]
    },
    {
     "name": "stderr",
     "output_type": "stream",
     "text": [
      "\u001b[32m[I 2022-01-04 20:35:30,526]\u001b[0m Trial 55 finished with value: -0.24947054280875935 and parameters: {'alpha': 0.6717069151095315, 'beta': 0.024013104536687854, 'gamma': 0.2520669369290901}. Best is trial 12 with value: -0.25014232854630636.\u001b[0m\n"
     ]
    },
    {
     "name": "stdout",
     "output_type": "stream",
     "text": [
      "-0.24947054280875935\n",
      "CURRENT CONFIGURATION:\n",
      "SLIMElasticNetRecommender with weight alpha: 0.39294356884181286\n",
      "SLIM_BPR_Recommender with weight beta: 0.10100283951051837\n",
      "ItemKNNCBFRecommender with weight gamma: 0.5060535916476688\n",
      "EvaluatorHoldout: Processed 8000 (58.6%) in 5.64 min. Users per second: 24\n",
      "EvaluatorHoldout: Processed 13648 (100.0%) in 9.26 min. Users per second: 25\n"
     ]
    },
    {
     "name": "stderr",
     "output_type": "stream",
     "text": [
      "\u001b[32m[I 2022-01-04 20:44:46,488]\u001b[0m Trial 56 finished with value: -0.24073807546660805 and parameters: {'alpha': 0.6335509636022069, 'beta': 0.1628489467000504, 'gamma': 0.815920569886732}. Best is trial 12 with value: -0.25014232854630636.\u001b[0m\n"
     ]
    },
    {
     "name": "stdout",
     "output_type": "stream",
     "text": [
      "-0.24073807546660805\n",
      "CURRENT CONFIGURATION:\n",
      "SLIMElasticNetRecommender with weight alpha: 0.15060087357013513\n",
      "SLIM_BPR_Recommender with weight beta: 0.7035682292081993\n",
      "ItemKNNCBFRecommender with weight gamma: 0.1458308972216655\n",
      "EvaluatorHoldout: Processed 8000 (58.6%) in 5.67 min. Users per second: 24\n",
      "EvaluatorHoldout: Processed 13648 (100.0%) in 9.39 min. Users per second: 24\n"
     ]
    },
    {
     "name": "stderr",
     "output_type": "stream",
     "text": [
      "\u001b[32m[I 2022-01-04 20:54:09,939]\u001b[0m Trial 57 pruned. \u001b[0m\n"
     ]
    },
    {
     "name": "stdout",
     "output_type": "stream",
     "text": [
      "-0.22998697117084338\n",
      "CURRENT CONFIGURATION:\n",
      "SLIMElasticNetRecommender with weight alpha: 0.4907887514973073\n",
      "SLIM_BPR_Recommender with weight beta: 0.09308800100532472\n",
      "ItemKNNCBFRecommender with weight gamma: 0.4161232474973681\n",
      "EvaluatorHoldout: Processed 5000 (36.6%) in 5.97 min. Users per second: 14\n",
      "EvaluatorHoldout: Processed 6000 (44.0%) in 3.96 hour. Users per second: 0\n"
     ]
    }
   ],
   "source": [
    "study = optuna.create_study(direction='minimize')\n",
    "study.optimize(Objective(URM_train, recommender1, recommender2, recommender3, evaluator_validation), n_trials=500)\n",
    "\n",
    "print(study.best_params)"
   ]
  },
  {
   "cell_type": "code",
   "execution_count": null,
   "id": "b055f71c",
   "metadata": {},
   "outputs": [],
   "source": [
    "import numpy as np\n",
    "\n",
    "# TWO RECOMMENDERS\n",
    "\n",
    "def test_percentage(recommender_1, recommender_2, evaluator, step):\n",
    "    recommender = ItemKNNScoresHybridTwoRecommender_PRUNE(URM_train, recommender_1, recommender_2)\n",
    "    results = []\n",
    "    alp_space = np.linspace(0.5, 0.55, step, True)\n",
    "    for alp in alp_space:\n",
    "        recommender.fit(alpha = alp)\n",
    "        r_d, _ = evaluator.evaluateRecommender(recommender)\n",
    "        print(alp, \":\", r_d.loc[10]['MAP'])\n",
    "        results.append(r_d.loc[10]['MAP'])\n",
    "    \n",
    "    return alp_space, results"
   ]
  },
  {
   "cell_type": "code",
   "execution_count": null,
   "id": "301a9343",
   "metadata": {},
   "outputs": [],
   "source": [
    "alp_space, results = test_percentage(recommender1, recommender2, evaluator_validation, 2)"
   ]
  },
  {
   "cell_type": "code",
   "execution_count": null,
   "id": "2221ec4b",
   "metadata": {},
   "outputs": [],
   "source": [
    "import matplotlib.pyplot as plt\n",
    "\n",
    "_ = plt.figure(figsize=(16, 9))\n",
    "plt.plot(alp_space,results, label='MAP variability')\n",
    "plt.ylabel('MAP')\n",
    "plt.xlabel('User Group')\n",
    "plt.legend()\n",
    "plt.show()\n",
    "\n",
    "plt.savefig('userwise.png')"
   ]
  },
  {
   "cell_type": "code",
   "execution_count": null,
   "id": "3d773c81",
   "metadata": {},
   "outputs": [],
   "source": [
    "\n",
    "recommender1 = MultiThreadSLIM_SLIMElasticNetRecommender(URM_all)\n",
    "# recommender1.fit(**models_to_combine_best['SLIMER'])\n",
    "# recommender1.save_model(ofp + 'SLIMER_ALL/', 'SLIMER_ALL')\n",
    "recommender1.load_model(ofp + 'SLIMER_ALL/', 'SLIMER_ALL')\n",
    "\n",
    "recommender2 = SLIM_BPR_Cython(URM_all)\n",
    "# recommender2.fit(**models_to_combine_best['SLIMBPR'])\n",
    "# recommender2.save_model(ofp + 'SLIMBPR_ALL/', 'SLIMBPR_ALL')\n",
    "recommender2.load_model(ofp + 'SLIMBPR_ALL/', 'SLIMBPR_ALL')\n",
    "\n",
    "recommenderHybrid = ItemKNNScoresHybridTwoRecommender(URM_all, recommender1, recommender2)\n",
    "recommenderHybrid.fit(alpha = 0.58)\n",
    "\n",
    "recommender = recommenderHybrid\n",
    "\n",
    "import pandas as pd\n",
    "at = 10\n",
    "\n",
    "user_test_path = '../data/data_target_users_test.csv'\n",
    "user_test_dataframe = pd.read_csv(filepath_or_buffer=user_test_path,\n",
    "sep=\",\",\n",
    "dtype={0:int})\n",
    "\n",
    "subm_set = user_test_dataframe.to_numpy().T[0]\n",
    "\n",
    "\n",
    "subm_res = {\"user_id\":[], \"item_list\":[]}\n",
    "\n",
    "for user_id in subm_set:\n",
    "\tsubm_res[\"user_id\"].append(user_id)\n",
    "\tres = recommender.recommend(user_id, cutoff=at)\n",
    "\tres = ' '.join(map(str, res))\n",
    "\tif user_id < 3:\n",
    "\t\tprint(user_id)\n",
    "\t\tprint(res)\n",
    "\tsubm_res[\"item_list\"].append(res)\n",
    "\n",
    "\n",
    "\t# print(subm_res)\n",
    "\n",
    "submission = pd.DataFrame.from_dict(subm_res)\n",
    "\t# submission\n",
    "\n",
    "from datetime import datetime\n",
    "\n",
    "now = datetime.now() # current date and time\n",
    "\n",
    "\n",
    "submission.to_csv('../subs/submission {:%Y_%m_%d %H_%M_%S}.csv'.format(now), index=False)\n",
    "\n"
   ]
  },
  {
   "cell_type": "code",
   "execution_count": null,
   "id": "ed47bc68",
   "metadata": {},
   "outputs": [],
   "source": [
    "from Recommenders.SLIM.SLIMElasticNetRecommender import MultiThreadSLIM_SLIMElasticNetRecommender\n",
    "CFrecommender = MultiThreadSLIM_SLIMElasticNetRecommender(URM_train)\n",
    "CFrecommender.load_model('../result_experiments/BEST_SLIM_PURECF/', file_name = CFrecommender.RECOMMENDER_NAME + \"_my_own_save.zip\")\n",
    "\n",
    "from Recommenders.FeatureWeighting.CFW_D_Similarity_Linalg import CFW_D_Similarity_Linalg\n",
    "FW_recommender = CFW_D_Similarity_Linalg(URM_train, ICM_stacked, CFrecommender.W_sparse)\n",
    "FW_recommender.load_model('../result_experiments/BEST_FW/', file_name = FW_recommender.RECOMMENDER_NAME + \"_my_own_save.zip\")"
   ]
  },
  {
   "cell_type": "code",
   "execution_count": null,
   "id": "08996bc8",
   "metadata": {},
   "outputs": [],
   "source": [
    "import scipy.sparse as sps\n",
    "ICM_length_all_5km = ld.getICMlength('5km')\n",
    "ICM_stacked = sps.hstack((ICM_genre_all, ICM_subgenre_all, ICM_channel_all, ICM_length_all_5km))"
   ]
  },
  {
   "cell_type": "code",
   "execution_count": null,
   "id": "98701678",
   "metadata": {},
   "outputs": [],
   "source": [
    "import pandas as pd\n",
    "argsort_features = np.argsort(-FW_recommender.D_best)\n",
    "\n",
    "selection_quota = 0.1\n",
    "        \n",
    "n_to_select = int(selection_quota*len(argsort_features))\n",
    "selected_features = argsort_features[:n_to_select]\n",
    "        \n",
    "ICM_selected = ICM_stacked.todense()[:,selected_features]\n",
    "pd.DataFrame(ICM_selected).to_csv('ICM_selected_1.csv', index=False, header=True)\n"
   ]
  },
  {
   "cell_type": "code",
   "execution_count": null,
   "id": "7b73d27a",
   "metadata": {},
   "outputs": [],
   "source": [
    "import scipy.sparse as sps\n",
    "import pandas as pd\n",
    "URM_all, ICM_genre_all, ICM_subgenre_all, ICM_channel_all, _ = ld.getCOOs()\n",
    "ICM_length_all_5km = ld.getICMlength('5km')\n",
    "pd.DataFrame(sps.hstack([ICM_genre_all, ICM_subgenre_all, ICM_channel_all, ICM_length_all_5km]).todense()).to_csv('ICM_ALL.csv', index=False, header=True)"
   ]
  },
  {
   "cell_type": "code",
   "execution_count": null,
   "id": "0b8046ee",
   "metadata": {},
   "outputs": [],
   "source": [
    "recommender1 = recommender1 = MultiThreadSLIM_SLIMElasticNetRecommender(URM_train)\n",
    "model_init(recommender1, 'SLIMER', models_to_combine_best['SLIMER'])\n",
    "rank_models(evaluator_validation, [recommender1])\n",
    "recommender1.fit(**models_to_combine_best['SLIMER'])\n",
    "rank_models(evaluator_validation, [recommender1])\n",
    "\n",
    "# recommender1.save_model(ofp + 'SLIMER_ALL/', 'SLIMER_ALL')\n",
    "# recommender1.load_model(ofp + 'SLIMER_ALL/', 'SLIMER_ALL')"
   ]
  },
  {
   "cell_type": "code",
   "execution_count": null,
   "id": "4d02cad9",
   "metadata": {},
   "outputs": [],
   "source": []
  }
 ],
 "metadata": {
  "kernelspec": {
   "display_name": "Python 3",
   "language": "python",
   "name": "python3"
  },
  "language_info": {
   "codemirror_mode": {
    "name": "ipython",
    "version": 3
   },
   "file_extension": ".py",
   "mimetype": "text/x-python",
   "name": "python",
   "nbconvert_exporter": "python",
   "pygments_lexer": "ipython3",
   "version": "3.8.8"
  }
 },
 "nbformat": 4,
 "nbformat_minor": 5
}
