{
 "cells": [
  {
   "cell_type": "code",
   "execution_count": 7,
   "id": "1db85cc3",
   "metadata": {},
   "outputs": [],
   "source": [
    "import sys\n",
    "import pandas as pd\n",
    "from scipy.sparse import *\n",
    "\n",
    "sys.path.append('../RecSysRep/')"
   ]
  },
  {
   "cell_type": "code",
   "execution_count": 2,
   "id": "96b11edb",
   "metadata": {},
   "outputs": [],
   "source": [
    "import Basics.Load as ld\n",
    "\n",
    "URM_all, _, _, _, _ = ld.getCOOs()\n",
    "ICM_all = ld.getICMselected()"
   ]
  },
  {
   "cell_type": "code",
   "execution_count": 5,
   "id": "e9409229",
   "metadata": {},
   "outputs": [
    {
     "name": "stdout",
     "output_type": "stream",
     "text": [
      "Warning: 7 (0.05 %) of 13650 users have no sampled items\n"
     ]
    }
   ],
   "source": [
    "import numpy as np\n",
    "from Evaluation.Evaluator import EvaluatorHoldout\n",
    "from Data_manager.split_functions.split_train_validation_random_holdout import split_train_in_two_percentage_global_sample\n",
    "\n",
    "#URM_train_validation, URM_test = split_train_in_two_percentage_global_sample(URM_all, train_percentage = 0.8)\n",
    "URM_train, URM_validation = split_train_in_two_percentage_global_sample(URM_all, train_percentage = 0.8, seed=1234)"
   ]
  },
  {
   "cell_type": "code",
   "execution_count": 4,
   "id": "8f7e6a8b",
   "metadata": {},
   "outputs": [],
   "source": [
    "from Recommenders.NonPersonalizedRecommender import TopPop\n",
    "from Recommenders.NonPersonalizedRecommender import GlobalEffects\n",
    "from Recommenders.KNN.ItemKNNCBFRecommender import ItemKNNCBFRecommender\n",
    "from Recommenders.SLIM.Cython.SLIM_BPR_Cython import SLIM_BPR_Cython\n",
    "from Recommenders.SLIM.Cython.SLIM_BPR_Cython import SLIM_BPR_Cython_Hybrid\n",
    "from Recommenders.SLIM.SLIMElasticNetRecommender import MultiThreadSLIM_SLIMElasticNetRecommender\n",
    "from Recommenders.SLIM.SLIMElasticNetRecommender import MultiThreadSLIM_SLIM_S_ElasticNetRecommender\n",
    "from Recommenders.GraphBased.P3alphaRecommender import P3alphaRecommender\n",
    "from Recommenders.GraphBased.RP3betaRecommender import RP3betaRecommender\n",
    "from Recommenders.GraphBased.RP3betaRecommender import RP3betaRecommenderICM\n",
    "from Recommenders.MatrixFactorization.IALSRecommender import IALSRecommender\n",
    "from Recommenders.MatrixFactorization.IALSRecommender import IALSRecommender_Hybrid\n",
    "from Recommenders.MatrixFactorization.Cython.MatrixFactorization_Cython import MatrixFactorization_BPR_Cython_Hybrid\n",
    "\n",
    "# Define dictionary for all models\n",
    "collaborative_recommender_class = { \"P3alpha\": P3alphaRecommender,\n",
    "                                    \"RP3beta\": RP3betaRecommender,\n",
    "                                    \"SLIMER\" : MultiThreadSLIM_SLIMElasticNetRecommender,\n",
    "                                    \"TopPop\": TopPop,\n",
    "                                    \"SLIMBPR\": SLIM_BPR_Cython,\n",
    "                                    \"IALS\": IALSRecommender\n",
    "                                  }\n",
    "\n",
    "content_recommender_class = { \"ItemKNNCBF\": ItemKNNCBFRecommender   \n",
    "                            }\n",
    "\n",
    "hybrid_recommender_class = {\"IALSHyb\": IALSRecommender_Hybrid,\n",
    "                            \"SLIMgensub\" : MultiThreadSLIM_SLIM_S_ElasticNetRecommender,\n",
    "                            \"SLIM_BPR_Hyb\" : SLIM_BPR_Cython_Hybrid,\n",
    "                            \"MF_Hyb\" : MatrixFactorization_BPR_Cython_Hybrid,\n",
    "                            \"RP3ICM\" : RP3betaRecommenderICM\n",
    "                            }"
   ]
  },
  {
   "cell_type": "code",
   "execution_count": 9,
   "id": "ab522a18",
   "metadata": {},
   "outputs": [
    {
     "name": "stdout",
     "output_type": "stream",
     "text": [
      "Group 0, #users in group 1365, average p.len 52.92, median 55.0, min 5, max 90\n",
      "EvaluatorHoldout: Ignoring 13643 ( 0.1%) Users that have less than 1 test interactions\n",
      "EvaluatorHoldout: Ignoring 12285 Users\n",
      "Group 1, #users in group 1365, average p.len 118.24, median 119.0, min 90, max 143\n",
      "EvaluatorHoldout: Ignoring 13643 ( 0.1%) Users that have less than 1 test interactions\n",
      "EvaluatorHoldout: Ignoring 12285 Users\n",
      "Group 2, #users in group 1365, average p.len 164.95, median 165.0, min 143, max 185\n",
      "EvaluatorHoldout: Ignoring 13643 ( 0.1%) Users that have less than 1 test interactions\n",
      "EvaluatorHoldout: Ignoring 12285 Users\n",
      "Group 3, #users in group 1365, average p.len 206.65, median 206.0, min 185, max 228\n",
      "EvaluatorHoldout: Ignoring 13643 ( 0.1%) Users that have less than 1 test interactions\n",
      "EvaluatorHoldout: Ignoring 12285 Users\n",
      "Group 4, #users in group 1365, average p.len 250.47, median 250.0, min 228, max 272\n",
      "EvaluatorHoldout: Ignoring 13643 ( 0.1%) Users that have less than 1 test interactions\n",
      "EvaluatorHoldout: Ignoring 12285 Users\n",
      "Group 5, #users in group 1365, average p.len 294.66, median 294.0, min 272, max 319\n",
      "EvaluatorHoldout: Ignoring 13643 ( 0.1%) Users that have less than 1 test interactions\n",
      "EvaluatorHoldout: Ignoring 12285 Users\n",
      "Group 6, #users in group 1365, average p.len 344.60, median 344.0, min 319, max 373\n",
      "EvaluatorHoldout: Ignoring 13643 ( 0.1%) Users that have less than 1 test interactions\n",
      "EvaluatorHoldout: Ignoring 12285 Users\n",
      "Group 7, #users in group 1365, average p.len 410.66, median 411.0, min 373, max 452\n",
      "EvaluatorHoldout: Ignoring 13643 ( 0.1%) Users that have less than 1 test interactions\n",
      "EvaluatorHoldout: Ignoring 12285 Users\n",
      "Group 8, #users in group 1365, average p.len 508.36, median 505.0, min 452, max 577\n",
      "EvaluatorHoldout: Ignoring 13643 ( 0.1%) Users that have less than 1 test interactions\n",
      "EvaluatorHoldout: Ignoring 12285 Users\n",
      "Group 9, #users in group 1365, average p.len 746.33, median 693.0, min 578, max 1764\n",
      "EvaluatorHoldout: Ignoring 13643 ( 0.1%) Users that have less than 1 test interactions\n",
      "EvaluatorHoldout: Ignoring 12285 Users\n"
     ]
    }
   ],
   "source": [
    "profile_length = np.ediff1d(csr_matrix(URM_train).indptr)\n",
    "sorted_users = np.argsort(profile_length)\n",
    "\n",
    "n_groups = 10\n",
    "block_size = int(len(profile_length)*(n_groups/100))\n",
    "cutoff = 10\n",
    "\n",
    "evaluators = []\n",
    "\n",
    "for group_id in range(0, n_groups):\n",
    "    \n",
    "    start_pos = group_id*block_size\n",
    "    end_pos = min((group_id+1)*block_size, len(profile_length))\n",
    "\n",
    "    users_in_group = sorted_users[start_pos:end_pos]\n",
    "\n",
    "    users_in_group_p_len = profile_length[users_in_group]\n",
    "\n",
    "    print(\"Group {}, #users in group {}, average p.len {:.2f}, median {}, min {}, max {}\".format(\n",
    "        group_id, \n",
    "        users_in_group.shape[0],\n",
    "        users_in_group_p_len.mean(),\n",
    "        np.median(users_in_group_p_len),\n",
    "        users_in_group_p_len.min(),\n",
    "        users_in_group_p_len.max()))\n",
    "\n",
    "\n",
    "    users_not_in_group_flag = np.isin(sorted_users, users_in_group, invert=True)\n",
    "    users_not_in_group = sorted_users[users_not_in_group_flag]\n",
    "\n",
    "    evaluators.append(EvaluatorHoldout(URM_validation, cutoff_list=[cutoff], ignore_users=users_not_in_group))"
   ]
  },
  {
   "cell_type": "code",
   "execution_count": 24,
   "id": "b6fc1baa",
   "metadata": {},
   "outputs": [],
   "source": [
    "class TrainUserBased(object):\n",
    "        def __init__(self, URM_train, ICM_all, evaluator):\n",
    "            # Hold this implementation specific arguments as the fields of the class.\n",
    "            self.URM_train = URM_train\n",
    "            self.evaluator = evaluator\n",
    "    \n",
    "        def __call__(self, trial):\n",
    "            # Calculate an objective value by using the extra arguments.\n",
    "            \n",
    "            search_args = {\"epochs\": 3000, \n",
    "                           \"lambda_i\": trial.suggest_loguniform('lambda_i', 1e-5, 1e-2), \n",
    "                           \"lambda_j\": trial.suggest_loguniform('lambda_j', 1e-5, 1e-2), \n",
    "                           \"learning_rate\": trial.suggest_uniform('learning_rate', 4e-4, 1e-1), \n",
    "                           \"topK\": trial.suggest_int('topK', 2000, 8000), \n",
    "                           \"random_seed\": 1234, \n",
    "                           \"sgd_mode\": \"sgd\"}\n",
    "            \n",
    "            earlystopping_keywargs = {\"validation_every_n\": 18,\n",
    "                          \"stop_on_validation\": True,\n",
    "                          \"evaluator_object\": self.evaluator,\n",
    "                          \"lower_validations_allowed\": 12,\n",
    "                          \"validation_metric\": \"MAP\"\n",
    "                          }\n",
    "            \n",
    "            #omega = trial.suggest_uniform('omega', 0.1, 0.9)\n",
    "    \n",
    "            recommender = SLIM_BPR_Cython_Hybrid(URM_train, ICM_all)\n",
    "            recommender.fit(**search_args, **earlystopping_keywargs)\n",
    "            result_dict, _ = self.evaluator.evaluateRecommender(recommender)\n",
    "\n",
    "            map_v = result_dict.loc[cutoff][\"MAP\"]\n",
    "            return -map_v"
   ]
  },
  {
   "cell_type": "code",
   "execution_count": 25,
   "id": "4416a7f0",
   "metadata": {},
   "outputs": [
    {
     "name": "stderr",
     "output_type": "stream",
     "text": [
      "\u001b[32m[I 2021-12-29 11:36:45,802]\u001b[0m A new study created in memory with name: no-name-c4c553ee-602c-44b9-82fd-b49f546c7e94\u001b[0m\n"
     ]
    },
    {
     "name": "stdout",
     "output_type": "stream",
     "text": [
      "Unable to read memory status: list index out of range\n",
      "SLIM_BPR_Recommender_Hybrid: Automatic selection of fastest train mode. Unable to get current RAM status, you may be using a non-Linux operating system. Using dense matrix.\n",
      "Processed 13887 (100.0%) in 1.69 sec. BPR loss is 6.30E+00. Sample per second: 8197\n",
      "SLIM_BPR_Recommender_Hybrid: Epoch 1 of 3000. Elapsed time 1.03 sec\n",
      "Processed 13887 (100.0%) in 1.71 sec. BPR loss is 1.49E+01. Sample per second: 8133\n",
      "SLIM_BPR_Recommender_Hybrid: Epoch 2 of 3000. Elapsed time 2.04 sec\n",
      "Processed 13887 (100.0%) in 1.67 sec. BPR loss is 2.10E+01. Sample per second: 8304\n",
      "SLIM_BPR_Recommender_Hybrid: Epoch 3 of 3000. Elapsed time 3.01 sec\n",
      "Processed 13887 (100.0%) in 1.56 sec. BPR loss is 2.53E+01. Sample per second: 8904\n",
      "SLIM_BPR_Recommender_Hybrid: Epoch 4 of 3000. Elapsed time 3.89 sec\n",
      "Processed 13887 (100.0%) in 1.42 sec. BPR loss is 2.93E+01. Sample per second: 9783\n",
      "SLIM_BPR_Recommender_Hybrid: Epoch 5 of 3000. Elapsed time 4.75 sec\n",
      "Processed 13887 (100.0%) in 1.27 sec. BPR loss is 3.28E+01. Sample per second: 10946\n",
      "SLIM_BPR_Recommender_Hybrid: Epoch 6 of 3000. Elapsed time 5.60 sec\n",
      "Processed 13887 (100.0%) in 1.10 sec. BPR loss is 3.33E+01. Sample per second: 12672\n",
      "SLIM_BPR_Recommender_Hybrid: Epoch 7 of 3000. Elapsed time 6.43 sec\n",
      "Processed 13887 (100.0%) in 0.93 sec. BPR loss is 3.74E+01. Sample per second: 15011\n",
      "SLIM_BPR_Recommender_Hybrid: Epoch 8 of 3000. Elapsed time 7.26 sec\n",
      "Processed 13887 (100.0%) in 1.88 sec. BPR loss is 3.94E+01. Sample per second: 7370\n",
      "SLIM_BPR_Recommender_Hybrid: Epoch 9 of 3000. Elapsed time 8.22 sec\n",
      "Processed 13887 (100.0%) in 1.84 sec. BPR loss is 4.10E+01. Sample per second: 7541\n",
      "SLIM_BPR_Recommender_Hybrid: Epoch 10 of 3000. Elapsed time 9.18 sec\n",
      "Processed 13887 (100.0%) in 1.87 sec. BPR loss is 4.31E+01. Sample per second: 7439\n",
      "SLIM_BPR_Recommender_Hybrid: Epoch 11 of 3000. Elapsed time 10.20 sec\n",
      "Processed 13887 (100.0%) in 1.90 sec. BPR loss is 4.46E+01. Sample per second: 7297\n",
      "SLIM_BPR_Recommender_Hybrid: Epoch 12 of 3000. Elapsed time 11.24 sec\n",
      "Processed 13887 (100.0%) in 1.97 sec. BPR loss is 4.67E+01. Sample per second: 7031\n",
      "SLIM_BPR_Recommender_Hybrid: Epoch 13 of 3000. Elapsed time 12.31 sec\n",
      "Processed 13887 (100.0%) in 2.06 sec. BPR loss is 4.80E+01. Sample per second: 6744\n",
      "SLIM_BPR_Recommender_Hybrid: Epoch 14 of 3000. Elapsed time 13.39 sec\n",
      "Processed 13887 (100.0%) in 1.09 sec. BPR loss is 5.05E+01. Sample per second: 12747\n",
      "SLIM_BPR_Recommender_Hybrid: Epoch 15 of 3000. Elapsed time 14.42 sec\n",
      "Processed 13887 (100.0%) in 1.03 sec. BPR loss is 5.04E+01. Sample per second: 13480\n",
      "SLIM_BPR_Recommender_Hybrid: Epoch 16 of 3000. Elapsed time 15.36 sec\n",
      "Processed 13887 (100.0%) in 0.88 sec. BPR loss is 5.24E+01. Sample per second: 15697\n",
      "SLIM_BPR_Recommender_Hybrid: Epoch 17 of 3000. Elapsed time 16.22 sec\n",
      "Processed 13887 (100.0%) in 1.82 sec. BPR loss is 5.43E+01. Sample per second: 7613\n",
      "SLIM_BPR_Recommender_Hybrid: Validation begins...\n",
      "EvaluatorHoldout: Processed 1358 (100.0%) in 2.35 sec. Users per second: 579\n",
      "SLIM_BPR_Recommender_Hybrid: CUTOFF: 10 - MAP: 0.0751482, \n",
      "\n",
      "SLIM_BPR_Recommender_Hybrid: New best model found! Updating.\n",
      "SLIM_BPR_Recommender_Hybrid: Epoch 18 of 3000. Elapsed time 1.37 min\n",
      "Processed 13887 (100.0%) in 1.66 sec. BPR loss is 5.55E+01. Sample per second: 8356\n",
      "SLIM_BPR_Recommender_Hybrid: Epoch 19 of 3000. Elapsed time 1.38 min\n",
      "Processed 13887 (100.0%) in 1.64 sec. BPR loss is 5.63E+01. Sample per second: 8487\n",
      "SLIM_BPR_Recommender_Hybrid: Epoch 20 of 3000. Elapsed time 1.40 min\n",
      "Processed 13887 (100.0%) in 1.52 sec. BPR loss is 5.71E+01. Sample per second: 9110\n",
      "SLIM_BPR_Recommender_Hybrid: Epoch 21 of 3000. Elapsed time 1.41 min\n",
      "Processed 13887 (100.0%) in 1.32 sec. BPR loss is 5.61E+01. Sample per second: 10504\n",
      "SLIM_BPR_Recommender_Hybrid: Epoch 22 of 3000. Elapsed time 1.43 min\n",
      "Processed 13887 (100.0%) in 1.20 sec. BPR loss is 5.90E+01. Sample per second: 11618\n",
      "SLIM_BPR_Recommender_Hybrid: Epoch 23 of 3000. Elapsed time 1.44 min\n",
      "Processed 13887 (100.0%) in 1.12 sec. BPR loss is 6.23E+01. Sample per second: 12382\n",
      "SLIM_BPR_Recommender_Hybrid: Epoch 24 of 3000. Elapsed time 1.46 min\n",
      "Processed 13887 (100.0%) in 1.09 sec. BPR loss is 6.07E+01. Sample per second: 12713\n",
      "SLIM_BPR_Recommender_Hybrid: Epoch 25 of 3000. Elapsed time 1.47 min\n",
      "Processed 13887 (100.0%) in 0.96 sec. BPR loss is 6.12E+01. Sample per second: 14442"
     ]
    },
    {
     "ename": "KeyboardInterrupt",
     "evalue": "",
     "output_type": "error",
     "traceback": [
      "\u001b[1;31m---------------------------------------------------------------------------\u001b[0m",
      "\u001b[1;31mKeyboardInterrupt\u001b[0m                         Traceback (most recent call last)",
      "\u001b[1;32m~\\AppData\\Local\\Temp/ipykernel_16796/1389668511.py\u001b[0m in \u001b[0;36m<module>\u001b[1;34m\u001b[0m\n\u001b[0;32m      2\u001b[0m \u001b[1;33m\u001b[0m\u001b[0m\n\u001b[0;32m      3\u001b[0m \u001b[0mstudy\u001b[0m \u001b[1;33m=\u001b[0m \u001b[0moptuna\u001b[0m\u001b[1;33m.\u001b[0m\u001b[0mcreate_study\u001b[0m\u001b[1;33m(\u001b[0m\u001b[0mdirection\u001b[0m\u001b[1;33m=\u001b[0m\u001b[1;34m'minimize'\u001b[0m\u001b[1;33m)\u001b[0m\u001b[1;33m\u001b[0m\u001b[1;33m\u001b[0m\u001b[0m\n\u001b[1;32m----> 4\u001b[1;33m \u001b[0mstudy\u001b[0m\u001b[1;33m.\u001b[0m\u001b[0moptimize\u001b[0m\u001b[1;33m(\u001b[0m\u001b[0mTrainUserBased\u001b[0m\u001b[1;33m(\u001b[0m\u001b[0mURM_train\u001b[0m\u001b[1;33m,\u001b[0m \u001b[0mICM_all\u001b[0m\u001b[1;33m,\u001b[0m \u001b[0mevaluators\u001b[0m\u001b[1;33m[\u001b[0m\u001b[1;36m0\u001b[0m\u001b[1;33m]\u001b[0m\u001b[1;33m)\u001b[0m\u001b[1;33m,\u001b[0m \u001b[0mn_trials\u001b[0m\u001b[1;33m=\u001b[0m\u001b[1;36m500\u001b[0m\u001b[1;33m)\u001b[0m\u001b[1;33m\u001b[0m\u001b[1;33m\u001b[0m\u001b[0m\n\u001b[0m",
      "\u001b[1;32mC:\\Programmi\\Programmazione\\IDE\\Miniconda3\\envs\\recsys\\lib\\site-packages\\optuna\\study\\study.py\u001b[0m in \u001b[0;36moptimize\u001b[1;34m(self, func, n_trials, timeout, n_jobs, catch, callbacks, gc_after_trial, show_progress_bar)\u001b[0m\n\u001b[0;32m    398\u001b[0m             )\n\u001b[0;32m    399\u001b[0m \u001b[1;33m\u001b[0m\u001b[0m\n\u001b[1;32m--> 400\u001b[1;33m         _optimize(\n\u001b[0m\u001b[0;32m    401\u001b[0m             \u001b[0mstudy\u001b[0m\u001b[1;33m=\u001b[0m\u001b[0mself\u001b[0m\u001b[1;33m,\u001b[0m\u001b[1;33m\u001b[0m\u001b[1;33m\u001b[0m\u001b[0m\n\u001b[0;32m    402\u001b[0m             \u001b[0mfunc\u001b[0m\u001b[1;33m=\u001b[0m\u001b[0mfunc\u001b[0m\u001b[1;33m,\u001b[0m\u001b[1;33m\u001b[0m\u001b[1;33m\u001b[0m\u001b[0m\n",
      "\u001b[1;32mC:\\Programmi\\Programmazione\\IDE\\Miniconda3\\envs\\recsys\\lib\\site-packages\\optuna\\study\\_optimize.py\u001b[0m in \u001b[0;36m_optimize\u001b[1;34m(study, func, n_trials, timeout, n_jobs, catch, callbacks, gc_after_trial, show_progress_bar)\u001b[0m\n\u001b[0;32m     64\u001b[0m     \u001b[1;32mtry\u001b[0m\u001b[1;33m:\u001b[0m\u001b[1;33m\u001b[0m\u001b[1;33m\u001b[0m\u001b[0m\n\u001b[0;32m     65\u001b[0m         \u001b[1;32mif\u001b[0m \u001b[0mn_jobs\u001b[0m \u001b[1;33m==\u001b[0m \u001b[1;36m1\u001b[0m\u001b[1;33m:\u001b[0m\u001b[1;33m\u001b[0m\u001b[1;33m\u001b[0m\u001b[0m\n\u001b[1;32m---> 66\u001b[1;33m             _optimize_sequential(\n\u001b[0m\u001b[0;32m     67\u001b[0m                 \u001b[0mstudy\u001b[0m\u001b[1;33m,\u001b[0m\u001b[1;33m\u001b[0m\u001b[1;33m\u001b[0m\u001b[0m\n\u001b[0;32m     68\u001b[0m                 \u001b[0mfunc\u001b[0m\u001b[1;33m,\u001b[0m\u001b[1;33m\u001b[0m\u001b[1;33m\u001b[0m\u001b[0m\n",
      "\u001b[1;32mC:\\Programmi\\Programmazione\\IDE\\Miniconda3\\envs\\recsys\\lib\\site-packages\\optuna\\study\\_optimize.py\u001b[0m in \u001b[0;36m_optimize_sequential\u001b[1;34m(study, func, n_trials, timeout, catch, callbacks, gc_after_trial, reseed_sampler_rng, time_start, progress_bar)\u001b[0m\n\u001b[0;32m    161\u001b[0m \u001b[1;33m\u001b[0m\u001b[0m\n\u001b[0;32m    162\u001b[0m         \u001b[1;32mtry\u001b[0m\u001b[1;33m:\u001b[0m\u001b[1;33m\u001b[0m\u001b[1;33m\u001b[0m\u001b[0m\n\u001b[1;32m--> 163\u001b[1;33m             \u001b[0mtrial\u001b[0m \u001b[1;33m=\u001b[0m \u001b[0m_run_trial\u001b[0m\u001b[1;33m(\u001b[0m\u001b[0mstudy\u001b[0m\u001b[1;33m,\u001b[0m \u001b[0mfunc\u001b[0m\u001b[1;33m,\u001b[0m \u001b[0mcatch\u001b[0m\u001b[1;33m)\u001b[0m\u001b[1;33m\u001b[0m\u001b[1;33m\u001b[0m\u001b[0m\n\u001b[0m\u001b[0;32m    164\u001b[0m         \u001b[1;32mexcept\u001b[0m \u001b[0mException\u001b[0m\u001b[1;33m:\u001b[0m\u001b[1;33m\u001b[0m\u001b[1;33m\u001b[0m\u001b[0m\n\u001b[0;32m    165\u001b[0m             \u001b[1;32mraise\u001b[0m\u001b[1;33m\u001b[0m\u001b[1;33m\u001b[0m\u001b[0m\n",
      "\u001b[1;32mC:\\Programmi\\Programmazione\\IDE\\Miniconda3\\envs\\recsys\\lib\\site-packages\\optuna\\study\\_optimize.py\u001b[0m in \u001b[0;36m_run_trial\u001b[1;34m(study, func, catch)\u001b[0m\n\u001b[0;32m    211\u001b[0m \u001b[1;33m\u001b[0m\u001b[0m\n\u001b[0;32m    212\u001b[0m     \u001b[1;32mtry\u001b[0m\u001b[1;33m:\u001b[0m\u001b[1;33m\u001b[0m\u001b[1;33m\u001b[0m\u001b[0m\n\u001b[1;32m--> 213\u001b[1;33m         \u001b[0mvalue_or_values\u001b[0m \u001b[1;33m=\u001b[0m \u001b[0mfunc\u001b[0m\u001b[1;33m(\u001b[0m\u001b[0mtrial\u001b[0m\u001b[1;33m)\u001b[0m\u001b[1;33m\u001b[0m\u001b[1;33m\u001b[0m\u001b[0m\n\u001b[0m\u001b[0;32m    214\u001b[0m     \u001b[1;32mexcept\u001b[0m \u001b[0mexceptions\u001b[0m\u001b[1;33m.\u001b[0m\u001b[0mTrialPruned\u001b[0m \u001b[1;32mas\u001b[0m \u001b[0me\u001b[0m\u001b[1;33m:\u001b[0m\u001b[1;33m\u001b[0m\u001b[1;33m\u001b[0m\u001b[0m\n\u001b[0;32m    215\u001b[0m         \u001b[1;31m# TODO(mamu): Handle multi-objective cases.\u001b[0m\u001b[1;33m\u001b[0m\u001b[1;33m\u001b[0m\u001b[1;33m\u001b[0m\u001b[0m\n",
      "\u001b[1;32m~\\AppData\\Local\\Temp/ipykernel_16796/335928460.py\u001b[0m in \u001b[0;36m__call__\u001b[1;34m(self, trial)\u001b[0m\n\u001b[0;32m     26\u001b[0m \u001b[1;33m\u001b[0m\u001b[0m\n\u001b[0;32m     27\u001b[0m             \u001b[0mrecommender\u001b[0m \u001b[1;33m=\u001b[0m \u001b[0mSLIM_BPR_Cython_Hybrid\u001b[0m\u001b[1;33m(\u001b[0m\u001b[0mURM_train\u001b[0m\u001b[1;33m,\u001b[0m \u001b[0mICM_all\u001b[0m\u001b[1;33m)\u001b[0m\u001b[1;33m\u001b[0m\u001b[1;33m\u001b[0m\u001b[0m\n\u001b[1;32m---> 28\u001b[1;33m             \u001b[0mrecommender\u001b[0m\u001b[1;33m.\u001b[0m\u001b[0mfit\u001b[0m\u001b[1;33m(\u001b[0m\u001b[1;33m**\u001b[0m\u001b[0msearch_args\u001b[0m\u001b[1;33m,\u001b[0m \u001b[1;33m**\u001b[0m\u001b[0mearlystopping_keywargs\u001b[0m\u001b[1;33m)\u001b[0m\u001b[1;33m\u001b[0m\u001b[1;33m\u001b[0m\u001b[0m\n\u001b[0m\u001b[0;32m     29\u001b[0m             \u001b[0mresult_dict\u001b[0m\u001b[1;33m,\u001b[0m \u001b[0m_\u001b[0m \u001b[1;33m=\u001b[0m \u001b[0mself\u001b[0m\u001b[1;33m.\u001b[0m\u001b[0mevaluator\u001b[0m\u001b[1;33m.\u001b[0m\u001b[0mevaluateRecommender\u001b[0m\u001b[1;33m(\u001b[0m\u001b[0mrecommender\u001b[0m\u001b[1;33m)\u001b[0m\u001b[1;33m\u001b[0m\u001b[1;33m\u001b[0m\u001b[0m\n\u001b[0;32m     30\u001b[0m \u001b[1;33m\u001b[0m\u001b[0m\n",
      "\u001b[1;32mC:\\Programmi\\Programmazione\\Resources\\GitHub\\RecSys_Challenge2021\\Notebooks\\../RecSysRep\\Recommenders\\SLIM\\Cython\\SLIM_BPR_Cython.py\u001b[0m in \u001b[0;36mfit\u001b[1;34m(self, **args)\u001b[0m\n\u001b[0;32m    207\u001b[0m \u001b[1;33m\u001b[0m\u001b[0m\n\u001b[0;32m    208\u001b[0m         \u001b[0mself\u001b[0m\u001b[1;33m.\u001b[0m\u001b[0mURM_train\u001b[0m \u001b[1;33m=\u001b[0m \u001b[0msps\u001b[0m\u001b[1;33m.\u001b[0m\u001b[0mvstack\u001b[0m\u001b[1;33m(\u001b[0m\u001b[1;33m(\u001b[0m\u001b[0mself\u001b[0m\u001b[1;33m.\u001b[0m\u001b[0mURM_or\u001b[0m\u001b[1;33m,\u001b[0m \u001b[0mself\u001b[0m\u001b[1;33m.\u001b[0m\u001b[0mICM\u001b[0m\u001b[1;33m)\u001b[0m\u001b[1;33m)\u001b[0m\u001b[1;33m\u001b[0m\u001b[1;33m\u001b[0m\u001b[0m\n\u001b[1;32m--> 209\u001b[1;33m         \u001b[0msuper\u001b[0m\u001b[1;33m(\u001b[0m\u001b[0mSLIM_BPR_Cython_Hybrid\u001b[0m\u001b[1;33m,\u001b[0m \u001b[0mself\u001b[0m\u001b[1;33m)\u001b[0m\u001b[1;33m.\u001b[0m\u001b[0mfit\u001b[0m\u001b[1;33m(\u001b[0m\u001b[1;33m**\u001b[0m\u001b[0margs\u001b[0m\u001b[1;33m)\u001b[0m\u001b[1;33m\u001b[0m\u001b[1;33m\u001b[0m\u001b[0m\n\u001b[0m\u001b[0;32m    210\u001b[0m         \u001b[0mself\u001b[0m\u001b[1;33m.\u001b[0m\u001b[0mURM_train\u001b[0m \u001b[1;33m=\u001b[0m \u001b[0mself\u001b[0m\u001b[1;33m.\u001b[0m\u001b[0mURM_or\u001b[0m\u001b[1;33m\u001b[0m\u001b[1;33m\u001b[0m\u001b[0m\n\u001b[0;32m    211\u001b[0m \u001b[1;33m\u001b[0m\u001b[0m\n",
      "\u001b[1;32mC:\\Programmi\\Programmazione\\Resources\\GitHub\\RecSys_Challenge2021\\Notebooks\\../RecSysRep\\Recommenders\\SLIM\\Cython\\SLIM_BPR_Cython.py\u001b[0m in \u001b[0;36mfit\u001b[1;34m(self, epochs, positive_threshold_BPR, train_with_sparse_weights, allow_train_with_sparse_weights, symmetric, random_seed, lambda_i, lambda_j, learning_rate, topK, sgd_mode, gamma, beta_1, beta_2, **earlystopping_kwargs)\u001b[0m\n\u001b[0;32m    153\u001b[0m         \u001b[0mself\u001b[0m\u001b[1;33m.\u001b[0m\u001b[0mS_best\u001b[0m \u001b[1;33m=\u001b[0m \u001b[0mself\u001b[0m\u001b[1;33m.\u001b[0m\u001b[0mS_incremental\u001b[0m\u001b[1;33m.\u001b[0m\u001b[0mcopy\u001b[0m\u001b[1;33m(\u001b[0m\u001b[1;33m)\u001b[0m\u001b[1;33m\u001b[0m\u001b[1;33m\u001b[0m\u001b[0m\n\u001b[0;32m    154\u001b[0m \u001b[1;33m\u001b[0m\u001b[0m\n\u001b[1;32m--> 155\u001b[1;33m         self._train_with_early_stopping(epochs,\n\u001b[0m\u001b[0;32m    156\u001b[0m                                         \u001b[0malgorithm_name\u001b[0m \u001b[1;33m=\u001b[0m \u001b[0mself\u001b[0m\u001b[1;33m.\u001b[0m\u001b[0mRECOMMENDER_NAME\u001b[0m\u001b[1;33m,\u001b[0m\u001b[1;33m\u001b[0m\u001b[1;33m\u001b[0m\u001b[0m\n\u001b[0;32m    157\u001b[0m                                         **earlystopping_kwargs)\n",
      "\u001b[1;32mC:\\Programmi\\Programmazione\\Resources\\GitHub\\RecSys_Challenge2021\\Notebooks\\../RecSysRep\\Recommenders\\Incremental_Training_Early_Stopping.py\u001b[0m in \u001b[0;36m_train_with_early_stopping\u001b[1;34m(self, epochs_max, epochs_min, validation_every_n, stop_on_validation, validation_metric, lower_validations_allowed, evaluator_object, algorithm_name)\u001b[0m\n\u001b[0;32m    175\u001b[0m         \u001b[1;32mwhile\u001b[0m \u001b[0mepochs_current\u001b[0m \u001b[1;33m<\u001b[0m \u001b[0mepochs_max\u001b[0m \u001b[1;32mand\u001b[0m \u001b[1;32mnot\u001b[0m \u001b[0mconvergence\u001b[0m\u001b[1;33m:\u001b[0m\u001b[1;33m\u001b[0m\u001b[1;33m\u001b[0m\u001b[0m\n\u001b[0;32m    176\u001b[0m \u001b[1;33m\u001b[0m\u001b[0m\n\u001b[1;32m--> 177\u001b[1;33m             \u001b[0mself\u001b[0m\u001b[1;33m.\u001b[0m\u001b[0m_run_epoch\u001b[0m\u001b[1;33m(\u001b[0m\u001b[0mepochs_current\u001b[0m\u001b[1;33m)\u001b[0m\u001b[1;33m\u001b[0m\u001b[1;33m\u001b[0m\u001b[0m\n\u001b[0m\u001b[0;32m    178\u001b[0m \u001b[1;33m\u001b[0m\u001b[0m\n\u001b[0;32m    179\u001b[0m             \u001b[1;31m# If no validation required, always keep the latest\u001b[0m\u001b[1;33m\u001b[0m\u001b[1;33m\u001b[0m\u001b[1;33m\u001b[0m\u001b[0m\n",
      "\u001b[1;32mC:\\Programmi\\Programmazione\\Resources\\GitHub\\RecSys_Challenge2021\\Notebooks\\../RecSysRep\\Recommenders\\SLIM\\Cython\\SLIM_BPR_Cython.py\u001b[0m in \u001b[0;36m_run_epoch\u001b[1;34m(self, num_epoch)\u001b[0m\n\u001b[0;32m    174\u001b[0m \u001b[1;33m\u001b[0m\u001b[0m\n\u001b[0;32m    175\u001b[0m     \u001b[1;32mdef\u001b[0m \u001b[0m_run_epoch\u001b[0m\u001b[1;33m(\u001b[0m\u001b[0mself\u001b[0m\u001b[1;33m,\u001b[0m \u001b[0mnum_epoch\u001b[0m\u001b[1;33m)\u001b[0m\u001b[1;33m:\u001b[0m\u001b[1;33m\u001b[0m\u001b[1;33m\u001b[0m\u001b[0m\n\u001b[1;32m--> 176\u001b[1;33m        \u001b[0mself\u001b[0m\u001b[1;33m.\u001b[0m\u001b[0mcythonEpoch\u001b[0m\u001b[1;33m.\u001b[0m\u001b[0mepochIteration_Cython\u001b[0m\u001b[1;33m(\u001b[0m\u001b[1;33m)\u001b[0m\u001b[1;33m\u001b[0m\u001b[1;33m\u001b[0m\u001b[0m\n\u001b[0m\u001b[0;32m    177\u001b[0m \u001b[1;33m\u001b[0m\u001b[0m\n\u001b[0;32m    178\u001b[0m \u001b[1;33m\u001b[0m\u001b[0m\n",
      "\u001b[1;32mSLIM_BPR_Cython_Epoch.pyx\u001b[0m in \u001b[0;36mSLIM_BPR_Cython_Epoch.SLIM_BPR_Cython_Epoch.epochIteration_Cython\u001b[1;34m()\u001b[0m\n",
      "\u001b[1;32mC:\\Programmi\\Programmazione\\IDE\\Miniconda3\\envs\\recsys\\lib\\site-packages\\ipykernel\\iostream.py\u001b[0m in \u001b[0;36mwrite\u001b[1;34m(self, string)\u001b[0m\n\u001b[0;32m    527\u001b[0m             \u001b[0mis_child\u001b[0m \u001b[1;33m=\u001b[0m \u001b[1;33m(\u001b[0m\u001b[1;32mnot\u001b[0m \u001b[0mself\u001b[0m\u001b[1;33m.\u001b[0m\u001b[0m_is_master_process\u001b[0m\u001b[1;33m(\u001b[0m\u001b[1;33m)\u001b[0m\u001b[1;33m)\u001b[0m\u001b[1;33m\u001b[0m\u001b[1;33m\u001b[0m\u001b[0m\n\u001b[0;32m    528\u001b[0m             \u001b[1;31m# only touch the buffer in the IO thread to avoid races\u001b[0m\u001b[1;33m\u001b[0m\u001b[1;33m\u001b[0m\u001b[1;33m\u001b[0m\u001b[0m\n\u001b[1;32m--> 529\u001b[1;33m             \u001b[0mself\u001b[0m\u001b[1;33m.\u001b[0m\u001b[0mpub_thread\u001b[0m\u001b[1;33m.\u001b[0m\u001b[0mschedule\u001b[0m\u001b[1;33m(\u001b[0m\u001b[1;32mlambda\u001b[0m\u001b[1;33m:\u001b[0m \u001b[0mself\u001b[0m\u001b[1;33m.\u001b[0m\u001b[0m_buffer\u001b[0m\u001b[1;33m.\u001b[0m\u001b[0mwrite\u001b[0m\u001b[1;33m(\u001b[0m\u001b[0mstring\u001b[0m\u001b[1;33m)\u001b[0m\u001b[1;33m)\u001b[0m\u001b[1;33m\u001b[0m\u001b[1;33m\u001b[0m\u001b[0m\n\u001b[0m\u001b[0;32m    530\u001b[0m             \u001b[1;32mif\u001b[0m \u001b[0mis_child\u001b[0m\u001b[1;33m:\u001b[0m\u001b[1;33m\u001b[0m\u001b[1;33m\u001b[0m\u001b[0m\n\u001b[0;32m    531\u001b[0m                 \u001b[1;31m# mp.Pool cannot be trusted to flush promptly (or ever),\u001b[0m\u001b[1;33m\u001b[0m\u001b[1;33m\u001b[0m\u001b[1;33m\u001b[0m\u001b[0m\n",
      "\u001b[1;32mC:\\Programmi\\Programmazione\\IDE\\Miniconda3\\envs\\recsys\\lib\\site-packages\\ipykernel\\iostream.py\u001b[0m in \u001b[0;36mschedule\u001b[1;34m(self, f)\u001b[0m\n\u001b[0;32m    212\u001b[0m             \u001b[0mself\u001b[0m\u001b[1;33m.\u001b[0m\u001b[0m_events\u001b[0m\u001b[1;33m.\u001b[0m\u001b[0mappend\u001b[0m\u001b[1;33m(\u001b[0m\u001b[0mf\u001b[0m\u001b[1;33m)\u001b[0m\u001b[1;33m\u001b[0m\u001b[1;33m\u001b[0m\u001b[0m\n\u001b[0;32m    213\u001b[0m             \u001b[1;31m# wake event thread (message content is ignored)\u001b[0m\u001b[1;33m\u001b[0m\u001b[1;33m\u001b[0m\u001b[1;33m\u001b[0m\u001b[0m\n\u001b[1;32m--> 214\u001b[1;33m             \u001b[0mself\u001b[0m\u001b[1;33m.\u001b[0m\u001b[0m_event_pipe\u001b[0m\u001b[1;33m.\u001b[0m\u001b[0msend\u001b[0m\u001b[1;33m(\u001b[0m\u001b[1;34mb''\u001b[0m\u001b[1;33m)\u001b[0m\u001b[1;33m\u001b[0m\u001b[1;33m\u001b[0m\u001b[0m\n\u001b[0m\u001b[0;32m    215\u001b[0m         \u001b[1;32melse\u001b[0m\u001b[1;33m:\u001b[0m\u001b[1;33m\u001b[0m\u001b[1;33m\u001b[0m\u001b[0m\n\u001b[0;32m    216\u001b[0m             \u001b[0mf\u001b[0m\u001b[1;33m(\u001b[0m\u001b[1;33m)\u001b[0m\u001b[1;33m\u001b[0m\u001b[1;33m\u001b[0m\u001b[0m\n",
      "\u001b[1;32mC:\\Programmi\\Programmazione\\IDE\\Miniconda3\\envs\\recsys\\lib\\site-packages\\zmq\\sugar\\socket.py\u001b[0m in \u001b[0;36msend\u001b[1;34m(self, data, flags, copy, track, routing_id, group)\u001b[0m\n\u001b[0;32m    539\u001b[0m                 )\n\u001b[0;32m    540\u001b[0m             \u001b[0mdata\u001b[0m\u001b[1;33m.\u001b[0m\u001b[0mgroup\u001b[0m \u001b[1;33m=\u001b[0m \u001b[0mgroup\u001b[0m\u001b[1;33m\u001b[0m\u001b[1;33m\u001b[0m\u001b[0m\n\u001b[1;32m--> 541\u001b[1;33m         \u001b[1;32mreturn\u001b[0m \u001b[0msuper\u001b[0m\u001b[1;33m(\u001b[0m\u001b[0mSocket\u001b[0m\u001b[1;33m,\u001b[0m \u001b[0mself\u001b[0m\u001b[1;33m)\u001b[0m\u001b[1;33m.\u001b[0m\u001b[0msend\u001b[0m\u001b[1;33m(\u001b[0m\u001b[0mdata\u001b[0m\u001b[1;33m,\u001b[0m \u001b[0mflags\u001b[0m\u001b[1;33m=\u001b[0m\u001b[0mflags\u001b[0m\u001b[1;33m,\u001b[0m \u001b[0mcopy\u001b[0m\u001b[1;33m=\u001b[0m\u001b[0mcopy\u001b[0m\u001b[1;33m,\u001b[0m \u001b[0mtrack\u001b[0m\u001b[1;33m=\u001b[0m\u001b[0mtrack\u001b[0m\u001b[1;33m)\u001b[0m\u001b[1;33m\u001b[0m\u001b[1;33m\u001b[0m\u001b[0m\n\u001b[0m\u001b[0;32m    542\u001b[0m \u001b[1;33m\u001b[0m\u001b[0m\n\u001b[0;32m    543\u001b[0m     \u001b[1;32mdef\u001b[0m \u001b[0msend_multipart\u001b[0m\u001b[1;33m(\u001b[0m\u001b[0mself\u001b[0m\u001b[1;33m,\u001b[0m \u001b[0mmsg_parts\u001b[0m\u001b[1;33m,\u001b[0m \u001b[0mflags\u001b[0m\u001b[1;33m=\u001b[0m\u001b[1;36m0\u001b[0m\u001b[1;33m,\u001b[0m \u001b[0mcopy\u001b[0m\u001b[1;33m=\u001b[0m\u001b[1;32mTrue\u001b[0m\u001b[1;33m,\u001b[0m \u001b[0mtrack\u001b[0m\u001b[1;33m=\u001b[0m\u001b[1;32mFalse\u001b[0m\u001b[1;33m,\u001b[0m \u001b[1;33m**\u001b[0m\u001b[0mkwargs\u001b[0m\u001b[1;33m)\u001b[0m\u001b[1;33m:\u001b[0m\u001b[1;33m\u001b[0m\u001b[1;33m\u001b[0m\u001b[0m\n",
      "\u001b[1;32mzmq/backend/cython/socket.pyx\u001b[0m in \u001b[0;36mzmq.backend.cython.socket.Socket.send\u001b[1;34m()\u001b[0m\n",
      "\u001b[1;32mzmq/backend/cython/socket.pyx\u001b[0m in \u001b[0;36mzmq.backend.cython.socket.Socket.send\u001b[1;34m()\u001b[0m\n",
      "\u001b[1;32mzmq/backend/cython/socket.pyx\u001b[0m in \u001b[0;36mzmq.backend.cython.socket._send_copy\u001b[1;34m()\u001b[0m\n",
      "\u001b[1;32mC:\\Programmi\\Programmazione\\IDE\\Miniconda3\\envs\\recsys\\lib\\site-packages\\zmq\\backend\\cython\\checkrc.pxd\u001b[0m in \u001b[0;36mzmq.backend.cython.checkrc._check_rc\u001b[1;34m()\u001b[0m\n",
      "\u001b[1;31mKeyboardInterrupt\u001b[0m: "
     ]
    }
   ],
   "source": [
    "import optuna\n",
    "\n",
    "study = optuna.create_study(direction='minimize')\n",
    "study.optimize(TrainUserBased(URM_train, ICM_all, evaluators[0]), n_trials=500)"
   ]
  },
  {
   "cell_type": "code",
   "execution_count": 16,
   "id": "8e41843a",
   "metadata": {},
   "outputs": [
    {
     "data": {
      "text/plain": [
       "<Evaluation.Evaluator.EvaluatorHoldout at 0x28903c9f5b0>"
      ]
     },
     "execution_count": 16,
     "metadata": {},
     "output_type": "execute_result"
    }
   ],
   "source": []
  },
  {
   "cell_type": "code",
   "execution_count": null,
   "id": "ab47db87",
   "metadata": {},
   "outputs": [],
   "source": []
  }
 ],
 "metadata": {
  "kernelspec": {
   "display_name": "Python 3 (ipykernel)",
   "language": "python",
   "name": "python3"
  },
  "language_info": {
   "codemirror_mode": {
    "name": "ipython",
    "version": 3
   },
   "file_extension": ".py",
   "mimetype": "text/x-python",
   "name": "python",
   "nbconvert_exporter": "python",
   "pygments_lexer": "ipython3",
   "version": "3.8.12"
  }
 },
 "nbformat": 4,
 "nbformat_minor": 5
}
