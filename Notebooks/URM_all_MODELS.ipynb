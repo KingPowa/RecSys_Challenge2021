{
 "cells": [
  {
   "cell_type": "code",
   "execution_count": 8,
   "id": "7e809989",
   "metadata": {},
   "outputs": [],
   "source": [
    "import sys\n",
    "sys.path.append('../RecSysRep/')"
   ]
  },
  {
   "cell_type": "code",
   "execution_count": 9,
   "id": "bc728eee",
   "metadata": {},
   "outputs": [],
   "source": [
    "import Basics.Load as ld\n",
    "\n",
    "URM_all, _, _, _, _ = ld.getCOOs()\n",
    "ICM_all = ld.getICMall()"
   ]
  },
  {
   "cell_type": "code",
   "execution_count": 10,
   "id": "2d0f462a",
   "metadata": {},
   "outputs": [],
   "source": [
    "import os\n",
    "\n",
    "ofp = \"../models_temp/Similarity_Hybrid/ALL/\"\n",
    "\n",
    "\n",
    "models_to_combine_best = {\n",
    "                            'IALS' : {\"num_factors\": 29, \"epochs\": 50, \"confidence_scaling\": \"log\", \"alpha\": 0.001, \"epsilon\": 0.001, \"reg\": 0.01},\n",
    "                            'SLIMBPR' : {\"epochs\": 440, \"lambda_i\": 0.007773815998802306, \"lambda_j\": 0.003342522366982381, \"learning_rate\": 0.010055161410725193, \"topK\": 4289, \"random_seed\": 1234, \"sgd_mode\": \"sgd\"},\n",
    "                            'SLIMER': {'topK': 6000, 'l1_ratio': 0.0005495104968035837, 'alpha': 0.08007142704041009, 'workers': 8},\n",
    "                            'P3alpha': {'topK': 4834, 'alpha': 1.764994849187595, 'normalize_similarity': True, 'implicit': True},\n",
    "                            'RP3beta': {\"topK\": 1049, \"alpha\": 1.1626473723475605, \"beta\": 0.6765017195261293, \"normalize_similarity\": True, \"implicit\": True},\n",
    "                            'ICM_all': {\"shrink\": 5675, \"topK\": 2310, \"feature_weighting\": \"BM25\", \"normalize\": False},\n",
    "                            'TopPop': {},\n",
    "                            'PureSVD': {'num_factors': 30},\n",
    "                            'UserKNN': {\"topK\": 469, \"similarity\": \"cosine\", \"shrink\": 588, \"normalize\": True, \"feature_weighting\": \"TF-IDF\", \"URM_bias\": False},\n",
    "                            'EASE_R': {'l2_norm': 2700},\n",
    "}\n",
    "\n"
   ]
  },
  {
   "cell_type": "code",
   "execution_count": 17,
   "id": "1348b9f2",
   "metadata": {},
   "outputs": [],
   "source": [
    "def model_init(recommender, name, args):\n",
    "    path_name = ofp + name + '_ALL'+ \".zip\"\n",
    "    print(path_name)\n",
    "    if os.path.exists(path_name):\n",
    "        print(\"Model found!\")\n",
    "        recommender.load_model(ofp, name + '_ALL')\n",
    "    else:\n",
    "        print(\"Model does not exists, creating...\")\n",
    "        if not os.path.exists(ofp):\n",
    "            print(\"Main folder does not exist, creating...\")\n",
    "            os.makedirs(ofp)\n",
    "        recommender.fit(**args)\n",
    "        recommender.save_model(ofp, name + '_ALL')"
   ]
  },
  {
   "cell_type": "code",
   "execution_count": 18,
   "id": "1fe35dd8",
   "metadata": {},
   "outputs": [],
   "source": [
    "from Recommenders.NonPersonalizedRecommender import TopPop\n",
    "from Recommenders.KNN.ItemKNNCBFRecommender import ItemKNNCBFRecommender\n",
    "from Recommenders.SLIM.Cython.SLIM_BPR_Cython import SLIM_BPR_Cython\n",
    "from Recommenders.SLIM.SLIMElasticNetRecommender import MultiThreadSLIM_SLIMElasticNetRecommender\n",
    "from Recommenders.GraphBased.P3alphaRecommender import P3alphaRecommender\n",
    "from Recommenders.GraphBased.RP3betaRecommender import RP3betaRecommender\n",
    "from Recommenders.MatrixFactorization.IALSRecommender import IALSRecommender\n",
    "from Recommenders.KNN.UserKNNCFRecommender import UserKNNCFRecommender\n",
    "from Recommenders.MatrixFactorization.PureSVDRecommender import PureSVDRecommender\n",
    "from Recommenders.EASE_R.EASE_R_Recommender import EASE_R_Recommender"
   ]
  },
  {
   "cell_type": "code",
   "execution_count": 19,
   "id": "2329e3a7",
   "metadata": {},
   "outputs": [],
   "source": [
    "from Recommenders.KNN.ItemKNNScoresHybridMultipleRecommender import ItemKNNScoresHybridTwoRecommender\n",
    "from Recommenders.KNN.ItemKNNScoresHybridMultipleRecommender import ItemKNNScoresHybridMultipleRecommender"
   ]
  },
  {
   "cell_type": "code",
   "execution_count": 20,
   "id": "035dfa3b",
   "metadata": {},
   "outputs": [
    {
     "name": "stdout",
     "output_type": "stream",
     "text": [
      "../models_temp/Similarity_Hybrid/ALL/SLIMER_ALL.zip\n",
      "Model found!\n",
      "SLIMElasticNetRecommender: Loading model from file '../models_temp/Similarity_Hybrid/ALL/SLIMER_ALL'\n",
      "SLIMElasticNetRecommender: Loading complete\n",
      "../models_temp/Similarity_Hybrid/ALL/SLIMBPR_ALL.zip\n",
      "Model found!\n",
      "SLIM_BPR_Recommender: Loading model from file '../models_temp/Similarity_Hybrid/ALL/SLIMBPR_ALL'\n",
      "SLIM_BPR_Recommender: Loading complete\n",
      "../models_temp/Similarity_Hybrid/ALL/RP3beta_ALL.zip\n",
      "Model found!\n",
      "RP3betaRecommender: Loading model from file '../models_temp/Similarity_Hybrid/ALL/RP3beta_ALL'\n",
      "RP3betaRecommender: Loading complete\n",
      "../models_temp/Similarity_Hybrid/ALL/ICM_all_ALL.zip\n",
      "Model found!\n",
      "ItemKNNCBFRecommender: Loading model from file '../models_temp/Similarity_Hybrid/ALL/ICM_all_ALL'\n",
      "ItemKNNCBFRecommender: Loading complete\n",
      "../models_temp/Similarity_Hybrid/ALL/IALS_ALL.zip\n",
      "Model found!\n",
      "IALSRecommender: Loading model from file '../models_temp/Similarity_Hybrid/ALL/IALS_ALL'\n",
      "IALSRecommender: Loading complete\n",
      "../models_temp/Similarity_Hybrid/ALL/P3alpha_ALL.zip\n",
      "Model found!\n",
      "P3alphaRecommender: Loading model from file '../models_temp/Similarity_Hybrid/ALL/P3alpha_ALL'\n",
      "P3alphaRecommender: Loading complete\n",
      "../models_temp/Similarity_Hybrid/ALL/UserKNN_ALL.zip\n",
      "Model found!\n",
      "UserKNNCFRecommender: Loading model from file '../models_temp/Similarity_Hybrid/ALL/UserKNN_ALL'\n",
      "UserKNNCFRecommender: Loading complete\n",
      "../models_temp/Similarity_Hybrid/ALL/PureSVD_ALL.zip\n",
      "Model found!\n",
      "PureSVDRecommender: Loading model from file '../models_temp/Similarity_Hybrid/ALL/PureSVD_ALL'\n",
      "PureSVDRecommender: Loading complete\n",
      "../models_temp/Similarity_Hybrid/ALL/TopPop_ALL.zip\n",
      "Model found!\n",
      "TopPopRecommender: Loading model from file '../models_temp/Similarity_Hybrid/ALL/TopPop_ALL'\n",
      "TopPopRecommender: Loading complete\n",
      "../models_temp/Similarity_Hybrid/ALL/EASE_R_ALL.zip\n",
      "Model found!\n",
      "EASE_R_Recommender: Loading model from file '../models_temp/Similarity_Hybrid/ALL/EASE_R_ALL'\n",
      "EASE_R_Recommender: Loading complete\n"
     ]
    }
   ],
   "source": [
    "recommender1 = MultiThreadSLIM_SLIMElasticNetRecommender(URM_all)\n",
    "recommender2 = SLIM_BPR_Cython(URM_all)\n",
    "recommender3 = RP3betaRecommender(URM_all)\n",
    "recommender4 = ItemKNNCBFRecommender(URM_all, ICM_all)\n",
    "recommender5 = IALSRecommender(URM_all)\n",
    "recommender6 = P3alphaRecommender(URM_all)\n",
    "recommender7 = UserKNNCFRecommender(URM_all)\n",
    "recommender8 = PureSVDRecommender(URM_all)\n",
    "recommender9 = TopPop(URM_all)\n",
    "recommender10 = EASE_R_Recommender(URM_all)\n",
    "\n",
    "model_init(recommender1, 'SLIMER', models_to_combine_best['SLIMER'])\n",
    "model_init(recommender2, 'SLIMBPR', models_to_combine_best['SLIMBPR'])\n",
    "model_init(recommender3, 'RP3beta', models_to_combine_best['RP3beta'])\n",
    "model_init(recommender4, 'ICM_all', models_to_combine_best['ICM_all'])\n",
    "model_init(recommender5, 'IALS', models_to_combine_best['IALS'])\n",
    "model_init(recommender6, 'P3alpha', models_to_combine_best['P3alpha'])\n",
    "model_init(recommender7, 'UserKNN', models_to_combine_best['UserKNN'])\n",
    "model_init(recommender8, 'PureSVD', models_to_combine_best['PureSVD'])\n",
    "model_init(recommender9, 'TopPop', models_to_combine_best['TopPop'])\n",
    "model_init(recommender10, 'EASE_R', models_to_combine_best['EASE_R'])"
   ]
  },
  {
   "cell_type": "code",
   "execution_count": 22,
   "id": "399ca661",
   "metadata": {},
   "outputs": [],
   "source": [
    "recommenderHybrid1 = ItemKNNScoresHybridTwoRecommender(URM_all, recommender4, recommender9)\n",
    "recommenderHybrid1.fit(alpha = 0.65)\n",
    "\n",
    "recommenderHybrid2 = ItemKNNScoresHybridTwoRecommender(URM_all, recommenderHybrid1, recommender3)\n",
    "recommenderHybrid2.fit(alpha = 0.10)\n",
    "\n",
    "recommenderHybrid3 = ItemKNNScoresHybridTwoRecommender(URM_all, recommenderHybrid2, recommender2)\n",
    "recommenderHybrid3.fit(alpha = 0.20)\n",
    "\n",
    "recommenderHybrid4 = ItemKNNScoresHybridTwoRecommender(URM_all, recommenderHybrid3, recommender7)\n",
    "recommenderHybrid4.fit(alpha = 0.25)\n",
    "\n",
    "recommenderHybrid5 = ItemKNNScoresHybridTwoRecommender(URM_all, recommenderHybrid4, recommender5)\n",
    "recommenderHybrid5.fit(alpha = 0.9)\n",
    "\n",
    "recommenderHybrid6 = ItemKNNScoresHybridTwoRecommender(URM_all, recommenderHybrid5, recommender10)\n",
    "recommenderHybrid6.fit(alpha = 0.45)\n",
    "\n",
    "recommenderHybrid7 = ItemKNNScoresHybridTwoRecommender(URM_all, recommenderHybrid6, recommender1)\n",
    "recommenderHybrid7.fit(alpha = 0.5)"
   ]
  },
  {
   "cell_type": "code",
   "execution_count": null,
   "id": "2ca32979",
   "metadata": {},
   "outputs": [],
   "source": [
    "recommenderHybrid1 = ItemKNNScoresHybridTwoRecommender(URM_all, recommender4, recommender9)\n",
    "recommenderHybrid1.fit(alpha = 0.65)\n",
    "\n",
    "recommenderHybrid2 = ItemKNNScoresHybridTwoRecommender(URM_all, recommenderHybrid1, recommender3)\n",
    "recommenderHybrid2.fit(alpha = 0.10)\n",
    "\n",
    "recommenderHybrid3 = ItemKNNScoresHybridTwoRecommender(URM_all, recommenderHybrid2, recommender2)\n",
    "recommenderHybrid3.fit(alpha = 0.20)\n",
    "\n",
    "recommenderHybrid4 = ItemKNNScoresHybridTwoRecommender(URM_all, recommenderHybrid3, recommender7)\n",
    "recommenderHybrid4.fit(alpha = 0.25)\n",
    "\n",
    "recommenderHybrid5 = ItemKNNScoresHybridTwoRecommender(URM_all, recommenderHybrid4, recommender5)\n",
    "recommenderHybrid5.fit(alpha = 0.9)\n",
    "\n",
    "recommenderHybrid6 = ItemKNNScoresHybridTwoRecommender(URM_all, recommenderHybrid5, recommender10)\n",
    "recommenderHybrid6.fit(alpha = 0.45)\n",
    "\n",
    "recommenderHybrid7 = ItemKNNScoresHybridTwoRecommender(URM_all, recommenderHybrid6, recommender1)\n",
    "recommenderHybrid7.fit(alpha = 0.5)"
   ]
  },
  {
   "cell_type": "code",
   "execution_count": null,
   "id": "229f4b00",
   "metadata": {},
   "outputs": [],
   "source": []
  },
  {
   "cell_type": "code",
   "execution_count": 23,
   "id": "3d773c81",
   "metadata": {},
   "outputs": [
    {
     "name": "stdout",
     "output_type": "stream",
     "text": [
      "0\n",
      "3899 5433 16365 16359 8465 640 6061 2243 9130 8635\n",
      "1\n",
      "3473 14400 940 16365 16012 640 14358 15119 2118 13032\n",
      "2\n",
      "6177 1551 17022 16365 17330 14229 2748 15119 14181 4607\n"
     ]
    },
    {
     "name": "stderr",
     "output_type": "stream",
     "text": [
      "../RecSysRep\\Recommenders\\KNN\\ItemKNNScoresHybridMultipleRecommender.py:106: RuntimeWarning: invalid value encountered in true_divide\n",
      "  l2_2_scores = item_weights_2 / l2_2\n"
     ]
    }
   ],
   "source": [
    "\n",
    "recommender = recommenderHybrid7\n",
    "\n",
    "import pandas as pd\n",
    "at = 10\n",
    "\n",
    "user_test_path = '../data/data_target_users_test.csv'\n",
    "user_test_dataframe = pd.read_csv(filepath_or_buffer=user_test_path,\n",
    "sep=\",\",\n",
    "dtype={0:int})\n",
    "\n",
    "subm_set = user_test_dataframe.to_numpy().T[0]\n",
    "\n",
    "\n",
    "subm_res = {\"user_id\":[], \"item_list\":[]}\n",
    "\n",
    "for user_id in subm_set:\n",
    "\tsubm_res[\"user_id\"].append(user_id)\n",
    "\tres = recommender.recommend(user_id, cutoff=at)\n",
    "\tres = ' '.join(map(str, res))\n",
    "\tif user_id < 3:\n",
    "\t\tprint(user_id)\n",
    "\t\tprint(res)\n",
    "\tsubm_res[\"item_list\"].append(res)\n",
    "\n",
    "\n",
    "\t# print(subm_res)\n",
    "\n",
    "submission = pd.DataFrame.from_dict(subm_res)\n",
    "\t# submission\n",
    "\n",
    "from datetime import datetime\n",
    "\n",
    "now = datetime.now() # current date and time\n",
    "\n",
    "\n",
    "submission.to_csv('../subs/submission {:%Y_%m_%d %H_%M_%S}.csv'.format(now), index=False)\n",
    "\n"
   ]
  },
  {
   "cell_type": "code",
   "execution_count": null,
   "id": "b4b8fa6a",
   "metadata": {},
   "outputs": [],
   "source": []
  }
 ],
 "metadata": {
  "kernelspec": {
   "display_name": "Python 3",
   "language": "python",
   "name": "python3"
  },
  "language_info": {
   "codemirror_mode": {
    "name": "ipython",
    "version": 3
   },
   "file_extension": ".py",
   "mimetype": "text/x-python",
   "name": "python",
   "nbconvert_exporter": "python",
   "pygments_lexer": "ipython3",
   "version": "3.8.8"
  }
 },
 "nbformat": 4,
 "nbformat_minor": 5
}
