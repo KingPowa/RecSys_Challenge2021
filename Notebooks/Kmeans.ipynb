{
 "cells": [
  {
   "cell_type": "code",
   "execution_count": 1,
   "id": "b8123395",
   "metadata": {},
   "outputs": [],
   "source": [
    "import sys\n",
    "sys.path.append('../RecSysRep/')\n",
    "\n",
    "import Basics.Load as ld\n",
    "\n",
    "URM_all, ICM_genre_all, ICM_subgenre_all, ICM_channel_all, ICM_event_all = ld.getCOOs()\n",
    "# URM_train, URM_val = ld.getSplit(URM_train_val, 5678, 0.8)\n",
    "\n",
    "URM_all_dataframe, ICM_genre_all_dataframe, ICM_subgenre_all_dataframe, ICM_channel_all_dataframe, ICM_event_all_dataframe = ld.getDataframes()\n",
    "\n",
    "import numpy as np\n",
    "from scipy.sparse import *"
   ]
  },
  {
   "cell_type": "code",
   "execution_count": 3,
   "id": "a8063cc1",
   "metadata": {},
   "outputs": [
    {
     "data": {
      "text/html": [
       "<div>\n",
       "<style scoped>\n",
       "    .dataframe tbody tr th:only-of-type {\n",
       "        vertical-align: middle;\n",
       "    }\n",
       "\n",
       "    .dataframe tbody tr th {\n",
       "        vertical-align: top;\n",
       "    }\n",
       "\n",
       "    .dataframe thead th {\n",
       "        text-align: right;\n",
       "    }\n",
       "</style>\n",
       "<table border=\"1\" class=\"dataframe\">\n",
       "  <thead>\n",
       "    <tr style=\"text-align: right;\">\n",
       "      <th></th>\n",
       "      <th>ItemID</th>\n",
       "      <th>EpisodeID</th>\n",
       "      <th>Match</th>\n",
       "    </tr>\n",
       "  </thead>\n",
       "  <tbody>\n",
       "    <tr>\n",
       "      <th>0</th>\n",
       "      <td>0</td>\n",
       "      <td>121781</td>\n",
       "      <td>1.0</td>\n",
       "    </tr>\n",
       "    <tr>\n",
       "      <th>1</th>\n",
       "      <td>1</td>\n",
       "      <td>150102</td>\n",
       "      <td>1.0</td>\n",
       "    </tr>\n",
       "    <tr>\n",
       "      <th>2</th>\n",
       "      <td>1</td>\n",
       "      <td>349614</td>\n",
       "      <td>1.0</td>\n",
       "    </tr>\n",
       "    <tr>\n",
       "      <th>3</th>\n",
       "      <td>2</td>\n",
       "      <td>9174</td>\n",
       "      <td>1.0</td>\n",
       "    </tr>\n",
       "    <tr>\n",
       "      <th>4</th>\n",
       "      <td>2</td>\n",
       "      <td>20833</td>\n",
       "      <td>1.0</td>\n",
       "    </tr>\n",
       "    <tr>\n",
       "      <th>...</th>\n",
       "      <td>...</td>\n",
       "      <td>...</td>\n",
       "      <td>...</td>\n",
       "    </tr>\n",
       "    <tr>\n",
       "      <th>358065</th>\n",
       "      <td>18056</td>\n",
       "      <td>169988</td>\n",
       "      <td>1.0</td>\n",
       "    </tr>\n",
       "    <tr>\n",
       "      <th>358066</th>\n",
       "      <td>18056</td>\n",
       "      <td>198728</td>\n",
       "      <td>1.0</td>\n",
       "    </tr>\n",
       "    <tr>\n",
       "      <th>358067</th>\n",
       "      <td>18057</td>\n",
       "      <td>237262</td>\n",
       "      <td>1.0</td>\n",
       "    </tr>\n",
       "    <tr>\n",
       "      <th>358068</th>\n",
       "      <td>18058</td>\n",
       "      <td>96320</td>\n",
       "      <td>1.0</td>\n",
       "    </tr>\n",
       "    <tr>\n",
       "      <th>358069</th>\n",
       "      <td>18058</td>\n",
       "      <td>176749</td>\n",
       "      <td>1.0</td>\n",
       "    </tr>\n",
       "  </tbody>\n",
       "</table>\n",
       "<p>358070 rows × 3 columns</p>\n",
       "</div>"
      ],
      "text/plain": [
       "        ItemID  EpisodeID  Match\n",
       "0            0     121781    1.0\n",
       "1            1     150102    1.0\n",
       "2            1     349614    1.0\n",
       "3            2       9174    1.0\n",
       "4            2      20833    1.0\n",
       "...        ...        ...    ...\n",
       "358065   18056     169988    1.0\n",
       "358066   18056     198728    1.0\n",
       "358067   18057     237262    1.0\n",
       "358068   18058      96320    1.0\n",
       "358069   18058     176749    1.0\n",
       "\n",
       "[358070 rows x 3 columns]"
      ]
     },
     "execution_count": 3,
     "metadata": {},
     "output_type": "execute_result"
    }
   ],
   "source": [
    "ICM_event_all_dataframe"
   ]
  },
  {
   "cell_type": "code",
   "execution_count": 4,
   "id": "da92a855",
   "metadata": {},
   "outputs": [],
   "source": [
    "ICM_event_all = ICM_event_all.tocsr()\n",
    "episodesPerShow = np.ediff1d(ICM_event_all.indptr)"
   ]
  },
  {
   "cell_type": "code",
   "execution_count": 5,
   "id": "1ab02dac",
   "metadata": {},
   "outputs": [
    {
     "name": "stdout",
     "output_type": "stream",
     "text": [
      "[1 2 3 ... 2 1 2]\n",
      "[1 2 3 ... 2 1 2]\n"
     ]
    }
   ],
   "source": [
    "print(episodesPerShow)\n",
    "# episodesPerShow.sort()\n",
    "print(episodesPerShow)"
   ]
  },
  {
   "cell_type": "code",
   "execution_count": 6,
   "id": "6c0cdb5a",
   "metadata": {},
   "outputs": [],
   "source": [
    "uniqueEpisodes = set(episodesPerShow)\n",
    "# print(uniqueEpisodes)\n",
    "\n",
    "import collections\n",
    "counter=collections.Counter(episodesPerShow)\n",
    "episodeFrequency = list(counter.items())\n",
    "# counter.most_common(20)\n",
    "invEF = [(sub[1], sub[0]) for sub in episodeFrequency]"
   ]
  },
  {
   "cell_type": "code",
   "execution_count": 7,
   "id": "ef039c30",
   "metadata": {},
   "outputs": [
    {
     "name": "stdout",
     "output_type": "stream",
     "text": [
      "[(3849, 1), (3603, 2), (2328, 3), (1465, 4), (41, 27), (15, 50), (406, 7), (17, 55), (597, 6), (34, 31), (138, 15), (92, 0), (414, 8), (8, 81), (202, 12), (79, 21), (892, 5), (322, 9), (189, 13), (43, 30), (56, 24), (1, 735), (94, 20), (8, 116), (250, 11), (13, 57), (39, 28), (27, 34), (21, 53), (124, 18), (1, 294), (93, 19), (66, 22), (1, 927), (3, 318), (1, 238), (19, 47), (5, 157), (4, 124), (36, 29), (64, 23), (31, 32), (26, 35), (177, 14), (12, 69), (289, 10), (12, 70), (24, 39), (12, 59), (66, 25), (1, 2699), (11, 74), (1, 503), (11, 79), (11, 51), (153, 16), (31, 38), (2, 91), (4, 207), (99, 17), (52, 26), (26, 41), (18, 43), (3, 137), (15, 63), (13, 119), (2, 272), (8, 84), (19, 62), (4, 176), (16, 54), (4, 162), (6, 83), (2, 133), (1, 660), (16, 56), (2, 202), (35, 33), (10, 58), (16, 68), (6, 128), (2, 233), (15, 61), (2, 170), (2, 477), (12, 76), (3, 195), (24, 37), (2, 267), (2, 397), (3, 249), (2, 385), (34, 36), (11, 73), (15, 48), (2, 253), (16, 87), (2, 180), (1, 659), (21, 60), (3, 140), (1, 843), (1, 405), (1, 209), (8, 118), (5, 90), (14, 45), (10, 104), (25, 44), (27, 42), (1, 567), (4, 125), (5, 139), (7, 103), (1, 319), (2, 184), (1, 1173), (5, 141), (3, 201), (6, 126), (14, 86), (1, 260), (8, 120), (6, 156), (2, 432), (18, 46), (2, 327), (11, 75), (1, 330), (1, 472), (21, 40), (10, 89), (4, 309), (1, 409), (6, 117), (11, 97), (1, 904), (7, 92), (13, 77), (3, 154), (4, 150), (1, 4211), (10, 82), (11, 71), (2, 299), (1, 827), (3, 251), (2, 228), (16, 49), (4, 161), (8, 113), (9, 72), (4, 101), (8, 99), (3, 388), (16, 52), (4, 232), (1, 431), (8, 122), (10, 115), (1, 685), (2, 563), (17, 65), (1, 856), (6, 121), (7, 105), (3, 213), (4, 148), (2, 416), (4, 183), (5, 114), (2, 371), (1, 217), (1, 166), (2, 311), (1, 418), (2, 362), (2, 177), (2, 400), (3, 171), (9, 80), (2, 178), (2, 287), (3, 222), (7, 64), (4, 452), (2, 680), (1, 624), (12, 66), (1, 132), (2, 163), (9, 93), (1, 434), (8, 88), (5, 193), (6, 100), (3, 145), (3, 278), (3, 155), (1, 332), (1, 670), (1, 398), (2, 159), (2, 587), (2, 192), (2, 169), (7, 78), (2, 348), (1, 906), (6, 129), (3, 149), (1, 411), (4, 130), (1, 316), (3, 197), (8, 106), (3, 167), (14, 85), (5, 359), (3, 203), (3, 239), (7, 123), (2, 235), (1, 657), (1, 199), (1, 1043), (2, 230), (1, 173), (1, 315), (5, 98), (2, 188), (1, 185), (2, 285), (1, 301), (1, 974), (1, 406), (8, 67), (6, 95), (2, 531), (3, 151), (1, 160), (1, 264), (1, 534), (5, 135), (2, 313), (3, 324), (2, 189), (3, 204), (3, 182), (2, 191), (3, 138), (1, 158), (3, 283), (1, 200), (7, 107), (3, 165), (2, 257), (4, 102), (5, 110), (2, 175), (7, 111), (2, 236), (2, 429), (4, 198), (3, 164), (3, 143), (1, 376), (2, 262), (6, 96), (2, 153), (2, 194), (2, 339), (3, 243), (2, 208), (1, 281), (1, 2466), (2, 134), (2, 420), (3, 221), (2, 211), (1, 737), (1, 343), (1, 900), (3, 223), (2, 276), (2, 196), (1, 205), (1, 328), (2, 146), (1, 312), (1, 212), (1, 1609), (1, 326), (1, 1480), (2, 247), (3, 308), (1, 462), (2, 317), (4, 181), (2, 174), (2, 225), (1, 677), (1, 2160), (1, 874), (1, 279), (1, 269), (1, 752), (2, 244), (3, 108), (1, 426), (1, 786), (3, 142), (2, 250), (1, 5778), (1, 353), (1, 3851), (1, 1368), (1, 522), (1, 1379), (1, 240), (2, 274), (2, 172), (3, 214), (2, 304), (1, 594), (1, 206), (1, 300), (3, 109), (2, 190), (1, 380), (1, 495), (1, 407), (1, 392), (2, 365), (1, 335), (1, 569), (1, 293), (1, 112), (2, 391), (1, 489), (2, 296), (1, 494), (1, 412), (1, 338), (1, 486), (1, 460), (1, 1307), (1, 485), (1, 650), (1, 402), (1, 379), (1, 333), (3, 229), (1, 484), (1, 3171), (2, 373), (1, 435), (3, 147), (1, 1576), (1, 1484), (1, 973), (1, 322), (1, 520), (3, 127), (1, 683), (1, 241), (1, 265), (1, 447), (1, 291), (1, 463), (1, 583), (1, 136), (2, 280), (1, 912), (1, 556), (1, 237), (5, 94), (1, 706), (1, 186), (1, 152), (1, 525), (1, 907), (1, 382), (3, 218), (1, 498), (1, 1490), (1, 828), (1, 458), (1, 500), (1, 220), (1, 1036), (1, 455), (1, 598), (1, 439), (1, 2979), (1, 399), (1, 675), (1, 1460), (1, 871), (2, 168), (2, 297), (1, 479), (1, 277), (1, 303), (1, 245), (1, 497), (2, 282), (2, 144), (1, 286), (1, 252), (1, 215), (1, 356), (1, 742), (1, 448), (1, 470), (1, 424), (1, 571), (1, 288), (1, 758), (1, 729), (1, 610), (1, 187), (1, 1745), (1, 389), (1, 423), (1, 1464), (1, 384), (1, 261), (1, 273), (1, 1055), (1, 258), (1, 984), (1, 488), (1, 580), (1, 512), (1, 271)]\n"
     ]
    }
   ],
   "source": [
    "print(invEF)"
   ]
  },
  {
   "cell_type": "code",
   "execution_count": 8,
   "id": "605a80e3",
   "metadata": {},
   "outputs": [
    {
     "name": "stdout",
     "output_type": "stream",
     "text": [
      "[[1]\n",
      " [2]\n",
      " [3]\n",
      " ...\n",
      " [2]\n",
      " [1]\n",
      " [2]]\n",
      "18059\n"
     ]
    }
   ],
   "source": [
    "reshapedEPR = episodesPerShow.reshape(-1,1)\n",
    "print(reshapedEPR)\n",
    "print(len(reshapedEPR))"
   ]
  },
  {
   "cell_type": "code",
   "execution_count": null,
   "id": "f1a7a561",
   "metadata": {},
   "outputs": [],
   "source": [
    "from sklearn.cluster import KMeans\n",
    "\n",
    "kmeans = KMeans(n_clusters=3, random_state=0).fit(reshapedEPR)\n",
    "\n",
    "#you can see the labels with:\n",
    "print(kmeans.labels_)\n",
    "print(len(kmeans.labels_))\n",
    "print(kmeans.cluster_centers_)"
   ]
  },
  {
   "cell_type": "code",
   "execution_count": 36,
   "id": "3d0d71dd",
   "metadata": {},
   "outputs": [
    {
     "data": {
      "text/html": [
       "<div>\n",
       "<style scoped>\n",
       "    .dataframe tbody tr th:only-of-type {\n",
       "        vertical-align: middle;\n",
       "    }\n",
       "\n",
       "    .dataframe tbody tr th {\n",
       "        vertical-align: top;\n",
       "    }\n",
       "\n",
       "    .dataframe thead th {\n",
       "        text-align: right;\n",
       "    }\n",
       "</style>\n",
       "<table border=\"1\" class=\"dataframe\">\n",
       "  <thead>\n",
       "    <tr style=\"text-align: right;\">\n",
       "      <th></th>\n",
       "      <th>NumEpisodes</th>\n",
       "    </tr>\n",
       "  </thead>\n",
       "  <tbody>\n",
       "    <tr>\n",
       "      <th>0</th>\n",
       "      <td>1</td>\n",
       "    </tr>\n",
       "    <tr>\n",
       "      <th>1</th>\n",
       "      <td>2</td>\n",
       "    </tr>\n",
       "    <tr>\n",
       "      <th>2</th>\n",
       "      <td>3</td>\n",
       "    </tr>\n",
       "    <tr>\n",
       "      <th>3</th>\n",
       "      <td>1</td>\n",
       "    </tr>\n",
       "    <tr>\n",
       "      <th>4</th>\n",
       "      <td>1</td>\n",
       "    </tr>\n",
       "    <tr>\n",
       "      <th>...</th>\n",
       "      <td>...</td>\n",
       "    </tr>\n",
       "    <tr>\n",
       "      <th>18054</th>\n",
       "      <td>1</td>\n",
       "    </tr>\n",
       "    <tr>\n",
       "      <th>18055</th>\n",
       "      <td>1</td>\n",
       "    </tr>\n",
       "    <tr>\n",
       "      <th>18056</th>\n",
       "      <td>2</td>\n",
       "    </tr>\n",
       "    <tr>\n",
       "      <th>18057</th>\n",
       "      <td>1</td>\n",
       "    </tr>\n",
       "    <tr>\n",
       "      <th>18058</th>\n",
       "      <td>2</td>\n",
       "    </tr>\n",
       "  </tbody>\n",
       "</table>\n",
       "<p>18059 rows × 1 columns</p>\n",
       "</div>"
      ],
      "text/plain": [
       "       NumEpisodes\n",
       "0                1\n",
       "1                2\n",
       "2                3\n",
       "3                1\n",
       "4                1\n",
       "...            ...\n",
       "18054            1\n",
       "18055            1\n",
       "18056            2\n",
       "18057            1\n",
       "18058            2\n",
       "\n",
       "[18059 rows x 1 columns]"
      ]
     },
     "execution_count": 36,
     "metadata": {},
     "output_type": "execute_result"
    }
   ],
   "source": [
    "import pandas as pd\n",
    "\n",
    "a = pd.DataFrame(episodesPerShow, columns = ['NumEpisodes'])\n",
    "a"
   ]
  },
  {
   "cell_type": "code",
   "execution_count": 42,
   "id": "5f1afc20",
   "metadata": {},
   "outputs": [
    {
     "data": {
      "text/plain": [
       "0        0\n",
       "1        1\n",
       "2        2\n",
       "3        0\n",
       "4        0\n",
       "        ..\n",
       "18054    0\n",
       "18055    0\n",
       "18056    1\n",
       "18057    0\n",
       "18058    1\n",
       "Name: NumEpisodes, Length: 18059, dtype: category\n",
       "Categories (5, int64): [0 < 1 < 2 < 3 < 4]"
      ]
     },
     "execution_count": 42,
     "metadata": {},
     "output_type": "execute_result"
    }
   ],
   "source": [
    "num_cluster = 5\n",
    "div = pd.qcut(a.NumEpisodes, num_cluster, labels=list(range(0, num_cluster)))\n",
    "div"
   ]
  },
  {
   "cell_type": "code",
   "execution_count": 43,
   "id": "d0cfa16d",
   "metadata": {},
   "outputs": [],
   "source": [
    "a[\"cluster\"] = div"
   ]
  },
  {
   "cell_type": "code",
   "execution_count": 44,
   "id": "d1c07e16",
   "metadata": {},
   "outputs": [
    {
     "name": "stdout",
     "output_type": "stream",
     "text": [
      "       NumEpisodes\n",
      "count  3941.000000\n",
      "mean      0.976656\n",
      "std       0.151014\n",
      "min       0.000000\n",
      "25%       1.000000\n",
      "50%       1.000000\n",
      "75%       1.000000\n",
      "max       1.000000\n",
      "       NumEpisodes\n",
      "count       3603.0\n",
      "mean           2.0\n",
      "std            0.0\n",
      "min            2.0\n",
      "25%            2.0\n",
      "50%            2.0\n",
      "75%            2.0\n",
      "max            2.0\n",
      "       NumEpisodes\n",
      "count  3793.000000\n",
      "mean      3.386238\n",
      "std       0.486950\n",
      "min       3.000000\n",
      "25%       3.000000\n",
      "50%       3.000000\n",
      "75%       4.000000\n",
      "max       4.000000\n",
      "       NumEpisodes\n",
      "count  3170.000000\n",
      "mean      7.171609\n",
      "std       1.976083\n",
      "min       5.000000\n",
      "25%       5.000000\n",
      "50%       7.000000\n",
      "75%       9.000000\n",
      "max      11.000000\n",
      "       NumEpisodes\n",
      "count  3552.000000\n",
      "mean     87.679336\n",
      "std     220.377718\n",
      "min      12.000000\n",
      "25%      17.000000\n",
      "50%      30.000000\n",
      "75%      79.000000\n",
      "max    5778.000000\n"
     ]
    }
   ],
   "source": [
    "for i in range(0, num_cluster):\n",
    "    print(a.loc[a['cluster'] == i].describe())"
   ]
  },
  {
   "cell_type": "code",
   "execution_count": null,
   "id": "d1f722c0",
   "metadata": {},
   "outputs": [],
   "source": []
  },
  {
   "cell_type": "code",
   "execution_count": null,
   "id": "81bf457b",
   "metadata": {},
   "outputs": [],
   "source": [
    "import numpy as np\n",
    "import matplotlib.pyplot as plt\n",
    "\n",
    "from sklearn.cluster import KMeans\n",
    "\n",
    "import matplotlib as mpl\n",
    "mpl.rcParams['axes.spines.top'] = False\n",
    "mpl.rcParams['axes.spines.right'] = False\n",
    "\n",
    "\n",
    "\n",
    "# determine which K-Means cluster each point belongs to\n",
    "cluster_id = KMeans(3).fit_predict(reshapedEPR)\n",
    "\n",
    "# determine densities by cluster assignment and plot\n",
    "fig, ax = plt.subplots()\n",
    "bins = np.linspace(episodesPerShow.min(), episodesPerShow.max(), 40)\n",
    "for ii in np.unique(cluster_id):\n",
    "    subset = episodesPerShow[cluster_id==ii]\n",
    "    ax.hist(subset, bins=bins, alpha=0.5, label=f\"Cluster {ii}\")\n",
    "ax.legend()\n",
    "plt.show()"
   ]
  }
 ],
 "metadata": {
  "kernelspec": {
   "display_name": "Python 3 (ipykernel)",
   "language": "python",
   "name": "python3"
  },
  "language_info": {
   "codemirror_mode": {
    "name": "ipython",
    "version": 3
   },
   "file_extension": ".py",
   "mimetype": "text/x-python",
   "name": "python",
   "nbconvert_exporter": "python",
   "pygments_lexer": "ipython3",
   "version": "3.9.7"
  }
 },
 "nbformat": 4,
 "nbformat_minor": 5
}
