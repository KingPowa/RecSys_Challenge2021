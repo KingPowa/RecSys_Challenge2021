{
 "cells": [
  {
   "cell_type": "code",
   "execution_count": 1,
   "id": "7e809989",
   "metadata": {},
   "outputs": [],
   "source": [
    "import sys\n",
    "sys.path.append('../RecSysRep/')"
   ]
  },
  {
   "cell_type": "code",
   "execution_count": 2,
   "id": "bc728eee",
   "metadata": {},
   "outputs": [],
   "source": [
    "import Basics.Load as ld\n",
    "\n",
    "URM_all, _, _, _, _ = ld.getCOOs()\n",
    "ICM_weighted = ld.getICMselected('7')\n",
    "# URM_train, URM_val = ld.getSplit(URM_train_val, 5678, 0.8)"
   ]
  },
  {
   "cell_type": "code",
   "execution_count": 3,
   "id": "09a0a841",
   "metadata": {},
   "outputs": [
    {
     "name": "stdout",
     "output_type": "stream",
     "text": [
      "Warning: 7 (0.05 %) of 13650 users have no sampled items\n",
      "EvaluatorHoldout: Ignoring 13643 ( 0.1%) Users that have less than 1 test interactions\n"
     ]
    }
   ],
   "source": [
    "from Evaluation.Evaluator import EvaluatorHoldout\n",
    "from Data_manager.split_functions.split_train_validation_random_holdout import split_train_in_two_percentage_global_sample\n",
    "\n",
    "URM_train, URM_validation = split_train_in_two_percentage_global_sample(URM_all, train_percentage = 0.8, seed=1234)\n",
    "# URM_train, URM_validation = split_train_in_two_percentage_global_sample(URM_train_validation, train_percentage = 0.8)\n",
    "\n",
    "evaluator_validation = EvaluatorHoldout(URM_validation, cutoff_list=[10])\n",
    "# evaluator_test = EvaluatorHoldout(URM_test, cutoff_list=[10])"
   ]
  },
  {
   "cell_type": "code",
   "execution_count": 4,
   "id": "2d0f462a",
   "metadata": {},
   "outputs": [],
   "source": [
    "import os\n",
    "\n",
    "ofp = \"../models_temp/Similarity_Hybrid/\"\n",
    "\n",
    "models_to_combine_best = {\n",
    "                            'RP3ICMnew': {'alpha': 1.029719677583138, 'beta': 1.0630164752134375, 'topK': 6964, 'normalize_similarity': True},\n",
    "                            'RP3ICM' : {\"topK\": 2550, \"alpha\": 1.3058102610510849, \"beta\": 0.5150718337969987, \"normalize_similarity\": True, \"implicit\": True},\n",
    "                            'IALS' : {\"num_factors\": 29, \"epochs\": 50, \"confidence_scaling\": \"log\", \"alpha\": 0.001, \"epsilon\": 0.001, \"reg\": 0.01},\n",
    "                            'SLIMgensub': {\"l1_ratio\" : 0.025887359156206147, \"topK\": 2140, \"alpha\": 0.009567288586539689, \"workers\": 8, \"mw\": 1},\n",
    "                            'SLIMBPR' : {\"epochs\": 440, \"lambda_i\": 0.007773815998802306, \"lambda_j\": 0.003342522366982381, \"learning_rate\": 0.010055161410725193, \"topK\": 4289, \"random_seed\": 1234, \"sgd_mode\": \"sgd\"},\n",
    "                            'SLIMweig': {'l1_ratio': 0.0005247075138160404, 'topK': 4983, 'alpha': 0.06067400905430761, 'workers': 8, 'mw': 2.308619939318322},\n",
    "                            'SLIMER': {'topK': 6000, 'l1_ratio': 0.0005495104968035837, 'alpha': 0.08007142704041009, 'workers': 8},\n",
    "                            'P3alpha': {'topK': 4834, 'alpha': 1.764994849187595, 'normalize_similarity': True, 'implicit': True},\n",
    "                            'RP3beta': {\"topK\": 1049, \"alpha\": 1.1626473723475605, \"beta\": 0.6765017195261293, \"normalize_similarity\": True, \"implicit\": True},\n",
    "                            'icm_weighted': {\"shrink\": 4000, \"topK\": 985, \"feature_weighting\": \"TF-IDF\", \"normalize\": True}\n",
    "                         }\n"
   ]
  },
  {
   "cell_type": "code",
   "execution_count": 5,
   "id": "1348b9f2",
   "metadata": {},
   "outputs": [],
   "source": [
    "def model_init(recommender, name, args):\n",
    "    path_name = ofp + name + \".zip\"\n",
    "    print(path_name)\n",
    "    if os.path.exists(path_name):\n",
    "        print(\"Model found!\")\n",
    "        recommender.load_model(ofp, name)\n",
    "    else:\n",
    "        print(\"Model does not exists, creating...\")\n",
    "        if not os.path.exists(ofp):\n",
    "            print(\"Main folder does not exist, creating...\")\n",
    "            os.makedirs(ofp)\n",
    "        recommender.fit(**args)\n",
    "        recommender.save_model(ofp, name)"
   ]
  },
  {
   "cell_type": "code",
   "execution_count": 6,
   "id": "1fe35dd8",
   "metadata": {},
   "outputs": [],
   "source": [
    "from Recommenders.NonPersonalizedRecommender import TopPop\n",
    "from Recommenders.KNN.ItemKNNCBFRecommender import ItemKNNCBFRecommender\n",
    "from Recommenders.SLIM.Cython.SLIM_BPR_Cython import SLIM_BPR_Cython\n",
    "from Recommenders.SLIM.SLIMElasticNetRecommender import MultiThreadSLIM_SLIMElasticNetRecommender\n",
    "from Recommenders.GraphBased.P3alphaRecommender import P3alphaRecommender\n",
    "from Recommenders.GraphBased.RP3betaRecommender import RP3betaRecommender\n",
    "from Recommenders.GraphBased.RP3betaRecommender import RP3betaRecommenderICM\n",
    "from Recommenders.MatrixFactorization.IALSRecommender import IALSRecommender"
   ]
  },
  {
   "cell_type": "code",
   "execution_count": 7,
   "id": "2329e3a7",
   "metadata": {},
   "outputs": [],
   "source": [
    "from Recommenders.KNN.ItemKNNScoresHybridMultipleRecommender import ItemKNNScoresHybridTwoRecommender"
   ]
  },
  {
   "cell_type": "code",
   "execution_count": 8,
   "id": "399ca661",
   "metadata": {},
   "outputs": [
    {
     "name": "stdout",
     "output_type": "stream",
     "text": [
      "../models_temp/Similarity_Hybrid/SLIMER.zip\n",
      "Model found!\n",
      "SLIMElasticNetRecommender: Loading model from file '../models_temp/Similarity_Hybrid/SLIMER'\n",
      "SLIMElasticNetRecommender: Loading complete\n",
      "../models_temp/Similarity_Hybrid/SLIMBPR.zip\n",
      "Model found!\n",
      "SLIM_BPR_Recommender: Loading model from file '../models_temp/Similarity_Hybrid/SLIMBPR'\n",
      "SLIM_BPR_Recommender: Loading complete\n"
     ]
    }
   ],
   "source": [
    "recommender1 = MultiThreadSLIM_SLIMElasticNetRecommender(URM_train)\n",
    "recommender2 = SLIM_BPR_Cython(URM_train)\n",
    "\n",
    "model_init(recommender1, 'SLIMER', models_to_combine_best['SLIMER'])\n",
    "# model_init(recommender2, 'KNNweigh', models_to_combine_best['icm_weighted'])\n",
    "model_init(recommender2, 'SLIMBPR', models_to_combine_best['SLIMBPR'])"
   ]
  },
  {
   "cell_type": "code",
   "execution_count": 9,
   "id": "4b3c2ca0",
   "metadata": {},
   "outputs": [],
   "source": [
    "def rank_models(evaluator, recommenders):\n",
    "    for r in recommenders:\n",
    "        r_d, _ = evaluator.evaluateRecommender(r)\n",
    "        print(r.RECOMMENDER_NAME, r_d.loc[10]['MAP'])"
   ]
  },
  {
   "cell_type": "code",
   "execution_count": 10,
   "id": "b03d5ba5",
   "metadata": {},
   "outputs": [
    {
     "name": "stdout",
     "output_type": "stream",
     "text": [
      "EvaluatorHoldout: Processed 13643 (100.0%) in 13.71 sec. Users per second: 995\n",
      "SLIMElasticNetRecommender 0.24959000429314926\n",
      "EvaluatorHoldout: Processed 13643 (100.0%) in 30.86 sec. Users per second: 442\n",
      "SLIM_BPR_Recommender 0.23089291676992302\n"
     ]
    }
   ],
   "source": [
    "rank_models(evaluator_validation, [recommender1, recommender2])"
   ]
  },
  {
   "cell_type": "code",
   "execution_count": 13,
   "id": "b055f71c",
   "metadata": {},
   "outputs": [],
   "source": [
    "import numpy as np\n",
    "\n",
    "def test_percentage(recommender_1, recommender_2, evaluator, step):\n",
    "    recommender = ItemKNNScoresHybridTwoRecommender(URM_train, recommender_1, recommender_2)\n",
    "    results = []\n",
    "    alp_space = np.linspace(0.5, 0.8, step, True)\n",
    "    for alp in alp_space:\n",
    "        recommender.fit(alpha = alp)\n",
    "        r_d, _ = evaluator.evaluateRecommender(recommender)\n",
    "        print(alp, \":\", r_d.loc[10]['MAP'])\n",
    "        results.append(r_d.loc[10]['MAP'])\n",
    "    \n",
    "    return alp_space, results"
   ]
  },
  {
   "cell_type": "code",
   "execution_count": null,
   "id": "301a9343",
   "metadata": {},
   "outputs": [
    {
     "name": "stdout",
     "output_type": "stream",
     "text": [
      "EvaluatorHoldout: Processed 13643 (100.0%) in 3.57 min. Users per second: 64\n",
      "0.5 : 0.25054021540204935\n",
      "EvaluatorHoldout: Processed 13643 (100.0%) in 3.60 min. Users per second: 63\n",
      "0.5333333333333333 : 0.250556634660022\n",
      "EvaluatorHoldout: Processed 13643 (100.0%) in 3.65 min. Users per second: 62\n",
      "0.5666666666666667 : 0.25059735267460903\n",
      "EvaluatorHoldout: Processed 13643 (100.0%) in 3.60 min. Users per second: 63\n",
      "0.6 : 0.25060919955462996\n",
      "EvaluatorHoldout: Processed 13643 (100.0%) in 3.60 min. Users per second: 63\n",
      "0.6333333333333333 : 0.2504542913454097\n"
     ]
    }
   ],
   "source": [
    "alp_space, results = test_percentage(recommender1, recommender2, evaluator_validation, 10)"
   ]
  },
  {
   "cell_type": "code",
   "execution_count": null,
   "id": "2221ec4b",
   "metadata": {},
   "outputs": [],
   "source": [
    "import matplotlib.pyplot as plt\n",
    "\n",
    "_ = plt.figure(figsize=(16, 9))\n",
    "plt.plot(alp_space,results, label='MAP variability')\n",
    "plt.ylabel('MAP')\n",
    "plt.xlabel('User Group')\n",
    "plt.legend()\n",
    "plt.show()\n",
    "\n",
    "plt.savefig('userwise.png')"
   ]
  },
  {
   "cell_type": "markdown",
   "id": "d2de3d59",
   "metadata": {},
   "source": [
    "* SLIMER + KNNweight: 0.2499 with alpha = 0.95"
   ]
  },
  {
   "cell_type": "code",
   "execution_count": null,
   "id": "62d2b355",
   "metadata": {},
   "outputs": [],
   "source": [
    "from skopt.space import Real, Integer, Categorical\n",
    "\n",
    "hyperparameters_range_dictionary = {\n",
    "    \"shrink\": Integer(10, 500),\n",
    "    \"topK\": Integer(200, 1000),\n",
    "    \"feature_weighting\": Categorical([\"none\", \"TF-IDF\"]),\n",
    "    \"normalize\": Categorical([True, False]),\n",
    "    \"ICM_weight\": Integer(5, 500),\n",
    "}"
   ]
  },
  {
   "cell_type": "code",
   "execution_count": null,
   "id": "7a396c9f",
   "metadata": {},
   "outputs": [],
   "source": [
    "from Recommenders.KNN.ItemKNN_CFCBF_Hybrid_Recommender import ItemKNN_CFCBF_Hybrid_Recommender\n",
    "from HyperparameterTuning.SearchBayesianSkopt import SearchBayesianSkopt\n",
    "\n",
    "recommender_class = ItemKNN_CFCBF_Hybrid_Recommender\n",
    "\n",
    "hyperparameterSearch = SearchBayesianSkopt(recommender_class,\n",
    "                                         evaluator_validation=evaluator_validation)"
   ]
  },
  {
   "cell_type": "code",
   "execution_count": null,
   "id": "a841f179",
   "metadata": {},
   "outputs": [],
   "source": [
    "from HyperparameterTuning.SearchAbstractClass import SearchInputRecommenderArgs\n",
    "  \n",
    "recommender_input_args = SearchInputRecommenderArgs(\n",
    "    CONSTRUCTOR_POSITIONAL_ARGS = [URM_train, ICM_genre_all],     # For a CBF model simply put [URM_train, ICM_train]\n",
    "    CONSTRUCTOR_KEYWORD_ARGS = {},\n",
    "    FIT_POSITIONAL_ARGS = [],\n",
    "    FIT_KEYWORD_ARGS = {}, # Additiona hyperparameters for the fit function\n",
    ")"
   ]
  },
  {
   "cell_type": "code",
   "execution_count": null,
   "id": "754c8ac6",
   "metadata": {},
   "outputs": [],
   "source": [
    "if __name__ == '__main__':\n",
    "    hyperparameterSearch.search(recommender_input_args,\n",
    "                           hyperparameter_search_space = hyperparameters_range_dictionary,\n",
    "                           n_cases = n_cases,\n",
    "                           n_random_starts = n_random_starts,\n",
    "                           output_folder_path = output_folder_path,\n",
    "                           output_file_name_root = recommender_class.RECOMMENDER_NAME,\n",
    "                           metric_to_optimize = metric_to_optimize,\n",
    "                           cutoff_to_optimize = cutoff_to_optimize,\n",
    "                          )"
   ]
  },
  {
   "cell_type": "code",
   "execution_count": null,
   "id": "3d773c81",
   "metadata": {},
   "outputs": [],
   "source": [
    "'''\n",
    "recommender = MultiThreadSLIM_SLIMElasticNetRecommender(R_F)\n",
    "recommender.load_model(output_folder_path, file_name = MultiThreadSLIM_SLIMElasticNetRecommender.RECOMMENDER_NAME + \"_best_model.zip\" )\n",
    "\n",
    "import pandas as pd\n",
    "at = 10\n",
    "\n",
    "user_test_path = '../data/data_target_users_test.csv'\n",
    "user_test_dataframe = pd.read_csv(filepath_or_buffer=user_test_path,\n",
    "sep=\",\",\n",
    "dtype={0:int})\n",
    "\n",
    "subm_set = user_test_dataframe.to_numpy().T[0]\n",
    "\n",
    "\n",
    "subm_res = {\"user_id\":[], \"item_list\":[]}\n",
    "\n",
    "for user_id in subm_set:\n",
    "\tsubm_res[\"user_id\"].append(user_id)\n",
    "\tres = recommender.recommend(user_id, cutoff=at)\n",
    "\tres = ' '.join(map(str, res))\n",
    "\tif user_id < 3:\n",
    "\t\tprint(user_id)\n",
    "\t\tprint(res)\n",
    "\tsubm_res[\"item_list\"].append(res)\n",
    "\n",
    "\n",
    "\t# print(subm_res)\n",
    "\n",
    "submission = pd.DataFrame.from_dict(subm_res)\n",
    "\t# submission\n",
    "\n",
    "from datetime import datetime\n",
    "\n",
    "now = datetime.now() # current date and time\n",
    "\n",
    "\n",
    "submission.to_csv('../subs/submission {:%Y_%m_%d %H_%M_%S}.csv'.format(now), index=False)\n",
    "\n",
    "'''"
   ]
  },
  {
   "cell_type": "code",
   "execution_count": null,
   "id": "ed47bc68",
   "metadata": {},
   "outputs": [],
   "source": [
    "from Recommenders.SLIM.SLIMElasticNetRecommender import MultiThreadSLIM_SLIMElasticNetRecommender\n",
    "CFrecommender = MultiThreadSLIM_SLIMElasticNetRecommender(URM_train)\n",
    "CFrecommender.load_model('../result_experiments/BEST_SLIM_PURECF/', file_name = CFrecommender.RECOMMENDER_NAME + \"_my_own_save.zip\")\n",
    "\n",
    "from Recommenders.FeatureWeighting.CFW_D_Similarity_Linalg import CFW_D_Similarity_Linalg\n",
    "FW_recommender = CFW_D_Similarity_Linalg(URM_train, ICM_stacked, CFrecommender.W_sparse)\n",
    "FW_recommender.load_model('../result_experiments/BEST_FW/', file_name = FW_recommender.RECOMMENDER_NAME + \"_my_own_save.zip\")"
   ]
  },
  {
   "cell_type": "code",
   "execution_count": null,
   "id": "08996bc8",
   "metadata": {},
   "outputs": [],
   "source": [
    "import scipy.sparse as sps\n",
    "ICM_length_all_5km = ld.getICMlength('5km')\n",
    "URM_all, ICM_genre_all, ICM_subgenre_all, ICM_channel_all, _ = ld.getCOOs()\n",
    "ICM_stacked = sps.hstack((ICM_genre_all, ICM_subgenre_all, ICM_channel_all, ICM_length_all_5km))"
   ]
  },
  {
   "cell_type": "code",
   "execution_count": null,
   "id": "98701678",
   "metadata": {},
   "outputs": [],
   "source": [
    "import pandas as pd\n",
    "argsort_features = np.argsort(-FW_recommender.D_best)\n",
    "\n",
    "selection_quota = 0.3\n",
    "        \n",
    "n_to_select = int(selection_quota*len(argsort_features))\n",
    "selected_features = argsort_features[:n_to_select]\n",
    "        \n",
    "ICM_selected = ICM_stacked.todense()[:,selected_features]\n",
    "pd.DataFrame(ICM_selected).to_csv('ICM_selected_3.csv', index=False, header=True)\n"
   ]
  },
  {
   "cell_type": "code",
   "execution_count": null,
   "id": "7b73d27a",
   "metadata": {},
   "outputs": [],
   "source": []
  }
 ],
 "metadata": {
  "kernelspec": {
   "display_name": "Python 3",
   "language": "python",
   "name": "python3"
  },
  "language_info": {
   "codemirror_mode": {
    "name": "ipython",
    "version": 3
   },
   "file_extension": ".py",
   "mimetype": "text/x-python",
   "name": "python",
   "nbconvert_exporter": "python",
   "pygments_lexer": "ipython3",
   "version": "3.8.8"
  }
 },
 "nbformat": 4,
 "nbformat_minor": 5
}
