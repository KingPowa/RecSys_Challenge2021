{
 "cells": [
  {
   "cell_type": "code",
   "execution_count": 1,
   "id": "7e809989",
   "metadata": {},
   "outputs": [],
   "source": [
    "import sys\n",
    "sys.path.append('../RecSysRep/')"
   ]
  },
  {
   "cell_type": "code",
   "execution_count": 2,
   "id": "bc728eee",
   "metadata": {},
   "outputs": [],
   "source": [
    "import Basics.Load as ld\n",
    "\n",
    "URM_all, _, _, _, _ = ld.getCOOs()\n",
    "ICM_all = ld.getICMall()\n",
    "\n",
    "SEED = 6180"
   ]
  },
  {
   "cell_type": "code",
   "execution_count": 3,
   "id": "09a0a841",
   "metadata": {},
   "outputs": [
    {
     "name": "stdout",
     "output_type": "stream",
     "text": [
      "Warning: 1 (0.01 %) of 13650 users have no sampled items\n",
      "EvaluatorHoldout: Ignoring 13649 ( 0.0%) Users that have less than 1 test interactions\n"
     ]
    }
   ],
   "source": [
    "from Evaluation.Evaluator import EvaluatorHoldout\n",
    "from Data_manager.split_functions.split_train_validation_random_holdout import split_train_in_two_percentage_global_sample\n",
    "\n",
    "URM_train, URM_validation = split_train_in_two_percentage_global_sample(URM_all, train_percentage = 0.7, seed=SEED)\n",
    "\n",
    "evaluator_validation = EvaluatorHoldout(URM_validation, cutoff_list=[10])"
   ]
  },
  {
   "cell_type": "code",
   "execution_count": 36,
   "id": "2d0f462a",
   "metadata": {},
   "outputs": [],
   "source": [
    "import os\n",
    "\n",
    "ofp = \"../models_temp/Similarity_Hybrid/Split07/\"\n",
    "\n",
    "\n",
    "models_to_combine_best = {\n",
    "                            'IALS' : {\"num_factors\": 29, \"epochs\": 50, \"confidence_scaling\": \"log\", \"alpha\": 0.001, \"epsilon\": 0.001, \"reg\": 0.01},\n",
    "                            'SLIMBPR' : {\"epochs\": 440, \"lambda_i\": 0.007773815998802306, \"lambda_j\": 0.003342522366982381, \"learning_rate\": 0.010055161410725193, \"topK\": 4289, \"random_seed\": 1234, \"sgd_mode\": \"sgd\"},\n",
    "                            'SLIMER': {'topK': 6000, 'l1_ratio': 0.0005495104968035837, 'alpha': 0.08007142704041009, 'workers': 8},\n",
    "                            'P3alpha': {'topK': 4834, 'alpha': 1.764994849187595, 'normalize_similarity': True, 'implicit': True},\n",
    "                            'RP3beta': {\"topK\": 1049, \"alpha\": 1.1626473723475605, \"beta\": 0.6765017195261293, \"normalize_similarity\": True, \"implicit\": True},\n",
    "                            'ICM_all': {\"shrink\": 5675, \"topK\": 2310, \"feature_weighting\": \"BM25\", \"normalize\": False},\n",
    "                            'TopPop': {},\n",
    "                            'PureSVD': {'num_factors': 30},\n",
    "                            'UserKNN': {\"topK\": 469, \"similarity\": \"cosine\", \"shrink\": 588, \"normalize\": True, \"feature_weighting\": \"TF-IDF\", \"URM_bias\": False},\n",
    "                            'EASE_R': {'l2_norm': 3750},\n",
    "}"
   ]
  },
  {
   "cell_type": "code",
   "execution_count": 5,
   "id": "1348b9f2",
   "metadata": {},
   "outputs": [],
   "source": [
    "def model_init(recommender, name, args):\n",
    "    path_name = ofp + name + str(SEED) + \".zip\"\n",
    "    print(path_name)\n",
    "    if os.path.exists(path_name):\n",
    "        print(\"Model found!\")\n",
    "        recommender.load_model(ofp, name + str(SEED))\n",
    "    else:\n",
    "        print(\"Model does not exists, creating...\")\n",
    "        if not os.path.exists(ofp):\n",
    "            print(\"Main folder does not exist, creating...\")\n",
    "            os.makedirs(ofp)\n",
    "        recommender.fit(**args)\n",
    "        recommender.save_model(ofp, name + str(SEED))"
   ]
  },
  {
   "cell_type": "code",
   "execution_count": 27,
   "id": "1fe35dd8",
   "metadata": {},
   "outputs": [],
   "source": [
    "from Recommenders.NonPersonalizedRecommender import TopPop\n",
    "from Recommenders.KNN.ItemKNNCBFRecommender import ItemKNNCBFRecommender\n",
    "from Recommenders.SLIM.Cython.SLIM_BPR_Cython import SLIM_BPR_Cython\n",
    "from Recommenders.SLIM.SLIMElasticNetRecommender import MultiThreadSLIM_SLIMElasticNetRecommender\n",
    "# from Recommenders.SLIM.SLIMElasticNetRecommender import MultiThreadSLIM_SLIM_S_ElasticNetRecommender\n",
    "from Recommenders.GraphBased.P3alphaRecommender import P3alphaRecommender\n",
    "from Recommenders.GraphBased.RP3betaRecommender import RP3betaRecommender\n",
    "from Recommenders.MatrixFactorization.IALSRecommender import IALSRecommender\n",
    "from Recommenders.KNN.UserKNNCFRecommender import UserKNNCFRecommender\n",
    "from Recommenders.MatrixFactorization.PureSVDRecommender import PureSVDRecommender\n",
    "from Recommenders.EASE_R.EASE_R_Recommender import EASE_R_Recommender"
   ]
  },
  {
   "cell_type": "code",
   "execution_count": 28,
   "id": "2329e3a7",
   "metadata": {},
   "outputs": [],
   "source": [
    "from Recommenders.KNN.ItemKNNScoresHybridMultipleRecommender import ItemKNNScoresHybridTwoRecommender\n",
    "from Recommenders.KNN.ItemKNNScoresHybridMultipleRecommender import ItemKNNScoresHybridTwoRecommender_FAST\n",
    "from Recommenders.KNN.ItemKNNScoresHybridMultipleRecommender import ItemKNNScoresHybridMultipleRecommender\n",
    "from Recommenders.KNN.ItemKNNSimilarityHybridRecommender import ItemKNNSimilarityHybridRecommender"
   ]
  },
  {
   "cell_type": "code",
   "execution_count": 30,
   "id": "035dfa3b",
   "metadata": {
    "scrolled": true
   },
   "outputs": [
    {
     "name": "stdout",
     "output_type": "stream",
     "text": [
      "../models_temp/Similarity_Hybrid/Split07/SLIMER6180.zip\n",
      "Model found!\n",
      "SLIMElasticNetRecommender: Loading model from file '../models_temp/Similarity_Hybrid/Split07/SLIMER6180'\n",
      "SLIMElasticNetRecommender: Loading complete\n",
      "../models_temp/Similarity_Hybrid/Split07/SLIMBPR6180.zip\n",
      "Model found!\n",
      "SLIM_BPR_Recommender: Loading model from file '../models_temp/Similarity_Hybrid/Split07/SLIMBPR6180'\n",
      "SLIM_BPR_Recommender: Loading complete\n",
      "../models_temp/Similarity_Hybrid/Split07/RP3beta6180.zip\n",
      "Model found!\n",
      "RP3betaRecommender: Loading model from file '../models_temp/Similarity_Hybrid/Split07/RP3beta6180'\n",
      "RP3betaRecommender: Loading complete\n",
      "../models_temp/Similarity_Hybrid/Split07/ICM_all6180.zip\n",
      "Model found!\n",
      "ItemKNNCBFRecommender: Loading model from file '../models_temp/Similarity_Hybrid/Split07/ICM_all6180'\n",
      "ItemKNNCBFRecommender: Loading complete\n",
      "../models_temp/Similarity_Hybrid/Split07/IALS6180.zip\n",
      "Model found!\n",
      "IALSRecommender: Loading model from file '../models_temp/Similarity_Hybrid/Split07/IALS6180'\n",
      "IALSRecommender: Loading complete\n",
      "../models_temp/Similarity_Hybrid/Split07/P3alpha6180.zip\n",
      "Model found!\n",
      "P3alphaRecommender: Loading model from file '../models_temp/Similarity_Hybrid/Split07/P3alpha6180'\n",
      "P3alphaRecommender: Loading complete\n",
      "../models_temp/Similarity_Hybrid/Split07/UserKNN6180.zip\n",
      "Model found!\n",
      "UserKNNCFRecommender: Loading model from file '../models_temp/Similarity_Hybrid/Split07/UserKNN6180'\n",
      "UserKNNCFRecommender: Loading complete\n",
      "../models_temp/Similarity_Hybrid/Split07/PureSVD6180.zip\n",
      "Model found!\n",
      "PureSVDRecommender: Loading model from file '../models_temp/Similarity_Hybrid/Split07/PureSVD6180'\n",
      "PureSVDRecommender: Loading complete\n",
      "../models_temp/Similarity_Hybrid/Split07/TopPop6180.zip\n",
      "Model found!\n",
      "TopPopRecommender: Loading model from file '../models_temp/Similarity_Hybrid/Split07/TopPop6180'\n",
      "TopPopRecommender: Loading complete\n",
      "../models_temp/Similarity_Hybrid/Split07/EASE_R6180.zip\n",
      "Model found!\n",
      "EASE_R_Recommender: Loading model from file '../models_temp/Similarity_Hybrid/Split07/EASE_R6180'\n",
      "EASE_R_Recommender: Loading complete\n"
     ]
    },
    {
     "ename": "KeyError",
     "evalue": "'SLIM_all'",
     "output_type": "error",
     "traceback": [
      "\u001b[1;31m---------------------------------------------------------------------------\u001b[0m",
      "\u001b[1;31mKeyError\u001b[0m                                  Traceback (most recent call last)",
      "\u001b[1;32m<ipython-input-30-b324917b29a5>\u001b[0m in \u001b[0;36m<module>\u001b[1;34m\u001b[0m\n\u001b[0;32m     21\u001b[0m \u001b[0mmodel_init\u001b[0m\u001b[1;33m(\u001b[0m\u001b[0mrecommender9\u001b[0m\u001b[1;33m,\u001b[0m \u001b[1;34m'TopPop'\u001b[0m\u001b[1;33m,\u001b[0m \u001b[0mmodels_to_combine_best\u001b[0m\u001b[1;33m[\u001b[0m\u001b[1;34m'TopPop'\u001b[0m\u001b[1;33m]\u001b[0m\u001b[1;33m)\u001b[0m\u001b[1;33m\u001b[0m\u001b[1;33m\u001b[0m\u001b[0m\n\u001b[0;32m     22\u001b[0m \u001b[0mmodel_init\u001b[0m\u001b[1;33m(\u001b[0m\u001b[0mrecommender10\u001b[0m\u001b[1;33m,\u001b[0m \u001b[1;34m'EASE_R'\u001b[0m\u001b[1;33m,\u001b[0m \u001b[0mmodels_to_combine_best\u001b[0m\u001b[1;33m[\u001b[0m\u001b[1;34m'EASE_R'\u001b[0m\u001b[1;33m]\u001b[0m\u001b[1;33m)\u001b[0m\u001b[1;33m\u001b[0m\u001b[1;33m\u001b[0m\u001b[0m\n\u001b[1;32m---> 23\u001b[1;33m \u001b[0mmodel_init\u001b[0m\u001b[1;33m(\u001b[0m\u001b[0mrecommender11\u001b[0m\u001b[1;33m,\u001b[0m \u001b[1;34m'SLIMall'\u001b[0m\u001b[1;33m,\u001b[0m \u001b[0mmodels_to_combine_best\u001b[0m\u001b[1;33m[\u001b[0m\u001b[1;34m'SLIM_all'\u001b[0m\u001b[1;33m]\u001b[0m\u001b[1;33m)\u001b[0m\u001b[1;33m\u001b[0m\u001b[1;33m\u001b[0m\u001b[0m\n\u001b[0m",
      "\u001b[1;31mKeyError\u001b[0m: 'SLIM_all'"
     ]
    }
   ],
   "source": [
    "recommender1 = MultiThreadSLIM_SLIMElasticNetRecommender(URM_train)\n",
    "recommender2 = SLIM_BPR_Cython(URM_train)\n",
    "recommender3 = RP3betaRecommender(URM_train)\n",
    "recommender4 = ItemKNNCBFRecommender(URM_train, ICM_all)\n",
    "recommender5 = IALSRecommender(URM_train)\n",
    "recommender6 = P3alphaRecommender(URM_train)\n",
    "recommender7 = UserKNNCFRecommender(URM_train)\n",
    "recommender8 = PureSVDRecommender(URM_train)\n",
    "recommender9 = TopPop(URM_train)\n",
    "recommender10 = EASE_R_Recommender(URM_train)\n",
    "recommender11 = MultiThreadSLIM_SLIM_S_ElasticNetRecommender(URM_train, ICM_all)\n",
    "\n",
    "model_init(recommender1, 'SLIMER', models_to_combine_best['SLIMER'])\n",
    "model_init(recommender2, 'SLIMBPR', models_to_combine_best['SLIMBPR'])\n",
    "model_init(recommender3, 'RP3beta', models_to_combine_best['RP3beta'])\n",
    "model_init(recommender4, 'ICM_all', models_to_combine_best['ICM_all'])\n",
    "model_init(recommender5, 'IALS', models_to_combine_best['IALS'])\n",
    "model_init(recommender6, 'P3alpha', models_to_combine_best['P3alpha'])\n",
    "model_init(recommender7, 'UserKNN', models_to_combine_best['UserKNN'])\n",
    "model_init(recommender8, 'PureSVD', models_to_combine_best['PureSVD'])\n",
    "model_init(recommender9, 'TopPop', models_to_combine_best['TopPop'])\n",
    "model_init(recommender10, 'EASE_R', models_to_combine_best['EASE_R'])\n",
    "model_init(recommender11, 'SLIMall', models_to_combine_best['SLIM_all'])"
   ]
  },
  {
   "cell_type": "code",
   "execution_count": null,
   "id": "399ca661",
   "metadata": {},
   "outputs": [],
   "source": [
    "recommenderHybrid1 = ItemKNNSimilarityHybridRecommender(URM_train, recommender1, recommender3)\n",
    "recommenderHybrid1.fit(alpha = 0.65)\n",
    "\n",
    "recommenderHybrid2 = ItemKNNScoresHybridTwoRecommender(URM_train, recommenderHybrid1, recommender3)\n",
    "recommenderHybrid2.fit(alpha = 0.10)"
   ]
  },
  {
   "cell_type": "code",
   "execution_count": 34,
   "id": "4b3c2ca0",
   "metadata": {},
   "outputs": [],
   "source": [
    "def rank_models(evaluator, recommenders):\n",
    "    for r in recommenders:\n",
    "        r_d, _ = evaluator.evaluateRecommender(r)\n",
    "        print(r.RECOMMENDER_NAME, r_d.loc[10]['MAP'])"
   ]
  },
  {
   "cell_type": "code",
   "execution_count": null,
   "id": "b03d5ba5",
   "metadata": {},
   "outputs": [],
   "source": [
    "rank_models(evaluator_validation, [recommender1, recommender2, recommender3, recommender4, recommender5, recommender6, recommender7, recommender8, recommender9, recommender10])"
   ]
  },
  {
   "cell_type": "code",
   "execution_count": 21,
   "id": "b055f71c",
   "metadata": {},
   "outputs": [],
   "source": [
    "import numpy as np\n",
    "\n",
    "# TWO RECOMMENDERS SIMILARITY\n",
    "\n",
    "FROM = 0.91\n",
    "TO = 0.99\n",
    "def test_percentage(recommender_1, recommender_2, evaluator, step):\n",
    "    recommender = ItemKNNSimilarityHybridRecommender(URM_train, recommender_1.W_sparse, recommender_2.W_sparse)\n",
    "    results = []\n",
    "    alp_space = np.linspace(FROM, TO, step, True)\n",
    "    for alp in alp_space:\n",
    "        recommender.fit(alpha = alp)\n",
    "        r_d, _ = evaluator.evaluateRecommender(recommender)\n",
    "        print(alp, \":\", r_d.loc[10]['MAP'])\n",
    "        results.append(r_d.loc[10]['MAP'])\n",
    "    \n",
    "    return alp_space, results"
   ]
  },
  {
   "cell_type": "code",
   "execution_count": 41,
   "id": "6885d83c",
   "metadata": {},
   "outputs": [],
   "source": [
    "import numpy as np\n",
    "\n",
    "# TWO RECOMMENDERS SCORES\n",
    "\n",
    "FROM = 0.4\n",
    "TO = 0.9\n",
    "def test_percentage(recommender_1, recommender_2, evaluator, step):\n",
    "    recommender = ItemKNNScoresHybridTwoRecommender(URM_train, recommender_1, recommender_2)\n",
    "    results = []\n",
    "    alp_space = np.linspace(FROM, TO, step, True)\n",
    "    for alp in alp_space:\n",
    "        recommender.fit(alpha = alp)\n",
    "        r_d, _ = evaluator.evaluateRecommender(recommender)\n",
    "        print(alp, \":\", r_d.loc[10]['MAP'])\n",
    "        results.append(r_d.loc[10]['MAP'])\n",
    "    \n",
    "    return alp_space, results"
   ]
  },
  {
   "cell_type": "code",
   "execution_count": 42,
   "id": "301a9343",
   "metadata": {},
   "outputs": [
    {
     "name": "stdout",
     "output_type": "stream",
     "text": [
      "EvaluatorHoldout: Processed 13649 (100.0%) in 22.16 sec. Users per second: 616\n",
      "0.4 : 0.32666704753066367\n",
      "EvaluatorHoldout: Processed 13649 (100.0%) in 22.31 sec. Users per second: 612\n",
      "0.525 : 0.32871637203493104\n",
      "EvaluatorHoldout: Processed 13649 (100.0%) in 22.21 sec. Users per second: 614\n",
      "0.65 : 0.33127690033690443\n",
      "EvaluatorHoldout: Processed 13649 (100.0%) in 22.33 sec. Users per second: 611\n",
      "0.775 : 0.334255117242149\n",
      "EvaluatorHoldout: Processed 13649 (100.0%) in 22.22 sec. Users per second: 614\n",
      "0.9 : 0.3389643639222372\n"
     ]
    }
   ],
   "source": [
    "STEP = 5\n",
    "alp_space, results = test_percentage(recommender1, recommender7, evaluator_validation, STEP)"
   ]
  },
  {
   "cell_type": "markdown",
   "id": "358faa32",
   "metadata": {},
   "source": [
    "* SLIMER + RP3 (alpha 0.58 similarity) da 0.3433 a 0.3440\n",
    "* SLIMER + BPR worsens similarity X\n",
    "* SLIMER + EASE (alpha 0.64 scores_fast) da 0.3433 a 0.3441"
   ]
  },
  {
   "cell_type": "code",
   "execution_count": null,
   "id": "803ff272",
   "metadata": {},
   "outputs": [],
   "source": [
    "\n",
    "evaluator_validation.evaluateRecommender(recommenderHybrid7)"
   ]
  },
  {
   "cell_type": "code",
   "execution_count": null,
   "id": "b992fd86",
   "metadata": {},
   "outputs": [],
   "source": [
    "import numpy as np\n",
    "\n",
    "# THREE RECOMMENDERS\n",
    "\n",
    "FROM = 0.1\n",
    "TO = 0.9\n",
    "\n",
    "def test_percentage(recommender_1, recommender_2, recommender_3, evaluator, step):\n",
    "    recommender = ItemKNNScoresHybridMultipleRecommender(URM_train, recommender_1, recommender_2, recommender_3)\n",
    "    results = []\n",
    "    alp_space = np.linspace(12, 18, step, True)\n",
    "    for alp in alp_space:\n",
    "        recommender.fit(alpha = alp, beta = 5, gamma = 1)\n",
    "        r_d, _ = evaluator.evaluateRecommender(recommender)\n",
    "        print(alp, \":\", r_d.loc[10]['MAP'])\n",
    "        results.append(r_d.loc[10]['MAP'])\n",
    "    \n",
    "    return alp_space, results"
   ]
  },
  {
   "cell_type": "code",
   "execution_count": null,
   "id": "904ab70a",
   "metadata": {},
   "outputs": [],
   "source": [
    "alp_space, results = test_percentage(recommender1, recommender2, recommender3, evaluator_validation, 5)"
   ]
  },
  {
   "cell_type": "code",
   "execution_count": null,
   "id": "2221ec4b",
   "metadata": {},
   "outputs": [],
   "source": [
    "import matplotlib.pyplot as plt\n",
    "\n",
    "_ = plt.figure(figsize=(16, 9))\n",
    "plt.plot(alp_space,results, label='MAP variability')\n",
    "plt.ylabel('MAP')\n",
    "plt.xlabel('User Group')\n",
    "plt.legend()\n",
    "plt.show()\n",
    "\n",
    "plt.savefig('userwise.png')"
   ]
  },
  {
   "cell_type": "markdown",
   "id": "71659e94",
   "metadata": {},
   "source": [
    "* # SLIMER + KNNweight: 0.2499 with alpha = 0.95\n",
    "* # SLIMER + SLIMBPR: 0.2507 with alpha = 0.58\n",
    "* # (SLIMER + SLIMBPR) + KNN_selected_3: 0.2509 with alpha 0.96"
   ]
  },
  {
   "cell_type": "code",
   "execution_count": null,
   "id": "3d773c81",
   "metadata": {},
   "outputs": [],
   "source": [
    "hyp = {'alpha': 0.9674267406603186, 'beta': 0.017675237513072553, 'gamma': 0.04900644363228254}\n",
    "\n",
    "recommender1 = MultiThreadSLIM_SLIMElasticNetRecommender(URM_all)\n",
    "# recommender1.fit(**models_to_combine_best['SLIMER'])\n",
    "# recommender1.save_model(ofp + 'SLIMER_ALL/', 'SLIMER_ALL')\n",
    "recommender1.load_model(ofp + 'SLIMER_ALL/', 'SLIMER_ALL')\n",
    "\n",
    "recommender2 = SLIM_BPR_Cython(URM_all)\n",
    "# recommender2.fit(**models_to_combine_best['SLIMBPR'])\n",
    "# recommender2.save_model(ofp + 'SLIMBPR_ALL/', 'SLIMBPR_ALL')\n",
    "recommender2.load_model(ofp + 'SLIMBPR_ALL/', 'SLIMBPR_ALL')\n",
    "\n",
    "recommender3 = RP3betaRecommender(URM_all)\n",
    "# recommender3.fit(**models_to_combine_best['RP3beta'])\n",
    "# recommender3.save_model(ofp + 'RP3beta_ALL/', 'RP3beta_ALL')\n",
    "recommender3.load_model(ofp + 'RP3beta_ALL/', 'RP3beta_ALL')\n",
    "\n",
    "recommenderHybrid = ItemKNNScoresHybridMultipleRecommender(URM_all, recommender1, recommender2, recommender3)\n",
    "recommenderHybrid.fit(**hyp)\n",
    "\n",
    "recommender = recommenderHybrid\n",
    "\n",
    "import pandas as pd\n",
    "at = 10\n",
    "\n",
    "user_test_path = '../data/data_target_users_test.csv'\n",
    "user_test_dataframe = pd.read_csv(filepath_or_buffer=user_test_path,\n",
    "sep=\",\",\n",
    "dtype={0:int})\n",
    "\n",
    "subm_set = user_test_dataframe.to_numpy().T[0]\n",
    "\n",
    "\n",
    "subm_res = {\"user_id\":[], \"item_list\":[]}\n",
    "\n",
    "for user_id in subm_set:\n",
    "\tsubm_res[\"user_id\"].append(user_id)\n",
    "\tres = recommender.recommend(user_id, cutoff=at)\n",
    "\tres = ' '.join(map(str, res))\n",
    "\tif user_id < 3:\n",
    "\t\tprint(user_id)\n",
    "\t\tprint(res)\n",
    "\tsubm_res[\"item_list\"].append(res)\n",
    "\n",
    "\n",
    "\t# print(subm_res)\n",
    "\n",
    "submission = pd.DataFrame.from_dict(subm_res)\n",
    "\t# submission\n",
    "\n",
    "from datetime import datetime\n",
    "\n",
    "now = datetime.now() # current date and time\n",
    "\n",
    "\n",
    "submission.to_csv('../subs/submission {:%Y_%m_%d %H_%M_%S}.csv'.format(now), index=False)\n",
    "\n"
   ]
  },
  {
   "cell_type": "code",
   "execution_count": null,
   "id": "ed47bc68",
   "metadata": {},
   "outputs": [],
   "source": [
    "from Recommenders.SLIM.SLIMElasticNetRecommender import MultiThreadSLIM_SLIMElasticNetRecommender\n",
    "CFrecommender = MultiThreadSLIM_SLIMElasticNetRecommender(URM_train)\n",
    "CFrecommender.load_model('../result_experiments/BEST_SLIM_PURECF/', file_name = CFrecommender.RECOMMENDER_NAME + \"_my_own_save.zip\")\n",
    "\n",
    "from Recommenders.FeatureWeighting.CFW_D_Similarity_Linalg import CFW_D_Similarity_Linalg\n",
    "FW_recommender = CFW_D_Similarity_Linalg(URM_train, ICM_stacked, CFrecommender.W_sparse)\n",
    "FW_recommender.load_model('../result_experiments/BEST_FW/', file_name = FW_recommender.RECOMMENDER_NAME + \"_my_own_save.zip\")"
   ]
  },
  {
   "cell_type": "code",
   "execution_count": null,
   "id": "08996bc8",
   "metadata": {},
   "outputs": [],
   "source": [
    "import scipy.sparse as sps\n",
    "ICM_length_all_5km = ld.getICMlength('5km')\n",
    "ICM_stacked = sps.hstack((ICM_genre_all, ICM_subgenre_all, ICM_channel_all, ICM_length_all_5km))"
   ]
  },
  {
   "cell_type": "code",
   "execution_count": null,
   "id": "98701678",
   "metadata": {},
   "outputs": [],
   "source": [
    "import pandas as pd\n",
    "argsort_features = np.argsort(-FW_recommender.D_best)\n",
    "\n",
    "selection_quota = 0.1\n",
    "        \n",
    "n_to_select = int(selection_quota*len(argsort_features))\n",
    "selected_features = argsort_features[:n_to_select]\n",
    "        \n",
    "ICM_selected = ICM_stacked.todense()[:,selected_features]\n",
    "pd.DataFrame(ICM_selected).to_csv('ICM_selected_1.csv', index=False, header=True)\n"
   ]
  },
  {
   "cell_type": "code",
   "execution_count": null,
   "id": "7b73d27a",
   "metadata": {},
   "outputs": [],
   "source": [
    "import scipy.sparse as sps\n",
    "import pandas as pd\n",
    "URM_all, ICM_genre_all, ICM_subgenre_all, ICM_channel_all, _ = ld.getCOOs()\n",
    "ICM_length_all_5km = ld.getICMlength('5km')\n",
    "pd.DataFrame(sps.hstack([ICM_genre_all, ICM_subgenre_all, ICM_channel_all, ICM_length_all_5km]).todense()).to_csv('ICM_ALL.csv', index=False, header=True)"
   ]
  },
  {
   "cell_type": "code",
   "execution_count": null,
   "id": "0b8046ee",
   "metadata": {},
   "outputs": [],
   "source": [
    "recommender1 = recommender1 = MultiThreadSLIM_SLIMElasticNetRecommender(URM_train)\n",
    "model_init(recommender1, 'SLIMER', models_to_combine_best['SLIMER'])\n",
    "rank_models(evaluator_validation, [recommender1])\n",
    "recommender1.fit(**models_to_combine_best['SLIMER'])\n",
    "rank_models(evaluator_validation, [recommender1])\n",
    "\n",
    "# recommender1.save_model(ofp + 'SLIMER_ALL/', 'SLIMER_ALL')\n",
    "# recommender1.load_model(ofp + 'SLIMER_ALL/', 'SLIMER_ALL')"
   ]
  },
  {
   "cell_type": "code",
   "execution_count": null,
   "id": "4d02cad9",
   "metadata": {},
   "outputs": [],
   "source": []
  }
 ],
 "metadata": {
  "kernelspec": {
   "display_name": "Python 3",
   "language": "python",
   "name": "python3"
  },
  "language_info": {
   "codemirror_mode": {
    "name": "ipython",
    "version": 3
   },
   "file_extension": ".py",
   "mimetype": "text/x-python",
   "name": "python",
   "nbconvert_exporter": "python",
   "pygments_lexer": "ipython3",
   "version": "3.8.8"
  }
 },
 "nbformat": 4,
 "nbformat_minor": 5
}
