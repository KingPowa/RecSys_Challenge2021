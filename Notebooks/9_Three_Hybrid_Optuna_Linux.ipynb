{
 "cells": [
  {
   "cell_type": "code",
   "execution_count": 1,
   "id": "7e809989",
   "metadata": {},
   "outputs": [],
   "source": [
    "import sys\n",
    "sys.path.append('../RecSysRep/')"
   ]
  },
  {
   "cell_type": "code",
   "execution_count": 2,
   "id": "bc728eee",
   "metadata": {},
   "outputs": [],
   "source": [
    "import Basics.Load as ld\n",
    "\n",
    "URM_all, _, _, _, _ = ld.getCOOs()\n",
    "ICM_all = ld.getICMall()"
   ]
  },
  {
   "cell_type": "code",
   "execution_count": 3,
   "id": "09a0a841",
   "metadata": {},
   "outputs": [
    {
     "name": "stdout",
     "output_type": "stream",
     "text": [
      "Warning: 7 (0.05 %) of 13650 users have no sampled items\n",
      "EvaluatorHoldout: Ignoring 13643 ( 0.1%) Users that have less than 1 test interactions\n"
     ]
    }
   ],
   "source": [
    "from Evaluation.Evaluator import EvaluatorHoldout\n",
    "from Data_manager.split_functions.split_train_validation_random_holdout import split_train_in_two_percentage_global_sample\n",
    "\n",
    "URM_train, URM_validation = split_train_in_two_percentage_global_sample(URM_all, train_percentage = 0.8, seed=8888)\n",
    "# URM_train, URM_validation = split_train_in_two_percentage_global_sample(URM_train_validation, train_percentage = 0.8)\n",
    "\n",
    "evaluator_validation = EvaluatorHoldout(URM_validation, cutoff_list=[10])\n",
    "# evaluator_test = EvaluatorHoldout(URM_test, cutoff_list=[10])"
   ]
  },
  {
   "cell_type": "code",
   "execution_count": 4,
   "id": "2d0f462a",
   "metadata": {},
   "outputs": [],
   "source": [
    "import os\n",
    "\n",
    "ofp = \"../models_temp/Similarity_Hybrid/\"\n",
    "\n",
    "models_to_combine_best = {\n",
    "                            'RP3ICMnew': {'alpha': 1.029719677583138, 'beta': 1.0630164752134375, 'topK': 6964, 'normalize_similarity': True},\n",
    "                            'RP3ICM' : {\"topK\": 2550, \"alpha\": 1.3058102610510849, \"beta\": 0.5150718337969987, \"normalize_similarity\": True, \"implicit\": True},\n",
    "                            'IALS' : {\"num_factors\": 29, \"epochs\": 50, \"confidence_scaling\": \"log\", \"alpha\": 0.001, \"epsilon\": 0.001, \"reg\": 0.01},\n",
    "                            'SLIMgensub': {\"l1_ratio\" : 0.025887359156206147, \"topK\": 2140, \"alpha\": 0.009567288586539689, \"workers\": 8, \"mw\": 1},\n",
    "                            'SLIMBPR' : {\"epochs\": 440, \"lambda_i\": 0.007773815998802306, \"lambda_j\": 0.003342522366982381, \"learning_rate\": 0.010055161410725193, \"topK\": 4289, \"random_seed\": 1234, \"sgd_mode\": \"sgd\"},\n",
    "                            'SLIMweig': {'l1_ratio': 0.0005247075138160404, 'topK': 4983, 'alpha': 0.06067400905430761, 'workers': 8, 'mw': 2.308619939318322},\n",
    "                            'SLIMER': {'topK': 6000, 'l1_ratio': 0.0005495104968035837, 'alpha': 0.08007142704041009, 'workers': 8},\n",
    "                            'P3alpha': {'topK': 4834, 'alpha': 1.764994849187595, 'normalize_similarity': True, 'implicit': True},\n",
    "                            'RP3beta': {\"topK\": 1049, \"alpha\": 1.1626473723475605, \"beta\": 0.6765017195261293, \"normalize_similarity\": True, \"implicit\": True},\n",
    "                            'sel7': {\"shrink\": 4000, \"topK\": 985, \"feature_weighting\": \"TF-IDF\", \"normalize\": True},\n",
    "                            'sel9': {\"shrink\": 5212, \"topK\": 923, \"feature_weighting\": \"TF-IDF\", \"normalize\": True},\n",
    "                            'sel3': {'shrink': 2211, 'topK': 188, 'feature_weighting': 'TF-IDF', 'normalize': True},\n",
    "                            'ICM_all': {\"shrink\": 5675, \"topK\": 2310, \"feature_weighting\": \"BM25\", \"normalize\": False},\n",
    "                            'ER_BPR': {'alpha': 0.58},\n",
    "                            'TopPop': {},\n",
    "                         }\n"
   ]
  },
  {
   "cell_type": "code",
   "execution_count": 5,
   "id": "1348b9f2",
   "metadata": {},
   "outputs": [],
   "source": [
    "def model_init(recommender, name, args):\n",
    "    path_name = ofp + name + \".zip\"\n",
    "    print(path_name)\n",
    "    if os.path.exists(path_name):\n",
    "        print(\"Model found!\")\n",
    "        recommender.load_model(ofp, name)\n",
    "    else:\n",
    "        print(\"Model does not exists, creating...\")\n",
    "        if not os.path.exists(ofp):\n",
    "            print(\"Main folder does not exist, creating...\")\n",
    "            os.makedirs(ofp)\n",
    "        recommender.fit(**args)\n",
    "        recommender.save_model(ofp, name)"
   ]
  },
  {
   "cell_type": "code",
   "execution_count": 6,
   "id": "1fe35dd8",
   "metadata": {},
   "outputs": [],
   "source": [
    "from Recommenders.NonPersonalizedRecommender import TopPop\n",
    "from Recommenders.KNN.ItemKNNCBFRecommender import ItemKNNCBFRecommender\n",
    "from Recommenders.SLIM.Cython.SLIM_BPR_Cython import SLIM_BPR_Cython\n",
    "from Recommenders.SLIM.SLIMElasticNetRecommender import MultiThreadSLIM_SLIMElasticNetRecommender\n",
    "from Recommenders.GraphBased.P3alphaRecommender import P3alphaRecommender\n",
    "from Recommenders.GraphBased.RP3betaRecommender import RP3betaRecommender\n",
    "from Recommenders.GraphBased.RP3betaRecommender import RP3betaRecommenderICM\n",
    "from Recommenders.MatrixFactorization.IALSRecommender import IALSRecommender"
   ]
  },
  {
   "cell_type": "code",
   "execution_count": 7,
   "id": "2329e3a7",
   "metadata": {},
   "outputs": [],
   "source": [
    "from Recommenders.KNN.ItemKNNScoresHybridMultipleRecommender import ItemKNNScoresHybridTwoRecommender\n",
    "from Recommenders.KNN.ItemKNNScoresHybridMultipleRecommender import ItemKNNScoresHybridMultipleRecommender\n",
    "from Recommenders.KNN.ItemKNNScoresHybridMultipleRecommender import ItemKNNScoresHybridTwoRecommender_PRUNE"
   ]
  },
  {
   "cell_type": "code",
   "execution_count": 8,
   "id": "035dfa3b",
   "metadata": {},
   "outputs": [
    {
     "name": "stdout",
     "output_type": "stream",
     "text": [
      "../models_temp/Similarity_Hybrid/SLIMER.zip\n",
      "Model found!\n",
      "SLIMElasticNetRecommender: Loading model from file '../models_temp/Similarity_Hybrid/SLIMER'\n",
      "SLIMElasticNetRecommender: Loading complete\n",
      "../models_temp/Similarity_Hybrid/SLIMBPR_8888.zip\n",
      "Model found!\n",
      "SLIM_BPR_Recommender: Loading model from file '../models_temp/Similarity_Hybrid/SLIMBPR_8888'\n",
      "SLIM_BPR_Recommender: Loading complete\n",
      "../models_temp/Similarity_Hybrid/RP3beta.zip\n",
      "Model found!\n",
      "RP3betaRecommender: Loading model from file '../models_temp/Similarity_Hybrid/RP3beta'\n",
      "RP3betaRecommender: Loading complete\n"
     ]
    }
   ],
   "source": [
    "recommender1 = MultiThreadSLIM_SLIMElasticNetRecommender(URM_train)\n",
    "recommender2 = SLIM_BPR_Cython(URM_train)\n",
    "recommender3 = RP3betaRecommender(URM_train)\n",
    "# recommender3 = ItemKNNCBFRecommender(URM_train, ICM_sel_9)\n",
    "\n",
    "model_init(recommender1, 'SLIMER', models_to_combine_best['SLIMER'])\n",
    "# model_init(recommender2, 'KNNweigh', models_to_combine_best['icm_weighted'])\n",
    "model_init(recommender2, 'SLIMBPR_8888', models_to_combine_best['SLIMBPR'])\n",
    "model_init(recommender3, 'RP3beta', models_to_combine_best['RP3beta'])\n",
    "# model_init(recommender3, 'TopPop', models_to_combine_best['TopPop'])\n"
   ]
  },
  {
   "cell_type": "code",
   "execution_count": null,
   "id": "399ca661",
   "metadata": {},
   "outputs": [],
   "source": [
    "recommenderHybrid = ItemKNNScoresHybridTwoRecommender(URM_train, recommender1, recommender2)\n",
    "recommenderHybrid.fit(alpha = 0.58)\n"
   ]
  },
  {
   "cell_type": "code",
   "execution_count": null,
   "id": "4b3c2ca0",
   "metadata": {},
   "outputs": [],
   "source": [
    "def rank_models(evaluator, recommenders):\n",
    "    for r in recommenders:\n",
    "        r_d, _ = evaluator.evaluateRecommender(r)\n",
    "        print(r.RECOMMENDER_NAME, r_d.loc[10]['MAP'])"
   ]
  },
  {
   "cell_type": "code",
   "execution_count": null,
   "id": "b03d5ba5",
   "metadata": {},
   "outputs": [],
   "source": [
    "rank_models(evaluator_validation, [recommender1, recommender2])"
   ]
  },
  {
   "cell_type": "code",
   "execution_count": 9,
   "id": "3d2d4a39",
   "metadata": {},
   "outputs": [
    {
     "name": "stdout",
     "output_type": "stream",
     "text": [
      "Collecting optuna\n",
      "  Downloading optuna-2.10.0-py3-none-any.whl (308 kB)\n",
      "\u001b[K     |████████████████████████████████| 308 kB 2.1 MB/s eta 0:00:01\n",
      "\u001b[?25hCollecting cliff\n",
      "  Downloading cliff-3.10.0-py3-none-any.whl (80 kB)\n",
      "\u001b[K     |████████████████████████████████| 80 kB 3.7 MB/s  eta 0:00:01\n",
      "\u001b[?25hRequirement already satisfied: PyYAML in /home/alessio/miniconda3/envs/RecSys/lib/python3.8/site-packages (from optuna) (6.0)\n",
      "Collecting cmaes>=0.8.2\n",
      "  Downloading cmaes-0.8.2-py3-none-any.whl (15 kB)\n",
      "Collecting colorlog\n",
      "  Downloading colorlog-6.6.0-py2.py3-none-any.whl (11 kB)\n",
      "Requirement already satisfied: tqdm in /home/alessio/miniconda3/envs/RecSys/lib/python3.8/site-packages (from optuna) (4.59.0)\n",
      "Requirement already satisfied: numpy in /home/alessio/miniconda3/envs/RecSys/lib/python3.8/site-packages (from optuna) (1.20.1)\n",
      "Requirement already satisfied: sqlalchemy>=1.1.0 in /home/alessio/miniconda3/envs/RecSys/lib/python3.8/site-packages (from optuna) (1.4.22)\n",
      "Requirement already satisfied: scipy!=1.4.0 in /home/alessio/miniconda3/envs/RecSys/lib/python3.8/site-packages (from optuna) (1.6.2)\n",
      "Collecting alembic\n",
      "  Downloading alembic-1.7.5-py3-none-any.whl (209 kB)\n",
      "\u001b[K     |████████████████████████████████| 209 kB 48.9 MB/s eta 0:00:01\n",
      "\u001b[?25hRequirement already satisfied: packaging>=20.0 in /home/alessio/miniconda3/envs/RecSys/lib/python3.8/site-packages (from optuna) (21.3)\n",
      "Requirement already satisfied: pyparsing!=3.0.5,>=2.0.2 in /home/alessio/miniconda3/envs/RecSys/lib/python3.8/site-packages (from packaging>=20.0->optuna) (3.0.4)\n",
      "Requirement already satisfied: greenlet!=0.4.17 in /home/alessio/miniconda3/envs/RecSys/lib/python3.8/site-packages (from sqlalchemy>=1.1.0->optuna) (1.1.1)\n",
      "Collecting importlib-resources\n",
      "  Downloading importlib_resources-5.4.0-py3-none-any.whl (28 kB)\n",
      "Requirement already satisfied: importlib-metadata in /home/alessio/miniconda3/envs/RecSys/lib/python3.8/site-packages (from alembic->optuna) (4.8.1)\n",
      "Collecting Mako\n",
      "  Downloading Mako-1.1.6-py2.py3-none-any.whl (75 kB)\n",
      "\u001b[K     |████████████████████████████████| 75 kB 4.1 MB/s  eta 0:00:01\n",
      "\u001b[?25hCollecting cmd2>=1.0.0\n",
      "  Downloading cmd2-2.3.3-py3-none-any.whl (149 kB)\n",
      "\u001b[K     |████████████████████████████████| 149 kB 44.2 MB/s eta 0:00:01\n",
      "\u001b[?25hCollecting stevedore>=2.0.1\n",
      "  Downloading stevedore-3.5.0-py3-none-any.whl (49 kB)\n",
      "\u001b[K     |████████████████████████████████| 49 kB 2.5 MB/s  eta 0:00:01\n",
      "\u001b[?25hCollecting autopage>=0.4.0\n",
      "  Downloading autopage-0.4.0-py3-none-any.whl (20 kB)\n",
      "Collecting PrettyTable>=0.7.2\n",
      "  Downloading prettytable-2.5.0-py3-none-any.whl (24 kB)\n",
      "Collecting pbr!=2.1.0,>=2.0.0\n",
      "  Downloading pbr-5.8.0-py2.py3-none-any.whl (112 kB)\n",
      "\u001b[K     |████████████████████████████████| 112 kB 6.2 MB/s eta 0:00:01\n",
      "\u001b[?25hRequirement already satisfied: attrs>=16.3.0 in /home/alessio/miniconda3/envs/RecSys/lib/python3.8/site-packages (from cmd2>=1.0.0->cliff->optuna) (21.2.0)\n",
      "Requirement already satisfied: wcwidth>=0.1.7 in /home/alessio/miniconda3/envs/RecSys/lib/python3.8/site-packages (from cmd2>=1.0.0->cliff->optuna) (0.2.5)\n",
      "Collecting pyperclip>=1.6\n",
      "  Downloading pyperclip-1.8.2.tar.gz (20 kB)\n",
      "Requirement already satisfied: zipp>=0.5 in /home/alessio/miniconda3/envs/RecSys/lib/python3.8/site-packages (from importlib-metadata->alembic->optuna) (3.6.0)\n",
      "Requirement already satisfied: MarkupSafe>=0.9.2 in /home/alessio/miniconda3/envs/RecSys/lib/python3.8/site-packages (from Mako->alembic->optuna) (1.1.1)\n",
      "Building wheels for collected packages: pyperclip\n",
      "  Building wheel for pyperclip (setup.py) ... \u001b[?25ldone\n",
      "\u001b[?25h  Created wheel for pyperclip: filename=pyperclip-1.8.2-py3-none-any.whl size=11136 sha256=2004f5c9dfa2b34048a6003714057c9c89cb84fd911e990e3b75e6c0b5253ab4\n",
      "  Stored in directory: /home/alessio/.cache/pip/wheels/7f/1a/65/84ff8c386bec21fca6d220ea1f5498a0367883a78dd5ba6122\n",
      "Successfully built pyperclip\n",
      "Installing collected packages: pyperclip, pbr, stevedore, PrettyTable, Mako, importlib-resources, cmd2, autopage, colorlog, cmaes, cliff, alembic, optuna\n",
      "Successfully installed Mako-1.1.6 PrettyTable-2.5.0 alembic-1.7.5 autopage-0.4.0 cliff-3.10.0 cmaes-0.8.2 cmd2-2.3.3 colorlog-6.6.0 importlib-resources-5.4.0 optuna-2.10.0 pbr-5.8.0 pyperclip-1.8.2 stevedore-3.5.0\n"
     ]
    }
   ],
   "source": [
    "# !pip install optuna\n",
    "import optuna\n",
    "\n",
    "class Objective(object):\n",
    "    def __init__(self, URM_train, recommender1, recommender2, recommender3, evaluator):\n",
    "        # Hold this implementation specific arguments as the fields of the class.\n",
    "        self.URM_train = URM_train\n",
    "        self.evaluator = evaluator\n",
    "        self.recommender_1 = recommender1\n",
    "        self.recommender_2 = recommender2\n",
    "        self.recommender_3 = recommender3\n",
    "\n",
    "    def __call__(self, trial):\n",
    "        # Calculate an objective value by using the extra arguments.\n",
    "        alpha = trial.suggest_uniform('alpha', 0, 1)\n",
    "        beta = trial.suggest_uniform('beta', 0, 1)\n",
    "        gamma = trial.suggest_uniform('gamma', 0, 1)\n",
    "\n",
    "        recommender_final = ItemKNNScoresHybridMultipleRecommender(self.URM_train.tocsr(), self.recommender_1, self.recommender_2, self.recommender_3)\n",
    "        recommender_final.fit(alpha, beta, gamma)\n",
    "        result_dict, _ = self.evaluator.evaluateRecommender(recommender_final)\n",
    "\n",
    "        map_v = -result_dict.loc[10]['MAP']\n",
    "        print(map_v)\n",
    "        if map_v < -0.245: # minimum acceptable map\n",
    "            return map_v\n",
    "        else:\n",
    "            # Calculate the penalty.\n",
    "            penalty = 0.245 + map_v\n",
    "            trial.report(penalty, 0)\n",
    "\n",
    "            if trial.should_prune():\n",
    "                raise optuna.exceptions.TrialPruned()\n",
    "            return map_v"
   ]
  },
  {
   "cell_type": "code",
   "execution_count": 10,
   "id": "690c48d6",
   "metadata": {},
   "outputs": [
    {
     "name": "stderr",
     "output_type": "stream",
     "text": [
      "\u001b[32m[I 2022-01-04 13:06:16,685]\u001b[0m A new study created in memory with name: no-name-25a73f4a-d679-446d-a588-34a60e9329bb\u001b[0m\n"
     ]
    },
    {
     "name": "stdout",
     "output_type": "stream",
     "text": [
      "CURRENT CONFIGURATION:\n",
      "SLIMElasticNetRecommender with weight alpha: 0.28667858981765215\n",
      "SLIM_BPR_Recommender with weight beta: 0.47213680406476677\n",
      "RP3betaRecommender with weight gamma: 0.24118460611758114\n",
      "EvaluatorHoldout: Processed 13643 (100.0%) in 3.89 min. Users per second: 58\n"
     ]
    },
    {
     "name": "stderr",
     "output_type": "stream",
     "text": [
      "\u001b[32m[I 2022-01-04 13:10:10,032]\u001b[0m Trial 0 finished with value: -0.23130503287341897 and parameters: {'alpha': 0.576284879991134, 'beta': 0.9490952974302237, 'gamma': 0.4848323060350872}. Best is trial 0 with value: -0.23130503287341897.\u001b[0m\n"
     ]
    },
    {
     "name": "stdout",
     "output_type": "stream",
     "text": [
      "-0.23130503287341897\n",
      "CURRENT CONFIGURATION:\n",
      "SLIMElasticNetRecommender with weight alpha: 0.22361077618735503\n",
      "SLIM_BPR_Recommender with weight beta: 0.49103217970646107\n",
      "RP3betaRecommender with weight gamma: 0.2853570441061839\n",
      "EvaluatorHoldout: Processed 13643 (100.0%) in 3.80 min. Users per second: 60\n"
     ]
    },
    {
     "name": "stderr",
     "output_type": "stream",
     "text": [
      "\u001b[32m[I 2022-01-04 13:13:58,143]\u001b[0m Trial 1 finished with value: -0.23080460763063432 and parameters: {'alpha': 0.44522034698650526, 'beta': 0.9776698652809077, 'gamma': 0.5681602843932306}. Best is trial 0 with value: -0.23130503287341897.\u001b[0m\n"
     ]
    },
    {
     "name": "stdout",
     "output_type": "stream",
     "text": [
      "-0.23080460763063432\n",
      "CURRENT CONFIGURATION:\n",
      "SLIMElasticNetRecommender with weight alpha: 0.2970279655755075\n",
      "SLIM_BPR_Recommender with weight beta: 0.2929884549365904\n",
      "RP3betaRecommender with weight gamma: 0.409983579487902\n",
      "EvaluatorHoldout: Processed 13643 (100.0%) in 3.80 min. Users per second: 60\n"
     ]
    },
    {
     "name": "stderr",
     "output_type": "stream",
     "text": [
      "\u001b[32m[I 2022-01-04 13:17:46,106]\u001b[0m Trial 2 finished with value: -0.23270626020204538 and parameters: {'alpha': 0.5860090535623821, 'beta': 0.578039467931681, 'gamma': 0.8088601654942423}. Best is trial 2 with value: -0.23270626020204538.\u001b[0m\n"
     ]
    },
    {
     "name": "stdout",
     "output_type": "stream",
     "text": [
      "-0.23270626020204538\n",
      "CURRENT CONFIGURATION:\n",
      "SLIMElasticNetRecommender with weight alpha: 0.44712449636894336\n",
      "SLIM_BPR_Recommender with weight beta: 0.4613393462324286\n",
      "RP3betaRecommender with weight gamma: 0.09153615739862798\n",
      "EvaluatorHoldout: Processed 13643 (100.0%) in 3.80 min. Users per second: 60\n"
     ]
    },
    {
     "name": "stderr",
     "output_type": "stream",
     "text": [
      "\u001b[32m[I 2022-01-04 13:21:34,410]\u001b[0m Trial 3 finished with value: -0.23235006556068644 and parameters: {'alpha': 0.8000789424752779, 'beta': 0.8255148157915047, 'gamma': 0.16379364719331835}. Best is trial 2 with value: -0.23270626020204538.\u001b[0m\n"
     ]
    },
    {
     "name": "stdout",
     "output_type": "stream",
     "text": [
      "-0.23235006556068644\n",
      "CURRENT CONFIGURATION:\n",
      "SLIMElasticNetRecommender with weight alpha: 0.33298533675205083\n",
      "SLIM_BPR_Recommender with weight beta: 0.10054357754637222\n",
      "RP3betaRecommender with weight gamma: 0.566471085701577\n",
      "EvaluatorHoldout: Processed 13643 (100.0%) in 3.79 min. Users per second: 60\n"
     ]
    },
    {
     "name": "stderr",
     "output_type": "stream",
     "text": [
      "\u001b[32m[I 2022-01-04 13:25:22,101]\u001b[0m Trial 4 finished with value: -0.23826404086519162 and parameters: {'alpha': 0.41910882353692636, 'beta': 0.1265482165391304, 'gamma': 0.712983438285323}. Best is trial 4 with value: -0.23826404086519162.\u001b[0m\n"
     ]
    },
    {
     "name": "stdout",
     "output_type": "stream",
     "text": [
      "-0.23826404086519162\n",
      "CURRENT CONFIGURATION:\n",
      "SLIMElasticNetRecommender with weight alpha: 0.16762799841025564\n",
      "SLIM_BPR_Recommender with weight beta: 0.37194231470170835\n",
      "RP3betaRecommender with weight gamma: 0.4604296868880359\n",
      "EvaluatorHoldout: Processed 13643 (100.0%) in 3.77 min. Users per second: 60\n"
     ]
    },
    {
     "name": "stderr",
     "output_type": "stream",
     "text": [
      "\u001b[32m[I 2022-01-04 13:29:08,260]\u001b[0m Trial 5 pruned. \u001b[0m\n"
     ]
    },
    {
     "name": "stdout",
     "output_type": "stream",
     "text": [
      "-0.23091501077940954\n",
      "CURRENT CONFIGURATION:\n",
      "SLIMElasticNetRecommender with weight alpha: 0.3914283237391943\n",
      "SLIM_BPR_Recommender with weight beta: 0.23964636310649567\n",
      "RP3betaRecommender with weight gamma: 0.36892531315431004\n",
      "EvaluatorHoldout: Processed 13643 (100.0%) in 3.77 min. Users per second: 60\n"
     ]
    },
    {
     "name": "stderr",
     "output_type": "stream",
     "text": [
      "\u001b[32m[I 2022-01-04 13:32:54,834]\u001b[0m Trial 6 finished with value: -0.23460670859758412 and parameters: {'alpha': 0.9756996147388931, 'beta': 0.5973580601499321, 'gamma': 0.9196071517602405}. Best is trial 4 with value: -0.23826404086519162.\u001b[0m\n"
     ]
    },
    {
     "name": "stdout",
     "output_type": "stream",
     "text": [
      "-0.23460670859758412\n",
      "CURRENT CONFIGURATION:\n",
      "SLIMElasticNetRecommender with weight alpha: 0.36322971111976005\n",
      "SLIM_BPR_Recommender with weight beta: 0.2842195678686445\n",
      "RP3betaRecommender with weight gamma: 0.3525507210115954\n",
      "EvaluatorHoldout: Processed 13643 (100.0%) in 3.84 min. Users per second: 59\n"
     ]
    },
    {
     "name": "stderr",
     "output_type": "stream",
     "text": [
      "\u001b[32m[I 2022-01-04 13:36:45,618]\u001b[0m Trial 7 finished with value: -0.23335891189039315 and parameters: {'alpha': 0.6862028063944898, 'beta': 0.5369391851301205, 'gamma': 0.6660283747405069}. Best is trial 4 with value: -0.23826404086519162.\u001b[0m\n"
     ]
    },
    {
     "name": "stdout",
     "output_type": "stream",
     "text": [
      "-0.23335891189039315\n",
      "CURRENT CONFIGURATION:\n",
      "SLIMElasticNetRecommender with weight alpha: 0.3377614084208023\n",
      "SLIM_BPR_Recommender with weight beta: 0.2045090399294354\n",
      "RP3betaRecommender with weight gamma: 0.45772955164976237\n",
      "EvaluatorHoldout: Processed 13643 (100.0%) in 3.80 min. Users per second: 60\n"
     ]
    },
    {
     "name": "stderr",
     "output_type": "stream",
     "text": [
      "\u001b[32m[I 2022-01-04 13:40:33,661]\u001b[0m Trial 8 finished with value: -0.2348280529930472 and parameters: {'alpha': 0.49353230384273583, 'beta': 0.2988257838719506, 'gamma': 0.668828097380401}. Best is trial 4 with value: -0.23826404086519162.\u001b[0m\n"
     ]
    },
    {
     "name": "stdout",
     "output_type": "stream",
     "text": [
      "-0.2348280529930472\n",
      "CURRENT CONFIGURATION:\n",
      "SLIMElasticNetRecommender with weight alpha: 0.4498272209115011\n",
      "SLIM_BPR_Recommender with weight beta: 0.37102437848436626\n",
      "RP3betaRecommender with weight gamma: 0.1791484006041326\n",
      "EvaluatorHoldout: Processed 13643 (100.0%) in 3.86 min. Users per second: 59\n"
     ]
    },
    {
     "name": "stderr",
     "output_type": "stream",
     "text": [
      "\u001b[32m[I 2022-01-04 13:44:25,132]\u001b[0m Trial 9 finished with value: -0.23315425143890278 and parameters: {'alpha': 0.7536648400447883, 'beta': 0.6216342983790899, 'gamma': 0.3001549137288795}. Best is trial 4 with value: -0.23826404086519162.\u001b[0m\n"
     ]
    },
    {
     "name": "stdout",
     "output_type": "stream",
     "text": [
      "-0.23315425143890278\n",
      "CURRENT CONFIGURATION:\n",
      "SLIMElasticNetRecommender with weight alpha: 0.6459599508455452\n",
      "SLIM_BPR_Recommender with weight beta: 0.20559327536372454\n",
      "RP3betaRecommender with weight gamma: 0.1484467737907302\n",
      "EvaluatorHoldout: Processed 13643 (100.0%) in 3.84 min. Users per second: 59\n"
     ]
    },
    {
     "name": "stderr",
     "output_type": "stream",
     "text": [
      "\u001b[32m[I 2022-01-04 13:48:15,356]\u001b[0m Trial 10 finished with value: -0.23757269557386793 and parameters: {'alpha': 0.15375607507581263, 'beta': 0.04893680334288336, 'gamma': 0.035334378340101225}. Best is trial 4 with value: -0.23826404086519162.\u001b[0m\n"
     ]
    },
    {
     "name": "stdout",
     "output_type": "stream",
     "text": [
      "-0.23757269557386793\n",
      "CURRENT CONFIGURATION:\n",
      "SLIMElasticNetRecommender with weight alpha: 0.857015348336378\n",
      "SLIM_BPR_Recommender with weight beta: 0.11737870776580472\n",
      "RP3betaRecommender with weight gamma: 0.025605943897817274\n",
      "EvaluatorHoldout: Processed 13643 (100.0%) in 3.82 min. Users per second: 60\n"
     ]
    },
    {
     "name": "stderr",
     "output_type": "stream",
     "text": [
      "\u001b[32m[I 2022-01-04 13:52:04,425]\u001b[0m Trial 11 finished with value: -0.24282892325734928 and parameters: {'alpha': 0.07368633609997777, 'beta': 0.01009224272144231, 'gamma': 0.002201603730755085}. Best is trial 11 with value: -0.24282892325734928.\u001b[0m\n"
     ]
    },
    {
     "name": "stdout",
     "output_type": "stream",
     "text": [
      "-0.24282892325734928\n",
      "CURRENT CONFIGURATION:\n",
      "SLIMElasticNetRecommender with weight alpha: 0.028305817806019654\n",
      "SLIM_BPR_Recommender with weight beta: 0.08750067335099465\n",
      "RP3betaRecommender with weight gamma: 0.8841935088429858\n",
      "EvaluatorHoldout: Processed 13643 (100.0%) in 3.80 min. Users per second: 60\n"
     ]
    },
    {
     "name": "stderr",
     "output_type": "stream",
     "text": [
      "\u001b[32m[I 2022-01-04 13:55:52,305]\u001b[0m Trial 12 pruned. \u001b[0m\n"
     ]
    },
    {
     "name": "stdout",
     "output_type": "stream",
     "text": [
      "-0.2323260489418956\n",
      "CURRENT CONFIGURATION:\n",
      "SLIMElasticNetRecommender with weight alpha: 0.4624582289587681\n",
      "SLIM_BPR_Recommender with weight beta: 0.5221413639575274\n",
      "RP3betaRecommender with weight gamma: 0.015400407083704581\n",
      "EvaluatorHoldout: Processed 13643 (100.0%) in 3.81 min. Users per second: 60\n"
     ]
    },
    {
     "name": "stderr",
     "output_type": "stream",
     "text": [
      "\u001b[32m[I 2022-01-04 13:59:40,918]\u001b[0m Trial 13 pruned. \u001b[0m\n"
     ]
    },
    {
     "name": "stdout",
     "output_type": "stream",
     "text": [
      "-0.23204859402286665\n",
      "CURRENT CONFIGURATION:\n",
      "SLIMElasticNetRecommender with weight alpha: 0.007610760254191868\n",
      "SLIM_BPR_Recommender with weight beta: 0.2154448708430493\n",
      "RP3betaRecommender with weight gamma: 0.7769443689027589\n",
      "EvaluatorHoldout: Processed 13643 (100.0%) in 3.81 min. Users per second: 60\n"
     ]
    },
    {
     "name": "stderr",
     "output_type": "stream",
     "text": [
      "\u001b[32m[I 2022-01-04 14:03:29,860]\u001b[0m Trial 14 pruned. \u001b[0m\n"
     ]
    },
    {
     "name": "stdout",
     "output_type": "stream",
     "text": [
      "-0.2300625444294351\n",
      "CURRENT CONFIGURATION:\n",
      "SLIMElasticNetRecommender with weight alpha: 0.28010166956688054\n",
      "SLIM_BPR_Recommender with weight beta: 0.19291129676237168\n",
      "RP3betaRecommender with weight gamma: 0.5269870336707477\n",
      "EvaluatorHoldout: Processed 13643 (100.0%) in 3.81 min. Users per second: 60\n"
     ]
    },
    {
     "name": "stderr",
     "output_type": "stream",
     "text": [
      "\u001b[32m[I 2022-01-04 14:07:18,367]\u001b[0m Trial 15 finished with value: -0.23427467891552056 and parameters: {'alpha': 0.20892467299873033, 'beta': 0.1438903582979753, 'gamma': 0.39307367876271404}. Best is trial 11 with value: -0.24282892325734928.\u001b[0m\n"
     ]
    },
    {
     "name": "stdout",
     "output_type": "stream",
     "text": [
      "-0.23427467891552056\n",
      "CURRENT CONFIGURATION:\n",
      "SLIMElasticNetRecommender with weight alpha: 0.37211123269894925\n",
      "SLIM_BPR_Recommender with weight beta: 0.42997178231234934\n",
      "RP3betaRecommender with weight gamma: 0.19791698498870144\n",
      "EvaluatorHoldout: Processed 13643 (100.0%) in 3.83 min. Users per second: 59\n"
     ]
    },
    {
     "name": "stderr",
     "output_type": "stream",
     "text": [
      "\u001b[32m[I 2022-01-04 14:11:08,157]\u001b[0m Trial 16 pruned. \u001b[0m\n"
     ]
    },
    {
     "name": "stdout",
     "output_type": "stream",
     "text": [
      "-0.2320845186030632\n",
      "CURRENT CONFIGURATION:\n",
      "SLIMElasticNetRecommender with weight alpha: 0.19030873963423225\n",
      "SLIM_BPR_Recommender with weight beta: 0.013174715339109794\n",
      "RP3betaRecommender with weight gamma: 0.7965165450266579\n",
      "EvaluatorHoldout: Processed 13643 (100.0%) in 3.83 min. Users per second: 59\n"
     ]
    },
    {
     "name": "stderr",
     "output_type": "stream",
     "text": [
      "\u001b[32m[I 2022-01-04 14:14:58,207]\u001b[0m Trial 17 finished with value: -0.2441728097087988 and parameters: {'alpha': 0.13593855357247503, 'beta': 0.009410769838368124, 'gamma': 0.5689560407765551}. Best is trial 17 with value: -0.2441728097087988.\u001b[0m\n"
     ]
    },
    {
     "name": "stdout",
     "output_type": "stream",
     "text": [
      "-0.2441728097087988\n",
      "CURRENT CONFIGURATION:\n",
      "SLIMElasticNetRecommender with weight alpha: 0.11126173271438643\n",
      "SLIM_BPR_Recommender with weight beta: 0.400118647372714\n",
      "RP3betaRecommender with weight gamma: 0.48861961991289954\n",
      "EvaluatorHoldout: Processed 13643 (100.0%) in 3.81 min. Users per second: 60\n"
     ]
    },
    {
     "name": "stderr",
     "output_type": "stream",
     "text": [
      "\u001b[32m[I 2022-01-04 14:18:46,674]\u001b[0m Trial 18 pruned. \u001b[0m\n"
     ]
    },
    {
     "name": "stdout",
     "output_type": "stream",
     "text": [
      "-0.2303203747721079\n",
      "CURRENT CONFIGURATION:\n",
      "SLIMElasticNetRecommender with weight alpha: 0.5165943735675284\n",
      "SLIM_BPR_Recommender with weight beta: 0.011306287451942048\n",
      "RP3betaRecommender with weight gamma: 0.4720993389805297\n",
      "EvaluatorHoldout: Processed 13643 (100.0%) in 3.81 min. Users per second: 60\n"
     ]
    },
    {
     "name": "stderr",
     "output_type": "stream",
     "text": [
      "\u001b[32m[I 2022-01-04 14:22:35,403]\u001b[0m Trial 19 finished with value: -0.24905125193569866 and parameters: {'alpha': 0.2855099798979369, 'beta': 0.006248728341409828, 'gamma': 0.2609185846359996}. Best is trial 19 with value: -0.24905125193569866.\u001b[0m\n"
     ]
    },
    {
     "name": "stdout",
     "output_type": "stream",
     "text": [
      "-0.24905125193569866\n",
      "CURRENT CONFIGURATION:\n",
      "SLIMElasticNetRecommender with weight alpha: 0.31062555260285457\n",
      "SLIM_BPR_Recommender with weight beta: 0.17637129975844174\n",
      "RP3betaRecommender with weight gamma: 0.5130031476387037\n",
      "EvaluatorHoldout: Processed 13643 (100.0%) in 3.82 min. Users per second: 59\n"
     ]
    },
    {
     "name": "stderr",
     "output_type": "stream",
     "text": [
      "\u001b[32m[I 2022-01-04 14:26:24,992]\u001b[0m Trial 20 finished with value: -0.23501344081330297 and parameters: {'alpha': 0.2734299782775041, 'beta': 0.15525187885422764, 'gamma': 0.451574052230283}. Best is trial 19 with value: -0.24905125193569866.\u001b[0m\n"
     ]
    },
    {
     "name": "stdout",
     "output_type": "stream",
     "text": [
      "-0.23501344081330297\n",
      "CURRENT CONFIGURATION:\n",
      "SLIMElasticNetRecommender with weight alpha: 0.2669055073625728\n",
      "SLIM_BPR_Recommender with weight beta: 0.01732432691032558\n",
      "RP3betaRecommender with weight gamma: 0.7157701657271015\n",
      "EvaluatorHoldout: Processed 13643 (100.0%) in 3.85 min. Users per second: 59\n"
     ]
    },
    {
     "name": "stderr",
     "output_type": "stream",
     "text": [
      "\u001b[32m[I 2022-01-04 14:30:16,259]\u001b[0m Trial 21 finished with value: -0.2454561354215016 and parameters: {'alpha': 0.08737587652683765, 'beta': 0.005671401328451731, 'gamma': 0.2343190526121577}. Best is trial 19 with value: -0.24905125193569866.\u001b[0m\n"
     ]
    },
    {
     "name": "stdout",
     "output_type": "stream",
     "text": [
      "-0.2454561354215016\n",
      "CURRENT CONFIGURATION:\n",
      "SLIMElasticNetRecommender with weight alpha: 0.41601785580868383\n",
      "SLIM_BPR_Recommender with weight beta: 0.0011891440096919105\n",
      "RP3betaRecommender with weight gamma: 0.5827930001816243\n",
      "EvaluatorHoldout: Processed 13643 (100.0%) in 3.82 min. Users per second: 60\n"
     ]
    },
    {
     "name": "stderr",
     "output_type": "stream",
     "text": [
      "\u001b[32m[I 2022-01-04 14:34:05,390]\u001b[0m Trial 22 finished with value: -0.24846203471982317 and parameters: {'alpha': 0.17647824347138785, 'beta': 0.0005044448047957341, 'gamma': 0.24722565039797603}. Best is trial 19 with value: -0.24905125193569866.\u001b[0m\n"
     ]
    },
    {
     "name": "stdout",
     "output_type": "stream",
     "text": [
      "-0.24846203471982317\n",
      "CURRENT CONFIGURATION:\n",
      "SLIMElasticNetRecommender with weight alpha: 0.4333632695276849\n",
      "SLIM_BPR_Recommender with weight beta: 0.1871120973685972\n",
      "RP3betaRecommender with weight gamma: 0.37952463310371787\n",
      "EvaluatorHoldout: Processed 13643 (100.0%) in 3.84 min. Users per second: 59\n"
     ]
    },
    {
     "name": "stderr",
     "output_type": "stream",
     "text": [
      "\u001b[32m[I 2022-01-04 14:37:55,627]\u001b[0m Trial 23 finished with value: -0.23626434394520704 and parameters: {'alpha': 0.26893116569163666, 'beta': 0.11611568861197459, 'gamma': 0.23552065707025316}. Best is trial 19 with value: -0.24905125193569866.\u001b[0m\n"
     ]
    },
    {
     "name": "stdout",
     "output_type": "stream",
     "text": [
      "-0.23626434394520704\n",
      "CURRENT CONFIGURATION:\n",
      "SLIMElasticNetRecommender with weight alpha: 0.48340330806014203\n",
      "SLIM_BPR_Recommender with weight beta: 0.3512870667678299\n",
      "RP3betaRecommender with weight gamma: 0.1653096251720281\n",
      "EvaluatorHoldout: Processed 13643 (100.0%) in 3.84 min. Users per second: 59\n"
     ]
    },
    {
     "name": "stderr",
     "output_type": "stream",
     "text": [
      "\u001b[32m[I 2022-01-04 14:41:45,896]\u001b[0m Trial 24 pruned. \u001b[0m\n"
     ]
    },
    {
     "name": "stdout",
     "output_type": "stream",
     "text": [
      "-0.23357740582123082\n",
      "CURRENT CONFIGURATION:\n",
      "SLIMElasticNetRecommender with weight alpha: 0.2405037588873376\n",
      "SLIM_BPR_Recommender with weight beta: 0.4221876880213764\n",
      "RP3betaRecommender with weight gamma: 0.33730855309128593\n",
      "EvaluatorHoldout: Processed 13643 (100.0%) in 3.84 min. Users per second: 59\n"
     ]
    },
    {
     "name": "stderr",
     "output_type": "stream",
     "text": [
      "\u001b[32m[I 2022-01-04 14:45:36,274]\u001b[0m Trial 25 pruned. \u001b[0m\n"
     ]
    },
    {
     "name": "stdout",
     "output_type": "stream",
     "text": [
      "-0.23122889347290054\n",
      "CURRENT CONFIGURATION:\n",
      "SLIMElasticNetRecommender with weight alpha: 0.1979744805232516\n",
      "SLIM_BPR_Recommender with weight beta: 0.5345682576161758\n",
      "RP3betaRecommender with weight gamma: 0.2674572618605725\n",
      "EvaluatorHoldout: Processed 13643 (100.0%) in 3.84 min. Users per second: 59\n"
     ]
    },
    {
     "name": "stderr",
     "output_type": "stream",
     "text": [
      "\u001b[32m[I 2022-01-04 14:49:26,561]\u001b[0m Trial 26 pruned. \u001b[0m\n"
     ]
    },
    {
     "name": "stdout",
     "output_type": "stream",
     "text": [
      "-0.2304578137052658\n",
      "CURRENT CONFIGURATION:\n",
      "SLIMElasticNetRecommender with weight alpha: 0.40405660674271576\n",
      "SLIM_BPR_Recommender with weight beta: 0.11150222050154557\n",
      "RP3betaRecommender with weight gamma: 0.4844411727557386\n",
      "EvaluatorHoldout: Processed 13643 (100.0%) in 3.81 min. Users per second: 60\n"
     ]
    },
    {
     "name": "stderr",
     "output_type": "stream",
     "text": [
      "\u001b[32m[I 2022-01-04 14:53:15,347]\u001b[0m Trial 27 finished with value: -0.2386290108655047 and parameters: {'alpha': 0.30961765544452763, 'beta': 0.0854411374852978, 'gamma': 0.37121417545570967}. Best is trial 19 with value: -0.24905125193569866.\u001b[0m\n"
     ]
    },
    {
     "name": "stdout",
     "output_type": "stream",
     "text": [
      "-0.2386290108655047\n",
      "CURRENT CONFIGURATION:\n",
      "SLIMElasticNetRecommender with weight alpha: 0.3137798250776907\n",
      "SLIM_BPR_Recommender with weight beta: 0.32014228781860865\n",
      "RP3betaRecommender with weight gamma: 0.3660778871037006\n",
      "EvaluatorHoldout: Processed 13643 (100.0%) in 3.84 min. Users per second: 59\n"
     ]
    },
    {
     "name": "stderr",
     "output_type": "stream",
     "text": [
      "\u001b[32m[I 2022-01-04 14:57:06,029]\u001b[0m Trial 28 pruned. \u001b[0m\n"
     ]
    },
    {
     "name": "stdout",
     "output_type": "stream",
     "text": [
      "-0.23253593330610864\n",
      "CURRENT CONFIGURATION:\n",
      "SLIMElasticNetRecommender with weight alpha: 0.11797138436158994\n",
      "SLIM_BPR_Recommender with weight beta: 0.1396512935480148\n",
      "RP3betaRecommender with weight gamma: 0.7423773220903953\n",
      "EvaluatorHoldout: Processed 13643 (100.0%) in 3.83 min. Users per second: 59\n"
     ]
    },
    {
     "name": "stderr",
     "output_type": "stream",
     "text": [
      "\u001b[32m[I 2022-01-04 15:00:55,827]\u001b[0m Trial 29 pruned. \u001b[0m\n"
     ]
    },
    {
     "name": "stdout",
     "output_type": "stream",
     "text": [
      "-0.23313375136269762\n",
      "CURRENT CONFIGURATION:\n",
      "SLIMElasticNetRecommender with weight alpha: 0.3457511491581655\n",
      "SLIM_BPR_Recommender with weight beta: 0.45970849865188734\n",
      "RP3betaRecommender with weight gamma: 0.19454035218994722\n",
      "EvaluatorHoldout: Processed 13643 (100.0%) in 3.81 min. Users per second: 60\n"
     ]
    },
    {
     "name": "stderr",
     "output_type": "stream",
     "text": [
      "\u001b[32m[I 2022-01-04 15:04:44,379]\u001b[0m Trial 30 pruned. \u001b[0m\n"
     ]
    },
    {
     "name": "stdout",
     "output_type": "stream",
     "text": [
      "-0.23174024064902202\n",
      "CURRENT CONFIGURATION:\n",
      "SLIMElasticNetRecommender with weight alpha: 0.20846179437013143\n",
      "SLIM_BPR_Recommender with weight beta: 0.011216449002807273\n",
      "RP3betaRecommender with weight gamma: 0.7803217566270614\n",
      "EvaluatorHoldout: Processed 13643 (100.0%) in 3.80 min. Users per second: 60\n"
     ]
    },
    {
     "name": "stderr",
     "output_type": "stream",
     "text": [
      "\u001b[32m[I 2022-01-04 15:08:32,567]\u001b[0m Trial 31 finished with value: -0.24532623567641587 and parameters: {'alpha': 0.14140774258476596, 'beta': 0.0076085535869846775, 'gamma': 0.5293225956718618}. Best is trial 19 with value: -0.24905125193569866.\u001b[0m\n"
     ]
    },
    {
     "name": "stdout",
     "output_type": "stream",
     "text": [
      "-0.24532623567641587\n",
      "CURRENT CONFIGURATION:\n",
      "SLIMElasticNetRecommender with weight alpha: 0.17821367158314602\n",
      "SLIM_BPR_Recommender with weight beta: 0.011901714698096722\n",
      "RP3betaRecommender with weight gamma: 0.8098846137187572\n",
      "EvaluatorHoldout: Processed 13643 (100.0%) in 3.82 min. Users per second: 60\n"
     ]
    },
    {
     "name": "stderr",
     "output_type": "stream",
     "text": [
      "\u001b[32m[I 2022-01-04 15:12:21,874]\u001b[0m Trial 32 finished with value: -0.24398262263687748 and parameters: {'alpha': 0.11075415787499099, 'beta': 0.007396539092350792, 'gamma': 0.5033176611620644}. Best is trial 19 with value: -0.24905125193569866.\u001b[0m\n"
     ]
    },
    {
     "name": "stdout",
     "output_type": "stream",
     "text": [
      "-0.24398262263687748\n",
      "CURRENT CONFIGURATION:\n",
      "SLIMElasticNetRecommender with weight alpha: 0.384220466079862\n",
      "SLIM_BPR_Recommender with weight beta: 0.06838809705437011\n",
      "RP3betaRecommender with weight gamma: 0.5473914368657679\n",
      "EvaluatorHoldout: Processed 13643 (100.0%) in 3.82 min. Users per second: 60\n"
     ]
    },
    {
     "name": "stderr",
     "output_type": "stream",
     "text": [
      "\u001b[32m[I 2022-01-04 15:16:11,002]\u001b[0m Trial 33 finished with value: -0.2413925770410788 and parameters: {'alpha': 0.40525821813554114, 'beta': 0.07213264466805842, 'gamma': 0.5773635136884282}. Best is trial 19 with value: -0.24905125193569866.\u001b[0m\n"
     ]
    },
    {
     "name": "stdout",
     "output_type": "stream",
     "text": [
      "-0.2413925770410788\n",
      "CURRENT CONFIGURATION:\n",
      "SLIMElasticNetRecommender with weight alpha: 0.4544970043016493\n",
      "SLIM_BPR_Recommender with weight beta: 0.33317340138364504\n",
      "RP3betaRecommender with weight gamma: 0.21232959431470566\n",
      "EvaluatorHoldout: Processed 13643 (100.0%) in 3.81 min. Users per second: 60\n"
     ]
    },
    {
     "name": "stderr",
     "output_type": "stream",
     "text": [
      "\u001b[32m[I 2022-01-04 15:19:59,534]\u001b[0m Trial 34 pruned. \u001b[0m\n"
     ]
    },
    {
     "name": "stdout",
     "output_type": "stream",
     "text": [
      "-0.23359307465075982\n",
      "CURRENT CONFIGURATION:\n",
      "SLIMElasticNetRecommender with weight alpha: 0.1264007945088958\n",
      "SLIM_BPR_Recommender with weight beta: 0.6808963115392104\n",
      "RP3betaRecommender with weight gamma: 0.19270289395189374\n",
      "EvaluatorHoldout: Processed 13643 (100.0%) in 3.82 min. Users per second: 59\n"
     ]
    },
    {
     "name": "stderr",
     "output_type": "stream",
     "text": [
      "\u001b[32m[I 2022-01-04 15:23:48,931]\u001b[0m Trial 35 pruned. \u001b[0m\n"
     ]
    },
    {
     "name": "stdout",
     "output_type": "stream",
     "text": [
      "-0.2298123579857793\n",
      "CURRENT CONFIGURATION:\n",
      "SLIMElasticNetRecommender with weight alpha: 0.12156724428956077\n",
      "SLIM_BPR_Recommender with weight beta: 0.18347578421349273\n",
      "RP3betaRecommender with weight gamma: 0.6949569714969466\n",
      "EvaluatorHoldout: Processed 13643 (100.0%) in 3.81 min. Users per second: 60\n"
     ]
    },
    {
     "name": "stderr",
     "output_type": "stream",
     "text": [
      "\u001b[32m[I 2022-01-04 15:27:37,620]\u001b[0m Trial 36 pruned. \u001b[0m\n"
     ]
    },
    {
     "name": "stdout",
     "output_type": "stream",
     "text": [
      "-0.2322321755793134\n",
      "CURRENT CONFIGURATION:\n",
      "SLIMElasticNetRecommender with weight alpha: 0.40515128149158175\n",
      "SLIM_BPR_Recommender with weight beta: 0.003366212120597701\n",
      "RP3betaRecommender with weight gamma: 0.5914825063878205\n",
      "EvaluatorHoldout: Processed 13643 (100.0%) in 3.83 min. Users per second: 59\n"
     ]
    },
    {
     "name": "stderr",
     "output_type": "stream",
     "text": [
      "\u001b[32m[I 2022-01-04 15:31:27,336]\u001b[0m Trial 37 finished with value: -0.2485615217525354 and parameters: {'alpha': 0.2938393735894743, 'beta': 0.00244137364503505, 'gamma': 0.42897766119922953}. Best is trial 19 with value: -0.24905125193569866.\u001b[0m\n"
     ]
    },
    {
     "name": "stdout",
     "output_type": "stream",
     "text": [
      "-0.2485615217525354\n",
      "CURRENT CONFIGURATION:\n",
      "SLIMElasticNetRecommender with weight alpha: 0.6067779488627448\n",
      "SLIM_BPR_Recommender with weight beta: 0.16055326486914293\n",
      "RP3betaRecommender with weight gamma: 0.23266878626811238\n",
      "EvaluatorHoldout: Processed 13643 (100.0%) in 3.81 min. Users per second: 60\n"
     ]
    },
    {
     "name": "stderr",
     "output_type": "stream",
     "text": [
      "\u001b[32m[I 2022-01-04 15:35:16,022]\u001b[0m Trial 38 finished with value: -0.2388195498825486 and parameters: {'alpha': 0.46409412604768596, 'beta': 0.12279916777332056, 'gamma': 0.17795672572488447}. Best is trial 19 with value: -0.24905125193569866.\u001b[0m\n"
     ]
    },
    {
     "name": "stdout",
     "output_type": "stream",
     "text": [
      "-0.2388195498825486\n",
      "CURRENT CONFIGURATION:\n",
      "SLIMElasticNetRecommender with weight alpha: 0.26577564671842163\n",
      "SLIM_BPR_Recommender with weight beta: 0.4566155135681718\n",
      "RP3betaRecommender with weight gamma: 0.27760883971340644\n",
      "EvaluatorHoldout: Processed 13643 (100.0%) in 3.81 min. Users per second: 60\n"
     ]
    },
    {
     "name": "stderr",
     "output_type": "stream",
     "text": [
      "\u001b[32m[I 2022-01-04 15:39:04,640]\u001b[0m Trial 39 pruned. \u001b[0m\n"
     ]
    },
    {
     "name": "stdout",
     "output_type": "stream",
     "text": [
      "-0.23125964067857271\n",
      "CURRENT CONFIGURATION:\n",
      "SLIMElasticNetRecommender with weight alpha: 0.5970019903978647\n",
      "SLIM_BPR_Recommender with weight beta: 0.2802108250235637\n",
      "RP3betaRecommender with weight gamma: 0.12278718457857146\n",
      "EvaluatorHoldout: Processed 13643 (100.0%) in 3.79 min. Users per second: 60\n"
     ]
    },
    {
     "name": "stderr",
     "output_type": "stream",
     "text": [
      "\u001b[32m[I 2022-01-04 15:42:52,332]\u001b[0m Trial 40 finished with value: -0.23557661409013927 and parameters: {'alpha': 0.9791925594343434, 'beta': 0.45959705218599833, 'gamma': 0.2013934617757324}. Best is trial 19 with value: -0.24905125193569866.\u001b[0m\n"
     ]
    },
    {
     "name": "stdout",
     "output_type": "stream",
     "text": [
      "-0.23557661409013927\n",
      "CURRENT CONFIGURATION:\n",
      "SLIMElasticNetRecommender with weight alpha: 0.31176191405228476\n",
      "SLIM_BPR_Recommender with weight beta: 0.05057937844506676\n",
      "RP3betaRecommender with weight gamma: 0.6376587075026485\n",
      "EvaluatorHoldout: Processed 13643 (100.0%) in 3.80 min. Users per second: 60\n"
     ]
    },
    {
     "name": "stderr",
     "output_type": "stream",
     "text": [
      "\u001b[32m[I 2022-01-04 15:46:40,448]\u001b[0m Trial 41 finished with value: -0.24190998290884796 and parameters: {'alpha': 0.3015520890698776, 'beta': 0.04892296507843449, 'gamma': 0.6167761573621008}. Best is trial 19 with value: -0.24905125193569866.\u001b[0m\n"
     ]
    },
    {
     "name": "stdout",
     "output_type": "stream",
     "text": [
      "-0.24190998290884796\n",
      "CURRENT CONFIGURATION:\n",
      "SLIMElasticNetRecommender with weight alpha: 0.3178347467239489\n",
      "SLIM_BPR_Recommender with weight beta: 0.07566449771173188\n",
      "RP3betaRecommender with weight gamma: 0.6065007555643191\n",
      "EvaluatorHoldout: Processed 13643 (100.0%) in 3.82 min. Users per second: 60\n"
     ]
    },
    {
     "name": "stderr",
     "output_type": "stream",
     "text": [
      "\u001b[32m[I 2022-01-04 15:50:29,763]\u001b[0m Trial 42 finished with value: -0.23974932199662902 and parameters: {'alpha': 0.23576189159808497, 'beta': 0.05612603811008283, 'gamma': 0.44988714060172746}. Best is trial 19 with value: -0.24905125193569866.\u001b[0m\n"
     ]
    },
    {
     "name": "stdout",
     "output_type": "stream",
     "text": [
      "-0.23974932199662902\n",
      "CURRENT CONFIGURATION:\n",
      "SLIMElasticNetRecommender with weight alpha: 0.5466484335838034\n",
      "SLIM_BPR_Recommender with weight beta: 0.004178396982827177\n",
      "RP3betaRecommender with weight gamma: 0.4491731694333694\n",
      "EvaluatorHoldout: Processed 13643 (100.0%) in 3.80 min. Users per second: 60\n"
     ]
    },
    {
     "name": "stderr",
     "output_type": "stream",
     "text": [
      "\u001b[32m[I 2022-01-04 15:54:18,151]\u001b[0m Trial 43 finished with value: -0.24953473436578416 and parameters: {'alpha': 0.6084341522635087, 'beta': 0.00465066625984782, 'gamma': 0.499941607391085}. Best is trial 43 with value: -0.24953473436578416.\u001b[0m\n"
     ]
    },
    {
     "name": "stdout",
     "output_type": "stream",
     "text": [
      "-0.24953473436578416\n",
      "CURRENT CONFIGURATION:\n",
      "SLIMElasticNetRecommender with weight alpha: 0.7126389194737615\n",
      "SLIM_BPR_Recommender with weight beta: 0.12876096694112715\n",
      "RP3betaRecommender with weight gamma: 0.1586001135851114\n",
      "EvaluatorHoldout: Processed 13643 (100.0%) in 3.80 min. Users per second: 60\n"
     ]
    },
    {
     "name": "stderr",
     "output_type": "stream",
     "text": [
      "\u001b[32m[I 2022-01-04 15:58:06,292]\u001b[0m Trial 44 finished with value: -0.24116201517378041 and parameters: {'alpha': 0.6111544348189607, 'beta': 0.1104245555880629, 'gamma': 0.13601441084905627}. Best is trial 43 with value: -0.24953473436578416.\u001b[0m\n"
     ]
    },
    {
     "name": "stdout",
     "output_type": "stream",
     "text": [
      "-0.24116201517378041\n",
      "CURRENT CONFIGURATION:\n",
      "SLIMElasticNetRecommender with weight alpha: 0.6124811486838587\n",
      "SLIM_BPR_Recommender with weight beta: 0.17183910784073836\n",
      "RP3betaRecommender with weight gamma: 0.21567974347540286\n",
      "EvaluatorHoldout: Processed 13643 (100.0%) in 3.84 min. Users per second: 59\n"
     ]
    },
    {
     "name": "stderr",
     "output_type": "stream",
     "text": [
      "\u001b[32m[I 2022-01-04 16:01:57,050]\u001b[0m Trial 45 finished with value: -0.2383998596873321 and parameters: {'alpha': 0.8407382814518711, 'beta': 0.23587944955154264, 'gamma': 0.29605844565689143}. Best is trial 43 with value: -0.24953473436578416.\u001b[0m\n"
     ]
    },
    {
     "name": "stdout",
     "output_type": "stream",
     "text": [
      "-0.2383998596873321\n",
      "CURRENT CONFIGURATION:\n",
      "SLIMElasticNetRecommender with weight alpha: 0.5756893687557955\n",
      "SLIM_BPR_Recommender with weight beta: 0.13790440572959792\n",
      "RP3betaRecommender with weight gamma: 0.2864062255146067\n",
      "EvaluatorHoldout: Processed 13643 (100.0%) in 3.81 min. Users per second: 60\n"
     ]
    },
    {
     "name": "stderr",
     "output_type": "stream",
     "text": [
      "\u001b[32m[I 2022-01-04 16:05:45,772]\u001b[0m Trial 46 finished with value: -0.23939436061751487 and parameters: {'alpha': 0.7009152238157114, 'beta': 0.16790182805709616, 'gamma': 0.3487062547162293}. Best is trial 43 with value: -0.24953473436578416.\u001b[0m\n"
     ]
    },
    {
     "name": "stdout",
     "output_type": "stream",
     "text": [
      "-0.23939436061751487\n",
      "CURRENT CONFIGURATION:\n",
      "SLIMElasticNetRecommender with weight alpha: 0.45711206859267617\n",
      "SLIM_BPR_Recommender with weight beta: 0.3018833476697946\n",
      "RP3betaRecommender with weight gamma: 0.24100458373752942\n",
      "EvaluatorHoldout: Processed 13643 (100.0%) in 3.83 min. Users per second: 59\n"
     ]
    },
    {
     "name": "stderr",
     "output_type": "stream",
     "text": [
      "\u001b[32m[I 2022-01-04 16:09:35,481]\u001b[0m Trial 47 pruned. \u001b[0m\n"
     ]
    },
    {
     "name": "stdout",
     "output_type": "stream",
     "text": [
      "-0.23400931229341385\n",
      "CURRENT CONFIGURATION:\n",
      "SLIMElasticNetRecommender with weight alpha: 0.5225038935627216\n",
      "SLIM_BPR_Recommender with weight beta: 0.05187253407360572\n",
      "RP3betaRecommender with weight gamma: 0.42562357236367254\n",
      "EvaluatorHoldout: Processed 13643 (100.0%) in 3.82 min. Users per second: 60\n"
     ]
    },
    {
     "name": "stderr",
     "output_type": "stream",
     "text": [
      "\u001b[32m[I 2022-01-04 16:13:24,838]\u001b[0m Trial 48 finished with value: -0.24490426801813614 and parameters: {'alpha': 0.5694151466136913, 'beta': 0.056529734914215056, 'gamma': 0.4638367519276888}. Best is trial 43 with value: -0.24953473436578416.\u001b[0m\n"
     ]
    },
    {
     "name": "stdout",
     "output_type": "stream",
     "text": [
      "-0.24490426801813614\n",
      "CURRENT CONFIGURATION:\n",
      "SLIMElasticNetRecommender with weight alpha: 0.3803920157808635\n",
      "SLIM_BPR_Recommender with weight beta: 0.5801922457627112\n",
      "RP3betaRecommender with weight gamma: 0.039415738456425264\n",
      "EvaluatorHoldout: Processed 13643 (100.0%) in 3.81 min. Users per second: 60\n"
     ]
    },
    {
     "name": "stderr",
     "output_type": "stream",
     "text": [
      "\u001b[32m[I 2022-01-04 16:17:13,808]\u001b[0m Trial 49 pruned. \u001b[0m\n"
     ]
    },
    {
     "name": "stdout",
     "output_type": "stream",
     "text": [
      "-0.23137351964900835\n",
      "CURRENT CONFIGURATION:\n",
      "SLIMElasticNetRecommender with weight alpha: 0.3812794127367455\n",
      "SLIM_BPR_Recommender with weight beta: 0.0007346044089088273\n",
      "RP3betaRecommender with weight gamma: 0.6179859828543458\n",
      "EvaluatorHoldout: Processed 13643 (100.0%) in 3.82 min. Users per second: 59\n"
     ]
    },
    {
     "name": "stderr",
     "output_type": "stream",
     "text": [
      "\u001b[32m[I 2022-01-04 16:21:03,401]\u001b[0m Trial 50 finished with value: -0.24799826703385341 and parameters: {'alpha': 0.43787201185525443, 'beta': 0.000843640384718963, 'gamma': 0.7097125010460876}. Best is trial 43 with value: -0.24953473436578416.\u001b[0m\n"
     ]
    },
    {
     "name": "stdout",
     "output_type": "stream",
     "text": [
      "-0.24799826703385341\n",
      "CURRENT CONFIGURATION:\n",
      "SLIMElasticNetRecommender with weight alpha: 0.36345423277900624\n",
      "SLIM_BPR_Recommender with weight beta: 0.0011344617173883109\n",
      "RP3betaRecommender with weight gamma: 0.6354113055036055\n",
      "EvaluatorHoldout: Processed 13643 (100.0%) in 3.81 min. Users per second: 60\n"
     ]
    },
    {
     "name": "stderr",
     "output_type": "stream",
     "text": [
      "\u001b[32m[I 2022-01-04 16:24:52,129]\u001b[0m Trial 51 finished with value: -0.2479555420594792 and parameters: {'alpha': 0.4358700321301672, 'beta': 0.0013604955469294225, 'gamma': 0.7620127134800162}. Best is trial 43 with value: -0.24953473436578416.\u001b[0m\n"
     ]
    },
    {
     "name": "stdout",
     "output_type": "stream",
     "text": [
      "-0.2479555420594792\n",
      "CURRENT CONFIGURATION:\n",
      "SLIMElasticNetRecommender with weight alpha: 0.32983667601656264\n",
      "SLIM_BPR_Recommender with weight beta: 0.025860819173702927\n",
      "RP3betaRecommender with weight gamma: 0.6443025048097344\n",
      "EvaluatorHoldout: Processed 13643 (100.0%) in 3.81 min. Users per second: 60\n"
     ]
    },
    {
     "name": "stderr",
     "output_type": "stream",
     "text": [
      "\u001b[32m[I 2022-01-04 16:28:40,909]\u001b[0m Trial 52 finished with value: -0.24535632553004094 and parameters: {'alpha': 0.43422401685288287, 'beta': 0.0340453005903669, 'gamma': 0.8482125914123878}. Best is trial 43 with value: -0.24953473436578416.\u001b[0m\n"
     ]
    },
    {
     "name": "stdout",
     "output_type": "stream",
     "text": [
      "-0.24535632553004094\n",
      "CURRENT CONFIGURATION:\n",
      "SLIMElasticNetRecommender with weight alpha: 0.39250883594652136\n",
      "SLIM_BPR_Recommender with weight beta: 0.08645908822539405\n",
      "RP3betaRecommender with weight gamma: 0.5210320758280845\n",
      "EvaluatorHoldout: Processed 13643 (100.0%) in 3.82 min. Users per second: 60\n"
     ]
    },
    {
     "name": "stderr",
     "output_type": "stream",
     "text": [
      "\u001b[32m[I 2022-01-04 16:32:30,050]\u001b[0m Trial 53 finished with value: -0.24009337598559274 and parameters: {'alpha': 0.526221010724257, 'beta': 0.115912266490896, 'gamma': 0.6985270150692063}. Best is trial 43 with value: -0.24953473436578416.\u001b[0m\n"
     ]
    },
    {
     "name": "stdout",
     "output_type": "stream",
     "text": [
      "-0.24009337598559274\n",
      "CURRENT CONFIGURATION:\n",
      "SLIMElasticNetRecommender with weight alpha: 0.36673315464488937\n",
      "SLIM_BPR_Recommender with weight beta: 0.0008323589447144372\n",
      "RP3betaRecommender with weight gamma: 0.6324344864103962\n",
      "EvaluatorHoldout: Processed 13643 (100.0%) in 3.79 min. Users per second: 60\n"
     ]
    },
    {
     "name": "stderr",
     "output_type": "stream",
     "text": [
      "\u001b[32m[I 2022-01-04 16:36:17,452]\u001b[0m Trial 54 finished with value: -0.24786214280478824 and parameters: {'alpha': 0.46072483412169785, 'beta': 0.0010456879392445589, 'gamma': 0.7945239478727111}. Best is trial 43 with value: -0.24953473436578416.\u001b[0m\n"
     ]
    },
    {
     "name": "stdout",
     "output_type": "stream",
     "text": [
      "-0.24786214280478824\n",
      "CURRENT CONFIGURATION:\n",
      "SLIMElasticNetRecommender with weight alpha: 0.2892543929604807\n",
      "SLIM_BPR_Recommender with weight beta: 0.027687217967420318\n",
      "RP3betaRecommender with weight gamma: 0.683058389072099\n",
      "EvaluatorHoldout: Processed 13643 (100.0%) in 3.80 min. Users per second: 60\n"
     ]
    },
    {
     "name": "stderr",
     "output_type": "stream",
     "text": [
      "\u001b[32m[I 2022-01-04 16:40:05,811]\u001b[0m Trial 55 finished with value: -0.2442538617978415 and parameters: {'alpha': 0.36983719886509586, 'beta': 0.03540054494120367, 'gamma': 0.8733502668367221}. Best is trial 43 with value: -0.24953473436578416.\u001b[0m\n"
     ]
    },
    {
     "name": "stdout",
     "output_type": "stream",
     "text": [
      "-0.2442538617978415\n",
      "CURRENT CONFIGURATION:\n",
      "SLIMElasticNetRecommender with weight alpha: 0.31839282727475365\n",
      "SLIM_BPR_Recommender with weight beta: 0.0989835513448497\n",
      "RP3betaRecommender with weight gamma: 0.5826236213803966\n",
      "EvaluatorHoldout: Processed 13643 (100.0%) in 3.80 min. Users per second: 60\n"
     ]
    },
    {
     "name": "stderr",
     "output_type": "stream",
     "text": [
      "\u001b[32m[I 2022-01-04 16:43:53,830]\u001b[0m Trial 56 pruned. \u001b[0m\n"
     ]
    },
    {
     "name": "stdout",
     "output_type": "stream",
     "text": [
      "-0.2381405284877759\n",
      "CURRENT CONFIGURATION:\n",
      "SLIMElasticNetRecommender with weight alpha: 0.2549760881558615\n",
      "SLIM_BPR_Recommender with weight beta: 0.12492614934420244\n",
      "RP3betaRecommender with weight gamma: 0.620097762499936\n",
      "EvaluatorHoldout: Processed 13643 (100.0%) in 3.78 min. Users per second: 60\n"
     ]
    },
    {
     "name": "stderr",
     "output_type": "stream",
     "text": [
      "\u001b[32m[I 2022-01-04 16:47:40,990]\u001b[0m Trial 57 pruned. \u001b[0m\n"
     ]
    },
    {
     "name": "stdout",
     "output_type": "stream",
     "text": [
      "-0.23593768069909798\n",
      "CURRENT CONFIGURATION:\n",
      "SLIMElasticNetRecommender with weight alpha: 0.40001217496822183\n",
      "SLIM_BPR_Recommender with weight beta: 0.026826234330017646\n",
      "RP3betaRecommender with weight gamma: 0.5731615907017605\n",
      "EvaluatorHoldout: Processed 13643 (100.0%) in 3.80 min. Users per second: 60\n"
     ]
    },
    {
     "name": "stderr",
     "output_type": "stream",
     "text": [
      "\u001b[32m[I 2022-01-04 16:51:29,189]\u001b[0m Trial 58 finished with value: -0.24644188717046497 and parameters: {'alpha': 0.6749028778268813, 'beta': 0.04526137923683326, 'gamma': 0.9670415833097632}. Best is trial 43 with value: -0.24953473436578416.\u001b[0m\n"
     ]
    },
    {
     "name": "stdout",
     "output_type": "stream",
     "text": [
      "-0.24644188717046497\n",
      "CURRENT CONFIGURATION:\n",
      "SLIMElasticNetRecommender with weight alpha: 0.29767005322828105\n",
      "SLIM_BPR_Recommender with weight beta: 0.2893058839970857\n",
      "RP3betaRecommender with weight gamma: 0.41302406277463327\n",
      "EvaluatorHoldout: Processed 13643 (100.0%) in 3.81 min. Users per second: 60\n"
     ]
    },
    {
     "name": "stderr",
     "output_type": "stream",
     "text": [
      "\u001b[32m[I 2022-01-04 16:55:18,101]\u001b[0m Trial 59 pruned. \u001b[0m\n"
     ]
    },
    {
     "name": "stdout",
     "output_type": "stream",
     "text": [
      "-0.23270957895728828\n",
      "CURRENT CONFIGURATION:\n",
      "SLIMElasticNetRecommender with weight alpha: 0.2641035221419243\n",
      "SLIM_BPR_Recommender with weight beta: 0.0775523796313003\n",
      "RP3betaRecommender with weight gamma: 0.6583440982267754\n",
      "EvaluatorHoldout: Processed 13643 (100.0%) in 3.82 min. Users per second: 60\n"
     ]
    },
    {
     "name": "stderr",
     "output_type": "stream",
     "text": [
      "\u001b[32m[I 2022-01-04 16:59:07,483]\u001b[0m Trial 60 finished with value: -0.2386106282773074 and parameters: {'alpha': 0.2615931173665117, 'beta': 0.07681521466435068, 'gamma': 0.6520862863102608}. Best is trial 43 with value: -0.24953473436578416.\u001b[0m\n"
     ]
    },
    {
     "name": "stdout",
     "output_type": "stream",
     "text": [
      "-0.2386106282773074\n",
      "CURRENT CONFIGURATION:\n",
      "SLIMElasticNetRecommender with weight alpha: 0.3621252754662271\n",
      "SLIM_BPR_Recommender with weight beta: 0.0025012036307046157\n",
      "RP3betaRecommender with weight gamma: 0.6353735209030683\n",
      "EvaluatorHoldout: Processed 13643 (100.0%) in 3.82 min. Users per second: 60\n"
     ]
    },
    {
     "name": "stderr",
     "output_type": "stream",
     "text": [
      "\u001b[32m[I 2022-01-04 17:02:56,706]\u001b[0m Trial 61 finished with value: -0.24808097704619786 and parameters: {'alpha': 0.46124763570872074, 'beta': 0.003185842964436122, 'gamma': 0.8092904697998574}. Best is trial 43 with value: -0.24953473436578416.\u001b[0m\n"
     ]
    },
    {
     "name": "stdout",
     "output_type": "stream",
     "text": [
      "-0.24808097704619786\n",
      "CURRENT CONFIGURATION:\n",
      "SLIMElasticNetRecommender with weight alpha: 0.33081830973096094\n",
      "SLIM_BPR_Recommender with weight beta: 0.022809806294910508\n",
      "RP3betaRecommender with weight gamma: 0.6463718839741285\n",
      "EvaluatorHoldout: Processed 13643 (100.0%) in 3.82 min. Users per second: 60\n"
     ]
    },
    {
     "name": "stderr",
     "output_type": "stream",
     "text": [
      "\u001b[32m[I 2022-01-04 17:06:45,895]\u001b[0m Trial 62 finished with value: -0.24609127420422588 and parameters: {'alpha': 0.42216295114267965, 'beta': 0.02910798724618198, 'gamma': 0.8248463100367319}. Best is trial 43 with value: -0.24953473436578416.\u001b[0m\n"
     ]
    },
    {
     "name": "stdout",
     "output_type": "stream",
     "text": [
      "-0.24609127420422588\n",
      "CURRENT CONFIGURATION:\n",
      "SLIMElasticNetRecommender with weight alpha: 0.33054851063053736\n",
      "SLIM_BPR_Recommender with weight beta: 0.05284141390359411\n",
      "RP3betaRecommender with weight gamma: 0.6166100754658685\n",
      "EvaluatorHoldout: Processed 13643 (100.0%) in 3.81 min. Users per second: 60\n"
     ]
    },
    {
     "name": "stderr",
     "output_type": "stream",
     "text": [
      "\u001b[32m[I 2022-01-04 17:10:34,642]\u001b[0m Trial 63 finished with value: -0.24192902284909298 and parameters: {'alpha': 0.4717614524731153, 'beta': 0.07541568445230692, 'gamma': 0.8800307835495706}. Best is trial 43 with value: -0.24953473436578416.\u001b[0m\n"
     ]
    },
    {
     "name": "stdout",
     "output_type": "stream",
     "text": [
      "-0.24192902284909298\n",
      "CURRENT CONFIGURATION:\n",
      "SLIMElasticNetRecommender with weight alpha: 0.336403845803069\n",
      "SLIM_BPR_Recommender with weight beta: 0.00023455753248028083\n",
      "RP3betaRecommender with weight gamma: 0.6633615966644507\n",
      "EvaluatorHoldout: Processed 13643 (100.0%) in 3.81 min. Users per second: 60\n"
     ]
    },
    {
     "name": "stderr",
     "output_type": "stream",
     "text": [
      "\u001b[32m[I 2022-01-04 17:14:23,210]\u001b[0m Trial 64 finished with value: -0.2473513773561426 and parameters: {'alpha': 0.3886292646310854, 'beta': 0.0002709716981501341, 'gamma': 0.7663459639730916}. Best is trial 43 with value: -0.24953473436578416.\u001b[0m\n"
     ]
    },
    {
     "name": "stdout",
     "output_type": "stream",
     "text": [
      "-0.2473513773561426\n",
      "CURRENT CONFIGURATION:\n",
      "SLIMElasticNetRecommender with weight alpha: 0.40476386184816704\n",
      "SLIM_BPR_Recommender with weight beta: 0.1260122662989516\n",
      "RP3betaRecommender with weight gamma: 0.46922387185288134\n",
      "EvaluatorHoldout: Processed 13643 (100.0%) in 3.82 min. Users per second: 59\n"
     ]
    },
    {
     "name": "stderr",
     "output_type": "stream",
     "text": [
      "\u001b[32m[I 2022-01-04 17:18:12,655]\u001b[0m Trial 65 pruned. \u001b[0m\n"
     ]
    },
    {
     "name": "stdout",
     "output_type": "stream",
     "text": [
      "-0.2380235692703623\n",
      "CURRENT CONFIGURATION:\n",
      "SLIMElasticNetRecommender with weight alpha: 0.42829104728796835\n",
      "SLIM_BPR_Recommender with weight beta: 0.0471138344700571\n",
      "RP3betaRecommender with weight gamma: 0.5245951182419745\n",
      "EvaluatorHoldout: Processed 13643 (100.0%) in 3.82 min. Users per second: 60\n"
     ]
    },
    {
     "name": "stderr",
     "output_type": "stream",
     "text": [
      "\u001b[32m[I 2022-01-04 17:22:01,863]\u001b[0m Trial 66 finished with value: -0.24414853422128166 and parameters: {'alpha': 0.3347582324449161, 'beta': 0.036824827534380586, 'gamma': 0.41003083217342906}. Best is trial 43 with value: -0.24953473436578416.\u001b[0m\n"
     ]
    },
    {
     "name": "stdout",
     "output_type": "stream",
     "text": [
      "-0.24414853422128166\n",
      "CURRENT CONFIGURATION:\n",
      "SLIMElasticNetRecommender with weight alpha: 0.34061617308619846\n",
      "SLIM_BPR_Recommender with weight beta: 0.060022227442713745\n",
      "RP3betaRecommender with weight gamma: 0.5993615994710878\n",
      "EvaluatorHoldout: Processed 13643 (100.0%) in 3.81 min. Users per second: 60\n"
     ]
    },
    {
     "name": "stderr",
     "output_type": "stream",
     "text": [
      "\u001b[32m[I 2022-01-04 17:25:50,719]\u001b[0m Trial 67 finished with value: -0.2413661404359934 and parameters: {'alpha': 0.5231913647686053, 'beta': 0.09219500885020504, 'gamma': 0.9206280793302668}. Best is trial 43 with value: -0.24953473436578416.\u001b[0m\n"
     ]
    },
    {
     "name": "stdout",
     "output_type": "stream",
     "text": [
      "-0.2413661404359934\n",
      "CURRENT CONFIGURATION:\n",
      "SLIMElasticNetRecommender with weight alpha: 0.5153120509217763\n",
      "SLIM_BPR_Recommender with weight beta: 0.09235982450130586\n",
      "RP3betaRecommender with weight gamma: 0.39232812457691796\n",
      "EvaluatorHoldout: Processed 13643 (100.0%) in 3.82 min. Users per second: 59\n"
     ]
    },
    {
     "name": "stderr",
     "output_type": "stream",
     "text": [
      "\u001b[32m[I 2022-01-04 17:29:40,204]\u001b[0m Trial 68 finished with value: -0.24131210667951195 and parameters: {'alpha': 0.7553941351573044, 'beta': 0.135389944069123, 'gamma': 0.5751124271837678}. Best is trial 43 with value: -0.24953473436578416.\u001b[0m\n"
     ]
    },
    {
     "name": "stdout",
     "output_type": "stream",
     "text": [
      "-0.24131210667951195\n",
      "CURRENT CONFIGURATION:\n",
      "SLIMElasticNetRecommender with weight alpha: 0.17713108549877316\n",
      "SLIM_BPR_Recommender with weight beta: 0.03308587536132076\n",
      "RP3betaRecommender with weight gamma: 0.7897830391399061\n",
      "EvaluatorHoldout: Processed 13643 (100.0%) in 3.83 min. Users per second: 59\n"
     ]
    },
    {
     "name": "stderr",
     "output_type": "stream",
     "text": [
      "\u001b[32m[I 2022-01-04 17:33:29,929]\u001b[0m Trial 69 finished with value: -0.240832006994692 and parameters: {'alpha': 0.1711563035776174, 'beta': 0.03196986069118088, 'gamma': 0.7631429866014078}. Best is trial 43 with value: -0.24953473436578416.\u001b[0m\n"
     ]
    },
    {
     "name": "stdout",
     "output_type": "stream",
     "text": [
      "-0.240832006994692\n",
      "CURRENT CONFIGURATION:\n",
      "SLIMElasticNetRecommender with weight alpha: 0.4669033467638578\n",
      "SLIM_BPR_Recommender with weight beta: 0.16462834704168156\n",
      "RP3betaRecommender with weight gamma: 0.3684683061944606\n",
      "EvaluatorHoldout: Processed 13643 (100.0%) in 3.82 min. Users per second: 59\n"
     ]
    },
    {
     "name": "stderr",
     "output_type": "stream",
     "text": [
      "\u001b[32m[I 2022-01-04 17:37:19,482]\u001b[0m Trial 70 pruned. \u001b[0m\n"
     ]
    },
    {
     "name": "stdout",
     "output_type": "stream",
     "text": [
      "-0.23711818608065818\n",
      "CURRENT CONFIGURATION:\n",
      "SLIMElasticNetRecommender with weight alpha: 0.35960393730286433\n",
      "SLIM_BPR_Recommender with weight beta: 0.00938215595492984\n",
      "RP3betaRecommender with weight gamma: 0.6310139067422058\n",
      "EvaluatorHoldout: Processed 13643 (100.0%) in 3.83 min. Users per second: 59\n"
     ]
    },
    {
     "name": "stderr",
     "output_type": "stream",
     "text": [
      "\u001b[32m[I 2022-01-04 17:41:09,276]\u001b[0m Trial 71 finished with value: -0.24846796543142768 and parameters: {'alpha': 0.46948964004772614, 'beta': 0.012249101206146763, 'gamma': 0.8238355068175942}. Best is trial 43 with value: -0.24953473436578416.\u001b[0m\n"
     ]
    },
    {
     "name": "stdout",
     "output_type": "stream",
     "text": [
      "-0.24846796543142768\n",
      "CURRENT CONFIGURATION:\n",
      "SLIMElasticNetRecommender with weight alpha: 0.3358366380893972\n",
      "SLIM_BPR_Recommender with weight beta: 0.04791015806731738\n",
      "RP3betaRecommender with weight gamma: 0.6162532038432854\n",
      "EvaluatorHoldout: Processed 13643 (100.0%) in 3.83 min. Users per second: 59\n"
     ]
    },
    {
     "name": "stderr",
     "output_type": "stream",
     "text": [
      "\u001b[32m[I 2022-01-04 17:44:59,195]\u001b[0m Trial 72 finished with value: -0.24269620213400986 and parameters: {'alpha': 0.4425676116886111, 'beta': 0.06313630446071905, 'gamma': 0.8121023071573804}. Best is trial 43 with value: -0.24953473436578416.\u001b[0m\n"
     ]
    },
    {
     "name": "stdout",
     "output_type": "stream",
     "text": [
      "-0.24269620213400986\n",
      "CURRENT CONFIGURATION:\n",
      "SLIMElasticNetRecommender with weight alpha: 0.4192572217963287\n",
      "SLIM_BPR_Recommender with weight beta: 0.0246315214818778\n",
      "RP3betaRecommender with weight gamma: 0.5561112567217935\n",
      "EvaluatorHoldout: Processed 13643 (100.0%) in 3.81 min. Users per second: 60\n"
     ]
    },
    {
     "name": "stderr",
     "output_type": "stream",
     "text": [
      "\u001b[32m[I 2022-01-04 17:48:47,883]\u001b[0m Trial 73 finished with value: -0.24690758910028776 and parameters: {'alpha': 0.40975126376166937, 'beta': 0.02407304282638004, 'gamma': 0.5435023617662116}. Best is trial 43 with value: -0.24953473436578416.\u001b[0m\n"
     ]
    },
    {
     "name": "stdout",
     "output_type": "stream",
     "text": [
      "-0.24690758910028776\n",
      "CURRENT CONFIGURATION:\n",
      "SLIMElasticNetRecommender with weight alpha: 0.33962184975589294\n",
      "SLIM_BPR_Recommender with weight beta: 0.0009500655445931099\n",
      "RP3betaRecommender with weight gamma: 0.659428084699514\n",
      "EvaluatorHoldout: Processed 13643 (100.0%) in 3.82 min. Users per second: 59\n"
     ]
    },
    {
     "name": "stderr",
     "output_type": "stream",
     "text": [
      "\u001b[32m[I 2022-01-04 17:52:37,487]\u001b[0m Trial 74 finished with value: -0.2475876372440548 and parameters: {'alpha': 0.4814292537690914, 'beta': 0.0013467606589326927, 'gamma': 0.9347689819116524}. Best is trial 43 with value: -0.24953473436578416.\u001b[0m\n"
     ]
    },
    {
     "name": "stdout",
     "output_type": "stream",
     "text": [
      "-0.2475876372440548\n",
      "CURRENT CONFIGURATION:\n",
      "SLIMElasticNetRecommender with weight alpha: 0.36115444121328094\n",
      "SLIM_BPR_Recommender with weight beta: 0.06226037926512833\n",
      "RP3betaRecommender with weight gamma: 0.5765851795215907\n",
      "EvaluatorHoldout: Processed 13643 (100.0%) in 3.82 min. Users per second: 60\n"
     ]
    },
    {
     "name": "stderr",
     "output_type": "stream",
     "text": [
      "\u001b[32m[I 2022-01-04 17:56:26,507]\u001b[0m Trial 75 finished with value: -0.2414871572025433 and parameters: {'alpha': 0.5553720570519296, 'beta': 0.0957420730841509, 'gamma': 0.8866547401183844}. Best is trial 43 with value: -0.24953473436578416.\u001b[0m\n"
     ]
    },
    {
     "name": "stdout",
     "output_type": "stream",
     "text": [
      "-0.2414871572025433\n",
      "CURRENT CONFIGURATION:\n",
      "SLIMElasticNetRecommender with weight alpha: 0.25646989551815247\n",
      "SLIM_BPR_Recommender with weight beta: 0.12169817444612643\n",
      "RP3betaRecommender with weight gamma: 0.6218319300357211\n",
      "EvaluatorHoldout: Processed 13643 (100.0%) in 3.81 min. Users per second: 60\n"
     ]
    },
    {
     "name": "stderr",
     "output_type": "stream",
     "text": [
      "\u001b[32m[I 2022-01-04 18:00:15,016]\u001b[0m Trial 76 pruned. \u001b[0m\n"
     ]
    },
    {
     "name": "stdout",
     "output_type": "stream",
     "text": [
      "-0.23609467440131646\n",
      "CURRENT CONFIGURATION:\n",
      "SLIMElasticNetRecommender with weight alpha: 0.28928418387765326\n",
      "SLIM_BPR_Recommender with weight beta: 0.048528317931605704\n",
      "RP3betaRecommender with weight gamma: 0.662187498190741\n",
      "EvaluatorHoldout: Processed 13643 (100.0%) in 3.81 min. Users per second: 60\n"
     ]
    },
    {
     "name": "stderr",
     "output_type": "stream",
     "text": [
      "\u001b[32m[I 2022-01-04 18:04:03,491]\u001b[0m Trial 77 finished with value: -0.2417353948591587 and parameters: {'alpha': 0.36774649986278396, 'beta': 0.061690614482829864, 'gamma': 0.8417920794989922}. Best is trial 43 with value: -0.24953473436578416.\u001b[0m\n"
     ]
    },
    {
     "name": "stdout",
     "output_type": "stream",
     "text": [
      "-0.2417353948591587\n",
      "CURRENT CONFIGURATION:\n",
      "SLIMElasticNetRecommender with weight alpha: 0.34630331074497617\n",
      "SLIM_BPR_Recommender with weight beta: 0.3920665150021785\n",
      "RP3betaRecommender with weight gamma: 0.2616301742528454\n",
      "EvaluatorHoldout: Processed 13643 (100.0%) in 3.81 min. Users per second: 60\n"
     ]
    },
    {
     "name": "stderr",
     "output_type": "stream",
     "text": [
      "\u001b[32m[I 2022-01-04 18:07:52,420]\u001b[0m Trial 78 pruned. \u001b[0m\n"
     ]
    },
    {
     "name": "stdout",
     "output_type": "stream",
     "text": [
      "-0.2322058524110863\n",
      "CURRENT CONFIGURATION:\n",
      "SLIMElasticNetRecommender with weight alpha: 0.24375526293736374\n",
      "SLIM_BPR_Recommender with weight beta: 0.029379300953349213\n",
      "RP3betaRecommender with weight gamma: 0.7268654361092871\n",
      "EvaluatorHoldout: Processed 13643 (100.0%) in 3.80 min. Users per second: 60\n"
     ]
    },
    {
     "name": "stderr",
     "output_type": "stream",
     "text": [
      "\u001b[32m[I 2022-01-04 18:11:40,307]\u001b[0m Trial 79 finished with value: -0.24299160625426897 and parameters: {'alpha': 0.20583024028494656, 'beta': 0.024808279016258723, 'gamma': 0.6137750035273766}. Best is trial 43 with value: -0.24953473436578416.\u001b[0m\n"
     ]
    },
    {
     "name": "stdout",
     "output_type": "stream",
     "text": [
      "-0.24299160625426897\n",
      "CURRENT CONFIGURATION:\n",
      "SLIMElasticNetRecommender with weight alpha: 0.1661768982923857\n",
      "SLIM_BPR_Recommender with weight beta: 0.42792582352173103\n",
      "RP3betaRecommender with weight gamma: 0.4058972781858833\n",
      "EvaluatorHoldout: Processed 13643 (100.0%) in 3.81 min. Users per second: 60\n"
     ]
    },
    {
     "name": "stderr",
     "output_type": "stream",
     "text": [
      "\u001b[32m[I 2022-01-04 18:15:28,977]\u001b[0m Trial 80 pruned. \u001b[0m\n"
     ]
    },
    {
     "name": "stdout",
     "output_type": "stream",
     "text": [
      "-0.2306023264445157\n",
      "CURRENT CONFIGURATION:\n",
      "SLIMElasticNetRecommender with weight alpha: 0.3667042337875179\n",
      "SLIM_BPR_Recommender with weight beta: 0.0013707850463120941\n",
      "RP3betaRecommender with weight gamma: 0.63192498116617\n",
      "EvaluatorHoldout: Processed 13643 (100.0%) in 3.81 min. Users per second: 60\n"
     ]
    },
    {
     "name": "stderr",
     "output_type": "stream",
     "text": [
      "\u001b[32m[I 2022-01-04 18:19:17,775]\u001b[0m Trial 81 finished with value: -0.24810536597057226 and parameters: {'alpha': 0.4567048218411242, 'beta': 0.0017072181956895418, 'gamma': 0.7870189633743877}. Best is trial 43 with value: -0.24953473436578416.\u001b[0m\n"
     ]
    },
    {
     "name": "stdout",
     "output_type": "stream",
     "text": [
      "-0.24810536597057226\n",
      "CURRENT CONFIGURATION:\n",
      "SLIMElasticNetRecommender with weight alpha: 0.3460306915979445\n",
      "SLIM_BPR_Recommender with weight beta: 0.042225838801362915\n",
      "RP3betaRecommender with weight gamma: 0.6117434696006927\n",
      "EvaluatorHoldout: Processed 13643 (100.0%) in 3.77 min. Users per second: 60\n"
     ]
    },
    {
     "name": "stderr",
     "output_type": "stream",
     "text": [
      "\u001b[32m[I 2022-01-04 18:23:03,826]\u001b[0m Trial 82 finished with value: -0.2433636151570258 and parameters: {'alpha': 0.44268832831824484, 'beta': 0.05402089018314719, 'gamma': 0.7826233351340746}. Best is trial 43 with value: -0.24953473436578416.\u001b[0m\n"
     ]
    },
    {
     "name": "stdout",
     "output_type": "stream",
     "text": [
      "-0.2433636151570258\n",
      "CURRENT CONFIGURATION:\n",
      "SLIMElasticNetRecommender with weight alpha: 0.34773347855168896\n",
      "SLIM_BPR_Recommender with weight beta: 0.01902044620262907\n",
      "RP3betaRecommender with weight gamma: 0.633246075245682\n",
      "EvaluatorHoldout: Processed 13643 (100.0%) in 3.79 min. Users per second: 60\n"
     ]
    },
    {
     "name": "stderr",
     "output_type": "stream",
     "text": [
      "\u001b[32m[I 2022-01-04 18:26:51,568]\u001b[0m Trial 83 finished with value: -0.24680398052841823 and parameters: {'alpha': 0.40824595989746365, 'beta': 0.022330378858002705, 'gamma': 0.743443377717648}. Best is trial 43 with value: -0.24953473436578416.\u001b[0m\n"
     ]
    },
    {
     "name": "stdout",
     "output_type": "stream",
     "text": [
      "-0.24680398052841823\n",
      "CURRENT CONFIGURATION:\n",
      "SLIMElasticNetRecommender with weight alpha: 0.35553150600833766\n",
      "SLIM_BPR_Recommender with weight beta: 0.06773807301019283\n",
      "RP3betaRecommender with weight gamma: 0.5767304209814696\n",
      "EvaluatorHoldout: Processed 13643 (100.0%) in 3.80 min. Users per second: 60\n"
     ]
    },
    {
     "name": "stderr",
     "output_type": "stream",
     "text": [
      "\u001b[32m[I 2022-01-04 18:30:39,398]\u001b[0m Trial 84 finished with value: -0.24090960071389717 and parameters: {'alpha': 0.5161297466535576, 'beta': 0.09833624832318269, 'gamma': 0.8372471104194767}. Best is trial 43 with value: -0.24953473436578416.\u001b[0m\n"
     ]
    },
    {
     "name": "stdout",
     "output_type": "stream",
     "text": [
      "-0.24090960071389717\n",
      "CURRENT CONFIGURATION:\n",
      "SLIMElasticNetRecommender with weight alpha: 0.036044196614699785\n",
      "SLIM_BPR_Recommender with weight beta: 0.0017854680943972944\n",
      "RP3betaRecommender with weight gamma: 0.9621703352909029\n",
      "EvaluatorHoldout: Processed 13643 (100.0%) in 3.80 min. Users per second: 60\n"
     ]
    },
    {
     "name": "stderr",
     "output_type": "stream",
     "text": [
      "\u001b[32m[I 2022-01-04 18:34:27,668]\u001b[0m Trial 85 pruned. \u001b[0m\n"
     ]
    },
    {
     "name": "stdout",
     "output_type": "stream",
     "text": [
      "-0.23186973027624092\n",
      "CURRENT CONFIGURATION:\n",
      "SLIMElasticNetRecommender with weight alpha: 0.4544128694820051\n",
      "SLIM_BPR_Recommender with weight beta: 0.1312339689023368\n",
      "RP3betaRecommender with weight gamma: 0.4143531616156581\n",
      "EvaluatorHoldout: Processed 13643 (100.0%) in 3.80 min. Users per second: 60\n"
     ]
    },
    {
     "name": "stderr",
     "output_type": "stream",
     "text": [
      "\u001b[32m[I 2022-01-04 18:38:15,484]\u001b[0m Trial 86 pruned. \u001b[0m\n"
     ]
    },
    {
     "name": "stdout",
     "output_type": "stream",
     "text": [
      "-0.23829625984137423\n",
      "CURRENT CONFIGURATION:\n",
      "SLIMElasticNetRecommender with weight alpha: 0.5076741378299569\n",
      "SLIM_BPR_Recommender with weight beta: 0.0641327274370119\n",
      "RP3betaRecommender with weight gamma: 0.4281931347330313\n",
      "EvaluatorHoldout: Processed 13643 (100.0%) in 3.78 min. Users per second: 60\n"
     ]
    },
    {
     "name": "stderr",
     "output_type": "stream",
     "text": [
      "\u001b[32m[I 2022-01-04 18:42:02,589]\u001b[0m Trial 87 finished with value: -0.24333262944308837 and parameters: {'alpha': 0.38121261625826974, 'beta': 0.04815727844350157, 'gamma': 0.3215303144122001}. Best is trial 43 with value: -0.24953473436578416.\u001b[0m\n"
     ]
    },
    {
     "name": "stdout",
     "output_type": "stream",
     "text": [
      "-0.24333262944308837\n",
      "CURRENT CONFIGURATION:\n",
      "SLIMElasticNetRecommender with weight alpha: 0.6616591599234917\n",
      "SLIM_BPR_Recommender with weight beta: 0.024195865168895974\n",
      "RP3betaRecommender with weight gamma: 0.3141449749076123\n",
      "EvaluatorHoldout: Processed 13643 (100.0%) in 3.80 min. Users per second: 60\n"
     ]
    },
    {
     "name": "stderr",
     "output_type": "stream",
     "text": [
      "\u001b[32m[I 2022-01-04 18:45:50,514]\u001b[0m Trial 88 finished with value: -0.2489843969056759 and parameters: {'alpha': 0.6036730304502278, 'beta': 0.02207540095501965, 'gamma': 0.28661410661210746}. Best is trial 43 with value: -0.24953473436578416.\u001b[0m\n"
     ]
    },
    {
     "name": "stdout",
     "output_type": "stream",
     "text": [
      "-0.2489843969056759\n",
      "CURRENT CONFIGURATION:\n",
      "SLIMElasticNetRecommender with weight alpha: 0.6066620114517498\n",
      "SLIM_BPR_Recommender with weight beta: 0.10963894310553976\n",
      "RP3betaRecommender with weight gamma: 0.2836990454427106\n",
      "EvaluatorHoldout: Processed 13643 (100.0%) in 3.81 min. Users per second: 60\n"
     ]
    },
    {
     "name": "stderr",
     "output_type": "stream",
     "text": [
      "\u001b[32m[I 2022-01-04 18:49:39,472]\u001b[0m Trial 89 finished with value: -0.24107603876166628 and parameters: {'alpha': 0.6079002457167716, 'beta': 0.1098627228932492, 'gamma': 0.28427809254371583}. Best is trial 43 with value: -0.24953473436578416.\u001b[0m\n"
     ]
    },
    {
     "name": "stdout",
     "output_type": "stream",
     "text": [
      "-0.24107603876166628\n",
      "CURRENT CONFIGURATION:\n",
      "SLIMElasticNetRecommender with weight alpha: 0.6644765290816745\n",
      "SLIM_BPR_Recommender with weight beta: 0.07766761562232934\n",
      "RP3betaRecommender with weight gamma: 0.25785585529599614\n",
      "EvaluatorHoldout: Processed 13643 (100.0%) in 3.79 min. Users per second: 60\n"
     ]
    },
    {
     "name": "stderr",
     "output_type": "stream",
     "text": [
      "\u001b[32m[I 2022-01-04 18:53:26,725]\u001b[0m Trial 90 finished with value: -0.24381633002097766 and parameters: {'alpha': 0.6631807479282085, 'beta': 0.07751615770296964, 'gamma': 0.2573530162294828}. Best is trial 43 with value: -0.24953473436578416.\u001b[0m\n"
     ]
    },
    {
     "name": "stdout",
     "output_type": "stream",
     "text": [
      "-0.24381633002097766\n",
      "CURRENT CONFIGURATION:\n",
      "SLIMElasticNetRecommender with weight alpha: 0.5279945271895616\n",
      "SLIM_BPR_Recommender with weight beta: 0.01760167138598946\n",
      "RP3betaRecommender with weight gamma: 0.4544038014244489\n",
      "EvaluatorHoldout: Processed 13643 (100.0%) in 3.79 min. Users per second: 60\n"
     ]
    },
    {
     "name": "stderr",
     "output_type": "stream",
     "text": [
      "\u001b[32m[I 2022-01-04 18:57:14,024]\u001b[0m Trial 91 finished with value: -0.2489125186589093 and parameters: {'alpha': 0.5620989921168265, 'beta': 0.018738606625905686, 'gamma': 0.4837548604041419}. Best is trial 43 with value: -0.24953473436578416.\u001b[0m\n"
     ]
    },
    {
     "name": "stdout",
     "output_type": "stream",
     "text": [
      "-0.2489125186589093\n",
      "CURRENT CONFIGURATION:\n",
      "SLIMElasticNetRecommender with weight alpha: 0.5881486184437952\n",
      "SLIM_BPR_Recommender with weight beta: 0.014641847350992256\n",
      "RP3betaRecommender with weight gamma: 0.39720953420521243\n",
      "EvaluatorHoldout: Processed 13643 (100.0%) in 3.80 min. Users per second: 60\n"
     ]
    },
    {
     "name": "stderr",
     "output_type": "stream",
     "text": [
      "\u001b[32m[I 2022-01-04 19:01:02,378]\u001b[0m Trial 92 finished with value: -0.24925446679441426 and parameters: {'alpha': 0.7114241644397724, 'beta': 0.01771076848755667, 'gamma': 0.48046437944061726}. Best is trial 43 with value: -0.24953473436578416.\u001b[0m\n"
     ]
    },
    {
     "name": "stdout",
     "output_type": "stream",
     "text": [
      "-0.24925446679441426\n",
      "CURRENT CONFIGURATION:\n",
      "SLIMElasticNetRecommender with weight alpha: 0.582624961999385\n",
      "SLIM_BPR_Recommender with weight beta: 0.02007992272829005\n",
      "RP3betaRecommender with weight gamma: 0.39729511527232503\n",
      "EvaluatorHoldout: Processed 13643 (100.0%) in 3.79 min. Users per second: 60\n"
     ]
    },
    {
     "name": "stderr",
     "output_type": "stream",
     "text": [
      "\u001b[32m[I 2022-01-04 19:04:49,758]\u001b[0m Trial 93 finished with value: -0.248957084800741 and parameters: {'alpha': 0.6989950816834329, 'beta': 0.0240905696513445, 'gamma': 0.47664852978355726}. Best is trial 43 with value: -0.24953473436578416.\u001b[0m\n"
     ]
    },
    {
     "name": "stdout",
     "output_type": "stream",
     "text": [
      "-0.248957084800741\n",
      "CURRENT CONFIGURATION:\n",
      "SLIMElasticNetRecommender with weight alpha: 0.6224244338534154\n",
      "SLIM_BPR_Recommender with weight beta: 0.021578716927000783\n",
      "RP3betaRecommender with weight gamma: 0.35599684921958386\n",
      "EvaluatorHoldout: Processed 13643 (100.0%) in 3.80 min. Users per second: 60\n"
     ]
    },
    {
     "name": "stderr",
     "output_type": "stream",
     "text": [
      "\u001b[32m[I 2022-01-04 19:08:37,920]\u001b[0m Trial 94 finished with value: -0.24894958342495627 and parameters: {'alpha': 0.8458041887770064, 'beta': 0.029323028102056895, 'gamma': 0.4837593286581227}. Best is trial 43 with value: -0.24953473436578416.\u001b[0m\n"
     ]
    },
    {
     "name": "stdout",
     "output_type": "stream",
     "text": [
      "-0.24894958342495627\n",
      "CURRENT CONFIGURATION:\n",
      "SLIMElasticNetRecommender with weight alpha: 0.6230199354067076\n",
      "SLIM_BPR_Recommender with weight beta: 0.02780699557968189\n",
      "RP3betaRecommender with weight gamma: 0.34917306901361056\n",
      "EvaluatorHoldout: Processed 13643 (100.0%) in 3.79 min. Users per second: 60\n"
     ]
    },
    {
     "name": "stderr",
     "output_type": "stream",
     "text": [
      "\u001b[32m[I 2022-01-04 19:12:25,294]\u001b[0m Trial 95 finished with value: -0.24841142442952976 and parameters: {'alpha': 0.8467713451583935, 'beta': 0.037793601317829086, 'gamma': 0.47457510191664454}. Best is trial 43 with value: -0.24953473436578416.\u001b[0m\n"
     ]
    },
    {
     "name": "stdout",
     "output_type": "stream",
     "text": [
      "-0.24841142442952976\n",
      "CURRENT CONFIGURATION:\n",
      "SLIMElasticNetRecommender with weight alpha: 0.5594784101745702\n",
      "SLIM_BPR_Recommender with weight beta: 0.09580579746563984\n",
      "RP3betaRecommender with weight gamma: 0.34471579235978994\n",
      "EvaluatorHoldout: Processed 13643 (100.0%) in 3.80 min. Users per second: 60\n"
     ]
    },
    {
     "name": "stderr",
     "output_type": "stream",
     "text": [
      "\u001b[32m[I 2022-01-04 19:16:13,193]\u001b[0m Trial 96 finished with value: -0.2415878629543162 and parameters: {'alpha': 0.7084020273244044, 'beta': 0.12130766785605515, 'gamma': 0.43647326101863054}. Best is trial 43 with value: -0.24953473436578416.\u001b[0m\n"
     ]
    },
    {
     "name": "stdout",
     "output_type": "stream",
     "text": [
      "-0.2415878629543162\n",
      "CURRENT CONFIGURATION:\n",
      "SLIMElasticNetRecommender with weight alpha: 0.6158040362904355\n",
      "SLIM_BPR_Recommender with weight beta: 0.036631510969522184\n",
      "RP3betaRecommender with weight gamma: 0.3475644527400424\n",
      "EvaluatorHoldout: Processed 13643 (100.0%) in 3.79 min. Users per second: 60\n"
     ]
    },
    {
     "name": "stderr",
     "output_type": "stream",
     "text": [
      "\u001b[32m[I 2022-01-04 19:20:00,686]\u001b[0m Trial 97 finished with value: -0.247465747886292 and parameters: {'alpha': 0.9209897379192074, 'beta': 0.05478568456718121, 'gamma': 0.5198135695364492}. Best is trial 43 with value: -0.24953473436578416.\u001b[0m\n"
     ]
    },
    {
     "name": "stdout",
     "output_type": "stream",
     "text": [
      "-0.247465747886292\n",
      "CURRENT CONFIGURATION:\n",
      "SLIMElasticNetRecommender with weight alpha: 0.5747952480521433\n",
      "SLIM_BPR_Recommender with weight beta: 0.0188744220355085\n",
      "RP3betaRecommender with weight gamma: 0.40633032991234813\n",
      "EvaluatorHoldout: Processed 13643 (100.0%) in 3.81 min. Users per second: 60\n"
     ]
    },
    {
     "name": "stderr",
     "output_type": "stream",
     "text": [
      "\u001b[32m[I 2022-01-04 19:23:49,319]\u001b[0m Trial 98 finished with value: -0.24914061691035272 and parameters: {'alpha': 0.7684978170837783, 'beta': 0.02523498964572235, 'gamma': 0.5432612266903145}. Best is trial 43 with value: -0.24953473436578416.\u001b[0m\n"
     ]
    },
    {
     "name": "stdout",
     "output_type": "stream",
     "text": [
      "-0.24914061691035272\n",
      "CURRENT CONFIGURATION:\n",
      "SLIMElasticNetRecommender with weight alpha: 0.5535085004373826\n",
      "SLIM_BPR_Recommender with weight beta: 0.12787660662614278\n",
      "RP3betaRecommender with weight gamma: 0.3186148929364746\n",
      "EvaluatorHoldout: Processed 13643 (100.0%) in 3.81 min. Users per second: 60\n"
     ]
    },
    {
     "name": "stderr",
     "output_type": "stream",
     "text": [
      "\u001b[32m[I 2022-01-04 19:27:38,171]\u001b[0m Trial 99 pruned. \u001b[0m\n"
     ]
    },
    {
     "name": "stdout",
     "output_type": "stream",
     "text": [
      "-0.23962581543648742\n",
      "CURRENT CONFIGURATION:\n",
      "SLIMElasticNetRecommender with weight alpha: 0.5614803945036275\n",
      "SLIM_BPR_Recommender with weight beta: 0.05754646439829009\n",
      "RP3betaRecommender with weight gamma: 0.38097314109808245\n",
      "EvaluatorHoldout: Processed 13643 (100.0%) in 3.78 min. Users per second: 60\n"
     ]
    },
    {
     "name": "stderr",
     "output_type": "stream",
     "text": [
      "\u001b[32m[I 2022-01-04 19:31:24,821]\u001b[0m Trial 100 finished with value: -0.2447462621101108 and parameters: {'alpha': 0.8094563275903196, 'beta': 0.0829616673950421, 'gamma': 0.5492286511204447}. Best is trial 43 with value: -0.24953473436578416.\u001b[0m\n"
     ]
    },
    {
     "name": "stdout",
     "output_type": "stream",
     "text": [
      "-0.2447462621101108\n",
      "CURRENT CONFIGURATION:\n",
      "SLIMElasticNetRecommender with weight alpha: 0.5972465285441869\n",
      "SLIM_BPR_Recommender with weight beta: 0.017256855973482976\n",
      "RP3betaRecommender with weight gamma: 0.3854966154823302\n",
      "EvaluatorHoldout: Processed 13643 (100.0%) in 3.82 min. Users per second: 60\n"
     ]
    },
    {
     "name": "stderr",
     "output_type": "stream",
     "text": [
      "\u001b[32m[I 2022-01-04 19:35:14,155]\u001b[0m Trial 101 finished with value: -0.24911584113720808 and parameters: {'alpha': 0.7840473345739718, 'beta': 0.02265428308493756, 'gamma': 0.5060683979075598}. Best is trial 43 with value: -0.24953473436578416.\u001b[0m\n"
     ]
    },
    {
     "name": "stdout",
     "output_type": "stream",
     "text": [
      "-0.24911584113720808\n",
      "CURRENT CONFIGURATION:\n",
      "SLIMElasticNetRecommender with weight alpha: 0.6022873809362583\n",
      "SLIM_BPR_Recommender with weight beta: 0.022225898779146415\n",
      "RP3betaRecommender with weight gamma: 0.37548672028459523\n",
      "EvaluatorHoldout: Processed 13643 (100.0%) in 3.80 min. Users per second: 60\n"
     ]
    },
    {
     "name": "stderr",
     "output_type": "stream",
     "text": [
      "\u001b[32m[I 2022-01-04 19:39:02,017]\u001b[0m Trial 102 finished with value: -0.24884816214839042 and parameters: {'alpha': 0.7809835049828885, 'beta': 0.028820229145345017, 'gamma': 0.48689204549917}. Best is trial 43 with value: -0.24953473436578416.\u001b[0m\n"
     ]
    },
    {
     "name": "stdout",
     "output_type": "stream",
     "text": [
      "-0.24884816214839042\n",
      "CURRENT CONFIGURATION:\n",
      "SLIMElasticNetRecommender with weight alpha: 0.5982953204509316\n",
      "SLIM_BPR_Recommender with weight beta: 0.01983272437417617\n",
      "RP3betaRecommender with weight gamma: 0.38187195517489236\n",
      "EvaluatorHoldout: Processed 13643 (100.0%) in 3.78 min. Users per second: 60\n"
     ]
    },
    {
     "name": "stderr",
     "output_type": "stream",
     "text": [
      "\u001b[32m[I 2022-01-04 19:42:49,106]\u001b[0m Trial 103 finished with value: -0.24907345065613112 and parameters: {'alpha': 0.7668005883455429, 'beta': 0.025418458408050543, 'gamma': 0.48942324950840976}. Best is trial 43 with value: -0.24953473436578416.\u001b[0m\n"
     ]
    },
    {
     "name": "stdout",
     "output_type": "stream",
     "text": [
      "-0.24907345065613112\n",
      "CURRENT CONFIGURATION:\n",
      "SLIMElasticNetRecommender with weight alpha: 0.6073940134706689\n",
      "SLIM_BPR_Recommender with weight beta: 0.020738712539177338\n",
      "RP3betaRecommender with weight gamma: 0.3718672739901538\n",
      "EvaluatorHoldout: Processed 13643 (100.0%) in 3.77 min. Users per second: 60\n"
     ]
    },
    {
     "name": "stderr",
     "output_type": "stream",
     "text": [
      "\u001b[32m[I 2022-01-04 19:46:35,472]\u001b[0m Trial 104 finished with value: -0.24897588623272204 and parameters: {'alpha': 0.7948971763244955, 'beta': 0.027140774641160575, 'gamma': 0.4866630877265555}. Best is trial 43 with value: -0.24953473436578416.\u001b[0m\n"
     ]
    },
    {
     "name": "stdout",
     "output_type": "stream",
     "text": [
      "-0.24897588623272204\n",
      "CURRENT CONFIGURATION:\n",
      "SLIMElasticNetRecommender with weight alpha: 0.6049207835981131\n",
      "SLIM_BPR_Recommender with weight beta: 0.03369113300415135\n",
      "RP3betaRecommender with weight gamma: 0.3613880833977355\n",
      "EvaluatorHoldout: Processed 13643 (100.0%) in 3.80 min. Users per second: 60\n"
     ]
    },
    {
     "name": "stderr",
     "output_type": "stream",
     "text": [
      "\u001b[32m[I 2022-01-04 19:50:23,884]\u001b[0m Trial 105 finished with value: -0.24761384988406054 and parameters: {'alpha': 0.8486115667845509, 'beta': 0.04726351935759271, 'gamma': 0.5069723441229352}. Best is trial 43 with value: -0.24953473436578416.\u001b[0m\n"
     ]
    },
    {
     "name": "stdout",
     "output_type": "stream",
     "text": [
      "-0.24761384988406054\n",
      "CURRENT CONFIGURATION:\n",
      "SLIMElasticNetRecommender with weight alpha: 0.48496719252126164\n",
      "SLIM_BPR_Recommender with weight beta: 0.24112955953536472\n",
      "RP3betaRecommender with weight gamma: 0.2739032479433737\n",
      "EvaluatorHoldout: Processed 13643 (100.0%) in 3.81 min. Users per second: 60\n"
     ]
    },
    {
     "name": "stderr",
     "output_type": "stream",
     "text": [
      "\u001b[32m[I 2022-01-04 19:54:12,300]\u001b[0m Trial 106 pruned. \u001b[0m\n"
     ]
    },
    {
     "name": "stdout",
     "output_type": "stream",
     "text": [
      "-0.23534921100302753\n",
      "CURRENT CONFIGURATION:\n",
      "SLIMElasticNetRecommender with weight alpha: 0.5885511234492401\n",
      "SLIM_BPR_Recommender with weight beta: 0.06109707552970156\n",
      "RP3betaRecommender with weight gamma: 0.3503518010210583\n",
      "EvaluatorHoldout: Processed 13643 (100.0%) in 3.77 min. Users per second: 60\n"
     ]
    },
    {
     "name": "stderr",
     "output_type": "stream",
     "text": [
      "\u001b[32m[I 2022-01-04 19:57:58,554]\u001b[0m Trial 107 finished with value: -0.24461740656584138 and parameters: {'alpha': 0.9133996834327365, 'beta': 0.09481937460324705, 'gamma': 0.5437271485733953}. Best is trial 43 with value: -0.24953473436578416.\u001b[0m\n"
     ]
    },
    {
     "name": "stdout",
     "output_type": "stream",
     "text": [
      "-0.24461740656584138\n",
      "CURRENT CONFIGURATION:\n",
      "SLIMElasticNetRecommender with weight alpha: 0.5257979238602181\n",
      "SLIM_BPR_Recommender with weight beta: 0.04403539993791397\n",
      "RP3betaRecommender with weight gamma: 0.4301666762018679\n",
      "EvaluatorHoldout: Processed 13643 (100.0%) in 3.84 min. Users per second: 59\n"
     ]
    },
    {
     "name": "stderr",
     "output_type": "stream",
     "text": [
      "\u001b[32m[I 2022-01-04 20:01:48,838]\u001b[0m Trial 108 finished with value: -0.24580738828796442 and parameters: {'alpha': 0.7335151708066479, 'beta': 0.061431649767382975, 'gamma': 0.6001046574185882}. Best is trial 43 with value: -0.24953473436578416.\u001b[0m\n"
     ]
    },
    {
     "name": "stdout",
     "output_type": "stream",
     "text": [
      "-0.24580738828796442\n",
      "CURRENT CONFIGURATION:\n",
      "SLIMElasticNetRecommender with weight alpha: 0.5478307283067068\n",
      "SLIM_BPR_Recommender with weight beta: 0.09021505887631823\n",
      "RP3betaRecommender with weight gamma: 0.36195421281697493\n",
      "EvaluatorHoldout: Processed 13643 (100.0%) in 3.83 min. Users per second: 59\n"
     ]
    },
    {
     "name": "stderr",
     "output_type": "stream",
     "text": [
      "\u001b[32m[I 2022-01-04 20:05:38,455]\u001b[0m Trial 109 finished with value: -0.24196810039220154 and parameters: {'alpha': 0.7804460433005918, 'beta': 0.12852142479078701, 'gamma': 0.5156441919972712}. Best is trial 43 with value: -0.24953473436578416.\u001b[0m\n"
     ]
    },
    {
     "name": "stdout",
     "output_type": "stream",
     "text": [
      "-0.24196810039220154\n",
      "CURRENT CONFIGURATION:\n",
      "SLIMElasticNetRecommender with weight alpha: 0.4340722049659728\n",
      "SLIM_BPR_Recommender with weight beta: 0.32847550109142093\n",
      "RP3betaRecommender with weight gamma: 0.23745229394260609\n",
      "EvaluatorHoldout: Processed 13643 (100.0%) in 3.79 min. Users per second: 60\n"
     ]
    },
    {
     "name": "stderr",
     "output_type": "stream",
     "text": [
      "\u001b[32m[I 2022-01-04 20:09:26,138]\u001b[0m Trial 110 pruned. \u001b[0m\n"
     ]
    },
    {
     "name": "stdout",
     "output_type": "stream",
     "text": [
      "-0.23346434708653424\n",
      "CURRENT CONFIGURATION:\n",
      "SLIMElasticNetRecommender with weight alpha: 0.6012153093436425\n",
      "SLIM_BPR_Recommender with weight beta: 0.018964204584720593\n",
      "RP3betaRecommender with weight gamma: 0.3798204860716369\n",
      "EvaluatorHoldout: Processed 13643 (100.0%) in 3.79 min. Users per second: 60\n"
     ]
    },
    {
     "name": "stderr",
     "output_type": "stream",
     "text": [
      "\u001b[32m[I 2022-01-04 20:13:13,869]\u001b[0m Trial 111 finished with value: -0.24923958911425168 and parameters: {'alpha': 0.771245706215498, 'beta': 0.024327493213247595, 'gamma': 0.48723795695627836}. Best is trial 43 with value: -0.24953473436578416.\u001b[0m\n"
     ]
    },
    {
     "name": "stdout",
     "output_type": "stream",
     "text": [
      "-0.24923958911425168\n",
      "CURRENT CONFIGURATION:\n",
      "SLIMElasticNetRecommender with weight alpha: 0.620505369601737\n",
      "SLIM_BPR_Recommender with weight beta: 0.01888634317884196\n",
      "RP3betaRecommender with weight gamma: 0.36060828721942095\n",
      "EvaluatorHoldout: Processed 13643 (100.0%) in 3.87 min. Users per second: 59\n"
     ]
    },
    {
     "name": "stderr",
     "output_type": "stream",
     "text": [
      "\u001b[32m[I 2022-01-04 20:17:06,458]\u001b[0m Trial 112 finished with value: -0.24921270748764834 and parameters: {'alpha': 0.7809489956359629, 'beta': 0.023769771317562274, 'gamma': 0.45385051204756455}. Best is trial 43 with value: -0.24953473436578416.\u001b[0m\n"
     ]
    },
    {
     "name": "stdout",
     "output_type": "stream",
     "text": [
      "-0.24921270748764834\n",
      "CURRENT CONFIGURATION:\n",
      "SLIMElasticNetRecommender with weight alpha: 0.6445739772728786\n",
      "SLIM_BPR_Recommender with weight beta: 0.03340619687383734\n",
      "RP3betaRecommender with weight gamma: 0.3220198258532842\n",
      "EvaluatorHoldout: Processed 13643 (100.0%) in 3.84 min. Users per second: 59\n"
     ]
    },
    {
     "name": "stderr",
     "output_type": "stream",
     "text": [
      "\u001b[32m[I 2022-01-04 20:20:56,850]\u001b[0m Trial 113 finished with value: -0.24803733003377487 and parameters: {'alpha': 0.7808186775796583, 'beta': 0.040467321650735404, 'gamma': 0.39008570535379716}. Best is trial 43 with value: -0.24953473436578416.\u001b[0m\n"
     ]
    },
    {
     "name": "stdout",
     "output_type": "stream",
     "text": [
      "-0.24803733003377487\n",
      "CURRENT CONFIGURATION:\n",
      "SLIMElasticNetRecommender with weight alpha: 0.5932432416917098\n",
      "SLIM_BPR_Recommender with weight beta: 0.05774333840655303\n",
      "RP3betaRecommender with weight gamma: 0.3490134199017373\n",
      "EvaluatorHoldout: Processed 13643 (100.0%) in 3.84 min. Users per second: 59\n"
     ]
    },
    {
     "name": "stderr",
     "output_type": "stream",
     "text": [
      "\u001b[32m[I 2022-01-04 20:24:47,626]\u001b[0m Trial 114 finished with value: -0.2449194249274875 and parameters: {'alpha': 0.761963535370349, 'beta': 0.0741657303181014, 'gamma': 0.4482739635797188}. Best is trial 43 with value: -0.24953473436578416.\u001b[0m\n"
     ]
    },
    {
     "name": "stdout",
     "output_type": "stream",
     "text": [
      "-0.2449194249274875\n",
      "CURRENT CONFIGURATION:\n",
      "SLIMElasticNetRecommender with weight alpha: 0.5424357024258929\n",
      "SLIM_BPR_Recommender with weight beta: 0.02178066105811923\n",
      "RP3betaRecommender with weight gamma: 0.43578363651598784\n",
      "EvaluatorHoldout: Processed 13643 (100.0%) in 3.83 min. Users per second: 59\n"
     ]
    },
    {
     "name": "stderr",
     "output_type": "stream",
     "text": [
      "\u001b[32m[I 2022-01-04 20:28:37,678]\u001b[0m Trial 115 finished with value: -0.24848358772275872 and parameters: {'alpha': 0.7054068968544616, 'beta': 0.028324515624127355, 'gamma': 0.5667119279942547}. Best is trial 43 with value: -0.24953473436578416.\u001b[0m\n"
     ]
    },
    {
     "name": "stdout",
     "output_type": "stream",
     "text": [
      "-0.24848358772275872\n",
      "CURRENT CONFIGURATION:\n",
      "SLIMElasticNetRecommender with weight alpha: 0.5673492895604514\n",
      "SLIM_BPR_Recommender with weight beta: 0.018222399178817777\n",
      "RP3betaRecommender with weight gamma: 0.41442831126073076\n",
      "EvaluatorHoldout: Processed 13643 (100.0%) in 3.86 min. Users per second: 59\n"
     ]
    },
    {
     "name": "stderr",
     "output_type": "stream",
     "text": [
      "\u001b[32m[I 2022-01-04 20:32:29,183]\u001b[0m Trial 116 finished with value: -0.24907792704904802 and parameters: {'alpha': 0.7231338841843621, 'beta': 0.023225964216057042, 'gamma': 0.5282233713029197}. Best is trial 43 with value: -0.24953473436578416.\u001b[0m\n"
     ]
    },
    {
     "name": "stdout",
     "output_type": "stream",
     "text": [
      "-0.24907792704904802\n",
      "CURRENT CONFIGURATION:\n",
      "SLIMElasticNetRecommender with weight alpha: 0.5468364852886782\n",
      "SLIM_BPR_Recommender with weight beta: 0.05057081476352132\n",
      "RP3betaRecommender with weight gamma: 0.4025926999478004\n",
      "EvaluatorHoldout: Processed 13643 (100.0%) in 3.84 min. Users per second: 59\n"
     ]
    },
    {
     "name": "stderr",
     "output_type": "stream",
     "text": [
      "\u001b[32m[I 2022-01-04 20:36:19,747]\u001b[0m Trial 117 finished with value: -0.24534510109841776 and parameters: {'alpha': 0.7238942269874985, 'beta': 0.0669449128692313, 'gamma': 0.5329463910325458}. Best is trial 43 with value: -0.24953473436578416.\u001b[0m\n"
     ]
    },
    {
     "name": "stdout",
     "output_type": "stream",
     "text": [
      "-0.24534510109841776\n",
      "CURRENT CONFIGURATION:\n",
      "SLIMElasticNetRecommender with weight alpha: 0.503973809134644\n",
      "SLIM_BPR_Recommender with weight beta: 0.07163766085273754\n",
      "RP3betaRecommender with weight gamma: 0.42438853001261856\n",
      "EvaluatorHoldout: Processed 13643 (100.0%) in 3.84 min. Users per second: 59\n"
     ]
    },
    {
     "name": "stderr",
     "output_type": "stream",
     "text": [
      "\u001b[32m[I 2022-01-04 20:40:10,144]\u001b[0m Trial 118 finished with value: -0.24267639140486044 and parameters: {'alpha': 0.6603377632350835, 'beta': 0.09386410935146826, 'gamma': 0.5560601911681634}. Best is trial 43 with value: -0.24953473436578416.\u001b[0m\n"
     ]
    },
    {
     "name": "stdout",
     "output_type": "stream",
     "text": [
      "-0.24267639140486044\n",
      "CURRENT CONFIGURATION:\n",
      "SLIMElasticNetRecommender with weight alpha: 0.6350100084827763\n",
      "SLIM_BPR_Recommender with weight beta: 0.03485143181438162\n",
      "RP3betaRecommender with weight gamma: 0.33013855970284206\n",
      "EvaluatorHoldout: Processed 13643 (100.0%) in 3.83 min. Users per second: 59\n"
     ]
    },
    {
     "name": "stderr",
     "output_type": "stream",
     "text": [
      "\u001b[32m[I 2022-01-04 20:44:00,214]\u001b[0m Trial 119 finished with value: -0.2476835146577865 and parameters: {'alpha': 0.7986554487564061, 'beta': 0.04383283026045912, 'gamma': 0.4152170139510777}. Best is trial 43 with value: -0.24953473436578416.\u001b[0m\n"
     ]
    },
    {
     "name": "stdout",
     "output_type": "stream",
     "text": [
      "-0.2476835146577865\n",
      "CURRENT CONFIGURATION:\n",
      "SLIMElasticNetRecommender with weight alpha: 0.5098600194501063\n",
      "SLIM_BPR_Recommender with weight beta: 0.11250948804134765\n",
      "RP3betaRecommender with weight gamma: 0.37763049250854613\n",
      "EvaluatorHoldout: Processed 13643 (100.0%) in 3.85 min. Users per second: 59\n"
     ]
    },
    {
     "name": "stderr",
     "output_type": "stream",
     "text": [
      "\u001b[32m[I 2022-01-04 20:47:51,054]\u001b[0m Trial 120 pruned. \u001b[0m\n"
     ]
    },
    {
     "name": "stdout",
     "output_type": "stream",
     "text": [
      "-0.23998432244455883\n",
      "CURRENT CONFIGURATION:\n",
      "SLIMElasticNetRecommender with weight alpha: 0.6304043389828229\n",
      "SLIM_BPR_Recommender with weight beta: 0.017813368589881414\n",
      "RP3betaRecommender with weight gamma: 0.35178229242729564\n",
      "EvaluatorHoldout: Processed 13643 (100.0%) in 3.85 min. Users per second: 59\n"
     ]
    },
    {
     "name": "stderr",
     "output_type": "stream",
     "text": [
      "\u001b[32m[I 2022-01-04 20:51:41,898]\u001b[0m Trial 121 finished with value: -0.24920352782809785 and parameters: {'alpha': 0.8279205694681633, 'beta': 0.023394595111571343, 'gamma': 0.4620015724275629}. Best is trial 43 with value: -0.24953473436578416.\u001b[0m\n"
     ]
    },
    {
     "name": "stdout",
     "output_type": "stream",
     "text": [
      "-0.24920352782809785\n",
      "CURRENT CONFIGURATION:\n",
      "SLIMElasticNetRecommender with weight alpha: 0.6293626419754452\n",
      "SLIM_BPR_Recommender with weight beta: 0.016947736929535526\n",
      "RP3betaRecommender with weight gamma: 0.3536896210950191\n",
      "EvaluatorHoldout: Processed 13643 (100.0%) in 3.88 min. Users per second: 59\n"
     ]
    },
    {
     "name": "stderr",
     "output_type": "stream",
     "text": [
      "\u001b[32m[I 2022-01-04 20:55:34,652]\u001b[0m Trial 122 finished with value: -0.24932382616121626 and parameters: {'alpha': 0.8263442638907441, 'beta': 0.02225213932891398, 'gamma': 0.4643894792868286}. Best is trial 43 with value: -0.24953473436578416.\u001b[0m\n"
     ]
    },
    {
     "name": "stdout",
     "output_type": "stream",
     "text": [
      "-0.24932382616121626\n",
      "CURRENT CONFIGURATION:\n",
      "SLIMElasticNetRecommender with weight alpha: 0.5602237961764374\n",
      "SLIM_BPR_Recommender with weight beta: 0.03654242531121758\n",
      "RP3betaRecommender with weight gamma: 0.40323377851234493\n",
      "EvaluatorHoldout: Processed 13643 (100.0%) in 3.83 min. Users per second: 59\n"
     ]
    },
    {
     "name": "stderr",
     "output_type": "stream",
     "text": [
      "\u001b[32m[I 2022-01-04 20:59:24,783]\u001b[0m Trial 123 finished with value: -0.2468939359564579 and parameters: {'alpha': 0.8192131133115031, 'beta': 0.05343584869380941, 'gamma': 0.5896472112431}. Best is trial 43 with value: -0.24953473436578416.\u001b[0m\n"
     ]
    },
    {
     "name": "stdout",
     "output_type": "stream",
     "text": [
      "-0.2468939359564579\n",
      "CURRENT CONFIGURATION:\n",
      "SLIMElasticNetRecommender with weight alpha: 0.6518929879718629\n",
      "SLIM_BPR_Recommender with weight beta: 0.013298649590542578\n",
      "RP3betaRecommender with weight gamma: 0.33480836243759454\n",
      "EvaluatorHoldout: Processed 13643 (100.0%) in 3.85 min. Users per second: 59\n"
     ]
    },
    {
     "name": "stderr",
     "output_type": "stream",
     "text": [
      "\u001b[32m[I 2022-01-04 21:03:15,614]\u001b[0m Trial 124 finished with value: -0.24961939607380448 and parameters: {'alpha': 0.8734441505728312, 'beta': 0.01781830439918545, 'gamma': 0.4485957221963669}. Best is trial 124 with value: -0.24961939607380448.\u001b[0m\n"
     ]
    },
    {
     "name": "stdout",
     "output_type": "stream",
     "text": [
      "-0.24961939607380448\n",
      "CURRENT CONFIGURATION:\n",
      "SLIMElasticNetRecommender with weight alpha: 0.6211709697876557\n",
      "SLIM_BPR_Recommender with weight beta: 0.0572663574530059\n",
      "RP3betaRecommender with weight gamma: 0.3215626727593385\n",
      "EvaluatorHoldout: Processed 13643 (100.0%) in 3.84 min. Users per second: 59\n"
     ]
    },
    {
     "name": "stderr",
     "output_type": "stream",
     "text": [
      "\u001b[32m[I 2022-01-04 21:07:06,334]\u001b[0m Trial 125 finished with value: -0.24528652114172103 and parameters: {'alpha': 0.8710186148879457, 'beta': 0.08030005549912682, 'gamma': 0.45090174436556674}. Best is trial 124 with value: -0.24961939607380448.\u001b[0m\n"
     ]
    },
    {
     "name": "stdout",
     "output_type": "stream",
     "text": [
      "-0.24528652114172103\n",
      "CURRENT CONFIGURATION:\n",
      "SLIMElasticNetRecommender with weight alpha: 0.6952834111583447\n",
      "SLIM_BPR_Recommender with weight beta: 0.01244464640510914\n",
      "RP3betaRecommender with weight gamma: 0.2922719424365462\n",
      "EvaluatorHoldout: Processed 13643 (100.0%) in 3.85 min. Users per second: 59\n"
     ]
    },
    {
     "name": "stderr",
     "output_type": "stream",
     "text": [
      "\u001b[32m[I 2022-01-04 21:10:57,328]\u001b[0m Trial 126 finished with value: -0.24973161130366311 and parameters: {'alpha': 0.9232790346212991, 'beta': 0.016525464198793992, 'gamma': 0.38811303783321627}. Best is trial 126 with value: -0.24973161130366311.\u001b[0m\n"
     ]
    },
    {
     "name": "stdout",
     "output_type": "stream",
     "text": [
      "-0.24973161130366311\n",
      "CURRENT CONFIGURATION:\n",
      "SLIMElasticNetRecommender with weight alpha: 0.6681647075037488\n",
      "SLIM_BPR_Recommender with weight beta: 0.0452449975681489\n",
      "RP3betaRecommender with weight gamma: 0.28659029492810245\n",
      "EvaluatorHoldout: Processed 13643 (100.0%) in 3.82 min. Users per second: 59\n"
     ]
    },
    {
     "name": "stderr",
     "output_type": "stream",
     "text": [
      "\u001b[32m[I 2022-01-04 21:14:46,894]\u001b[0m Trial 127 finished with value: -0.24694972943855095 and parameters: {'alpha': 0.9082485426016343, 'beta': 0.06150235509267027, 'gamma': 0.38956744462705883}. Best is trial 126 with value: -0.24973161130366311.\u001b[0m\n"
     ]
    },
    {
     "name": "stdout",
     "output_type": "stream",
     "text": [
      "-0.24694972943855095\n",
      "CURRENT CONFIGURATION:\n",
      "SLIMElasticNetRecommender with weight alpha: 0.7101286282334811\n",
      "SLIM_BPR_Recommender with weight beta: 0.01374593259072965\n",
      "RP3betaRecommender with weight gamma: 0.27612543917578924\n",
      "EvaluatorHoldout: Processed 13643 (100.0%) in 3.86 min. Users per second: 59\n"
     ]
    },
    {
     "name": "stderr",
     "output_type": "stream",
     "text": [
      "\u001b[32m[I 2022-01-04 21:18:38,846]\u001b[0m Trial 128 finished with value: -0.2497004888837693 and parameters: {'alpha': 0.8769409911695096, 'beta': 0.016974913095181402, 'gamma': 0.34098852896593596}. Best is trial 126 with value: -0.24973161130366311.\u001b[0m\n"
     ]
    },
    {
     "name": "stdout",
     "output_type": "stream",
     "text": [
      "-0.2497004888837693\n",
      "CURRENT CONFIGURATION:\n",
      "SLIMElasticNetRecommender with weight alpha: 0.617938586570686\n",
      "SLIM_BPR_Recommender with weight beta: 0.0784760594481643\n",
      "RP3betaRecommender with weight gamma: 0.30358535398114966\n",
      "EvaluatorHoldout: Processed 13643 (100.0%) in 3.85 min. Users per second: 59\n"
     ]
    },
    {
     "name": "stderr",
     "output_type": "stream",
     "text": [
      "\u001b[32m[I 2022-01-04 21:22:29,955]\u001b[0m Trial 129 finished with value: -0.24328323205458072 and parameters: {'alpha': 0.8870299531062042, 'beta': 0.11264973064487876, 'gamma': 0.4357865136729499}. Best is trial 126 with value: -0.24973161130366311.\u001b[0m\n"
     ]
    },
    {
     "name": "stdout",
     "output_type": "stream",
     "text": [
      "-0.24328323205458072\n",
      "CURRENT CONFIGURATION:\n",
      "SLIMElasticNetRecommender with weight alpha: 0.7195764107555489\n",
      "SLIM_BPR_Recommender with weight beta: 0.012344694953217186\n",
      "RP3betaRecommender with weight gamma: 0.26807889429123405\n",
      "EvaluatorHoldout: Processed 13643 (100.0%) in 3.85 min. Users per second: 59\n"
     ]
    },
    {
     "name": "stderr",
     "output_type": "stream",
     "text": [
      "\u001b[32m[I 2022-01-04 21:26:21,294]\u001b[0m Trial 130 finished with value: -0.24976993550969218 and parameters: {'alpha': 0.9495091559405343, 'beta': 0.01628930675071082, 'gamma': 0.35374056297464374}. Best is trial 130 with value: -0.24976993550969218.\u001b[0m\n"
     ]
    },
    {
     "name": "stdout",
     "output_type": "stream",
     "text": [
      "-0.24976993550969218\n",
      "CURRENT CONFIGURATION:\n",
      "SLIMElasticNetRecommender with weight alpha: 0.6994986153912178\n",
      "SLIM_BPR_Recommender with weight beta: 0.033266193667524056\n",
      "RP3betaRecommender with weight gamma: 0.2672351909412581\n",
      "EvaluatorHoldout: Processed 13643 (100.0%) in 3.83 min. Users per second: 59\n"
     ]
    },
    {
     "name": "stderr",
     "output_type": "stream",
     "text": [
      "\u001b[32m[I 2022-01-04 21:30:10,919]\u001b[0m Trial 131 finished with value: -0.24836876344517694 and parameters: {'alpha': 0.937722227780234, 'beta': 0.04459544100488724, 'gamma': 0.3582457106803001}. Best is trial 130 with value: -0.24976993550969218.\u001b[0m\n"
     ]
    },
    {
     "name": "stdout",
     "output_type": "stream",
     "text": [
      "-0.24836876344517694\n",
      "CURRENT CONFIGURATION:\n",
      "SLIMElasticNetRecommender with weight alpha: 0.7284101318039328\n",
      "SLIM_BPR_Recommender with weight beta: 0.012223142633673696\n",
      "RP3betaRecommender with weight gamma: 0.25936672556239354\n",
      "EvaluatorHoldout: Processed 13643 (100.0%) in 3.83 min. Users per second: 59\n"
     ]
    },
    {
     "name": "stderr",
     "output_type": "stream",
     "text": [
      "\u001b[32m[I 2022-01-04 21:34:00,695]\u001b[0m Trial 132 finished with value: -0.24980604915131782 and parameters: {'alpha': 0.9564523974280154, 'beta': 0.016049823534344573, 'gamma': 0.3405662766700495}. Best is trial 132 with value: -0.24980604915131782.\u001b[0m\n"
     ]
    },
    {
     "name": "stdout",
     "output_type": "stream",
     "text": [
      "-0.24980604915131782\n",
      "CURRENT CONFIGURATION:\n",
      "SLIMElasticNetRecommender with weight alpha: 0.746335996575189\n",
      "SLIM_BPR_Recommender with weight beta: 0.011316322782907102\n",
      "RP3betaRecommender with weight gamma: 0.24234768064190393\n",
      "EvaluatorHoldout: Processed 13643 (100.0%) in 3.82 min. Users per second: 60\n"
     ]
    },
    {
     "name": "stderr",
     "output_type": "stream",
     "text": [
      "\u001b[32m[I 2022-01-04 21:37:49,938]\u001b[0m Trial 133 finished with value: -0.24981328002382733 and parameters: {'alpha': 0.9967335586629479, 'beta': 0.015112976903358112, 'gamma': 0.32365592342909477}. Best is trial 133 with value: -0.24981328002382733.\u001b[0m\n"
     ]
    },
    {
     "name": "stdout",
     "output_type": "stream",
     "text": [
      "-0.24981328002382733\n",
      "CURRENT CONFIGURATION:\n",
      "SLIMElasticNetRecommender with weight alpha: 0.7537130342080975\n",
      "SLIM_BPR_Recommender with weight beta: 0.006589231338739941\n",
      "RP3betaRecommender with weight gamma: 0.2396977344531625\n",
      "EvaluatorHoldout: Processed 13643 (100.0%) in 3.82 min. Users per second: 60\n"
     ]
    },
    {
     "name": "stderr",
     "output_type": "stream",
     "text": [
      "\u001b[32m[I 2022-01-04 21:41:39,268]\u001b[0m Trial 134 finished with value: -0.24981102001258831 and parameters: {'alpha': 0.990324351261428, 'beta': 0.00865777285874486, 'gamma': 0.3149454667724677}. Best is trial 133 with value: -0.24981328002382733.\u001b[0m\n"
     ]
    },
    {
     "name": "stdout",
     "output_type": "stream",
     "text": [
      "-0.24981102001258831\n",
      "CURRENT CONFIGURATION:\n",
      "SLIMElasticNetRecommender with weight alpha: 0.7310222634088451\n",
      "SLIM_BPR_Recommender with weight beta: 0.01006298913866913\n",
      "RP3betaRecommender with weight gamma: 0.25891474745248566\n",
      "EvaluatorHoldout: Processed 13643 (100.0%) in 3.83 min. Users per second: 59\n"
     ]
    },
    {
     "name": "stderr",
     "output_type": "stream",
     "text": [
      "\u001b[32m[I 2022-01-04 21:45:28,896]\u001b[0m Trial 135 finished with value: -0.24987807282995247 and parameters: {'alpha': 0.9532156459478293, 'beta': 0.013121623200985566, 'gamma': 0.33761158940286523}. Best is trial 135 with value: -0.24987807282995247.\u001b[0m\n"
     ]
    },
    {
     "name": "stdout",
     "output_type": "stream",
     "text": [
      "-0.24987807282995247\n",
      "CURRENT CONFIGURATION:\n",
      "SLIMElasticNetRecommender with weight alpha: 0.7201872361981695\n",
      "SLIM_BPR_Recommender with weight beta: 0.0019640371413476155\n",
      "RP3betaRecommender with weight gamma: 0.277848726660483\n",
      "EvaluatorHoldout: Processed 13643 (100.0%) in 3.83 min. Users per second: 59\n"
     ]
    },
    {
     "name": "stderr",
     "output_type": "stream",
     "text": [
      "\u001b[32m[I 2022-01-04 21:49:18,670]\u001b[0m Trial 136 finished with value: -0.24907487879708035 and parameters: {'alpha': 0.9589757728505389, 'beta': 0.0026152421771228553, 'gamma': 0.3699735068776717}. Best is trial 135 with value: -0.24987807282995247.\u001b[0m\n"
     ]
    },
    {
     "name": "stdout",
     "output_type": "stream",
     "text": [
      "-0.24907487879708035\n",
      "CURRENT CONFIGURATION:\n",
      "SLIMElasticNetRecommender with weight alpha: 0.7167502871366811\n",
      "SLIM_BPR_Recommender with weight beta: 0.05002633780690919\n",
      "RP3betaRecommender with weight gamma: 0.23322337505640967\n",
      "EvaluatorHoldout: Processed 13643 (100.0%) in 3.84 min. Users per second: 59\n"
     ]
    },
    {
     "name": "stderr",
     "output_type": "stream",
     "text": [
      "\u001b[32m[I 2022-01-04 21:53:08,962]\u001b[0m Trial 137 finished with value: -0.2466321469583203 and parameters: {'alpha': 0.993625283171356, 'beta': 0.06935111845994568, 'gamma': 0.3233157296781288}. Best is trial 135 with value: -0.24987807282995247.\u001b[0m\n"
     ]
    },
    {
     "name": "stdout",
     "output_type": "stream",
     "text": [
      "-0.2466321469583203\n",
      "CURRENT CONFIGURATION:\n",
      "SLIMElasticNetRecommender with weight alpha: 0.7102241563550107\n",
      "SLIM_BPR_Recommender with weight beta: 0.03567525927009033\n",
      "RP3betaRecommender with weight gamma: 0.2541005843748989\n",
      "EvaluatorHoldout: Processed 13643 (100.0%) in 3.81 min. Users per second: 60\n"
     ]
    },
    {
     "name": "stderr",
     "output_type": "stream",
     "text": [
      "\u001b[32m[I 2022-01-04 21:56:57,610]\u001b[0m Trial 138 finished with value: -0.24814499615478125 and parameters: {'alpha': 0.9615195133729444, 'beta': 0.04829807269422775, 'gamma': 0.34400782914768546}. Best is trial 135 with value: -0.24987807282995247.\u001b[0m\n"
     ]
    },
    {
     "name": "stdout",
     "output_type": "stream",
     "text": [
      "-0.24814499615478125\n",
      "CURRENT CONFIGURATION:\n",
      "SLIMElasticNetRecommender with weight alpha: 0.7015958093972922\n",
      "SLIM_BPR_Recommender with weight beta: 0.001373996755659392\n",
      "RP3betaRecommender with weight gamma: 0.2970301938470485\n",
      "EvaluatorHoldout: Processed 13643 (100.0%) in 3.82 min. Users per second: 59\n"
     ]
    },
    {
     "name": "stderr",
     "output_type": "stream",
     "text": [
      "\u001b[32m[I 2022-01-04 22:00:47,165]\u001b[0m Trial 139 finished with value: -0.24910291515271982 and parameters: {'alpha': 0.9459519686401233, 'beta': 0.001852540905336486, 'gamma': 0.4004817201752479}. Best is trial 135 with value: -0.24987807282995247.\u001b[0m\n"
     ]
    },
    {
     "name": "stdout",
     "output_type": "stream",
     "text": [
      "-0.24910291515271982\n",
      "CURRENT CONFIGURATION:\n",
      "SLIMElasticNetRecommender with weight alpha: 0.6160211502937283\n",
      "SLIM_BPR_Recommender with weight beta: 0.1930786300641787\n",
      "RP3betaRecommender with weight gamma: 0.19090021964209303\n",
      "EvaluatorHoldout: Processed 13643 (100.0%) in 3.85 min. Users per second: 59\n"
     ]
    },
    {
     "name": "stderr",
     "output_type": "stream",
     "text": [
      "\u001b[32m[I 2022-01-04 22:04:38,541]\u001b[0m Trial 140 pruned. \u001b[0m\n"
     ]
    },
    {
     "name": "stdout",
     "output_type": "stream",
     "text": [
      "-0.23768305509308166\n",
      "CURRENT CONFIGURATION:\n",
      "SLIMElasticNetRecommender with weight alpha: 0.697314166033812\n",
      "SLIM_BPR_Recommender with weight beta: 0.0138695867295458\n",
      "RP3betaRecommender with weight gamma: 0.2888162472366422\n",
      "EvaluatorHoldout: Processed 13643 (100.0%) in 3.84 min. Users per second: 59\n"
     ]
    },
    {
     "name": "stderr",
     "output_type": "stream",
     "text": [
      "\u001b[32m[I 2022-01-04 22:08:28,919]\u001b[0m Trial 141 finished with value: -0.24974849303497632 and parameters: {'alpha': 0.8946606980445377, 'beta': 0.017794811506013523, 'gamma': 0.370553988353664}. Best is trial 135 with value: -0.24987807282995247.\u001b[0m\n"
     ]
    },
    {
     "name": "stdout",
     "output_type": "stream",
     "text": [
      "-0.24974849303497632\n",
      "CURRENT CONFIGURATION:\n",
      "SLIMElasticNetRecommender with weight alpha: 0.6963186258648084\n",
      "SLIM_BPR_Recommender with weight beta: 0.040966482567508955\n",
      "RP3betaRecommender with weight gamma: 0.26271489156768263\n",
      "EvaluatorHoldout: Processed 13643 (100.0%) in 3.82 min. Users per second: 59\n"
     ]
    },
    {
     "name": "stderr",
     "output_type": "stream",
     "text": [
      "\u001b[32m[I 2022-01-04 22:12:18,436]\u001b[0m Trial 142 finished with value: -0.24753510725309305 and parameters: {'alpha': 0.8974185365097131, 'beta': 0.0527977846148013, 'gamma': 0.33858811864635086}. Best is trial 135 with value: -0.24987807282995247.\u001b[0m\n"
     ]
    },
    {
     "name": "stdout",
     "output_type": "stream",
     "text": [
      "-0.24753510725309305\n",
      "CURRENT CONFIGURATION:\n",
      "SLIMElasticNetRecommender with weight alpha: 0.7075917075836349\n",
      "SLIM_BPR_Recommender with weight beta: 0.011588548116899071\n",
      "RP3betaRecommender with weight gamma: 0.280819744299466\n",
      "EvaluatorHoldout: Processed 13643 (100.0%) in 3.85 min. Users per second: 59\n"
     ]
    },
    {
     "name": "stderr",
     "output_type": "stream",
     "text": [
      "\u001b[32m[I 2022-01-04 22:16:09,426]\u001b[0m Trial 143 finished with value: -0.24974191951451338 and parameters: {'alpha': 0.9312074735767013, 'beta': 0.01525080424021804, 'gamma': 0.3695654454636927}. Best is trial 135 with value: -0.24987807282995247.\u001b[0m\n"
     ]
    },
    {
     "name": "stdout",
     "output_type": "stream",
     "text": [
      "-0.24974191951451338\n",
      "CURRENT CONFIGURATION:\n",
      "SLIMElasticNetRecommender with weight alpha: 0.7162792928780881\n",
      "SLIM_BPR_Recommender with weight beta: 0.00045246921064706587\n",
      "RP3betaRecommender with weight gamma: 0.2832682379112648\n",
      "EvaluatorHoldout: Processed 13643 (100.0%) in 3.82 min. Users per second: 59\n"
     ]
    },
    {
     "name": "stderr",
     "output_type": "stream",
     "text": [
      "\u001b[32m[I 2022-01-04 22:19:58,896]\u001b[0m Trial 144 finished with value: -0.24892049123394844 and parameters: {'alpha': 0.930541155915585, 'beta': 0.0005878171077652455, 'gamma': 0.3680027555745398}. Best is trial 135 with value: -0.24987807282995247.\u001b[0m\n"
     ]
    },
    {
     "name": "stdout",
     "output_type": "stream",
     "text": [
      "-0.24892049123394844\n",
      "CURRENT CONFIGURATION:\n",
      "SLIMElasticNetRecommender with weight alpha: 0.7127627332051888\n",
      "SLIM_BPR_Recommender with weight beta: 0.061222439821811164\n",
      "RP3betaRecommender with weight gamma: 0.22601482697300002\n",
      "EvaluatorHoldout: Processed 13643 (100.0%) in 3.85 min. Users per second: 59\n"
     ]
    },
    {
     "name": "stderr",
     "output_type": "stream",
     "text": [
      "\u001b[32m[I 2022-01-04 22:23:50,282]\u001b[0m Trial 145 finished with value: -0.245654056560198 and parameters: {'alpha': 0.981926234337038, 'beta': 0.0843421197413402, 'gamma': 0.3113657288954336}. Best is trial 135 with value: -0.24987807282995247.\u001b[0m\n"
     ]
    },
    {
     "name": "stdout",
     "output_type": "stream",
     "text": [
      "-0.245654056560198\n",
      "CURRENT CONFIGURATION:\n",
      "SLIMElasticNetRecommender with weight alpha: 0.6912085499940965\n",
      "SLIM_BPR_Recommender with weight beta: 0.031011258456053032\n",
      "RP3betaRecommender with weight gamma: 0.2777801915498505\n",
      "EvaluatorHoldout: Processed 13643 (100.0%) in 3.85 min. Users per second: 59\n"
     ]
    },
    {
     "name": "stderr",
     "output_type": "stream",
     "text": [
      "\u001b[32m[I 2022-01-04 22:27:41,630]\u001b[0m Trial 146 finished with value: -0.24839068293642166 and parameters: {'alpha': 0.9561933973489163, 'beta': 0.04289987526834255, 'gamma': 0.3842712667205184}. Best is trial 135 with value: -0.24987807282995247.\u001b[0m\n"
     ]
    },
    {
     "name": "stdout",
     "output_type": "stream",
     "text": [
      "-0.24839068293642166\n",
      "CURRENT CONFIGURATION:\n",
      "SLIMElasticNetRecommender with weight alpha: 0.7036215362361117\n",
      "SLIM_BPR_Recommender with weight beta: 0.013628986960155064\n",
      "RP3betaRecommender with weight gamma: 0.28274947680373325\n",
      "EvaluatorHoldout: Processed 13643 (100.0%) in 3.86 min. Users per second: 59\n"
     ]
    },
    {
     "name": "stderr",
     "output_type": "stream",
     "text": [
      "\u001b[32m[I 2022-01-04 22:31:33,177]\u001b[0m Trial 147 finished with value: -0.24974413589619157 and parameters: {'alpha': 0.8851027740058789, 'beta': 0.01714423670124168, 'gamma': 0.35567749618129313}. Best is trial 135 with value: -0.24987807282995247.\u001b[0m\n"
     ]
    },
    {
     "name": "stdout",
     "output_type": "stream",
     "text": [
      "-0.24974413589619157\n",
      "CURRENT CONFIGURATION:\n",
      "SLIMElasticNetRecommender with weight alpha: 0.6776659363335776\n",
      "SLIM_BPR_Recommender with weight beta: 0.05197262217325437\n",
      "RP3betaRecommender with weight gamma: 0.27036144149316804\n",
      "EvaluatorHoldout: Processed 13643 (100.0%) in 3.84 min. Users per second: 59\n"
     ]
    },
    {
     "name": "stderr",
     "output_type": "stream",
     "text": [
      "\u001b[32m[I 2022-01-04 22:35:23,988]\u001b[0m Trial 148 finished with value: -0.24614501418833204 and parameters: {'alpha': 0.8713569761815009, 'beta': 0.06682748013885473, 'gamma': 0.3476363728862342}. Best is trial 135 with value: -0.24987807282995247.\u001b[0m\n"
     ]
    },
    {
     "name": "stdout",
     "output_type": "stream",
     "text": [
      "-0.24614501418833204\n",
      "CURRENT CONFIGURATION:\n",
      "SLIMElasticNetRecommender with weight alpha: 0.7685736776446604\n",
      "SLIM_BPR_Recommender with weight beta: 0.012701817751195136\n",
      "RP3betaRecommender with weight gamma: 0.21872450460414455\n",
      "EvaluatorHoldout: Processed 13643 (100.0%) in 3.85 min. Users per second: 59\n"
     ]
    },
    {
     "name": "stderr",
     "output_type": "stream",
     "text": [
      "\u001b[32m[I 2022-01-04 22:39:15,367]\u001b[0m Trial 149 finished with value: -0.24991365419093917 and parameters: {'alpha': 0.965938502720646, 'beta': 0.015963563646909644, 'gamma': 0.27489156424548056}. Best is trial 149 with value: -0.24991365419093917.\u001b[0m\n"
     ]
    },
    {
     "name": "stdout",
     "output_type": "stream",
     "text": [
      "-0.24991365419093917\n",
      "CURRENT CONFIGURATION:\n",
      "SLIMElasticNetRecommender with weight alpha: 0.7116596483817567\n",
      "SLIM_BPR_Recommender with weight beta: 0.035837387843811186\n",
      "RP3betaRecommender with weight gamma: 0.2525029637744321\n",
      "EvaluatorHoldout: Processed 13643 (100.0%) in 3.83 min. Users per second: 59\n"
     ]
    },
    {
     "name": "stderr",
     "output_type": "stream",
     "text": [
      "\u001b[32m[I 2022-01-04 22:43:05,126]\u001b[0m Trial 150 finished with value: -0.24812329771997713 and parameters: {'alpha': 0.9301011449338038, 'beta': 0.046837551546951024, 'gamma': 0.330007885426427}. Best is trial 149 with value: -0.24991365419093917.\u001b[0m\n"
     ]
    },
    {
     "name": "stdout",
     "output_type": "stream",
     "text": [
      "-0.24812329771997713\n",
      "CURRENT CONFIGURATION:\n",
      "SLIMElasticNetRecommender with weight alpha: 0.7739215176255257\n",
      "SLIM_BPR_Recommender with weight beta: 0.01102512104655139\n",
      "RP3betaRecommender with weight gamma: 0.21505336132792285\n",
      "EvaluatorHoldout: Processed 13643 (100.0%) in 3.85 min. Users per second: 59\n"
     ]
    },
    {
     "name": "stderr",
     "output_type": "stream",
     "text": [
      "\u001b[32m[I 2022-01-04 22:46:56,085]\u001b[0m Trial 151 finished with value: -0.2498662841226788 and parameters: {'alpha': 0.980079353417983, 'beta': 0.013962001650776549, 'gamma': 0.2723394485364582}. Best is trial 149 with value: -0.24991365419093917.\u001b[0m\n"
     ]
    },
    {
     "name": "stdout",
     "output_type": "stream",
     "text": [
      "-0.2498662841226788\n",
      "CURRENT CONFIGURATION:\n",
      "SLIMElasticNetRecommender with weight alpha: 0.7686919607229382\n",
      "SLIM_BPR_Recommender with weight beta: 0.010991220932169438\n",
      "RP3betaRecommender with weight gamma: 0.22031681834489236\n",
      "EvaluatorHoldout: Processed 13643 (100.0%) in 3.84 min. Users per second: 59\n"
     ]
    },
    {
     "name": "stderr",
     "output_type": "stream",
     "text": [
      "\u001b[32m[I 2022-01-04 22:50:46,605]\u001b[0m Trial 152 finished with value: -0.24989082429619647 and parameters: {'alpha': 0.9705964257742391, 'beta': 0.01387817265790785, 'gamma': 0.2781851864593382}. Best is trial 149 with value: -0.24991365419093917.\u001b[0m\n"
     ]
    },
    {
     "name": "stdout",
     "output_type": "stream",
     "text": [
      "-0.24989082429619647\n",
      "CURRENT CONFIGURATION:\n",
      "SLIMElasticNetRecommender with weight alpha: 0.607914847908368\n",
      "SLIM_BPR_Recommender with weight beta: 0.22154927744286534\n",
      "RP3betaRecommender with weight gamma: 0.17053587464876652\n",
      "EvaluatorHoldout: Processed 13643 (100.0%) in 3.86 min. Users per second: 59\n"
     ]
    },
    {
     "name": "stderr",
     "output_type": "stream",
     "text": [
      "\u001b[32m[I 2022-01-04 22:54:38,540]\u001b[0m Trial 153 pruned. \u001b[0m\n"
     ]
    },
    {
     "name": "stdout",
     "output_type": "stream",
     "text": [
      "-0.23676980694792038\n",
      "CURRENT CONFIGURATION:\n",
      "SLIMElasticNetRecommender with weight alpha: 0.7992119478537718\n",
      "SLIM_BPR_Recommender with weight beta: 0.010491064822448075\n",
      "RP3betaRecommender with weight gamma: 0.1902969873237801\n",
      "EvaluatorHoldout: Processed 13643 (100.0%) in 3.83 min. Users per second: 59\n"
     ]
    },
    {
     "name": "stderr",
     "output_type": "stream",
     "text": [
      "\u001b[32m[I 2022-01-04 22:58:28,435]\u001b[0m Trial 154 finished with value: -0.24993306934540482 and parameters: {'alpha': 0.975084449333409, 'beta': 0.012799701246695522, 'gamma': 0.23217324715016033}. Best is trial 154 with value: -0.24993306934540482.\u001b[0m\n"
     ]
    },
    {
     "name": "stdout",
     "output_type": "stream",
     "text": [
      "-0.24993306934540482\n",
      "CURRENT CONFIGURATION:\n",
      "SLIMElasticNetRecommender with weight alpha: 0.810241092870774\n",
      "SLIM_BPR_Recommender with weight beta: 0.003161730886258336\n",
      "RP3betaRecommender with weight gamma: 0.18659717624296765\n",
      "EvaluatorHoldout: Processed 13643 (100.0%) in 3.85 min. Users per second: 59\n"
     ]
    },
    {
     "name": "stderr",
     "output_type": "stream",
     "text": [
      "\u001b[32m[I 2022-01-04 23:02:19,641]\u001b[0m Trial 155 finished with value: -0.249313846626387 and parameters: {'alpha': 0.9721993636301146, 'beta': 0.003793726068248529, 'gamma': 0.22389589665939427}. Best is trial 154 with value: -0.24993306934540482.\u001b[0m\n"
     ]
    },
    {
     "name": "stdout",
     "output_type": "stream",
     "text": [
      "-0.249313846626387\n",
      "CURRENT CONFIGURATION:\n",
      "SLIMElasticNetRecommender with weight alpha: 0.7405031423457514\n",
      "SLIM_BPR_Recommender with weight beta: 0.03347275177820383\n",
      "RP3betaRecommender with weight gamma: 0.22602410587604468\n",
      "EvaluatorHoldout: Processed 13643 (100.0%) in 3.84 min. Users per second: 59\n"
     ]
    },
    {
     "name": "stderr",
     "output_type": "stream",
     "text": [
      "\u001b[32m[I 2022-01-04 23:06:10,270]\u001b[0m Trial 156 finished with value: -0.24847761047295694 and parameters: {'alpha': 0.9476562004514026, 'beta': 0.042836632223195545, 'gamma': 0.28925352660408865}. Best is trial 154 with value: -0.24993306934540482.\u001b[0m\n"
     ]
    },
    {
     "name": "stdout",
     "output_type": "stream",
     "text": [
      "-0.24847761047295694\n",
      "CURRENT CONFIGURATION:\n",
      "SLIMElasticNetRecommender with weight alpha: 0.818667659785299\n",
      "SLIM_BPR_Recommender with weight beta: 0.011444703466702543\n",
      "RP3betaRecommender with weight gamma: 0.16988763674799848\n",
      "EvaluatorHoldout: Processed 13643 (100.0%) in 3.84 min. Users per second: 59\n"
     ]
    },
    {
     "name": "stderr",
     "output_type": "stream",
     "text": [
      "\u001b[32m[I 2022-01-04 23:10:01,047]\u001b[0m Trial 157 finished with value: -0.25004041260766324 and parameters: {'alpha': 0.9091940305906447, 'beta': 0.01271023222846608, 'gamma': 0.18867341754154604}. Best is trial 157 with value: -0.25004041260766324.\u001b[0m\n"
     ]
    },
    {
     "name": "stdout",
     "output_type": "stream",
     "text": [
      "-0.25004041260766324\n",
      "CURRENT CONFIGURATION:\n",
      "SLIMElasticNetRecommender with weight alpha: 0.7354401470829149\n",
      "SLIM_BPR_Recommender with weight beta: 0.0556974057958629\n",
      "RP3betaRecommender with weight gamma: 0.20886244712122212\n",
      "EvaluatorHoldout: Processed 13643 (100.0%) in 3.85 min. Users per second: 59\n"
     ]
    },
    {
     "name": "stderr",
     "output_type": "stream",
     "text": [
      "\u001b[32m[I 2022-01-04 23:13:51,934]\u001b[0m Trial 158 finished with value: -0.24635474439476368 and parameters: {'alpha': 0.8973653212248099, 'beta': 0.06796055483459779, 'gamma': 0.2548486341086362}. Best is trial 157 with value: -0.25004041260766324.\u001b[0m\n"
     ]
    },
    {
     "name": "stdout",
     "output_type": "stream",
     "text": [
      "-0.24635474439476368\n",
      "CURRENT CONFIGURATION:\n",
      "SLIMElasticNetRecommender with weight alpha: 0.7192981617734698\n",
      "SLIM_BPR_Recommender with weight beta: 0.06752645272731557\n",
      "RP3betaRecommender with weight gamma: 0.21317538549921478\n",
      "EvaluatorHoldout: Processed 13643 (100.0%) in 3.86 min. Users per second: 59\n"
     ]
    },
    {
     "name": "stderr",
     "output_type": "stream",
     "text": [
      "\u001b[32m[I 2022-01-04 23:17:43,459]\u001b[0m Trial 159 finished with value: -0.24507287009211023 and parameters: {'alpha': 0.999099736354309, 'beta': 0.09379373492414098, 'gamma': 0.29609900701590985}. Best is trial 157 with value: -0.25004041260766324.\u001b[0m\n"
     ]
    },
    {
     "name": "stdout",
     "output_type": "stream",
     "text": [
      "-0.24507287009211023\n",
      "CURRENT CONFIGURATION:\n",
      "SLIMElasticNetRecommender with weight alpha: 0.7652988530434494\n",
      "SLIM_BPR_Recommender with weight beta: 0.03417310724863475\n",
      "RP3betaRecommender with weight gamma: 0.20052803970791583\n",
      "EvaluatorHoldout: Processed 13643 (100.0%) in 3.84 min. Users per second: 59\n"
     ]
    },
    {
     "name": "stderr",
     "output_type": "stream",
     "text": [
      "\u001b[32m[I 2022-01-04 23:21:34,251]\u001b[0m Trial 160 finished with value: -0.24853977387089707 and parameters: {'alpha': 0.9128492305989677, 'beta': 0.04076171620411559, 'gamma': 0.23919004455962195}. Best is trial 157 with value: -0.25004041260766324.\u001b[0m\n"
     ]
    },
    {
     "name": "stdout",
     "output_type": "stream",
     "text": [
      "-0.24853977387089707\n",
      "CURRENT CONFIGURATION:\n",
      "SLIMElasticNetRecommender with weight alpha: 0.8281828977382202\n",
      "SLIM_BPR_Recommender with weight beta: 0.012812107466916533\n",
      "RP3betaRecommender with weight gamma: 0.15900499479486332\n",
      "EvaluatorHoldout: Processed 13643 (100.0%) in 3.86 min. Users per second: 59\n"
     ]
    },
    {
     "name": "stderr",
     "output_type": "stream",
     "text": [
      "\u001b[32m[I 2022-01-04 23:25:25,993]\u001b[0m Trial 161 finished with value: -0.24999902269784255 and parameters: {'alpha': 0.9729941191367325, 'beta': 0.015052357701544821, 'gamma': 0.18680767892127045}. Best is trial 157 with value: -0.25004041260766324.\u001b[0m\n"
     ]
    },
    {
     "name": "stdout",
     "output_type": "stream",
     "text": [
      "-0.24999902269784255\n",
      "CURRENT CONFIGURATION:\n",
      "SLIMElasticNetRecommender with weight alpha: 0.8692207451923656\n",
      "SLIM_BPR_Recommender with weight beta: 0.012924871708333969\n",
      "RP3betaRecommender with weight gamma: 0.11785438309930038\n",
      "EvaluatorHoldout: Processed 13643 (100.0%) in 3.82 min. Users per second: 60\n"
     ]
    },
    {
     "name": "stderr",
     "output_type": "stream",
     "text": [
      "\u001b[32m[I 2022-01-04 23:29:15,090]\u001b[0m Trial 162 finished with value: -0.25001137277212854 and parameters: {'alpha': 0.9758888582418676, 'beta': 0.014510972459104437, 'gamma': 0.13231711276762342}. Best is trial 157 with value: -0.25004041260766324.\u001b[0m\n"
     ]
    },
    {
     "name": "stdout",
     "output_type": "stream",
     "text": [
      "-0.25001137277212854\n",
      "CURRENT CONFIGURATION:\n",
      "SLIMElasticNetRecommender with weight alpha: 0.856615550659236\n",
      "SLIM_BPR_Recommender with weight beta: 0.010581833565157494\n",
      "RP3betaRecommender with weight gamma: 0.13280261577560654\n",
      "EvaluatorHoldout: Processed 13643 (100.0%) in 3.86 min. Users per second: 59\n"
     ]
    },
    {
     "name": "stderr",
     "output_type": "stream",
     "text": [
      "\u001b[32m[I 2022-01-04 23:33:06,573]\u001b[0m Trial 163 finished with value: -0.24995878169978453 and parameters: {'alpha': 0.9659419502696319, 'beta': 0.01193235044996632, 'gamma': 0.14975167983405888}. Best is trial 157 with value: -0.25004041260766324.\u001b[0m\n"
     ]
    },
    {
     "name": "stdout",
     "output_type": "stream",
     "text": [
      "-0.24995878169978453\n",
      "CURRENT CONFIGURATION:\n",
      "SLIMElasticNetRecommender with weight alpha: 0.8548638617973084\n",
      "SLIM_BPR_Recommender with weight beta: 0.002625808925746098\n",
      "RP3betaRecommender with weight gamma: 0.14251032927694554\n",
      "EvaluatorHoldout: Processed 13643 (100.0%) in 3.84 min. Users per second: 59\n"
     ]
    },
    {
     "name": "stderr",
     "output_type": "stream",
     "text": [
      "\u001b[32m[I 2022-01-04 23:36:56,939]\u001b[0m Trial 164 finished with value: -0.249305181795651 and parameters: {'alpha': 0.9736514086945033, 'beta': 0.0029906780175969986, 'gamma': 0.16231284190945833}. Best is trial 157 with value: -0.25004041260766324.\u001b[0m\n"
     ]
    },
    {
     "name": "stdout",
     "output_type": "stream",
     "text": [
      "-0.249305181795651\n",
      "CURRENT CONFIGURATION:\n",
      "SLIMElasticNetRecommender with weight alpha: 0.8002705602113963\n",
      "SLIM_BPR_Recommender with weight beta: 0.03577012309826174\n",
      "RP3betaRecommender with weight gamma: 0.16395931669034192\n",
      "EvaluatorHoldout: Processed 13643 (100.0%) in 3.82 min. Users per second: 59\n"
     ]
    },
    {
     "name": "stderr",
     "output_type": "stream",
     "text": [
      "\u001b[32m[I 2022-01-04 23:40:46,499]\u001b[0m Trial 165 finished with value: -0.24859347895135586 and parameters: {'alpha': 0.9473618687226287, 'beta': 0.042344742325465756, 'gamma': 0.19409536271485053}. Best is trial 157 with value: -0.25004041260766324.\u001b[0m\n"
     ]
    },
    {
     "name": "stdout",
     "output_type": "stream",
     "text": [
      "-0.24859347895135586\n",
      "CURRENT CONFIGURATION:\n",
      "SLIMElasticNetRecommender with weight alpha: 0.5964942380419046\n",
      "SLIM_BPR_Recommender with weight beta: 0.3069971688667363\n",
      "RP3betaRecommender with weight gamma: 0.09650859309135906\n",
      "EvaluatorHoldout: Processed 13643 (100.0%) in 3.84 min. Users per second: 59\n"
     ]
    },
    {
     "name": "stderr",
     "output_type": "stream",
     "text": [
      "\u001b[32m[I 2022-01-04 23:44:36,756]\u001b[0m Trial 166 pruned. \u001b[0m\n"
     ]
    },
    {
     "name": "stdout",
     "output_type": "stream",
     "text": [
      "-0.2350532920539533\n",
      "CURRENT CONFIGURATION:\n",
      "SLIMElasticNetRecommender with weight alpha: 0.5138013623252585\n",
      "SLIM_BPR_Recommender with weight beta: 0.3900929947186182\n",
      "RP3betaRecommender with weight gamma: 0.09610564295612334\n",
      "EvaluatorHoldout: Processed 13643 (100.0%) in 3.84 min. Users per second: 59\n"
     ]
    },
    {
     "name": "stderr",
     "output_type": "stream",
     "text": [
      "\u001b[32m[I 2022-01-04 23:48:27,188]\u001b[0m Trial 167 pruned. \u001b[0m\n"
     ]
    },
    {
     "name": "stdout",
     "output_type": "stream",
     "text": [
      "-0.23334700974626207\n",
      "CURRENT CONFIGURATION:\n",
      "SLIMElasticNetRecommender with weight alpha: 0.4847500823852252\n",
      "SLIM_BPR_Recommender with weight beta: 0.4586764841803569\n",
      "RP3betaRecommender with weight gamma: 0.056573433434417855\n",
      "EvaluatorHoldout: Processed 13643 (100.0%) in 3.83 min. Users per second: 59\n"
     ]
    },
    {
     "name": "stderr",
     "output_type": "stream",
     "text": [
      "\u001b[32m[I 2022-01-04 23:52:17,333]\u001b[0m Trial 168 pruned. \u001b[0m\n"
     ]
    },
    {
     "name": "stdout",
     "output_type": "stream",
     "text": [
      "-0.23260133110880726\n",
      "CURRENT CONFIGURATION:\n",
      "SLIMElasticNetRecommender with weight alpha: 0.8764796582465603\n",
      "SLIM_BPR_Recommender with weight beta: 0.05161107705207235\n",
      "RP3betaRecommender with weight gamma: 0.07190926470136742\n",
      "EvaluatorHoldout: Processed 13643 (100.0%) in 3.83 min. Users per second: 59\n"
     ]
    },
    {
     "name": "stderr",
     "output_type": "stream",
     "text": [
      "\u001b[32m[I 2022-01-04 23:56:07,220]\u001b[0m Trial 169 finished with value: -0.24752826322935464 and parameters: {'alpha': 0.9974684715156555, 'beta': 0.058735444292451006, 'gamma': 0.0818355836038242}. Best is trial 157 with value: -0.25004041260766324.\u001b[0m\n"
     ]
    },
    {
     "name": "stdout",
     "output_type": "stream",
     "text": [
      "-0.24752826322935464\n",
      "CURRENT CONFIGURATION:\n",
      "SLIMElasticNetRecommender with weight alpha: 0.8680392469781504\n",
      "SLIM_BPR_Recommender with weight beta: 0.01439624514932271\n",
      "RP3betaRecommender with weight gamma: 0.11756450787252692\n",
      "EvaluatorHoldout: Processed 13643 (100.0%) in 3.84 min. Users per second: 59\n"
     ]
    },
    {
     "name": "stderr",
     "output_type": "stream",
     "text": [
      "\u001b[32m[I 2022-01-04 23:59:57,867]\u001b[0m Trial 170 finished with value: -0.25000239671719543 and parameters: {'alpha': 0.9217451494652018, 'beta': 0.015286946048920023, 'gamma': 0.12483826653922354}. Best is trial 157 with value: -0.25004041260766324.\u001b[0m\n"
     ]
    },
    {
     "name": "stdout",
     "output_type": "stream",
     "text": [
      "-0.25000239671719543\n",
      "CURRENT CONFIGURATION:\n",
      "SLIMElasticNetRecommender with weight alpha: 0.873571822463924\n",
      "SLIM_BPR_Recommender with weight beta: 0.0010379353982342388\n",
      "RP3betaRecommender with weight gamma: 0.12539024213784178\n",
      "EvaluatorHoldout: Processed 13643 (100.0%) in 3.83 min. Users per second: 59\n"
     ]
    },
    {
     "name": "stderr",
     "output_type": "stream",
     "text": [
      "\u001b[32m[I 2022-01-05 00:03:48,026]\u001b[0m Trial 171 finished with value: -0.24904718856928687 and parameters: {'alpha': 0.9231572098973899, 'beta': 0.001096850335196367, 'gamma': 0.1325076005242929}. Best is trial 157 with value: -0.25004041260766324.\u001b[0m\n"
     ]
    },
    {
     "name": "stdout",
     "output_type": "stream",
     "text": [
      "-0.24904718856928687\n",
      "CURRENT CONFIGURATION:\n",
      "SLIMElasticNetRecommender with weight alpha: 0.7941602458817323\n",
      "SLIM_BPR_Recommender with weight beta: 0.02972895471092961\n",
      "RP3betaRecommender with weight gamma: 0.17611079940733815\n",
      "EvaluatorHoldout: Processed 13643 (100.0%) in 3.83 min. Users per second: 59\n"
     ]
    },
    {
     "name": "stderr",
     "output_type": "stream",
     "text": [
      "\u001b[32m[I 2022-01-05 00:07:37,705]\u001b[0m Trial 172 finished with value: -0.24911571606580132 and parameters: {'alpha': 0.9448804313227002, 'beta': 0.03537108246818419, 'gamma': 0.20953409462071249}. Best is trial 157 with value: -0.25004041260766324.\u001b[0m\n"
     ]
    },
    {
     "name": "stdout",
     "output_type": "stream",
     "text": [
      "-0.24911571606580132\n",
      "CURRENT CONFIGURATION:\n",
      "SLIMElasticNetRecommender with weight alpha: 0.9355177080668958\n",
      "SLIM_BPR_Recommender with weight beta: 0.017092247911693368\n",
      "RP3betaRecommender with weight gamma: 0.04739004402141082\n",
      "EvaluatorHoldout: Processed 13643 (100.0%) in 3.83 min. Users per second: 59\n"
     ]
    },
    {
     "name": "stderr",
     "output_type": "stream",
     "text": [
      "\u001b[32m[I 2022-01-05 00:11:27,826]\u001b[0m Trial 173 finished with value: -0.25019763609223405 and parameters: {'alpha': 0.9674267406603186, 'beta': 0.017675237513072553, 'gamma': 0.04900644363228254}. Best is trial 173 with value: -0.25019763609223405.\u001b[0m\n"
     ]
    },
    {
     "name": "stdout",
     "output_type": "stream",
     "text": [
      "-0.25019763609223405\n",
      "CURRENT CONFIGURATION:\n",
      "SLIMElasticNetRecommender with weight alpha: 0.8993198266056327\n",
      "SLIM_BPR_Recommender with weight beta: 0.03435009423332981\n",
      "RP3betaRecommender with weight gamma: 0.06633007916103759\n",
      "EvaluatorHoldout: Processed 13643 (100.0%) in 3.83 min. Users per second: 59\n"
     ]
    },
    {
     "name": "stderr",
     "output_type": "stream",
     "text": [
      "\u001b[32m[I 2022-01-05 00:15:17,886]\u001b[0m Trial 174 finished with value: -0.24904394543861766 and parameters: {'alpha': 0.9677033091531799, 'beta': 0.036962044954329074, 'gamma': 0.07137375959206549}. Best is trial 173 with value: -0.25019763609223405.\u001b[0m\n"
     ]
    },
    {
     "name": "stdout",
     "output_type": "stream",
     "text": [
      "-0.24904394543861766\n",
      "CURRENT CONFIGURATION:\n",
      "SLIMElasticNetRecommender with weight alpha: 0.8434341457007207\n",
      "SLIM_BPR_Recommender with weight beta: 0.01248937956012851\n",
      "RP3betaRecommender with weight gamma: 0.1440764747391508\n",
      "EvaluatorHoldout: Processed 13643 (100.0%) in 3.82 min. Users per second: 60\n"
     ]
    },
    {
     "name": "stderr",
     "output_type": "stream",
     "text": [
      "\u001b[32m[I 2022-01-05 00:19:07,166]\u001b[0m Trial 175 finished with value: -0.24996070430908746 and parameters: {'alpha': 0.9858227858507965, 'beta': 0.014597837915709325, 'gamma': 0.1683994801810052}. Best is trial 173 with value: -0.25019763609223405.\u001b[0m\n"
     ]
    },
    {
     "name": "stdout",
     "output_type": "stream",
     "text": [
      "-0.24996070430908746\n",
      "CURRENT CONFIGURATION:\n",
      "SLIMElasticNetRecommender with weight alpha: 0.9821820654842599\n",
      "SLIM_BPR_Recommender with weight beta: 0.0008399065136459608\n",
      "RP3betaRecommender with weight gamma: 0.016978028002094213\n",
      "EvaluatorHoldout: Processed 13643 (100.0%) in 3.82 min. Users per second: 60\n"
     ]
    },
    {
     "name": "stderr",
     "output_type": "stream",
     "text": [
      "\u001b[32m[I 2022-01-05 00:22:56,425]\u001b[0m Trial 176 finished with value: -0.24910338926061204 and parameters: {'alpha': 0.9812014480397466, 'beta': 0.0008390679451076161, 'gamma': 0.01696107702017613}. Best is trial 173 with value: -0.25019763609223405.\u001b[0m\n"
     ]
    },
    {
     "name": "stdout",
     "output_type": "stream",
     "text": [
      "-0.24910338926061204\n",
      "CURRENT CONFIGURATION:\n",
      "SLIMElasticNetRecommender with weight alpha: 0.809949127483339\n",
      "SLIM_BPR_Recommender with weight beta: 0.04928278077584793\n",
      "RP3betaRecommender with weight gamma: 0.14076809174081317\n",
      "EvaluatorHoldout: Processed 13643 (100.0%) in 3.85 min. Users per second: 59\n"
     ]
    },
    {
     "name": "stderr",
     "output_type": "stream",
     "text": [
      "\u001b[32m[I 2022-01-05 00:26:47,811]\u001b[0m Trial 177 finished with value: -0.24744015769468294 and parameters: {'alpha': 0.9589191011498043, 'beta': 0.058347121121765856, 'gamma': 0.16665887698662957}. Best is trial 173 with value: -0.25019763609223405.\u001b[0m\n"
     ]
    },
    {
     "name": "stdout",
     "output_type": "stream",
     "text": [
      "-0.24744015769468294\n",
      "CURRENT CONFIGURATION:\n",
      "SLIMElasticNetRecommender with weight alpha: 0.8456314563389811\n",
      "SLIM_BPR_Recommender with weight beta: 0.03425292015766154\n",
      "RP3betaRecommender with weight gamma: 0.12011562350335739\n",
      "EvaluatorHoldout: Processed 13643 (100.0%) in 3.82 min. Users per second: 60\n"
     ]
    },
    {
     "name": "stderr",
     "output_type": "stream",
     "text": [
      "\u001b[32m[I 2022-01-05 00:30:36,834]\u001b[0m Trial 178 finished with value: -0.24886425854761357 and parameters: {'alpha': 0.9819848965600727, 'beta': 0.03977601590593903, 'gamma': 0.13948360983618702}. Best is trial 173 with value: -0.25019763609223405.\u001b[0m\n"
     ]
    },
    {
     "name": "stdout",
     "output_type": "stream",
     "text": [
      "-0.24886425854761357\n",
      "CURRENT CONFIGURATION:\n",
      "SLIMElasticNetRecommender with weight alpha: 0.7443597860942321\n",
      "SLIM_BPR_Recommender with weight beta: 0.0646892970339943\n",
      "RP3betaRecommender with weight gamma: 0.19095091687177354\n",
      "EvaluatorHoldout: Processed 13643 (100.0%) in 3.80 min. Users per second: 60\n"
     ]
    },
    {
     "name": "stderr",
     "output_type": "stream",
     "text": [
      "\u001b[32m[I 2022-01-05 00:34:25,180]\u001b[0m Trial 179 finished with value: -0.24560986854122513 and parameters: {'alpha': 0.901005738199301, 'beta': 0.07830276287968255, 'gamma': 0.23113536629732076}. Best is trial 173 with value: -0.25019763609223405.\u001b[0m\n"
     ]
    },
    {
     "name": "stdout",
     "output_type": "stream",
     "text": [
      "-0.24560986854122513\n",
      "CURRENT CONFIGURATION:\n",
      "SLIMElasticNetRecommender with weight alpha: 0.7637622761552488\n",
      "SLIM_BPR_Recommender with weight beta: 0.01914853869426334\n",
      "RP3betaRecommender with weight gamma: 0.21708918515048783\n",
      "EvaluatorHoldout: Processed 13643 (100.0%) in 3.83 min. Users per second: 59\n"
     ]
    },
    {
     "name": "stderr",
     "output_type": "stream",
     "text": [
      "\u001b[32m[I 2022-01-05 00:38:14,864]\u001b[0m Trial 180 finished with value: -0.2497171524672809 and parameters: {'alpha': 0.95454038681168, 'beta': 0.023931600319554405, 'gamma': 0.27131530482144117}. Best is trial 173 with value: -0.25019763609223405.\u001b[0m\n"
     ]
    },
    {
     "name": "stdout",
     "output_type": "stream",
     "text": [
      "-0.2497171524672809\n",
      "CURRENT CONFIGURATION:\n",
      "SLIMElasticNetRecommender with weight alpha: 0.8292156299872759\n",
      "SLIM_BPR_Recommender with weight beta: 0.013320576796602314\n",
      "RP3betaRecommender with weight gamma: 0.1574637932161218\n",
      "EvaluatorHoldout: Processed 13643 (100.0%) in 4.06 min. Users per second: 56\n"
     ]
    },
    {
     "name": "stderr",
     "output_type": "stream",
     "text": [
      "\u001b[32m[I 2022-01-05 00:42:18,530]\u001b[0m Trial 181 finished with value: -0.24991605672540937 and parameters: {'alpha': 0.9986139161820438, 'beta': 0.016041802493354854, 'gamma': 0.18963165853837538}. Best is trial 173 with value: -0.25019763609223405.\u001b[0m\n"
     ]
    },
    {
     "name": "stdout",
     "output_type": "stream",
     "text": [
      "-0.24991605672540937\n",
      "CURRENT CONFIGURATION:\n",
      "SLIMElasticNetRecommender with weight alpha: 0.8250339677941483\n",
      "SLIM_BPR_Recommender with weight beta: 0.014686596882111288\n",
      "RP3betaRecommender with weight gamma: 0.16027943532374034\n",
      "EvaluatorHoldout: Processed 13643 (100.0%) in 3.92 min. Users per second: 58\n"
     ]
    },
    {
     "name": "stderr",
     "output_type": "stream",
     "text": [
      "\u001b[32m[I 2022-01-05 00:46:13,994]\u001b[0m Trial 182 finished with value: -0.25014552494505593 and parameters: {'alpha': 0.9994438345630047, 'beta': 0.017791302270600263, 'gamma': 0.19416205840572218}. Best is trial 173 with value: -0.25019763609223405.\u001b[0m\n"
     ]
    },
    {
     "name": "stdout",
     "output_type": "stream",
     "text": [
      "-0.25014552494505593\n",
      "CURRENT CONFIGURATION:\n",
      "SLIMElasticNetRecommender with weight alpha: 0.9301740853002302\n",
      "SLIM_BPR_Recommender with weight beta: 0.028586998072171334\n",
      "RP3betaRecommender with weight gamma: 0.041238916627598446\n",
      "EvaluatorHoldout: Processed 13643 (100.0%) in 3.90 min. Users per second: 58\n"
     ]
    },
    {
     "name": "stderr",
     "output_type": "stream",
     "text": [
      "\u001b[32m[I 2022-01-05 00:50:07,867]\u001b[0m Trial 183 finished with value: -0.24942910138230198 and parameters: {'alpha': 0.998212335458363, 'beta': 0.030678014535478488, 'gamma': 0.04425536674172229}. Best is trial 173 with value: -0.25019763609223405.\u001b[0m\n"
     ]
    },
    {
     "name": "stdout",
     "output_type": "stream",
     "text": [
      "-0.24942910138230198\n",
      "CURRENT CONFIGURATION:\n",
      "SLIMElasticNetRecommender with weight alpha: 0.7958053897976485\n",
      "SLIM_BPR_Recommender with weight beta: 0.04570769272146506\n",
      "RP3betaRecommender with weight gamma: 0.15848691748088636\n",
      "EvaluatorHoldout: Processed 13643 (100.0%) in 3.84 min. Users per second: 59\n"
     ]
    },
    {
     "name": "stderr",
     "output_type": "stream",
     "text": [
      "\u001b[32m[I 2022-01-05 00:53:58,528]\u001b[0m Trial 184 finished with value: -0.24753931023409795 and parameters: {'alpha': 0.9746163594283668, 'beta': 0.0559778378598214, 'gamma': 0.1940976330551385}. Best is trial 173 with value: -0.25019763609223405.\u001b[0m\n"
     ]
    },
    {
     "name": "stdout",
     "output_type": "stream",
     "text": [
      "-0.24753931023409795\n",
      "CURRENT CONFIGURATION:\n",
      "SLIMElasticNetRecommender with weight alpha: 0.8547736374718836\n",
      "SLIM_BPR_Recommender with weight beta: 0.0015707189312307828\n",
      "RP3betaRecommender with weight gamma: 0.14365564359688554\n",
      "EvaluatorHoldout: Processed 13643 (100.0%) in 3.85 min. Users per second: 59\n"
     ]
    },
    {
     "name": "stderr",
     "output_type": "stream",
     "text": [
      "\u001b[32m[I 2022-01-05 00:57:49,834]\u001b[0m Trial 185 finished with value: -0.24910170515957192 and parameters: {'alpha': 0.9964212168948025, 'beta': 0.0018310083515042444, 'gamma': 0.16746133120106096}. Best is trial 173 with value: -0.25019763609223405.\u001b[0m\n"
     ]
    },
    {
     "name": "stdout",
     "output_type": "stream",
     "text": [
      "-0.24910170515957192\n",
      "CURRENT CONFIGURATION:\n",
      "SLIMElasticNetRecommender with weight alpha: 0.8608974070935447\n",
      "SLIM_BPR_Recommender with weight beta: 0.03302533545679322\n",
      "RP3betaRecommender with weight gamma: 0.106077257449662\n",
      "EvaluatorHoldout: Processed 13643 (100.0%) in 3.90 min. Users per second: 58\n"
     ]
    },
    {
     "name": "stderr",
     "output_type": "stream",
     "text": [
      "\u001b[32m[I 2022-01-05 01:01:43,822]\u001b[0m Trial 186 finished with value: -0.2491660587614565 and parameters: {'alpha': 0.9445291740536594, 'beta': 0.03623357738660313, 'gamma': 0.11638211886717846}. Best is trial 173 with value: -0.25019763609223405.\u001b[0m\n"
     ]
    },
    {
     "name": "stdout",
     "output_type": "stream",
     "text": [
      "-0.2491660587614565\n",
      "CURRENT CONFIGURATION:\n",
      "SLIMElasticNetRecommender with weight alpha: 0.728738385270056\n",
      "SLIM_BPR_Recommender with weight beta: 0.19892264915149616\n",
      "RP3betaRecommender with weight gamma: 0.0723389655784479\n",
      "EvaluatorHoldout: Processed 13643 (100.0%) in 3.88 min. Users per second: 59\n"
     ]
    },
    {
     "name": "stderr",
     "output_type": "stream",
     "text": [
      "\u001b[32m[I 2022-01-05 01:05:36,510]\u001b[0m Trial 187 pruned. \u001b[0m\n"
     ]
    },
    {
     "name": "stdout",
     "output_type": "stream",
     "text": [
      "-0.23855267658628201\n",
      "CURRENT CONFIGURATION:\n",
      "SLIMElasticNetRecommender with weight alpha: 0.8181236973990451\n",
      "SLIM_BPR_Recommender with weight beta: 0.014255899603905667\n",
      "RP3betaRecommender with weight gamma: 0.16762040299704925\n",
      "EvaluatorHoldout: Processed 13643 (100.0%) in 3.86 min. Users per second: 59\n"
     ]
    },
    {
     "name": "stderr",
     "output_type": "stream",
     "text": [
      "\u001b[32m[I 2022-01-05 01:09:28,481]\u001b[0m Trial 188 finished with value: -0.25005477545901234 and parameters: {'alpha': 0.999917722519907, 'beta': 0.017423681418504325, 'gamma': 0.20486707834711118}. Best is trial 173 with value: -0.25019763609223405.\u001b[0m\n"
     ]
    },
    {
     "name": "stdout",
     "output_type": "stream",
     "text": [
      "-0.25005477545901234\n",
      "CURRENT CONFIGURATION:\n",
      "SLIMElasticNetRecommender with weight alpha: 0.7890185149665265\n",
      "SLIM_BPR_Recommender with weight beta: 0.04595081962497515\n",
      "RP3betaRecommender with weight gamma: 0.16503066540849828\n",
      "EvaluatorHoldout: Processed 13643 (100.0%) in 3.85 min. Users per second: 59\n"
     ]
    },
    {
     "name": "stderr",
     "output_type": "stream",
     "text": [
      "\u001b[32m[I 2022-01-05 01:13:19,309]\u001b[0m Trial 189 finished with value: -0.24751346117376236 and parameters: {'alpha': 0.9816643652574449, 'beta': 0.05717011872924713, 'gamma': 0.20532436227192988}. Best is trial 173 with value: -0.25019763609223405.\u001b[0m\n"
     ]
    },
    {
     "name": "stdout",
     "output_type": "stream",
     "text": [
      "-0.24751346117376236\n",
      "CURRENT CONFIGURATION:\n",
      "SLIMElasticNetRecommender with weight alpha: 0.844930479846855\n",
      "SLIM_BPR_Recommender with weight beta: 0.0002586042670128948\n",
      "RP3betaRecommender with weight gamma: 0.15481091588613216\n",
      "EvaluatorHoldout: Processed 13643 (100.0%) in 3.81 min. Users per second: 60\n"
     ]
    },
    {
     "name": "stderr",
     "output_type": "stream",
     "text": [
      "\u001b[32m[I 2022-01-05 01:17:07,941]\u001b[0m Trial 190 finished with value: -0.24894958342495482 and parameters: {'alpha': 0.99758244255789, 'beta': 0.00030532580193979447, 'gamma': 0.18278030593984923}. Best is trial 173 with value: -0.25019763609223405.\u001b[0m\n"
     ]
    },
    {
     "name": "stdout",
     "output_type": "stream",
     "text": [
      "-0.24894958342495482\n",
      "CURRENT CONFIGURATION:\n",
      "SLIMElasticNetRecommender with weight alpha: 0.8030184537523699\n",
      "SLIM_BPR_Recommender with weight beta: 0.01560507426706299\n",
      "RP3betaRecommender with weight gamma: 0.18137647198056697\n",
      "EvaluatorHoldout: Processed 13643 (100.0%) in 3.85 min. Users per second: 59\n"
     ]
    },
    {
     "name": "stderr",
     "output_type": "stream",
     "text": [
      "\u001b[32m[I 2022-01-05 01:20:59,076]\u001b[0m Trial 191 finished with value: -0.24996533195114806 and parameters: {'alpha': 0.9586506325231864, 'beta': 0.01862947762506147, 'gamma': 0.2165288590523644}. Best is trial 173 with value: -0.25019763609223405.\u001b[0m\n"
     ]
    },
    {
     "name": "stdout",
     "output_type": "stream",
     "text": [
      "-0.24996533195114806\n",
      "CURRENT CONFIGURATION:\n",
      "SLIMElasticNetRecommender with weight alpha: 0.7844611787094139\n",
      "SLIM_BPR_Recommender with weight beta: 0.017762042489106435\n",
      "RP3betaRecommender with weight gamma: 0.19777677880147965\n",
      "EvaluatorHoldout: Processed 13643 (100.0%) in 3.87 min. Users per second: 59\n"
     ]
    },
    {
     "name": "stderr",
     "output_type": "stream",
     "text": [
      "\u001b[32m[I 2022-01-05 01:24:51,086]\u001b[0m Trial 192 finished with value: -0.24966232756143344 and parameters: {'alpha': 0.9592191992655027, 'beta': 0.021718974292329822, 'gamma': 0.2418364203916075}. Best is trial 173 with value: -0.25019763609223405.\u001b[0m\n"
     ]
    },
    {
     "name": "stdout",
     "output_type": "stream",
     "text": [
      "-0.24966232756143344\n",
      "CURRENT CONFIGURATION:\n",
      "SLIMElasticNetRecommender with weight alpha: 0.834315337777026\n",
      "SLIM_BPR_Recommender with weight beta: 0.03235639665531384\n",
      "RP3betaRecommender with weight gamma: 0.13332826556766017\n",
      "EvaluatorHoldout: Processed 13643 (100.0%) in 3.87 min. Users per second: 59\n"
     ]
    },
    {
     "name": "stderr",
     "output_type": "stream",
     "text": [
      "\u001b[32m[I 2022-01-05 01:28:43,130]\u001b[0m Trial 193 finished with value: -0.24905619952787092 and parameters: {'alpha': 0.9421960459402918, 'beta': 0.036540223593084536, 'gamma': 0.1505682071776791}. Best is trial 173 with value: -0.25019763609223405.\u001b[0m\n"
     ]
    },
    {
     "name": "stdout",
     "output_type": "stream",
     "text": [
      "-0.24905619952787092\n",
      "CURRENT CONFIGURATION:\n",
      "SLIMElasticNetRecommender with weight alpha: 0.8023110436098543\n",
      "SLIM_BPR_Recommender with weight beta: 0.013496151852373926\n",
      "RP3betaRecommender with weight gamma: 0.18419280453777176\n",
      "EvaluatorHoldout: Processed 13643 (100.0%) in 3.86 min. Users per second: 59\n"
     ]
    },
    {
     "name": "stderr",
     "output_type": "stream",
     "text": [
      "\u001b[32m[I 2022-01-05 01:32:34,998]\u001b[0m Trial 194 finished with value: -0.2500371578424428 and parameters: {'alpha': 0.9656625842262682, 'beta': 0.016243985395284006, 'gamma': 0.2216946919059509}. Best is trial 173 with value: -0.25019763609223405.\u001b[0m\n"
     ]
    },
    {
     "name": "stdout",
     "output_type": "stream",
     "text": [
      "-0.2500371578424428\n",
      "CURRENT CONFIGURATION:\n",
      "SLIMElasticNetRecommender with weight alpha: 0.7928148911599435\n",
      "SLIM_BPR_Recommender with weight beta: 0.03199947304338023\n",
      "RP3betaRecommender with weight gamma: 0.17518563579667618\n",
      "EvaluatorHoldout: Processed 13643 (100.0%) in 3.84 min. Users per second: 59\n"
     ]
    },
    {
     "name": "stderr",
     "output_type": "stream",
     "text": [
      "\u001b[32m[I 2022-01-05 01:36:25,719]\u001b[0m Trial 195 finished with value: -0.24882934035594922 and parameters: {'alpha': 0.9765650071706462, 'beta': 0.03941596704414219, 'gamma': 0.21578827994473349}. Best is trial 173 with value: -0.25019763609223405.\u001b[0m\n"
     ]
    },
    {
     "name": "stdout",
     "output_type": "stream",
     "text": [
      "-0.24882934035594922\n",
      "CURRENT CONFIGURATION:\n",
      "SLIMElasticNetRecommender with weight alpha: 0.7950142652364124\n",
      "SLIM_BPR_Recommender with weight beta: 0.0008887383792613898\n",
      "RP3betaRecommender with weight gamma: 0.20409699638432616\n",
      "EvaluatorHoldout: Processed 13643 (100.0%) in 3.85 min. Users per second: 59\n"
     ]
    },
    {
     "name": "stderr",
     "output_type": "stream",
     "text": [
      "\u001b[32m[I 2022-01-05 01:40:17,022]\u001b[0m Trial 196 finished with value: -0.24890786193047337 and parameters: {'alpha': 0.9628751778566313, 'beta': 0.001076388390018201, 'gamma': 0.24719044712376753}. Best is trial 173 with value: -0.25019763609223405.\u001b[0m\n"
     ]
    },
    {
     "name": "stdout",
     "output_type": "stream",
     "text": [
      "-0.24890786193047337\n",
      "CURRENT CONFIGURATION:\n",
      "SLIMElasticNetRecommender with weight alpha: 0.7971052517310248\n",
      "SLIM_BPR_Recommender with weight beta: 0.05156983900038102\n",
      "RP3betaRecommender with weight gamma: 0.15132490926859413\n",
      "EvaluatorHoldout: Processed 13643 (100.0%) in 3.83 min. Users per second: 59\n"
     ]
    },
    {
     "name": "stderr",
     "output_type": "stream",
     "text": [
      "\u001b[32m[I 2022-01-05 01:44:07,057]\u001b[0m Trial 197 finished with value: -0.24713625162738137 and parameters: {'alpha': 0.9989278048008888, 'beta': 0.06462703131702481, 'gamma': 0.1896395226340558}. Best is trial 173 with value: -0.25019763609223405.\u001b[0m\n"
     ]
    },
    {
     "name": "stdout",
     "output_type": "stream",
     "text": [
      "-0.24713625162738137\n",
      "CURRENT CONFIGURATION:\n",
      "SLIMElasticNetRecommender with weight alpha: 0.7911840643060017\n",
      "SLIM_BPR_Recommender with weight beta: 0.017064536870694924\n",
      "RP3betaRecommender with weight gamma: 0.1917513988233033\n",
      "EvaluatorHoldout: Processed 13643 (100.0%) in 3.88 min. Users per second: 59\n"
     ]
    },
    {
     "name": "stderr",
     "output_type": "stream",
     "text": [
      "\u001b[32m[I 2022-01-05 01:47:59,885]\u001b[0m Trial 198 finished with value: -0.24979752102653993 and parameters: {'alpha': 0.9207763324362328, 'beta': 0.01985962860400113, 'gamma': 0.22315938567710009}. Best is trial 173 with value: -0.25019763609223405.\u001b[0m\n"
     ]
    },
    {
     "name": "stdout",
     "output_type": "stream",
     "text": [
      "-0.24979752102653993\n",
      "CURRENT CONFIGURATION:\n",
      "SLIMElasticNetRecommender with weight alpha: 0.7604258882844476\n",
      "SLIM_BPR_Recommender with weight beta: 0.03529415517577724\n",
      "RP3betaRecommender with weight gamma: 0.20427995653977515\n",
      "EvaluatorHoldout: Processed 13643 (100.0%) in 3.86 min. Users per second: 59\n"
     ]
    },
    {
     "name": "stderr",
     "output_type": "stream",
     "text": [
      "\u001b[32m[I 2022-01-05 01:51:51,713]\u001b[0m Trial 199 finished with value: -0.24840368454547965 and parameters: {'alpha': 0.9776565622205339, 'beta': 0.04537662768619625, 'gamma': 0.26263656079858544}. Best is trial 173 with value: -0.25019763609223405.\u001b[0m\n"
     ]
    },
    {
     "name": "stdout",
     "output_type": "stream",
     "text": [
      "-0.24840368454547965\n",
      "CURRENT CONFIGURATION:\n",
      "SLIMElasticNetRecommender with weight alpha: 0.7909253451983015\n",
      "SLIM_BPR_Recommender with weight beta: 0.0649619224869868\n",
      "RP3betaRecommender with weight gamma: 0.14411273231471186\n",
      "EvaluatorHoldout: Processed 13643 (100.0%) in 3.84 min. Users per second: 59\n"
     ]
    },
    {
     "name": "stderr",
     "output_type": "stream",
     "text": [
      "\u001b[32m[I 2022-01-05 01:55:41,981]\u001b[0m Trial 200 finished with value: -0.24595053396764854 and parameters: {'alpha': 0.9356291084892131, 'beta': 0.07684703239217344, 'gamma': 0.17047888030918046}. Best is trial 173 with value: -0.25019763609223405.\u001b[0m\n"
     ]
    },
    {
     "name": "stdout",
     "output_type": "stream",
     "text": [
      "-0.24595053396764854\n",
      "CURRENT CONFIGURATION:\n",
      "SLIMElasticNetRecommender with weight alpha: 0.795199036032872\n",
      "SLIM_BPR_Recommender with weight beta: 0.016047418585699705\n",
      "RP3betaRecommender with weight gamma: 0.18875354538142844\n",
      "EvaluatorHoldout: Processed 13643 (100.0%) in 3.84 min. Users per second: 59\n"
     ]
    },
    {
     "name": "stderr",
     "output_type": "stream",
     "text": [
      "\u001b[32m[I 2022-01-05 01:59:32,754]\u001b[0m Trial 201 finished with value: -0.24990260427755792 and parameters: {'alpha': 0.9172240095481087, 'beta': 0.01850992889969231, 'gamma': 0.2177181760366443}. Best is trial 173 with value: -0.25019763609223405.\u001b[0m\n"
     ]
    },
    {
     "name": "stdout",
     "output_type": "stream",
     "text": [
      "-0.24990260427755792\n",
      "CURRENT CONFIGURATION:\n",
      "SLIMElasticNetRecommender with weight alpha: 0.8123227080123648\n",
      "SLIM_BPR_Recommender with weight beta: 0.014853785507932257\n",
      "RP3betaRecommender with weight gamma: 0.17282350647970288\n",
      "EvaluatorHoldout: Processed 13643 (100.0%) in 3.86 min. Users per second: 59\n"
     ]
    },
    {
     "name": "stderr",
     "output_type": "stream",
     "text": [
      "\u001b[32m[I 2022-01-05 02:03:24,404]\u001b[0m Trial 202 finished with value: -0.24997171641018295 and parameters: {'alpha': 0.9607035162573099, 'beta': 0.017567013486695704, 'gamma': 0.2043918614231836}. Best is trial 173 with value: -0.25019763609223405.\u001b[0m\n"
     ]
    },
    {
     "name": "stdout",
     "output_type": "stream",
     "text": [
      "-0.24997171641018295\n",
      "CURRENT CONFIGURATION:\n",
      "SLIMElasticNetRecommender with weight alpha: 0.8064859946759608\n",
      "SLIM_BPR_Recommender with weight beta: 0.02723717685658468\n",
      "RP3betaRecommender with weight gamma: 0.16627682846745456\n",
      "EvaluatorHoldout: Processed 13643 (100.0%) in 3.87 min. Users per second: 59\n"
     ]
    },
    {
     "name": "stderr",
     "output_type": "stream",
     "text": [
      "\u001b[32m[I 2022-01-05 02:07:16,829]\u001b[0m Trial 203 finished with value: -0.24931507116272347 and parameters: {'alpha': 0.9815062409008173, 'beta': 0.03314807603075419, 'gamma': 0.20236153626396747}. Best is trial 173 with value: -0.25019763609223405.\u001b[0m\n"
     ]
    },
    {
     "name": "stdout",
     "output_type": "stream",
     "text": [
      "-0.24931507116272347\n",
      "CURRENT CONFIGURATION:\n",
      "SLIMElasticNetRecommender with weight alpha: 0.8542595574870393\n",
      "SLIM_BPR_Recommender with weight beta: 0.015616103330642773\n",
      "RP3betaRecommender with weight gamma: 0.13012433918231803\n",
      "EvaluatorHoldout: Processed 13643 (100.0%) in 3.87 min. Users per second: 59\n"
     ]
    },
    {
     "name": "stderr",
     "output_type": "stream",
     "text": [
      "\u001b[32m[I 2022-01-05 02:11:09,232]\u001b[0m Trial 204 finished with value: -0.25013674667746355 and parameters: {'alpha': 0.9612082359782311, 'beta': 0.017571155047368205, 'gamma': 0.14641520299896274}. Best is trial 173 with value: -0.25019763609223405.\u001b[0m\n"
     ]
    },
    {
     "name": "stdout",
     "output_type": "stream",
     "text": [
      "-0.25013674667746355\n",
      "CURRENT CONFIGURATION:\n",
      "SLIMElasticNetRecommender with weight alpha: 0.8732294878821653\n",
      "SLIM_BPR_Recommender with weight beta: 0.0004586665271280572\n",
      "RP3betaRecommender with weight gamma: 0.1263118455907067\n",
      "EvaluatorHoldout: Processed 13643 (100.0%) in 3.84 min. Users per second: 59\n"
     ]
    },
    {
     "name": "stderr",
     "output_type": "stream",
     "text": [
      "\u001b[32m[I 2022-01-05 02:14:59,718]\u001b[0m Trial 205 finished with value: -0.24901070843935308 and parameters: {'alpha': 0.9636867687739149, 'beta': 0.0005061794976081203, 'gamma': 0.1393964084176731}. Best is trial 173 with value: -0.25019763609223405.\u001b[0m\n"
     ]
    },
    {
     "name": "stdout",
     "output_type": "stream",
     "text": [
      "-0.24901070843935308\n",
      "CURRENT CONFIGURATION:\n",
      "SLIMElasticNetRecommender with weight alpha: 0.7849266249412603\n",
      "SLIM_BPR_Recommender with weight beta: 0.023163911762048753\n",
      "RP3betaRecommender with weight gamma: 0.191909463296691\n",
      "EvaluatorHoldout: Processed 13643 (100.0%) in 3.83 min. Users per second: 59\n"
     ]
    },
    {
     "name": "stderr",
     "output_type": "stream",
     "text": [
      "\u001b[32m[I 2022-01-05 02:18:49,367]\u001b[0m Trial 206 finished with value: -0.24957295386086828 and parameters: {'alpha': 0.9168443427546361, 'beta': 0.027056925807162277, 'gamma': 0.22416248876487896}. Best is trial 173 with value: -0.25019763609223405.\u001b[0m\n"
     ]
    },
    {
     "name": "stdout",
     "output_type": "stream",
     "text": [
      "-0.24957295386086828\n",
      "CURRENT CONFIGURATION:\n",
      "SLIMElasticNetRecommender with weight alpha: 0.8152314187548729\n",
      "SLIM_BPR_Recommender with weight beta: 0.04684983034388507\n",
      "RP3betaRecommender with weight gamma: 0.13791875090124195\n",
      "EvaluatorHoldout: Processed 13643 (100.0%) in 3.84 min. Users per second: 59\n"
     ]
    },
    {
     "name": "stderr",
     "output_type": "stream",
     "text": [
      "\u001b[32m[I 2022-01-05 02:22:39,825]\u001b[0m Trial 207 finished with value: -0.24750520936953457 and parameters: {'alpha': 0.938066234126825, 'beta': 0.05390891826432839, 'gamma': 0.15869962846991947}. Best is trial 173 with value: -0.25019763609223405.\u001b[0m\n"
     ]
    },
    {
     "name": "stdout",
     "output_type": "stream",
     "text": [
      "-0.24750520936953457\n",
      "CURRENT CONFIGURATION:\n",
      "SLIMElasticNetRecommender with weight alpha: 0.8686959889307171\n",
      "SLIM_BPR_Recommender with weight beta: 0.018087302624568258\n",
      "RP3betaRecommender with weight gamma: 0.11321670844471463\n",
      "EvaluatorHoldout: Processed 13643 (100.0%) in 3.86 min. Users per second: 59\n"
     ]
    },
    {
     "name": "stderr",
     "output_type": "stream",
     "text": [
      "\u001b[32m[I 2022-01-05 02:26:31,298]\u001b[0m Trial 208 finished with value: -0.2499384066949856 and parameters: {'alpha': 0.9617611865669106, 'beta': 0.020025032756755316, 'gamma': 0.1253458485367463}. Best is trial 173 with value: -0.25019763609223405.\u001b[0m\n"
     ]
    },
    {
     "name": "stdout",
     "output_type": "stream",
     "text": [
      "-0.2499384066949856\n",
      "CURRENT CONFIGURATION:\n",
      "SLIMElasticNetRecommender with weight alpha: 0.8502820906849935\n",
      "SLIM_BPR_Recommender with weight beta: 0.03622443114584139\n",
      "RP3betaRecommender with weight gamma: 0.11349347816916495\n",
      "EvaluatorHoldout: Processed 13643 (100.0%) in 3.83 min. Users per second: 59\n"
     ]
    },
    {
     "name": "stderr",
     "output_type": "stream",
     "text": [
      "\u001b[32m[I 2022-01-05 02:30:21,441]\u001b[0m Trial 209 finished with value: -0.24871715130382718 and parameters: {'alpha': 0.9453524608785787, 'beta': 0.04027469883560629, 'gamma': 0.12618322796197512}. Best is trial 173 with value: -0.25019763609223405.\u001b[0m\n"
     ]
    },
    {
     "name": "stdout",
     "output_type": "stream",
     "text": [
      "-0.24871715130382718\n",
      "CURRENT CONFIGURATION:\n",
      "SLIMElasticNetRecommender with weight alpha: 0.5666328971453352\n",
      "SLIM_BPR_Recommender with weight beta: 0.3735598004740647\n",
      "RP3betaRecommender with weight gamma: 0.05980730238060013\n",
      "EvaluatorHoldout: Processed 13643 (100.0%) in 3.85 min. Users per second: 59\n"
     ]
    },
    {
     "name": "stderr",
     "output_type": "stream",
     "text": [
      "\u001b[32m[I 2022-01-05 02:34:12,740]\u001b[0m Trial 210 pruned. \u001b[0m\n"
     ]
    },
    {
     "name": "stdout",
     "output_type": "stream",
     "text": [
      "-0.2338610735896888\n",
      "CURRENT CONFIGURATION:\n",
      "SLIMElasticNetRecommender with weight alpha: 0.8192953854515725\n",
      "SLIM_BPR_Recommender with weight beta: 0.017035454653410866\n",
      "RP3betaRecommender with weight gamma: 0.16366915989501662\n",
      "EvaluatorHoldout: Processed 13643 (100.0%) in 3.82 min. Users per second: 60\n"
     ]
    },
    {
     "name": "stderr",
     "output_type": "stream",
     "text": [
      "\u001b[32m[I 2022-01-05 02:38:02,036]\u001b[0m Trial 211 finished with value: -0.2499403554820254 and parameters: {'alpha': 0.9645072952127418, 'beta': 0.020054818545602357, 'gamma': 0.19267788092456567}. Best is trial 173 with value: -0.25019763609223405.\u001b[0m\n"
     ]
    },
    {
     "name": "stdout",
     "output_type": "stream",
     "text": [
      "-0.2499403554820254\n",
      "CURRENT CONFIGURATION:\n",
      "SLIMElasticNetRecommender with weight alpha: 0.8292611396394098\n",
      "SLIM_BPR_Recommender with weight beta: 0.016548032278879576\n",
      "RP3betaRecommender with weight gamma: 0.15419082808171053\n",
      "EvaluatorHoldout: Processed 13643 (100.0%) in 3.83 min. Users per second: 59\n"
     ]
    },
    {
     "name": "stderr",
     "output_type": "stream",
     "text": [
      "\u001b[32m[I 2022-01-05 02:41:51,742]\u001b[0m Trial 212 finished with value: -0.24988929726157616 and parameters: {'alpha': 0.9647113559355803, 'beta': 0.019250961964484885, 'gamma': 0.17937611654661423}. Best is trial 173 with value: -0.25019763609223405.\u001b[0m\n"
     ]
    },
    {
     "name": "stdout",
     "output_type": "stream",
     "text": [
      "-0.24988929726157616\n",
      "CURRENT CONFIGURATION:\n",
      "SLIMElasticNetRecommender with weight alpha: 0.8199874319526826\n",
      "SLIM_BPR_Recommender with weight beta: 0.026674759492196252\n",
      "RP3betaRecommender with weight gamma: 0.15333780855512105\n",
      "EvaluatorHoldout: Processed 13643 (100.0%) in 3.80 min. Users per second: 60\n"
     ]
    },
    {
     "name": "stderr",
     "output_type": "stream",
     "text": [
      "\u001b[32m[I 2022-01-05 02:45:39,987]\u001b[0m Trial 213 finished with value: -0.2493675458895734 and parameters: {'alpha': 0.9579841510818802, 'beta': 0.03116388841057206, 'gamma': 0.1791432217535623}. Best is trial 173 with value: -0.25019763609223405.\u001b[0m\n"
     ]
    },
    {
     "name": "stdout",
     "output_type": "stream",
     "text": [
      "-0.2493675458895734\n",
      "CURRENT CONFIGURATION:\n",
      "SLIMElasticNetRecommender with weight alpha: 0.7883166656253657\n",
      "SLIM_BPR_Recommender with weight beta: 0.047439343597069\n",
      "RP3betaRecommender with weight gamma: 0.16424399077756513\n",
      "EvaluatorHoldout: Processed 13643 (100.0%) in 3.86 min. Users per second: 59\n"
     ]
    },
    {
     "name": "stderr",
     "output_type": "stream",
     "text": [
      "\u001b[32m[I 2022-01-05 02:49:31,744]\u001b[0m Trial 214 finished with value: -0.2474329006444364 and parameters: {'alpha': 0.9354585342195597, 'beta': 0.056294051313056856, 'gamma': 0.1949006656421094}. Best is trial 173 with value: -0.25019763609223405.\u001b[0m\n"
     ]
    },
    {
     "name": "stdout",
     "output_type": "stream",
     "text": [
      "-0.2474329006444364\n",
      "CURRENT CONFIGURATION:\n",
      "SLIMElasticNetRecommender with weight alpha: 0.8660551433780654\n",
      "SLIM_BPR_Recommender with weight beta: 0.00038472776478903214\n",
      "RP3betaRecommender with weight gamma: 0.1335601288571456\n",
      "EvaluatorHoldout: Processed 13643 (100.0%) in 3.83 min. Users per second: 59\n"
     ]
    },
    {
     "name": "stderr",
     "output_type": "stream",
     "text": [
      "\u001b[32m[I 2022-01-05 02:53:21,913]\u001b[0m Trial 215 finished with value: -0.24898085127671699 and parameters: {'alpha': 0.9674548365401278, 'beta': 0.00042977256083789536, 'gamma': 0.1491976505419375}. Best is trial 173 with value: -0.25019763609223405.\u001b[0m\n"
     ]
    },
    {
     "name": "stdout",
     "output_type": "stream",
     "text": [
      "-0.24898085127671699\n",
      "CURRENT CONFIGURATION:\n",
      "SLIMElasticNetRecommender with weight alpha: 0.8278193735715085\n",
      "SLIM_BPR_Recommender with weight beta: 0.019674645512979122\n",
      "RP3betaRecommender with weight gamma: 0.1525059809155124\n",
      "EvaluatorHoldout: Processed 13643 (100.0%) in 3.82 min. Users per second: 59\n"
     ]
    },
    {
     "name": "stderr",
     "output_type": "stream",
     "text": [
      "\u001b[32m[I 2022-01-05 02:57:11,334]\u001b[0m Trial 216 finished with value: -0.24968715569005082 and parameters: {'alpha': 0.9621947012603796, 'beta': 0.02286832160026699, 'gamma': 0.1772614309741652}. Best is trial 173 with value: -0.25019763609223405.\u001b[0m\n"
     ]
    },
    {
     "name": "stdout",
     "output_type": "stream",
     "text": [
      "-0.24968715569005082\n",
      "CURRENT CONFIGURATION:\n",
      "SLIMElasticNetRecommender with weight alpha: 0.7975059905638748\n",
      "SLIM_BPR_Recommender with weight beta: 0.03284076829234677\n",
      "RP3betaRecommender with weight gamma: 0.16965324114377836\n",
      "EvaluatorHoldout: Processed 13643 (100.0%) in 3.84 min. Users per second: 59\n"
     ]
    },
    {
     "name": "stderr",
     "output_type": "stream",
     "text": [
      "\u001b[32m[I 2022-01-05 03:01:01,655]\u001b[0m Trial 217 finished with value: -0.24878149327115973 and parameters: {'alpha': 0.9372346171270002, 'beta': 0.03859470055500345, 'gamma': 0.199377675389397}. Best is trial 173 with value: -0.25019763609223405.\u001b[0m\n"
     ]
    },
    {
     "name": "stdout",
     "output_type": "stream",
     "text": [
      "-0.24878149327115973\n",
      "CURRENT CONFIGURATION:\n",
      "SLIMElasticNetRecommender with weight alpha: 0.802714864967389\n",
      "SLIM_BPR_Recommender with weight beta: 0.019405249091347738\n",
      "RP3betaRecommender with weight gamma: 0.1778798859412633\n",
      "EvaluatorHoldout: Processed 13643 (100.0%) in 3.85 min. Users per second: 59\n"
     ]
    },
    {
     "name": "stderr",
     "output_type": "stream",
     "text": [
      "\u001b[32m[I 2022-01-05 03:04:52,643]\u001b[0m Trial 218 finished with value: -0.24974005507795757 and parameters: {'alpha': 0.9781561472879281, 'beta': 0.023646458433439384, 'gamma': 0.21675729640236685}. Best is trial 173 with value: -0.25019763609223405.\u001b[0m\n"
     ]
    },
    {
     "name": "stdout",
     "output_type": "stream",
     "text": [
      "-0.24974005507795757\n",
      "CURRENT CONFIGURATION:\n",
      "SLIMElasticNetRecommender with weight alpha: 0.7499011023058606\n",
      "SLIM_BPR_Recommender with weight beta: 0.056624142571014696\n",
      "RP3betaRecommender with weight gamma: 0.19347475512312465\n",
      "EvaluatorHoldout: Processed 13643 (100.0%) in 3.84 min. Users per second: 59\n"
     ]
    },
    {
     "name": "stderr",
     "output_type": "stream",
     "text": [
      "\u001b[32m[I 2022-01-05 03:08:43,250]\u001b[0m Trial 219 finished with value: -0.24643223631166064 and parameters: {'alpha': 0.9142517719244616, 'beta': 0.06903406665235001, 'gamma': 0.23587728721836504}. Best is trial 173 with value: -0.25019763609223405.\u001b[0m\n"
     ]
    },
    {
     "name": "stdout",
     "output_type": "stream",
     "text": [
      "-0.24643223631166064\n",
      "CURRENT CONFIGURATION:\n",
      "SLIMElasticNetRecommender with weight alpha: 0.8194694666973666\n",
      "SLIM_BPR_Recommender with weight beta: 0.04320256941690572\n",
      "RP3betaRecommender with weight gamma: 0.13732796388572768\n",
      "EvaluatorHoldout: Processed 13643 (100.0%) in 3.83 min. Users per second: 59\n"
     ]
    },
    {
     "name": "stderr",
     "output_type": "stream",
     "text": [
      "\u001b[32m[I 2022-01-05 03:12:33,341]\u001b[0m Trial 220 finished with value: -0.2478743678076672 and parameters: {'alpha': 0.9488364644239718, 'beta': 0.05002281950146974, 'gamma': 0.15900748595920258}. Best is trial 173 with value: -0.25019763609223405.\u001b[0m\n"
     ]
    },
    {
     "name": "stdout",
     "output_type": "stream",
     "text": [
      "-0.2478743678076672\n",
      "CURRENT CONFIGURATION:\n",
      "SLIMElasticNetRecommender with weight alpha: 0.8738729781840768\n",
      "SLIM_BPR_Recommender with weight beta: 0.012474497521599293\n",
      "RP3betaRecommender with weight gamma: 0.11365252429432383\n",
      "EvaluatorHoldout: Processed 13643 (100.0%) in 3.86 min. Users per second: 59\n"
     ]
    },
    {
     "name": "stderr",
     "output_type": "stream",
     "text": [
      "\u001b[32m[I 2022-01-05 03:16:24,950]\u001b[0m Trial 221 finished with value: -0.2500224314114222 and parameters: {'alpha': 0.980293096131571, 'beta': 0.013993639926417629, 'gamma': 0.12749311136175534}. Best is trial 173 with value: -0.25019763609223405.\u001b[0m\n"
     ]
    },
    {
     "name": "stdout",
     "output_type": "stream",
     "text": [
      "-0.2500224314114222\n",
      "CURRENT CONFIGURATION:\n",
      "SLIMElasticNetRecommender with weight alpha: 0.8645757799831928\n",
      "SLIM_BPR_Recommender with weight beta: 0.01657026980420405\n",
      "RP3betaRecommender with weight gamma: 0.1188539502126032\n",
      "EvaluatorHoldout: Processed 13643 (100.0%) in 3.87 min. Users per second: 59\n"
     ]
    },
    {
     "name": "stderr",
     "output_type": "stream",
     "text": [
      "\u001b[32m[I 2022-01-05 03:20:17,034]\u001b[0m Trial 222 finished with value: -0.25004347249417974 and parameters: {'alpha': 0.9658306310346382, 'beta': 0.018510898075030188, 'gamma': 0.13277353864461663}. Best is trial 173 with value: -0.25019763609223405.\u001b[0m\n"
     ]
    },
    {
     "name": "stdout",
     "output_type": "stream",
     "text": [
      "-0.25004347249417974\n",
      "CURRENT CONFIGURATION:\n",
      "SLIMElasticNetRecommender with weight alpha: 0.8684539233838877\n",
      "SLIM_BPR_Recommender with weight beta: 0.019422823989158015\n",
      "RP3betaRecommender with weight gamma: 0.11212325262695415\n",
      "EvaluatorHoldout: Processed 13643 (100.0%) in 3.85 min. Users per second: 59\n"
     ]
    },
    {
     "name": "stderr",
     "output_type": "stream",
     "text": [
      "\u001b[32m[I 2022-01-05 03:24:08,400]\u001b[0m Trial 223 finished with value: -0.24975219573035334 and parameters: {'alpha': 0.9823007356310633, 'beta': 0.021968988542583803, 'gamma': 0.12682164311913569}. Best is trial 173 with value: -0.25019763609223405.\u001b[0m\n"
     ]
    },
    {
     "name": "stdout",
     "output_type": "stream",
     "text": [
      "-0.24975219573035334\n",
      "CURRENT CONFIGURATION:\n",
      "SLIMElasticNetRecommender with weight alpha: 0.8708981531836946\n",
      "SLIM_BPR_Recommender with weight beta: 0.03254108688007153\n",
      "RP3betaRecommender with weight gamma: 0.09656075993623399\n",
      "EvaluatorHoldout: Processed 13643 (100.0%) in 3.85 min. Users per second: 59\n"
     ]
    },
    {
     "name": "stderr",
     "output_type": "stream",
     "text": [
      "\u001b[32m[I 2022-01-05 03:27:59,409]\u001b[0m Trial 224 finished with value: -0.2491668266417227 and parameters: {'alpha': 0.9994515892473261, 'beta': 0.03734448268058599, 'gamma': 0.1108141114140618}. Best is trial 173 with value: -0.25019763609223405.\u001b[0m\n"
     ]
    },
    {
     "name": "stdout",
     "output_type": "stream",
     "text": [
      "-0.2491668266417227\n",
      "CURRENT CONFIGURATION:\n",
      "SLIMElasticNetRecommender with weight alpha: 0.9245578239766254\n",
      "SLIM_BPR_Recommender with weight beta: 0.018718909353511427\n",
      "RP3betaRecommender with weight gamma: 0.05672326666986307\n",
      "EvaluatorHoldout: Processed 13643 (100.0%) in 3.89 min. Users per second: 58\n"
     ]
    },
    {
     "name": "stderr",
     "output_type": "stream",
     "text": [
      "\u001b[32m[I 2022-01-05 03:31:53,046]\u001b[0m Trial 225 finished with value: -0.25005846651983843 and parameters: {'alpha': 0.9681002338624339, 'beta': 0.019600483661303444, 'gamma': 0.05939467094913034}. Best is trial 173 with value: -0.25019763609223405.\u001b[0m\n"
     ]
    },
    {
     "name": "stdout",
     "output_type": "stream",
     "text": [
      "-0.25005846651983843\n",
      "CURRENT CONFIGURATION:\n",
      "SLIMElasticNetRecommender with weight alpha: 0.9465128904308675\n",
      "SLIM_BPR_Recommender with weight beta: 0.002733083935525156\n",
      "RP3betaRecommender with weight gamma: 0.05075402563360733\n",
      "EvaluatorHoldout: Processed 13643 (100.0%) in 3.86 min. Users per second: 59\n"
     ]
    },
    {
     "name": "stderr",
     "output_type": "stream",
     "text": [
      "\u001b[32m[I 2022-01-05 03:35:44,977]\u001b[0m Trial 226 finished with value: -0.2492346647911757 and parameters: {'alpha': 0.9695306028072566, 'beta': 0.0027995482600625746, 'gamma': 0.0519882841162852}. Best is trial 173 with value: -0.25019763609223405.\u001b[0m\n"
     ]
    },
    {
     "name": "stdout",
     "output_type": "stream",
     "text": [
      "-0.2492346647911757\n",
      "CURRENT CONFIGURATION:\n",
      "SLIMElasticNetRecommender with weight alpha: 0.8647341804268024\n",
      "SLIM_BPR_Recommender with weight beta: 0.0458886010404685\n",
      "RP3betaRecommender with weight gamma: 0.08937721853272923\n",
      "EvaluatorHoldout: Processed 13643 (100.0%) in 3.86 min. Users per second: 59\n"
     ]
    },
    {
     "name": "stderr",
     "output_type": "stream",
     "text": [
      "\u001b[32m[I 2022-01-05 03:39:36,503]\u001b[0m Trial 227 finished with value: -0.24789134552401498 and parameters: {'alpha': 0.9298863956847352, 'beta': 0.04934601498402092, 'gamma': 0.09611122293871395}. Best is trial 173 with value: -0.25019763609223405.\u001b[0m\n"
     ]
    },
    {
     "name": "stdout",
     "output_type": "stream",
     "text": [
      "-0.24789134552401498\n",
      "CURRENT CONFIGURATION:\n",
      "SLIMElasticNetRecommender with weight alpha: 0.916262397223186\n",
      "SLIM_BPR_Recommender with weight beta: 0.02171415619784537\n",
      "RP3betaRecommender with weight gamma: 0.0620234465789685\n",
      "EvaluatorHoldout: Processed 13643 (100.0%) in 3.84 min. Users per second: 59\n"
     ]
    },
    {
     "name": "stderr",
     "output_type": "stream",
     "text": [
      "\u001b[32m[I 2022-01-05 03:43:27,002]\u001b[0m Trial 228 finished with value: -0.24972312680844536 and parameters: {'alpha': 0.9989713088760055, 'beta': 0.023674243430526654, 'gamma': 0.06762216129109666}. Best is trial 173 with value: -0.25019763609223405.\u001b[0m\n"
     ]
    },
    {
     "name": "stdout",
     "output_type": "stream",
     "text": [
      "-0.24972312680844536\n",
      "CURRENT CONFIGURATION:\n",
      "SLIMElasticNetRecommender with weight alpha: 0.9853397938827304\n",
      "SLIM_BPR_Recommender with weight beta: 0.0001973967387023062\n",
      "RP3betaRecommender with weight gamma: 0.01446280937856724\n",
      "EvaluatorHoldout: Processed 13643 (100.0%) in 3.83 min. Users per second: 59\n"
     ]
    },
    {
     "name": "stderr",
     "output_type": "stream",
     "text": [
      "\u001b[32m[I 2022-01-05 03:47:16,843]\u001b[0m Trial 229 finished with value: -0.24897591822773094 and parameters: {'alpha': 0.9492599691984892, 'beta': 0.00019016873495188852, 'gamma': 0.013933230009034125}. Best is trial 173 with value: -0.25019763609223405.\u001b[0m\n"
     ]
    },
    {
     "name": "stdout",
     "output_type": "stream",
     "text": [
      "-0.24897591822773094\n",
      "CURRENT CONFIGURATION:\n",
      "SLIMElasticNetRecommender with weight alpha: 0.8468320848620362\n",
      "SLIM_BPR_Recommender with weight beta: 0.03300678572116323\n",
      "RP3betaRecommender with weight gamma: 0.1201611294168004\n",
      "EvaluatorHoldout: Processed 13643 (100.0%) in 3.84 min. Users per second: 59\n"
     ]
    },
    {
     "name": "stderr",
     "output_type": "stream",
     "text": [
      "\u001b[32m[I 2022-01-05 03:51:07,605]\u001b[0m Trial 230 finished with value: -0.24907927083951512 and parameters: {'alpha': 0.9764062208932212, 'beta': 0.03805716798635922, 'gamma': 0.13854703473030763}. Best is trial 173 with value: -0.25019763609223405.\u001b[0m\n"
     ]
    },
    {
     "name": "stdout",
     "output_type": "stream",
     "text": [
      "-0.24907927083951512\n",
      "CURRENT CONFIGURATION:\n",
      "SLIMElasticNetRecommender with weight alpha: 0.8340138680428189\n",
      "SLIM_BPR_Recommender with weight beta: 0.015594015937808134\n",
      "RP3betaRecommender with weight gamma: 0.15039211601937308\n",
      "EvaluatorHoldout: Processed 13643 (100.0%) in 3.84 min. Users per second: 59\n"
     ]
    },
    {
     "name": "stderr",
     "output_type": "stream",
     "text": [
      "\u001b[32m[I 2022-01-05 03:54:58,318]\u001b[0m Trial 231 finished with value: -0.250024496543957 and parameters: {'alpha': 0.9639189622281469, 'beta': 0.018022922922151553, 'gamma': 0.17381702865550736}. Best is trial 173 with value: -0.25019763609223405.\u001b[0m\n"
     ]
    },
    {
     "name": "stdout",
     "output_type": "stream",
     "text": [
      "-0.250024496543957\n",
      "CURRENT CONFIGURATION:\n",
      "SLIMElasticNetRecommender with weight alpha: 0.8483926732586127\n",
      "SLIM_BPR_Recommender with weight beta: 0.01452390014373063\n",
      "RP3betaRecommender with weight gamma: 0.13708342659765685\n",
      "EvaluatorHoldout: Processed 13643 (100.0%) in 3.86 min. Users per second: 59\n"
     ]
    },
    {
     "name": "stderr",
     "output_type": "stream",
     "text": [
      "\u001b[32m[I 2022-01-05 03:58:49,844]\u001b[0m Trial 232 finished with value: -0.2500054944159979 and parameters: {'alpha': 0.9619080446304745, 'beta': 0.016467205373195827, 'gamma': 0.1554252588289413}. Best is trial 173 with value: -0.25019763609223405.\u001b[0m\n"
     ]
    },
    {
     "name": "stdout",
     "output_type": "stream",
     "text": [
      "-0.2500054944159979\n",
      "CURRENT CONFIGURATION:\n",
      "SLIMElasticNetRecommender with weight alpha: 0.859650615741144\n",
      "SLIM_BPR_Recommender with weight beta: 0.00012061727077105217\n",
      "RP3betaRecommender with weight gamma: 0.14022876698808492\n",
      "EvaluatorHoldout: Processed 13643 (100.0%) in 3.87 min. Users per second: 59\n"
     ]
    },
    {
     "name": "stderr",
     "output_type": "stream",
     "text": [
      "\u001b[32m[I 2022-01-05 04:02:42,130]\u001b[0m Trial 233 finished with value: -0.2490127299423274 and parameters: {'alpha': 0.946027755283457, 'beta': 0.00013273681636065404, 'gamma': 0.15431886307151937}. Best is trial 173 with value: -0.25019763609223405.\u001b[0m\n"
     ]
    },
    {
     "name": "stdout",
     "output_type": "stream",
     "text": [
      "-0.2490127299423274\n",
      "CURRENT CONFIGURATION:\n",
      "SLIMElasticNetRecommender with weight alpha: 0.8307800888464337\n",
      "SLIM_BPR_Recommender with weight beta: 0.027087794727793074\n",
      "RP3betaRecommender with weight gamma: 0.1421321164257732\n",
      "EvaluatorHoldout: Processed 13643 (100.0%) in 3.87 min. Users per second: 59\n"
     ]
    },
    {
     "name": "stderr",
     "output_type": "stream",
     "text": [
      "\u001b[32m[I 2022-01-05 04:06:34,575]\u001b[0m Trial 234 finished with value: -0.24934152521963285 and parameters: {'alpha': 0.9838527793533111, 'beta': 0.032078768481917, 'gamma': 0.1683202085103338}. Best is trial 173 with value: -0.25019763609223405.\u001b[0m\n"
     ]
    },
    {
     "name": "stdout",
     "output_type": "stream",
     "text": [
      "-0.24934152521963285\n",
      "CURRENT CONFIGURATION:\n",
      "SLIMElasticNetRecommender with weight alpha: 0.8350306617612377\n",
      "SLIM_BPR_Recommender with weight beta: 0.04854818158171401\n",
      "RP3betaRecommender with weight gamma: 0.1164211566570483\n",
      "EvaluatorHoldout: Processed 13643 (100.0%) in 3.86 min. Users per second: 59\n"
     ]
    },
    {
     "name": "stderr",
     "output_type": "stream",
     "text": [
      "\u001b[32m[I 2022-01-05 04:10:26,281]\u001b[0m Trial 235 finished with value: -0.2475355726350736 and parameters: {'alpha': 0.9588879181189379, 'beta': 0.05574916814091878, 'gamma': 0.1336895106299651}. Best is trial 173 with value: -0.25019763609223405.\u001b[0m\n"
     ]
    },
    {
     "name": "stdout",
     "output_type": "stream",
     "text": [
      "-0.2475355726350736\n",
      "CURRENT CONFIGURATION:\n",
      "SLIMElasticNetRecommender with weight alpha: 0.8089223762554305\n",
      "SLIM_BPR_Recommender with weight beta: 0.01667622321400318\n",
      "RP3betaRecommender with weight gamma: 0.17440140053056624\n",
      "EvaluatorHoldout: Processed 13643 (100.0%) in 3.85 min. Users per second: 59\n"
     ]
    },
    {
     "name": "stderr",
     "output_type": "stream",
     "text": [
      "\u001b[32m[I 2022-01-05 04:14:17,437]\u001b[0m Trial 236 finished with value: -0.2499641161407267 and parameters: {'alpha': 0.926552353991891, 'beta': 0.019101207146913976, 'gamma': 0.19976209454002475}. Best is trial 173 with value: -0.25019763609223405.\u001b[0m\n"
     ]
    },
    {
     "name": "stdout",
     "output_type": "stream",
     "text": [
      "-0.2499641161407267\n",
      "CURRENT CONFIGURATION:\n",
      "SLIMElasticNetRecommender with weight alpha: 0.8037783743978018\n",
      "SLIM_BPR_Recommender with weight beta: 0.031129745735464193\n",
      "RP3betaRecommender with weight gamma: 0.165091879866734\n",
      "EvaluatorHoldout: Processed 13643 (100.0%) in 3.86 min. Users per second: 59\n"
     ]
    },
    {
     "name": "stderr",
     "output_type": "stream",
     "text": [
      "\u001b[32m[I 2022-01-05 04:18:09,409]\u001b[0m Trial 237 finished with value: -0.2489885126275593 and parameters: {'alpha': 0.9370106286765749, 'beta': 0.03628973302993234, 'gamma': 0.19245708900693342}. Best is trial 173 with value: -0.25019763609223405.\u001b[0m\n"
     ]
    },
    {
     "name": "stdout",
     "output_type": "stream",
     "text": [
      "-0.2489885126275593\n",
      "CURRENT CONFIGURATION:\n",
      "SLIMElasticNetRecommender with weight alpha: 0.8765525173751385\n",
      "SLIM_BPR_Recommender with weight beta: 0.01672947249456272\n",
      "RP3betaRecommender with weight gamma: 0.10671801013029879\n",
      "EvaluatorHoldout: Processed 13643 (100.0%) in 3.87 min. Users per second: 59\n"
     ]
    },
    {
     "name": "stderr",
     "output_type": "stream",
     "text": [
      "\u001b[32m[I 2022-01-05 04:22:01,760]\u001b[0m Trial 238 finished with value: -0.25004628514651955 and parameters: {'alpha': 0.9824116684277454, 'beta': 0.01874985087546745, 'gamma': 0.11960608897381904}. Best is trial 173 with value: -0.25019763609223405.\u001b[0m\n"
     ]
    },
    {
     "name": "stdout",
     "output_type": "stream",
     "text": [
      "-0.25004628514651955\n",
      "CURRENT CONFIGURATION:\n",
      "SLIMElasticNetRecommender with weight alpha: 0.8686576383357184\n",
      "SLIM_BPR_Recommender with weight beta: 0.059993357788797566\n",
      "RP3betaRecommender with weight gamma: 0.07134900387548403\n",
      "EvaluatorHoldout: Processed 13643 (100.0%) in 3.86 min. Users per second: 59\n"
     ]
    },
    {
     "name": "stderr",
     "output_type": "stream",
     "text": [
      "\u001b[32m[I 2022-01-05 04:25:53,638]\u001b[0m Trial 239 finished with value: -0.24682632468071847 and parameters: {'alpha': 0.9839987029204179, 'beta': 0.06795932441360995, 'gamma': 0.08082278238254144}. Best is trial 173 with value: -0.25019763609223405.\u001b[0m\n"
     ]
    },
    {
     "name": "stdout",
     "output_type": "stream",
     "text": [
      "-0.24682632468071847\n",
      "CURRENT CONFIGURATION:\n",
      "SLIMElasticNetRecommender with weight alpha: 0.862814321843767\n",
      "SLIM_BPR_Recommender with weight beta: 0.03791422178960151\n",
      "RP3betaRecommender with weight gamma: 0.09927145636663144\n",
      "EvaluatorHoldout: Processed 13643 (100.0%) in 3.85 min. Users per second: 59\n"
     ]
    },
    {
     "name": "stderr",
     "output_type": "stream",
     "text": [
      "\u001b[32m[I 2022-01-05 04:29:44,505]\u001b[0m Trial 240 finished with value: -0.24857612892942443 and parameters: {'alpha': 0.9957688883697215, 'beta': 0.04375657836109817, 'gamma': 0.11456859865492972}. Best is trial 173 with value: -0.25019763609223405.\u001b[0m\n"
     ]
    },
    {
     "name": "stdout",
     "output_type": "stream",
     "text": [
      "-0.24857612892942443\n",
      "CURRENT CONFIGURATION:\n",
      "SLIMElasticNetRecommender with weight alpha: 0.8524889463073677\n",
      "SLIM_BPR_Recommender with weight beta: 0.01662753974582083\n",
      "RP3betaRecommender with weight gamma: 0.13088351394681147\n",
      "EvaluatorHoldout: Processed 13643 (100.0%) in 3.87 min. Users per second: 59\n"
     ]
    },
    {
     "name": "stderr",
     "output_type": "stream",
     "text": [
      "\u001b[32m[I 2022-01-05 04:33:36,679]\u001b[0m Trial 241 finished with value: -0.24992498624214513 and parameters: {'alpha': 0.9596167479950618, 'beta': 0.018717035202812128, 'gamma': 0.14733095668142632}. Best is trial 173 with value: -0.25019763609223405.\u001b[0m\n"
     ]
    },
    {
     "name": "stdout",
     "output_type": "stream",
     "text": [
      "-0.24992498624214513\n",
      "CURRENT CONFIGURATION:\n",
      "SLIMElasticNetRecommender with weight alpha: 0.85124563206847\n",
      "SLIM_BPR_Recommender with weight beta: 0.014878349704066747\n",
      "RP3betaRecommender with weight gamma: 0.13387601822746317\n",
      "EvaluatorHoldout: Processed 13643 (100.0%) in 3.85 min. Users per second: 59\n"
     ]
    },
    {
     "name": "stderr",
     "output_type": "stream",
     "text": [
      "\u001b[32m[I 2022-01-05 04:37:27,497]\u001b[0m Trial 242 finished with value: -0.24999352246456935 and parameters: {'alpha': 0.9583143436620111, 'beta': 0.016749731680596448, 'gamma': 0.15071479218987094}. Best is trial 173 with value: -0.25019763609223405.\u001b[0m\n"
     ]
    },
    {
     "name": "stdout",
     "output_type": "stream",
     "text": [
      "-0.24999352246456935\n",
      "CURRENT CONFIGURATION:\n",
      "SLIMElasticNetRecommender with weight alpha: 0.8532459141544501\n",
      "SLIM_BPR_Recommender with weight beta: 0.020739167165011195\n",
      "RP3betaRecommender with weight gamma: 0.12601491868053874\n",
      "EvaluatorHoldout: Processed 13643 (100.0%) in 3.83 min. Users per second: 59\n"
     ]
    },
    {
     "name": "stderr",
     "output_type": "stream",
     "text": [
      "\u001b[32m[I 2022-01-05 04:41:17,397]\u001b[0m Trial 243 finished with value: -0.2496305419722193 and parameters: {'alpha': 0.951873688434756, 'beta': 0.023136433725542298, 'gamma': 0.140581142496438}. Best is trial 173 with value: -0.25019763609223405.\u001b[0m\n"
     ]
    },
    {
     "name": "stdout",
     "output_type": "stream",
     "text": [
      "-0.2496305419722193\n",
      "CURRENT CONFIGURATION:\n",
      "SLIMElasticNetRecommender with weight alpha: 0.8875893364049078\n",
      "SLIM_BPR_Recommender with weight beta: 0.0015138586796053077\n",
      "RP3betaRecommender with weight gamma: 0.11089680491548688\n",
      "EvaluatorHoldout: Processed 13643 (100.0%) in 3.81 min. Users per second: 60\n"
     ]
    },
    {
     "name": "stderr",
     "output_type": "stream",
     "text": [
      "\u001b[32m[I 2022-01-05 04:45:06,291]\u001b[0m Trial 244 finished with value: -0.24905295930583501 and parameters: {'alpha': 0.9616899274754445, 'beta': 0.001640243504608254, 'gamma': 0.12015504907754028}. Best is trial 173 with value: -0.25019763609223405.\u001b[0m\n"
     ]
    },
    {
     "name": "stdout",
     "output_type": "stream",
     "text": [
      "-0.24905295930583501\n",
      "CURRENT CONFIGURATION:\n",
      "SLIMElasticNetRecommender with weight alpha: 0.8312640396147882\n",
      "SLIM_BPR_Recommender with weight beta: 0.030156229072886977\n",
      "RP3betaRecommender with weight gamma: 0.1385797313123248\n",
      "EvaluatorHoldout: Processed 13643 (100.0%) in 3.84 min. Users per second: 59\n"
     ]
    },
    {
     "name": "stderr",
     "output_type": "stream",
     "text": [
      "\u001b[32m[I 2022-01-05 04:48:57,071]\u001b[0m Trial 245 finished with value: -0.2491458931785484 and parameters: {'alpha': 0.9389715405498147, 'beta': 0.034063594141355485, 'gamma': 0.1565356103454353}. Best is trial 173 with value: -0.25019763609223405.\u001b[0m\n"
     ]
    },
    {
     "name": "stdout",
     "output_type": "stream",
     "text": [
      "-0.2491458931785484\n",
      "CURRENT CONFIGURATION:\n",
      "SLIMElasticNetRecommender with weight alpha: 0.9528585830164926\n",
      "SLIM_BPR_Recommender with weight beta: 0.01724214005645807\n",
      "RP3betaRecommender with weight gamma: 0.029899276927049266\n",
      "EvaluatorHoldout: Processed 13643 (100.0%) in 3.84 min. Users per second: 59\n"
     ]
    },
    {
     "name": "stderr",
     "output_type": "stream",
     "text": [
      "\u001b[32m[I 2022-01-05 04:52:47,577]\u001b[0m Trial 246 finished with value: -0.25017585039830864 and parameters: {'alpha': 0.9703358529666186, 'beta': 0.017558394264223738, 'gamma': 0.03044768751334355}. Best is trial 173 with value: -0.25019763609223405.\u001b[0m\n"
     ]
    },
    {
     "name": "stdout",
     "output_type": "stream",
     "text": [
      "-0.25017585039830864\n",
      "CURRENT CONFIGURATION:\n",
      "SLIMElasticNetRecommender with weight alpha: 0.9405359066533923\n",
      "SLIM_BPR_Recommender with weight beta: 0.00017889857421741115\n",
      "RP3betaRecommender with weight gamma: 0.05928519477239028\n",
      "EvaluatorHoldout: Processed 13643 (100.0%) in 3.85 min. Users per second: 59\n"
     ]
    },
    {
     "name": "stderr",
     "output_type": "stream",
     "text": [
      "\u001b[32m[I 2022-01-05 04:56:38,509]\u001b[0m Trial 247 finished with value: -0.24897523469794905 and parameters: {'alpha': 0.9737600601895628, 'beta': 0.00018521811359401008, 'gamma': 0.06137942679437469}. Best is trial 173 with value: -0.25019763609223405.\u001b[0m\n"
     ]
    },
    {
     "name": "stdout",
     "output_type": "stream",
     "text": [
      "-0.24897523469794905\n",
      "CURRENT CONFIGURATION:\n",
      "SLIMElasticNetRecommender with weight alpha: 0.9211157252196545\n",
      "SLIM_BPR_Recommender with weight beta: 0.044061441083301435\n",
      "RP3betaRecommender with weight gamma: 0.034822833697044066\n",
      "EvaluatorHoldout: Processed 13643 (100.0%) in 3.85 min. Users per second: 59\n"
     ]
    },
    {
     "name": "stderr",
     "output_type": "stream",
     "text": [
      "\u001b[32m[I 2022-01-05 05:00:29,506]\u001b[0m Trial 248 finished with value: -0.24831492165876176 and parameters: {'alpha': 0.9238161778916629, 'beta': 0.04419061685682063, 'gamma': 0.03492492446775766}. Best is trial 173 with value: -0.25019763609223405.\u001b[0m\n"
     ]
    },
    {
     "name": "stdout",
     "output_type": "stream",
     "text": [
      "-0.24831492165876176\n",
      "CURRENT CONFIGURATION:\n",
      "SLIMElasticNetRecommender with weight alpha: 0.8858643412881989\n",
      "SLIM_BPR_Recommender with weight beta: 0.024606581782653982\n",
      "RP3betaRecommender with weight gamma: 0.08952907692914697\n",
      "EvaluatorHoldout: Processed 13643 (100.0%) in 3.87 min. Users per second: 59\n"
     ]
    },
    {
     "name": "stderr",
     "output_type": "stream",
     "text": [
      "\u001b[32m[I 2022-01-05 05:04:21,534]\u001b[0m Trial 249 finished with value: -0.2496316967012568 and parameters: {'alpha': 0.9690414820389402, 'beta': 0.02691698645855975, 'gamma': 0.09793529928842007}. Best is trial 173 with value: -0.25019763609223405.\u001b[0m\n"
     ]
    },
    {
     "name": "stdout",
     "output_type": "stream",
     "text": [
      "-0.2496316967012568\n",
      "CURRENT CONFIGURATION:\n",
      "SLIMElasticNetRecommender with weight alpha: 0.4351052761152481\n",
      "SLIM_BPR_Recommender with weight beta: 0.48061707037865226\n",
      "RP3betaRecommender with weight gamma: 0.08427765350609968\n",
      "EvaluatorHoldout: Processed 13643 (100.0%) in 3.83 min. Users per second: 59\n"
     ]
    },
    {
     "name": "stderr",
     "output_type": "stream",
     "text": [
      "\u001b[32m[I 2022-01-05 05:08:11,738]\u001b[0m Trial 250 pruned. \u001b[0m\n"
     ]
    },
    {
     "name": "stdout",
     "output_type": "stream",
     "text": [
      "-0.23214842718342704\n",
      "CURRENT CONFIGURATION:\n",
      "SLIMElasticNetRecommender with weight alpha: 0.9196147683399647\n",
      "SLIM_BPR_Recommender with weight beta: 0.0492606189441201\n",
      "RP3betaRecommender with weight gamma: 0.031124612715915195\n",
      "EvaluatorHoldout: Processed 13643 (100.0%) in 3.82 min. Users per second: 59\n"
     ]
    },
    {
     "name": "stderr",
     "output_type": "stream",
     "text": [
      "\u001b[32m[I 2022-01-05 05:12:01,181]\u001b[0m Trial 251 finished with value: -0.24789606624247176 and parameters: {'alpha': 0.9816472930935538, 'beta': 0.0525834892037445, 'gamma': 0.033224120439384164}. Best is trial 173 with value: -0.25019763609223405.\u001b[0m\n"
     ]
    },
    {
     "name": "stdout",
     "output_type": "stream",
     "text": [
      "-0.24789606624247176\n",
      "CURRENT CONFIGURATION:\n",
      "SLIMElasticNetRecommender with weight alpha: 0.975084198480368\n",
      "SLIM_BPR_Recommender with weight beta: 0.018753940450081552\n",
      "RP3betaRecommender with weight gamma: 0.006161861069550419\n",
      "EvaluatorHoldout: Processed 13643 (100.0%) in 3.83 min. Users per second: 59\n"
     ]
    },
    {
     "name": "stderr",
     "output_type": "stream",
     "text": [
      "\u001b[32m[I 2022-01-05 05:15:50,971]\u001b[0m Trial 252 finished with value: -0.2501453009799776 and parameters: {'alpha': 0.9448216833360422, 'beta': 0.018171896963200245, 'gamma': 0.005970622800870531}. Best is trial 173 with value: -0.25019763609223405.\u001b[0m\n"
     ]
    },
    {
     "name": "stdout",
     "output_type": "stream",
     "text": [
      "-0.2501453009799776\n",
      "CURRENT CONFIGURATION:\n",
      "SLIMElasticNetRecommender with weight alpha: 0.9573392306169565\n",
      "SLIM_BPR_Recommender with weight beta: 0.033569517357530075\n",
      "RP3betaRecommender with weight gamma: 0.009091252025513462\n",
      "EvaluatorHoldout: Processed 13643 (100.0%) in 3.84 min. Users per second: 59\n"
     ]
    },
    {
     "name": "stderr",
     "output_type": "stream",
     "text": [
      "\u001b[32m[I 2022-01-05 05:19:41,350]\u001b[0m Trial 253 finished with value: -0.24929911728673057 and parameters: {'alpha': 0.9386959186376368, 'beta': 0.03291578149768414, 'gamma': 0.008914208149765216}. Best is trial 173 with value: -0.25019763609223405.\u001b[0m\n"
     ]
    },
    {
     "name": "stdout",
     "output_type": "stream",
     "text": [
      "-0.24929911728673057\n",
      "CURRENT CONFIGURATION:\n",
      "SLIMElasticNetRecommender with weight alpha: 0.9062250047731364\n",
      "SLIM_BPR_Recommender with weight beta: 0.06925967361358332\n",
      "RP3betaRecommender with weight gamma: 0.02451532161328032\n",
      "EvaluatorHoldout: Processed 13643 (100.0%) in 3.81 min. Users per second: 60\n"
     ]
    },
    {
     "name": "stderr",
     "output_type": "stream",
     "text": [
      "\u001b[32m[I 2022-01-05 05:23:30,336]\u001b[0m Trial 254 finished with value: -0.24646821906460448 and parameters: {'alpha': 0.9304373903919008, 'beta': 0.07111014332753879, 'gamma': 0.02517031834956809}. Best is trial 173 with value: -0.25019763609223405.\u001b[0m\n"
     ]
    },
    {
     "name": "stdout",
     "output_type": "stream",
     "text": [
      "-0.24646821906460448\n",
      "CURRENT CONFIGURATION:\n",
      "SLIMElasticNetRecommender with weight alpha: 0.9185112734334765\n",
      "SLIM_BPR_Recommender with weight beta: 0.00045786006298207456\n",
      "RP3betaRecommender with weight gamma: 0.08103086650354145\n",
      "EvaluatorHoldout: Processed 13643 (100.0%) in 3.84 min. Users per second: 59\n"
     ]
    },
    {
     "name": "stderr",
     "output_type": "stream",
     "text": [
      "\u001b[32m[I 2022-01-05 05:27:20,566]\u001b[0m Trial 255 finished with value: -0.24908394211113563 and parameters: {'alpha': 0.9511587678165067, 'beta': 0.00047413420600760786, 'gamma': 0.08391102141893786}. Best is trial 173 with value: -0.25019763609223405.\u001b[0m\n"
     ]
    },
    {
     "name": "stdout",
     "output_type": "stream",
     "text": [
      "-0.24908394211113563\n",
      "CURRENT CONFIGURATION:\n",
      "SLIMElasticNetRecommender with weight alpha: 0.9025137142512859\n",
      "SLIM_BPR_Recommender with weight beta: 0.05083039490947132\n",
      "RP3betaRecommender with weight gamma: 0.04665589083924293\n",
      "EvaluatorHoldout: Processed 13643 (100.0%) in 3.85 min. Users per second: 59\n"
     ]
    },
    {
     "name": "stderr",
     "output_type": "stream",
     "text": [
      "\u001b[32m[I 2022-01-05 05:31:11,828]\u001b[0m Trial 256 finished with value: -0.24761769510266915 and parameters: {'alpha': 0.9053685523021573, 'beta': 0.05099118199030672, 'gamma': 0.04680347309795207}. Best is trial 173 with value: -0.25019763609223405.\u001b[0m\n"
     ]
    },
    {
     "name": "stdout",
     "output_type": "stream",
     "text": [
      "-0.24761769510266915\n",
      "CURRENT CONFIGURATION:\n",
      "SLIMElasticNetRecommender with weight alpha: 0.9744066767538547\n",
      "SLIM_BPR_Recommender with weight beta: 0.02134715954949798\n",
      "RP3betaRecommender with weight gamma: 0.004246163696647316\n",
      "EvaluatorHoldout: Processed 13643 (100.0%) in 3.82 min. Users per second: 59\n"
     ]
    },
    {
     "name": "stderr",
     "output_type": "stream",
     "text": [
      "\u001b[32m[I 2022-01-05 05:35:01,402]\u001b[0m Trial 257 finished with value: -0.24999810356843255 and parameters: {'alpha': 0.9553634637878922, 'beta': 0.020929963613532363, 'gamma': 0.004163179249298317}. Best is trial 173 with value: -0.25019763609223405.\u001b[0m\n"
     ]
    },
    {
     "name": "stdout",
     "output_type": "stream",
     "text": [
      "-0.24999810356843255\n",
      "CURRENT CONFIGURATION:\n",
      "SLIMElasticNetRecommender with weight alpha: 0.9430007893630017\n",
      "SLIM_BPR_Recommender with weight beta: 0.030126850619623897\n",
      "RP3betaRecommender with weight gamma: 0.026872360017374395\n",
      "EvaluatorHoldout: Processed 13643 (100.0%) in 3.83 min. Users per second: 59\n"
     ]
    },
    {
     "name": "stderr",
     "output_type": "stream",
     "text": [
      "\u001b[32m[I 2022-01-05 05:38:51,045]\u001b[0m Trial 258 finished with value: -0.24936875588272026 and parameters: {'alpha': 0.9214273604148773, 'beta': 0.029437625882376063, 'gamma': 0.026257589641736793}. Best is trial 173 with value: -0.25019763609223405.\u001b[0m\n"
     ]
    },
    {
     "name": "stdout",
     "output_type": "stream",
     "text": [
      "-0.24936875588272026\n",
      "CURRENT CONFIGURATION:\n",
      "SLIMElasticNetRecommender with weight alpha: 0.9475804670166188\n",
      "SLIM_BPR_Recommender with weight beta: 0.04790202507514794\n",
      "RP3betaRecommender with weight gamma: 0.0045175079082333276\n",
      "EvaluatorHoldout: Processed 13643 (100.0%) in 3.81 min. Users per second: 60\n"
     ]
    },
    {
     "name": "stderr",
     "output_type": "stream",
     "text": [
      "\u001b[32m[I 2022-01-05 05:42:39,585]\u001b[0m Trial 259 finished with value: -0.2482113828941881 and parameters: {'alpha': 0.9989473198523625, 'beta': 0.05049871882118531, 'gamma': 0.0047623949357563}. Best is trial 173 with value: -0.25019763609223405.\u001b[0m\n"
     ]
    },
    {
     "name": "stdout",
     "output_type": "stream",
     "text": [
      "-0.2482113828941881\n",
      "CURRENT CONFIGURATION:\n",
      "SLIMElasticNetRecommender with weight alpha: 0.8342304445645378\n",
      "SLIM_BPR_Recommender with weight beta: 0.016774722201653772\n",
      "RP3betaRecommender with weight gamma: 0.14899483323380852\n",
      "EvaluatorHoldout: Processed 13643 (100.0%) in 3.81 min. Users per second: 60\n"
     ]
    },
    {
     "name": "stderr",
     "output_type": "stream",
     "text": [
      "\u001b[32m[I 2022-01-05 05:46:28,459]\u001b[0m Trial 260 finished with value: -0.24985308763491718 and parameters: {'alpha': 0.9480891095222866, 'beta': 0.019064194478003487, 'gamma': 0.169330164925592}. Best is trial 173 with value: -0.25019763609223405.\u001b[0m\n"
     ]
    },
    {
     "name": "stdout",
     "output_type": "stream",
     "text": [
      "-0.24985308763491718\n",
      "CURRENT CONFIGURATION:\n",
      "SLIMElasticNetRecommender with weight alpha: 0.883566511530768\n",
      "SLIM_BPR_Recommender with weight beta: 0.06749217100915195\n",
      "RP3betaRecommender with weight gamma: 0.048941317460079965\n",
      "EvaluatorHoldout: Processed 13643 (100.0%) in 3.79 min. Users per second: 60\n"
     ]
    },
    {
     "name": "stderr",
     "output_type": "stream",
     "text": [
      "\u001b[32m[I 2022-01-05 05:50:16,163]\u001b[0m Trial 261 finished with value: -0.24642350458226592 and parameters: {'alpha': 0.9814266270859889, 'beta': 0.07496732038142231, 'gamma': 0.054361852212772885}. Best is trial 173 with value: -0.25019763609223405.\u001b[0m\n"
     ]
    },
    {
     "name": "stdout",
     "output_type": "stream",
     "text": [
      "-0.24642350458226592\n",
      "CURRENT CONFIGURATION:\n",
      "SLIMElasticNetRecommender with weight alpha: 0.9968020218709597\n",
      "SLIM_BPR_Recommender with weight beta: 4.45071760909302e-05\n",
      "RP3betaRecommender with weight gamma: 0.00315347095294942\n",
      "EvaluatorHoldout: Processed 13643 (100.0%) in 3.81 min. Users per second: 60\n"
     ]
    },
    {
     "name": "stderr",
     "output_type": "stream",
     "text": [
      "\u001b[32m[I 2022-01-05 05:54:04,782]\u001b[0m Trial 262 finished with value: -0.24896158155411843 and parameters: {'alpha': 0.9542385910288316, 'beta': 4.260672036355412e-05, 'gamma': 0.0030188177922680325}. Best is trial 173 with value: -0.25019763609223405.\u001b[0m\n"
     ]
    },
    {
     "name": "stdout",
     "output_type": "stream",
     "text": [
      "-0.24896158155411843\n",
      "CURRENT CONFIGURATION:\n",
      "SLIMElasticNetRecommender with weight alpha: 0.7991249888050099\n",
      "SLIM_BPR_Recommender with weight beta: 0.030059492706809025\n",
      "RP3betaRecommender with weight gamma: 0.17081551848818105\n",
      "EvaluatorHoldout: Processed 13643 (100.0%) in 3.82 min. Users per second: 60\n"
     ]
    },
    {
     "name": "stderr",
     "output_type": "stream",
     "text": [
      "\u001b[32m[I 2022-01-05 05:57:53,917]\u001b[0m Trial 263 finished with value: -0.24911462532678638 and parameters: {'alpha': 0.9285133454636951, 'beta': 0.03492650151996575, 'gamma': 0.19847269294600528}. Best is trial 173 with value: -0.25019763609223405.\u001b[0m\n"
     ]
    },
    {
     "name": "stdout",
     "output_type": "stream",
     "text": [
      "-0.24911462532678638\n",
      "CURRENT CONFIGURATION:\n",
      "SLIMElasticNetRecommender with weight alpha: 0.8493314858374564\n",
      "SLIM_BPR_Recommender with weight beta: 0.016244430760391577\n",
      "RP3betaRecommender with weight gamma: 0.13442408340215187\n",
      "EvaluatorHoldout: Processed 13643 (100.0%) in 3.79 min. Users per second: 60\n"
     ]
    },
    {
     "name": "stderr",
     "output_type": "stream",
     "text": [
      "\u001b[32m[I 2022-01-05 06:01:41,389]\u001b[0m Trial 264 finished with value: -0.2500232807335353 and parameters: {'alpha': 0.9715823470272621, 'beta': 0.01858261753800516, 'gamma': 0.15377278321440435}. Best is trial 173 with value: -0.25019763609223405.\u001b[0m\n"
     ]
    },
    {
     "name": "stdout",
     "output_type": "stream",
     "text": [
      "-0.2500232807335353\n",
      "CURRENT CONFIGURATION:\n",
      "SLIMElasticNetRecommender with weight alpha: 0.8347865241499325\n",
      "SLIM_BPR_Recommender with weight beta: 0.045123522003281895\n",
      "RP3betaRecommender with weight gamma: 0.12008995384678563\n",
      "EvaluatorHoldout: Processed 13643 (100.0%) in 3.83 min. Users per second: 59\n"
     ]
    },
    {
     "name": "stderr",
     "output_type": "stream",
     "text": [
      "\u001b[32m[I 2022-01-05 06:05:31,549]\u001b[0m Trial 265 finished with value: -0.2478205202039774 and parameters: {'alpha': 0.9812246592100065, 'beta': 0.05303908390844271, 'gamma': 0.14115611671840278}. Best is trial 173 with value: -0.25019763609223405.\u001b[0m\n"
     ]
    },
    {
     "name": "stdout",
     "output_type": "stream",
     "text": [
      "-0.2478205202039774\n",
      "CURRENT CONFIGURATION:\n",
      "SLIMElasticNetRecommender with weight alpha: 0.8820703673968737\n",
      "SLIM_BPR_Recommender with weight beta: 0.015516760064859627\n",
      "RP3betaRecommender with weight gamma: 0.10241287253826664\n",
      "EvaluatorHoldout: Processed 13643 (100.0%) in 3.82 min. Users per second: 59\n"
     ]
    },
    {
     "name": "stderr",
     "output_type": "stream",
     "text": [
      "\u001b[32m[I 2022-01-05 06:09:20,980]\u001b[0m Trial 266 finished with value: -0.2500654996050068 and parameters: {'alpha': 0.94431159800544, 'beta': 0.016611663915155485, 'gamma': 0.10963939714735368}. Best is trial 173 with value: -0.25019763609223405.\u001b[0m\n"
     ]
    },
    {
     "name": "stdout",
     "output_type": "stream",
     "text": [
      "-0.2500654996050068\n",
      "CURRENT CONFIGURATION:\n",
      "SLIMElasticNetRecommender with weight alpha: 0.8533132976103555\n",
      "SLIM_BPR_Recommender with weight beta: 0.03584453240308323\n",
      "RP3betaRecommender with weight gamma: 0.11084216998656134\n",
      "EvaluatorHoldout: Processed 13643 (100.0%) in 3.80 min. Users per second: 60\n"
     ]
    },
    {
     "name": "stderr",
     "output_type": "stream",
     "text": [
      "\u001b[32m[I 2022-01-05 06:13:09,241]\u001b[0m Trial 267 finished with value: -0.24876946023834717 and parameters: {'alpha': 0.9049538004817788, 'beta': 0.03801375873961159, 'gamma': 0.11755007599657585}. Best is trial 173 with value: -0.25019763609223405.\u001b[0m\n"
     ]
    },
    {
     "name": "stdout",
     "output_type": "stream",
     "text": [
      "-0.24876946023834717\n",
      "CURRENT CONFIGURATION:\n",
      "SLIMElasticNetRecommender with weight alpha: 0.8790415490679051\n",
      "SLIM_BPR_Recommender with weight beta: 0.017825432990449083\n",
      "RP3betaRecommender with weight gamma: 0.10313301794164577\n",
      "EvaluatorHoldout: Processed 13643 (100.0%) in 3.89 min. Users per second: 58\n"
     ]
    },
    {
     "name": "stderr",
     "output_type": "stream",
     "text": [
      "\u001b[32m[I 2022-01-05 06:17:02,950]\u001b[0m Trial 268 finished with value: -0.24995511099941975 and parameters: {'alpha': 0.9394376605628111, 'beta': 0.019050161035986522, 'gamma': 0.11021895518433303}. Best is trial 173 with value: -0.25019763609223405.\u001b[0m\n"
     ]
    },
    {
     "name": "stdout",
     "output_type": "stream",
     "text": [
      "-0.24995511099941975\n",
      "CURRENT CONFIGURATION:\n",
      "SLIMElasticNetRecommender with weight alpha: 0.917917311655173\n",
      "SLIM_BPR_Recommender with weight beta: 0.05571593280765711\n",
      "RP3betaRecommender with weight gamma: 0.02636675553716981\n",
      "EvaluatorHoldout: Processed 13643 (100.0%) in 3.93 min. Users per second: 58\n"
     ]
    },
    {
     "name": "stderr",
     "output_type": "stream",
     "text": [
      "\u001b[32m[I 2022-01-05 06:20:58,999]\u001b[0m Trial 269 finished with value: -0.24735891072693778 and parameters: {'alpha': 0.9994339094383757, 'beta': 0.060663843939878906, 'gamma': 0.028708282577438692}. Best is trial 173 with value: -0.25019763609223405.\u001b[0m\n"
     ]
    },
    {
     "name": "stdout",
     "output_type": "stream",
     "text": [
      "-0.24735891072693778\n",
      "CURRENT CONFIGURATION:\n",
      "SLIMElasticNetRecommender with weight alpha: 0.9187259197941859\n",
      "SLIM_BPR_Recommender with weight beta: 0.08107534095984985\n",
      "RP3betaRecommender with weight gamma: 0.00019873924596424482\n",
      "EvaluatorHoldout: Processed 13643 (100.0%) in 3.87 min. Users per second: 59\n"
     ]
    },
    {
     "name": "stderr",
     "output_type": "stream",
     "text": [
      "\u001b[32m[I 2022-01-05 06:24:51,273]\u001b[0m Trial 270 finished with value: -0.24545928838441503 and parameters: {'alpha': 0.9481791836366882, 'beta': 0.08367452027651291, 'gamma': 0.0002051105905852349}. Best is trial 173 with value: -0.25019763609223405.\u001b[0m\n"
     ]
    },
    {
     "name": "stdout",
     "output_type": "stream",
     "text": [
      "-0.24545928838441503\n",
      "CURRENT CONFIGURATION:\n",
      "SLIMElasticNetRecommender with weight alpha: 0.5831749134924892\n",
      "SLIM_BPR_Recommender with weight beta: 0.31849070162725074\n",
      "RP3betaRecommender with weight gamma: 0.09833438488026004\n",
      "EvaluatorHoldout: Processed 13643 (100.0%) in 3.87 min. Users per second: 59\n"
     ]
    },
    {
     "name": "stderr",
     "output_type": "stream",
     "text": [
      "\u001b[32m[I 2022-01-05 06:28:43,406]\u001b[0m Trial 271 pruned. \u001b[0m\n"
     ]
    },
    {
     "name": "stdout",
     "output_type": "stream",
     "text": [
      "-0.2347307997938367\n",
      "CURRENT CONFIGURATION:\n",
      "SLIMElasticNetRecommender with weight alpha: 0.8936784404370928\n",
      "SLIM_BPR_Recommender with weight beta: 0.03465928028509829\n",
      "RP3betaRecommender with weight gamma: 0.07166227927780897\n",
      "EvaluatorHoldout: Processed 13643 (100.0%) in 3.85 min. Users per second: 59\n"
     ]
    },
    {
     "name": "stderr",
     "output_type": "stream",
     "text": [
      "\u001b[32m[I 2022-01-05 06:32:34,333]\u001b[0m Trial 272 finished with value: -0.24904871560390976 and parameters: {'alpha': 0.9214747768813837, 'beta': 0.03573729780474482, 'gamma': 0.07389121167120592}. Best is trial 173 with value: -0.25019763609223405.\u001b[0m\n"
     ]
    },
    {
     "name": "stdout",
     "output_type": "stream",
     "text": [
      "-0.24904871560390976\n",
      "CURRENT CONFIGURATION:\n",
      "SLIMElasticNetRecommender with weight alpha: 0.9098356704338444\n",
      "SLIM_BPR_Recommender with weight beta: 0.0009061889162465531\n",
      "RP3betaRecommender with weight gamma: 0.08925814064990918\n",
      "EvaluatorHoldout: Processed 13643 (100.0%) in 3.87 min. Users per second: 59\n"
     ]
    },
    {
     "name": "stderr",
     "output_type": "stream",
     "text": [
      "\u001b[32m[I 2022-01-05 06:36:26,764]\u001b[0m Trial 273 finished with value: -0.24907550706275344 and parameters: {'alpha': 0.9820975061016073, 'beta': 0.0009781611159279877, 'gamma': 0.09634728575737482}. Best is trial 173 with value: -0.25019763609223405.\u001b[0m\n"
     ]
    },
    {
     "name": "stdout",
     "output_type": "stream",
     "text": [
      "-0.24907550706275344\n",
      "CURRENT CONFIGURATION:\n",
      "SLIMElasticNetRecommender with weight alpha: 0.8472734595082523\n",
      "SLIM_BPR_Recommender with weight beta: 0.020816526537694193\n",
      "RP3betaRecommender with weight gamma: 0.13191001395405347\n",
      "EvaluatorHoldout: Processed 13643 (100.0%) in 3.90 min. Users per second: 58\n"
     ]
    },
    {
     "name": "stderr",
     "output_type": "stream",
     "text": [
      "\u001b[32m[I 2022-01-05 06:40:20,849]\u001b[0m Trial 274 finished with value: -0.2497145986836675 and parameters: {'alpha': 0.8889430701259171, 'beta': 0.02184030055717244, 'gamma': 0.13839745771421363}. Best is trial 173 with value: -0.25019763609223405.\u001b[0m\n"
     ]
    },
    {
     "name": "stdout",
     "output_type": "stream",
     "text": [
      "-0.2497145986836675\n",
      "CURRENT CONFIGURATION:\n",
      "SLIMElasticNetRecommender with weight alpha: 0.8112093774786656\n",
      "SLIM_BPR_Recommender with weight beta: 0.03892780927391317\n",
      "RP3betaRecommender with weight gamma: 0.1498628132474212\n",
      "EvaluatorHoldout: Processed 13643 (100.0%) in 3.88 min. Users per second: 59\n"
     ]
    },
    {
     "name": "stderr",
     "output_type": "stream",
     "text": [
      "\u001b[32m[I 2022-01-05 06:44:13,819]\u001b[0m Trial 275 finished with value: -0.2483139588997913 and parameters: {'alpha': 0.95586858978399, 'beta': 0.04586962526208483, 'gamma': 0.1765871548540393}. Best is trial 173 with value: -0.25019763609223405.\u001b[0m\n"
     ]
    },
    {
     "name": "stdout",
     "output_type": "stream",
     "text": [
      "-0.2483139588997913\n",
      "CURRENT CONFIGURATION:\n",
      "SLIMElasticNetRecommender with weight alpha: 0.803928674344598\n",
      "SLIM_BPR_Recommender with weight beta: 0.015118406941248068\n",
      "RP3betaRecommender with weight gamma: 0.18095291871415384\n",
      "EvaluatorHoldout: Processed 13643 (100.0%) in 3.88 min. Users per second: 59\n"
     ]
    },
    {
     "name": "stderr",
     "output_type": "stream",
     "text": [
      "\u001b[32m[I 2022-01-05 06:48:06,712]\u001b[0m Trial 276 finished with value: -0.24995468633836232 and parameters: {'alpha': 0.9344133115115294, 'beta': 0.017572256277918426, 'gamma': 0.21032315602029658}. Best is trial 173 with value: -0.25019763609223405.\u001b[0m\n"
     ]
    },
    {
     "name": "stdout",
     "output_type": "stream",
     "text": [
      "-0.24995468633836232\n",
      "CURRENT CONFIGURATION:\n",
      "SLIMElasticNetRecommender with weight alpha: 0.8367505048699829\n",
      "SLIM_BPR_Recommender with weight beta: 0.05073172059448208\n",
      "RP3betaRecommender with weight gamma: 0.11251777453553491\n",
      "EvaluatorHoldout: Processed 13643 (100.0%) in 4.38 min. Users per second: 52\n"
     ]
    },
    {
     "name": "stderr",
     "output_type": "stream",
     "text": [
      "\u001b[32m[I 2022-01-05 06:52:29,918]\u001b[0m Trial 277 finished with value: -0.24739542576052065 and parameters: {'alpha': 0.9644175943052219, 'beta': 0.05847210565866042, 'gamma': 0.12968515800417618}. Best is trial 173 with value: -0.25019763609223405.\u001b[0m\n"
     ]
    },
    {
     "name": "stdout",
     "output_type": "stream",
     "text": [
      "-0.24739542576052065\n",
      "CURRENT CONFIGURATION:\n",
      "SLIMElasticNetRecommender with weight alpha: 0.9213424863061458\n",
      "SLIM_BPR_Recommender with weight beta: 0.03468225320344021\n",
      "RP3betaRecommender with weight gamma: 0.04397526049041407\n",
      "EvaluatorHoldout: Processed 13643 (100.0%) in 3.86 min. Users per second: 59\n"
     ]
    },
    {
     "name": "stderr",
     "output_type": "stream",
     "text": [
      "\u001b[32m[I 2022-01-05 06:56:21,763]\u001b[0m Trial 278 finished with value: -0.24916892376926936 and parameters: {'alpha': 0.9761631225099928, 'beta': 0.036745875812681024, 'gamma': 0.0465918246814128}. Best is trial 173 with value: -0.25019763609223405.\u001b[0m\n"
     ]
    },
    {
     "name": "stdout",
     "output_type": "stream",
     "text": [
      "-0.24916892376926936\n",
      "CURRENT CONFIGURATION:\n",
      "SLIMElasticNetRecommender with weight alpha: 0.8398805594738309\n",
      "SLIM_BPR_Recommender with weight beta: 0.017003294440379277\n",
      "RP3betaRecommender with weight gamma: 0.14311614608578985\n",
      "EvaluatorHoldout: Processed 13643 (100.0%) in 3.84 min. Users per second: 59\n"
     ]
    },
    {
     "name": "stderr",
     "output_type": "stream",
     "text": [
      "\u001b[32m[I 2022-01-05 07:00:12,505]\u001b[0m Trial 279 finished with value: -0.24987699954276216 and parameters: {'alpha': 0.9435680315537751, 'beta': 0.01910243651203099, 'gamma': 0.16078455290158294}. Best is trial 173 with value: -0.25019763609223405.\u001b[0m\n"
     ]
    },
    {
     "name": "stdout",
     "output_type": "stream",
     "text": [
      "-0.24987699954276216\n",
      "CURRENT CONFIGURATION:\n",
      "SLIMElasticNetRecommender with weight alpha: 0.914494498190226\n",
      "SLIM_BPR_Recommender with weight beta: 0.000407127795906356\n",
      "RP3betaRecommender with weight gamma: 0.08509837401386763\n",
      "EvaluatorHoldout: Processed 13643 (100.0%) in 3.85 min. Users per second: 59\n"
     ]
    },
    {
     "name": "stderr",
     "output_type": "stream",
     "text": [
      "\u001b[32m[I 2022-01-05 07:04:03,794]\u001b[0m Trial 280 finished with value: -0.24902915501757442 and parameters: {'alpha': 0.9994843903036827, 'beta': 0.0004449648168167574, 'gamma': 0.09300711664794825}. Best is trial 173 with value: -0.25019763609223405.\u001b[0m\n"
     ]
    },
    {
     "name": "stdout",
     "output_type": "stream",
     "text": [
      "-0.24902915501757442\n",
      "CURRENT CONFIGURATION:\n",
      "SLIMElasticNetRecommender with weight alpha: 0.7689711015148352\n",
      "SLIM_BPR_Recommender with weight beta: 0.07896641163741971\n",
      "RP3betaRecommender with weight gamma: 0.1520624868477452\n",
      "EvaluatorHoldout: Processed 13643 (100.0%) in 3.87 min. Users per second: 59\n"
     ]
    },
    {
     "name": "stderr",
     "output_type": "stream",
     "text": [
      "\u001b[32m[I 2022-01-05 07:07:56,193]\u001b[0m Trial 281 finished with value: -0.2446362778051195 and parameters: {'alpha': 0.909639954072567, 'beta': 0.09341183682148049, 'gamma': 0.17987946917622202}. Best is trial 173 with value: -0.25019763609223405.\u001b[0m\n"
     ]
    },
    {
     "name": "stdout",
     "output_type": "stream",
     "text": [
      "-0.2446362778051195\n",
      "CURRENT CONFIGURATION:\n",
      "SLIMElasticNetRecommender with weight alpha: 0.9086311695880964\n",
      "SLIM_BPR_Recommender with weight beta: 0.031244093393887278\n",
      "RP3betaRecommender with weight gamma: 0.060124737018016364\n",
      "EvaluatorHoldout: Processed 13643 (100.0%) in 3.85 min. Users per second: 59\n"
     ]
    },
    {
     "name": "stderr",
     "output_type": "stream",
     "text": [
      "\u001b[32m[I 2022-01-05 07:11:47,537]\u001b[0m Trial 282 finished with value: -0.24925891700959613 and parameters: {'alpha': 0.960147207938132, 'beta': 0.033015518332150454, 'gamma': 0.06353358800362591}. Best is trial 173 with value: -0.25019763609223405.\u001b[0m\n"
     ]
    },
    {
     "name": "stdout",
     "output_type": "stream",
     "text": [
      "-0.24925891700959613\n",
      "CURRENT CONFIGURATION:\n",
      "SLIMElasticNetRecommender with weight alpha: 0.8410267757336801\n",
      "SLIM_BPR_Recommender with weight beta: 0.05636241414166456\n",
      "RP3betaRecommender with weight gamma: 0.10261081012465531\n",
      "EvaluatorHoldout: Processed 13643 (100.0%) in 3.90 min. Users per second: 58\n"
     ]
    },
    {
     "name": "stderr",
     "output_type": "stream",
     "text": [
      "\u001b[32m[I 2022-01-05 07:15:41,715]\u001b[0m Trial 283 finished with value: -0.2469683039968161 and parameters: {'alpha': 0.9808085142837111, 'beta': 0.06573005434637251, 'gamma': 0.11966510357534721}. Best is trial 173 with value: -0.25019763609223405.\u001b[0m\n"
     ]
    },
    {
     "name": "stdout",
     "output_type": "stream",
     "text": [
      "-0.2469683039968161\n",
      "CURRENT CONFIGURATION:\n",
      "SLIMElasticNetRecommender with weight alpha: 0.8635643020353702\n",
      "SLIM_BPR_Recommender with weight beta: 0.00038581337945925974\n",
      "RP3betaRecommender with weight gamma: 0.13604988458517045\n",
      "EvaluatorHoldout: Processed 13643 (100.0%) in 3.86 min. Users per second: 59\n"
     ]
    },
    {
     "name": "stderr",
     "output_type": "stream",
     "text": [
      "\u001b[32m[I 2022-01-05 07:19:33,166]\u001b[0m Trial 284 finished with value: -0.24898969644296867 and parameters: {'alpha': 0.9275168130260647, 'beta': 0.0004143853506860355, 'gamma': 0.14612525675920396}. Best is trial 173 with value: -0.25019763609223405.\u001b[0m\n"
     ]
    },
    {
     "name": "stdout",
     "output_type": "stream",
     "text": [
      "-0.24898969644296867\n",
      "CURRENT CONFIGURATION:\n",
      "SLIMElasticNetRecommender with weight alpha: 0.8067944580879475\n",
      "SLIM_BPR_Recommender with weight beta: 0.017055367389935853\n",
      "RP3betaRecommender with weight gamma: 0.17615017452211665\n",
      "EvaluatorHoldout: Processed 13643 (100.0%) in 3.92 min. Users per second: 58\n"
     ]
    },
    {
     "name": "stderr",
     "output_type": "stream",
     "text": [
      "\u001b[32m[I 2022-01-05 07:23:28,566]\u001b[0m Trial 285 finished with value: -0.24983070857896794 and parameters: {'alpha': 0.9504463910541384, 'beta': 0.020092121631926134, 'gamma': 0.20751418899787738}. Best is trial 173 with value: -0.25019763609223405.\u001b[0m\n"
     ]
    },
    {
     "name": "stdout",
     "output_type": "stream",
     "text": [
      "-0.24983070857896794\n",
      "CURRENT CONFIGURATION:\n",
      "SLIMElasticNetRecommender with weight alpha: 0.8285140045128949\n",
      "SLIM_BPR_Recommender with weight beta: 0.03905437030142327\n",
      "RP3betaRecommender with weight gamma: 0.1324316251856819\n",
      "EvaluatorHoldout: Processed 13643 (100.0%) in 3.86 min. Users per second: 59\n"
     ]
    },
    {
     "name": "stderr",
     "output_type": "stream",
     "text": [
      "\u001b[32m[I 2022-01-05 07:27:20,452]\u001b[0m Trial 286 finished with value: -0.24843865509261787 and parameters: {'alpha': 0.9856754452995058, 'beta': 0.04646262299498409, 'gamma': 0.15755267915281526}. Best is trial 173 with value: -0.25019763609223405.\u001b[0m\n"
     ]
    },
    {
     "name": "stdout",
     "output_type": "stream",
     "text": [
      "-0.24843865509261787\n",
      "CURRENT CONFIGURATION:\n",
      "SLIMElasticNetRecommender with weight alpha: 0.825511878753886\n",
      "SLIM_BPR_Recommender with weight beta: 0.01620831607347625\n",
      "RP3betaRecommender with weight gamma: 0.1582798051726377\n",
      "EvaluatorHoldout: Processed 13643 (100.0%) in 3.86 min. Users per second: 59\n"
     ]
    },
    {
     "name": "stderr",
     "output_type": "stream",
     "text": [
      "\u001b[32m[I 2022-01-05 07:31:12,460]\u001b[0m Trial 287 finished with value: -0.24990899164522998 and parameters: {'alpha': 0.9681353088339535, 'beta': 0.01900862179131834, 'gamma': 0.18562575779563636}. Best is trial 173 with value: -0.25019763609223405.\u001b[0m\n"
     ]
    },
    {
     "name": "stdout",
     "output_type": "stream",
     "text": [
      "-0.24990899164522998\n",
      "CURRENT CONFIGURATION:\n",
      "SLIMElasticNetRecommender with weight alpha: 0.8745153176352801\n",
      "SLIM_BPR_Recommender with weight beta: 0.03272243888901918\n",
      "RP3betaRecommender with weight gamma: 0.09276224347570068\n",
      "EvaluatorHoldout: Processed 13643 (100.0%) in 3.85 min. Users per second: 59\n"
     ]
    },
    {
     "name": "stderr",
     "output_type": "stream",
     "text": [
      "\u001b[32m[I 2022-01-05 07:35:03,794]\u001b[0m Trial 288 finished with value: -0.24919775418291212 and parameters: {'alpha': 0.9992750702930213, 'beta': 0.03739067431020214, 'gamma': 0.10599585336065886}. Best is trial 173 with value: -0.25019763609223405.\u001b[0m\n"
     ]
    },
    {
     "name": "stdout",
     "output_type": "stream",
     "text": [
      "-0.24919775418291212\n",
      "CURRENT CONFIGURATION:\n",
      "SLIMElasticNetRecommender with weight alpha: 0.9104529314607694\n",
      "SLIM_BPR_Recommender with weight beta: 0.06311933588814873\n",
      "RP3betaRecommender with weight gamma: 0.026427732651081868\n",
      "EvaluatorHoldout: Processed 13643 (100.0%) in 3.81 min. Users per second: 60\n"
     ]
    },
    {
     "name": "stderr",
     "output_type": "stream",
     "text": [
      "\u001b[32m[I 2022-01-05 07:38:52,338]\u001b[0m Trial 289 finished with value: -0.2468509026665219 and parameters: {'alpha': 0.9324581743974305, 'beta': 0.0646449021994032, 'gamma': 0.027066479210246793}. Best is trial 173 with value: -0.25019763609223405.\u001b[0m\n"
     ]
    },
    {
     "name": "stdout",
     "output_type": "stream",
     "text": [
      "-0.2468509026665219\n",
      "CURRENT CONFIGURATION:\n",
      "SLIMElasticNetRecommender with weight alpha: 0.9195050527795717\n",
      "SLIM_BPR_Recommender with weight beta: 0.0006047938989585346\n",
      "RP3betaRecommender with weight gamma: 0.07989015332146977\n",
      "EvaluatorHoldout: Processed 13643 (100.0%) in 3.82 min. Users per second: 60\n"
     ]
    },
    {
     "name": "stderr",
     "output_type": "stream",
     "text": [
      "\u001b[32m[I 2022-01-05 07:42:41,542]\u001b[0m Trial 290 finished with value: -0.24908259250339423 and parameters: {'alpha': 0.9575183856387043, 'beta': 0.0006297967325185963, 'gamma': 0.08319289862036286}. Best is trial 173 with value: -0.25019763609223405.\u001b[0m\n"
     ]
    },
    {
     "name": "stdout",
     "output_type": "stream",
     "text": [
      "-0.24908259250339423\n",
      "CURRENT CONFIGURATION:\n",
      "SLIMElasticNetRecommender with weight alpha: 0.8598506724860122\n",
      "SLIM_BPR_Recommender with weight beta: 0.028080696953612885\n",
      "RP3betaRecommender with weight gamma: 0.11206863056037478\n"
     ]
    },
    {
     "ename": "KeyboardInterrupt",
     "evalue": "",
     "output_type": "error",
     "traceback": [
      "\u001b[0;31m---------------------------------------------------------------------------\u001b[0m",
      "\u001b[0;31mKeyboardInterrupt\u001b[0m                         Traceback (most recent call last)",
      "\u001b[0;32m/tmp/ipykernel_35115/4134811763.py\u001b[0m in \u001b[0;36m<module>\u001b[0;34m\u001b[0m\n\u001b[1;32m      1\u001b[0m \u001b[0mstudy\u001b[0m \u001b[0;34m=\u001b[0m \u001b[0moptuna\u001b[0m\u001b[0;34m.\u001b[0m\u001b[0mcreate_study\u001b[0m\u001b[0;34m(\u001b[0m\u001b[0mdirection\u001b[0m\u001b[0;34m=\u001b[0m\u001b[0;34m'minimize'\u001b[0m\u001b[0;34m)\u001b[0m\u001b[0;34m\u001b[0m\u001b[0;34m\u001b[0m\u001b[0m\n\u001b[0;32m----> 2\u001b[0;31m \u001b[0mstudy\u001b[0m\u001b[0;34m.\u001b[0m\u001b[0moptimize\u001b[0m\u001b[0;34m(\u001b[0m\u001b[0mObjective\u001b[0m\u001b[0;34m(\u001b[0m\u001b[0mURM_train\u001b[0m\u001b[0;34m,\u001b[0m \u001b[0mrecommender1\u001b[0m\u001b[0;34m,\u001b[0m \u001b[0mrecommender2\u001b[0m\u001b[0;34m,\u001b[0m \u001b[0mrecommender3\u001b[0m\u001b[0;34m,\u001b[0m \u001b[0mevaluator_validation\u001b[0m\u001b[0;34m)\u001b[0m\u001b[0;34m,\u001b[0m \u001b[0mn_trials\u001b[0m\u001b[0;34m=\u001b[0m\u001b[0;36m500\u001b[0m\u001b[0;34m)\u001b[0m\u001b[0;34m\u001b[0m\u001b[0;34m\u001b[0m\u001b[0m\n\u001b[0m\u001b[1;32m      3\u001b[0m \u001b[0;34m\u001b[0m\u001b[0m\n\u001b[1;32m      4\u001b[0m \u001b[0mprint\u001b[0m\u001b[0;34m(\u001b[0m\u001b[0mstudy\u001b[0m\u001b[0;34m.\u001b[0m\u001b[0mbest_params\u001b[0m\u001b[0;34m)\u001b[0m\u001b[0;34m\u001b[0m\u001b[0;34m\u001b[0m\u001b[0m\n",
      "\u001b[0;32m~/miniconda3/envs/RecSys/lib/python3.8/site-packages/optuna/study/study.py\u001b[0m in \u001b[0;36moptimize\u001b[0;34m(self, func, n_trials, timeout, n_jobs, catch, callbacks, gc_after_trial, show_progress_bar)\u001b[0m\n\u001b[1;32m    398\u001b[0m             )\n\u001b[1;32m    399\u001b[0m \u001b[0;34m\u001b[0m\u001b[0m\n\u001b[0;32m--> 400\u001b[0;31m         _optimize(\n\u001b[0m\u001b[1;32m    401\u001b[0m             \u001b[0mstudy\u001b[0m\u001b[0;34m=\u001b[0m\u001b[0mself\u001b[0m\u001b[0;34m,\u001b[0m\u001b[0;34m\u001b[0m\u001b[0;34m\u001b[0m\u001b[0m\n\u001b[1;32m    402\u001b[0m             \u001b[0mfunc\u001b[0m\u001b[0;34m=\u001b[0m\u001b[0mfunc\u001b[0m\u001b[0;34m,\u001b[0m\u001b[0;34m\u001b[0m\u001b[0;34m\u001b[0m\u001b[0m\n",
      "\u001b[0;32m~/miniconda3/envs/RecSys/lib/python3.8/site-packages/optuna/study/_optimize.py\u001b[0m in \u001b[0;36m_optimize\u001b[0;34m(study, func, n_trials, timeout, n_jobs, catch, callbacks, gc_after_trial, show_progress_bar)\u001b[0m\n\u001b[1;32m     64\u001b[0m     \u001b[0;32mtry\u001b[0m\u001b[0;34m:\u001b[0m\u001b[0;34m\u001b[0m\u001b[0;34m\u001b[0m\u001b[0m\n\u001b[1;32m     65\u001b[0m         \u001b[0;32mif\u001b[0m \u001b[0mn_jobs\u001b[0m \u001b[0;34m==\u001b[0m \u001b[0;36m1\u001b[0m\u001b[0;34m:\u001b[0m\u001b[0;34m\u001b[0m\u001b[0;34m\u001b[0m\u001b[0m\n\u001b[0;32m---> 66\u001b[0;31m             _optimize_sequential(\n\u001b[0m\u001b[1;32m     67\u001b[0m                 \u001b[0mstudy\u001b[0m\u001b[0;34m,\u001b[0m\u001b[0;34m\u001b[0m\u001b[0;34m\u001b[0m\u001b[0m\n\u001b[1;32m     68\u001b[0m                 \u001b[0mfunc\u001b[0m\u001b[0;34m,\u001b[0m\u001b[0;34m\u001b[0m\u001b[0;34m\u001b[0m\u001b[0m\n",
      "\u001b[0;32m~/miniconda3/envs/RecSys/lib/python3.8/site-packages/optuna/study/_optimize.py\u001b[0m in \u001b[0;36m_optimize_sequential\u001b[0;34m(study, func, n_trials, timeout, catch, callbacks, gc_after_trial, reseed_sampler_rng, time_start, progress_bar)\u001b[0m\n\u001b[1;32m    161\u001b[0m \u001b[0;34m\u001b[0m\u001b[0m\n\u001b[1;32m    162\u001b[0m         \u001b[0;32mtry\u001b[0m\u001b[0;34m:\u001b[0m\u001b[0;34m\u001b[0m\u001b[0;34m\u001b[0m\u001b[0m\n\u001b[0;32m--> 163\u001b[0;31m             \u001b[0mtrial\u001b[0m \u001b[0;34m=\u001b[0m \u001b[0m_run_trial\u001b[0m\u001b[0;34m(\u001b[0m\u001b[0mstudy\u001b[0m\u001b[0;34m,\u001b[0m \u001b[0mfunc\u001b[0m\u001b[0;34m,\u001b[0m \u001b[0mcatch\u001b[0m\u001b[0;34m)\u001b[0m\u001b[0;34m\u001b[0m\u001b[0;34m\u001b[0m\u001b[0m\n\u001b[0m\u001b[1;32m    164\u001b[0m         \u001b[0;32mexcept\u001b[0m \u001b[0mException\u001b[0m\u001b[0;34m:\u001b[0m\u001b[0;34m\u001b[0m\u001b[0;34m\u001b[0m\u001b[0m\n\u001b[1;32m    165\u001b[0m             \u001b[0;32mraise\u001b[0m\u001b[0;34m\u001b[0m\u001b[0;34m\u001b[0m\u001b[0m\n",
      "\u001b[0;32m~/miniconda3/envs/RecSys/lib/python3.8/site-packages/optuna/study/_optimize.py\u001b[0m in \u001b[0;36m_run_trial\u001b[0;34m(study, func, catch)\u001b[0m\n\u001b[1;32m    211\u001b[0m \u001b[0;34m\u001b[0m\u001b[0m\n\u001b[1;32m    212\u001b[0m     \u001b[0;32mtry\u001b[0m\u001b[0;34m:\u001b[0m\u001b[0;34m\u001b[0m\u001b[0;34m\u001b[0m\u001b[0m\n\u001b[0;32m--> 213\u001b[0;31m         \u001b[0mvalue_or_values\u001b[0m \u001b[0;34m=\u001b[0m \u001b[0mfunc\u001b[0m\u001b[0;34m(\u001b[0m\u001b[0mtrial\u001b[0m\u001b[0;34m)\u001b[0m\u001b[0;34m\u001b[0m\u001b[0;34m\u001b[0m\u001b[0m\n\u001b[0m\u001b[1;32m    214\u001b[0m     \u001b[0;32mexcept\u001b[0m \u001b[0mexceptions\u001b[0m\u001b[0;34m.\u001b[0m\u001b[0mTrialPruned\u001b[0m \u001b[0;32mas\u001b[0m \u001b[0me\u001b[0m\u001b[0;34m:\u001b[0m\u001b[0;34m\u001b[0m\u001b[0;34m\u001b[0m\u001b[0m\n\u001b[1;32m    215\u001b[0m         \u001b[0;31m# TODO(mamu): Handle multi-objective cases.\u001b[0m\u001b[0;34m\u001b[0m\u001b[0;34m\u001b[0m\u001b[0;34m\u001b[0m\u001b[0m\n",
      "\u001b[0;32m/tmp/ipykernel_35115/875879334.py\u001b[0m in \u001b[0;36m__call__\u001b[0;34m(self, trial)\u001b[0m\n\u001b[1;32m     19\u001b[0m         \u001b[0mrecommender_final\u001b[0m \u001b[0;34m=\u001b[0m \u001b[0mItemKNNScoresHybridMultipleRecommender\u001b[0m\u001b[0;34m(\u001b[0m\u001b[0mself\u001b[0m\u001b[0;34m.\u001b[0m\u001b[0mURM_train\u001b[0m\u001b[0;34m.\u001b[0m\u001b[0mtocsr\u001b[0m\u001b[0;34m(\u001b[0m\u001b[0;34m)\u001b[0m\u001b[0;34m,\u001b[0m \u001b[0mself\u001b[0m\u001b[0;34m.\u001b[0m\u001b[0mrecommender_1\u001b[0m\u001b[0;34m,\u001b[0m \u001b[0mself\u001b[0m\u001b[0;34m.\u001b[0m\u001b[0mrecommender_2\u001b[0m\u001b[0;34m,\u001b[0m \u001b[0mself\u001b[0m\u001b[0;34m.\u001b[0m\u001b[0mrecommender_3\u001b[0m\u001b[0;34m)\u001b[0m\u001b[0;34m\u001b[0m\u001b[0;34m\u001b[0m\u001b[0m\n\u001b[1;32m     20\u001b[0m         \u001b[0mrecommender_final\u001b[0m\u001b[0;34m.\u001b[0m\u001b[0mfit\u001b[0m\u001b[0;34m(\u001b[0m\u001b[0malpha\u001b[0m\u001b[0;34m,\u001b[0m \u001b[0mbeta\u001b[0m\u001b[0;34m,\u001b[0m \u001b[0mgamma\u001b[0m\u001b[0;34m)\u001b[0m\u001b[0;34m\u001b[0m\u001b[0;34m\u001b[0m\u001b[0m\n\u001b[0;32m---> 21\u001b[0;31m         \u001b[0mresult_dict\u001b[0m\u001b[0;34m,\u001b[0m \u001b[0m_\u001b[0m \u001b[0;34m=\u001b[0m \u001b[0mself\u001b[0m\u001b[0;34m.\u001b[0m\u001b[0mevaluator\u001b[0m\u001b[0;34m.\u001b[0m\u001b[0mevaluateRecommender\u001b[0m\u001b[0;34m(\u001b[0m\u001b[0mrecommender_final\u001b[0m\u001b[0;34m)\u001b[0m\u001b[0;34m\u001b[0m\u001b[0;34m\u001b[0m\u001b[0m\n\u001b[0m\u001b[1;32m     22\u001b[0m \u001b[0;34m\u001b[0m\u001b[0m\n\u001b[1;32m     23\u001b[0m         \u001b[0mmap_v\u001b[0m \u001b[0;34m=\u001b[0m \u001b[0;34m-\u001b[0m\u001b[0mresult_dict\u001b[0m\u001b[0;34m.\u001b[0m\u001b[0mloc\u001b[0m\u001b[0;34m[\u001b[0m\u001b[0;36m10\u001b[0m\u001b[0;34m]\u001b[0m\u001b[0;34m[\u001b[0m\u001b[0;34m'MAP'\u001b[0m\u001b[0;34m]\u001b[0m\u001b[0;34m\u001b[0m\u001b[0;34m\u001b[0m\u001b[0m\n",
      "\u001b[0;32m~/Challenge/RecSys_Challenge2021/Notebooks/../RecSysRep/Evaluation/Evaluator.py\u001b[0m in \u001b[0;36mevaluateRecommender\u001b[0;34m(self, recommender_object)\u001b[0m\n\u001b[1;32m    269\u001b[0m         \u001b[0mself\u001b[0m\u001b[0;34m.\u001b[0m\u001b[0m_n_users_evaluated\u001b[0m \u001b[0;34m=\u001b[0m \u001b[0;36m0\u001b[0m\u001b[0;34m\u001b[0m\u001b[0;34m\u001b[0m\u001b[0m\n\u001b[1;32m    270\u001b[0m \u001b[0;34m\u001b[0m\u001b[0m\n\u001b[0;32m--> 271\u001b[0;31m         \u001b[0mresults_dict\u001b[0m \u001b[0;34m=\u001b[0m \u001b[0mself\u001b[0m\u001b[0;34m.\u001b[0m\u001b[0m_run_evaluation_on_selected_users\u001b[0m\u001b[0;34m(\u001b[0m\u001b[0mrecommender_object\u001b[0m\u001b[0;34m,\u001b[0m \u001b[0mself\u001b[0m\u001b[0;34m.\u001b[0m\u001b[0musers_to_evaluate\u001b[0m\u001b[0;34m)\u001b[0m\u001b[0;34m\u001b[0m\u001b[0;34m\u001b[0m\u001b[0m\n\u001b[0m\u001b[1;32m    272\u001b[0m \u001b[0;34m\u001b[0m\u001b[0m\n\u001b[1;32m    273\u001b[0m \u001b[0;34m\u001b[0m\u001b[0m\n",
      "\u001b[0;32m~/Challenge/RecSys_Challenge2021/Notebooks/../RecSysRep/Evaluation/Evaluator.py\u001b[0m in \u001b[0;36m_run_evaluation_on_selected_users\u001b[0;34m(self, recommender_object, users_to_evaluate, block_size)\u001b[0m\n\u001b[1;32m    479\u001b[0m \u001b[0;34m\u001b[0m\u001b[0m\n\u001b[1;32m    480\u001b[0m             \u001b[0;31m# Compute predictions for a batch of users using vectorization, much more efficient than computing it one at a time\u001b[0m\u001b[0;34m\u001b[0m\u001b[0;34m\u001b[0m\u001b[0;34m\u001b[0m\u001b[0m\n\u001b[0;32m--> 481\u001b[0;31m             recommended_items_batch_list, scores_batch = recommender_object.recommend(test_user_batch_array,\n\u001b[0m\u001b[1;32m    482\u001b[0m                                                                       \u001b[0mremove_seen_flag\u001b[0m\u001b[0;34m=\u001b[0m\u001b[0mself\u001b[0m\u001b[0;34m.\u001b[0m\u001b[0mexclude_seen\u001b[0m\u001b[0;34m,\u001b[0m\u001b[0;34m\u001b[0m\u001b[0;34m\u001b[0m\u001b[0m\n\u001b[1;32m    483\u001b[0m                                                                       \u001b[0mcutoff\u001b[0m \u001b[0;34m=\u001b[0m \u001b[0mself\u001b[0m\u001b[0;34m.\u001b[0m\u001b[0mmax_cutoff\u001b[0m\u001b[0;34m,\u001b[0m\u001b[0;34m\u001b[0m\u001b[0;34m\u001b[0m\u001b[0m\n",
      "\u001b[0;32m~/Challenge/RecSys_Challenge2021/Notebooks/../RecSysRep/Recommenders/BaseRecommender.py\u001b[0m in \u001b[0;36mrecommend\u001b[0;34m(self, user_id_array, cutoff, remove_seen_flag, items_to_compute, remove_top_pop_flag, remove_custom_items_flag, return_scores)\u001b[0m\n\u001b[1;32m    145\u001b[0m         \u001b[0;31m# Compute the scores using the model-specific function\u001b[0m\u001b[0;34m\u001b[0m\u001b[0;34m\u001b[0m\u001b[0;34m\u001b[0m\u001b[0m\n\u001b[1;32m    146\u001b[0m         \u001b[0;31m# Vectorize over all users in user_id_array\u001b[0m\u001b[0;34m\u001b[0m\u001b[0;34m\u001b[0m\u001b[0;34m\u001b[0m\u001b[0m\n\u001b[0;32m--> 147\u001b[0;31m         \u001b[0mscores_batch\u001b[0m \u001b[0;34m=\u001b[0m \u001b[0mself\u001b[0m\u001b[0;34m.\u001b[0m\u001b[0m_compute_item_score\u001b[0m\u001b[0;34m(\u001b[0m\u001b[0muser_id_array\u001b[0m\u001b[0;34m,\u001b[0m \u001b[0mitems_to_compute\u001b[0m\u001b[0;34m=\u001b[0m\u001b[0mitems_to_compute\u001b[0m\u001b[0;34m)\u001b[0m\u001b[0;34m\u001b[0m\u001b[0;34m\u001b[0m\u001b[0m\n\u001b[0m\u001b[1;32m    148\u001b[0m \u001b[0;34m\u001b[0m\u001b[0m\n\u001b[1;32m    149\u001b[0m \u001b[0;34m\u001b[0m\u001b[0m\n",
      "\u001b[0;32m~/Challenge/RecSys_Challenge2021/Notebooks/../RecSysRep/Recommenders/KNN/ItemKNNScoresHybridMultipleRecommender.py\u001b[0m in \u001b[0;36m_compute_item_score\u001b[0;34m(self, user_id_array, items_to_compute)\u001b[0m\n\u001b[1;32m     53\u001b[0m         \u001b[0mitem_weights_3\u001b[0m \u001b[0;34m=\u001b[0m \u001b[0mself\u001b[0m\u001b[0;34m.\u001b[0m\u001b[0mRecommender_3\u001b[0m\u001b[0;34m.\u001b[0m\u001b[0m_compute_item_score\u001b[0m\u001b[0;34m(\u001b[0m\u001b[0muser_id_array\u001b[0m\u001b[0;34m)\u001b[0m\u001b[0;34m\u001b[0m\u001b[0;34m\u001b[0m\u001b[0m\n\u001b[1;32m     54\u001b[0m \u001b[0;34m\u001b[0m\u001b[0m\n\u001b[0;32m---> 55\u001b[0;31m         \u001b[0ml2_1\u001b[0m \u001b[0;34m=\u001b[0m \u001b[0mLA\u001b[0m\u001b[0;34m.\u001b[0m\u001b[0mnorm\u001b[0m\u001b[0;34m(\u001b[0m\u001b[0mitem_weights_1\u001b[0m\u001b[0;34m,\u001b[0m \u001b[0;36m2\u001b[0m\u001b[0;34m)\u001b[0m\u001b[0;34m\u001b[0m\u001b[0;34m\u001b[0m\u001b[0m\n\u001b[0m\u001b[1;32m     56\u001b[0m         \u001b[0ml2_1_scores\u001b[0m \u001b[0;34m=\u001b[0m \u001b[0mitem_weights_1\u001b[0m \u001b[0;34m/\u001b[0m \u001b[0ml2_1\u001b[0m\u001b[0;34m\u001b[0m\u001b[0;34m\u001b[0m\u001b[0m\n\u001b[1;32m     57\u001b[0m \u001b[0;34m\u001b[0m\u001b[0m\n",
      "\u001b[0;32m<__array_function__ internals>\u001b[0m in \u001b[0;36mnorm\u001b[0;34m(*args, **kwargs)\u001b[0m\n",
      "\u001b[0;32m~/miniconda3/envs/RecSys/lib/python3.8/site-packages/numpy/linalg/linalg.py\u001b[0m in \u001b[0;36mnorm\u001b[0;34m(x, ord, axis, keepdims)\u001b[0m\n\u001b[1;32m   2576\u001b[0m             \u001b[0;32mraise\u001b[0m \u001b[0mValueError\u001b[0m\u001b[0;34m(\u001b[0m\u001b[0;34m'Duplicate axes given.'\u001b[0m\u001b[0;34m)\u001b[0m\u001b[0;34m\u001b[0m\u001b[0;34m\u001b[0m\u001b[0m\n\u001b[1;32m   2577\u001b[0m         \u001b[0;32mif\u001b[0m \u001b[0mord\u001b[0m \u001b[0;34m==\u001b[0m \u001b[0;36m2\u001b[0m\u001b[0;34m:\u001b[0m\u001b[0;34m\u001b[0m\u001b[0;34m\u001b[0m\u001b[0m\n\u001b[0;32m-> 2578\u001b[0;31m             \u001b[0mret\u001b[0m \u001b[0;34m=\u001b[0m  \u001b[0m_multi_svd_norm\u001b[0m\u001b[0;34m(\u001b[0m\u001b[0mx\u001b[0m\u001b[0;34m,\u001b[0m \u001b[0mrow_axis\u001b[0m\u001b[0;34m,\u001b[0m \u001b[0mcol_axis\u001b[0m\u001b[0;34m,\u001b[0m \u001b[0mamax\u001b[0m\u001b[0;34m)\u001b[0m\u001b[0;34m\u001b[0m\u001b[0;34m\u001b[0m\u001b[0m\n\u001b[0m\u001b[1;32m   2579\u001b[0m         \u001b[0;32melif\u001b[0m \u001b[0mord\u001b[0m \u001b[0;34m==\u001b[0m \u001b[0;34m-\u001b[0m\u001b[0;36m2\u001b[0m\u001b[0;34m:\u001b[0m\u001b[0;34m\u001b[0m\u001b[0;34m\u001b[0m\u001b[0m\n\u001b[1;32m   2580\u001b[0m             \u001b[0mret\u001b[0m \u001b[0;34m=\u001b[0m \u001b[0m_multi_svd_norm\u001b[0m\u001b[0;34m(\u001b[0m\u001b[0mx\u001b[0m\u001b[0;34m,\u001b[0m \u001b[0mrow_axis\u001b[0m\u001b[0;34m,\u001b[0m \u001b[0mcol_axis\u001b[0m\u001b[0;34m,\u001b[0m \u001b[0mamin\u001b[0m\u001b[0;34m)\u001b[0m\u001b[0;34m\u001b[0m\u001b[0;34m\u001b[0m\u001b[0m\n",
      "\u001b[0;32m~/miniconda3/envs/RecSys/lib/python3.8/site-packages/numpy/linalg/linalg.py\u001b[0m in \u001b[0;36m_multi_svd_norm\u001b[0;34m(x, row_axis, col_axis, op)\u001b[0m\n\u001b[1;32m   2352\u001b[0m     \"\"\"\n\u001b[1;32m   2353\u001b[0m     \u001b[0my\u001b[0m \u001b[0;34m=\u001b[0m \u001b[0mmoveaxis\u001b[0m\u001b[0;34m(\u001b[0m\u001b[0mx\u001b[0m\u001b[0;34m,\u001b[0m \u001b[0;34m(\u001b[0m\u001b[0mrow_axis\u001b[0m\u001b[0;34m,\u001b[0m \u001b[0mcol_axis\u001b[0m\u001b[0;34m)\u001b[0m\u001b[0;34m,\u001b[0m \u001b[0;34m(\u001b[0m\u001b[0;34m-\u001b[0m\u001b[0;36m2\u001b[0m\u001b[0;34m,\u001b[0m \u001b[0;34m-\u001b[0m\u001b[0;36m1\u001b[0m\u001b[0;34m)\u001b[0m\u001b[0;34m)\u001b[0m\u001b[0;34m\u001b[0m\u001b[0;34m\u001b[0m\u001b[0m\n\u001b[0;32m-> 2354\u001b[0;31m     \u001b[0mresult\u001b[0m \u001b[0;34m=\u001b[0m \u001b[0mop\u001b[0m\u001b[0;34m(\u001b[0m\u001b[0msvd\u001b[0m\u001b[0;34m(\u001b[0m\u001b[0my\u001b[0m\u001b[0;34m,\u001b[0m \u001b[0mcompute_uv\u001b[0m\u001b[0;34m=\u001b[0m\u001b[0;32mFalse\u001b[0m\u001b[0;34m)\u001b[0m\u001b[0;34m,\u001b[0m \u001b[0maxis\u001b[0m\u001b[0;34m=\u001b[0m\u001b[0;34m-\u001b[0m\u001b[0;36m1\u001b[0m\u001b[0;34m)\u001b[0m\u001b[0;34m\u001b[0m\u001b[0;34m\u001b[0m\u001b[0m\n\u001b[0m\u001b[1;32m   2355\u001b[0m     \u001b[0;32mreturn\u001b[0m \u001b[0mresult\u001b[0m\u001b[0;34m\u001b[0m\u001b[0;34m\u001b[0m\u001b[0m\n\u001b[1;32m   2356\u001b[0m \u001b[0;34m\u001b[0m\u001b[0m\n",
      "\u001b[0;32m<__array_function__ internals>\u001b[0m in \u001b[0;36msvd\u001b[0;34m(*args, **kwargs)\u001b[0m\n",
      "\u001b[0;32m~/miniconda3/envs/RecSys/lib/python3.8/site-packages/numpy/linalg/linalg.py\u001b[0m in \u001b[0;36msvd\u001b[0;34m(a, full_matrices, compute_uv, hermitian)\u001b[0m\n\u001b[1;32m   1670\u001b[0m \u001b[0;34m\u001b[0m\u001b[0m\n\u001b[1;32m   1671\u001b[0m         \u001b[0msignature\u001b[0m \u001b[0;34m=\u001b[0m \u001b[0;34m'D->d'\u001b[0m \u001b[0;32mif\u001b[0m \u001b[0misComplexType\u001b[0m\u001b[0;34m(\u001b[0m\u001b[0mt\u001b[0m\u001b[0;34m)\u001b[0m \u001b[0;32melse\u001b[0m \u001b[0;34m'd->d'\u001b[0m\u001b[0;34m\u001b[0m\u001b[0;34m\u001b[0m\u001b[0m\n\u001b[0;32m-> 1672\u001b[0;31m         \u001b[0ms\u001b[0m \u001b[0;34m=\u001b[0m \u001b[0mgufunc\u001b[0m\u001b[0;34m(\u001b[0m\u001b[0ma\u001b[0m\u001b[0;34m,\u001b[0m \u001b[0msignature\u001b[0m\u001b[0;34m=\u001b[0m\u001b[0msignature\u001b[0m\u001b[0;34m,\u001b[0m \u001b[0mextobj\u001b[0m\u001b[0;34m=\u001b[0m\u001b[0mextobj\u001b[0m\u001b[0;34m)\u001b[0m\u001b[0;34m\u001b[0m\u001b[0;34m\u001b[0m\u001b[0m\n\u001b[0m\u001b[1;32m   1673\u001b[0m         \u001b[0ms\u001b[0m \u001b[0;34m=\u001b[0m \u001b[0ms\u001b[0m\u001b[0;34m.\u001b[0m\u001b[0mastype\u001b[0m\u001b[0;34m(\u001b[0m\u001b[0m_realType\u001b[0m\u001b[0;34m(\u001b[0m\u001b[0mresult_t\u001b[0m\u001b[0;34m)\u001b[0m\u001b[0;34m,\u001b[0m \u001b[0mcopy\u001b[0m\u001b[0;34m=\u001b[0m\u001b[0;32mFalse\u001b[0m\u001b[0;34m)\u001b[0m\u001b[0;34m\u001b[0m\u001b[0;34m\u001b[0m\u001b[0m\n\u001b[1;32m   1674\u001b[0m         \u001b[0;32mreturn\u001b[0m \u001b[0ms\u001b[0m\u001b[0;34m\u001b[0m\u001b[0;34m\u001b[0m\u001b[0m\n",
      "\u001b[0;31mKeyboardInterrupt\u001b[0m: "
     ]
    }
   ],
   "source": [
    "study = optuna.create_study(direction='minimize')\n",
    "study.optimize(Objective(URM_train, recommender1, recommender2, recommender3, evaluator_validation), n_trials=500)\n",
    "\n",
    "print(study.best_params)"
   ]
  },
  {
   "cell_type": "code",
   "execution_count": null,
   "id": "b055f71c",
   "metadata": {},
   "outputs": [],
   "source": [
    "import numpy as np\n",
    "\n",
    "# TWO RECOMMENDERS\n",
    "\n",
    "def test_percentage(recommender_1, recommender_2, evaluator, step):\n",
    "    recommender = ItemKNNScoresHybridTwoRecommender_PRUNE(URM_train, recommender_1, recommender_2)\n",
    "    results = []\n",
    "    alp_space = np.linspace(0.5, 0.55, step, True)\n",
    "    for alp in alp_space:\n",
    "        recommender.fit(alpha = alp)\n",
    "        r_d, _ = evaluator.evaluateRecommender(recommender)\n",
    "        print(alp, \":\", r_d.loc[10]['MAP'])\n",
    "        results.append(r_d.loc[10]['MAP'])\n",
    "    \n",
    "    return alp_space, results"
   ]
  },
  {
   "cell_type": "code",
   "execution_count": null,
   "id": "301a9343",
   "metadata": {},
   "outputs": [],
   "source": [
    "alp_space, results = test_percentage(recommender1, recommender2, evaluator_validation, 2)"
   ]
  },
  {
   "cell_type": "code",
   "execution_count": null,
   "id": "2221ec4b",
   "metadata": {},
   "outputs": [],
   "source": [
    "import matplotlib.pyplot as plt\n",
    "\n",
    "_ = plt.figure(figsize=(16, 9))\n",
    "plt.plot(alp_space,results, label='MAP variability')\n",
    "plt.ylabel('MAP')\n",
    "plt.xlabel('User Group')\n",
    "plt.legend()\n",
    "plt.show()\n",
    "\n",
    "plt.savefig('userwise.png')"
   ]
  },
  {
   "cell_type": "code",
   "execution_count": null,
   "id": "3d773c81",
   "metadata": {},
   "outputs": [],
   "source": [
    "\n",
    "recommender1 = MultiThreadSLIM_SLIMElasticNetRecommender(URM_all)\n",
    "# recommender1.fit(**models_to_combine_best['SLIMER'])\n",
    "# recommender1.save_model(ofp + 'SLIMER_ALL/', 'SLIMER_ALL')\n",
    "recommender1.load_model(ofp + 'SLIMER_ALL/', 'SLIMER_ALL')\n",
    "\n",
    "recommender2 = SLIM_BPR_Cython(URM_all)\n",
    "# recommender2.fit(**models_to_combine_best['SLIMBPR'])\n",
    "# recommender2.save_model(ofp + 'SLIMBPR_ALL/', 'SLIMBPR_ALL')\n",
    "recommender2.load_model(ofp + 'SLIMBPR_ALL/', 'SLIMBPR_ALL')\n",
    "\n",
    "recommenderHybrid = ItemKNNScoresHybridTwoRecommender(URM_all, recommender1, recommender2)\n",
    "recommenderHybrid.fit(alpha = 0.58)\n",
    "\n",
    "recommender = recommenderHybrid\n",
    "\n",
    "import pandas as pd\n",
    "at = 10\n",
    "\n",
    "user_test_path = '../data/data_target_users_test.csv'\n",
    "user_test_dataframe = pd.read_csv(filepath_or_buffer=user_test_path,\n",
    "sep=\",\",\n",
    "dtype={0:int})\n",
    "\n",
    "subm_set = user_test_dataframe.to_numpy().T[0]\n",
    "\n",
    "\n",
    "subm_res = {\"user_id\":[], \"item_list\":[]}\n",
    "\n",
    "for user_id in subm_set:\n",
    "\tsubm_res[\"user_id\"].append(user_id)\n",
    "\tres = recommender.recommend(user_id, cutoff=at)\n",
    "\tres = ' '.join(map(str, res))\n",
    "\tif user_id < 3:\n",
    "\t\tprint(user_id)\n",
    "\t\tprint(res)\n",
    "\tsubm_res[\"item_list\"].append(res)\n",
    "\n",
    "\n",
    "\t# print(subm_res)\n",
    "\n",
    "submission = pd.DataFrame.from_dict(subm_res)\n",
    "\t# submission\n",
    "\n",
    "from datetime import datetime\n",
    "\n",
    "now = datetime.now() # current date and time\n",
    "\n",
    "\n",
    "submission.to_csv('../subs/submission {:%Y_%m_%d %H_%M_%S}.csv'.format(now), index=False)\n",
    "\n"
   ]
  },
  {
   "cell_type": "code",
   "execution_count": null,
   "id": "ed47bc68",
   "metadata": {},
   "outputs": [],
   "source": [
    "from Recommenders.SLIM.SLIMElasticNetRecommender import MultiThreadSLIM_SLIMElasticNetRecommender\n",
    "CFrecommender = MultiThreadSLIM_SLIMElasticNetRecommender(URM_train)\n",
    "CFrecommender.load_model('../result_experiments/BEST_SLIM_PURECF/', file_name = CFrecommender.RECOMMENDER_NAME + \"_my_own_save.zip\")\n",
    "\n",
    "from Recommenders.FeatureWeighting.CFW_D_Similarity_Linalg import CFW_D_Similarity_Linalg\n",
    "FW_recommender = CFW_D_Similarity_Linalg(URM_train, ICM_stacked, CFrecommender.W_sparse)\n",
    "FW_recommender.load_model('../result_experiments/BEST_FW/', file_name = FW_recommender.RECOMMENDER_NAME + \"_my_own_save.zip\")"
   ]
  },
  {
   "cell_type": "code",
   "execution_count": null,
   "id": "08996bc8",
   "metadata": {},
   "outputs": [],
   "source": [
    "import scipy.sparse as sps\n",
    "ICM_length_all_5km = ld.getICMlength('5km')\n",
    "ICM_stacked = sps.hstack((ICM_genre_all, ICM_subgenre_all, ICM_channel_all, ICM_length_all_5km))"
   ]
  },
  {
   "cell_type": "code",
   "execution_count": null,
   "id": "98701678",
   "metadata": {},
   "outputs": [],
   "source": [
    "import pandas as pd\n",
    "argsort_features = np.argsort(-FW_recommender.D_best)\n",
    "\n",
    "selection_quota = 0.1\n",
    "        \n",
    "n_to_select = int(selection_quota*len(argsort_features))\n",
    "selected_features = argsort_features[:n_to_select]\n",
    "        \n",
    "ICM_selected = ICM_stacked.todense()[:,selected_features]\n",
    "pd.DataFrame(ICM_selected).to_csv('ICM_selected_1.csv', index=False, header=True)\n"
   ]
  },
  {
   "cell_type": "code",
   "execution_count": null,
   "id": "7b73d27a",
   "metadata": {},
   "outputs": [],
   "source": [
    "import scipy.sparse as sps\n",
    "import pandas as pd\n",
    "URM_all, ICM_genre_all, ICM_subgenre_all, ICM_channel_all, _ = ld.getCOOs()\n",
    "ICM_length_all_5km = ld.getICMlength('5km')\n",
    "pd.DataFrame(sps.hstack([ICM_genre_all, ICM_subgenre_all, ICM_channel_all, ICM_length_all_5km]).todense()).to_csv('ICM_ALL.csv', index=False, header=True)"
   ]
  },
  {
   "cell_type": "code",
   "execution_count": null,
   "id": "0b8046ee",
   "metadata": {},
   "outputs": [],
   "source": [
    "recommender1 = recommender1 = MultiThreadSLIM_SLIMElasticNetRecommender(URM_train)\n",
    "model_init(recommender1, 'SLIMER', models_to_combine_best['SLIMER'])\n",
    "rank_models(evaluator_validation, [recommender1])\n",
    "recommender1.fit(**models_to_combine_best['SLIMER'])\n",
    "rank_models(evaluator_validation, [recommender1])\n",
    "\n",
    "# recommender1.save_model(ofp + 'SLIMER_ALL/', 'SLIMER_ALL')\n",
    "# recommender1.load_model(ofp + 'SLIMER_ALL/', 'SLIMER_ALL')"
   ]
  },
  {
   "cell_type": "code",
   "execution_count": null,
   "id": "4d02cad9",
   "metadata": {},
   "outputs": [],
   "source": []
  }
 ],
 "metadata": {
  "kernelspec": {
   "display_name": "Python 3 (ipykernel)",
   "language": "python",
   "name": "python3"
  },
  "language_info": {
   "codemirror_mode": {
    "name": "ipython",
    "version": 3
   },
   "file_extension": ".py",
   "mimetype": "text/x-python",
   "name": "python",
   "nbconvert_exporter": "python",
   "pygments_lexer": "ipython3",
   "version": "3.8.12"
  }
 },
 "nbformat": 4,
 "nbformat_minor": 5
}
